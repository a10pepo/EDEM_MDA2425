{
 "cells": [
  {
   "cell_type": "markdown",
   "metadata": {
    "id": "eyZfoGe_trKF"
   },
   "source": [
    "# Columns and Expressions"
   ]
  },
  {
   "cell_type": "markdown",
   "metadata": {
    "id": "OF1B2ocetvbn"
   },
   "source": [
    "## Prerrequisites"
   ]
  },
  {
   "cell_type": "markdown",
   "metadata": {
    "id": "l_Vt3AVEt3uX"
   },
   "source": [
    "Install Spark and Java in VM"
   ]
  },
  {
   "cell_type": "code",
   "execution_count": 1,
   "metadata": {
    "executionInfo": {
     "elapsed": 20309,
     "status": "ok",
     "timestamp": 1670786288520,
     "user": {
      "displayName": "Pablo Pons",
      "userId": "14943288678703205331"
     },
     "user_tz": -60
    },
    "id": "JrJqxyXZt9wn"
   },
   "outputs": [
    {
     "name": "stderr",
     "output_type": "stream",
     "text": [
      "El sistema no puede encontrar la ruta especificada.\n",
      "\"wget\" no se reconoce como un comando interno o externo,\n",
      "programa o archivo por lotes ejecutable.\n"
     ]
    }
   ],
   "source": [
    "# install Java8\n",
    "!apt-get install openjdk-8-jdk-headless -qq > /dev/null\n",
    "# download spark 3.5.0\n",
    "!wget -q https://apache.osuosl.org/spark/spark-3.5.0/spark-3.5.0-bin-hadoop3.tgz"
   ]
  },
  {
   "cell_type": "code",
   "execution_count": 2,
   "metadata": {
    "colab": {
     "base_uri": "https://localhost:8080/"
    },
    "executionInfo": {
     "elapsed": 11,
     "status": "ok",
     "timestamp": 1670786288521,
     "user": {
      "displayName": "Pablo Pons",
      "userId": "14943288678703205331"
     },
     "user_tz": -60
    },
    "id": "WBfjT1TouA1O",
    "outputId": "849b3c81-2ca2-4da3-a114-c1839e6cb4e1"
   },
   "outputs": [
    {
     "name": "stdout",
     "output_type": "stream",
     "text": [
      "total 267680\n",
      "drwxr-xr-x 1 root root      4096 Dec  8 14:36 \u001b[0m\u001b[01;34msample_data\u001b[0m/\n",
      "-rw-r--r-- 1 root root 274099817 Oct 15 10:53 spark-3.3.1-bin-hadoop2.tgz\n"
     ]
    }
   ],
   "source": [
    "ls -l # check the .tgz is there"
   ]
  },
  {
   "cell_type": "code",
   "execution_count": 3,
   "metadata": {
    "executionInfo": {
     "elapsed": 3624,
     "status": "ok",
     "timestamp": 1670786292141,
     "user": {
      "displayName": "Pablo Pons",
      "userId": "14943288678703205331"
     },
     "user_tz": -60
    },
    "id": "bHueJOLRuD2H"
   },
   "outputs": [],
   "source": [
    "# unzip it\n",
    "!tar xf spark-3.5.0-bin-hadoop3.tgz"
   ]
  },
  {
   "cell_type": "code",
   "execution_count": 2,
   "metadata": {
    "executionInfo": {
     "elapsed": 3931,
     "status": "ok",
     "timestamp": 1670786296068,
     "user": {
      "displayName": "Pablo Pons",
      "userId": "14943288678703205331"
     },
     "user_tz": -60
    },
    "id": "arpGbc-EuDlH"
   },
   "outputs": [
    {
     "name": "stderr",
     "output_type": "stream",
     "text": [
      "\n",
      "[notice] A new release of pip is available: 24.3.1 -> 25.1.1\n",
      "[notice] To update, run: python.exe -m pip install --upgrade pip\n"
     ]
    }
   ],
   "source": [
    "!pip install -q findspark"
   ]
  },
  {
   "cell_type": "code",
   "execution_count": 3,
   "metadata": {
    "colab": {
     "base_uri": "https://localhost:8080/"
    },
    "executionInfo": {
     "elapsed": 12537,
     "status": "ok",
     "timestamp": 1670786308602,
     "user": {
      "displayName": "Pablo Pons",
      "userId": "14943288678703205331"
     },
     "user_tz": -60
    },
    "id": "Bc6eiLp0uKov",
    "outputId": "8bf55c6e-f254-4c05-a04c-a8091df0c579"
   },
   "outputs": [
    {
     "name": "stdout",
     "output_type": "stream",
     "text": [
      "Collecting py4j\n",
      "  Downloading py4j-0.10.9.9-py2.py3-none-any.whl.metadata (1.3 kB)\n",
      "Downloading py4j-0.10.9.9-py2.py3-none-any.whl (203 kB)\n",
      "Installing collected packages: py4j\n",
      "Successfully installed py4j-0.10.9.9\n"
     ]
    },
    {
     "name": "stderr",
     "output_type": "stream",
     "text": [
      "\n",
      "[notice] A new release of pip is available: 24.3.1 -> 25.1.1\n",
      "[notice] To update, run: python.exe -m pip install --upgrade pip\n"
     ]
    },
    {
     "name": "stdout",
     "output_type": "stream",
     "text": [
      "Collecting folium\n",
      "  Downloading folium-0.19.6-py2.py3-none-any.whl.metadata (4.1 kB)\n",
      "Collecting branca>=0.6.0 (from folium)\n",
      "  Downloading branca-0.8.1-py3-none-any.whl.metadata (1.5 kB)\n",
      "Collecting jinja2>=2.9 (from folium)\n",
      "  Using cached jinja2-3.1.6-py3-none-any.whl.metadata (2.9 kB)\n",
      "Collecting numpy (from folium)\n",
      "  Using cached numpy-2.2.6-cp312-cp312-win_amd64.whl.metadata (60 kB)\n",
      "Collecting requests (from folium)\n",
      "  Using cached requests-2.32.3-py3-none-any.whl.metadata (4.6 kB)\n",
      "Collecting xyzservices (from folium)\n",
      "  Downloading xyzservices-2025.4.0-py3-none-any.whl.metadata (4.3 kB)\n",
      "Collecting MarkupSafe>=2.0 (from jinja2>=2.9->folium)\n",
      "  Using cached MarkupSafe-3.0.2-cp312-cp312-win_amd64.whl.metadata (4.1 kB)\n",
      "Collecting charset-normalizer<4,>=2 (from requests->folium)\n",
      "  Using cached charset_normalizer-3.4.2-cp312-cp312-win_amd64.whl.metadata (36 kB)\n",
      "Collecting idna<4,>=2.5 (from requests->folium)\n",
      "  Using cached idna-3.10-py3-none-any.whl.metadata (10 kB)\n",
      "Collecting urllib3<3,>=1.21.1 (from requests->folium)\n",
      "  Using cached urllib3-2.4.0-py3-none-any.whl.metadata (6.5 kB)\n",
      "Collecting certifi>=2017.4.17 (from requests->folium)\n",
      "  Using cached certifi-2025.4.26-py3-none-any.whl.metadata (2.5 kB)\n",
      "Downloading folium-0.19.6-py2.py3-none-any.whl (112 kB)\n",
      "Downloading branca-0.8.1-py3-none-any.whl (26 kB)\n",
      "Using cached jinja2-3.1.6-py3-none-any.whl (134 kB)\n",
      "Using cached numpy-2.2.6-cp312-cp312-win_amd64.whl (12.6 MB)\n",
      "Using cached requests-2.32.3-py3-none-any.whl (64 kB)\n",
      "Downloading xyzservices-2025.4.0-py3-none-any.whl (90 kB)\n",
      "Using cached certifi-2025.4.26-py3-none-any.whl (159 kB)\n",
      "Using cached charset_normalizer-3.4.2-cp312-cp312-win_amd64.whl (105 kB)\n",
      "Using cached idna-3.10-py3-none-any.whl (70 kB)\n",
      "Using cached MarkupSafe-3.0.2-cp312-cp312-win_amd64.whl (15 kB)\n",
      "Using cached urllib3-2.4.0-py3-none-any.whl (128 kB)\n",
      "Installing collected packages: xyzservices, urllib3, numpy, MarkupSafe, idna, charset-normalizer, certifi, requests, jinja2, branca, folium\n",
      "Successfully installed MarkupSafe-3.0.2 branca-0.8.1 certifi-2025.4.26 charset-normalizer-3.4.2 folium-0.19.6 idna-3.10 jinja2-3.1.6 numpy-2.2.6 requests-2.32.3 urllib3-2.4.0 xyzservices-2025.4.0\n"
     ]
    },
    {
     "name": "stderr",
     "output_type": "stream",
     "text": [
      "\n",
      "[notice] A new release of pip is available: 24.3.1 -> 25.1.1\n",
      "[notice] To update, run: python.exe -m pip install --upgrade pip\n"
     ]
    },
    {
     "name": "stdout",
     "output_type": "stream",
     "text": [
      "Collecting plotly\n",
      "  Downloading plotly-6.1.2-py3-none-any.whl.metadata (6.9 kB)\n",
      "Collecting narwhals>=1.15.1 (from plotly)\n",
      "  Downloading narwhals-1.41.0-py3-none-any.whl.metadata (11 kB)\n",
      "Requirement already satisfied: packaging in c:\\users\\vican\\edem\\github\\repositorios\\edem\\.venv\\lib\\site-packages (from plotly) (25.0)\n",
      "Downloading plotly-6.1.2-py3-none-any.whl (16.3 MB)\n",
      "   ---------------------------------------- 0.0/16.3 MB ? eta -:--:--\n",
      "   ---------------- ----------------------- 6.6/16.3 MB 40.1 MB/s eta 0:00:01\n",
      "   ---------------------------------------  16.3/16.3 MB 51.1 MB/s eta 0:00:01\n",
      "   ---------------------------------------- 16.3/16.3 MB 44.5 MB/s eta 0:00:00\n",
      "Downloading narwhals-1.41.0-py3-none-any.whl (357 kB)\n",
      "Installing collected packages: narwhals, plotly\n",
      "Successfully installed narwhals-1.41.0 plotly-6.1.2\n"
     ]
    },
    {
     "name": "stderr",
     "output_type": "stream",
     "text": [
      "\n",
      "[notice] A new release of pip is available: 24.3.1 -> 25.1.1\n",
      "[notice] To update, run: python.exe -m pip install --upgrade pip\n"
     ]
    }
   ],
   "source": [
    "\n",
    "!pip install py4j\n",
    "\n",
    "# For maps\n",
    "!pip install folium\n",
    "!pip install plotly"
   ]
  },
  {
   "cell_type": "markdown",
   "metadata": {
    "id": "mfEdQvJLuP7Y"
   },
   "source": [
    "Define the environment"
   ]
  },
  {
   "cell_type": "code",
   "execution_count": 6,
   "metadata": {
    "executionInfo": {
     "elapsed": 11,
     "status": "ok",
     "timestamp": 1670786308602,
     "user": {
      "displayName": "Pablo Pons",
      "userId": "14943288678703205331"
     },
     "user_tz": -60
    },
    "id": "zU_829Z5uPEv"
   },
   "outputs": [],
   "source": [
    "import os\n",
    "os.environ[\"JAVA_HOME\"] = \"/usr/lib/jvm/java-8-openjdk-amd64\"\n",
    "os.environ[\"SPARK_HOME\"] = \"/content/spark-3.5.0-bin-hadoop3\"\n",
    "os.environ[\"PYSPARK_SUBMIT_ARGS\"] = \"--master local[*] pyspark-shell\""
   ]
  },
  {
   "cell_type": "markdown",
   "metadata": {
    "id": "GByUn4STtrKH"
   },
   "source": [
    "Start Spark Session\n",
    "\n",
    "---"
   ]
  },
  {
   "cell_type": "code",
   "execution_count": 7,
   "metadata": {
    "colab": {
     "base_uri": "https://localhost:8080/",
     "height": 35
    },
    "executionInfo": {
     "elapsed": 9402,
     "status": "ok",
     "timestamp": 1670786317995,
     "user": {
      "displayName": "Pablo Pons",
      "userId": "14943288678703205331"
     },
     "user_tz": -60
    },
    "id": "lW82io8xtrKI",
    "outputId": "9b3ef234-8873-41b5-f12e-2abbcc9fc22f"
   },
   "outputs": [
    {
     "data": {
      "application/vnd.google.colaboratory.intrinsic+json": {
       "type": "string"
      },
      "text/plain": [
       "'3.3.1'"
      ]
     },
     "execution_count": 7,
     "metadata": {},
     "output_type": "execute_result"
    }
   ],
   "source": [
    "import findspark\n",
    "findspark.init(\"spark-3.5.0-bin-hadoop3\")# SPARK_HOME\n",
    "\n",
    "from pyspark.sql import SparkSession\n",
    "\n",
    "# create the session\n",
    "spark = SparkSession \\\n",
    "        .builder \\\n",
    "        .appName(\"Columns and Expressions\") \\\n",
    "        .master(\"local[*]\") \\\n",
    "        .getOrCreate()\n",
    "\n",
    "spark.version"
   ]
  },
  {
   "cell_type": "code",
   "execution_count": 8,
   "metadata": {
    "colab": {
     "base_uri": "https://localhost:8080/",
     "height": 219
    },
    "executionInfo": {
     "elapsed": 1898,
     "status": "ok",
     "timestamp": 1670786319889,
     "user": {
      "displayName": "Pablo Pons",
      "userId": "14943288678703205331"
     },
     "user_tz": -60
    },
    "id": "Xe0_i5fHtrKJ",
    "outputId": "8a9f40c7-a480-487f-aef6-d1ef630204ef"
   },
   "outputs": [
    {
     "data": {
      "text/html": [
       "\n",
       "            <div>\n",
       "                <p><b>SparkSession - in-memory</b></p>\n",
       "                \n",
       "        <div>\n",
       "            <p><b>SparkContext</b></p>\n",
       "\n",
       "            <p><a href=\"http://e4b58f6995fb:4040\">Spark UI</a></p>\n",
       "\n",
       "            <dl>\n",
       "              <dt>Version</dt>\n",
       "                <dd><code>v3.3.1</code></dd>\n",
       "              <dt>Master</dt>\n",
       "                <dd><code>local[*]</code></dd>\n",
       "              <dt>AppName</dt>\n",
       "                <dd><code>Columns and Expressions</code></dd>\n",
       "            </dl>\n",
       "        </div>\n",
       "        \n",
       "            </div>\n",
       "        "
      ],
      "text/plain": [
       "<pyspark.sql.session.SparkSession at 0x7f5666d74c40>"
      ]
     },
     "execution_count": 8,
     "metadata": {},
     "output_type": "execute_result"
    }
   ],
   "source": [
    "spark"
   ]
  },
  {
   "cell_type": "code",
   "execution_count": 9,
   "metadata": {
    "executionInfo": {
     "elapsed": 4,
     "status": "ok",
     "timestamp": 1670786319889,
     "user": {
      "displayName": "Pablo Pons",
      "userId": "14943288678703205331"
     },
     "user_tz": -60
    },
    "id": "mIXSyPeytrKJ"
   },
   "outputs": [],
   "source": [
    "# For Pandas conversion optimization\n",
    "spark.conf.set(\"spark.sql.execution.arrow.enabled\", \"true\")"
   ]
  },
  {
   "cell_type": "code",
   "execution_count": 10,
   "metadata": {
    "executionInfo": {
     "elapsed": 4,
     "status": "ok",
     "timestamp": 1670786319889,
     "user": {
      "displayName": "Pablo Pons",
      "userId": "14943288678703205331"
     },
     "user_tz": -60
    },
    "id": "SsEHbN1HtrKJ"
   },
   "outputs": [],
   "source": [
    "# Import sql functions\n",
    "from pyspark.sql.functions import *"
   ]
  },
  {
   "cell_type": "markdown",
   "metadata": {
    "id": "Cc8OP9YSu3KY"
   },
   "source": [
    "Download datasets"
   ]
  },
  {
   "cell_type": "code",
   "execution_count": 11,
   "metadata": {
    "executionInfo": {
     "elapsed": 982,
     "status": "ok",
     "timestamp": 1670786320867,
     "user": {
      "displayName": "Pablo Pons",
      "userId": "14943288678703205331"
     },
     "user_tz": -60
    },
    "id": "vgd-xCVUu5e4"
   },
   "outputs": [],
   "source": [
    "!mkdir -p dataset\n",
    "!wget -q https://raw.githubusercontent.com/paponsro/spark_edem_2324/master/dataset/cars.json -P /dataset\n",
    "!wget -q https://raw.githubusercontent.com/paponsro/spark_edem_2324/master/dataset/movies.json -P /dataset\n",
    "!wget -q https://raw.githubusercontent.com/paponsro/spark_edem_2324/master/dataset/more_cars.json -P /dataset\n",
    "!ls /dataset"
   ]
  },
  {
   "cell_type": "markdown",
   "metadata": {
    "id": "2m7U4JG7trKK"
   },
   "source": [
    "Read JSON file"
   ]
  },
  {
   "cell_type": "code",
   "execution_count": 12,
   "metadata": {
    "executionInfo": {
     "elapsed": 9150,
     "status": "ok",
     "timestamp": 1670786330016,
     "user": {
      "displayName": "Pablo Pons",
      "userId": "14943288678703205331"
     },
     "user_tz": -60
    },
    "id": "j40ajnajtrKK"
   },
   "outputs": [],
   "source": [
    "carsDF = spark.read \\\n",
    "    .option(\"inferSchema\", True) \\\n",
    "    .json(\"/dataset/cars.json\")"
   ]
  },
  {
   "cell_type": "markdown",
   "metadata": {
    "id": "rBegVS5dtrKK"
   },
   "source": [
    "## Examples"
   ]
  },
  {
   "cell_type": "markdown",
   "metadata": {
    "id": "-j-DuH6xtrKL"
   },
   "source": [
    "Select a column"
   ]
  },
  {
   "cell_type": "code",
   "execution_count": 13,
   "metadata": {
    "colab": {
     "base_uri": "https://localhost:8080/"
    },
    "executionInfo": {
     "elapsed": 665,
     "status": "ok",
     "timestamp": 1670786330672,
     "user": {
      "displayName": "Pablo Pons",
      "userId": "14943288678703205331"
     },
     "user_tz": -60
    },
    "id": "pJeRA5chtrKL",
    "outputId": "bb2fc632-3e12-4093-bfb7-c697dcde2f61"
   },
   "outputs": [
    {
     "name": "stdout",
     "output_type": "stream",
     "text": [
      "+-------------------------+\n",
      "|Name                     |\n",
      "+-------------------------+\n",
      "|chevrolet chevelle malibu|\n",
      "|buick skylark 320        |\n",
      "|plymouth satellite       |\n",
      "+-------------------------+\n",
      "only showing top 3 rows\n",
      "\n"
     ]
    }
   ],
   "source": [
    "carsDF.select(col(\"Name\")).show(3, False)"
   ]
  },
  {
   "cell_type": "markdown",
   "metadata": {
    "id": "1Wd_xjFOY9Tl"
   },
   "source": [
    "We can use various metods to refer a column"
   ]
  },
  {
   "cell_type": "code",
   "execution_count": 14,
   "metadata": {
    "colab": {
     "base_uri": "https://localhost:8080/"
    },
    "executionInfo": {
     "elapsed": 496,
     "status": "ok",
     "timestamp": 1670786331165,
     "user": {
      "displayName": "Pablo Pons",
      "userId": "14943288678703205331"
     },
     "user_tz": -60
    },
    "id": "RJYKyUputrKL",
    "outputId": "0996f33d-676e-41c9-c86e-19387132cb5a"
   },
   "outputs": [
    {
     "name": "stdout",
     "output_type": "stream",
     "text": [
      "+--------------------+------------+-------------+\n",
      "|                Name|Acceleration|Weight_in_lbs|\n",
      "+--------------------+------------+-------------+\n",
      "|chevrolet chevell...|        12.0|         3504|\n",
      "|   buick skylark 320|        11.5|         3693|\n",
      "|  plymouth satellite|        11.0|         3436|\n",
      "+--------------------+------------+-------------+\n",
      "only showing top 3 rows\n",
      "\n"
     ]
    }
   ],
   "source": [
    "# various select methods\n",
    "carsDF.select(\n",
    "    carsDF.Name,\n",
    "    col(\"Acceleration\"),\n",
    "    \"Weight_in_lbs\"\n",
    ").show(3)"
   ]
  },
  {
   "cell_type": "markdown",
   "metadata": {
    "id": "1BHOu4KEtrKL"
   },
   "source": [
    "Expressions. We can use SQL like expression inside select to make operations with a column"
   ]
  },
  {
   "cell_type": "code",
   "execution_count": 15,
   "metadata": {
    "colab": {
     "base_uri": "https://localhost:8080/"
    },
    "executionInfo": {
     "elapsed": 629,
     "status": "ok",
     "timestamp": 1670786331793,
     "user": {
      "displayName": "Pablo Pons",
      "userId": "14943288678703205331"
     },
     "user_tz": -60
    },
    "id": "-OGl-DU7trKM",
    "outputId": "d8d00a01-8d31-4d82-c6ca-b9b1ba7e71ed"
   },
   "outputs": [
    {
     "name": "stdout",
     "output_type": "stream",
     "text": [
      "root\n",
      " |-- Name: string (nullable = true)\n",
      " |-- Weight_in_lbs: long (nullable = true)\n",
      " |-- Weight_in_kg_2: integer (nullable = true)\n",
      " |-- Weight_in_T: string (nullable = true)\n",
      "\n",
      "+--------------------+-------------+--------------+-----------+\n",
      "|                Name|Weight_in_lbs|Weight_in_kg_2|Weight_in_T|\n",
      "+--------------------+-------------+--------------+-----------+\n",
      "|chevrolet chevell...|         3504|          1592|      3.504|\n",
      "|   buick skylark 320|         3693|          1678|      3.693|\n",
      "|  plymouth satellite|         3436|          1561|      3.436|\n",
      "+--------------------+-------------+--------------+-----------+\n",
      "only showing top 3 rows\n",
      "\n"
     ]
    }
   ],
   "source": [
    "# \n",
    "carsWithKgDF = carsDF.select(\n",
    "    col(\"Name\"),\n",
    "    col(\"Weight_in_lbs\"),\n",
    "    (col(\"Weight_in_lbs\")/2.2).cast(\"int\").alias(\"Weight_in_kg_2\"), #cast result to int\n",
    "    expr(\"Weight_in_lbs / 1000\").cast(\"string\").alias(\"Weight_in_T\") #cast result to str\n",
    ")\n",
    "carsWithKgDF.printSchema()\n",
    "carsWithKgDF.show(3)"
   ]
  },
  {
   "cell_type": "code",
   "execution_count": 16,
   "metadata": {
    "colab": {
     "base_uri": "https://localhost:8080/"
    },
    "executionInfo": {
     "elapsed": 367,
     "status": "ok",
     "timestamp": 1670786332158,
     "user": {
      "displayName": "Pablo Pons",
      "userId": "14943288678703205331"
     },
     "user_tz": -60
    },
    "id": "NZYAC9A8trKM",
    "outputId": "74f8fdac-8acc-44f1-caef-5ebab0458d11"
   },
   "outputs": [
    {
     "name": "stdout",
     "output_type": "stream",
     "text": [
      "+--------------------+-------------+---------------------+\n",
      "|                Name|Weight_in_lbs|(Weight_in_lbs / 2.2)|\n",
      "+--------------------+-------------+---------------------+\n",
      "|chevrolet chevell...|         3504|          1592.727273|\n",
      "|   buick skylark 320|         3693|          1678.636364|\n",
      "|  plymouth satellite|         3436|          1561.818182|\n",
      "+--------------------+-------------+---------------------+\n",
      "only showing top 3 rows\n",
      "\n"
     ]
    }
   ],
   "source": [
    "# with expressions\n",
    "carsWithSelectExprWeightsDF = carsDF.selectExpr(\n",
    "    \"Name\",\n",
    "    \"Weight_in_lbs\",\n",
    "    \"Weight_in_lbs / 2.2\"\n",
    "  )\n",
    "carsWithSelectExprWeightsDF.show(3)"
   ]
  },
  {
   "cell_type": "markdown",
   "metadata": {
    "id": "LDwREHXhtrKM"
   },
   "source": [
    "### DF Processing"
   ]
  },
  {
   "cell_type": "markdown",
   "metadata": {
    "id": "D-12eNHDtrKM"
   },
   "source": [
    "Add a column"
   ]
  },
  {
   "cell_type": "code",
   "execution_count": 17,
   "metadata": {
    "colab": {
     "base_uri": "https://localhost:8080/"
    },
    "executionInfo": {
     "elapsed": 698,
     "status": "ok",
     "timestamp": 1670786332854,
     "user": {
      "displayName": "Pablo Pons",
      "userId": "14943288678703205331"
     },
     "user_tz": -60
    },
    "id": "S09Nw_iytrKM",
    "outputId": "374e95f6-3d68-4bf5-f22a-2e866d5aa6db"
   },
   "outputs": [
    {
     "name": "stdout",
     "output_type": "stream",
     "text": [
      "+------------+---------+------------+----------+----------------+--------------------+------+-------------+----------+------------------+\n",
      "|Acceleration|Cylinders|Displacement|Horsepower|Miles_per_Gallon|                Name|Origin|Weight_in_lbs|      Year|    Weight_in_kg_3|\n",
      "+------------+---------+------------+----------+----------------+--------------------+------+-------------+----------+------------------+\n",
      "|        12.0|        8|       307.0|       130|            18.0|chevrolet chevell...|   USA|         3504|1970-01-01|1592.7272727272725|\n",
      "|        11.5|        8|       350.0|       165|            15.0|   buick skylark 320|   USA|         3693|1970-01-01|1678.6363636363635|\n",
      "|        11.0|        8|       318.0|       150|            18.0|  plymouth satellite|   USA|         3436|1970-01-01|1561.8181818181818|\n",
      "+------------+---------+------------+----------+----------------+--------------------+------+-------------+----------+------------------+\n",
      "only showing top 3 rows\n",
      "\n"
     ]
    }
   ],
   "source": [
    "carsWithKg3DF = carsDF.withColumn(\"Weight_in_kg_3\", col(\"Weight_in_lbs\") / 2.2)\n",
    "carsWithKg3DF.show(3)"
   ]
  },
  {
   "cell_type": "markdown",
   "metadata": {
    "id": "SaYkSZ-AtrKN"
   },
   "source": [
    "Rename a column"
   ]
  },
  {
   "cell_type": "code",
   "execution_count": 18,
   "metadata": {
    "colab": {
     "base_uri": "https://localhost:8080/"
    },
    "executionInfo": {
     "elapsed": 513,
     "status": "ok",
     "timestamp": 1670786333366,
     "user": {
      "displayName": "Pablo Pons",
      "userId": "14943288678703205331"
     },
     "user_tz": -60
    },
    "id": "5m8EFdTBtrKN",
    "outputId": "8dfff95c-47d9-4df2-f788-3e08209201b2"
   },
   "outputs": [
    {
     "name": "stdout",
     "output_type": "stream",
     "text": [
      "+------------+---------+------------+----------+----------------+--------------------+------+----------------+----------+\n",
      "|Acceleration|Cylinders|Displacement|Horsepower|Miles_per_Gallon|                Name|Origin|Weight in pounds|      Year|\n",
      "+------------+---------+------------+----------+----------------+--------------------+------+----------------+----------+\n",
      "|        12.0|        8|       307.0|       130|            18.0|chevrolet chevell...|   USA|            3504|1970-01-01|\n",
      "|        11.5|        8|       350.0|       165|            15.0|   buick skylark 320|   USA|            3693|1970-01-01|\n",
      "|        11.0|        8|       318.0|       150|            18.0|  plymouth satellite|   USA|            3436|1970-01-01|\n",
      "+------------+---------+------------+----------+----------------+--------------------+------+----------------+----------+\n",
      "only showing top 3 rows\n",
      "\n"
     ]
    }
   ],
   "source": [
    "carsWithColumnRenamed = carsDF.withColumnRenamed(\"Weight_in_lbs\", \"Weight in pounds\")\n",
    "carsWithColumnRenamed.show(3)"
   ]
  },
  {
   "cell_type": "code",
   "execution_count": 19,
   "metadata": {
    "executionInfo": {
     "elapsed": 5,
     "status": "ok",
     "timestamp": 1670786333366,
     "user": {
      "displayName": "Pablo Pons",
      "userId": "14943288678703205331"
     },
     "user_tz": -60
    },
    "id": "zzwPcSFqtrKN"
   },
   "outputs": [],
   "source": [
    "# careful with column names\n",
    "# carsWithColumnRenamed.selectExpr(\"Weight in pounds\")"
   ]
  },
  {
   "cell_type": "code",
   "execution_count": 20,
   "metadata": {
    "colab": {
     "base_uri": "https://localhost:8080/"
    },
    "executionInfo": {
     "elapsed": 4,
     "status": "ok",
     "timestamp": 1670786333367,
     "user": {
      "displayName": "Pablo Pons",
      "userId": "14943288678703205331"
     },
     "user_tz": -60
    },
    "id": "8Y0Ir5jBtrKN",
    "outputId": "7b9b4047-cf09-4da4-ee8e-9ba539df7569"
   },
   "outputs": [
    {
     "name": "stdout",
     "output_type": "stream",
     "text": [
      "+----------------+\n",
      "|Weight in pounds|\n",
      "+----------------+\n",
      "|            3504|\n",
      "|            3693|\n",
      "|            3436|\n",
      "+----------------+\n",
      "only showing top 3 rows\n",
      "\n"
     ]
    }
   ],
   "source": [
    "# as we hace special characters (spaces) we have to use the ``\n",
    "carsWithColumnRenamed.selectExpr(\"`Weight in pounds`\").show(3)"
   ]
  },
  {
   "cell_type": "markdown",
   "metadata": {
    "id": "mkqoz74TtrKN"
   },
   "source": [
    "Remove a column"
   ]
  },
  {
   "cell_type": "code",
   "execution_count": 21,
   "metadata": {
    "colab": {
     "base_uri": "https://localhost:8080/"
    },
    "executionInfo": {
     "elapsed": 3,
     "status": "ok",
     "timestamp": 1670786333367,
     "user": {
      "displayName": "Pablo Pons",
      "userId": "14943288678703205331"
     },
     "user_tz": -60
    },
    "id": "6qaH5KLhtrKO",
    "outputId": "a3a1858b-b277-46e1-de67-09470093d1ba"
   },
   "outputs": [
    {
     "name": "stdout",
     "output_type": "stream",
     "text": [
      "root\n",
      " |-- Acceleration: double (nullable = true)\n",
      " |-- Cylinders: long (nullable = true)\n",
      " |-- Displacement: double (nullable = true)\n",
      " |-- Horsepower: long (nullable = true)\n",
      " |-- Miles_per_Gallon: double (nullable = true)\n",
      " |-- Name: string (nullable = true)\n",
      " |-- Origin: string (nullable = true)\n",
      " |-- Weight in pounds: long (nullable = true)\n",
      " |-- Year: string (nullable = true)\n",
      "\n"
     ]
    }
   ],
   "source": [
    "carsWithColumnRenamed.printSchema()"
   ]
  },
  {
   "cell_type": "code",
   "execution_count": 22,
   "metadata": {
    "colab": {
     "base_uri": "https://localhost:8080/"
    },
    "executionInfo": {
     "elapsed": 3,
     "status": "ok",
     "timestamp": 1670786333367,
     "user": {
      "displayName": "Pablo Pons",
      "userId": "14943288678703205331"
     },
     "user_tz": -60
    },
    "id": "SE_SvbNNtrKO",
    "outputId": "5e4775bc-c6c8-4acc-ff3c-fc5a1a2dce4c"
   },
   "outputs": [
    {
     "name": "stdout",
     "output_type": "stream",
     "text": [
      "root\n",
      " |-- Acceleration: double (nullable = true)\n",
      " |-- Horsepower: long (nullable = true)\n",
      " |-- Miles_per_Gallon: double (nullable = true)\n",
      " |-- Name: string (nullable = true)\n",
      " |-- Origin: string (nullable = true)\n",
      " |-- Weight in pounds: long (nullable = true)\n",
      " |-- Year: string (nullable = true)\n",
      "\n"
     ]
    }
   ],
   "source": [
    "dropColsDF = carsWithColumnRenamed.drop(\"Cylinders\", \"Displacement\")\n",
    "dropColsDF.printSchema()\n"
   ]
  },
  {
   "cell_type": "markdown",
   "metadata": {
    "id": "QKtbVrvBtrKO"
   },
   "source": [
    "Filtering"
   ]
  },
  {
   "cell_type": "code",
   "execution_count": 23,
   "metadata": {
    "colab": {
     "base_uri": "https://localhost:8080/"
    },
    "executionInfo": {
     "elapsed": 1506,
     "status": "ok",
     "timestamp": 1670786334871,
     "user": {
      "displayName": "Pablo Pons",
      "userId": "14943288678703205331"
     },
     "user_tz": -60
    },
    "id": "pr2vC4_9trKO",
    "outputId": "5a14fe5b-8038-4c73-bf6e-1a015d44174f"
   },
   "outputs": [
    {
     "name": "stdout",
     "output_type": "stream",
     "text": [
      "+------------+---------+------------+----------+----------------+--------------------+------+-------------+----------+\n",
      "|Acceleration|Cylinders|Displacement|Horsepower|Miles_per_Gallon|                Name|Origin|Weight_in_lbs|      Year|\n",
      "+------------+---------+------------+----------+----------------+--------------------+------+-------------+----------+\n",
      "|        17.5|        4|       133.0|       115|            null|citroen ds-21 pallas|Europe|         3090|1970-01-01|\n",
      "|        15.0|        4|       113.0|        95|            24.0|toyota corona mar...| Japan|         2372|1970-01-01|\n",
      "|        14.5|        4|        97.0|        88|            27.0|        datsun pl510| Japan|         2130|1970-01-01|\n",
      "+------------+---------+------------+----------+----------------+--------------------+------+-------------+----------+\n",
      "only showing top 3 rows\n",
      "\n",
      "152 == 152\n"
     ]
    }
   ],
   "source": [
    "nonUSCarsDF = carsDF.filter(col(\"Origin\") != \"USA\")\n",
    "nonUSCarsDF2 = carsDF.where(col(\"Origin\") != \"USA\")\n",
    "nonUSCarsDF.show(3)\n",
    "print(f\"{nonUSCarsDF.count()} == {nonUSCarsDF2.count()}\")"
   ]
  },
  {
   "cell_type": "code",
   "execution_count": 24,
   "metadata": {
    "colab": {
     "base_uri": "https://localhost:8080/"
    },
    "executionInfo": {
     "elapsed": 700,
     "status": "ok",
     "timestamp": 1670786335570,
     "user": {
      "displayName": "Pablo Pons",
      "userId": "14943288678703205331"
     },
     "user_tz": -60
    },
    "id": "Cc58o5B1trKO",
    "outputId": "89677fd2-6f2d-4244-f984-472a975d2635"
   },
   "outputs": [
    {
     "name": "stdout",
     "output_type": "stream",
     "text": [
      "+------------+---------+------------+----------+----------------+--------------------+------+-------------+----------+\n",
      "|Acceleration|Cylinders|Displacement|Horsepower|Miles_per_Gallon|                Name|Origin|Weight_in_lbs|      Year|\n",
      "+------------+---------+------------+----------+----------------+--------------------+------+-------------+----------+\n",
      "|        12.0|        8|       307.0|       130|            18.0|chevrolet chevell...|   USA|         3504|1970-01-01|\n",
      "|        11.5|        8|       350.0|       165|            15.0|   buick skylark 320|   USA|         3693|1970-01-01|\n",
      "|        11.0|        8|       318.0|       150|            18.0|  plymouth satellite|   USA|         3436|1970-01-01|\n",
      "+------------+---------+------------+----------+----------------+--------------------+------+-------------+----------+\n",
      "only showing top 3 rows\n",
      "\n"
     ]
    }
   ],
   "source": [
    "# filtering with expression strings\n",
    "americanCarsDF = carsDF.filter(\"Origin = 'USA'\")\n",
    "americanCarsDF.show(3)"
   ]
  },
  {
   "cell_type": "markdown",
   "metadata": {
    "id": "YvqWVJKmtrKO"
   },
   "source": [
    "Chain filters"
   ]
  },
  {
   "cell_type": "code",
   "execution_count": 25,
   "metadata": {
    "colab": {
     "base_uri": "https://localhost:8080/"
    },
    "executionInfo": {
     "elapsed": 371,
     "status": "ok",
     "timestamp": 1670786335936,
     "user": {
      "displayName": "Pablo Pons",
      "userId": "14943288678703205331"
     },
     "user_tz": -60
    },
    "id": "QSYv7uastrKO",
    "outputId": "a00f6ff7-3ecb-4640-e6ed-42d74d9ee293"
   },
   "outputs": [
    {
     "name": "stdout",
     "output_type": "stream",
     "text": [
      "+------------+---------+------------+----------+----------------+-----------------+------+-------------+----------+\n",
      "|Acceleration|Cylinders|Displacement|Horsepower|Miles_per_Gallon|             Name|Origin|Weight_in_lbs|      Year|\n",
      "+------------+---------+------------+----------+----------------+-----------------+------+-------------+----------+\n",
      "|        11.5|        8|       350.0|       165|            15.0|buick skylark 320|   USA|         3693|1970-01-01|\n",
      "|        10.0|        8|       429.0|       198|            15.0| ford galaxie 500|   USA|         4341|1970-01-01|\n",
      "|         9.0|        8|       454.0|       220|            14.0| chevrolet impala|   USA|         4354|1970-01-01|\n",
      "+------------+---------+------------+----------+----------------+-----------------+------+-------------+----------+\n",
      "only showing top 3 rows\n",
      "\n"
     ]
    }
   ],
   "source": [
    "americanPowerfulCarsDF = carsDF.filter(col(\"Origin\") == \"USA\").filter(col(\"Horsepower\") > 150)\n",
    "americanPowerfulCarsDF2 = carsDF.filter((col(\"Origin\") == \"USA\") & (col(\"Horsepower\") > 150))\n",
    "americanPowerfulCarsDF3 = carsDF.filter(\"Origin = 'USA' and Horsepower > 150\")\n",
    "americanPowerfulCarsDF.show(3)"
   ]
  },
  {
   "cell_type": "markdown",
   "metadata": {
    "id": "kVhkmxwZtrKP"
   },
   "source": [
    "## Exercises\n",
    "1. Read the movies DF and select 2 columns of your choice\n",
    "2. Create another column summing up the total profit of the movies = US_Gross + Worldwide_Gross + DVD sales. Are you obtaining nulls? How you can solve it?\n",
    "3. Select all COMEDY movies with IMDB rating above 6\n",
    "Use as many versions as possible"
   ]
  },
  {
   "cell_type": "markdown",
   "metadata": {
    "id": "QgpQ09-wtrKP"
   },
   "source": [
    "Exercise 1"
   ]
  },
  {
   "cell_type": "markdown",
   "metadata": {
    "id": "RgtGVWTrtrKQ"
   },
   "source": [
    "Exercise 2"
   ]
  },
  {
   "cell_type": "markdown",
   "metadata": {
    "id": "9j710M_JQYwd"
   },
   "source": [
    "Exercise 3"
   ]
  },
  {
   "cell_type": "code",
   "execution_count": null,
   "metadata": {
    "id": "03-5sRApo571"
   },
   "outputs": [],
   "source": []
  }
 ],
 "metadata": {
  "colab": {
   "collapsed_sections": [
    "LDwREHXhtrKM"
   ],
   "provenance": []
  },
  "kernelspec": {
   "display_name": ".venv",
   "language": "python",
   "name": "python3"
  },
  "language_info": {
   "codemirror_mode": {
    "name": "ipython",
    "version": 3
   },
   "file_extension": ".py",
   "mimetype": "text/x-python",
   "name": "python",
   "nbconvert_exporter": "python",
   "pygments_lexer": "ipython3",
   "version": "3.12.6"
  },
  "orig_nbformat": 4
 },
 "nbformat": 4,
 "nbformat_minor": 0
}
