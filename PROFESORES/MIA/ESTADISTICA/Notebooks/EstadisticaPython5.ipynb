{
  "nbformat": 4,
  "nbformat_minor": 0,
  "metadata": {
    "colab": {
      "provenance": []
    },
    "kernelspec": {
      "name": "python3",
      "display_name": "Python 3"
    },
    "language_info": {
      "name": "python"
    }
  },
  "cells": [
    {
      "cell_type": "markdown",
      "source": [
        "En esta lección, dirigimos nuestra atención a una prueba estadística común para variables categóricas: la prueba de chi-cuadrado."
      ],
      "metadata": {
        "id": "Q5Eql5chf4D1"
      }
    },
    {
      "cell_type": "markdown",
      "source": [
        "# Test Chi-cuadrado bondad de ajuste\n",
        "\n",
        "En nuestro estudio de las pruebas t, presentamos la prueba t unidireccional para verificar si la media de una muestra difiere de la media esperada (población). La prueba de bondad de ajuste chi-cuadrado es análoga a la prueba t unidireccional para variables categóricas: prueba si la distribución de datos categóricos de muestra coincide con una distribución esperada. Por ejemplo, podría usar una prueba de bondad de ajuste de chi-cuadrado para verificar si la demografía racial del subconjunto de los votantes coincide con la de todo EE. UU.\n",
        "\n",
        "Cuando se trabaja con datos categóricos, los valores en sí mismos no son de mucha utilidad para las pruebas estadísticas porque categorías como \"masculino\", \"femenino\" y \"otro\" no tienen significado matemático. Las pruebas que tratan con variables categóricas se basan en recuentos de variables en lugar del valor real de las propias variables.\n",
        "\n",
        "Generemos algunos datos demográficos falsos para EE. UU. y Minnesota y realizaremos la prueba de bondad de ajuste chi-cuadrado para verificar si son diferentes:"
      ],
      "metadata": {
        "id": "7J092Sd5gBo8"
      }
    },
    {
      "cell_type": "code",
      "source": [
        "import numpy as np\n",
        "import pandas as pd\n",
        "import scipy.stats as stats"
      ],
      "metadata": {
        "id": "Oa7iFsSWgguL"
      },
      "execution_count": null,
      "outputs": []
    },
    {
      "cell_type": "code",
      "source": [
        "national = pd.DataFrame([\"white\"]*100000 + [\"hispanic\"]*60000 +\\\n",
        "                        [\"black\"]*50000 + [\"asian\"]*15000 + [\"other\"]*35000)\n",
        "\n",
        "\n",
        "minnesota = pd.DataFrame([\"white\"]*600 + [\"hispanic\"]*300 + \\\n",
        "                         [\"black\"]*250 +[\"asian\"]*75 + [\"other\"]*150)\n",
        "\n",
        "national_table = pd.crosstab(index=national[0], columns=\"count\")\n",
        "minnesota_table = pd.crosstab(index=minnesota[0], columns=\"count\")\n",
        "\n",
        "print( \"National\")\n",
        "print(national_table)\n",
        "print(\" \")\n",
        "print( \"Minnesota\")\n",
        "print(minnesota_table)"
      ],
      "metadata": {
        "id": "fdyRZUlzgkVV",
        "colab": {
          "base_uri": "https://localhost:8080/"
        },
        "outputId": "b28ec369-3097-46ad-c415-62a3f20d0577"
      },
      "execution_count": null,
      "outputs": [
        {
          "output_type": "stream",
          "name": "stdout",
          "text": [
            "National\n",
            "col_0      count\n",
            "0               \n",
            "asian      15000\n",
            "black      50000\n",
            "hispanic   60000\n",
            "other      35000\n",
            "white     100000\n",
            " \n",
            "Minnesota\n",
            "col_0     count\n",
            "0              \n",
            "asian        75\n",
            "black       250\n",
            "hispanic    300\n",
            "other       150\n",
            "white       600\n"
          ]
        }
      ]
    },
    {
      "cell_type": "markdown",
      "source": [
        "Las pruebas de chi-cuadrado se basan en la llamada estadística de chi-cuadrado. Se calcula la estadística de chi-cuadrado con la siguiente fórmula:\n",
        "\n",
        "\n",
        "\n",
        "$\\tilde{\\chi}^2=\\sum_{k=1}^{n} \\frac{(O_k - E_k)^2}{E_k}$"
      ],
      "metadata": {
        "id": "LUEfhIVIgrIM"
      }
    },
    {
      "cell_type": "markdown",
      "source": [
        "En la fórmula, observado es el conteo real observado para cada categoría y esperado es el conteo esperado basado en la distribución de la población para la categoría correspondiente. Calculemos la estadística de chi-cuadrado para nuestros datos para ilustrar:"
      ],
      "metadata": {
        "id": "kSBgtfDKjH76"
      }
    },
    {
      "cell_type": "code",
      "source": [
        "observed = minnesota_table\n",
        "\n",
        "national_ratios = national_table/len(national)  # Get population ratios\n",
        "\n",
        "expected = national_ratios * len(minnesota)   # Get expected counts\n",
        "\n",
        "chi_squared_stat = (((observed-expected)**2)/expected).sum()\n",
        "\n",
        "print(chi_squared_stat)"
      ],
      "metadata": {
        "id": "o2udSc0wjKkL",
        "colab": {
          "base_uri": "https://localhost:8080/"
        },
        "outputId": "8ea8b96b-be81-45eb-d78b-e3f5ac2902f5"
      },
      "execution_count": null,
      "outputs": [
        {
          "output_type": "stream",
          "name": "stdout",
          "text": [
            "col_0\n",
            "count    18.194805\n",
            "dtype: float64\n"
          ]
        }
      ]
    },
    {
      "cell_type": "markdown",
      "source": [
        "Nota: La prueba de chi-cuadrado supone que ninguno de los recuentos esperados es inferior a 5.\n",
        "\n",
        "Similar a la prueba t donde comparamos la estadística de prueba t con un valor crítico basado en la distribución t para determinar si el resultado es significativo, en la prueba de chi-cuadrado comparamos la estadística de prueba de chi-cuadrado con un valor crítico basado en la distribución chi-cuadrado. La abreviatura de la biblioteca de Scipy para la distribución de chi-cuadrado es chi2. Usaremos este conocimiento para encontrar el valor crítico para un nivel de confianza del 95 % y verificaremos el valor p de nuestro resultado:"
      ],
      "metadata": {
        "id": "WVD385FXjSIT"
      }
    },
    {
      "cell_type": "code",
      "source": [
        "crit = stats.chi2.ppf(q = 0.95, # Find the critical value for 95% confidence*\n",
        "                      df = 4)   # Df = number of variable categories - 1\n",
        "\n",
        "print(\"Critical value\")\n",
        "print(crit)\n",
        "\n",
        "p_value = 1 - stats.chi2.cdf(x=chi_squared_stat,  # Find the p-value\n",
        "                             df=4)\n",
        "print(\"P value\")\n",
        "print(p_value)"
      ],
      "metadata": {
        "id": "HGhS5aPIjW3U",
        "colab": {
          "base_uri": "https://localhost:8080/"
        },
        "outputId": "555ea0f2-2014-44cd-f394-7b657b75ab9f"
      },
      "execution_count": null,
      "outputs": [
        {
          "output_type": "stream",
          "name": "stdout",
          "text": [
            "Critical value\n",
            "9.487729036781154\n",
            "P value\n",
            "[0.00113047]\n"
          ]
        }
      ]
    },
    {
      "cell_type": "markdown",
      "source": [
        "Dado que nuestra estadística chi-cuadrado excede el valor crítico, rechazaríamos la hipótesis nula de que las dos distribuciones son iguales.\n",
        "\n",
        "Puede realizar una prueba de bondad de ajuste chi-cuadrado automáticamente usando la función scipy scipy.stats.chisquare():"
      ],
      "metadata": {
        "id": "Hv3wIn88jdZj"
      }
    },
    {
      "cell_type": "code",
      "source": [
        "stats.chisquare(f_obs= observed,   # Array of observed counts\n",
        "                f_exp= expected)   # Array of expected counts"
      ],
      "metadata": {
        "id": "evmaYcnjjf-C",
        "colab": {
          "base_uri": "https://localhost:8080/"
        },
        "outputId": "a9a27dec-003c-4adf-a556-227b1ad336b2"
      },
      "execution_count": null,
      "outputs": [
        {
          "output_type": "execute_result",
          "data": {
            "text/plain": [
              "Power_divergenceResult(statistic=array([18.19480519]), pvalue=array([0.00113047]))"
            ]
          },
          "metadata": {},
          "execution_count": 6
        }
      ]
    },
    {
      "cell_type": "markdown",
      "source": [
        "Los resultados de la prueba concuerdan con los valores que calculamos anteriormente."
      ],
      "metadata": {
        "id": "Nhzwq8Szji0j"
      }
    },
    {
      "cell_type": "markdown",
      "source": [
        "#Test Chi-Cuadrado de independencia\n",
        "La independencia es un concepto clave en probabilidad que describe una situación en la que conocer el valor de una variable no dice nada sobre el valor de otra. Por ejemplo, el mes en que se nace probablemente no tenga nada que versobre qué navegador web usa, por lo que esperaríamos que el mes de nacimiento y la preferencia del navegador sean independientes. Por otro lado, el mes de nacimiento podría estar relacionado con si se destacaen los deportes en la escuela, por lo que el mes de nacimiento y el rendimiento deportivo podrían no ser independientes.\n",
        "\n",
        "La prueba de independencia chi-cuadrado comprueba si dos variables categóricas son independientes. La prueba de independencia se usa comúnmente para determinar si variables como la educación, las opiniones políticas y otras preferencias varían según factores demográficos como el género, la raza y la religión. Generemos algunos datos de encuestas de votantes falsos y realicemos una prueba de independencia:"
      ],
      "metadata": {
        "id": "C37q41HojxOy"
      }
    },
    {
      "cell_type": "code",
      "source": [
        "np.random.seed(10)\n",
        "\n",
        "# Sample data randomly at fixed probabilities\n",
        "voter_race = np.random.choice(a= [\"asian\",\"black\",\"hispanic\",\"other\",\"white\"],\n",
        "                              p = [0.05, 0.15 ,0.25, 0.05, 0.5],\n",
        "                              size=1000)\n",
        "\n",
        "# Sample data randomly at fixed probabilities\n",
        "voter_party = np.random.choice(a= [\"democrat\",\"independent\",\"republican\"],\n",
        "                              p = [0.4, 0.2, 0.4],\n",
        "                              size=1000)\n",
        "\n",
        "voters = pd.DataFrame({\"race\":voter_race,\n",
        "                       \"party\":voter_party})\n",
        "\n",
        "voter_tab = pd.crosstab(voters.race, voters.party, margins = True)\n",
        "\n",
        "voter_tab.columns = [\"democrat\",\"independent\",\"republican\",\"row_totals\"]\n",
        "\n",
        "voter_tab.index = [\"asian\",\"black\",\"hispanic\",\"other\",\"white\",\"col_totals\"]\n",
        "\n",
        "observed = voter_tab.iloc[0:5,0:3]   # Get table without totals for later use\n",
        "voter_tab"
      ],
      "metadata": {
        "id": "qN8zWwiXj8bj",
        "colab": {
          "base_uri": "https://localhost:8080/",
          "height": 237
        },
        "outputId": "9c5fd417-ed51-4f8b-89f4-30f7b2eaea13"
      },
      "execution_count": null,
      "outputs": [
        {
          "output_type": "execute_result",
          "data": {
            "text/plain": [
              "            democrat  independent  republican  row_totals\n",
              "asian             21            7          32          60\n",
              "black             65           25          64         154\n",
              "hispanic         107           50          94         251\n",
              "other             15            8          15          38\n",
              "white            189           96         212         497\n",
              "col_totals       397          186         417        1000"
            ],
            "text/html": [
              "\n",
              "  <div id=\"df-7fe53e5e-b411-476c-997c-06009e977b5c\">\n",
              "    <div class=\"colab-df-container\">\n",
              "      <div>\n",
              "<style scoped>\n",
              "    .dataframe tbody tr th:only-of-type {\n",
              "        vertical-align: middle;\n",
              "    }\n",
              "\n",
              "    .dataframe tbody tr th {\n",
              "        vertical-align: top;\n",
              "    }\n",
              "\n",
              "    .dataframe thead th {\n",
              "        text-align: right;\n",
              "    }\n",
              "</style>\n",
              "<table border=\"1\" class=\"dataframe\">\n",
              "  <thead>\n",
              "    <tr style=\"text-align: right;\">\n",
              "      <th></th>\n",
              "      <th>democrat</th>\n",
              "      <th>independent</th>\n",
              "      <th>republican</th>\n",
              "      <th>row_totals</th>\n",
              "    </tr>\n",
              "  </thead>\n",
              "  <tbody>\n",
              "    <tr>\n",
              "      <th>asian</th>\n",
              "      <td>21</td>\n",
              "      <td>7</td>\n",
              "      <td>32</td>\n",
              "      <td>60</td>\n",
              "    </tr>\n",
              "    <tr>\n",
              "      <th>black</th>\n",
              "      <td>65</td>\n",
              "      <td>25</td>\n",
              "      <td>64</td>\n",
              "      <td>154</td>\n",
              "    </tr>\n",
              "    <tr>\n",
              "      <th>hispanic</th>\n",
              "      <td>107</td>\n",
              "      <td>50</td>\n",
              "      <td>94</td>\n",
              "      <td>251</td>\n",
              "    </tr>\n",
              "    <tr>\n",
              "      <th>other</th>\n",
              "      <td>15</td>\n",
              "      <td>8</td>\n",
              "      <td>15</td>\n",
              "      <td>38</td>\n",
              "    </tr>\n",
              "    <tr>\n",
              "      <th>white</th>\n",
              "      <td>189</td>\n",
              "      <td>96</td>\n",
              "      <td>212</td>\n",
              "      <td>497</td>\n",
              "    </tr>\n",
              "    <tr>\n",
              "      <th>col_totals</th>\n",
              "      <td>397</td>\n",
              "      <td>186</td>\n",
              "      <td>417</td>\n",
              "      <td>1000</td>\n",
              "    </tr>\n",
              "  </tbody>\n",
              "</table>\n",
              "</div>\n",
              "      <button class=\"colab-df-convert\" onclick=\"convertToInteractive('df-7fe53e5e-b411-476c-997c-06009e977b5c')\"\n",
              "              title=\"Convert this dataframe to an interactive table.\"\n",
              "              style=\"display:none;\">\n",
              "        \n",
              "  <svg xmlns=\"http://www.w3.org/2000/svg\" height=\"24px\"viewBox=\"0 0 24 24\"\n",
              "       width=\"24px\">\n",
              "    <path d=\"M0 0h24v24H0V0z\" fill=\"none\"/>\n",
              "    <path d=\"M18.56 5.44l.94 2.06.94-2.06 2.06-.94-2.06-.94-.94-2.06-.94 2.06-2.06.94zm-11 1L8.5 8.5l.94-2.06 2.06-.94-2.06-.94L8.5 2.5l-.94 2.06-2.06.94zm10 10l.94 2.06.94-2.06 2.06-.94-2.06-.94-.94-2.06-.94 2.06-2.06.94z\"/><path d=\"M17.41 7.96l-1.37-1.37c-.4-.4-.92-.59-1.43-.59-.52 0-1.04.2-1.43.59L10.3 9.45l-7.72 7.72c-.78.78-.78 2.05 0 2.83L4 21.41c.39.39.9.59 1.41.59.51 0 1.02-.2 1.41-.59l7.78-7.78 2.81-2.81c.8-.78.8-2.07 0-2.86zM5.41 20L4 18.59l7.72-7.72 1.47 1.35L5.41 20z\"/>\n",
              "  </svg>\n",
              "      </button>\n",
              "      \n",
              "  <style>\n",
              "    .colab-df-container {\n",
              "      display:flex;\n",
              "      flex-wrap:wrap;\n",
              "      gap: 12px;\n",
              "    }\n",
              "\n",
              "    .colab-df-convert {\n",
              "      background-color: #E8F0FE;\n",
              "      border: none;\n",
              "      border-radius: 50%;\n",
              "      cursor: pointer;\n",
              "      display: none;\n",
              "      fill: #1967D2;\n",
              "      height: 32px;\n",
              "      padding: 0 0 0 0;\n",
              "      width: 32px;\n",
              "    }\n",
              "\n",
              "    .colab-df-convert:hover {\n",
              "      background-color: #E2EBFA;\n",
              "      box-shadow: 0px 1px 2px rgba(60, 64, 67, 0.3), 0px 1px 3px 1px rgba(60, 64, 67, 0.15);\n",
              "      fill: #174EA6;\n",
              "    }\n",
              "\n",
              "    [theme=dark] .colab-df-convert {\n",
              "      background-color: #3B4455;\n",
              "      fill: #D2E3FC;\n",
              "    }\n",
              "\n",
              "    [theme=dark] .colab-df-convert:hover {\n",
              "      background-color: #434B5C;\n",
              "      box-shadow: 0px 1px 3px 1px rgba(0, 0, 0, 0.15);\n",
              "      filter: drop-shadow(0px 1px 2px rgba(0, 0, 0, 0.3));\n",
              "      fill: #FFFFFF;\n",
              "    }\n",
              "  </style>\n",
              "\n",
              "      <script>\n",
              "        const buttonEl =\n",
              "          document.querySelector('#df-7fe53e5e-b411-476c-997c-06009e977b5c button.colab-df-convert');\n",
              "        buttonEl.style.display =\n",
              "          google.colab.kernel.accessAllowed ? 'block' : 'none';\n",
              "\n",
              "        async function convertToInteractive(key) {\n",
              "          const element = document.querySelector('#df-7fe53e5e-b411-476c-997c-06009e977b5c');\n",
              "          const dataTable =\n",
              "            await google.colab.kernel.invokeFunction('convertToInteractive',\n",
              "                                                     [key], {});\n",
              "          if (!dataTable) return;\n",
              "\n",
              "          const docLinkHtml = 'Like what you see? Visit the ' +\n",
              "            '<a target=\"_blank\" href=https://colab.research.google.com/notebooks/data_table.ipynb>data table notebook</a>'\n",
              "            + ' to learn more about interactive tables.';\n",
              "          element.innerHTML = '';\n",
              "          dataTable['output_type'] = 'display_data';\n",
              "          await google.colab.output.renderOutput(dataTable, element);\n",
              "          const docLink = document.createElement('div');\n",
              "          docLink.innerHTML = docLinkHtml;\n",
              "          element.appendChild(docLink);\n",
              "        }\n",
              "      </script>\n",
              "    </div>\n",
              "  </div>\n",
              "  "
            ]
          },
          "metadata": {},
          "execution_count": 7
        }
      ]
    },
    {
      "cell_type": "markdown",
      "source": [
        "\n",
        "\n",
        "Para una prueba de independencia, usamos la misma fórmula de chi-cuadrado que usamos para la prueba de bondad de ajuste. La principal diferencia es que tenemos que calcular los recuentos esperados de cada celda en una tabla bidimensional en lugar de una tabla unidimensional. Para obtener el recuento esperado para una celda, se multiplica el total de la fila de esa celda por el total de la columna de esa celda y luego divida por el número total de observaciones. Podemos obtener rápidamente los recuentos esperados para todas las celdas de la tabla tomando los totales de las filas y las columnas de la tabla, realizando un producto externo con la función np.outer() y dividiendo por el número de observaciones:"
      ],
      "metadata": {
        "id": "qOlpxRI8kFML"
      }
    },
    {
      "cell_type": "code",
      "source": [
        "expected =  np.outer(voter_tab[\"row_totals\"][0:5],\n",
        "                     voter_tab.loc[\"col_totals\"][0:3]) / 1000\n",
        "\n",
        "expected = pd.DataFrame(expected)\n",
        "\n",
        "expected.columns = [\"democrat\",\"independent\",\"republican\"]\n",
        "expected.index = [\"asian\",\"black\",\"hispanic\",\"other\",\"white\"]\n",
        "\n",
        "expected"
      ],
      "metadata": {
        "id": "X8RmnztekKrU",
        "colab": {
          "base_uri": "https://localhost:8080/",
          "height": 206
        },
        "outputId": "dc8d0326-05dc-4a33-bc99-588a959bcc0a"
      },
      "execution_count": null,
      "outputs": [
        {
          "output_type": "execute_result",
          "data": {
            "text/plain": [
              "          democrat  independent  republican\n",
              "asian       23.820       11.160      25.020\n",
              "black       61.138       28.644      64.218\n",
              "hispanic    99.647       46.686     104.667\n",
              "other       15.086        7.068      15.846\n",
              "white      197.309       92.442     207.249"
            ],
            "text/html": [
              "\n",
              "  <div id=\"df-eba7217f-9100-4515-a05c-f51ec2c805fb\">\n",
              "    <div class=\"colab-df-container\">\n",
              "      <div>\n",
              "<style scoped>\n",
              "    .dataframe tbody tr th:only-of-type {\n",
              "        vertical-align: middle;\n",
              "    }\n",
              "\n",
              "    .dataframe tbody tr th {\n",
              "        vertical-align: top;\n",
              "    }\n",
              "\n",
              "    .dataframe thead th {\n",
              "        text-align: right;\n",
              "    }\n",
              "</style>\n",
              "<table border=\"1\" class=\"dataframe\">\n",
              "  <thead>\n",
              "    <tr style=\"text-align: right;\">\n",
              "      <th></th>\n",
              "      <th>democrat</th>\n",
              "      <th>independent</th>\n",
              "      <th>republican</th>\n",
              "    </tr>\n",
              "  </thead>\n",
              "  <tbody>\n",
              "    <tr>\n",
              "      <th>asian</th>\n",
              "      <td>23.820</td>\n",
              "      <td>11.160</td>\n",
              "      <td>25.020</td>\n",
              "    </tr>\n",
              "    <tr>\n",
              "      <th>black</th>\n",
              "      <td>61.138</td>\n",
              "      <td>28.644</td>\n",
              "      <td>64.218</td>\n",
              "    </tr>\n",
              "    <tr>\n",
              "      <th>hispanic</th>\n",
              "      <td>99.647</td>\n",
              "      <td>46.686</td>\n",
              "      <td>104.667</td>\n",
              "    </tr>\n",
              "    <tr>\n",
              "      <th>other</th>\n",
              "      <td>15.086</td>\n",
              "      <td>7.068</td>\n",
              "      <td>15.846</td>\n",
              "    </tr>\n",
              "    <tr>\n",
              "      <th>white</th>\n",
              "      <td>197.309</td>\n",
              "      <td>92.442</td>\n",
              "      <td>207.249</td>\n",
              "    </tr>\n",
              "  </tbody>\n",
              "</table>\n",
              "</div>\n",
              "      <button class=\"colab-df-convert\" onclick=\"convertToInteractive('df-eba7217f-9100-4515-a05c-f51ec2c805fb')\"\n",
              "              title=\"Convert this dataframe to an interactive table.\"\n",
              "              style=\"display:none;\">\n",
              "        \n",
              "  <svg xmlns=\"http://www.w3.org/2000/svg\" height=\"24px\"viewBox=\"0 0 24 24\"\n",
              "       width=\"24px\">\n",
              "    <path d=\"M0 0h24v24H0V0z\" fill=\"none\"/>\n",
              "    <path d=\"M18.56 5.44l.94 2.06.94-2.06 2.06-.94-2.06-.94-.94-2.06-.94 2.06-2.06.94zm-11 1L8.5 8.5l.94-2.06 2.06-.94-2.06-.94L8.5 2.5l-.94 2.06-2.06.94zm10 10l.94 2.06.94-2.06 2.06-.94-2.06-.94-.94-2.06-.94 2.06-2.06.94z\"/><path d=\"M17.41 7.96l-1.37-1.37c-.4-.4-.92-.59-1.43-.59-.52 0-1.04.2-1.43.59L10.3 9.45l-7.72 7.72c-.78.78-.78 2.05 0 2.83L4 21.41c.39.39.9.59 1.41.59.51 0 1.02-.2 1.41-.59l7.78-7.78 2.81-2.81c.8-.78.8-2.07 0-2.86zM5.41 20L4 18.59l7.72-7.72 1.47 1.35L5.41 20z\"/>\n",
              "  </svg>\n",
              "      </button>\n",
              "      \n",
              "  <style>\n",
              "    .colab-df-container {\n",
              "      display:flex;\n",
              "      flex-wrap:wrap;\n",
              "      gap: 12px;\n",
              "    }\n",
              "\n",
              "    .colab-df-convert {\n",
              "      background-color: #E8F0FE;\n",
              "      border: none;\n",
              "      border-radius: 50%;\n",
              "      cursor: pointer;\n",
              "      display: none;\n",
              "      fill: #1967D2;\n",
              "      height: 32px;\n",
              "      padding: 0 0 0 0;\n",
              "      width: 32px;\n",
              "    }\n",
              "\n",
              "    .colab-df-convert:hover {\n",
              "      background-color: #E2EBFA;\n",
              "      box-shadow: 0px 1px 2px rgba(60, 64, 67, 0.3), 0px 1px 3px 1px rgba(60, 64, 67, 0.15);\n",
              "      fill: #174EA6;\n",
              "    }\n",
              "\n",
              "    [theme=dark] .colab-df-convert {\n",
              "      background-color: #3B4455;\n",
              "      fill: #D2E3FC;\n",
              "    }\n",
              "\n",
              "    [theme=dark] .colab-df-convert:hover {\n",
              "      background-color: #434B5C;\n",
              "      box-shadow: 0px 1px 3px 1px rgba(0, 0, 0, 0.15);\n",
              "      filter: drop-shadow(0px 1px 2px rgba(0, 0, 0, 0.3));\n",
              "      fill: #FFFFFF;\n",
              "    }\n",
              "  </style>\n",
              "\n",
              "      <script>\n",
              "        const buttonEl =\n",
              "          document.querySelector('#df-eba7217f-9100-4515-a05c-f51ec2c805fb button.colab-df-convert');\n",
              "        buttonEl.style.display =\n",
              "          google.colab.kernel.accessAllowed ? 'block' : 'none';\n",
              "\n",
              "        async function convertToInteractive(key) {\n",
              "          const element = document.querySelector('#df-eba7217f-9100-4515-a05c-f51ec2c805fb');\n",
              "          const dataTable =\n",
              "            await google.colab.kernel.invokeFunction('convertToInteractive',\n",
              "                                                     [key], {});\n",
              "          if (!dataTable) return;\n",
              "\n",
              "          const docLinkHtml = 'Like what you see? Visit the ' +\n",
              "            '<a target=\"_blank\" href=https://colab.research.google.com/notebooks/data_table.ipynb>data table notebook</a>'\n",
              "            + ' to learn more about interactive tables.';\n",
              "          element.innerHTML = '';\n",
              "          dataTable['output_type'] = 'display_data';\n",
              "          await google.colab.output.renderOutput(dataTable, element);\n",
              "          const docLink = document.createElement('div');\n",
              "          docLink.innerHTML = docLinkHtml;\n",
              "          element.appendChild(docLink);\n",
              "        }\n",
              "      </script>\n",
              "    </div>\n",
              "  </div>\n",
              "  "
            ]
          },
          "metadata": {},
          "execution_count": 8
        }
      ]
    },
    {
      "cell_type": "markdown",
      "source": [
        "Ahora podemos seguir los mismos pasos que dimos antes para calcular el estadístico chi-cuadrado, el valor crítico y el valor p:"
      ],
      "metadata": {
        "id": "sigT1CChkPtT"
      }
    },
    {
      "cell_type": "code",
      "source": [
        "chi_squared_stat = (((observed-expected)**2)/expected).sum().sum()\n",
        "\n",
        "print(chi_squared_stat)"
      ],
      "metadata": {
        "id": "gYpEkOLTkSWm",
        "colab": {
          "base_uri": "https://localhost:8080/"
        },
        "outputId": "7aec0a4b-c83c-4627-9ae3-1511bef501a2"
      },
      "execution_count": null,
      "outputs": [
        {
          "output_type": "stream",
          "name": "stdout",
          "text": [
            "7.169321280162059\n"
          ]
        }
      ]
    },
    {
      "cell_type": "markdown",
      "source": [
        "Nota: Llamamos a .sum() dos veces: una para obtener las sumas de las columnas y una segunda vez para sumar las sumas de las columnas, devolviendo la suma de toda la tabla 2D."
      ],
      "metadata": {
        "id": "C_ttvsfdkWxs"
      }
    },
    {
      "cell_type": "code",
      "source": [
        "crit = stats.chi2.ppf(q = 0.95, # Find the critical value for 95% confidence*\n",
        "                      df = 8)   # *\n",
        "\n",
        "print(\"Critical value\")\n",
        "print(crit)\n",
        "\n",
        "p_value = 1 - stats.chi2.cdf(x=chi_squared_stat,  # Find the p-value\n",
        "                             df=8)\n",
        "print(\"P value\")\n",
        "print(p_value)"
      ],
      "metadata": {
        "id": "kDwkE1wkkY5c",
        "colab": {
          "base_uri": "https://localhost:8080/"
        },
        "outputId": "7ef0169d-5054-46ea-929a-d8ac2d3785af"
      },
      "execution_count": null,
      "outputs": [
        {
          "output_type": "stream",
          "name": "stdout",
          "text": [
            "Critical value\n",
            "15.50731305586545\n",
            "P value\n",
            "0.518479392948842\n"
          ]
        }
      ]
    },
    {
      "cell_type": "markdown",
      "source": [
        "Nota: Los grados de libertad para una prueba de independencia son iguales al producto del número de categorías en cada variable menos 1. En este caso tenemos una tabla de 5x3 por lo que df = 4x2 = 8.\n",
        "\n",
        "Al igual que con la prueba de bondad de ajuste, podemos usar scipy para realizar una prueba de independencia rápidamente. Use la función stats.chi2_contingency() para realizar una prueba de independencia automáticamente dada una tabla de frecuencia de conteos observados:"
      ],
      "metadata": {
        "id": "973OBkV3keBS"
      }
    },
    {
      "cell_type": "code",
      "source": [
        "stats.chi2_contingency(observed= observed)"
      ],
      "metadata": {
        "id": "6mxqEEGnkhiq",
        "colab": {
          "base_uri": "https://localhost:8080/"
        },
        "outputId": "3268a545-dcba-4d5f-923e-3a257a18cd3b"
      },
      "execution_count": null,
      "outputs": [
        {
          "output_type": "execute_result",
          "data": {
            "text/plain": [
              "(7.169321280162059, 0.518479392948842, 8, array([[ 23.82 ,  11.16 ,  25.02 ],\n",
              "        [ 61.138,  28.644,  64.218],\n",
              "        [ 99.647,  46.686, 104.667],\n",
              "        [ 15.086,   7.068,  15.846],\n",
              "        [197.309,  92.442, 207.249]]))"
            ]
          },
          "metadata": {},
          "execution_count": 11
        }
      ]
    },
    {
      "cell_type": "markdown",
      "source": [
        "La salida muestra la estadística de chi-cuadrado, el valor p y los grados de libertad seguidos de los recuentos esperados.\n",
        "\n",
        "Como era de esperar, dado el alto valor de p, el resultado de la prueba no detecta una relación significativa entre las variables."
      ],
      "metadata": {
        "id": "_52czj_skoQR"
      }
    },
    {
      "cell_type": "markdown",
      "source": [
        "# Resumen\n",
        "Las pruebas de chi-cuadrado proporcionan una forma de investigar las diferencias en las distribuciones de variables categóricas con las mismas categorías y la dependencia entre variables categóricas. En la próxima lección, aprenderemos sobre una tercera prueba de inferencia estadística, el análisis de varianza, que nos permite comparar varias medias de muestra al mismo tiempo."
      ],
      "metadata": {
        "id": "-c86LH24kw8K"
      }
    }
  ]
}