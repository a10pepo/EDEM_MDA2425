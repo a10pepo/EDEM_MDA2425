{
  "nbformat": 4,
  "nbformat_minor": 0,
  "metadata": {
    "colab": {
      "provenance": []
    },
    "kernelspec": {
      "name": "python3",
      "display_name": "Python 3"
    },
    "language_info": {
      "name": "python"
    }
  },
  "cells": [
    {
      "cell_type": "markdown",
      "source": [
        "#Inferencia estadística con estimación\n",
        "La inferencia estadística es el proceso de analizar datos de muestra para obtener información sobre la población de la que se recopilaron los datos. En el análisis de datos, a menudo nos interesan las características de una gran población, pero la recopilación de los datos completos de ella suele ser inviable. Por ejemplo, antes de las elecciones presidenciales podría ser muy útil conocer las inclinaciones políticas de cada votante, pero encuestar a todos ellos normalmente no es factible. En su lugar, podríamos encuestar a algún subconjunto de la población, por ejemplo mil votantes y usar esos datos para hacer inferencia sobre la población en su conjunto."
      ],
      "metadata": {
        "id": "CfNd3OY6W2JL"
      }
    },
    {
      "cell_type": "markdown",
      "source": [
        "#Estimación puntual\n",
        "\n",
        "Las estimaciones puntuales son estimaciones de parámetros de población basadas en datos de muestra. Por ejemplo, si quisiéramos saber la edad promedio de los votantes, podríamos realizar una encuesta y luego usar la edad promedio de los encuestados como una estimación puntual de la edad promedio de la población en general. El promedio de una muestra se conoce como media muestral.\n",
        "\n",
        "La media muestral no suele ser exactamente igual a la media poblacional. Esta diferencia puede deberse a muchos factores, incluido el diseño deficiente de la encuesta, los métodos de muestreo sesgados y la aleatoriedad inherente a la extracción de una muestra de una población.\n",
        "\n",
        " Investiguemos las estimaciones puntuales generando una población de datos de edad aleatorios y luego extrayendo una muestra para estimar la media:"
      ],
      "metadata": {
        "id": "75HceyWEXQfR"
      }
    },
    {
      "cell_type": "code",
      "source": [
        "%matplotlib inline\n",
        "\n",
        "import numpy as np\n",
        "import pandas as pd\n",
        "import scipy.stats as stats\n",
        "import matplotlib.pyplot as plt\n",
        "import random\n",
        "import math"
      ],
      "metadata": {
        "id": "d_3AyVgQY2QZ"
      },
      "execution_count": null,
      "outputs": []
    },
    {
      "cell_type": "code",
      "source": [
        "np.random.seed(10)\n",
        "population_ages1 = stats.poisson.rvs(loc=18, mu=35, size=150000)\n",
        "population_ages2 = stats.poisson.rvs(loc=18, mu=10, size=100000)\n",
        "population_ages = np.concatenate((population_ages1, population_ages2))\n",
        "\n",
        "population_ages.mean()"
      ],
      "metadata": {
        "colab": {
          "base_uri": "https://localhost:8080/"
        },
        "id": "mXEgYH5SY7NB",
        "outputId": "b49ada72-cfb0-4bab-dc40-9cbc635e7a6f"
      },
      "execution_count": null,
      "outputs": [
        {
          "output_type": "execute_result",
          "data": {
            "text/plain": [
              "43.002372"
            ]
          },
          "metadata": {},
          "execution_count": 2
        }
      ]
    },
    {
      "cell_type": "code",
      "source": [
        "np.random.seed(6)\n",
        "sample_ages = np.random.choice(a= population_ages,\n",
        "                               size=500)            # Sample 500 values\n",
        "\n",
        "print ( sample_ages.mean() )                         # Show sample mean\n",
        "\n",
        "population_ages.mean() - sample_ages.mean()   # Check difference between means"
      ],
      "metadata": {
        "colab": {
          "base_uri": "https://localhost:8080/"
        },
        "id": "ekZMBNyVZI2y",
        "outputId": "a026a540-3f01-4364-800d-2aa8b013ffb9"
      },
      "execution_count": null,
      "outputs": [
        {
          "output_type": "stream",
          "name": "stdout",
          "text": [
            "42.388\n"
          ]
        },
        {
          "output_type": "execute_result",
          "data": {
            "text/plain": [
              "0.614372000000003"
            ]
          },
          "metadata": {},
          "execution_count": 3
        }
      ]
    },
    {
      "cell_type": "markdown",
      "source": [
        "Nuestra estimación puntual basada en una muestra de 500 individuos subestima la verdadera media de la población en 0.6 años, pero está cerca. Esto ilustra un punto importante: **podemos obtener una estimación bastante precisa de una gran población muestreando un subconjunto relativamente pequeño de individuos**.\n",
        "\n",
        "Otra estimación puntual que puede ser de interés es la proporción de la población que pertenece a alguna categoría o subgrupo. Por ejemplo, nos gustaría saber la raza de cada votante que encuestamos, para tener una idea de la demografía general de la base de votantes. Puede hacer una estimación puntual de este tipo de proporción tomando una muestra y luego verificando la proporción en la muestra:"
      ],
      "metadata": {
        "id": "kFXiRrU5ZT-r"
      }
    },
    {
      "cell_type": "code",
      "source": [
        "random.seed(10)\n",
        "population_races = ([\"white\"]*100000) + ([\"black\"]*50000) +\\\n",
        "                   ([\"hispanic\"]*50000) + ([\"asian\"]*25000) +\\\n",
        "                   ([\"other\"]*25000)\n",
        "\n",
        "demo_sample = random.sample(population_races, 1000)   # Sample 1000 values of the 2500000 total\n",
        "\n",
        "for race in set(demo_sample):\n",
        "    print( race + \" proportion estimate:\" )\n",
        "    print( demo_sample.count(race)/1000 )"
      ],
      "metadata": {
        "colab": {
          "base_uri": "https://localhost:8080/"
        },
        "id": "_HEQuMhOZag3",
        "outputId": "3c3c8896-31a5-4ec6-c392-6c8489d93982"
      },
      "execution_count": null,
      "outputs": [
        {
          "output_type": "stream",
          "name": "stdout",
          "text": [
            "other proportion estimate:\n",
            "0.099\n",
            "hispanic proportion estimate:\n",
            "0.192\n",
            "black proportion estimate:\n",
            "0.231\n",
            "white proportion estimate:\n",
            "0.379\n",
            "asian proportion estimate:\n",
            "0.099\n"
          ]
        }
      ]
    },
    {
      "cell_type": "markdown",
      "source": [
        "Se observa que las estimaciones de proporción están cerca de las verdaderas proporciones de la población subyacente."
      ],
      "metadata": {
        "id": "2mYq7P9yZmaR"
      }
    },
    {
      "cell_type": "markdown",
      "source": [
        "# Distribuciones de muestreo y el teorema central del límite\n",
        "Muchos procedimientos estadísticos asumen que los datos siguen una distribución normal. Esto es porque la distribución normal tiene buenas propiedades como la simetría y tener la mayoría de los datos agrupados dentro de unas pocas desviaciones estándar de la media. Desafortunadamente, los datos del mundo real a menudo no se distribuyen normalmente y la distribución de una muestra tiende a reflejar la distribución de la población. Esto significa que una muestra tomada de una población con una distribución sesgada también tenderá a estar sesgada. Investiguemos trazando los datos y la muestra que creamos anteriormente y comprobando el sesgo:"
      ],
      "metadata": {
        "id": "LMvR285WZr6g"
      }
    },
    {
      "cell_type": "code",
      "source": [
        "pd.DataFrame(population_ages).hist(bins=58,\n",
        "                                  range=(17.5,75.5),\n",
        "                                  figsize=(9,9))\n",
        "\n",
        "print( stats.skew(population_ages) );"
      ],
      "metadata": {
        "colab": {
          "base_uri": "https://localhost:8080/",
          "height": 570
        },
        "id": "QQLVv2PQaAyf",
        "outputId": "06f04416-fbc5-410a-fa6e-8aac797f0352"
      },
      "execution_count": null,
      "outputs": [
        {
          "output_type": "stream",
          "name": "stdout",
          "text": [
            "-0.12008483603917186\n"
          ]
        },
        {
          "output_type": "display_data",
          "data": {
            "text/plain": [
              "<Figure size 648x648 with 1 Axes>"
            ],
            "image/png": "[encoded data removed]"
          },
          "metadata": {
            "needs_background": "light"
          }
        }
      ]
    },
    {
      "cell_type": "markdown",
      "source": [
        "La distribución tiene poca asimetría, pero el gráfico revela que los datos claramente no son normales: en lugar de una curva de campana simétrica, tiene una distribución bimodal con dos picos de alta densidad. La muestra que extrajimos de esta población debería tener aproximadamente la misma forma y sesgo:"
      ],
      "metadata": {
        "id": "ySjn0E47aDUV"
      }
    },
    {
      "cell_type": "code",
      "source": [
        "pd.DataFrame(sample_ages).hist(bins=58,\n",
        "                                  range=(17.5,75.5),\n",
        "                                  figsize=(9,9));\n",
        "\n",
        "print( stats.skew(sample_ages) )"
      ],
      "metadata": {
        "colab": {
          "base_uri": "https://localhost:8080/",
          "height": 570
        },
        "id": "ZmJ1qSPJaINV",
        "outputId": "5c9912d5-42cd-4c72-8e8f-094305c5874d"
      },
      "execution_count": null,
      "outputs": [
        {
          "output_type": "stream",
          "name": "stdout",
          "text": [
            "-0.056225282585406065\n"
          ]
        },
        {
          "output_type": "display_data",
          "data": {
            "text/plain": [
              "<Figure size 648x648 with 1 Axes>"
            ],
            "image/png": "[encoded data removed]"
          },
          "metadata": {
            "needs_background": "light"
          }
        }
      ]
    },
    {
      "cell_type": "markdown",
      "source": [
        "La muestra tiene aproximadamente la misma forma que la población subyacente. Esto sugiere que no podemos aplicar técnicas que supongan una distribución normal a este conjunto de datos, ya que no es normal. No obstante, contamos con el teorema central del límite.\n",
        "\n",
        "El teorema central del límite es uno de los resultados más importantes de la teoría de la probabilidad y sirve como base de muchos métodos de análisis estadístico. En un nivel alto, la teoría establece que la distribución de muchas medias muestrales, conocida como distribución en el muestreo, se distribuirá normalmente. Esta regla se cumple incluso si la distribución subyacente en sí misma no se distribuye normalmente. Como resultado, podemos tratar la media de la muestra como si fuera una distribución normal.\n",
        "\n",
        "Para ilustrar, vamos a crear una distribución de muestreo tomando 200 muestras de nuestra población y luego haciendo estimaciones de 200 puntos de la media:"
      ],
      "metadata": {
        "id": "_wX5nrDfaOqt"
      }
    },
    {
      "cell_type": "code",
      "source": [
        "np.random.seed(10)\n",
        "\n",
        "point_estimates = []         # Make empty list to hold point estimates\n",
        "\n",
        "for x in range(200):         # Generate 200 samples\n",
        "    sample = np.random.choice(a= population_ages, size=500)\n",
        "    point_estimates.append( sample.mean() )\n",
        "\n",
        "pd.DataFrame(point_estimates).plot(kind=\"density\",  # Plot sample mean density\n",
        "                                   figsize=(9,9),\n",
        "                                   xlim=(41,45));"
      ],
      "metadata": {
        "colab": {
          "base_uri": "https://localhost:8080/",
          "height": 537
        },
        "id": "GYvvtrYDabT9",
        "outputId": "77f8b1ed-d0e3-4000-efbd-2ac37a1625d4"
      },
      "execution_count": null,
      "outputs": [
        {
          "output_type": "display_data",
          "data": {
            "text/plain": [
              "<Figure size 648x648 with 1 Axes>"
            ],
            "image/png": "[encoded data removed]"
          },
          "metadata": {
            "needs_background": "light"
          }
        }
      ]
    },
    {
      "cell_type": "markdown",
      "source": [
        "La distribución de muestreo parece ser más o menos normal, a pesar de la distribución de población bimodal de la que se extrajeron las muestras. Además, la media de la distribución muestral se aproxima a la verdadera media poblacional:"
      ],
      "metadata": {
        "id": "q4YOzlkZahOk"
      }
    },
    {
      "cell_type": "code",
      "source": [
        "population_ages.mean() - np.array(point_estimates).mean()"
      ],
      "metadata": {
        "colab": {
          "base_uri": "https://localhost:8080/"
        },
        "id": "wHxdxv2xakbN",
        "outputId": "f371aa50-dea7-4f5a-8895-7511d0a6894c"
      },
      "execution_count": null,
      "outputs": [
        {
          "output_type": "execute_result",
          "data": {
            "text/plain": [
              "-0.08440799999999626"
            ]
          },
          "metadata": {},
          "execution_count": 8
        }
      ]
    },
    {
      "cell_type": "markdown",
      "source": [
        "Cuantas más muestras tomemos, mejor será probablemente nuestra estimación del parámetro de la población."
      ],
      "metadata": {
        "id": "YlJFNdpraqQN"
      }
    },
    {
      "cell_type": "markdown",
      "source": [
        "#Intervalos de confianza\n",
        "Una estimación puntual puede darle una idea aproximada de un parámetro de población como la media, pero las estimaciones son propensas a errores y puede que no sea factible tomar varias muestras para obtener estimaciones mejoradas. Un intervalo de confianza es un rango de valores por encima y por debajo de una estimación puntual que captura el verdadero parámetro de la población en algún nivel de confianza predeterminado. Por ejemplo, si deseamos tener un 95 % de posibilidades de capturar el parámetro de población real con una estimación puntual y un intervalo de confianza correspondiente, estableceriamos su nivel de confianza en 95 %. Los niveles de confianza más altos dan como resultado intervalos de confianza más amplios.\n",
        "\n",
        "Calculamos un intervalo de confianza tomando una estimación puntual y luego sumando y restando un margen de error para crear un rango. El margen de error se basa en el nivel de confianza deseado, la dispersión de los datos y el tamaño de la muestra. La forma en que se calcula el margen de error depende de si conoce o no la desviación estándar de la población.\n",
        "\n",
        "Si conoce la desviación estándar de la población, el margen de error es igual a:\n",
        "\n",
        "\n",
        "\n",
        "\n",
        "\n",
        "\n",
        "\n",
        "> z $*$ $\\dfrac{\\sigma}{\\sqrt{n}}$\n",
        "\n",
        "\n",
        "\n",
        "Donde $\\sigma$ (sigma) es la desviación estándar de la población, n es el tamaño de la muestra y z es un número conocido como valor crítico z. El valor crítico z es el número de desviaciones estándar que tendría que pasar de la media de la distribución normal para capturar la proporción de los datos asociados con el nivel de confianza deseado. Por ejemplo, sabemos que aproximadamente el 95 % de los datos en una distribución normal se encuentran dentro de 2 desviaciones estándar de la media, por lo que podríamos usar 2 como el valor crítico z para un intervalo de confianza del 95 % (aunque es más exacto obtener valores críticos z con stats.norm.ppf().).\n",
        "\n",
        "Calculamos una confianza del 95 % para nuestra estimación puntual media:"
      ],
      "metadata": {
        "id": "6oW6gS1Ea2HN"
      }
    },
    {
      "cell_type": "code",
      "source": [
        "np.random.seed(10)\n",
        "\n",
        "sample_size = 1000\n",
        "sample = np.random.choice(a= population_ages, size = sample_size)\n",
        "sample_mean = sample.mean()\n",
        "\n",
        "z_critical = stats.norm.ppf(q = 0.975)  # Get the z-critical value*\n",
        "\n",
        "print(\"z-critical value:\")              # Check the z-critical value\n",
        "print(z_critical)\n",
        "\n",
        "pop_stdev = population_ages.std()  # Get the population standard deviation\n",
        "\n",
        "margin_of_error = z_.critical * (pop_stdev/math.sqrt(sample_size))\n",
        "\n",
        "confidence_interval = (sample_mean - margin_of_error,\n",
        "                       sample_mean + margin_of_error)\n",
        "\n",
        "print(\"Confidence interval:\")\n",
        "print(confidence_interval)"
      ],
      "metadata": {
        "colab": {
          "base_uri": "https://localhost:8080/"
        },
        "id": "1efY7TfYdI6d",
        "outputId": "92b1e6bc-e22f-4c94-d47b-f4331731dbf1"
      },
      "execution_count": null,
      "outputs": [
        {
          "output_type": "stream",
          "name": "stdout",
          "text": [
            "z-critical value:\n",
            "1.959963984540054\n",
            "Confidence interval:\n",
            "(41.70306406882683, 43.34293593117317)\n"
          ]
        }
      ]
    },
    {
      "cell_type": "markdown",
      "source": [
        "Nota: Usamos stats.norm.ppf(q = 0.975) para obtener el valor crítico z deseado en lugar de q = 0.95 porque la distribución tiene dos colas.\n",
        "\n",
        "Observe que el intervalo de confianza que calculamos captura la verdadera media poblacional de 43.0023."
      ],
      "metadata": {
        "id": "jejy716A8OF5"
      }
    },
    {
      "cell_type": "markdown",
      "source": [
        "Vamos a crear varios intervalos de confianza y trazarlos para tener una mejor idea de lo que significa \"capturar\" la verdadera media:"
      ],
      "metadata": {
        "id": "-l8JwOSldTEf"
      }
    },
    {
      "cell_type": "code",
      "source": [
        "np.random.seed(12)\n",
        "\n",
        "sample_size = 1000\n",
        "\n",
        "intervals = []\n",
        "sample_means = []\n",
        "\n",
        "for sample in range(25):\n",
        "    sample = np.random.choice(a= population_ages, size = sample_size)\n",
        "    sample_mean = sample.mean()\n",
        "    sample_means.append(sample_mean)\n",
        "\n",
        "    z_critical = stats.norm.ppf(q = 0.975)  # Get the z-critical value*\n",
        "\n",
        "    pop_stdev = population_ages.std()  # Get the population standard deviation\n",
        "\n",
        "    stats.norm.ppf(q = 0.025)\n",
        "\n",
        "    margin_of_error = z_critical * (pop_stdev/math.sqrt(sample_size))\n",
        "\n",
        "    confidence_interval = (sample_mean - margin_of_error,\n",
        "                           sample_mean + margin_of_error)\n",
        "\n",
        "    intervals.append(confidence_interval)"
      ],
      "metadata": {
        "id": "z301CCmUdY6K"
      },
      "execution_count": null,
      "outputs": []
    },
    {
      "cell_type": "code",
      "source": [
        "plt.figure(figsize=(9,9))\n",
        "\n",
        "plt.errorbar(x=np.arange(0.1, 25, 1),\n",
        "             y=sample_means,\n",
        "             yerr=[(top-bot)/2 for top,bot in intervals],\n",
        "             fmt='o')\n",
        "\n",
        "plt.hlines(xmin=0, xmax=25,\n",
        "           y=43.0023,\n",
        "           linewidth=2.0,\n",
        "           color=\"red\");"
      ],
      "metadata": {
        "colab": {
          "base_uri": "https://localhost:8080/",
          "height": 537
        },
        "id": "6TpScNHqdbZ3",
        "outputId": "c4aa7329-a4ba-48b0-96a2-396860fa5023"
      },
      "execution_count": null,
      "outputs": [
        {
          "output_type": "display_data",
          "data": {
            "text/plain": [
              "<Figure size 648x648 with 1 Axes>"
            ],
            "image/png": "[encoded data removed]"
          },
          "metadata": {
            "needs_background": "light"
          }
        }
      ]
    },
    {
      "cell_type": "markdown",
      "source": [
        "Observe que en el gráfico anterior, todos menos uno de los intervalos de confianza del 95 % se superponen a la línea roja que marca la media verdadera. Esto es de esperar: dado que un intervalo de confianza del 95 % captura la media real el 95 % de las veces, esperaríamos que nuestro intervalo pierda la media real el 5 % de las veces.\n",
        "\n",
        "Si no se conoce la desviación estándar de la población, se debe usar la desviación estándar de su muestra como sustituto al crear intervalos de confianza. Dado que la desviación estándar de la muestra puede no coincidir con el parámetro de la población, el intervalo tendrá más error cuando no se conozca la desviación estándar de la población. Para dar cuenta de este error, usamos lo que se conoce como valor crítico t en lugar del valor crítico z. El valor t-crítico se extrae de lo que se conoce como distribución t, una distribución que se parece mucho a la distribución normal pero que se hace más y más ancha a medida que disminuye el tamaño de la muestra. La distribución t está disponible en scipy.stats con el apodo \"t\" para que podamos obtener valores críticos de t con stats.t.ppf().\n",
        "\n",
        "Tomamos una muestra nueva y más pequeña y luego creemos un intervalo de confianza sin la desviación estándar de la población, usando la distribución t:"
      ],
      "metadata": {
        "id": "gkFgf4Idded6"
      }
    },
    {
      "cell_type": "code",
      "source": [
        "np.random.seed(10)\n",
        "\n",
        "sample_size = 25\n",
        "sample = np.random.choice(a= population_ages, size = sample_size)\n",
        "sample_mean = sample.mean()\n",
        "\n",
        "t_critical = stats.t.ppf(q = 0.975, df=24)  # Get the t-critical value*\n",
        "\n",
        "print(\"t-critical value:\")                  # Check the t-critical value\n",
        "print(t_critical)\n",
        "\n",
        "sample_stdev = sample.std(ddof=1)    # Get the sample standard deviation\n",
        "\n",
        "sigma = sample_stdev/math.sqrt(sample_size)  # Standard deviation estimate\n",
        "margin_of_error = t_critical * sigma\n",
        "\n",
        "confidence_interval = (sample_mean - margin_of_error,\n",
        "                       sample_mean + margin_of_error)\n",
        "\n",
        "print(\"Confidence interval:\")\n",
        "print(confidence_interval)"
      ],
      "metadata": {
        "colab": {
          "base_uri": "https://localhost:8080/"
        },
        "id": "cBrULdxvdlNE",
        "outputId": "3ae25142-c137-423c-dac8-bd6888a150ee"
      },
      "execution_count": null,
      "outputs": [
        {
          "output_type": "stream",
          "name": "stdout",
          "text": [
            "t-critical value:\n",
            "2.0638985616280205\n",
            "Confidence interval:\n",
            "(37.65147508161371, 48.108524918386294)\n"
          ]
        }
      ]
    },
    {
      "cell_type": "markdown",
      "source": [
        "Nota: al usar la distribución t, debe proporcionar los grados de libertad (df). Para este tipo de prueba, los grados de libertad son iguales al tamaño de la muestra menos 1. Si tiene un tamaño de muestra grande, la distribución t se aproxima a la distribución normal.\n",
        "\n",
        "Observe que el valor crítico t es mayor que el valor crítico z que usamos para el intervalo de confianza del 95 %. Esto permite que el intervalo de confianza arroje una red más grande para compensar la variabilidad causada por el uso de la desviación estándar de la muestra en lugar de la desviación estándar de la población. El resultado final es un intervalo de confianza mucho más amplio (un intervalo con un mayor margen de error).\n",
        "\n",
        "Si tiene una muestra grande, el valor t-crítico se acercará al valor z-crítico, por lo que hay poca diferencia entre usar la distribución normal y la distribución t:"
      ],
      "metadata": {
        "id": "l3gsaCF4fHYt"
      }
    },
    {
      "cell_type": "markdown",
      "source": [
        "En lugar de calcular a mano un intervalo de confianza para una estimación puntual media, puede calcularlo utilizando la función de Python stats.t.interval():"
      ],
      "metadata": {
        "id": "wBRRLJAOfbeT"
      }
    },
    {
      "cell_type": "code",
      "source": [
        "stats.t.interval(alpha = 0.95,              # Confidence level\n",
        "                 df= 24,                    # Degrees of freedom\n",
        "                 loc = sample_mean,         # Sample mean\n",
        "                 scale = sigma)             # Standard deviation estimate\n"
      ],
      "metadata": {
        "colab": {
          "base_uri": "https://localhost:8080/"
        },
        "id": "pjNMrSbgfli7",
        "outputId": "30b706e0-4c3f-46b4-c874-9a3182381834"
      },
      "execution_count": null,
      "outputs": [
        {
          "output_type": "execute_result",
          "data": {
            "text/plain": [
              "(37.65147508161371, 48.108524918386294)"
            ]
          },
          "metadata": {},
          "execution_count": 19
        }
      ]
    },
    {
      "cell_type": "markdown",
      "source": [
        "También podemos hacer un intervalo de confianza para una estimación puntual de una proporción de la población. En este caso, el margen de error es igual a:\n",
        "\n",
        "> z $*$ $\\sqrt{ \\dfrac{p(1-p)}{n}}$"
      ],
      "metadata": {
        "id": "KbxEWT9MfusE"
      }
    },
    {
      "cell_type": "markdown",
      "source": [
        "Donde z es el valor crítico z para nuestro nivel de confianza, p es la estimación puntual de la proporción de la población y n es el tamaño de la muestra. Calculemos un intervalo de confianza del 95 % para los hispanos según la proporción muestral que calculamos anteriormente (0,192):"
      ],
      "metadata": {
        "id": "8EKGvkEWfz0y"
      }
    },
    {
      "cell_type": "code",
      "source": [
        "z_critical = stats.norm.ppf(0.975)      # Record z-critical value\n",
        "\n",
        "p = 0.192                               # Point estimate of proportion\n",
        "\n",
        "n = 1000                                # Sample size\n",
        "\n",
        "margin_of_error = z_critical * math.sqrt((p*(1-p))/n)\n",
        "\n",
        "confidence_interval = (p - margin_of_error,  # Calculate the the interval\n",
        "                       p + margin_of_error)\n",
        "\n",
        "confidence_interval"
      ],
      "metadata": {
        "id": "zFLEBNqBf4La",
        "colab": {
          "base_uri": "https://localhost:8080/"
        },
        "outputId": "065cb0c6-9343-40f1-a267-e6b545f52f2a"
      },
      "execution_count": null,
      "outputs": [
        {
          "output_type": "execute_result",
          "data": {
            "text/plain": [
              "(0.16758794241348748, 0.21641205758651252)"
            ]
          },
          "metadata": {},
          "execution_count": 11
        }
      ]
    },
    {
      "cell_type": "markdown",
      "source": [
        "El resultado muestra que el intervalo de confianza capturó el parámetro de población real de 0,2. Similar a nuestras estimaciones puntuales de la media de la población, podemos usar la función scipy stats.distribution.interval() para calcular un intervalo de confianza para una proporción de la población para nosotros. En este caso estaban trabajando con valores z-críticos por lo que queremos trabajar con la distribución normal en lugar de la distribución t:"
      ],
      "metadata": {
        "id": "_2y6Xdmnf9OT"
      }
    },
    {
      "cell_type": "code",
      "source": [
        "stats.norm.interval(alpha = 0.95,    # Confidence level\n",
        "                   loc =  0.192,     # Point estimate of proportion\n",
        "                   scale = math.sqrt((p*(1-p))/n))  # Scaling factor"
      ],
      "metadata": {
        "id": "a3jwMEzfgAj0",
        "colab": {
          "base_uri": "https://localhost:8080/"
        },
        "outputId": "dae1e336-a0ee-4c35-8ef9-cc762a9914fa"
      },
      "execution_count": null,
      "outputs": [
        {
          "output_type": "execute_result",
          "data": {
            "text/plain": [
              "(0.16758794241348748, 0.21641205758651252)"
            ]
          },
          "metadata": {},
          "execution_count": 4
        }
      ]
    },
    {
      "cell_type": "markdown",
      "source": [
        "Para el ejemplo anterior de la población también podríamos haber utilizado una función similar. En lugar de calcular a mano un intervalo de confianza para una estimación puntual media, puede calcularlo utilizando la función de Python stats.norm.interval():"
      ],
      "metadata": {
        "id": "WtiO6gGl74Uf"
      }
    },
    {
      "cell_type": "code",
      "source": [
        "stats.norm.interval(alpha=0.95,loc=sample_mean,scale=pop_stdev/math.sqrt(sample_size))"
      ],
      "metadata": {
        "colab": {
          "base_uri": "https://localhost:8080/"
        },
        "id": "NYbym-eK7i5l",
        "outputId": "e86e279b-3e03-41ff-fbf8-91466f9ad7fa"
      },
      "execution_count": null,
      "outputs": [
        {
          "output_type": "execute_result",
          "data": {
            "text/plain": [
              "(37.69426984416345, 48.065730155836555)"
            ]
          },
          "metadata": {},
          "execution_count": 21
        }
      ]
    },
    {
      "cell_type": "markdown",
      "source": [
        "#Resumen\n",
        "Estimar los parámetros de la población a través del muestreo es una forma de inferencia simple pero poderosa. Las estimaciones puntuales combinadas con márgenes de error nos permiten crear intervalos de confianza que capturan el parámetro de población real con alta probabilidad.\n"
      ],
      "metadata": {
        "id": "IErr7CwygEGj"
      }
    }
  ]
}