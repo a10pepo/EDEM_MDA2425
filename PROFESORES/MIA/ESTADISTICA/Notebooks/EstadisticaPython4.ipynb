{
  "nbformat": 4,
  "nbformat_minor": 0,
  "metadata": {
    "colab": {
      "provenance": []
    },
    "kernelspec": {
      "name": "python3",
      "display_name": "Python 3"
    },
    "language_info": {
      "name": "python"
    }
  },
  "cells": [
    {
      "cell_type": "markdown",
      "source": [
        "#Contrastes de hipótesis"
      ],
      "metadata": {
        "id": "tLwu6--TyHLC"
      }
    },
    {
      "cell_type": "markdown",
      "source": [
        "## Básicos del contraste de hipótesis"
      ],
      "metadata": {
        "id": "ohYtUNQ2yWph"
      }
    },
    {
      "cell_type": "markdown",
      "source": [
        "Las estimaciones puntuales y los intervalos de confianza son herramientas de inferencia básicas que actúan como base para otra técnica de inferencia: la prueba de contraste de hipótesis. Los contrastes de hipótesis son un marco para determinar si los datos observados se desvían de lo esperado. La biblioteca scipy.stats de Python contiene una serie de funciones que facilitan la realización de dichas pruebas."
      ],
      "metadata": {
        "id": "bc9Yd2xKyB1M"
      }
    },
    {
      "cell_type": "markdown",
      "source": [
        "Los contrastes de hipótesis se basan en una declaración llamada hipótesis nula que asume que no sucede nada interesante entre las variables que está probando. La forma exacta de la hipótesis nula varía de un tipo de prueba a otra: si se está probando si los grupos difieren, la hipótesis nula establece que los grupos son iguales. Por ejemplo, si quisiera probar si la edad promedio de los votantes en su estado de origen difiere del promedio nacional, la hipótesis nula sería que no hay diferencia entre las edades promedio.\n",
        "\n",
        "El propósito de un contraste de hipótesis es determinar si es probable que la hipótesis nula sea cierta dados los datos de la muestra. Si hay poca evidencia en contra de la hipótesis nula dados los datos, acepta la hipótesis nula. Si la hipótesis nula es improbable dados los datos, se puede rechazar la hipótesis nula a favor de la hipótesis alternativa: \"algo interesante está sucediendo\". La forma exacta de la hipótesis alternativa dependerá de la prueba específica que esté realizando. Continuando con el ejemplo anterior, la hipótesis alternativa sería que la edad promedio de los votantes en su estado difiere del promedio nacional.\n",
        "\n",
        "Una vez que se tenga a mano la hipótesis nula y alternativa, se elige un nivel de significación (a menudo indicado por la letra griega α). El nivel de significación es un umbral de probabilidad que determina cuándo se rechaza la hipótesis nula. Después de realizar una prueba, si la probabilidad de obtener un resultado tan extremo como el que observas debido al azar es menor que el nivel de significancia, se rechaza la hipótesis nula a favor de la alternativa. Esta probabilidad de ver un resultado como extremo o más extremo que el observado se conoce como valor p.\n",
        "\n",
        "La prueba T es una prueba estadística utilizada para determinar si una muestra de datos numéricos difiere significativamente de la población o si dos muestras difieren entre sí."
      ],
      "metadata": {
        "id": "WNsPLuAKyK3x"
      }
    },
    {
      "cell_type": "markdown",
      "source": [
        "A parte del t-test, también contamos con el z test. No obstante, este test se utiliza cuando nuestra población es normal y conocemos el valor de la varianza poblacional (poco probable)."
      ],
      "metadata": {
        "id": "htsmU7VywC2x"
      }
    },
    {
      "cell_type": "code",
      "source": [
        "from statsmodels.stats.weightstats import ztest as ztest\n",
        "#ztest(dat1, dat2, value=0)"
      ],
      "metadata": {
        "id": "-1_ms1aIvzdo"
      },
      "execution_count": null,
      "outputs": []
    },
    {
      "cell_type": "markdown",
      "source": [
        "#T test con una población\n",
        "Una prueba t de una muestra verifica si la media de una muestra difiere de la media de la población. Vamos a crear algunos datos de edad ficticios para la población de votantes en todo el país y una muestra de votantes en Minnesota y probar si la edad promedio de los votantes de Minnesota difiere de la población:"
      ],
      "metadata": {
        "id": "eeFFdrDuyljy"
      }
    },
    {
      "cell_type": "code",
      "execution_count": null,
      "metadata": {
        "id": "xUl5EjGzwtYc"
      },
      "outputs": [],
      "source": [
        "%matplotlib inline\n",
        "\n",
        "import numpy as np\n",
        "import pandas as pd\n",
        "import scipy.stats as stats\n",
        "import matplotlib.pyplot as plt\n",
        "import math"
      ]
    },
    {
      "cell_type": "code",
      "source": [
        "np.random.seed(6)\n",
        "\n",
        "population_ages1 = stats.poisson.rvs(loc=18, mu=35, size=150000)\n",
        "population_ages2 = stats.poisson.rvs(loc=18, mu=10, size=100000)\n",
        "population_ages = np.concatenate((population_ages1, population_ages2))\n",
        "\n",
        "minnesota_ages1 = stats.poisson.rvs(loc=18, mu=30, size=30)\n",
        "minnesota_ages2 = stats.poisson.rvs(loc=18, mu=10, size=20)\n",
        "minnesota_ages = np.concatenate((minnesota_ages1, minnesota_ages2))\n",
        "\n",
        "print( population_ages.mean() )\n",
        "print( minnesota_ages.mean() )"
      ],
      "metadata": {
        "id": "aOAQndlIy8X7",
        "colab": {
          "base_uri": "https://localhost:8080/"
        },
        "outputId": "f3c4b69b-15fe-4433-b9d7-1ac738d458c1"
      },
      "execution_count": null,
      "outputs": [
        {
          "output_type": "stream",
          "name": "stdout",
          "text": [
            "43.000112\n",
            "39.26\n"
          ]
        }
      ]
    },
    {
      "cell_type": "markdown",
      "source": [
        "Se observa que usamos una combinación ligeramente diferente de distribuciones para generar los datos de muestra para Minnesota, por lo que sabemos que las dos medias son diferentes. Realicemos una prueba t con un nivel de confianza del 95% y veamos si rechaza correctamente la hipótesis nula de que la muestra proviene de la misma distribución que la población. Para realizar una prueba t de una muestra, podemos usar la función stats.ttest_1samp():"
      ],
      "metadata": {
        "id": "Nh0ilc5MzHhL"
      }
    },
    {
      "cell_type": "code",
      "source": [
        "stats.ttest_1samp(a = minnesota_ages,               # Sample data\n",
        "                 popmean = population_ages.mean())  # Pop mean"
      ],
      "metadata": {
        "id": "7obEMyQWzWmT",
        "colab": {
          "base_uri": "https://localhost:8080/"
        },
        "outputId": "93258702-8b57-4c28-a621-d9984984b905"
      },
      "execution_count": null,
      "outputs": [
        {
          "output_type": "execute_result",
          "data": {
            "text/plain": [
              "Ttest_1sampResult(statistic=-2.5742714883655027, pvalue=0.013118685425061678)"
            ]
          },
          "metadata": {},
          "execution_count": 3
        }
      ]
    },
    {
      "cell_type": "markdown",
      "source": [
        "El resultado de la prueba muestra que el estadístico \"t\" es igual a -2.574. Este estadístico nos dice cuánto se desvía la media muestral de la hipótesis nula. Si el estadístico t se encuentra fuera de los cuantiles de la distribución t correspondientes a nuestro nivel de confianza y grados de libertad, rechazamos la hipótesis nula. Podemos comprobar los cuantiles con stats.t.ppf():"
      ],
      "metadata": {
        "id": "5ovwY4wPzeWE"
      }
    },
    {
      "cell_type": "code",
      "source": [
        "stats.t.ppf(q=0.025,  # Quantile to check\n",
        "            df=49)  # Degrees of freedom"
      ],
      "metadata": {
        "id": "mgEatlzFzlGE",
        "colab": {
          "base_uri": "https://localhost:8080/"
        },
        "outputId": "e0464730-e54d-49cb-8b14-b5d2523da85e"
      },
      "execution_count": null,
      "outputs": [
        {
          "output_type": "execute_result",
          "data": {
            "text/plain": [
              "-2.0095752344892093"
            ]
          },
          "metadata": {},
          "execution_count": 3
        }
      ]
    },
    {
      "cell_type": "code",
      "source": [
        "stats.t.ppf(q=0.975,  # Quantile to check\n",
        "            df=49)  # Degrees of freedom"
      ],
      "metadata": {
        "id": "toZXJ9enzoas",
        "colab": {
          "base_uri": "https://localhost:8080/"
        },
        "outputId": "57818545-241b-4c67-92d7-d6611eb3265b"
      },
      "execution_count": null,
      "outputs": [
        {
          "output_type": "execute_result",
          "data": {
            "text/plain": [
              "2.009575234489209"
            ]
          },
          "metadata": {},
          "execution_count": 4
        }
      ]
    },
    {
      "cell_type": "markdown",
      "source": [
        "Podemos calcular las posibilidades de ver un resultado tan extremo como el que observamos (conocido como el valor p) al pasar la estadística t como el cuantil a la función stats.t.cdf():"
      ],
      "metadata": {
        "id": "B8Jmf32Bzwfk"
      }
    },
    {
      "cell_type": "code",
      "source": [
        "stats.t.cdf(x= -2.5742,      # T-test statistic\n",
        "               df= 49) * 2   # Multiply by two for two tailed test *"
      ],
      "metadata": {
        "id": "V5y6s1N80QFk",
        "colab": {
          "base_uri": "https://localhost:8080/"
        },
        "outputId": "e0482b8c-9a92-424d-ba0c-7e4b2de4c0d3"
      },
      "execution_count": null,
      "outputs": [
        {
          "output_type": "execute_result",
          "data": {
            "text/plain": [
              "0.013121066545690117"
            ]
          },
          "metadata": {},
          "execution_count": 6
        }
      ]
    },
    {
      "cell_type": "markdown",
      "source": [
        "Notas: La hipótesis alternativa que estamos comprobando es si la media muestral difiere (no es igual a) la media poblacional. Dado que la muestra puede diferir en la dirección positiva o negativa, multiplicamos por dos.\n",
        "\n",
        "Observa que este valor es el mismo que el valor p que aparece en el resultado original de la prueba t. Un valor p de 0,01311 significa que esperaríamos ver datos tan extremos como los de nuestra muestra debido a una probabilidad de aproximadamente el 1,3 % de las veces si la hipótesis nula fuera cierta. En este caso, el valor p es menor que nuestro nivel de significancia α (igual a 1-conf.level o 0.05) por lo que debemos rechazar la hipótesis nula.\n",
        " Si tuviéramos que construir un intervalo de confianza del 95% para la muestra, no capturaría la media poblacional de 43:"
      ],
      "metadata": {
        "id": "jyT3N9WW0WMU"
      }
    },
    {
      "cell_type": "code",
      "source": [
        "sigma = minnesota_ages.std()/math.sqrt(50)  # Sample stdev/sample size\n",
        "\n",
        "stats.t.interval(0.95,                        # Confidence level\n",
        "                 df = 49,                     # Degrees of freedom\n",
        "                 loc = minnesota_ages.mean(), # Sample mean\n",
        "                 scale= sigma)                # Standard dev estimate"
      ],
      "metadata": {
        "id": "PcNaQ97m0b7L",
        "colab": {
          "base_uri": "https://localhost:8080/"
        },
        "outputId": "245170d8-d322-425c-a7d3-904d6da407e8"
      },
      "execution_count": null,
      "outputs": [
        {
          "output_type": "execute_result",
          "data": {
            "text/plain": [
              "(36.369669080722176, 42.15033091927782)"
            ]
          },
          "metadata": {},
          "execution_count": 7
        }
      ]
    },
    {
      "cell_type": "markdown",
      "source": [
        "Por otro lado, dado que existe una probabilidad del 1,3 % de ver un resultado tan extremo debido al azar, no es significativo con un nivel de confianza del 99 %. Esto significa que si tuviéramos que construir un intervalo de confianza del 99%, capturaría la media de la población:"
      ],
      "metadata": {
        "id": "rwUNbQUC1csD"
      }
    },
    {
      "cell_type": "code",
      "source": [
        "stats.t.interval(alpha = 0.99,                # Confidence level\n",
        "                 df = 49,                     # Degrees of freedom\n",
        "                 loc = minnesota_ages.mean(), # Sample mean\n",
        "                 scale= sigma)                # Standard dev estimate"
      ],
      "metadata": {
        "id": "JCObKEY01V0z",
        "colab": {
          "base_uri": "https://localhost:8080/"
        },
        "outputId": "c47dd84e-6fac-458f-c916-d1ba11d73c84"
      },
      "execution_count": null,
      "outputs": [
        {
          "output_type": "execute_result",
          "data": {
            "text/plain": [
              "(35.40547994092107, 43.11452005907893)"
            ]
          },
          "metadata": {},
          "execution_count": 8
        }
      ]
    },
    {
      "cell_type": "markdown",
      "source": [
        "Con un nivel de confianza más alto, construimos un intervalo de confianza más amplio y aumentamos las posibilidades de que capture la media verdadera, por lo que es menos probable que rechacemos la hipótesis nula. En este caso, el valor p de 0,013 es mayor que nuestro nivel de significación de 0,01 y no rechazamos la hipótesis nula."
      ],
      "metadata": {
        "id": "wTDXiEbt1hlc"
      }
    },
    {
      "cell_type": "markdown",
      "source": [
        "#T-test con dos muestras"
      ],
      "metadata": {
        "id": "K8-ypHAL1smU"
      }
    },
    {
      "cell_type": "markdown",
      "source": [
        "Una prueba t de dos muestras investiga si las medias de dos muestras de datos independientes difieren entre sí. En una prueba de dos muestras, la hipótesis nula es que las medias de ambos grupos son iguales. A diferencia de la prueba de una muestra en la que probamos contra un parámetro de población conocido, la prueba de dos muestras solo involucra medias de muestra. Puede realizar una prueba t de dos muestras pasando con la función stats.ttest_ind(). Generemos una muestra de datos de edad de votantes para Wisconsin y comparemos con la muestra que hicimos anteriormente:"
      ],
      "metadata": {
        "id": "OTA-YB_QcGFu"
      }
    },
    {
      "cell_type": "code",
      "source": [
        "np.random.seed(12)\n",
        "wisconsin_ages1 = stats.poisson.rvs(loc=18, mu=33, size=30)\n",
        "wisconsin_ages2 = stats.poisson.rvs(loc=18, mu=13, size=20)\n",
        "wisconsin_ages = np.concatenate((wisconsin_ages1, wisconsin_ages2))\n",
        "\n",
        "print( wisconsin_ages.mean() )"
      ],
      "metadata": {
        "id": "TMlU2sH_cJL5",
        "colab": {
          "base_uri": "https://localhost:8080/"
        },
        "outputId": "9da06200-f0b9-4f9a-82b7-cf3f10382ad1"
      },
      "execution_count": null,
      "outputs": [
        {
          "output_type": "stream",
          "name": "stdout",
          "text": [
            "42.8\n"
          ]
        }
      ]
    },
    {
      "cell_type": "code",
      "source": [
        "stats.ttest_ind(a= minnesota_ages,\n",
        "                b= wisconsin_ages,\n",
        "                equal_var=False)    # Assume samples have equal variance?"
      ],
      "metadata": {
        "id": "NhK1k_YacPbH",
        "colab": {
          "base_uri": "https://localhost:8080/"
        },
        "outputId": "905f6b8a-7461-4dcc-e8f7-aec8803d6764"
      },
      "execution_count": null,
      "outputs": [
        {
          "output_type": "execute_result",
          "data": {
            "text/plain": [
              "Ttest_indResult(statistic=-1.7083870793286842, pvalue=0.09073104343957748)"
            ]
          },
          "metadata": {},
          "execution_count": 16
        }
      ]
    },
    {
      "cell_type": "markdown",
      "source": [
        "La prueba arroja un valor p de 0.0907, lo que significa que hay un 9% de posibilidades de que veamos datos de muestra tan separados si los dos grupos probados son realmente idénticos. Si estuviéramos utilizando un nivel de confianza del 95 %, no podríamos rechazar la hipótesis nula, ya que el valor de p es mayor que el nivel de significación correspondiente del 5 %."
      ],
      "metadata": {
        "id": "47PmmkBicURt"
      }
    },
    {
      "cell_type": "markdown",
      "source": [
        "Podemos realizar contrastes de igualdad de varianzas para ver si podemos asumir homocedasticidad."
      ],
      "metadata": {
        "id": "9Y0ELf8DIUvG"
      }
    },
    {
      "cell_type": "code",
      "source": [
        "# Levene test\n",
        "# ==============================================================================\n",
        "levene_test = stats.levene(minnesota_ages, wisconsin_ages, center='median')\n",
        "levene_test"
      ],
      "metadata": {
        "colab": {
          "base_uri": "https://localhost:8080/"
        },
        "id": "2kzl7UTCHKgG",
        "outputId": "88c8bab3-f8f1-40a1-c568-c535854aca70"
      },
      "execution_count": null,
      "outputs": [
        {
          "output_type": "execute_result",
          "data": {
            "text/plain": [
              "LeveneResult(statistic=0.028047686012903684, pvalue=0.8673418686154896)"
            ]
          },
          "metadata": {},
          "execution_count": 17
        }
      ]
    },
    {
      "cell_type": "code",
      "source": [
        "# Bartlett test\n",
        "# ==============================================================================\n",
        "bartlett_test = stats.bartlett(minnesota_ages, wisconsin_ages)\n",
        "bartlett_test"
      ],
      "metadata": {
        "colab": {
          "base_uri": "https://localhost:8080/"
        },
        "id": "AJUbwlFCHLXd",
        "outputId": "5c4219b3-1268-47dd-b4b8-ded2ae9771fc"
      },
      "execution_count": null,
      "outputs": [
        {
          "output_type": "execute_result",
          "data": {
            "text/plain": [
              "BartlettResult(statistic=0.013637871246937676, pvalue=0.907033365437983)"
            ]
          },
          "metadata": {},
          "execution_count": 12
        }
      ]
    },
    {
      "cell_type": "markdown",
      "source": [
        "Ninguno de los test muestra evidencias para rechazar la hipótesis de que los dos grupos tienen la misma varianza, homocedasticidad, ya que p-value > 0.05.\n"
      ],
      "metadata": {
        "id": "-ZYSbo0YHqS1"
      }
    },
    {
      "cell_type": "markdown",
      "source": [
        "#Test muestras apareadas\n",
        "La prueba t básica de dos muestras está diseñada para probar las diferencias entre grupos independientes. En algunos casos, podría estar interesado en probar las diferencias entre muestras del mismo grupo en diferentes momentos. Por ejemplo, un hospital podría querer probar si un medicamento para bajar de peso funciona comprobando los pesos del mismo grupo de pacientes antes y después del tratamiento. Una prueba t pareada le permite verificar si las medias de las muestras del mismo grupo difieren.\n",
        "\n",
        "Podemos realizar una prueba t pareada usando la función scipy stats.ttest_rel(). Generemos algunos datos ficticios del peso del paciente y hagamos una prueba t pareada:"
      ],
      "metadata": {
        "id": "i3F_uq0IcveN"
      }
    },
    {
      "cell_type": "code",
      "source": [
        "np.random.seed(11)\n",
        "\n",
        "before= stats.norm.rvs(scale=30, loc=250, size=100)\n",
        "\n",
        "after = before + stats.norm.rvs(scale=5, loc=-1.25, size=100)\n",
        "\n",
        "weight_df = pd.DataFrame({\"weight_before\":before,\n",
        "                          \"weight_after\":after,\n",
        "                          \"weight_change\":after-before})\n",
        "\n",
        "weight_df.describe()             # Check a summary of the data"
      ],
      "metadata": {
        "id": "c-Sz5exXc4YW",
        "colab": {
          "base_uri": "https://localhost:8080/",
          "height": 300
        },
        "outputId": "df2b67a4-df5e-41e9-94cb-23a840c4998c"
      },
      "execution_count": null,
      "outputs": [
        {
          "output_type": "execute_result",
          "data": {
            "text/plain": [
              "       weight_before  weight_after  weight_change\n",
              "count     100.000000    100.000000     100.000000\n",
              "mean      250.345546    249.115171      -1.230375\n",
              "std        28.132539     28.422183       4.783696\n",
              "min       170.400443    165.913930     -11.495286\n",
              "25%       230.421042    229.148236      -4.046211\n",
              "50%       250.830805    251.134089      -1.413463\n",
              "75%       270.637145    268.927258       1.738673\n",
              "max       314.700233    316.720357       9.759282"
            ],
            "text/html": [
              "\n",
              "  <div id=\"df-529dc5ca-93be-457a-94d8-699ca31badfd\">\n",
              "    <div class=\"colab-df-container\">\n",
              "      <div>\n",
              "<style scoped>\n",
              "    .dataframe tbody tr th:only-of-type {\n",
              "        vertical-align: middle;\n",
              "    }\n",
              "\n",
              "    .dataframe tbody tr th {\n",
              "        vertical-align: top;\n",
              "    }\n",
              "\n",
              "    .dataframe thead th {\n",
              "        text-align: right;\n",
              "    }\n",
              "</style>\n",
              "<table border=\"1\" class=\"dataframe\">\n",
              "  <thead>\n",
              "    <tr style=\"text-align: right;\">\n",
              "      <th></th>\n",
              "      <th>weight_before</th>\n",
              "      <th>weight_after</th>\n",
              "      <th>weight_change</th>\n",
              "    </tr>\n",
              "  </thead>\n",
              "  <tbody>\n",
              "    <tr>\n",
              "      <th>count</th>\n",
              "      <td>100.000000</td>\n",
              "      <td>100.000000</td>\n",
              "      <td>100.000000</td>\n",
              "    </tr>\n",
              "    <tr>\n",
              "      <th>mean</th>\n",
              "      <td>250.345546</td>\n",
              "      <td>249.115171</td>\n",
              "      <td>-1.230375</td>\n",
              "    </tr>\n",
              "    <tr>\n",
              "      <th>std</th>\n",
              "      <td>28.132539</td>\n",
              "      <td>28.422183</td>\n",
              "      <td>4.783696</td>\n",
              "    </tr>\n",
              "    <tr>\n",
              "      <th>min</th>\n",
              "      <td>170.400443</td>\n",
              "      <td>165.913930</td>\n",
              "      <td>-11.495286</td>\n",
              "    </tr>\n",
              "    <tr>\n",
              "      <th>25%</th>\n",
              "      <td>230.421042</td>\n",
              "      <td>229.148236</td>\n",
              "      <td>-4.046211</td>\n",
              "    </tr>\n",
              "    <tr>\n",
              "      <th>50%</th>\n",
              "      <td>250.830805</td>\n",
              "      <td>251.134089</td>\n",
              "      <td>-1.413463</td>\n",
              "    </tr>\n",
              "    <tr>\n",
              "      <th>75%</th>\n",
              "      <td>270.637145</td>\n",
              "      <td>268.927258</td>\n",
              "      <td>1.738673</td>\n",
              "    </tr>\n",
              "    <tr>\n",
              "      <th>max</th>\n",
              "      <td>314.700233</td>\n",
              "      <td>316.720357</td>\n",
              "      <td>9.759282</td>\n",
              "    </tr>\n",
              "  </tbody>\n",
              "</table>\n",
              "</div>\n",
              "      <button class=\"colab-df-convert\" onclick=\"convertToInteractive('df-529dc5ca-93be-457a-94d8-699ca31badfd')\"\n",
              "              title=\"Convert this dataframe to an interactive table.\"\n",
              "              style=\"display:none;\">\n",
              "        \n",
              "  <svg xmlns=\"http://www.w3.org/2000/svg\" height=\"24px\"viewBox=\"0 0 24 24\"\n",
              "       width=\"24px\">\n",
              "    <path d=\"M0 0h24v24H0V0z\" fill=\"none\"/>\n",
              "    <path d=\"M18.56 5.44l.94 2.06.94-2.06 2.06-.94-2.06-.94-.94-2.06-.94 2.06-2.06.94zm-11 1L8.5 8.5l.94-2.06 2.06-.94-2.06-.94L8.5 2.5l-.94 2.06-2.06.94zm10 10l.94 2.06.94-2.06 2.06-.94-2.06-.94-.94-2.06-.94 2.06-2.06.94z\"/><path d=\"M17.41 7.96l-1.37-1.37c-.4-.4-.92-.59-1.43-.59-.52 0-1.04.2-1.43.59L10.3 9.45l-7.72 7.72c-.78.78-.78 2.05 0 2.83L4 21.41c.39.39.9.59 1.41.59.51 0 1.02-.2 1.41-.59l7.78-7.78 2.81-2.81c.8-.78.8-2.07 0-2.86zM5.41 20L4 18.59l7.72-7.72 1.47 1.35L5.41 20z\"/>\n",
              "  </svg>\n",
              "      </button>\n",
              "      \n",
              "  <style>\n",
              "    .colab-df-container {\n",
              "      display:flex;\n",
              "      flex-wrap:wrap;\n",
              "      gap: 12px;\n",
              "    }\n",
              "\n",
              "    .colab-df-convert {\n",
              "      background-color: #E8F0FE;\n",
              "      border: none;\n",
              "      border-radius: 50%;\n",
              "      cursor: pointer;\n",
              "      display: none;\n",
              "      fill: #1967D2;\n",
              "      height: 32px;\n",
              "      padding: 0 0 0 0;\n",
              "      width: 32px;\n",
              "    }\n",
              "\n",
              "    .colab-df-convert:hover {\n",
              "      background-color: #E2EBFA;\n",
              "      box-shadow: 0px 1px 2px rgba(60, 64, 67, 0.3), 0px 1px 3px 1px rgba(60, 64, 67, 0.15);\n",
              "      fill: #174EA6;\n",
              "    }\n",
              "\n",
              "    [theme=dark] .colab-df-convert {\n",
              "      background-color: #3B4455;\n",
              "      fill: #D2E3FC;\n",
              "    }\n",
              "\n",
              "    [theme=dark] .colab-df-convert:hover {\n",
              "      background-color: #434B5C;\n",
              "      box-shadow: 0px 1px 3px 1px rgba(0, 0, 0, 0.15);\n",
              "      filter: drop-shadow(0px 1px 2px rgba(0, 0, 0, 0.3));\n",
              "      fill: #FFFFFF;\n",
              "    }\n",
              "  </style>\n",
              "\n",
              "      <script>\n",
              "        const buttonEl =\n",
              "          document.querySelector('#df-529dc5ca-93be-457a-94d8-699ca31badfd button.colab-df-convert');\n",
              "        buttonEl.style.display =\n",
              "          google.colab.kernel.accessAllowed ? 'block' : 'none';\n",
              "\n",
              "        async function convertToInteractive(key) {\n",
              "          const element = document.querySelector('#df-529dc5ca-93be-457a-94d8-699ca31badfd');\n",
              "          const dataTable =\n",
              "            await google.colab.kernel.invokeFunction('convertToInteractive',\n",
              "                                                     [key], {});\n",
              "          if (!dataTable) return;\n",
              "\n",
              "          const docLinkHtml = 'Like what you see? Visit the ' +\n",
              "            '<a target=\"_blank\" href=https://colab.research.google.com/notebooks/data_table.ipynb>data table notebook</a>'\n",
              "            + ' to learn more about interactive tables.';\n",
              "          element.innerHTML = '';\n",
              "          dataTable['output_type'] = 'display_data';\n",
              "          await google.colab.output.renderOutput(dataTable, element);\n",
              "          const docLink = document.createElement('div');\n",
              "          docLink.innerHTML = docLinkHtml;\n",
              "          element.appendChild(docLink);\n",
              "        }\n",
              "      </script>\n",
              "    </div>\n",
              "  </div>\n",
              "  "
            ]
          },
          "metadata": {},
          "execution_count": 5
        }
      ]
    },
    {
      "cell_type": "markdown",
      "source": [
        "El resumen muestra que los pacientes perdieron alrededor de 1,23 libras en promedio después del tratamiento. Realicemos una prueba t pareada para ver si esta diferencia es significativa con un nivel de confianza del 95 %:"
      ],
      "metadata": {
        "id": "9wbTXIoYdEve"
      }
    },
    {
      "cell_type": "code",
      "source": [
        "stats.ttest_rel(a = before,\n",
        "                b = after)"
      ],
      "metadata": {
        "id": "7UP9To8AdHFt",
        "colab": {
          "base_uri": "https://localhost:8080/"
        },
        "outputId": "b5356041-416e-4fe0-914c-42c20014170f"
      },
      "execution_count": null,
      "outputs": [
        {
          "output_type": "execute_result",
          "data": {
            "text/plain": [
              "Ttest_relResult(statistic=2.5720175998568284, pvalue=0.011596444318439857)"
            ]
          },
          "metadata": {},
          "execution_count": 19
        }
      ]
    },
    {
      "cell_type": "markdown",
      "source": [
        "#Errores: Tipo I y Tipo II\n",
        "El resultado de una prueba de hipótesis estadística y la correspondiente decisión de rechazar o aceptar la hipótesis nula no es infalible. Una prueba proporciona evidencia a favor o en contra de la hipótesis nula y luego decide aceptarla o rechazarla en función de esa evidencia, pero la evidencia puede carecer de la fuerza para llegar a la conclusión correcta. Las conclusiones incorrectas a partir de las pruebas de hipótesis se clasifican en una de dos categorías: error de tipo I y error de tipo II.\n",
        "\n",
        "El error tipo I describe una situación en la que rechaza la hipótesis nula cuando en realidad es cierta. Este tipo de error también se conoce como \"falso positivo\" o \"falso acierto\". La tasa de error de tipo 1 es igual al nivel de significación α, por lo que establecer un nivel de confianza más alto (y, por lo tanto, un alfa más bajo) reduce las posibilidades de obtener un falso positivo.\n",
        "\n",
        "El error de tipo II describe una situación en la que no se rechaza la hipótesis nula cuando en realidad es falsa. El error de tipo II también se conoce como \"falso negativo\" o \"error\". Cuanto mayor sea su nivel de confianza, más probable es que cometa un error de tipo II.\n",
        "\n",
        "Investiguemos estos errores con un diagrama:"
      ],
      "metadata": {
        "id": "hu44k8D-dL8V"
      }
    },
    {
      "cell_type": "code",
      "source": [
        "plt.figure(figsize=(12,10))\n",
        "\n",
        "\n",
        "plt.fill_between(x=np.arange(-4,-2,0.01),\n",
        "                 y1= stats.norm.pdf(np.arange(-4,-2,0.01)) ,\n",
        "                 facecolor='red',\n",
        "                 alpha=0.35)\n",
        "\n",
        "plt.fill_between(x=np.arange(-2,2,0.01),\n",
        "                 y1= stats.norm.pdf(np.arange(-2,2,0.01)) ,\n",
        "                 facecolor='grey',\n",
        "                 alpha=0.35)\n",
        "\n",
        "plt.fill_between(x=np.arange(2,4,0.01),\n",
        "                 y1= stats.norm.pdf(np.arange(2,4,0.01)) ,\n",
        "                 facecolor='red',\n",
        "                 alpha=0.5)\n",
        "\n",
        "plt.fill_between(x=np.arange(-4,-2,0.01),\n",
        "                 y1= stats.norm.pdf(np.arange(-4,-2,0.01),loc=3, scale=2) ,\n",
        "                 facecolor='grey',\n",
        "                 alpha=0.35)\n",
        "\n",
        "plt.fill_between(x=np.arange(-2,2,0.01),\n",
        "                 y1= stats.norm.pdf(np.arange(-2,2,0.01),loc=3, scale=2) ,\n",
        "                 facecolor='blue',\n",
        "                 alpha=0.35)\n",
        "\n",
        "plt.fill_between(x=np.arange(2,10,0.01),\n",
        "                 y1= stats.norm.pdf(np.arange(2,10,0.01),loc=3, scale=2),\n",
        "                 facecolor='grey',\n",
        "                 alpha=0.35)\n",
        "\n",
        "plt.text(x=-0.8, y=0.15, s= \"Null Hypothesis\")\n",
        "plt.text(x=2.5, y=0.13, s= \"Alternative\")\n",
        "plt.text(x=2.1, y=0.01, s= \"Type 1 Error\")\n",
        "plt.text(x=-3.2, y=0.01, s= \"Type 1 Error\")\n",
        "plt.text(x=0, y=0.02, s= \"Type 2 Error\");"
      ],
      "metadata": {
        "colab": {
          "base_uri": "https://localhost:8080/",
          "height": 592
        },
        "id": "gpFfDfqkdmAN",
        "outputId": "2df8f466-74da-4d7c-c40a-08361eeafc68"
      },
      "execution_count": null,
      "outputs": [
        {
          "output_type": "display_data",
          "data": {
            "text/plain": [
              "<Figure size 864x720 with 1 Axes>"
            ],
            "image/png": "[encoded data removed]"
          },
          "metadata": {
            "needs_background": "light"
          }
        }
      ]
    },
    {
      "cell_type": "markdown",
      "source": [
        "En el gráfico anterior, las áreas rojas indican errores de tipo I, suponiendo que la hipótesis alternativa no es diferente de la nula para una prueba bilateral con un nivel de confianza del 95 %.\n",
        "\n",
        "El área azul representa los errores de tipo II que ocurren cuando la hipótesis alternativa es diferente de la nula, como se muestra en la distribución de la derecha. Hay que tener en cuenta que la tasa de error Tipo II es el área bajo la distribución alternativa dentro de los cuantiles determinados por la distribución nula y el nivel de confianza. Podemos calcular la tasa de error tipo II para las distribuciones anteriores de la siguiente manera:"
      ],
      "metadata": {
        "id": "o_0tVDh_dv1t"
      }
    },
    {
      "cell_type": "code",
      "source": [
        "lower_quantile = stats.norm.ppf(0.025)  # Lower cutoff value\n",
        "upper_quantile = stats.norm.ppf(0.975)  # Upper cutoff value\n",
        "\n",
        "# Area under alternative, to the left the lower cutoff value\n",
        "low = stats.norm.cdf(lower_quantile,\n",
        "                     loc=3,\n",
        "                     scale=2)\n",
        "\n",
        "# Area under alternative, to the left the upper cutoff value\n",
        "high = stats.norm.cdf(upper_quantile,\n",
        "                      loc=3,\n",
        "                      scale=2)\n",
        "\n",
        "# Area under the alternative, between the cutoffs (Type II error)\n",
        "high-low"
      ],
      "metadata": {
        "colab": {
          "base_uri": "https://localhost:8080/"
        },
        "id": "7_ywjXQ1dy0t",
        "outputId": "90477a9f-0e63-4e8f-dff3-97344e1142cd"
      },
      "execution_count": null,
      "outputs": [
        {
          "output_type": "execute_result",
          "data": {
            "text/plain": [
              "0.294956061112323"
            ]
          },
          "metadata": {},
          "execution_count": 21
        }
      ]
    },
    {
      "cell_type": "markdown",
      "source": [
        "Con las distribuciones normales anteriores, no podríamos rechazar la hipótesis nula alrededor del 30 % de las veces porque las distribuciones están lo suficientemente juntas como para tener una superposición significativa."
      ],
      "metadata": {
        "id": "BQSk7HJud6zN"
      }
    },
    {
      "cell_type": "markdown",
      "source": [
        "#Análisis de la Potencia\n",
        "\n",
        "La potencia de una prueba estadística es la probabilidad de que la prueba rechace la hipótesis nula cuando la alternativa es en realidad diferente de la nula. En otras palabras, la potencia es la probabilidad de que la prueba detecte que está sucediendo algo interesante cuando en realidad está sucediendo algo interesante. La potencia es igual a uno menos la tasa de error tipo II. El poder de una prueba estadística está influenciado por:\n",
        "\n",
        "El nivel de significación elegido para la prueba.\n",
        "El tamaño de la muestra.\n",
        "El tamaño del efecto de la prueba.\n",
        "\n",
        "Al elegir un nivel de significación para una prueba, existe una compensación entre el error de tipo I y el de tipo II. Un nivel de significancia bajo, como 0.01, hace que una prueba sea poco probable que tenga errores de tipo I (falsos positivos), pero es más probable que tenga errores de tipo II (falsos negativos) que una prueba con un valor mayor del nivel de significancia α. Una convención común es que una prueba estadística debe tener una potencia de al menos 0,8.\n",
        "\n",
        "Un tamaño de muestra más grande reduce la incertidumbre de la estimación puntual, lo que hace que la distribución de la muestra se reduzca, lo que da como resultado tasas de error de tipo II más bajas y una mayor potencia.\n",
        "\n",
        "El tamaño del efecto es un término general que describe una medida numérica del tamaño de algún fenómeno. Hay muchas medidas diferentes del tamaño del efecto que surgen en diferentes contextos.\n",
        "\n",
        " En el contexto de la prueba T, un tamaño de efecto simple es la diferencia entre las medias de las muestras. Este número se puede estandarizar dividiendo por la desviación estándar de la población o la desviación estándar combinada de las muestras. Esto pone el tamaño del efecto en términos de desviaciones estándar, por lo que un tamaño de efecto estandarizado de 0,5 se interpretaría como una media de muestra con 0,5 desviaciones estándar de otra (en general, 0,5 se considera un tamaño de efecto \"grande\").\n",
        "\n",
        "Dado que el poder estadístico, el nivel de significación, el tamaño del efecto y el tamaño de la muestra están relacionados, es posible calcular cualquiera de ellos para valores dados de los otros tres. Esto puede ser una parte importante del proceso de diseño de una prueba de hipótesis y análisis de resultados. Por ejemplo, si desea realizar una prueba con un nivel de significación determinado (digamos el estándar 0,05) y potencia (digamos el estándar 0,8) y está interesado en un tamaño de efecto dado (digamos 0,5 para la diferencia estandarizada entre las medias de la muestra), se podría usar esa información para determinar qué tamaño de muestra necesita.\n",
        "\n",
        "En Python, la biblioteca statsmodels contiene funciones para resolver cualquier parámetro del poder de las pruebas T. Utilice statsmodels.stats.power.tt_solve_power para una prueba t de muestra y statsmodels.stats.power.tt_ind_solve_power para una prueba t de dos muestras. Verifiquemos el tamaño de la muestra que debemos usar dados los valores de los parámetros estándar anteriores para una prueba t de una muestra:"
      ],
      "metadata": {
        "id": "c2kaOaHvd-QE"
      }
    },
    {
      "cell_type": "code",
      "source": [
        "from statsmodels.stats.power import tt_solve_power\n",
        "\n",
        "tt_solve_power(effect_size = 0.5, #a menos más, una media muestral con 0,5 desviaciones estándar de otra, cuanto menos se lleven las medias + tamaño muestral necesitaré\n",
        "               alpha = 0.05, #a menos más\n",
        "               power = 0.8) #a más, más"
      ],
      "metadata": {
        "id": "fZYkHgoWeRlv",
        "colab": {
          "base_uri": "https://localhost:8080/"
        },
        "outputId": "26b76daf-4207-4737-cbb2-81ebe15e46ac"
      },
      "execution_count": null,
      "outputs": [
        {
          "output_type": "execute_result",
          "data": {
            "text/plain": [
              "33.3671314275208"
            ]
          },
          "metadata": {},
          "execution_count": 38
        }
      ]
    },
    {
      "cell_type": "markdown",
      "source": [
        "En este caso, querríamos un tamaño de muestra de al menos 34 para hacer un estudio con el poder deseado y el nivel de significación capaz de detectar un tamaño de efecto grande."
      ],
      "metadata": {
        "id": "JkkPs0kHeYAl"
      }
    },
    {
      "cell_type": "markdown",
      "source": [
        "#Resumen\n",
        "La prueba t es una herramienta poderosa para investigar las diferencias entre las medias de la muestra y la población. Las pruebas T operan sobre variables numéricas; en la próxima lección, discutiremos las pruebas estadísticas para variables categóricas."
      ],
      "metadata": {
        "id": "7RQOlT_Ieffc"
      }
    }
  ]
}