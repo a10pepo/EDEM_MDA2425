{
  "nbformat": 4,
  "nbformat_minor": 0,
  "metadata": {
    "colab": {
      "provenance": []
    },
    "kernelspec": {
      "name": "python3",
      "display_name": "Python 3"
    },
    "language_info": {
      "name": "python"
    }
  },
  "cells": [
    {
      "cell_type": "markdown",
      "source": [
        "#Análisis de la varianza (ANOVA)\n",
        "La prueba t funciona bien cuando se trata de dos grupos, pero a veces queremos comparar más de dos grupos al mismo tiempo. Por ejemplo, si quisiéramos probar si la edad de los votantes difiere en función de alguna variable categórica como la raza, tenemos que comparar las medias de cada nivel o agrupar la variable. Podríamos realizar una prueba t separada para cada par de grupos, pero cuando se realiza muchas pruebas, aumenta las posibilidades de falsos positivos. El análisis de varianza o ANOVA es una prueba de inferencia estadística que le permite comparar varios grupos al mismo tiempo."
      ],
      "metadata": {
        "id": "zHlVdlh4uqTr"
      }
    },
    {
      "cell_type": "markdown",
      "source": [
        "El ANOVA unidireccional prueba si la media de alguna variable numérica difiere entre los niveles de una variable categórica. Esencialmente responde a la pregunta: ¿alguna de las medias grupales difiere entre sí? ¿Hay alguna muestra diferente al resto? No entraremos en los detalles de realizar un ANOVA a mano, ya que implica más cálculos que la prueba t, pero el proceso es similar: realiza varios cálculos para llegar a una estadística de prueba y luego compara el estadísticoa a un valor crítico basado en una distribución de probabilidad. En el caso del ANOVA, se utiliza la distribución F de Snedecor.\n",
        "\n",
        "La biblioteca scipy tiene una función para realizar pruebas ANOVA unidireccionales llamada scipy.stats.f_oneway().\n",
        "\n",
        "Generemos algunos datos demográficos y de edad de votantes falsos y usemos el ANOVA para comparar las edades promedio entre los grupos:"
      ],
      "metadata": {
        "id": "nGDsw5NVu6Ef"
      }
    },
    {
      "cell_type": "code",
      "source": [
        "import numpy as np\n",
        "import pandas as pd\n",
        "import matplotlib.pyplot as plt\n",
        "import scipy.stats as stats"
      ],
      "metadata": {
        "id": "hsutLQdsvjTU"
      },
      "execution_count": null,
      "outputs": []
    },
    {
      "cell_type": "code",
      "source": [
        "np.random.seed(12)\n",
        "\n",
        "races =   [\"asian\",\"black\",\"hispanic\",\"other\",\"white\"]\n",
        "\n",
        "# Generate random data\n",
        "voter_race = np.random.choice(a= races,\n",
        "                              p = [0.05, 0.15 ,0.25, 0.05, 0.5],\n",
        "                              size=1000)\n",
        "\n",
        "voter_age = stats.poisson.rvs(loc=18,\n",
        "                              mu=30,\n",
        "                              size=1000)\n",
        "\n",
        "# Group age data by race\n",
        "voter_frame = pd.DataFrame({\"race\":voter_race,\"age\":voter_age})\n",
        "groups = voter_frame.groupby(\"race\").groups\n",
        "\n",
        "# Extract individual groups\n",
        "asian = voter_age[groups[\"asian\"]]\n",
        "black = voter_age[groups[\"black\"]]\n",
        "hispanic = voter_age[groups[\"hispanic\"]]\n",
        "other = voter_age[groups[\"other\"]]\n",
        "white = voter_age[groups[\"white\"]]\n",
        "\n",
        "# Perform the ANOVA\n",
        "stats.f_oneway(asian, black, hispanic, other, white)"
      ],
      "metadata": {
        "id": "MX_q-rUZvpFH",
        "colab": {
          "base_uri": "https://localhost:8080/"
        },
        "outputId": "db25b78e-6ed5-4dd9-bb72-b40dbf6bd395"
      },
      "execution_count": null,
      "outputs": [
        {
          "output_type": "execute_result",
          "data": {
            "text/plain": [
              "F_onewayResult(statistic=1.7744689357329695, pvalue=0.13173183201930463)"
            ]
          },
          "metadata": {},
          "execution_count": 7
        }
      ]
    },
    {
      "cell_type": "markdown",
      "source": [
        "El resultado de la prueba arroja una estadística F de 1,774 y un valor p de 0,1317, lo que indica que no hay una diferencia significativa entre las medias de cada grupo.\n",
        "\n",
        "Otra forma de realizar una prueba ANOVA es utilizar la biblioteca statsmodels, que permite especificar un modelo con una sintaxis de fórmula que refleja la utilizada por el lenguaje de programación R. Los usuarios de R pueden encontrar este método más familiar:"
      ],
      "metadata": {
        "id": "H6A0ot2QwCAo"
      }
    },
    {
      "cell_type": "code",
      "source": [
        "import statsmodels.api as sm\n",
        "from statsmodels.formula.api import ols\n",
        "\n",
        "model = ols('age ~ race',                 # Model formula\n",
        "            data = voter_frame).fit()\n",
        "\n",
        "anova_result = sm.stats.anova_lm(model, typ=2)\n",
        "print (anova_result)"
      ],
      "metadata": {
        "id": "7g5IZHHbwMXF",
        "colab": {
          "base_uri": "https://localhost:8080/"
        },
        "outputId": "1da5c495-8b74-46ba-ee69-2008a322c45b"
      },
      "execution_count": null,
      "outputs": [
        {
          "output_type": "stream",
          "name": "stdout",
          "text": [
            "             sum_sq     df         F    PR(>F)\n",
            "race        199.369    4.0  1.774469  0.131732\n",
            "Residual  27948.102  995.0       NaN       NaN\n"
          ]
        }
      ]
    },
    {
      "cell_type": "markdown",
      "source": [
        "Como puede ver, el método statsmodels produjo la misma estadística F y valor P (enumerados como PR(<F)) que el método stats.f_oneway.\n",
        "\n",
        "Ahora hagamos datos de la nueva era donde las medias del grupo difieren y ejecutemos un segundo ANOVA:"
      ],
      "metadata": {
        "id": "Par3BcBfwRBd"
      }
    },
    {
      "cell_type": "code",
      "source": [
        "np.random.seed(12)\n",
        "\n",
        "# Generate random data\n",
        "voter_race = np.random.choice(a= races,\n",
        "                              p = [0.05, 0.15 ,0.25, 0.05, 0.5],\n",
        "                              size=1000)\n",
        "\n",
        "# Use a different distribution for white ages\n",
        "white_ages = stats.poisson.rvs(loc=18,\n",
        "                              mu=35,\n",
        "                              size=1000)\n",
        "\n",
        "asian_ages = stats.poisson.rvs(loc=18,\n",
        "                              mu=35,\n",
        "                              size=1000)\n",
        "\n",
        "voter_age = stats.poisson.rvs(loc=18,\n",
        "                              mu=30,\n",
        "                              size=1000)\n",
        "\n",
        "voter_age = np.where(voter_race==\"white\", white_ages, voter_age)\n",
        "voter_age = np.where(voter_race==\"asian\", asian_ages, voter_age)\n",
        "\n",
        "# Group age data by race\n",
        "voter_frame = pd.DataFrame({\"race\":voter_race,\"age\":voter_age})\n",
        "groups = voter_frame.groupby(\"race\").groups\n",
        "\n",
        "# Extract individual groups\n",
        "asian = voter_age[groups[\"asian\"]]\n",
        "black = voter_age[groups[\"black\"]]\n",
        "hispanic = voter_age[groups[\"hispanic\"]]\n",
        "other = voter_age[groups[\"other\"]]\n",
        "white = voter_age[groups[\"white\"]]\n",
        "\n",
        "# Perform the ANOVA\n",
        "stats.f_oneway(asian, black, hispanic, other, white)"
      ],
      "metadata": {
        "id": "VoWrCRd0wc0-",
        "colab": {
          "base_uri": "https://localhost:8080/"
        },
        "outputId": "4b1805c4-6033-439f-c339-6978b9a01b17"
      },
      "execution_count": null,
      "outputs": [
        {
          "output_type": "execute_result",
          "data": {
            "text/plain": [
              "F_onewayResult(statistic=46.01057867253624, pvalue=1.6859643907392802e-35)"
            ]
          },
          "metadata": {},
          "execution_count": 17
        }
      ]
    },
    {
      "cell_type": "code",
      "source": [
        "# Alternate method\n",
        "model = ols('age ~ race',                 # Model formula\n",
        "            data = voter_frame).fit()\n",
        "\n",
        "anova_result = sm.stats.anova_lm(model, typ=2)\n",
        "print (anova_result)\n"
      ],
      "metadata": {
        "id": "raE0ShxDwjnO",
        "colab": {
          "base_uri": "https://localhost:8080/"
        },
        "outputId": "4d4fbaa4-ba9e-42a1-93af-157dd5ef3dd8"
      },
      "execution_count": null,
      "outputs": [
        {
          "output_type": "stream",
          "name": "stdout",
          "text": [
            "                sum_sq     df          F        PR(>F)\n",
            "race       5819.832736    4.0  46.010579  1.685964e-35\n",
            "Residual  31464.142264  995.0        NaN           NaN\n"
          ]
        }
      ]
    },
    {
      "cell_type": "markdown",
      "source": [
        "El resultado de la prueba sugiere que los grupos no tienen las mismas medias muestrales en este caso, ya que el valor p es significativo con un nivel de confianza del 99 %. Sabemos que son los votantes blancos los que difieren porque lo configuramos de esa manera en el código, pero al probar datos reales, es posible que no sepa qué grupo o grupos hicieron que la prueba arrojara un resultado positivo.\n",
        "Para verificar qué grupos difieren después de obtener un resultado ANOVA positivo, se puede realizar una prueba de seguimiento o \"prueba post-hoc\".\n",
        "\n",
        "Una prueba post-hoc es realizar una prueba t separada para cada par de grupos. Puede realizar una prueba t entre todos los pares ejecutando cada par a través de stats.ttest_ind() que cubrimos en la lección sobre pruebas t:"
      ],
      "metadata": {
        "id": "k2sqzaFMwpeW"
      }
    },
    {
      "cell_type": "code",
      "source": [
        "# Get all race pairs\n",
        "race_pairs = []\n",
        "\n",
        "for race1 in range(4):\n",
        "    for race2  in range(race1+1,5):\n",
        "        race_pairs.append((races[race1], races[race2]))\n",
        "\n",
        "# Conduct t-test on each pair\n",
        "for race1, race2 in race_pairs:\n",
        "    print(race1, race2)\n",
        "    print(stats.ttest_ind(voter_age[groups[race1]],\n",
        "                          voter_age[groups[race2]]))"
      ],
      "metadata": {
        "id": "c_BO6SOsw8Ye",
        "colab": {
          "base_uri": "https://localhost:8080/"
        },
        "outputId": "1a2538e0-b589-4a98-8fd3-b523f606f0cb"
      },
      "execution_count": null,
      "outputs": [
        {
          "output_type": "stream",
          "name": "stdout",
          "text": [
            "asian black\n",
            "Ttest_indResult(statistic=5.343820392683496, pvalue=2.601526829511172e-07)\n",
            "asian hispanic\n",
            "Ttest_indResult(statistic=5.368434775713779, pvalue=1.644804584468843e-07)\n",
            "asian other\n",
            "Ttest_indResult(statistic=4.825655352179236, pvalue=5.519219354634497e-06)\n",
            "asian white\n",
            "Ttest_indResult(statistic=0.2343530107247312, pvalue=0.8147970516912304)\n",
            "black hispanic\n",
            "Ttest_indResult(statistic=-1.003613423850229, pvalue=0.31618885561490895)\n",
            "black other\n",
            "Ttest_indResult(statistic=0.07812368756106107, pvalue=0.9378097706428982)\n",
            "black white\n",
            "Ttest_indResult(statistic=-9.587041333046411, pvalue=1.8126652471003016e-20)\n",
            "hispanic other\n",
            "Ttest_indResult(statistic=0.7896415762636464, pvalue=0.43037785705783393)\n",
            "hispanic white\n",
            "Ttest_indResult(statistic=-10.479803303818999, pvalue=4.34015994724495e-24)\n",
            "other white\n",
            "Ttest_indResult(statistic=-6.224350033585383, pvalue=9.453030794367536e-10)\n"
          ]
        }
      ]
    },
    {
      "cell_type": "markdown",
      "source": [
        "Los valores p para cada prueba t por pares sugieren que la media de los votantes blancos es probablemente diferente de los otros grupos, ya que los valores p para cada prueba t que involucra al grupo blanco es inferior a 0,05. Sin embargo, el uso de pruebas t por pares no ajustadas puede sobrestimar la importancia, porque cuantas más comparaciones haga, más probable es que encuentre un resultado poco probable debido a la casualidad. Podemos ajustar este problema de comparación múltiple dividiendo el nivel de significación estadística por el número de comparaciones realizadas. En este caso, si estuviéramos buscando un nivel de significación del 5 %, estaríamos buscando valores de p de 0,05/10 = 0,005 o menos. Este ajuste simple para comparaciones múltiples se conoce como la corrección de Bonferroni.\n",
        "\n",
        "La corrección de Bonferroni es un enfoque conservador para dar cuenta del problema de comparaciones múltiples que puede terminar rechazando resultados que en realidad son significativos. Otra prueba post hoc común es la prueba de Tukey. Puede realizar la prueba de Tukey usando la función pairwise_tukeyhsd() en la biblioteca statsmodels.stats.multicomp:"
      ],
      "metadata": {
        "id": "yo40xL4KxGgu"
      }
    },
    {
      "cell_type": "code",
      "source": [
        "from statsmodels.stats.multicomp import pairwise_tukeyhsd\n",
        "\n",
        "tukey = pairwise_tukeyhsd(endog=voter_age,     # Data\n",
        "                          groups=voter_race,   # Groups\n",
        "                          alpha=0.05)          # Significance level\n",
        "\n",
        "tukey.plot_simultaneous()    # Plot group confidence intervals\n",
        "plt.vlines(x=49.57,ymin=-0.5,ymax=4.5, color=\"red\")\n",
        "\n",
        "tukey.summary()              # See test summary"
      ],
      "metadata": {
        "id": "XnRWCysjxLpO",
        "colab": {
          "base_uri": "https://localhost:8080/",
          "height": 644
        },
        "outputId": "1fda0c38-ed47-4f2f-da72-6d547d1b6a0c"
      },
      "execution_count": null,
      "outputs": [
        {
          "output_type": "execute_result",
          "data": {
            "text/plain": [
              "<class 'statsmodels.iolib.table.SimpleTable'>"
            ],
            "text/html": [
              "<table class=\"simpletable\">\n",
              "<caption>Multiple Comparison of Means - Tukey HSD, FWER=0.05</caption>\n",
              "<tr>\n",
              "   <th>group1</th>   <th>group2</th>  <th>meandiff</th>  <th>p-adj</th>  <th>lower</th>   <th>upper</th>  <th>reject</th>\n",
              "</tr>\n",
              "<tr>\n",
              "    <td>asian</td>    <td>black</td>   <td>-5.3493</td>   <td>0.0</td>   <td>-7.99</td>  <td>-2.7085</td>  <td>True</td> \n",
              "</tr>\n",
              "<tr>\n",
              "    <td>asian</td>  <td>hispanic</td>  <td>-4.7645</td>   <td>0.0</td>  <td>-7.2815</td> <td>-2.2476</td>  <td>True</td> \n",
              "</tr>\n",
              "<tr>\n",
              "    <td>asian</td>    <td>other</td>   <td>-5.4227</td>   <td>0.0</td>  <td>-8.5993</td> <td>-2.2462</td>  <td>True</td> \n",
              "</tr>\n",
              "<tr>\n",
              "    <td>asian</td>    <td>white</td>   <td>-0.2091</td> <td>0.9993</td> <td>-2.6228</td> <td>2.2045</td>   <td>False</td>\n",
              "</tr>\n",
              "<tr>\n",
              "    <td>black</td>  <td>hispanic</td>  <td>0.5847</td>  <td>0.8572</td> <td>-1.0198</td> <td>2.1892</td>   <td>False</td>\n",
              "</tr>\n",
              "<tr>\n",
              "    <td>black</td>    <td>other</td>   <td>-0.0735</td>   <td>1.0</td>  <td>-2.5894</td> <td>2.4424</td>   <td>False</td>\n",
              "</tr>\n",
              "<tr>\n",
              "    <td>black</td>    <td>white</td>   <td>5.1401</td>    <td>0.0</td>  <td>3.7031</td>  <td>6.5772</td>   <td>True</td> \n",
              "</tr>\n",
              "<tr>\n",
              "  <td>hispanic</td>   <td>other</td>   <td>-0.6582</td> <td>0.9435</td> <td>-3.0438</td> <td>1.7274</td>   <td>False</td>\n",
              "</tr>\n",
              "<tr>\n",
              "  <td>hispanic</td>   <td>white</td>   <td>4.5554</td>    <td>0.0</td>  <td>3.3611</td>  <td>5.7497</td>   <td>True</td> \n",
              "</tr>\n",
              "<tr>\n",
              "    <td>other</td>    <td>white</td>   <td>5.2136</td>    <td>0.0</td>  <td>2.9372</td>  <td>7.4899</td>   <td>True</td> \n",
              "</tr>\n",
              "</table>"
            ]
          },
          "metadata": {},
          "execution_count": 20
        },
        {
          "output_type": "display_data",
          "data": {
            "text/plain": [
              "<Figure size 720x432 with 1 Axes>"
            ],
            "image/png": "[encoded data removed]"
          },
          "metadata": {
            "needs_background": "light"
          }
        }
      ]
    },
    {
      "cell_type": "markdown",
      "source": [
        "El resultado de la prueba de Tukey muestra la diferencia promedio, un intervalo de confianza y si debe rechazar la hipótesis nula para cada par de grupos en el nivel de significación dado. En este caso, la prueba sugiere que rechacemos la hipótesis nula para 3 pares, y cada par incluye la categoría \"blanca\". Esto sugiere que el grupo blanco probablemente sea diferente de los demás. También ocurre lo mismo con \"asian\" Parece que hay dos grupos distintos, uno englobando asian y white, y otro englobando el resto . La gráfica del intervalo de confianza del 95 % refuerza los resultados visualmente: solo el intervalo de confianza de otro grupo se superpone al intervalo de confianza del grupo blanco."
      ],
      "metadata": {
        "id": "FSBPaQo5xhU9"
      }
    },
    {
      "cell_type": "markdown",
      "source": [
        "#Resumen\n",
        "\n",
        "La prueba ANOVA nos permite comprobar si una variable de respuesta numérica varía según los niveles de una variable categórica. La biblioteca scipy de Python facilita la realización de un ANOVA sin profundizar demasiado en los detalles del procedimiento."
      ],
      "metadata": {
        "id": "W-VjVjIUxo_F"
      }
    }
  ]
}