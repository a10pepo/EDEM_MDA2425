{
  "nbformat": 4,
  "nbformat_minor": 0,
  "metadata": {
    "colab": {
      "provenance": []
    },
    "kernelspec": {
      "name": "python3",
      "display_name": "Python 3"
    },
    "language_info": {
      "name": "python"
    }
  },
  "cells": [
    {
      "cell_type": "markdown",
      "source": [
        "# Image Recognition with Convolutional Neural Networks\n",
        "\n",
        "This exercise challenges you to build an image recognition model using a convolutional neural network. You'll select an image dataset, then train a model for image classification, object detection, or image segmentation using convolutional neural networks.\n",
        "\n",
        "**Tasks:**\n",
        "\n",
        "1. **Dataset Selection:** Choose a dataset. Consider dataset size, complexity, and availability. Only public datasets are acceptable. Briefly describe your dataset.\n",
        "2. **Data Preparation:** Prepare the data: resize images, augment data, and split into training, validation, and test sets.\n",
        "3. **Model Selection:** Choose a neural network architecture. Justify your choice based on the dataset and task.\n",
        "4. **Training:** Train your model on the training data, monitoring performance on the validation set.\n",
        "5. **Evaluation:** Evaluate the model's performance on the test set using appropriate metrics (e.g., accuracy, precision, recall, F1-score, mAP, IoU).\n",
        "6. **Results and Discussion:** Present results, analyze performance, and discuss limitations or areas for improvement.\n",
        "\n",
        "**Dataset Examples:**\n",
        "\n",
        "* **Classification:** CIFAR-10/100, MNIST\n",
        "* **Object Detection:** Pascal VOC/COCO\n",
        "* **Segmentation:** Cityscapes\n",
        "\n",
        "**Deliverables:**\n",
        "\n",
        "* Jupyter Notebook with code for data preparation, model training, and evaluation. The outputs of the different code cells should be visible. At the end of the notebook add a brief report summarizing your approach, results, and discussion."
      ],
      "metadata": {
        "id": "s0KE2Zwg40jx"
      }
    },
    {
      "cell_type": "markdown",
      "source": [
        "## 1. Dataset description, download and exploration"
      ],
      "metadata": {
        "id": "yzeDfeT_6sIN"
      }
    },
    {
      "cell_type": "code",
      "source": [],
      "metadata": {
        "id": "KBzRtUbA6dgE"
      },
      "execution_count": null,
      "outputs": []
    },
    {
      "cell_type": "markdown",
      "source": [
        "## 2. Data preparation and augmentation"
      ],
      "metadata": {
        "id": "plz2Xovz6xi7"
      }
    },
    {
      "cell_type": "code",
      "source": [],
      "metadata": {
        "id": "9ztv-tSy63W4"
      },
      "execution_count": null,
      "outputs": []
    },
    {
      "cell_type": "markdown",
      "source": [
        "## 3. Model selection"
      ],
      "metadata": {
        "id": "jQM9aFrw64gT"
      }
    },
    {
      "cell_type": "code",
      "source": [],
      "metadata": {
        "id": "0vs1lLeM65j9"
      },
      "execution_count": null,
      "outputs": []
    },
    {
      "cell_type": "markdown",
      "source": [
        "## 4. Training"
      ],
      "metadata": {
        "id": "wTQ21IBi7DYq"
      }
    },
    {
      "cell_type": "code",
      "source": [],
      "metadata": {
        "id": "GavABF3_7IF6"
      },
      "execution_count": null,
      "outputs": []
    },
    {
      "cell_type": "markdown",
      "source": [
        "## 5. Evaluation on the test set"
      ],
      "metadata": {
        "id": "FiwQnEtI7JEu"
      }
    },
    {
      "cell_type": "code",
      "source": [],
      "metadata": {
        "id": "ndAX5NdB7Ncc"
      },
      "execution_count": null,
      "outputs": []
    },
    {
      "cell_type": "markdown",
      "source": [
        "## 6. Results and discussion"
      ],
      "metadata": {
        "id": "ktpf7n-B7QJf"
      }
    },
    {
      "cell_type": "code",
      "source": [],
      "metadata": {
        "id": "WLi_p7v27Umi"
      },
      "execution_count": null,
      "outputs": []
    }
  ]
}