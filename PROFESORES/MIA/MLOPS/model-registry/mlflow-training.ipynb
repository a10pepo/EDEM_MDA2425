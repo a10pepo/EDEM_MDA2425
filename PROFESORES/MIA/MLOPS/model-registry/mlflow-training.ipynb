{
 "cells": [
  {
   "attachments": {},
   "cell_type": "markdown",
   "metadata": {},
   "source": [
    "# Model registry: MLFlow\n",
    "\n",
    "Example on how to use the MLFlow model during the training of a model"
   ]
  },
  {
   "attachments": {},
   "cell_type": "markdown",
   "metadata": {},
   "source": [
    "## 1. Install MLFlow"
   ]
  },
  {
   "cell_type": "code",
   "execution_count": 2,
   "metadata": {},
   "outputs": [
    {
     "name": "stdout",
     "output_type": "stream",
     "text": [
      "Requirement already satisfied: mlflow==2.20.1 in c:\\users\\usuario\\documents\\master ia\\mia 24-25\\edem_mda2425\\venv\\lib\\site-packages (from -r requeriments.txt (line 1)) (2.20.1)\n",
      "Requirement already satisfied: pandas==2.2.3 in c:\\users\\usuario\\documents\\master ia\\mia 24-25\\edem_mda2425\\venv\\lib\\site-packages (from -r requeriments.txt (line 2)) (2.2.3)\n",
      "Requirement already satisfied: numpy==1.26.4 in c:\\users\\usuario\\documents\\master ia\\mia 24-25\\edem_mda2425\\venv\\lib\\site-packages (from -r requeriments.txt (line 3)) (1.26.4)\n",
      "Requirement already satisfied: scikit-learn==1.6.1 in c:\\users\\usuario\\documents\\master ia\\mia 24-25\\edem_mda2425\\venv\\lib\\site-packages (from -r requeriments.txt (line 4)) (1.6.1)\n",
      "Requirement already satisfied: optuna==4.2.0 in c:\\users\\usuario\\documents\\master ia\\mia 24-25\\edem_mda2425\\venv\\lib\\site-packages (from -r requeriments.txt (line 5)) (4.2.0)\n",
      "Requirement already satisfied: mlflow-skinny==2.20.1 in c:\\users\\usuario\\documents\\master ia\\mia 24-25\\edem_mda2425\\venv\\lib\\site-packages (from mlflow==2.20.1->-r requeriments.txt (line 1)) (2.20.1)\n",
      "Requirement already satisfied: Flask<4 in c:\\users\\usuario\\documents\\master ia\\mia 24-25\\edem_mda2425\\venv\\lib\\site-packages (from mlflow==2.20.1->-r requeriments.txt (line 1)) (3.1.0)\n",
      "Requirement already satisfied: Jinja2<4,>=3.0 in c:\\users\\usuario\\documents\\master ia\\mia 24-25\\edem_mda2425\\venv\\lib\\site-packages (from mlflow==2.20.1->-r requeriments.txt (line 1)) (3.1.5)\n",
      "Requirement already satisfied: alembic!=1.10.0,<2 in c:\\users\\usuario\\documents\\master ia\\mia 24-25\\edem_mda2425\\venv\\lib\\site-packages (from mlflow==2.20.1->-r requeriments.txt (line 1)) (1.15.1)\n",
      "Requirement already satisfied: docker<8,>=4.0.0 in c:\\users\\usuario\\documents\\master ia\\mia 24-25\\edem_mda2425\\venv\\lib\\site-packages (from mlflow==2.20.1->-r requeriments.txt (line 1)) (7.1.0)\n",
      "Requirement already satisfied: graphene<4 in c:\\users\\usuario\\documents\\master ia\\mia 24-25\\edem_mda2425\\venv\\lib\\site-packages (from mlflow==2.20.1->-r requeriments.txt (line 1)) (3.4.3)\n",
      "Requirement already satisfied: markdown<4,>=3.3 in c:\\users\\usuario\\documents\\master ia\\mia 24-25\\edem_mda2425\\venv\\lib\\site-packages (from mlflow==2.20.1->-r requeriments.txt (line 1)) (3.7)\n",
      "Requirement already satisfied: matplotlib<4 in c:\\users\\usuario\\documents\\master ia\\mia 24-25\\edem_mda2425\\venv\\lib\\site-packages (from mlflow==2.20.1->-r requeriments.txt (line 1)) (3.10.1)\n",
      "Requirement already satisfied: pyarrow<19,>=4.0.0 in c:\\users\\usuario\\documents\\master ia\\mia 24-25\\edem_mda2425\\venv\\lib\\site-packages (from mlflow==2.20.1->-r requeriments.txt (line 1)) (18.1.0)\n",
      "Requirement already satisfied: scipy<2 in c:\\users\\usuario\\documents\\master ia\\mia 24-25\\edem_mda2425\\venv\\lib\\site-packages (from mlflow==2.20.1->-r requeriments.txt (line 1)) (1.15.2)\n",
      "Requirement already satisfied: sqlalchemy<3,>=1.4.0 in c:\\users\\usuario\\documents\\master ia\\mia 24-25\\edem_mda2425\\venv\\lib\\site-packages (from mlflow==2.20.1->-r requeriments.txt (line 1)) (2.0.38)\n",
      "Requirement already satisfied: waitress<4 in c:\\users\\usuario\\documents\\master ia\\mia 24-25\\edem_mda2425\\venv\\lib\\site-packages (from mlflow==2.20.1->-r requeriments.txt (line 1)) (3.0.2)\n",
      "Requirement already satisfied: python-dateutil>=2.8.2 in c:\\users\\usuario\\documents\\master ia\\mia 24-25\\edem_mda2425\\venv\\lib\\site-packages (from pandas==2.2.3->-r requeriments.txt (line 2)) (2.9.0.post0)\n",
      "Requirement already satisfied: pytz>=2020.1 in c:\\users\\usuario\\documents\\master ia\\mia 24-25\\edem_mda2425\\venv\\lib\\site-packages (from pandas==2.2.3->-r requeriments.txt (line 2)) (2025.1)\n",
      "Requirement already satisfied: tzdata>=2022.7 in c:\\users\\usuario\\documents\\master ia\\mia 24-25\\edem_mda2425\\venv\\lib\\site-packages (from pandas==2.2.3->-r requeriments.txt (line 2)) (2025.1)\n",
      "Requirement already satisfied: joblib>=1.2.0 in c:\\users\\usuario\\documents\\master ia\\mia 24-25\\edem_mda2425\\venv\\lib\\site-packages (from scikit-learn==1.6.1->-r requeriments.txt (line 4)) (1.4.2)\n",
      "Requirement already satisfied: threadpoolctl>=3.1.0 in c:\\users\\usuario\\documents\\master ia\\mia 24-25\\edem_mda2425\\venv\\lib\\site-packages (from scikit-learn==1.6.1->-r requeriments.txt (line 4)) (3.5.0)\n",
      "Requirement already satisfied: colorlog in c:\\users\\usuario\\documents\\master ia\\mia 24-25\\edem_mda2425\\venv\\lib\\site-packages (from optuna==4.2.0->-r requeriments.txt (line 5)) (6.9.0)\n",
      "Requirement already satisfied: packaging>=20.0 in c:\\users\\usuario\\documents\\master ia\\mia 24-25\\edem_mda2425\\venv\\lib\\site-packages (from optuna==4.2.0->-r requeriments.txt (line 5)) (24.2)\n",
      "Requirement already satisfied: tqdm in c:\\users\\usuario\\documents\\master ia\\mia 24-25\\edem_mda2425\\venv\\lib\\site-packages (from optuna==4.2.0->-r requeriments.txt (line 5)) (4.67.1)\n",
      "Requirement already satisfied: PyYAML in c:\\users\\usuario\\documents\\master ia\\mia 24-25\\edem_mda2425\\venv\\lib\\site-packages (from optuna==4.2.0->-r requeriments.txt (line 5)) (6.0.2)\n",
      "Requirement already satisfied: cachetools<6,>=5.0.0 in c:\\users\\usuario\\documents\\master ia\\mia 24-25\\edem_mda2425\\venv\\lib\\site-packages (from mlflow-skinny==2.20.1->mlflow==2.20.1->-r requeriments.txt (line 1)) (5.5.2)\n",
      "Requirement already satisfied: click<9,>=7.0 in c:\\users\\usuario\\documents\\master ia\\mia 24-25\\edem_mda2425\\venv\\lib\\site-packages (from mlflow-skinny==2.20.1->mlflow==2.20.1->-r requeriments.txt (line 1)) (8.1.8)\n",
      "Requirement already satisfied: cloudpickle<4 in c:\\users\\usuario\\documents\\master ia\\mia 24-25\\edem_mda2425\\venv\\lib\\site-packages (from mlflow-skinny==2.20.1->mlflow==2.20.1->-r requeriments.txt (line 1)) (3.1.1)\n",
      "Requirement already satisfied: databricks-sdk<1,>=0.20.0 in c:\\users\\usuario\\documents\\master ia\\mia 24-25\\edem_mda2425\\venv\\lib\\site-packages (from mlflow-skinny==2.20.1->mlflow==2.20.1->-r requeriments.txt (line 1)) (0.44.1)\n",
      "Requirement already satisfied: gitpython<4,>=3.1.9 in c:\\users\\usuario\\documents\\master ia\\mia 24-25\\edem_mda2425\\venv\\lib\\site-packages (from mlflow-skinny==2.20.1->mlflow==2.20.1->-r requeriments.txt (line 1)) (3.1.44)\n",
      "Requirement already satisfied: importlib_metadata!=4.7.0,<9,>=3.7.0 in c:\\users\\usuario\\documents\\master ia\\mia 24-25\\edem_mda2425\\venv\\lib\\site-packages (from mlflow-skinny==2.20.1->mlflow==2.20.1->-r requeriments.txt (line 1)) (8.5.0)\n",
      "Requirement already satisfied: opentelemetry-api<3,>=1.9.0 in c:\\users\\usuario\\documents\\master ia\\mia 24-25\\edem_mda2425\\venv\\lib\\site-packages (from mlflow-skinny==2.20.1->mlflow==2.20.1->-r requeriments.txt (line 1)) (1.30.0)\n",
      "Requirement already satisfied: opentelemetry-sdk<3,>=1.9.0 in c:\\users\\usuario\\documents\\master ia\\mia 24-25\\edem_mda2425\\venv\\lib\\site-packages (from mlflow-skinny==2.20.1->mlflow==2.20.1->-r requeriments.txt (line 1)) (1.30.0)\n",
      "Requirement already satisfied: protobuf<6,>=3.12.0 in c:\\users\\usuario\\documents\\master ia\\mia 24-25\\edem_mda2425\\venv\\lib\\site-packages (from mlflow-skinny==2.20.1->mlflow==2.20.1->-r requeriments.txt (line 1)) (5.29.3)\n",
      "Requirement already satisfied: pydantic<3,>=1.0 in c:\\users\\usuario\\documents\\master ia\\mia 24-25\\edem_mda2425\\venv\\lib\\site-packages (from mlflow-skinny==2.20.1->mlflow==2.20.1->-r requeriments.txt (line 1)) (1.10.21)\n",
      "Requirement already satisfied: requests<3,>=2.17.3 in c:\\users\\usuario\\documents\\master ia\\mia 24-25\\edem_mda2425\\venv\\lib\\site-packages (from mlflow-skinny==2.20.1->mlflow==2.20.1->-r requeriments.txt (line 1)) (2.32.3)\n",
      "Requirement already satisfied: sqlparse<1,>=0.4.0 in c:\\users\\usuario\\documents\\master ia\\mia 24-25\\edem_mda2425\\venv\\lib\\site-packages (from mlflow-skinny==2.20.1->mlflow==2.20.1->-r requeriments.txt (line 1)) (0.5.3)\n",
      "Requirement already satisfied: typing-extensions<5,>=4.0.0 in c:\\users\\usuario\\documents\\master ia\\mia 24-25\\edem_mda2425\\venv\\lib\\site-packages (from mlflow-skinny==2.20.1->mlflow==2.20.1->-r requeriments.txt (line 1)) (4.12.2)\n",
      "Requirement already satisfied: Mako in c:\\users\\usuario\\documents\\master ia\\mia 24-25\\edem_mda2425\\venv\\lib\\site-packages (from alembic!=1.10.0,<2->mlflow==2.20.1->-r requeriments.txt (line 1)) (1.3.9)\n",
      "Requirement already satisfied: pywin32>=304 in c:\\users\\usuario\\documents\\master ia\\mia 24-25\\edem_mda2425\\venv\\lib\\site-packages (from docker<8,>=4.0.0->mlflow==2.20.1->-r requeriments.txt (line 1)) (308)\n",
      "Requirement already satisfied: urllib3>=1.26.0 in c:\\users\\usuario\\documents\\master ia\\mia 24-25\\edem_mda2425\\venv\\lib\\site-packages (from docker<8,>=4.0.0->mlflow==2.20.1->-r requeriments.txt (line 1)) (2.3.0)\n",
      "Requirement already satisfied: Werkzeug>=3.1 in c:\\users\\usuario\\documents\\master ia\\mia 24-25\\edem_mda2425\\venv\\lib\\site-packages (from Flask<4->mlflow==2.20.1->-r requeriments.txt (line 1)) (3.1.3)\n",
      "Requirement already satisfied: itsdangerous>=2.2 in c:\\users\\usuario\\documents\\master ia\\mia 24-25\\edem_mda2425\\venv\\lib\\site-packages (from Flask<4->mlflow==2.20.1->-r requeriments.txt (line 1)) (2.2.0)\n",
      "Requirement already satisfied: blinker>=1.9 in c:\\users\\usuario\\documents\\master ia\\mia 24-25\\edem_mda2425\\venv\\lib\\site-packages (from Flask<4->mlflow==2.20.1->-r requeriments.txt (line 1)) (1.9.0)\n",
      "Requirement already satisfied: graphql-core<3.3,>=3.1 in c:\\users\\usuario\\documents\\master ia\\mia 24-25\\edem_mda2425\\venv\\lib\\site-packages (from graphene<4->mlflow==2.20.1->-r requeriments.txt (line 1)) (3.2.6)\n",
      "Requirement already satisfied: graphql-relay<3.3,>=3.1 in c:\\users\\usuario\\documents\\master ia\\mia 24-25\\edem_mda2425\\venv\\lib\\site-packages (from graphene<4->mlflow==2.20.1->-r requeriments.txt (line 1)) (3.2.0)\n",
      "Requirement already satisfied: MarkupSafe>=2.0 in c:\\users\\usuario\\documents\\master ia\\mia 24-25\\edem_mda2425\\venv\\lib\\site-packages (from Jinja2<4,>=3.0->mlflow==2.20.1->-r requeriments.txt (line 1)) (3.0.2)\n",
      "Requirement already satisfied: contourpy>=1.0.1 in c:\\users\\usuario\\documents\\master ia\\mia 24-25\\edem_mda2425\\venv\\lib\\site-packages (from matplotlib<4->mlflow==2.20.1->-r requeriments.txt (line 1)) (1.3.1)\n",
      "Requirement already satisfied: cycler>=0.10 in c:\\users\\usuario\\documents\\master ia\\mia 24-25\\edem_mda2425\\venv\\lib\\site-packages (from matplotlib<4->mlflow==2.20.1->-r requeriments.txt (line 1)) (0.12.1)\n",
      "Requirement already satisfied: fonttools>=4.22.0 in c:\\users\\usuario\\documents\\master ia\\mia 24-25\\edem_mda2425\\venv\\lib\\site-packages (from matplotlib<4->mlflow==2.20.1->-r requeriments.txt (line 1)) (4.56.0)\n",
      "Requirement already satisfied: kiwisolver>=1.3.1 in c:\\users\\usuario\\documents\\master ia\\mia 24-25\\edem_mda2425\\venv\\lib\\site-packages (from matplotlib<4->mlflow==2.20.1->-r requeriments.txt (line 1)) (1.4.8)\n",
      "Requirement already satisfied: pillow>=8 in c:\\users\\usuario\\documents\\master ia\\mia 24-25\\edem_mda2425\\venv\\lib\\site-packages (from matplotlib<4->mlflow==2.20.1->-r requeriments.txt (line 1)) (11.1.0)\n",
      "Requirement already satisfied: pyparsing>=2.3.1 in c:\\users\\usuario\\documents\\master ia\\mia 24-25\\edem_mda2425\\venv\\lib\\site-packages (from matplotlib<4->mlflow==2.20.1->-r requeriments.txt (line 1)) (3.2.1)\n",
      "Requirement already satisfied: six>=1.5 in c:\\users\\usuario\\documents\\master ia\\mia 24-25\\edem_mda2425\\venv\\lib\\site-packages (from python-dateutil>=2.8.2->pandas==2.2.3->-r requeriments.txt (line 2)) (1.17.0)\n",
      "Requirement already satisfied: greenlet!=0.4.17 in c:\\users\\usuario\\documents\\master ia\\mia 24-25\\edem_mda2425\\venv\\lib\\site-packages (from sqlalchemy<3,>=1.4.0->mlflow==2.20.1->-r requeriments.txt (line 1)) (3.1.1)\n",
      "Requirement already satisfied: colorama in c:\\users\\usuario\\documents\\master ia\\mia 24-25\\edem_mda2425\\venv\\lib\\site-packages (from colorlog->optuna==4.2.0->-r requeriments.txt (line 5)) (0.4.6)\n",
      "Requirement already satisfied: google-auth~=2.0 in c:\\users\\usuario\\documents\\master ia\\mia 24-25\\edem_mda2425\\venv\\lib\\site-packages (from databricks-sdk<1,>=0.20.0->mlflow-skinny==2.20.1->mlflow==2.20.1->-r requeriments.txt (line 1)) (2.38.0)\n",
      "Requirement already satisfied: gitdb<5,>=4.0.1 in c:\\users\\usuario\\documents\\master ia\\mia 24-25\\edem_mda2425\\venv\\lib\\site-packages (from gitpython<4,>=3.1.9->mlflow-skinny==2.20.1->mlflow==2.20.1->-r requeriments.txt (line 1)) (4.0.12)\n",
      "Requirement already satisfied: zipp>=3.20 in c:\\users\\usuario\\documents\\master ia\\mia 24-25\\edem_mda2425\\venv\\lib\\site-packages (from importlib_metadata!=4.7.0,<9,>=3.7.0->mlflow-skinny==2.20.1->mlflow==2.20.1->-r requeriments.txt (line 1)) (3.21.0)\n",
      "Requirement already satisfied: deprecated>=1.2.6 in c:\\users\\usuario\\documents\\master ia\\mia 24-25\\edem_mda2425\\venv\\lib\\site-packages (from opentelemetry-api<3,>=1.9.0->mlflow-skinny==2.20.1->mlflow==2.20.1->-r requeriments.txt (line 1)) (1.2.18)\n",
      "Requirement already satisfied: opentelemetry-semantic-conventions==0.51b0 in c:\\users\\usuario\\documents\\master ia\\mia 24-25\\edem_mda2425\\venv\\lib\\site-packages (from opentelemetry-sdk<3,>=1.9.0->mlflow-skinny==2.20.1->mlflow==2.20.1->-r requeriments.txt (line 1)) (0.51b0)\n",
      "Requirement already satisfied: charset-normalizer<4,>=2 in c:\\users\\usuario\\documents\\master ia\\mia 24-25\\edem_mda2425\\venv\\lib\\site-packages (from requests<3,>=2.17.3->mlflow-skinny==2.20.1->mlflow==2.20.1->-r requeriments.txt (line 1)) (3.4.1)\n",
      "Requirement already satisfied: idna<4,>=2.5 in c:\\users\\usuario\\documents\\master ia\\mia 24-25\\edem_mda2425\\venv\\lib\\site-packages (from requests<3,>=2.17.3->mlflow-skinny==2.20.1->mlflow==2.20.1->-r requeriments.txt (line 1)) (3.10)\n",
      "Requirement already satisfied: certifi>=2017.4.17 in c:\\users\\usuario\\documents\\master ia\\mia 24-25\\edem_mda2425\\venv\\lib\\site-packages (from requests<3,>=2.17.3->mlflow-skinny==2.20.1->mlflow==2.20.1->-r requeriments.txt (line 1)) (2025.1.31)\n",
      "Requirement already satisfied: wrapt<2,>=1.10 in c:\\users\\usuario\\documents\\master ia\\mia 24-25\\edem_mda2425\\venv\\lib\\site-packages (from deprecated>=1.2.6->opentelemetry-api<3,>=1.9.0->mlflow-skinny==2.20.1->mlflow==2.20.1->-r requeriments.txt (line 1)) (1.17.2)\n",
      "Requirement already satisfied: smmap<6,>=3.0.1 in c:\\users\\usuario\\documents\\master ia\\mia 24-25\\edem_mda2425\\venv\\lib\\site-packages (from gitdb<5,>=4.0.1->gitpython<4,>=3.1.9->mlflow-skinny==2.20.1->mlflow==2.20.1->-r requeriments.txt (line 1)) (5.0.2)\n",
      "Requirement already satisfied: pyasn1-modules>=0.2.1 in c:\\users\\usuario\\documents\\master ia\\mia 24-25\\edem_mda2425\\venv\\lib\\site-packages (from google-auth~=2.0->databricks-sdk<1,>=0.20.0->mlflow-skinny==2.20.1->mlflow==2.20.1->-r requeriments.txt (line 1)) (0.4.1)\n",
      "Requirement already satisfied: rsa<5,>=3.1.4 in c:\\users\\usuario\\documents\\master ia\\mia 24-25\\edem_mda2425\\venv\\lib\\site-packages (from google-auth~=2.0->databricks-sdk<1,>=0.20.0->mlflow-skinny==2.20.1->mlflow==2.20.1->-r requeriments.txt (line 1)) (4.9)\n",
      "Requirement already satisfied: pyasn1<0.7.0,>=0.4.6 in c:\\users\\usuario\\documents\\master ia\\mia 24-25\\edem_mda2425\\venv\\lib\\site-packages (from pyasn1-modules>=0.2.1->google-auth~=2.0->databricks-sdk<1,>=0.20.0->mlflow-skinny==2.20.1->mlflow==2.20.1->-r requeriments.txt (line 1)) (0.6.1)\n"
     ]
    },
    {
     "name": "stderr",
     "output_type": "stream",
     "text": [
      "\"grep\" no se reconoce como un comando interno o externo,\n",
      "programa o archivo por lotes ejecutable.\n"
     ]
    }
   ],
   "source": [
    " !pip install -r requeriments.txt\n",
    "!pip freeze | grep mlflow"
   ]
  },
  {
   "attachments": {},
   "cell_type": "markdown",
   "metadata": {},
   "source": [
    "\n",
    "## 2. Start the MLFlow server.\n",
    "\n",
    "To do this, run the following command in a terminal:\n",
    "\n",
    "mlflow ui --host 0.0.0.0 --port 5001"
   ]
  },
  {
   "attachments": {},
   "cell_type": "markdown",
   "metadata": {},
   "source": [
    "## 3. Create a new experiment"
   ]
  },
  {
   "cell_type": "code",
   "execution_count": 3,
   "metadata": {},
   "outputs": [
    {
     "name": "stderr",
     "output_type": "stream",
     "text": [
      "2025/03/05 18:02:40 INFO mlflow.tracking.fluent: Experiment with name 'mlflow-model-training-iris' does not exist. Creating a new experiment.\n"
     ]
    },
    {
     "data": {
      "text/plain": [
       "<Experiment: artifact_location='mlflow-artifacts:/301193664384281066', creation_time=1741194160027, experiment_id='301193664384281066', last_update_time=1741194160027, lifecycle_stage='active', name='mlflow-model-training-iris', tags={}>"
      ]
     },
     "execution_count": 3,
     "metadata": {},
     "output_type": "execute_result"
    }
   ],
   "source": [
    "import mlflow\n",
    "mlflow.set_tracking_uri(\"http://localhost:5001\")\n",
    "mlflow.set_experiment(\"mlflow-model-training-iris\")"
   ]
  },
  {
   "attachments": {},
   "cell_type": "markdown",
   "metadata": {},
   "source": [
    "## 4. Log a model experiment result"
   ]
  },
  {
   "cell_type": "code",
   "execution_count": 4,
   "metadata": {},
   "outputs": [
    {
     "name": "stdout",
     "output_type": "stream",
     "text": [
      "🏃 View run mlflow-training-2025-03-05-18-03-59 at: http://localhost:5001/#/experiments/301193664384281066/runs/73e099332d0f45ff9180439ff6354291\n",
      "🧪 View experiment at: http://localhost:5001/#/experiments/301193664384281066\n"
     ]
    }
   ],
   "source": [
    "# Lets first create a simple function to train a model\n",
    "# The function will receive a set of hyperparameters and return the model and the accuracy\n",
    "import datetime\n",
    "from mlflow.models import infer_signature\n",
    "\n",
    "def get_data():\n",
    "    from sklearn import datasets\n",
    "\n",
    "    # X, y = datasets.make_classification(n_samples=1000, n_features=4, n_informative=4, n_redundant=0, n_classes=3, n_clusters_per_class=1, class_sep=0.5, random_state=40)\n",
    "    # use iris dataset\n",
    "    X, y = datasets.load_iris(return_X_y=True)\n",
    "    return X, y\n",
    "\n",
    "def train_model(hyperparameters):\n",
    "    from sklearn.ensemble import RandomForestClassifier\n",
    "    from sklearn.metrics import accuracy_score\n",
    "    from sklearn.model_selection import train_test_split\n",
    "    import mlflow.sklearn\n",
    "    X, y = get_data()\n",
    "    X_train, X_test, y_train, y_test = train_test_split(X, y, test_size=0.2, random_state=40)\n",
    "    model = RandomForestClassifier(**hyperparameters)\n",
    "    model.fit(X_train, y_train)\n",
    "    y_pred = model.predict(X_test)\n",
    "    signature = infer_signature(X, model.predict(X))\n",
    "    accuracy = accuracy_score(y_pred, y_test)\n",
    "    return model, signature, accuracy\n",
    "\n",
    "# Now lets train a model with some hyperparameters\n",
    "hyperparameters = {\"n_estimators\": 10, \"max_depth\": 5}\n",
    "model, signature, accuracy = train_model(hyperparameters)\n",
    "\n",
    "# Now lets log the model and the accuracy\n",
    "date = datetime.datetime.now().strftime(\"%Y-%m-%d-%H-%M-%S\")\n",
    "with mlflow.start_run(run_name=f\"mlflow-training-{date}\"):\n",
    "    \n",
    "    # Hyperparameters are logged as parameters\n",
    "    for hyperparameter, value in hyperparameters.items():\n",
    "        mlflow.log_param(hyperparameter, value)\n",
    "    \n",
    "    # Accuracy is logged as a metric \n",
    "    mlflow.log_metric(\"accuracy\", accuracy)\n",
    "    \n",
    "    # Model is logged as an artifact\n",
    "    mlflow.sklearn.log_model(model, \"model\", signature=signature)"
   ]
  },
  {
   "attachments": {},
   "cell_type": "markdown",
   "metadata": {},
   "source": [
    "## 5. Run a hyperparameter search and log the results"
   ]
  },
  {
   "cell_type": "code",
   "execution_count": 5,
   "metadata": {},
   "outputs": [
    {
     "name": "stderr",
     "output_type": "stream",
     "text": [
      "c:\\Users\\Usuario\\Documents\\Master IA\\MIA 24-25\\EDEM_MDA2425\\venv\\Lib\\site-packages\\tqdm\\auto.py:21: TqdmWarning: IProgress not found. Please update jupyter and ipywidgets. See https://ipywidgets.readthedocs.io/en/stable/user_install.html\n",
      "  from .autonotebook import tqdm as notebook_tqdm\n",
      "[I 2025-03-05 18:05:50,141] A new study created in memory with name: no-name-60a82e51-7025-4eb8-82db-097e77491131\n",
      "[I 2025-03-05 18:05:51,081] Trial 0 finished with value: 0.9666666666666668 and parameters: {'n_estimators': 94, 'max_depth': 7, 'min_samples_split': 2, 'min_samples_leaf': 1, 'max_features': 0.7880681117631002}. Best is trial 0 with value: 0.9666666666666668.\n"
     ]
    },
    {
     "name": "stdout",
     "output_type": "stream",
     "text": [
      "🏃 View run optuna-hp-0-2025-03-05-18-05-50 at: http://localhost:5001/#/experiments/301193664384281066/runs/d0daf1673cd94bf791838ed50b393481\n",
      "🧪 View experiment at: http://localhost:5001/#/experiments/301193664384281066\n"
     ]
    },
    {
     "name": "stderr",
     "output_type": "stream",
     "text": [
      "[I 2025-03-05 18:05:51,317] Trial 1 finished with value: 0.96 and parameters: {'n_estimators': 8, 'max_depth': 8, 'min_samples_split': 13, 'min_samples_leaf': 2, 'max_features': 0.32029294144090137}. Best is trial 1 with value: 0.96.\n"
     ]
    },
    {
     "name": "stdout",
     "output_type": "stream",
     "text": [
      "🏃 View run optuna-hp-1-2025-03-05-18-05-51 at: http://localhost:5001/#/experiments/301193664384281066/runs/716566c59b1f4012830a8b3787ff9692\n",
      "🧪 View experiment at: http://localhost:5001/#/experiments/301193664384281066\n"
     ]
    },
    {
     "name": "stderr",
     "output_type": "stream",
     "text": [
      "[I 2025-03-05 18:05:51,964] Trial 2 finished with value: 0.9533333333333334 and parameters: {'n_estimators': 83, 'max_depth': 9, 'min_samples_split': 20, 'min_samples_leaf': 20, 'max_features': 0.8168561374199689}. Best is trial 2 with value: 0.9533333333333334.\n"
     ]
    },
    {
     "name": "stdout",
     "output_type": "stream",
     "text": [
      "🏃 View run optuna-hp-2-2025-03-05-18-05-51 at: http://localhost:5001/#/experiments/301193664384281066/runs/82eddc37496945e98dac419b95c265ee\n",
      "🧪 View experiment at: http://localhost:5001/#/experiments/301193664384281066\n"
     ]
    },
    {
     "name": "stderr",
     "output_type": "stream",
     "text": [
      "[I 2025-03-05 18:05:52,633] Trial 3 finished with value: 0.9533333333333334 and parameters: {'n_estimators': 95, 'max_depth': 7, 'min_samples_split': 6, 'min_samples_leaf': 15, 'max_features': 0.18885224479230878}. Best is trial 2 with value: 0.9533333333333334.\n"
     ]
    },
    {
     "name": "stdout",
     "output_type": "stream",
     "text": [
      "🏃 View run optuna-hp-3-2025-03-05-18-05-51 at: http://localhost:5001/#/experiments/301193664384281066/runs/49f613ebe48a431199d612c74dca7337\n",
      "🧪 View experiment at: http://localhost:5001/#/experiments/301193664384281066\n"
     ]
    },
    {
     "name": "stderr",
     "output_type": "stream",
     "text": [
      "[I 2025-03-05 18:05:52,879] Trial 4 finished with value: 0.9600000000000002 and parameters: {'n_estimators': 18, 'max_depth': 5, 'min_samples_split': 8, 'min_samples_leaf': 5, 'max_features': 0.45897954790933926}. Best is trial 2 with value: 0.9533333333333334.\n"
     ]
    },
    {
     "name": "stdout",
     "output_type": "stream",
     "text": [
      "🏃 View run optuna-hp-4-2025-03-05-18-05-52 at: http://localhost:5001/#/experiments/301193664384281066/runs/bc4dfe1f64d141d49f320b93edc15ac5\n",
      "🧪 View experiment at: http://localhost:5001/#/experiments/301193664384281066\n"
     ]
    },
    {
     "name": "stderr",
     "output_type": "stream",
     "text": [
      "[I 2025-03-05 18:05:53,422] Trial 5 finished with value: 0.9533333333333334 and parameters: {'n_estimators': 79, 'max_depth': 9, 'min_samples_split': 3, 'min_samples_leaf': 17, 'max_features': 0.6483028570230949}. Best is trial 2 with value: 0.9533333333333334.\n"
     ]
    },
    {
     "name": "stdout",
     "output_type": "stream",
     "text": [
      "🏃 View run optuna-hp-5-2025-03-05-18-05-52 at: http://localhost:5001/#/experiments/301193664384281066/runs/1ed5ba0547b14cd785c6e818f9ef47d0\n",
      "🧪 View experiment at: http://localhost:5001/#/experiments/301193664384281066\n"
     ]
    },
    {
     "name": "stderr",
     "output_type": "stream",
     "text": [
      "[I 2025-03-05 18:05:53,717] Trial 6 finished with value: 0.9466666666666665 and parameters: {'n_estimators': 23, 'max_depth': 5, 'min_samples_split': 11, 'min_samples_leaf': 6, 'max_features': 0.8200405273030891}. Best is trial 6 with value: 0.9466666666666665.\n"
     ]
    },
    {
     "name": "stdout",
     "output_type": "stream",
     "text": [
      "🏃 View run optuna-hp-6-2025-03-05-18-05-53 at: http://localhost:5001/#/experiments/301193664384281066/runs/052de4a663714f5eaa8000fad8c539c7\n",
      "🧪 View experiment at: http://localhost:5001/#/experiments/301193664384281066\n"
     ]
    },
    {
     "name": "stderr",
     "output_type": "stream",
     "text": [
      "[I 2025-03-05 18:05:54,091] Trial 7 finished with value: 0.9666666666666668 and parameters: {'n_estimators': 38, 'max_depth': 7, 'min_samples_split': 4, 'min_samples_leaf': 2, 'max_features': 0.5897786983415703}. Best is trial 6 with value: 0.9466666666666665.\n"
     ]
    },
    {
     "name": "stdout",
     "output_type": "stream",
     "text": [
      "🏃 View run optuna-hp-7-2025-03-05-18-05-53 at: http://localhost:5001/#/experiments/301193664384281066/runs/7e2a0f3550bc4f71a3b8421266a31131\n",
      "🧪 View experiment at: http://localhost:5001/#/experiments/301193664384281066\n"
     ]
    },
    {
     "name": "stderr",
     "output_type": "stream",
     "text": [
      "[I 2025-03-05 18:05:54,678] Trial 8 finished with value: 0.9466666666666665 and parameters: {'n_estimators': 82, 'max_depth': 3, 'min_samples_split': 12, 'min_samples_leaf': 15, 'max_features': 0.1711786905376828}. Best is trial 6 with value: 0.9466666666666665.\n"
     ]
    },
    {
     "name": "stdout",
     "output_type": "stream",
     "text": [
      "🏃 View run optuna-hp-8-2025-03-05-18-05-54 at: http://localhost:5001/#/experiments/301193664384281066/runs/b557867121444a53b0269ea3fad3d321\n",
      "🧪 View experiment at: http://localhost:5001/#/experiments/301193664384281066\n"
     ]
    },
    {
     "name": "stderr",
     "output_type": "stream",
     "text": [
      "[I 2025-03-05 18:05:55,266] Trial 9 finished with value: 0.9533333333333334 and parameters: {'n_estimators': 88, 'max_depth': 6, 'min_samples_split': 7, 'min_samples_leaf': 6, 'max_features': 0.25764590119660274}. Best is trial 6 with value: 0.9466666666666665.\n"
     ]
    },
    {
     "name": "stdout",
     "output_type": "stream",
     "text": [
      "🏃 View run optuna-hp-9-2025-03-05-18-05-54 at: http://localhost:5001/#/experiments/301193664384281066/runs/41a3595f7c6243dcaf3eb295feb4275c\n",
      "🧪 View experiment at: http://localhost:5001/#/experiments/301193664384281066\n"
     ]
    },
    {
     "name": "stderr",
     "output_type": "stream",
     "text": [
      "[I 2025-03-05 18:05:55,731] Trial 10 finished with value: 0.9466666666666667 and parameters: {'n_estimators': 52, 'max_depth': 2, 'min_samples_split': 16, 'min_samples_leaf': 10, 'max_features': 0.9988163023590493}. Best is trial 6 with value: 0.9466666666666665.\n"
     ]
    },
    {
     "name": "stdout",
     "output_type": "stream",
     "text": [
      "🏃 View run optuna-hp-10-2025-03-05-18-05-55 at: http://localhost:5001/#/experiments/301193664384281066/runs/a4ca1c5323d148e99b846136c790db56\n",
      "🧪 View experiment at: http://localhost:5001/#/experiments/301193664384281066\n"
     ]
    },
    {
     "name": "stderr",
     "output_type": "stream",
     "text": [
      "[I 2025-03-05 18:05:56,228] Trial 11 finished with value: 0.9466666666666667 and parameters: {'n_estimators': 61, 'max_depth': 3, 'min_samples_split': 12, 'min_samples_leaf': 12, 'max_features': 0.11840685374928217}. Best is trial 6 with value: 0.9466666666666665.\n"
     ]
    },
    {
     "name": "stdout",
     "output_type": "stream",
     "text": [
      "🏃 View run optuna-hp-11-2025-03-05-18-05-55 at: http://localhost:5001/#/experiments/301193664384281066/runs/636327872e74497197f16ef4a96247b6\n",
      "🧪 View experiment at: http://localhost:5001/#/experiments/301193664384281066\n"
     ]
    },
    {
     "name": "stderr",
     "output_type": "stream",
     "text": [
      "[I 2025-03-05 18:05:56,570] Trial 12 finished with value: 0.9466666666666667 and parameters: {'n_estimators': 33, 'max_depth': 4, 'min_samples_split': 10, 'min_samples_leaf': 9, 'max_features': 0.40084112960875445}. Best is trial 6 with value: 0.9466666666666665.\n"
     ]
    },
    {
     "name": "stdout",
     "output_type": "stream",
     "text": [
      "🏃 View run optuna-hp-12-2025-03-05-18-05-56 at: http://localhost:5001/#/experiments/301193664384281066/runs/f382f58eb4324f8ea680fbea2a99fd08\n",
      "🧪 View experiment at: http://localhost:5001/#/experiments/301193664384281066\n"
     ]
    },
    {
     "name": "stderr",
     "output_type": "stream",
     "text": [
      "[I 2025-03-05 18:05:57,126] Trial 13 finished with value: 0.9466666666666665 and parameters: {'n_estimators': 69, 'max_depth': 4, 'min_samples_split': 15, 'min_samples_leaf': 14, 'max_features': 0.9801041703390535}. Best is trial 6 with value: 0.9466666666666665.\n"
     ]
    },
    {
     "name": "stdout",
     "output_type": "stream",
     "text": [
      "🏃 View run optuna-hp-13-2025-03-05-18-05-56 at: http://localhost:5001/#/experiments/301193664384281066/runs/b4838e4dda2541a185e5b02eb12cc2a9\n",
      "🧪 View experiment at: http://localhost:5001/#/experiments/301193664384281066\n"
     ]
    },
    {
     "name": "stderr",
     "output_type": "stream",
     "text": [
      "[I 2025-03-05 18:05:57,501] Trial 14 finished with value: 0.9533333333333334 and parameters: {'n_estimators': 32, 'max_depth': 2, 'min_samples_split': 10, 'min_samples_leaf': 6, 'max_features': 0.688861620184802}. Best is trial 6 with value: 0.9466666666666665.\n"
     ]
    },
    {
     "name": "stdout",
     "output_type": "stream",
     "text": [
      "🏃 View run optuna-hp-14-2025-03-05-18-05-57 at: http://localhost:5001/#/experiments/301193664384281066/runs/3834e33d50b341e0b74b73d6f9466d35\n",
      "🧪 View experiment at: http://localhost:5001/#/experiments/301193664384281066\n"
     ]
    },
    {
     "name": "stderr",
     "output_type": "stream",
     "text": [
      "[I 2025-03-05 18:05:57,707] Trial 15 finished with value: 0.9400000000000001 and parameters: {'n_estimators': 4, 'max_depth': 5, 'min_samples_split': 17, 'min_samples_leaf': 19, 'max_features': 0.5049720764865706}. Best is trial 15 with value: 0.9400000000000001.\n"
     ]
    },
    {
     "name": "stdout",
     "output_type": "stream",
     "text": [
      "🏃 View run optuna-hp-15-2025-03-05-18-05-57 at: http://localhost:5001/#/experiments/301193664384281066/runs/faf337f0cd4a4729a2303843602090df\n",
      "🧪 View experiment at: http://localhost:5001/#/experiments/301193664384281066\n"
     ]
    },
    {
     "name": "stderr",
     "output_type": "stream",
     "text": [
      "[I 2025-03-05 18:05:57,909] Trial 16 finished with value: 0.8866666666666667 and parameters: {'n_estimators': 2, 'max_depth': 5, 'min_samples_split': 20, 'min_samples_leaf': 20, 'max_features': 0.4916944404906401}. Best is trial 16 with value: 0.8866666666666667.\n"
     ]
    },
    {
     "name": "stdout",
     "output_type": "stream",
     "text": [
      "🏃 View run optuna-hp-16-2025-03-05-18-05-57 at: http://localhost:5001/#/experiments/301193664384281066/runs/60142d2e7e1446c699fbb4cb80e40ed2\n",
      "🧪 View experiment at: http://localhost:5001/#/experiments/301193664384281066\n"
     ]
    },
    {
     "name": "stderr",
     "output_type": "stream",
     "text": [
      "[I 2025-03-05 18:05:58,121] Trial 17 finished with value: 0.7666666666666667 and parameters: {'n_estimators': 1, 'max_depth': 5, 'min_samples_split': 20, 'min_samples_leaf': 20, 'max_features': 0.4893649209325586}. Best is trial 17 with value: 0.7666666666666667.\n"
     ]
    },
    {
     "name": "stdout",
     "output_type": "stream",
     "text": [
      "🏃 View run optuna-hp-17-2025-03-05-18-05-57 at: http://localhost:5001/#/experiments/301193664384281066/runs/a7c4b1750a824d1598c014b252ac7bfe\n",
      "🧪 View experiment at: http://localhost:5001/#/experiments/301193664384281066\n"
     ]
    },
    {
     "name": "stderr",
     "output_type": "stream",
     "text": [
      "[I 2025-03-05 18:05:58,325] Trial 18 finished with value: 0.7533333333333334 and parameters: {'n_estimators': 1, 'max_depth': 10, 'min_samples_split': 20, 'min_samples_leaf': 18, 'max_features': 0.37583534188023265}. Best is trial 18 with value: 0.7533333333333334.\n"
     ]
    },
    {
     "name": "stdout",
     "output_type": "stream",
     "text": [
      "🏃 View run optuna-hp-18-2025-03-05-18-05-58 at: http://localhost:5001/#/experiments/301193664384281066/runs/17ac6ca6eba64bfc82827c6ad3ad9ad4\n",
      "🧪 View experiment at: http://localhost:5001/#/experiments/301193664384281066\n"
     ]
    },
    {
     "name": "stderr",
     "output_type": "stream",
     "text": [
      "[I 2025-03-05 18:05:58,627] Trial 19 finished with value: 0.9333333333333332 and parameters: {'n_estimators': 17, 'max_depth': 10, 'min_samples_split': 18, 'min_samples_leaf': 17, 'max_features': 0.385739907904003}. Best is trial 18 with value: 0.7533333333333334.\n"
     ]
    },
    {
     "name": "stdout",
     "output_type": "stream",
     "text": [
      "🏃 View run optuna-hp-19-2025-03-05-18-05-58 at: http://localhost:5001/#/experiments/301193664384281066/runs/d321b09cc51e4cbd891f49b6341b4560\n",
      "🧪 View experiment at: http://localhost:5001/#/experiments/301193664384281066\n"
     ]
    },
    {
     "name": "stderr",
     "output_type": "stream",
     "text": [
      "[I 2025-03-05 18:05:59,068] Trial 20 finished with value: 0.9399999999999998 and parameters: {'n_estimators': 44, 'max_depth': 10, 'min_samples_split': 18, 'min_samples_leaf': 18, 'max_features': 0.2663825446666492}. Best is trial 18 with value: 0.7533333333333334.\n"
     ]
    },
    {
     "name": "stdout",
     "output_type": "stream",
     "text": [
      "🏃 View run optuna-hp-20-2025-03-05-18-05-58 at: http://localhost:5001/#/experiments/301193664384281066/runs/955ea3aec0234c9180e6aa014f782ef8\n",
      "🧪 View experiment at: http://localhost:5001/#/experiments/301193664384281066\n",
      "🏃 View run optuna-hp-21-2025-03-05-18-05-59 at: http://localhost:5001/#/experiments/301193664384281066/runs/f815877f97ad4efdaa472a0d776d5e94\n",
      "🧪 View experiment at: http://localhost:5001/#/experiments/301193664384281066\n"
     ]
    },
    {
     "name": "stderr",
     "output_type": "stream",
     "text": [
      "[I 2025-03-05 18:05:59,282] Trial 21 finished with value: 0.9400000000000001 and parameters: {'n_estimators': 4, 'max_depth': 6, 'min_samples_split': 20, 'min_samples_leaf': 20, 'max_features': 0.5602970425988746}. Best is trial 18 with value: 0.7533333333333334.\n",
      "[I 2025-03-05 18:05:59,544] Trial 22 finished with value: 0.9199999999999999 and parameters: {'n_estimators': 13, 'max_depth': 6, 'min_samples_split': 20, 'min_samples_leaf': 17, 'max_features': 0.4422313050299706}. Best is trial 18 with value: 0.7533333333333334.\n"
     ]
    },
    {
     "name": "stdout",
     "output_type": "stream",
     "text": [
      "🏃 View run optuna-hp-22-2025-03-05-18-05-59 at: http://localhost:5001/#/experiments/301193664384281066/runs/26bf37237e5941be8e76a5f48676d8fb\n",
      "🧪 View experiment at: http://localhost:5001/#/experiments/301193664384281066\n"
     ]
    },
    {
     "name": "stderr",
     "output_type": "stream",
     "text": [
      "[I 2025-03-05 18:05:59,877] Trial 23 finished with value: 0.9333333333333332 and parameters: {'n_estimators': 25, 'max_depth': 4, 'min_samples_split': 15, 'min_samples_leaf': 20, 'max_features': 0.3373589924919829}. Best is trial 18 with value: 0.7533333333333334.\n"
     ]
    },
    {
     "name": "stdout",
     "output_type": "stream",
     "text": [
      "🏃 View run optuna-hp-23-2025-03-05-18-05-59 at: http://localhost:5001/#/experiments/301193664384281066/runs/bd27c7bb81c04a889e7c17812ed8c6e9\n",
      "🧪 View experiment at: http://localhost:5001/#/experiments/301193664384281066\n"
     ]
    },
    {
     "name": "stderr",
     "output_type": "stream",
     "text": [
      "[I 2025-03-05 18:06:00,080] Trial 24 finished with value: 0.8600000000000001 and parameters: {'n_estimators': 1, 'max_depth': 8, 'min_samples_split': 18, 'min_samples_leaf': 13, 'max_features': 0.5016583286058416}. Best is trial 18 with value: 0.7533333333333334.\n"
     ]
    },
    {
     "name": "stdout",
     "output_type": "stream",
     "text": [
      "🏃 View run optuna-hp-24-2025-03-05-18-05-59 at: http://localhost:5001/#/experiments/301193664384281066/runs/5c4b6e7cebfd422fa124b9aa6984ea4e\n",
      "🧪 View experiment at: http://localhost:5001/#/experiments/301193664384281066\n"
     ]
    },
    {
     "name": "stderr",
     "output_type": "stream",
     "text": [
      "[I 2025-03-05 18:06:00,316] Trial 25 finished with value: 0.9533333333333334 and parameters: {'n_estimators': 11, 'max_depth': 9, 'min_samples_split': 18, 'min_samples_leaf': 12, 'max_features': 0.6236143557673295}. Best is trial 18 with value: 0.7533333333333334.\n"
     ]
    },
    {
     "name": "stdout",
     "output_type": "stream",
     "text": [
      "🏃 View run optuna-hp-25-2025-03-05-18-06-00 at: http://localhost:5001/#/experiments/301193664384281066/runs/e6398c452be54640b3628ca3b4202a73\n",
      "🧪 View experiment at: http://localhost:5001/#/experiments/301193664384281066\n"
     ]
    },
    {
     "name": "stderr",
     "output_type": "stream",
     "text": [
      "[I 2025-03-05 18:06:00,650] Trial 26 finished with value: 0.9533333333333334 and parameters: {'n_estimators': 23, 'max_depth': 8, 'min_samples_split': 14, 'min_samples_leaf': 13, 'max_features': 0.7326054955166925}. Best is trial 18 with value: 0.7533333333333334.\n",
      "[I 2025-03-05 18:06:00,837] Trial 27 finished with value: 0.9400000000000001 and parameters: {'n_estimators': 2, 'max_depth': 8, 'min_samples_split': 18, 'min_samples_leaf': 16, 'max_features': 0.5342834759050966}. Best is trial 18 with value: 0.7533333333333334.\n"
     ]
    },
    {
     "name": "stdout",
     "output_type": "stream",
     "text": [
      "🏃 View run optuna-hp-26-2025-03-05-18-06-00 at: http://localhost:5001/#/experiments/301193664384281066/runs/24fb5f1c156347a5a38f34ae40a4e1fd\n",
      "🧪 View experiment at: http://localhost:5001/#/experiments/301193664384281066\n",
      "🏃 View run optuna-hp-27-2025-03-05-18-06-00 at: http://localhost:5001/#/experiments/301193664384281066/runs/ac06c62a3a4944a2b8dbd23ffdef85b3\n",
      "🧪 View experiment at: http://localhost:5001/#/experiments/301193664384281066\n"
     ]
    },
    {
     "name": "stderr",
     "output_type": "stream",
     "text": [
      "[I 2025-03-05 18:06:01,106] Trial 28 finished with value: 0.9133333333333333 and parameters: {'n_estimators': 12, 'max_depth': 10, 'min_samples_split': 16, 'min_samples_leaf': 18, 'max_features': 0.4019905151796061}. Best is trial 18 with value: 0.7533333333333334.\n"
     ]
    },
    {
     "name": "stdout",
     "output_type": "stream",
     "text": [
      "🏃 View run optuna-hp-28-2025-03-05-18-06-00 at: http://localhost:5001/#/experiments/301193664384281066/runs/ba36a8c813654568956039c523bc5e9c\n",
      "🧪 View experiment at: http://localhost:5001/#/experiments/301193664384281066\n"
     ]
    },
    {
     "name": "stderr",
     "output_type": "stream",
     "text": [
      "[I 2025-03-05 18:06:01,433] Trial 29 finished with value: 0.9466666666666667 and parameters: {'n_estimators': 29, 'max_depth': 9, 'min_samples_split': 19, 'min_samples_leaf': 9, 'max_features': 0.32357904193813125}. Best is trial 18 with value: 0.7533333333333334.\n"
     ]
    },
    {
     "name": "stdout",
     "output_type": "stream",
     "text": [
      "🏃 View run optuna-hp-29-2025-03-05-18-06-01 at: http://localhost:5001/#/experiments/301193664384281066/runs/4b88f906263c4de8bf8ac9c2ed272ab5\n",
      "🧪 View experiment at: http://localhost:5001/#/experiments/301193664384281066\n"
     ]
    },
    {
     "name": "stderr",
     "output_type": "stream",
     "text": [
      "[I 2025-03-05 18:06:01,677] Trial 30 finished with value: 0.9533333333333334 and parameters: {'n_estimators': 16, 'max_depth': 8, 'min_samples_split': 17, 'min_samples_leaf': 15, 'max_features': 0.7376674570576338}. Best is trial 18 with value: 0.7533333333333334.\n",
      "[I 2025-03-05 18:06:01,866] Trial 31 finished with value: 0.8733333333333333 and parameters: {'n_estimators': 2, 'max_depth': 6, 'min_samples_split': 19, 'min_samples_leaf': 19, 'max_features': 0.4960486053430505}. Best is trial 18 with value: 0.7533333333333334.\n"
     ]
    },
    {
     "name": "stdout",
     "output_type": "stream",
     "text": [
      "🏃 View run optuna-hp-30-2025-03-05-18-06-01 at: http://localhost:5001/#/experiments/301193664384281066/runs/2e0d1abc5e4844e6ba3802d2dddbfb06\n",
      "🧪 View experiment at: http://localhost:5001/#/experiments/301193664384281066\n",
      "🏃 View run optuna-hp-31-2025-03-05-18-06-01 at: http://localhost:5001/#/experiments/301193664384281066/runs/f1974e1c8ab4400c85dbf79f1a94681f\n",
      "🧪 View experiment at: http://localhost:5001/#/experiments/301193664384281066\n"
     ]
    },
    {
     "name": "stderr",
     "output_type": "stream",
     "text": [
      "[I 2025-03-05 18:06:02,073] Trial 32 finished with value: 0.9199999999999999 and parameters: {'n_estimators': 8, 'max_depth': 7, 'min_samples_split': 19, 'min_samples_leaf': 18, 'max_features': 0.45955077455246063}. Best is trial 18 with value: 0.7533333333333334.\n",
      "[I 2025-03-05 18:06:02,255] Trial 33 finished with value: 0.9199999999999999 and parameters: {'n_estimators': 2, 'max_depth': 6, 'min_samples_split': 19, 'min_samples_leaf': 19, 'max_features': 0.5701533047495975}. Best is trial 18 with value: 0.7533333333333334.\n"
     ]
    },
    {
     "name": "stdout",
     "output_type": "stream",
     "text": [
      "🏃 View run optuna-hp-32-2025-03-05-18-06-01 at: http://localhost:5001/#/experiments/301193664384281066/runs/c60f4b4ec5ef43ae9bf49c1fd4cfa207\n",
      "🧪 View experiment at: http://localhost:5001/#/experiments/301193664384281066\n",
      "🏃 View run optuna-hp-33-2025-03-05-18-06-02 at: http://localhost:5001/#/experiments/301193664384281066/runs/ab37b1a467814df3afb16ba505a39d5e\n",
      "🧪 View experiment at: http://localhost:5001/#/experiments/301193664384281066\n"
     ]
    },
    {
     "name": "stderr",
     "output_type": "stream",
     "text": [
      "[I 2025-03-05 18:06:02,462] Trial 34 finished with value: 0.9199999999999999 and parameters: {'n_estimators': 8, 'max_depth': 7, 'min_samples_split': 17, 'min_samples_leaf': 19, 'max_features': 0.36658535476034243}. Best is trial 18 with value: 0.7533333333333334.\n"
     ]
    },
    {
     "name": "stdout",
     "output_type": "stream",
     "text": [
      "🏃 View run optuna-hp-34-2025-03-05-18-06-02 at: http://localhost:5001/#/experiments/301193664384281066/runs/1fcae89b7b4446fabf9af31b759d5f61\n",
      "🧪 View experiment at: http://localhost:5001/#/experiments/301193664384281066\n"
     ]
    },
    {
     "name": "stderr",
     "output_type": "stream",
     "text": [
      "[I 2025-03-05 18:06:02,724] Trial 35 finished with value: 0.9533333333333334 and parameters: {'n_estimators': 19, 'max_depth': 8, 'min_samples_split': 20, 'min_samples_leaf': 16, 'max_features': 0.2873230592050606}. Best is trial 18 with value: 0.7533333333333334.\n",
      "[I 2025-03-05 18:06:02,930] Trial 36 finished with value: 0.9333333333333332 and parameters: {'n_estimators': 8, 'max_depth': 6, 'min_samples_split': 16, 'min_samples_leaf': 13, 'max_features': 0.5008359779280839}. Best is trial 18 with value: 0.7533333333333334.\n"
     ]
    },
    {
     "name": "stdout",
     "output_type": "stream",
     "text": [
      "🏃 View run optuna-hp-35-2025-03-05-18-06-02 at: http://localhost:5001/#/experiments/301193664384281066/runs/dfdc93b39a964841a8d431e40a743631\n",
      "🧪 View experiment at: http://localhost:5001/#/experiments/301193664384281066\n",
      "🏃 View run optuna-hp-36-2025-03-05-18-06-02 at: http://localhost:5001/#/experiments/301193664384281066/runs/6186b0327759459196926076f5b3d750\n",
      "🧪 View experiment at: http://localhost:5001/#/experiments/301193664384281066\n"
     ]
    },
    {
     "name": "stderr",
     "output_type": "stream",
     "text": [
      "[I 2025-03-05 18:06:03,102] Trial 37 finished with value: 0.7866666666666667 and parameters: {'n_estimators': 1, 'max_depth': 9, 'min_samples_split': 19, 'min_samples_leaf': 16, 'max_features': 0.4297009280010261}. Best is trial 18 with value: 0.7533333333333334.\n"
     ]
    },
    {
     "name": "stdout",
     "output_type": "stream",
     "text": [
      "🏃 View run optuna-hp-37-2025-03-05-18-06-02 at: http://localhost:5001/#/experiments/301193664384281066/runs/689cfa24b05f46ec8798aee0a9c695e1\n",
      "🧪 View experiment at: http://localhost:5001/#/experiments/301193664384281066\n"
     ]
    },
    {
     "name": "stderr",
     "output_type": "stream",
     "text": [
      "[I 2025-03-05 18:06:03,331] Trial 38 finished with value: 0.9533333333333334 and parameters: {'n_estimators': 14, 'max_depth': 9, 'min_samples_split': 15, 'min_samples_leaf': 16, 'max_features': 0.4299802138835068}. Best is trial 18 with value: 0.7533333333333334.\n"
     ]
    },
    {
     "name": "stdout",
     "output_type": "stream",
     "text": [
      "🏃 View run optuna-hp-38-2025-03-05-18-06-03 at: http://localhost:5001/#/experiments/301193664384281066/runs/22f2f68ffe6e4f73b30a354d09af3f99\n",
      "🧪 View experiment at: http://localhost:5001/#/experiments/301193664384281066\n"
     ]
    },
    {
     "name": "stderr",
     "output_type": "stream",
     "text": [
      "[I 2025-03-05 18:06:03,603] Trial 39 finished with value: 0.9600000000000002 and parameters: {'n_estimators': 21, 'max_depth': 10, 'min_samples_split': 20, 'min_samples_leaf': 14, 'max_features': 0.6341492172824472}. Best is trial 18 with value: 0.7533333333333334.\n"
     ]
    },
    {
     "name": "stdout",
     "output_type": "stream",
     "text": [
      "🏃 View run optuna-hp-39-2025-03-05-18-06-03 at: http://localhost:5001/#/experiments/301193664384281066/runs/38aedd19946c4962a2bc84419cb2f259\n",
      "🧪 View experiment at: http://localhost:5001/#/experiments/301193664384281066\n"
     ]
    },
    {
     "name": "stderr",
     "output_type": "stream",
     "text": [
      "[I 2025-03-05 18:06:03,849] Trial 40 finished with value: 0.9199999999999999 and parameters: {'n_estimators': 9, 'max_depth': 9, 'min_samples_split': 14, 'min_samples_leaf': 17, 'max_features': 0.34980223290106993}. Best is trial 18 with value: 0.7533333333333334.\n",
      "[I 2025-03-05 18:06:04,038] Trial 41 finished with value: 0.8266666666666665 and parameters: {'n_estimators': 1, 'max_depth': 7, 'min_samples_split': 19, 'min_samples_leaf': 19, 'max_features': 0.459248647330706}. Best is trial 18 with value: 0.7533333333333334.\n"
     ]
    },
    {
     "name": "stdout",
     "output_type": "stream",
     "text": [
      "🏃 View run optuna-hp-40-2025-03-05-18-06-03 at: http://localhost:5001/#/experiments/301193664384281066/runs/b8c3b68ab568479291f599fa621198bf\n",
      "🧪 View experiment at: http://localhost:5001/#/experiments/301193664384281066\n",
      "🏃 View run optuna-hp-41-2025-03-05-18-06-03 at: http://localhost:5001/#/experiments/301193664384281066/runs/f813bf25230b4ac4909acfbf7718d193\n",
      "🧪 View experiment at: http://localhost:5001/#/experiments/301193664384281066\n"
     ]
    },
    {
     "name": "stderr",
     "output_type": "stream",
     "text": [
      "[I 2025-03-05 18:06:04,217] Trial 42 finished with value: 0.7866666666666666 and parameters: {'n_estimators': 1, 'max_depth': 7, 'min_samples_split': 19, 'min_samples_leaf': 18, 'max_features': 0.4529601865603515}. Best is trial 18 with value: 0.7533333333333334.\n"
     ]
    },
    {
     "name": "stdout",
     "output_type": "stream",
     "text": [
      "🏃 View run optuna-hp-42-2025-03-05-18-06-04 at: http://localhost:5001/#/experiments/301193664384281066/runs/9d2cfcdceb394304bbd6a697148b5286\n",
      "🧪 View experiment at: http://localhost:5001/#/experiments/301193664384281066\n"
     ]
    },
    {
     "name": "stderr",
     "output_type": "stream",
     "text": [
      "[I 2025-03-05 18:06:04,431] Trial 43 finished with value: 0.9266666666666667 and parameters: {'n_estimators': 7, 'max_depth': 7, 'min_samples_split': 19, 'min_samples_leaf': 18, 'max_features': 0.430018062172201}. Best is trial 18 with value: 0.7533333333333334.\n"
     ]
    },
    {
     "name": "stdout",
     "output_type": "stream",
     "text": [
      "🏃 View run optuna-hp-43-2025-03-05-18-06-04 at: http://localhost:5001/#/experiments/301193664384281066/runs/23420f91c3bb49f1b57b2ca72c936080\n",
      "🧪 View experiment at: http://localhost:5001/#/experiments/301193664384281066\n"
     ]
    },
    {
     "name": "stderr",
     "output_type": "stream",
     "text": [
      "[I 2025-03-05 18:06:04,670] Trial 44 finished with value: 0.9266666666666667 and parameters: {'n_estimators': 13, 'max_depth': 9, 'min_samples_split': 17, 'min_samples_leaf': 19, 'max_features': 0.29398243646025857}. Best is trial 18 with value: 0.7533333333333334.\n"
     ]
    },
    {
     "name": "stdout",
     "output_type": "stream",
     "text": [
      "🏃 View run optuna-hp-44-2025-03-05-18-06-04 at: http://localhost:5001/#/experiments/301193664384281066/runs/fba6940f85b6413692efef2489f690e4\n",
      "🧪 View experiment at: http://localhost:5001/#/experiments/301193664384281066\n"
     ]
    },
    {
     "name": "stderr",
     "output_type": "stream",
     "text": [
      "[I 2025-03-05 18:06:04,889] Trial 45 finished with value: 0.9133333333333333 and parameters: {'n_estimators': 6, 'max_depth': 5, 'min_samples_split': 5, 'min_samples_leaf': 20, 'max_features': 0.21469503758409977}. Best is trial 18 with value: 0.7533333333333334.\n"
     ]
    },
    {
     "name": "stdout",
     "output_type": "stream",
     "text": [
      "🏃 View run optuna-hp-45-2025-03-05-18-06-04 at: http://localhost:5001/#/experiments/301193664384281066/runs/c5445cc5f4ac4e3ab0f1cb7dd79c8c62\n",
      "🧪 View experiment at: http://localhost:5001/#/experiments/301193664384281066\n"
     ]
    },
    {
     "name": "stderr",
     "output_type": "stream",
     "text": [
      "[I 2025-03-05 18:06:05,309] Trial 46 finished with value: 0.9466666666666667 and parameters: {'n_estimators': 52, 'max_depth': 10, 'min_samples_split': 19, 'min_samples_leaf': 16, 'max_features': 0.5943254850057916}. Best is trial 18 with value: 0.7533333333333334.\n"
     ]
    },
    {
     "name": "stdout",
     "output_type": "stream",
     "text": [
      "🏃 View run optuna-hp-46-2025-03-05-18-06-04 at: http://localhost:5001/#/experiments/301193664384281066/runs/86a2ed614a07488198bab7dfc7428995\n",
      "🧪 View experiment at: http://localhost:5001/#/experiments/301193664384281066\n"
     ]
    },
    {
     "name": "stderr",
     "output_type": "stream",
     "text": [
      "[I 2025-03-05 18:06:05,833] Trial 47 finished with value: 0.9533333333333334 and parameters: {'n_estimators': 76, 'max_depth': 7, 'min_samples_split': 20, 'min_samples_leaf': 17, 'max_features': 0.46668564439690413}. Best is trial 18 with value: 0.7533333333333334.\n"
     ]
    },
    {
     "name": "stdout",
     "output_type": "stream",
     "text": [
      "🏃 View run optuna-hp-47-2025-03-05-18-06-05 at: http://localhost:5001/#/experiments/301193664384281066/runs/5592d2ce506c4d46b0410362618df379\n",
      "🧪 View experiment at: http://localhost:5001/#/experiments/301193664384281066\n"
     ]
    },
    {
     "name": "stderr",
     "output_type": "stream",
     "text": [
      "[I 2025-03-05 18:06:06,201] Trial 48 finished with value: 0.9466666666666667 and parameters: {'n_estimators': 39, 'max_depth': 7, 'min_samples_split': 8, 'min_samples_leaf': 18, 'max_features': 0.23674401523831126}. Best is trial 18 with value: 0.7533333333333334.\n"
     ]
    },
    {
     "name": "stdout",
     "output_type": "stream",
     "text": [
      "🏃 View run optuna-hp-48-2025-03-05-18-06-05 at: http://localhost:5001/#/experiments/301193664384281066/runs/244a098f1453421e95a9f0e5bda15be2\n",
      "🧪 View experiment at: http://localhost:5001/#/experiments/301193664384281066\n"
     ]
    },
    {
     "name": "stderr",
     "output_type": "stream",
     "text": [
      "[I 2025-03-05 18:06:06,526] Trial 49 finished with value: 0.9466666666666665 and parameters: {'n_estimators': 28, 'max_depth': 5, 'min_samples_split': 16, 'min_samples_leaf': 20, 'max_features': 0.5326839799821039}. Best is trial 18 with value: 0.7533333333333334.\n"
     ]
    },
    {
     "name": "stdout",
     "output_type": "stream",
     "text": [
      "🏃 View run optuna-hp-49-2025-03-05-18-06-06 at: http://localhost:5001/#/experiments/301193664384281066/runs/584881a446854b629bd59df5fba58e92\n",
      "🧪 View experiment at: http://localhost:5001/#/experiments/301193664384281066\n"
     ]
    }
   ],
   "source": [
    "\n",
    "import optuna\n",
    "import mlflow\n",
    "from sklearn.ensemble import RandomForestClassifier\n",
    "from sklearn.model_selection import cross_val_score\n",
    "\n",
    "\n",
    "X, y = get_data()\n",
    "\n",
    "def optimize_rf(trial):\n",
    "    \n",
    "    with mlflow.start_run(run_name=f\"optuna-hp-{trial.number}-{datetime.datetime.now().strftime('%Y-%m-%d-%H-%M-%S')}\"):\n",
    "        # Set the hyperparameter values that we want to optimize\n",
    "        n_estimators = trial.suggest_int('n_estimators', 1, 100)\n",
    "        max_depth = trial.suggest_int('max_depth', 2, 10)\n",
    "        min_samples_split = trial.suggest_int('min_samples_split', 2, 20)\n",
    "        min_samples_leaf = trial.suggest_int('min_samples_leaf', 1, 20)\n",
    "        max_features = trial.suggest_float('max_features', 0.1, 1.0)\n",
    "        \n",
    "        \n",
    "        # Create a random forest classifier using the suggested hyperparameters\n",
    "        rf = RandomForestClassifier(n_estimators=n_estimators, max_depth=max_depth,\n",
    "                                    min_samples_split=min_samples_split,\n",
    "                                    min_samples_leaf=min_samples_leaf,\n",
    "                                    max_features=max_features)\n",
    "        \n",
    "        # Use cross-validation to evaluate the performance of the classifier\n",
    "        scores = cross_val_score(rf, X, y, cv=5)\n",
    "        \n",
    "        # Log the hyperparameters and cross-validation scores to MLflow\n",
    "        mlflow.log_param('n_estimators', n_estimators)\n",
    "        mlflow.log_param('max_depth', max_depth)\n",
    "        mlflow.log_param('min_samples_split', min_samples_split)\n",
    "        mlflow.log_param('min_samples_leaf', min_samples_leaf)\n",
    "        mlflow.log_param('max_features', max_features)\n",
    "        mlflow.log_metric('mean_cv_score', scores.mean())\n",
    "    \n",
    "    # Return the mean of the cross-validation scores as the objective value\n",
    "    return scores.mean()\n",
    "\n",
    "# Create an Optuna study\n",
    "study = optuna.create_study()\n",
    "\n",
    "# Run the optimization loop\n",
    "study.optimize(optimize_rf, n_trials=50)\n",
    "\n",
    "# Get the best hyperparameter values\n",
    "best_params = study.best_params"
   ]
  },
  {
   "attachments": {},
   "cell_type": "markdown",
   "metadata": {},
   "source": [
    "## 6. Register a model version using the best hyperparameters"
   ]
  },
  {
   "cell_type": "code",
   "execution_count": 6,
   "metadata": {},
   "outputs": [
    {
     "name": "stderr",
     "output_type": "stream",
     "text": [
      "Successfully registered model 'random_forest_model'.\n",
      "2025/03/05 18:10:36 INFO mlflow.store.model_registry.abstract_store: Waiting up to 300 seconds for model version to finish creation. Model name: random_forest_model, version 1\n"
     ]
    },
    {
     "name": "stdout",
     "output_type": "stream",
     "text": [
      "🏃 View run optuna-hp-final at: http://localhost:5001/#/experiments/301193664384281066/runs/f38d87102bcf479db22159759b3352c0\n",
      "🧪 View experiment at: http://localhost:5001/#/experiments/301193664384281066\n"
     ]
    },
    {
     "name": "stderr",
     "output_type": "stream",
     "text": [
      "Created version '1' of model 'random_forest_model'.\n"
     ]
    }
   ],
   "source": [
    "from mlflow.models.signature import infer_signature\n",
    "\n",
    "with mlflow.start_run(run_name=f\"optuna-hp-final\"):\n",
    "    # Create the final model using the best hyperparameters\n",
    "    final_model = RandomForestClassifier(**best_params)\n",
    "\n",
    "    # Train the final model on the entire dataset\n",
    "    final_model.fit(X, y)\n",
    "\n",
    "    # Infer the model signature\n",
    "    signature = infer_signature(X, final_model.predict(X))\n",
    "\n",
    "    # Log the model to the \"Models\" section\n",
    "    mlflow.sklearn.log_model(final_model, \"random_forest_model\", registered_model_name=\"random_forest_model\", signature=signature)"
   ]
  },
  {
   "attachments": {},
   "cell_type": "markdown",
   "metadata": {},
   "source": [
    "## 7. Retrieve a model version and use it for prediction"
   ]
  },
  {
   "cell_type": "code",
   "execution_count": 10,
   "metadata": {},
   "outputs": [
    {
     "name": "stderr",
     "output_type": "stream",
     "text": [
      "Downloading artifacts: 100%|██████████| 5/5 [00:02<00:00,  2.39it/s]\n"
     ]
    },
    {
     "data": {
      "text/plain": [
       "array([0, 0, 0, 0, 0])"
      ]
     },
     "execution_count": 10,
     "metadata": {},
     "output_type": "execute_result"
    }
   ],
   "source": [
    "import mlflow.pyfunc\n",
    "\n",
    "model_name = \"random_forest_model\"\n",
    "model_version = 1\n",
    "\n",
    "model = mlflow.pyfunc.load_model(\n",
    "    model_uri=f\"models:/{model_name}/{model_version}\"\n",
    ")\n",
    "\n",
    "model.predict(X[:5])"
   ]
  }
 ],
 "metadata": {
  "kernelspec": {
   "display_name": "venv",
   "language": "python",
   "name": "python3"
  },
  "language_info": {
   "codemirror_mode": {
    "name": "ipython",
    "version": 3
   },
   "file_extension": ".py",
   "mimetype": "text/x-python",
   "name": "python",
   "nbconvert_exporter": "python",
   "pygments_lexer": "ipython3",
   "version": "3.12.7"
  },
  "orig_nbformat": 4
 },
 "nbformat": 4,
 "nbformat_minor": 2
}
