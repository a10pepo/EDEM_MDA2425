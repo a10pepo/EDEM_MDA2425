{
 "cells": [
  {
   "attachments": {},
   "cell_type": "markdown",
   "metadata": {},
   "source": [
    "# Model registry: MLFlow\n",
    "\n",
    "Example on how to use the MLFlow model during the training of a model"
   ]
  },
  {
   "attachments": {},
   "cell_type": "markdown",
   "metadata": {},
   "source": [
    "## 1. Install MLFlow"
   ]
  },
  {
   "cell_type": "code",
   "execution_count": 1,
   "metadata": {},
   "outputs": [
    {
     "name": "stdout",
     "output_type": "stream",
     "text": [
      "Requirement already satisfied: mlserver==1.3.5 in c:\\users\\usuario\\documents\\master ia\\mia 24-25\\edem_mda2425\\venv\\lib\\site-packages (from -r requirements.txt (line 1)) (1.3.5)\n",
      "Requirement already satisfied: mlserver-sklearn==1.3.5 in c:\\users\\usuario\\documents\\master ia\\mia 24-25\\edem_mda2425\\venv\\lib\\site-packages (from -r requirements.txt (line 2)) (1.3.5)\n",
      "Requirement already satisfied: pydantic==1.10.21 in c:\\users\\usuario\\documents\\master ia\\mia 24-25\\edem_mda2425\\venv\\lib\\site-packages (from -r requirements.txt (line 3)) (1.10.21)\n",
      "Requirement already satisfied: pandas==2.2.3 in c:\\users\\usuario\\documents\\master ia\\mia 24-25\\edem_mda2425\\venv\\lib\\site-packages (from -r requirements.txt (line 4)) (2.2.3)\n",
      "Requirement already satisfied: numpy==1.26.4 in c:\\users\\usuario\\documents\\master ia\\mia 24-25\\edem_mda2425\\venv\\lib\\site-packages (from -r requirements.txt (line 5)) (1.26.4)\n",
      "Requirement already satisfied: scikit-learn==1.6.1 in c:\\users\\usuario\\documents\\master ia\\mia 24-25\\edem_mda2425\\venv\\lib\\site-packages (from -r requirements.txt (line 6)) (1.6.1)\n",
      "Requirement already satisfied: fastapi==0.89.1 in c:\\users\\usuario\\documents\\master ia\\mia 24-25\\edem_mda2425\\venv\\lib\\site-packages (from -r requirements.txt (line 7)) (0.89.1)\n",
      "Requirement already satisfied: requests==2.32.3 in c:\\users\\usuario\\documents\\master ia\\mia 24-25\\edem_mda2425\\venv\\lib\\site-packages (from -r requirements.txt (line 8)) (2.32.3)\n",
      "Requirement already satisfied: click in c:\\users\\usuario\\documents\\master ia\\mia 24-25\\edem_mda2425\\venv\\lib\\site-packages (from mlserver==1.3.5->-r requirements.txt (line 1)) (8.1.8)\n",
      "Requirement already satisfied: python-dotenv in c:\\users\\usuario\\documents\\master ia\\mia 24-25\\edem_mda2425\\venv\\lib\\site-packages (from mlserver==1.3.5->-r requirements.txt (line 1)) (1.0.1)\n",
      "Requirement already satisfied: grpcio in c:\\users\\usuario\\documents\\master ia\\mia 24-25\\edem_mda2425\\venv\\lib\\site-packages (from mlserver==1.3.5->-r requirements.txt (line 1)) (1.70.0)\n",
      "Requirement already satisfied: importlib-resources in c:\\users\\usuario\\documents\\master ia\\mia 24-25\\edem_mda2425\\venv\\lib\\site-packages (from mlserver==1.3.5->-r requirements.txt (line 1)) (6.5.2)\n",
      "Requirement already satisfied: protobuf in c:\\users\\usuario\\documents\\master ia\\mia 24-25\\edem_mda2425\\venv\\lib\\site-packages (from mlserver==1.3.5->-r requirements.txt (line 1)) (5.29.3)\n",
      "Requirement already satisfied: uvicorn in c:\\users\\usuario\\documents\\master ia\\mia 24-25\\edem_mda2425\\venv\\lib\\site-packages (from mlserver==1.3.5->-r requirements.txt (line 1)) (0.34.0)\n",
      "Requirement already satisfied: starlette-exporter in c:\\users\\usuario\\documents\\master ia\\mia 24-25\\edem_mda2425\\venv\\lib\\site-packages (from mlserver==1.3.5->-r requirements.txt (line 1)) (0.17.1)\n",
      "Requirement already satisfied: py-grpc-prometheus in c:\\users\\usuario\\documents\\master ia\\mia 24-25\\edem_mda2425\\venv\\lib\\site-packages (from mlserver==1.3.5->-r requirements.txt (line 1)) (0.8.0)\n",
      "Requirement already satisfied: aiokafka in c:\\users\\usuario\\documents\\master ia\\mia 24-25\\edem_mda2425\\venv\\lib\\site-packages (from mlserver==1.3.5->-r requirements.txt (line 1)) (0.12.0)\n",
      "Requirement already satisfied: tritonclient>=2.24 in c:\\users\\usuario\\documents\\master ia\\mia 24-25\\edem_mda2425\\venv\\lib\\site-packages (from tritonclient[http]>=2.24->mlserver==1.3.5->-r requirements.txt (line 1)) (2.55.0)\n",
      "Requirement already satisfied: aiofiles in c:\\users\\usuario\\documents\\master ia\\mia 24-25\\edem_mda2425\\venv\\lib\\site-packages (from mlserver==1.3.5->-r requirements.txt (line 1)) (24.1.0)\n",
      "Requirement already satisfied: orjson in c:\\users\\usuario\\documents\\master ia\\mia 24-25\\edem_mda2425\\venv\\lib\\site-packages (from mlserver==1.3.5->-r requirements.txt (line 1)) (3.10.15)\n",
      "Requirement already satisfied: joblib in c:\\users\\usuario\\documents\\master ia\\mia 24-25\\edem_mda2425\\venv\\lib\\site-packages (from mlserver-sklearn==1.3.5->-r requirements.txt (line 2)) (1.4.2)\n",
      "Requirement already satisfied: typing-extensions>=4.2.0 in c:\\users\\usuario\\documents\\master ia\\mia 24-25\\edem_mda2425\\venv\\lib\\site-packages (from pydantic==1.10.21->-r requirements.txt (line 3)) (4.12.2)\n",
      "Requirement already satisfied: python-dateutil>=2.8.2 in c:\\users\\usuario\\documents\\master ia\\mia 24-25\\edem_mda2425\\venv\\lib\\site-packages (from pandas==2.2.3->-r requirements.txt (line 4)) (2.9.0.post0)\n",
      "Requirement already satisfied: pytz>=2020.1 in c:\\users\\usuario\\documents\\master ia\\mia 24-25\\edem_mda2425\\venv\\lib\\site-packages (from pandas==2.2.3->-r requirements.txt (line 4)) (2025.1)\n",
      "Requirement already satisfied: tzdata>=2022.7 in c:\\users\\usuario\\documents\\master ia\\mia 24-25\\edem_mda2425\\venv\\lib\\site-packages (from pandas==2.2.3->-r requirements.txt (line 4)) (2025.1)\n",
      "Requirement already satisfied: scipy>=1.6.0 in c:\\users\\usuario\\documents\\master ia\\mia 24-25\\edem_mda2425\\venv\\lib\\site-packages (from scikit-learn==1.6.1->-r requirements.txt (line 6)) (1.15.2)\n",
      "Requirement already satisfied: threadpoolctl>=3.1.0 in c:\\users\\usuario\\documents\\master ia\\mia 24-25\\edem_mda2425\\venv\\lib\\site-packages (from scikit-learn==1.6.1->-r requirements.txt (line 6)) (3.5.0)\n",
      "Requirement already satisfied: starlette==0.22.0 in c:\\users\\usuario\\documents\\master ia\\mia 24-25\\edem_mda2425\\venv\\lib\\site-packages (from fastapi==0.89.1->-r requirements.txt (line 7)) (0.22.0)\n",
      "Requirement already satisfied: charset-normalizer<4,>=2 in c:\\users\\usuario\\documents\\master ia\\mia 24-25\\edem_mda2425\\venv\\lib\\site-packages (from requests==2.32.3->-r requirements.txt (line 8)) (3.4.1)\n",
      "Requirement already satisfied: idna<4,>=2.5 in c:\\users\\usuario\\documents\\master ia\\mia 24-25\\edem_mda2425\\venv\\lib\\site-packages (from requests==2.32.3->-r requirements.txt (line 8)) (3.10)\n",
      "Requirement already satisfied: urllib3<3,>=1.21.1 in c:\\users\\usuario\\documents\\master ia\\mia 24-25\\edem_mda2425\\venv\\lib\\site-packages (from requests==2.32.3->-r requirements.txt (line 8)) (2.3.0)\n",
      "Requirement already satisfied: certifi>=2017.4.17 in c:\\users\\usuario\\documents\\master ia\\mia 24-25\\edem_mda2425\\venv\\lib\\site-packages (from requests==2.32.3->-r requirements.txt (line 8)) (2025.1.31)\n",
      "Requirement already satisfied: anyio<5,>=3.4.0 in c:\\users\\usuario\\documents\\master ia\\mia 24-25\\edem_mda2425\\venv\\lib\\site-packages (from starlette==0.22.0->fastapi==0.89.1->-r requirements.txt (line 7)) (4.8.0)\n",
      "Requirement already satisfied: six>=1.5 in c:\\users\\usuario\\documents\\master ia\\mia 24-25\\edem_mda2425\\venv\\lib\\site-packages (from python-dateutil>=2.8.2->pandas==2.2.3->-r requirements.txt (line 4)) (1.17.0)\n",
      "Requirement already satisfied: python-rapidjson>=0.9.1 in c:\\users\\usuario\\documents\\master ia\\mia 24-25\\edem_mda2425\\venv\\lib\\site-packages (from tritonclient>=2.24->tritonclient[http]>=2.24->mlserver==1.3.5->-r requirements.txt (line 1)) (1.20)\n",
      "Requirement already satisfied: aiohttp<4.0.0,>=3.8.1 in c:\\users\\usuario\\documents\\master ia\\mia 24-25\\edem_mda2425\\venv\\lib\\site-packages (from tritonclient[http]>=2.24->mlserver==1.3.5->-r requirements.txt (line 1)) (3.11.13)\n",
      "Requirement already satisfied: geventhttpclient>=2.3.3 in c:\\users\\usuario\\documents\\master ia\\mia 24-25\\edem_mda2425\\venv\\lib\\site-packages (from tritonclient[http]>=2.24->mlserver==1.3.5->-r requirements.txt (line 1)) (2.3.3)\n",
      "Requirement already satisfied: async-timeout in c:\\users\\usuario\\documents\\master ia\\mia 24-25\\edem_mda2425\\venv\\lib\\site-packages (from aiokafka->mlserver==1.3.5->-r requirements.txt (line 1)) (5.0.1)\n",
      "Requirement already satisfied: packaging in c:\\users\\usuario\\documents\\master ia\\mia 24-25\\edem_mda2425\\venv\\lib\\site-packages (from aiokafka->mlserver==1.3.5->-r requirements.txt (line 1)) (24.2)\n",
      "Requirement already satisfied: colorama in c:\\users\\usuario\\documents\\master ia\\mia 24-25\\edem_mda2425\\venv\\lib\\site-packages (from click->mlserver==1.3.5->-r requirements.txt (line 1)) (0.4.6)\n",
      "Requirement already satisfied: setuptools>=39.0.1 in c:\\users\\usuario\\documents\\master ia\\mia 24-25\\edem_mda2425\\venv\\lib\\site-packages (from py-grpc-prometheus->mlserver==1.3.5->-r requirements.txt (line 1)) (75.8.2)\n",
      "Requirement already satisfied: prometheus-client>=0.3.0 in c:\\users\\usuario\\documents\\master ia\\mia 24-25\\edem_mda2425\\venv\\lib\\site-packages (from py-grpc-prometheus->mlserver==1.3.5->-r requirements.txt (line 1)) (0.21.1)\n",
      "Requirement already satisfied: h11>=0.8 in c:\\users\\usuario\\documents\\master ia\\mia 24-25\\edem_mda2425\\venv\\lib\\site-packages (from uvicorn->mlserver==1.3.5->-r requirements.txt (line 1)) (0.14.0)\n",
      "Requirement already satisfied: aiohappyeyeballs>=2.3.0 in c:\\users\\usuario\\documents\\master ia\\mia 24-25\\edem_mda2425\\venv\\lib\\site-packages (from aiohttp<4.0.0,>=3.8.1->tritonclient[http]>=2.24->mlserver==1.3.5->-r requirements.txt (line 1)) (2.4.8)\n",
      "Requirement already satisfied: aiosignal>=1.1.2 in c:\\users\\usuario\\documents\\master ia\\mia 24-25\\edem_mda2425\\venv\\lib\\site-packages (from aiohttp<4.0.0,>=3.8.1->tritonclient[http]>=2.24->mlserver==1.3.5->-r requirements.txt (line 1)) (1.3.2)\n",
      "Requirement already satisfied: attrs>=17.3.0 in c:\\users\\usuario\\documents\\master ia\\mia 24-25\\edem_mda2425\\venv\\lib\\site-packages (from aiohttp<4.0.0,>=3.8.1->tritonclient[http]>=2.24->mlserver==1.3.5->-r requirements.txt (line 1)) (25.1.0)\n",
      "Requirement already satisfied: frozenlist>=1.1.1 in c:\\users\\usuario\\documents\\master ia\\mia 24-25\\edem_mda2425\\venv\\lib\\site-packages (from aiohttp<4.0.0,>=3.8.1->tritonclient[http]>=2.24->mlserver==1.3.5->-r requirements.txt (line 1)) (1.5.0)\n",
      "Requirement already satisfied: multidict<7.0,>=4.5 in c:\\users\\usuario\\documents\\master ia\\mia 24-25\\edem_mda2425\\venv\\lib\\site-packages (from aiohttp<4.0.0,>=3.8.1->tritonclient[http]>=2.24->mlserver==1.3.5->-r requirements.txt (line 1)) (6.1.0)\n",
      "Requirement already satisfied: propcache>=0.2.0 in c:\\users\\usuario\\documents\\master ia\\mia 24-25\\edem_mda2425\\venv\\lib\\site-packages (from aiohttp<4.0.0,>=3.8.1->tritonclient[http]>=2.24->mlserver==1.3.5->-r requirements.txt (line 1)) (0.3.0)\n",
      "Requirement already satisfied: yarl<2.0,>=1.17.0 in c:\\users\\usuario\\documents\\master ia\\mia 24-25\\edem_mda2425\\venv\\lib\\site-packages (from aiohttp<4.0.0,>=3.8.1->tritonclient[http]>=2.24->mlserver==1.3.5->-r requirements.txt (line 1)) (1.18.3)\n",
      "Requirement already satisfied: sniffio>=1.1 in c:\\users\\usuario\\documents\\master ia\\mia 24-25\\edem_mda2425\\venv\\lib\\site-packages (from anyio<5,>=3.4.0->starlette==0.22.0->fastapi==0.89.1->-r requirements.txt (line 7)) (1.3.1)\n",
      "Requirement already satisfied: gevent in c:\\users\\usuario\\documents\\master ia\\mia 24-25\\edem_mda2425\\venv\\lib\\site-packages (from geventhttpclient>=2.3.3->tritonclient[http]>=2.24->mlserver==1.3.5->-r requirements.txt (line 1)) (24.11.1)\n",
      "Requirement already satisfied: brotli in c:\\users\\usuario\\documents\\master ia\\mia 24-25\\edem_mda2425\\venv\\lib\\site-packages (from geventhttpclient>=2.3.3->tritonclient[http]>=2.24->mlserver==1.3.5->-r requirements.txt (line 1)) (1.1.0)\n",
      "Requirement already satisfied: zope.event in c:\\users\\usuario\\documents\\master ia\\mia 24-25\\edem_mda2425\\venv\\lib\\site-packages (from gevent->geventhttpclient>=2.3.3->tritonclient[http]>=2.24->mlserver==1.3.5->-r requirements.txt (line 1)) (5.0)\n",
      "Requirement already satisfied: zope.interface in c:\\users\\usuario\\documents\\master ia\\mia 24-25\\edem_mda2425\\venv\\lib\\site-packages (from gevent->geventhttpclient>=2.3.3->tritonclient[http]>=2.24->mlserver==1.3.5->-r requirements.txt (line 1)) (7.2)\n",
      "Requirement already satisfied: greenlet>=3.1.1 in c:\\users\\usuario\\documents\\master ia\\mia 24-25\\edem_mda2425\\venv\\lib\\site-packages (from gevent->geventhttpclient>=2.3.3->tritonclient[http]>=2.24->mlserver==1.3.5->-r requirements.txt (line 1)) (3.1.1)\n",
      "Requirement already satisfied: cffi>=1.17.1 in c:\\users\\usuario\\documents\\master ia\\mia 24-25\\edem_mda2425\\venv\\lib\\site-packages (from gevent->geventhttpclient>=2.3.3->tritonclient[http]>=2.24->mlserver==1.3.5->-r requirements.txt (line 1)) (1.17.1)\n",
      "Requirement already satisfied: pycparser in c:\\users\\usuario\\documents\\master ia\\mia 24-25\\edem_mda2425\\venv\\lib\\site-packages (from cffi>=1.17.1->gevent->geventhttpclient>=2.3.3->tritonclient[http]>=2.24->mlserver==1.3.5->-r requirements.txt (line 1)) (2.22)\n"
     ]
    },
    {
     "name": "stderr",
     "output_type": "stream",
     "text": [
      "\"grep\" no se reconoce como un comando interno o externo,\n",
      "programa o archivo por lotes ejecutable.\n"
     ]
    }
   ],
   "source": [
    "!pip install -r requirements.txt\n",
    "!pip freeze | grep mlflow"
   ]
  },
  {
   "attachments": {},
   "cell_type": "markdown",
   "metadata": {},
   "source": [
    "\n",
    "## 2. Start the MLFlow server.\n",
    "\n",
    "To do this, run the following command in a terminal:\n",
    "\n",
    "mlflow ui --host 0.0.0.0 --port 5001"
   ]
  },
  {
   "attachments": {},
   "cell_type": "markdown",
   "metadata": {},
   "source": [
    "## 3. Create a new experiment"
   ]
  },
  {
   "cell_type": "code",
   "execution_count": 2,
   "metadata": {},
   "outputs": [
    {
     "name": "stderr",
     "output_type": "stream",
     "text": [
      "2025/03/27 10:02:46 INFO mlflow.tracking.fluent: Experiment with name 'mlflow-model-training-iris' does not exist. Creating a new experiment.\n"
     ]
    },
    {
     "data": {
      "text/plain": [
       "<Experiment: artifact_location='mlflow-artifacts:/725460823759344054', creation_time=1743066166767, experiment_id='725460823759344054', last_update_time=1743066166767, lifecycle_stage='active', name='mlflow-model-training-iris', tags={}>"
      ]
     },
     "execution_count": 2,
     "metadata": {},
     "output_type": "execute_result"
    }
   ],
   "source": [
    "import mlflow\n",
    "mlflow.set_tracking_uri(\"http://localhost:5001\")\n",
    "mlflow.set_experiment(\"mlflow-model-training-iris\")"
   ]
  },
  {
   "attachments": {},
   "cell_type": "markdown",
   "metadata": {},
   "source": [
    "## 4. Log a model experiment result"
   ]
  },
  {
   "cell_type": "code",
   "execution_count": 3,
   "metadata": {},
   "outputs": [
    {
     "name": "stdout",
     "output_type": "stream",
     "text": [
      "🏃 View run mlflow-training-2025-03-27-10-03-02 at: http://localhost:5001/#/experiments/725460823759344054/runs/fb9f264c3b75482fb70aec50801a3694\n",
      "🧪 View experiment at: http://localhost:5001/#/experiments/725460823759344054\n"
     ]
    }
   ],
   "source": [
    "# Lets first create a simple function to train a model\n",
    "# The function will receive a set of hyperparameters and return the model and the accuracy\n",
    "import datetime\n",
    "from mlflow.models import infer_signature\n",
    "\n",
    "def get_data():\n",
    "    from sklearn import datasets\n",
    "\n",
    "    # X, y = datasets.make_classification(n_samples=1000, n_features=4, n_informative=4, n_redundant=0, n_classes=3, n_clusters_per_class=1, class_sep=0.5, random_state=40)\n",
    "    # use iris dataset\n",
    "    X, y = datasets.load_iris(return_X_y=True)\n",
    "    return X, y\n",
    "\n",
    "def train_model(hyperparameters):\n",
    "    from sklearn.ensemble import RandomForestClassifier\n",
    "    from sklearn.metrics import accuracy_score\n",
    "    from sklearn.model_selection import train_test_split\n",
    "    import mlflow.sklearn\n",
    "    X, y = get_data()\n",
    "    X_train, X_test, y_train, y_test = train_test_split(X, y, test_size=0.2, random_state=40)\n",
    "    model = RandomForestClassifier(**hyperparameters)\n",
    "    model.fit(X_train, y_train)\n",
    "    y_pred = model.predict(X_test)\n",
    "    signature = infer_signature(X, model.predict(X))\n",
    "    accuracy = accuracy_score(y_pred, y_test)\n",
    "    return model, signature, accuracy\n",
    "\n",
    "# Now lets train a model with some hyperparameters\n",
    "hyperparameters = {\"n_estimators\": 10, \"max_depth\": 5}\n",
    "model, signature, accuracy = train_model(hyperparameters)\n",
    "\n",
    "# Now lets log the model and the accuracy\n",
    "date = datetime.datetime.now().strftime(\"%Y-%m-%d-%H-%M-%S\")\n",
    "with mlflow.start_run(run_name=f\"mlflow-training-{date}\"):\n",
    "    \n",
    "    # Hyperparameters are logged as parameters\n",
    "    for hyperparameter, value in hyperparameters.items():\n",
    "        mlflow.log_param(hyperparameter, value)\n",
    "    \n",
    "    # Accuracy is logged as a metric \n",
    "    mlflow.log_metric(\"accuracy\", accuracy)\n",
    "    \n",
    "    # Model is logged as an artifact\n",
    "    mlflow.sklearn.log_model(model, \"model\", signature=signature)"
   ]
  },
  {
   "attachments": {},
   "cell_type": "markdown",
   "metadata": {},
   "source": [
    "## 5. Run a hyperparameter search and log the results"
   ]
  },
  {
   "cell_type": "code",
   "execution_count": 4,
   "metadata": {},
   "outputs": [
    {
     "name": "stderr",
     "output_type": "stream",
     "text": [
      "c:\\Users\\Usuario\\Documents\\Master IA\\MIA 24-25\\EDEM_MDA2425\\venv\\Lib\\site-packages\\tqdm\\auto.py:21: TqdmWarning: IProgress not found. Please update jupyter and ipywidgets. See https://ipywidgets.readthedocs.io/en/stable/user_install.html\n",
      "  from .autonotebook import tqdm as notebook_tqdm\n",
      "[I 2025-03-27 10:09:01,482] A new study created in memory with name: no-name-103ed5c2-c305-4686-a163-3dac94a5cd3e\n",
      "[I 2025-03-27 10:09:03,781] Trial 0 finished with value: 0.9666666666666668 and parameters: {'n_estimators': 12, 'max_depth': 4, 'min_samples_split': 8, 'min_samples_leaf': 13, 'max_features': 0.5608613253286324}. Best is trial 0 with value: 0.9666666666666668.\n"
     ]
    },
    {
     "name": "stdout",
     "output_type": "stream",
     "text": [
      "🏃 View run optuna-hp-0-2025-03-27-10-09-01 at: http://localhost:5001/#/experiments/725460823759344054/runs/95a80ae4df2a4837b70e48e42bf2b5ee\n",
      "🧪 View experiment at: http://localhost:5001/#/experiments/725460823759344054\n"
     ]
    },
    {
     "name": "stderr",
     "output_type": "stream",
     "text": [
      "[I 2025-03-27 10:09:04,240] Trial 1 finished with value: 0.9466666666666665 and parameters: {'n_estimators': 60, 'max_depth': 7, 'min_samples_split': 16, 'min_samples_leaf': 9, 'max_features': 0.6304701514111404}. Best is trial 1 with value: 0.9466666666666665.\n"
     ]
    },
    {
     "name": "stdout",
     "output_type": "stream",
     "text": [
      "🏃 View run optuna-hp-1-2025-03-27-10-09-03 at: http://localhost:5001/#/experiments/725460823759344054/runs/fb808840c609477a947cc35836b028f4\n",
      "🧪 View experiment at: http://localhost:5001/#/experiments/725460823759344054\n"
     ]
    },
    {
     "name": "stderr",
     "output_type": "stream",
     "text": [
      "[I 2025-03-27 10:09:04,896] Trial 2 finished with value: 0.9466666666666665 and parameters: {'n_estimators': 98, 'max_depth': 8, 'min_samples_split': 12, 'min_samples_leaf': 19, 'max_features': 0.8380380964105396}. Best is trial 1 with value: 0.9466666666666665.\n"
     ]
    },
    {
     "name": "stdout",
     "output_type": "stream",
     "text": [
      "🏃 View run optuna-hp-2-2025-03-27-10-09-04 at: http://localhost:5001/#/experiments/725460823759344054/runs/9bb3913452d74cf39525538a679c11e6\n",
      "🧪 View experiment at: http://localhost:5001/#/experiments/725460823759344054\n"
     ]
    },
    {
     "name": "stderr",
     "output_type": "stream",
     "text": [
      "[I 2025-03-27 10:09:05,184] Trial 3 finished with value: 0.9466666666666667 and parameters: {'n_estimators': 22, 'max_depth': 2, 'min_samples_split': 13, 'min_samples_leaf': 17, 'max_features': 0.42397171299066694}. Best is trial 1 with value: 0.9466666666666665.\n"
     ]
    },
    {
     "name": "stdout",
     "output_type": "stream",
     "text": [
      "🏃 View run optuna-hp-3-2025-03-27-10-09-04 at: http://localhost:5001/#/experiments/725460823759344054/runs/5e64c84cffdd41af93c10f6f8e6d802e\n",
      "🧪 View experiment at: http://localhost:5001/#/experiments/725460823759344054\n"
     ]
    },
    {
     "name": "stderr",
     "output_type": "stream",
     "text": [
      "[I 2025-03-27 10:09:05,584] Trial 4 finished with value: 0.9466666666666667 and parameters: {'n_estimators': 37, 'max_depth': 8, 'min_samples_split': 19, 'min_samples_leaf': 20, 'max_features': 0.21656262746704247}. Best is trial 1 with value: 0.9466666666666665.\n"
     ]
    },
    {
     "name": "stdout",
     "output_type": "stream",
     "text": [
      "🏃 View run optuna-hp-4-2025-03-27-10-09-05 at: http://localhost:5001/#/experiments/725460823759344054/runs/74c7de703f17442789f6b6249a5db3f5\n",
      "🧪 View experiment at: http://localhost:5001/#/experiments/725460823759344054\n"
     ]
    },
    {
     "name": "stderr",
     "output_type": "stream",
     "text": [
      "[I 2025-03-27 10:09:06,174] Trial 5 finished with value: 0.9466666666666665 and parameters: {'n_estimators': 78, 'max_depth': 10, 'min_samples_split': 12, 'min_samples_leaf': 11, 'max_features': 0.12462872379952689}. Best is trial 1 with value: 0.9466666666666665.\n",
      "[I 2025-03-27 10:09:06,372] Trial 6 finished with value: 0.9533333333333334 and parameters: {'n_estimators': 7, 'max_depth': 9, 'min_samples_split': 4, 'min_samples_leaf': 6, 'max_features': 0.7768030095913842}. Best is trial 1 with value: 0.9466666666666665.\n"
     ]
    },
    {
     "name": "stdout",
     "output_type": "stream",
     "text": [
      "🏃 View run optuna-hp-5-2025-03-27-10-09-05 at: http://localhost:5001/#/experiments/725460823759344054/runs/22887e6ec4f94be29a0c61539e906517\n",
      "🧪 View experiment at: http://localhost:5001/#/experiments/725460823759344054\n",
      "🏃 View run optuna-hp-6-2025-03-27-10-09-06 at: http://localhost:5001/#/experiments/725460823759344054/runs/86aa1327c0a0474b8183b6844159bdaf\n",
      "🧪 View experiment at: http://localhost:5001/#/experiments/725460823759344054\n"
     ]
    },
    {
     "name": "stderr",
     "output_type": "stream",
     "text": [
      "[I 2025-03-27 10:09:06,735] Trial 7 finished with value: 0.96 and parameters: {'n_estimators': 34, 'max_depth': 5, 'min_samples_split': 16, 'min_samples_leaf': 15, 'max_features': 0.41682718428902577}. Best is trial 1 with value: 0.9466666666666665.\n"
     ]
    },
    {
     "name": "stdout",
     "output_type": "stream",
     "text": [
      "🏃 View run optuna-hp-7-2025-03-27-10-09-06 at: http://localhost:5001/#/experiments/725460823759344054/runs/20ccc597aab548fbb4248fcda666d9cd\n",
      "🧪 View experiment at: http://localhost:5001/#/experiments/725460823759344054\n"
     ]
    },
    {
     "name": "stderr",
     "output_type": "stream",
     "text": [
      "[I 2025-03-27 10:09:07,397] Trial 8 finished with value: 0.9533333333333334 and parameters: {'n_estimators': 100, 'max_depth': 8, 'min_samples_split': 9, 'min_samples_leaf': 3, 'max_features': 0.8818851915209062}. Best is trial 1 with value: 0.9466666666666665.\n"
     ]
    },
    {
     "name": "stdout",
     "output_type": "stream",
     "text": [
      "🏃 View run optuna-hp-8-2025-03-27-10-09-06 at: http://localhost:5001/#/experiments/725460823759344054/runs/4954ed4aef1a4223a0e2ca1226f61ba2\n",
      "🧪 View experiment at: http://localhost:5001/#/experiments/725460823759344054\n"
     ]
    },
    {
     "name": "stderr",
     "output_type": "stream",
     "text": [
      "[I 2025-03-27 10:09:07,734] Trial 9 finished with value: 0.96 and parameters: {'n_estimators': 29, 'max_depth': 9, 'min_samples_split': 18, 'min_samples_leaf': 13, 'max_features': 0.7082597318011552}. Best is trial 1 with value: 0.9466666666666665.\n"
     ]
    },
    {
     "name": "stdout",
     "output_type": "stream",
     "text": [
      "🏃 View run optuna-hp-9-2025-03-27-10-09-07 at: http://localhost:5001/#/experiments/725460823759344054/runs/08f417f5745441c584725b2a1ebb2448\n",
      "🧪 View experiment at: http://localhost:5001/#/experiments/725460823759344054\n"
     ]
    },
    {
     "name": "stderr",
     "output_type": "stream",
     "text": [
      "[I 2025-03-27 10:09:08,206] Trial 10 finished with value: 0.9533333333333334 and parameters: {'n_estimators': 63, 'max_depth': 6, 'min_samples_split': 15, 'min_samples_leaf': 7, 'max_features': 0.6071505366126081}. Best is trial 1 with value: 0.9466666666666665.\n"
     ]
    },
    {
     "name": "stdout",
     "output_type": "stream",
     "text": [
      "🏃 View run optuna-hp-10-2025-03-27-10-09-07 at: http://localhost:5001/#/experiments/725460823759344054/runs/34af316079034c739c2ecf86d226793b\n",
      "🧪 View experiment at: http://localhost:5001/#/experiments/725460823759344054\n"
     ]
    },
    {
     "name": "stderr",
     "output_type": "stream",
     "text": [
      "[I 2025-03-27 10:09:08,861] Trial 11 finished with value: 0.9466666666666665 and parameters: {'n_estimators': 99, 'max_depth': 7, 'min_samples_split': 10, 'min_samples_leaf': 8, 'max_features': 0.956807941626869}. Best is trial 1 with value: 0.9466666666666665.\n"
     ]
    },
    {
     "name": "stdout",
     "output_type": "stream",
     "text": [
      "🏃 View run optuna-hp-11-2025-03-27-10-09-08 at: http://localhost:5001/#/experiments/725460823759344054/runs/dbe47bafdd1a48fc940223203ed75f44\n",
      "🧪 View experiment at: http://localhost:5001/#/experiments/725460823759344054\n"
     ]
    },
    {
     "name": "stderr",
     "output_type": "stream",
     "text": [
      "[I 2025-03-27 10:09:09,310] Trial 12 finished with value: 0.9533333333333334 and parameters: {'n_estimators': 63, 'max_depth': 6, 'min_samples_split': 15, 'min_samples_leaf': 20, 'max_features': 0.7798701365745122}. Best is trial 1 with value: 0.9466666666666665.\n"
     ]
    },
    {
     "name": "stdout",
     "output_type": "stream",
     "text": [
      "🏃 View run optuna-hp-12-2025-03-27-10-09-08 at: http://localhost:5001/#/experiments/725460823759344054/runs/38789ce44bf64636b00352fa1b3b22c7\n",
      "🧪 View experiment at: http://localhost:5001/#/experiments/725460823759344054\n"
     ]
    },
    {
     "name": "stderr",
     "output_type": "stream",
     "text": [
      "[I 2025-03-27 10:09:09,836] Trial 13 finished with value: 0.9533333333333334 and parameters: {'n_estimators': 80, 'max_depth': 7, 'min_samples_split': 5, 'min_samples_leaf': 1, 'max_features': 0.9821963077112565}. Best is trial 1 with value: 0.9466666666666665.\n"
     ]
    },
    {
     "name": "stdout",
     "output_type": "stream",
     "text": [
      "🏃 View run optuna-hp-13-2025-03-27-10-09-09 at: http://localhost:5001/#/experiments/725460823759344054/runs/26faf11af060456ebe9e4fde9246b250\n",
      "🧪 View experiment at: http://localhost:5001/#/experiments/725460823759344054\n"
     ]
    },
    {
     "name": "stderr",
     "output_type": "stream",
     "text": [
      "[I 2025-03-27 10:09:10,255] Trial 14 finished with value: 0.9533333333333334 and parameters: {'n_estimators': 52, 'max_depth': 4, 'min_samples_split': 13, 'min_samples_leaf': 9, 'max_features': 0.6760543622216131}. Best is trial 1 with value: 0.9466666666666665.\n"
     ]
    },
    {
     "name": "stdout",
     "output_type": "stream",
     "text": [
      "🏃 View run optuna-hp-14-2025-03-27-10-09-09 at: http://localhost:5001/#/experiments/725460823759344054/runs/b9cf7ad158bf41228f9aec617eac6f00\n",
      "🧪 View experiment at: http://localhost:5001/#/experiments/725460823759344054\n"
     ]
    },
    {
     "name": "stderr",
     "output_type": "stream",
     "text": [
      "[I 2025-03-27 10:09:10,811] Trial 15 finished with value: 0.9400000000000001 and parameters: {'n_estimators': 81, 'max_depth': 8, 'min_samples_split': 20, 'min_samples_leaf': 17, 'max_features': 0.42729649507014067}. Best is trial 15 with value: 0.9400000000000001.\n"
     ]
    },
    {
     "name": "stdout",
     "output_type": "stream",
     "text": [
      "🏃 View run optuna-hp-15-2025-03-27-10-09-10 at: http://localhost:5001/#/experiments/725460823759344054/runs/635f3d43d30145cf9986f6c7321b0a93\n",
      "🧪 View experiment at: http://localhost:5001/#/experiments/725460823759344054\n"
     ]
    },
    {
     "name": "stderr",
     "output_type": "stream",
     "text": [
      "[I 2025-03-27 10:09:11,326] Trial 16 finished with value: 0.9400000000000001 and parameters: {'n_estimators': 80, 'max_depth': 10, 'min_samples_split': 20, 'min_samples_leaf': 11, 'max_features': 0.424143095742901}. Best is trial 15 with value: 0.9400000000000001.\n"
     ]
    },
    {
     "name": "stdout",
     "output_type": "stream",
     "text": [
      "🏃 View run optuna-hp-16-2025-03-27-10-09-10 at: http://localhost:5001/#/experiments/725460823759344054/runs/d3a446a7156d431183bd4f62c5ecb05c\n",
      "🧪 View experiment at: http://localhost:5001/#/experiments/725460823759344054\n"
     ]
    },
    {
     "name": "stderr",
     "output_type": "stream",
     "text": [
      "[I 2025-03-27 10:09:11,866] Trial 17 finished with value: 0.9466666666666665 and parameters: {'n_estimators': 83, 'max_depth': 10, 'min_samples_split': 20, 'min_samples_leaf': 16, 'max_features': 0.41466266475146113}. Best is trial 15 with value: 0.9400000000000001.\n"
     ]
    },
    {
     "name": "stdout",
     "output_type": "stream",
     "text": [
      "🏃 View run optuna-hp-17-2025-03-27-10-09-11 at: http://localhost:5001/#/experiments/725460823759344054/runs/4838ee1460c148b1a5a2957149c029bd\n",
      "🧪 View experiment at: http://localhost:5001/#/experiments/725460823759344054\n"
     ]
    },
    {
     "name": "stderr",
     "output_type": "stream",
     "text": [
      "[I 2025-03-27 10:09:12,511] Trial 18 finished with value: 0.9466666666666667 and parameters: {'n_estimators': 73, 'max_depth': 10, 'min_samples_split': 18, 'min_samples_leaf': 12, 'max_features': 0.29500802235170775}. Best is trial 15 with value: 0.9400000000000001.\n"
     ]
    },
    {
     "name": "stdout",
     "output_type": "stream",
     "text": [
      "🏃 View run optuna-hp-18-2025-03-27-10-09-11 at: http://localhost:5001/#/experiments/725460823759344054/runs/656dd107b1d6414f924c730661ce0eb5\n",
      "🧪 View experiment at: http://localhost:5001/#/experiments/725460823759344054\n"
     ]
    },
    {
     "name": "stderr",
     "output_type": "stream",
     "text": [
      "[I 2025-03-27 10:09:14,280] Trial 19 finished with value: 0.9466666666666665 and parameters: {'n_estimators': 88, 'max_depth': 9, 'min_samples_split': 2, 'min_samples_leaf': 15, 'max_features': 0.5076805114387439}. Best is trial 15 with value: 0.9400000000000001.\n"
     ]
    },
    {
     "name": "stdout",
     "output_type": "stream",
     "text": [
      "🏃 View run optuna-hp-19-2025-03-27-10-09-12 at: http://localhost:5001/#/experiments/725460823759344054/runs/e8131cc2377546c38fc0e09f9524aaf3\n",
      "🧪 View experiment at: http://localhost:5001/#/experiments/725460823759344054\n"
     ]
    },
    {
     "name": "stderr",
     "output_type": "stream",
     "text": [
      "[I 2025-03-27 10:09:15,430] Trial 20 finished with value: 0.96 and parameters: {'n_estimators': 49, 'max_depth': 9, 'min_samples_split': 20, 'min_samples_leaf': 14, 'max_features': 0.30901130808670735}. Best is trial 15 with value: 0.9400000000000001.\n"
     ]
    },
    {
     "name": "stdout",
     "output_type": "stream",
     "text": [
      "🏃 View run optuna-hp-20-2025-03-27-10-09-14 at: http://localhost:5001/#/experiments/725460823759344054/runs/b3b0d72f231a4af8a352c1ef86754c37\n",
      "🧪 View experiment at: http://localhost:5001/#/experiments/725460823759344054\n"
     ]
    },
    {
     "name": "stderr",
     "output_type": "stream",
     "text": [
      "[I 2025-03-27 10:09:16,921] Trial 21 finished with value: 0.9466666666666665 and parameters: {'n_estimators': 66, 'max_depth': 7, 'min_samples_split': 17, 'min_samples_leaf': 5, 'max_features': 0.49771369135880905}. Best is trial 15 with value: 0.9400000000000001.\n"
     ]
    },
    {
     "name": "stdout",
     "output_type": "stream",
     "text": [
      "🏃 View run optuna-hp-21-2025-03-27-10-09-15 at: http://localhost:5001/#/experiments/725460823759344054/runs/97ca03bd17424bfaab5acd7ec54b64ec\n",
      "🧪 View experiment at: http://localhost:5001/#/experiments/725460823759344054\n"
     ]
    },
    {
     "name": "stderr",
     "output_type": "stream",
     "text": [
      "[I 2025-03-27 10:09:18,071] Trial 22 finished with value: 0.96 and parameters: {'n_estimators': 51, 'max_depth': 8, 'min_samples_split': 20, 'min_samples_leaf': 10, 'max_features': 0.32791025557742304}. Best is trial 15 with value: 0.9400000000000001.\n"
     ]
    },
    {
     "name": "stdout",
     "output_type": "stream",
     "text": [
      "🏃 View run optuna-hp-22-2025-03-27-10-09-16 at: http://localhost:5001/#/experiments/725460823759344054/runs/ae41d8da9e4f4d8581f3e01fa96f1af1\n",
      "🧪 View experiment at: http://localhost:5001/#/experiments/725460823759344054\n"
     ]
    },
    {
     "name": "stderr",
     "output_type": "stream",
     "text": [
      "[I 2025-03-27 10:09:19,933] Trial 23 finished with value: 0.9466666666666665 and parameters: {'n_estimators': 90, 'max_depth': 7, 'min_samples_split': 17, 'min_samples_leaf': 9, 'max_features': 0.6092420630798393}. Best is trial 15 with value: 0.9400000000000001.\n"
     ]
    },
    {
     "name": "stdout",
     "output_type": "stream",
     "text": [
      "🏃 View run optuna-hp-23-2025-03-27-10-09-18 at: http://localhost:5001/#/experiments/725460823759344054/runs/bcee08f791f5486ab5f92a228e74b1af\n",
      "🧪 View experiment at: http://localhost:5001/#/experiments/725460823759344054\n"
     ]
    },
    {
     "name": "stderr",
     "output_type": "stream",
     "text": [
      "[I 2025-03-27 10:09:21,467] Trial 24 finished with value: 0.9466666666666667 and parameters: {'n_estimators': 72, 'max_depth': 5, 'min_samples_split': 15, 'min_samples_leaf': 18, 'max_features': 0.4579985142291463}. Best is trial 15 with value: 0.9400000000000001.\n"
     ]
    },
    {
     "name": "stdout",
     "output_type": "stream",
     "text": [
      "🏃 View run optuna-hp-24-2025-03-27-10-09-19 at: http://localhost:5001/#/experiments/725460823759344054/runs/04c05865119045bba62da9cd7b26d71f\n",
      "🧪 View experiment at: http://localhost:5001/#/experiments/725460823759344054\n"
     ]
    },
    {
     "name": "stderr",
     "output_type": "stream",
     "text": [
      "[I 2025-03-27 10:09:22,707] Trial 25 finished with value: 0.9533333333333334 and parameters: {'n_estimators': 56, 'max_depth': 10, 'min_samples_split': 18, 'min_samples_leaf': 11, 'max_features': 0.37781369148275595}. Best is trial 15 with value: 0.9400000000000001.\n"
     ]
    },
    {
     "name": "stdout",
     "output_type": "stream",
     "text": [
      "🏃 View run optuna-hp-25-2025-03-27-10-09-21 at: http://localhost:5001/#/experiments/725460823759344054/runs/efb3403e8b5b4c168b48ce93c8a7aab6\n",
      "🧪 View experiment at: http://localhost:5001/#/experiments/725460823759344054\n"
     ]
    },
    {
     "name": "stderr",
     "output_type": "stream",
     "text": [
      "[I 2025-03-27 10:09:24,483] Trial 26 finished with value: 0.9466666666666665 and parameters: {'n_estimators': 89, 'max_depth': 9, 'min_samples_split': 19, 'min_samples_leaf': 6, 'max_features': 0.22530443948731957}. Best is trial 15 with value: 0.9400000000000001.\n"
     ]
    },
    {
     "name": "stdout",
     "output_type": "stream",
     "text": [
      "🏃 View run optuna-hp-26-2025-03-27-10-09-22 at: http://localhost:5001/#/experiments/725460823759344054/runs/a942e840c5ee46babbb62e321d503d08\n",
      "🧪 View experiment at: http://localhost:5001/#/experiments/725460823759344054\n"
     ]
    },
    {
     "name": "stderr",
     "output_type": "stream",
     "text": [
      "[I 2025-03-27 10:09:25,590] Trial 27 finished with value: 0.9666666666666668 and parameters: {'n_estimators': 44, 'max_depth': 8, 'min_samples_split': 16, 'min_samples_leaf': 4, 'max_features': 0.5798223502649086}. Best is trial 15 with value: 0.9400000000000001.\n"
     ]
    },
    {
     "name": "stdout",
     "output_type": "stream",
     "text": [
      "🏃 View run optuna-hp-27-2025-03-27-10-09-24 at: http://localhost:5001/#/experiments/725460823759344054/runs/f80eabd52fbf416baa5720d799b8d3a2\n",
      "🧪 View experiment at: http://localhost:5001/#/experiments/725460823759344054\n"
     ]
    },
    {
     "name": "stderr",
     "output_type": "stream",
     "text": [
      "[I 2025-03-27 10:09:27,067] Trial 28 finished with value: 0.9466666666666665 and parameters: {'n_estimators': 70, 'max_depth': 2, 'min_samples_split': 14, 'min_samples_leaf': 8, 'max_features': 0.6737448301558779}. Best is trial 15 with value: 0.9400000000000001.\n"
     ]
    },
    {
     "name": "stdout",
     "output_type": "stream",
     "text": [
      "🏃 View run optuna-hp-28-2025-03-27-10-09-25 at: http://localhost:5001/#/experiments/725460823759344054/runs/c27d5e24e11a41c0ba60248c907cbf8b\n",
      "🧪 View experiment at: http://localhost:5001/#/experiments/725460823759344054\n"
     ]
    },
    {
     "name": "stderr",
     "output_type": "stream",
     "text": [
      "[I 2025-03-27 10:09:28,436] Trial 29 finished with value: 0.9466666666666667 and parameters: {'n_estimators': 62, 'max_depth': 5, 'min_samples_split': 19, 'min_samples_leaf': 13, 'max_features': 0.4715265700600326}. Best is trial 15 with value: 0.9400000000000001.\n"
     ]
    },
    {
     "name": "stdout",
     "output_type": "stream",
     "text": [
      "🏃 View run optuna-hp-29-2025-03-27-10-09-27 at: http://localhost:5001/#/experiments/725460823759344054/runs/8649eb5d2c11474a87a900def7b0a785\n",
      "🧪 View experiment at: http://localhost:5001/#/experiments/725460823759344054\n"
     ]
    },
    {
     "name": "stderr",
     "output_type": "stream",
     "text": [
      "[I 2025-03-27 10:09:29,997] Trial 30 finished with value: 0.9466666666666665 and parameters: {'n_estimators': 77, 'max_depth': 6, 'min_samples_split': 17, 'min_samples_leaf': 16, 'max_features': 0.5193184935958376}. Best is trial 15 with value: 0.9400000000000001.\n"
     ]
    },
    {
     "name": "stdout",
     "output_type": "stream",
     "text": [
      "🏃 View run optuna-hp-30-2025-03-27-10-09-28 at: http://localhost:5001/#/experiments/725460823759344054/runs/ddc82118ebe240ac9a2e51b1192ea204\n",
      "🧪 View experiment at: http://localhost:5001/#/experiments/725460823759344054\n"
     ]
    },
    {
     "name": "stderr",
     "output_type": "stream",
     "text": [
      "[I 2025-03-27 10:09:31,813] Trial 31 finished with value: 0.9466666666666665 and parameters: {'n_estimators': 91, 'max_depth': 8, 'min_samples_split': 11, 'min_samples_leaf': 18, 'max_features': 0.8589772227063299}. Best is trial 15 with value: 0.9400000000000001.\n"
     ]
    },
    {
     "name": "stdout",
     "output_type": "stream",
     "text": [
      "🏃 View run optuna-hp-31-2025-03-27-10-09-29 at: http://localhost:5001/#/experiments/725460823759344054/runs/326cdef2b034402ea547299ddd3f83a5\n",
      "🧪 View experiment at: http://localhost:5001/#/experiments/725460823759344054\n"
     ]
    },
    {
     "name": "stderr",
     "output_type": "stream",
     "text": [
      "[I 2025-03-27 10:09:33,730] Trial 32 finished with value: 0.9466666666666667 and parameters: {'n_estimators': 95, 'max_depth': 7, 'min_samples_split': 7, 'min_samples_leaf': 19, 'max_features': 0.8010618941239291}. Best is trial 15 with value: 0.9400000000000001.\n"
     ]
    },
    {
     "name": "stdout",
     "output_type": "stream",
     "text": [
      "🏃 View run optuna-hp-32-2025-03-27-10-09-31 at: http://localhost:5001/#/experiments/725460823759344054/runs/660a8f815b0d49e0830637ca936ffaad\n",
      "🧪 View experiment at: http://localhost:5001/#/experiments/725460823759344054\n"
     ]
    },
    {
     "name": "stderr",
     "output_type": "stream",
     "text": [
      "[I 2025-03-27 10:09:35,610] Trial 33 finished with value: 0.9533333333333334 and parameters: {'n_estimators': 85, 'max_depth': 8, 'min_samples_split': 13, 'min_samples_leaf': 17, 'max_features': 0.5562400843738571}. Best is trial 15 with value: 0.9400000000000001.\n"
     ]
    },
    {
     "name": "stdout",
     "output_type": "stream",
     "text": [
      "🏃 View run optuna-hp-33-2025-03-27-10-09-33 at: http://localhost:5001/#/experiments/725460823759344054/runs/58fd89f2087a48dca428f1a40d63bf35\n",
      "🧪 View experiment at: http://localhost:5001/#/experiments/725460823759344054\n"
     ]
    },
    {
     "name": "stderr",
     "output_type": "stream",
     "text": [
      "[I 2025-03-27 10:09:37,491] Trial 34 finished with value: 0.9466666666666665 and parameters: {'n_estimators': 95, 'max_depth': 6, 'min_samples_split': 11, 'min_samples_leaf': 20, 'max_features': 0.369890074476201}. Best is trial 15 with value: 0.9400000000000001.\n"
     ]
    },
    {
     "name": "stdout",
     "output_type": "stream",
     "text": [
      "🏃 View run optuna-hp-34-2025-03-27-10-09-35 at: http://localhost:5001/#/experiments/725460823759344054/runs/e9297fc3af6a4cda88f25fa7a96bcb10\n",
      "🧪 View experiment at: http://localhost:5001/#/experiments/725460823759344054\n"
     ]
    },
    {
     "name": "stderr",
     "output_type": "stream",
     "text": [
      "[I 2025-03-27 10:09:39,222] Trial 35 finished with value: 0.96 and parameters: {'n_estimators': 77, 'max_depth': 9, 'min_samples_split': 8, 'min_samples_leaf': 18, 'max_features': 0.6383374941591835}. Best is trial 15 with value: 0.9400000000000001.\n"
     ]
    },
    {
     "name": "stdout",
     "output_type": "stream",
     "text": [
      "🏃 View run optuna-hp-35-2025-03-27-10-09-37 at: http://localhost:5001/#/experiments/725460823759344054/runs/854ae9df5180415bb81741eae025be32\n",
      "🧪 View experiment at: http://localhost:5001/#/experiments/725460823759344054\n"
     ]
    },
    {
     "name": "stderr",
     "output_type": "stream",
     "text": [
      "[I 2025-03-27 10:09:40,963] Trial 36 finished with value: 0.9533333333333334 and parameters: {'n_estimators': 83, 'max_depth': 10, 'min_samples_split': 19, 'min_samples_leaf': 12, 'max_features': 0.24227208731625618}. Best is trial 15 with value: 0.9400000000000001.\n"
     ]
    },
    {
     "name": "stdout",
     "output_type": "stream",
     "text": [
      "🏃 View run optuna-hp-36-2025-03-27-10-09-39 at: http://localhost:5001/#/experiments/725460823759344054/runs/6f595b9a3328409badfe675a9a09738f\n",
      "🧪 View experiment at: http://localhost:5001/#/experiments/725460823759344054\n"
     ]
    },
    {
     "name": "stderr",
     "output_type": "stream",
     "text": [
      "[I 2025-03-27 10:09:41,692] Trial 37 finished with value: 0.9666666666666668 and parameters: {'n_estimators': 20, 'max_depth': 7, 'min_samples_split': 12, 'min_samples_leaf': 10, 'max_features': 0.7213426731104735}. Best is trial 15 with value: 0.9400000000000001.\n"
     ]
    },
    {
     "name": "stdout",
     "output_type": "stream",
     "text": [
      "🏃 View run optuna-hp-37-2025-03-27-10-09-40 at: http://localhost:5001/#/experiments/725460823759344054/runs/9b2ffdc1fba940ed9d6e246ded063eeb\n",
      "🧪 View experiment at: http://localhost:5001/#/experiments/725460823759344054\n"
     ]
    },
    {
     "name": "stderr",
     "output_type": "stream",
     "text": [
      "[I 2025-03-27 10:09:43,005] Trial 38 finished with value: 0.9466666666666665 and parameters: {'n_estimators': 58, 'max_depth': 8, 'min_samples_split': 16, 'min_samples_leaf': 16, 'max_features': 0.838533710597471}. Best is trial 15 with value: 0.9400000000000001.\n"
     ]
    },
    {
     "name": "stdout",
     "output_type": "stream",
     "text": [
      "🏃 View run optuna-hp-38-2025-03-27-10-09-41 at: http://localhost:5001/#/experiments/725460823759344054/runs/32adf32191004e70a872df45699cbd28\n",
      "🧪 View experiment at: http://localhost:5001/#/experiments/725460823759344054\n"
     ]
    },
    {
     "name": "stderr",
     "output_type": "stream",
     "text": [
      "[I 2025-03-27 10:09:43,933] Trial 39 finished with value: 0.9533333333333334 and parameters: {'n_estimators': 39, 'max_depth': 8, 'min_samples_split': 14, 'min_samples_leaf': 14, 'max_features': 0.11035266768202329}. Best is trial 15 with value: 0.9400000000000001.\n"
     ]
    },
    {
     "name": "stdout",
     "output_type": "stream",
     "text": [
      "🏃 View run optuna-hp-39-2025-03-27-10-09-43 at: http://localhost:5001/#/experiments/725460823759344054/runs/988d3123bbda4138818dd001d578758b\n",
      "🧪 View experiment at: http://localhost:5001/#/experiments/725460823759344054\n"
     ]
    },
    {
     "name": "stderr",
     "output_type": "stream",
     "text": [
      "[I 2025-03-27 10:09:45,810] Trial 40 finished with value: 0.9466666666666665 and parameters: {'n_estimators': 95, 'max_depth': 9, 'min_samples_split': 18, 'min_samples_leaf': 19, 'max_features': 0.9204651128807515}. Best is trial 15 with value: 0.9400000000000001.\n"
     ]
    },
    {
     "name": "stdout",
     "output_type": "stream",
     "text": [
      "🏃 View run optuna-hp-40-2025-03-27-10-09-43 at: http://localhost:5001/#/experiments/725460823759344054/runs/2098b583d3334b418ddec1732bb88c47\n",
      "🧪 View experiment at: http://localhost:5001/#/experiments/725460823759344054\n"
     ]
    },
    {
     "name": "stderr",
     "output_type": "stream",
     "text": [
      "[I 2025-03-27 10:09:47,311] Trial 41 finished with value: 0.9466666666666665 and parameters: {'n_estimators': 68, 'max_depth': 10, 'min_samples_split': 10, 'min_samples_leaf': 11, 'max_features': 0.7469183565083625}. Best is trial 15 with value: 0.9400000000000001.\n"
     ]
    },
    {
     "name": "stdout",
     "output_type": "stream",
     "text": [
      "🏃 View run optuna-hp-41-2025-03-27-10-09-45 at: http://localhost:5001/#/experiments/725460823759344054/runs/49d7164a6acf439c95f27ac2c9cf03ca\n",
      "🧪 View experiment at: http://localhost:5001/#/experiments/725460823759344054\n"
     ]
    },
    {
     "name": "stderr",
     "output_type": "stream",
     "text": [
      "[I 2025-03-27 10:09:49,015] Trial 42 finished with value: 0.9466666666666665 and parameters: {'n_estimators': 75, 'max_depth': 9, 'min_samples_split': 12, 'min_samples_leaf': 7, 'max_features': 0.10689115413144024}. Best is trial 15 with value: 0.9400000000000001.\n"
     ]
    },
    {
     "name": "stdout",
     "output_type": "stream",
     "text": [
      "🏃 View run optuna-hp-42-2025-03-27-10-09-47 at: http://localhost:5001/#/experiments/725460823759344054/runs/53c1fbce375942ab8ec0837f84b3e6cb\n",
      "🧪 View experiment at: http://localhost:5001/#/experiments/725460823759344054\n"
     ]
    },
    {
     "name": "stderr",
     "output_type": "stream",
     "text": [
      "[I 2025-03-27 10:09:50,737] Trial 43 finished with value: 0.9466666666666665 and parameters: {'n_estimators': 80, 'max_depth': 10, 'min_samples_split': 14, 'min_samples_leaf': 9, 'max_features': 0.18550140949544247}. Best is trial 15 with value: 0.9400000000000001.\n"
     ]
    },
    {
     "name": "stdout",
     "output_type": "stream",
     "text": [
      "🏃 View run optuna-hp-43-2025-03-27-10-09-49 at: http://localhost:5001/#/experiments/725460823759344054/runs/d8073b1bff394a5c8cb5bd13873158a2\n",
      "🧪 View experiment at: http://localhost:5001/#/experiments/725460823759344054\n"
     ]
    },
    {
     "name": "stderr",
     "output_type": "stream",
     "text": [
      "[I 2025-03-27 10:09:52,802] Trial 44 finished with value: 0.9533333333333334 and parameters: {'n_estimators': 100, 'max_depth': 8, 'min_samples_split': 9, 'min_samples_leaf': 12, 'max_features': 0.1581758301300879}. Best is trial 15 with value: 0.9400000000000001.\n"
     ]
    },
    {
     "name": "stdout",
     "output_type": "stream",
     "text": [
      "🏃 View run optuna-hp-44-2025-03-27-10-09-50 at: http://localhost:5001/#/experiments/725460823759344054/runs/a29dc83737004b8ca8dfcf323616fe32\n",
      "🧪 View experiment at: http://localhost:5001/#/experiments/725460823759344054\n"
     ]
    },
    {
     "name": "stderr",
     "output_type": "stream",
     "text": [
      "[I 2025-03-27 10:09:54,548] Trial 45 finished with value: 0.9466666666666665 and parameters: {'n_estimators': 85, 'max_depth': 6, 'min_samples_split': 13, 'min_samples_leaf': 7, 'max_features': 0.42539552265077984}. Best is trial 15 with value: 0.9400000000000001.\n"
     ]
    },
    {
     "name": "stdout",
     "output_type": "stream",
     "text": [
      "🏃 View run optuna-hp-45-2025-03-27-10-09-52 at: http://localhost:5001/#/experiments/725460823759344054/runs/865af8b9bdc44a1aa9fbe3134496d0b4\n",
      "🧪 View experiment at: http://localhost:5001/#/experiments/725460823759344054\n"
     ]
    },
    {
     "name": "stderr",
     "output_type": "stream",
     "text": [
      "[I 2025-03-27 10:09:56,192] Trial 46 finished with value: 0.9466666666666665 and parameters: {'n_estimators': 79, 'max_depth': 10, 'min_samples_split': 6, 'min_samples_leaf': 14, 'max_features': 0.26997176243080856}. Best is trial 15 with value: 0.9400000000000001.\n"
     ]
    },
    {
     "name": "stdout",
     "output_type": "stream",
     "text": [
      "🏃 View run optuna-hp-46-2025-03-27-10-09-54 at: http://localhost:5001/#/experiments/725460823759344054/runs/95c4bec400674e0a8b3ece8ee0367e83\n",
      "🧪 View experiment at: http://localhost:5001/#/experiments/725460823759344054\n"
     ]
    },
    {
     "name": "stderr",
     "output_type": "stream",
     "text": [
      "[I 2025-03-27 10:09:56,675] Trial 47 finished with value: 0.9066666666666666 and parameters: {'n_estimators': 3, 'max_depth': 9, 'min_samples_split': 20, 'min_samples_leaf': 11, 'max_features': 0.34526755890252925}. Best is trial 47 with value: 0.9066666666666666.\n"
     ]
    },
    {
     "name": "stdout",
     "output_type": "stream",
     "text": [
      "🏃 View run optuna-hp-47-2025-03-27-10-09-56 at: http://localhost:5001/#/experiments/725460823759344054/runs/5457f00df0ad421e8b78758c9f3eb33f\n",
      "🧪 View experiment at: http://localhost:5001/#/experiments/725460823759344054\n"
     ]
    },
    {
     "name": "stderr",
     "output_type": "stream",
     "text": [
      "[I 2025-03-27 10:09:57,221] Trial 48 finished with value: 0.9533333333333334 and parameters: {'n_estimators': 6, 'max_depth': 9, 'min_samples_split': 20, 'min_samples_leaf': 8, 'max_features': 0.3538813433981539}. Best is trial 47 with value: 0.9066666666666666.\n"
     ]
    },
    {
     "name": "stdout",
     "output_type": "stream",
     "text": [
      "🏃 View run optuna-hp-48-2025-03-27-10-09-56 at: http://localhost:5001/#/experiments/725460823759344054/runs/1b50709264274af19589ecf072f91323\n",
      "🧪 View experiment at: http://localhost:5001/#/experiments/725460823759344054\n"
     ]
    },
    {
     "name": "stderr",
     "output_type": "stream",
     "text": [
      "[I 2025-03-27 10:09:57,868] Trial 49 finished with value: 0.9466666666666665 and parameters: {'n_estimators': 14, 'max_depth': 7, 'min_samples_split': 19, 'min_samples_leaf': 2, 'max_features': 0.4797239688856732}. Best is trial 47 with value: 0.9066666666666666.\n"
     ]
    },
    {
     "name": "stdout",
     "output_type": "stream",
     "text": [
      "🏃 View run optuna-hp-49-2025-03-27-10-09-57 at: http://localhost:5001/#/experiments/725460823759344054/runs/fc46a8360c564beb9bd506172d3d04b1\n",
      "🧪 View experiment at: http://localhost:5001/#/experiments/725460823759344054\n"
     ]
    }
   ],
   "source": [
    "\n",
    "import optuna\n",
    "import mlflow\n",
    "from sklearn.ensemble import RandomForestClassifier\n",
    "from sklearn.model_selection import cross_val_score\n",
    "\n",
    "\n",
    "X, y = get_data()\n",
    "\n",
    "def optimize_rf(trial):\n",
    "    \n",
    "    with mlflow.start_run(run_name=f\"optuna-hp-{trial.number}-{datetime.datetime.now().strftime('%Y-%m-%d-%H-%M-%S')}\"):\n",
    "        # Set the hyperparameter values that we want to optimize\n",
    "        n_estimators = trial.suggest_int('n_estimators', 1, 100)\n",
    "        max_depth = trial.suggest_int('max_depth', 2, 10)\n",
    "        min_samples_split = trial.suggest_int('min_samples_split', 2, 20)\n",
    "        min_samples_leaf = trial.suggest_int('min_samples_leaf', 1, 20)\n",
    "        max_features = trial.suggest_float('max_features', 0.1, 1.0)\n",
    "        \n",
    "        \n",
    "        # Create a random forest classifier using the suggested hyperparameters\n",
    "        rf = RandomForestClassifier(n_estimators=n_estimators, max_depth=max_depth,\n",
    "                                    min_samples_split=min_samples_split,\n",
    "                                    min_samples_leaf=min_samples_leaf,\n",
    "                                    max_features=max_features)\n",
    "        \n",
    "        # Use cross-validation to evaluate the performance of the classifier\n",
    "        scores = cross_val_score(rf, X, y, cv=5)\n",
    "        \n",
    "        # Log the hyperparameters and cross-validation scores to MLflow\n",
    "        mlflow.log_param('n_estimators', n_estimators)\n",
    "        mlflow.log_param('max_depth', max_depth)\n",
    "        mlflow.log_param('min_samples_split', min_samples_split)\n",
    "        mlflow.log_param('min_samples_leaf', min_samples_leaf)\n",
    "        mlflow.log_param('max_features', max_features)\n",
    "        mlflow.log_metric('mean_cv_score', scores.mean())\n",
    "    \n",
    "    # Return the mean of the cross-validation scores as the objective value\n",
    "    return scores.mean()\n",
    "\n",
    "# Create an Optuna study\n",
    "study = optuna.create_study()\n",
    "\n",
    "# Run the optimization loop\n",
    "study.optimize(optimize_rf, n_trials=50)\n",
    "\n",
    "# Get the best hyperparameter values\n",
    "best_params = study.best_params"
   ]
  },
  {
   "attachments": {},
   "cell_type": "markdown",
   "metadata": {},
   "source": [
    "## 6. Register a model version using the best hyperparameters"
   ]
  },
  {
   "cell_type": "code",
   "execution_count": 5,
   "metadata": {},
   "outputs": [
    {
     "name": "stderr",
     "output_type": "stream",
     "text": [
      "Successfully registered model 'random_forest_model'.\n",
      "2025/03/27 10:15:24 INFO mlflow.store.model_registry.abstract_store: Waiting up to 300 seconds for model version to finish creation. Model name: random_forest_model, version 1\n"
     ]
    },
    {
     "name": "stdout",
     "output_type": "stream",
     "text": [
      "🏃 View run optuna-hp-final at: http://localhost:5001/#/experiments/725460823759344054/runs/65a85696dfd74f23bf99530341f553c9\n",
      "🧪 View experiment at: http://localhost:5001/#/experiments/725460823759344054\n"
     ]
    },
    {
     "name": "stderr",
     "output_type": "stream",
     "text": [
      "Created version '1' of model 'random_forest_model'.\n"
     ]
    }
   ],
   "source": [
    "from mlflow.models.signature import infer_signature\n",
    "\n",
    "with mlflow.start_run(run_name=f\"optuna-hp-final\"):\n",
    "    # Create the final model using the best hyperparameters\n",
    "    final_model = RandomForestClassifier(**best_params)\n",
    "\n",
    "    # Train the final model on the entire dataset\n",
    "    final_model.fit(X, y)\n",
    "\n",
    "    # Infer the model signature\n",
    "    signature = infer_signature(X, final_model.predict(X))\n",
    "\n",
    "    # Log the model to the \"Models\" section\n",
    "    mlflow.sklearn.log_model(final_model, \"random_forest_model\", registered_model_name=\"random_forest_model\", signature=signature)"
   ]
  },
  {
   "attachments": {},
   "cell_type": "markdown",
   "metadata": {},
   "source": [
    "## 7. Retrieve a model version and use it for prediction"
   ]
  },
  {
   "cell_type": "code",
   "execution_count": 6,
   "metadata": {},
   "outputs": [
    {
     "name": "stderr",
     "output_type": "stream",
     "text": [
      "Downloading artifacts: 100%|██████████| 5/5 [00:02<00:00,  2.38it/s]\n"
     ]
    },
    {
     "data": {
      "text/plain": [
       "array([0, 0, 0, 0, 0])"
      ]
     },
     "execution_count": 6,
     "metadata": {},
     "output_type": "execute_result"
    }
   ],
   "source": [
    "import mlflow.pyfunc\n",
    "\n",
    "model_name = \"random_forest_model\"\n",
    "model_version = 1\n",
    "\n",
    "model = mlflow.pyfunc.load_model(\n",
    "    model_uri=f\"models:/{model_name}/{model_version}\"\n",
    ")\n",
    "\n",
    "model.predict(X[:5])"
   ]
  }
 ],
 "metadata": {
  "kernelspec": {
   "display_name": "venv",
   "language": "python",
   "name": "python3"
  },
  "language_info": {
   "codemirror_mode": {
    "name": "ipython",
    "version": 3
   },
   "file_extension": ".py",
   "mimetype": "text/x-python",
   "name": "python",
   "nbconvert_exporter": "python",
   "pygments_lexer": "ipython3",
   "version": "3.12.7"
  },
  "orig_nbformat": 4
 },
 "nbformat": 4,
 "nbformat_minor": 2
}
