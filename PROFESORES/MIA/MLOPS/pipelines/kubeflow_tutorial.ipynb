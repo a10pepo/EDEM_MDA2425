{
 "cells": [
  {
   "cell_type": "markdown",
   "id": "3b35139b-433b-41e9-bf18-5e58178e08b9",
   "metadata": {},
   "source": [
    "# Kubeflow - VertexAI pipelines tutorial\n",
    "## Installing required libraries"
   ]
  },
  {
   "cell_type": "code",
   "execution_count": null,
   "id": "f3885625-8520-4cc4-b72c-cc00a32ce585",
   "metadata": {
    "tags": []
   },
   "outputs": [],
   "source": [
    "! pip3 install --no-cache-dir --upgrade \"kfp>2\" \\\n",
    "                                        google-cloud-aiplatform"
   ]
  },
  {
   "cell_type": "code",
   "execution_count": null,
   "id": "7b889e1f-ef59-47e5-8d15-7df416cd1938",
   "metadata": {
    "tags": []
   },
   "outputs": [],
   "source": [
    "! python3 -c \"import kfp; print('KFP SDK version: {}'.format(kfp.__version__))\"\n",
    "! pip3 freeze | grep aiplatform"
   ]
  },
  {
   "cell_type": "markdown",
   "id": "64b2b717-e262-4fd1-a85a-48ada3c04a2d",
   "metadata": {},
   "source": [
    "## Define your values"
   ]
  },
  {
   "cell_type": "code",
   "execution_count": null,
   "id": "5897595f-a01b-4e80-8e2b-79f39a361615",
   "metadata": {
    "tags": []
   },
   "outputs": [],
   "source": [
    "import random\n",
    "import string\n",
    "PROJECT_ID = \"your-project-id\"\n",
    "LOCATION = \"us-central1\"\n",
    "random_suffix = ''.join(random.choices(string.ascii_lowercase + string.digits, k=8)) # Comenta esto y reemplaza con el valor que se imprime al ejecutar la celda para evitar multiples buckets\n",
    "print(\"Este es el valor a reemplazar en random_suffix: \"+str(random_suffix))\n",
    "\n",
    "BUCKET_NAME = f\"{PROJECT_ID}-bucket-{random_suffix}\"\n",
    "PIPELINE_ROOT = f\"gs://{BUCKET_NAME}/pipeline_root/\"\n",
    "\n",
    "BQ_LOCATION = LOCATION.split(\"-\")[0].upper()\n",
    "BUCKET_URI = \"gs://\"+BUCKET_NAME"
   ]
  },
  {
   "cell_type": "code",
   "execution_count": null,
   "id": "83c90267-3290-4e35-b512-cc0785c937d5",
   "metadata": {
    "tags": []
   },
   "outputs": [],
   "source": [
    "# Service account\n",
    "shell_output = !gcloud auth list 2>/dev/null\n",
    "SERVICE_ACCOUNT = shell_output[2].replace(\"*\", \"\").strip()\n",
    "print(SERVICE_ACCOUNT)"
   ]
  },
  {
   "cell_type": "code",
   "execution_count": null,
   "id": "8feeb1d9-8211-4feb-a48c-5aa3ba8a877e",
   "metadata": {
    "tags": []
   },
   "outputs": [],
   "source": [
    "!gsutil iam ch serviceAccount:{SERVICE_ACCOUNT}:roles/storage.objectCreator $BUCKET_URI\n",
    "!gsutil iam ch serviceAccount:{SERVICE_ACCOUNT}:roles/storage.objectViewer $BUCKET_URI\n",
    "!gsutil iam ch serviceAccount:{SERVICE_ACCOUNT}:roles/storage.admin $BUCKET_URI"
   ]
  },
  {
   "cell_type": "markdown",
   "id": "95835bc8-1dc8-4acd-a4c5-8db3d2375b28",
   "metadata": {},
   "source": [
    "## Initialize Vertex AI pipelines"
   ]
  },
  {
   "cell_type": "code",
   "execution_count": null,
   "id": "d4bd3dfc-dfdd-4e34-8bd7-ecba59e69222",
   "metadata": {
    "tags": []
   },
   "outputs": [],
   "source": [
    "import google.cloud.aiplatform as aiplatform\n",
    "import kfp\n",
    "from kfp import compiler, dsl\n",
    "from kfp.dsl import Artifact, Dataset, Input, Metrics, Model, Output, component"
   ]
  },
  {
   "cell_type": "code",
   "execution_count": null,
   "id": "a3591981-855b-475c-9da2-79578c393e75",
   "metadata": {
    "tags": []
   },
   "outputs": [],
   "source": [
    "aiplatform.init(project=PROJECT_ID, staging_bucket=BUCKET_URI)"
   ]
  },
  {
   "cell_type": "markdown",
   "id": "cc44acbb-0daf-4d1a-bad0-71c590773ff5",
   "metadata": {},
   "source": [
    "## Linear pipeline"
   ]
  },
  {
   "cell_type": "code",
   "execution_count": null,
   "id": "227ccf4d-7428-4622-af5e-a53408478fe4",
   "metadata": {
    "tags": []
   },
   "outputs": [],
   "source": [
    "@component\n",
    "def start_step() -> str:\n",
    "    return 'hello world'\n",
    "\n",
    "@component\n",
    "def print_step(my_var: str) -> str:\n",
    "    print(f'the data artifact is: {my_var}')\n",
    "    return my_var\n",
    "\n",
    "@component\n",
    "def final_step(my_var: str):\n",
    "    print(f'the data artifact is still: {my_var}')\n",
    "\n",
    "@dsl.pipeline\n",
    "def linear_pipeline():\n",
    "    my_var = start_step()\n",
    "    my_var_2 = print_step(my_var=my_var.output)\n",
    "    final_step(my_var=my_var_2.output)\n",
    "\n",
    "\n",
    "compiler.Compiler().compile(pipeline_func=linear_pipeline, package_path='linear_pipeline.yaml')"
   ]
  },
  {
   "cell_type": "code",
   "execution_count": null,
   "id": "cfebc70b-d8f0-43b1-87a6-751de1fd3c57",
   "metadata": {
    "tags": []
   },
   "outputs": [],
   "source": [
    "job = aiplatform.PipelineJob(\n",
    "    display_name=\"linear_pipeline\",\n",
    "    template_path=\"linear_pipeline.yaml\",\n",
    "    pipeline_root=PIPELINE_ROOT,\n",
    ")\n",
    "\n",
    "job.run()"
   ]
  },
  {
   "cell_type": "markdown",
   "id": "ce25d6c9-7a9f-425e-82e4-c9302d884aab",
   "metadata": {},
   "source": [
    "## Branch pipeline"
   ]
  },
  {
   "cell_type": "code",
   "execution_count": null,
   "id": "c718457a-82dd-4a50-9dca-082916e44c16",
   "metadata": {
    "tags": []
   },
   "outputs": [],
   "source": [
    "@component\n",
    "def step_a() -> int:\n",
    "    return 1\n",
    "\n",
    "@component\n",
    "def step_b() -> int:\n",
    "    return 2\n",
    "\n",
    "@component\n",
    "def join_results(a: int, b: int):\n",
    "    print(f'a is {a}')\n",
    "    print(f'b is {b}')\n",
    "    print(f'total is {a + b}')\n",
    "\n",
    "\n",
    "@dsl.pipeline\n",
    "def branch_pipeline():\n",
    "    a_result = step_a()\n",
    "    b_result = step_b()\n",
    "\n",
    "    join_results(a=a_result.output, b=b_result.output)\n",
    "\n",
    "\n",
    "\n",
    "compiler.Compiler().compile(pipeline_func=branch_pipeline, package_path='branch_pipeline.yaml')\n",
    "\n",
    "job = aiplatform.PipelineJob(\n",
    "    display_name=\"branch_pipeline\",\n",
    "    template_path=\"branch_pipeline.yaml\",\n",
    "    pipeline_root=PIPELINE_ROOT,\n",
    ")\n",
    "\n",
    "job.run()"
   ]
  },
  {
   "cell_type": "markdown",
   "id": "2e1bfd9a-5cca-4706-ac6d-7aef3a866fec",
   "metadata": {},
   "source": [
    "## Foreach pipeline"
   ]
  },
  {
   "cell_type": "code",
   "execution_count": null,
   "id": "98cdadfb-c779-4289-b5d4-413d38b5c773",
   "metadata": {
    "tags": []
   },
   "outputs": [],
   "source": [
    "from kfp import dsl\n",
    "from kfp.dsl import component, PipelineTask\n",
    "from kfp.compiler import Compiler\n",
    "\n",
    "@component\n",
    "def process_title(title: str) -> str:\n",
    "    return f\"{title} processed\"\n",
    "\n",
    "@component\n",
    "def join_results(processed_titles: list):\n",
    "    for result in processed_titles:\n",
    "        print(result)\n",
    "\n",
    "@dsl.pipeline\n",
    "def foreach_pipeline():\n",
    "    titles = ['Stranger Things', 'House of Cards', 'Narcos']\n",
    "\n",
    "    processed_tasks: list[PipelineTask] = []\n",
    "\n",
    "    for title in titles:\n",
    "        task = process_title(title=title)\n",
    "        processed_tasks.append(task)\n",
    "\n",
    "    join_results(processed_titles=[t.output for t in processed_tasks])\n",
    "\n",
    "\n",
    "compiler.Compiler().compile(pipeline_func=foreach_pipeline, package_path='foreach_pipeline.yaml')"
   ]
  },
  {
   "cell_type": "code",
   "execution_count": null,
   "id": "eff8daec-d402-4005-95f0-450e1f714e0e",
   "metadata": {
    "tags": []
   },
   "outputs": [],
   "source": [
    "job = aiplatform.PipelineJob(\n",
    "    display_name=\"foreach_pipeline\",\n",
    "    template_path=\"foreach_pipeline.yaml\",\n",
    "    pipeline_root=PIPELINE_ROOT,\n",
    ")\n",
    "\n",
    "job.run()"
   ]
  },
  {
   "cell_type": "markdown",
   "id": "f3dd1d86-128c-433e-a58e-412ef1775669",
   "metadata": {},
   "source": [
    "## Input parameters"
   ]
  },
  {
   "cell_type": "code",
   "execution_count": null,
   "id": "eec4c5c1-5c72-4780-ba53-431282180ae8",
   "metadata": {
    "tags": []
   },
   "outputs": [],
   "source": [
    "from kfp import dsl\n",
    "from kfp.dsl import component\n",
    "from kfp.compiler import Compiler\n",
    "\n",
    "@component\n",
    "def print_alpha(alpha: float):\n",
    "    print(f'alpha is {alpha}')\n",
    "\n",
    "@dsl.pipeline\n",
    "def parameter_pipeline(alpha: float = 0.01):\n",
    "    print_alpha(alpha=alpha)\n",
    "\n",
    "\n",
    "compiler.Compiler().compile(pipeline_func=parameter_pipeline, package_path='parameter_pipeline.yaml')"
   ]
  },
  {
   "cell_type": "code",
   "execution_count": null,
   "id": "f0c9897e-da1e-44c2-8635-e65d135a0747",
   "metadata": {
    "tags": []
   },
   "outputs": [],
   "source": [
    "job = aiplatform.PipelineJob(\n",
    "    display_name=\"parameter_pipeline\",\n",
    "    template_path=\"parameter_pipeline.yaml\",\n",
    "    pipeline_root=PIPELINE_ROOT,\n",
    "    parameter_values={'alpha': 0.199},  # your custom alpha value\n",
    ")\n",
    "\n",
    "job.run()"
   ]
  },
  {
   "cell_type": "markdown",
   "id": "0fc743cf-f3fb-433a-82ba-1b7c4208cbf0",
   "metadata": {},
   "source": [
    "## Dealing with artifacts (datasets, models, etc.)"
   ]
  },
  {
   "cell_type": "code",
   "execution_count": null,
   "id": "6230c29a-888b-4e86-968b-c3b914daa948",
   "metadata": {
    "tags": []
   },
   "outputs": [],
   "source": [
    "from kfp.dsl import component, Input, Output, Dataset\n",
    "\n",
    "@component(packages_to_install=['pandas'])\n",
    "def generate_data(data_out: Output[Dataset]):\n",
    "    import pandas as pd\n",
    "    df = pd.DataFrame({'col': [1, 2, 3]})\n",
    "    \n",
    "    # Ensure the output directory exists\n",
    "    import os\n",
    "    os.makedirs(data_out.path, exist_ok=True)\n",
    "    \n",
    "    df.to_csv(f\"{data_out.path}/data.csv\", index=False)\n",
    "\n",
    "@component(packages_to_install=['pandas'])\n",
    "def consume_data(data_in: Input[Dataset]):\n",
    "    import pandas as pd\n",
    "    df = pd.read_csv(f\"{data_in.path}/data.csv\")\n",
    "    print(df)\n",
    "    \n",
    "@dsl.pipeline\n",
    "def dataset_pipeline():\n",
    "    data = generate_data()\n",
    "    consume_data(data_in = data.outputs[\"data_out\"])\n",
    "    \n",
    "compiler.Compiler().compile(pipeline_func=dataset_pipeline, package_path='dataset_pipeline.yaml')"
   ]
  },
  {
   "cell_type": "code",
   "execution_count": null,
   "id": "431a2404-1f57-4a8b-8b96-b0992528c2f8",
   "metadata": {
    "tags": []
   },
   "outputs": [],
   "source": [
    "job = aiplatform.PipelineJob(\n",
    "    display_name=\"dataset_pipeline\",\n",
    "    template_path=\"dataset_pipeline.yaml\",\n",
    "    pipeline_root=PIPELINE_ROOT,\n",
    ")\n",
    "\n",
    "job.run()"
   ]
  }
 ],
 "metadata": {
  "environment": {
   "kernel": "conda-base-py",
   "name": "workbench-notebooks.m127",
   "type": "gcloud",
   "uri": "us-docker.pkg.dev/deeplearning-platform-release/gcr.io/workbench-notebooks:m127"
  },
  "kernelspec": {
   "display_name": "Python 3 (ipykernel)",
   "language": "python",
   "name": "conda-base-py"
  },
  "language_info": {
   "codemirror_mode": {
    "name": "ipython",
    "version": 3
   },
   "file_extension": ".py",
   "mimetype": "text/x-python",
   "name": "python",
   "nbconvert_exporter": "python",
   "pygments_lexer": "ipython3",
   "version": "3.10.16"
  }
 },
 "nbformat": 4,
 "nbformat_minor": 5
}
