{
 "cells": [
  {
   "attachments": {},
   "cell_type": "markdown",
   "metadata": {},
   "source": [
    "# Pipelines: Metaflow Basics\n",
    "\n",
    "https://docs.metaflow.org/metaflow/basics"
   ]
  },
  {
   "attachments": {},
   "cell_type": "markdown",
   "metadata": {},
   "source": [
    "## Install dependencies"
   ]
  },
  {
   "cell_type": "code",
   "execution_count": 1,
   "metadata": {},
   "outputs": [
    {
     "name": "stdout",
     "output_type": "stream",
     "text": [
      "Collecting metaflow==2.13.9 (from -r requirements.txt (line 1))\n",
      "  Downloading metaflow-2.13.9-py2.py3-none-any.whl.metadata (6.1 kB)\n",
      "Requirement already satisfied: pandas==2.2.3 in c:\\users\\usuario\\documents\\master ia\\mia 24-25\\edem_mda2425\\venv\\lib\\site-packages (from -r requirements.txt (line 2)) (2.2.3)\n",
      "Requirement already satisfied: numpy==1.26.4 in c:\\users\\usuario\\documents\\master ia\\mia 24-25\\edem_mda2425\\venv\\lib\\site-packages (from -r requirements.txt (line 3)) (1.26.4)\n",
      "Requirement already satisfied: scikit-learn==1.6.1 in c:\\users\\usuario\\documents\\master ia\\mia 24-25\\edem_mda2425\\venv\\lib\\site-packages (from -r requirements.txt (line 4)) (1.6.1)\n",
      "Requirement already satisfied: optuna==4.2.0 in c:\\users\\usuario\\documents\\master ia\\mia 24-25\\edem_mda2425\\venv\\lib\\site-packages (from -r requirements.txt (line 5)) (4.2.0)\n",
      "Requirement already satisfied: requests in c:\\users\\usuario\\documents\\master ia\\mia 24-25\\edem_mda2425\\venv\\lib\\site-packages (from metaflow==2.13.9->-r requirements.txt (line 1)) (2.32.3)\n",
      "Collecting boto3 (from metaflow==2.13.9->-r requirements.txt (line 1))\n",
      "  Downloading boto3-1.37.6-py3-none-any.whl.metadata (6.6 kB)\n",
      "Requirement already satisfied: python-dateutil>=2.8.2 in c:\\users\\usuario\\documents\\master ia\\mia 24-25\\edem_mda2425\\venv\\lib\\site-packages (from pandas==2.2.3->-r requirements.txt (line 2)) (2.9.0.post0)\n",
      "Requirement already satisfied: pytz>=2020.1 in c:\\users\\usuario\\documents\\master ia\\mia 24-25\\edem_mda2425\\venv\\lib\\site-packages (from pandas==2.2.3->-r requirements.txt (line 2)) (2025.1)\n",
      "Requirement already satisfied: tzdata>=2022.7 in c:\\users\\usuario\\documents\\master ia\\mia 24-25\\edem_mda2425\\venv\\lib\\site-packages (from pandas==2.2.3->-r requirements.txt (line 2)) (2025.1)\n",
      "Requirement already satisfied: scipy>=1.6.0 in c:\\users\\usuario\\documents\\master ia\\mia 24-25\\edem_mda2425\\venv\\lib\\site-packages (from scikit-learn==1.6.1->-r requirements.txt (line 4)) (1.15.2)\n",
      "Requirement already satisfied: joblib>=1.2.0 in c:\\users\\usuario\\documents\\master ia\\mia 24-25\\edem_mda2425\\venv\\lib\\site-packages (from scikit-learn==1.6.1->-r requirements.txt (line 4)) (1.4.2)\n",
      "Requirement already satisfied: threadpoolctl>=3.1.0 in c:\\users\\usuario\\documents\\master ia\\mia 24-25\\edem_mda2425\\venv\\lib\\site-packages (from scikit-learn==1.6.1->-r requirements.txt (line 4)) (3.5.0)\n",
      "Requirement already satisfied: alembic>=1.5.0 in c:\\users\\usuario\\documents\\master ia\\mia 24-25\\edem_mda2425\\venv\\lib\\site-packages (from optuna==4.2.0->-r requirements.txt (line 5)) (1.15.1)\n",
      "Requirement already satisfied: colorlog in c:\\users\\usuario\\documents\\master ia\\mia 24-25\\edem_mda2425\\venv\\lib\\site-packages (from optuna==4.2.0->-r requirements.txt (line 5)) (6.9.0)\n",
      "Requirement already satisfied: packaging>=20.0 in c:\\users\\usuario\\documents\\master ia\\mia 24-25\\edem_mda2425\\venv\\lib\\site-packages (from optuna==4.2.0->-r requirements.txt (line 5)) (24.2)\n",
      "Requirement already satisfied: sqlalchemy>=1.4.2 in c:\\users\\usuario\\documents\\master ia\\mia 24-25\\edem_mda2425\\venv\\lib\\site-packages (from optuna==4.2.0->-r requirements.txt (line 5)) (2.0.38)\n",
      "Requirement already satisfied: tqdm in c:\\users\\usuario\\documents\\master ia\\mia 24-25\\edem_mda2425\\venv\\lib\\site-packages (from optuna==4.2.0->-r requirements.txt (line 5)) (4.67.1)\n",
      "Requirement already satisfied: PyYAML in c:\\users\\usuario\\documents\\master ia\\mia 24-25\\edem_mda2425\\venv\\lib\\site-packages (from optuna==4.2.0->-r requirements.txt (line 5)) (6.0.2)\n",
      "Requirement already satisfied: Mako in c:\\users\\usuario\\documents\\master ia\\mia 24-25\\edem_mda2425\\venv\\lib\\site-packages (from alembic>=1.5.0->optuna==4.2.0->-r requirements.txt (line 5)) (1.3.9)\n",
      "Requirement already satisfied: typing-extensions>=4.12 in c:\\users\\usuario\\documents\\master ia\\mia 24-25\\edem_mda2425\\venv\\lib\\site-packages (from alembic>=1.5.0->optuna==4.2.0->-r requirements.txt (line 5)) (4.12.2)\n",
      "Requirement already satisfied: six>=1.5 in c:\\users\\usuario\\documents\\master ia\\mia 24-25\\edem_mda2425\\venv\\lib\\site-packages (from python-dateutil>=2.8.2->pandas==2.2.3->-r requirements.txt (line 2)) (1.17.0)\n",
      "Requirement already satisfied: greenlet!=0.4.17 in c:\\users\\usuario\\documents\\master ia\\mia 24-25\\edem_mda2425\\venv\\lib\\site-packages (from sqlalchemy>=1.4.2->optuna==4.2.0->-r requirements.txt (line 5)) (3.1.1)\n",
      "Collecting botocore<1.38.0,>=1.37.6 (from boto3->metaflow==2.13.9->-r requirements.txt (line 1))\n",
      "  Downloading botocore-1.37.6-py3-none-any.whl.metadata (5.7 kB)\n",
      "Collecting jmespath<2.0.0,>=0.7.1 (from boto3->metaflow==2.13.9->-r requirements.txt (line 1))\n",
      "  Downloading jmespath-1.0.1-py3-none-any.whl.metadata (7.6 kB)\n",
      "Collecting s3transfer<0.12.0,>=0.11.0 (from boto3->metaflow==2.13.9->-r requirements.txt (line 1))\n",
      "  Downloading s3transfer-0.11.4-py3-none-any.whl.metadata (1.7 kB)\n",
      "Requirement already satisfied: colorama in c:\\users\\usuario\\documents\\master ia\\mia 24-25\\edem_mda2425\\venv\\lib\\site-packages (from colorlog->optuna==4.2.0->-r requirements.txt (line 5)) (0.4.6)\n",
      "Requirement already satisfied: charset-normalizer<4,>=2 in c:\\users\\usuario\\documents\\master ia\\mia 24-25\\edem_mda2425\\venv\\lib\\site-packages (from requests->metaflow==2.13.9->-r requirements.txt (line 1)) (3.4.1)\n",
      "Requirement already satisfied: idna<4,>=2.5 in c:\\users\\usuario\\documents\\master ia\\mia 24-25\\edem_mda2425\\venv\\lib\\site-packages (from requests->metaflow==2.13.9->-r requirements.txt (line 1)) (3.10)\n",
      "Requirement already satisfied: urllib3<3,>=1.21.1 in c:\\users\\usuario\\documents\\master ia\\mia 24-25\\edem_mda2425\\venv\\lib\\site-packages (from requests->metaflow==2.13.9->-r requirements.txt (line 1)) (2.3.0)\n",
      "Requirement already satisfied: certifi>=2017.4.17 in c:\\users\\usuario\\documents\\master ia\\mia 24-25\\edem_mda2425\\venv\\lib\\site-packages (from requests->metaflow==2.13.9->-r requirements.txt (line 1)) (2025.1.31)\n",
      "Requirement already satisfied: MarkupSafe>=0.9.2 in c:\\users\\usuario\\documents\\master ia\\mia 24-25\\edem_mda2425\\venv\\lib\\site-packages (from Mako->alembic>=1.5.0->optuna==4.2.0->-r requirements.txt (line 5)) (3.0.2)\n",
      "Downloading metaflow-2.13.9-py2.py3-none-any.whl (1.5 MB)\n",
      "   ---------------------------------------- 0.0/1.5 MB ? eta -:--:--\n",
      "   ---------------------------------------- 1.5/1.5 MB 13.0 MB/s eta 0:00:00\n",
      "Downloading boto3-1.37.6-py3-none-any.whl (139 kB)\n",
      "Downloading botocore-1.37.6-py3-none-any.whl (13.4 MB)\n",
      "   ---------------------------------------- 0.0/13.4 MB ? eta -:--:--\n",
      "   ---------- ----------------------------- 3.4/13.4 MB 15.4 MB/s eta 0:00:01\n",
      "   --------------- ------------------------ 5.2/13.4 MB 13.3 MB/s eta 0:00:01\n",
      "   ------------------------- -------------- 8.7/13.4 MB 14.1 MB/s eta 0:00:01\n",
      "   ------------------------------------ --- 12.3/13.4 MB 14.8 MB/s eta 0:00:01\n",
      "   ---------------------------------------- 13.4/13.4 MB 14.5 MB/s eta 0:00:00\n",
      "Downloading jmespath-1.0.1-py3-none-any.whl (20 kB)\n",
      "Downloading s3transfer-0.11.4-py3-none-any.whl (84 kB)\n",
      "Installing collected packages: jmespath, botocore, s3transfer, boto3, metaflow\n",
      "Successfully installed boto3-1.37.6 botocore-1.37.6 jmespath-1.0.1 metaflow-2.13.9 s3transfer-0.11.4\n"
     ]
    }
   ],
   "source": [
    "# Dependencies\n",
    "!pip install -r requirements.txt"
   ]
  },
  {
   "attachments": {},
   "cell_type": "markdown",
   "metadata": {},
   "source": [
    "## Set username for Metaflow"
   ]
  },
  {
   "cell_type": "code",
   "execution_count": 2,
   "metadata": {},
   "outputs": [],
   "source": [
    "# Set username for workflows\n",
    "import os\n",
    "os.environ[\"USERNAME\"] = \"daniel\""
   ]
  },
  {
   "attachments": {},
   "cell_type": "markdown",
   "metadata": {},
   "source": [
    "# Linear flow\n",
    "\n",
    "![LinearFlow](data:image/png;base64,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)"
   ]
  },
  {
   "cell_type": "code",
   "execution_count": 3,
   "metadata": {},
   "outputs": [
    {
     "name": "stdout",
     "output_type": "stream",
     "text": [
      "Writing metaflow_basics_linearflow.py\n"
     ]
    }
   ],
   "source": [
    "%%writefile metaflow_basics_linearflow.py\n",
    "from metaflow import FlowSpec, step\n",
    "\n",
    "class LinearFlow(FlowSpec):\n",
    "\n",
    "    @step\n",
    "    def start(self):\n",
    "        self.my_var = 'hello world'\n",
    "        self.next(self.a)\n",
    "\n",
    "    @step\n",
    "    def a(self):\n",
    "        print('the data artifact is: %s' % self.my_var)\n",
    "        self.next(self.end)\n",
    "\n",
    "    @step\n",
    "    def end(self):\n",
    "        print('the data artifact is still: %s' % self.my_var)\n",
    "\n",
    "if __name__ == '__main__':\n",
    "    LinearFlow()"
   ]
  },
  {
   "cell_type": "code",
   "execution_count": 6,
   "metadata": {},
   "outputs": [
    {
     "name": "stderr",
     "output_type": "stream",
     "text": [
      "Traceback (most recent call last):\n",
      "  File \"c:\\Users\\Usuario\\Documents\\Master IA\\MIA 24-25\\EDEM_MDA2425\\venv\\Lib\\site-packages\\metaflow\\metaflow_version.py\", line 30, in find_git_on_windows\n",
      "    check_output([\"where\", \"/Q\", \"git\"])\n",
      "    ^^^^^^^^^^^^\n",
      "NameError: name 'check_output' is not defined\n",
      "\n",
      "During handling of the above exception, another exception occurred:\n",
      "\n",
      "Traceback (most recent call last):\n",
      "  File \"c:\\Users\\Usuario\\Documents\\Master IA\\MIA 24-25\\EDEM_MDA2425\\PROFESORES\\MIA\\MLOPS\\pipelines\\metaflow_basics_linearflow.py\", line 1, in <module>\n",
      "    from metaflow import FlowSpec, step\n",
      "  File \"c:\\Users\\Usuario\\Documents\\Master IA\\MIA 24-25\\EDEM_MDA2425\\venv\\Lib\\site-packages\\metaflow\\__init__.py\", line 114, in <module>\n",
      "    from .plugins.datatools import S3\n",
      "  File \"c:\\Users\\Usuario\\Documents\\Master IA\\MIA 24-25\\EDEM_MDA2425\\venv\\Lib\\site-packages\\metaflow\\plugins\\__init__.py\", line 189, in <module>\n",
      "    STEP_DECORATORS = resolve_plugins(\"step_decorator\")\n",
      "                      ^^^^^^^^^^^^^^^^^^^^^^^^^^^^^^^^^\n",
      "  File \"c:\\Users\\Usuario\\Documents\\Master IA\\MIA 24-25\\EDEM_MDA2425\\venv\\Lib\\site-packages\\metaflow\\extension_support\\plugins.py\", line 164, in resolve_plugins\n",
      "    to_return.append(get_plugin(category, class_path, name))\n",
      "                     ^^^^^^^^^^^^^^^^^^^^^^^^^^^^^^^^^^^^^^\n",
      "  File \"c:\\Users\\Usuario\\Documents\\Master IA\\MIA 24-25\\EDEM_MDA2425\\venv\\Lib\\site-packages\\metaflow\\extension_support\\plugins.py\", line 99, in get_plugin\n",
      "    plugin_module = importlib.import_module(path)\n",
      "                    ^^^^^^^^^^^^^^^^^^^^^^^^^^^^^\n",
      "  File \"C:\\Users\\Usuario\\AppData\\Local\\Programs\\Python\\Python312\\Lib\\importlib\\__init__.py\", line 90, in import_module\n",
      "    return _bootstrap._gcd_import(name[level:], package, level)\n",
      "           ^^^^^^^^^^^^^^^^^^^^^^^^^^^^^^^^^^^^^^^^^^^^^^^^^^^^\n",
      "  File \"c:\\Users\\Usuario\\Documents\\Master IA\\MIA 24-25\\EDEM_MDA2425\\venv\\Lib\\site-packages\\metaflow\\plugins\\pypi\\pypi_decorator.py\", line 2, in <module>\n",
      "    from metaflow.metaflow_environment import InvalidEnvironmentException\n",
      "  File \"c:\\Users\\Usuario\\Documents\\Master IA\\MIA 24-25\\EDEM_MDA2425\\venv\\Lib\\site-packages\\metaflow\\metaflow_environment.py\", line 6, in <module>\n",
      "    from . import metaflow_version\n",
      "  File \"c:\\Users\\Usuario\\Documents\\Master IA\\MIA 24-25\\EDEM_MDA2425\\venv\\Lib\\site-packages\\metaflow\\metaflow_version.py\", line 61, in <module>\n",
      "    GIT_COMMAND = find_git_on_windows()\n",
      "                  ^^^^^^^^^^^^^^^^^^^^^\n",
      "  File \"c:\\Users\\Usuario\\Documents\\Master IA\\MIA 24-25\\EDEM_MDA2425\\venv\\Lib\\site-packages\\metaflow\\metaflow_version.py\", line 34, in find_git_on_windows\n",
      "    except CalledProcessError:\n",
      "           ^^^^^^^^^^^^^^^^^^\n",
      "NameError: name 'CalledProcessError' is not defined. Did you mean: 'ChildProcessError'?\n"
     ]
    }
   ],
   "source": [
    "!python metaflow_basics_linearflow.py run"
   ]
  },
  {
   "attachments": {},
   "cell_type": "markdown",
   "metadata": {},
   "source": [
    "# Branches\n",
    "![Branches](data:image/png;base64,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)"
   ]
  },
  {
   "cell_type": "code",
   "execution_count": 5,
   "metadata": {},
   "outputs": [
    {
     "name": "stdout",
     "output_type": "stream",
     "text": [
      "Writing metaflow_basics_branchflow.py\n"
     ]
    }
   ],
   "source": [
    "%%writefile metaflow_basics_branchflow.py\n",
    "from metaflow import FlowSpec, step\n",
    "\n",
    "class BranchFlow(FlowSpec):\n",
    "\n",
    "    @step\n",
    "    def start(self):\n",
    "        self.next(self.a, self.b)\n",
    "\n",
    "    @step\n",
    "    def a(self):\n",
    "        self.x = 1\n",
    "        self.next(self.join)\n",
    "\n",
    "    @step\n",
    "    def b(self):\n",
    "        self.x = 2\n",
    "        self.next(self.join)\n",
    "\n",
    "    @step\n",
    "    def join(self, inputs):\n",
    "        print('a is %s' % inputs.a.x)\n",
    "        print('b is %s' % inputs.b.x)\n",
    "        print('total is %d' % sum(input.x for input in inputs))\n",
    "        self.next(self.end)\n",
    "\n",
    "    @step\n",
    "    def end(self):\n",
    "        pass\n",
    "\n",
    "if __name__ == '__main__':\n",
    "    BranchFlow()"
   ]
  },
  {
   "cell_type": "code",
   "execution_count": null,
   "metadata": {},
   "outputs": [],
   "source": [
    "!python metaflow_basics_branchflow.py run"
   ]
  },
  {
   "attachments": {},
   "cell_type": "markdown",
   "metadata": {},
   "source": [
    "# Foreach\n",
    "![Foreach](data:image/png;base64,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)"
   ]
  },
  {
   "cell_type": "code",
   "execution_count": null,
   "metadata": {},
   "outputs": [],
   "source": [
    "%%writefile metaflow_basics_foreachflow.py\n",
    "from metaflow import FlowSpec, step\n",
    "\n",
    "class ForeachFlow(FlowSpec):\n",
    "\n",
    "    @step\n",
    "    def start(self):\n",
    "        self.titles = ['Stranger Things',\n",
    "                       'House of Cards',\n",
    "                       'Narcos']\n",
    "        self.next(self.a, foreach='titles')\n",
    "\n",
    "    @step\n",
    "    def a(self):\n",
    "        self.title = '%s processed' % self.input\n",
    "        self.next(self.join)\n",
    "\n",
    "    @step\n",
    "    def join(self, inputs):\n",
    "        self.results = [input.title for input in inputs]\n",
    "        self.next(self.end)\n",
    "\n",
    "    @step\n",
    "    def end(self):\n",
    "        print('\\n'.join(self.results))\n",
    "\n",
    "if __name__ == '__main__':\n",
    "    ForeachFlow()"
   ]
  },
  {
   "cell_type": "code",
   "execution_count": null,
   "metadata": {},
   "outputs": [],
   "source": [
    "!python metaflow_basics_foreachflow.py run"
   ]
  },
  {
   "attachments": {},
   "cell_type": "markdown",
   "metadata": {},
   "source": [
    "# Defining parameters"
   ]
  },
  {
   "cell_type": "code",
   "execution_count": null,
   "metadata": {},
   "outputs": [],
   "source": [
    "%%writefile metaflow_basics_parameterflow.py\n",
    "from metaflow import FlowSpec, Parameter, step\n",
    "\n",
    "class ParameterFlow(FlowSpec):\n",
    "    alpha = Parameter('alpha',\n",
    "                      help='Learning rate',\n",
    "                      default=0.01)\n",
    "\n",
    "    @step\n",
    "    def start(self):\n",
    "        print('alpha is %f' % self.alpha)\n",
    "        self.next(self.end)\n",
    "\n",
    "    @step\n",
    "    def end(self):\n",
    "        print('alpha is still %f' % self.alpha)\n",
    "\n",
    "if __name__ == '__main__':\n",
    "    ParameterFlow()"
   ]
  },
  {
   "cell_type": "code",
   "execution_count": null,
   "metadata": {},
   "outputs": [],
   "source": [
    "!python metaflow_basics_parameterflow.py run --alpha 0.9"
   ]
  }
 ],
 "metadata": {
  "kernelspec": {
   "display_name": "venv",
   "language": "python",
   "name": "python3"
  },
  "language_info": {
   "codemirror_mode": {
    "name": "ipython",
    "version": 3
   },
   "file_extension": ".py",
   "mimetype": "text/x-python",
   "name": "python",
   "nbconvert_exporter": "python",
   "pygments_lexer": "ipython3",
   "version": "3.12.7"
  },
  "orig_nbformat": 4
 },
 "nbformat": 4,
 "nbformat_minor": 2
}
