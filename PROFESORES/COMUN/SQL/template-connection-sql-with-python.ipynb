{
 "cells": [
  {
   "cell_type": "code",
   "execution_count": null,
   "metadata": {},
   "outputs": [],
   "source": [
    "# My first notebook creating a templete to connect to any database\n",
    "# Library\n",
    "import pyodbc as pdb"
   ]
  },
  {
   "cell_type": "code",
   "execution_count": null,
   "metadata": {},
   "outputs": [],
   "source": [
    "# Variables\n",
    "host = \"myhost\"\n",
    "database = \"mydb\"\n",
    "user = \"myuser\"\n",
    "password = \"mypass\"\n",
    "port = \"myport\""
   ]
  },
  {
   "cell_type": "code",
   "execution_count": null,
   "metadata": {},
   "outputs": [],
   "source": [
    "# Connection\n",
    "connection_target = psycopg2.connect(\n",
    "        host=host,\n",
    "        database=database,\n",
    "        user=user,\n",
    "        password=password,\n",
    "        port=port\n",
    "    )\n",
    "\n",
    "# Cursor\n",
    "cur_target = conn_target.cursor()"
   ]
  },
  {
   "cell_type": "code",
   "execution_count": null,
   "metadata": {},
   "outputs": [],
   "source": [
    "# My first query\n",
    "query = \"\"\"SELECT * FROM PUBLIC.FILM\"\"\"\n",
    "cur_target.execute(query)\n",
    "\n",
    "# My query transformed into a dataframe\n",
    "rows = cur_target.fetchall()\n",
    "\n",
    "list_of_rows = []\n",
    "\n",
    "for row in rows:\n",
    "    #print(row)\n",
    "    list_of_rows.append(row)\n",
    "\n",
    "df = pd.DataFrame(list_of_rows)\n",
    "display(df)"
   ]
  }
 ],
 "metadata": {
  "language_info": {
   "name": "python"
  }
 },
 "nbformat": 4,
 "nbformat_minor": 2
}
