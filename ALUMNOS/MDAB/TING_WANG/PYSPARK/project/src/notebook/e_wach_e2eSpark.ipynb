{
  "cells": [
    {
      "cell_type": "markdown",
      "metadata": {
        "id": "P0VSNugGxYj4"
      },
      "source": [
        "# E2E Pyspark (Ting Wang)"
      ]
    },
    {
      "cell_type": "markdown",
      "metadata": {
        "id": "fhqHAQWiyLZA"
      },
      "source": [
        "## Prerrequisites"
      ]
    },
    {
      "cell_type": "markdown",
      "metadata": {
        "id": "O-nP6sc6xgbg"
      },
      "source": [
        "Install Java and Spark in VM"
      ]
    },
    {
      "cell_type": "code",
      "execution_count": 1,
      "metadata": {
        "id": "JRywFs7DxgOQ"
      },
      "outputs": [],
      "source": [
        "# install Java8\n",
        "!apt-get install openjdk-8-jdk-headless -qq > /dev/null\n",
        "# download spark 3.5.3\n",
        "!wget -q https://dlcdn.apache.org/spark/spark-3.5.3/spark-3.5.3-bin-hadoop3.tgz"
      ]
    },
    {
      "cell_type": "code",
      "execution_count": 2,
      "metadata": {
        "id": "w8zwZ4GWxtMI"
      },
      "outputs": [],
      "source": [
        "# unzip it\n",
        "!tar xf spark-3.5.3-bin-hadoop3.tgz"
      ]
    },
    {
      "cell_type": "code",
      "execution_count": 3,
      "metadata": {
        "id": "PAG_MdchxuxI"
      },
      "outputs": [],
      "source": [
        "!pip install -q findspark"
      ]
    },
    {
      "cell_type": "code",
      "execution_count": 4,
      "metadata": {
        "id": "BM0GAnLCxwkP"
      },
      "outputs": [],
      "source": [
        "import os\n",
        "os.environ[\"JAVA_HOME\"] = \"/usr/lib/jvm/java-8-openjdk-amd64\"\n",
        "os.environ[\"SPARK_HOME\"] = \"/content/spark-3.5.3-bin-hadoop3\"\n",
        "os.environ[\"PYSPARK_SUBMIT_ARGS\"] = \"--master local[*] pyspark-shell\""
      ]
    },
    {
      "cell_type": "markdown",
      "metadata": {
        "id": "6AnypwdzxYj7"
      },
      "source": [
        "Start Spark Session\n",
        "\n",
        "---"
      ]
    },
    {
      "cell_type": "code",
      "execution_count": 5,
      "metadata": {
        "colab": {
          "base_uri": "https://localhost:8080/",
          "height": 36
        },
        "id": "CIJ4mkL-xYj7",
        "outputId": "e5da6730-4e5e-46b8-b8d3-6258ffc8e0d2"
      },
      "outputs": [
        {
          "output_type": "execute_result",
          "data": {
            "text/plain": [
              "'3.5.3'"
            ],
            "application/vnd.google.colaboratory.intrinsic+json": {
              "type": "string"
            }
          },
          "metadata": {},
          "execution_count": 5
        }
      ],
      "source": [
        "import findspark\n",
        "findspark.init(\"spark-3.5.3-bin-hadoop3\")# SPARK_HOME\n",
        "\n",
        "from pyspark.sql import SparkSession\n",
        "\n",
        "# create the session\n",
        "spark = SparkSession \\\n",
        "        .builder \\\n",
        "        .appName(\"Joins\") \\\n",
        "        .master(\"local[*]\") \\\n",
        "        .config(\"spark.ui.port\", \"4500\") \\\n",
        "        .getOrCreate()\n",
        "\n",
        "spark.version"
      ]
    },
    {
      "cell_type": "code",
      "execution_count": 6,
      "metadata": {
        "colab": {
          "base_uri": "https://localhost:8080/",
          "height": 219
        },
        "id": "L2BsUYftxYj8",
        "outputId": "a2df055a-74cc-44b1-80dc-59f404eb5306"
      },
      "outputs": [
        {
          "output_type": "execute_result",
          "data": {
            "text/plain": [
              "<pyspark.sql.session.SparkSession at 0x7895b5f48190>"
            ],
            "text/html": [
              "\n",
              "            <div>\n",
              "                <p><b>SparkSession - in-memory</b></p>\n",
              "                \n",
              "        <div>\n",
              "            <p><b>SparkContext</b></p>\n",
              "\n",
              "            <p><a href=\"http://f70cdda8ca38:4500\">Spark UI</a></p>\n",
              "\n",
              "            <dl>\n",
              "              <dt>Version</dt>\n",
              "                <dd><code>v3.5.3</code></dd>\n",
              "              <dt>Master</dt>\n",
              "                <dd><code>local[*]</code></dd>\n",
              "              <dt>AppName</dt>\n",
              "                <dd><code>Joins</code></dd>\n",
              "            </dl>\n",
              "        </div>\n",
              "        \n",
              "            </div>\n",
              "        "
            ]
          },
          "metadata": {},
          "execution_count": 6
        }
      ],
      "source": [
        "spark"
      ]
    },
    {
      "cell_type": "code",
      "execution_count": 7,
      "metadata": {
        "id": "R6uQC9cJxYj9"
      },
      "outputs": [],
      "source": [
        "# Import sql functions\n",
        "from pyspark.sql.functions import *"
      ]
    },
    {
      "cell_type": "code",
      "source": [
        "!mkdir -p /content/dataset\n"
      ],
      "metadata": {
        "id": "0bzUl6_M3gCB"
      },
      "execution_count": 8,
      "outputs": []
    },
    {
      "cell_type": "code",
      "source": [
        "ls -l dataset"
      ],
      "metadata": {
        "colab": {
          "base_uri": "https://localhost:8080/"
        },
        "id": "L3DIAt5S6B2I",
        "outputId": "c574efb2-44ad-4ab3-894b-07c3e6e9b668"
      },
      "execution_count": 9,
      "outputs": [
        {
          "output_type": "stream",
          "name": "stdout",
          "text": [
            "total 0\n"
          ]
        }
      ]
    },
    {
      "cell_type": "markdown",
      "metadata": {
        "id": "Jsnl4Q2NxYj9"
      },
      "source": [
        "## Load the datasets"
      ]
    },
    {
      "cell_type": "code",
      "source": [
        "countryDF= spark.read.option(\"header\", \"true\").option(\"inferSchema\", \"true\").csv(\"/content/dataset/Country.csv\")\n",
        "countryDF.printSchema()"
      ],
      "metadata": {
        "colab": {
          "base_uri": "https://localhost:8080/"
        },
        "id": "dxBh5P2V6PPu",
        "outputId": "aff6194d-573a-4463-b8d3-158e603c65d4",
        "collapsed": true
      },
      "execution_count": 11,
      "outputs": [
        {
          "output_type": "stream",
          "name": "stdout",
          "text": [
            "root\n",
            " |-- CountryCode: string (nullable = true)\n",
            " |-- ShortName: string (nullable = true)\n",
            " |-- TableName: string (nullable = true)\n",
            " |-- LongName: string (nullable = true)\n",
            " |-- Alpha2Code: string (nullable = true)\n",
            " |-- CurrencyUnit: string (nullable = true)\n",
            " |-- SpecialNotes: string (nullable = true)\n",
            " |-- Region: string (nullable = true)\n",
            " |-- IncomeGroup: string (nullable = true)\n",
            " |-- Wb2Code: string (nullable = true)\n",
            " |-- NationalAccountsBaseYear: string (nullable = true)\n",
            " |-- NationalAccountsReferenceYear: string (nullable = true)\n",
            " |-- SnaPriceValuation: string (nullable = true)\n",
            " |-- LendingCategory: string (nullable = true)\n",
            " |-- OtherGroups: string (nullable = true)\n",
            " |-- SystemOfNationalAccounts: string (nullable = true)\n",
            " |-- AlternativeConversionFactor: string (nullable = true)\n",
            " |-- PppSurveyYear: string (nullable = true)\n",
            " |-- BalanceOfPaymentsManualInUse: string (nullable = true)\n",
            " |-- ExternalDebtReportingStatus: string (nullable = true)\n",
            " |-- SystemOfTrade: string (nullable = true)\n",
            " |-- GovernmentAccountingConcept: string (nullable = true)\n",
            " |-- ImfDataDisseminationStandard: string (nullable = true)\n",
            " |-- LatestPopulationCensus: string (nullable = true)\n",
            " |-- LatestHouseholdSurvey: string (nullable = true)\n",
            " |-- SourceOfMostRecentIncomeAndExpenditureData: string (nullable = true)\n",
            " |-- VitalRegistrationComplete: string (nullable = true)\n",
            " |-- LatestAgriculturalCensus: string (nullable = true)\n",
            " |-- LatestIndustrialData: string (nullable = true)\n",
            " |-- LatestTradeData: double (nullable = true)\n",
            " |-- LatestWaterWithdrawalData: double (nullable = true)\n",
            "\n"
          ]
        }
      ]
    },
    {
      "cell_type": "code",
      "execution_count": 37,
      "metadata": {
        "colab": {
          "base_uri": "https://localhost:8080/"
        },
        "id": "yOnQ1DjhxYj-",
        "outputId": "e3171443-ce30-42e9-ab26-fa5ff4bcd637"
      },
      "outputs": [
        {
          "output_type": "stream",
          "name": "stdout",
          "text": [
            "+-----------+-----------+-----------+--------------------+----------+--------------+--------------------+--------------------+-------------------+-------+------------------------+-----------------------------+--------------------+---------------+-----------+------------------------+---------------------------+-------------+----------------------------+---------------------------+--------------------+---------------------------+----------------------------+----------------------+---------------------+------------------------------------------+-------------------------+------------------------+--------------------+---------------+-------------------------+\n",
            "|CountryCode|  ShortName|  TableName|            LongName|Alpha2Code|  CurrencyUnit|        SpecialNotes|              Region|        IncomeGroup|Wb2Code|NationalAccountsBaseYear|NationalAccountsReferenceYear|   SnaPriceValuation|LendingCategory|OtherGroups|SystemOfNationalAccounts|AlternativeConversionFactor|PppSurveyYear|BalanceOfPaymentsManualInUse|ExternalDebtReportingStatus|       SystemOfTrade|GovernmentAccountingConcept|ImfDataDisseminationStandard|LatestPopulationCensus|LatestHouseholdSurvey|SourceOfMostRecentIncomeAndExpenditureData|VitalRegistrationComplete|LatestAgriculturalCensus|LatestIndustrialData|LatestTradeData|LatestWaterWithdrawalData|\n",
            "+-----------+-----------+-----------+--------------------+----------+--------------+--------------------+--------------------+-------------------+-------+------------------------+-----------------------------+--------------------+---------------+-----------+------------------------+---------------------------+-------------+----------------------------+---------------------------+--------------------+---------------------------+----------------------------+----------------------+---------------------+------------------------------------------+-------------------------+------------------------+--------------------+---------------+-------------------------+\n",
            "|        AFG|Afghanistan|Afghanistan|Islamic State of ...|        AF|Afghan afghani|Fiscal year end: ...|          South Asia|         Low income|     AF|                 2002/03|                         NULL|Value added at ba...|            IDA|       HIPC|    Country uses the ...|                       NULL|         NULL|                        NULL|                     Actual|General trade system|       Consolidated cent...|        General Data Diss...|                  1979| Multiple Indicato...|                      Integrated househ...|                     NULL|                 2013/14|                NULL|         2013.0|                   2000.0|\n",
            "|        ALB|    Albania|    Albania| Republic of Albania|        AL|  Albanian lek|                NULL|Europe & Central ...|Upper middle income|     AL|    Original chained ...|                         1996|Value added at ba...|           IBRD|       NULL|    Country uses the ...|                       NULL|      Rolling|        IMF Balance of Pa...|                     Actual|General trade system|       Budgetary central...|        General Data Diss...|                  2011| Demographic and H...|                      Living Standards ...|                      Yes|                    2012|              2011.0|         2013.0|                   2006.0|\n",
            "|        DZA|    Algeria|    Algeria|People's Democrat...|        DZ|Algerian dinar|                NULL|Middle East & Nor...|Upper middle income|     DZ|                    1980|                         NULL|Value added at ba...|           IBRD|       NULL|    Country uses the ...|                       NULL|         2011|        IMF Balance of Pa...|                     Actual|Special trade system|       Budgetary central...|        General Data Diss...|                  2008| Multiple Indicato...|                      Integrated househ...|                     NULL|                    NULL|              2010.0|         2013.0|                   2001.0|\n",
            "+-----------+-----------+-----------+--------------------+----------+--------------+--------------------+--------------------+-------------------+-------+------------------------+-----------------------------+--------------------+---------------+-----------+------------------------+---------------------------+-------------+----------------------------+---------------------------+--------------------+---------------------------+----------------------------+----------------------+---------------------+------------------------------------------+-------------------------+------------------------+--------------------+---------------+-------------------------+\n",
            "only showing top 3 rows\n",
            "\n"
          ]
        }
      ],
      "source": [
        "countryDF.show(3)"
      ]
    },
    {
      "cell_type": "code",
      "source": [
        "indicatorDF= spark.read.option(\"header\", \"true\").option(\"inferSchema\", \"true\").csv(\"/content/dataset/HDI.csv\")\n",
        "indicatorDF.printSchema()"
      ],
      "metadata": {
        "colab": {
          "base_uri": "https://localhost:8080/"
        },
        "collapsed": true,
        "id": "edGHwOlCvmx2",
        "outputId": "c8b95a6f-ec9a-4061-f76c-350e54d78eb6"
      },
      "execution_count": 147,
      "outputs": [
        {
          "output_type": "stream",
          "name": "stdout",
          "text": [
            "root\n",
            " |-- HDI Rank: integer (nullable = true)\n",
            " |-- Country: string (nullable = true)\n",
            " |-- 1990: string (nullable = true)\n",
            " |-- 1991: string (nullable = true)\n",
            " |-- 1992: string (nullable = true)\n",
            " |-- 1993: string (nullable = true)\n",
            " |-- 1994: string (nullable = true)\n",
            " |-- 1995: string (nullable = true)\n",
            " |-- 1996: string (nullable = true)\n",
            " |-- 1997: string (nullable = true)\n",
            " |-- 1998: string (nullable = true)\n",
            " |-- 1999: string (nullable = true)\n",
            " |-- 2000: string (nullable = true)\n",
            " |-- 2001: string (nullable = true)\n",
            " |-- 2002: string (nullable = true)\n",
            " |-- 2003: string (nullable = true)\n",
            " |-- 2004: string (nullable = true)\n",
            " |-- 2005: string (nullable = true)\n",
            " |-- 2006: string (nullable = true)\n",
            " |-- 2007: string (nullable = true)\n",
            " |-- 2008: string (nullable = true)\n",
            " |-- 2009: string (nullable = true)\n",
            " |-- 2010: string (nullable = true)\n",
            " |-- 2011: string (nullable = true)\n",
            " |-- 2012: string (nullable = true)\n",
            " |-- 2013: string (nullable = true)\n",
            " |-- 2014: string (nullable = true)\n",
            " |-- 2015: string (nullable = true)\n",
            " |-- 2016: string (nullable = true)\n",
            " |-- 2017: double (nullable = true)\n",
            " |-- 2018: double (nullable = true)\n",
            " |-- 2019: double (nullable = true)\n",
            "\n"
          ]
        }
      ]
    },
    {
      "cell_type": "code",
      "source": [
        "indicatorDF.show(3)"
      ],
      "metadata": {
        "colab": {
          "base_uri": "https://localhost:8080/"
        },
        "collapsed": true,
        "id": "VwV-afGz5H1t",
        "outputId": "e1a051eb-6870-4ea9-e509-aa4be504ddab"
      },
      "execution_count": 148,
      "outputs": [
        {
          "output_type": "stream",
          "name": "stdout",
          "text": [
            "+--------+-----------+-----+-----+-----+-----+-----+-----+-----+-----+-----+-----+-----+-----+-----+-----+-----+-----+-----+-----+-----+-----+-----+-----+-----+-----+-----+-----+-----+-----+-----+-----+\n",
            "|HDI Rank|    Country| 1990| 1991| 1992| 1993| 1994| 1995| 1996| 1997| 1998| 1999| 2000| 2001| 2002| 2003| 2004| 2005| 2006| 2007| 2008| 2009| 2010| 2011| 2012| 2013| 2014| 2015| 2016| 2017| 2018| 2019|\n",
            "+--------+-----------+-----+-----+-----+-----+-----+-----+-----+-----+-----+-----+-----+-----+-----+-----+-----+-----+-----+-----+-----+-----+-----+-----+-----+-----+-----+-----+-----+-----+-----+-----+\n",
            "|     169|Afghanistan|0.302|0.307|0.316|0.312|0.307|0.331|0.335|0.339|0.344|0.348| 0.35|0.353|0.384|0.393|0.409|0.418|0.429|0.447|0.447| 0.46|0.472|0.477|0.489|0.496|  0.5|  0.5|0.502|0.506|0.509|0.511|\n",
            "|      69|    Albania| 0.65|0.631|0.615|0.618|0.624|0.637|0.646|0.645|0.655|0.665|0.671|0.678|0.684|0.691|0.696|0.706|0.713|0.722|0.728|0.733|0.745|0.764|0.775|0.782|0.787|0.788|0.788| 0.79|0.792|0.795|\n",
            "|      91|    Algeria|0.572|0.576|0.582|0.586| 0.59|0.595|0.602|0.611|0.621|0.629|0.637|0.647|0.657|0.667|0.677|0.685| 0.69|  0.7|0.702|0.711|0.721|0.728|0.728|0.729|0.736| 0.74|0.743|0.745|0.746|0.748|\n",
            "+--------+-----------+-----+-----+-----+-----+-----+-----+-----+-----+-----+-----+-----+-----+-----+-----+-----+-----+-----+-----+-----+-----+-----+-----+-----+-----+-----+-----+-----+-----+-----+-----+\n",
            "only showing top 3 rows\n",
            "\n"
          ]
        }
      ]
    },
    {
      "cell_type": "code",
      "source": [
        "indicator2019DF = indicatorDF.select(\"HDI Rank\", \"Country\", \"2019\").orderBy(\"HDI Rank\")\n",
        "indicator2019DF.show(3)"
      ],
      "metadata": {
        "colab": {
          "base_uri": "https://localhost:8080/"
        },
        "id": "v4260hkf5TEg",
        "outputId": "576db4b9-f726-427d-f398-f1164d9435f9"
      },
      "execution_count": 150,
      "outputs": [
        {
          "output_type": "stream",
          "name": "stdout",
          "text": [
            "+--------+-----------+-----+\n",
            "|HDI Rank|    Country| 2019|\n",
            "+--------+-----------+-----+\n",
            "|       1|     Norway|0.957|\n",
            "|       2|    Ireland|0.955|\n",
            "|       2|Switzerland|0.955|\n",
            "+--------+-----------+-----+\n",
            "only showing top 3 rows\n",
            "\n"
          ]
        }
      ]
    },
    {
      "cell_type": "code",
      "execution_count": 119,
      "metadata": {
        "colab": {
          "base_uri": "https://localhost:8080/"
        },
        "id": "UtysOEnoxYj-",
        "outputId": "bf2467fa-0cae-4275-b4c4-e4679ee2000f",
        "collapsed": true
      },
      "outputs": [
        {
          "output_type": "stream",
          "name": "stdout",
          "text": [
            "root\n",
            " |-- Overall rank: integer (nullable = true)\n",
            " |-- Country or region: string (nullable = true)\n",
            " |-- Score: double (nullable = true)\n",
            " |-- GDP per capita: double (nullable = true)\n",
            " |-- Social support: double (nullable = true)\n",
            " |-- Healthy life expectancy: double (nullable = true)\n",
            " |-- Freedom to make life choices: double (nullable = true)\n",
            " |-- Generosity: double (nullable = true)\n",
            " |-- Perceptions of corruption: double (nullable = true)\n",
            "\n"
          ]
        }
      ],
      "source": [
        "happinessDF= spark.read.option(\"header\", \"true\").option(\"inferSchema\", \"true\").csv(\"/content/dataset/happiness_2019.csv\")\n",
        "happinessDF.printSchema()"
      ]
    },
    {
      "cell_type": "code",
      "execution_count": 14,
      "metadata": {
        "colab": {
          "base_uri": "https://localhost:8080/"
        },
        "id": "qCYJZpiXxYj-",
        "outputId": "d4bfa754-5047-4dab-8035-9fdbbc8deba3"
      },
      "outputs": [
        {
          "output_type": "stream",
          "name": "stdout",
          "text": [
            "+------------+-----------------+-----+--------------+--------------+-----------------------+----------------------------+----------+-------------------------+\n",
            "|Overall rank|Country or region|Score|GDP per capita|Social support|Healthy life expectancy|Freedom to make life choices|Generosity|Perceptions of corruption|\n",
            "+------------+-----------------+-----+--------------+--------------+-----------------------+----------------------------+----------+-------------------------+\n",
            "|           1|          Finland|7.769|          1.34|         1.587|                  0.986|                       0.596|     0.153|                    0.393|\n",
            "|           2|          Denmark|  7.6|         1.383|         1.573|                  0.996|                       0.592|     0.252|                     0.41|\n",
            "|           3|           Norway|7.554|         1.488|         1.582|                  1.028|                       0.603|     0.271|                    0.341|\n",
            "+------------+-----------------+-----+--------------+--------------+-----------------------+----------------------------+----------+-------------------------+\n",
            "only showing top 3 rows\n",
            "\n"
          ]
        }
      ],
      "source": [
        "happinessDF.show(3)"
      ]
    },
    {
      "cell_type": "code",
      "source": [
        "terrorismDF= spark.read.option(\"header\", \"true\").option(\"inferSchema\", \"true\").csv(\"/content/dataset/terrorism.csv\")\n",
        "terrorismDF.printSchema()"
      ],
      "metadata": {
        "colab": {
          "base_uri": "https://localhost:8080/"
        },
        "collapsed": true,
        "id": "nev3mGz3C_6I",
        "outputId": "9c74e739-7bcb-49ab-d42f-d1d5196b33b0"
      },
      "execution_count": 15,
      "outputs": [
        {
          "output_type": "stream",
          "name": "stdout",
          "text": [
            "root\n",
            " |-- eventid: long (nullable = true)\n",
            " |-- iyear: integer (nullable = true)\n",
            " |-- imonth: integer (nullable = true)\n",
            " |-- iday: integer (nullable = true)\n",
            " |-- approxdate: string (nullable = true)\n",
            " |-- extended: integer (nullable = true)\n",
            " |-- resolution: string (nullable = true)\n",
            " |-- country: integer (nullable = true)\n",
            " |-- country_txt: string (nullable = true)\n",
            " |-- region: integer (nullable = true)\n",
            " |-- region_txt: string (nullable = true)\n",
            " |-- provstate: string (nullable = true)\n",
            " |-- city: string (nullable = true)\n",
            " |-- latitude: double (nullable = true)\n",
            " |-- longitude: double (nullable = true)\n",
            " |-- specificity: integer (nullable = true)\n",
            " |-- vicinity: integer (nullable = true)\n",
            " |-- location: string (nullable = true)\n",
            " |-- summary: string (nullable = true)\n",
            " |-- crit1: string (nullable = true)\n",
            " |-- crit2: string (nullable = true)\n",
            " |-- crit3: string (nullable = true)\n",
            " |-- doubtterr: string (nullable = true)\n",
            " |-- alternative: string (nullable = true)\n",
            " |-- alternative_txt: string (nullable = true)\n",
            " |-- multiple: string (nullable = true)\n",
            " |-- success: string (nullable = true)\n",
            " |-- suicide: string (nullable = true)\n",
            " |-- attacktype1: string (nullable = true)\n",
            " |-- attacktype1_txt: string (nullable = true)\n",
            " |-- attacktype2: string (nullable = true)\n",
            " |-- attacktype2_txt: string (nullable = true)\n",
            " |-- attacktype3: string (nullable = true)\n",
            " |-- attacktype3_txt: string (nullable = true)\n",
            " |-- targtype1: string (nullable = true)\n",
            " |-- targtype1_txt: string (nullable = true)\n",
            " |-- targsubtype1: string (nullable = true)\n",
            " |-- targsubtype1_txt: string (nullable = true)\n",
            " |-- corp1: string (nullable = true)\n",
            " |-- target1: string (nullable = true)\n",
            " |-- natlty1: string (nullable = true)\n",
            " |-- natlty1_txt: string (nullable = true)\n",
            " |-- targtype2: string (nullable = true)\n",
            " |-- targtype2_txt: string (nullable = true)\n",
            " |-- targsubtype2: string (nullable = true)\n",
            " |-- targsubtype2_txt: string (nullable = true)\n",
            " |-- corp2: string (nullable = true)\n",
            " |-- target2: string (nullable = true)\n",
            " |-- natlty2: string (nullable = true)\n",
            " |-- natlty2_txt: string (nullable = true)\n",
            " |-- targtype3: string (nullable = true)\n",
            " |-- targtype3_txt: string (nullable = true)\n",
            " |-- targsubtype3: string (nullable = true)\n",
            " |-- targsubtype3_txt: string (nullable = true)\n",
            " |-- corp3: string (nullable = true)\n",
            " |-- target3: string (nullable = true)\n",
            " |-- natlty3: string (nullable = true)\n",
            " |-- natlty3_txt: string (nullable = true)\n",
            " |-- gname: string (nullable = true)\n",
            " |-- gsubname: string (nullable = true)\n",
            " |-- gname2: string (nullable = true)\n",
            " |-- gsubname2: string (nullable = true)\n",
            " |-- gname3: string (nullable = true)\n",
            " |-- gsubname3: string (nullable = true)\n",
            " |-- motive: string (nullable = true)\n",
            " |-- guncertain1: string (nullable = true)\n",
            " |-- guncertain2: string (nullable = true)\n",
            " |-- guncertain3: string (nullable = true)\n",
            " |-- individual: string (nullable = true)\n",
            " |-- nperps: string (nullable = true)\n",
            " |-- nperpcap: string (nullable = true)\n",
            " |-- claimed: string (nullable = true)\n",
            " |-- claimmode: string (nullable = true)\n",
            " |-- claimmode_txt: string (nullable = true)\n",
            " |-- claim2: string (nullable = true)\n",
            " |-- claimmode2: string (nullable = true)\n",
            " |-- claimmode2_txt: string (nullable = true)\n",
            " |-- claim3: string (nullable = true)\n",
            " |-- claimmode3: string (nullable = true)\n",
            " |-- claimmode3_txt: string (nullable = true)\n",
            " |-- compclaim: string (nullable = true)\n",
            " |-- weaptype1: string (nullable = true)\n",
            " |-- weaptype1_txt: string (nullable = true)\n",
            " |-- weapsubtype1: string (nullable = true)\n",
            " |-- weapsubtype1_txt: string (nullable = true)\n",
            " |-- weaptype2: string (nullable = true)\n",
            " |-- weaptype2_txt: string (nullable = true)\n",
            " |-- weapsubtype2: string (nullable = true)\n",
            " |-- weapsubtype2_txt: string (nullable = true)\n",
            " |-- weaptype3: string (nullable = true)\n",
            " |-- weaptype3_txt: string (nullable = true)\n",
            " |-- weapsubtype3: string (nullable = true)\n",
            " |-- weapsubtype3_txt: string (nullable = true)\n",
            " |-- weaptype4: string (nullable = true)\n",
            " |-- weaptype4_txt: string (nullable = true)\n",
            " |-- weapsubtype4: string (nullable = true)\n",
            " |-- weapsubtype4_txt: string (nullable = true)\n",
            " |-- weapdetail: string (nullable = true)\n",
            " |-- nkill: string (nullable = true)\n",
            " |-- nkillus: string (nullable = true)\n",
            " |-- nkillter: string (nullable = true)\n",
            " |-- nwound: string (nullable = true)\n",
            " |-- nwoundus: string (nullable = true)\n",
            " |-- nwoundte: string (nullable = true)\n",
            " |-- property: string (nullable = true)\n",
            " |-- propextent: string (nullable = true)\n",
            " |-- propextent_txt: string (nullable = true)\n",
            " |-- propvalue: string (nullable = true)\n",
            " |-- propcomment: string (nullable = true)\n",
            " |-- ishostkid: string (nullable = true)\n",
            " |-- nhostkid: string (nullable = true)\n",
            " |-- nhostkidus: string (nullable = true)\n",
            " |-- nhours: string (nullable = true)\n",
            " |-- ndays: string (nullable = true)\n",
            " |-- divert: string (nullable = true)\n",
            " |-- kidhijcountry: string (nullable = true)\n",
            " |-- ransom: string (nullable = true)\n",
            " |-- ransomamt: double (nullable = true)\n",
            " |-- ransomamtus: string (nullable = true)\n",
            " |-- ransompaid: integer (nullable = true)\n",
            " |-- ransompaidus: string (nullable = true)\n",
            " |-- ransomnote: string (nullable = true)\n",
            " |-- hostkidoutcome: string (nullable = true)\n",
            " |-- hostkidoutcome_txt: string (nullable = true)\n",
            " |-- nreleased: string (nullable = true)\n",
            " |-- addnotes: string (nullable = true)\n",
            " |-- scite1: string (nullable = true)\n",
            " |-- scite2: string (nullable = true)\n",
            " |-- scite3: string (nullable = true)\n",
            " |-- dbsource: string (nullable = true)\n",
            " |-- INT_LOG: string (nullable = true)\n",
            " |-- INT_IDEO: string (nullable = true)\n",
            " |-- INT_MISC: string (nullable = true)\n",
            " |-- INT_ANY: string (nullable = true)\n",
            " |-- related: string (nullable = true)\n",
            "\n"
          ]
        }
      ]
    },
    {
      "cell_type": "code",
      "source": [
        "terrorismColumnsDF = terrorismDF.select(\"eventid\", \"iyear\", \"imonth\", \"iday\", \"extended\", \"country\",\"country_txt\", \"region\", \"region_txt\", \"city\",\"multiple\",\"success\",\"suicide\",\"attacktype1\", \"attacktype1_txt\", \"targtype1\",\"targtype1_txt\")\n",
        "terrorismColumnsDF.show(3)"
      ],
      "metadata": {
        "colab": {
          "base_uri": "https://localhost:8080/"
        },
        "id": "d1DwJyOPDIxJ",
        "outputId": "c9ded00d-c674-4127-f04e-5bbf952f89ec"
      },
      "execution_count": 16,
      "outputs": [
        {
          "output_type": "stream",
          "name": "stdout",
          "text": [
            "+------------+-----+------+----+--------+-------+------------------+------+--------------------+-------------+--------+-------+-------+-----------+--------------------+---------+--------------------+\n",
            "|     eventid|iyear|imonth|iday|extended|country|       country_txt|region|          region_txt|         city|multiple|success|suicide|attacktype1|     attacktype1_txt|targtype1|       targtype1_txt|\n",
            "+------------+-----+------+----+--------+-------+------------------+------+--------------------+-------------+--------+-------+-------+-----------+--------------------+---------+--------------------+\n",
            "|197000000001| 1970|     7|   2|       0|     58|Dominican Republic|     2|Central America &...|Santo Domingo|       0|      1|      0|          1|       Assassination|       14|Private Citizens ...|\n",
            "|197000000002| 1970|     0|   0|       0|    130|            Mexico|     1|       North America|  Mexico city|       0|      1|      0|          6|Hostage Taking (K...|        7|Government (Diplo...|\n",
            "|197001000001| 1970|     1|   0|       0|    160|       Philippines|     5|      Southeast Asia|      Unknown|       0|      1|      0|          1|       Assassination|       10| Journalists & Media|\n",
            "+------------+-----+------+----+--------+-------+------------------+------+--------------------+-------------+--------+-------+-------+-----------+--------------------+---------+--------------------+\n",
            "only showing top 3 rows\n",
            "\n"
          ]
        }
      ]
    },
    {
      "cell_type": "markdown",
      "metadata": {
        "id": "EjGzj1Rsx3Ns"
      },
      "source": [
        "## Transformaciones"
      ]
    },
    {
      "cell_type": "markdown",
      "metadata": {
        "id": "NvllEugwxYj_"
      },
      "source": [
        "Countries with most cases of terrorism"
      ]
    },
    {
      "cell_type": "code",
      "source": [
        "WorstCountryTerrorismDF = terrorismColumnsDF.groupBy(\"country_txt\").agg(count(\"*\").alias(\"totalEvents\")).orderBy(col(\"totalEvents\").desc())\n",
        "WorstCountryTerrorismDF.show(5)"
      ],
      "metadata": {
        "colab": {
          "base_uri": "https://localhost:8080/"
        },
        "id": "50lobXd-USah",
        "outputId": "4a338480-e07d-4816-d3bb-9f0a42144853"
      },
      "execution_count": 57,
      "outputs": [
        {
          "output_type": "stream",
          "name": "stdout",
          "text": [
            "+--------------+-----------+\n",
            "|   country_txt|totalEvents|\n",
            "+--------------+-----------+\n",
            "|      Colombia|       7022|\n",
            "|          Peru|       6043|\n",
            "|   El Salvador|       5320|\n",
            "|         India|       4741|\n",
            "|United Kingdom|       4468|\n",
            "+--------------+-----------+\n",
            "only showing top 5 rows\n",
            "\n"
          ]
        }
      ]
    },
    {
      "cell_type": "markdown",
      "source": [
        "Safest countries (less cases of terrorism)"
      ],
      "metadata": {
        "id": "3ACbmo1cX88p"
      }
    },
    {
      "cell_type": "code",
      "source": [
        "SafestCountryDF = terrorismColumnsDF.groupBy(\"country_txt\").agg(count(\"*\").alias(\"totalEvents\")).orderBy(col(\"totalEvents\"))\n",
        "SafestCountryDF.show(10)"
      ],
      "metadata": {
        "colab": {
          "base_uri": "https://localhost:8080/"
        },
        "id": "cmma4obCWzf0",
        "outputId": "5879de57-e20c-4b27-cc1c-573d84260155"
      },
      "execution_count": 59,
      "outputs": [
        {
          "output_type": "stream",
          "name": "stdout",
          "text": [
            "+-------------------+-----------+\n",
            "|        country_txt|totalEvents|\n",
            "+-------------------+-----------+\n",
            "|            Andorra|          1|\n",
            "|      South Vietnam|          1|\n",
            "|  Equatorial Guinea|          1|\n",
            "|       New Hebrides|          1|\n",
            "|  Wallis and Futuna|          1|\n",
            "|        North Korea|          1|\n",
            "|Antigua and Barbuda|          1|\n",
            "|   Falkland Islands|          1|\n",
            "|       Vatican City|          1|\n",
            "|      International|          1|\n",
            "+-------------------+-----------+\n",
            "only showing top 10 rows\n",
            "\n"
          ]
        }
      ]
    },
    {
      "cell_type": "markdown",
      "metadata": {
        "id": "-um1G1zKxYkA"
      },
      "source": [
        "Terrorism per region"
      ]
    },
    {
      "cell_type": "code",
      "source": [
        "RegionTerrorismDF = terrorismColumnsDF.groupBy(\"region_txt\").agg(count(\"*\").alias(\"totalEvents\")).orderBy(col(\"totalEvents\").desc())\n",
        "RegionTerrorismDF.show(truncate=False)"
      ],
      "metadata": {
        "colab": {
          "base_uri": "https://localhost:8080/"
        },
        "id": "UtTFj1sOWem6",
        "outputId": "c528e291-1b14-45a8-98d6-cf9a07ff66d2"
      },
      "execution_count": 27,
      "outputs": [
        {
          "output_type": "stream",
          "name": "stdout",
          "text": [
            "+---------------------------+-----------+\n",
            "|region_txt                 |totalEvents|\n",
            "+---------------------------+-----------+\n",
            "|South America              |17400      |\n",
            "|Middle East & North Africa |15810      |\n",
            "|Western Europe             |14615      |\n",
            "|South Asia                 |13218      |\n",
            "|Central America & Caribbean|10305      |\n",
            "|Sub-Saharan Africa         |5831       |\n",
            "|Southeast Asia             |4928       |\n",
            "|North America              |3055       |\n",
            "|Eastern Europe             |2217       |\n",
            "|East Asia                  |681        |\n",
            "|Central Asia               |446        |\n",
            "|Australasia & Oceania      |232        |\n",
            "+---------------------------+-----------+\n",
            "\n"
          ]
        }
      ]
    },
    {
      "cell_type": "markdown",
      "source": [
        "Terrorism in European countries"
      ],
      "metadata": {
        "id": "_B5wGe5ZZTud"
      }
    },
    {
      "cell_type": "code",
      "source": [
        "RegionTerrorismDF.filter((col(\"region_txt\") == \"Western Europe\") | (col(\"region_txt\") == \"Eastern Europe\")).show()"
      ],
      "metadata": {
        "colab": {
          "base_uri": "https://localhost:8080/"
        },
        "id": "1BwuUl0lXvFS",
        "outputId": "73dffdcf-f60b-41cd-f554-9318d3a101ed"
      },
      "execution_count": 30,
      "outputs": [
        {
          "output_type": "stream",
          "name": "stdout",
          "text": [
            "+--------------+-----------+\n",
            "|    region_txt|totalEvents|\n",
            "+--------------+-----------+\n",
            "|Western Europe|      14615|\n",
            "|Eastern Europe|       2217|\n",
            "+--------------+-----------+\n",
            "\n"
          ]
        }
      ]
    },
    {
      "cell_type": "code",
      "source": [
        "EuropeTerrorismDF = terrorismColumnsDF.filter((col(\"region_txt\") == \"Western Europe\") | (col(\"region_txt\") == \"Eastern Europe\")).groupBy(\"region_txt\", \"country_txt\").agg(count(\"*\").alias(\"totalEvents\")).orderBy(col(\"totalEvents\").desc())\n",
        "EuropeTerrorismDF.show(10)"
      ],
      "metadata": {
        "colab": {
          "base_uri": "https://localhost:8080/"
        },
        "id": "rKt7JI4UZTXZ",
        "outputId": "ba899df5-9a0b-4380-add7-59ef85912dea"
      },
      "execution_count": 35,
      "outputs": [
        {
          "output_type": "stream",
          "name": "stdout",
          "text": [
            "+--------------+------------------+-----------+\n",
            "|    region_txt|       country_txt|totalEvents|\n",
            "+--------------+------------------+-----------+\n",
            "|Western Europe|    United Kingdom|       4468|\n",
            "|Western Europe|             Spain|       3195|\n",
            "|Western Europe|            France|       2468|\n",
            "|Western Europe|             Italy|       1498|\n",
            "|Eastern Europe|            Russia|       1085|\n",
            "|Western Europe|            Greece|        874|\n",
            "|Western Europe|           Germany|        567|\n",
            "|Western Europe|West Germany (FRG)|        541|\n",
            "|Eastern Europe|        Yugoslavia|        203|\n",
            "|Eastern Europe|            Kosovo|        158|\n",
            "+--------------+------------------+-----------+\n",
            "only showing top 10 rows\n",
            "\n"
          ]
        }
      ]
    },
    {
      "cell_type": "markdown",
      "source": [
        "Yearly evolution of terrorism cases"
      ],
      "metadata": {
        "id": "F25qNGT2gyi8"
      }
    },
    {
      "cell_type": "code",
      "source": [
        "yearEvolutionDF = terrorismColumnsDF.groupBy(\"iyear\").agg(count(\"*\").alias(\"totalEvents\")).orderBy(col(\"iyear\").desc())\n",
        "yearEvolutionDF.show()"
      ],
      "metadata": {
        "colab": {
          "base_uri": "https://localhost:8080/"
        },
        "id": "4Zlw_ICZfTf1",
        "outputId": "0d4e4746-286f-4d1e-a779-ef90eab6efe9"
      },
      "execution_count": 62,
      "outputs": [
        {
          "output_type": "stream",
          "name": "stdout",
          "text": [
            "+-----+-----------+\n",
            "|iyear|totalEvents|\n",
            "+-----+-----------+\n",
            "| 2008|       3388|\n",
            "| 2007|       3242|\n",
            "| 2006|       2758|\n",
            "| 2005|       2017|\n",
            "| 2004|       1166|\n",
            "| 2003|       1278|\n",
            "| 2002|       1333|\n",
            "| 2001|       1906|\n",
            "| 2000|       1814|\n",
            "| 1999|       1395|\n",
            "| 1998|        934|\n",
            "| 1997|       3197|\n",
            "| 1996|       3058|\n",
            "| 1995|       3081|\n",
            "| 1994|       3456|\n",
            "| 1992|       5071|\n",
            "| 1991|       4683|\n",
            "| 1990|       3887|\n",
            "| 1989|       4324|\n",
            "| 1988|       3721|\n",
            "+-----+-----------+\n",
            "only showing top 20 rows\n",
            "\n"
          ]
        }
      ]
    },
    {
      "cell_type": "markdown",
      "source": [
        "Year with most cases"
      ],
      "metadata": {
        "id": "dSvJNVlyjA2S"
      }
    },
    {
      "cell_type": "code",
      "source": [
        "yearEvolutionDF.orderBy(col(\"totalEvents\").desc()).show(1)"
      ],
      "metadata": {
        "colab": {
          "base_uri": "https://localhost:8080/"
        },
        "id": "VnQKuhCOhXJ0",
        "outputId": "12336c99-6e14-42b1-fd56-b504d1b2aa6c"
      },
      "execution_count": 71,
      "outputs": [
        {
          "output_type": "stream",
          "name": "stdout",
          "text": [
            "+-----+-----------+\n",
            "|iyear|totalEvents|\n",
            "+-----+-----------+\n",
            "| 1992|       5071|\n",
            "+-----+-----------+\n",
            "only showing top 1 row\n",
            "\n"
          ]
        }
      ]
    },
    {
      "cell_type": "markdown",
      "source": [
        "For happiness index, correlation between GDP and any index is not directly linear (individually):"
      ],
      "metadata": {
        "id": "USNq16CXczKC"
      }
    },
    {
      "cell_type": "code",
      "source": [
        "happinessDF.orderBy(col(\"GDP per capita\").desc()).show(15)"
      ],
      "metadata": {
        "colab": {
          "base_uri": "https://localhost:8080/"
        },
        "id": "FGT5q4lPcTOV",
        "outputId": "21a68f74-9450-482b-a862-0f8027635cb0"
      },
      "execution_count": 45,
      "outputs": [
        {
          "output_type": "stream",
          "name": "stdout",
          "text": [
            "+------------+--------------------+-----+--------------+--------------+-----------------------+----------------------------+----------+-------------------------+\n",
            "|Overall rank|   Country or region|Score|GDP per capita|Social support|Healthy life expectancy|Freedom to make life choices|Generosity|Perceptions of corruption|\n",
            "+------------+--------------------+-----+--------------+--------------+-----------------------+----------------------------+----------+-------------------------+\n",
            "|          29|               Qatar|6.374|         1.684|         1.313|                  0.871|                       0.555|      0.22|                    0.167|\n",
            "|          14|          Luxembourg| 7.09|         1.609|         1.479|                  1.012|                       0.526|     0.194|                    0.316|\n",
            "|          34|           Singapore|6.262|         1.572|         1.463|                  1.141|                       0.556|     0.271|                    0.453|\n",
            "|          21|United Arab Emirates|6.825|         1.503|          1.31|                  0.825|                       0.598|     0.262|                    0.182|\n",
            "|          51|              Kuwait|6.021|           1.5|         1.319|                  0.808|                       0.493|     0.142|                    0.097|\n",
            "|          16|             Ireland|7.021|         1.499|         1.553|                  0.999|                       0.516|     0.298|                     0.31|\n",
            "|           3|              Norway|7.554|         1.488|         1.582|                  1.028|                       0.603|     0.271|                    0.341|\n",
            "|           6|         Switzerland| 7.48|         1.452|         1.526|                  1.052|                       0.572|     0.263|                    0.343|\n",
            "|          76|           Hong Kong| 5.43|         1.438|         1.277|                  1.122|                        0.44|     0.258|                    0.287|\n",
            "|          19|       United States|6.892|         1.433|         1.457|                  0.874|                       0.454|      0.28|                    0.128|\n",
            "|          28|        Saudi Arabia|6.375|         1.403|         1.357|                  0.795|                       0.439|      0.08|                    0.132|\n",
            "|           5|         Netherlands|7.488|         1.396|         1.522|                  0.999|                       0.557|     0.322|                    0.298|\n",
            "|           7|              Sweden|7.343|         1.387|         1.487|                  1.009|                       0.574|     0.267|                    0.373|\n",
            "|           2|             Denmark|  7.6|         1.383|         1.573|                  0.996|                       0.592|     0.252|                     0.41|\n",
            "|           4|             Iceland|7.494|          1.38|         1.624|                  1.026|                       0.591|     0.354|                    0.118|\n",
            "+------------+--------------------+-----+--------------+--------------+-----------------------+----------------------------+----------+-------------------------+\n",
            "only showing top 15 rows\n",
            "\n"
          ]
        }
      ]
    },
    {
      "cell_type": "code",
      "source": [
        "happinessDF.filter(col(\"Healthy life expectancy\") >= 1).orderBy(col(\"Healthy life expectancy\").desc()).show(15)"
      ],
      "metadata": {
        "colab": {
          "base_uri": "https://localhost:8080/"
        },
        "id": "35DVdDBebAoF",
        "outputId": "98d44a46-4afe-455e-c1fc-feb5f8252240"
      },
      "execution_count": 48,
      "outputs": [
        {
          "output_type": "stream",
          "name": "stdout",
          "text": [
            "+------------+-----------------+-----+--------------+--------------+-----------------------+----------------------------+----------+-------------------------+\n",
            "|Overall rank|Country or region|Score|GDP per capita|Social support|Healthy life expectancy|Freedom to make life choices|Generosity|Perceptions of corruption|\n",
            "+------------+-----------------+-----+--------------+--------------+-----------------------+----------------------------+----------+-------------------------+\n",
            "|          34|        Singapore|6.262|         1.572|         1.463|                  1.141|                       0.556|     0.271|                    0.453|\n",
            "|          76|        Hong Kong| 5.43|         1.438|         1.277|                  1.122|                        0.44|     0.258|                    0.287|\n",
            "|          58|            Japan|5.886|         1.327|         1.419|                  1.088|                       0.445|     0.069|                     0.14|\n",
            "|          30|            Spain|6.354|         1.286|         1.484|                  1.062|                       0.362|     0.153|                    0.079|\n",
            "|           6|      Switzerland| 7.48|         1.452|         1.526|                  1.052|                       0.572|     0.263|                    0.343|\n",
            "|          24|           France|6.592|         1.324|         1.472|                  1.045|                       0.436|     0.111|                    0.183|\n",
            "|          49|           Cyprus|6.046|         1.263|         1.223|                  1.042|                       0.406|      0.19|                    0.041|\n",
            "|          64|  Northern Cyprus|5.718|         1.263|         1.252|                  1.042|                       0.417|     0.191|                    0.162|\n",
            "|           9|           Canada|7.278|         1.365|         1.505|                  1.039|                       0.584|     0.285|                    0.308|\n",
            "|          36|            Italy|6.223|         1.294|         1.488|                  1.039|                       0.231|     0.158|                     0.03|\n",
            "|          11|        Australia|7.228|         1.372|         1.548|                  1.036|                       0.557|     0.332|                     0.29|\n",
            "|          54|      South Korea|5.895|         1.301|         1.219|                  1.036|                       0.159|     0.175|                    0.056|\n",
            "|          13|           Israel|7.139|         1.276|         1.455|                  1.029|                       0.371|     0.261|                    0.082|\n",
            "|           3|           Norway|7.554|         1.488|         1.582|                  1.028|                       0.603|     0.271|                    0.341|\n",
            "|           4|          Iceland|7.494|          1.38|         1.624|                  1.026|                       0.591|     0.354|                    0.118|\n",
            "+------------+-----------------+-----+--------------+--------------+-----------------------+----------------------------+----------+-------------------------+\n",
            "only showing top 15 rows\n",
            "\n"
          ]
        }
      ]
    },
    {
      "cell_type": "markdown",
      "source": [
        "Relation between happiness index and terrorism: there is not a clear correlation. Nevetheless, happier countries tend ot have less terrorism cases."
      ],
      "metadata": {
        "id": "S8Bt9pR3lcPb"
      }
    },
    {
      "cell_type": "code",
      "source": [
        "happinessTerrorismDF = happinessDF.join(SafestCountryDF, col(\"Country or region\") == col(\"country_txt\"), \"inner\").orderBy(col(\"Overall rank\").desc()).orderBy(\"Overall rank\").select(\"Overall rank\", \"Country or region\", \"Score\", \"totalEvents\")\n",
        "happinessTerrorismDF.show(10)"
      ],
      "metadata": {
        "colab": {
          "base_uri": "https://localhost:8080/"
        },
        "id": "sJj33Brflc6p",
        "outputId": "113a7b61-0ee9-4832-a2c1-38664dbd90b9"
      },
      "execution_count": 95,
      "outputs": [
        {
          "output_type": "stream",
          "name": "stdout",
          "text": [
            "+------------+-----------------+-----+-----------+\n",
            "|Overall rank|Country or region|Score|totalEvents|\n",
            "+------------+-----------------+-----+-----------+\n",
            "|           1|          Finland|7.769|          5|\n",
            "|           2|          Denmark|  7.6|         33|\n",
            "|           3|           Norway|7.554|         14|\n",
            "|           4|          Iceland|7.494|          2|\n",
            "|           5|      Netherlands|7.488|        114|\n",
            "|           6|      Switzerland| 7.48|        105|\n",
            "|           7|           Sweden|7.343|         54|\n",
            "|           8|      New Zealand|7.307|         18|\n",
            "|           9|           Canada|7.278|         54|\n",
            "|          10|          Austria|7.246|        100|\n",
            "+------------+-----------------+-----+-----------+\n",
            "only showing top 10 rows\n",
            "\n"
          ]
        }
      ]
    },
    {
      "cell_type": "code",
      "source": [
        "happinessTerrorismDF.orderBy(col(\"totalEvents\").desc()).show(10)\n",
        "happinessTerrorismDF.orderBy(col(\"totalEvents\").asc()).show(10)"
      ],
      "metadata": {
        "colab": {
          "base_uri": "https://localhost:8080/"
        },
        "id": "Snod8N4VmcXe",
        "outputId": "da9f0152-af56-449a-e43a-be5934e591a2"
      },
      "execution_count": 97,
      "outputs": [
        {
          "output_type": "stream",
          "name": "stdout",
          "text": [
            "+------------+-----------------+-----+-----------+\n",
            "|Overall rank|Country or region|Score|totalEvents|\n",
            "+------------+-----------------+-----+-----------+\n",
            "|          43|         Colombia|6.125|       7022|\n",
            "|          65|             Peru|5.697|       6043|\n",
            "|          35|      El Salvador|6.253|       5320|\n",
            "|         140|            India|4.015|       4741|\n",
            "|          15|   United Kingdom|7.054|       4468|\n",
            "|         126|             Iraq|4.437|       3948|\n",
            "|          30|            Spain|6.354|       3195|\n",
            "|          67|         Pakistan|5.653|       2879|\n",
            "|         130|        Sri Lanka|4.366|       2862|\n",
            "|          79|           Turkey|5.373|       2732|\n",
            "+------------+-----------------+-----+-----------+\n",
            "only showing top 10 rows\n",
            "\n",
            "+------------+-----------------+-----+-----------+\n",
            "|Overall rank|Country or region|Score|totalEvents|\n",
            "+------------+-----------------+-----+-----------+\n",
            "|          87|     Turkmenistan|5.247|          1|\n",
            "|           4|          Iceland|7.494|          2|\n",
            "|          57|        Mauritius|5.888|          2|\n",
            "|          73|       Montenegro|5.523|          2|\n",
            "|         120|           Gambia|4.516|          3|\n",
            "|         115|     Burkina Faso|4.587|          3|\n",
            "|          95|           Bhutan|5.082|          3|\n",
            "|          70|           Serbia|5.603|          3|\n",
            "|         104|            Gabon|4.799|          4|\n",
            "|         150|           Malawi| 3.41|          4|\n",
            "+------------+-----------------+-----+-----------+\n",
            "only showing top 10 rows\n",
            "\n"
          ]
        }
      ]
    },
    {
      "cell_type": "markdown",
      "source": [
        "Relation between corruption and terrorism: there is not a significant correlation"
      ],
      "metadata": {
        "id": "_YaVJDb1e566"
      }
    },
    {
      "cell_type": "code",
      "source": [
        "corruptionTerrorismDF = happinessDF.join(SafestCountryDF, col(\"Country or region\") == col(\"country_txt\"), \"inner\").select(\"Overall rank\", \"Country or region\", \"GDP per capita\", \"Perceptions of corruption\", \"totalEvents\")\n",
        "corruptionTerrorismDF.orderBy(col(\"Perceptions of corruption\").asc()).show(10)\n",
        "corruptionTerrorismDF.orderBy(col(\"Perceptions of corruption\").desc()).show(10)"
      ],
      "metadata": {
        "colab": {
          "base_uri": "https://localhost:8080/"
        },
        "id": "D0bsiCLBjH7-",
        "outputId": "8fdc5a03-89f6-452b-b5d6-ae1cc1c3d9ad"
      },
      "execution_count": 99,
      "outputs": [
        {
          "output_type": "stream",
          "name": "stdout",
          "text": [
            "+------------+-----------------+--------------+-------------------------+-----------+\n",
            "|Overall rank|Country or region|GDP per capita|Perceptions of corruption|totalEvents|\n",
            "+------------+-----------------+--------------+-------------------------+-----------+\n",
            "|          71|          Moldova|         0.685|                      0.0|         18|\n",
            "|          97|         Bulgaria|         1.092|                    0.004|         41|\n",
            "|          48|          Romania|         1.162|                    0.005|          6|\n",
            "|          46|           Kosovo|         0.882|                    0.006|        158|\n",
            "|         133|          Ukraine|          0.82|                     0.01|         33|\n",
            "|          62|          Hungary|         1.201|                     0.02|         42|\n",
            "|          75|          Croatia|         1.155|                    0.022|         54|\n",
            "|          86|       Kyrgyzstan|         0.551|                    0.023|         22|\n",
            "|          80|         Malaysia|         1.221|                    0.024|         42|\n",
            "|         154|      Afghanistan|          0.35|                    0.025|       1458|\n",
            "+------------+-----------------+--------------+-------------------------+-----------+\n",
            "only showing top 10 rows\n",
            "\n",
            "+------------+-----------------+--------------+-------------------------+-----------+\n",
            "|Overall rank|Country or region|GDP per capita|Perceptions of corruption|totalEvents|\n",
            "+------------+-----------------+--------------+-------------------------+-----------+\n",
            "|          34|        Singapore|         1.572|                    0.453|          7|\n",
            "|         152|           Rwanda|         0.359|                    0.411|        132|\n",
            "|           2|          Denmark|         1.383|                     0.41|         33|\n",
            "|           1|          Finland|          1.34|                    0.393|          5|\n",
            "|           8|      New Zealand|         1.303|                     0.38|         18|\n",
            "|           7|           Sweden|         1.387|                    0.373|         54|\n",
            "|           6|      Switzerland|         1.452|                    0.343|        105|\n",
            "|           3|           Norway|         1.488|                    0.341|         14|\n",
            "|          14|       Luxembourg|         1.609|                    0.316|         16|\n",
            "|          16|          Ireland|         1.499|                     0.31|        150|\n",
            "+------------+-----------------+--------------+-------------------------+-----------+\n",
            "only showing top 10 rows\n",
            "\n"
          ]
        }
      ]
    },
    {
      "cell_type": "markdown",
      "source": [
        "Is GDP per capita correlated with terrorism? Overall, countries with higher GDP per capita tend to have less terrorism cases (except some countries like USA)."
      ],
      "metadata": {
        "id": "Qbgfhmc7opJ2"
      }
    },
    {
      "cell_type": "code",
      "source": [
        "GDPTerrorismDF = corruptionTerrorismDF.drop(\"Perceptions of corruption\").orderBy(col(\"GDP per capita\").desc())\n",
        "GDPTerrorismDF.show(15)"
      ],
      "metadata": {
        "colab": {
          "base_uri": "https://localhost:8080/"
        },
        "id": "lTUBrfKOoKqd",
        "outputId": "5521e891-caa5-4f76-8247-d6d44830c6b3"
      },
      "execution_count": 110,
      "outputs": [
        {
          "output_type": "stream",
          "name": "stdout",
          "text": [
            "+------------+--------------------+--------------+-----------+\n",
            "|Overall rank|   Country or region|GDP per capita|totalEvents|\n",
            "+------------+--------------------+--------------+-----------+\n",
            "|          29|               Qatar|         1.684|          6|\n",
            "|          14|          Luxembourg|         1.609|         16|\n",
            "|          34|           Singapore|         1.572|          7|\n",
            "|          21|United Arab Emirates|         1.503|         17|\n",
            "|          51|              Kuwait|           1.5|         72|\n",
            "|          16|             Ireland|         1.499|        150|\n",
            "|           3|              Norway|         1.488|         14|\n",
            "|           6|         Switzerland|         1.452|        105|\n",
            "|          76|           Hong Kong|         1.438|         25|\n",
            "|          19|       United States|         1.433|       2560|\n",
            "|          28|        Saudi Arabia|         1.403|         59|\n",
            "|           5|         Netherlands|         1.396|        114|\n",
            "|           7|              Sweden|         1.387|         54|\n",
            "|           2|             Denmark|         1.383|         33|\n",
            "|           4|             Iceland|          1.38|          2|\n",
            "+------------+--------------------+--------------+-----------+\n",
            "only showing top 15 rows\n",
            "\n"
          ]
        }
      ]
    },
    {
      "cell_type": "markdown",
      "source": [
        "However, if we look at the countries with the least cases, we see a mix of high income and low income countries. In low income countries, social unrest may focus more on basic survival and needs, while wealthier countries often experience more political or ideological violence due to stronger institutions and more divided politics.\n"
      ],
      "metadata": {
        "id": "IV26QuAuqU1X"
      }
    },
    {
      "cell_type": "code",
      "source": [
        "GDPTerrorismDF.orderBy(\"totalEvents\").show(15)"
      ],
      "metadata": {
        "colab": {
          "base_uri": "https://localhost:8080/"
        },
        "id": "Fqma3DjZqWvU",
        "outputId": "6ba0c209-8834-40e1-f28a-48e2f963fc54"
      },
      "execution_count": 112,
      "outputs": [
        {
          "output_type": "stream",
          "name": "stdout",
          "text": [
            "+------------+-----------------+--------------+-----------+\n",
            "|Overall rank|Country or region|GDP per capita|totalEvents|\n",
            "+------------+-----------------+--------------+-----------+\n",
            "|          87|     Turkmenistan|         1.052|          1|\n",
            "|           4|          Iceland|          1.38|          2|\n",
            "|          57|        Mauritius|          1.12|          2|\n",
            "|          73|       Montenegro|         1.051|          2|\n",
            "|         120|           Gambia|         0.308|          3|\n",
            "|         115|     Burkina Faso|         0.331|          3|\n",
            "|          95|           Bhutan|         0.813|          3|\n",
            "|          70|           Serbia|         1.004|          3|\n",
            "|         104|            Gabon|         1.057|          4|\n",
            "|         150|           Malawi|         0.191|          4|\n",
            "|           1|          Finland|          1.34|          5|\n",
            "|         142|          Comoros|         0.274|          5|\n",
            "|          48|          Romania|         1.162|          6|\n",
            "|          29|            Qatar|         1.684|          6|\n",
            "|          44|         Slovenia|         1.258|          6|\n",
            "+------------+-----------------+--------------+-----------+\n",
            "only showing top 15 rows\n",
            "\n"
          ]
        }
      ]
    },
    {
      "cell_type": "markdown",
      "source": [
        "Upper/lower middle income countries have the most cases of terrorism.They often face significant challenges such as political instability, economic inequality, and weak institutions."
      ],
      "metadata": {
        "id": "hHwPVUSNsxH3"
      }
    },
    {
      "cell_type": "code",
      "source": [
        "IncomeGroupTerrorDP = GDPTerrorismDF.join(countryDF, col(\"Country or region\") == col(\"ShortName\"), \"inner\").select(\"Overall rank\", \"Country or region\", \"GDP per capita\", \"totalEvents\", \"IncomeGroup\")\n",
        "IncomeGroupTerrorDP.orderBy(col(\"totalEvents\").desc()).show(n=10, truncate=False)\n",
        "IncomeGroupTerrorDP.orderBy(col(\"totalEvents\")).show(n=10, truncate=False)"
      ],
      "metadata": {
        "colab": {
          "base_uri": "https://localhost:8080/"
        },
        "id": "twHtCwHlryje",
        "outputId": "f03fdac2-bc5e-49fc-bfef-b5309a194bb2"
      },
      "execution_count": 117,
      "outputs": [
        {
          "output_type": "stream",
          "name": "stdout",
          "text": [
            "+------------+-----------------+--------------+-----------+-------------------+\n",
            "|Overall rank|Country or region|GDP per capita|totalEvents|IncomeGroup        |\n",
            "+------------+-----------------+--------------+-----------+-------------------+\n",
            "|43          |Colombia         |0.985         |7022       |Upper middle income|\n",
            "|65          |Peru             |0.96          |6043       |Upper middle income|\n",
            "|35          |El Salvador      |0.794         |5320       |Lower middle income|\n",
            "|140         |India            |0.755         |4741       |Lower middle income|\n",
            "|15          |United Kingdom   |1.333         |4468       |High income: OECD  |\n",
            "|126         |Iraq             |1.043         |3948       |Upper middle income|\n",
            "|30          |Spain            |1.286         |3195       |High income: OECD  |\n",
            "|67          |Pakistan         |0.677         |2879       |Lower middle income|\n",
            "|130         |Sri Lanka        |0.949         |2862       |Lower middle income|\n",
            "|79          |Turkey           |1.183         |2732       |Upper middle income|\n",
            "+------------+-----------------+--------------+-----------+-------------------+\n",
            "only showing top 10 rows\n",
            "\n",
            "+------------+-----------------+--------------+-----------+-------------------+\n",
            "|Overall rank|Country or region|GDP per capita|totalEvents|IncomeGroup        |\n",
            "+------------+-----------------+--------------+-----------+-------------------+\n",
            "|87          |Turkmenistan     |1.052         |1          |Upper middle income|\n",
            "|4           |Iceland          |1.38          |2          |High income: OECD  |\n",
            "|57          |Mauritius        |1.12          |2          |Upper middle income|\n",
            "|73          |Montenegro       |1.051         |2          |Upper middle income|\n",
            "|115         |Burkina Faso     |0.331         |3          |Low income         |\n",
            "|95          |Bhutan           |0.813         |3          |Lower middle income|\n",
            "|70          |Serbia           |1.004         |3          |Upper middle income|\n",
            "|104         |Gabon            |1.057         |4          |Upper middle income|\n",
            "|150         |Malawi           |0.191         |4          |Low income         |\n",
            "|1           |Finland          |1.34          |5          |High income: OECD  |\n",
            "+------------+-----------------+--------------+-----------+-------------------+\n",
            "only showing top 10 rows\n",
            "\n"
          ]
        }
      ]
    },
    {
      "cell_type": "markdown",
      "source": [
        "Correlation happiness, HDI and terrorism: Hapiness and HDI is highly related."
      ],
      "metadata": {
        "id": "gruK1j337qB0"
      }
    },
    {
      "cell_type": "code",
      "source": [
        "joinedDF = happinessTerrorismDF.join(indicator2019DF, col(\"Country or region\") == col(\"Country\"), \"inner\").drop(\"Country\").withColumnRenamed(\"Overall rank\", \"Happiness rank\").withColumnRenamed(\"2019\", \"HDI_2019\").orderBy(\"Happiness rank\")\n",
        "joinedDF.show(20)"
      ],
      "metadata": {
        "colab": {
          "base_uri": "https://localhost:8080/"
        },
        "id": "hat42PV75oxy",
        "outputId": "cddd7207-3977-4211-fb9d-f2458cf52dc5"
      },
      "execution_count": 163,
      "outputs": [
        {
          "output_type": "stream",
          "name": "stdout",
          "text": [
            "+--------------+--------------------+-----+-----------+--------+--------+\n",
            "|Happiness rank|   Country or region|Score|totalEvents|HDI Rank|HDI_2019|\n",
            "+--------------+--------------------+-----+-----------+--------+--------+\n",
            "|             1|             Finland|7.769|          5|      11|   0.938|\n",
            "|             2|             Denmark|  7.6|         33|      10|    0.94|\n",
            "|             3|              Norway|7.554|         14|       1|   0.957|\n",
            "|             4|             Iceland|7.494|          2|       4|   0.949|\n",
            "|             5|         Netherlands|7.488|        114|       8|   0.944|\n",
            "|             6|         Switzerland| 7.48|        105|       2|   0.955|\n",
            "|             7|              Sweden|7.343|         54|       7|   0.945|\n",
            "|             8|         New Zealand|7.307|         18|      14|   0.931|\n",
            "|             9|              Canada|7.278|         54|      16|   0.929|\n",
            "|            10|             Austria|7.246|        100|      18|   0.922|\n",
            "|            11|           Australia|7.228|         74|       8|   0.944|\n",
            "|            12|          Costa Rica|7.167|         67|      62|    0.81|\n",
            "|            13|              Israel|7.139|       1528|      19|   0.919|\n",
            "|            14|          Luxembourg| 7.09|         16|      23|   0.916|\n",
            "|            15|      United Kingdom|7.054|       4468|      13|   0.932|\n",
            "|            16|             Ireland|7.021|        150|       2|   0.955|\n",
            "|            17|             Germany|6.985|        567|       6|   0.947|\n",
            "|            18|             Belgium|6.923|        141|      14|   0.931|\n",
            "|            19|       United States|6.892|       2560|      17|   0.926|\n",
            "|            21|United Arab Emirates|6.825|         17|      31|    0.89|\n",
            "+--------------+--------------------+-----+-----------+--------+--------+\n",
            "only showing top 20 rows\n",
            "\n"
          ]
        }
      ]
    },
    {
      "cell_type": "code",
      "source": [
        "joinedDF.orderBy(col(\"HDI Rank\")).show(10)\n",
        "joinedDF.orderBy(col(\"HDI Rank\").desc()).show(10)"
      ],
      "metadata": {
        "colab": {
          "base_uri": "https://localhost:8080/"
        },
        "id": "D4jqAr498ffG",
        "outputId": "77ad288a-ce34-478b-e48d-e3a9b4b5aa04"
      },
      "execution_count": 164,
      "outputs": [
        {
          "output_type": "stream",
          "name": "stdout",
          "text": [
            "+--------------+-----------------+-----+-----------+--------+--------+\n",
            "|Happiness rank|Country or region|Score|totalEvents|HDI Rank|HDI_2019|\n",
            "+--------------+-----------------+-----+-----------+--------+--------+\n",
            "|             3|           Norway|7.554|         14|       1|   0.957|\n",
            "|            16|          Ireland|7.021|        150|       2|   0.955|\n",
            "|             6|      Switzerland| 7.48|        105|       2|   0.955|\n",
            "|             4|          Iceland|7.494|          2|       4|   0.949|\n",
            "|            17|          Germany|6.985|        567|       6|   0.947|\n",
            "|             7|           Sweden|7.343|         54|       7|   0.945|\n",
            "|            11|        Australia|7.228|         74|       8|   0.944|\n",
            "|             5|      Netherlands|7.488|        114|       8|   0.944|\n",
            "|             2|          Denmark|  7.6|         33|      10|    0.94|\n",
            "|            34|        Singapore|6.262|          7|      11|   0.938|\n",
            "+--------------+-----------------+-----+-----------+--------+--------+\n",
            "only showing top 10 rows\n",
            "\n",
            "+--------------+--------------------+-----+-----------+--------+--------+\n",
            "|Happiness rank|   Country or region|Score|totalEvents|HDI Rank|HDI_2019|\n",
            "+--------------+--------------------+-----+-----------+--------+--------+\n",
            "|           114|               Niger|4.628|         54|     189|   0.394|\n",
            "|           155|Central African R...|3.083|         13|     188|   0.397|\n",
            "|           132|                Chad| 4.35|         48|     187|   0.398|\n",
            "|           145|             Burundi|3.775|        357|     185|   0.433|\n",
            "|           128|                Mali| 4.39|         46|     184|   0.434|\n",
            "|           129|        Sierra Leone|4.374|         97|     182|   0.452|\n",
            "|           115|        Burkina Faso|4.587|          3|     182|   0.452|\n",
            "|           123|          Mozambique|4.466|        224|     181|   0.456|\n",
            "|           151|               Yemen| 3.38|        176|     179|    0.47|\n",
            "|           118|              Guinea|4.534|         20|     178|   0.477|\n",
            "+--------------+--------------------+-----+-----------+--------+--------+\n",
            "only showing top 10 rows\n",
            "\n"
          ]
        }
      ]
    },
    {
      "cell_type": "markdown",
      "source": [
        "Stats: average Happiness score and HDI.\n",
        "We establish a constant (threshold) for both indexes based on:\n",
        "\n",
        "\n",
        "\n",
        "*   HDI = \"The cutoff-points are HDI of less than 0.550 for low human development, 0.550–0.699 for medium human development, 0.700–0.799 for high human development and 0.800 or greater for very high human development.\"\n",
        "*   Happiness =  score above 5 can be considered neutral or happy\n",
        "\n",
        "\n",
        "\n"
      ],
      "metadata": {
        "id": "qlLr0kQO_7yv"
      }
    },
    {
      "cell_type": "code",
      "source": [
        "StatsDF = joinedDF.select(count(\"*\").alias(\"count\"),\n",
        "                          lit(5).alias(\"Score_threshold\"),\n",
        "                          lit(0.550).alias(\"HDI_threshold\"),\n",
        "\t\t\t\t\t\t\t\t\t\t\t\t mean(\"Score\").alias(\"Score_mean\"),\n",
        "                          mean(\"HDI_2019\").alias(\"HDI_mean\"))\n",
        "StatsDF.show()"
      ],
      "metadata": {
        "colab": {
          "base_uri": "https://localhost:8080/"
        },
        "id": "mSecnzrV9BbI",
        "outputId": "4970a08f-61db-41c8-f13c-1310942ec3f0"
      },
      "execution_count": 178,
      "outputs": [
        {
          "output_type": "stream",
          "name": "stdout",
          "text": [
            "+-----+---------------+-------------+------------------+------------------+\n",
            "|count|Score_threshold|HDI_threshold|        Score_mean|          HDI_mean|\n",
            "+-----+---------------+-------------+------------------+------------------+\n",
            "|  129|              5|         0.55|5.4670775193798455|0.7321782945736437|\n",
            "+-----+---------------+-------------+------------------+------------------+\n",
            "\n"
          ]
        }
      ]
    },
    {
      "cell_type": "code",
      "source": [
        "avgHappinessDF = joinedDF.withColumn(\"Happier than average\", col(\"Score\")>=5)\n",
        "avgHappinessDF.orderBy(col(\"totalEvents\").desc()).show(10)\n",
        "avgHappinessDF.orderBy(col(\"totalEvents\").asc()).show(10)"
      ],
      "metadata": {
        "colab": {
          "base_uri": "https://localhost:8080/"
        },
        "id": "6vbIMwHN9cc0",
        "outputId": "e69e96b0-6040-4995-87c1-a6fbdc97c47f"
      },
      "execution_count": 179,
      "outputs": [
        {
          "output_type": "stream",
          "name": "stdout",
          "text": [
            "+--------------+-----------------+-----+-----------+--------+--------+--------------------+\n",
            "|Happiness rank|Country or region|Score|totalEvents|HDI Rank|HDI_2019|Happier than average|\n",
            "+--------------+-----------------+-----+-----------+--------+--------+--------------------+\n",
            "|            43|         Colombia|6.125|       7022|      83|   0.767|                true|\n",
            "|            65|             Peru|5.697|       6043|      79|   0.777|                true|\n",
            "|            35|      El Salvador|6.253|       5320|     124|   0.673|                true|\n",
            "|           140|            India|4.015|       4741|     131|   0.645|               false|\n",
            "|            15|   United Kingdom|7.054|       4468|      13|   0.932|                true|\n",
            "|           126|             Iraq|4.437|       3948|     123|   0.674|               false|\n",
            "|            30|            Spain|6.354|       3195|      25|   0.904|                true|\n",
            "|            67|         Pakistan|5.653|       2879|     154|   0.557|                true|\n",
            "|           130|        Sri Lanka|4.366|       2862|      72|   0.782|               false|\n",
            "|            79|           Turkey|5.373|       2732|      54|    0.82|                true|\n",
            "+--------------+-----------------+-----+-----------+--------+--------+--------------------+\n",
            "only showing top 10 rows\n",
            "\n",
            "+--------------+-----------------+-----+-----------+--------+--------+--------------------+\n",
            "|Happiness rank|Country or region|Score|totalEvents|HDI Rank|HDI_2019|Happier than average|\n",
            "+--------------+-----------------+-----+-----------+--------+--------+--------------------+\n",
            "|            87|     Turkmenistan|5.247|          1|     111|   0.715|                true|\n",
            "|             4|          Iceland|7.494|          2|       4|   0.949|                true|\n",
            "|            57|        Mauritius|5.888|          2|      66|   0.804|                true|\n",
            "|            73|       Montenegro|5.523|          2|      48|   0.829|                true|\n",
            "|           120|           Gambia|4.516|          3|     172|   0.496|               false|\n",
            "|           115|     Burkina Faso|4.587|          3|     182|   0.452|               false|\n",
            "|            95|           Bhutan|5.082|          3|     129|   0.654|                true|\n",
            "|            70|           Serbia|5.603|          3|      64|   0.806|                true|\n",
            "|           104|            Gabon|4.799|          4|     119|   0.703|               false|\n",
            "|           150|           Malawi| 3.41|          4|     174|   0.483|               false|\n",
            "+--------------+-----------------+-----+-----------+--------+--------+--------------------+\n",
            "only showing top 10 rows\n",
            "\n"
          ]
        }
      ]
    },
    {
      "cell_type": "code",
      "source": [
        "avgHDI = joinedDF.withColumn(\"More developed than average\", col(\"HDI_2019\") >= 0.55)\n",
        "avgHDI.orderBy(col(\"totalEvents\").desc()).show(10)\n",
        "avgHDI.orderBy(col(\"totalEvents\").asc()).show(10)"
      ],
      "metadata": {
        "colab": {
          "base_uri": "https://localhost:8080/"
        },
        "id": "xlvG3Ygi-9VO",
        "outputId": "3d09c457-3875-44b1-8f15-a1f8fc3e6182"
      },
      "execution_count": 174,
      "outputs": [
        {
          "output_type": "stream",
          "name": "stdout",
          "text": [
            "+--------------+-----------------+-----+-----------+--------+--------+---------------------------+\n",
            "|Happiness rank|Country or region|Score|totalEvents|HDI Rank|HDI_2019|More developed than average|\n",
            "+--------------+-----------------+-----+-----------+--------+--------+---------------------------+\n",
            "|            43|         Colombia|6.125|       7022|      83|   0.767|                       true|\n",
            "|            65|             Peru|5.697|       6043|      79|   0.777|                       true|\n",
            "|            35|      El Salvador|6.253|       5320|     124|   0.673|                       true|\n",
            "|           140|            India|4.015|       4741|     131|   0.645|                       true|\n",
            "|            15|   United Kingdom|7.054|       4468|      13|   0.932|                       true|\n",
            "|           126|             Iraq|4.437|       3948|     123|   0.674|                       true|\n",
            "|            30|            Spain|6.354|       3195|      25|   0.904|                       true|\n",
            "|            67|         Pakistan|5.653|       2879|     154|   0.557|                       true|\n",
            "|           130|        Sri Lanka|4.366|       2862|      72|   0.782|                       true|\n",
            "|            79|           Turkey|5.373|       2732|      54|    0.82|                       true|\n",
            "+--------------+-----------------+-----+-----------+--------+--------+---------------------------+\n",
            "only showing top 10 rows\n",
            "\n",
            "+--------------+-----------------+-----+-----------+--------+--------+---------------------------+\n",
            "|Happiness rank|Country or region|Score|totalEvents|HDI Rank|HDI_2019|More developed than average|\n",
            "+--------------+-----------------+-----+-----------+--------+--------+---------------------------+\n",
            "|            87|     Turkmenistan|5.247|          1|     111|   0.715|                       true|\n",
            "|             4|          Iceland|7.494|          2|       4|   0.949|                       true|\n",
            "|            57|        Mauritius|5.888|          2|      66|   0.804|                       true|\n",
            "|            73|       Montenegro|5.523|          2|      48|   0.829|                       true|\n",
            "|           120|           Gambia|4.516|          3|     172|   0.496|                      false|\n",
            "|           115|     Burkina Faso|4.587|          3|     182|   0.452|                      false|\n",
            "|            95|           Bhutan|5.082|          3|     129|   0.654|                       true|\n",
            "|            70|           Serbia|5.603|          3|      64|   0.806|                       true|\n",
            "|           104|            Gabon|4.799|          4|     119|   0.703|                       true|\n",
            "|           150|           Malawi| 3.41|          4|     174|   0.483|                      false|\n",
            "+--------------+-----------------+-----+-----------+--------+--------+---------------------------+\n",
            "only showing top 10 rows\n",
            "\n"
          ]
        }
      ]
    },
    {
      "cell_type": "code",
      "source": [],
      "metadata": {
        "id": "coUN1izl-Zvf"
      },
      "execution_count": null,
      "outputs": []
    }
  ],
  "metadata": {
    "colab": {
      "provenance": [],
      "collapsed_sections": [
        "fhqHAQWiyLZA"
      ]
    },
    "kernelspec": {
      "display_name": "Python 3",
      "language": "python",
      "name": "python3"
    },
    "language_info": {
      "codemirror_mode": {
        "name": "ipython",
        "version": 3
      },
      "file_extension": ".py",
      "mimetype": "text/x-python",
      "name": "python",
      "nbconvert_exporter": "python",
      "pygments_lexer": "ipython3",
      "version": "3.10.0"
    },
    "orig_nbformat": 4,
    "vscode": {
      "interpreter": {
        "hash": "ff1af5cda0bea4fe5c4ebc1f94ab9f13d8998f98d08e16d8aba48673b9d00116"
      }
    }
  },
  "nbformat": 4,
  "nbformat_minor": 0
}