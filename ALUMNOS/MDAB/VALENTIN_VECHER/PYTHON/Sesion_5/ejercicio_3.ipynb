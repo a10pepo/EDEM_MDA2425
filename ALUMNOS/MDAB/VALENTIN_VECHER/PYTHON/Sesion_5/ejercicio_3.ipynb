{
 "cells": [
  {
   "cell_type": "markdown",
   "metadata": {},
   "source": [
    "# Crea clases de automóvil distintas como y que dispongan de distintos atributos, pero hereden los métodos de Automóvil a la hora de Arrancar, Acelerar, Frenar o Parar, salvo que algunos deben tener más potencia que otros:\n",
    "- Coche\n",
    "- Moto\n",
    "- Camión"
   ]
  },
  {
   "cell_type": "markdown",
   "metadata": {},
   "source": [
    "### - Coche"
   ]
  },
  {
   "cell_type": "code",
   "execution_count": 7,
   "metadata": {},
   "outputs": [],
   "source": [
    "from ejercicio_2 import Automovil"
   ]
  },
  {
   "cell_type": "code",
   "execution_count": 16,
   "metadata": {},
   "outputs": [
    {
     "name": "stdout",
     "output_type": "stream",
     "text": [
      "el coche opel astra se ha encendido\n"
     ]
    }
   ],
   "source": [
    "class Coche(Automovil):\n",
    "    modelo: str \n",
    "    marca: str \n",
    "    potencia: int \n",
    "\n",
    "    def __init__(self,velocidad_maxima, marca, modelo, potencia):\n",
    "        super(Coche, self).__init__(velocidad_maxima)\n",
    "        self.marca=marca\n",
    "        self.modelo=modelo \n",
    "        self.potencia=potencia\n",
    "\n",
    "    def arrancar(self):\n",
    "        if not self.encendido:\n",
    "            self.encendido=True\n",
    "            print(f'el coche {self.marca} {self.modelo} se ha encendido')\n",
    "        else:\n",
    "            print(f'el coche {self.marca} {self.modelo} ya estaba arrancado')\n",
    "    \n",
    "    def acelerar(self, incremento):\n",
    "        if self.encendido:\n",
    "            nueva_velo= self.velocidad_actual + incremento\n",
    "            if nueva_velo>self.velocidad_maxima:\n",
    "                print(f'el coche {self.marca} {self.modelo} va a su velocidad máxima {self.velocidad_maxima}')\n",
    "            else:\n",
    "                self.velocidad_actual=nueva_velo\n",
    "                print(f'el coche {self.marca} {self.modelo} va a una velocidad de {self.velocidad_actual}')\n",
    "        else: \n",
    "            print(f'el coche {self.marca} {self.modelo} esta apagado, enciendelo primero anda')\n",
    "    \n",
    "    def frenar(self, decremento):\n",
    "        if self.encendido:\n",
    "            nueva_velo=self.velocidad_actual - decremento\n",
    "            if nueva_velo<0:\n",
    "                self.velocidad_actual=0\n",
    "            else:\n",
    "                self.velocidad_actual=nueva_velo\n",
    "            print(f'la velocidad actual del coche {self.marca} {self.modelo} es de {self.velocidad_actual} km/h')\n",
    "        else:\n",
    "            print(f'el coche {self.marca} {self.modelo} esta apagado melon como vas a frenar... Arrancalo anda.')\n",
    "    \n",
    "    def parar(self):\n",
    "        if self.encendido:\n",
    "            self.velocidad_actual=0\n",
    "            self.encendido=False\n",
    "            print(f'el coche {self.marca} {self.modelo} se ha detenido y parado el motor')\n",
    "        else:\n",
    "            print(f'el coche {self.marca} {self.modelo} ya estaba  detenido y apagado')\n",
    "\n",
    "    def potencia(self):\n",
    "        print(f'el coche {self.marca} {self.modelo} tiene {self.potencia} cv de potencia')\n",
    "\n",
    "mi_coche=Coche(200, 'opel', 'astra', 200)\n",
    "mi_coche.arrancar()"
   ]
  },
  {
   "cell_type": "markdown",
   "metadata": {},
   "source": [
    "### -Moto"
   ]
  },
  {
   "cell_type": "code",
   "execution_count": 17,
   "metadata": {},
   "outputs": [
    {
     "name": "stdout",
     "output_type": "stream",
     "text": [
      "la moto yamaha r1 se ha encendido\n"
     ]
    }
   ],
   "source": [
    "class Moto(Automovil):\n",
    "    modelo: str \n",
    "    marca: str \n",
    "    potencia: int \n",
    "\n",
    "    def __init__(self,velocidad_maxima, marca, modelo, potencia):\n",
    "        super(Moto, self).__init__(velocidad_maxima)\n",
    "        self.marca=marca\n",
    "        self.modelo=modelo \n",
    "        self.potencia=potencia\n",
    "\n",
    "    def arrancar(self):\n",
    "        if not self.encendido:\n",
    "            self.encendido=True\n",
    "            print(f'la moto {self.marca} {self.modelo} se ha encendido')\n",
    "        else:\n",
    "            print(f'la moto {self.marca} {self.modelo} ya estaba arrancada')\n",
    "    \n",
    "    def acelerar(self, incremento):\n",
    "        if self.encendido:\n",
    "            nueva_velo= self.velocidad_actual + incremento\n",
    "            if nueva_velo>self.velocidad_maxima:\n",
    "                print(f'la moto {self.marca} {self.modelo} va a su velocidad máxima {self.velocidad_maxima}')\n",
    "            else:\n",
    "                self.velocidad_actual=nueva_velo\n",
    "                print(f'la moto {self.marca} {self.modelo} va a una velocidad de {self.velocidad_actual}')\n",
    "        else: \n",
    "            print(f'la moto {self.marca} {self.modelo} esta apagada, enciendela primero anda')\n",
    "    \n",
    "    def frenar(self, decremento):\n",
    "        if self.encendido:\n",
    "            nueva_velo=self.velocidad_actual - decremento\n",
    "            if nueva_velo<0:\n",
    "                self.velocidad_actual=0\n",
    "            else:\n",
    "                self.velocidad_actual=nueva_velo\n",
    "            print(f'la velocidad actual del moto {self.marca} {self.modelo} es de {self.velocidad_actual} km/h')\n",
    "        else:\n",
    "            print(f'la moto {self.marca} {self.modelo} esta apagada melon como vas a frenar... Arrancala anda.')\n",
    "    \n",
    "    def parar(self):\n",
    "        if self.encendido:\n",
    "            self.velocidad_actual=0\n",
    "            self.encendido=False\n",
    "            print(f'la moto {self.marca} {self.modelo} se ha detenido y parado la motor')\n",
    "        else:\n",
    "            print(f'la moto {self.marca} {self.modelo} ya estaba detenida y apagada')\n",
    "\n",
    "    def potencia(self):\n",
    "        print(f'la moto {self.marca} {self.modelo} tiene {self.potencia} cv de potencia')\n",
    "\n",
    "mi_moto=Moto(200, 'yamaha', 'r1', 200)\n",
    "mi_moto.arrancar()"
   ]
  },
  {
   "cell_type": "markdown",
   "metadata": {},
   "source": [
    "### -Camión\n"
   ]
  },
  {
   "cell_type": "code",
   "execution_count": 15,
   "metadata": {},
   "outputs": [
    {
     "name": "stdout",
     "output_type": "stream",
     "text": [
      "el camion Man 2z300 se ha encendido\n"
     ]
    }
   ],
   "source": [
    "class Camion(Automovil):\n",
    "    modelo: str \n",
    "    marca: str \n",
    "    potencia: int \n",
    "\n",
    "    def __init__(self,velocidad_maxima, marca, modelo, potencia):\n",
    "        super(Camion, self).__init__(velocidad_maxima)\n",
    "        self.marca=marca\n",
    "        self.modelo=modelo \n",
    "        self.potencia=potencia\n",
    "\n",
    "    def arrancar(self):\n",
    "        if not self.encendido:\n",
    "            self.encendido=True\n",
    "            print(f'el camion {self.marca} {self.modelo} se ha encendido')\n",
    "        else:\n",
    "            print(f'el camion {self.marca} {self.modelo} ya estaba arrancado')\n",
    "    \n",
    "    def acelerar(self, incremento):\n",
    "        if self.encendido:\n",
    "            nueva_velo= self.velocidad_actual + incremento\n",
    "            if nueva_velo>self.velocidad_maxima:\n",
    "                print(f'El camion {self.marca} {self.modelo} va a su velocidad máxima {self.velocidad_maxima}')\n",
    "            else:\n",
    "                self.velocidad_actual=nueva_velo\n",
    "                print(f'el camion {self.marca} {self.modelo} va a una velocidad de {self.velocidad_actual}')\n",
    "        else: \n",
    "            print(f'el camion {self.marca} {self.modelo} esta apagado, enciendelo primero anda')\n",
    "    \n",
    "    def frenar(self, decremento):\n",
    "        if self.encendido:\n",
    "            nueva_velo=self.velocidad_actual - decremento\n",
    "            if nueva_velo<0:\n",
    "                self.velocidad_actual=0\n",
    "            else:\n",
    "                self.velocidad_actual=nueva_velo\n",
    "            print(f'la velocidad actual del camion {self.marca} {self.modelo} es de {self.velocidad_actual} km/h')\n",
    "        else:\n",
    "            print(f'el camion {self.marca} {self.modelo} esta apagado melon como vas a frenar... Arrancalo anda.')\n",
    "    \n",
    "    def parar(self):\n",
    "        if self.encendido:\n",
    "            self.velocidad_actual=0\n",
    "            self.encendido=False\n",
    "            print(f'el camion {self.marca} {self.modelo} se ha detenido y parado el motor')\n",
    "        else:\n",
    "            print(f'el camion {self.marca} {self.modelo} ya estaba  detenido y apagado')\n",
    "\n",
    "    def potencia(self):\n",
    "        print(f'el camion {self.marca} {self.modelo} tiene {self.potencia} cv de potencia')\n",
    "\n",
    "mi_Camion=Camion(200, 'Man', '2z300', 200)\n",
    "mi_Camion.arrancar()"
   ]
  }
 ],
 "metadata": {
  "kernelspec": {
   "display_name": ".venv",
   "language": "python",
   "name": "python3"
  },
  "language_info": {
   "codemirror_mode": {
    "name": "ipython",
    "version": 3
   },
   "file_extension": ".py",
   "mimetype": "text/x-python",
   "name": "python",
   "nbconvert_exporter": "python",
   "pygments_lexer": "ipython3",
   "version": "3.12.7"
  }
 },
 "nbformat": 4,
 "nbformat_minor": 2
}
