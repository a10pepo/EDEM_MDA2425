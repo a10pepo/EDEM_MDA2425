{
 "cells": [
  {
   "cell_type": "markdown",
   "metadata": {},
   "source": [
    "### Tipo de definicion de clase automovil 1"
   ]
  },
  {
   "cell_type": "code",
   "execution_count": 143,
   "metadata": {},
   "outputs": [],
   "source": [
    "class Automovil1:\n",
    "    Arrancar : bool\n",
    "    Acelerar : bool\n",
    "    Frenar : bool\n",
    "    Parar : bool\n",
    "    \n",
    "    def __init__(self):\n",
    "        self.Arrancar = False  \n",
    "        self.Acelerar = False\n",
    "        self.Frenar = False\n",
    "        self.Parar = True\n",
    "\n",
    "    def arranca_coche(self):\n",
    "        self.Arrancar=True\n",
    "        self.Acelerar = False\n",
    "        self.Frenar = False\n",
    "        self.Parar = False\n",
    "        print(f'el coche esta arrancado')\n",
    "\n",
    "    def acelera_coche(self):\n",
    "        self.Arrancar=True\n",
    "        self.Acelerar=True\n",
    "        self.Frenar = False\n",
    "        self.Parar = False\n",
    "        print(f'el coche esta arrancado y acelerando')\n",
    "        \n",
    "    def frenar_coche(self):\n",
    "        self.Arrancar=True\n",
    "        self.Acelerar=False\n",
    "        self.Frenar = True\n",
    "        self.Parar = False\n",
    "        print(f'el coche esta arrancando y frenando')\n",
    "        \n",
    "    def parar_coche(self):\n",
    "        self.Arrancar=False\n",
    "        self.Acelerar=False\n",
    "        self.Frenar = False\n",
    "        self.Parar = True\n",
    "        print(f'el coche se ha detenido y ha parado el motor')\n"
   ]
  },
  {
   "cell_type": "markdown",
   "metadata": {},
   "source": [
    "Crear una instancia de Automovil"
   ]
  },
  {
   "cell_type": "code",
   "execution_count": 144,
   "metadata": {},
   "outputs": [],
   "source": [
    "primer_coche = Automovil1()"
   ]
  },
  {
   "cell_type": "code",
   "execution_count": 145,
   "metadata": {},
   "outputs": [
    {
     "name": "stdout",
     "output_type": "stream",
     "text": [
      "<__main__.Automovil1 object at 0x109872ed0>\n"
     ]
    }
   ],
   "source": [
    "print(primer_coche)"
   ]
  },
  {
   "cell_type": "code",
   "execution_count": 146,
   "metadata": {},
   "outputs": [
    {
     "name": "stdout",
     "output_type": "stream",
     "text": [
      "el coche esta arrancado\n"
     ]
    }
   ],
   "source": [
    "primer_coche.arranca_coche()\n"
   ]
  },
  {
   "cell_type": "markdown",
   "metadata": {},
   "source": [
    "De este modo, podemos arrancar el coche, acelerar, frenar y pararlo y ver en cada momento los valores de cada variable, quedando asi desglosada cada funcion"
   ]
  },
  {
   "cell_type": "markdown",
   "metadata": {},
   "source": [
    "------------------------------------------------------------------------------------------------------------------------------------------------------------------------"
   ]
  },
  {
   "cell_type": "markdown",
   "metadata": {},
   "source": [
    "### Si seguimos la pauta que se nos indico en las sesiones, la definicion de clase sería la siguiente:\n"
   ]
  },
  {
   "cell_type": "markdown",
   "metadata": {},
   "source": [
    "(esta será ña que se utilice en el posterior ejercicio 3)"
   ]
  },
  {
   "cell_type": "code",
   "execution_count": null,
   "metadata": {},
   "outputs": [
    {
     "name": "stdout",
     "output_type": "stream",
     "text": [
      "el automovil ya estaba  detenido y apagado\n"
     ]
    }
   ],
   "source": [
    "class Automovil():\n",
    "\n",
    "    def __init__(self, velocidad_maxima):  #estructura importante && __int__: es la funcion constructura que nos permite contruir el objeto coche \n",
    "        self.velocidad_maxima= velocidad_maxima\n",
    "        self.velocidad_actual=0\n",
    "        self.encendido=False\n",
    "\n",
    "    def arrancar(self):\n",
    "        if not self.encendido:\n",
    "            self.encendido=True\n",
    "            print(f'El automovil se ha encendido')\n",
    "        else:\n",
    "            print('el automovil ya estaba arrancado')\n",
    "    \n",
    "    def acelerar(self, incremento):\n",
    "        if self.encendido:\n",
    "            nueva_velo= self.velocidad_actual + incremento\n",
    "            if nueva_velo>self.velocidad_maxima:\n",
    "                print(f'el automovil va a su velocidad máxima {self.velocidad_maxima}')\n",
    "            else:\n",
    "                self.velocidad_actual=nueva_velo\n",
    "                print(f'el automovil va a una velocidad de {self.velocidad_actual}')\n",
    "        else: \n",
    "            print('el automovil esta apagado, enciendelo primero anda')\n",
    "    \n",
    "    def frenar(self, decremento):\n",
    "        if self.encendido:\n",
    "            nueva_velo=self.velocidad_actual - decremento\n",
    "            if nueva_velo<0:\n",
    "                self.velocidad_actual=0\n",
    "            else:\n",
    "                self.velocidad_actual=nueva_velo\n",
    "            print(f'la velocidad actual del automovil es de {self.velocidad_actual} km/h')\n",
    "        else:\n",
    "            print('el automovil esta apagado melon como vas a frenar... Arrancalo anda.')\n",
    "    \n",
    "    def parar(self):\n",
    "        if self.encendido:\n",
    "            self.velocidad_actual=0\n",
    "            self.encendido=False\n",
    "            print('el automovil se ha detenido y parado el motor')\n",
    "        else:\n",
    "            print('el automovil ya estaba  detenido y apagado')\n",
    "\n",
    "mi_auto=Automovil(200)\n",
    "\n"
   ]
  }
 ],
 "metadata": {
  "kernelspec": {
   "display_name": ".venv",
   "language": "python",
   "name": "python3"
  },
  "language_info": {
   "codemirror_mode": {
    "name": "ipython",
    "version": 3
   },
   "file_extension": ".py",
   "mimetype": "text/x-python",
   "name": "python",
   "nbconvert_exporter": "python",
   "pygments_lexer": "ipython3",
   "version": "3.12.7"
  }
 },
 "nbformat": 4,
 "nbformat_minor": 2
}
