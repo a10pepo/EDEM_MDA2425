{
 "cells": [
  {
   "cell_type": "code",
   "execution_count": 10,
   "metadata": {},
   "outputs": [],
   "source": [
    "import requests"
   ]
  },
  {
   "cell_type": "code",
   "execution_count": 11,
   "metadata": {},
   "outputs": [
    {
     "data": {
      "text/plain": [
       "<Response [200]>"
      ]
     },
     "execution_count": 11,
     "metadata": {},
     "output_type": "execute_result"
    }
   ],
   "source": [
    "respuesta = requests.get(\"https://randomuser.me/api\")\n",
    "respuesta"
   ]
  },
  {
   "cell_type": "code",
   "execution_count": 12,
   "metadata": {},
   "outputs": [
    {
     "name": "stdout",
     "output_type": "stream",
     "text": [
      "{'results': [{'gender': 'male', 'name': {'title': 'Mr', 'first': 'Gaëtan', 'last': 'Fontai'}, 'location': {'street': {'number': 4724, 'name': 'Place de la Mairie'}, 'city': 'Amiens', 'state': 'La Réunion', 'country': 'France', 'postcode': 59404, 'coordinates': {'latitude': '-20.2182', 'longitude': '-76.2128'}, 'timezone': {'offset': '+4:00', 'description': 'Abu Dhabi, Muscat, Baku, Tbilisi'}}, 'email': 'gaetan.fontai@example.com', 'login': {'uuid': '55a74088-7ff4-4ec6-80f9-12139bbd7514', 'username': 'yellowmeercat194', 'password': '2004', 'salt': 'E88s5XxI', 'md5': 'ac32dc051655da17df1e688928b35516', 'sha1': 'c233c7e4e623de491a8aa3dad9e64cdb0bed0f5b', 'sha256': 'fe3a81c107fb2dfd2107335f9c662b7e05226676bcc31c66e39b102bbb49786d'}, 'dob': {'date': '1952-09-22T01:34:20.819Z', 'age': 72}, 'registered': {'date': '2003-08-07T16:40:50.360Z', 'age': 21}, 'phone': '03-77-84-30-39', 'cell': '06-86-59-71-19', 'id': {'name': 'INSEE', 'value': '1520881072105 62'}, 'picture': {'large': 'https://randomuser.me/api/portraits/men/19.jpg', 'medium': 'https://randomuser.me/api/portraits/med/men/19.jpg', 'thumbnail': 'https://randomuser.me/api/portraits/thumb/men/19.jpg'}, 'nat': 'FR'}], 'info': {'seed': 'aaceb3bd0fab3580', 'results': 1, 'page': 1, 'version': '1.4'}}\n"
     ]
    }
   ],
   "source": [
    "d = respuesta.json()\n",
    "print(d)"
   ]
  },
  {
   "cell_type": "code",
   "execution_count": 20,
   "metadata": {},
   "outputs": [
    {
     "name": "stdout",
     "output_type": "stream",
     "text": [
      "El nombre es Mr Gaëtan Fontai\n"
     ]
    }
   ],
   "source": [
    "title = d[\"results\"][0][\"name\"][\"title\"]\n",
    "nombre = d[\"results\"][0][\"name\"][\"first\"]\n",
    "apellido = d[\"results\"][0][\"name\"][\"last\"]\n",
    "\n",
    "print(f\"El nombre es {title} {nombre} {apellido}\")"
   ]
  },
  {
   "cell_type": "code",
   "execution_count": 15,
   "metadata": {},
   "outputs": [
    {
     "name": "stdout",
     "output_type": "stream",
     "text": [
      "{'results': [{'gender': 'male', 'name': {'title': 'Mr', 'first': 'Gaëtan', 'last': 'Fontai'}, 'location': {'street': {'number': 4724, 'name': 'Place de la Mairie'}, 'city': 'Amiens', 'state': 'La Réunion', 'country': 'France', 'postcode': 59404, 'coordinates': {'latitude': '-20.2182', 'longitude': '-76.2128'}, 'timezone': {'offset': '+4:00', 'description': 'Abu Dhabi, Muscat, Baku, Tbilisi'}}, 'email': 'gaetan.fontai@example.com', 'login': {'uuid': '55a74088-7ff4-4ec6-80f9-12139bbd7514', 'username': 'yellowmeercat194', 'password': '2004', 'salt': 'E88s5XxI', 'md5': 'ac32dc051655da17df1e688928b35516', 'sha1': 'c233c7e4e623de491a8aa3dad9e64cdb0bed0f5b', 'sha256': 'fe3a81c107fb2dfd2107335f9c662b7e05226676bcc31c66e39b102bbb49786d'}, 'dob': {'date': '1952-09-22T01:34:20.819Z', 'age': 72}, 'registered': {'date': '2003-08-07T16:40:50.360Z', 'age': 21}, 'phone': '03-77-84-30-39', 'cell': '06-86-59-71-19', 'id': {'name': 'INSEE', 'value': '1520881072105 62'}, 'picture': {'large': 'https://randomuser.me/api/portraits/men/19.jpg', 'medium': 'https://randomuser.me/api/portraits/med/men/19.jpg', 'thumbnail': 'https://randomuser.me/api/portraits/thumb/men/19.jpg'}, 'nat': 'FR'}], 'info': {'seed': 'aaceb3bd0fab3580', 'results': 1, 'page': 1, 'version': '1.4'}}\n"
     ]
    }
   ],
   "source": [
    "d = respuesta.json()\n",
    "print(d)"
   ]
  }
 ],
 "metadata": {
  "kernelspec": {
   "display_name": "Python 3",
   "language": "python",
   "name": "python3"
  },
  "language_info": {
   "codemirror_mode": {
    "name": "ipython",
    "version": 3
   },
   "file_extension": ".py",
   "mimetype": "text/x-python",
   "name": "python",
   "nbconvert_exporter": "python",
   "pygments_lexer": "ipython3",
   "version": "3.9.6"
  }
 },
 "nbformat": 4,
 "nbformat_minor": 2
}
