{
 "cells": [
  {
   "cell_type": "code",
   "execution_count": null,
   "metadata": {
    "vscode": {
     "languageId": "plaintext"
    }
   },
   "outputs": [],
   "source": [
    "SELECT * FROM actor WHERE first_name LIKE 'N%';\n",
    "\n",
    "SELECT * FROM actor WHERE first_name LIKE '%n%';\n",
    "\n",
    "SELECT * FROM actor WHERE first_name LIKE '%n';\n",
    "\n",
    "SELECT * FROM actor WHERE last_name IS NULL;\n",
    "\n",
    "SELECT COUNT(*) AS total_actores FROM actor;\n",
    "\n",
    "SELECT COUNT(DISTINCT first_name) FROM actor;\n",
    "\n",
    "SELECT MAX(first_name) FROM actor;\n",
    "\n",
    "SELECT first_name FROM actor ORDER BY first_name DESC;\n",
    "\n",
    "SELECT first_name FROM actor ORDER BY first_name ASC;\n",
    "\n",
    "SELECT title FROM film WHERE replacement_cost > 2 AND title LIKE 'C%';\n",
    "\n",
    "SELECT rental_duration FROM film WHERE rental_duration BETWEEN 0 AND 5;\n",
    "\n",
    "SELECT title FROM film WHERE release_year = 2006;\n",
    "\n",
    "SELECT title FROM film WHERE length > 100;\n",
    "\n",
    "SELECT title FROM film WHERE rental_rate > 2;\n",
    "\n",
    "SELECT title, CEIL(replacement_cost / rental_rate) AS rental_break_even FROM film;\n",
    "\n",
    "SELECT title, CEIL(replacement_cost / rental_rate) AS rental_break_even FROM film ORDER BY rental_break_even DESC;"
   ]
  }
 ],
 "metadata": {
  "language_info": {
   "name": "python"
  }
 },
 "nbformat": 4,
 "nbformat_minor": 2
}
