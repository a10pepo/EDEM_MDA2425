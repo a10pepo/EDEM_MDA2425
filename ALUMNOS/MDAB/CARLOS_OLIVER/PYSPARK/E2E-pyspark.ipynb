{
 "cells": [
  {
   "cell_type": "markdown",
   "id": "a4e3626d",
   "metadata": {},
   "source": [
    "# Pyspark Dataframes\n",
    "### Qué vamos a ver\n",
    "- PySpark Dataframe \n",
    "- Leer un dataset\n",
    "- Comprobar los Datatypes de las columnas (Schema)\n",
    "- Seleccionar columnas e indexarlas\n",
    "- Check Describe option similar to Pandas\n",
    "- Añadir columnas\n",
    "- Eliminar columnas\n",
    "- Renombrar Columnas"
   ]
  },
  {
   "cell_type": "code",
   "execution_count": 3,
   "id": "7ffc4c8f",
   "metadata": {},
   "outputs": [
    {
     "name": "stdout",
     "output_type": "stream",
     "text": [
      "Collecting kagglehub\n",
      "  Downloading kagglehub-0.3.6-py3-none-any.whl.metadata (30 kB)\n",
      "Requirement already satisfied: packaging in /Users/carlosoliver/miniconda3/envs/SPARK-ENV/lib/python3.10/site-packages (from kagglehub) (24.2)\n",
      "Requirement already satisfied: requests in /Users/carlosoliver/miniconda3/envs/SPARK-ENV/lib/python3.10/site-packages (from kagglehub) (2.32.3)\n",
      "Collecting tqdm (from kagglehub)\n",
      "  Downloading tqdm-4.67.1-py3-none-any.whl.metadata (57 kB)\n",
      "Requirement already satisfied: charset-normalizer<4,>=2 in /Users/carlosoliver/miniconda3/envs/SPARK-ENV/lib/python3.10/site-packages (from requests->kagglehub) (3.4.1)\n",
      "Requirement already satisfied: idna<4,>=2.5 in /Users/carlosoliver/miniconda3/envs/SPARK-ENV/lib/python3.10/site-packages (from requests->kagglehub) (3.10)\n",
      "Requirement already satisfied: urllib3<3,>=1.21.1 in /Users/carlosoliver/miniconda3/envs/SPARK-ENV/lib/python3.10/site-packages (from requests->kagglehub) (2.3.0)\n",
      "Requirement already satisfied: certifi>=2017.4.17 in /Users/carlosoliver/miniconda3/envs/SPARK-ENV/lib/python3.10/site-packages (from requests->kagglehub) (2024.12.14)\n",
      "Downloading kagglehub-0.3.6-py3-none-any.whl (51 kB)\n",
      "Downloading tqdm-4.67.1-py3-none-any.whl (78 kB)\n",
      "Installing collected packages: tqdm, kagglehub\n",
      "Successfully installed kagglehub-0.3.6 tqdm-4.67.1\n"
     ]
    }
   ],
   "source": [
    "#pip install pyspark\n",
    "#!pip install kagglehub"
   ]
  },
  {
   "cell_type": "code",
   "execution_count": 53,
   "id": "beb48484",
   "metadata": {},
   "outputs": [],
   "source": [
    "import pyspark\n",
    "from pyspark.sql import SparkSession\n",
    "import kagglehub\n",
    "from pyspark.sql.functions import col, monotonically_increasing_id, when, lit, regexp_replace, udf\n",
    "from pyspark.sql.types import FloatType, IntegerType\n",
    "import random\n"
   ]
  },
  {
   "cell_type": "code",
   "execution_count": 61,
   "id": "74bf850d",
   "metadata": {},
   "outputs": [
    {
     "name": "stderr",
     "output_type": "stream",
     "text": [
      "25/01/20 13:01:11 WARN SparkSession: Using an existing Spark session; only runtime SQL configurations will take effect.\n"
     ]
    }
   ],
   "source": [
    "spark = SparkSession.builder.appName('spark-E2E').getOrCreate()"
   ]
  },
  {
   "cell_type": "code",
   "execution_count": 62,
   "id": "c8ec9421",
   "metadata": {},
   "outputs": [
    {
     "data": {
      "text/html": [
       "\n",
       "            <div>\n",
       "                <p><b>SparkSession - in-memory</b></p>\n",
       "                \n",
       "        <div>\n",
       "            <p><b>SparkContext</b></p>\n",
       "\n",
       "            <p><a href=\"http://192.168.1.139:4040\">Spark UI</a></p>\n",
       "\n",
       "            <dl>\n",
       "              <dt>Version</dt>\n",
       "                <dd><code>v3.5.4</code></dd>\n",
       "              <dt>Master</dt>\n",
       "                <dd><code>local[*]</code></dd>\n",
       "              <dt>AppName</dt>\n",
       "                <dd><code>spark-E2E</code></dd>\n",
       "            </dl>\n",
       "        </div>\n",
       "        \n",
       "            </div>\n",
       "        "
      ],
      "text/plain": [
       "<pyspark.sql.session.SparkSession at 0x10865fbe0>"
      ]
     },
     "execution_count": 62,
     "metadata": {},
     "output_type": "execute_result"
    }
   ],
   "source": [
    "spark"
   ]
  },
  {
   "cell_type": "markdown",
   "id": "d6a0eede",
   "metadata": {},
   "source": [
    "LEEMOS EL DATASET"
   ]
  },
  {
   "cell_type": "code",
   "execution_count": 35,
   "id": "90566ec9",
   "metadata": {},
   "outputs": [
    {
     "name": "stdout",
     "output_type": "stream",
     "text": [
      "Path to dataset files: /Users/carlosoliver/.cache/kagglehub/datasets/ramjasmaurya/top-1000-social-media-channels/versions/13\n"
     ]
    }
   ],
   "source": [
    "import kagglehub\n",
    "\n",
    "# Download latest version\n",
    "path = kagglehub.dataset_download(\"ramjasmaurya/top-1000-social-media-channels\")\n",
    "\n",
    "print(\"Path to dataset files:\", path)"
   ]
  },
  {
   "cell_type": "code",
   "execution_count": 36,
   "id": "bad76311",
   "metadata": {},
   "outputs": [
    {
     "name": "stdout",
     "output_type": "stream",
     "text": [
      "+--------------------+--------------------+------------------+-------------+------------+-------------+----------+\n",
      "|                S.no|                Name|          Youtuber|      Country| Subscribers|   Category_2|Avg. views|\n",
      "+--------------------+--------------------+------------------+-------------+------------+-------------+----------+\n",
      "|,Avg. likes,Avg C...|                NULL|              NULL|         NULL|        NULL|         NULL|      NULL|\n",
      "|                   1|            T-Series|           tseries|        India|      224.4M|Music & Dance|    141.5K|\n",
      "|                   2|Cocomelon - Nurse...|         checkgate|         NULL|      142.5M|    Education|     12.5M|\n",
      "|                   3|           PewDiePie|         PewDiePie|United States|      111.6M|    Animation|      1.9M|\n",
      "|                   4|             MrBeast|       MrBeast6000|United States|      104.1M|  Video games|     44.8M|\n",
      "|                   5|   ✿ Kids Diana Show| ✿ Kids Diana Show|         NULL|      100.5M|    Animation|      6.9M|\n",
      "|                   6|         Like Nastya|       Like Nastya|         NULL|      100.4M|         Toys|      5.3M|\n",
      "|                   7|                 WWE|      WWEFanNation|United States|       90.8M|  Video games|    139.5K|\n",
      "|                   8|   Zee Music Company|   zeemusiccompany|        India|       87.7M|Music & Dance|    103.7K|\n",
      "|                   9|       Vlad and Niki|     Vlad and Niki|         NULL|       86.1M|    Animation|      5.3M|\n",
      "|                  10|           BLACKPINK|         BLACKPINK|United States|       80.3M|Music & Dance|     10.4M|\n",
      "|                  11|     5-Minute Crafts|   5-Minute Crafts|        India|       77.3M|         NULL|    214.1K|\n",
      "|                  12|           Goldmines|GoldminesTelefilms|        India|       75.7M|         NULL|    141.9K|\n",
      "|                  13|            Sony SAB|             sabtv|        India|       71.7M|       Movies|     61.7K|\n",
      "|                  14|           BANGTANTV|         BANGTANTV|        India|       70.6M|Music & Dance|      3.9M|\n",
      "|                  15|         HYBE LABELS|           ibighit|United States|       68.2M|Music & Dance|        1M|\n",
      "|                  16|     Canal KondZilla|    CanalKondZilla|       Brazil|         66M|Music & Dance|     37.4K|\n",
      "|                  17|              Zee TV|             zeetv|        India|       63.4M|         NULL|    109.4K|\n",
      "|                  18|Shemaroo Filmi Gaane|        filmigaane|        India|       61.8M|Music & Dance|     30.4K|\n",
      "|                  19|Pinkfong Baby Sha...|   SmartBooksMedia|         NULL|         60M|    Animation|    523.2K|\n",
      "+--------------------+--------------------+------------------+-------------+------------+-------------+----------+\n",
      "only showing top 20 rows\n",
      "\n",
      "+-------------+------------------+--------------------+-------------+---------+-------------+------+\n",
      "|         s.no|   Youtube channel|       youtuber name|     Category|Followers|      Country|     \"|\n",
      "+-------------+------------------+--------------------+-------------+---------+-------------+------+\n",
      "|Views (Avg.)\"|      Likes (Avg.)|     Comments (Avg.)|   Category-2|     NULL|         NULL|  NULL|\n",
      "|            1|           tseries|            T-Series|Music & Dance|   229.5M|        India|103.8K|\n",
      "|            2|         checkgate|Cocomelon - Nurse...|    Education|   146.6M|         NULL|  9.5M|\n",
      "|            3|         PewDiePie|           PewDiePie|    Animation|   111.6M|United States|  1.4M|\n",
      "|            4|       MrBeast6000|             MrBeast|  Video games|   109.1M|United States| 38.4M|\n",
      "|            5| ✿ Kids Diana Show|   ✿ Kids Diana Show|    Animation|   102.5M|         NULL|  2.4M|\n",
      "|            6|       Like Nastya|         Like Nastya|         Toys|   102.4M|         NULL|  4.4M|\n",
      "|            7|      WWEFanNation|                 WWE|  Video games|    91.8M|United States|144.9K|\n",
      "|            8|   zeemusiccompany|   Zee Music Company|Music & Dance|    89.7M|        India| 89.6K|\n",
      "|            9|     Vlad and Niki|       Vlad and Niki|    Animation|    89.1M|         NULL|  8.8M|\n",
      "|           10|         BLACKPINK|           BLACKPINK|Music & Dance|    82.8M|United States|  1.8M|\n",
      "|           11|GoldminesTelefilms|           Goldmines|         NULL|    78.3M|        India| 54.2K|\n",
      "|           12|   5-Minute Crafts|     5-Minute Crafts|         NULL|    77.9M|        India|236.2K|\n",
      "|           13|             sabtv|            Sony SAB|       Movies|    73.9M|        India| 45.6K|\n",
      "|           14|         BANGTANTV|           BANGTANTV|Music & Dance|    71.7M|        India|  1.7M|\n",
      "|           15|           ibighit|         HYBE LABELS|Music & Dance|    68.8M|United States|  2.9M|\n",
      "|           16|    CanalKondZilla|     Canal KondZilla|Music & Dance|    66.1M|       Brazil| 35.3K|\n",
      "|           17|             zeetv|              Zee TV|         NULL|    64.2M|        India|  8.9K|\n",
      "|           18|        filmigaane|Shemaroo Filmi Gaane|Music & Dance|    62.6M|        India| 15.2K|\n",
      "|           19|   SmartBooksMedia|Pinkfong Baby Sha...|    Animation|    61.8M|         NULL|594.4K|\n",
      "+-------------+------------------+--------------------+-------------+---------+-------------+------+\n",
      "only showing top 20 rows\n",
      "\n"
     ]
    }
   ],
   "source": [
    "df_youtube_sep = spark.read.option('header', 'true').csv('/Users/carlosoliver/.cache/kagglehub/datasets/ramjasmaurya/top-1000-social-media-channels/versions/13/social media influencers - Youtube sep-2022.csv')\n",
    "df_youtube_jun = spark.read.option('header', 'true').csv('/Users/carlosoliver/.cache/kagglehub/datasets/ramjasmaurya/top-1000-social-media-channels/versions/13/social media influencers-youtube june 2022 - june 2022.csv')\n",
    "df_youtube_nov = spark.read.option('header', 'true').csv('/Users/carlosoliver/.cache/kagglehub/datasets/ramjasmaurya/top-1000-social-media-channels/versions/13/social media influencers-youtube - --nov 2022.csv')\n",
    "df_youtube_dic = spark.read.option('header', 'true').csv('/Users/carlosoliver/.cache/kagglehub/datasets/ramjasmaurya/top-1000-social-media-channels/versions/13/social media influencers-YOUTUBE - --DEC 2022.csv')\n",
    "\n",
    "df_youtube_sep.show()\n",
    "df_youtube_nov.show()"
   ]
  },
  {
   "cell_type": "markdown",
   "id": "bc4c194c",
   "metadata": {},
   "source": [
    "COMPROBAMOS EL TIPO DE DATOS QUE TENEMOS"
   ]
  },
  {
   "cell_type": "code",
   "execution_count": 37,
   "id": "85a9ce1f",
   "metadata": {},
   "outputs": [
    {
     "name": "stdout",
     "output_type": "stream",
     "text": [
      "root\n",
      " |-- channel name: string (nullable = true)\n",
      " |-- youTuber: string (nullable = true)\n",
      " |-- Category: string (nullable = true)\n",
      " |-- Category_2: string (nullable = true)\n",
      " |-- Subscribers count: string (nullable = true)\n",
      " |-- Country: string (nullable = true)\n",
      " |-- Views avg.: string (nullable = true)\n",
      " |-- Likes avg: string (nullable = true)\n",
      " |-- Comments avg.: string (nullable = true)\n",
      "\n",
      "root\n",
      " |-- S.no: string (nullable = true)\n",
      " |-- Name: string (nullable = true)\n",
      " |-- Youtuber: string (nullable = true)\n",
      " |-- Country: string (nullable = true)\n",
      " |--  Subscribers: string (nullable = true)\n",
      " |-- Category_2: string (nullable = true)\n",
      " |-- Avg. views: string (nullable = true)\n",
      "\n",
      "root\n",
      " |-- s.no: string (nullable = true)\n",
      " |-- Youtube channel: string (nullable = true)\n",
      " |-- youtuber name: string (nullable = true)\n",
      " |-- Category: string (nullable = true)\n",
      " |-- Followers: string (nullable = true)\n",
      " |-- Country: string (nullable = true)\n",
      " |-- \": string (nullable = true)\n",
      "\n",
      "root\n",
      " |-- s.no: string (nullable = true)\n",
      " |-- Youtube channel: string (nullable = true)\n",
      " |-- youtuber name: string (nullable = true)\n",
      " |-- Category: string (nullable = true)\n",
      " |-- Followers: string (nullable = true)\n",
      " |-- Country: string (nullable = true)\n",
      " |-- \": string (nullable = true)\n",
      "\n"
     ]
    }
   ],
   "source": [
    "df_youtube_jun.printSchema()\n",
    "df_youtube_sep.printSchema()\n",
    "df_youtube_nov.printSchema()\n",
    "df_youtube_dic.printSchema()\n"
   ]
  },
  {
   "cell_type": "code",
   "execution_count": 38,
   "id": "1f62ab79",
   "metadata": {},
   "outputs": [
    {
     "name": "stdout",
     "output_type": "stream",
     "text": [
      "Filas: 1004, Columnas: 7\n",
      "Filas: 1021, Columnas: 9\n"
     ]
    }
   ],
   "source": [
    "print(f\"Filas: {df_youtube_dic.count()}, Columnas: {len(df_youtube_dic.columns)}\")\n",
    "print(f\"Filas: {df_youtube_jun.count()}, Columnas: {len(df_youtube_jun.columns)}\")"
   ]
  },
  {
   "cell_type": "code",
   "execution_count": 39,
   "id": "a823330e",
   "metadata": {},
   "outputs": [],
   "source": [
    "# Eliminar las columnas 'Comments avg.' y 'Likes avg'\n",
    "df_youtube_jun = df_youtube_jun.drop(\"Comments avg.\", \"Likes avg\", \"Category_2\")\n",
    "df_youtube_sep = df_youtube_sep.drop(\"S.No\")\n",
    "df_youtube_nov = df_youtube_nov.drop(\"s.No\")\n",
    "df_youtube_dic = df_youtube_dic.drop(\"s.no\")\n"
   ]
  },
  {
   "cell_type": "code",
   "execution_count": 55,
   "id": "8bc83ed0",
   "metadata": {},
   "outputs": [
    {
     "name": "stdout",
     "output_type": "stream",
     "text": [
      "root\n",
      " |-- Channel_name_jun: string (nullable = true)\n",
      " |-- Youtuber_name_jun: string (nullable = true)\n",
      " |-- Category_jun: string (nullable = true)\n",
      " |-- Subscribers_jun: integer (nullable = true)\n",
      " |-- Country_jun: string (nullable = true)\n",
      " |-- Views_avg_jun: integer (nullable = true)\n",
      "\n",
      "root\n",
      " |-- Channel_name_sep: string (nullable = true)\n",
      " |-- Youtuber_name_sep: string (nullable = true)\n",
      " |-- Country_sep: string (nullable = true)\n",
      " |-- Subscribers_sep: integer (nullable = true)\n",
      " |-- Category_sep: string (nullable = true)\n",
      " |-- Views_avg_sep: integer (nullable = true)\n",
      "\n",
      "root\n",
      " |-- Channel_name_nov: string (nullable = true)\n",
      " |-- Youtuber_name_nov: string (nullable = true)\n",
      " |-- Category_nov: string (nullable = true)\n",
      " |-- Subscribers_nov: integer (nullable = true)\n",
      " |-- Country_nov: string (nullable = true)\n",
      " |-- Views_avg_nov: integer (nullable = true)\n",
      "\n",
      "root\n",
      " |-- Channel_name_dic: string (nullable = true)\n",
      " |-- Youtuber_name_dic: string (nullable = true)\n",
      " |-- Category_dic: string (nullable = true)\n",
      " |-- Subscribers_dic: integer (nullable = true)\n",
      " |-- Country_dic: string (nullable = true)\n",
      " |-- Views_avg_dic: integer (nullable = true)\n",
      "\n"
     ]
    }
   ],
   "source": [
    "df_youtube_jun.printSchema()\n",
    "df_youtube_sep.printSchema()\n",
    "df_youtube_nov.printSchema()\n",
    "df_youtube_dic.printSchema()"
   ]
  },
  {
   "cell_type": "code",
   "execution_count": 47,
   "id": "ff5960ff",
   "metadata": {},
   "outputs": [
    {
     "name": "stdout",
     "output_type": "stream",
     "text": [
      "root\n",
      " |-- Channel_name_jun: string (nullable = true)\n",
      " |-- Youtuber_name_jun: string (nullable = true)\n",
      " |-- Category_jun: string (nullable = true)\n",
      " |-- Subscribers_jun: string (nullable = true)\n",
      " |-- Country_jun: string (nullable = true)\n",
      " |-- Views_avg_jun: string (nullable = true)\n",
      "\n",
      "root\n",
      " |-- Channel_name_sep: string (nullable = true)\n",
      " |-- Youtuber_name_sep: string (nullable = true)\n",
      " |-- Country_sep: string (nullable = true)\n",
      " |-- Subscribers_sep: string (nullable = true)\n",
      " |-- Category_sep: string (nullable = true)\n",
      " |-- Views_avg_sep: string (nullable = true)\n",
      "\n",
      "root\n",
      " |-- Channel_name_nov: string (nullable = true)\n",
      " |-- Youtuber_name_nov: string (nullable = true)\n",
      " |-- Category_nov: string (nullable = true)\n",
      " |-- Subscribers_nov: string (nullable = true)\n",
      " |-- Country_nov: string (nullable = true)\n",
      " |-- Views_avg_nov: string (nullable = true)\n",
      "\n",
      "root\n",
      " |-- Channel_name_dic: string (nullable = true)\n",
      " |-- Youtuber_name_dic: string (nullable = true)\n",
      " |-- Category_dic: string (nullable = true)\n",
      " |-- Subscribers_dic: string (nullable = true)\n",
      " |-- Country_dic: string (nullable = true)\n",
      " |-- Views_avg_dic: string (nullable = true)\n",
      "\n"
     ]
    }
   ],
   "source": [
    "df_youtube_jun = df_youtube_jun.withColumnRenamed(\"channel name\",\"Channel_name_jun\") \\\n",
    "       .withColumnRenamed(\"Views avg.\", \"Views_avg_jun\")\\\n",
    "       .withColumnRenamed(\"youTuber\", \"Youtuber_name_jun\")\\\n",
    "       .withColumnRenamed(\"Category\", \"Category_jun\")\\\n",
    "       .withColumnRenamed(\"Subscribers count\", \"Subscribers_jun\")\\\n",
    "       .withColumnRenamed(\"Country\", \"Country_jun\")\n",
    "\n",
    "df_youtube_jun.printSchema()\n",
    "\n",
    "df_youtube_sep = df_youtube_sep.withColumnRenamed(\"Name\",\"Channel_name_sep\") \\\n",
    "       .withColumnRenamed(\"Avg. views\", \"Views_avg_sep\")\\\n",
    "       .withColumnRenamed(\"Youtuber\", \"Youtuber_name_sep\")\\\n",
    "       .withColumnRenamed(\"Category_2\", \"Category_sep\")\\\n",
    "       .withColumnRenamed(\" Subscribers\", \"Subscribers_sep\")\\\n",
    "       .withColumnRenamed(\"Country\", \"Country_sep\")\n",
    "\n",
    "df_youtube_sep.printSchema()\n",
    "\n",
    "df_youtube_nov = df_youtube_nov.withColumnRenamed(\"Youtube channel\",\"Channel_name_nov\") \\\n",
    "       .withColumnRenamed('Views_avg_sep', \"Views_avg_nov\")\\\n",
    "       .withColumnRenamed(\"youtuber name\", \"Youtuber_name_nov\")\\\n",
    "       .withColumnRenamed(\"Category\", \"Category_nov\")\\\n",
    "       .withColumnRenamed(\"Followers\", \"Subscribers_nov\")\\\n",
    "       .withColumnRenamed(\"Country\", \"Country_nov\")\n",
    "\n",
    "df_youtube_nov.printSchema()\n",
    "\n",
    "df_youtube_dic = df_youtube_dic.withColumnRenamed(\"Youtube channel\",\"Channel_name_dic\") \\\n",
    "       .withColumnRenamed('\"', \"Views_avg_dic\")\\\n",
    "       .withColumnRenamed(\"youtuber name\", \"Youtuber_name_dic\")\\\n",
    "       .withColumnRenamed(\"Category\", \"Category_dic\")\\\n",
    "       .withColumnRenamed(\"Followers\", \"Subscribers_dic\")\\\n",
    "       .withColumnRenamed(\"Country\", \"Country_dic\")\n",
    "\n",
    "df_youtube_dic.printSchema()"
   ]
  },
  {
   "cell_type": "code",
   "execution_count": 48,
   "id": "c6651b87",
   "metadata": {},
   "outputs": [],
   "source": [
    "# from pyspark.sql.functions import col, udf\n",
    "# from pyspark.sql.types import IntegerType\n",
    "# import random\n",
    "\n",
    "# # Función para generar un número aleatorio en el rango dado\n",
    "# def random_value():\n",
    "#     return random.randint(900000, 50000000)\n",
    "\n",
    "# # Registrar la función como UDF\n",
    "# random_udf = udf(random_value, IntegerType())\n",
    "\n",
    "# # Reemplazar las columnas con valores aleatorios\n",
    "# df_youtube_jun = (\n",
    "#     df_youtube_jun.withColumn(\"Subscribers_jun\", random_udf())\n",
    "#       .withColumn(\"Views_avg_jun\", random_udf())\n",
    "# )\n",
    "\n",
    "# # Reemplazar las columnas con valores aleatorios\n",
    "# df_youtube_sep = (\n",
    "#     df_youtube_sep.withColumn(\"Subscribers_sep\", random_udf())\n",
    "#       .withColumn(\"Views_avg_sep\", random_udf())\n",
    "# )\n",
    "\n",
    "# # Reemplazar las columnas con valores aleatorios\n",
    "# df_youtube_nov = (\n",
    "#     df_youtube_nov.withColumn(\"Subscribers_nov\", random_udf())\n",
    "#       .withColumn(\"Views_avg_nov\", random_udf())\n",
    "# )\n",
    "\n",
    "# # Reemplazar las columnas con valores aleatorios\n",
    "# df_youtube_dic = (\n",
    "#     df_youtube_dic.withColumn(\"Subscribers_dic\", random_udf())\n",
    "#       .withColumn(\"Views_avg_dic\", random_udf())\n",
    "# )"
   ]
  },
  {
   "cell_type": "code",
   "execution_count": 63,
   "id": "0d6daa12",
   "metadata": {},
   "outputs": [
    {
     "name": "stdout",
     "output_type": "stream",
     "text": [
      "+--------------------+--------------------+-------------+---------------+-----------+-------------+\n",
      "|    Channel_name_jun|   Youtuber_name_jun| Category_jun|Subscribers_jun|Country_jun|Views_avg_jun|\n",
      "+--------------------+--------------------+-------------+---------------+-----------+-------------+\n",
      "|             juptube|  Galinha Pintadinha|Music & Dance|       40518707|          -|     40518707|\n",
      "|Baby Big Mouth Ki...|Baby Big Mouth Ki...|    Animation|       34994344|          -|     34994344|\n",
      "|     shfa show India|     shfa show India|  Daily vlogs|       46142247|          -|     46142247|\n",
      "|Blippi - Educatio...|Blippi - Educatio...|    Education|       44326933|          -|     44326933|\n",
      "|      infobellstamil|   infobells - Tamil|    Education|       41441982|          -|     41441982|\n",
      "|  Diana and Roma ARA|  Diana and Roma ARA|         NULL|       28975917|          -|     28975917|\n",
      "|PeppaLatinoAmericano|Peppa Pig Español...|         Toys|       38369413|          -|     38369413|\n",
      "|Fun For Kids TV -...|Fun For Kids TV -...|         NULL|       44272680|          -|     44272680|\n",
      "|    SuperSimpleSongs|Super Simple Song...|Music & Dance|       21018168|          -|     21018168|\n",
      "|  Diana and Roma ESP|  Diana and Roma ESP|    Animation|       48832962|          -|     48832962|\n",
      "|          D Billions|          D Billions|         NULL|       31147584|          -|     31147584|\n",
      "|     GoldminesAction|     GoldminesAction|         NULL|        9439533|          -|      9439533|\n",
      "|         Like Nastya|         Like Nastya|    Animation|       43690690|          -|     43690690|\n",
      "|           checkgate|Cocomelon - Nurse...|    Education|       40001255|          -|     40001255|\n",
      "|           Трум Трум|           Трум Трум|        Humor|       32836876|          -|     32836876|\n",
      "|       dangmattsmith|     Dang Matt Smith|    Animation|       16697542|          -|     16697542|\n",
      "|      toyoraljanahtv|قناة طيور الجنة |...|Music & Dance|       13240793|          -|     13240793|\n",
      "|           TeremokTV|          Теремок ТВ|  Video games|       49145334|          -|     49145334|\n",
      "|          DuDuPopTOY|          DuDuPopTOY|    Animation|       24590491|          -|     24590491|\n",
      "|   ✿ Kids Diana Show|   ✿ Kids Diana Show|    Animation|       12755783|          -|     12755783|\n",
      "+--------------------+--------------------+-------------+---------------+-----------+-------------+\n",
      "only showing top 20 rows\n",
      "\n"
     ]
    }
   ],
   "source": [
    "# June\n",
    "\n",
    "df_youtube_jun.show()"
   ]
  },
  {
   "cell_type": "code",
   "execution_count": 64,
   "id": "795c1232",
   "metadata": {},
   "outputs": [
    {
     "name": "stdout",
     "output_type": "stream",
     "text": [
      "+--------------------+------------------+-------------+---------------+-------------+-------------+\n",
      "|    Channel_name_sep| Youtuber_name_sep|  Country_sep|Subscribers_sep| Category_sep|Views_avg_sep|\n",
      "+--------------------+------------------+-------------+---------------+-------------+-------------+\n",
      "|                NULL|              NULL|         NULL|       21144020|         NULL|     21144020|\n",
      "|            T-Series|           tseries|        India|       30769123|Music & Dance|     30769123|\n",
      "|Cocomelon - Nurse...|         checkgate|         NULL|       11363223|    Education|     11363223|\n",
      "|           PewDiePie|         PewDiePie|United States|       16878935|    Animation|     16878935|\n",
      "|             MrBeast|       MrBeast6000|United States|       28450859|  Video games|     28450859|\n",
      "|   ✿ Kids Diana Show| ✿ Kids Diana Show|         NULL|       17355037|    Animation|     17355037|\n",
      "|         Like Nastya|       Like Nastya|         NULL|       33243296|         Toys|     33243296|\n",
      "|                 WWE|      WWEFanNation|United States|       20425078|  Video games|     20425078|\n",
      "|   Zee Music Company|   zeemusiccompany|        India|       19090467|Music & Dance|     19090467|\n",
      "|       Vlad and Niki|     Vlad and Niki|         NULL|       26043199|    Animation|     26043199|\n",
      "|           BLACKPINK|         BLACKPINK|United States|       25749910|Music & Dance|     25749910|\n",
      "|     5-Minute Crafts|   5-Minute Crafts|        India|       48115505|         NULL|     48115505|\n",
      "|           Goldmines|GoldminesTelefilms|        India|       46100305|         NULL|     46100305|\n",
      "|            Sony SAB|             sabtv|        India|        4726827|       Movies|      4726827|\n",
      "|           BANGTANTV|         BANGTANTV|        India|       36009626|Music & Dance|     36009626|\n",
      "|         HYBE LABELS|           ibighit|United States|       42009449|Music & Dance|     42009449|\n",
      "|     Canal KondZilla|    CanalKondZilla|       Brazil|       48868697|Music & Dance|     48868697|\n",
      "|              Zee TV|             zeetv|        India|       47991046|         NULL|     47991046|\n",
      "|Shemaroo Filmi Gaane|        filmigaane|        India|       41100394|Music & Dance|     41100394|\n",
      "|Pinkfong Baby Sha...|   SmartBooksMedia|         NULL|        7830438|    Animation|      7830438|\n",
      "+--------------------+------------------+-------------+---------------+-------------+-------------+\n",
      "only showing top 20 rows\n",
      "\n"
     ]
    }
   ],
   "source": [
    "df_youtube_sep.show()   "
   ]
  },
  {
   "cell_type": "code",
   "execution_count": 65,
   "id": "ad6167a9",
   "metadata": {},
   "outputs": [
    {
     "name": "stdout",
     "output_type": "stream",
     "text": [
      "+------------------+--------------------+-------------+---------------+-------------+-------------+\n",
      "|  Channel_name_nov|   Youtuber_name_nov| Category_nov|Subscribers_nov|  Country_nov|Views_avg_nov|\n",
      "+------------------+--------------------+-------------+---------------+-------------+-------------+\n",
      "|      Likes (Avg.)|     Comments (Avg.)|   Category-2|       45825655|         NULL|     45825655|\n",
      "|           tseries|            T-Series|Music & Dance|       29989746|        India|     29989746|\n",
      "|         checkgate|Cocomelon - Nurse...|    Education|        2218241|         NULL|      2218241|\n",
      "|         PewDiePie|           PewDiePie|    Animation|       23511058|United States|     23511058|\n",
      "|       MrBeast6000|             MrBeast|  Video games|        9037400|United States|      9037400|\n",
      "| ✿ Kids Diana Show|   ✿ Kids Diana Show|    Animation|       46556980|         NULL|     46556980|\n",
      "|       Like Nastya|         Like Nastya|         Toys|       48947871|         NULL|     48947871|\n",
      "|      WWEFanNation|                 WWE|  Video games|       39044588|United States|     39044588|\n",
      "|   zeemusiccompany|   Zee Music Company|Music & Dance|       13074166|        India|     13074166|\n",
      "|     Vlad and Niki|       Vlad and Niki|    Animation|        5467491|         NULL|      5467491|\n",
      "|         BLACKPINK|           BLACKPINK|Music & Dance|       22904479|United States|     22904479|\n",
      "|GoldminesTelefilms|           Goldmines|         NULL|       40764723|        India|     40764723|\n",
      "|   5-Minute Crafts|     5-Minute Crafts|         NULL|       25365745|        India|     25365745|\n",
      "|             sabtv|            Sony SAB|       Movies|       39194340|        India|     39194340|\n",
      "|         BANGTANTV|           BANGTANTV|Music & Dance|       38308220|        India|     38308220|\n",
      "|           ibighit|         HYBE LABELS|Music & Dance|       33312678|United States|     33312678|\n",
      "|    CanalKondZilla|     Canal KondZilla|Music & Dance|       11836680|       Brazil|     11836680|\n",
      "|             zeetv|              Zee TV|         NULL|        9329764|        India|      9329764|\n",
      "|        filmigaane|Shemaroo Filmi Gaane|Music & Dance|       36847244|        India|     36847244|\n",
      "|   SmartBooksMedia|Pinkfong Baby Sha...|    Animation|       33909263|         NULL|     33909263|\n",
      "+------------------+--------------------+-------------+---------------+-------------+-------------+\n",
      "only showing top 20 rows\n",
      "\n"
     ]
    }
   ],
   "source": [
    "df_youtube_nov.show()"
   ]
  },
  {
   "cell_type": "code",
   "execution_count": 66,
   "id": "bc2e4904",
   "metadata": {},
   "outputs": [
    {
     "name": "stdout",
     "output_type": "stream",
     "text": [
      "+------------------+--------------------+-------------+---------------+-------------+-------------+\n",
      "|  Channel_name_dic|   Youtuber_name_dic| Category_dic|Subscribers_dic|  Country_dic|Views_avg_dic|\n",
      "+------------------+--------------------+-------------+---------------+-------------+-------------+\n",
      "|      Likes (Avg.)|     Comments (Avg.)|   Category-2|        8041578|         NULL|      8041578|\n",
      "|           tseries|            T-Series|Music & Dance|       47659828|        India|     47659828|\n",
      "|          setindia|           SET India|         NULL|       45251029|        India|     45251029|\n",
      "|         checkgate|Cocomelon - Nurse...|    Education|        8305276|         NULL|      8305276|\n",
      "|           MrBeast|             MrBeast|  Video games|       16559661|United States|     16559661|\n",
      "|         PewDiePie|           PewDiePie|    Animation|       49661354|United States|     49661354|\n",
      "| ✿ Kids Diana Show|   ✿ Kids Diana Show|    Animation|        3784614|         NULL|      3784614|\n",
      "|       Like Nastya|         Like Nastya|         Toys|       28285555|         NULL|     28285555|\n",
      "|      WWEFanNation|                 WWE|  Video games|       42069065|United States|     42069065|\n",
      "|     Vlad and Niki|       Vlad and Niki|    Animation|       20320508|         NULL|     20320508|\n",
      "|   zeemusiccompany|   Zee Music Company|Music & Dance|       21631027|        India|     21631027|\n",
      "|         BLACKPINK|           BLACKPINK|Music & Dance|       38548524|United States|     38548524|\n",
      "|GoldminesTelefilms|           Goldmines|         NULL|       44850876|        India|     44850876|\n",
      "|   5-Minute Crafts|     5-Minute Crafts|         NULL|       10058062|        India|     10058062|\n",
      "|             sabtv|            Sony SAB|       Movies|        6323206|        India|      6323206|\n",
      "|         BANGTANTV|           BANGTANTV|Music & Dance|       39601667|        India|     39601667|\n",
      "|           ibighit|         HYBE LABELS|Music & Dance|       18220718|United States|     18220718|\n",
      "|         KondZilla|     Canal KondZilla|Music & Dance|       41992063|       Brazil|     41992063|\n",
      "|             zeetv|              Zee TV|         NULL|       15919189|        India|     15919189|\n",
      "|        filmigaane|Shemaroo Filmi Gaane|Music & Dance|        5305346|        India|      5305346|\n",
      "+------------------+--------------------+-------------+---------------+-------------+-------------+\n",
      "only showing top 20 rows\n",
      "\n"
     ]
    }
   ],
   "source": [
    "df_youtube_dic.show()"
   ]
  },
  {
   "cell_type": "code",
   "execution_count": 69,
   "id": "47e3da1b",
   "metadata": {},
   "outputs": [
    {
     "name": "stdout",
     "output_type": "stream",
     "text": [
      "root\n",
      " |-- Channel_name_jun: string (nullable = true)\n",
      " |-- Youtuber_name_jun: string (nullable = true)\n",
      " |-- Category_jun: string (nullable = true)\n",
      " |-- Subscribers_jun: integer (nullable = true)\n",
      " |-- Country_jun: string (nullable = true)\n",
      " |-- Views_avg_jun: integer (nullable = true)\n",
      "\n",
      "root\n",
      " |-- Channel_name_sep: string (nullable = true)\n",
      " |-- Youtuber_name_sep: string (nullable = true)\n",
      " |-- Country_sep: string (nullable = true)\n",
      " |-- Subscribers_sep: integer (nullable = true)\n",
      " |-- Category_sep: string (nullable = true)\n",
      " |-- Views_avg_sep: integer (nullable = true)\n",
      "\n",
      "root\n",
      " |-- Channel_name_nov: string (nullable = true)\n",
      " |-- Youtuber_name_nov: string (nullable = true)\n",
      " |-- Category_nov: string (nullable = true)\n",
      " |-- Subscribers_nov: integer (nullable = true)\n",
      " |-- Country_nov: string (nullable = true)\n",
      " |-- Views_avg_nov: integer (nullable = true)\n",
      "\n",
      "root\n",
      " |-- Channel_name_dic: string (nullable = true)\n",
      " |-- Youtuber_name_dic: string (nullable = true)\n",
      " |-- Category_dic: string (nullable = true)\n",
      " |-- Subscribers_dic: integer (nullable = true)\n",
      " |-- Country_dic: string (nullable = true)\n",
      " |-- Views_avg_dic: integer (nullable = true)\n",
      "\n"
     ]
    }
   ],
   "source": [
    "df_youtube_jun.printSchema()\n",
    "df_youtube_sep.printSchema()\n",
    "df_youtube_nov.printSchema()\n",
    "df_youtube_dic.printSchema()"
   ]
  },
  {
   "cell_type": "code",
   "execution_count": 75,
   "id": "efba6582",
   "metadata": {},
   "outputs": [],
   "source": [
    "df_jun = df_youtube_jun.select(\n",
    "    \"Channel_name_jun\", \"Youtuber_name_jun\", \"Subscribers_jun\", \"Views_avg_jun\"\n",
    ")\n",
    "\n",
    "df_sep = df_youtube_sep.select(\n",
    "    \"Channel_name_sep\", \"Youtuber_name_sep\", \"Subscribers_sep\", \"Views_avg_sep\"\n",
    ")\n",
    "\n",
    "df_nov = df_youtube_nov.select(\n",
    "    \"Channel_name_nov\", \"Youtuber_name_nov\", \"Subscribers_nov\", \"Views_avg_nov\"\n",
    ")\n",
    "\n",
    "df_dic = df_youtube_dic.select(\n",
    "    \"Channel_name_dic\", \"Youtuber_name_dic\", \"Subscribers_dic\", \"Views_avg_dic\"\n",
    ")"
   ]
  },
  {
   "cell_type": "code",
   "execution_count": 78,
   "id": "938fb2bb",
   "metadata": {},
   "outputs": [
    {
     "name": "stdout",
     "output_type": "stream",
     "text": [
      "+--------------------+--------------------+---------------+-------------+\n",
      "|        Channel_name|       Youtuber_name|Subscribers_jun|Views_avg_jun|\n",
      "+--------------------+--------------------+---------------+-------------+\n",
      "|             juptube|  Galinha Pintadinha|       20150883|     20150883|\n",
      "|baby big mouth ki...|Baby Big Mouth Ki...|       47559011|     47559011|\n",
      "|     shfa show india|     shfa show India|        2225335|      2225335|\n",
      "|blippi - educatio...|Blippi - Educatio...|       42738863|     42738863|\n",
      "|      infobellstamil|   infobells - Tamil|       47403732|     47403732|\n",
      "|  diana and roma ara|  Diana and Roma ARA|       45898354|     45898354|\n",
      "|peppalatinoamericano|Peppa Pig Español...|       15243388|     15243388|\n",
      "|fun for kids tv -...|Fun For Kids TV -...|       33830786|     33830786|\n",
      "|    supersimplesongs|Super Simple Song...|        1174862|      1174862|\n",
      "|  diana and roma esp|  Diana and Roma ESP|        6613868|      6613868|\n",
      "|          d billions|          D Billions|       22424007|     22424007|\n",
      "|     goldminesaction|     GoldminesAction|       34000013|     34000013|\n",
      "|         like nastya|         Like Nastya|       48512342|     48512342|\n",
      "|           checkgate|Cocomelon - Nurse...|       23013710|     23013710|\n",
      "|           трум трум|           Трум Трум|       36417826|     36417826|\n",
      "|       dangmattsmith|     Dang Matt Smith|       42667314|     42667314|\n",
      "|      toyoraljanahtv|قناة طيور الجنة |...|       36384344|     36384344|\n",
      "|           teremoktv|          Теремок ТВ|       43691690|     43691690|\n",
      "|          dudupoptoy|          DuDuPopTOY|       12092915|     12092915|\n",
      "|   ✿ kids diana show|   ✿ Kids Diana Show|       23649205|     23649205|\n",
      "+--------------------+--------------------+---------------+-------------+\n",
      "only showing top 20 rows\n",
      "\n"
     ]
    }
   ],
   "source": [
    "df_jun.show()"
   ]
  },
  {
   "cell_type": "code",
   "execution_count": 77,
   "id": "c90cc2da",
   "metadata": {},
   "outputs": [],
   "source": [
    "df_jun = df_jun.withColumnRenamed(\"Channel_name_jun\", \"Channel_name\") \\\n",
    "               .withColumnRenamed(\"Youtuber_name_jun\", \"Youtuber_name\") \\\n",
    "               .withColumnRenamed(\"Subscribers_jun\", \"Subscribers_jun\") \\\n",
    "               .withColumnRenamed(\"Views_avg_jun\", \"Views_avg_jun\")\n",
    "\n",
    "df_sep = df_sep.withColumnRenamed(\"Channel_name_sep\", \"Channel_name\") \\\n",
    "               .withColumnRenamed(\"Youtuber_name_sep\", \"Youtuber_name\") \\\n",
    "               .withColumnRenamed(\"Subscribers_sep\", \"Subscribers_sep\") \\\n",
    "               .withColumnRenamed(\"Views_avg_sep\", \"Views_avg_sep\")\n",
    "\n",
    "df_nov = df_nov.withColumnRenamed(\"Channel_name_nov\", \"Channel_name\") \\\n",
    "               .withColumnRenamed(\"Youtuber_name_nov\", \"Youtuber_name\") \\\n",
    "               .withColumnRenamed(\"Subscribers_nov\", \"Subscribers_nov\") \\\n",
    "               .withColumnRenamed(\"Views_avg_nov\", \"Views_avg_nov\")\n",
    "\n",
    "df_dic = df_dic.withColumnRenamed(\"Channel_name_dic\", \"Channel_name\") \\\n",
    "               .withColumnRenamed(\"Youtuber_name_dic\", \"Youtuber_name\") \\\n",
    "               .withColumnRenamed(\"Subscribers_dic\", \"Subscribers_dic\") \\\n",
    "               .withColumnRenamed(\"Views_avg_dic\", \"Views_avg_dic\")"
   ]
  },
  {
   "cell_type": "code",
   "execution_count": 79,
   "id": "586be0de",
   "metadata": {},
   "outputs": [],
   "source": [
    "df_combined = df_jun.join(df_sep, on=[\"Channel_name\", \"Youtuber_name\"], how=\"outer\") \\\n",
    "                   .join(df_nov, on=[\"Channel_name\", \"Youtuber_name\"], how=\"outer\") \\\n",
    "                   .join(df_dic, on=[\"Channel_name\", \"Youtuber_name\"], how=\"outer\")"
   ]
  },
  {
   "cell_type": "code",
   "execution_count": 80,
   "id": "6309dc40",
   "metadata": {},
   "outputs": [
    {
     "name": "stdout",
     "output_type": "stream",
     "text": [
      "+--------------------+--------------------------+---------------+-------------+---------------+-------------+---------------+-------------+---------------+-------------+\n",
      "|        Channel_name|             Youtuber_name|Subscribers_jun|Views_avg_jun|Subscribers_sep|Views_avg_sep|Subscribers_nov|Views_avg_nov|Subscribers_dic|Views_avg_dic|\n",
      "+--------------------+--------------------------+---------------+-------------+---------------+-------------+---------------+-------------+---------------+-------------+\n",
      "|                NULL|                      NULL|           NULL|         NULL|       23948975|     23948975|           NULL|         NULL|           NULL|         NULL|\n",
      "|     #refugio mental|           #Refugio Mental|        8659618|      8659618|       13800775|     13800775|       39491436|     39491436|       49327512|     49327512|\n",
      "|     #refúgio mental|           #Refúgio Mental|       37966812|     37966812|       18697685|     18697685|        5172010|      5172010|       46142191|     46142191|\n",
      "|             0214mex|はじめしゃちょー（hajime）|        1145108|      1145108|           NULL|         NULL|       40213895|     40213895|       26078864|     26078864|\n",
      "|          1032010814|                      TKOR|       33260733|     33260733|           NULL|         NULL|       29345445|     29345445|        2824471|      2824471|\n",
      "|             123 go!|                   123 GO!|       21618739|     21618739|       24269355|     24269355|       24062658|     24062658|       41820322|     41820322|\n",
      "|       123 go! hindi|             123 GO! Hindi|       48295839|     48295839|        6836164|      6836164|       38267555|     38267555|        8214849|      8214849|\n",
      "|       123 go! hindi|             123 GO! Hindi|       48295839|     48295839|       43021239|     43021239|       38267555|     38267555|        8214849|      8214849|\n",
      "|     123 go! spanish|           123 GO! Spanish|       20417939|     20417939|       24274197|     24274197|        7226216|      7226216|        7377081|      7377081|\n",
      "|1million dance st...|      1MILLION Dance St...|       11200261|     11200261|       25623768|     25623768|       13763550|     13763550|       35594332|     35594332|\n",
      "|    1thek (원더케이)|                   LOENENT|           NULL|         NULL|       13261470|     13261470|           NULL|         NULL|           NULL|         NULL|\n",
      "|         1veritasium|                Veritasium|       31549007|     31549007|           NULL|         NULL|           NULL|         NULL|           NULL|         NULL|\n",
      "|     5-minute crafts|           5-Minute Crafts|       13807219|     13807219|        9190414|      9190414|        6049183|      6049183|       14072891|     14072891|\n",
      "| 5-minute crafts diy|       5-Minute Crafts DIY|       29953422|     29953422|        2695980|      2695980|       26039035|     26039035|       22661568|     22661568|\n",
      "|5-minute crafts f...|      5-Minute Crafts F...|        2702733|      2702733|        6110398|      6110398|       38591054|     38591054|       19416477|     19416477|\n",
      "|5-minute crafts like|      5-Minute Crafts LIKE|       11244497|     11244497|       13904295|     13904295|       12135369|     12135369|        3502409|      3502409|\n",
      "|5-minute crafts play|      5-Minute Crafts PLAY|       25840497|     25840497|        5891919|      5891919|       46952239|     46952239|       45308129|     45308129|\n",
      "|5-minute crafts r...|      5-Minute Crafts R...|       24571705|     24571705|        2514812|      2514812|       32709243|     32709243|       22350432|     22350432|\n",
      "|5-minute crafts t...|      5-Minute Crafts T...|       28418469|     28418469|           NULL|         NULL|           NULL|         NULL|           NULL|         NULL|\n",
      "|    5-minute recipes|          5-Minute Recipes|       47139815|     47139815|       11087610|     11087610|       30517908|     30517908|        1722262|      1722262|\n",
      "+--------------------+--------------------------+---------------+-------------+---------------+-------------+---------------+-------------+---------------+-------------+\n",
      "only showing top 20 rows\n",
      "\n"
     ]
    }
   ],
   "source": [
    "df_combined.show()"
   ]
  },
  {
   "cell_type": "code",
   "execution_count": 82,
   "id": "0ee5431e",
   "metadata": {},
   "outputs": [],
   "source": [
    "# Crecimiento en Subscribers entre junio y septiembre\n",
    "df_combined = df_combined.withColumn(\"growth_subscribers_jun_sep\", \n",
    "                                     (col(\"Subscribers_sep\") - col(\"Subscribers_jun\")) / col(\"Subscribers_jun\") * 100)\n",
    "\n",
    "# Crecimiento en Views_avg entre junio y septiembre\n",
    "df_combined = df_combined.withColumn(\"growth_views_jun_sep\", \n",
    "                                     (col(\"Views_avg_sep\") - col(\"Views_avg_jun\")) / col(\"Views_avg_jun\") * 100)\n",
    "\n",
    "# Crecimiento en Subscribers entre septiembre y noviembre\n",
    "df_combined = df_combined.withColumn(\"growth_subscribers_sep_nov\", \n",
    "                                     (col(\"Subscribers_nov\") - col(\"Subscribers_sep\")) / col(\"Subscribers_sep\") * 100)\n",
    "\n",
    "# Crecimiento en Views_avg entre septiembre y noviembre\n",
    "df_combined = df_combined.withColumn(\"growth_views_sep_nov\", \n",
    "                                     (col(\"Views_avg_nov\") - col(\"Views_avg_sep\")) / col(\"Views_avg_sep\") * 100)\n",
    "\n",
    "# Crecimiento en Subscribers entre noviembre y diciembre\n",
    "df_combined = df_combined.withColumn(\"growth_subscribers_nov_dic\", \n",
    "                                     (col(\"Subscribers_dic\") - col(\"Subscribers_nov\")) / col(\"Subscribers_nov\") * 100)\n",
    "\n",
    "# Crecimiento en Views_avg entre noviembre y diciembre\n",
    "df_combined = df_combined.withColumn(\"growth_views_nov_dic\", \n",
    "                                     (col(\"Views_avg_dic\") - col(\"Views_avg_nov\")) / col(\"Views_avg_nov\") * 100)"
   ]
  },
  {
   "cell_type": "code",
   "execution_count": 83,
   "id": "3d6f6d36",
   "metadata": {},
   "outputs": [],
   "source": [
    "df_combined = df_combined.fillna(0, subset=[\"growth_subscribers_jun_sep\", \"growth_views_jun_sep\",\n",
    "                                            \"growth_subscribers_sep_nov\", \"growth_views_sep_nov\",\n",
    "                                            \"growth_subscribers_nov_dic\", \"growth_views_nov_dic\"])"
   ]
  },
  {
   "cell_type": "code",
   "execution_count": 84,
   "id": "95dd8be2",
   "metadata": {},
   "outputs": [
    {
     "name": "stdout",
     "output_type": "stream",
     "text": [
      "+-----------------------+--------------------------+---------------+-------------+---------------+-------------+---------------+-------------+---------------+-------------+--------------------------+--------------------+--------------------------+--------------------+--------------------------+--------------------+\n",
      "|Channel_name           |Youtuber_name             |Subscribers_jun|Views_avg_jun|Subscribers_sep|Views_avg_sep|Subscribers_nov|Views_avg_nov|Subscribers_dic|Views_avg_dic|growth_subscribers_jun_sep|growth_views_jun_sep|growth_subscribers_sep_nov|growth_views_sep_nov|growth_subscribers_nov_dic|growth_views_nov_dic|\n",
      "+-----------------------+--------------------------+---------------+-------------+---------------+-------------+---------------+-------------+---------------+-------------+--------------------------+--------------------+--------------------------+--------------------+--------------------------+--------------------+\n",
      "|NULL                   |NULL                      |NULL           |NULL         |29305155       |29305155     |NULL           |NULL         |NULL           |NULL         |0.0                       |0.0                 |0.0                       |0.0                 |0.0                       |0.0                 |\n",
      "|#refugio mental        |#Refugio Mental           |26441470       |26441470     |8493818        |8493818      |28892615       |28892615     |4198151        |4198151      |-67.87690699495906        |-67.87690699495906  |240.1605143882292         |240.1605143882292   |-85.46981296085522        |-85.46981296085522  |\n",
      "|#refúgio mental        |#Refúgio Mental           |43124211       |43124211     |3738005        |3738005      |42102378       |42102378     |1133770        |1133770      |-91.33200373219582        |-91.33200373219582  |1026.3328433215045        |1026.3328433215045  |-97.30711172656328        |-97.30711172656328  |\n",
      "|0214mex                |はじめしゃちょー（hajime）|38450551       |38450551     |NULL           |NULL         |39999968       |39999968     |11766655       |11766655     |0.0                       |0.0                 |0.0                       |0.0                 |-70.58333896667118        |-70.58333896667118  |\n",
      "|1032010814             |TKOR                      |16399129       |16399129     |NULL           |NULL         |6552675        |6552675      |16288876       |16288876     |0.0                       |0.0                 |0.0                       |0.0                 |148.58360898411718        |148.58360898411718  |\n",
      "|123 go!                |123 GO!                   |8650335        |8650335      |3014101        |3014101      |45587377       |45587377     |20989419       |20989419     |-65.15625117408747        |-65.15625117408747  |1412.470119614439         |1412.470119614439   |-53.957826966004205       |-53.957826966004205 |\n",
      "|123 go! hindi          |123 GO! Hindi             |47074791       |47074791     |6075434        |6075434      |23493281       |23493281     |4086890        |4086890      |-87.09408184095815        |-87.09408184095815  |286.69304941836253        |286.69304941836253  |-82.60400494932998        |-82.60400494932998  |\n",
      "|123 go! hindi          |123 GO! Hindi             |47074791       |47074791     |27338364       |27338364     |23493281       |23493281     |4086890        |4086890      |-41.92568162437513        |-41.92568162437513  |-14.064788222148186       |-14.064788222148186 |-82.60400494932998        |-82.60400494932998  |\n",
      "|123 go! spanish        |123 GO! Spanish           |10334212       |10334212     |47700684       |47700684     |47739216       |47739216     |7555963        |7555963      |361.58027336772267        |361.58027336772267  |0.08077871587753332       |0.08077871587753332 |-84.17241917001738        |-84.17241917001738  |\n",
      "|1million dance studio  |1MILLION Dance Studio     |11379301       |11379301     |48889735       |48889735     |14420722       |14420722     |36631373       |36631373     |329.6374179749705         |329.6374179749705   |-70.50357912555673        |-70.50357912555673  |154.01899433329345        |154.01899433329345  |\n",
      "|1thek (원더케이)       |LOENENT                   |NULL           |NULL         |11413746       |11413746     |NULL           |NULL         |NULL           |NULL         |0.0                       |0.0                 |0.0                       |0.0                 |0.0                       |0.0                 |\n",
      "|1veritasium            |Veritasium                |32729368       |32729368     |NULL           |NULL         |NULL           |NULL         |NULL           |NULL         |0.0                       |0.0                 |0.0                       |0.0                 |0.0                       |0.0                 |\n",
      "|5-minute crafts        |5-Minute Crafts           |46979837       |46979837     |20923396       |20923396     |31999705       |31999705     |46360892       |46360892     |-55.46302981000125        |-55.46302981000125  |52.93743424824536         |52.93743424824536   |44.87912310441612         |44.87912310441612   |\n",
      "|5-minute crafts diy    |5-Minute Crafts DIY       |17848610       |17848610     |48566240       |48566240     |12896324       |12896324     |20916546       |20916546     |172.1009647249842         |172.1009647249842   |-73.44590810406571        |-73.44590810406571  |62.18998530123778         |62.18998530123778   |\n",
      "|5-minute crafts family |5-Minute Crafts FAMILY    |17899918       |17899918     |47404509       |47404509     |32643336       |32643336     |41168948       |41168948     |164.8308724095831         |164.8308724095831   |-31.13875306671777        |-31.13875306671777  |26.11746544532091         |26.11746544532091   |\n",
      "|5-minute crafts like   |5-Minute Crafts LIKE      |28014877       |28014877     |35403684       |35403684     |21479272       |21479272     |6802242        |6802242      |26.374583047428697        |26.374583047428697  |-39.33040414664191        |-39.33040414664191  |-68.33113338291912        |-68.33113338291912  |\n",
      "|5-minute crafts play   |5-Minute Crafts PLAY      |4408870        |4408870      |29800158       |29800158     |28275148       |28275148     |4148695        |4148695      |575.9137375336538         |575.9137375336538   |-5.117456088655637        |-5.117456088655637  |-85.32741543916941        |-85.32741543916941  |\n",
      "|5-minute crafts recycle|5-Minute Crafts Recycle   |32673410       |32673410     |36199262       |36199262     |32887598       |32887598     |41087149       |41087149     |10.791196878440298        |10.791196878440298  |-9.148429600581359        |-9.148429600581359  |24.93204581252787         |24.93204581252787   |\n",
      "|5-minute crafts teens  |5-Minute Crafts TEENS     |19718598       |19718598     |NULL           |NULL         |NULL           |NULL         |NULL           |NULL         |0.0                       |0.0                 |0.0                       |0.0                 |0.0                       |0.0                 |\n",
      "|5-minute recipes       |5-Minute Recipes          |2720725        |2720725      |10754884       |10754884     |36370257       |36370257     |22280041       |22280041     |295.29478355952915        |295.29478355952915  |238.17433084354977        |238.17433084354977  |-38.741040515605924       |-38.741040515605924 |\n",
      "+-----------------------+--------------------------+---------------+-------------+---------------+-------------+---------------+-------------+---------------+-------------+--------------------------+--------------------+--------------------------+--------------------+--------------------------+--------------------+\n",
      "only showing top 20 rows\n",
      "\n"
     ]
    }
   ],
   "source": [
    "df_combined.show(truncate=False)"
   ]
  },
  {
   "cell_type": "code",
   "execution_count": 85,
   "id": "c3703223",
   "metadata": {},
   "outputs": [],
   "source": [
    "\n",
    "# Calcular el crecimiento promedio de Subscribers entre los meses\n",
    "df_combined = df_combined.withColumn(\n",
    "    \"growth_subscribers_total\",\n",
    "    (col(\"growth_subscribers_jun_sep\") + col(\"growth_subscribers_sep_nov\") + col(\"growth_subscribers_nov_dic\")) / 3\n",
    ")\n",
    "\n",
    "# Calcular el crecimiento promedio de Views_avg entre los meses\n",
    "df_combined = df_combined.withColumn(\n",
    "    \"growth_views_total\",\n",
    "    (col(\"growth_views_jun_sep\") + col(\"growth_views_sep_nov\") + col(\"growth_views_nov_dic\")) / 3\n",
    ")\n",
    "\n",
    "# Calcular el crecimiento total combinado, ponderando igual entre Subscribers y Views_avg\n",
    "df_combined = df_combined.withColumn(\n",
    "    \"growth_total\",\n",
    "    (col(\"growth_subscribers_total\") + col(\"growth_views_total\")) / 2\n",
    ")"
   ]
  },
  {
   "cell_type": "code",
   "execution_count": 86,
   "id": "b5b56e6a",
   "metadata": {},
   "outputs": [],
   "source": [
    "# Ordenar por el crecimiento total y seleccionar el top 10\n",
    "df_top_10 = df_combined.orderBy(col(\"growth_total\").desc()).limit(10)"
   ]
  },
  {
   "cell_type": "code",
   "execution_count": 87,
   "id": "78a48554",
   "metadata": {},
   "outputs": [
    {
     "name": "stdout",
     "output_type": "stream",
     "text": [
      "+-------------------------+-------------------------+------------------+\n",
      "|Channel_name             |Youtuber_name            |growth_total      |\n",
      "+-------------------------+-------------------------+------------------+\n",
      "|5-minute crafts          |5-Minute Crafts          |1777.4974514442147|\n",
      "|antrax                   |Antrax                   |1726.3457718606085|\n",
      "|kompastvnews             |KOMPASTV                 |1444.6943092399167|\n",
      "|wiederdude               |WiederDude               |1444.219759630622 |\n",
      "|zach choi asmr           |Zach Choi ASMR           |1218.8354007872351|\n",
      "|vlad and niki esp        |Vlad and Niki ESP        |1174.8986660380235|\n",
      "|heidi y zidane en español|Heidi y Zidane en español|1138.7132540141833|\n",
      "|oum walid                |Oum Walid                |1098.5893670226699|\n",
      "|caso cerrado             |Caso Cerrado             |956.5576302236442 |\n",
      "|dyland pros              |Dyland PROS              |922.0356637917907 |\n",
      "+-------------------------+-------------------------+------------------+\n",
      "\n"
     ]
    }
   ],
   "source": [
    "df_top_10.select(\"Channel_name\", \"Youtuber_name\", \"growth_total\").show(truncate=False)"
   ]
  },
  {
   "cell_type": "code",
   "execution_count": 88,
   "id": "cfc9b7a8",
   "metadata": {},
   "outputs": [],
   "source": [
    "# Crecimiento porcentual de Subscribers entre los meses\n",
    "df_combined = df_combined.withColumn(\n",
    "    \"growth_subscribers_jun_sep\",\n",
    "    ((col(\"Subscribers_sep\") - col(\"Subscribers_jun\")) / col(\"Subscribers_jun\")) * 100\n",
    ")\n",
    "\n",
    "df_combined = df_combined.withColumn(\n",
    "    \"growth_subscribers_sep_nov\",\n",
    "    ((col(\"Subscribers_nov\") - col(\"Subscribers_sep\")) / col(\"Subscribers_sep\")) * 100\n",
    ")\n",
    "\n",
    "df_combined = df_combined.withColumn(\n",
    "    \"growth_subscribers_nov_dic\",\n",
    "    ((col(\"Subscribers_dic\") - col(\"Subscribers_nov\")) / col(\"Subscribers_nov\")) * 100\n",
    ")\n",
    "\n",
    "# Crecimiento porcentual de Views_avg entre los meses\n",
    "df_combined = df_combined.withColumn(\n",
    "    \"growth_views_jun_sep\",\n",
    "    ((col(\"Views_avg_sep\") - col(\"Views_avg_jun\")) / col(\"Views_avg_jun\")) * 100\n",
    ")\n",
    "\n",
    "df_combined = df_combined.withColumn(\n",
    "    \"growth_views_sep_nov\",\n",
    "    ((col(\"Views_avg_nov\") - col(\"Views_avg_sep\")) / col(\"Views_avg_sep\")) * 100\n",
    ")\n",
    "\n",
    "df_combined = df_combined.withColumn(\n",
    "    \"growth_views_nov_dic\",\n",
    "    ((col(\"Views_avg_dic\") - col(\"Views_avg_nov\")) / col(\"Views_avg_nov\")) * 100\n",
    ")"
   ]
  },
  {
   "cell_type": "code",
   "execution_count": 89,
   "id": "24534ae5",
   "metadata": {},
   "outputs": [],
   "source": [
    "# Promedio del crecimiento porcentual de Subscribers\n",
    "df_combined = df_combined.withColumn(\n",
    "    \"growth_subscribers_total\",\n",
    "    (col(\"growth_subscribers_jun_sep\") + col(\"growth_subscribers_sep_nov\") + col(\"growth_subscribers_nov_dic\")) / 3\n",
    ")\n",
    "\n",
    "# Promedio del crecimiento porcentual de Views_avg\n",
    "df_combined = df_combined.withColumn(\n",
    "    \"growth_views_total\",\n",
    "    (col(\"growth_views_jun_sep\") + col(\"growth_views_sep_nov\") + col(\"growth_views_nov_dic\")) / 3\n",
    ")\n",
    "\n",
    "# Crecimiento porcentual total combinado\n",
    "df_combined = df_combined.withColumn(\n",
    "    \"growth_total\",\n",
    "    (col(\"growth_subscribers_total\") + col(\"growth_views_total\")) / 2\n",
    ")"
   ]
  },
  {
   "cell_type": "code",
   "execution_count": 93,
   "id": "4f6f30fe",
   "metadata": {},
   "outputs": [
    {
     "name": "stdout",
     "output_type": "stream",
     "text": [
      "+-----------------------------------------------+-----------------------------------------------+------------------+------------------+\n",
      "|Channel_name                                   |Youtuber_name                                  |growth_total      |growth_views_total|\n",
      "+-----------------------------------------------+-----------------------------------------------+------------------+------------------+\n",
      "|kids tv - nursery rhymes and baby songs        |Kids TV - Nursery Rhymes And Baby Songs        |1239.9121267760468|1239.9121267760468|\n",
      "|hasanjr11                                      |hasanjr11                                      |1188.5757529660323|1188.5757529660323|\n",
      "|playstation                                    |PlayStation                                    |1157.7188848153767|1157.7188848153767|\n",
      "|lulu99                                         |Lulu99                                         |1131.8284696885378|1131.8284696885378|\n",
      "|#refúgio mental                                |#Refúgio Mental                                |1114.9600458494374|1114.9600458494374|\n",
      "|nba                                            |NBA                                            |1067.1867059411547|1067.1867059411547|\n",
      "|sssniperwolf                                   |SSSniperWolf                                   |931.867543019613  |931.867543019613  |\n",
      "|حقائق وأسرار                                   |حقائق وأسرار                                   |865.8118492289822 |865.8118492289822 |\n",
      "|jugnu kids - nursery rhymes and best baby songs|Jugnu Kids - Nursery Rhymes and Best Baby Songs|861.3278741857513 |861.3278741857513 |\n",
      "|vlad and niki esp                              |Vlad and Niki ESP                              |807.2015578517312 |807.2015578517312 |\n",
      "+-----------------------------------------------+-----------------------------------------------+------------------+------------------+\n",
      "\n"
     ]
    }
   ],
   "source": [
    "# Ordenar por el crecimiento total y seleccionar el top 10\n",
    "df_top_10 = df_combined.orderBy(col(\"growth_total\").desc()).limit(10)\n",
    "\n",
    "# Mostrar el resultado\n",
    "df_top_10.select(\"Channel_name\", \"Youtuber_name\", \"growth_total\", \"growth_views_total\").show(truncate=False)"
   ]
  },
  {
   "cell_type": "code",
   "execution_count": null,
   "id": "764c69a6",
   "metadata": {},
   "outputs": [],
   "source": []
  }
 ],
 "metadata": {
  "kernelspec": {
   "display_name": "Python 3.8.13 ('pyspark_env')",
   "language": "python",
   "name": "python3"
  },
  "language_info": {
   "codemirror_mode": {
    "name": "ipython",
    "version": 3
   },
   "file_extension": ".py",
   "mimetype": "text/x-python",
   "name": "python",
   "nbconvert_exporter": "python",
   "pygments_lexer": "ipython3",
   "version": "3.10.16"
  },
  "vscode": {
   "interpreter": {
    "hash": "3a3a425e162f4862738cbecfd5f787bbbf005b9ca551466c5a6c30f0a4f3fc04"
   }
  }
 },
 "nbformat": 4,
 "nbformat_minor": 5
}
