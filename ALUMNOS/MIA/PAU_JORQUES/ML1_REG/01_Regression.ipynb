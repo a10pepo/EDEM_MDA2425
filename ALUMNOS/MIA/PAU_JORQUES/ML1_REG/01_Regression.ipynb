{
 "cells": [
  {
   "cell_type": "markdown",
   "metadata": {},
   "source": [
    "# Problema\n",
    "\n",
    "Predecir el coste del seguro"
   ]
  },
  {
   "cell_type": "markdown",
   "metadata": {
    "id": "XpPr25I0aINE"
   },
   "source": [
    "## Instrucciones\n",
    "\n",
    " Utilizar el dataset (insurance.csv) para entrenar un modelo de regresión capaz de predecir el valor del seguro en función de las características del cliente. Realizar limpieza, preprocesado modelado y testeo del modelo aportando conclusiones de todos estos pasos."
   ]
  },
  {
   "cell_type": "markdown",
   "metadata": {
    "id": "kNF4GgV_n34K"
   },
   "source": [
    "# El set de datos\n",
    "\n",
    "* age: age of primary beneficiary\n",
    "\n",
    "* sex: insurance contractor gender, female, male\n",
    "\n",
    "* bmi: Body mass index, providing an understanding of body, weights that are relatively high or low relative to height,\n",
    "objective index of body weight (kg / m ^ 2) using the ratio of height to weight, ideally 18.5 to 24.9\n",
    "\n",
    "* children: Number of children covered by health insurance / Number of dependents\n",
    "\n",
    "* smoker: Smoking\n",
    "\n",
    "* region: the beneficiary's residential area in the US, northeast, southeast, southwest, northwest.\n",
    "\n",
    "* charges: Individual medical costs billed by health insurance\n",
    "\n"
   ]
  },
  {
   "cell_type": "code",
   "execution_count": 65,
   "metadata": {
    "id": "LDnXEh9vn2GX"
   },
   "outputs": [],
   "source": [
    "# imports\n",
    "import pandas as pd\n",
    "import matplotlib.pyplot as plt\n",
    "import seaborn as sns\n",
    "import numpy as np"
   ]
  },
  {
   "cell_type": "code",
   "execution_count": 66,
   "metadata": {
    "id": "uZkDH4HMoERG"
   },
   "outputs": [],
   "source": [
    "ruta = \"insurance.csv\"\n",
    "data = pd.read_csv(ruta)"
   ]
  },
  {
   "cell_type": "code",
   "execution_count": 67,
   "metadata": {
    "id": "2C6TxrrjoLca"
   },
   "outputs": [
    {
     "name": "stdout",
     "output_type": "stream",
     "text": [
      "(1338, 7)\n"
     ]
    },
    {
     "data": {
      "text/html": [
       "<div>\n",
       "<style scoped>\n",
       "    .dataframe tbody tr th:only-of-type {\n",
       "        vertical-align: middle;\n",
       "    }\n",
       "\n",
       "    .dataframe tbody tr th {\n",
       "        vertical-align: top;\n",
       "    }\n",
       "\n",
       "    .dataframe thead th {\n",
       "        text-align: right;\n",
       "    }\n",
       "</style>\n",
       "<table border=\"1\" class=\"dataframe\">\n",
       "  <thead>\n",
       "    <tr style=\"text-align: right;\">\n",
       "      <th></th>\n",
       "      <th>age</th>\n",
       "      <th>sex</th>\n",
       "      <th>bmi</th>\n",
       "      <th>children</th>\n",
       "      <th>smoker</th>\n",
       "      <th>region</th>\n",
       "      <th>charges</th>\n",
       "    </tr>\n",
       "  </thead>\n",
       "  <tbody>\n",
       "    <tr>\n",
       "      <th>0</th>\n",
       "      <td>19</td>\n",
       "      <td>female</td>\n",
       "      <td>27.900</td>\n",
       "      <td>0</td>\n",
       "      <td>yes</td>\n",
       "      <td>southwest</td>\n",
       "      <td>16884.92400</td>\n",
       "    </tr>\n",
       "    <tr>\n",
       "      <th>1</th>\n",
       "      <td>18</td>\n",
       "      <td>male</td>\n",
       "      <td>33.770</td>\n",
       "      <td>1</td>\n",
       "      <td>no</td>\n",
       "      <td>southeast</td>\n",
       "      <td>1725.55230</td>\n",
       "    </tr>\n",
       "    <tr>\n",
       "      <th>2</th>\n",
       "      <td>28</td>\n",
       "      <td>male</td>\n",
       "      <td>33.000</td>\n",
       "      <td>3</td>\n",
       "      <td>no</td>\n",
       "      <td>southeast</td>\n",
       "      <td>4449.46200</td>\n",
       "    </tr>\n",
       "    <tr>\n",
       "      <th>3</th>\n",
       "      <td>33</td>\n",
       "      <td>male</td>\n",
       "      <td>22.705</td>\n",
       "      <td>0</td>\n",
       "      <td>no</td>\n",
       "      <td>northwest</td>\n",
       "      <td>21984.47061</td>\n",
       "    </tr>\n",
       "    <tr>\n",
       "      <th>4</th>\n",
       "      <td>32</td>\n",
       "      <td>male</td>\n",
       "      <td>28.880</td>\n",
       "      <td>0</td>\n",
       "      <td>no</td>\n",
       "      <td>northwest</td>\n",
       "      <td>3866.85520</td>\n",
       "    </tr>\n",
       "  </tbody>\n",
       "</table>\n",
       "</div>"
      ],
      "text/plain": [
       "   age     sex     bmi  children smoker     region      charges\n",
       "0   19  female  27.900         0    yes  southwest  16884.92400\n",
       "1   18    male  33.770         1     no  southeast   1725.55230\n",
       "2   28    male  33.000         3     no  southeast   4449.46200\n",
       "3   33    male  22.705         0     no  northwest  21984.47061\n",
       "4   32    male  28.880         0     no  northwest   3866.85520"
      ]
     },
     "execution_count": 67,
     "metadata": {},
     "output_type": "execute_result"
    }
   ],
   "source": [
    "print(data.shape)\n",
    "data.head()"
   ]
  },
  {
   "cell_type": "markdown",
   "metadata": {
    "id": "suOncPeIo2Ln"
   },
   "source": [
    "# Objetivo\n",
    "\n",
    "Generar un model de regresión capaz de predecir el valor del seguro en base a las características del cliente.\n",
    "\n",
    "* Aplicar las técnicas oportunas de procesamiento de datos (lipieza, nans, escalado...)\n",
    "\n",
    "* Valorar diferentes modelos de regresión (linear regressor, polynomial, ridge, lasso, elastic, decission tree y random forest)\n",
    "\n",
    "* Comparación entre modelos (dividir el dataset en train y test, entrenar con el train y evaluar con el test)\n",
    "\n",
    "* Métricas (todas, y que aporta cada una)\n",
    "\n",
    "* Conclusiones finales"
   ]
  },
  {
   "cell_type": "markdown",
   "metadata": {
    "id": "Ee-3csHRJxqW"
   },
   "source": [
    "## Implementación"
   ]
  },
  {
   "cell_type": "markdown",
   "metadata": {},
   "source": [
    "Primero de todo veamos la cantidad de datos faltantes que hay en el dataset"
   ]
  },
  {
   "cell_type": "code",
   "execution_count": 68,
   "metadata": {},
   "outputs": [
    {
     "name": "stdout",
     "output_type": "stream",
     "text": [
      "<class 'pandas.core.frame.DataFrame'>\n",
      "RangeIndex: 1338 entries, 0 to 1337\n",
      "Data columns (total 7 columns):\n",
      " #   Column    Non-Null Count  Dtype  \n",
      "---  ------    --------------  -----  \n",
      " 0   age       1338 non-null   int64  \n",
      " 1   sex       1338 non-null   object \n",
      " 2   bmi       1338 non-null   float64\n",
      " 3   children  1338 non-null   int64  \n",
      " 4   smoker    1338 non-null   object \n",
      " 5   region    1338 non-null   object \n",
      " 6   charges   1338 non-null   float64\n",
      "dtypes: float64(2), int64(2), object(3)\n",
      "memory usage: 73.3+ KB\n"
     ]
    }
   ],
   "source": [
    "data.info()"
   ]
  },
  {
   "cell_type": "code",
   "execution_count": 69,
   "metadata": {
    "id": "oGEq8EGTpp7g"
   },
   "outputs": [
    {
     "data": {
      "text/plain": [
       "(age         0\n",
       " sex         0\n",
       " bmi         0\n",
       " children    0\n",
       " smoker      0\n",
       " region      0\n",
       " charges     0\n",
       " dtype: int64,\n",
       " age         1338\n",
       " sex         1338\n",
       " bmi         1338\n",
       " children    1338\n",
       " smoker      1338\n",
       " region      1338\n",
       " charges     1338\n",
       " dtype: int64)"
      ]
     },
     "execution_count": 69,
     "metadata": {},
     "output_type": "execute_result"
    }
   ],
   "source": [
    "numerical_cols = [\"age\", \"bmi\", \"children\", \"charges\"]\n",
    "\n",
    "data.isnull().sum(), data.count()"
   ]
  },
  {
   "cell_type": "markdown",
   "metadata": {},
   "source": [
    "En cuanto a los numericos no hay datos faltantes. Veamos los categoricos:"
   ]
  },
  {
   "cell_type": "code",
   "execution_count": 70,
   "metadata": {},
   "outputs": [
    {
     "name": "stdout",
     "output_type": "stream",
     "text": [
      "{'male', 'female'}\n",
      "{'yes', 'no'}\n",
      "{'northwest', 'northeast', 'southeast', 'southwest'}\n"
     ]
    }
   ],
   "source": [
    "categorical_columns = [\"sex\", \"smoker\", \"region\"]\n",
    "\n",
    "for col in categorical_columns:\n",
    "    print(set(data[col]))"
   ]
  },
  {
   "cell_type": "markdown",
   "metadata": {},
   "source": [
    "Ahora hagamos un analisis de los datos, para poder ver la distribucion, las correlaciones...\n",
    "\n",
    "### AGE"
   ]
  },
  {
   "cell_type": "code",
   "execution_count": 71,
   "metadata": {},
   "outputs": [
    {
     "data": {
      "text/plain": [
       "{'whiskers': [<matplotlib.lines.Line2D at 0x18cb1d8b1d0>,\n",
       "  <matplotlib.lines.Line2D at 0x18cb1d8b320>],\n",
       " 'caps': [<matplotlib.lines.Line2D at 0x18cb1d8b740>,\n",
       "  <matplotlib.lines.Line2D at 0x18cb1d89910>],\n",
       " 'boxes': [<matplotlib.lines.Line2D at 0x18cb1d8b020>],\n",
       " 'medians': [<matplotlib.lines.Line2D at 0x18cb1d89c40>],\n",
       " 'fliers': [<matplotlib.lines.Line2D at 0x18cb1d89ee0>],\n",
       " 'means': []}"
      ]
     },
     "execution_count": 71,
     "metadata": {},
     "output_type": "execute_result"
    },
    {
     "data": {
      "image/png": "[encoded data removed]",
      "text/plain": [
       "<Figure size 640x480 with 1 Axes>"
      ]
     },
     "metadata": {},
     "output_type": "display_data"
    }
   ],
   "source": [
    "plt.boxplot(data[\"age\"])"
   ]
  },
  {
   "cell_type": "markdown",
   "metadata": {},
   "source": [
    "### SEX"
   ]
  },
  {
   "cell_type": "code",
   "execution_count": 72,
   "metadata": {},
   "outputs": [
    {
     "data": {
      "text/plain": [
       "<Axes: xlabel='count', ylabel='sex'>"
      ]
     },
     "execution_count": 72,
     "metadata": {},
     "output_type": "execute_result"
    },
    {
     "data": {
      "image/png": "[encoded data removed]",
      "text/plain": [
       "<Figure size 640x480 with 1 Axes>"
      ]
     },
     "metadata": {},
     "output_type": "display_data"
    }
   ],
   "source": [
    "sns.countplot(data[\"sex\"])"
   ]
  },
  {
   "cell_type": "markdown",
   "metadata": {},
   "source": [
    "No estan desbalanceadas las clases, lo cual es muy positivo para el modelo.\n",
    "\n",
    "### BMI"
   ]
  },
  {
   "cell_type": "code",
   "execution_count": 73,
   "metadata": {},
   "outputs": [
    {
     "data": {
      "text/plain": [
       "<Axes: ylabel='bmi'>"
      ]
     },
     "execution_count": 73,
     "metadata": {},
     "output_type": "execute_result"
    },
    {
     "data": {
      "image/png": "[encoded data removed]",
      "text/plain": [
       "<Figure size 640x480 with 1 Axes>"
      ]
     },
     "metadata": {},
     "output_type": "display_data"
    }
   ],
   "source": [
    "sns.boxplot(data[\"bmi\"])"
   ]
  },
  {
   "cell_type": "markdown",
   "metadata": {},
   "source": [
    "Vemos que hay algunos outliers, vamos a ver cuantos hay y que hacemos con ello."
   ]
  },
  {
   "cell_type": "code",
   "execution_count": 74,
   "metadata": {},
   "outputs": [
    {
     "name": "stdout",
     "output_type": "stream",
     "text": [
      "Q1: 26.29625, Q3: 34.69375, IQR: 8.3975\n",
      "Límite inferior: 13.7, Límite superior: 47.290000000000006\n",
      "Número de outliers: 9\n",
      "Outliers encontrados:\n",
      "      age     sex    bmi  children smoker     region      charges\n",
      "116    58    male  49.06         0     no  southeast  11381.32540\n",
      "286    46  female  48.07         2     no  northeast   9432.92530\n",
      "401    47    male  47.52         1     no  southeast   8083.91980\n",
      "543    54  female  47.41         0    yes  southeast  63770.42801\n",
      "847    23    male  50.38         1     no  southeast   2438.05520\n",
      "860    37  female  47.60         2    yes  southwest  46113.51100\n",
      "1047   22    male  52.58         1    yes  southeast  44501.39820\n",
      "1088   52    male  47.74         1     no  southeast   9748.91060\n",
      "1317   18    male  53.13         0     no  southeast   1163.46270\n"
     ]
    }
   ],
   "source": [
    "# Calcular Q1, Q3 y IQR\n",
    "Q1 = data['bmi'].quantile(0.25)\n",
    "Q3 = data['bmi'].quantile(0.75)\n",
    "IQR = Q3 - Q1\n",
    "\n",
    "# Límite inferior y superior\n",
    "lower_bound = Q1 - 1.5 * IQR\n",
    "upper_bound = Q3 + 1.5 * IQR\n",
    "\n",
    "# Filtrar outliers\n",
    "outliers = data[(data['bmi'] < lower_bound) | (data['bmi'] > upper_bound)]\n",
    "\n",
    "# Mostrar resultados\n",
    "print(f\"Q1: {Q1}, Q3: {Q3}, IQR: {IQR}\")\n",
    "print(f\"Límite inferior: {lower_bound}, Límite superior: {upper_bound}\")\n",
    "print(f\"Número de outliers: {len(outliers)}\")\n",
    "print(\"Outliers encontrados:\")\n",
    "print(outliers)\n"
   ]
  },
  {
   "cell_type": "markdown",
   "metadata": {},
   "source": [
    "Como hay solo 9 outliers de los más de 1300 datos que tenmos y no se van mucho, es decir, que no son errores, vamos a clipearlos. Otra opción sería eliminarlos."
   ]
  },
  {
   "cell_type": "code",
   "execution_count": 75,
   "metadata": {},
   "outputs": [
    {
     "name": "stdout",
     "output_type": "stream",
     "text": [
      "Q1: 26.29625, Q3: 34.69375, IQR: 8.3975\n",
      "Límite inferior: 13.7, Límite superior: 47.290000000000006\n",
      "Número de outliers: 0\n",
      "Outliers encontrados:\n",
      "Empty DataFrame\n",
      "Columns: [age, sex, bmi, children, smoker, region, charges]\n",
      "Index: []\n"
     ]
    }
   ],
   "source": [
    "# Clipear los datos\n",
    "data['bmi'] = data['bmi'].clip(lower=lower_bound, upper=upper_bound)\n",
    "\n",
    "outliers = data[(data['bmi'] < lower_bound) | (data['bmi'] > upper_bound)]\n",
    "\n",
    "# Mostrar resultados\n",
    "print(f\"Q1: {Q1}, Q3: {Q3}, IQR: {IQR}\")\n",
    "print(f\"Límite inferior: {lower_bound}, Límite superior: {upper_bound}\")\n",
    "print(f\"Número de outliers: {len(outliers)}\")\n",
    "print(\"Outliers encontrados:\")\n",
    "print(outliers)"
   ]
  },
  {
   "cell_type": "markdown",
   "metadata": {},
   "source": [
    "### CHILDREN"
   ]
  },
  {
   "cell_type": "code",
   "execution_count": 76,
   "metadata": {},
   "outputs": [
    {
     "data": {
      "text/plain": [
       "<Axes: ylabel='children'>"
      ]
     },
     "execution_count": 76,
     "metadata": {},
     "output_type": "execute_result"
    },
    {
     "data": {
      "image/png": "[encoded data removed]",
      "text/plain": [
       "<Figure size 640x480 with 1 Axes>"
      ]
     },
     "metadata": {},
     "output_type": "display_data"
    }
   ],
   "source": [
    "sns.boxplot(data[\"children\"])"
   ]
  },
  {
   "cell_type": "markdown",
   "metadata": {},
   "source": [
    "### SMOKER"
   ]
  },
  {
   "cell_type": "code",
   "execution_count": 77,
   "metadata": {},
   "outputs": [
    {
     "data": {
      "text/plain": [
       "<Axes: xlabel='count', ylabel='smoker'>"
      ]
     },
     "execution_count": 77,
     "metadata": {},
     "output_type": "execute_result"
    },
    {
     "data": {
      "image/png": "[encoded data removed]",
      "text/plain": [
       "<Figure size 640x480 with 1 Axes>"
      ]
     },
     "metadata": {},
     "output_type": "display_data"
    }
   ],
   "source": [
    "sns.countplot(data[\"smoker\"])"
   ]
  },
  {
   "cell_type": "markdown",
   "metadata": {},
   "source": [
    "Esta bastante desbalanceada y es normal, ya que habrá más gente no fumadora que sí. De momento no realizaremos nada de balanceo pero podriamos balanceando ya sea, quitando datos de los no fumadores o añadiendo datos inventados de los de si."
   ]
  },
  {
   "cell_type": "markdown",
   "metadata": {},
   "source": [
    "### REGION"
   ]
  },
  {
   "cell_type": "code",
   "execution_count": 78,
   "metadata": {},
   "outputs": [
    {
     "data": {
      "text/plain": [
       "<Axes: xlabel='count', ylabel='region'>"
      ]
     },
     "execution_count": 78,
     "metadata": {},
     "output_type": "execute_result"
    },
    {
     "data": {
      "image/png": "[encoded data removed]",
      "text/plain": [
       "<Figure size 640x480 with 1 Axes>"
      ]
     },
     "metadata": {},
     "output_type": "display_data"
    }
   ],
   "source": [
    "sns.countplot(data[\"region\"])"
   ]
  },
  {
   "cell_type": "markdown",
   "metadata": {},
   "source": [
    "La región tambien esta muy balanceado.\n",
    "\n",
    "Ahora veamos las correlaciones que hay respecto al target. Para ello vamos a convertir las categoricas."
   ]
  },
  {
   "cell_type": "code",
   "execution_count": 79,
   "metadata": {},
   "outputs": [
    {
     "name": "stdout",
     "output_type": "stream",
     "text": [
      "   age  sex     bmi  children  smoker  region      charges\n",
      "0   19    0  27.900         0       1       3  16884.92400\n",
      "1   18    1  33.770         1       0       2   1725.55230\n",
      "2   28    1  33.000         3       0       2   4449.46200\n",
      "3   33    1  22.705         0       0       1  21984.47061\n",
      "4   32    1  28.880         0       0       1   3866.85520\n"
     ]
    }
   ],
   "source": [
    "from sklearn.preprocessing import LabelEncoder\n",
    "\n",
    "# Convertir con LabelEncoder\n",
    "encoder = LabelEncoder()\n",
    "\n",
    "for col in categorical_columns:\n",
    "    data[col] = encoder.fit_transform(data[col])\n",
    "\n",
    "print(data.head())\n"
   ]
  },
  {
   "cell_type": "code",
   "execution_count": 80,
   "metadata": {},
   "outputs": [
    {
     "data": {
      "image/png": "[encoded data removed]",
      "text/plain": [
       "<Figure size 800x600 with 2 Axes>"
      ]
     },
     "metadata": {},
     "output_type": "display_data"
    }
   ],
   "source": [
    "correlation_matrix = data.corr()\n",
    "\n",
    "# Crear el heatmap\n",
    "plt.figure(figsize=(8, 6))\n",
    "sns.heatmap(correlation_matrix, annot=True, cmap='coolwarm', fmt=\".2f\", cbar=True)\n",
    "plt.title('Heatmap de Correlaciones')\n",
    "plt.show()"
   ]
  },
  {
   "cell_type": "markdown",
   "metadata": {},
   "source": [
    "Tiene sentido que las dos que más correlacion tengan sean las columnas \"smoker\", \"age\" y \"bmi\". Y las que menos las columnas \"region\", \"sex\" y \"children\".\n",
    "\n",
    "Como la region considero que es algo que no es relevante y además la grafica me refuerza esta idea, prodecemos a eliminarla para quitarle ruido al modelo. En un futuro podemos añadirla para ver como afectaria."
   ]
  },
  {
   "cell_type": "code",
   "execution_count": 81,
   "metadata": {},
   "outputs": [
    {
     "data": {
      "text/html": [
       "<div>\n",
       "<style scoped>\n",
       "    .dataframe tbody tr th:only-of-type {\n",
       "        vertical-align: middle;\n",
       "    }\n",
       "\n",
       "    .dataframe tbody tr th {\n",
       "        vertical-align: top;\n",
       "    }\n",
       "\n",
       "    .dataframe thead th {\n",
       "        text-align: right;\n",
       "    }\n",
       "</style>\n",
       "<table border=\"1\" class=\"dataframe\">\n",
       "  <thead>\n",
       "    <tr style=\"text-align: right;\">\n",
       "      <th></th>\n",
       "      <th>age</th>\n",
       "      <th>sex</th>\n",
       "      <th>bmi</th>\n",
       "      <th>children</th>\n",
       "      <th>smoker</th>\n",
       "      <th>charges</th>\n",
       "    </tr>\n",
       "  </thead>\n",
       "  <tbody>\n",
       "    <tr>\n",
       "      <th>0</th>\n",
       "      <td>19</td>\n",
       "      <td>0</td>\n",
       "      <td>27.900</td>\n",
       "      <td>0</td>\n",
       "      <td>1</td>\n",
       "      <td>16884.92400</td>\n",
       "    </tr>\n",
       "    <tr>\n",
       "      <th>1</th>\n",
       "      <td>18</td>\n",
       "      <td>1</td>\n",
       "      <td>33.770</td>\n",
       "      <td>1</td>\n",
       "      <td>0</td>\n",
       "      <td>1725.55230</td>\n",
       "    </tr>\n",
       "    <tr>\n",
       "      <th>2</th>\n",
       "      <td>28</td>\n",
       "      <td>1</td>\n",
       "      <td>33.000</td>\n",
       "      <td>3</td>\n",
       "      <td>0</td>\n",
       "      <td>4449.46200</td>\n",
       "    </tr>\n",
       "    <tr>\n",
       "      <th>3</th>\n",
       "      <td>33</td>\n",
       "      <td>1</td>\n",
       "      <td>22.705</td>\n",
       "      <td>0</td>\n",
       "      <td>0</td>\n",
       "      <td>21984.47061</td>\n",
       "    </tr>\n",
       "    <tr>\n",
       "      <th>4</th>\n",
       "      <td>32</td>\n",
       "      <td>1</td>\n",
       "      <td>28.880</td>\n",
       "      <td>0</td>\n",
       "      <td>0</td>\n",
       "      <td>3866.85520</td>\n",
       "    </tr>\n",
       "  </tbody>\n",
       "</table>\n",
       "</div>"
      ],
      "text/plain": [
       "   age  sex     bmi  children  smoker      charges\n",
       "0   19    0  27.900         0       1  16884.92400\n",
       "1   18    1  33.770         1       0   1725.55230\n",
       "2   28    1  33.000         3       0   4449.46200\n",
       "3   33    1  22.705         0       0  21984.47061\n",
       "4   32    1  28.880         0       0   3866.85520"
      ]
     },
     "execution_count": 81,
     "metadata": {},
     "output_type": "execute_result"
    }
   ],
   "source": [
    "data = data.drop(\"region\", axis=1)\n",
    "\n",
    "data.head()"
   ]
  },
  {
   "cell_type": "markdown",
   "metadata": {},
   "source": [
    "Ya acabado el analis exploratorio de los datos vamos a realizar el escalado"
   ]
  },
  {
   "cell_type": "code",
   "execution_count": 82,
   "metadata": {},
   "outputs": [
    {
     "data": {
      "text/plain": [
       "array([[0.02173913, 0.        , 0.38110437, 0.        , 1.        ],\n",
       "       [0.        , 1.        , 0.56846473, 0.2       , 0.        ]])"
      ]
     },
     "execution_count": 82,
     "metadata": {},
     "output_type": "execute_result"
    }
   ],
   "source": [
    "from sklearn.preprocessing import MinMaxScaler\n",
    "\n",
    "X = data.drop(\"charges\", axis=1)\n",
    "y = data[\"charges\"]\n",
    "\n",
    "scaler = MinMaxScaler()\n",
    "X_scaled = scaler.fit_transform(X)\n",
    "\n",
    "X_scaled[:2]"
   ]
  },
  {
   "cell_type": "markdown",
   "metadata": {},
   "source": [
    "Ya realizado todo el preprocesado, vamos a pasar con la particion de los datos."
   ]
  },
  {
   "cell_type": "code",
   "execution_count": 84,
   "metadata": {},
   "outputs": [],
   "source": [
    "from sklearn.model_selection import train_test_split\n",
    "\n",
    "# Primero, dividimos en train y test\n",
    "X_train, X_temp, y_train, y_temp = train_test_split(X_scaled, y, test_size=0.3, random_state=42)\n",
    "\n",
    "# Luego, dividimos el conjunto temporal en validación y prueba (50% de 0.3 es 0.15, por lo que 0.15 es el tamaño del conjunto de validación)\n",
    "X_val, X_test, y_val, y_test = train_test_split(X_temp, y_temp, test_size=0.5, random_state=42)"
   ]
  },
  {
   "cell_type": "markdown",
   "metadata": {},
   "source": [
    "Y por ultimo vamos a probar los modelos de regresión de gridsearch para ver cual es el modelo con mejor resultado."
   ]
  },
  {
   "cell_type": "code",
   "execution_count": 88,
   "metadata": {},
   "outputs": [
    {
     "name": "stdout",
     "output_type": "stream",
     "text": [
      "Realizando GridSearchCV para LinearRegression...\n",
      "Mejor LinearRegression modelo: LinearRegression()\n",
      "Mejores hiperparámetros: {}\n",
      "\n",
      "Realizando GridSearchCV para PolynomialRegression...\n",
      "Mejor PolynomialRegression modelo: Pipeline(steps=[('poly', PolynomialFeatures()), ('linreg', LinearRegression())])\n",
      "Mejores hiperparámetros: {'poly__degree': 2}\n",
      "\n",
      "Realizando GridSearchCV para Ridge...\n",
      "Mejor Ridge modelo: Ridge(alpha=0.1)\n",
      "Mejores hiperparámetros: {'alpha': 0.1}\n",
      "\n",
      "Realizando GridSearchCV para Lasso...\n",
      "Mejor Lasso modelo: Lasso(alpha=10)\n",
      "Mejores hiperparámetros: {'alpha': 10}\n",
      "\n",
      "Realizando GridSearchCV para ElasticNet...\n",
      "Mejor ElasticNet modelo: ElasticNet(alpha=10, l1_ratio=1.0)\n",
      "Mejores hiperparámetros: {'alpha': 10, 'l1_ratio': 1.0}\n",
      "\n",
      "Realizando GridSearchCV para DecisionTree...\n",
      "Mejor DecisionTree modelo: DecisionTreeRegressor(max_depth=5, min_samples_split=10)\n",
      "Mejores hiperparámetros: {'max_depth': 5, 'min_samples_split': 10}\n",
      "\n",
      "Realizando GridSearchCV para RandomForest...\n",
      "Mejor RandomForest modelo: RandomForestRegressor(max_depth=5, min_samples_split=10, n_estimators=200)\n",
      "Mejores hiperparámetros: {'max_depth': 5, 'min_samples_split': 10, 'n_estimators': 200}\n",
      "\n",
      "Evaluación para LinearRegression:\n",
      "  MSE: 30863543.13935983\n",
      "  MAE: 3983.782424894291\n",
      "  R²: 0.7812216949451121\n",
      "\n",
      "Evaluación para PolynomialRegression:\n",
      "  MSE: 20998497.762907173\n",
      "  MAE: 2759.2415298155292\n",
      "  R²: 0.851150733779201\n",
      "\n",
      "Evaluación para Ridge:\n",
      "  MSE: 30864774.923993353\n",
      "  MAE: 3983.8118977830063\n",
      "  R²: 0.7812129633567427\n",
      "\n",
      "Evaluación para Lasso:\n",
      "  MSE: 30848623.514201585\n",
      "  MAE: 3977.715977186256\n",
      "  R²: 0.7813274537132949\n",
      "\n",
      "Evaluación para ElasticNet:\n",
      "  MSE: 30848623.514201585\n",
      "  MAE: 3977.715977186256\n",
      "  R²: 0.7813274537132949\n",
      "\n",
      "Evaluación para DecisionTree:\n",
      "  MSE: 19279385.437934194\n",
      "  MAE: 2628.050783963341\n",
      "  R²: 0.8633367773244385\n",
      "\n",
      "Evaluación para RandomForest:\n",
      "  MSE: 17895014.386249207\n",
      "  MAE: 2450.4416838531215\n",
      "  R²: 0.8731499847999098\n",
      "\n",
      "Comparación entre modelos:\n",
      "                               MSE          MAE        R²\n",
      "LinearRegression      3.086354e+07  3983.782425  0.781222\n",
      "PolynomialRegression  2.099850e+07  2759.241530  0.851151\n",
      "Ridge                 3.086477e+07  3983.811898  0.781213\n",
      "Lasso                 3.084862e+07  3977.715977  0.781327\n",
      "ElasticNet            3.084862e+07  3977.715977  0.781327\n",
      "DecisionTree          1.927939e+07  2628.050784  0.863337\n",
      "RandomForest          1.789501e+07  2450.441684  0.873150\n"
     ]
    }
   ],
   "source": [
    "from sklearn.model_selection import train_test_split, GridSearchCV\n",
    "from sklearn.linear_model import LinearRegression, Ridge, Lasso, ElasticNet\n",
    "from sklearn.preprocessing import PolynomialFeatures, StandardScaler\n",
    "from sklearn.tree import DecisionTreeRegressor\n",
    "from sklearn.ensemble import RandomForestRegressor\n",
    "from sklearn.metrics import mean_squared_error, mean_absolute_error, r2_score\n",
    "from sklearn.pipeline import Pipeline\n",
    "\n",
    "models = {\n",
    "    'LinearRegression': LinearRegression(),\n",
    "    'PolynomialRegression': Pipeline([('poly', PolynomialFeatures()), ('linreg', LinearRegression())]),\n",
    "    'Ridge': Ridge(),\n",
    "    'Lasso': Lasso(),\n",
    "    'ElasticNet': ElasticNet(),\n",
    "    'DecisionTree': DecisionTreeRegressor(),\n",
    "    'RandomForest': RandomForestRegressor()\n",
    "}\n",
    "\n",
    "param_grid = {\n",
    "    'LinearRegression': {},\n",
    "    'PolynomialRegression': {\n",
    "        'poly__degree': [2, 3, 4]  # Probar diferentes grados de polinomios\n",
    "    },\n",
    "    'Ridge': {\n",
    "        'alpha': [0.1, 1, 10, 100]  # Parámetros de regularización\n",
    "    },\n",
    "    'Lasso': {\n",
    "        'alpha': [0.1, 1, 10, 100]  # Parámetros de regularización\n",
    "    },\n",
    "    'ElasticNet': {\n",
    "        'alpha': [0.1, 1, 10, 100],  # Parámetros de regularización\n",
    "        'l1_ratio': [0.2, 0.5, 0.8, 1.0]  # Combinación entre L1 y L2\n",
    "    },\n",
    "    'DecisionTree': {\n",
    "        'max_depth': [5, 10, 15],  # Profundidad máxima\n",
    "        'min_samples_split': [2, 5, 10]  # Número mínimo de muestras para dividir un nodo\n",
    "    },\n",
    "    'RandomForest': {\n",
    "        'n_estimators': [100, 200],  # Número de árboles\n",
    "        'max_depth': [5, 10, 15],  # Profundidad máxima de los árboles\n",
    "        'min_samples_split': [2, 5, 10]  # Número mínimo de muestras para dividir un nodo\n",
    "    }\n",
    "}\n",
    "\n",
    "best_models = {}\n",
    "for name, model in models.items():\n",
    "    print(f\"Realizando GridSearchCV para {name}...\")\n",
    "    grid_search = GridSearchCV(estimator=model, param_grid=param_grid[name], cv=5, scoring='neg_mean_squared_error')\n",
    "    grid_search.fit(X_train, y_train)\n",
    "    best_models[name] = grid_search.best_estimator_\n",
    "    print(f\"Mejor {name} modelo: {grid_search.best_estimator_}\")\n",
    "    print(f\"Mejores hiperparámetros: {grid_search.best_params_}\\n\")\n",
    "\n",
    "results = {}\n",
    "for name, model in best_models.items():\n",
    "    y_pred = model.predict(X_val)\n",
    "    \n",
    "    mse = mean_squared_error(y_val, y_pred)\n",
    "    mae = mean_absolute_error(y_val, y_pred)\n",
    "    r2 = r2_score(y_val, y_pred)\n",
    "    \n",
    "    results[name] = {'MSE': mse, 'MAE': mae, 'R²': r2}\n",
    "    print(f\"Evaluación para {name}:\")\n",
    "    print(f\"  MSE: {mse}\")\n",
    "    print(f\"  MAE: {mae}\")\n",
    "    print(f\"  R²: {r2}\\n\")\n",
    "\n",
    "results_df = pd.DataFrame(results).T\n",
    "print(\"Comparación entre modelos:\")\n",
    "print(results_df)"
   ]
  },
  {
   "cell_type": "markdown",
   "metadata": {},
   "source": [
    "Despues de obtener el dataframe con los resultados de cada modelo nos quedamos con el RandomForest ya que nos da un mae menor. Consideramos esta metrica como la mejor ya que al ser valores muy altos, el mae te dice cuanto se puede desviar el dato por arriba y por abajo.\n",
    "\n",
    "Ahora vamos a ejecutar el mejor modelo con el test."
   ]
  },
  {
   "cell_type": "code",
   "execution_count": 90,
   "metadata": {},
   "outputs": [
    {
     "name": "stdout",
     "output_type": "stream",
     "text": [
      "Evaluación del test:\n",
      "  MSE: 20939701.632451523\n",
      "  MAE: 2615.9772384615385\n",
      "  R²: 0.8619201103413066\n",
      "\n"
     ]
    }
   ],
   "source": [
    "model = RandomForestRegressor(max_depth=5, min_samples_split=10, n_estimators=200)\n",
    "\n",
    "model.fit(X_train, y_train)\n",
    "\n",
    "y_pred = model.predict(X_test)\n",
    "\n",
    "mse = mean_squared_error(y_test, y_pred)\n",
    "mae = mean_absolute_error(y_test, y_pred)\n",
    "r2 = r2_score(y_test, y_pred)\n",
    "\n",
    "print(f\"Evaluación del test:\")\n",
    "print(f\"  MSE: {mse}\")\n",
    "print(f\"  MAE: {mae}\")\n",
    "print(f\"  R²: {r2}\\n\")"
   ]
  },
  {
   "cell_type": "markdown",
   "metadata": {
    "id": "j2PGzN9SpfcP"
   },
   "source": [
    "# Conclusiones"
   ]
  },
  {
   "cell_type": "markdown",
   "metadata": {},
   "source": [
    "Podemos decir que el modelo no da muy buenos resultados ya que se puede ir más de 2500 euros la prediccion y podria incluso dar datos negativos en algunos casos (no tiene sentido) o irse mucho porcentaje del valor."
   ]
  }
 ],
 "metadata": {
  "colab": {
   "provenance": []
  },
  "kernelspec": {
   "display_name": "Python 3",
   "language": "python",
   "name": "python3"
  },
  "language_info": {
   "codemirror_mode": {
    "name": "ipython",
    "version": 3
   },
   "file_extension": ".py",
   "mimetype": "text/x-python",
   "name": "python",
   "nbconvert_exporter": "python",
   "pygments_lexer": "ipython3",
   "version": "3.12.7"
  }
 },
 "nbformat": 4,
 "nbformat_minor": 0
}
