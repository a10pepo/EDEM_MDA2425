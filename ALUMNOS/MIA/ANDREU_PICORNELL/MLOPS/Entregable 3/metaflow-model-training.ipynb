{
 "cells": [
  {
   "attachments": {},
   "cell_type": "markdown",
   "metadata": {},
   "source": [
    "# Pipelines: Metaflow model training"
   ]
  },
  {
   "attachments": {},
   "cell_type": "markdown",
   "metadata": {},
   "source": [
    "##  Install dependencies"
   ]
  },
  {
   "cell_type": "code",
   "execution_count": 1,
   "metadata": {},
   "outputs": [
    {
     "name": "stdout",
     "output_type": "stream",
     "text": [
      "Requirement already satisfied: metaflow==2.13.9 in c:\\users\\andreu picornell\\appdata\\local\\packages\\pythonsoftwarefoundation.python.3.11_qbz5n2kfra8p0\\localcache\\local-packages\\python311\\site-packages (from -r requirements.txt (line 1)) (2.13.9)\n",
      "Requirement already satisfied: pandas==2.2.3 in c:\\users\\andreu picornell\\appdata\\local\\packages\\pythonsoftwarefoundation.python.3.11_qbz5n2kfra8p0\\localcache\\local-packages\\python311\\site-packages (from -r requirements.txt (line 2)) (2.2.3)\n",
      "Requirement already satisfied: numpy==1.26.4 in c:\\users\\andreu picornell\\appdata\\local\\packages\\pythonsoftwarefoundation.python.3.11_qbz5n2kfra8p0\\localcache\\local-packages\\python311\\site-packages (from -r requirements.txt (line 3)) (1.26.4)\n",
      "Requirement already satisfied: scikit-learn==1.6.1 in c:\\users\\andreu picornell\\appdata\\local\\packages\\pythonsoftwarefoundation.python.3.11_qbz5n2kfra8p0\\localcache\\local-packages\\python311\\site-packages (from -r requirements.txt (line 4)) (1.6.1)\n",
      "Requirement already satisfied: optuna==4.2.0 in c:\\users\\andreu picornell\\appdata\\local\\packages\\pythonsoftwarefoundation.python.3.11_qbz5n2kfra8p0\\localcache\\local-packages\\python311\\site-packages (from -r requirements.txt (line 5)) (4.2.0)\n",
      "Requirement already satisfied: requests in c:\\users\\andreu picornell\\appdata\\local\\packages\\pythonsoftwarefoundation.python.3.11_qbz5n2kfra8p0\\localcache\\local-packages\\python311\\site-packages (from metaflow==2.13.9->-r requirements.txt (line 1)) (2.32.3)\n",
      "Requirement already satisfied: boto3 in c:\\users\\andreu picornell\\appdata\\local\\packages\\pythonsoftwarefoundation.python.3.11_qbz5n2kfra8p0\\localcache\\local-packages\\python311\\site-packages (from metaflow==2.13.9->-r requirements.txt (line 1)) (1.39.4)\n",
      "Requirement already satisfied: python-dateutil>=2.8.2 in c:\\users\\andreu picornell\\appdata\\local\\packages\\pythonsoftwarefoundation.python.3.11_qbz5n2kfra8p0\\localcache\\local-packages\\python311\\site-packages (from pandas==2.2.3->-r requirements.txt (line 2)) (2.9.0.post0)\n",
      "Requirement already satisfied: pytz>=2020.1 in c:\\users\\andreu picornell\\appdata\\local\\packages\\pythonsoftwarefoundation.python.3.11_qbz5n2kfra8p0\\localcache\\local-packages\\python311\\site-packages (from pandas==2.2.3->-r requirements.txt (line 2)) (2025.1)\n",
      "Requirement already satisfied: tzdata>=2022.7 in c:\\users\\andreu picornell\\appdata\\local\\packages\\pythonsoftwarefoundation.python.3.11_qbz5n2kfra8p0\\localcache\\local-packages\\python311\\site-packages (from pandas==2.2.3->-r requirements.txt (line 2)) (2025.1)\n",
      "Requirement already satisfied: scipy>=1.6.0 in c:\\users\\andreu picornell\\appdata\\local\\packages\\pythonsoftwarefoundation.python.3.11_qbz5n2kfra8p0\\localcache\\local-packages\\python311\\site-packages (from scikit-learn==1.6.1->-r requirements.txt (line 4)) (1.15.2)\n",
      "Requirement already satisfied: joblib>=1.2.0 in c:\\users\\andreu picornell\\appdata\\local\\packages\\pythonsoftwarefoundation.python.3.11_qbz5n2kfra8p0\\localcache\\local-packages\\python311\\site-packages (from scikit-learn==1.6.1->-r requirements.txt (line 4)) (1.4.2)\n",
      "Requirement already satisfied: threadpoolctl>=3.1.0 in c:\\users\\andreu picornell\\appdata\\local\\packages\\pythonsoftwarefoundation.python.3.11_qbz5n2kfra8p0\\localcache\\local-packages\\python311\\site-packages (from scikit-learn==1.6.1->-r requirements.txt (line 4)) (3.6.0)\n",
      "Requirement already satisfied: alembic>=1.5.0 in c:\\users\\andreu picornell\\appdata\\local\\packages\\pythonsoftwarefoundation.python.3.11_qbz5n2kfra8p0\\localcache\\local-packages\\python311\\site-packages (from optuna==4.2.0->-r requirements.txt (line 5)) (1.15.1)\n",
      "Requirement already satisfied: colorlog in c:\\users\\andreu picornell\\appdata\\local\\packages\\pythonsoftwarefoundation.python.3.11_qbz5n2kfra8p0\\localcache\\local-packages\\python311\\site-packages (from optuna==4.2.0->-r requirements.txt (line 5)) (6.9.0)\n",
      "Requirement already satisfied: packaging>=20.0 in c:\\users\\andreu picornell\\appdata\\local\\packages\\pythonsoftwarefoundation.python.3.11_qbz5n2kfra8p0\\localcache\\local-packages\\python311\\site-packages (from optuna==4.2.0->-r requirements.txt (line 5)) (24.2)\n",
      "Requirement already satisfied: sqlalchemy>=1.4.2 in c:\\users\\andreu picornell\\appdata\\local\\packages\\pythonsoftwarefoundation.python.3.11_qbz5n2kfra8p0\\localcache\\local-packages\\python311\\site-packages (from optuna==4.2.0->-r requirements.txt (line 5)) (2.0.38)\n",
      "Requirement already satisfied: tqdm in c:\\users\\andreu picornell\\appdata\\local\\packages\\pythonsoftwarefoundation.python.3.11_qbz5n2kfra8p0\\localcache\\local-packages\\python311\\site-packages (from optuna==4.2.0->-r requirements.txt (line 5)) (4.67.1)\n",
      "Requirement already satisfied: PyYAML in c:\\users\\andreu picornell\\appdata\\local\\packages\\pythonsoftwarefoundation.python.3.11_qbz5n2kfra8p0\\localcache\\local-packages\\python311\\site-packages (from optuna==4.2.0->-r requirements.txt (line 5)) (6.0.2)\n",
      "Requirement already satisfied: Mako in c:\\users\\andreu picornell\\appdata\\local\\packages\\pythonsoftwarefoundation.python.3.11_qbz5n2kfra8p0\\localcache\\local-packages\\python311\\site-packages (from alembic>=1.5.0->optuna==4.2.0->-r requirements.txt (line 5)) (1.3.9)\n",
      "Requirement already satisfied: typing-extensions>=4.12 in c:\\users\\andreu picornell\\appdata\\local\\packages\\pythonsoftwarefoundation.python.3.11_qbz5n2kfra8p0\\localcache\\local-packages\\python311\\site-packages (from alembic>=1.5.0->optuna==4.2.0->-r requirements.txt (line 5)) (4.12.2)\n",
      "Requirement already satisfied: six>=1.5 in c:\\users\\andreu picornell\\appdata\\local\\packages\\pythonsoftwarefoundation.python.3.11_qbz5n2kfra8p0\\localcache\\local-packages\\python311\\site-packages (from python-dateutil>=2.8.2->pandas==2.2.3->-r requirements.txt (line 2)) (1.17.0)\n",
      "Requirement already satisfied: greenlet!=0.4.17 in c:\\users\\andreu picornell\\appdata\\local\\packages\\pythonsoftwarefoundation.python.3.11_qbz5n2kfra8p0\\localcache\\local-packages\\python311\\site-packages (from sqlalchemy>=1.4.2->optuna==4.2.0->-r requirements.txt (line 5)) (3.1.1)\n",
      "Requirement already satisfied: botocore<1.40.0,>=1.39.4 in c:\\users\\andreu picornell\\appdata\\local\\packages\\pythonsoftwarefoundation.python.3.11_qbz5n2kfra8p0\\localcache\\local-packages\\python311\\site-packages (from boto3->metaflow==2.13.9->-r requirements.txt (line 1)) (1.39.4)\n",
      "Requirement already satisfied: jmespath<2.0.0,>=0.7.1 in c:\\users\\andreu picornell\\appdata\\local\\packages\\pythonsoftwarefoundation.python.3.11_qbz5n2kfra8p0\\localcache\\local-packages\\python311\\site-packages (from boto3->metaflow==2.13.9->-r requirements.txt (line 1)) (1.0.1)\n",
      "Requirement already satisfied: s3transfer<0.14.0,>=0.13.0 in c:\\users\\andreu picornell\\appdata\\local\\packages\\pythonsoftwarefoundation.python.3.11_qbz5n2kfra8p0\\localcache\\local-packages\\python311\\site-packages (from boto3->metaflow==2.13.9->-r requirements.txt (line 1)) (0.13.0)\n",
      "Requirement already satisfied: urllib3!=2.2.0,<3,>=1.25.4 in c:\\users\\andreu picornell\\appdata\\local\\packages\\pythonsoftwarefoundation.python.3.11_qbz5n2kfra8p0\\localcache\\local-packages\\python311\\site-packages (from botocore<1.40.0,>=1.39.4->boto3->metaflow==2.13.9->-r requirements.txt (line 1)) (2.3.0)\n",
      "Requirement already satisfied: colorama in c:\\users\\andreu picornell\\appdata\\local\\packages\\pythonsoftwarefoundation.python.3.11_qbz5n2kfra8p0\\localcache\\local-packages\\python311\\site-packages (from colorlog->optuna==4.2.0->-r requirements.txt (line 5)) (0.4.6)\n",
      "Requirement already satisfied: MarkupSafe>=0.9.2 in c:\\users\\andreu picornell\\appdata\\local\\packages\\pythonsoftwarefoundation.python.3.11_qbz5n2kfra8p0\\localcache\\local-packages\\python311\\site-packages (from Mako->alembic>=1.5.0->optuna==4.2.0->-r requirements.txt (line 5)) (3.0.2)\n",
      "Requirement already satisfied: charset-normalizer<4,>=2 in c:\\users\\andreu picornell\\appdata\\local\\packages\\pythonsoftwarefoundation.python.3.11_qbz5n2kfra8p0\\localcache\\local-packages\\python311\\site-packages (from requests->metaflow==2.13.9->-r requirements.txt (line 1)) (3.4.1)\n",
      "Requirement already satisfied: idna<4,>=2.5 in c:\\users\\andreu picornell\\appdata\\local\\packages\\pythonsoftwarefoundation.python.3.11_qbz5n2kfra8p0\\localcache\\local-packages\\python311\\site-packages (from requests->metaflow==2.13.9->-r requirements.txt (line 1)) (3.10)\n",
      "Requirement already satisfied: certifi>=2017.4.17 in c:\\users\\andreu picornell\\appdata\\local\\packages\\pythonsoftwarefoundation.python.3.11_qbz5n2kfra8p0\\localcache\\local-packages\\python311\\site-packages (from requests->metaflow==2.13.9->-r requirements.txt (line 1)) (2025.1.31)\n"
     ]
    }
   ],
   "source": [
    "!pip install -r requirements.txt"
   ]
  },
  {
   "attachments": {},
   "cell_type": "markdown",
   "metadata": {},
   "source": [
    "## Set username"
   ]
  },
  {
   "cell_type": "code",
   "execution_count": 2,
   "metadata": {},
   "outputs": [],
   "source": [
    "# Set username for workflows\n",
    "import os\n",
    "os.environ['METAFLOW_DEFAULT_DATASTORE'] = 'local'\n",
    "os.environ[\"USERNAME\"] = \"andreu\""
   ]
  },
  {
   "cell_type": "code",
   "execution_count": null,
   "metadata": {},
   "outputs": [
    {
     "name": "stdout",
     "output_type": "stream",
     "text": [
      "Overwriting metaflow_trainingflow.py\n"
     ]
    }
   ],
   "source": [
    "%%writefile metaflow_trainingflow.py\n",
    "from metaflow import FlowSpec, Parameter, step\n",
    "\n",
    "class TrainingFlow(FlowSpec):\n",
    "    # Define the parameters for the flow\n",
    "    max_depth = Parameter('max_depth', default=2, help='Max depth of the random forest classifier')\n",
    "    n_estimators = Parameter('n_estimators', default=100, help='Number of estimators for the random forest classifier')\n",
    "    random_state = Parameter('random_state', default=0, help='Random state for the random forest classifier')\n",
    "    \n",
    "    @step\n",
    "    def start(self):\n",
    "        # Start the flow\n",
    "        self.next(self.ingest_data)\n",
    "        \n",
    "    @step\n",
    "    def ingest_data(self):\n",
    "        from sklearn.datasets import load_iris\n",
    "    \n",
    "        # Load the iris dataset\n",
    "        iris = load_iris()\n",
    "        \n",
    "        #pylint: disable=no-member\n",
    "        self.X = iris.data\n",
    "        self.y = iris.target\n",
    "        #pylint: enable=no-member\n",
    "        \n",
    "        self.next(self.split_data)\n",
    "\n",
    "    @step\n",
    "    def split_data(self):\n",
    "        from sklearn.model_selection import train_test_split\n",
    "        self.X_train, self.X_test, self.y_train, self.y_test = train_test_split(\n",
    "            self.X, self.y, test_size=0.2, random_state=self.random_state)\n",
    "        self.next(self.train)\n",
    "\n",
    "    @step\n",
    "    def train(self):\n",
    "        from sklearn.ensemble import RandomForestClassifier\n",
    "        self.model = RandomForestClassifier(\n",
    "            max_depth=self.max_depth,\n",
    "            n_estimators=self.n_estimators,\n",
    "            random_state=self.random_state\n",
    "        )\n",
    "        self.model.fit(self.X_train, self.y_train)\n",
    "        self.next(self.show_metrics)\n",
    "\n",
    "    @step\n",
    "    def show_metrics(self):\n",
    "        from sklearn.metrics import accuracy_score\n",
    "        y_pred = self.model.predict(self.X_test)\n",
    "        self.accuracy = accuracy_score(self.y_test, y_pred)\n",
    "        print(f\"\\n✅ Accuracy: {self.accuracy:.4f}\\n\")\n",
    "        self.next(self.register_model)\n",
    "\n",
    "    @step\n",
    "    def register_model(self):\n",
    "        import os\n",
    "        import joblib\n",
    "\n",
    "        os.makedirs(\"outputs\", exist_ok=True)\n",
    "        model_path = \"outputs/iris_model.pkl\"\n",
    "        joblib.dump(self.model, model_path)\n",
    "        print(f\"✅ Modelo guardado en: {model_path}\")\n",
    "        self.next(self.end)\n",
    "\n",
    "\n",
    "    @step\n",
    "    def end(self):\n",
    "        print(\"🎉 Entrenamiento completado con éxito.\")\n",
    "    \n",
    "if __name__ == '__main__':\n",
    "    TrainingFlow()"
   ]
  },
  {
   "cell_type": "code",
   "execution_count": 4,
   "metadata": {},
   "outputs": [
    {
     "name": "stderr",
     "output_type": "stream",
     "text": [
      "Traceback (most recent call last):\n",
      "  File \"C:\\Users\\Andreu Picornell\\AppData\\Local\\Packages\\PythonSoftwareFoundation.Python.3.11_qbz5n2kfra8p0\\LocalCache\\local-packages\\Python311\\site-packages\\metaflow\\metaflow_version.py\", line 30, in find_git_on_windows\n",
      "    check_output([\"where\", \"/Q\", \"git\"])\n",
      "    ^^^^^^^^^^^^\n",
      "NameError: name 'check_output' is not defined\n",
      "\n",
      "During handling of the above exception, another exception occurred:\n",
      "\n",
      "Traceback (most recent call last):\n",
      "  File \"c:\\EDEM\\EDEM_MDA2425\\ALUMNOS\\MIA\\ANDREU_PICORNELL\\MLOPS\\Entregable 3\\metaflow_trainingflow.py\", line 1, in <module>\n",
      "    from metaflow import FlowSpec, Parameter, step\n",
      "  File \"C:\\Users\\Andreu Picornell\\AppData\\Local\\Packages\\PythonSoftwareFoundation.Python.3.11_qbz5n2kfra8p0\\LocalCache\\local-packages\\Python311\\site-packages\\metaflow\\__init__.py\", line 114, in <module>\n",
      "    from .plugins.datatools import S3\n",
      "  File \"C:\\Users\\Andreu Picornell\\AppData\\Local\\Packages\\PythonSoftwareFoundation.Python.3.11_qbz5n2kfra8p0\\LocalCache\\local-packages\\Python311\\site-packages\\metaflow\\plugins\\__init__.py\", line 189, in <module>\n",
      "    STEP_DECORATORS = resolve_plugins(\"step_decorator\")\n",
      "                      ^^^^^^^^^^^^^^^^^^^^^^^^^^^^^^^^^\n",
      "  File \"C:\\Users\\Andreu Picornell\\AppData\\Local\\Packages\\PythonSoftwareFoundation.Python.3.11_qbz5n2kfra8p0\\LocalCache\\local-packages\\Python311\\site-packages\\metaflow\\extension_support\\plugins.py\", line 164, in resolve_plugins\n",
      "    to_return.append(get_plugin(category, class_path, name))\n",
      "                     ^^^^^^^^^^^^^^^^^^^^^^^^^^^^^^^^^^^^^^\n",
      "  File \"C:\\Users\\Andreu Picornell\\AppData\\Local\\Packages\\PythonSoftwareFoundation.Python.3.11_qbz5n2kfra8p0\\LocalCache\\local-packages\\Python311\\site-packages\\metaflow\\extension_support\\plugins.py\", line 99, in get_plugin\n",
      "    plugin_module = importlib.import_module(path)\n",
      "                    ^^^^^^^^^^^^^^^^^^^^^^^^^^^^^\n",
      "  File \"C:\\Program Files\\WindowsApps\\PythonSoftwareFoundation.Python.3.11_3.11.2544.0_x64__qbz5n2kfra8p0\\Lib\\importlib\\__init__.py\", line 126, in import_module\n",
      "    return _bootstrap._gcd_import(name[level:], package, level)\n",
      "           ^^^^^^^^^^^^^^^^^^^^^^^^^^^^^^^^^^^^^^^^^^^^^^^^^^^^\n",
      "  File \"C:\\Users\\Andreu Picornell\\AppData\\Local\\Packages\\PythonSoftwareFoundation.Python.3.11_qbz5n2kfra8p0\\LocalCache\\local-packages\\Python311\\site-packages\\metaflow\\plugins\\pypi\\pypi_decorator.py\", line 2, in <module>\n",
      "    from metaflow.metaflow_environment import InvalidEnvironmentException\n",
      "  File \"C:\\Users\\Andreu Picornell\\AppData\\Local\\Packages\\PythonSoftwareFoundation.Python.3.11_qbz5n2kfra8p0\\LocalCache\\local-packages\\Python311\\site-packages\\metaflow\\metaflow_environment.py\", line 6, in <module>\n",
      "    from . import metaflow_version\n",
      "  File \"C:\\Users\\Andreu Picornell\\AppData\\Local\\Packages\\PythonSoftwareFoundation.Python.3.11_qbz5n2kfra8p0\\LocalCache\\local-packages\\Python311\\site-packages\\metaflow\\metaflow_version.py\", line 61, in <module>\n",
      "    GIT_COMMAND = find_git_on_windows()\n",
      "                  ^^^^^^^^^^^^^^^^^^^^^\n",
      "  File \"C:\\Users\\Andreu Picornell\\AppData\\Local\\Packages\\PythonSoftwareFoundation.Python.3.11_qbz5n2kfra8p0\\LocalCache\\local-packages\\Python311\\site-packages\\metaflow\\metaflow_version.py\", line 34, in find_git_on_windows\n",
      "    except CalledProcessError:\n",
      "           ^^^^^^^^^^^^^^^^^^\n",
      "NameError: name 'CalledProcessError' is not defined. Did you mean: 'ChildProcessError'?\n"
     ]
    }
   ],
   "source": [
    "!python metaflow_trainingflow.py run --max_depth 2 --n_estimators 100 --random_state 0"
   ]
  }
 ],
 "metadata": {
  "kernelspec": {
   "display_name": "Python 3",
   "language": "python",
   "name": "python3"
  },
  "language_info": {
   "codemirror_mode": {
    "name": "ipython",
    "version": 3
   },
   "file_extension": ".py",
   "mimetype": "text/x-python",
   "name": "python",
   "nbconvert_exporter": "python",
   "pygments_lexer": "ipython3",
   "version": "3.11.9"
  },
  "orig_nbformat": 4
 },
 "nbformat": 4,
 "nbformat_minor": 2
}
