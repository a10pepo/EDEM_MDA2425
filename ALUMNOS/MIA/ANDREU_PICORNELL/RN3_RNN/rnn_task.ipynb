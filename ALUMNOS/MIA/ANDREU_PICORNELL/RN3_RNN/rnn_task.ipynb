{
  "cells": [
    {
      "cell_type": "markdown",
      "id": "8ef5d94f",
      "metadata": {
        "id": "8ef5d94f"
      },
      "source": [
        "# Clasificación de deportes a partir de vídeos - RNN"
      ]
    },
    {
      "cell_type": "markdown",
      "id": "e5910e19",
      "metadata": {
        "id": "e5910e19"
      },
      "source": [
        "## 1. Introducción"
      ]
    },
    {
      "cell_type": "markdown",
      "id": "d5bc1756",
      "metadata": {
        "id": "d5bc1756"
      },
      "source": [
        "- Objetivo: Clasificación de vídeos en 5 deportes distintos usando CNN+LSTM\n",
        "- Dataset: UCF50\n",
        "- Arquitectura: CNN para características espaciales + LSTM para temporales"
      ]
    },
    {
      "cell_type": "markdown",
      "id": "1bafc175",
      "metadata": {
        "id": "1bafc175"
      },
      "source": [
        "## 2. Importación de librerías"
      ]
    },
    {
      "cell_type": "code",
      "execution_count": 1,
      "id": "e2e9176a",
      "metadata": {
        "id": "e2e9176a"
      },
      "outputs": [],
      "source": [
        "import os\n",
        "from keras.utils import to_categorical\n",
        "from keras.applications import ResNet50\n",
        "from keras.models import Model, Sequential\n",
        "from keras.layers import LSTM, Dense, TimeDistributed, GlobalAveragePooling2D\n",
        "from sklearn.model_selection import train_test_split\n",
        "from sklearn.metrics import classification_report, confusion_matrix\n",
        "import matplotlib.pyplot as plt\n",
        "import seaborn as sns\n",
        "import cv2\n",
        "import numpy as np\n",
        "from google.colab import drive, files\n"
      ]
    },
    {
      "cell_type": "code",
      "execution_count": 2,
      "id": "L1moSRa5ZsI3",
      "metadata": {
        "colab": {
          "base_uri": "https://localhost:8080/"
        },
        "id": "L1moSRa5ZsI3",
        "outputId": "af48a118-2898-49bb-fc8e-d1919c27506d"
      },
      "outputs": [
        {
          "output_type": "stream",
          "name": "stdout",
          "text": [
            "Drive already mounted at /content/drive; to attempt to forcibly remount, call drive.mount(\"/content/drive\", force_remount=True).\n"
          ]
        }
      ],
      "source": [
        "drive.mount('/content/drive')"
      ]
    },
    {
      "cell_type": "markdown",
      "id": "62ad37a3",
      "metadata": {
        "id": "62ad37a3"
      },
      "source": [
        "## 3. Carga y preprocesamiento de datos"
      ]
    },
    {
      "cell_type": "code",
      "execution_count": 3,
      "id": "e5ca1f41",
      "metadata": {
        "id": "e5ca1f41"
      },
      "outputs": [],
      "source": [
        "IMG_SIZE = 112\n",
        "NUM_FRAMES = 12\n",
        "\n",
        "def extract_frames(video_path, num_frames=NUM_FRAMES):\n",
        "    cap = cv2.VideoCapture(video_path)\n",
        "    frames = []\n",
        "    total_frames = int(cap.get(cv2.CAP_PROP_FRAME_COUNT))\n",
        "    step = max(1, total_frames // num_frames)\n",
        "\n",
        "    for i in range(num_frames):\n",
        "        cap.set(cv2.CAP_PROP_POS_FRAMES, i * step)\n",
        "        ret, frame = cap.read()\n",
        "        if not ret:\n",
        "            break\n",
        "        frame = cv2.resize(frame, (IMG_SIZE, IMG_SIZE))\n",
        "        frame = frame / 255.0\n",
        "        frames.append(frame)\n",
        "    cap.release()\n",
        "\n",
        "    while len(frames) < num_frames:\n",
        "        frames.append(np.zeros((IMG_SIZE, IMG_SIZE, 3)))\n",
        "    return np.array(frames)\n"
      ]
    },
    {
      "cell_type": "markdown",
      "id": "63593cc1",
      "metadata": {
        "id": "63593cc1"
      },
      "source": [
        "## 4. Construcción del modelo"
      ]
    },
    {
      "cell_type": "code",
      "execution_count": 4,
      "id": "e9b1d80d",
      "metadata": {
        "id": "e9b1d80d"
      },
      "outputs": [],
      "source": [
        "def build_model(num_classes=5):\n",
        "    base_model = ResNet50(weights='imagenet', include_top=False, input_shape=(IMG_SIZE, IMG_SIZE, 3))\n",
        "    cnn = Model(inputs=base_model.input, outputs=GlobalAveragePooling2D()(base_model.output))\n",
        "\n",
        "    model = Sequential([\n",
        "        TimeDistributed(cnn, input_shape=(NUM_FRAMES, IMG_SIZE, IMG_SIZE, 3)),\n",
        "        LSTM(64),\n",
        "        Dense(64, activation='relu'),\n",
        "        Dense(num_classes, activation='softmax')\n",
        "    ])\n",
        "    return model"
      ]
    },
    {
      "cell_type": "markdown",
      "id": "b5867656",
      "metadata": {
        "id": "b5867656"
      },
      "source": [
        "## 5. Entrenamiento del modelo"
      ]
    },
    {
      "cell_type": "code",
      "execution_count": 5,
      "id": "7c59bed3",
      "metadata": {
        "id": "7c59bed3"
      },
      "outputs": [],
      "source": [
        "def load_data(data_dir):\n",
        "    X, y, labels = [], [], sorted(os.listdir(data_dir))\n",
        "    label_map = {label: idx for idx, label in enumerate(labels)}\n",
        "\n",
        "    for label in labels:\n",
        "        class_dir = os.path.join(data_dir, label)\n",
        "        for video_file in os.listdir(class_dir):\n",
        "            video_path = os.path.join(class_dir, video_file)\n",
        "            frames = extract_frames(video_path)\n",
        "            X.append(frames)\n",
        "            y.append(label_map[label])\n",
        "\n",
        "    return np.array(X), to_categorical(y), label_map"
      ]
    },
    {
      "cell_type": "code",
      "execution_count": 6,
      "id": "09539dbe",
      "metadata": {
        "colab": {
          "base_uri": "https://localhost:8080/"
        },
        "id": "09539dbe",
        "outputId": "db104b4d-8db5-4df5-ce0d-8356f37578e5"
      },
      "outputs": [
        {
          "output_type": "stream",
          "name": "stderr",
          "text": [
            "/usr/local/lib/python3.11/dist-packages/keras/src/layers/core/wrapper.py:27: UserWarning: Do not pass an `input_shape`/`input_dim` argument to a layer. When using Sequential models, prefer using an `Input(shape)` object as the first layer in the model instead.\n",
            "  super().__init__(**kwargs)\n"
          ]
        },
        {
          "output_type": "stream",
          "name": "stdout",
          "text": [
            "Epoch 1/5\n",
            "\u001b[1m136/136\u001b[0m \u001b[32m━━━━━━━━━━━━━━━━━━━━\u001b[0m\u001b[37m\u001b[0m \u001b[1m324s\u001b[0m 803ms/step - accuracy: 0.4322 - loss: 1.2911 - val_accuracy: 0.0000e+00 - val_loss: 4.4226\n",
            "Epoch 2/5\n",
            "\u001b[1m136/136\u001b[0m \u001b[32m━━━━━━━━━━━━━━━━━━━━\u001b[0m\u001b[37m\u001b[0m \u001b[1m83s\u001b[0m 613ms/step - accuracy: 0.3643 - loss: 1.3684 - val_accuracy: 0.0074 - val_loss: 4.9090\n",
            "Epoch 3/5\n",
            "\u001b[1m136/136\u001b[0m \u001b[32m━━━━━━━━━━━━━━━━━━━━\u001b[0m\u001b[37m\u001b[0m \u001b[1m143s\u001b[0m 618ms/step - accuracy: 0.3421 - loss: 1.3550 - val_accuracy: 0.0588 - val_loss: 5.5764\n",
            "Epoch 4/5\n",
            "\u001b[1m136/136\u001b[0m \u001b[32m━━━━━━━━━━━━━━━━━━━━\u001b[0m\u001b[37m\u001b[0m \u001b[1m141s\u001b[0m 613ms/step - accuracy: 0.5064 - loss: 1.1395 - val_accuracy: 0.0074 - val_loss: 6.0984\n",
            "Epoch 5/5\n",
            "\u001b[1m136/136\u001b[0m \u001b[32m━━━━━━━━━━━━━━━━━━━━\u001b[0m\u001b[37m\u001b[0m \u001b[1m142s\u001b[0m 616ms/step - accuracy: 0.5205 - loss: 1.0873 - val_accuracy: 0.0074 - val_loss: 7.0236\n"
          ]
        },
        {
          "output_type": "execute_result",
          "data": {
            "text/plain": [
              "<keras.src.callbacks.history.History at 0x783ab9c79250>"
            ]
          },
          "metadata": {},
          "execution_count": 6
        }
      ],
      "source": [
        "X_train, y_train, label_map = load_data(\"/content/drive/MyDrive/dataset/train\")\n",
        "X_test, y_test, _ = load_data(\"/content/drive/MyDrive/dataset/test\")\n",
        "\n",
        "model = build_model(num_classes=5)\n",
        "model.compile(optimizer='adam', loss='categorical_crossentropy', metrics=['accuracy'])\n",
        "model.fit(X_train, y_train, epochs=5, batch_size=4, validation_split=0.2)"
      ]
    },
    {
      "cell_type": "markdown",
      "id": "dc3d966c",
      "metadata": {
        "id": "dc3d966c"
      },
      "source": [
        "## 6. Evaluación"
      ]
    },
    {
      "cell_type": "code",
      "execution_count": 7,
      "id": "ce272a97",
      "metadata": {
        "colab": {
          "base_uri": "https://localhost:8080/",
          "height": 983
        },
        "id": "ce272a97",
        "outputId": "9a976261-1022-434a-c1c0-d24808f9dda1"
      },
      "outputs": [
        {
          "output_type": "stream",
          "name": "stdout",
          "text": [
            "\u001b[1m6/6\u001b[0m \u001b[32m━━━━━━━━━━━━━━━━━━━━\u001b[0m\u001b[37m\u001b[0m \u001b[1m53s\u001b[0m 5s/step\n",
            "📊 Reporte de Clasificación:\n",
            "\n",
            "              precision    recall  f1-score   support\n",
            "\n",
            "  Basketball       0.00      0.00      0.00        36\n",
            "    JumpRope       0.26      0.53      0.35        36\n",
            "PlayingTabla       0.86      0.83      0.85        36\n",
            " TennisSwing       0.36      0.67      0.47        36\n",
            "        YoYo       0.00      0.00      0.00        36\n",
            "\n",
            "    accuracy                           0.41       180\n",
            "   macro avg       0.30      0.41      0.33       180\n",
            "weighted avg       0.30      0.41      0.33       180\n",
            "\n"
          ]
        },
        {
          "output_type": "stream",
          "name": "stderr",
          "text": [
            "/usr/local/lib/python3.11/dist-packages/sklearn/metrics/_classification.py:1565: UndefinedMetricWarning: Precision is ill-defined and being set to 0.0 in labels with no predicted samples. Use `zero_division` parameter to control this behavior.\n",
            "  _warn_prf(average, modifier, f\"{metric.capitalize()} is\", len(result))\n",
            "/usr/local/lib/python3.11/dist-packages/sklearn/metrics/_classification.py:1565: UndefinedMetricWarning: Precision is ill-defined and being set to 0.0 in labels with no predicted samples. Use `zero_division` parameter to control this behavior.\n",
            "  _warn_prf(average, modifier, f\"{metric.capitalize()} is\", len(result))\n",
            "/usr/local/lib/python3.11/dist-packages/sklearn/metrics/_classification.py:1565: UndefinedMetricWarning: Precision is ill-defined and being set to 0.0 in labels with no predicted samples. Use `zero_division` parameter to control this behavior.\n",
            "  _warn_prf(average, modifier, f\"{metric.capitalize()} is\", len(result))\n",
            "/usr/local/lib/python3.11/dist-packages/IPython/core/pylabtools.py:151: UserWarning: Glyph 128269 (\\N{LEFT-POINTING MAGNIFYING GLASS}) missing from font(s) DejaVu Sans.\n",
            "  fig.canvas.print_figure(bytes_io, **kw)\n"
          ]
        },
        {
          "output_type": "display_data",
          "data": {
            "text/plain": [
              "<Figure size 800x600 with 2 Axes>"
            ],
            "image/png": "[encoded data removed]"
          },
          "metadata": {}
        }
      ],
      "source": [
        "y_pred_probs = model.predict(X_test)\n",
        "y_pred = np.argmax(y_pred_probs, axis=1)\n",
        "y_true = np.argmax(y_test, axis=1)\n",
        "\n",
        "# Etiquetas de clase\n",
        "labels = list(label_map.keys())\n",
        "\n",
        "# Imprimir métricas\n",
        "print(\"📊 Reporte de Clasificación:\\n\")\n",
        "print(classification_report(y_true, y_pred, target_names=labels))\n",
        "\n",
        "# Matriz de confusión\n",
        "cm = confusion_matrix(y_true, y_pred)\n",
        "\n",
        "# Visualizar matriz de confusión\n",
        "plt.figure(figsize=(8, 6))\n",
        "sns.heatmap(cm, annot=True, fmt='d', xticklabels=labels, yticklabels=labels, cmap=\"Blues\")\n",
        "plt.xlabel('Predicción')\n",
        "plt.ylabel('Etiqueta real')\n",
        "plt.title('🔍 Matriz de Confusión')\n",
        "plt.show()"
      ]
    },
    {
      "cell_type": "markdown",
      "id": "d94261ba",
      "metadata": {
        "id": "d94261ba"
      },
      "source": [
        "## 7.  Función de Inferencia"
      ]
    },
    {
      "cell_type": "code",
      "execution_count": 8,
      "id": "3d62d75f",
      "metadata": {
        "id": "3d62d75f"
      },
      "outputs": [],
      "source": [
        "def predict_video(video_path, model, label_map):\n",
        "    frames = extract_frames(video_path)\n",
        "    frames = np.expand_dims(frames, axis=0)  # Batch dimension\n",
        "    prediction = model.predict(frames)\n",
        "    predicted_class = np.argmax(prediction)\n",
        "    inv_label_map = {v: k for k, v in label_map.items()}\n",
        "    return inv_label_map[predicted_class]"
      ]
    },
    {
      "cell_type": "code",
      "execution_count": 9,
      "id": "LInvpHK1Mpt6",
      "metadata": {
        "colab": {
          "base_uri": "https://localhost:8080/"
        },
        "id": "LInvpHK1Mpt6",
        "outputId": "7b62424b-d06f-4b0c-8820-65a0db186b3a"
      },
      "outputs": [
        {
          "output_type": "stream",
          "name": "stdout",
          "text": [
            "\u001b[1m1/1\u001b[0m \u001b[32m━━━━━━━━━━━━━━━━━━━━\u001b[0m\u001b[37m\u001b[0m \u001b[1m1s\u001b[0m 617ms/step\n",
            "The predicted class is: TennisSwing\n"
          ]
        }
      ],
      "source": [
        "video_path = \"/content/drive/MyDrive/Tennis_swing.mp4\"\n",
        "\n",
        "prediction = predict_video(video_path, model, label_map)\n",
        "print(\"The predicted class is:\", prediction)"
      ]
    }
  ],
  "metadata": {
    "accelerator": "GPU",
    "colab": {
      "gpuType": "T4",
      "provenance": []
    },
    "kernelspec": {
      "display_name": "Python 3",
      "name": "python3"
    },
    "language_info": {
      "codemirror_mode": {
        "name": "ipython",
        "version": 3
      },
      "file_extension": ".py",
      "mimetype": "text/x-python",
      "name": "python",
      "nbconvert_exporter": "python",
      "pygments_lexer": "ipython3",
      "version": "3.11.9"
    }
  },
  "nbformat": 4,
  "nbformat_minor": 5
}