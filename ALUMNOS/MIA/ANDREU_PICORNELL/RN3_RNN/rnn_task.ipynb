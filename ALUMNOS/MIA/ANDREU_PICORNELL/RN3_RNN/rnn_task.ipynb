{
 "cells": [
  {
   "cell_type": "markdown",
   "id": "8ef5d94f",
   "metadata": {},
   "source": [
    "# Clasificación de deportes a partir de vídeos - RNN"
   ]
  },
  {
   "cell_type": "markdown",
   "id": "e5910e19",
   "metadata": {},
   "source": [
    "## 1. Introducción"
   ]
  },
  {
   "cell_type": "markdown",
   "id": "d5bc1756",
   "metadata": {},
   "source": [
    "- Objetivo: Clasificación de vídeos en 5 deportes distintos usando CNN+LSTM\n",
    "- Dataset: UCF50\n",
    "- Arquitectura: CNN para características espaciales + LSTM para temporales"
   ]
  },
  {
   "cell_type": "markdown",
   "id": "1bafc175",
   "metadata": {},
   "source": [
    "## 2. Importación de librerías"
   ]
  },
  {
   "cell_type": "code",
   "execution_count": null,
   "id": "e2e9176a",
   "metadata": {},
   "outputs": [],
   "source": []
  },
  {
   "cell_type": "markdown",
   "id": "62ad37a3",
   "metadata": {},
   "source": [
    "## 3. Carga y preprocesamiento de datos"
   ]
  },
  {
   "cell_type": "code",
   "execution_count": null,
   "id": "e5ca1f41",
   "metadata": {},
   "outputs": [],
   "source": []
  },
  {
   "cell_type": "markdown",
   "id": "63593cc1",
   "metadata": {},
   "source": [
    "## 4. Construcción del modelo"
   ]
  },
  {
   "cell_type": "code",
   "execution_count": null,
   "id": "e9b1d80d",
   "metadata": {},
   "outputs": [],
   "source": []
  },
  {
   "cell_type": "markdown",
   "id": "b5867656",
   "metadata": {},
   "source": [
    "## 5. Entrenamiento del modelo"
   ]
  },
  {
   "cell_type": "code",
   "execution_count": null,
   "id": "7c59bed3",
   "metadata": {},
   "outputs": [],
   "source": []
  },
  {
   "cell_type": "markdown",
   "id": "dc3d966c",
   "metadata": {},
   "source": [
    "## 6. Evaluación"
   ]
  },
  {
   "cell_type": "code",
   "execution_count": null,
   "id": "ce272a97",
   "metadata": {},
   "outputs": [],
   "source": []
  },
  {
   "cell_type": "markdown",
   "id": "d94261ba",
   "metadata": {},
   "source": [
    "## 7.  Función de Inferencia"
   ]
  },
  {
   "cell_type": "code",
   "execution_count": null,
   "id": "3d62d75f",
   "metadata": {},
   "outputs": [],
   "source": []
  }
 ],
 "metadata": {
  "kernelspec": {
   "display_name": "Python 3",
   "language": "python",
   "name": "python3"
  },
  "language_info": {
   "codemirror_mode": {
    "name": "ipython",
    "version": 3
   },
   "file_extension": ".py",
   "mimetype": "text/x-python",
   "name": "python",
   "nbconvert_exporter": "python",
   "pygments_lexer": "ipython3",
   "version": "3.11.9"
  }
 },
 "nbformat": 4,
 "nbformat_minor": 5
}
