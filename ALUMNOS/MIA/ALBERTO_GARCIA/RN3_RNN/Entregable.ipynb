{
  "cells": [
    {
      "cell_type": "code",
      "execution_count": 1,
      "metadata": {
        "colab": {
          "base_uri": "https://localhost:8080/"
        },
        "id": "0tNDUJxENZID",
        "outputId": "05334a35-ff0f-4542-88e4-57567b2745da"
      },
      "outputs": [
        {
          "output_type": "stream",
          "name": "stdout",
          "text": [
            "Mounted at /content/drive\n"
          ]
        }
      ],
      "source": [
        "from google.colab import drive\n",
        "drive.mount('/content/drive')"
      ]
    },
    {
      "cell_type": "code",
      "execution_count": 2,
      "metadata": {
        "id": "NYKgaVjG9Dxt",
        "colab": {
          "base_uri": "https://localhost:8080/"
        },
        "outputId": "077cc869-e6a5-4a60-abc1-f9b216f8c436"
      },
      "outputs": [
        {
          "output_type": "stream",
          "name": "stderr",
          "text": [
            "WARNING:py.warnings:/usr/local/lib/python3.11/dist-packages/moviepy/video/io/sliders.py:61: SyntaxWarning: \"is\" with a literal. Did you mean \"==\"?\n",
            "  if event.key is 'enter':\n",
            "\n"
          ]
        }
      ],
      "source": [
        "import os\n",
        "import cv2\n",
        "import numpy as np\n",
        "import torch\n",
        "import torch.nn as nn\n",
        "import torch.optim as optim\n",
        "import torchvision.transforms as transforms\n",
        "import torchvision.models as models\n",
        "from torch.utils.data import Dataset, DataLoader\n",
        "from glob import glob\n",
        "from moviepy.editor import VideoFileClip\n",
        "from sklearn.model_selection import train_test_split\n",
        "from sklearn.metrics import classification_report, confusion_matrix\n",
        "import matplotlib.pyplot as plt\n",
        "import seaborn as sns"
      ]
    },
    {
      "cell_type": "markdown",
      "metadata": {
        "id": "5H80N4Zo9Dxv"
      },
      "source": []
    },
    {
      "cell_type": "code",
      "execution_count": 3,
      "metadata": {
        "id": "de4w9zRF9Dxw"
      },
      "outputs": [],
      "source": [
        "# Configuración\n",
        "FRAME_COUNT = 16  # Número de frames a extraer por vídeo\n",
        "IMG_SIZE = 224  # Tamaño de imagen\n",
        "BATCH_SIZE = 8\n",
        "EPOCHS = 10\n",
        "LR = 0.001\n",
        "DEVICE = torch.device(\"cuda\" if torch.cuda.is_available() else \"cpu\")\n"
      ]
    },
    {
      "cell_type": "code",
      "source": [
        "import torchvision.transforms as transforms\n",
        "from PIL import Image\n",
        "\n",
        "# Transformaciones para entrenamiento (Data Augmentation)\n",
        "train_transforms = transforms.Compose([\n",
        "    transforms.Resize((224, 224)),  # Redimensionar\n",
        "    transforms.RandomHorizontalFlip(p=0.5),  # Flip horizontal aleatorio\n",
        "    transforms.RandomRotation(15),  # Rotación aleatoria hasta ±15 grados\n",
        "    transforms.RandomAffine(degrees=0, translate=(0.1, 0.1)),  # Pequeños desplazamientos\n",
        "    transforms.ColorJitter(brightness=0.2, contrast=0.2),  # Variar brillo y contraste\n",
        "    transforms.ToTensor(),  # Convertir a tensor\n",
        "    transforms.Normalize(mean=[0.5], std=[0.5])  # Normalización para imágenes en escala de grises\n",
        "])\n",
        "\n",
        "# Transformaciones para validación (sin augmentación)\n",
        "val_transforms = transforms.Compose([\n",
        "    transforms.Resize((224, 224)),\n",
        "    transforms.ToTensor(),\n",
        "    transforms.Normalize(mean=[0.5], std=[0.5])\n",
        "])"
      ],
      "metadata": {
        "id": "GrMzlYaqwFAD"
      },
      "execution_count": 4,
      "outputs": []
    },
    {
      "cell_type": "code",
      "execution_count": 5,
      "metadata": {
        "id": "5mtRbhPfXT3b"
      },
      "outputs": [],
      "source": [
        "from PIL import Image\n",
        "def extract_frames(video_path, num_frames=16, train=True):\n",
        "    cap = cv2.VideoCapture(video_path)\n",
        "    frames = []\n",
        "    total_frames = int(cap.get(cv2.CAP_PROP_FRAME_COUNT))\n",
        "\n",
        "    if total_frames < num_frames:\n",
        "        frame_ids = np.linspace(0, total_frames - 1, total_frames, dtype=int)  # Tomar todos los disponibles\n",
        "    else:\n",
        "        frame_ids = np.linspace(0, total_frames - 1, num_frames, dtype=int)  # Frames espaciados uniformemente\n",
        "\n",
        "    for fid in frame_ids:\n",
        "        cap.set(cv2.CAP_PROP_POS_FRAMES, fid)\n",
        "        ret, frame = cap.read()\n",
        "        if ret:\n",
        "            frame = cv2.cvtColor(frame, cv2.COLOR_BGR2GRAY)  # Convertir a blanco y negro\n",
        "            frame = Image.fromarray(frame)  # Convertir de NumPy a PIL Image\n",
        "\n",
        "            # Aplicar transformaciones de torchvision\n",
        "            transform = train_transforms if train else val_transforms\n",
        "            frame = transform(frame)  # Aplicar transformaciones\n",
        "\n",
        "            frames.append(frame)\n",
        "\n",
        "    cap.release()\n",
        "\n",
        "    if len(frames) < num_frames:\n",
        "        frames.extend([frames[-1]] * (num_frames - len(frames)))  # Padding con último frame\n",
        "\n",
        "    return torch.stack(frames)  # (16, 1, 224, 224)"
      ]
    },
    {
      "cell_type": "code",
      "execution_count": null,
      "metadata": {
        "id": "4QoApBTM9Dxw"
      },
      "outputs": [],
      "source": [
        "# # Función para extraer frames de un vídeo (COLOR)\n",
        "# def extract_frames(video_path, num_frames=FRAME_COUNT):\n",
        "#     cap = cv2.VideoCapture(video_path)\n",
        "#     frames = []\n",
        "#     total_frames = int(cap.get(cv2.CAP_PROP_FRAME_COUNT))\n",
        "#     frame_ids = np.linspace(0, total_frames - 1, num_frames, dtype=int)\n",
        "#     for fid in frame_ids:\n",
        "#         cap.set(cv2.CAP_PROP_POS_FRAMES, fid)\n",
        "#         ret, frame = cap.read()\n",
        "#         if ret:\n",
        "#             frame = cv2.resize(frame, (IMG_SIZE, IMG_SIZE))\n",
        "#             frame = cv2.cvtColor(frame, cv2.COLOR_BGR2RGB)\n",
        "#             frames.append(frame)\n",
        "#     cap.release()\n",
        "#     if len(frames) < num_frames:\n",
        "#         frames.extend([frames[-1]] * (num_frames - len(frames)))  # Padding con último frame\n",
        "#     return np.array(frames)"
      ]
    },
    {
      "cell_type": "code",
      "execution_count": 6,
      "metadata": {
        "colab": {
          "base_uri": "https://localhost:8080/"
        },
        "id": "Cy3zn8_e9SCH",
        "outputId": "227e910b-8438-4096-c4c0-b765683ecf7c"
      },
      "outputs": [
        {
          "output_type": "stream",
          "name": "stdout",
          "text": [
            "Deporte: Kayaking, Videos seleccionados: ['/content/drive/MyDrive/MASTER IA/RNN Entrega/Dataset/Kayaking/v_Kayaking_g16_c04.avi', '/content/drive/MyDrive/MASTER IA/RNN Entrega/Dataset/Kayaking/v_Kayaking_g24_c03.avi', '/content/drive/MyDrive/MASTER IA/RNN Entrega/Dataset/Kayaking/v_Kayaking_g15_c06.avi', '/content/drive/MyDrive/MASTER IA/RNN Entrega/Dataset/Kayaking/v_Kayaking_g12_c02.avi', '/content/drive/MyDrive/MASTER IA/RNN Entrega/Dataset/Kayaking/v_Kayaking_g18_c06.avi', '/content/drive/MyDrive/MASTER IA/RNN Entrega/Dataset/Kayaking/v_Kayaking_g09_c05.avi', '/content/drive/MyDrive/MASTER IA/RNN Entrega/Dataset/Kayaking/v_Kayaking_g20_c04.avi']\n",
            "Deporte: Biking, Videos seleccionados: ['/content/drive/MyDrive/MASTER IA/RNN Entrega/Dataset/Biking/v_Biking_g21_c02.avi', '/content/drive/MyDrive/MASTER IA/RNN Entrega/Dataset/Biking/v_Biking_g10_c04.avi', '/content/drive/MyDrive/MASTER IA/RNN Entrega/Dataset/Biking/v_Biking_g06_c03.avi', '/content/drive/MyDrive/MASTER IA/RNN Entrega/Dataset/Biking/v_Biking_g22_c02.avi', '/content/drive/MyDrive/MASTER IA/RNN Entrega/Dataset/Biking/v_Biking_g07_c04.avi', '/content/drive/MyDrive/MASTER IA/RNN Entrega/Dataset/Biking/v_Biking_g05_c01.avi', '/content/drive/MyDrive/MASTER IA/RNN Entrega/Dataset/Biking/v_Biking_g21_c11.avi']\n",
            "Deporte: Skiing, Videos seleccionados: ['/content/drive/MyDrive/MASTER IA/RNN Entrega/Dataset/Skiing/v_Skiing_g05_c02.avi', '/content/drive/MyDrive/MASTER IA/RNN Entrega/Dataset/Skiing/v_Skiing_g08_c06.avi', '/content/drive/MyDrive/MASTER IA/RNN Entrega/Dataset/Skiing/v_Skiing_g12_c03.avi', '/content/drive/MyDrive/MASTER IA/RNN Entrega/Dataset/Skiing/v_Skiing_g04_c09.avi', '/content/drive/MyDrive/MASTER IA/RNN Entrega/Dataset/Skiing/v_Skiing_g12_c04.avi', '/content/drive/MyDrive/MASTER IA/RNN Entrega/Dataset/Skiing/v_Skiing_g20_c09.avi', '/content/drive/MyDrive/MASTER IA/RNN Entrega/Dataset/Skiing/v_Skiing_g19_c02.avi']\n",
            "Deporte: Diving, Videos seleccionados: ['/content/drive/MyDrive/MASTER IA/RNN Entrega/Dataset/Diving/v_Diving_g05_c04.avi', '/content/drive/MyDrive/MASTER IA/RNN Entrega/Dataset/Diving/v_Diving_g24_c05.avi', '/content/drive/MyDrive/MASTER IA/RNN Entrega/Dataset/Diving/v_Diving_g05_c05.avi', '/content/drive/MyDrive/MASTER IA/RNN Entrega/Dataset/Diving/v_Diving_g13_c05.avi', '/content/drive/MyDrive/MASTER IA/RNN Entrega/Dataset/Diving/v_Diving_g14_c04.avi', '/content/drive/MyDrive/MASTER IA/RNN Entrega/Dataset/Diving/v_Diving_g04_c06.avi', '/content/drive/MyDrive/MASTER IA/RNN Entrega/Dataset/Diving/v_Diving_g05_c01.avi']\n",
            "Deporte: HorseRace, Videos seleccionados: ['/content/drive/MyDrive/MASTER IA/RNN Entrega/Dataset/HorseRace/v_HorseRace_g09_c02.avi', '/content/drive/MyDrive/MASTER IA/RNN Entrega/Dataset/HorseRace/v_HorseRace_g22_c03.avi', '/content/drive/MyDrive/MASTER IA/RNN Entrega/Dataset/HorseRace/v_HorseRace_g13_c01.avi', '/content/drive/MyDrive/MASTER IA/RNN Entrega/Dataset/HorseRace/v_HorseRace_g21_c02.avi', '/content/drive/MyDrive/MASTER IA/RNN Entrega/Dataset/HorseRace/v_HorseRace_g07_c04.avi', '/content/drive/MyDrive/MASTER IA/RNN Entrega/Dataset/HorseRace/v_HorseRace_g21_c04.avi', '/content/drive/MyDrive/MASTER IA/RNN Entrega/Dataset/HorseRace/v_HorseRace_g20_c04.avi']\n"
          ]
        }
      ],
      "source": [
        "import random\n",
        "\n",
        "DATASET_PATH = \"/content/drive/MyDrive/MASTER IA/RNN Entrega/Dataset\"\n",
        "\n",
        "# Diccionario para almacenar videos seleccionados por categoría\n",
        "selected_videos = {}\n",
        "\n",
        "\n",
        "# Recorremos las subcarpetas dentro de dataset (una por cada deporte)\n",
        "for sport in os.listdir(DATASET_PATH):\n",
        "    sport_path = os.path.join(DATASET_PATH, sport)\n",
        "\n",
        "    if os.path.isdir(sport_path):  # Nos aseguramos de que sea una carpeta\n",
        "        video_files = glob(os.path.join(sport_path, \"*\"))  # Busca vídeos en la carpeta\n",
        "        if len(video_files) >= 7:\n",
        "            selected_videos[sport] = random.sample(video_files, 7)  # Selecciona 4 aleatorios\n",
        "        else:\n",
        "            print(f\"⚠️ La categoría '{sport}' tiene menos de 4 vídeos.\")\n",
        "\n",
        "# Mostramos los videos seleccionados\n",
        "for sport, videos in selected_videos.items():\n",
        "    print(f\"Deporte: {sport}, Videos seleccionados: {videos}\")\n",
        "\n"
      ]
    },
    {
      "cell_type": "code",
      "execution_count": 9,
      "metadata": {
        "id": "nYR05YH4PI-K"
      },
      "outputs": [],
      "source": [
        "class CustomDataset(Dataset):\n",
        "    def __init__(self, video_dict, train=True):\n",
        "        self.video_paths = list(video_dict.keys())  # Lista de rutas de vídeo\n",
        "        self.labels = list(video_dict.values())  # Lista de etiquetas numéricas\n",
        "        self.train = train  # Indica si aplicar augmentación o no\n",
        "\n",
        "    def __len__(self):\n",
        "        return len(self.video_paths)\n",
        "\n",
        "    def __getitem__(self, idx):\n",
        "        video_path = self.video_paths[idx]\n",
        "        label = self.labels[idx]\n",
        "\n",
        "        # Extraer frames con augmentación solo si estamos en entrenamiento\n",
        "        frames = extract_frames(video_path, num_frames=16, train=self.train)\n",
        "\n",
        "        # # Extraer frames del vídeo\n",
        "        # frames = extract_frames(video_path, num_frames=16)\n",
        "\n",
        "        # # Convertir a tensor de PyTorch y asegurarse de que está en el formato correcto\n",
        "        # frames = torch.tensor(frames, dtype=torch.float32).permute(0, 3, 1, 2) / 255.0  # (16, 1, 224, 224)\n",
        "\n",
        "        return frames, label"
      ]
    },
    {
      "cell_type": "code",
      "execution_count": 10,
      "metadata": {
        "colab": {
          "base_uri": "https://localhost:8080/"
        },
        "id": "JtIK8_y_Ss85",
        "outputId": "8d9942d8-9f67-4222-f81e-1081502fc880"
      },
      "outputs": [
        {
          "output_type": "stream",
          "name": "stdout",
          "text": [
            "Clases en selected_videos: dict_keys(['Kayaking', 'Biking', 'Skiing', 'Diving', 'HorseRace'])\n",
            "Label map actualizado: {'Kayaking': 0, 'Biking': 1, 'Skiing': 2, 'Diving': 3, 'HorseRace': 4}\n",
            "35\n",
            "35\n",
            "{'/content/drive/MyDrive/MASTER IA/RNN Entrega/Dataset/HorseRace/v_HorseRace_g20_c04.avi': 4, '/content/drive/MyDrive/MASTER IA/RNN Entrega/Dataset/Biking/v_Biking_g21_c11.avi': 1, '/content/drive/MyDrive/MASTER IA/RNN Entrega/Dataset/Skiing/v_Skiing_g20_c09.avi': 2, '/content/drive/MyDrive/MASTER IA/RNN Entrega/Dataset/Kayaking/v_Kayaking_g09_c05.avi': 0, '/content/drive/MyDrive/MASTER IA/RNN Entrega/Dataset/HorseRace/v_HorseRace_g22_c03.avi': 4, '/content/drive/MyDrive/MASTER IA/RNN Entrega/Dataset/Skiing/v_Skiing_g05_c02.avi': 2, '/content/drive/MyDrive/MASTER IA/RNN Entrega/Dataset/Biking/v_Biking_g21_c02.avi': 1, '/content/drive/MyDrive/MASTER IA/RNN Entrega/Dataset/HorseRace/v_HorseRace_g09_c02.avi': 4, '/content/drive/MyDrive/MASTER IA/RNN Entrega/Dataset/Skiing/v_Skiing_g19_c02.avi': 2, '/content/drive/MyDrive/MASTER IA/RNN Entrega/Dataset/Kayaking/v_Kayaking_g15_c06.avi': 0, '/content/drive/MyDrive/MASTER IA/RNN Entrega/Dataset/Kayaking/v_Kayaking_g16_c04.avi': 0, '/content/drive/MyDrive/MASTER IA/RNN Entrega/Dataset/HorseRace/v_HorseRace_g21_c04.avi': 4, '/content/drive/MyDrive/MASTER IA/RNN Entrega/Dataset/Biking/v_Biking_g05_c01.avi': 1, '/content/drive/MyDrive/MASTER IA/RNN Entrega/Dataset/Diving/v_Diving_g05_c05.avi': 3, '/content/drive/MyDrive/MASTER IA/RNN Entrega/Dataset/Biking/v_Biking_g10_c04.avi': 1, '/content/drive/MyDrive/MASTER IA/RNN Entrega/Dataset/Diving/v_Diving_g24_c05.avi': 3, '/content/drive/MyDrive/MASTER IA/RNN Entrega/Dataset/Kayaking/v_Kayaking_g24_c03.avi': 0, '/content/drive/MyDrive/MASTER IA/RNN Entrega/Dataset/Kayaking/v_Kayaking_g12_c02.avi': 0, '/content/drive/MyDrive/MASTER IA/RNN Entrega/Dataset/Skiing/v_Skiing_g12_c03.avi': 2, '/content/drive/MyDrive/MASTER IA/RNN Entrega/Dataset/Diving/v_Diving_g05_c01.avi': 3, '/content/drive/MyDrive/MASTER IA/RNN Entrega/Dataset/HorseRace/v_HorseRace_g13_c01.avi': 4, '/content/drive/MyDrive/MASTER IA/RNN Entrega/Dataset/Skiing/v_Skiing_g04_c09.avi': 2, '/content/drive/MyDrive/MASTER IA/RNN Entrega/Dataset/Diving/v_Diving_g04_c06.avi': 3, '/content/drive/MyDrive/MASTER IA/RNN Entrega/Dataset/Biking/v_Biking_g22_c02.avi': 1}\n",
            "{'/content/drive/MyDrive/MASTER IA/RNN Entrega/Dataset/Diving/v_Diving_g13_c05.avi': 3, '/content/drive/MyDrive/MASTER IA/RNN Entrega/Dataset/Skiing/v_Skiing_g12_c04.avi': 2, '/content/drive/MyDrive/MASTER IA/RNN Entrega/Dataset/HorseRace/v_HorseRace_g07_c04.avi': 4, '/content/drive/MyDrive/MASTER IA/RNN Entrega/Dataset/Diving/v_Diving_g14_c04.avi': 3, '/content/drive/MyDrive/MASTER IA/RNN Entrega/Dataset/Kayaking/v_Kayaking_g20_c04.avi': 0, '/content/drive/MyDrive/MASTER IA/RNN Entrega/Dataset/Biking/v_Biking_g07_c04.avi': 1, '/content/drive/MyDrive/MASTER IA/RNN Entrega/Dataset/Skiing/v_Skiing_g08_c06.avi': 2, '/content/drive/MyDrive/MASTER IA/RNN Entrega/Dataset/HorseRace/v_HorseRace_g21_c02.avi': 4, '/content/drive/MyDrive/MASTER IA/RNN Entrega/Dataset/Diving/v_Diving_g05_c04.avi': 3, '/content/drive/MyDrive/MASTER IA/RNN Entrega/Dataset/Biking/v_Biking_g06_c03.avi': 1, '/content/drive/MyDrive/MASTER IA/RNN Entrega/Dataset/Kayaking/v_Kayaking_g18_c06.avi': 0}\n",
            "Shape del batch de frames: torch.Size([2, 16, 1, 224, 224])\n",
            "Etiqueta del primer sample: tensor([3, 0])\n"
          ]
        }
      ],
      "source": [
        "from sklearn.model_selection import train_test_split\n",
        "from torch.utils.data import DataLoader\n",
        "\n",
        "BATCH_SIZE = 2\n",
        "\n",
        "# Extraer rutas de vídeos y sus etiquetas\n",
        "video_paths = []\n",
        "labels = []\n",
        "print(\"Clases en selected_videos:\", selected_videos.keys())\n",
        "label_map = {sport: idx for idx, sport in enumerate(selected_videos.keys())}\n",
        "print(\"Label map actualizado:\", label_map)\n",
        "for sport, videos in selected_videos.items():\n",
        "    for video in videos:\n",
        "        video_paths.append(video)\n",
        "        labels.append(label_map[sport])  # Convertir a índice numérico\n",
        "print(len(video_paths))\n",
        "print(len(labels))\n",
        "# División estratificada para asegurar representación de todas las clases\n",
        "X_train, X_test, y_train, y_test = train_test_split(video_paths, labels, test_size=0.3, stratify=labels, random_state=42)\n",
        "\n",
        "# Crear datasets\n",
        "train_videos = {X_train[i]: y_train[i] for i in range(len(X_train))}\n",
        "test_videos = {X_test[i]: y_test[i] for i in range(len(X_test))}\n",
        "print(train_videos)\n",
        "print(test_videos)\n",
        "train_dataset = CustomDataset(train_videos, train=True)\n",
        "test_dataset = CustomDataset(test_videos, train=False)\n",
        "\n",
        "# Crear DataLoaders\n",
        "train_loader = DataLoader(train_dataset, batch_size=BATCH_SIZE, shuffle=True)\n",
        "test_loader = DataLoader(test_dataset, batch_size=BATCH_SIZE, shuffle=False)\n",
        "\n",
        "# Comprobación de un batch\n",
        "sample_frames, sample_label = next(iter(train_loader))\n",
        "print(\"Shape del batch de frames:\", sample_frames.shape)  # (batch, 16, 1, 224, 224)\n",
        "print(\"Etiqueta del primer sample:\", sample_label)"
      ]
    },
    {
      "cell_type": "code",
      "execution_count": 11,
      "metadata": {
        "id": "MlgUYCfVeh2N"
      },
      "outputs": [],
      "source": [
        "class CNN_LSTM(nn.Module):\n",
        "    def __init__(self, num_classes):\n",
        "        super(CNN_LSTM, self).__init__()\n",
        "\n",
        "        # Usamos ResNet18 preentrenado como extractor de características\n",
        "        self.cnn = models.resnet18(pretrained=True)\n",
        "        self.cnn.conv1 = nn.Conv2d(1, 64, kernel_size=7, stride=2, padding=3, bias=False)  # Cambiamos para 1 canal\n",
        "        self.cnn.fc = nn.Identity()  # Quitamos la capa final de clasificación\n",
        "\n",
        "        # LSTM para capturar la información temporal\n",
        "        self.lstm = nn.LSTM(input_size=512, hidden_size=256, num_layers=1, batch_first=True)\n",
        "\n",
        "        # Capa final de clasificación\n",
        "        self.fc = nn.Linear(256, num_classes)\n",
        "\n",
        "    def forward(self, x):\n",
        "        batch_size, seq_len, C, H, W = x.shape  # (batch, 16, 1, 224, 224)\n",
        "\n",
        "        # Pasamos cada frame por la CNN\n",
        "        x = x.view(batch_size * seq_len, C, H, W)  # Flatten batch y secuencia\n",
        "        x = self.cnn(x)  # Extraer características con ResNet18\n",
        "        x = x.view(batch_size, seq_len, -1)  # Restaurar la forma (batch, 16, 512)\n",
        "\n",
        "        # Pasamos la secuencia por el LSTM\n",
        "        x, _ = self.lstm(x)\n",
        "\n",
        "        # Clasificación con la última salida del LSTM\n",
        "        x = self.fc(x[:, -1, :])  # Tomamos la última salida del LSTM\n",
        "\n",
        "        return x"
      ]
    },
    {
      "cell_type": "code",
      "execution_count": 12,
      "metadata": {
        "colab": {
          "base_uri": "https://localhost:8080/"
        },
        "id": "_Xk6tRwPejob",
        "outputId": "97b13d31-41d5-41dc-e069-f2890cc4891b"
      },
      "outputs": [
        {
          "output_type": "stream",
          "name": "stderr",
          "text": [
            "WARNING:py.warnings:/usr/local/lib/python3.11/dist-packages/torchvision/models/_utils.py:208: UserWarning: The parameter 'pretrained' is deprecated since 0.13 and may be removed in the future, please use 'weights' instead.\n",
            "  warnings.warn(\n",
            "\n",
            "WARNING:py.warnings:/usr/local/lib/python3.11/dist-packages/torchvision/models/_utils.py:223: UserWarning: Arguments other than a weight enum or `None` for 'weights' are deprecated since 0.13 and may be removed in the future. The current behavior is equivalent to passing `weights=ResNet18_Weights.IMAGENET1K_V1`. You can also use `weights=ResNet18_Weights.DEFAULT` to get the most up-to-date weights.\n",
            "  warnings.warn(msg)\n",
            "\n",
            "Downloading: \"https://download.pytorch.org/models/resnet18-f37072fd.pth\" to /root/.cache/torch/hub/checkpoints/resnet18-f37072fd.pth\n",
            "100%|██████████| 44.7M/44.7M [00:00<00:00, 123MB/s]\n"
          ]
        }
      ],
      "source": [
        "# Número de clases (tantos como deportes tengamos)\n",
        "NUM_CLASSES = len(selected_videos)\n",
        "\n",
        "# Inicializamos el modelo y lo movemos a GPU si está disponible\n",
        "DEVICE = torch.device(\"cuda\" if torch.cuda.is_available() else \"cpu\")\n",
        "model = CNN_LSTM(num_classes=NUM_CLASSES).to(DEVICE)\n",
        "\n",
        "# Función de pérdida y optimizador\n",
        "criterion = nn.CrossEntropyLoss()\n",
        "optimizer = optim.Adam(model.parameters(), lr=0.0005)"
      ]
    },
    {
      "cell_type": "markdown",
      "metadata": {
        "id": "0WOmBYZ8esOc"
      },
      "source": [
        "## Entrenamos el modelo"
      ]
    },
    {
      "cell_type": "code",
      "execution_count": 13,
      "metadata": {
        "colab": {
          "base_uri": "https://localhost:8080/"
        },
        "id": "o6BTG3rwenoc",
        "outputId": "812b8971-9855-4b4d-d832-ee9af6ad889a"
      },
      "outputs": [
        {
          "output_type": "stream",
          "name": "stdout",
          "text": [
            "Epoch 1/10, Loss: 1.8601\n",
            "Epoch 2/10, Loss: 1.4969\n",
            "Epoch 3/10, Loss: 1.3698\n",
            "Epoch 4/10, Loss: 1.2926\n",
            "Epoch 5/10, Loss: 1.5797\n",
            "Epoch 6/10, Loss: 1.4067\n",
            "Epoch 7/10, Loss: 1.3005\n",
            "Epoch 8/10, Loss: 0.9732\n",
            "Epoch 9/10, Loss: 1.2134\n",
            "Epoch 10/10, Loss: 1.1261\n"
          ]
        }
      ],
      "source": [
        "def train_model(model, train_loader, criterion, optimizer, epochs=10):\n",
        "    model.train()\n",
        "\n",
        "    for epoch in range(epochs):\n",
        "        total_loss = 0\n",
        "\n",
        "        for videos, labels in train_loader:\n",
        "            videos, labels = videos.to(DEVICE), labels.to(DEVICE)\n",
        "\n",
        "            optimizer.zero_grad()\n",
        "            outputs = model(videos)\n",
        "            loss = criterion(outputs, labels)\n",
        "            loss.backward()\n",
        "            optimizer.step()\n",
        "\n",
        "            total_loss += loss.item()\n",
        "\n",
        "        print(f\"Epoch {epoch+1}/{epochs}, Loss: {total_loss/len(train_loader):.4f}\")\n",
        "\n",
        "# Entrenar el modelo\n",
        "train_model(model, train_loader, criterion, optimizer, epochs=10)"
      ]
    },
    {
      "cell_type": "markdown",
      "metadata": {
        "id": "6i-6sMe2evxT"
      },
      "source": [
        "## Evaluamos el modelo"
      ]
    },
    {
      "cell_type": "code",
      "execution_count": 14,
      "metadata": {
        "colab": {
          "base_uri": "https://localhost:8080/"
        },
        "id": "xB644Qg2Cr3x",
        "outputId": "1962c93b-f7c5-48ef-8b26-9d13f66249bc"
      },
      "outputs": [
        {
          "output_type": "stream",
          "name": "stdout",
          "text": [
            "Número de clases en el modelo: 5\n",
            "Clases en selected_videos: dict_keys(['Kayaking', 'Biking', 'Skiing', 'Diving', 'HorseRace'])\n"
          ]
        }
      ],
      "source": [
        "print(\"Número de clases en el modelo:\", NUM_CLASSES)\n",
        "print(\"Clases en selected_videos:\", selected_videos.keys())\n"
      ]
    },
    {
      "cell_type": "code",
      "execution_count": 15,
      "metadata": {
        "colab": {
          "base_uri": "https://localhost:8080/",
          "height": 790
        },
        "id": "yzhpLfMDeyvj",
        "outputId": "e7270a70-22d7-49ef-c5cd-f816df06d50a"
      },
      "outputs": [
        {
          "output_type": "stream",
          "name": "stdout",
          "text": [
            "Clases en test set (y_true): {0, 1, 2, 3, 4}\n",
            "Clases en predicciones (y_pred): {0, 1, 2, 3, 4}\n",
            "              precision    recall  f1-score   support\n",
            "\n",
            "    Kayaking       0.25      0.50      0.33         2\n",
            "      Biking       0.50      0.50      0.50         2\n",
            "      Skiing       1.00      1.00      1.00         2\n",
            "      Diving       1.00      0.33      0.50         3\n",
            "   HorseRace       0.50      0.50      0.50         2\n",
            "\n",
            "    accuracy                           0.55        11\n",
            "   macro avg       0.65      0.57      0.57        11\n",
            "weighted avg       0.68      0.55      0.56        11\n",
            "\n"
          ]
        },
        {
          "output_type": "display_data",
          "data": {
            "text/plain": [
              "<Figure size 600x600 with 2 Axes>"
            ],
            "image/png": "[encoded data removed]"
          },
          "metadata": {}
        }
      ],
      "source": [
        "from sklearn.metrics import classification_report, confusion_matrix\n",
        "import seaborn as sns\n",
        "import matplotlib.pyplot as plt\n",
        "\n",
        "def evaluate_model(model, test_loader):\n",
        "    model.eval()\n",
        "    y_true, y_pred = [], []\n",
        "\n",
        "    with torch.no_grad():\n",
        "        for videos, labels in test_loader:\n",
        "            videos, labels = videos.to(DEVICE), labels.to(DEVICE)\n",
        "            outputs = model(videos)\n",
        "            preds = torch.argmax(outputs, dim=1)\n",
        "\n",
        "            y_true.extend(labels.cpu().numpy())\n",
        "            y_pred.extend(preds.cpu().numpy())\n",
        "    print(\"Clases en test set (y_true):\", set(y_true))\n",
        "    print(\"Clases en predicciones (y_pred):\", set(y_pred))\n",
        "    print(classification_report(y_true, y_pred, target_names=selected_videos.keys()))\n",
        "\n",
        "    # Matriz de confusión\n",
        "    cm = confusion_matrix(y_true, y_pred)\n",
        "    plt.figure(figsize=(6, 6))\n",
        "    sns.heatmap(cm, annot=True, fmt='d', xticklabels=selected_videos.keys(), yticklabels=selected_videos.keys())\n",
        "    plt.xlabel(\"Predicción\")\n",
        "    plt.ylabel(\"Real\")\n",
        "    plt.show()\n",
        "\n",
        "# Evaluar el modelo\n",
        "evaluate_model(model, test_loader)"
      ]
    },
    {
      "cell_type": "markdown",
      "metadata": {
        "id": "7-qj2WgOe8sM"
      },
      "source": [
        "## Inferencia"
      ]
    },
    {
      "cell_type": "code",
      "execution_count": null,
      "metadata": {
        "colab": {
          "background_save": true
        },
        "id": "zvS7_ylre-PU",
        "outputId": "6a7c4e52-299f-4c98-c7f2-81100538040a"
      },
      "outputs": [
        {
          "ename": "ValueError",
          "evalue": "operands could not be broadcast together with remapped shapes [original->remapped]: (4,2)  and requested shape (1,2)",
          "output_type": "error",
          "traceback": [
            "\u001b[0;31m---------------------------------------------------------------------------\u001b[0m",
            "\u001b[0;31mValueError\u001b[0m                                Traceback (most recent call last)",
            "\u001b[0;32m<ipython-input-30-8f5c79951490>\u001b[0m in \u001b[0;36m<cell line: 0>\u001b[0;34m()\u001b[0m\n\u001b[1;32m     14\u001b[0m \u001b[0;31m# Prueba con un vídeo externo\u001b[0m\u001b[0;34m\u001b[0m\u001b[0;34m\u001b[0m\u001b[0m\n\u001b[1;32m     15\u001b[0m \u001b[0mvideo_path\u001b[0m \u001b[0;34m=\u001b[0m \u001b[0;34m\"/content/drive/MyDrive/video_prueba.mp4\"\u001b[0m\u001b[0;34m\u001b[0m\u001b[0;34m\u001b[0m\u001b[0m\n\u001b[0;32m---> 16\u001b[0;31m \u001b[0mprint\u001b[0m\u001b[0;34m(\u001b[0m\u001b[0;34mf\"Predicción: {predict_video(model, video_path)}\"\u001b[0m\u001b[0;34m)\u001b[0m\u001b[0;34m\u001b[0m\u001b[0;34m\u001b[0m\u001b[0m\n\u001b[0m",
            "\u001b[0;32m<ipython-input-30-8f5c79951490>\u001b[0m in \u001b[0;36mpredict_video\u001b[0;34m(model, video_path)\u001b[0m\n\u001b[1;32m      2\u001b[0m     \u001b[0mmodel\u001b[0m\u001b[0;34m.\u001b[0m\u001b[0meval\u001b[0m\u001b[0;34m(\u001b[0m\u001b[0;34m)\u001b[0m\u001b[0;34m\u001b[0m\u001b[0;34m\u001b[0m\u001b[0m\n\u001b[1;32m      3\u001b[0m \u001b[0;34m\u001b[0m\u001b[0m\n\u001b[0;32m----> 4\u001b[0;31m     \u001b[0mframes\u001b[0m \u001b[0;34m=\u001b[0m \u001b[0mextract_frames\u001b[0m\u001b[0;34m(\u001b[0m\u001b[0mvideo_path\u001b[0m\u001b[0;34m,\u001b[0m \u001b[0mnum_frames\u001b[0m\u001b[0;34m=\u001b[0m\u001b[0;36m7\u001b[0m\u001b[0;34m)\u001b[0m  \u001b[0;31m# Convertir a blanco y negro\u001b[0m\u001b[0;34m\u001b[0m\u001b[0;34m\u001b[0m\u001b[0m\n\u001b[0m\u001b[1;32m      5\u001b[0m     \u001b[0mframes\u001b[0m \u001b[0;34m=\u001b[0m \u001b[0mtorch\u001b[0m\u001b[0;34m.\u001b[0m\u001b[0mtensor\u001b[0m\u001b[0;34m(\u001b[0m\u001b[0mframes\u001b[0m\u001b[0;34m,\u001b[0m \u001b[0mdtype\u001b[0m\u001b[0;34m=\u001b[0m\u001b[0mtorch\u001b[0m\u001b[0;34m.\u001b[0m\u001b[0mfloat32\u001b[0m\u001b[0;34m)\u001b[0m\u001b[0;34m.\u001b[0m\u001b[0mpermute\u001b[0m\u001b[0;34m(\u001b[0m\u001b[0;36m0\u001b[0m\u001b[0;34m,\u001b[0m \u001b[0;36m3\u001b[0m\u001b[0;34m,\u001b[0m \u001b[0;36m1\u001b[0m\u001b[0;34m,\u001b[0m \u001b[0;36m2\u001b[0m\u001b[0;34m)\u001b[0m \u001b[0;34m/\u001b[0m \u001b[0;36m255.0\u001b[0m\u001b[0;34m\u001b[0m\u001b[0;34m\u001b[0m\u001b[0m\n\u001b[1;32m      6\u001b[0m     \u001b[0mframes\u001b[0m \u001b[0;34m=\u001b[0m \u001b[0mframes\u001b[0m\u001b[0;34m.\u001b[0m\u001b[0munsqueeze\u001b[0m\u001b[0;34m(\u001b[0m\u001b[0;36m0\u001b[0m\u001b[0;34m)\u001b[0m\u001b[0;34m.\u001b[0m\u001b[0mto\u001b[0m\u001b[0;34m(\u001b[0m\u001b[0mDEVICE\u001b[0m\u001b[0;34m)\u001b[0m  \u001b[0;31m# Agregamos dimensión de batch\u001b[0m\u001b[0;34m\u001b[0m\u001b[0;34m\u001b[0m\u001b[0m\n",
            "\u001b[0;32m<ipython-input-20-dfc704a01cb0>\u001b[0m in \u001b[0;36mextract_frames\u001b[0;34m(video_path, num_frames)\u001b[0m\n\u001b[1;32m     22\u001b[0m \u001b[0;34m\u001b[0m\u001b[0m\n\u001b[1;32m     23\u001b[0m     \u001b[0;32mif\u001b[0m \u001b[0mlen\u001b[0m\u001b[0;34m(\u001b[0m\u001b[0mframes\u001b[0m\u001b[0;34m)\u001b[0m \u001b[0;34m<\u001b[0m \u001b[0mnum_frames\u001b[0m\u001b[0;34m:\u001b[0m\u001b[0;34m\u001b[0m\u001b[0;34m\u001b[0m\u001b[0m\n\u001b[0;32m---> 24\u001b[0;31m         \u001b[0mframes\u001b[0m \u001b[0;34m=\u001b[0m \u001b[0mnp\u001b[0m\u001b[0;34m.\u001b[0m\u001b[0mpad\u001b[0m\u001b[0;34m(\u001b[0m\u001b[0mframes\u001b[0m\u001b[0;34m,\u001b[0m \u001b[0;34m(\u001b[0m\u001b[0;34m(\u001b[0m\u001b[0;36m0\u001b[0m\u001b[0;34m,\u001b[0m \u001b[0mnum_frames\u001b[0m \u001b[0;34m-\u001b[0m \u001b[0mlen\u001b[0m\u001b[0;34m(\u001b[0m\u001b[0mframes\u001b[0m\u001b[0;34m)\u001b[0m\u001b[0;34m)\u001b[0m\u001b[0;34m,\u001b[0m \u001b[0;34m(\u001b[0m\u001b[0;36m0\u001b[0m\u001b[0;34m,\u001b[0m \u001b[0;36m0\u001b[0m\u001b[0;34m)\u001b[0m\u001b[0;34m,\u001b[0m \u001b[0;34m(\u001b[0m\u001b[0;36m0\u001b[0m\u001b[0;34m,\u001b[0m \u001b[0;36m0\u001b[0m\u001b[0;34m)\u001b[0m\u001b[0;34m,\u001b[0m \u001b[0;34m(\u001b[0m\u001b[0;36m0\u001b[0m\u001b[0;34m,\u001b[0m \u001b[0;36m0\u001b[0m\u001b[0;34m)\u001b[0m\u001b[0;34m)\u001b[0m\u001b[0;34m,\u001b[0m \u001b[0mmode\u001b[0m\u001b[0;34m=\u001b[0m\u001b[0;34m'edge'\u001b[0m\u001b[0;34m)\u001b[0m  \u001b[0;31m# Padding con último frame\u001b[0m\u001b[0;34m\u001b[0m\u001b[0;34m\u001b[0m\u001b[0m\n\u001b[0m\u001b[1;32m     25\u001b[0m \u001b[0;34m\u001b[0m\u001b[0m\n\u001b[1;32m     26\u001b[0m     \u001b[0;32mreturn\u001b[0m \u001b[0mframes\u001b[0m\u001b[0;34m\u001b[0m\u001b[0;34m\u001b[0m\u001b[0m\n",
            "\u001b[0;32m/usr/local/lib/python3.11/dist-packages/numpy/lib/arraypad.py\u001b[0m in \u001b[0;36mpad\u001b[0;34m(array, pad_width, mode, **kwargs)\u001b[0m\n\u001b[1;32m    746\u001b[0m \u001b[0;34m\u001b[0m\u001b[0m\n\u001b[1;32m    747\u001b[0m     \u001b[0;31m# Broadcast to shape (array.ndim, 2)\u001b[0m\u001b[0;34m\u001b[0m\u001b[0;34m\u001b[0m\u001b[0m\n\u001b[0;32m--> 748\u001b[0;31m     \u001b[0mpad_width\u001b[0m \u001b[0;34m=\u001b[0m \u001b[0m_as_pairs\u001b[0m\u001b[0;34m(\u001b[0m\u001b[0mpad_width\u001b[0m\u001b[0;34m,\u001b[0m \u001b[0marray\u001b[0m\u001b[0;34m.\u001b[0m\u001b[0mndim\u001b[0m\u001b[0;34m,\u001b[0m \u001b[0mas_index\u001b[0m\u001b[0;34m=\u001b[0m\u001b[0;32mTrue\u001b[0m\u001b[0;34m)\u001b[0m\u001b[0;34m\u001b[0m\u001b[0;34m\u001b[0m\u001b[0m\n\u001b[0m\u001b[1;32m    749\u001b[0m \u001b[0;34m\u001b[0m\u001b[0m\n\u001b[1;32m    750\u001b[0m     \u001b[0;32mif\u001b[0m \u001b[0mcallable\u001b[0m\u001b[0;34m(\u001b[0m\u001b[0mmode\u001b[0m\u001b[0;34m)\u001b[0m\u001b[0;34m:\u001b[0m\u001b[0;34m\u001b[0m\u001b[0;34m\u001b[0m\u001b[0m\n",
            "\u001b[0;32m/usr/local/lib/python3.11/dist-packages/numpy/lib/arraypad.py\u001b[0m in \u001b[0;36m_as_pairs\u001b[0;34m(x, ndim, as_index)\u001b[0m\n\u001b[1;32m    520\u001b[0m     \u001b[0;31m# Converting the array with `tolist` seems to improve performance\u001b[0m\u001b[0;34m\u001b[0m\u001b[0;34m\u001b[0m\u001b[0m\n\u001b[1;32m    521\u001b[0m     \u001b[0;31m# when iterating and indexing the result (see usage in `pad`)\u001b[0m\u001b[0;34m\u001b[0m\u001b[0;34m\u001b[0m\u001b[0m\n\u001b[0;32m--> 522\u001b[0;31m     \u001b[0;32mreturn\u001b[0m \u001b[0mnp\u001b[0m\u001b[0;34m.\u001b[0m\u001b[0mbroadcast_to\u001b[0m\u001b[0;34m(\u001b[0m\u001b[0mx\u001b[0m\u001b[0;34m,\u001b[0m \u001b[0;34m(\u001b[0m\u001b[0mndim\u001b[0m\u001b[0;34m,\u001b[0m \u001b[0;36m2\u001b[0m\u001b[0;34m)\u001b[0m\u001b[0;34m)\u001b[0m\u001b[0;34m.\u001b[0m\u001b[0mtolist\u001b[0m\u001b[0;34m(\u001b[0m\u001b[0;34m)\u001b[0m\u001b[0;34m\u001b[0m\u001b[0;34m\u001b[0m\u001b[0m\n\u001b[0m\u001b[1;32m    523\u001b[0m \u001b[0;34m\u001b[0m\u001b[0m\n\u001b[1;32m    524\u001b[0m \u001b[0;34m\u001b[0m\u001b[0m\n",
            "\u001b[0;32m/usr/local/lib/python3.11/dist-packages/numpy/lib/stride_tricks.py\u001b[0m in \u001b[0;36mbroadcast_to\u001b[0;34m(array, shape, subok)\u001b[0m\n\u001b[1;32m    411\u001b[0m            [1, 2, 3]])\n\u001b[1;32m    412\u001b[0m     \"\"\"\n\u001b[0;32m--> 413\u001b[0;31m     \u001b[0;32mreturn\u001b[0m \u001b[0m_broadcast_to\u001b[0m\u001b[0;34m(\u001b[0m\u001b[0marray\u001b[0m\u001b[0;34m,\u001b[0m \u001b[0mshape\u001b[0m\u001b[0;34m,\u001b[0m \u001b[0msubok\u001b[0m\u001b[0;34m=\u001b[0m\u001b[0msubok\u001b[0m\u001b[0;34m,\u001b[0m \u001b[0mreadonly\u001b[0m\u001b[0;34m=\u001b[0m\u001b[0;32mTrue\u001b[0m\u001b[0;34m)\u001b[0m\u001b[0;34m\u001b[0m\u001b[0;34m\u001b[0m\u001b[0m\n\u001b[0m\u001b[1;32m    414\u001b[0m \u001b[0;34m\u001b[0m\u001b[0m\n\u001b[1;32m    415\u001b[0m \u001b[0;34m\u001b[0m\u001b[0m\n",
            "\u001b[0;32m/usr/local/lib/python3.11/dist-packages/numpy/lib/stride_tricks.py\u001b[0m in \u001b[0;36m_broadcast_to\u001b[0;34m(array, shape, subok, readonly)\u001b[0m\n\u001b[1;32m    347\u001b[0m                          'negative')\n\u001b[1;32m    348\u001b[0m     \u001b[0mextras\u001b[0m \u001b[0;34m=\u001b[0m \u001b[0;34m[\u001b[0m\u001b[0;34m]\u001b[0m\u001b[0;34m\u001b[0m\u001b[0;34m\u001b[0m\u001b[0m\n\u001b[0;32m--> 349\u001b[0;31m     it = np.nditer(\n\u001b[0m\u001b[1;32m    350\u001b[0m         \u001b[0;34m(\u001b[0m\u001b[0marray\u001b[0m\u001b[0;34m,\u001b[0m\u001b[0;34m)\u001b[0m\u001b[0;34m,\u001b[0m \u001b[0mflags\u001b[0m\u001b[0;34m=\u001b[0m\u001b[0;34m[\u001b[0m\u001b[0;34m'multi_index'\u001b[0m\u001b[0;34m,\u001b[0m \u001b[0;34m'refs_ok'\u001b[0m\u001b[0;34m,\u001b[0m \u001b[0;34m'zerosize_ok'\u001b[0m\u001b[0;34m]\u001b[0m \u001b[0;34m+\u001b[0m \u001b[0mextras\u001b[0m\u001b[0;34m,\u001b[0m\u001b[0;34m\u001b[0m\u001b[0;34m\u001b[0m\u001b[0m\n\u001b[1;32m    351\u001b[0m         op_flags=['readonly'], itershape=shape, order='C')\n",
            "\u001b[0;31mValueError\u001b[0m: operands could not be broadcast together with remapped shapes [original->remapped]: (4,2)  and requested shape (1,2)"
          ]
        }
      ],
      "source": [
        "def predict_video(model, video_path):\n",
        "    model.eval()\n",
        "\n",
        "    frames = extract_frames(video_path, num_frames=7)  # Convertir a blanco y negro\n",
        "    frames = torch.tensor(frames, dtype=torch.float32).permute(0, 3, 1, 2) / 255.0\n",
        "    frames = frames.unsqueeze(0).to(DEVICE)  # Agregamos dimensión de batch\n",
        "\n",
        "    with torch.no_grad():\n",
        "        output = model(frames)\n",
        "        pred_class = torch.argmax(output, dim=1).item()\n",
        "\n",
        "    return list(selected_videos.keys())[pred_class]\n",
        "\n",
        "# Prueba con un vídeo externo\n",
        "video_path = \"/content/drive/MyDrive/video_prueba.mp4\"\n",
        "print(f\"Predicción: {predict_video(model, video_path)}\")"
      ]
    }
  ],
  "metadata": {
    "colab": {
      "provenance": []
    },
    "kernelspec": {
      "display_name": "Python 3",
      "language": "python",
      "name": "python3"
    },
    "language_info": {
      "codemirror_mode": {
        "name": "ipython",
        "version": 3
      },
      "file_extension": ".py",
      "mimetype": "text/x-python",
      "name": "python",
      "nbconvert_exporter": "python",
      "pygments_lexer": "ipython3",
      "version": "3.12.7"
    }
  },
  "nbformat": 4,
  "nbformat_minor": 0
}