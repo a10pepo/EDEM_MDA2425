{
 "cells": [
  {
   "cell_type": "markdown",
   "metadata": {},
   "source": [
    "# Nota\n",
    "\n",
    "He entrenado el modelo con muy pocos videos porque lo he ejecutado en local y si no eran muchisimos minutos de entrenamiento. Por eso igual el accuracy es bajo pero funcionar funcionan todos los pasos de la tarea. El video de youtube es descargado por mi. "
   ]
  },
  {
   "cell_type": "markdown",
   "metadata": {},
   "source": [
    "### Cargar Vídeos y Extraer Frames: Implementa una función para extraer frames de los vídeos"
   ]
  },
  {
   "cell_type": "code",
   "execution_count": 8,
   "metadata": {},
   "outputs": [],
   "source": [
    "import cv2\n",
    "import os\n",
    "\n",
    "def extract_frames(video_path, num_frames=10):\n",
    "    cap = cv2.VideoCapture(video_path)\n",
    "    frames = []\n",
    "    total_frames = int(cap.get(cv2.CAP_PROP_FRAME_COUNT))\n",
    "\n",
    "    for i in range(num_frames):\n",
    "        frame_index = int((i / num_frames) * total_frames)\n",
    "        cap.set(cv2.CAP_PROP_POS_FRAMES, frame_index)\n",
    "        ret, frame = cap.read()\n",
    "        if ret:\n",
    "            frames.append(frame)\n",
    "\n",
    "    cap.release()\n",
    "    return frames\n"
   ]
  },
  {
   "cell_type": "markdown",
   "metadata": {},
   "source": [
    "### Construir el Modelo CNN + LSTM"
   ]
  },
  {
   "cell_type": "code",
   "execution_count": 9,
   "metadata": {},
   "outputs": [],
   "source": [
    "import tensorflow as tf\n",
    "from tensorflow.keras.models import Sequential\n",
    "from tensorflow.keras.layers import Conv2D, MaxPooling2D, Flatten, Dense, LSTM, TimeDistributed\n",
    "\n",
    "def build_model(input_shape, num_classes):\n",
    "    model = Sequential()\n",
    "\n",
    "    # CNN para extraer características de los frames\n",
    "    model.add(TimeDistributed(Conv2D(16, (3, 3), activation='relu'), input_shape=input_shape))\n",
    "    model.add(TimeDistributed(MaxPooling2D((2, 2))))\n",
    "    model.add(TimeDistributed(Conv2D(32, (3, 3), activation='relu')))\n",
    "    model.add(TimeDistributed(MaxPooling2D((2, 2))))\n",
    "    model.add(TimeDistributed(Flatten()))\n",
    "\n",
    "    # LSTM para capturar la dependencia temporal\n",
    "    model.add(LSTM(64))\n",
    "\n",
    "    # Capa de salida\n",
    "    model.add(Dense(num_classes, activation='softmax'))\n",
    "\n",
    "    model.compile(optimizer='adam', loss='categorical_crossentropy', metrics=['accuracy'])\n",
    "    return model\n"
   ]
  },
  {
   "cell_type": "markdown",
   "metadata": {},
   "source": [
    "### Preparación de datos y entrenamiento del modelo"
   ]
  },
  {
   "cell_type": "code",
   "execution_count": 10,
   "metadata": {},
   "outputs": [
    {
     "name": "stdout",
     "output_type": "stream",
     "text": [
      "Epoch 1/10\n",
      "\u001b[1m4/4\u001b[0m \u001b[32m━━━━━━━━━━━━━━━━━━━━\u001b[0m\u001b[37m\u001b[0m \u001b[1m102s\u001b[0m 21s/step - accuracy: 0.1792 - loss: 1.8421 - val_accuracy: 0.1250 - val_loss: 1.8992\n",
      "Epoch 2/10\n",
      "\u001b[1m4/4\u001b[0m \u001b[32m━━━━━━━━━━━━━━━━━━━━\u001b[0m\u001b[37m\u001b[0m \u001b[1m73s\u001b[0m 19s/step - accuracy: 0.1875 - loss: 1.7713 - val_accuracy: 0.1250 - val_loss: 1.9320\n",
      "Epoch 3/10\n",
      "\u001b[1m4/4\u001b[0m \u001b[32m━━━━━━━━━━━━━━━━━━━━\u001b[0m\u001b[37m\u001b[0m \u001b[1m47s\u001b[0m 12s/step - accuracy: 0.1125 - loss: 1.8508 - val_accuracy: 0.1250 - val_loss: 1.9062\n",
      "Epoch 4/10\n",
      "\u001b[1m4/4\u001b[0m \u001b[32m━━━━━━━━━━━━━━━━━━━━\u001b[0m\u001b[37m\u001b[0m \u001b[1m42s\u001b[0m 10s/step - accuracy: 0.1708 - loss: 1.7836 - val_accuracy: 0.1250 - val_loss: 1.8825\n",
      "Epoch 5/10\n",
      "\u001b[1m4/4\u001b[0m \u001b[32m━━━━━━━━━━━━━━━━━━━━\u001b[0m\u001b[37m\u001b[0m \u001b[1m44s\u001b[0m 11s/step - accuracy: 0.2792 - loss: 1.6483 - val_accuracy: 0.1250 - val_loss: 1.8033\n",
      "Epoch 6/10\n",
      "\u001b[1m4/4\u001b[0m \u001b[32m━━━━━━━━━━━━━━━━━━━━\u001b[0m\u001b[37m\u001b[0m \u001b[1m38s\u001b[0m 9s/step - accuracy: 0.1458 - loss: 1.7514 - val_accuracy: 0.1250 - val_loss: 1.7870\n",
      "Epoch 7/10\n",
      "\u001b[1m4/4\u001b[0m \u001b[32m━━━━━━━━━━━━━━━━━━━━\u001b[0m\u001b[37m\u001b[0m \u001b[1m52s\u001b[0m 15s/step - accuracy: 0.1708 - loss: 1.6099 - val_accuracy: 0.1250 - val_loss: 1.7756\n",
      "Epoch 8/10\n",
      "\u001b[1m4/4\u001b[0m \u001b[32m━━━━━━━━━━━━━━━━━━━━\u001b[0m\u001b[37m\u001b[0m \u001b[1m46s\u001b[0m 11s/step - accuracy: 0.1792 - loss: 1.6122 - val_accuracy: 0.1250 - val_loss: 1.7650\n",
      "Epoch 9/10\n",
      "\u001b[1m4/4\u001b[0m \u001b[32m━━━━━━━━━━━━━━━━━━━━\u001b[0m\u001b[37m\u001b[0m \u001b[1m38s\u001b[0m 9s/step - accuracy: 0.1417 - loss: 1.5680 - val_accuracy: 0.1250 - val_loss: 1.7576\n",
      "Epoch 10/10\n",
      "\u001b[1m4/4\u001b[0m \u001b[32m━━━━━━━━━━━━━━━━━━━━\u001b[0m\u001b[37m\u001b[0m \u001b[1m39s\u001b[0m 10s/step - accuracy: 0.2167 - loss: 1.6346 - val_accuracy: 0.1250 - val_loss: 1.7499\n",
      "Accuracy: 30.00%\n"
     ]
    }
   ],
   "source": [
    "import os\n",
    "import numpy as np\n",
    "from sklearn.model_selection import train_test_split\n",
    "from tensorflow.keras.utils import to_categorical\n",
    "\n",
    "base_path = 'UCF50'\n",
    "video_paths = []\n",
    "labels = []\n",
    "for deporte in os.listdir(base_path):\n",
    "    deporte_path = os.path.join(base_path, deporte)\n",
    "    if os.path.isdir(deporte_path):\n",
    "        for video in os.listdir(deporte_path):\n",
    "            video_path = os.path.join(deporte_path, video)\n",
    "            video_paths.append(video_path)\n",
    "            labels.append(deporte)\n",
    "\n",
    "label_mapping = {label: idx for idx, label in enumerate(set(labels))}\n",
    "labels = [label_mapping[label] for label in labels]\n",
    "frames = [extract_frames(path) for path in video_paths]\n",
    "frames = [f for f in frames if len(f) > 0]\n",
    "labels = [l for f, l in zip(frames, labels) if len(f) > 0]\n",
    "X = np.array(frames)\n",
    "y = to_categorical(labels)\n",
    "X_train, X_test, y_train, y_test = train_test_split(X, y, test_size=0.2, random_state=42)\n",
    "input_shape = X_train.shape[1:]\n",
    "num_classes = y_train.shape[1]\n",
    "model = build_model(input_shape, num_classes)\n",
    "model.fit(X_train, y_train, epochs=10, batch_size=8, validation_split=0.2)\n",
    "\n",
    "scores = model.evaluate(X_test, y_test, verbose=0)\n",
    "print(\"Accuracy: %.2f%%\" % (scores[1]*100))"
   ]
  },
  {
   "cell_type": "markdown",
   "metadata": {},
   "source": [
    "### Función de inferencia"
   ]
  },
  {
   "cell_type": "code",
   "execution_count": 11,
   "metadata": {},
   "outputs": [
    {
     "name": "stderr",
     "output_type": "stream",
     "text": [
      "<>:31: SyntaxWarning: invalid escape sequence '\\B'\n",
      "<>:31: SyntaxWarning: invalid escape sequence '\\B'\n",
      "C:\\Users\\usuario\\AppData\\Local\\Temp\\ipykernel_16368\\899247916.py:31: SyntaxWarning: invalid escape sequence '\\B'\n",
      "  video_path = \"UCF50\\Basketball\\v_Basketball_g02_c01.avi\"\n"
     ]
    },
    {
     "name": "stdout",
     "output_type": "stream",
     "text": [
      "\u001b[1m1/1\u001b[0m \u001b[32m━━━━━━━━━━━━━━━━━━━━\u001b[0m\u001b[37m\u001b[0m \u001b[1m1s\u001b[0m 1s/step\n",
      "🏅 Deporte predicho: Rowing\n"
     ]
    }
   ],
   "source": [
    "from sklearn.metrics import classification_report, confusion_matrix\n",
    "import seaborn as sns\n",
    "import matplotlib.pyplot as plt\n",
    "\n",
    "\n",
    "def predict_video(model, video_path, label_mapping):\n",
    "\n",
    "    video_path = r\"UCF50\\Basketball\\v_Basketball_g01_c07.avi\"\n",
    "\n",
    "    # Extraer frames del video\n",
    "    frames = extract_frames(video_path)\n",
    "    \n",
    "    if len(frames) == 0:\n",
    "        print(f\"⚠️ No se pudieron extraer frames del video: {video_path}\")\n",
    "        return None\n",
    "\n",
    "    # Convertir los frames a formato adecuado para el modelo\n",
    "    frames = np.array(frames)\n",
    "    frames = np.expand_dims(frames, axis=0)  # Añadir dimensión batch\n",
    "\n",
    "    # Hacer la predicción\n",
    "    prediction = model.predict(frames)\n",
    "    predicted_class = np.argmax(prediction)\n",
    "\n",
    "    # Obtener el nombre del deporte a partir del índice predicho\n",
    "    class_name = {v: k for k, v in label_mapping.items()}[predicted_class]\n",
    "\n",
    "    return class_name\n",
    "\n",
    "# Uso de la función\n",
    "video_path = \"UCF50\\Basketball\\v_Basketball_g02_c01.avi\"\n",
    "predicted_sport = predict_video(model, video_path, label_mapping)\n",
    "print(f\"🏅 Deporte predicho: {predicted_sport}\")\n"
   ]
  },
  {
   "cell_type": "markdown",
   "metadata": {},
   "source": [
    "### Test Externo"
   ]
  },
  {
   "cell_type": "code",
   "execution_count": 12,
   "metadata": {},
   "outputs": [
    {
     "name": "stdout",
     "output_type": "stream",
     "text": [
      "\u001b[1m1/1\u001b[0m \u001b[32m━━━━━━━━━━━━━━━━━━━━\u001b[0m\u001b[37m\u001b[0m \u001b[1m1s\u001b[0m 805ms/step\n",
      "🏅 Deporte predicho: YoYo\n"
     ]
    }
   ],
   "source": [
    "import numpy as np\n",
    "import cv2\n",
    "import tensorflow as tf\n",
    "from tensorflow.keras.models import Sequential\n",
    "from tensorflow.keras.layers import Conv2D, MaxPooling2D, LSTM, TimeDistributed, Dense, Flatten\n",
    "\n",
    "# 📌 FUNCIÓN PARA EXTRAER FRAMES\n",
    "def extract_frames(video_path, num_frames=10, target_size=(64, 64)):\n",
    "    \"\"\"\n",
    "    Extrae un número fijo de frames de un video.\n",
    "\n",
    "    Parámetros:\n",
    "        video_path: Ruta del video.\n",
    "        num_frames: Número de frames a extraer.\n",
    "        target_size: Tamaño al que se redimensionarán los frames.\n",
    "\n",
    "    Retorna:\n",
    "        Un array de frames normalizados o None si el video no se puede leer.\n",
    "    \"\"\"\n",
    "    cap = cv2.VideoCapture(video_path)\n",
    "\n",
    "    # Verificar si el video se abrió correctamente\n",
    "    if not cap.isOpened():\n",
    "        print(f\"⚠️ No se pudo abrir el video: {video_path}\")\n",
    "        return None\n",
    "\n",
    "    frames = []\n",
    "    total_frames = int(cap.get(cv2.CAP_PROP_FRAME_COUNT))\n",
    "\n",
    "    if total_frames == 0:\n",
    "        print(f\"⚠️ El video no tiene frames: {video_path}\")\n",
    "        cap.release()\n",
    "        return None\n",
    "\n",
    "    for i in range(num_frames):\n",
    "        frame_index = int((i / num_frames) * total_frames)\n",
    "        cap.set(cv2.CAP_PROP_POS_FRAMES, frame_index)\n",
    "        ret, frame = cap.read()\n",
    "        if ret:\n",
    "            frame = cv2.resize(frame, target_size)  # Redimensionar\n",
    "            frame = frame / 255.0  # Normalizar\n",
    "            frames.append(frame)\n",
    "\n",
    "    cap.release()\n",
    "\n",
    "    # Verificar si se extrajeron suficientes frames\n",
    "    if len(frames) < num_frames:\n",
    "        print(f\"⚠️ Solo se extrajeron {len(frames)} frames en lugar de {num_frames}. Completando con frames vacíos...\")\n",
    "        while len(frames) < num_frames:\n",
    "            frames.append(np.zeros((target_size[0], target_size[1], 3)))  # Agregar frames negros\n",
    "\n",
    "    return np.array(frames, dtype=np.float32)\n",
    "\n",
    "\n",
    "# 📌 FUNCIÓN PARA HACER LA PREDICCIÓN\n",
    "def predict_video(model, video_path, label_mapping, num_frames=10, target_size=(64, 64)):\n",
    "    \"\"\"\n",
    "    Realiza la predicción del deporte en un video.\n",
    "\n",
    "    Parámetros:\n",
    "        model: Modelo entrenado.\n",
    "        video_path: Ruta del video a clasificar.\n",
    "        label_mapping: Diccionario {nombre_deporte: índice}.\n",
    "        num_frames: Número de frames que el modelo espera.\n",
    "        target_size: Dimensión de los frames.\n",
    "\n",
    "    Retorna:\n",
    "        Nombre del deporte predicho.\n",
    "    \"\"\"\n",
    "    # Extraer frames del video\n",
    "    frames = extract_frames(video_path, num_frames=num_frames, target_size=target_size)\n",
    "\n",
    "    # Si la extracción falló, retornar None\n",
    "    if frames is None:\n",
    "        print(\"⚠️ No se pudo procesar el video.\")\n",
    "        return None\n",
    "\n",
    "    # Agregar dimensión batch y canal\n",
    "    frames = np.expand_dims(frames, axis=0)  # (1, num_frames, height, width, channels)\n",
    "\n",
    "    # Predicción\n",
    "    prediction = model.predict(frames)\n",
    "    predicted_class = np.argmax(prediction)\n",
    "\n",
    "    # Obtener el nombre del deporte a partir del índice predicho\n",
    "    class_name = {v: k for k, v in label_mapping.items()}[predicted_class]\n",
    "\n",
    "    return class_name\n",
    "\n",
    "\n",
    "# 📌 MODELO CNN + LSTM\n",
    "def build_model(input_shape, num_classes):\n",
    "    model = Sequential()\n",
    "\n",
    "    # CNN para extraer características\n",
    "    model.add(TimeDistributed(Conv2D(16, (3, 3), activation='relu'), input_shape=input_shape))\n",
    "    model.add(TimeDistributed(MaxPooling2D((2, 2))))\n",
    "    model.add(TimeDistributed(Conv2D(32, (3, 3), activation='relu')))\n",
    "    model.add(TimeDistributed(MaxPooling2D((2, 2))))\n",
    "    model.add(TimeDistributed(Flatten()))\n",
    "\n",
    "    # LSTM para capturar dependencia temporal\n",
    "    model.add(LSTM(64, return_sequences=False))\n",
    "\n",
    "    # Capa de salida\n",
    "    model.add(Dense(num_classes, activation='softmax'))\n",
    "\n",
    "    model.compile(optimizer='adam', loss='categorical_crossentropy', metrics=['accuracy'])\n",
    "    return model\n",
    "\n",
    "\n",
    "# 📌 CARGAR EL MODELO\n",
    "input_shape = (10, 64, 64, 3)  # 10 frames, tamaño 64x64, 3 canales (RGB)\n",
    "num_classes = len(label_mapping)  # Número total de deportes\n",
    "model = build_model(input_shape, num_classes)\n",
    "\n",
    "# 📌 PRUEBA CON EL VIDEO DESCARGADO\n",
    "video_path = \"video yt/videoplayback.webm\"\n",
    "predicted_sport = predict_video(model, video_path, label_mapping)\n",
    "\n",
    "# 📌 MOSTRAR RESULTADO\n",
    "if predicted_sport:\n",
    "    print(f\"🏅 Deporte predicho: {predicted_sport}\")\n"
   ]
  }
 ],
 "metadata": {
  "kernelspec": {
   "display_name": "Python 3",
   "language": "python",
   "name": "python3"
  },
  "language_info": {
   "codemirror_mode": {
    "name": "ipython",
    "version": 3
   },
   "file_extension": ".py",
   "mimetype": "text/x-python",
   "name": "python",
   "nbconvert_exporter": "python",
   "pygments_lexer": "ipython3",
   "version": "3.12.7"
  }
 },
 "nbformat": 4,
 "nbformat_minor": 2
}
