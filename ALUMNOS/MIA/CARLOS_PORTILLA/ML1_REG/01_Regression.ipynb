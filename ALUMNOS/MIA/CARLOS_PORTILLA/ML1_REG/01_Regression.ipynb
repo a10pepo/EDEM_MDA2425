{
 "cells": [
  {
   "cell_type": "markdown",
   "metadata": {},
   "source": [
    "# Problema\n",
    "\n",
    "Predecir el coste del seguro"
   ]
  },
  {
   "cell_type": "markdown",
   "metadata": {
    "id": "XpPr25I0aINE"
   },
   "source": [
    "## Instrucciones\n",
    "\n",
    " Utilizar el dataset (insurance.csv) para entrenar un modelo de regresión capaz de predecir el valor del seguro en función de las características del cliente. Realizar limpieza, preprocesado modelado y testeo del modelo aportando conclusiones de todos estos pasos."
   ]
  },
  {
   "cell_type": "markdown",
   "metadata": {
    "id": "kNF4GgV_n34K"
   },
   "source": [
    "# El set de datos\n",
    "\n",
    "* age: age of primary beneficiary\n",
    "\n",
    "* sex: insurance contractor gender, female, male\n",
    "\n",
    "* bmi: Body mass index, providing an understanding of body, weights that are relatively high or low relative to height,\n",
    "objective index of body weight (kg / m ^ 2) using the ratio of height to weight, ideally 18.5 to 24.9\n",
    "\n",
    "* children: Number of children covered by health insurance / Number of dependents\n",
    "\n",
    "* smoker: Smoking\n",
    "\n",
    "* region: the beneficiary's residential area in the US, northeast, southeast, southwest, northwest.\n",
    "\n",
    "* charges: Individual medical costs billed by health insurance\n",
    "\n"
   ]
  },
  {
   "cell_type": "code",
   "execution_count": 1,
   "metadata": {
    "id": "LDnXEh9vn2GX"
   },
   "outputs": [],
   "source": [
    "# imports\n",
    "import pandas as pd\n",
    "import numpy as np\n",
    "import matplotlib.pyplot as plt\n",
    "from sklearn.model_selection import train_test_split\n",
    "from sklearn.preprocessing import MinMaxScaler, PolynomialFeatures\n",
    "from sklearn.linear_model import LinearRegression, Ridge, Lasso, ElasticNet\n",
    "from sklearn.tree import DecisionTreeRegressor\n",
    "from sklearn.ensemble import RandomForestRegressor\n",
    "from sklearn.metrics import mean_absolute_error, mean_squared_error, r2_score"
   ]
  },
  {
   "cell_type": "code",
   "execution_count": 2,
   "metadata": {
    "id": "uZkDH4HMoERG"
   },
   "outputs": [],
   "source": [
    "ruta = \"insurance.csv\"\n",
    "data = pd.read_csv(ruta)"
   ]
  },
  {
   "cell_type": "code",
   "execution_count": 3,
   "metadata": {
    "id": "2C6TxrrjoLca"
   },
   "outputs": [
    {
     "name": "stdout",
     "output_type": "stream",
     "text": [
      "(1338, 7)\n"
     ]
    },
    {
     "data": {
      "text/html": [
       "<div>\n",
       "<style scoped>\n",
       "    .dataframe tbody tr th:only-of-type {\n",
       "        vertical-align: middle;\n",
       "    }\n",
       "\n",
       "    .dataframe tbody tr th {\n",
       "        vertical-align: top;\n",
       "    }\n",
       "\n",
       "    .dataframe thead th {\n",
       "        text-align: right;\n",
       "    }\n",
       "</style>\n",
       "<table border=\"1\" class=\"dataframe\">\n",
       "  <thead>\n",
       "    <tr style=\"text-align: right;\">\n",
       "      <th></th>\n",
       "      <th>age</th>\n",
       "      <th>sex</th>\n",
       "      <th>bmi</th>\n",
       "      <th>children</th>\n",
       "      <th>smoker</th>\n",
       "      <th>region</th>\n",
       "      <th>charges</th>\n",
       "    </tr>\n",
       "  </thead>\n",
       "  <tbody>\n",
       "    <tr>\n",
       "      <th>0</th>\n",
       "      <td>19</td>\n",
       "      <td>female</td>\n",
       "      <td>27.900</td>\n",
       "      <td>0</td>\n",
       "      <td>yes</td>\n",
       "      <td>southwest</td>\n",
       "      <td>16884.92400</td>\n",
       "    </tr>\n",
       "    <tr>\n",
       "      <th>1</th>\n",
       "      <td>18</td>\n",
       "      <td>male</td>\n",
       "      <td>33.770</td>\n",
       "      <td>1</td>\n",
       "      <td>no</td>\n",
       "      <td>southeast</td>\n",
       "      <td>1725.55230</td>\n",
       "    </tr>\n",
       "    <tr>\n",
       "      <th>2</th>\n",
       "      <td>28</td>\n",
       "      <td>male</td>\n",
       "      <td>33.000</td>\n",
       "      <td>3</td>\n",
       "      <td>no</td>\n",
       "      <td>southeast</td>\n",
       "      <td>4449.46200</td>\n",
       "    </tr>\n",
       "    <tr>\n",
       "      <th>3</th>\n",
       "      <td>33</td>\n",
       "      <td>male</td>\n",
       "      <td>22.705</td>\n",
       "      <td>0</td>\n",
       "      <td>no</td>\n",
       "      <td>northwest</td>\n",
       "      <td>21984.47061</td>\n",
       "    </tr>\n",
       "    <tr>\n",
       "      <th>4</th>\n",
       "      <td>32</td>\n",
       "      <td>male</td>\n",
       "      <td>28.880</td>\n",
       "      <td>0</td>\n",
       "      <td>no</td>\n",
       "      <td>northwest</td>\n",
       "      <td>3866.85520</td>\n",
       "    </tr>\n",
       "  </tbody>\n",
       "</table>\n",
       "</div>"
      ],
      "text/plain": [
       "   age     sex     bmi  children smoker     region      charges\n",
       "0   19  female  27.900         0    yes  southwest  16884.92400\n",
       "1   18    male  33.770         1     no  southeast   1725.55230\n",
       "2   28    male  33.000         3     no  southeast   4449.46200\n",
       "3   33    male  22.705         0     no  northwest  21984.47061\n",
       "4   32    male  28.880         0     no  northwest   3866.85520"
      ]
     },
     "execution_count": 3,
     "metadata": {},
     "output_type": "execute_result"
    }
   ],
   "source": [
    "print(data.shape)\n",
    "data.head()"
   ]
  },
  {
   "cell_type": "markdown",
   "metadata": {
    "id": "suOncPeIo2Ln"
   },
   "source": [
    "# Objetivo\n",
    "\n",
    "Generar un model de regresión capaz de predecir el valor del seguro en base a las características del cliente.\n",
    "\n",
    "* Aplicar las técnicas oportunas de procesamiento de datos (lipieza, nans, escalado...)\n",
    "\n",
    "* Valorar diferentes modelos de regresión (linear regressor, polynomial, ridge, lasso, elastic, decission tree y random forest)\n",
    "\n",
    "* Comparación entre modelos (dividir el dataset en train y test, entrenar con el train y evaluar con el test)\n",
    "\n",
    "* Métricas (todas, y que aporta cada una)\n",
    "\n",
    "* Conclusiones finales"
   ]
  },
  {
   "cell_type": "markdown",
   "metadata": {
    "id": "Ee-3csHRJxqW"
   },
   "source": [
    "## Implementación"
   ]
  },
  {
   "cell_type": "code",
   "execution_count": 4,
   "metadata": {
    "id": "oGEq8EGTpp7g"
   },
   "outputs": [
    {
     "data": {
      "text/plain": [
       "age           int64\n",
       "sex          object\n",
       "bmi         float64\n",
       "children      int64\n",
       "smoker       object\n",
       "region       object\n",
       "charges     float64\n",
       "dtype: object"
      ]
     },
     "execution_count": 4,
     "metadata": {},
     "output_type": "execute_result"
    }
   ],
   "source": [
    "data.dtypes"
   ]
  },
  {
   "cell_type": "code",
   "execution_count": 5,
   "metadata": {},
   "outputs": [
    {
     "name": "stdout",
     "output_type": "stream",
     "text": [
      "age         0\n",
      "sex         0\n",
      "bmi         0\n",
      "children    0\n",
      "smoker      0\n",
      "region      0\n",
      "charges     0\n",
      "dtype: int64\n"
     ]
    }
   ],
   "source": [
    "print(data.isna().sum())"
   ]
  },
  {
   "cell_type": "code",
   "execution_count": 6,
   "metadata": {},
   "outputs": [],
   "source": [
    "categorical_cols = data.select_dtypes(include=['object']).columns\n",
    "data_encoded = pd.get_dummies(data, columns=categorical_cols, drop_first=True)"
   ]
  },
    {
   "cell_type": "code",
   "execution_count": 7,
   "metadata": {},
   "outputs": [],
   "source": [
    "numeric_cols = data_encoded.select_dtypes(include=np.number).columns.tolist()\n",
    "scaler = MinMaxScaler()\n",
    "data_encoded[numeric_cols] = scaler.fit_transform(data_encoded[numeric_cols])"
   ]
  },
  {
   "cell_type": "code",
   "execution_count": 8,
   "metadata": {},
   "outputs": [],
   "source": [
    "X = data_encoded.drop('charges', axis=1)\n",
    "y = data_encoded['charges']\n",
    "X_train, X_test, y_train, y_test = train_test_split(X, y, test_size=0.2, random_state=42)"
   ]
  },
    {
   "cell_type": "code",
   "execution_count": 9,
   "metadata": {},
   "outputs": [],
   "source": [
    "results = []\n",
    "def train_and_evaluate(model, model_name, X_train, X_test, y_train, y_test):\n",
    "    model.fit(X_train, y_train)\n",
    "    y_pred_train = model.predict(X_train)\n",
    "    y_pred_test = model.predict(X_test)\n",
    "    mae_train = mean_absolute_error(y_train, y_pred_train)\n",
    "    mse_train = mean_squared_error(y_train, y_pred_train)\n",
    "    rmse_train = np.sqrt(mse_train)\n",
    "    r2_train = r2_score(y_train, y_pred_train)\n",
    "    mae_test = mean_absolute_error(y_test, y_pred_test)\n",
    "    mse_test = mean_squared_error(y_test, y_pred_test)\n",
    "    rmse_test = np.sqrt(mse_test)\n",
    "    r2_test = r2_score(y_test, y_pred_test)\n",
    "    results.append({'Model': model_name, 'MAE Train': mae_train, 'MAE Test': mae_test, 'MSE Train': mse_train, 'MSE Test': mse_test, 'RMSE Train': rmse_train, 'RMSE Test': rmse_test, 'R2 Train': r2_train, 'R2 Test': r2_test})\n",
    "    print(f\"Modelo: {model_name}\")\n",
    "    print(f\"Métricas en Train: MAE: {mae_train:.4f}, MSE: {mse_train:.4f}, RMSE: {rmse_train:.4f}, R2: {r2_train:.4f}\")\n",
    "    print(f\"Métricas en Test: MAE: {mae_test:.4f}, MSE: {mse_test:.4f}, RMSE: {rmse_test:.4f}, R2: {r2_test:.4f}\")\n",
    "    print('-'*50)"
   ]
  },
  {
   "cell_type": "code",
   "execution_count": 10,
   "metadata": {},
   "outputs": [
    {
     "name": "stdout",
     "output_type": "stream",
     "text": [
      "Modelo: Linear Regression\n",
      "Métricas en Train: MAE: 0.0671, MSE: 0.0095, RMSE: 0.0975, R2: 0.7416\n",
      "Métricas en Test: MAE: 0.0667, MSE: 0.0086, RMSE: 0.0925, R2: 0.7838\n",
      "--------------------------------------------------\n",
      "Modelo: Ridge Regression\n",
      "Métricas en Train: MAE: 0.0670, MSE: 0.0095, RMSE: 0.0975, R2: 0.7416\n",
      "Métricas en Test: MAE: 0.0666, MSE: 0.0086, RMSE: 0.0926, R2: 0.7833\n",
      "--------------------------------------------------\n",
      "Modelo: Lasso Regression\n",
      "Métricas en Train: MAE: 0.1437, MSE: 0.0368, RMSE: 0.1918, R2: 0.0000\n",
      "Métricas en Test: MAE: 0.1531, MSE: 0.0396, RMSE: 0.1990, R2: -0.0009\n",
      "--------------------------------------------------\n",
      "Modelo: ElasticNet Regression\n",
      "Métricas en Train: MAE: 0.1437, MSE: 0.0368, RMSE: 0.1918, R2: 0.0000\n",
      "Métricas en Test: MAE: 0.1531, MSE: 0.0396, RMSE: 0.1990, R2: -0.0009\n",
      "--------------------------------------------------\n",
      "Modelo: Decision Tree\n",
      "Métricas en Train: MAE: 0.0000, MSE: 0.0000, RMSE: 0.0000, R2: 1.0000\n",
      "Métricas en Test: MAE: 0.0489, MSE: 0.0108, RMSE: 0.1038, R2: 0.7270\n",
      "--------------------------------------------------\n",
      "Modelo: Random Forest\n",
      "Métricas en Train: MAE: 0.0172, MSE: 0.0010, RMSE: 0.0313, R2: 0.9734\n",
      "Métricas en Test: MAE: 0.0436, MSE: 0.0057, RMSE: 0.0752, R2: 0.8569\n",
      "--------------------------------------------------\n"
     ]
    }
   ],
   "source": [
    "models = {\n",
    "    'Linear Regression': LinearRegression(),\n",
    "    'Ridge Regression': Ridge(),\n",
    "    'Lasso Regression': Lasso(),\n",
    "    'ElasticNet Regression': ElasticNet(),\n",
    "    'Decision Tree': DecisionTreeRegressor(random_state=42),\n",
    "    'Random Forest': RandomForestRegressor(random_state=42)\n",
    "}\n",
    "for name, model in models.items():\n",
    "    train_and_evaluate(model, name, X_train, X_test, y_train, y_test)"
   ]
  },
  {
   "cell_type": "code",
   "execution_count": 11,
   "metadata": {},
   "outputs": [
    {
     "name": "stdout",
     "output_type": "stream",
     "text": [
      "Modelo: Polynomial Regression\n",
      "Métricas en Train: MAE: 0.0460, MSE: 0.0058, RMSE: 0.0761, R2: 0.8423\n",
      "Métricas en Test: MAE: 0.0434, MSE: 0.0053, RMSE: 0.0729, R2: 0.8657\n",
      "--------------------------------------------------\n"
     ]
    }
   ],
   "source": [
    "poly = PolynomialFeatures(degree=2)\n",
    "X_train_poly = poly.fit_transform(X_train)\n",
    "X_test_poly = poly.transform(X_test)\n",
    "poly_model = LinearRegression()\n",
    "train_and_evaluate(poly_model, 'Polynomial Regression', X_train_poly, X_test_poly, y_train, y_test)"
   ]
  },
  {
   "cell_type": "markdown",
   "metadata": {},
   "source": [
    "# Conclusiones"
   ]
  },
  {
   "cell_type": "code",
   "execution_count": 12,
   "metadata": {
    "id": "qzrZnPtVpfMO"
   },
   "outputs": [
    {
     "data": {
      "text/html": [
       "<div>\n",
       "<style scoped>\n",
       "    .dataframe tbody tr th:only-of-type {\n",
       "        vertical-align: middle;\n",
       "    }\n",
       "\n",
       "    .dataframe tbody tr th {\n",
       "        vertical-align: top;\n",
       "    }\n",
       "\n",
       "    .dataframe thead th {\n",
       "        text-align: right;\n",
       "    }\n",
       "</style>\n",
       "<table border=\"1\" class=\"dataframe\">\n",
       "  <thead>\n",
       "    <tr style=\"text-align: right;\">\n",
       "      <th></th>\n",
       "      <th>Model</th>\n",
       "      <th>MAE Train</th>\n",
       "      <th>MAE Test</th>\n",
       "      <th>MSE Train</th>\n",
       "      <th>MSE Test</th>\n",
       "      <th>RMSE Train</th>\n",
       "      <th>RMSE Test</th>\n",
       "      <th>R2 Train</th>\n",
       "      <th>R2 Test</th>\n",
       "    </tr>\n",
       "  </thead>\n",
       "  <tbody>\n",
       "    <tr>\n",
       "      <th>0</th>\n",
       "      <td>Linear Regression</td>\n",
       "      <td>0.067141</td>\n",
       "      <td>0.066661</td>\n",
       "      <td>0.009501</td>\n",
       "      <td>0.008552</td>\n",
       "      <td>0.097474</td>\n",
       "      <td>0.092478</td>\n",
       "      <td>0.741634</td>\n",
       "      <td>0.783789</td>\n",
       "    </tr>\n",
       "    <tr>\n",
       "      <th>1</th>\n",
       "      <td>Ridge Regression</td>\n",
       "      <td>0.067026</td>\n",
       "      <td>0.066558</td>\n",
       "      <td>0.009504</td>\n",
       "      <td>0.008570</td>\n",
       "      <td>0.097486</td>\n",
       "      <td>0.092573</td>\n",
       "      <td>0.741567</td>\n",
       "      <td>0.783347</td>\n",
       "    </tr>\n",
       "    <tr>\n",
       "      <th>2</th>\n",
       "      <td>Lasso Regression</td>\n",
       "      <td>0.143666</td>\n",
       "      <td>0.153128</td>\n",
       "      <td>0.036774</td>\n",
       "      <td>0.039591</td>\n",
       "      <td>0.191765</td>\n",
       "      <td>0.198975</td>\n",
       "      <td>0.000000</td>\n",
       "      <td>-0.000919</td>\n",
       "    </tr>\n",
       "    <tr>\n",
       "      <th>3</th>\n",
       "      <td>ElasticNet Regression</td>\n",
       "      <td>0.143666</td>\n",
       "      <td>0.153128</td>\n",
       "      <td>0.036774</td>\n",
       "      <td>0.039591</td>\n",
       "      <td>0.191765</td>\n",
       "      <td>0.198975</td>\n",
       "      <td>0.000000</td>\n",
       "      <td>-0.000919</td>\n",
       "    </tr>\n",
       "    <tr>\n",
       "      <th>4</th>\n",
       "      <td>Decision Tree</td>\n",
       "      <td>0.000000</td>\n",
       "      <td>0.048899</td>\n",
       "      <td>0.000000</td>\n",
       "      <td>0.010785</td>\n",
       "      <td>0.000000</td>\n",
       "      <td>0.103851</td>\n",
       "      <td>0.727013</td>\n",
       "    </tr>\n",
       "    <tr>\n",
       "      <th>5</th>\n",
       "      <td>Random Forest</td>\n",
       "      <td>0.017193</td>\n",
       "      <td>0.043556</td>\n",
       "      <td>0.000977</td>\n",
       "      <td>0.005659</td>\n",
       "      <td>0.031259</td>\n",
       "      <td>0.075224</td>\n",
       "      <td>0.973429</td>\n",
       "      <td>0.856940</td>\n",
       "    </tr>\n",
       "    <tr>\n",
       "      <th>6</th>\n",
       "      <td>Polynomial Regression</td>\n",
       "      <td>0.046041</td>\n",
       "      <td>0.043447</td>\n",
       "      <td>0.005798</td>\n",
       "      <td>0.005313</td>\n",
       "      <td>0.076147</td>\n",
       "      <td>0.072887</td>\n",
       "      <td>0.842322</td>\n",
       "      <td>0.865691</td>\n",
       "    </tr>\n",
       "  </tbody>\n",
       "</table>\n",
       "</div>"
      ],
      "text/plain": [
       "                     Model  MAE Train  MAE Test  MSE Train  MSE Test  RMSE Train  RMSE Test  R2 Train   R2 Test\n",
       "0      Linear Regression   0.067141  0.066661   0.009501  0.008552    0.097474   0.092478  0.741634  0.783789\n",
       "1       Ridge Regression   0.067026  0.066558   0.009504  0.008570    0.097486   0.092573  0.741567  0.783347\n",
       "2       Lasso Regression   0.143666  0.153128   0.036774  0.039591    0.191765   0.198975  0.000000 -0.000919\n",
       "3  ElasticNet Regression   0.143666  0.153128   0.036774  0.039591    0.191765   0.198975  0.000000 -0.000919\n",
       "4          Decision Tree   0.000000  0.048899   0.000000  0.010785    0.000000   0.103851  1.000000  0.727013\n",
       "5          Random Forest   0.017193  0.043556   0.000977  0.005659    0.031259   0.075224  0.973429  0.856940\n",
       "6  Polynomial Regression   0.046041  0.043447   0.005798  0.005313    0.076147   0.072887  0.842322  0.865691"
      ]
     },
     "execution_count": 12,
     "metadata": {},
     "output_type": "execute_result"
    }
   ],
   "source": [
    "results_df = pd.DataFrame(results)\n",
    "results_df"
   ]
  },
  {
   "cell_type": "markdown",
   "metadata": {},
   "source": [
    "### Análisis de Métricas\n\n",
    "- **MAE (Mean Absolute Error)**: Mide el error promedio absoluto. Un valor más bajo es mejor. Es fácil de interpretar porque está en las mismas unidades que la variable objetivo.\n",
    "- **MSE (Mean Squared Error)**: Mide el error cuadrático promedio. Penaliza más los errores grandes. Un valor más bajo es mejor.\n",
    "- **RMSE (Root Mean Squared Error)**: Es la raíz cuadrada del MSE, por lo que está en las mismas unidades que la variable objetivo, facilitando la interpretación. Un valor más bajo es mejor.\n",
    "- **R² (Coeficiente de Determinación)**: Indica la proporción de la varianza de la variable objetivo que es explicada por el modelo. Un valor más cercano a 1 es mejor.\n\n",
    "### Conclusiones del Modelo\n\n",
    "1.  **Mejor Modelo**: La **Regresión Polinómica** seguida de cerca por el **Random Forest** son los modelos con el mejor rendimiento en el conjunto de test. La Regresión Polinómica obtiene el R² más alto (0.8657), lo que sugiere que las relaciones entre las características y el coste del seguro no son puramente lineales. El Random Forest también es muy competitivo, con un R² de 0.8569 y el MAE más bajo en test (0.0436) junto a la Regresión Polinómica.\n\n",
    "2.  **Sobreajuste (Overfitting)**: El **Decision Tree** muestra un claro sobreajuste. Tiene un rendimiento perfecto en el conjunto de entrenamiento (R²=1.0), pero su rendimiento en el test es considerablemente más bajo (R²=0.7270). El **Random Forest**, al ser un ensamblado de árboles, mitiga este sobreajuste de manera efectiva, mostrando una diferencia mucho menor entre las métricas de train y test.\n\n",
    "3.  **Modelos de Bajo Rendimiento**: Los modelos de regularización **Lasso** y **ElasticNet** tienen un rendimiento extremadamente bajo, con un R² negativo en el test. Esto indica que son peores que un modelo que simplemente predice la media de los costes. La regularización L1 (utilizada por Lasso y ElasticNet) podría estar penalizando demasiado los coeficientes, llevando a un modelo demasiado simple que no captura la información relevante.\n\n",
    "4.  **Modelos Lineales**: La **Regresión Lineal** y **Ridge** ofrecen un rendimiento decente y muy similar (R² \u2248 0.78), pero son superados por los modelos no lineales. Esto confirma que existen relaciones más complejas en los datos que estos modelos no pueden capturar.\n\n",
    "**Recomendación Final**: Para este problema, la **Regresión Polinómica de grado 2** es el modelo recomendado. Ofrece el mejor poder predictivo según el R² y un error bajo, sin mostrar un sobreajuste excesivo."
   ]
  }
 ],
 "metadata": {
  "colab": {
   "provenance": []
  },
  "kernelspec": {
   "display_name": "Python 3",
   "language": "python",
   "name": "python3"
  },
  "language_info": {
   "codemirror_mode": {
    "name": "ipython",
    "version": 3
   },
   "file_extension": ".py",
   "mimetype": "text/x-python",
   "name": "python",
   "nbconvert_exporter": "python",
   "pygments_lexer": "ipython3",
   "version": "3.10.15"
  }
 },
 "nbformat": 4,
 "nbformat_minor": 0
}