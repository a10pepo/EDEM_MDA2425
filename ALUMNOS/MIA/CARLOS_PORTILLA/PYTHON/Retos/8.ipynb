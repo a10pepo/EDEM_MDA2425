{
 "cells": [
  {
   "cell_type": "code",
   "execution_count": 1,
   "metadata": {},
   "outputs": [
    {
     "name": "stdout",
     "output_type": "stream",
     "text": [
      "[2, 3, 5, 7, 11, 13, 17, 19, 23, 29, 31, 37, 41, 43, 47, 53, 59, 61, 67, 71, 73, 79, 83, 89, 97]\n"
     ]
    }
   ],
   "source": [
    "numero = range(1, 101)\n",
    "numeros_primos = []\n",
    "\n",
    "for numerin in numero:\n",
    "    es_primo = True\n",
    "    if numerin < 2:\n",
    "        es_primo = False\n",
    "    else:\n",
    "        for i in range(2, numerin):\n",
    "            if numerin % i == 0:\n",
    "                es_primo = False\n",
    "                break\n",
    "\n",
    "    if es_primo:\n",
    "        numeros_primos.append(numerin)\n",
    "\n",
    "print(numeros_primos)"
   ]
  }
 ],
 "metadata": {
  "kernelspec": {
   "display_name": "Datathon",
   "language": "python",
   "name": "python3"
  },
  "language_info": {
   "codemirror_mode": {
    "name": "ipython",
    "version": 3
   },
   "file_extension": ".py",
   "mimetype": "text/x-python",
   "name": "python",
   "nbconvert_exporter": "python",
   "pygments_lexer": "ipython3",
   "version": "3.10.14"
  }
 },
 "nbformat": 4,
 "nbformat_minor": 2
}
