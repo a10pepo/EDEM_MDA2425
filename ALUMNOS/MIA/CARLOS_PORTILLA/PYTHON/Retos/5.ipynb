{
 "cells": [
  {
   "cell_type": "code",
   "execution_count": 2,
   "metadata": {},
   "outputs": [
    {
     "name": "stdout",
     "output_type": "stream",
     "text": [
      "Código incorrecto\n"
     ]
    }
   ],
   "source": [
    "password = \"admin\"\n",
    "\n",
    "a = input(\"Introduce una contraseña\")\n",
    "if a != password:\n",
    "    print(\"Código incorrecto\")\n",
    "else:\n",
    "    print(\"Bienvenido al programa señor ADMIN\")"
   ]
  }
 ],
 "metadata": {
  "kernelspec": {
   "display_name": "Datathon",
   "language": "python",
   "name": "python3"
  },
  "language_info": {
   "codemirror_mode": {
    "name": "ipython",
    "version": 3
   },
   "file_extension": ".py",
   "mimetype": "text/x-python",
   "name": "python",
   "nbconvert_exporter": "python",
   "pygments_lexer": "ipython3",
   "version": "3.10.14"
  }
 },
 "nbformat": 4,
 "nbformat_minor": 2
}
