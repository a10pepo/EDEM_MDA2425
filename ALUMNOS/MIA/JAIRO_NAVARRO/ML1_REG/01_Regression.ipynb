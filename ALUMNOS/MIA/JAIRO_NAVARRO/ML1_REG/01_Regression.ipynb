{
 "cells": [
  {
   "cell_type": "markdown",
   "metadata": {},
   "source": [
    "# Problema\n",
    "\n",
    "Hacer predicciones del coste del seguro"
   ]
  },
  {
   "cell_type": "markdown",
   "metadata": {
    "id": "XpPr25I0aINE"
   },
   "source": [
    "## Instrucciones\n",
    "\n",
    " Utilizar el dataset (insurance.csv) para entrenar un modelo de regresión capaz de predecir el valor del seguro en función de las características del cliente. Realizar limpieza, preprocesado modelado y testeo del modelo aportando conclusiones de todos estos pasos."
   ]
  },
  {
   "cell_type": "markdown",
   "metadata": {
    "id": "kNF4GgV_n34K"
   },
   "source": [
    "# El set de datos\n",
    "\n",
    "* age: age of primary beneficiary\n",
    "\n",
    "* sex: insurance contractor gender, female, male\n",
    "\n",
    "* bmi: Body mass index, providing an understanding of body, weights that are relatively high or low relative to height,\n",
    "objective index of body weight (kg / m ^ 2) using the ratio of height to weight, ideally 18.5 to 24.9\n",
    "\n",
    "* children: Number of children covered by health insurance / Number of dependents\n",
    "\n",
    "* smoker: Smoking\n",
    "\n",
    "* region: the beneficiary's residential area in the US, northeast, southeast, southwest, northwest.\n",
    "\n",
    "* charges: Individual medical costs billed by health insurance\n",
    "\n"
   ]
  },
  {
   "cell_type": "code",
   "execution_count": 2,
   "metadata": {
    "id": "LDnXEh9vn2GX"
   },
   "outputs": [],
   "source": [
    "# imports\n",
    "import pandas as pd\n",
    "import numpy as np\n",
    "import matplotlib.pyplot as plt\n",
    "from sklearn.preprocessing import MinMaxScaler\n"
   ]
  },
  {
   "cell_type": "code",
   "execution_count": 3,
   "metadata": {
    "id": "uZkDH4HMoERG"
   },
   "outputs": [],
   "source": [
    "ruta = \"insurance.csv\"\n",
    "data = pd.read_csv(ruta)"
   ]
  },
  {
   "cell_type": "code",
   "execution_count": 4,
   "metadata": {
    "id": "2C6TxrrjoLca"
   },
   "outputs": [
    {
     "name": "stdout",
     "output_type": "stream",
     "text": [
      "(1338, 7)\n"
     ]
    },
    {
     "data": {
      "text/html": [
       "<div>\n",
       "<style scoped>\n",
       "    .dataframe tbody tr th:only-of-type {\n",
       "        vertical-align: middle;\n",
       "    }\n",
       "\n",
       "    .dataframe tbody tr th {\n",
       "        vertical-align: top;\n",
       "    }\n",
       "\n",
       "    .dataframe thead th {\n",
       "        text-align: right;\n",
       "    }\n",
       "</style>\n",
       "<table border=\"1\" class=\"dataframe\">\n",
       "  <thead>\n",
       "    <tr style=\"text-align: right;\">\n",
       "      <th></th>\n",
       "      <th>age</th>\n",
       "      <th>sex</th>\n",
       "      <th>bmi</th>\n",
       "      <th>children</th>\n",
       "      <th>smoker</th>\n",
       "      <th>region</th>\n",
       "      <th>charges</th>\n",
       "    </tr>\n",
       "  </thead>\n",
       "  <tbody>\n",
       "    <tr>\n",
       "      <th>0</th>\n",
       "      <td>19</td>\n",
       "      <td>female</td>\n",
       "      <td>27.900</td>\n",
       "      <td>0</td>\n",
       "      <td>yes</td>\n",
       "      <td>southwest</td>\n",
       "      <td>16884.92400</td>\n",
       "    </tr>\n",
       "    <tr>\n",
       "      <th>1</th>\n",
       "      <td>18</td>\n",
       "      <td>male</td>\n",
       "      <td>33.770</td>\n",
       "      <td>1</td>\n",
       "      <td>no</td>\n",
       "      <td>southeast</td>\n",
       "      <td>1725.55230</td>\n",
       "    </tr>\n",
       "    <tr>\n",
       "      <th>2</th>\n",
       "      <td>28</td>\n",
       "      <td>male</td>\n",
       "      <td>33.000</td>\n",
       "      <td>3</td>\n",
       "      <td>no</td>\n",
       "      <td>southeast</td>\n",
       "      <td>4449.46200</td>\n",
       "    </tr>\n",
       "    <tr>\n",
       "      <th>3</th>\n",
       "      <td>33</td>\n",
       "      <td>male</td>\n",
       "      <td>22.705</td>\n",
       "      <td>0</td>\n",
       "      <td>no</td>\n",
       "      <td>northwest</td>\n",
       "      <td>21984.47061</td>\n",
       "    </tr>\n",
       "    <tr>\n",
       "      <th>4</th>\n",
       "      <td>32</td>\n",
       "      <td>male</td>\n",
       "      <td>28.880</td>\n",
       "      <td>0</td>\n",
       "      <td>no</td>\n",
       "      <td>northwest</td>\n",
       "      <td>3866.85520</td>\n",
       "    </tr>\n",
       "  </tbody>\n",
       "</table>\n",
       "</div>"
      ],
      "text/plain": [
       "   age     sex     bmi  children smoker     region      charges\n",
       "0   19  female  27.900         0    yes  southwest  16884.92400\n",
       "1   18    male  33.770         1     no  southeast   1725.55230\n",
       "2   28    male  33.000         3     no  southeast   4449.46200\n",
       "3   33    male  22.705         0     no  northwest  21984.47061\n",
       "4   32    male  28.880         0     no  northwest   3866.85520"
      ]
     },
     "execution_count": 4,
     "metadata": {},
     "output_type": "execute_result"
    }
   ],
   "source": [
    "print(data.shape)\n",
    "data.head()"
   ]
  },
  {
   "cell_type": "markdown",
   "metadata": {
    "id": "suOncPeIo2Ln"
   },
   "source": [
    "# Objetivo\n",
    "\n",
    "Generar un model de regresión capaz de predecir el valor del seguro en base a las características del cliente.\n",
    "\n",
    "* Aplicar las técnicas oportunas de procesamiento de datos (lipieza, nans, escalado...)\n",
    "\n",
    "* Valorar diferentes modelos de regresión (linear regressor, polynomial, ridge, lasso, elastic, decission tree y random forest)\n",
    "\n",
    "* Comparación entre modelos (dividir el dataset en train y test, entrenar con el train y evaluar con el test)\n",
    "\n",
    "* Métricas (todas, y que aporta cada una)\n",
    "\n",
    "* Conclusiones finales"
   ]
  },
  {
   "cell_type": "markdown",
   "metadata": {
    "id": "Ee-3csHRJxqW"
   },
   "source": [
    "## Implementación"
   ]
  },
  {
   "cell_type": "markdown",
   "metadata": {},
   "source": [
    "#### Limpieza de datos"
   ]
  },
  {
   "cell_type": "code",
   "execution_count": 5,
   "metadata": {
    "id": "oGEq8EGTpp7g"
   },
   "outputs": [
    {
     "data": {
      "text/plain": [
       "age           int64\n",
       "sex          object\n",
       "bmi         float64\n",
       "children      int64\n",
       "smoker       object\n",
       "region       object\n",
       "charges     float64\n",
       "dtype: object"
      ]
     },
     "execution_count": 5,
     "metadata": {},
     "output_type": "execute_result"
    }
   ],
   "source": [
    "data.dtypes"
   ]
  },
  {
   "cell_type": "code",
   "execution_count": 6,
   "metadata": {},
   "outputs": [
    {
     "data": {
      "text/html": [
       "<div>\n",
       "<style scoped>\n",
       "    .dataframe tbody tr th:only-of-type {\n",
       "        vertical-align: middle;\n",
       "    }\n",
       "\n",
       "    .dataframe tbody tr th {\n",
       "        vertical-align: top;\n",
       "    }\n",
       "\n",
       "    .dataframe thead th {\n",
       "        text-align: right;\n",
       "    }\n",
       "</style>\n",
       "<table border=\"1\" class=\"dataframe\">\n",
       "  <thead>\n",
       "    <tr style=\"text-align: right;\">\n",
       "      <th></th>\n",
       "      <th>age</th>\n",
       "      <th>sex</th>\n",
       "      <th>bmi</th>\n",
       "      <th>children</th>\n",
       "      <th>smoker</th>\n",
       "      <th>region</th>\n",
       "      <th>charges</th>\n",
       "    </tr>\n",
       "  </thead>\n",
       "  <tbody>\n",
       "    <tr>\n",
       "      <th>count</th>\n",
       "      <td>1338.000000</td>\n",
       "      <td>1338</td>\n",
       "      <td>1338.000000</td>\n",
       "      <td>1338.000000</td>\n",
       "      <td>1338</td>\n",
       "      <td>1338</td>\n",
       "      <td>1338.000000</td>\n",
       "    </tr>\n",
       "    <tr>\n",
       "      <th>unique</th>\n",
       "      <td>NaN</td>\n",
       "      <td>2</td>\n",
       "      <td>NaN</td>\n",
       "      <td>NaN</td>\n",
       "      <td>2</td>\n",
       "      <td>4</td>\n",
       "      <td>NaN</td>\n",
       "    </tr>\n",
       "    <tr>\n",
       "      <th>top</th>\n",
       "      <td>NaN</td>\n",
       "      <td>male</td>\n",
       "      <td>NaN</td>\n",
       "      <td>NaN</td>\n",
       "      <td>no</td>\n",
       "      <td>southeast</td>\n",
       "      <td>NaN</td>\n",
       "    </tr>\n",
       "    <tr>\n",
       "      <th>freq</th>\n",
       "      <td>NaN</td>\n",
       "      <td>676</td>\n",
       "      <td>NaN</td>\n",
       "      <td>NaN</td>\n",
       "      <td>1064</td>\n",
       "      <td>364</td>\n",
       "      <td>NaN</td>\n",
       "    </tr>\n",
       "    <tr>\n",
       "      <th>mean</th>\n",
       "      <td>39.207025</td>\n",
       "      <td>NaN</td>\n",
       "      <td>30.663397</td>\n",
       "      <td>1.094918</td>\n",
       "      <td>NaN</td>\n",
       "      <td>NaN</td>\n",
       "      <td>13270.422265</td>\n",
       "    </tr>\n",
       "    <tr>\n",
       "      <th>std</th>\n",
       "      <td>14.049960</td>\n",
       "      <td>NaN</td>\n",
       "      <td>6.098187</td>\n",
       "      <td>1.205493</td>\n",
       "      <td>NaN</td>\n",
       "      <td>NaN</td>\n",
       "      <td>12110.011237</td>\n",
       "    </tr>\n",
       "    <tr>\n",
       "      <th>min</th>\n",
       "      <td>18.000000</td>\n",
       "      <td>NaN</td>\n",
       "      <td>15.960000</td>\n",
       "      <td>0.000000</td>\n",
       "      <td>NaN</td>\n",
       "      <td>NaN</td>\n",
       "      <td>1121.873900</td>\n",
       "    </tr>\n",
       "    <tr>\n",
       "      <th>25%</th>\n",
       "      <td>27.000000</td>\n",
       "      <td>NaN</td>\n",
       "      <td>26.296250</td>\n",
       "      <td>0.000000</td>\n",
       "      <td>NaN</td>\n",
       "      <td>NaN</td>\n",
       "      <td>4740.287150</td>\n",
       "    </tr>\n",
       "    <tr>\n",
       "      <th>50%</th>\n",
       "      <td>39.000000</td>\n",
       "      <td>NaN</td>\n",
       "      <td>30.400000</td>\n",
       "      <td>1.000000</td>\n",
       "      <td>NaN</td>\n",
       "      <td>NaN</td>\n",
       "      <td>9382.033000</td>\n",
       "    </tr>\n",
       "    <tr>\n",
       "      <th>75%</th>\n",
       "      <td>51.000000</td>\n",
       "      <td>NaN</td>\n",
       "      <td>34.693750</td>\n",
       "      <td>2.000000</td>\n",
       "      <td>NaN</td>\n",
       "      <td>NaN</td>\n",
       "      <td>16639.912515</td>\n",
       "    </tr>\n",
       "    <tr>\n",
       "      <th>max</th>\n",
       "      <td>64.000000</td>\n",
       "      <td>NaN</td>\n",
       "      <td>53.130000</td>\n",
       "      <td>5.000000</td>\n",
       "      <td>NaN</td>\n",
       "      <td>NaN</td>\n",
       "      <td>63770.428010</td>\n",
       "    </tr>\n",
       "  </tbody>\n",
       "</table>\n",
       "</div>"
      ],
      "text/plain": [
       "                age   sex          bmi     children smoker     region  \\\n",
       "count   1338.000000  1338  1338.000000  1338.000000   1338       1338   \n",
       "unique          NaN     2          NaN          NaN      2          4   \n",
       "top             NaN  male          NaN          NaN     no  southeast   \n",
       "freq            NaN   676          NaN          NaN   1064        364   \n",
       "mean      39.207025   NaN    30.663397     1.094918    NaN        NaN   \n",
       "std       14.049960   NaN     6.098187     1.205493    NaN        NaN   \n",
       "min       18.000000   NaN    15.960000     0.000000    NaN        NaN   \n",
       "25%       27.000000   NaN    26.296250     0.000000    NaN        NaN   \n",
       "50%       39.000000   NaN    30.400000     1.000000    NaN        NaN   \n",
       "75%       51.000000   NaN    34.693750     2.000000    NaN        NaN   \n",
       "max       64.000000   NaN    53.130000     5.000000    NaN        NaN   \n",
       "\n",
       "             charges  \n",
       "count    1338.000000  \n",
       "unique           NaN  \n",
       "top              NaN  \n",
       "freq             NaN  \n",
       "mean    13270.422265  \n",
       "std     12110.011237  \n",
       "min      1121.873900  \n",
       "25%      4740.287150  \n",
       "50%      9382.033000  \n",
       "75%     16639.912515  \n",
       "max     63770.428010  "
      ]
     },
     "execution_count": 6,
     "metadata": {},
     "output_type": "execute_result"
    }
   ],
   "source": [
    "data.describe(include='all')"
   ]
  },
  {
   "cell_type": "code",
   "execution_count": 7,
   "metadata": {},
   "outputs": [
    {
     "name": "stdout",
     "output_type": "stream",
     "text": [
      "age         0\n",
      "sex         0\n",
      "bmi         0\n",
      "children    0\n",
      "smoker      0\n",
      "region      0\n",
      "charges     0\n",
      "dtype: int64\n"
     ]
    }
   ],
   "source": [
    "nan_por_columna = data.isna().sum()\n",
    "print(nan_por_columna)"
   ]
  },
  {
   "cell_type": "code",
   "execution_count": 8,
   "metadata": {},
   "outputs": [
    {
     "name": "stdout",
     "output_type": "stream",
     "text": [
      "Index(['sex', 'smoker', 'region'], dtype='object')\n"
     ]
    }
   ],
   "source": [
    "# Codificación de variables categóricas\n",
    "categorical_cols = data.select_dtypes(include=['object']).columns\n",
    "print(categorical_cols)"
   ]
  },
  {
   "cell_type": "code",
   "execution_count": 9,
   "metadata": {},
   "outputs": [
    {
     "name": "stdout",
     "output_type": "stream",
     "text": [
      "<bound method NDFrame.head of       age  bmi  children  charges  sex_male  smoker_yes  region_northwest  \\\n",
      "0      19   27         0    16884         0           1                 0   \n",
      "1      18   33         1     1725         1           0                 0   \n",
      "2      28   33         3     4449         1           0                 0   \n",
      "3      33   22         0    21984         1           0                 1   \n",
      "4      32   28         0     3866         1           0                 1   \n",
      "...   ...  ...       ...      ...       ...         ...               ...   \n",
      "1333   50   30         3    10600         1           0                 1   \n",
      "1334   18   31         0     2205         0           0                 0   \n",
      "1335   18   36         0     1629         0           0                 0   \n",
      "1336   21   25         0     2007         0           0                 0   \n",
      "1337   61   29         0    29141         0           1                 1   \n",
      "\n",
      "      region_southeast  region_southwest  \n",
      "0                    0                 1  \n",
      "1                    1                 0  \n",
      "2                    1                 0  \n",
      "3                    0                 0  \n",
      "4                    0                 0  \n",
      "...                ...               ...  \n",
      "1333                 0                 0  \n",
      "1334                 0                 0  \n",
      "1335                 1                 0  \n",
      "1336                 0                 1  \n",
      "1337                 0                 0  \n",
      "\n",
      "[1338 rows x 9 columns]>\n"
     ]
    }
   ],
   "source": [
    "data_encoded = pd.get_dummies(data, columns=categorical_cols, drop_first=True).astype(int)\n",
    "print(data_encoded.head)"
   ]
  },
  {
   "cell_type": "code",
   "execution_count": 10,
   "metadata": {},
   "outputs": [
    {
     "name": "stdout",
     "output_type": "stream",
     "text": [
      "        age       bmi  children   charges  sex_male  smoker_yes  \\\n",
      "0  0.021739  0.315789       0.0  0.251608       0.0         1.0   \n",
      "1  0.000000  0.473684       0.2  0.009641       1.0         0.0   \n",
      "2  0.217391  0.473684       0.6  0.053121       1.0         0.0   \n",
      "3  0.326087  0.184211       0.0  0.333014       1.0         0.0   \n",
      "4  0.304348  0.342105       0.0  0.043816       1.0         0.0   \n",
      "\n",
      "   region_northwest  region_southeast  region_southwest  \n",
      "0               0.0               0.0               1.0  \n",
      "1               0.0               1.0               0.0  \n",
      "2               0.0               1.0               0.0  \n",
      "3               1.0               0.0               0.0  \n",
      "4               1.0               0.0               0.0  \n"
     ]
    }
   ],
   "source": [
    "# Escalado de variables numéricas\n",
    "numeric_cols = data_encoded.select_dtypes(include=['int64', 'float64']).columns\n",
    "scaler = MinMaxScaler()  # Normalización estándar (media = 0, desviación estándar = 1)\n",
    "data_encoded[numeric_cols] = scaler.fit_transform(data_encoded[numeric_cols])\n",
    "print(data_encoded.head())"
   ]
  },
  {
   "cell_type": "code",
   "execution_count": 11,
   "metadata": {},
   "outputs": [],
   "source": [
    "from sklearn.model_selection import train_test_split\n",
    "\n",
    "# Separar las características (X) y la variable objetivo (y)\n",
    "X = data_encoded.drop('charges', axis=1) \n",
    "y = data_encoded['charges']\n",
    "\n",
    "# Dividir el dataset en train y test (80% train, 20% test)\n",
    "X_train, X_test, y_train, y_test = train_test_split(X, y, test_size=0.2, random_state=42)"
   ]
  },
  {
   "cell_type": "code",
   "execution_count": 12,
   "metadata": {},
   "outputs": [
    {
     "name": "stdout",
     "output_type": "stream",
     "text": [
      "Modelo: Linear Regression\n",
      "Métricas en Train:\n",
      "MAE: 0.06714050214591512, MSE: 0.009501118761605525, RMSE: 0.09747368240507549, R2: 0.7416341270978415\n",
      "Métricas en Test:\n",
      "MAE: 0.06666137361010166, MSE: 0.008552183156987718, RMSE: 0.09247801445201836, R2: 0.7837888448800692\n",
      "--------------------------------------------------\n",
      "Modelo: Ridge Regression\n",
      "Métricas en Train:\n",
      "MAE: 0.06702559467086737, MSE: 0.009503596006965955, RMSE: 0.09748638882924095, R2: 0.7415667628562189\n",
      "Métricas en Test:\n",
      "MAE: 0.06655803431084878, MSE: 0.008569676567426692, RMSE: 0.09257254759066909, R2: 0.783346586990058\n",
      "--------------------------------------------------\n",
      "Modelo: Lasso Regression\n",
      "Métricas en Train:\n",
      "MAE: 0.1436663420503868, MSE: 0.036773892212937635, RMSE: 0.19176520073500727, R2: 0.0\n",
      "Métricas en Test:\n",
      "MAE: 0.1531282311795573, MSE: 0.03959113352892433, RMSE: 0.19897520832738014, R2: -0.0009192454913706793\n",
      "--------------------------------------------------\n",
      "Modelo: ElasticNet Regression\n",
      "Métricas en Train:\n",
      "MAE: 0.1436663420503868, MSE: 0.036773892212937635, RMSE: 0.19176520073500727, R2: 0.0\n",
      "Métricas en Test:\n",
      "MAE: 0.1531282311795573, MSE: 0.03959113352892433, RMSE: 0.19897520832738014, R2: -0.0009192454913706793\n",
      "--------------------------------------------------\n",
      "Modelo: Decision Tree\n",
      "Métricas en Train:\n",
      "MAE: 0.000983285753306174, MSE: 0.00011709326594811389, RMSE: 0.01082096418754419, R2: 0.9968158587818202\n",
      "Métricas en Test:\n",
      "MAE: 0.053386328981757235, MSE: 0.011972201684663801, RMSE: 0.10941755656504033, R2: 0.6973259917317203\n",
      "--------------------------------------------------\n",
      "Modelo: Random Forest\n",
      "Métricas en Train:\n",
      "MAE: 0.017193483183620288, MSE: 0.0009771129010961237, RMSE: 0.031258805177039696, R2: 0.9734291682958607\n",
      "Métricas en Test:\n",
      "MAE: 0.043555703454563464, MSE: 0.0056587112274293595, RMSE: 0.07522440579645252, R2: 0.8569398633642499\n",
      "--------------------------------------------------\n",
      "Modelo: Polynomial Regression\n",
      "Métricas en Train:\n",
      "MAE: 0.046040572324336754, MSE: 0.005798431881671558, RMSE: 0.07614743516147841, R2: 0.8423220515224228\n",
      "Métricas en Test:\n",
      "MAE: 0.043446877749472694, MSE: 0.0053125777962822, RMSE: 0.07288743236170554, R2: 0.8656906007607946\n",
      "--------------------------------------------------\n"
     ]
    }
   ],
   "source": [
    "from sklearn.linear_model import LinearRegression, Ridge, Lasso, ElasticNet\n",
    "from sklearn.preprocessing import PolynomialFeatures\n",
    "from sklearn.tree import DecisionTreeRegressor\n",
    "from sklearn.ensemble import RandomForestRegressor\n",
    "from sklearn.metrics import mean_absolute_error, mean_squared_error, r2_score\n",
    "\n",
    "# Lista para almacenar los resultados de los modelos\n",
    "results = []\n",
    "\n",
    "# Función para entrenar y evaluar modelos en train y test\n",
    "def train_and_evaluate(model, model_name, X_train, X_test, y_train, y_test):\n",
    "    # Entrenar el modelo\n",
    "    model.fit(X_train, y_train)\n",
    "    \n",
    "    # Predecir en train y test\n",
    "    y_pred_train = model.predict(X_train)\n",
    "    y_pred_test = model.predict(X_test)\n",
    "    \n",
    "    # Calcular métricas en train\n",
    "    mae_train = mean_absolute_error(y_train, y_pred_train)\n",
    "    mse_train = mean_squared_error(y_train, y_pred_train)\n",
    "    rmse_train = np.sqrt(mse_train)\n",
    "    r2_train = r2_score(y_train, y_pred_train)\n",
    "    \n",
    "    # Calcular métricas en test\n",
    "    mae_test = mean_absolute_error(y_test, y_pred_test)\n",
    "    mse_test = mean_squared_error(y_test, y_pred_test)\n",
    "    rmse_test = np.sqrt(mse_test)\n",
    "    r2_test = r2_score(y_test, y_pred_test)\n",
    "    \n",
    "    # Almacenar resultados\n",
    "    results.append({\n",
    "        'Model': model_name,\n",
    "        'MAE Train': mae_train,\n",
    "        'MAE Test': mae_test,\n",
    "        'MSE Train': mse_train,\n",
    "        'MSE Test': mse_test,\n",
    "        'RMSE Train': rmse_train,\n",
    "        'RMSE Test': rmse_test,\n",
    "        'R2 Train': r2_train,\n",
    "        'R2 Test': r2_test\n",
    "    })\n",
    "    \n",
    "    # Imprimir resultados\n",
    "    print(f\"Modelo: {model_name}\")\n",
    "    print(\"Métricas en Train:\")\n",
    "    print(f\"MAE: {mae_train}, MSE: {mse_train}, RMSE: {rmse_train}, R2: {r2_train}\")\n",
    "    print(\"Métricas en Test:\")\n",
    "    print(f\"MAE: {mae_test}, MSE: {mse_test}, RMSE: {rmse_test}, R2: {r2_test}\")\n",
    "    print(\"-\" * 50)\n",
    "\n",
    "# Modelos a evaluar\n",
    "models = {\n",
    "    'Linear Regression': LinearRegression(),\n",
    "    'Ridge Regression': Ridge(),\n",
    "    'Lasso Regression': Lasso(),\n",
    "    'ElasticNet Regression': ElasticNet(),\n",
    "    'Decision Tree': DecisionTreeRegressor(random_state=42),\n",
    "    'Random Forest': RandomForestRegressor(random_state=42)\n",
    "}\n",
    "\n",
    "# Entrenar y evaluar cada modelo\n",
    "for name, model in models.items():\n",
    "    train_and_evaluate(model, name, X_train, X_test, y_train, y_test)\n",
    "\n",
    "# Modelo de regresión polinómica\n",
    "poly = PolynomialFeatures(degree=2)\n",
    "X_train_poly = poly.fit_transform(X_train)\n",
    "X_test_poly = poly.transform(X_test)\n",
    "\n",
    "linear_model = LinearRegression()\n",
    "train_and_evaluate(linear_model, 'Polynomial Regression', X_train_poly, X_test_poly, y_train, y_test)\n"
   ]
  },
  {
   "cell_type": "code",
   "execution_count": 13,
   "metadata": {},
   "outputs": [
    {
     "name": "stdout",
     "output_type": "stream",
     "text": [
      "                   Model  MAE Train  MAE Test  MSE Train  MSE Test  \\\n",
      "0      Linear Regression   0.067141  0.066661   0.009501  0.008552   \n",
      "1       Ridge Regression   0.067026  0.066558   0.009504  0.008570   \n",
      "2       Lasso Regression   0.143666  0.153128   0.036774  0.039591   \n",
      "3  ElasticNet Regression   0.143666  0.153128   0.036774  0.039591   \n",
      "4          Decision Tree   0.000983  0.053386   0.000117  0.011972   \n",
      "5          Random Forest   0.017193  0.043556   0.000977  0.005659   \n",
      "6  Polynomial Regression   0.046041  0.043447   0.005798  0.005313   \n",
      "\n",
      "   RMSE Train  RMSE Test  R2 Train   R2 Test  \n",
      "0    0.097474   0.092478  0.741634  0.783789  \n",
      "1    0.097486   0.092573  0.741567  0.783347  \n",
      "2    0.191765   0.198975  0.000000 -0.000919  \n",
      "3    0.191765   0.198975  0.000000 -0.000919  \n",
      "4    0.010821   0.109418  0.996816  0.697326  \n",
      "5    0.031259   0.075224  0.973429  0.856940  \n",
      "6    0.076147   0.072887  0.842322  0.865691  \n"
     ]
    }
   ],
   "source": [
    "# Convertir los resultados a un DataFrame para una mejor visualización\n",
    "results_df = pd.DataFrame(results)\n",
    "print(results_df)"
   ]
  },
  {
   "cell_type": "markdown",
   "metadata": {},
   "source": [
    "## ¿Qué aporta cada metrica?"
   ]
  },
  {
   "cell_type": "markdown",
   "metadata": {},
   "source": [
    "MAE (Mean Absolute Error - Error Absoluto Medio)\n",
    "   \n",
    "\n",
    "¿Qué aporta?\n",
    "\n",
    "\n",
    "-Mide el error promedio absoluto entre los valores reales y los predichos.\n",
    "-Es fácil de interpretar, ya que está en las mismas unidades que la variable objetivo.\n",
    "-No penaliza tanto los errores grandes como el MSE o RMSE.\n",
    "-Es robusto frente a valores atípicos (outliers).\n",
    "\n",
    "\n",
    "MSE (Mean Squared Error - Error Cuadrático Medio)\n",
    "   \n",
    "   \n",
    "¿Qué aporta?\n",
    "\n",
    "\n",
    "Mide el error cuadrático promedio entre los valores reales y los predichos.\n",
    "Penaliza más los errores grandes (debido al cuadrado), lo que es útil si quieres evitar predicciones muy alejadas de los valores reales.\n",
    "Es sensible a valores atípicos (outliers), ya que los errores grandes se amplifican al elevarlos al cuadrado.\n",
    "\n",
    "\n",
    "RMSE (Root Mean Squared Error - Raíz del Error Cuadrático Medio)\n",
    "   \n",
    "\n",
    "¿Qué aporta?\n",
    "\n",
    "-Es la raíz cuadrada del MSE, por lo que está en las mismas unidades que la variable objetivo.\n",
    "-Combina las ventajas del MSE (penaliza errores grandes) con una interpretación más intuitiva (mismas unidades que y).\n",
    "-También es sensible a valores atípicos.\n",
    "\n",
    "\n",
    "R² (Coeficiente de Determinación)\n",
    "\n",
    "¿Qué aporta?\n",
    "\n",
    "-Mide la proporción de la varianza en la variable dependiente (y) que es explicada por el modelo.\n",
    "-Su valor oscila entre 0 y 1:\n",
    "-Es útil para comparar modelos: un R² más alto indica un mejor ajuste."
   ]
  },
  {
   "cell_type": "markdown",
   "metadata": {
    "id": "j2PGzN9SpfcP"
   },
   "source": [
    "# Conclusiones"
   ]
  },
  {
   "cell_type": "markdown",
   "metadata": {},
   "source": [
    "**Conclusión basada en los resultados**\n",
    "\n",
    "**Mejor rendimiento en test:**\n",
    "\n",
    "Random Forest y Regresión Polinómica son los modelos con mejor rendimiento:\n",
    "\n",
    "R² alto (0.857 y 0.866 respectivamente).\n",
    "\n",
    "Errores bajos (MAE: ~0.043-0.044, RMSE: ~0.075-0.073).\n",
    "\n",
    "**Modelos con sobreajuste o bajo rendimiento:**\n",
    "\n",
    "Lasso y ElasticNet tienen un R² negativo en test (-0.0009), lo que indica que son peores que un modelo que simplemente prediga la media. Esto sugiere que la regularización aplicada es demasiado agresiva o que no capturan relaciones útiles en los datos.\n",
    "\n",
    "Árbol de Decisión tiene un R² menor (0.697) en comparación con Random Forest y Regresión Polinómica, lo que refleja su tendencia a sobreajustar sin técnicas de ensemble.\n",
    "\n",
    "**Regresión Polinómica destaca:**\n",
    "\n",
    "El R² más alto (0.866) sugiere que las relaciones no lineales (capturadas por términos polinómicos) son clave en este problema. Sin embargo, es importante validar si hay sobreajuste comparando métricas en train y test.\n"
   ]
  }
 ],
 "metadata": {
  "colab": {
   "provenance": []
  },
  "kernelspec": {
   "display_name": "Python 3",
   "language": "python",
   "name": "python3"
  },
  "language_info": {
   "codemirror_mode": {
    "name": "ipython",
    "version": 3
   },
   "file_extension": ".py",
   "mimetype": "text/x-python",
   "name": "python",
   "nbconvert_exporter": "python",
   "pygments_lexer": "ipython3",
   "version": "3.12.7"
  }
 },
 "nbformat": 4,
 "nbformat_minor": 0
}
