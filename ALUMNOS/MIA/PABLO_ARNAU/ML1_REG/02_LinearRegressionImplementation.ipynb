{
 "cells": [
  {
   "cell_type": "markdown",
   "metadata": {
    "id": "JrhuQqfgDrqi"
   },
   "source": [
    "# Problema\n",
    "\n",
    "Implementación de la regresión lineal"
   ]
  },
  {
   "cell_type": "markdown",
   "metadata": {
    "id": "an5O5onxbVm6"
   },
   "source": [
    "## Instrucciones\n",
    "\n",
    "Generar una implementación correcta de la regresión lineal usando el descenso del gradiente como método de optimización de los pesos y compararlo con la implementación directa de la librería sklearn (los valores de w y b no serán exactamente iguales pero muy similares)"
   ]
  },
  {
   "cell_type": "code",
   "execution_count": 54,
   "metadata": {
    "id": "AHtMXAFslx52"
   },
   "outputs": [],
   "source": [
    "import numpy as np\n",
    "import pandas as pd\n",
    "import matplotlib.pyplot as plt\n",
    "from sklearn.model_selection import train_test_split\n",
    "from sklearn.linear_model import LinearRegression\n",
    "from sklearn.metrics import mean_squared_error, mean_absolute_error, r2_score, mean_absolute_percentage_error\n",
    "from sklearn.preprocessing import LabelEncoder\n"
   ]
  },
  {
   "cell_type": "code",
   "execution_count": 55,
   "metadata": {
    "id": "Pj2c9YxsmUPF"
   },
   "outputs": [],
   "source": [
    "ruta = \"insurance.csv\"\n",
    "data = pd.read_csv(ruta)\n"
   ]
  },
  {
   "cell_type": "code",
   "execution_count": 56,
   "metadata": {},
   "outputs": [
    {
     "name": "stdout",
     "output_type": "stream",
     "text": [
      "      age  sex     bmi  children  smoker  region      charges\n",
      "0      19    0  27.900         0       1       3  16884.92400\n",
      "1      18    1  33.770         1       0       2   1725.55230\n",
      "2      28    1  33.000         3       0       2   4449.46200\n",
      "3      33    1  22.705         0       0       1  21984.47061\n",
      "4      32    1  28.880         0       0       1   3866.85520\n",
      "...   ...  ...     ...       ...     ...     ...          ...\n",
      "1333   50    1  30.970         3       0       1  10600.54830\n",
      "1334   18    0  31.920         0       0       0   2205.98080\n",
      "1335   18    0  36.850         0       0       2   1629.83350\n",
      "1336   21    0  25.800         0       0       3   2007.94500\n",
      "1337   61    0  29.070         0       1       1  29141.36030\n",
      "\n",
      "[1338 rows x 7 columns]\n"
     ]
    }
   ],
   "source": [
    "le = LabelEncoder()\n",
    "\n",
    "data['sex'] = le.fit_transform(data['sex'])\n",
    "data['smoker'] = le.fit_transform(data['smoker'])\n",
    "data['region'] = le.fit_transform(data['region'])\n",
    "\n",
    "print(data)"
   ]
  },
  {
   "cell_type": "code",
   "execution_count": 57,
   "metadata": {},
   "outputs": [],
   "source": [
    "train, test = train_test_split(data, test_size=0.2, random_state=42,stratify=data['smoker'])  # 80% entrenamiento y 20% test"
   ]
  },
  {
   "cell_type": "code",
   "execution_count": 58,
   "metadata": {
    "id": "zMyPHBqPmza2"
   },
   "outputs": [
    {
     "name": "stdout",
     "output_type": "stream",
     "text": [
      "Datos de Entrenamiento: 1070\n",
      "Datos de Test: 268\n"
     ]
    }
   ],
   "source": [
    "print('Datos de Entrenamiento:', train.shape[0])\n",
    "print('Datos de Test:', test.shape[0])\n"
   ]
  },
  {
   "cell_type": "code",
   "execution_count": 59,
   "metadata": {},
   "outputs": [],
   "source": [
    "X_train = train.drop('charges',axis = 1)\n",
    "y_train = train['charges']"
   ]
  },
  {
   "cell_type": "code",
   "execution_count": 60,
   "metadata": {},
   "outputs": [],
   "source": [
    "X_train = X_train.to_numpy()\n",
    "y_train = y_train.to_numpy()"
   ]
  },
  {
   "cell_type": "code",
   "execution_count": 61,
   "metadata": {},
   "outputs": [],
   "source": [
    "X_test = test.drop('charges',axis = 1)\n",
    "y_test = test['charges']"
   ]
  },
  {
   "cell_type": "code",
   "execution_count": 62,
   "metadata": {},
   "outputs": [],
   "source": [
    "X_test = X_test.to_numpy()\n",
    "y_test = y_test.to_numpy()"
   ]
  },
  {
   "cell_type": "markdown",
   "metadata": {
    "id": "HXMEo6cf6xXb"
   },
   "source": [
    "## Implementación manual de la regresión con gradiente descendente"
   ]
  },
  {
   "cell_type": "code",
   "execution_count": 157,
   "metadata": {
    "id": "2qjOLdbY3sGy"
   },
   "outputs": [],
   "source": [
    "# Función de costo (Mean Squared Error)\n",
    "def cost_function(y_true, y_pred):\n",
    "    return np.mean((y_true - y_pred) ** 2)\n"
   ]
  },
  {
   "cell_type": "code",
   "execution_count": 158,
   "metadata": {},
   "outputs": [],
   "source": [
    "def train_regression(X_train, y_train, X_test, y_test, lr=0.01, epochs=1000):\n",
    "\n",
    "    b = np.random.rand()  \n",
    "    w = np.random.rand(X_train.shape[1])  \n",
    "    n = len(X_train)  \n",
    "\n",
    "    train_loss_per_epoch = []\n",
    "    test_loss_per_epoch = []\n",
    "\n",
    "    # Ciclo de entrenamiento\n",
    "    for _ in range(epochs):\n",
    "        # Calcular predicciones usando el producto punto (X_train . w) + b\n",
    "        y_pred = np.dot(X_train, w) + b  # Producto punto de X_train y w, luego sumar el sesgo b\n",
    "\n",
    "        # Calcular el costo en entrenamiento (Mean Squared Error)\n",
    "        train_loss = cost_function(y_train, y_pred)\n",
    "        train_loss_per_epoch.append(train_loss)\n",
    "\n",
    "        # Calcular los gradientes con respecto a b y w\n",
    "        gradient_b = (-2 / n) * np.sum(y_train - y_pred)  # Gradiente con respecto al sesgo\n",
    "        gradient_w = (-2 / n) * np.dot(X_train.T, (y_train - y_pred))  # Gradiente con respecto a los pesos\n",
    "\n",
    "        # Actualizar parámetros (sesgo y pesos)\n",
    "        b -= lr * gradient_b\n",
    "        w -= lr * gradient_w\n",
    "\n",
    "        # Calcular el costo en el conjunto de validación\n",
    "        y_pred_test = np.dot(X_test, w) + b  # Predicciones para el conjunto de validación\n",
    "        test_loss = cost_function(y_test, y_pred_test)\n",
    "        test_loss_per_epoch.append(test_loss)\n",
    "\n",
    "    return w, b, train_loss_per_epoch, test_loss_per_epoch"
   ]
  },
  {
   "cell_type": "code",
   "execution_count": 173,
   "metadata": {
    "id": "1KlQjWwLqkdg"
   },
   "outputs": [],
   "source": [
    "# Hiperparámetros\n",
    "lr = 1e-4\n",
    "epochs = 200000\n",
    "\n",
    "# Entrenar el modelo\n",
    "w, b, train_loss_per_epoch, test_loss_per_epoch = train_regression(X_train, y_train, X_test, y_test, lr=lr, epochs=epochs)"
   ]
  },
  {
   "cell_type": "markdown",
   "metadata": {},
   "source": [
    "Tras probar con hasta 1kk de epochs vemos que con 0,2kk ya no vale merece la pena seguir iterando."
   ]
  },
  {
   "cell_type": "code",
   "execution_count": 174,
   "metadata": {
    "id": "xV7aq7znqnLS"
   },
   "outputs": [
    {
     "data": {
      "image/png": "[encoded data removed]",
      "text/plain": [
       "<Figure size 640x480 with 1 Axes>"
      ]
     },
     "metadata": {},
     "output_type": "display_data"
    }
   ],
   "source": [
    "# Visualización del error de entrenamiento por epoch\n",
    "plt.figure()\n",
    "plt.plot(range(epochs), train_loss_per_epoch, '-b')\n",
    "plt.plot(range(epochs), test_loss_per_epoch, '-r')\n",
    "plt.xlabel('Epoch')\n",
    "plt.ylabel('Error cuadrático promedio')\n",
    "plt.title('Error por Epoch')\n",
    "plt.show()"
   ]
  },
  {
   "cell_type": "code",
   "execution_count": 175,
   "metadata": {
    "id": "Jbl8OsBslP4r"
   },
   "outputs": [
    {
     "name": "stdout",
     "output_type": "stream",
     "text": [
      "31974098.196778703\n"
     ]
    }
   ],
   "source": [
    "# Realizar predicciones en test\n",
    "y_pred = np.dot (X_test, w) + b\n",
    "\n",
    "# Calcular el costo\n",
    "cost = cost_function(y_test, y_pred)\n",
    "\n",
    "print(cost)\n"
   ]
  },
  {
   "cell_type": "code",
   "execution_count": 176,
   "metadata": {
    "id": "Tv2sYALGlRts"
   },
   "outputs": [
    {
     "name": "stdout",
     "output_type": "stream",
     "text": [
      "MSE en el conjunto de test: 31974098.196778703\n",
      "MAE en el conjunto de test: 3834.318140136761\n",
      "R^2 en el conjunto de test: 0.7832750180559127\n",
      "MAPE en el conjunto de test: 0.37262066737315475\n"
     ]
    }
   ],
   "source": [
    "# Calcular las métricas obtenidas\n",
    "mse = mean_squared_error(y_test, y_pred)\n",
    "mae = mean_absolute_error(y_test, y_pred)\n",
    "r2 = r2_score(y_test, y_pred)\n",
    "mape = mean_absolute_percentage_error(y_test, y_pred)\n",
    "\n",
    "print(\"MSE en el conjunto de test:\", mse)\n",
    "print(\"MAE en el conjunto de test:\", mae)\n",
    "print(\"R^2 en el conjunto de test:\", r2)\n",
    "print(\"MAPE en el conjunto de test:\", mape)"
   ]
  }
 ],
 "metadata": {
  "colab": {
   "authorship_tag": "ABX9TyMIy+IL0ZuT+NUisbNmxTaw",
   "provenance": []
  },
  "kernelspec": {
   "display_name": "Python 3",
   "name": "python3"
  },
  "language_info": {
   "codemirror_mode": {
    "name": "ipython",
    "version": 3
   },
   "file_extension": ".py",
   "mimetype": "text/x-python",
   "name": "python",
   "nbconvert_exporter": "python",
   "pygments_lexer": "ipython3",
   "version": "3.12.7"
  }
 },
 "nbformat": 4,
 "nbformat_minor": 0
}
