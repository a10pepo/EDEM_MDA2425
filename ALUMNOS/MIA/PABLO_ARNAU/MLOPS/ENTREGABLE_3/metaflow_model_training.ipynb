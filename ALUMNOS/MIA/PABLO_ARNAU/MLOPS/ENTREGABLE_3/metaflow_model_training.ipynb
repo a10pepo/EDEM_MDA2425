{
  "cells": [
    {
      "cell_type": "markdown",
      "metadata": {
        "id": "Ym2nBuSkT-Lc"
      },
      "source": [
        "# Pipelines: Metaflow model training"
      ]
    },
    {
      "cell_type": "markdown",
      "metadata": {
        "id": "3f6u0ioRT-Le"
      },
      "source": [
        "##  Install dependencies"
      ]
    },
    {
      "cell_type": "code",
      "execution_count": 1,
      "metadata": {
        "id": "AqBf8YsYT-Lf"
      },
      "outputs": [
        {
          "name": "stdout",
          "output_type": "stream",
          "text": [
            "Requirement already satisfied: metaflow==2.13.9 in c:\\users\\master\\appdata\\local\\programs\\python\\python311\\lib\\site-packages (from -r requirements.txt (line 1)) (2.13.9)\n",
            "Requirement already satisfied: pandas==2.2.3 in c:\\users\\master\\appdata\\local\\programs\\python\\python311\\lib\\site-packages (from -r requirements.txt (line 2)) (2.2.3)\n",
            "Requirement already satisfied: numpy==1.26.4 in c:\\users\\master\\appdata\\local\\programs\\python\\python311\\lib\\site-packages (from -r requirements.txt (line 3)) (1.26.4)\n",
            "Requirement already satisfied: scikit-learn==1.6.1 in c:\\users\\master\\appdata\\local\\programs\\python\\python311\\lib\\site-packages (from -r requirements.txt (line 4)) (1.6.1)\n",
            "Requirement already satisfied: optuna==4.2.0 in c:\\users\\master\\appdata\\local\\programs\\python\\python311\\lib\\site-packages (from -r requirements.txt (line 5)) (4.2.0)\n",
            "Requirement already satisfied: requests in c:\\users\\master\\appdata\\local\\programs\\python\\python311\\lib\\site-packages (from metaflow==2.13.9->-r requirements.txt (line 1)) (2.32.3)\n",
            "Requirement already satisfied: boto3 in c:\\users\\master\\appdata\\local\\programs\\python\\python311\\lib\\site-packages (from metaflow==2.13.9->-r requirements.txt (line 1)) (1.38.9)\n",
            "Requirement already satisfied: python-dateutil>=2.8.2 in c:\\users\\master\\appdata\\local\\programs\\python\\python311\\lib\\site-packages (from pandas==2.2.3->-r requirements.txt (line 2)) (2.9.0.post0)\n",
            "Requirement already satisfied: pytz>=2020.1 in c:\\users\\master\\appdata\\local\\programs\\python\\python311\\lib\\site-packages (from pandas==2.2.3->-r requirements.txt (line 2)) (2025.1)\n",
            "Requirement already satisfied: tzdata>=2022.7 in c:\\users\\master\\appdata\\local\\programs\\python\\python311\\lib\\site-packages (from pandas==2.2.3->-r requirements.txt (line 2)) (2025.1)\n",
            "Requirement already satisfied: scipy>=1.6.0 in c:\\users\\master\\appdata\\local\\programs\\python\\python311\\lib\\site-packages (from scikit-learn==1.6.1->-r requirements.txt (line 4)) (1.15.1)\n",
            "Requirement already satisfied: joblib>=1.2.0 in c:\\users\\master\\appdata\\local\\programs\\python\\python311\\lib\\site-packages (from scikit-learn==1.6.1->-r requirements.txt (line 4)) (1.4.2)\n",
            "Requirement already satisfied: threadpoolctl>=3.1.0 in c:\\users\\master\\appdata\\local\\programs\\python\\python311\\lib\\site-packages (from scikit-learn==1.6.1->-r requirements.txt (line 4)) (3.5.0)\n",
            "Requirement already satisfied: alembic>=1.5.0 in c:\\users\\master\\appdata\\local\\programs\\python\\python311\\lib\\site-packages (from optuna==4.2.0->-r requirements.txt (line 5)) (1.15.1)\n",
            "Requirement already satisfied: colorlog in c:\\users\\master\\appdata\\local\\programs\\python\\python311\\lib\\site-packages (from optuna==4.2.0->-r requirements.txt (line 5)) (6.9.0)\n",
            "Requirement already satisfied: packaging>=20.0 in c:\\users\\master\\appdata\\local\\programs\\python\\python311\\lib\\site-packages (from optuna==4.2.0->-r requirements.txt (line 5)) (24.2)\n",
            "Requirement already satisfied: sqlalchemy>=1.4.2 in c:\\users\\master\\appdata\\roaming\\python\\python311\\site-packages (from optuna==4.2.0->-r requirements.txt (line 5)) (2.0.38)\n",
            "Requirement already satisfied: tqdm in c:\\users\\master\\appdata\\local\\programs\\python\\python311\\lib\\site-packages (from optuna==4.2.0->-r requirements.txt (line 5)) (4.67.1)\n",
            "Requirement already satisfied: PyYAML in c:\\users\\master\\appdata\\local\\programs\\python\\python311\\lib\\site-packages (from optuna==4.2.0->-r requirements.txt (line 5)) (6.0.2)\n",
            "Requirement already satisfied: Mako in c:\\users\\master\\appdata\\local\\programs\\python\\python311\\lib\\site-packages (from alembic>=1.5.0->optuna==4.2.0->-r requirements.txt (line 5)) (1.3.9)\n",
            "Requirement already satisfied: typing-extensions>=4.12 in c:\\users\\master\\appdata\\local\\programs\\python\\python311\\lib\\site-packages (from alembic>=1.5.0->optuna==4.2.0->-r requirements.txt (line 5)) (4.12.2)\n",
            "Requirement already satisfied: six>=1.5 in c:\\users\\master\\appdata\\local\\programs\\python\\python311\\lib\\site-packages (from python-dateutil>=2.8.2->pandas==2.2.3->-r requirements.txt (line 2)) (1.17.0)\n",
            "Requirement already satisfied: greenlet!=0.4.17 in c:\\users\\master\\appdata\\roaming\\python\\python311\\site-packages (from sqlalchemy>=1.4.2->optuna==4.2.0->-r requirements.txt (line 5)) (3.1.1)\n",
            "Requirement already satisfied: botocore<1.39.0,>=1.38.9 in c:\\users\\master\\appdata\\local\\programs\\python\\python311\\lib\\site-packages (from boto3->metaflow==2.13.9->-r requirements.txt (line 1)) (1.38.9)\n",
            "Requirement already satisfied: jmespath<2.0.0,>=0.7.1 in c:\\users\\master\\appdata\\local\\programs\\python\\python311\\lib\\site-packages (from boto3->metaflow==2.13.9->-r requirements.txt (line 1)) (1.0.1)\n",
            "Requirement already satisfied: s3transfer<0.13.0,>=0.12.0 in c:\\users\\master\\appdata\\local\\programs\\python\\python311\\lib\\site-packages (from boto3->metaflow==2.13.9->-r requirements.txt (line 1)) (0.12.0)\n",
            "Requirement already satisfied: colorama in c:\\users\\master\\appdata\\local\\programs\\python\\python311\\lib\\site-packages (from colorlog->optuna==4.2.0->-r requirements.txt (line 5)) (0.4.6)\n",
            "Requirement already satisfied: charset-normalizer<4,>=2 in c:\\users\\master\\appdata\\local\\programs\\python\\python311\\lib\\site-packages (from requests->metaflow==2.13.9->-r requirements.txt (line 1)) (3.4.1)\n",
            "Requirement already satisfied: idna<4,>=2.5 in c:\\users\\master\\appdata\\local\\programs\\python\\python311\\lib\\site-packages (from requests->metaflow==2.13.9->-r requirements.txt (line 1)) (3.10)\n",
            "Requirement already satisfied: urllib3<3,>=1.21.1 in c:\\users\\master\\appdata\\local\\programs\\python\\python311\\lib\\site-packages (from requests->metaflow==2.13.9->-r requirements.txt (line 1)) (2.3.0)\n",
            "Requirement already satisfied: certifi>=2017.4.17 in c:\\users\\master\\appdata\\local\\programs\\python\\python311\\lib\\site-packages (from requests->metaflow==2.13.9->-r requirements.txt (line 1)) (2025.1.31)\n",
            "Requirement already satisfied: MarkupSafe>=0.9.2 in c:\\users\\master\\appdata\\local\\programs\\python\\python311\\lib\\site-packages (from Mako->alembic>=1.5.0->optuna==4.2.0->-r requirements.txt (line 5)) (3.0.2)\n",
            "Note: you may need to restart the kernel to use updated packages.\n"
          ]
        },
        {
          "name": "stderr",
          "output_type": "stream",
          "text": [
            "\n",
            "[notice] A new release of pip available: 22.3 -> 25.1.1\n",
            "[notice] To update, run: python.exe -m pip install --upgrade pip\n"
          ]
        }
      ],
      "source": [
        "pip install -r requirements.txt"
      ]
    },
    {
      "cell_type": "markdown",
      "metadata": {
        "id": "1g_HfSYoT-Lg"
      },
      "source": [
        "## Set username"
      ]
    },
    {
      "cell_type": "code",
      "execution_count": 2,
      "metadata": {
        "id": "QGHwwb4nT-Lg"
      },
      "outputs": [],
      "source": [
        "# Set username for workflows\n",
        "import os\n",
        "os.environ[\"USERNAME\"] = \"pablo\""
      ]
    },
    {
      "cell_type": "code",
      "execution_count": 3,
      "metadata": {
        "colab": {
          "base_uri": "https://localhost:8080/"
        },
        "id": "Wf_IV3c4T-Lh",
        "outputId": "5d5afd0d-a0af-46b1-bb7b-78a5eabd0815"
      },
      "outputs": [
        {
          "name": "stdout",
          "output_type": "stream",
          "text": [
            "Overwriting metaflow_trainingflow.py\n"
          ]
        }
      ],
      "source": [
        "%%writefile metaflow_trainingflow.py\n",
        "from metaflow import FlowSpec, Parameter, step\n",
        "from sklearn.model_selection import train_test_split\n",
        "from sklearn.ensemble import RandomForestClassifier\n",
        "from sklearn.metrics import accuracy_score, classification_report\n",
        "import pickle\n",
        "\n",
        "\n",
        "class TrainingFlow(FlowSpec):\n",
        "    # Define the parameters for the flow\n",
        "    max_depth = Parameter('max_depth', default=2, help='Max depth of the random forest classifier')\n",
        "    n_estimators = Parameter('n_estimators', default=100, help='Number of estimators for the random forest classifier')\n",
        "    random_state = Parameter('random_state', default=0, help='Random state for the random forest classifier')\n",
        "\n",
        "    @step\n",
        "    def start(self):\n",
        "        # Start the flow\n",
        "        self.next(self.ingest_data)\n",
        "\n",
        "    @step\n",
        "    def ingest_data(self):\n",
        "        from sklearn.datasets import load_iris\n",
        "\n",
        "        # Load the iris dataset\n",
        "        iris = load_iris()\n",
        "\n",
        "        #pylint: disable=no-member\n",
        "        self.X = iris.data\n",
        "        self.y = iris.target\n",
        "        #pylint: enable=no-member\n",
        "\n",
        "        self.next(self.split_data)\n",
        "\n",
        "    @step\n",
        "    def split_data(self):\n",
        "        #Split the data into train and test\n",
        "        self.X_train, self.X_test, self.y_train, self.y_test = train_test_split(\n",
        "            self.X, self.y, test_size=0.2, random_state=self.random_state)\n",
        "\n",
        "        self.next(self.train)\n",
        "\n",
        "\n",
        "    @step\n",
        "    def train(self):\n",
        "        # Train the model\n",
        "       self.model = RandomForestClassifier(max_depth=self.max_depth,\n",
        "            n_estimators=self.n_estimators,random_state=self.random_state)\n",
        "\n",
        "       self.model.fit(self.X_train, self.y_train)\n",
        "\n",
        "       self.next(self.show_metrics)\n",
        "\n",
        "\n",
        "    @step\n",
        "    def show_metrics(self):\n",
        "        # Print some metrics\n",
        "        self.y_pred = self.model.predict(self.X_test)\n",
        "\n",
        "        # Compute and print metrics\n",
        "        accuracy = accuracy_score(self.y_test, self.y_pred)\n",
        "        report = classification_report(self.y_test, self.y_pred)\n",
        "\n",
        "        print(f\"Accuracy: {accuracy:.2f}\")\n",
        "        print(\"Classification Report:\")\n",
        "        print(report)\n",
        "\n",
        "        self.next(self.register_model)\n",
        "\n",
        "\n",
        "    @step\n",
        "    def register_model(self):\n",
        "        # Save the model in a pickle file in local storage\n",
        "        model_path = os.path.join(os.getcwd(), \"random_forest_model.pkl\")\n",
        "        with open(model_path, \"wb\") as f:\n",
        "            pickle.dump(self.model, f)\n",
        "\n",
        "        print(f\"Model saved to: {model_path}\")\n",
        "        self.next(self.end)\n",
        "\n",
        "    @step\n",
        "    def end(self):\n",
        "        pass\n",
        "\n",
        "if __name__ == '__main__':\n",
        "    TrainingFlow()"
      ]
    },
    {
      "cell_type": "code",
      "execution_count": 4,
      "metadata": {
        "colab": {
          "base_uri": "https://localhost:8080/"
        },
        "id": "dSMgQHw3T-Lh",
        "outputId": "f162fb20-58ea-4421-f60d-66453879fd5c"
      },
      "outputs": [
        {
          "name": "stderr",
          "output_type": "stream",
          "text": [
            "Traceback (most recent call last):\n",
            "  File \"c:\\Users\\Master\\AppData\\Local\\Programs\\Python\\Python311\\Lib\\site-packages\\metaflow\\extension_support\\plugins.py\", line 99, in get_plugin\n",
            "    plugin_module = importlib.import_module(path)\n",
            "                    ^^^^^^^^^^^^^^^^^^^^^^^^^^^^^\n",
            "  File \"c:\\Users\\Master\\AppData\\Local\\Programs\\Python\\Python311\\Lib\\importlib\\__init__.py\", line 126, in import_module\n",
            "    return _bootstrap._gcd_import(name[level:], package, level)\n",
            "           ^^^^^^^^^^^^^^^^^^^^^^^^^^^^^^^^^^^^^^^^^^^^^^^^^^^^\n",
            "  File \"<frozen importlib._bootstrap>\", line 1206, in _gcd_import\n",
            "  File \"<frozen importlib._bootstrap>\", line 1178, in _find_and_load\n",
            "  File \"<frozen importlib._bootstrap>\", line 1149, in _find_and_load_unlocked\n",
            "  File \"<frozen importlib._bootstrap>\", line 690, in _load_unlocked\n",
            "  File \"<frozen importlib._bootstrap_external>\", line 940, in exec_module\n",
            "  File \"<frozen importlib._bootstrap>\", line 241, in _call_with_frames_removed\n",
            "  File \"c:\\Users\\Master\\AppData\\Local\\Programs\\Python\\Python311\\Lib\\site-packages\\metaflow\\plugins\\aws\\batch\\batch_decorator.py\", line 19, in <module>\n",
            "    from metaflow.sidecar import Sidecar\n",
            "  File \"c:\\Users\\Master\\AppData\\Local\\Programs\\Python\\Python311\\Lib\\site-packages\\metaflow\\sidecar\\__init__.py\", line 1, in <module>\n",
            "    from .sidecar import Sidecar\n",
            "  File \"c:\\Users\\Master\\AppData\\Local\\Programs\\Python\\Python311\\Lib\\site-packages\\metaflow\\sidecar\\sidecar.py\", line 1, in <module>\n",
            "    from .sidecar_subprocess import SidecarSubProcess\n",
            "  File \"c:\\Users\\Master\\AppData\\Local\\Programs\\Python\\Python311\\Lib\\site-packages\\metaflow\\sidecar\\sidecar_subprocess.py\", line 4, in <module>\n",
            "    import fcntl\n",
            "ModuleNotFoundError: No module named 'fcntl'\n",
            "\n",
            "The above exception was the direct cause of the following exception:\n",
            "\n",
            "Traceback (most recent call last):\n",
            "  File \"c:\\Users\\Master\\Desktop\\MASTERIA\\MLOPS\\pipelines\\entregable_3\\metaflow_trainingflow.py\", line 1, in <module>\n",
            "    from metaflow import FlowSpec, Parameter, step\n",
            "  File \"c:\\Users\\Master\\AppData\\Local\\Programs\\Python\\Python311\\Lib\\site-packages\\metaflow\\__init__.py\", line 114, in <module>\n",
            "    from .plugins.datatools import S3\n",
            "  File \"c:\\Users\\Master\\AppData\\Local\\Programs\\Python\\Python311\\Lib\\site-packages\\metaflow\\plugins\\__init__.py\", line 189, in <module>\n",
            "    STEP_DECORATORS = resolve_plugins(\"step_decorator\")\n",
            "                      ^^^^^^^^^^^^^^^^^^^^^^^^^^^^^^^^^\n",
            "  File \"c:\\Users\\Master\\AppData\\Local\\Programs\\Python\\Python311\\Lib\\site-packages\\metaflow\\extension_support\\plugins.py\", line 164, in resolve_plugins\n",
            "    to_return.append(get_plugin(category, class_path, name))\n",
            "                     ^^^^^^^^^^^^^^^^^^^^^^^^^^^^^^^^^^^^^^\n",
            "  File \"c:\\Users\\Master\\AppData\\Local\\Programs\\Python\\Python311\\Lib\\site-packages\\metaflow\\extension_support\\plugins.py\", line 101, in get_plugin\n",
            "    raise ValueError(\n",
            "ValueError: Cannot locate step_decorator plugin 'batch' at 'metaflow.plugins.aws.batch.batch_decorator'\n"
          ]
        }
      ],
      "source": [
        "!python metaflow_trainingflow.py run --max_depth 2 --n_estimators 100 --random_state 0"
      ]
    }
  ],
  "metadata": {
    "colab": {
      "provenance": []
    },
    "kernelspec": {
      "display_name": "Python 3",
      "language": "python",
      "name": "python3"
    },
    "language_info": {
      "codemirror_mode": {
        "name": "ipython",
        "version": 3
      },
      "file_extension": ".py",
      "mimetype": "text/x-python",
      "name": "python",
      "nbconvert_exporter": "python",
      "pygments_lexer": "ipython3",
      "version": "3.11.0"
    },
    "orig_nbformat": 4
  },
  "nbformat": 4,
  "nbformat_minor": 0
}
