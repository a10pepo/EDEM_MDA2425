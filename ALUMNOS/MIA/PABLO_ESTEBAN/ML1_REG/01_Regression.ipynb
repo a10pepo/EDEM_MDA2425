{
 "cells": [
  {
   "cell_type": "markdown",
   "metadata": {},
   "source": [
    "# Problema\n",
    "\n",
    "Predecir el coste del seguro"
   ]
  },
  {
   "cell_type": "markdown",
   "metadata": {
    "id": "XpPr25I0aINE"
   },
   "source": [
    "## Instrucciones\n",
    "\n",
    " Utilizar el dataset (insurance.csv) para entrenar un modelo de regresión capaz de predecir el valor del seguro en función de las características del cliente. Realizar limpieza, preprocesado modelado y testeo del modelo aportando conclusiones de todos estos pasos."
   ]
  },
  {
   "cell_type": "markdown",
   "metadata": {
    "id": "kNF4GgV_n34K"
   },
   "source": [
    "# El set de datos\n",
    "\n",
    "* age: age of primary beneficiary\n",
    "\n",
    "* sex: insurance contractor gender, female, male\n",
    "\n",
    "* bmi: Body mass index, providing an understanding of body, weights that are relatively high or low relative to height,\n",
    "objective index of body weight (kg / m ^ 2) using the ratio of height to weight, ideally 18.5 to 24.9\n",
    "\n",
    "* children: Number of children covered by health insurance / Number of dependents\n",
    "\n",
    "* smoker: Smoking\n",
    "\n",
    "* region: the beneficiary's residential area in the US, northeast, southeast, southwest, northwest.\n",
    "\n",
    "* charges: Individual medical costs billed by health insurance\n",
    "\n"
   ]
  },
  {
   "cell_type": "code",
   "execution_count": 71,
   "metadata": {
    "id": "LDnXEh9vn2GX"
   },
   "outputs": [],
   "source": [
    "# imports\n",
    "import pandas as pd"
   ]
  },
  {
   "cell_type": "code",
   "execution_count": 72,
   "metadata": {
    "id": "uZkDH4HMoERG"
   },
   "outputs": [],
   "source": [
    "ruta = \"insurance.csv\"\n",
    "data = pd.read_csv(ruta)"
   ]
  },
  {
   "cell_type": "code",
   "execution_count": 73,
   "metadata": {
    "id": "2C6TxrrjoLca"
   },
   "outputs": [
    {
     "name": "stdout",
     "output_type": "stream",
     "text": [
      "(1338, 7)\n"
     ]
    },
    {
     "data": {
      "text/html": [
       "<div>\n",
       "<style scoped>\n",
       "    .dataframe tbody tr th:only-of-type {\n",
       "        vertical-align: middle;\n",
       "    }\n",
       "\n",
       "    .dataframe tbody tr th {\n",
       "        vertical-align: top;\n",
       "    }\n",
       "\n",
       "    .dataframe thead th {\n",
       "        text-align: right;\n",
       "    }\n",
       "</style>\n",
       "<table border=\"1\" class=\"dataframe\">\n",
       "  <thead>\n",
       "    <tr style=\"text-align: right;\">\n",
       "      <th></th>\n",
       "      <th>age</th>\n",
       "      <th>sex</th>\n",
       "      <th>bmi</th>\n",
       "      <th>children</th>\n",
       "      <th>smoker</th>\n",
       "      <th>region</th>\n",
       "      <th>charges</th>\n",
       "    </tr>\n",
       "  </thead>\n",
       "  <tbody>\n",
       "    <tr>\n",
       "      <th>0</th>\n",
       "      <td>19</td>\n",
       "      <td>female</td>\n",
       "      <td>27.900</td>\n",
       "      <td>0</td>\n",
       "      <td>yes</td>\n",
       "      <td>southwest</td>\n",
       "      <td>16884.92400</td>\n",
       "    </tr>\n",
       "    <tr>\n",
       "      <th>1</th>\n",
       "      <td>18</td>\n",
       "      <td>male</td>\n",
       "      <td>33.770</td>\n",
       "      <td>1</td>\n",
       "      <td>no</td>\n",
       "      <td>southeast</td>\n",
       "      <td>1725.55230</td>\n",
       "    </tr>\n",
       "    <tr>\n",
       "      <th>2</th>\n",
       "      <td>28</td>\n",
       "      <td>male</td>\n",
       "      <td>33.000</td>\n",
       "      <td>3</td>\n",
       "      <td>no</td>\n",
       "      <td>southeast</td>\n",
       "      <td>4449.46200</td>\n",
       "    </tr>\n",
       "    <tr>\n",
       "      <th>3</th>\n",
       "      <td>33</td>\n",
       "      <td>male</td>\n",
       "      <td>22.705</td>\n",
       "      <td>0</td>\n",
       "      <td>no</td>\n",
       "      <td>northwest</td>\n",
       "      <td>21984.47061</td>\n",
       "    </tr>\n",
       "    <tr>\n",
       "      <th>4</th>\n",
       "      <td>32</td>\n",
       "      <td>male</td>\n",
       "      <td>28.880</td>\n",
       "      <td>0</td>\n",
       "      <td>no</td>\n",
       "      <td>northwest</td>\n",
       "      <td>3866.85520</td>\n",
       "    </tr>\n",
       "  </tbody>\n",
       "</table>\n",
       "</div>"
      ],
      "text/plain": [
       "   age     sex     bmi  children smoker     region      charges\n",
       "0   19  female  27.900         0    yes  southwest  16884.92400\n",
       "1   18    male  33.770         1     no  southeast   1725.55230\n",
       "2   28    male  33.000         3     no  southeast   4449.46200\n",
       "3   33    male  22.705         0     no  northwest  21984.47061\n",
       "4   32    male  28.880         0     no  northwest   3866.85520"
      ]
     },
     "execution_count": 73,
     "metadata": {},
     "output_type": "execute_result"
    }
   ],
   "source": [
    "print(data.shape)\n",
    "data.head()"
   ]
  },
  {
   "cell_type": "markdown",
   "metadata": {
    "id": "suOncPeIo2Ln"
   },
   "source": [
    "# Objetivo\n",
    "\n",
    "Generar un model de regresión capaz de predecir el valor del seguro en base a las características del cliente.\n",
    "\n",
    "* Aplicar las técnicas oportunas de procesamiento de datos (lipieza, nans, escalado...)\n",
    "\n",
    "* Valorar diferentes modelos de regresión (linear regressor, polynomial, ridge, lasso, elastic, decission tree y random forest)\n",
    "\n",
    "* Comparación entre modelos (dividir el dataset en train y test, entrenar con el train y evaluar con el test)\n",
    "\n",
    "* Métricas (todas, y que aporta cada una)\n",
    "\n",
    "* Conclusiones finales"
   ]
  },
  {
   "cell_type": "markdown",
   "metadata": {
    "id": "Ee-3csHRJxqW"
   },
   "source": [
    "# Implementación"
   ]
  },
  {
   "cell_type": "markdown",
   "metadata": {},
   "source": [
    "## Limpieza de datos"
   ]
  },
  {
   "cell_type": "markdown",
   "metadata": {},
   "source": [
    "### Eliminación de nulos"
   ]
  },
  {
   "cell_type": "code",
   "execution_count": 74,
   "metadata": {},
   "outputs": [
    {
     "data": {
      "text/plain": [
       "age         0\n",
       "sex         0\n",
       "bmi         0\n",
       "children    0\n",
       "smoker      0\n",
       "region      0\n",
       "charges     0\n",
       "dtype: int64"
      ]
     },
     "execution_count": 74,
     "metadata": {},
     "output_type": "execute_result"
    }
   ],
   "source": [
    "data.isnull().sum()"
   ]
  },
  {
   "cell_type": "markdown",
   "metadata": {},
   "source": [
    "No hay nulos"
   ]
  },
  {
   "cell_type": "markdown",
   "metadata": {},
   "source": [
    "### Eliminación de duplicados"
   ]
  },
  {
   "cell_type": "code",
   "execution_count": 75,
   "metadata": {},
   "outputs": [
    {
     "data": {
      "text/plain": [
       "np.int64(1)"
      ]
     },
     "execution_count": 75,
     "metadata": {},
     "output_type": "execute_result"
    }
   ],
   "source": [
    "data.duplicated().sum()"
   ]
  },
  {
   "cell_type": "code",
   "execution_count": 76,
   "metadata": {},
   "outputs": [],
   "source": [
    "data = data.drop_duplicates()"
   ]
  },
  {
   "cell_type": "code",
   "execution_count": 77,
   "metadata": {},
   "outputs": [
    {
     "data": {
      "text/plain": [
       "np.int64(0)"
      ]
     },
     "execution_count": 77,
     "metadata": {},
     "output_type": "execute_result"
    }
   ],
   "source": [
    "data.duplicated().sum()"
   ]
  },
  {
   "cell_type": "markdown",
   "metadata": {},
   "source": [
    "### Tranformación de los datos"
   ]
  },
  {
   "cell_type": "code",
   "execution_count": 78,
   "metadata": {},
   "outputs": [
    {
     "name": "stdout",
     "output_type": "stream",
     "text": [
      "<class 'pandas.core.frame.DataFrame'>\n",
      "Index: 1337 entries, 0 to 1337\n",
      "Data columns (total 7 columns):\n",
      " #   Column    Non-Null Count  Dtype  \n",
      "---  ------    --------------  -----  \n",
      " 0   age       1337 non-null   int64  \n",
      " 1   sex       1337 non-null   object \n",
      " 2   bmi       1337 non-null   float64\n",
      " 3   children  1337 non-null   int64  \n",
      " 4   smoker    1337 non-null   object \n",
      " 5   region    1337 non-null   object \n",
      " 6   charges   1337 non-null   float64\n",
      "dtypes: float64(2), int64(2), object(3)\n",
      "memory usage: 83.6+ KB\n"
     ]
    }
   ],
   "source": [
    "data.info()"
   ]
  },
  {
   "cell_type": "markdown",
   "metadata": {},
   "source": [
    "#### Age"
   ]
  },
  {
   "cell_type": "code",
   "execution_count": 133,
   "metadata": {},
   "outputs": [
    {
     "data": {
      "image/png": "[encoded data removed]",
      "text/plain": [
       "<Figure size 640x480 with 1 Axes>"
      ]
     },
     "metadata": {},
     "output_type": "display_data"
    }
   ],
   "source": [
    "plot = data.plot(kind='scatter', x='age', y='charges', title='Age vs Charges')"
   ]
  },
  {
   "cell_type": "markdown",
   "metadata": {},
   "source": [
    "#### Sex"
   ]
  },
  {
   "cell_type": "code",
   "execution_count": 79,
   "metadata": {},
   "outputs": [
    {
     "data": {
      "text/plain": [
       "sex\n",
       "male      675\n",
       "female    662\n",
       "Name: count, dtype: int64"
      ]
     },
     "execution_count": 79,
     "metadata": {},
     "output_type": "execute_result"
    }
   ],
   "source": [
    "data[\"sex\"].value_counts()"
   ]
  },
  {
   "cell_type": "code",
   "execution_count": 80,
   "metadata": {},
   "outputs": [],
   "source": [
    "# one hot encoding sex\n",
    "data = pd.get_dummies(data, columns=[\"sex\"])"
   ]
  },
  {
   "cell_type": "markdown",
   "metadata": {},
   "source": [
    "#### Smoker"
   ]
  },
  {
   "cell_type": "code",
   "execution_count": 81,
   "metadata": {},
   "outputs": [
    {
     "data": {
      "text/plain": [
       "smoker\n",
       "no     1063\n",
       "yes     274\n",
       "Name: count, dtype: int64"
      ]
     },
     "execution_count": 81,
     "metadata": {},
     "output_type": "execute_result"
    }
   ],
   "source": [
    "data[\"smoker\"].value_counts()"
   ]
  },
  {
   "cell_type": "code",
   "execution_count": 82,
   "metadata": {},
   "outputs": [],
   "source": [
    "data = pd.get_dummies(data, columns=[\"smoker\"])"
   ]
  },
  {
   "cell_type": "markdown",
   "metadata": {},
   "source": [
    "#### Region"
   ]
  },
  {
   "cell_type": "code",
   "execution_count": null,
   "metadata": {},
   "outputs": [
    {
     "data": {
      "text/plain": [
       "region\n",
       "southeast    364\n",
       "southwest    325\n",
       "northwest    324\n",
       "northeast    324\n",
       "Name: count, dtype: int64"
      ]
     },
     "execution_count": 83,
     "metadata": {},
     "output_type": "execute_result"
    }
   ],
   "source": [
    "data[\"region\"].value_counts()"
   ]
  },
  {
   "cell_type": "code",
   "execution_count": 84,
   "metadata": {},
   "outputs": [],
   "source": [
    "data = pd.get_dummies(data, columns=[\"region\"])"
   ]
  },
  {
   "cell_type": "markdown",
   "metadata": {},
   "source": [
    "---\n",
    "\n",
    "Pasamos de true false a 1 y 0"
   ]
  },
  {
   "cell_type": "code",
   "execution_count": 85,
   "metadata": {},
   "outputs": [],
   "source": [
    "for col in data.columns:\n",
    "    if data[col].dtype == \"bool\":\n",
    "        data[col] = data[col].astype(int)"
   ]
  },
  {
   "cell_type": "code",
   "execution_count": 86,
   "metadata": {},
   "outputs": [
    {
     "data": {
      "text/html": [
       "<div>\n",
       "<style scoped>\n",
       "    .dataframe tbody tr th:only-of-type {\n",
       "        vertical-align: middle;\n",
       "    }\n",
       "\n",
       "    .dataframe tbody tr th {\n",
       "        vertical-align: top;\n",
       "    }\n",
       "\n",
       "    .dataframe thead th {\n",
       "        text-align: right;\n",
       "    }\n",
       "</style>\n",
       "<table border=\"1\" class=\"dataframe\">\n",
       "  <thead>\n",
       "    <tr style=\"text-align: right;\">\n",
       "      <th></th>\n",
       "      <th>age</th>\n",
       "      <th>bmi</th>\n",
       "      <th>children</th>\n",
       "      <th>charges</th>\n",
       "      <th>sex_female</th>\n",
       "      <th>sex_male</th>\n",
       "      <th>smoker_no</th>\n",
       "      <th>smoker_yes</th>\n",
       "      <th>region_northeast</th>\n",
       "      <th>region_northwest</th>\n",
       "      <th>region_southeast</th>\n",
       "      <th>region_southwest</th>\n",
       "    </tr>\n",
       "  </thead>\n",
       "  <tbody>\n",
       "    <tr>\n",
       "      <th>0</th>\n",
       "      <td>19</td>\n",
       "      <td>27.900</td>\n",
       "      <td>0</td>\n",
       "      <td>16884.92400</td>\n",
       "      <td>1</td>\n",
       "      <td>0</td>\n",
       "      <td>0</td>\n",
       "      <td>1</td>\n",
       "      <td>0</td>\n",
       "      <td>0</td>\n",
       "      <td>0</td>\n",
       "      <td>1</td>\n",
       "    </tr>\n",
       "    <tr>\n",
       "      <th>1</th>\n",
       "      <td>18</td>\n",
       "      <td>33.770</td>\n",
       "      <td>1</td>\n",
       "      <td>1725.55230</td>\n",
       "      <td>0</td>\n",
       "      <td>1</td>\n",
       "      <td>1</td>\n",
       "      <td>0</td>\n",
       "      <td>0</td>\n",
       "      <td>0</td>\n",
       "      <td>1</td>\n",
       "      <td>0</td>\n",
       "    </tr>\n",
       "    <tr>\n",
       "      <th>2</th>\n",
       "      <td>28</td>\n",
       "      <td>33.000</td>\n",
       "      <td>3</td>\n",
       "      <td>4449.46200</td>\n",
       "      <td>0</td>\n",
       "      <td>1</td>\n",
       "      <td>1</td>\n",
       "      <td>0</td>\n",
       "      <td>0</td>\n",
       "      <td>0</td>\n",
       "      <td>1</td>\n",
       "      <td>0</td>\n",
       "    </tr>\n",
       "    <tr>\n",
       "      <th>3</th>\n",
       "      <td>33</td>\n",
       "      <td>22.705</td>\n",
       "      <td>0</td>\n",
       "      <td>21984.47061</td>\n",
       "      <td>0</td>\n",
       "      <td>1</td>\n",
       "      <td>1</td>\n",
       "      <td>0</td>\n",
       "      <td>0</td>\n",
       "      <td>1</td>\n",
       "      <td>0</td>\n",
       "      <td>0</td>\n",
       "    </tr>\n",
       "    <tr>\n",
       "      <th>4</th>\n",
       "      <td>32</td>\n",
       "      <td>28.880</td>\n",
       "      <td>0</td>\n",
       "      <td>3866.85520</td>\n",
       "      <td>0</td>\n",
       "      <td>1</td>\n",
       "      <td>1</td>\n",
       "      <td>0</td>\n",
       "      <td>0</td>\n",
       "      <td>1</td>\n",
       "      <td>0</td>\n",
       "      <td>0</td>\n",
       "    </tr>\n",
       "  </tbody>\n",
       "</table>\n",
       "</div>"
      ],
      "text/plain": [
       "   age     bmi  children      charges  sex_female  sex_male  smoker_no  \\\n",
       "0   19  27.900         0  16884.92400           1         0          0   \n",
       "1   18  33.770         1   1725.55230           0         1          1   \n",
       "2   28  33.000         3   4449.46200           0         1          1   \n",
       "3   33  22.705         0  21984.47061           0         1          1   \n",
       "4   32  28.880         0   3866.85520           0         1          1   \n",
       "\n",
       "   smoker_yes  region_northeast  region_northwest  region_southeast  \\\n",
       "0           1                 0                 0                 0   \n",
       "1           0                 0                 0                 1   \n",
       "2           0                 0                 0                 1   \n",
       "3           0                 0                 1                 0   \n",
       "4           0                 0                 1                 0   \n",
       "\n",
       "   region_southwest  \n",
       "0                 1  \n",
       "1                 0  \n",
       "2                 0  \n",
       "3                 0  \n",
       "4                 0  "
      ]
     },
     "execution_count": 86,
     "metadata": {},
     "output_type": "execute_result"
    }
   ],
   "source": [
    "data.head()"
   ]
  },
  {
   "cell_type": "markdown",
   "metadata": {},
   "source": [
    "### Normalización"
   ]
  },
  {
   "cell_type": "code",
   "execution_count": 87,
   "metadata": {},
   "outputs": [],
   "source": [
    "# Normalizamos\n",
    "from sklearn.preprocessing import StandardScaler\n",
    "\n",
    "scaler = StandardScaler()\n",
    "\n",
    "charges = data[\"charges\"].reset_index(drop=True) # Reseteamos el índice\n",
    "data = pd.DataFrame(scaler.fit_transform(data), columns=data.columns).reset_index(drop=True)\n",
    "data[\"charges\"] = charges"
   ]
  },
  {
   "cell_type": "code",
   "execution_count": 88,
   "metadata": {},
   "outputs": [
    {
     "data": {
      "text/html": [
       "<div>\n",
       "<style scoped>\n",
       "    .dataframe tbody tr th:only-of-type {\n",
       "        vertical-align: middle;\n",
       "    }\n",
       "\n",
       "    .dataframe tbody tr th {\n",
       "        vertical-align: top;\n",
       "    }\n",
       "\n",
       "    .dataframe thead th {\n",
       "        text-align: right;\n",
       "    }\n",
       "</style>\n",
       "<table border=\"1\" class=\"dataframe\">\n",
       "  <thead>\n",
       "    <tr style=\"text-align: right;\">\n",
       "      <th></th>\n",
       "      <th>age</th>\n",
       "      <th>bmi</th>\n",
       "      <th>children</th>\n",
       "      <th>charges</th>\n",
       "      <th>sex_female</th>\n",
       "      <th>sex_male</th>\n",
       "      <th>smoker_no</th>\n",
       "      <th>smoker_yes</th>\n",
       "      <th>region_northeast</th>\n",
       "      <th>region_northwest</th>\n",
       "      <th>region_southeast</th>\n",
       "      <th>region_southwest</th>\n",
       "    </tr>\n",
       "  </thead>\n",
       "  <tbody>\n",
       "    <tr>\n",
       "      <th>0</th>\n",
       "      <td>-1.440418</td>\n",
       "      <td>-0.453160</td>\n",
       "      <td>-0.909234</td>\n",
       "      <td>16884.92400</td>\n",
       "      <td>1.009771</td>\n",
       "      <td>-1.009771</td>\n",
       "      <td>-1.969660</td>\n",
       "      <td>1.969660</td>\n",
       "      <td>-0.565546</td>\n",
       "      <td>-0.565546</td>\n",
       "      <td>-0.611638</td>\n",
       "      <td>1.764609</td>\n",
       "    </tr>\n",
       "    <tr>\n",
       "      <th>1</th>\n",
       "      <td>-1.511647</td>\n",
       "      <td>0.509422</td>\n",
       "      <td>-0.079442</td>\n",
       "      <td>1725.55230</td>\n",
       "      <td>-0.990324</td>\n",
       "      <td>0.990324</td>\n",
       "      <td>0.507702</td>\n",
       "      <td>-0.507702</td>\n",
       "      <td>-0.565546</td>\n",
       "      <td>-0.565546</td>\n",
       "      <td>1.634955</td>\n",
       "      <td>-0.566698</td>\n",
       "    </tr>\n",
       "    <tr>\n",
       "      <th>2</th>\n",
       "      <td>-0.799350</td>\n",
       "      <td>0.383155</td>\n",
       "      <td>1.580143</td>\n",
       "      <td>4449.46200</td>\n",
       "      <td>-0.990324</td>\n",
       "      <td>0.990324</td>\n",
       "      <td>0.507702</td>\n",
       "      <td>-0.507702</td>\n",
       "      <td>-0.565546</td>\n",
       "      <td>-0.565546</td>\n",
       "      <td>1.634955</td>\n",
       "      <td>-0.566698</td>\n",
       "    </tr>\n",
       "    <tr>\n",
       "      <th>3</th>\n",
       "      <td>-0.443201</td>\n",
       "      <td>-1.305052</td>\n",
       "      <td>-0.909234</td>\n",
       "      <td>21984.47061</td>\n",
       "      <td>-0.990324</td>\n",
       "      <td>0.990324</td>\n",
       "      <td>0.507702</td>\n",
       "      <td>-0.507702</td>\n",
       "      <td>-0.565546</td>\n",
       "      <td>1.768203</td>\n",
       "      <td>-0.611638</td>\n",
       "      <td>-0.566698</td>\n",
       "    </tr>\n",
       "    <tr>\n",
       "      <th>4</th>\n",
       "      <td>-0.514431</td>\n",
       "      <td>-0.292456</td>\n",
       "      <td>-0.909234</td>\n",
       "      <td>3866.85520</td>\n",
       "      <td>-0.990324</td>\n",
       "      <td>0.990324</td>\n",
       "      <td>0.507702</td>\n",
       "      <td>-0.507702</td>\n",
       "      <td>-0.565546</td>\n",
       "      <td>1.768203</td>\n",
       "      <td>-0.611638</td>\n",
       "      <td>-0.566698</td>\n",
       "    </tr>\n",
       "  </tbody>\n",
       "</table>\n",
       "</div>"
      ],
      "text/plain": [
       "        age       bmi  children      charges  sex_female  sex_male  smoker_no  \\\n",
       "0 -1.440418 -0.453160 -0.909234  16884.92400    1.009771 -1.009771  -1.969660   \n",
       "1 -1.511647  0.509422 -0.079442   1725.55230   -0.990324  0.990324   0.507702   \n",
       "2 -0.799350  0.383155  1.580143   4449.46200   -0.990324  0.990324   0.507702   \n",
       "3 -0.443201 -1.305052 -0.909234  21984.47061   -0.990324  0.990324   0.507702   \n",
       "4 -0.514431 -0.292456 -0.909234   3866.85520   -0.990324  0.990324   0.507702   \n",
       "\n",
       "   smoker_yes  region_northeast  region_northwest  region_southeast  \\\n",
       "0    1.969660         -0.565546         -0.565546         -0.611638   \n",
       "1   -0.507702         -0.565546         -0.565546          1.634955   \n",
       "2   -0.507702         -0.565546         -0.565546          1.634955   \n",
       "3   -0.507702         -0.565546          1.768203         -0.611638   \n",
       "4   -0.507702         -0.565546          1.768203         -0.611638   \n",
       "\n",
       "   region_southwest  \n",
       "0          1.764609  \n",
       "1         -0.566698  \n",
       "2         -0.566698  \n",
       "3         -0.566698  \n",
       "4         -0.566698  "
      ]
     },
     "execution_count": 88,
     "metadata": {},
     "output_type": "execute_result"
    }
   ],
   "source": [
    "data.head()"
   ]
  },
  {
   "cell_type": "markdown",
   "metadata": {},
   "source": [
    "## Modelado"
   ]
  },
  {
   "cell_type": "markdown",
   "metadata": {},
   "source": [
    "### Training"
   ]
  },
  {
   "cell_type": "code",
   "execution_count": 89,
   "metadata": {},
   "outputs": [],
   "source": [
    "X = data.drop(\"charges\", axis=1)\n",
    "y = data[\"charges\"]"
   ]
  },
  {
   "cell_type": "code",
   "execution_count": 90,
   "metadata": {},
   "outputs": [],
   "source": [
    "from sklearn.model_selection import train_test_split\n",
    "\n",
    "X_train_val, X_test, y_train_val, y_test = train_test_split(X, y, test_size=0.2, random_state=42)\n",
    "X_train, X_val, y_train, y_val = train_test_split(X_train_val, y_train_val, test_size=0.25, random_state=42)"
   ]
  },
  {
   "cell_type": "markdown",
   "metadata": {},
   "source": [
    "linear regressor, polynomial, ridge, lasso, elastic, decission tree y random forest"
   ]
  },
  {
   "cell_type": "code",
   "execution_count": 96,
   "metadata": {},
   "outputs": [],
   "source": [
    "from sklearn.linear_model import LinearRegression, Ridge, Lasso, ElasticNet\n",
    "from sklearn.tree import DecisionTreeRegressor\n",
    "from sklearn.ensemble import RandomForestRegressor\n",
    "from sklearn.preprocessing import PolynomialFeatures"
   ]
  },
  {
   "cell_type": "markdown",
   "metadata": {},
   "source": [
    "#### Linear Regressor"
   ]
  },
  {
   "cell_type": "code",
   "execution_count": 94,
   "metadata": {},
   "outputs": [
    {
     "name": "stdout",
     "output_type": "stream",
     "text": [
      "R2 Linear Regression Train: 0.7315026287772068\n",
      "R2 Linear Regression Val: 0.72110362715151\n"
     ]
    }
   ],
   "source": [
    "lr_model = LinearRegression()\n",
    "lr_model.fit(X_train, y_train)\n",
    "\n",
    "lr_r2_train = lr_model.score(X_train, y_train)\n",
    "lr_r2_val = lr_model.score(X_val, y_val)\n",
    "print(f\"R2 Linear Regression Train: {lr_r2_train}\")\n",
    "print(f\"R2 Linear Regression Val: {lr_r2_val}\")"
   ]
  },
  {
   "cell_type": "markdown",
   "metadata": {},
   "source": [
    "####  Polynomial"
   ]
  },
  {
   "cell_type": "code",
   "execution_count": 99,
   "metadata": {},
   "outputs": [
    {
     "name": "stdout",
     "output_type": "stream",
     "text": [
      "R2 Polynomial Regression Train: 0.8439340155884468\n",
      "R2 Polynomial Regression Val: 0.787960839276975\n"
     ]
    }
   ],
   "source": [
    "poly2 = PolynomialFeatures(degree=2)\n",
    "\n",
    "X_train_poly2 = poly2.fit_transform(X_train)\n",
    "X_val_poly2 = poly2.transform(X_val)\n",
    "X_test_poly2 = poly2.transform(X_test)\n",
    "\n",
    "poly2_lr_model = LinearRegression()\n",
    "poly2_lr_model.fit(X_train_poly2, y_train)\n",
    "\n",
    "poly2_r2_train = poly2_lr_model.score(X_train_poly2, y_train)\n",
    "poly2_r2_val = poly2_lr_model.score(X_val_poly2, y_val)\n",
    "print(f\"R2 Polynomial Regression Train: {poly2_r2_train}\")\n",
    "print(f\"R2 Polynomial Regression Val: {poly2_r2_val}\")"
   ]
  },
  {
   "cell_type": "code",
   "execution_count": 100,
   "metadata": {},
   "outputs": [
    {
     "name": "stdout",
     "output_type": "stream",
     "text": [
      "R2 Polynomial Regression Train: 0.8610384599782055\n",
      "R2 Polynomial Regression Val: 0.7698946452547403\n"
     ]
    }
   ],
   "source": [
    "\n",
    "poly_3 = PolynomialFeatures(degree=3)\n",
    "\n",
    "X_train_poly3 = poly_3.fit_transform(X_train)\n",
    "X_val_poly3 = poly_3.transform(X_val)\n",
    "X_test_poly3 = poly_3.transform(X_test)\n",
    "\n",
    "poly3_lr_model = LinearRegression()\n",
    "poly3_lr_model.fit(X_train_poly3, y_train)\n",
    "\n",
    "poly3_r2_train = poly3_lr_model.score(X_train_poly3, y_train)\n",
    "poly3_r2_val = poly3_lr_model.score(X_val_poly3, y_val)\n",
    "print(f\"R2 Polynomial Regression Train: {poly3_r2_train}\")\n",
    "print(f\"R2 Polynomial Regression Val: {poly3_r2_val}\")"
   ]
  },
  {
   "cell_type": "markdown",
   "metadata": {},
   "source": [
    "#### Ridge"
   ]
  },
  {
   "cell_type": "code",
   "execution_count": 101,
   "metadata": {},
   "outputs": [
    {
     "name": "stdout",
     "output_type": "stream",
     "text": [
      "R2 Ridge Regression Train: 0.7315025235707087\n",
      "R2 Ridge Regression Val: 0.721098522004405\n"
     ]
    }
   ],
   "source": [
    "riedge_model = Ridge(alpha=0.5)\n",
    "riedge_model.fit(X_train, y_train)\n",
    "\n",
    "ridge_r2_train = riedge_model.score(X_train, y_train)\n",
    "ridge_r2_val = riedge_model.score(X_val, y_val)\n",
    "print(f\"R2 Ridge Regression Train: {ridge_r2_train}\")\n",
    "print(f\"R2 Ridge Regression Val: {ridge_r2_val}\")"
   ]
  },
  {
   "cell_type": "markdown",
   "metadata": {},
   "source": [
    "#### Lasso"
   ]
  },
  {
   "cell_type": "code",
   "execution_count": 103,
   "metadata": {},
   "outputs": [
    {
     "name": "stdout",
     "output_type": "stream",
     "text": [
      "R2 Lasso Regression Train: 0.731502613079545\n",
      "R2 Lasso Regression Val: 0.7211038066263044\n"
     ]
    }
   ],
   "source": [
    "lasso_model = Lasso(alpha=0.5)\n",
    "lasso_model.fit(X_train, y_train)\n",
    "\n",
    "lasso_r2_train = lasso_model.score(X_train, y_train)\n",
    "lasso_r2_val = lasso_model.score(X_val, y_val)\n",
    "print(f\"R2 Lasso Regression Train: {lasso_r2_train}\")\n",
    "print(f\"R2 Lasso Regression Val: {lasso_r2_val}\")"
   ]
  },
  {
   "cell_type": "markdown",
   "metadata": {},
   "source": [
    "#### Elastic Net"
   ]
  },
  {
   "cell_type": "code",
   "execution_count": 104,
   "metadata": {},
   "outputs": [
    {
     "name": "stdout",
     "output_type": "stream",
     "text": [
      "R2 ElasticNet Regression Train: 0.7193317398384036\n",
      "R2 ElasticNet Regression Val: 0.7064385067042849\n"
     ]
    }
   ],
   "source": [
    "elastic_model = ElasticNet(alpha=0.5, l1_ratio=0.5)\n",
    "elastic_model.fit(X_train, y_train)\n",
    "\n",
    "elastic_r2_train = elastic_model.score(X_train, y_train)\n",
    "elastic_r2_val = elastic_model.score(X_val, y_val)\n",
    "print(f\"R2 ElasticNet Regression Train: {elastic_r2_train}\")\n",
    "print(f\"R2 ElasticNet Regression Val: {elastic_r2_val}\")"
   ]
  },
  {
   "cell_type": "markdown",
   "metadata": {},
   "source": [
    "#### Decission Tree"
   ]
  },
  {
   "cell_type": "code",
   "execution_count": 105,
   "metadata": {},
   "outputs": [
    {
     "name": "stdout",
     "output_type": "stream",
     "text": [
      "R2 Decision Tree Regression Train: 1.0\n",
      "R2 Decision Tree Regression Val: 0.5874837821010891\n"
     ]
    }
   ],
   "source": [
    "dt_model = DecisionTreeRegressor(random_state=42)\n",
    "dt_model.fit(X_train, y_train)\n",
    "\n",
    "dt_r2_train = dt_model.score(X_train, y_train)\n",
    "dt_r2_val = dt_model.score(X_val, y_val)\n",
    "print(f\"R2 Decision Tree Regression Train: {dt_r2_train}\")\n",
    "print(f\"R2 Decision Tree Regression Val: {dt_r2_val}\")"
   ]
  },
  {
   "cell_type": "markdown",
   "metadata": {},
   "source": [
    "#### Random Fores"
   ]
  },
  {
   "cell_type": "code",
   "execution_count": 106,
   "metadata": {},
   "outputs": [
    {
     "name": "stdout",
     "output_type": "stream",
     "text": [
      "R2 Random Forest Regression Train: 0.9766228474856835\n",
      "R2 Random Forest Regression Val: 0.7801811865784648\n"
     ]
    }
   ],
   "source": [
    "rf_model = RandomForestRegressor(random_state=42)\n",
    "rf_model.fit(X_train, y_train)\n",
    "\n",
    "rf_r2_train = rf_model.score(X_train, y_train)\n",
    "rf_r2_val = rf_model.score(X_val, y_val)\n",
    "print(f\"R2 Random Forest Regression Train: {rf_r2_train}\")\n",
    "print(f\"R2 Random Forest Regression Val: {rf_r2_val}\")"
   ]
  },
  {
   "cell_type": "markdown",
   "metadata": {},
   "source": [
    "### Testing"
   ]
  },
  {
   "cell_type": "code",
   "execution_count": 130,
   "metadata": {},
   "outputs": [
    {
     "name": "stdout",
     "output_type": "stream",
     "text": [
      "R2 Linear Regression Test: 0.8057067181435495\n",
      "R2 Polynomial Regression Degree 2 Test: 0.8790492307187359\n",
      "R2 Polynomial Regression Degree 3 Test: 0.854459322792374\n",
      "R2 Ridge Regression Test: 0.8056338006054696\n",
      "R2 Lasso Regression Test: 0.8056935113363698\n",
      "R2 ElasticNet Regression Test: 0.7701451469535062\n",
      "R2 Decision Tree Regression Test: 0.8017779336725195\n",
      "R2 Random Forest Regression Test: 0.8794241207060087\n"
     ]
    }
   ],
   "source": [
    "lr_r2_test = lr_model.score(X_test, y_test)\n",
    "print(f\"R2 Linear Regression Test: {lr_r2_test}\")\n",
    "\n",
    "poly2_r2_test = poly2_lr_model.score(X_test_poly2, y_test)\n",
    "print(f\"R2 Polynomial Regression Degree 2 Test: {poly2_r2_test}\")\n",
    "poly3_r2_test = poly3_lr_model.score(X_test_poly3, y_test)\n",
    "print(f\"R2 Polynomial Regression Degree 3 Test: {poly3_r2_test}\")\n",
    "\n",
    "ridge_r2_test = riedge_model.score(X_test, y_test)\n",
    "print(f\"R2 Ridge Regression Test: {ridge_r2_test}\")\n",
    "\n",
    "lasso_r2_test = lasso_model.score(X_test, y_test)\n",
    "print(f\"R2 Lasso Regression Test: {lasso_r2_test}\")\n",
    "\n",
    "elastic_r2_test = elastic_model.score(X_test, y_test)\n",
    "print(f\"R2 ElasticNet Regression Test: {elastic_r2_test}\")\n",
    "\n",
    "dt_r2_test = dt_model.score(X_test, y_test)\n",
    "print(f\"R2 Decision Tree Regression Test: {dt_r2_test}\")\n",
    "\n",
    "rf_r2_test = rf_model.score(X_test, y_test)\n",
    "print(f\"R2 Random Forest Regression Test: {rf_r2_test}\")"
   ]
  },
  {
   "cell_type": "markdown",
   "metadata": {
    "id": "j2PGzN9SpfcP"
   },
   "source": [
    "# Conclusiones"
   ]
  },
  {
   "cell_type": "markdown",
   "metadata": {},
   "source": [
    "A continuación pasaremos a comentar los resultados obtenidos:"
   ]
  },
  {
   "cell_type": "code",
   "execution_count": 110,
   "metadata": {},
   "outputs": [
    {
     "data": {
      "image/png": "[encoded data removed]",
      "text/plain": [
       "<Figure size 1000x600 with 1 Axes>"
      ]
     },
     "metadata": {},
     "output_type": "display_data"
    }
   ],
   "source": [
    "# plot all scores\n",
    "import matplotlib.pyplot as plt\n",
    "import numpy as np\n",
    "\n",
    "models = [\"Linear Regression\", \"Polynomial degree 2\", \"Polynomial degree 3\", \n",
    "          \"Ridge Regression\", \"Lasso Regression\", \"ElasticNet Regression\", \n",
    "          \"Decision Tree Regression\", \"Random Forest Regression\"]\n",
    "scores = [lr_r2_train, poly2_r2_train, poly3_r2_train, \n",
    "          ridge_r2_train, lasso_r2_train, elastic_r2_train, \n",
    "          dt_r2_train, rf_r2_train]\n",
    "scores_val = [lr_r2_val, poly2_r2_val, poly3_r2_val, \n",
    "              ridge_r2_val, lasso_r2_val, elastic_r2_val, \n",
    "              dt_r2_val, rf_r2_val]\n",
    "\n",
    "y = np.arange(len(models))  # the label locations\n",
    "height = 0.35  # the height of the bars\n",
    "\n",
    "fig, ax = plt.subplots(figsize=(10, 6))\n",
    "\n",
    "# Horizontal bars (from left to right)\n",
    "rects1 = ax.barh(y - height/2, scores, height, label=\"Train\")\n",
    "rects2 = ax.barh(y + height/2, scores_val, height, label=\"Val\")\n",
    "\n",
    "# Add some text for labels, title and custom y-axis tick labels, etc.\n",
    "ax.set_xlabel(\"R2 Score\")\n",
    "ax.set_title(\"Scores by model\")\n",
    "ax.set_yticks(y)\n",
    "ax.set_yticklabels(models)\n",
    "ax.legend()\n",
    "ax.grid(axis=\"x\")\n",
    "\n",
    "# Display the plot\n",
    "plt.show()\n"
   ]
  },
  {
   "cell_type": "markdown",
   "metadata": {},
   "source": [
    "Como se puede apreciar en la gráfica anterior anterior, el modelo que consigue una mayor puntuacion en validacion es el `Polynomial Regresor` de grado 2 el cual se encuentra muy empatado con el `Random Forest Regressor`.\n",
    "\n",
    "Una cuestion apreciable en la gráfica la cual es destacable son las altas puntuaciones obtenidas en\n",
    "los modelos de `Random Forest Regressor` y `Decision Tree Regressor` en comparación con los demás modelos. Esto puede deberse a que estos modelos son capaces de capturar relaciones complejas entre las variables pero al tratarse de un dataset pequeño, se estan sobreajustan a los datos de entrenamiento.\n",
    "\n",
    "---"
   ]
  },
  {
   "cell_type": "code",
   "execution_count": null,
   "metadata": {},
   "outputs": [
    {
     "data": {
      "image/png": "[encoded data removed]",
      "text/plain": [
       "<Figure size 1000x600 with 1 Axes>"
      ]
     },
     "metadata": {},
     "output_type": "display_data"
    }
   ],
   "source": [
    "models = [\"Linear Regression\", \"Polynomial degree 2\", \"Polynomial degree 3\", \n",
    "          \"Ridge Regression\", \"Lasso Regression\", \"ElasticNet Regression\", \n",
    "          \"Decision Tree Regression\", \"Random Forest Regression\"]\n",
    "scores = [lr_r2_test, poly2_r2_test, poly3_r2_test,\n",
    "          ridge_r2_test, lasso_r2_test, elastic_r2_test,\n",
    "          dt_r2_test, rf_r2_test]\n",
    "\n",
    "y = np.arange(len(models))  # the label locations\n",
    "height = 0.35  # the height of the bars\n",
    "\n",
    "fig, ax = plt.subplots(figsize=(10, 6))\n",
    "\n",
    "# Horizontal bars (from left to right)\n",
    "rects1 = ax.barh(y, scores, height, label=\"Test\", color=\"green\")\n",
    "\n",
    "# Add some text for labels, title and custom y-axis tick labels, etc.\n",
    "ax.set_xlabel(\"R2 Score\")\n",
    "ax.set_title(\"Scores by model\")\n",
    "ax.set_yticks(y)\n",
    "ax.set_yticklabels(models)\n",
    "ax.grid(axis=\"x\")\n",
    "\n",
    "# Display the plot\n",
    "plt.show()"
   ]
  },
  {
   "cell_type": "markdown",
   "metadata": {},
   "source": [
    "Analizando las puntuaciones en testing, observamos que la situación es muy similar a la validación, lo que sugiere que los modelos generalizan bien y no han sufrido sobreajuste significativo.\n",
    "\n",
    "Las mejores puntuaciones son las siguientes:\n",
    "\n",
    "1. `Random Forest Regressor`: 0.8794\n",
    "2. `Polynomial Regression (Degree 2)`: 0.8790\n",
    "3. `Polynomial Regression (Degree 3)`: 0.8545\n",
    "\n",
    "El mejor rendimiento lo obtiene el `Random Forest Regressor`, lo que indica que la combinación de múltiples árboles de decisión ayuda a capturar relaciones complejas en los datos sin comprometer la capacidad de generalización.\n",
    "\n",
    "Las regresiones polinómicas (grado 2 y 3) también muestran un desempeño competitivo, con el modelo de grado 2 casi igualando a Random Forest. Esto sugiere que la relación entre las variables tiene un componente polinómico fuerte, pero sin llegar a necesitar un grado 3, ya que este último muestra una ligera caída en rendimiento, lo que podría indicar un leve sobreajuste.\n",
    "\n",
    "La alta puntuación de modelos más simples (como la regresión lineal) sugiere que el problema analizado no es excesivamente complejo."
   ]
  }
 ],
 "metadata": {
  "colab": {
   "provenance": []
  },
  "kernelspec": {
   "display_name": "pythorch",
   "language": "python",
   "name": "python3"
  },
  "language_info": {
   "codemirror_mode": {
    "name": "ipython",
    "version": 3
   },
   "file_extension": ".py",
   "mimetype": "text/x-python",
   "name": "python",
   "nbconvert_exporter": "python",
   "pygments_lexer": "ipython3",
   "version": "3.12.8"
  }
 },
 "nbformat": 4,
 "nbformat_minor": 0
}
