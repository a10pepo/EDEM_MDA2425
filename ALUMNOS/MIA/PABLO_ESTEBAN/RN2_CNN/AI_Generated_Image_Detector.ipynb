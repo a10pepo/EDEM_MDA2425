{
 "cells": [
  {
   "cell_type": "markdown",
   "metadata": {
    "id": "WEU9fThAap-w"
   },
   "source": [
    "# AI Generated Image Detector"
   ]
  },
  {
   "cell_type": "markdown",
   "metadata": {
    "id": "njAHsfGAap-z"
   },
   "source": [
    "En este notebook se detalla todo el proceso de entrenamiento de un modelo del `Computer Vision` capaz de detectar imágenes generadas con herramientas de `IA generativa`"
   ]
  },
  {
   "cell_type": "markdown",
   "metadata": {
    "id": "WnP-DoBMap-z"
   },
   "source": [
    "# 1. Dataset"
   ]
  },
  {
   "cell_type": "code",
   "execution_count": 1,
   "metadata": {
    "executionInfo": {
     "elapsed": 25,
     "status": "ok",
     "timestamp": 1741723349730,
     "user": {
      "displayName": "Pablo Esteban",
      "userId": "08586416401412054693"
     },
     "user_tz": -60
    },
    "id": "uMeeJcf7eyKY"
   },
   "outputs": [],
   "source": [
    "# !pip install opencv-python"
   ]
  },
  {
   "cell_type": "markdown",
   "metadata": {
    "id": "e6RYfBTCap-z"
   },
   "source": [
    "El dataset utilizado"
   ]
  },
  {
   "cell_type": "code",
   "execution_count": 17,
   "metadata": {
    "executionInfo": {
     "elapsed": 41,
     "status": "ok",
     "timestamp": 1741763605106,
     "user": {
      "displayName": "Pablo Esteban",
      "userId": "08586416401412054693"
     },
     "user_tz": -60
    },
    "id": "tjFkepkdap-0"
   },
   "outputs": [],
   "source": [
    "import kagglehub\n",
    "import os\n",
    "import pandas as pd\n",
    "\n",
    "import cv2\n",
    "import matplotlib.pyplot as plt\n",
    "\n",
    "import torch\n",
    "import torch.nn as nn\n",
    "import torch.nn.functional as F\n",
    "import torch.optim as optim\n",
    "from torchvision import datasets, transforms\n",
    "from torch.utils.data import DataLoader, Dataset\n",
    "from torch.utils.data import random_split, Dataset\n",
    "\n",
    "from tqdm import tqdm  # Importar tqdm\n",
    "\n",
    "from PIL import Image"
   ]
  },
  {
   "cell_type": "code",
   "execution_count": 3,
   "metadata": {
    "colab": {
     "base_uri": "https://localhost:8080/"
    },
    "executionInfo": {
     "elapsed": 225295,
     "status": "ok",
     "timestamp": 1741763557966,
     "user": {
      "displayName": "Pablo Esteban",
      "userId": "08586416401412054693"
     },
     "user_tz": -60
    },
    "id": "s4yZTrU-ap-1",
    "outputId": "a06fb160-43fe-4f3d-ef13-b2c1514b65b7"
   },
   "outputs": [
    {
     "name": "stdout",
     "output_type": "stream",
     "text": [
      "Downloading from https://www.kaggle.com/api/v1/datasets/download/alessandrasala79/ai-vs-human-generated-dataset?dataset_version_number=4...\n"
     ]
    },
    {
     "name": "stderr",
     "output_type": "stream",
     "text": [
      "100%|██████████| 9.76G/9.76G [01:20<00:00, 130MB/s] "
     ]
    },
    {
     "name": "stdout",
     "output_type": "stream",
     "text": [
      "Extracting files...\n"
     ]
    },
    {
     "name": "stderr",
     "output_type": "stream",
     "text": [
      "\n"
     ]
    },
    {
     "name": "stdout",
     "output_type": "stream",
     "text": [
      "Path to dataset files: /root/.cache/kagglehub/datasets/alessandrasala79/ai-vs-human-generated-dataset/versions/4\n"
     ]
    }
   ],
   "source": [
    "# Download latest version\n",
    "path = kagglehub.dataset_download(\"alessandrasala79/ai-vs-human-generated-dataset\")\n",
    "\n",
    "print(\"Path to dataset files:\", path)"
   ]
  },
  {
   "cell_type": "code",
   "execution_count": 4,
   "metadata": {
    "colab": {
     "base_uri": "https://localhost:8080/"
    },
    "executionInfo": {
     "elapsed": 25,
     "status": "ok",
     "timestamp": 1741763557990,
     "user": {
      "displayName": "Pablo Esteban",
      "userId": "08586416401412054693"
     },
     "user_tz": -60
    },
    "id": "H2vOKwpBap-1",
    "outputId": "34230cd4-a605-4bcf-9c77-a1214aea399f"
   },
   "outputs": [
    {
     "data": {
      "text/plain": [
       "['train_data', 'test.csv', 'test_data_v2', 'train.csv']"
      ]
     },
     "execution_count": 4,
     "metadata": {},
     "output_type": "execute_result"
    }
   ],
   "source": [
    "os.listdir(path)"
   ]
  },
  {
   "cell_type": "markdown",
   "metadata": {
    "id": "JEF1nZ3qap-1"
   },
   "source": [
    "# Análisis de los datos"
   ]
  },
  {
   "cell_type": "code",
   "execution_count": 5,
   "metadata": {
    "executionInfo": {
     "elapsed": 91,
     "status": "ok",
     "timestamp": 1741763558083,
     "user": {
      "displayName": "Pablo Esteban",
      "userId": "08586416401412054693"
     },
     "user_tz": -60
    },
    "id": "vhqUF8uRap-2"
   },
   "outputs": [],
   "source": [
    "data = pd.read_csv(os.path.join(path, \"train.csv\"), index_col=0)"
   ]
  },
  {
   "cell_type": "code",
   "execution_count": 6,
   "metadata": {
    "colab": {
     "base_uri": "https://localhost:8080/",
     "height": 206
    },
    "executionInfo": {
     "elapsed": 301,
     "status": "ok",
     "timestamp": 1741763558393,
     "user": {
      "displayName": "Pablo Esteban",
      "userId": "08586416401412054693"
     },
     "user_tz": -60
    },
    "id": "B65VWKRJap-2",
    "outputId": "88d08668-d59f-4c53-959a-e347ca42f538"
   },
   "outputs": [
    {
     "data": {
      "application/vnd.google.colaboratory.intrinsic+json": {
       "summary": "{\n  \"name\": \"data\",\n  \"rows\": 79950,\n  \"fields\": [\n    {\n      \"column\": \"file_name\",\n      \"properties\": {\n        \"dtype\": \"string\",\n        \"num_unique_values\": 79950,\n        \"samples\": [\n          \"train_data/19b29cb2dd6c45a69999e1e3608b0982.jpg\",\n          \"train_data/76d24375c7ce4aa19fa50092ce335afd.jpg\",\n          \"train_data/58f88e4050a845428bc891badc334265.jpg\"\n        ],\n        \"semantic_type\": \"\",\n        \"description\": \"\"\n      }\n    },\n    {\n      \"column\": \"label\",\n      \"properties\": {\n        \"dtype\": \"number\",\n        \"std\": 0,\n        \"min\": 0,\n        \"max\": 1,\n        \"num_unique_values\": 2,\n        \"samples\": [\n          0,\n          1\n        ],\n        \"semantic_type\": \"\",\n        \"description\": \"\"\n      }\n    }\n  ]\n}",
       "type": "dataframe",
       "variable_name": "data"
      },
      "text/html": [
       "\n",
       "  <div id=\"df-3e85b51d-e193-4a65-8c80-c956a3bf9e5e\" class=\"colab-df-container\">\n",
       "    <div>\n",
       "<style scoped>\n",
       "    .dataframe tbody tr th:only-of-type {\n",
       "        vertical-align: middle;\n",
       "    }\n",
       "\n",
       "    .dataframe tbody tr th {\n",
       "        vertical-align: top;\n",
       "    }\n",
       "\n",
       "    .dataframe thead th {\n",
       "        text-align: right;\n",
       "    }\n",
       "</style>\n",
       "<table border=\"1\" class=\"dataframe\">\n",
       "  <thead>\n",
       "    <tr style=\"text-align: right;\">\n",
       "      <th></th>\n",
       "      <th>file_name</th>\n",
       "      <th>label</th>\n",
       "    </tr>\n",
       "  </thead>\n",
       "  <tbody>\n",
       "    <tr>\n",
       "      <th>0</th>\n",
       "      <td>train_data/a6dcb93f596a43249135678dfcfc17ea.jpg</td>\n",
       "      <td>1</td>\n",
       "    </tr>\n",
       "    <tr>\n",
       "      <th>1</th>\n",
       "      <td>train_data/041be3153810433ab146bc97d5af505c.jpg</td>\n",
       "      <td>0</td>\n",
       "    </tr>\n",
       "    <tr>\n",
       "      <th>2</th>\n",
       "      <td>train_data/615df26ce9494e5db2f70e57ce7a3a4f.jpg</td>\n",
       "      <td>1</td>\n",
       "    </tr>\n",
       "    <tr>\n",
       "      <th>3</th>\n",
       "      <td>train_data/8542fe161d9147be8e835e50c0de39cd.jpg</td>\n",
       "      <td>0</td>\n",
       "    </tr>\n",
       "    <tr>\n",
       "      <th>4</th>\n",
       "      <td>train_data/5d81fa12bc3b4cea8c94a6700a477cf2.jpg</td>\n",
       "      <td>1</td>\n",
       "    </tr>\n",
       "  </tbody>\n",
       "</table>\n",
       "</div>\n",
       "    <div class=\"colab-df-buttons\">\n",
       "\n",
       "  <div class=\"colab-df-container\">\n",
       "    <button class=\"colab-df-convert\" onclick=\"convertToInteractive('df-3e85b51d-e193-4a65-8c80-c956a3bf9e5e')\"\n",
       "            title=\"Convert this dataframe to an interactive table.\"\n",
       "            style=\"display:none;\">\n",
       "\n",
       "  <svg xmlns=\"http://www.w3.org/2000/svg\" height=\"24px\" viewBox=\"0 -960 960 960\">\n",
       "    <path d=\"M120-120v-720h720v720H120Zm60-500h600v-160H180v160Zm220 220h160v-160H400v160Zm0 220h160v-160H400v160ZM180-400h160v-160H180v160Zm440 0h160v-160H620v160ZM180-180h160v-160H180v160Zm440 0h160v-160H620v160Z\"/>\n",
       "  </svg>\n",
       "    </button>\n",
       "\n",
       "  <style>\n",
       "    .colab-df-container {\n",
       "      display:flex;\n",
       "      gap: 12px;\n",
       "    }\n",
       "\n",
       "    .colab-df-convert {\n",
       "      background-color: #E8F0FE;\n",
       "      border: none;\n",
       "      border-radius: 50%;\n",
       "      cursor: pointer;\n",
       "      display: none;\n",
       "      fill: #1967D2;\n",
       "      height: 32px;\n",
       "      padding: 0 0 0 0;\n",
       "      width: 32px;\n",
       "    }\n",
       "\n",
       "    .colab-df-convert:hover {\n",
       "      background-color: #E2EBFA;\n",
       "      box-shadow: 0px 1px 2px rgba(60, 64, 67, 0.3), 0px 1px 3px 1px rgba(60, 64, 67, 0.15);\n",
       "      fill: #174EA6;\n",
       "    }\n",
       "\n",
       "    .colab-df-buttons div {\n",
       "      margin-bottom: 4px;\n",
       "    }\n",
       "\n",
       "    [theme=dark] .colab-df-convert {\n",
       "      background-color: #3B4455;\n",
       "      fill: #D2E3FC;\n",
       "    }\n",
       "\n",
       "    [theme=dark] .colab-df-convert:hover {\n",
       "      background-color: #434B5C;\n",
       "      box-shadow: 0px 1px 3px 1px rgba(0, 0, 0, 0.15);\n",
       "      filter: drop-shadow(0px 1px 2px rgba(0, 0, 0, 0.3));\n",
       "      fill: #FFFFFF;\n",
       "    }\n",
       "  </style>\n",
       "\n",
       "    <script>\n",
       "      const buttonEl =\n",
       "        document.querySelector('#df-3e85b51d-e193-4a65-8c80-c956a3bf9e5e button.colab-df-convert');\n",
       "      buttonEl.style.display =\n",
       "        google.colab.kernel.accessAllowed ? 'block' : 'none';\n",
       "\n",
       "      async function convertToInteractive(key) {\n",
       "        const element = document.querySelector('#df-3e85b51d-e193-4a65-8c80-c956a3bf9e5e');\n",
       "        const dataTable =\n",
       "          await google.colab.kernel.invokeFunction('convertToInteractive',\n",
       "                                                    [key], {});\n",
       "        if (!dataTable) return;\n",
       "\n",
       "        const docLinkHtml = 'Like what you see? Visit the ' +\n",
       "          '<a target=\"_blank\" href=https://colab.research.google.com/notebooks/data_table.ipynb>data table notebook</a>'\n",
       "          + ' to learn more about interactive tables.';\n",
       "        element.innerHTML = '';\n",
       "        dataTable['output_type'] = 'display_data';\n",
       "        await google.colab.output.renderOutput(dataTable, element);\n",
       "        const docLink = document.createElement('div');\n",
       "        docLink.innerHTML = docLinkHtml;\n",
       "        element.appendChild(docLink);\n",
       "      }\n",
       "    </script>\n",
       "  </div>\n",
       "\n",
       "\n",
       "<div id=\"df-9ab7578e-67d5-49f3-bd18-da8c94488712\">\n",
       "  <button class=\"colab-df-quickchart\" onclick=\"quickchart('df-9ab7578e-67d5-49f3-bd18-da8c94488712')\"\n",
       "            title=\"Suggest charts\"\n",
       "            style=\"display:none;\">\n",
       "\n",
       "<svg xmlns=\"http://www.w3.org/2000/svg\" height=\"24px\"viewBox=\"0 0 24 24\"\n",
       "     width=\"24px\">\n",
       "    <g>\n",
       "        <path d=\"M19 3H5c-1.1 0-2 .9-2 2v14c0 1.1.9 2 2 2h14c1.1 0 2-.9 2-2V5c0-1.1-.9-2-2-2zM9 17H7v-7h2v7zm4 0h-2V7h2v10zm4 0h-2v-4h2v4z\"/>\n",
       "    </g>\n",
       "</svg>\n",
       "  </button>\n",
       "\n",
       "<style>\n",
       "  .colab-df-quickchart {\n",
       "      --bg-color: #E8F0FE;\n",
       "      --fill-color: #1967D2;\n",
       "      --hover-bg-color: #E2EBFA;\n",
       "      --hover-fill-color: #174EA6;\n",
       "      --disabled-fill-color: #AAA;\n",
       "      --disabled-bg-color: #DDD;\n",
       "  }\n",
       "\n",
       "  [theme=dark] .colab-df-quickchart {\n",
       "      --bg-color: #3B4455;\n",
       "      --fill-color: #D2E3FC;\n",
       "      --hover-bg-color: #434B5C;\n",
       "      --hover-fill-color: #FFFFFF;\n",
       "      --disabled-bg-color: #3B4455;\n",
       "      --disabled-fill-color: #666;\n",
       "  }\n",
       "\n",
       "  .colab-df-quickchart {\n",
       "    background-color: var(--bg-color);\n",
       "    border: none;\n",
       "    border-radius: 50%;\n",
       "    cursor: pointer;\n",
       "    display: none;\n",
       "    fill: var(--fill-color);\n",
       "    height: 32px;\n",
       "    padding: 0;\n",
       "    width: 32px;\n",
       "  }\n",
       "\n",
       "  .colab-df-quickchart:hover {\n",
       "    background-color: var(--hover-bg-color);\n",
       "    box-shadow: 0 1px 2px rgba(60, 64, 67, 0.3), 0 1px 3px 1px rgba(60, 64, 67, 0.15);\n",
       "    fill: var(--button-hover-fill-color);\n",
       "  }\n",
       "\n",
       "  .colab-df-quickchart-complete:disabled,\n",
       "  .colab-df-quickchart-complete:disabled:hover {\n",
       "    background-color: var(--disabled-bg-color);\n",
       "    fill: var(--disabled-fill-color);\n",
       "    box-shadow: none;\n",
       "  }\n",
       "\n",
       "  .colab-df-spinner {\n",
       "    border: 2px solid var(--fill-color);\n",
       "    border-color: transparent;\n",
       "    border-bottom-color: var(--fill-color);\n",
       "    animation:\n",
       "      spin 1s steps(1) infinite;\n",
       "  }\n",
       "\n",
       "  @keyframes spin {\n",
       "    0% {\n",
       "      border-color: transparent;\n",
       "      border-bottom-color: var(--fill-color);\n",
       "      border-left-color: var(--fill-color);\n",
       "    }\n",
       "    20% {\n",
       "      border-color: transparent;\n",
       "      border-left-color: var(--fill-color);\n",
       "      border-top-color: var(--fill-color);\n",
       "    }\n",
       "    30% {\n",
       "      border-color: transparent;\n",
       "      border-left-color: var(--fill-color);\n",
       "      border-top-color: var(--fill-color);\n",
       "      border-right-color: var(--fill-color);\n",
       "    }\n",
       "    40% {\n",
       "      border-color: transparent;\n",
       "      border-right-color: var(--fill-color);\n",
       "      border-top-color: var(--fill-color);\n",
       "    }\n",
       "    60% {\n",
       "      border-color: transparent;\n",
       "      border-right-color: var(--fill-color);\n",
       "    }\n",
       "    80% {\n",
       "      border-color: transparent;\n",
       "      border-right-color: var(--fill-color);\n",
       "      border-bottom-color: var(--fill-color);\n",
       "    }\n",
       "    90% {\n",
       "      border-color: transparent;\n",
       "      border-bottom-color: var(--fill-color);\n",
       "    }\n",
       "  }\n",
       "</style>\n",
       "\n",
       "  <script>\n",
       "    async function quickchart(key) {\n",
       "      const quickchartButtonEl =\n",
       "        document.querySelector('#' + key + ' button');\n",
       "      quickchartButtonEl.disabled = true;  // To prevent multiple clicks.\n",
       "      quickchartButtonEl.classList.add('colab-df-spinner');\n",
       "      try {\n",
       "        const charts = await google.colab.kernel.invokeFunction(\n",
       "            'suggestCharts', [key], {});\n",
       "      } catch (error) {\n",
       "        console.error('Error during call to suggestCharts:', error);\n",
       "      }\n",
       "      quickchartButtonEl.classList.remove('colab-df-spinner');\n",
       "      quickchartButtonEl.classList.add('colab-df-quickchart-complete');\n",
       "    }\n",
       "    (() => {\n",
       "      let quickchartButtonEl =\n",
       "        document.querySelector('#df-9ab7578e-67d5-49f3-bd18-da8c94488712 button');\n",
       "      quickchartButtonEl.style.display =\n",
       "        google.colab.kernel.accessAllowed ? 'block' : 'none';\n",
       "    })();\n",
       "  </script>\n",
       "</div>\n",
       "\n",
       "    </div>\n",
       "  </div>\n"
      ],
      "text/plain": [
       "                                         file_name  label\n",
       "0  train_data/a6dcb93f596a43249135678dfcfc17ea.jpg      1\n",
       "1  train_data/041be3153810433ab146bc97d5af505c.jpg      0\n",
       "2  train_data/615df26ce9494e5db2f70e57ce7a3a4f.jpg      1\n",
       "3  train_data/8542fe161d9147be8e835e50c0de39cd.jpg      0\n",
       "4  train_data/5d81fa12bc3b4cea8c94a6700a477cf2.jpg      1"
      ]
     },
     "execution_count": 6,
     "metadata": {},
     "output_type": "execute_result"
    }
   ],
   "source": [
    "data.head()"
   ]
  },
  {
   "cell_type": "code",
   "execution_count": 7,
   "metadata": {
    "executionInfo": {
     "elapsed": 8,
     "status": "ok",
     "timestamp": 1741763558395,
     "user": {
      "displayName": "Pablo Esteban",
      "userId": "08586416401412054693"
     },
     "user_tz": -60
    },
    "id": "VYsMcGRIap-2"
   },
   "outputs": [],
   "source": [
    "def show_image(img_path):\n",
    "    img = cv2.imread(img_path)\n",
    "    img = cv2.cvtColor(img, cv2.COLOR_BGR2RGB)\n",
    "    plt.imshow(img)\n",
    "    plt.axis(\"off\")\n",
    "    plt.show()"
   ]
  },
  {
   "cell_type": "code",
   "execution_count": 8,
   "metadata": {
    "colab": {
     "base_uri": "https://localhost:8080/",
     "height": 406
    },
    "executionInfo": {
     "elapsed": 887,
     "status": "ok",
     "timestamp": 1741763559277,
     "user": {
      "displayName": "Pablo Esteban",
      "userId": "08586416401412054693"
     },
     "user_tz": -60
    },
    "id": "624OPKRzap-2",
    "outputId": "69d42a63-0d0c-4cf9-999f-636d850d13d9"
   },
   "outputs": [
    {
     "data": {
      "image/png": "[encoded data removed]",
      "text/plain": [
       "<Figure size 640x480 with 1 Axes>"
      ]
     },
     "metadata": {},
     "output_type": "display_data"
    }
   ],
   "source": [
    "show_image(os.path.join(path, data.iloc[0][\"file_name\"]))"
   ]
  },
  {
   "cell_type": "markdown",
   "metadata": {
    "id": "6x3IMWCUap-2"
   },
   "source": [
    "# 2. Modeling"
   ]
  },
  {
   "cell_type": "markdown",
   "metadata": {
    "id": "dSC56OeXap-3"
   },
   "source": [
    "## 1. Preparación de Datos y Transformaciones\n"
   ]
  },
  {
   "cell_type": "code",
   "execution_count": 9,
   "metadata": {
    "executionInfo": {
     "elapsed": 2,
     "status": "ok",
     "timestamp": 1741763559280,
     "user": {
      "displayName": "Pablo Esteban",
      "userId": "08586416401412054693"
     },
     "user_tz": -60
    },
    "id": "r8kPoAT-ap-3"
   },
   "outputs": [],
   "source": [
    "# Creamos el dataset\n",
    "class AIvsHumanDataset(Dataset):\n",
    "    def __init__(self, images_dir, labels_file, transform=None):\n",
    "        \"\"\"\n",
    "        images_dir  : carpeta que contiene las imágenes\n",
    "        labels_file : ruta a un archivo que asocia cada imagen con su etiqueta\n",
    "        transform   : transformaciones opcionales (transform.Compose) a aplicar\n",
    "        \"\"\"\n",
    "        self.images_dir = images_dir\n",
    "        self.transform = transform\n",
    "\n",
    "        # Cargar nombres de archivo e etiquetas desde el archivo labels_file\n",
    "        # labels_file puede ser un CSV, JSON, o texto plano\n",
    "        # Supongamos un CSV con columnas: [filename, label]\n",
    "        self.img_labels = []\n",
    "        with open(labels_file, \"r\") as f:\n",
    "            next(f)  # saltar la primera fila si es un CSV con encabezados\n",
    "            for line in f:\n",
    "                _, filename, label = line.strip().split(\",\")\n",
    "                self.img_labels.append((filename, int(label)))  # convertir label a entero si es clasificación numérica\n",
    "\n",
    "    def __len__(self):\n",
    "        return len(self.img_labels)\n",
    "\n",
    "    def __getitem__(self, idx):\n",
    "        # 1. Obtener ruta de la imagen y etiqueta\n",
    "        img_name, label = self.img_labels[idx]\n",
    "        img_path = os.path.join(self.images_dir, img_name)\n",
    "\n",
    "        # 2. Cargar imagen usando Pillow (PIL)\n",
    "        image = Image.open(img_path).convert(\"RGB\")\n",
    "\n",
    "        # 3. Aplicar transformaciones (si existen)\n",
    "        if self.transform:\n",
    "            image = self.transform(image)\n",
    "\n",
    "        # 4. Retornar los datos\n",
    "        return image, label\n"
   ]
  },
  {
   "cell_type": "code",
   "execution_count": 10,
   "metadata": {
    "executionInfo": {
     "elapsed": 11,
     "status": "ok",
     "timestamp": 1741763559295,
     "user": {
      "displayName": "Pablo Esteban",
      "userId": "08586416401412054693"
     },
     "user_tz": -60
    },
    "id": "bmw2wTNHap-3"
   },
   "outputs": [],
   "source": [
    "# Definir transformaciones para los datos (ejemplo para imágenes en escala de grises)\n",
    "transform = transforms.Compose([\n",
    "    transforms.Resize((512, 768)),\n",
    "    transforms.ToTensor(), # Convertir imagen a torch.Tensor\n",
    "    transforms.Normalize((0.5,), (0.5,))  # Normalización con media=0.5 y std=0.5\n",
    "])"
   ]
  },
  {
   "cell_type": "code",
   "execution_count": 11,
   "metadata": {
    "executionInfo": {
     "elapsed": 3,
     "status": "ok",
     "timestamp": 1741763559300,
     "user": {
      "displayName": "Pablo Esteban",
      "userId": "08586416401412054693"
     },
     "user_tz": -60
    },
    "id": "zRBAmFZoap-3"
   },
   "outputs": [],
   "source": [
    "# Creamos split de entrenamiento y validación\n",
    "\n",
    "# 1. Instancia del dataset con todas las muestras\n",
    "full_dataset = AIvsHumanDataset(\n",
    "    images_dir=path,\n",
    "    labels_file=os.path.join(path, \"train.csv\"),\n",
    "    transform=transform\n",
    ")\n",
    "\n",
    "# 2. Definir tamaños de split\n",
    "dataset_size = len(full_dataset)\n",
    "train_size = int(0.8 * dataset_size)   # 80% para train\n",
    "val_size = int(0.2 * dataset_size)     # 20% para validación\n",
    "\n",
    "# 3. Partición aleatoria\n",
    "train_dataset, val_dataset = random_split(\n",
    "    full_dataset, [train_size, val_size],\n",
    "    generator=torch.Generator().manual_seed(42)\n",
    ")"
   ]
  },
  {
   "cell_type": "code",
   "execution_count": 12,
   "metadata": {
    "executionInfo": {
     "elapsed": 10,
     "status": "ok",
     "timestamp": 1741763559313,
     "user": {
      "displayName": "Pablo Esteban",
      "userId": "08586416401412054693"
     },
     "user_tz": -60
    },
    "id": "cLHytX8tap-3"
   },
   "outputs": [],
   "source": [
    "# Definir DataLoaders para manejar lotes (batches)\n",
    "train_loader = torch.utils.data.DataLoader(train_dataset, batch_size=24, shuffle=True)\n",
    "test_loader = torch.utils.data.DataLoader(val_dataset, batch_size=24, shuffle=False)"
   ]
  },
  {
   "cell_type": "markdown",
   "metadata": {
    "id": "HMAnQF0uap-3"
   },
   "source": [
    "## 2. Definición del Modelo"
   ]
  },
  {
   "cell_type": "code",
   "execution_count": 13,
   "metadata": {
    "colab": {
     "base_uri": "https://localhost:8080/"
    },
    "executionInfo": {
     "elapsed": 7,
     "status": "ok",
     "timestamp": 1741763559321,
     "user": {
      "displayName": "Pablo Esteban",
      "userId": "08586416401412054693"
     },
     "user_tz": -60
    },
    "id": "3sjYjHcpap-3",
    "outputId": "b433ff2b-5481-48de-d497-1a8c0f76e511"
   },
   "outputs": [
    {
     "data": {
      "text/plain": [
       "torch.Size([3, 512, 768])"
      ]
     },
     "execution_count": 13,
     "metadata": {},
     "output_type": "execute_result"
    }
   ],
   "source": [
    "train_dataset[0][0].shape"
   ]
  },
  {
   "cell_type": "code",
   "execution_count": 14,
   "metadata": {
    "colab": {
     "base_uri": "https://localhost:8080/"
    },
    "executionInfo": {
     "elapsed": 2873,
     "status": "ok",
     "timestamp": 1741763562195,
     "user": {
      "displayName": "Pablo Esteban",
      "userId": "08586416401412054693"
     },
     "user_tz": -60
    },
    "id": "ekJ4ITaSap-3",
    "outputId": "33f2c49d-a848-40ca-c730-14dff97a792a"
   },
   "outputs": [
    {
     "data": {
      "text/plain": [
       "MiModelo(\n",
       "  (conv1): Conv2d(3, 32, kernel_size=(3, 3), stride=(1, 1), padding=(1, 1))\n",
       "  (conv2): Conv2d(32, 64, kernel_size=(3, 3), stride=(1, 1), padding=(1, 1))\n",
       "  (conv3): Conv2d(64, 128, kernel_size=(3, 3), stride=(1, 1), padding=(1, 1))\n",
       "  (batchnorm1): BatchNorm2d(32, eps=1e-05, momentum=0.1, affine=True, track_running_stats=True)\n",
       "  (batchnorm2): BatchNorm2d(64, eps=1e-05, momentum=0.1, affine=True, track_running_stats=True)\n",
       "  (batchnorm3): BatchNorm2d(128, eps=1e-05, momentum=0.1, affine=True, track_running_stats=True)\n",
       "  (dropout): Dropout(p=0.5, inplace=False)\n",
       "  (pool): MaxPool2d(kernel_size=2, stride=2, padding=0, dilation=1, ceil_mode=False)\n",
       "  (fc1): Linear(in_features=786432, out_features=256, bias=True)\n",
       "  (fc2): Linear(in_features=256, out_features=2, bias=True)\n",
       ")"
      ]
     },
     "execution_count": 14,
     "metadata": {},
     "output_type": "execute_result"
    }
   ],
   "source": [
    "class MiModelo(nn.Module):\n",
    "    def __init__(self):\n",
    "        super(MiModelo, self).__init__()\n",
    "\n",
    "        # Primera capa convolucional: 3 canales (RGB) -> 32 filtros, kernel 3x3\n",
    "        self.conv1 = nn.Conv2d(in_channels=3, out_channels=32, kernel_size=3, stride=1, padding=1)\n",
    "        self.conv2 = nn.Conv2d(in_channels=32, out_channels=64, kernel_size=3, stride=1, padding=1)\n",
    "        self.conv3 = nn.Conv2d(in_channels=64, out_channels=128, kernel_size=3, stride=1, padding=1)\n",
    "\n",
    "        # Normalización y dropout para evitar sobreajuste\n",
    "        self.batchnorm1 = nn.BatchNorm2d(32)\n",
    "        self.batchnorm2 = nn.BatchNorm2d(64)\n",
    "        self.batchnorm3 = nn.BatchNorm2d(128)\n",
    "        self.dropout = nn.Dropout(0.5)\n",
    "\n",
    "        # Capa de pooling para reducir tamaño\n",
    "        self.pool = nn.MaxPool2d(kernel_size=2, stride=2)\n",
    "\n",
    "        # Cálculo automático del tamaño final para `fc1`\n",
    "        self.flatten_size = self._get_flatten_size()\n",
    "\n",
    "        # Capa totalmente conectada\n",
    "        self.fc1 = nn.Linear(self.flatten_size, 256)\n",
    "        self.fc2 = nn.Linear(256, 2)  # Salida binaria\n",
    "\n",
    "    def _get_flatten_size(self):\n",
    "        \"\"\"Función auxiliar para calcular el tamaño de entrada de `fc1`.\"\"\"\n",
    "        dummy_input = torch.randn(1, 3, 512, 768)  # Imagen de prueba con tamaño original\n",
    "        x = self.pool(F.relu(self.batchnorm1(self.conv1(dummy_input))))\n",
    "        x = self.pool(F.relu(self.batchnorm2(self.conv2(x))))\n",
    "        x = self.pool(F.relu(self.batchnorm3(self.conv3(x))))\n",
    "        return x.numel()  # Devuelve el número total de elementos después del flatten\n",
    "\n",
    "    def forward(self, x):\n",
    "        x = self.pool(F.relu(self.batchnorm1(self.conv1(x))))\n",
    "        x = self.pool(F.relu(self.batchnorm2(self.conv2(x))))\n",
    "        x = self.pool(F.relu(self.batchnorm3(self.conv3(x))))\n",
    "\n",
    "        # Aplanamos la salida de la convolución\n",
    "        x = torch.flatten(x, start_dim=1)\n",
    "\n",
    "        # Capa totalmente conectada + ReLU + Dropout\n",
    "        x = F.relu(self.fc1(x))\n",
    "        x = self.dropout(x)\n",
    "\n",
    "        # Capa de salida con activación Sigmoid\n",
    "        x = torch.sigmoid(self.fc2(x))\n",
    "\n",
    "        return x\n",
    "\n",
    "model = MiModelo()\n",
    "\n",
    "device = torch.device(\"cuda\" if torch.cuda.is_available() else \"cpu\")\n",
    "model.to(device)"
   ]
  },
  {
   "cell_type": "code",
   "execution_count": 15,
   "metadata": {
    "executionInfo": {
     "elapsed": 12,
     "status": "ok",
     "timestamp": 1741763562209,
     "user": {
      "displayName": "Pablo Esteban",
      "userId": "08586416401412054693"
     },
     "user_tz": -60
    },
    "id": "ztImOciOap-4"
   },
   "outputs": [],
   "source": [
    "# torch.cuda.empty_cache()"
   ]
  },
  {
   "cell_type": "code",
   "execution_count": 16,
   "metadata": {
    "colab": {
     "base_uri": "https://localhost:8080/"
    },
    "executionInfo": {
     "elapsed": 8,
     "status": "ok",
     "timestamp": 1741763562220,
     "user": {
      "displayName": "Pablo Esteban",
      "userId": "08586416401412054693"
     },
     "user_tz": -60
    },
    "id": "LxjLHaSbap-4",
    "outputId": "7f2a2f1d-3b26-408e-d1ca-d9fdf9e61cce"
   },
   "outputs": [
    {
     "data": {
      "text/plain": [
       "True"
      ]
     },
     "execution_count": 16,
     "metadata": {},
     "output_type": "execute_result"
    }
   ],
   "source": [
    "# %pip install torch torchvision torchaudio --index-url https://download.pytorch.org/whl/cu126\n",
    "torch.cuda.is_available()"
   ]
  },
  {
   "cell_type": "markdown",
   "metadata": {
    "id": "FAtB8KMCap-4"
   },
   "source": [
    "## 3. Definir la Función de Pérdida y el Optimizador"
   ]
  },
  {
   "cell_type": "code",
   "execution_count": 18,
   "metadata": {
    "executionInfo": {
     "elapsed": 9,
     "status": "ok",
     "timestamp": 1741763610514,
     "user": {
      "displayName": "Pablo Esteban",
      "userId": "08586416401412054693"
     },
     "user_tz": -60
    },
    "id": "KudEokX8ap-4"
   },
   "outputs": [],
   "source": [
    "criterion = nn.CrossEntropyLoss()\n",
    "optimizer = optim.Adam(model.parameters(), lr=0.001)"
   ]
  },
  {
   "cell_type": "markdown",
   "metadata": {
    "id": "bEsxGZr_ap-4"
   },
   "source": [
    "## 4. Ciclo de Entrenamiento (Training Loop)\n"
   ]
  },
  {
   "cell_type": "code",
   "execution_count": 19,
   "metadata": {
    "colab": {
     "base_uri": "https://localhost:8080/"
    },
    "executionInfo": {
     "elapsed": 20388,
     "status": "ok",
     "timestamp": 1741763641340,
     "user": {
      "displayName": "Pablo Esteban",
      "userId": "08586416401412054693"
     },
     "user_tz": -60
    },
    "id": "4yfHMSn52Owp",
    "outputId": "490e4210-1172-444b-b249-2c998ce4e793"
   },
   "outputs": [
    {
     "name": "stdout",
     "output_type": "stream",
     "text": [
      "Mounted at /content/drive\n"
     ]
    }
   ],
   "source": [
    "from google.colab import drive\n",
    "\n",
    "# Montar Google Drive\n",
    "drive.mount('/content/drive')\n",
    "\n",
    "num_epochs = 5  # definir cuántas épocas se quieren entrenar\n",
    "checkpoint_dir = '/content/drive/MyDrive/checkpoints'  # Ruta en Drive\n",
    "os.makedirs(checkpoint_dir, exist_ok=True)  # Crear el directorio si no existe\n"
   ]
  },
  {
   "cell_type": "code",
   "execution_count": 21,
   "metadata": {
    "colab": {
     "base_uri": "https://localhost:8080/"
    },
    "executionInfo": {
     "elapsed": 27218,
     "status": "ok",
     "timestamp": 1741763684582,
     "user": {
      "displayName": "Pablo Esteban",
      "userId": "08586416401412054693"
     },
     "user_tz": -60
    },
    "id": "rgR9DFRM8OzI",
    "outputId": "c0b416f6-4c12-466f-bb5e-1ceb8f8a5a1b"
   },
   "outputs": [
    {
     "name": "stderr",
     "output_type": "stream",
     "text": [
      "<ipython-input-21-349e11289382>:5: FutureWarning: You are using `torch.load` with `weights_only=False` (the current default value), which uses the default pickle module implicitly. It is possible to construct malicious pickle data which will execute arbitrary code during unpickling (See https://github.com/pytorch/pytorch/blob/main/SECURITY.md#untrusted-models for more details). In a future release, the default value for `weights_only` will be flipped to `True`. This limits the functions that could be executed during unpickling. Arbitrary objects will no longer be allowed to be loaded via this mode unless they are explicitly allowlisted by the user via `torch.serialization.add_safe_globals`. We recommend you start setting `weights_only=True` for any use case where you don't have full control of the loaded file. Please open an issue on GitHub for any issues related to this experimental feature.\n",
      "  checkpoint = torch.load(checkpoint_path)\n"
     ]
    },
    {
     "name": "stdout",
     "output_type": "stream",
     "text": [
      "Checkpoint cargado desde: /content/drive/MyDrive/checkpoints/checkpoint_epoch_1.pth, Época: 1, Pérdida: 0.6932703586501431\n"
     ]
    }
   ],
   "source": [
    "# Ruta al checkpoint que deseas cargar\n",
    "checkpoint_path = '/content/drive/MyDrive/checkpoints/checkpoint_epoch_1.pth'  # Ajusta la ruta y el nombre del archivo\n",
    "\n",
    "# Cargar el checkpoint\n",
    "checkpoint = torch.load(checkpoint_path)\n",
    "\n",
    "# Restaurar el estado del modelo\n",
    "model.load_state_dict(checkpoint['model_state_dict'])\n",
    "\n",
    "# Restaurar el estado del optimizador\n",
    "optimizer.load_state_dict(checkpoint['optimizer_state_dict'])\n",
    "\n",
    "# Restaurar la época actual\n",
    "start_epoch = checkpoint['epoch']\n",
    "\n",
    "# Restaurar la pérdida (opcional)\n",
    "loss = checkpoint['loss']\n",
    "\n",
    "print(f'Checkpoint cargado desde: {checkpoint_path}, Época: {start_epoch}, Pérdida: {loss}')\n"
   ]
  },
  {
   "cell_type": "code",
   "execution_count": 22,
   "metadata": {
    "colab": {
     "base_uri": "https://localhost:8080/"
    },
    "executionInfo": {
     "elapsed": 9069904,
     "status": "ok",
     "timestamp": 1741772754497,
     "user": {
      "displayName": "Pablo Esteban",
      "userId": "08586416401412054693"
     },
     "user_tz": -60
    },
    "id": "FfHPokNv19C-",
    "outputId": "8f636f77-7022-4625-dfae-8b4f73ed1bbd"
   },
   "outputs": [
    {
     "name": "stderr",
     "output_type": "stream",
     "text": []
    },
    {
     "name": "stdout",
     "output_type": "stream",
     "text": [
      "Epoca [2/5], Perdida (loss): 0.6932\n",
      "Checkpoint guardado en: /content/drive/MyDrive/checkpoints/checkpoint_epoch_2.pth\n"
     ]
    },
    {
     "name": "stderr",
     "output_type": "stream",
     "text": []
    },
    {
     "name": "stdout",
     "output_type": "stream",
     "text": [
      "Epoca [3/5], Perdida (loss): 0.6931\n",
      "Checkpoint guardado en: /content/drive/MyDrive/checkpoints/checkpoint_epoch_3.pth\n"
     ]
    },
    {
     "name": "stderr",
     "output_type": "stream",
     "text": []
    },
    {
     "name": "stdout",
     "output_type": "stream",
     "text": [
      "Epoca [4/5], Perdida (loss): 0.6931\n",
      "Checkpoint guardado en: /content/drive/MyDrive/checkpoints/checkpoint_epoch_4.pth\n"
     ]
    },
    {
     "name": "stderr",
     "output_type": "stream",
     "text": []
    },
    {
     "name": "stdout",
     "output_type": "stream",
     "text": [
      "Epoca [5/5], Perdida (loss): 0.6931\n",
      "Checkpoint guardado en: /content/drive/MyDrive/checkpoints/checkpoint_epoch_5.pth\n"
     ]
    }
   ],
   "source": [
    "\n",
    "num_epochs = 5  # definir cuántas épocas se quieren entrenar\n",
    "\n",
    "for epoch in range(start_epoch, num_epochs):\n",
    "    model.train()  # modo entrenamiento\n",
    "    running_loss = 0.0\n",
    "\n",
    "    # Añadir tqdm para la barra de progreso\n",
    "    progress_bar = tqdm(train_loader, desc=f\"Epoca {epoch+1}/{num_epochs}\", leave=False)\n",
    "\n",
    "    for images, labels in progress_bar:\n",
    "        # Move images and labels to the same device as the model\n",
    "        images, labels = images.to(device), labels.to(device)  # Mover a GPU si está disponible\n",
    "\n",
    "        # 1. Forward pass\n",
    "        outputs = model(images)\n",
    "        loss = criterion(outputs, labels)\n",
    "\n",
    "        # 2. Backward pass y optimización\n",
    "        optimizer.zero_grad()\n",
    "        loss.backward()\n",
    "        optimizer.step()\n",
    "\n",
    "        running_loss += loss.item()\n",
    "\n",
    "        # Mostrar la pérdida actual en la barra de progreso\n",
    "        progress_bar.set_postfix(loss=f\"{loss.item():.4f}\")\n",
    "\n",
    "    # Calcular la pérdida promedio por época\n",
    "    epoch_loss = running_loss / len(train_loader)\n",
    "\n",
    "    print(f\"Epoca [{epoch+1}/{num_epochs}], Perdida (loss): {epoch_loss:.4f}\")\n",
    "\n",
    "    # Guardar checkpoint al final de cada época\n",
    "    checkpoint_path = os.path.join(checkpoint_dir, f'checkpoint_epoch_{epoch + 1}.pth')\n",
    "    torch.save({\n",
    "        'epoch': epoch + 1,\n",
    "        'model_state_dict': model.state_dict(),\n",
    "        'optimizer_state_dict': optimizer.state_dict(),\n",
    "        'loss': epoch_loss,\n",
    "    }, checkpoint_path)\n",
    "    print(f'Checkpoint guardado en: {checkpoint_path}')"
   ]
  },
  {
   "cell_type": "code",
   "execution_count": null,
   "metadata": {
    "executionInfo": {
     "elapsed": 14528,
     "status": "aborted",
     "timestamp": 1741723364154,
     "user": {
      "displayName": "Pablo Esteban",
      "userId": "08586416401412054693"
     },
     "user_tz": -60
    },
    "id": "HsljFel7ap-4"
   },
   "outputs": [],
   "source": [
    "# num_epochs = 5  # definir cuántas épocas se quieren entrenar\n",
    "\n",
    "# for epoch in range(num_epochs):\n",
    "#     model.train()  # modo entrenamiento\n",
    "#     running_loss = 0.0\n",
    "\n",
    "#     for images, labels in train_loader:\n",
    "#         # 1. Forward pass\n",
    "#         outputs = model(images)\n",
    "#         loss = criterion(outputs, labels)\n",
    "\n",
    "#         # 2. Backward pass y optimización\n",
    "#         optimizer.zero_grad()\n",
    "#         loss.backward()\n",
    "#         optimizer.step()\n",
    "\n",
    "#         running_loss += loss.item()\n",
    "\n",
    "#     # Calcular la pérdida promedio por época\n",
    "#     epoch_loss = running_loss / len(train_loader)\n",
    "\n",
    "#     print(f\"Época [{epoch+1}/{num_epochs}], Pérdida (loss): {epoch_loss:.4f}\")\n"
   ]
  },
  {
   "cell_type": "markdown",
   "metadata": {
    "id": "TYj3TOIiap-4"
   },
   "source": [
    "## 5. Evaluación del Modelo\n"
   ]
  },
  {
   "cell_type": "code",
   "execution_count": 24,
   "metadata": {
    "colab": {
     "base_uri": "https://localhost:8080/"
    },
    "executionInfo": {
     "elapsed": 366786,
     "status": "ok",
     "timestamp": 1741774462643,
     "user": {
      "displayName": "Pablo Esteban",
      "userId": "08586416401412054693"
     },
     "user_tz": -60
    },
    "id": "NLz2wIpLap-4",
    "outputId": "689677da-626b-4efb-f39d-012d1c55498b"
   },
   "outputs": [
    {
     "name": "stdout",
     "output_type": "stream",
     "text": [
      "Exactitud (accuracy) en el conjunto de test: 49.94%\n"
     ]
    }
   ],
   "source": [
    "model.eval()\n",
    "correct = 0\n",
    "total = 0\n",
    "\n",
    "with torch.no_grad():\n",
    "    for images, labels in test_loader:\n",
    "        images, labels = images.to(device), labels.to(device)  # Mover a GPU si está disponible\n",
    "        outputs = model(images)\n",
    "        # outputs tiene forma [batch_size, num_clases], se elige la clase con mayor probabilidad\n",
    "        _, predicted = torch.max(outputs.data, 1)\n",
    "\n",
    "        total += labels.size(0)\n",
    "        correct += (predicted == labels).sum().item()\n",
    "\n",
    "accuracy = 100 * correct / total\n",
    "print(f\"Exactitud (accuracy) en el conjunto de test: {accuracy:.2f}%\")\n"
   ]
  },
  {
   "cell_type": "markdown",
   "metadata": {},
   "source": [
    "# Conclusiones"
   ]
  },
  {
   "cell_type": "markdown",
   "metadata": {},
   "source": [
    "El modelo que se ha entrenado ha obtenido una accuracy de un 50% sobre un problema de clasificación binario. Esto quiere decir que está realizando una predicción casi pseudoaleatoria. El entrenamiento del modelo ha llevado 6h y pare ello se han empleado máquinas premium del colab. Por esta misma razón no valoro un segundo reentrenamiento."
   ]
  }
 ],
 "metadata": {
  "accelerator": "GPU",
  "colab": {
   "gpuType": "T4",
   "provenance": []
  },
  "kernelspec": {
   "display_name": "pythorch",
   "language": "python",
   "name": "python3"
  },
  "language_info": {
   "codemirror_mode": {
    "name": "ipython",
    "version": 3
   },
   "file_extension": ".py",
   "mimetype": "text/x-python",
   "name": "python",
   "nbconvert_exporter": "python",
   "pygments_lexer": "ipython3",
   "version": "3.12.8"
  }
 },
 "nbformat": 4,
 "nbformat_minor": 0
}
