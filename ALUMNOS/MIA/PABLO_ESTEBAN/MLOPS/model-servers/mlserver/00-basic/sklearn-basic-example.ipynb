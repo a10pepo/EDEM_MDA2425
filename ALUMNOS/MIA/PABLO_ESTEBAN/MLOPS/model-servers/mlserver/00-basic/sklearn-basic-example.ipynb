{
  "cells": [
    {
      "attachments": {},
      "cell_type": "markdown",
      "metadata": {
        "id": "b2tH9iXfzljb"
      },
      "source": [
        "# Model Servers: MLServer - scikit learn deployment\n"
      ]
    },
    {
      "attachments": {},
      "cell_type": "markdown",
      "metadata": {},
      "source": [
        "## 1. Write the settings file\n",
        "\n",
        "More info: https://mlserver.readthedocs.io/en/stable/reference/settings.html"
      ]
    },
    {
      "cell_type": "code",
      "execution_count": null,
      "metadata": {
        "colab": {
          "base_uri": "https://localhost:8080/"
        },
        "id": "2q6TUf4Jzljc",
        "outputId": "8d300122-52ae-47ed-d33e-cb6d2a1b6513"
      },
      "outputs": [],
      "source": [
        "%%writefile settings.json\n",
        "{\n",
        "    \"debug\": \"true\",\n",
        "    \"http_port\": 8000\n",
        "}"
      ]
    },
    {
      "attachments": {},
      "cell_type": "markdown",
      "metadata": {},
      "source": [
        "## 2. Write the model settings file\n",
        "\n",
        "More info: https://mlserver.readthedocs.io/en/stable/reference/model-settings.html"
      ]
    },
    {
      "cell_type": "code",
      "execution_count": null,
      "metadata": {
        "colab": {
          "base_uri": "https://localhost:8080/"
        },
        "id": "hYjbOTa8zlje",
        "outputId": "27597af5-30f2-4953-a4c3-dc6a6132273a"
      },
      "outputs": [],
      "source": [
        "%%writefile model-settings.json\n",
        "{\n",
        "    \"name\": \"iris-rf\",\n",
        "    \"implementation\": \"mlserver_sklearn.SKLearnModel\",\n",
        "    \"parameters\": {\n",
        "        \"uri\": \"model.pkl\",\n",
        "        \"version\": \"v0.1.0\"\n",
        "    }\n",
        "}"
      ]
    },
    {
      "attachments": {},
      "cell_type": "markdown",
      "metadata": {},
      "source": [
        "## 3. Start the model server\n",
        "\n",
        "If running in colab:\n",
        "    \n",
        "    ```bash\n",
        "    ! nohup mlserver start . &\n",
        "    ```\n",
        "\n",
        "If running locally:\n",
        "\n",
        "    ```bash\n",
        "    mlserver start .\n",
        "    ```\n"
      ]
    },
    {
      "cell_type": "code",
      "execution_count": null,
      "metadata": {
        "colab": {
          "base_uri": "https://localhost:8080/"
        },
        "id": "Z5iGg2aS1QEg",
        "outputId": "59a2ff69-584c-49da-a1f7-9eaaf417d46e"
      },
      "outputs": [],
      "source": [
        "# Check if the process is running\n",
        "! ps | grep mlserver"
      ]
    },
    {
      "attachments": {},
      "cell_type": "markdown",
      "metadata": {},
      "source": [
        "# 4. Send requests to the model server"
      ]
    },
    {
      "cell_type": "code",
      "execution_count": null,
      "metadata": {
        "colab": {
          "base_uri": "https://localhost:8080/"
        },
        "id": "yvEQ-vDEzlje",
        "outputId": "3bb09cf7-98db-4fca-ef75-eda493657065"
      },
      "outputs": [],
      "source": [
        "from sklearn.datasets import load_iris\n",
        "iris = load_iris()\n",
        "X = iris.data\n",
        "X[:5]"
      ]
    },
    {
      "cell_type": "code",
      "execution_count": null,
      "metadata": {
        "colab": {
          "base_uri": "https://localhost:8080/"
        },
        "id": "qdCDEYPizlje",
        "outputId": "597b66db-bdef-44e8-a3cf-770d839ed389"
      },
      "outputs": [],
      "source": [
        "import requests\n",
        "import numpy as np\n",
        "\n",
        "x_0 = np.asarray([[5.9, 3. , 5.1, 1.8]])\n",
        "inference_request = {\n",
        "    \"inputs\": [\n",
        "        {\n",
        "          \"name\": \"predict\",\n",
        "          \"shape\": x_0.shape,\n",
        "          \"datatype\": \"FP32\",\n",
        "          \"data\": x_0.tolist()\n",
        "        }\n",
        "    ]\n",
        "}\n",
        "\n",
        "endpoint = \"http://localhost:8000/v2/models/iris-rf/versions/v0.1.0/infer\"\n",
        "response = requests.post(endpoint, json=inference_request)\n",
        "\n",
        "response.json()"
      ]
    }
  ],
  "metadata": {
    "colab": {
      "provenance": []
    },
    "kernelspec": {
      "display_name": "model-servers",
      "language": "python",
      "name": "python3"
    },
    "language_info": {
      "codemirror_mode": {
        "name": "ipython",
        "version": 3
      },
      "file_extension": ".py",
      "mimetype": "text/x-python",
      "name": "python",
      "nbconvert_exporter": "python",
      "pygments_lexer": "ipython3",
      "version": "3.12.8"
    },
    "orig_nbformat": 4
  },
  "nbformat": 4,
  "nbformat_minor": 0
}
