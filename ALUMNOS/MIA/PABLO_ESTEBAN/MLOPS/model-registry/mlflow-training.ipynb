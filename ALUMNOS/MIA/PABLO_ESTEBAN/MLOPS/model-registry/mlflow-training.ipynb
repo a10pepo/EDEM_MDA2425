{
 "cells": [
  {
   "attachments": {},
   "cell_type": "markdown",
   "metadata": {},
   "source": [
    "# Model registry: MLFlow\n",
    "\n",
    "Example on how to use the MLFlow model during the training of a model"
   ]
  },
  {
   "attachments": {},
   "cell_type": "markdown",
   "metadata": {},
   "source": [
    "## 1. Install MLFlow"
   ]
  },
  {
   "cell_type": "code",
   "execution_count": 12,
   "metadata": {},
   "outputs": [],
   "source": [
    "# !pip install -r requirements.txt\n",
    "# !pip freeze | grep mlflow"
   ]
  },
  {
   "attachments": {},
   "cell_type": "markdown",
   "metadata": {},
   "source": [
    "\n",
    "## 2. Start the MLFlow server.\n",
    "\n",
    "To do this, run the following command in a terminal:\n",
    "\n",
    "mlflow ui --host 0.0.0.0 --port 5001"
   ]
  },
  {
   "attachments": {},
   "cell_type": "markdown",
   "metadata": {},
   "source": [
    "## 3. Create a new experiment"
   ]
  },
  {
   "cell_type": "code",
   "execution_count": 1,
   "metadata": {},
   "outputs": [
    {
     "name": "stderr",
     "output_type": "stream",
     "text": [
      "2025/03/05 17:59:05 INFO mlflow.tracking.fluent: Experiment with name 'mlflow-model-training-iris' does not exist. Creating a new experiment.\n"
     ]
    },
    {
     "data": {
      "text/plain": [
       "<Experiment: artifact_location='mlflow-artifacts:/272793336055864920', creation_time=1741193945020, experiment_id='272793336055864920', last_update_time=1741193945020, lifecycle_stage='active', name='mlflow-model-training-iris', tags={}>"
      ]
     },
     "execution_count": 1,
     "metadata": {},
     "output_type": "execute_result"
    }
   ],
   "source": [
    "import mlflow\n",
    "mlflow.set_tracking_uri(\"http://localhost:5001\")\n",
    "mlflow.set_experiment(\"mlflow-model-training-iris\")"
   ]
  },
  {
   "attachments": {},
   "cell_type": "markdown",
   "metadata": {},
   "source": [
    "## 4. Log a model experiment result"
   ]
  },
  {
   "cell_type": "code",
   "execution_count": 3,
   "metadata": {},
   "outputs": [
    {
     "name": "stdout",
     "output_type": "stream",
     "text": [
      "🏃 View run mlflow-training-2025-03-05-18-03-57 at: http://localhost:5001/#/experiments/272793336055864920/runs/f59a8598a5664a75bb953a78617e04fd\n",
      "🧪 View experiment at: http://localhost:5001/#/experiments/272793336055864920\n"
     ]
    }
   ],
   "source": [
    "# Lets first create a simple function to train a model\n",
    "# The function will receive a set of hyperparameters and return the model and the accuracy\n",
    "import datetime\n",
    "from mlflow.models import infer_signature\n",
    "\n",
    "def get_data():\n",
    "    from sklearn import datasets\n",
    "\n",
    "    # X, y = datasets.make_classification(n_samples=1000, n_features=4, n_informative=4, n_redundant=0, n_classes=3, n_clusters_per_class=1, class_sep=0.5, random_state=40)\n",
    "    # use iris dataset\n",
    "    X, y = datasets.load_iris(return_X_y=True)\n",
    "    return X, y\n",
    "\n",
    "def train_model(hyperparameters):\n",
    "    from sklearn.ensemble import RandomForestClassifier\n",
    "    from sklearn.metrics import accuracy_score\n",
    "    from sklearn.model_selection import train_test_split\n",
    "    import mlflow.sklearn\n",
    "    X, y = get_data()\n",
    "    X_train, X_test, y_train, y_test = train_test_split(X, y, test_size=0.2, random_state=40)\n",
    "    model = RandomForestClassifier(**hyperparameters)\n",
    "    model.fit(X_train, y_train)\n",
    "    y_pred = model.predict(X_test)\n",
    "    signature = infer_signature(X, model.predict(X))\n",
    "    accuracy = accuracy_score(y_pred, y_test)\n",
    "    return model, signature, accuracy\n",
    "\n",
    "# Now lets log the model and the accuracy\n",
    "date = datetime.datetime.now().strftime(\"%Y-%m-%d-%H-%M-%S\")\n",
    "with mlflow.start_run(run_name=f\"mlflow-training-{date}\"):\n",
    "\n",
    "    # Now lets train a model with some hyperparameters\n",
    "    hyperparameters = {\"n_estimators\": 10, \"max_depth\": 5}\n",
    "    model, signature, accuracy = train_model(hyperparameters)\n",
    "    \n",
    "    # Hyperparameters are logged as parameters\n",
    "    for hyperparameter, value in hyperparameters.items():\n",
    "        mlflow.log_param(hyperparameter, value)\n",
    "    \n",
    "    # Accuracy is logged as a metric \n",
    "    mlflow.log_metric(\"accuracy\", accuracy)\n",
    "    \n",
    "    # Model is logged as an artifact\n",
    "    mlflow.sklearn.log_model(model, \"model\", signature=signature)"
   ]
  },
  {
   "attachments": {},
   "cell_type": "markdown",
   "metadata": {},
   "source": [
    "## 5. Run a hyperparameter search and log the results"
   ]
  },
  {
   "cell_type": "code",
   "execution_count": 4,
   "metadata": {},
   "outputs": [
    {
     "name": "stderr",
     "output_type": "stream",
     "text": [
      "c:\\Users\\pablo\\Documents\\GitHub\\EDEM_MDA2425\\ALUMNOS\\MIA\\PABLO_ESTEBAN\\MLOPS\\.venv\\Lib\\site-packages\\tqdm\\auto.py:21: TqdmWarning: IProgress not found. Please update jupyter and ipywidgets. See https://ipywidgets.readthedocs.io/en/stable/user_install.html\n",
      "  from .autonotebook import tqdm as notebook_tqdm\n",
      "[I 2025-03-05 18:10:22,590] A new study created in memory with name: no-name-c6ae6e48-1576-4c33-b557-2e3589be5b42\n",
      "[I 2025-03-05 18:10:25,256] Trial 0 finished with value: 0.9533333333333334 and parameters: {'n_estimators': 47, 'max_depth': 10, 'min_samples_split': 15, 'min_samples_leaf': 7, 'max_features': 0.42489215749452813}. Best is trial 0 with value: 0.9533333333333334.\n"
     ]
    },
    {
     "name": "stdout",
     "output_type": "stream",
     "text": [
      "🏃 View run optuna-hp-0-2025-03-05-18-10-22 at: http://localhost:5001/#/experiments/272793336055864920/runs/78d002ec1694472185cf3ca644e7d8c6\n",
      "🧪 View experiment at: http://localhost:5001/#/experiments/272793336055864920\n"
     ]
    },
    {
     "name": "stderr",
     "output_type": "stream",
     "text": [
      "[I 2025-03-05 18:10:25,761] Trial 1 finished with value: 0.9466666666666665 and parameters: {'n_estimators': 32, 'max_depth': 3, 'min_samples_split': 9, 'min_samples_leaf': 7, 'max_features': 0.6289857511020297}. Best is trial 1 with value: 0.9466666666666665.\n"
     ]
    },
    {
     "name": "stdout",
     "output_type": "stream",
     "text": [
      "🏃 View run optuna-hp-1-2025-03-05-18-10-25 at: http://localhost:5001/#/experiments/272793336055864920/runs/cbdbeea15bf8449dac4ed50d4fd792ca\n",
      "🧪 View experiment at: http://localhost:5001/#/experiments/272793336055864920\n"
     ]
    },
    {
     "name": "stderr",
     "output_type": "stream",
     "text": [
      "[I 2025-03-05 18:10:26,339] Trial 2 finished with value: 0.9533333333333334 and parameters: {'n_estimators': 50, 'max_depth': 7, 'min_samples_split': 16, 'min_samples_leaf': 18, 'max_features': 0.5271643155461451}. Best is trial 1 with value: 0.9466666666666665.\n"
     ]
    },
    {
     "name": "stdout",
     "output_type": "stream",
     "text": [
      "🏃 View run optuna-hp-2-2025-03-05-18-10-25 at: http://localhost:5001/#/experiments/272793336055864920/runs/f95e64f5c19c441cb20af9593ac7e9df\n",
      "🧪 View experiment at: http://localhost:5001/#/experiments/272793336055864920\n"
     ]
    },
    {
     "name": "stderr",
     "output_type": "stream",
     "text": [
      "[I 2025-03-05 18:10:27,107] Trial 3 finished with value: 0.9466666666666667 and parameters: {'n_estimators': 91, 'max_depth': 8, 'min_samples_split': 4, 'min_samples_leaf': 15, 'max_features': 0.5189630152591892}. Best is trial 1 with value: 0.9466666666666665.\n"
     ]
    },
    {
     "name": "stdout",
     "output_type": "stream",
     "text": [
      "🏃 View run optuna-hp-3-2025-03-05-18-10-26 at: http://localhost:5001/#/experiments/272793336055864920/runs/45d71046e83b438ebf4f223e6aa0ffbc\n",
      "🧪 View experiment at: http://localhost:5001/#/experiments/272793336055864920\n"
     ]
    },
    {
     "name": "stderr",
     "output_type": "stream",
     "text": [
      "[I 2025-03-05 18:10:27,570] Trial 4 finished with value: 0.9533333333333334 and parameters: {'n_estimators': 42, 'max_depth': 6, 'min_samples_split': 16, 'min_samples_leaf': 3, 'max_features': 0.9277029479839219}. Best is trial 1 with value: 0.9466666666666665.\n"
     ]
    },
    {
     "name": "stdout",
     "output_type": "stream",
     "text": [
      "🏃 View run optuna-hp-4-2025-03-05-18-10-27 at: http://localhost:5001/#/experiments/272793336055864920/runs/bd53d3d0ae9e46ad8d81c13f1e13264e\n",
      "🧪 View experiment at: http://localhost:5001/#/experiments/272793336055864920\n"
     ]
    },
    {
     "name": "stderr",
     "output_type": "stream",
     "text": [
      "[I 2025-03-05 18:10:28,038] Trial 5 finished with value: 0.9533333333333334 and parameters: {'n_estimators': 52, 'max_depth': 2, 'min_samples_split': 12, 'min_samples_leaf': 3, 'max_features': 0.10113163434261796}. Best is trial 1 with value: 0.9466666666666665.\n"
     ]
    },
    {
     "name": "stdout",
     "output_type": "stream",
     "text": [
      "🏃 View run optuna-hp-5-2025-03-05-18-10-27 at: http://localhost:5001/#/experiments/272793336055864920/runs/289502b10b9d416b9d7ba4dabe7cfd69\n",
      "🧪 View experiment at: http://localhost:5001/#/experiments/272793336055864920\n"
     ]
    },
    {
     "name": "stderr",
     "output_type": "stream",
     "text": [
      "[I 2025-03-05 18:10:28,677] Trial 6 finished with value: 0.9666666666666668 and parameters: {'n_estimators': 66, 'max_depth': 8, 'min_samples_split': 2, 'min_samples_leaf': 1, 'max_features': 0.5149362832019642}. Best is trial 1 with value: 0.9466666666666665.\n"
     ]
    },
    {
     "name": "stdout",
     "output_type": "stream",
     "text": [
      "🏃 View run optuna-hp-6-2025-03-05-18-10-28 at: http://localhost:5001/#/experiments/272793336055864920/runs/fbbdaa2b0eee4d9a9e8fa3d9fc2e8ad8\n",
      "🧪 View experiment at: http://localhost:5001/#/experiments/272793336055864920\n"
     ]
    },
    {
     "name": "stderr",
     "output_type": "stream",
     "text": [
      "[I 2025-03-05 18:10:28,968] Trial 7 finished with value: 0.9466666666666665 and parameters: {'n_estimators': 22, 'max_depth': 7, 'min_samples_split': 17, 'min_samples_leaf': 15, 'max_features': 0.7786555086356625}. Best is trial 1 with value: 0.9466666666666665.\n"
     ]
    },
    {
     "name": "stdout",
     "output_type": "stream",
     "text": [
      "🏃 View run optuna-hp-7-2025-03-05-18-10-28 at: http://localhost:5001/#/experiments/272793336055864920/runs/b76f87a982994fcd89bb5a248f4bc223\n",
      "🧪 View experiment at: http://localhost:5001/#/experiments/272793336055864920\n"
     ]
    },
    {
     "name": "stderr",
     "output_type": "stream",
     "text": [
      "[I 2025-03-05 18:10:29,259] Trial 8 finished with value: 0.9400000000000001 and parameters: {'n_estimators': 21, 'max_depth': 6, 'min_samples_split': 10, 'min_samples_leaf': 12, 'max_features': 0.48773497519214715}. Best is trial 8 with value: 0.9400000000000001.\n"
     ]
    },
    {
     "name": "stdout",
     "output_type": "stream",
     "text": [
      "🏃 View run optuna-hp-8-2025-03-05-18-10-28 at: http://localhost:5001/#/experiments/272793336055864920/runs/61098e1d5f3f45b9a0b9fe9039000805\n",
      "🧪 View experiment at: http://localhost:5001/#/experiments/272793336055864920\n"
     ]
    },
    {
     "name": "stderr",
     "output_type": "stream",
     "text": [
      "[I 2025-03-05 18:10:29,729] Trial 9 finished with value: 0.9466666666666665 and parameters: {'n_estimators': 39, 'max_depth': 2, 'min_samples_split': 6, 'min_samples_leaf': 13, 'max_features': 0.601583667188528}. Best is trial 8 with value: 0.9400000000000001.\n"
     ]
    },
    {
     "name": "stdout",
     "output_type": "stream",
     "text": [
      "🏃 View run optuna-hp-9-2025-03-05-18-10-29 at: http://localhost:5001/#/experiments/272793336055864920/runs/182951db3ca6473fbbad0efa31244608\n",
      "🧪 View experiment at: http://localhost:5001/#/experiments/272793336055864920\n"
     ]
    },
    {
     "name": "stderr",
     "output_type": "stream",
     "text": [
      "[I 2025-03-05 18:10:29,991] Trial 10 finished with value: 0.9 and parameters: {'n_estimators': 2, 'max_depth': 5, 'min_samples_split': 20, 'min_samples_leaf': 20, 'max_features': 0.27547490641151556}. Best is trial 10 with value: 0.9.\n"
     ]
    },
    {
     "name": "stdout",
     "output_type": "stream",
     "text": [
      "🏃 View run optuna-hp-10-2025-03-05-18-10-29 at: http://localhost:5001/#/experiments/272793336055864920/runs/0ea6a10ba54a41e8909dc5f5b05a825b\n",
      "🧪 View experiment at: http://localhost:5001/#/experiments/272793336055864920\n"
     ]
    },
    {
     "name": "stderr",
     "output_type": "stream",
     "text": [
      "[I 2025-03-05 18:10:30,275] Trial 11 finished with value: 0.8133333333333332 and parameters: {'n_estimators': 3, 'max_depth': 5, 'min_samples_split': 20, 'min_samples_leaf': 20, 'max_features': 0.24743203517026938}. Best is trial 11 with value: 0.8133333333333332.\n"
     ]
    },
    {
     "name": "stdout",
     "output_type": "stream",
     "text": [
      "🏃 View run optuna-hp-11-2025-03-05-18-10-29 at: http://localhost:5001/#/experiments/272793336055864920/runs/afe157748a1e4a4c91dea0d54487fbc8\n",
      "🧪 View experiment at: http://localhost:5001/#/experiments/272793336055864920\n"
     ]
    },
    {
     "name": "stderr",
     "output_type": "stream",
     "text": [
      "[I 2025-03-05 18:10:30,585] Trial 12 finished with value: 0.9466666666666667 and parameters: {'n_estimators': 6, 'max_depth': 4, 'min_samples_split': 20, 'min_samples_leaf': 19, 'max_features': 0.21925495457540167}. Best is trial 11 with value: 0.8133333333333332.\n"
     ]
    },
    {
     "name": "stdout",
     "output_type": "stream",
     "text": [
      "🏃 View run optuna-hp-12-2025-03-05-18-10-30 at: http://localhost:5001/#/experiments/272793336055864920/runs/f8d1b87b6d2c434e9f7d609a6665dfdb\n",
      "🧪 View experiment at: http://localhost:5001/#/experiments/272793336055864920\n"
     ]
    },
    {
     "name": "stderr",
     "output_type": "stream",
     "text": [
      "[I 2025-03-05 18:10:30,903] Trial 13 finished with value: 0.9199999999999999 and parameters: {'n_estimators': 3, 'max_depth': 4, 'min_samples_split': 20, 'min_samples_leaf': 19, 'max_features': 0.299599877860348}. Best is trial 11 with value: 0.8133333333333332.\n"
     ]
    },
    {
     "name": "stdout",
     "output_type": "stream",
     "text": [
      "🏃 View run optuna-hp-13-2025-03-05-18-10-30 at: http://localhost:5001/#/experiments/272793336055864920/runs/68ff9b9cbf584ebdaa192ae42df2730e\n",
      "🧪 View experiment at: http://localhost:5001/#/experiments/272793336055864920\n"
     ]
    },
    {
     "name": "stderr",
     "output_type": "stream",
     "text": [
      "[I 2025-03-05 18:10:31,171] Trial 14 finished with value: 0.9266666666666667 and parameters: {'n_estimators': 15, 'max_depth': 5, 'min_samples_split': 19, 'min_samples_leaf': 20, 'max_features': 0.31452928161845145}. Best is trial 11 with value: 0.8133333333333332.\n"
     ]
    },
    {
     "name": "stdout",
     "output_type": "stream",
     "text": [
      "🏃 View run optuna-hp-14-2025-03-05-18-10-30 at: http://localhost:5001/#/experiments/272793336055864920/runs/b3db29a2c8a14e90bf9a0658b446dd0a\n",
      "🧪 View experiment at: http://localhost:5001/#/experiments/272793336055864920\n",
      "🏃 View run optuna-hp-15-2025-03-05-18-10-31 at: http://localhost:5001/#/experiments/272793336055864920/runs/68570ab17c254e09adc1f1e1cd481451\n",
      "🧪 View experiment at: http://localhost:5001/#/experiments/272793336055864920\n"
     ]
    },
    {
     "name": "stderr",
     "output_type": "stream",
     "text": [
      "[I 2025-03-05 18:10:31,368] Trial 15 finished with value: 0.82 and parameters: {'n_estimators': 2, 'max_depth': 5, 'min_samples_split': 13, 'min_samples_leaf': 16, 'max_features': 0.11223247179463341}. Best is trial 11 with value: 0.8133333333333332.\n",
      "[I 2025-03-05 18:10:31,905] Trial 16 finished with value: 0.9533333333333334 and parameters: {'n_estimators': 74, 'max_depth': 4, 'min_samples_split': 13, 'min_samples_leaf': 16, 'max_features': 0.11150599850972934}. Best is trial 11 with value: 0.8133333333333332.\n"
     ]
    },
    {
     "name": "stdout",
     "output_type": "stream",
     "text": [
      "🏃 View run optuna-hp-16-2025-03-05-18-10-31 at: http://localhost:5001/#/experiments/272793336055864920/runs/2052aeb98cb844ebaee9d6aee7ad9453\n",
      "🧪 View experiment at: http://localhost:5001/#/experiments/272793336055864920\n"
     ]
    },
    {
     "name": "stderr",
     "output_type": "stream",
     "text": [
      "[I 2025-03-05 18:10:32,192] Trial 17 finished with value: 0.9333333333333332 and parameters: {'n_estimators': 15, 'max_depth': 5, 'min_samples_split': 8, 'min_samples_leaf': 9, 'max_features': 0.19311609991742174}. Best is trial 11 with value: 0.8133333333333332.\n"
     ]
    },
    {
     "name": "stdout",
     "output_type": "stream",
     "text": [
      "🏃 View run optuna-hp-17-2025-03-05-18-10-31 at: http://localhost:5001/#/experiments/272793336055864920/runs/743d01436cfb4c0e91fc398815af8eaa\n",
      "🧪 View experiment at: http://localhost:5001/#/experiments/272793336055864920\n"
     ]
    },
    {
     "name": "stderr",
     "output_type": "stream",
     "text": [
      "[I 2025-03-05 18:10:32,536] Trial 18 finished with value: 0.9399999999999998 and parameters: {'n_estimators': 29, 'max_depth': 3, 'min_samples_split': 14, 'min_samples_leaf': 17, 'max_features': 0.35671751330724355}. Best is trial 11 with value: 0.8133333333333332.\n"
     ]
    },
    {
     "name": "stdout",
     "output_type": "stream",
     "text": [
      "🏃 View run optuna-hp-18-2025-03-05-18-10-32 at: http://localhost:5001/#/experiments/272793336055864920/runs/7ccdd83454e2471a85064bddfaa2d2db\n",
      "🧪 View experiment at: http://localhost:5001/#/experiments/272793336055864920\n"
     ]
    },
    {
     "name": "stderr",
     "output_type": "stream",
     "text": [
      "[I 2025-03-05 18:10:32,798] Trial 19 finished with value: 0.9400000000000001 and parameters: {'n_estimators': 12, 'max_depth': 10, 'min_samples_split': 18, 'min_samples_leaf': 13, 'max_features': 0.1859457607185523}. Best is trial 11 with value: 0.8133333333333332.\n"
     ]
    },
    {
     "name": "stdout",
     "output_type": "stream",
     "text": [
      "🏃 View run optuna-hp-19-2025-03-05-18-10-32 at: http://localhost:5001/#/experiments/272793336055864920/runs/9e485cff863e414fa54d7b23b033e78f\n",
      "🧪 View experiment at: http://localhost:5001/#/experiments/272793336055864920\n"
     ]
    },
    {
     "name": "stderr",
     "output_type": "stream",
     "text": [
      "[I 2025-03-05 18:10:33,197] Trial 20 finished with value: 0.96 and parameters: {'n_estimators': 31, 'max_depth': 7, 'min_samples_split': 7, 'min_samples_leaf': 10, 'max_features': 0.3839926139558922}. Best is trial 11 with value: 0.8133333333333332.\n"
     ]
    },
    {
     "name": "stdout",
     "output_type": "stream",
     "text": [
      "🏃 View run optuna-hp-20-2025-03-05-18-10-32 at: http://localhost:5001/#/experiments/272793336055864920/runs/230342916a2b4a768a0b8d9b0533753d\n",
      "🧪 View experiment at: http://localhost:5001/#/experiments/272793336055864920\n"
     ]
    },
    {
     "name": "stderr",
     "output_type": "stream",
     "text": [
      "[I 2025-03-05 18:10:33,460] Trial 21 finished with value: 0.8800000000000001 and parameters: {'n_estimators': 3, 'max_depth': 5, 'min_samples_split': 18, 'min_samples_leaf': 20, 'max_features': 0.2390607295239146}. Best is trial 11 with value: 0.8133333333333332.\n"
     ]
    },
    {
     "name": "stdout",
     "output_type": "stream",
     "text": [
      "🏃 View run optuna-hp-21-2025-03-05-18-10-33 at: http://localhost:5001/#/experiments/272793336055864920/runs/6f6b83bde1dc443c82494e294df00337\n",
      "🧪 View experiment at: http://localhost:5001/#/experiments/272793336055864920\n",
      "🏃 View run optuna-hp-22-2025-03-05-18-10-33 at: http://localhost:5001/#/experiments/272793336055864920/runs/e905108f27184c98afaa2e9632d3a56d\n",
      "🧪 View experiment at: http://localhost:5001/#/experiments/272793336055864920\n"
     ]
    },
    {
     "name": "stderr",
     "output_type": "stream",
     "text": [
      "[I 2025-03-05 18:10:33,663] Trial 22 finished with value: 0.72 and parameters: {'n_estimators': 1, 'max_depth': 5, 'min_samples_split': 18, 'min_samples_leaf': 17, 'max_features': 0.2057303193408011}. Best is trial 22 with value: 0.72.\n",
      "[I 2025-03-05 18:10:33,951] Trial 23 finished with value: 0.9066666666666666 and parameters: {'n_estimators': 12, 'max_depth': 6, 'min_samples_split': 11, 'min_samples_leaf': 17, 'max_features': 0.15189032052705403}. Best is trial 22 with value: 0.72.\n"
     ]
    },
    {
     "name": "stdout",
     "output_type": "stream",
     "text": [
      "🏃 View run optuna-hp-23-2025-03-05-18-10-33 at: http://localhost:5001/#/experiments/272793336055864920/runs/c3e94ba591aa4b199f4dc5f80e2499ba\n",
      "🧪 View experiment at: http://localhost:5001/#/experiments/272793336055864920\n"
     ]
    },
    {
     "name": "stderr",
     "output_type": "stream",
     "text": [
      "[I 2025-03-05 18:10:34,265] Trial 24 finished with value: 0.9266666666666665 and parameters: {'n_estimators': 20, 'max_depth': 3, 'min_samples_split': 14, 'min_samples_leaf': 15, 'max_features': 0.24800635030595786}. Best is trial 22 with value: 0.72.\n"
     ]
    },
    {
     "name": "stdout",
     "output_type": "stream",
     "text": [
      "🏃 View run optuna-hp-24-2025-03-05-18-10-33 at: http://localhost:5001/#/experiments/272793336055864920/runs/7206e328158a471db96eb7bea247e765\n",
      "🧪 View experiment at: http://localhost:5001/#/experiments/272793336055864920\n"
     ]
    },
    {
     "name": "stderr",
     "output_type": "stream",
     "text": [
      "[I 2025-03-05 18:10:34,945] Trial 25 finished with value: 0.9333333333333332 and parameters: {'n_estimators': 100, 'max_depth': 4, 'min_samples_split': 18, 'min_samples_leaf': 17, 'max_features': 0.4339137160908748}. Best is trial 22 with value: 0.72.\n"
     ]
    },
    {
     "name": "stdout",
     "output_type": "stream",
     "text": [
      "🏃 View run optuna-hp-25-2025-03-05-18-10-34 at: http://localhost:5001/#/experiments/272793336055864920/runs/26c9e890916a4102bce2c10215ad115c\n",
      "🧪 View experiment at: http://localhost:5001/#/experiments/272793336055864920\n"
     ]
    },
    {
     "name": "stderr",
     "output_type": "stream",
     "text": [
      "[I 2025-03-05 18:10:35,176] Trial 26 finished with value: 0.9533333333333334 and parameters: {'n_estimators': 8, 'max_depth': 6, 'min_samples_split': 16, 'min_samples_leaf': 14, 'max_features': 0.7013083275829414}. Best is trial 22 with value: 0.72.\n"
     ]
    },
    {
     "name": "stdout",
     "output_type": "stream",
     "text": [
      "🏃 View run optuna-hp-26-2025-03-05-18-10-34 at: http://localhost:5001/#/experiments/272793336055864920/runs/fdad5f80cbcd48eeae7e73e5498a637c\n",
      "🧪 View experiment at: http://localhost:5001/#/experiments/272793336055864920\n",
      "🏃 View run optuna-hp-27-2025-03-05-18-10-35 at: http://localhost:5001/#/experiments/272793336055864920/runs/3a0f83fc379740bdad98da738fb323d1\n",
      "🧪 View experiment at: http://localhost:5001/#/experiments/272793336055864920\n"
     ]
    },
    {
     "name": "stderr",
     "output_type": "stream",
     "text": [
      "[I 2025-03-05 18:10:35,380] Trial 27 finished with value: 0.78 and parameters: {'n_estimators': 1, 'max_depth': 5, 'min_samples_split': 12, 'min_samples_leaf': 18, 'max_features': 0.15297624930558032}. Best is trial 22 with value: 0.72.\n",
      "[I 2025-03-05 18:10:35,720] Trial 28 finished with value: 0.9466666666666665 and parameters: {'n_estimators': 26, 'max_depth': 8, 'min_samples_split': 17, 'min_samples_leaf': 18, 'max_features': 0.35375540610248685}. Best is trial 22 with value: 0.72.\n"
     ]
    },
    {
     "name": "stdout",
     "output_type": "stream",
     "text": [
      "🏃 View run optuna-hp-28-2025-03-05-18-10-35 at: http://localhost:5001/#/experiments/272793336055864920/runs/b3939c8236354f209c97461a756568af\n",
      "🧪 View experiment at: http://localhost:5001/#/experiments/272793336055864920\n"
     ]
    },
    {
     "name": "stderr",
     "output_type": "stream",
     "text": [
      "[I 2025-03-05 18:10:36,260] Trial 29 finished with value: 0.9533333333333334 and parameters: {'n_estimators': 64, 'max_depth': 6, 'min_samples_split': 15, 'min_samples_leaf': 11, 'max_features': 0.4278108819602776}. Best is trial 22 with value: 0.72.\n"
     ]
    },
    {
     "name": "stdout",
     "output_type": "stream",
     "text": [
      "🏃 View run optuna-hp-29-2025-03-05-18-10-35 at: http://localhost:5001/#/experiments/272793336055864920/runs/bba50ea7fcd24f80816f311a82b91ae6\n",
      "🧪 View experiment at: http://localhost:5001/#/experiments/272793336055864920\n"
     ]
    },
    {
     "name": "stderr",
     "output_type": "stream",
     "text": [
      "[I 2025-03-05 18:10:36,540] Trial 30 finished with value: 0.9466666666666667 and parameters: {'n_estimators': 10, 'max_depth': 4, 'min_samples_split': 5, 'min_samples_leaf': 18, 'max_features': 0.17183795624312814}. Best is trial 22 with value: 0.72.\n"
     ]
    },
    {
     "name": "stdout",
     "output_type": "stream",
     "text": [
      "🏃 View run optuna-hp-30-2025-03-05-18-10-36 at: http://localhost:5001/#/experiments/272793336055864920/runs/08993f28833647b5a5688ab02e532fab\n",
      "🧪 View experiment at: http://localhost:5001/#/experiments/272793336055864920\n",
      "🏃 View run optuna-hp-31-2025-03-05-18-10-36 at: http://localhost:5001/#/experiments/272793336055864920/runs/3d9e348488e8442da92f81fbdf827d03\n",
      "🧪 View experiment at: http://localhost:5001/#/experiments/272793336055864920\n"
     ]
    },
    {
     "name": "stderr",
     "output_type": "stream",
     "text": [
      "[I 2025-03-05 18:10:36,735] Trial 31 finished with value: 0.8466666666666667 and parameters: {'n_estimators': 1, 'max_depth': 5, 'min_samples_split': 12, 'min_samples_leaf': 16, 'max_features': 0.128232619721953}. Best is trial 22 with value: 0.72.\n",
      "[I 2025-03-05 18:10:37,020] Trial 32 finished with value: 0.9533333333333334 and parameters: {'n_estimators': 16, 'max_depth': 5, 'min_samples_split': 9, 'min_samples_leaf': 19, 'max_features': 0.22276619205677406}. Best is trial 22 with value: 0.72.\n"
     ]
    },
    {
     "name": "stdout",
     "output_type": "stream",
     "text": [
      "🏃 View run optuna-hp-32-2025-03-05-18-10-36 at: http://localhost:5001/#/experiments/272793336055864920/runs/5869c1494f694e199d180e2395a79862\n",
      "🧪 View experiment at: http://localhost:5001/#/experiments/272793336055864920\n"
     ]
    },
    {
     "name": "stderr",
     "output_type": "stream",
     "text": [
      "[I 2025-03-05 18:10:37,273] Trial 33 finished with value: 0.9133333333333333 and parameters: {'n_estimators': 8, 'max_depth': 3, 'min_samples_split': 14, 'min_samples_leaf': 16, 'max_features': 0.15259838369517692}. Best is trial 22 with value: 0.72.\n"
     ]
    },
    {
     "name": "stdout",
     "output_type": "stream",
     "text": [
      "🏃 View run optuna-hp-33-2025-03-05-18-10-37 at: http://localhost:5001/#/experiments/272793336055864920/runs/3387836eee174967b5feb1b3932d0650\n",
      "🧪 View experiment at: http://localhost:5001/#/experiments/272793336055864920\n",
      "🏃 View run optuna-hp-34-2025-03-05-18-10-37 at: http://localhost:5001/#/experiments/272793336055864920/runs/cb3b92c8b8c64c9daa20bf0a0c9dbba1\n",
      "🧪 View experiment at: http://localhost:5001/#/experiments/272793336055864920\n"
     ]
    },
    {
     "name": "stderr",
     "output_type": "stream",
     "text": [
      "[I 2025-03-05 18:10:37,473] Trial 34 finished with value: 0.8133333333333332 and parameters: {'n_estimators': 1, 'max_depth': 7, 'min_samples_split': 11, 'min_samples_leaf': 7, 'max_features': 0.2994294889397484}. Best is trial 22 with value: 0.72.\n",
      "[I 2025-03-05 18:10:37,891] Trial 35 finished with value: 0.9533333333333334 and parameters: {'n_estimators': 35, 'max_depth': 7, 'min_samples_split': 10, 'min_samples_leaf': 7, 'max_features': 0.30503288566373316}. Best is trial 22 with value: 0.72.\n"
     ]
    },
    {
     "name": "stdout",
     "output_type": "stream",
     "text": [
      "🏃 View run optuna-hp-35-2025-03-05-18-10-37 at: http://localhost:5001/#/experiments/272793336055864920/runs/7fb542ce76d345ec9bd8d85276109f7e\n",
      "🧪 View experiment at: http://localhost:5001/#/experiments/272793336055864920\n"
     ]
    },
    {
     "name": "stderr",
     "output_type": "stream",
     "text": [
      "[I 2025-03-05 18:10:38,219] Trial 36 finished with value: 0.9333333333333332 and parameters: {'n_estimators': 24, 'max_depth': 7, 'min_samples_split': 19, 'min_samples_leaf': 6, 'max_features': 0.27442381470664734}. Best is trial 22 with value: 0.72.\n"
     ]
    },
    {
     "name": "stdout",
     "output_type": "stream",
     "text": [
      "🏃 View run optuna-hp-36-2025-03-05-18-10-37 at: http://localhost:5001/#/experiments/272793336055864920/runs/f8d7ffc058d346f4a10f00ebc82b89b7\n",
      "🧪 View experiment at: http://localhost:5001/#/experiments/272793336055864920\n"
     ]
    },
    {
     "name": "stderr",
     "output_type": "stream",
     "text": [
      "[I 2025-03-05 18:10:38,533] Trial 37 finished with value: 0.96 and parameters: {'n_estimators': 18, 'max_depth': 8, 'min_samples_split': 11, 'min_samples_leaf': 6, 'max_features': 0.926462577751981}. Best is trial 22 with value: 0.72.\n"
     ]
    },
    {
     "name": "stdout",
     "output_type": "stream",
     "text": [
      "🏃 View run optuna-hp-37-2025-03-05-18-10-38 at: http://localhost:5001/#/experiments/272793336055864920/runs/e4dd788e9bab48ce8f542ed56ff242ea\n",
      "🧪 View experiment at: http://localhost:5001/#/experiments/272793336055864920\n"
     ]
    },
    {
     "name": "stderr",
     "output_type": "stream",
     "text": [
      "[I 2025-03-05 18:10:38,996] Trial 38 finished with value: 0.9533333333333334 and parameters: {'n_estimators': 53, 'max_depth': 9, 'min_samples_split': 2, 'min_samples_leaf': 8, 'max_features': 0.4598533411022536}. Best is trial 22 with value: 0.72.\n"
     ]
    },
    {
     "name": "stdout",
     "output_type": "stream",
     "text": [
      "🏃 View run optuna-hp-38-2025-03-05-18-10-38 at: http://localhost:5001/#/experiments/272793336055864920/runs/dc4bcb3f8cc64fc99c154c762ff2de81\n",
      "🧪 View experiment at: http://localhost:5001/#/experiments/272793336055864920\n"
     ]
    },
    {
     "name": "stderr",
     "output_type": "stream",
     "text": [
      "[I 2025-03-05 18:10:39,279] Trial 39 finished with value: 0.9533333333333334 and parameters: {'n_estimators': 9, 'max_depth': 6, 'min_samples_split': 9, 'min_samples_leaf': 4, 'max_features': 0.38409228095162895}. Best is trial 22 with value: 0.72.\n"
     ]
    },
    {
     "name": "stdout",
     "output_type": "stream",
     "text": [
      "🏃 View run optuna-hp-39-2025-03-05-18-10-38 at: http://localhost:5001/#/experiments/272793336055864920/runs/3c33d1cb0a924a0893024fa7932e0d0b\n",
      "🧪 View experiment at: http://localhost:5001/#/experiments/272793336055864920\n"
     ]
    },
    {
     "name": "stderr",
     "output_type": "stream",
     "text": [
      "[I 2025-03-05 18:10:39,532] Trial 40 finished with value: 0.96 and parameters: {'n_estimators': 8, 'max_depth': 9, 'min_samples_split': 16, 'min_samples_leaf': 4, 'max_features': 0.5719783584541179}. Best is trial 22 with value: 0.72.\n"
     ]
    },
    {
     "name": "stdout",
     "output_type": "stream",
     "text": [
      "🏃 View run optuna-hp-40-2025-03-05-18-10-39 at: http://localhost:5001/#/experiments/272793336055864920/runs/24c1984df7bf4330a1ca8b0a745dab8c\n",
      "🧪 View experiment at: http://localhost:5001/#/experiments/272793336055864920\n"
     ]
    },
    {
     "name": "stderr",
     "output_type": "stream",
     "text": [
      "[I 2025-03-05 18:10:39,752] Trial 41 finished with value: 0.8866666666666667 and parameters: {'n_estimators': 3, 'max_depth': 6, 'min_samples_split': 12, 'min_samples_leaf': 18, 'max_features': 0.11752458174731067}. Best is trial 22 with value: 0.72.\n"
     ]
    },
    {
     "name": "stdout",
     "output_type": "stream",
     "text": [
      "🏃 View run optuna-hp-41-2025-03-05-18-10-39 at: http://localhost:5001/#/experiments/272793336055864920/runs/3c5fd692cfad4a6082fa9e2013667263\n",
      "🧪 View experiment at: http://localhost:5001/#/experiments/272793336055864920\n"
     ]
    },
    {
     "name": "stderr",
     "output_type": "stream",
     "text": [
      "[I 2025-03-05 18:10:39,965] Trial 42 finished with value: 0.7533333333333334 and parameters: {'n_estimators': 1, 'max_depth': 5, 'min_samples_split': 13, 'min_samples_leaf': 14, 'max_features': 0.19855246551154854}. Best is trial 22 with value: 0.72.\n"
     ]
    },
    {
     "name": "stdout",
     "output_type": "stream",
     "text": [
      "🏃 View run optuna-hp-42-2025-03-05-18-10-39 at: http://localhost:5001/#/experiments/272793336055864920/runs/c6400dd1d7514773812d3e7ed6f72aab\n",
      "🧪 View experiment at: http://localhost:5001/#/experiments/272793336055864920\n"
     ]
    },
    {
     "name": "stderr",
     "output_type": "stream",
     "text": [
      "[I 2025-03-05 18:10:40,191] Trial 43 finished with value: 0.9 and parameters: {'n_estimators': 1, 'max_depth': 4, 'min_samples_split': 10, 'min_samples_leaf': 14, 'max_features': 0.19964522305604887}. Best is trial 22 with value: 0.72.\n"
     ]
    },
    {
     "name": "stdout",
     "output_type": "stream",
     "text": [
      "🏃 View run optuna-hp-43-2025-03-05-18-10-39 at: http://localhost:5001/#/experiments/272793336055864920/runs/3313c9cdc105482a89a377a2656fea54\n",
      "🧪 View experiment at: http://localhost:5001/#/experiments/272793336055864920\n"
     ]
    },
    {
     "name": "stderr",
     "output_type": "stream",
     "text": [
      "[I 2025-03-05 18:10:40,465] Trial 44 finished with value: 0.9399999999999998 and parameters: {'n_estimators': 13, 'max_depth': 5, 'min_samples_split': 13, 'min_samples_leaf': 11, 'max_features': 0.2591783391055632}. Best is trial 22 with value: 0.72.\n"
     ]
    },
    {
     "name": "stdout",
     "output_type": "stream",
     "text": [
      "🏃 View run optuna-hp-44-2025-03-05-18-10-40 at: http://localhost:5001/#/experiments/272793336055864920/runs/c3adf9a0298a486e80c090d7886d0068\n",
      "🧪 View experiment at: http://localhost:5001/#/experiments/272793336055864920\n"
     ]
    },
    {
     "name": "stderr",
     "output_type": "stream",
     "text": [
      "[I 2025-03-05 18:10:40,740] Trial 45 finished with value: 0.9333333333333333 and parameters: {'n_estimators': 6, 'max_depth': 6, 'min_samples_split': 15, 'min_samples_leaf': 19, 'max_features': 0.33282235374126234}. Best is trial 22 with value: 0.72.\n"
     ]
    },
    {
     "name": "stdout",
     "output_type": "stream",
     "text": [
      "🏃 View run optuna-hp-45-2025-03-05-18-10-40 at: http://localhost:5001/#/experiments/272793336055864920/runs/ff616ad06f5545f79d04d6e2619379e3\n",
      "🧪 View experiment at: http://localhost:5001/#/experiments/272793336055864920\n"
     ]
    },
    {
     "name": "stderr",
     "output_type": "stream",
     "text": [
      "[I 2025-03-05 18:10:41,239] Trial 46 finished with value: 0.9533333333333334 and parameters: {'n_estimators': 45, 'max_depth': 7, 'min_samples_split': 19, 'min_samples_leaf': 13, 'max_features': 0.22912382352881686}. Best is trial 22 with value: 0.72.\n"
     ]
    },
    {
     "name": "stdout",
     "output_type": "stream",
     "text": [
      "🏃 View run optuna-hp-46-2025-03-05-18-10-40 at: http://localhost:5001/#/experiments/272793336055864920/runs/fe6ceda0d2e346beb41119a41ed94b44\n",
      "🧪 View experiment at: http://localhost:5001/#/experiments/272793336055864920\n"
     ]
    },
    {
     "name": "stderr",
     "output_type": "stream",
     "text": [
      "[I 2025-03-05 18:10:41,806] Trial 47 finished with value: 0.9399999999999998 and parameters: {'n_estimators': 77, 'max_depth': 4, 'min_samples_split': 12, 'min_samples_leaf': 14, 'max_features': 0.16307893524210576}. Best is trial 22 with value: 0.72.\n"
     ]
    },
    {
     "name": "stdout",
     "output_type": "stream",
     "text": [
      "🏃 View run optuna-hp-47-2025-03-05-18-10-41 at: http://localhost:5001/#/experiments/272793336055864920/runs/9f3397d84eaf4b4bb5d1ec4fabeb9c6f\n",
      "🧪 View experiment at: http://localhost:5001/#/experiments/272793336055864920\n"
     ]
    },
    {
     "name": "stderr",
     "output_type": "stream",
     "text": [
      "[I 2025-03-05 18:10:42,085] Trial 48 finished with value: 0.9399999999999998 and parameters: {'n_estimators': 18, 'max_depth': 5, 'min_samples_split': 17, 'min_samples_leaf': 20, 'max_features': 0.2844898755617505}. Best is trial 22 with value: 0.72.\n"
     ]
    },
    {
     "name": "stdout",
     "output_type": "stream",
     "text": [
      "🏃 View run optuna-hp-48-2025-03-05-18-10-41 at: http://localhost:5001/#/experiments/272793336055864920/runs/bb5a34a770ee469eaa6f82f33664b635\n",
      "🧪 View experiment at: http://localhost:5001/#/experiments/272793336055864920\n"
     ]
    },
    {
     "name": "stderr",
     "output_type": "stream",
     "text": [
      "[I 2025-03-05 18:10:42,326] Trial 49 finished with value: 0.9266666666666667 and parameters: {'n_estimators': 5, 'max_depth': 6, 'min_samples_split': 8, 'min_samples_leaf': 18, 'max_features': 0.19591892851410275}. Best is trial 22 with value: 0.72.\n"
     ]
    },
    {
     "name": "stdout",
     "output_type": "stream",
     "text": [
      "🏃 View run optuna-hp-49-2025-03-05-18-10-42 at: http://localhost:5001/#/experiments/272793336055864920/runs/1be7d33ebcda4aca9e0c68523ee39536\n",
      "🧪 View experiment at: http://localhost:5001/#/experiments/272793336055864920\n"
     ]
    }
   ],
   "source": [
    "\n",
    "import optuna\n",
    "import mlflow\n",
    "from sklearn.ensemble import RandomForestClassifier\n",
    "from sklearn.model_selection import cross_val_score\n",
    "\n",
    "\n",
    "X, y = get_data()\n",
    "\n",
    "def optimize_rf(trial):\n",
    "    \n",
    "    with mlflow.start_run(run_name=f\"optuna-hp-{trial.number}-{datetime.datetime.now().strftime('%Y-%m-%d-%H-%M-%S')}\"):\n",
    "        # Set the hyperparameter values that we want to optimize\n",
    "        n_estimators = trial.suggest_int('n_estimators', 1, 100)\n",
    "        max_depth = trial.suggest_int('max_depth', 2, 10)\n",
    "        min_samples_split = trial.suggest_int('min_samples_split', 2, 20)\n",
    "        min_samples_leaf = trial.suggest_int('min_samples_leaf', 1, 20)\n",
    "        max_features = trial.suggest_float('max_features', 0.1, 1.0)\n",
    "        \n",
    "        \n",
    "        # Create a random forest classifier using the suggested hyperparameters\n",
    "        rf = RandomForestClassifier(n_estimators=n_estimators, max_depth=max_depth,\n",
    "                                    min_samples_split=min_samples_split,\n",
    "                                    min_samples_leaf=min_samples_leaf,\n",
    "                                    max_features=max_features)\n",
    "        \n",
    "        # Use cross-validation to evaluate the performance of the classifier\n",
    "        scores = cross_val_score(rf, X, y, cv=5)\n",
    "        \n",
    "        # Log the hyperparameters and cross-validation scores to MLflow\n",
    "        mlflow.log_param('n_estimators', n_estimators)\n",
    "        mlflow.log_param('max_depth', max_depth)\n",
    "        mlflow.log_param('min_samples_split', min_samples_split)\n",
    "        mlflow.log_param('min_samples_leaf', min_samples_leaf)\n",
    "        mlflow.log_param('max_features', max_features)\n",
    "        mlflow.log_metric('mean_cv_score', scores.mean())\n",
    "    \n",
    "    # Return the mean of the cross-validation scores as the objective value\n",
    "    return scores.mean()\n",
    "\n",
    "# Create an Optuna study\n",
    "study = optuna.create_study()\n",
    "\n",
    "# Run the optimization loop\n",
    "study.optimize(optimize_rf, n_trials=50)\n",
    "\n",
    "# Get the best hyperparameter values\n",
    "best_params = study.best_params"
   ]
  },
  {
   "attachments": {},
   "cell_type": "markdown",
   "metadata": {},
   "source": [
    "## 6. Register a model version using the best hyperparameters"
   ]
  },
  {
   "cell_type": "code",
   "execution_count": 5,
   "metadata": {},
   "outputs": [
    {
     "name": "stderr",
     "output_type": "stream",
     "text": [
      "Successfully registered model 'random_forest_model'.\n",
      "2025/03/05 18:27:44 INFO mlflow.store.model_registry.abstract_store: Waiting up to 300 seconds for model version to finish creation. Model name: random_forest_model, version 1\n"
     ]
    },
    {
     "name": "stdout",
     "output_type": "stream",
     "text": [
      "🏃 View run optuna-hp-final at: http://localhost:5001/#/experiments/272793336055864920/runs/080a12268d534b459bd519ff7e1bda03\n",
      "🧪 View experiment at: http://localhost:5001/#/experiments/272793336055864920\n"
     ]
    },
    {
     "name": "stderr",
     "output_type": "stream",
     "text": [
      "Created version '1' of model 'random_forest_model'.\n"
     ]
    }
   ],
   "source": [
    "from mlflow.models.signature import infer_signature\n",
    "\n",
    "with mlflow.start_run(run_name=f\"optuna-hp-final\"):\n",
    "    # Create the final model using the best hyperparameters\n",
    "    final_model = RandomForestClassifier(**best_params)\n",
    "\n",
    "    # Train the final model on the entire dataset\n",
    "    final_model.fit(X, y)\n",
    "\n",
    "    # Infer the model signature\n",
    "    signature = infer_signature(X, final_model.predict(X))\n",
    "\n",
    "    # Log the model to the \"Models\" section\n",
    "    mlflow.sklearn.log_model(final_model, \"random_forest_model\", registered_model_name=\"random_forest_model\", signature=signature)"
   ]
  },
  {
   "attachments": {},
   "cell_type": "markdown",
   "metadata": {},
   "source": [
    "## 7. Retrieve a model version and use it for prediction"
   ]
  },
  {
   "cell_type": "code",
   "execution_count": null,
   "metadata": {},
   "outputs": [
    {
     "name": "stderr",
     "output_type": "stream",
     "text": [
      "Downloading artifacts: 100%|██████████| 5/5 [00:02<00:00,  2.42it/s]\n"
     ]
    },
    {
     "data": {
      "text/plain": [
       "array([0, 0, 0, 0, 0])"
      ]
     },
     "execution_count": 6,
     "metadata": {},
     "output_type": "execute_result"
    },
    {
     "ename": "",
     "evalue": "",
     "output_type": "error",
     "traceback": [
      "\u001b[1;31mThe Kernel crashed while executing code in the current cell or a previous cell. \n",
      "\u001b[1;31mPlease review the code in the cell(s) to identify a possible cause of the failure. \n",
      "\u001b[1;31mClick <a href='https://aka.ms/vscodeJupyterKernelCrash'>here</a> for more info. \n",
      "\u001b[1;31mView Jupyter <a href='command:jupyter.viewOutput'>log</a> for further details."
     ]
    }
   ],
   "source": [
    "import mlflow.pyfunc\n",
    "\n",
    "model_name = \"random_forest_model\"\n",
    "model_version = 1\n",
    "\n",
    "model = mlflow.pyfunc.load_model(\n",
    "    model_uri=f\"models:/{model_name}/{model_version}\"\n",
    ")\n",
    "\n",
    "model.predict(X[:5])"
   ]
  }
 ],
 "metadata": {
  "kernelspec": {
   "display_name": ".venv",
   "language": "python",
   "name": "python3"
  },
  "language_info": {
   "codemirror_mode": {
    "name": "ipython",
    "version": 3
   },
   "file_extension": ".py",
   "mimetype": "text/x-python",
   "name": "python",
   "nbconvert_exporter": "python",
   "pygments_lexer": "ipython3",
   "version": "3.12.6"
  },
  "orig_nbformat": 4
 },
 "nbformat": 4,
 "nbformat_minor": 2
}
