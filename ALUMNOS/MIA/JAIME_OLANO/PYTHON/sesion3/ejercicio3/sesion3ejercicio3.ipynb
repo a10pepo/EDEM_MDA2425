{
 "cells": [
  {
   "cell_type": "markdown",
   "metadata": {},
   "source": [
    "Ejercicio 3\n",
    "Crea un programa en Python que sea capaz de identificar a partir de una lista de años si un año es bisiesto o no.\n"
   ]
  },
  {
   "cell_type": "code",
   "execution_count": null,
   "metadata": {},
   "outputs": [],
   "source": [
    "def es_bisiesto(año):\n",
    "    return (año % 4 == 0 and año % 100 != 0) or (año % 400 == 0)\n",
    "\n",
    "def comprobar_años(lista_años):\n",
    "    for año in lista_años:\n",
    "        if es_bisiesto(año):\n",
    "            print(f\"{año} es un año bisiesto.\")\n",
    "        else:\n",
    "            print(f\"{año} no es un año bisiesto.\")\n",
    "\n",
    "if __name__ == \"__main__\":\n",
    "    años = [1900, 2000, 2024, 2025, 2100, 2400]  # Puedes cambiar la lista con los años que quieras\n",
    "    comprobar_años(años)"
   ]
  }
 ],
 "metadata": {
  "language_info": {
   "name": "python"
  }
 },
 "nbformat": 4,
 "nbformat_minor": 2
}
