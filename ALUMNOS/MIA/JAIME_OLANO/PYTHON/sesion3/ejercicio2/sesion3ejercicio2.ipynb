{
 "cells": [
  {
   "cell_type": "markdown",
   "metadata": {},
   "source": [
    "Ejercicio 2\n",
    "Crea un programa en Python que sea capaz de calcular y mostrar por consola todos los números primos de 1 - 100."
   ]
  },
  {
   "cell_type": "code",
   "execution_count": null,
   "metadata": {},
   "outputs": [],
   "source": [
    "def es_primo(n):\n",
    "    if n < 2:\n",
    "        return False\n",
    "    for i in range(2, int(n ** 0.5) + 1):\n",
    "        if n % i == 0:\n",
    "            return False\n",
    "    return True\n",
    "\n",
    "def mostrar_primos():\n",
    "    primos = [n for n in range(1, 101) if es_primo(n)]\n",
    "    print(\"Números primos del 1 al 100:\", primos)\n",
    "\n",
    "if __name__ == \"__main__\":\n",
    "    mostrar_primos()"
   ]
  }
 ],
 "metadata": {
  "language_info": {
   "name": "python"
  }
 },
 "nbformat": 4,
 "nbformat_minor": 2
}
