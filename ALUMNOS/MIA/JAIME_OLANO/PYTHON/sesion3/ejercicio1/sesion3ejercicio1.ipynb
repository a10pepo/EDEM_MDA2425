{
 "cells": [
  {
   "cell_type": "markdown",
   "metadata": {},
   "source": [
    "Sesión 3\n",
    "Ejercicio 1\n",
    "A la aplicación de la calculadora de inversión, deberás añadirle una opción para salir de la consola.\n",
    "En caso de escribir 1 --> Se deberá proceder al sistema de Cálculo de inversión. En todas las pantallas posteriores, se debe mostrar la opción de [X] Salir\n",
    "En caso de escribir X --> La aplicación debe mostrar un mensaje de despedida y cerrarse."
   ]
  },
  {
   "cell_type": "code",
   "execution_count": null,
   "metadata": {},
   "outputs": [],
   "source": [
    "def calcular_inversion(inversion, interes_anual, años):\n",
    "    return inversion * (1 + interes_anual / 100) ** años\n",
    "\n",
    "def main():\n",
    "    while True:\n",
    "        print(\"\\nHola. Bienvenido al sistema de cálculo de inversiones. ¿Qué quieres hacer?\")\n",
    "        print(\"[1] Calcular una inversión\")\n",
    "        print(\"[X] Salir\")\n",
    "        \n",
    "        opcion = input(\"> \").strip().lower()\n",
    "\n",
    "        if opcion == \"x\":\n",
    "            print(\"¡Nos vemos!\")\n",
    "            exit()\n",
    "\n",
    "        if opcion != \"1\":\n",
    "            print(\"Opción no válida. Inténtalo de nuevo.\")\n",
    "            continue\n",
    "\n",
    "        try:\n",
    "            inversion = float(input(\"\\n¿Cuánto quieres invertir? (o presiona X para salir): \"))\n",
    "            interes_anual = float(input(\"¿Cuál es el interés anual? (o presiona X para salir): \"))\n",
    "            años = int(input(\"¿Cuántos años vas a mantener la inversión? (o presiona X para salir): \"))\n",
    "\n",
    "            cantidad_final = calcular_inversion(inversion, interes_anual, años)\n",
    "            intereses = cantidad_final - inversion\n",
    "\n",
    "            print(f\"\\nEn {años} años habrás recibido {intereses:.2f}€ de interés. ¿Qué quieres hacer ahora?\")\n",
    "            continue  # Volver al inicio del bucle\n",
    "\n",
    "        except ValueError:\n",
    "            print(\"Error: Introduce valores numéricos válidos o presiona X para salir.\")\n",
    "\n",
    "if __name__ == \"__main__\":\n",
    "    main()\n"
   ]
  }
 ],
 "metadata": {
  "language_info": {
   "name": "python"
  }
 },
 "nbformat": 4,
 "nbformat_minor": 2
}
