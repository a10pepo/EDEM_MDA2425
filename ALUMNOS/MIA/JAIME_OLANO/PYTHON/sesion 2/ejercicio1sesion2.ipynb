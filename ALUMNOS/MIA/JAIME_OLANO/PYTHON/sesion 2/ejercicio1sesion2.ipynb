{
 "cells": [
  {
   "cell_type": "markdown",
   "metadata": {},
   "source": [
    "Sesión 2\n",
    "Ejercicio\n",
    "Crea una aplicación de consola que calcule los resultados de una inversión. Debe\n",
    "Pedir por consola una cantidad (numérica) de Inversión\n",
    "Pedir el % de interés anual\n",
    "Pedir el número de años que se va a mantener la inversión\n",
    "Finalmente, calcular la cantidad generada en los años especificados por el usuario"
   ]
  },
  {
   "cell_type": "code",
   "execution_count": null,
   "metadata": {},
   "outputs": [],
   "source": [
    "def calcular_inversion(inversion, interes_anual, años):\n",
    "    return inversion * (1 + interes_anual / 100) ** años\n",
    "\n",
    "def main():\n",
    "    print(\"Hola. Bienvenido al sistema de cálculo de inversiones.\")\n",
    "    \n",
    "    try:\n",
    "        inversion = float(input(\"¿Cuánto quieres invertir? \"))\n",
    "        interes_anual = float(input(\"¿Cuál es el interés anual? \"))\n",
    "        años = int(input(\"¿Cuántos años vas a mantener la inversión? \"))\n",
    "\n",
    "        cantidad_final = calcular_inversion(inversion, interes_anual, años)\n",
    "        intereses = cantidad_final - inversion\n",
    "\n",
    "        print(f\"En {años} años habrás recibido {intereses:.2f}€ de interés.\")\n",
    "    \n",
    "    except ValueError:\n",
    "        print(\"Error: Por favor, introduce valores numéricos válidos.\")\n",
    "\n",
    "if __name__ == \"__main__\":\n",
    "    main()\n"
   ]
  }
 ],
 "metadata": {
  "language_info": {
   "name": "python"
  }
 },
 "nbformat": 4,
 "nbformat_minor": 2
}
