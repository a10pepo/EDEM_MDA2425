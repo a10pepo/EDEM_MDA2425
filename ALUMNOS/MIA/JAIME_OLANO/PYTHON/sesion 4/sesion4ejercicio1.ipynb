{
 "cells": [
  {
   "cell_type": "markdown",
   "metadata": {},
   "source": [
    "Sesión 4\n",
    "Ejercicio 1\n",
    "A partir de las respuestas a los dos últimos ejercicios de la Sesión 3:\n",
    "Crea una función que reciba un rango de números como parámetro y muestre por consola únicamente los valores primos\n",
    "Crea una función que pueda evaluar si un número (pasado por parámetro) es primo o no\n",
    "Crea una función que reciba un año y pueda indicarte con True o False si es un año bisiesto o no."
   ]
  },
  {
   "cell_type": "code",
   "execution_count": null,
   "metadata": {},
   "outputs": [],
   "source": [
    "def es_primo(n):\n",
    "    \"\"\"Devuelve True si el número es primo, False en caso contrario.\"\"\"\n",
    "    if n < 2:\n",
    "        return False\n",
    "    for i in range(2, int(n ** 0.5) + 1):\n",
    "        if n % i == 0:\n",
    "            return False\n",
    "    return True\n",
    "\n",
    "def mostrar_primos_en_rango(inicio, fin):\n",
    "    \"\"\"Muestra todos los números primos dentro de un rango dado.\"\"\"\n",
    "    primos = [n for n in range(inicio, fin + 1) if es_primo(n)]\n",
    "    print(f\"Números primos entre {inicio} y {fin}: {primos}\")\n",
    "\n",
    "def es_bisiesto(año):\n",
    "    \"\"\"Devuelve True si el año es bisiesto, False en caso contrario.\"\"\"\n",
    "    return (año % 4 == 0 and año % 100 != 0) or (año % 400 == 0)\n",
    "\n",
    "# Pruebas de las funciones\n",
    "if __name__ == \"__main__\":\n",
    "    # Prueba de números primos\n",
    "    print(\"¿Es 17 primo?\", es_primo(17))  # True\n",
    "    print(\"¿Es 18 primo?\", es_primo(18))  # False\n",
    "    mostrar_primos_en_rango(10, 50)\n",
    "\n",
    "    # Prueba de años bisiestos\n",
    "    print(\"¿Es 2024 bisiesto?\", es_bisiesto(2024))  # True\n",
    "    print(\"¿Es 2025 bisiesto?\", es_bisiesto(2025))  # False"
   ]
  }
 ],
 "metadata": {
  "language_info": {
   "name": "python"
  }
 },
 "nbformat": 4,
 "nbformat_minor": 2
}
