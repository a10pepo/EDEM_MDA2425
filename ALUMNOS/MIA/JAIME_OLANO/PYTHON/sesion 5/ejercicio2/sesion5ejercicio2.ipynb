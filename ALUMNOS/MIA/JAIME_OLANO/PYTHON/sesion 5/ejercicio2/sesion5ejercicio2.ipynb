{
 "cells": [
  {
   "cell_type": "markdown",
   "metadata": {},
   "source": [
    "Ejercicio 2\n",
    "Crea una clase Automóvil que disponga de los atributos necesarios y métodos para:\n",
    "Arrancar\n",
    "Acelerar\n",
    "Frenar\n",
    "Parar"
   ]
  },
  {
   "cell_type": "code",
   "execution_count": 1,
   "metadata": {},
   "outputs": [
    {
     "name": "stdout",
     "output_type": "stream",
     "text": [
      "El Toyota Corolla ha arrancado.\n",
      "El automóvil ha acelerado a 30 km/h.\n",
      "El automóvil ha frenado a 20 km/h.\n",
      "El Toyota Corolla se ha detenido.\n"
     ]
    }
   ],
   "source": [
    "class Automovil:\n",
    "    def __init__(self, marca, modelo):\n",
    "        self.marca = marca\n",
    "        self.modelo = modelo\n",
    "        self.velocidad = 0\n",
    "        self.encendido = False\n",
    "\n",
    "    def arrancar(self):\n",
    "        if not self.encendido:\n",
    "            self.encendido = True\n",
    "            print(f\"El {self.marca} {self.modelo} ha arrancado.\")\n",
    "        else:\n",
    "            print(\"El automóvil ya está en marcha.\")\n",
    "\n",
    "    def acelerar(self, incremento):\n",
    "        if self.encendido:\n",
    "            self.velocidad += incremento\n",
    "            print(f\"El automóvil ha acelerado a {self.velocidad} km/h.\")\n",
    "        else:\n",
    "            print(\"No puedes acelerar. El automóvil está apagado.\")\n",
    "\n",
    "    def frenar(self, decremento):\n",
    "        if self.encendido and self.velocidad > 0:\n",
    "            self.velocidad = max(0, self.velocidad - decremento)\n",
    "            print(f\"El automóvil ha frenado a {self.velocidad} km/h.\")\n",
    "        else:\n",
    "            print(\"El automóvil ya está detenido o apagado.\")\n",
    "\n",
    "    def parar(self):\n",
    "        if self.encendido:\n",
    "            self.velocidad = 0\n",
    "            self.encendido = False\n",
    "            print(f\"El {self.marca} {self.modelo} se ha detenido.\")\n",
    "        else:\n",
    "            print(\"El automóvil ya estaba apagado.\")\n",
    "\n",
    "# Ejemplo de uso\n",
    "auto = Automovil(\"Toyota\", \"Corolla\")\n",
    "auto.arrancar()\n",
    "auto.acelerar(30)\n",
    "auto.frenar(10)\n",
    "auto.parar()\n"
   ]
  }
 ],
 "metadata": {
  "kernelspec": {
   "display_name": "Python 3",
   "language": "python",
   "name": "python3"
  },
  "language_info": {
   "codemirror_mode": {
    "name": "ipython",
    "version": 3
   },
   "file_extension": ".py",
   "mimetype": "text/x-python",
   "name": "python",
   "nbconvert_exporter": "python",
   "pygments_lexer": "ipython3",
   "version": "3.12.7"
  }
 },
 "nbformat": 4,
 "nbformat_minor": 2
}
