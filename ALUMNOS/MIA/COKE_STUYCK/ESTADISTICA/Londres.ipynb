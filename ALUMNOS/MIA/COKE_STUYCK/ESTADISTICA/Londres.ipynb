{
 "cells": [
  {
   "cell_type": "markdown",
   "metadata": {
    "id": "ZkxWo-qo6xv6"
   },
   "source": [
    "# 🏠 Análisis de datos inmobiliarios\n",
    "\n",
    "Por Coke y Alejandro\n",
    "\n",
    "Este cuaderno analiza un conjunto de datos inmobiliarios, explora estadísticas univariables y bivariables, realiza pruebas de normalidad, estima parámetros de población y realiza estadísticas inferenciales, incluidas pruebas de hipótesis y ANOVA.\n",
    "\n",
    "Dataset: [Datos inmobiliarios de Londres 2024](https://www.kaggle.com/datasets/kanchana1990/real-estate-data-london-2024).\n",
    "\n",
    "Fuente: [Kaggle](https://www.kaggle.com/).\n",
    "\n",
    "Origen de los datos: [Rightmove](https://www.rightmove.co.uk/), Noviembre de 2024."
   ]
  },
  {
   "cell_type": "markdown",
   "metadata": {
    "id": "4vTGJQ-g6-yk"
   },
   "source": [
    "### 🗂️ **Dependencias**"
   ]
  },
  {
   "cell_type": "code",
   "execution_count": 2,
   "metadata": {
    "collapsed": true,
    "id": "JXqBtGdjyq65"
   },
   "outputs": [],
   "source": [
    "import pandas as pd\n",
    "import seaborn as sns\n",
    "import numpy as np\n",
    "import re\n",
    "\n",
    "import matplotlib as plt\n",
    "from plotly.subplots import make_subplots\n",
    "import plotly.express as px\n",
    "import plotly.graph_objects as go\n",
    "from wordcloud import WordCloud\n",
    "from collections import Counter\n",
    "\n",
    "import scipy\n",
    "import scipy.stats as st\n",
    "from scipy import stats\n",
    "import scipy.stats as stats\n",
    "from scipy.stats import skew\n",
    "import nbformat"
   ]
  },
  {
   "cell_type": "markdown",
   "metadata": {
    "id": "IDm4FWXW8BXd"
   },
   "source": [
    "## ⚙️ **Configuración Inicial**\n",
    "\n",
    "* Carga previa de data.csv en la raíz de Archivos.\n",
    "* Exploración inicial\n",
    "* Limpieza del dataset\n",
    "* Generación de subconjunto\n",
    "* Inspección de outliers\n"
   ]
  },
  {
   "cell_type": "markdown",
   "metadata": {
    "id": "5ZeuMvwO8HrQ"
   },
   "source": [
    "### 📥 Importación de Datos"
   ]
  },
  {
   "cell_type": "markdown",
   "metadata": {
    "id": "IC40UV8CMp8u"
   },
   "source": [
    "Importación con Pandas y asignación a la variable **data**."
   ]
  },
  {
   "cell_type": "code",
   "execution_count": 3,
   "metadata": {
    "colab": {
     "base_uri": "https://localhost:8080/",
     "height": 311
    },
    "id": "ioVdu6eO9cPv",
    "outputId": "d5a91f8b-d38f-4e0d-d132-30a14a620500"
   },
   "outputs": [],
   "source": [
    "data = pd.read_csv(\"data/data.csv\")"
   ]
  },
  {
   "cell_type": "markdown",
   "metadata": {
    "id": "NRZgbHLM8Tet"
   },
   "source": [
    "### 🔍 Exploración Inicial\n",
    "\n",
    "* Vista previa\n",
    "* Informe Y Data\n",
    "* Informe Sweetviz"
   ]
  },
  {
   "cell_type": "markdown",
   "metadata": {
    "id": "YknAomtENlJW"
   },
   "source": [
    "Iofrmación y muestra de cabecera del dataset para obtener una idea aproximada de los datos disponibles."
   ]
  },
  {
   "cell_type": "code",
   "execution_count": 4,
   "metadata": {
    "colab": {
     "base_uri": "https://localhost:8080/"
    },
    "id": "91RJAxWaMfPM",
    "outputId": "7c12780e-881d-46e9-a543-7b5d8c855108"
   },
   "outputs": [
    {
     "data": {
      "text/html": [
       "<div>\n",
       "<style scoped>\n",
       "    .dataframe tbody tr th:only-of-type {\n",
       "        vertical-align: middle;\n",
       "    }\n",
       "\n",
       "    .dataframe tbody tr th {\n",
       "        vertical-align: top;\n",
       "    }\n",
       "\n",
       "    .dataframe thead th {\n",
       "        text-align: right;\n",
       "    }\n",
       "</style>\n",
       "<table border=\"1\" class=\"dataframe\">\n",
       "  <thead>\n",
       "    <tr style=\"text-align: right;\">\n",
       "      <th></th>\n",
       "      <th>sizeSqFeetMax</th>\n",
       "      <th>bedrooms</th>\n",
       "      <th>bathrooms</th>\n",
       "    </tr>\n",
       "  </thead>\n",
       "  <tbody>\n",
       "    <tr>\n",
       "      <th>count</th>\n",
       "      <td>869.000000</td>\n",
       "      <td>1003.000000</td>\n",
       "      <td>984.000000</td>\n",
       "    </tr>\n",
       "    <tr>\n",
       "      <th>mean</th>\n",
       "      <td>5232.871116</td>\n",
       "      <td>5.111665</td>\n",
       "      <td>4.648374</td>\n",
       "    </tr>\n",
       "    <tr>\n",
       "      <th>std</th>\n",
       "      <td>11796.770144</td>\n",
       "      <td>3.264992</td>\n",
       "      <td>3.085809</td>\n",
       "    </tr>\n",
       "    <tr>\n",
       "      <th>min</th>\n",
       "      <td>425.000000</td>\n",
       "      <td>1.000000</td>\n",
       "      <td>1.000000</td>\n",
       "    </tr>\n",
       "    <tr>\n",
       "      <th>25%</th>\n",
       "      <td>2885.000000</td>\n",
       "      <td>3.000000</td>\n",
       "      <td>3.000000</td>\n",
       "    </tr>\n",
       "    <tr>\n",
       "      <th>50%</th>\n",
       "      <td>3834.000000</td>\n",
       "      <td>5.000000</td>\n",
       "      <td>4.000000</td>\n",
       "    </tr>\n",
       "    <tr>\n",
       "      <th>75%</th>\n",
       "      <td>5745.000000</td>\n",
       "      <td>6.000000</td>\n",
       "      <td>5.000000</td>\n",
       "    </tr>\n",
       "    <tr>\n",
       "      <th>max</th>\n",
       "      <td>336989.000000</td>\n",
       "      <td>66.000000</td>\n",
       "      <td>66.000000</td>\n",
       "    </tr>\n",
       "  </tbody>\n",
       "</table>\n",
       "</div>"
      ],
      "text/plain": [
       "       sizeSqFeetMax     bedrooms   bathrooms\n",
       "count     869.000000  1003.000000  984.000000\n",
       "mean     5232.871116     5.111665    4.648374\n",
       "std     11796.770144     3.264992    3.085809\n",
       "min       425.000000     1.000000    1.000000\n",
       "25%      2885.000000     3.000000    3.000000\n",
       "50%      3834.000000     5.000000    4.000000\n",
       "75%      5745.000000     6.000000    5.000000\n",
       "max    336989.000000    66.000000   66.000000"
      ]
     },
     "execution_count": 4,
     "metadata": {},
     "output_type": "execute_result"
    }
   ],
   "source": [
    "data.describe()"
   ]
  },
  {
   "cell_type": "code",
   "execution_count": 5,
   "metadata": {
    "colab": {
     "base_uri": "https://localhost:8080/"
    },
    "collapsed": true,
    "id": "OOn6vmB78jFw",
    "outputId": "7308cd71-f5a3-4d6a-8a5f-6b8d403f34a8"
   },
   "outputs": [
    {
     "data": {
      "text/html": [
       "<div>\n",
       "<style scoped>\n",
       "    .dataframe tbody tr th:only-of-type {\n",
       "        vertical-align: middle;\n",
       "    }\n",
       "\n",
       "    .dataframe tbody tr th {\n",
       "        vertical-align: top;\n",
       "    }\n",
       "\n",
       "    .dataframe thead th {\n",
       "        text-align: right;\n",
       "    }\n",
       "</style>\n",
       "<table border=\"1\" class=\"dataframe\">\n",
       "  <thead>\n",
       "    <tr style=\"text-align: right;\">\n",
       "      <th></th>\n",
       "      <th>addedOn</th>\n",
       "      <th>title</th>\n",
       "      <th>descriptionHtml</th>\n",
       "      <th>propertyType</th>\n",
       "      <th>sizeSqFeetMax</th>\n",
       "      <th>bedrooms</th>\n",
       "      <th>bathrooms</th>\n",
       "      <th>listingUpdateReason</th>\n",
       "      <th>price</th>\n",
       "    </tr>\n",
       "  </thead>\n",
       "  <tbody>\n",
       "    <tr>\n",
       "      <th>0</th>\n",
       "      <td>10/10/2024</td>\n",
       "      <td>8 bedroom house for sale in Winnington Road, H...</td>\n",
       "      <td>This magnificent home, set behind security gat...</td>\n",
       "      <td>House</td>\n",
       "      <td>16749.0</td>\n",
       "      <td>8.0</td>\n",
       "      <td>8.0</td>\n",
       "      <td>new</td>\n",
       "      <td>£24,950,000</td>\n",
       "    </tr>\n",
       "    <tr>\n",
       "      <th>1</th>\n",
       "      <td>Reduced on 24/10/2024</td>\n",
       "      <td>7 bedroom house for sale in Brick Street, Mayf...</td>\n",
       "      <td>In the heart of exclusive Mayfair, this majest...</td>\n",
       "      <td>House</td>\n",
       "      <td>12960.0</td>\n",
       "      <td>7.0</td>\n",
       "      <td>7.0</td>\n",
       "      <td>price_reduced</td>\n",
       "      <td>£29,500,000</td>\n",
       "    </tr>\n",
       "    <tr>\n",
       "      <th>2</th>\n",
       "      <td>Reduced on 22/02/2024</td>\n",
       "      <td>6 bedroom terraced house for sale in Chester S...</td>\n",
       "      <td>A freehold home that gives you everything you ...</td>\n",
       "      <td>Terraced</td>\n",
       "      <td>6952.0</td>\n",
       "      <td>6.0</td>\n",
       "      <td>6.0</td>\n",
       "      <td>price_reduced</td>\n",
       "      <td>£25,000,000</td>\n",
       "    </tr>\n",
       "    <tr>\n",
       "      <th>3</th>\n",
       "      <td>08/04/2024</td>\n",
       "      <td>6 bedroom detached house for sale in Winningto...</td>\n",
       "      <td>A magnificent bespoke residence set behind sec...</td>\n",
       "      <td>Detached</td>\n",
       "      <td>16749.0</td>\n",
       "      <td>6.0</td>\n",
       "      <td>6.0</td>\n",
       "      <td>new</td>\n",
       "      <td>£24,950,000</td>\n",
       "    </tr>\n",
       "    <tr>\n",
       "      <th>4</th>\n",
       "      <td>Reduced on 11/07/2023</td>\n",
       "      <td>8 bedroom detached house for sale in St. John'...</td>\n",
       "      <td>With its village like ambiance, elegant regenc...</td>\n",
       "      <td>Detached</td>\n",
       "      <td>10241.0</td>\n",
       "      <td>8.0</td>\n",
       "      <td>10.0</td>\n",
       "      <td>price_reduced</td>\n",
       "      <td>£24,950,000</td>\n",
       "    </tr>\n",
       "  </tbody>\n",
       "</table>\n",
       "</div>"
      ],
      "text/plain": [
       "                 addedOn                                              title  \\\n",
       "0             10/10/2024  8 bedroom house for sale in Winnington Road, H...   \n",
       "1  Reduced on 24/10/2024  7 bedroom house for sale in Brick Street, Mayf...   \n",
       "2  Reduced on 22/02/2024  6 bedroom terraced house for sale in Chester S...   \n",
       "3             08/04/2024  6 bedroom detached house for sale in Winningto...   \n",
       "4  Reduced on 11/07/2023  8 bedroom detached house for sale in St. John'...   \n",
       "\n",
       "                                     descriptionHtml propertyType  \\\n",
       "0  This magnificent home, set behind security gat...        House   \n",
       "1  In the heart of exclusive Mayfair, this majest...        House   \n",
       "2  A freehold home that gives you everything you ...     Terraced   \n",
       "3  A magnificent bespoke residence set behind sec...     Detached   \n",
       "4  With its village like ambiance, elegant regenc...     Detached   \n",
       "\n",
       "   sizeSqFeetMax  bedrooms  bathrooms listingUpdateReason        price  \n",
       "0        16749.0       8.0        8.0                 new  £24,950,000  \n",
       "1        12960.0       7.0        7.0       price_reduced  £29,500,000  \n",
       "2         6952.0       6.0        6.0       price_reduced  £25,000,000  \n",
       "3        16749.0       6.0        6.0                 new  £24,950,000  \n",
       "4        10241.0       8.0       10.0       price_reduced  £24,950,000  "
      ]
     },
     "execution_count": 5,
     "metadata": {},
     "output_type": "execute_result"
    }
   ],
   "source": [
    "data.head()"
   ]
  },
  {
   "cell_type": "markdown",
   "metadata": {
    "id": "fl1NFTAi8mWl"
   },
   "source": [
    "### ✨ Limpieza del dataset\n",
    "\n",
    "* Entradas `NaN` y duplicadas descartadas (2.3%)\n",
    "* Columnas innecesarias descartadas (3)\n",
    "* Columna `title` reformateada a `ZIP`\n",
    "* Formateo columna `price`\n",
    "* Creación de columna `pricePerSqFoot`"
   ]
  },
  {
   "cell_type": "markdown",
   "metadata": {
    "id": "xPLvy3aga7Sd"
   },
   "source": [
    "#### ⛔️ Entradas NaN y duplicadas"
   ]
  },
  {
   "cell_type": "markdown",
   "metadata": {
    "id": "2xkBPYAuPXru"
   },
   "source": [
    "Se descartan las filas que contengan algún valor NaN y las duplicadas ya que no representan un porcentaje significativo de la muestra.\n",
    "\n",
    "* 20 entradas de 869\n",
    "* 2.3%"
   ]
  },
  {
   "cell_type": "code",
   "execution_count": 6,
   "metadata": {
    "id": "RJU886WWCvU2"
   },
   "outputs": [],
   "source": [
    "data=data.dropna()\n",
    "data=data.drop_duplicates().reset_index(drop=True)"
   ]
  },
  {
   "cell_type": "code",
   "execution_count": 7,
   "metadata": {
    "colab": {
     "base_uri": "https://localhost:8080/"
    },
    "id": "4u2bVEI0S-4B",
    "outputId": "f277a39d-bc81-471b-8b53-1b5249198d31"
   },
   "outputs": [
    {
     "data": {
      "text/html": [
       "<div>\n",
       "<style scoped>\n",
       "    .dataframe tbody tr th:only-of-type {\n",
       "        vertical-align: middle;\n",
       "    }\n",
       "\n",
       "    .dataframe tbody tr th {\n",
       "        vertical-align: top;\n",
       "    }\n",
       "\n",
       "    .dataframe thead th {\n",
       "        text-align: right;\n",
       "    }\n",
       "</style>\n",
       "<table border=\"1\" class=\"dataframe\">\n",
       "  <thead>\n",
       "    <tr style=\"text-align: right;\">\n",
       "      <th></th>\n",
       "      <th>addedOn</th>\n",
       "      <th>title</th>\n",
       "      <th>descriptionHtml</th>\n",
       "      <th>propertyType</th>\n",
       "      <th>sizeSqFeetMax</th>\n",
       "      <th>bedrooms</th>\n",
       "      <th>bathrooms</th>\n",
       "      <th>listingUpdateReason</th>\n",
       "      <th>price</th>\n",
       "    </tr>\n",
       "  </thead>\n",
       "  <tbody>\n",
       "    <tr>\n",
       "      <th>0</th>\n",
       "      <td>10/10/2024</td>\n",
       "      <td>8 bedroom house for sale in Winnington Road, H...</td>\n",
       "      <td>This magnificent home, set behind security gat...</td>\n",
       "      <td>House</td>\n",
       "      <td>16749.0</td>\n",
       "      <td>8.0</td>\n",
       "      <td>8.0</td>\n",
       "      <td>new</td>\n",
       "      <td>£24,950,000</td>\n",
       "    </tr>\n",
       "    <tr>\n",
       "      <th>1</th>\n",
       "      <td>Reduced on 24/10/2024</td>\n",
       "      <td>7 bedroom house for sale in Brick Street, Mayf...</td>\n",
       "      <td>In the heart of exclusive Mayfair, this majest...</td>\n",
       "      <td>House</td>\n",
       "      <td>12960.0</td>\n",
       "      <td>7.0</td>\n",
       "      <td>7.0</td>\n",
       "      <td>price_reduced</td>\n",
       "      <td>£29,500,000</td>\n",
       "    </tr>\n",
       "    <tr>\n",
       "      <th>2</th>\n",
       "      <td>Reduced on 22/02/2024</td>\n",
       "      <td>6 bedroom terraced house for sale in Chester S...</td>\n",
       "      <td>A freehold home that gives you everything you ...</td>\n",
       "      <td>Terraced</td>\n",
       "      <td>6952.0</td>\n",
       "      <td>6.0</td>\n",
       "      <td>6.0</td>\n",
       "      <td>price_reduced</td>\n",
       "      <td>£25,000,000</td>\n",
       "    </tr>\n",
       "    <tr>\n",
       "      <th>3</th>\n",
       "      <td>08/04/2024</td>\n",
       "      <td>6 bedroom detached house for sale in Winningto...</td>\n",
       "      <td>A magnificent bespoke residence set behind sec...</td>\n",
       "      <td>Detached</td>\n",
       "      <td>16749.0</td>\n",
       "      <td>6.0</td>\n",
       "      <td>6.0</td>\n",
       "      <td>new</td>\n",
       "      <td>£24,950,000</td>\n",
       "    </tr>\n",
       "    <tr>\n",
       "      <th>4</th>\n",
       "      <td>Reduced on 11/07/2023</td>\n",
       "      <td>8 bedroom detached house for sale in St. John'...</td>\n",
       "      <td>With its village like ambiance, elegant regenc...</td>\n",
       "      <td>Detached</td>\n",
       "      <td>10241.0</td>\n",
       "      <td>8.0</td>\n",
       "      <td>10.0</td>\n",
       "      <td>price_reduced</td>\n",
       "      <td>£24,950,000</td>\n",
       "    </tr>\n",
       "    <tr>\n",
       "      <th>...</th>\n",
       "      <td>...</td>\n",
       "      <td>...</td>\n",
       "      <td>...</td>\n",
       "      <td>...</td>\n",
       "      <td>...</td>\n",
       "      <td>...</td>\n",
       "      <td>...</td>\n",
       "      <td>...</td>\n",
       "      <td>...</td>\n",
       "    </tr>\n",
       "    <tr>\n",
       "      <th>844</th>\n",
       "      <td>04/06/2024</td>\n",
       "      <td>7 bedroom semi-detached house for sale in Lyfo...</td>\n",
       "      <td>This spectacular seven bedroom, semi-detached,...</td>\n",
       "      <td>Semi-Detached</td>\n",
       "      <td>7454.0</td>\n",
       "      <td>7.0</td>\n",
       "      <td>4.0</td>\n",
       "      <td>new</td>\n",
       "      <td>£6,500,000</td>\n",
       "    </tr>\n",
       "    <tr>\n",
       "      <th>845</th>\n",
       "      <td>04/06/2024</td>\n",
       "      <td>7 bedroom semi-detached house for sale in Lyfo...</td>\n",
       "      <td>An exquisite seven bedroom house offering luxu...</td>\n",
       "      <td>Semi-Detached</td>\n",
       "      <td>7454.0</td>\n",
       "      <td>7.0</td>\n",
       "      <td>5.0</td>\n",
       "      <td>new</td>\n",
       "      <td>£6,500,000</td>\n",
       "    </tr>\n",
       "    <tr>\n",
       "      <th>846</th>\n",
       "      <td>Added today</td>\n",
       "      <td>3 bedroom apartment for sale in Battersea Powe...</td>\n",
       "      <td>NO STAMP DUTY This stunning penthouse apartmen...</td>\n",
       "      <td>Apartment</td>\n",
       "      <td>2601.0</td>\n",
       "      <td>3.0</td>\n",
       "      <td>4.0</td>\n",
       "      <td>new</td>\n",
       "      <td>£6,500,000</td>\n",
       "    </tr>\n",
       "    <tr>\n",
       "      <th>847</th>\n",
       "      <td>28/08/2024</td>\n",
       "      <td>3 bedroom apartment for sale in Vicarage Gate,...</td>\n",
       "      <td>Welcome to 2 Vicarage Gate House, a sophistica...</td>\n",
       "      <td>Apartment</td>\n",
       "      <td>2508.0</td>\n",
       "      <td>3.0</td>\n",
       "      <td>3.0</td>\n",
       "      <td>new</td>\n",
       "      <td>£6,500,000</td>\n",
       "    </tr>\n",
       "    <tr>\n",
       "      <th>848</th>\n",
       "      <td>Reduced on 27/09/2024</td>\n",
       "      <td>4 bedroom property for sale in Hans Place, Kni...</td>\n",
       "      <td>Situated in one of London's most prestigious g...</td>\n",
       "      <td>Not Specified</td>\n",
       "      <td>3352.0</td>\n",
       "      <td>4.0</td>\n",
       "      <td>3.0</td>\n",
       "      <td>price_reduced</td>\n",
       "      <td>£6,500,000</td>\n",
       "    </tr>\n",
       "  </tbody>\n",
       "</table>\n",
       "<p>849 rows × 9 columns</p>\n",
       "</div>"
      ],
      "text/plain": [
       "                   addedOn                                              title  \\\n",
       "0               10/10/2024  8 bedroom house for sale in Winnington Road, H...   \n",
       "1    Reduced on 24/10/2024  7 bedroom house for sale in Brick Street, Mayf...   \n",
       "2    Reduced on 22/02/2024  6 bedroom terraced house for sale in Chester S...   \n",
       "3               08/04/2024  6 bedroom detached house for sale in Winningto...   \n",
       "4    Reduced on 11/07/2023  8 bedroom detached house for sale in St. John'...   \n",
       "..                     ...                                                ...   \n",
       "844             04/06/2024  7 bedroom semi-detached house for sale in Lyfo...   \n",
       "845             04/06/2024  7 bedroom semi-detached house for sale in Lyfo...   \n",
       "846            Added today  3 bedroom apartment for sale in Battersea Powe...   \n",
       "847             28/08/2024  3 bedroom apartment for sale in Vicarage Gate,...   \n",
       "848  Reduced on 27/09/2024  4 bedroom property for sale in Hans Place, Kni...   \n",
       "\n",
       "                                       descriptionHtml   propertyType  \\\n",
       "0    This magnificent home, set behind security gat...          House   \n",
       "1    In the heart of exclusive Mayfair, this majest...          House   \n",
       "2    A freehold home that gives you everything you ...       Terraced   \n",
       "3    A magnificent bespoke residence set behind sec...       Detached   \n",
       "4    With its village like ambiance, elegant regenc...       Detached   \n",
       "..                                                 ...            ...   \n",
       "844  This spectacular seven bedroom, semi-detached,...  Semi-Detached   \n",
       "845  An exquisite seven bedroom house offering luxu...  Semi-Detached   \n",
       "846  NO STAMP DUTY This stunning penthouse apartmen...      Apartment   \n",
       "847  Welcome to 2 Vicarage Gate House, a sophistica...      Apartment   \n",
       "848  Situated in one of London's most prestigious g...  Not Specified   \n",
       "\n",
       "     sizeSqFeetMax  bedrooms  bathrooms listingUpdateReason        price  \n",
       "0          16749.0       8.0        8.0                 new  £24,950,000  \n",
       "1          12960.0       7.0        7.0       price_reduced  £29,500,000  \n",
       "2           6952.0       6.0        6.0       price_reduced  £25,000,000  \n",
       "3          16749.0       6.0        6.0                 new  £24,950,000  \n",
       "4          10241.0       8.0       10.0       price_reduced  £24,950,000  \n",
       "..             ...       ...        ...                 ...          ...  \n",
       "844         7454.0       7.0        4.0                 new   £6,500,000  \n",
       "845         7454.0       7.0        5.0                 new   £6,500,000  \n",
       "846         2601.0       3.0        4.0                 new   £6,500,000  \n",
       "847         2508.0       3.0        3.0                 new   £6,500,000  \n",
       "848         3352.0       4.0        3.0       price_reduced   £6,500,000  \n",
       "\n",
       "[849 rows x 9 columns]"
      ]
     },
     "execution_count": 7,
     "metadata": {},
     "output_type": "execute_result"
    }
   ],
   "source": [
    "data"
   ]
  },
  {
   "cell_type": "markdown",
   "metadata": {
    "id": "WRvdHtiubI8T"
   },
   "source": [
    "#### ⛔️ Columnas innecesarias"
   ]
  },
  {
   "cell_type": "markdown",
   "metadata": {
    "id": "JxqzveSIU_43"
   },
   "source": [
    "Se eliminan las columnas innecesarias:\n",
    "\n",
    "\n",
    "*   addedOn: No importa en qué fecha se añadió.\n",
    "*   descriptionHtml: La descripción detallada no aporta información útil para el análisis.\n",
    "*   listingUpdateReason: El motivo por el que está en la lista tampoco interesa en este caso.\n",
    "\n",
    "\n"
   ]
  },
  {
   "cell_type": "code",
   "execution_count": 8,
   "metadata": {
    "id": "gDcKxeCK8oNp"
   },
   "outputs": [],
   "source": [
    "data = data.drop(columns=[\"addedOn\", \"descriptionHtml\", \"listingUpdateReason\"])"
   ]
  },
  {
   "cell_type": "markdown",
   "metadata": {
    "id": "D6kRu7TibOXz"
   },
   "source": [
    "#### 💄 Columna ZIP"
   ]
  },
  {
   "cell_type": "markdown",
   "metadata": {
    "id": "2meUlXeCVxu9"
   },
   "source": [
    "De la columna \"title\" se extrae \"Location\" y a su vez, de \"Location\" obtenemos el \"ZIP\".\n",
    "\n",
    "A continuación se eliminan ambas columnas y conservamos únicamente el \"ZIP\""
   ]
  },
  {
   "cell_type": "code",
   "execution_count": 9,
   "metadata": {
    "id": "kw0r-jH88pdU"
   },
   "outputs": [],
   "source": [
    "data[\"Location\"] = data[\"title\"].str.split(\"in \", n=1).str[1]\n",
    "data[\"ZIP\"] = data[\"Location\"].str.split(\", \").str[-1]"
   ]
  },
  {
   "cell_type": "code",
   "execution_count": 10,
   "metadata": {
    "id": "UF32a9Kg868z"
   },
   "outputs": [],
   "source": [
    "data=data.drop([\"Location\",\"title\"], axis=1)"
   ]
  },
  {
   "cell_type": "markdown",
   "metadata": {
    "id": "yJEUXsgINyr0"
   },
   "source": [
    "#### 💄 Columna price"
   ]
  },
  {
   "cell_type": "markdown",
   "metadata": {
    "id": "zUos40sAWXzg"
   },
   "source": [
    "Formateo de la columna \"price\" para quitar símbolos y convertirla en numérica."
   ]
  },
  {
   "cell_type": "code",
   "execution_count": 11,
   "metadata": {
    "id": "P9jOIVmi821u"
   },
   "outputs": [],
   "source": [
    "data[\"price\"] = pd.to_numeric(data[\"price\"].str.replace('£', '', regex=False).str.replace(',', '', regex=False), errors='coerce')"
   ]
  },
  {
   "cell_type": "markdown",
   "metadata": {
    "id": "e1anUHNHCL1s"
   },
   "source": [
    "Además, reduciremos el precio en mil libras para facilitar la visualización"
   ]
  },
  {
   "cell_type": "code",
   "execution_count": 12,
   "metadata": {
    "id": "7jGqUE3IB161"
   },
   "outputs": [],
   "source": [
    "data[\"price(M)\"] = data[\"price\"] / 1000000\n",
    "data=data.drop(\"price\", axis=1)"
   ]
  },
  {
   "cell_type": "markdown",
   "metadata": {
    "id": "kYLky9tegxy9"
   },
   "source": [
    "#### ✅ Columna pricePerSqFoot"
   ]
  },
  {
   "cell_type": "code",
   "execution_count": 13,
   "metadata": {
    "id": "e03azI7zg6Yt"
   },
   "outputs": [],
   "source": [
    "data[\"pricePerSqFoot(k)\"] = round((data[\"price(M)\"] * 1000) / data[\"sizeSqFeetMax\"], 2)"
   ]
  },
  {
   "cell_type": "markdown",
   "metadata": {
    "id": "ybimeFeVbW5C"
   },
   "source": [
    "#### 👀 Comprobación"
   ]
  },
  {
   "cell_type": "markdown",
   "metadata": {
    "id": "eDG0X4lxW7Hx"
   },
   "source": [
    "Comprobación de la nueva columna \"ZIP\" y del formato de \"price\""
   ]
  },
  {
   "cell_type": "code",
   "execution_count": 14,
   "metadata": {
    "colab": {
     "base_uri": "https://localhost:8080/"
    },
    "id": "cNjTjXx5830_",
    "outputId": "50e1d859-fda4-480b-90f6-22c8a015602b"
   },
   "outputs": [
    {
     "data": {
      "text/html": [
       "<div>\n",
       "<style scoped>\n",
       "    .dataframe tbody tr th:only-of-type {\n",
       "        vertical-align: middle;\n",
       "    }\n",
       "\n",
       "    .dataframe tbody tr th {\n",
       "        vertical-align: top;\n",
       "    }\n",
       "\n",
       "    .dataframe thead th {\n",
       "        text-align: right;\n",
       "    }\n",
       "</style>\n",
       "<table border=\"1\" class=\"dataframe\">\n",
       "  <thead>\n",
       "    <tr style=\"text-align: right;\">\n",
       "      <th></th>\n",
       "      <th>propertyType</th>\n",
       "      <th>sizeSqFeetMax</th>\n",
       "      <th>bedrooms</th>\n",
       "      <th>bathrooms</th>\n",
       "      <th>ZIP</th>\n",
       "      <th>price(M)</th>\n",
       "      <th>pricePerSqFoot(k)</th>\n",
       "    </tr>\n",
       "  </thead>\n",
       "  <tbody>\n",
       "    <tr>\n",
       "      <th>0</th>\n",
       "      <td>House</td>\n",
       "      <td>16749.0</td>\n",
       "      <td>8.0</td>\n",
       "      <td>8.0</td>\n",
       "      <td>N2</td>\n",
       "      <td>24.95</td>\n",
       "      <td>1.49</td>\n",
       "    </tr>\n",
       "    <tr>\n",
       "      <th>1</th>\n",
       "      <td>House</td>\n",
       "      <td>12960.0</td>\n",
       "      <td>7.0</td>\n",
       "      <td>7.0</td>\n",
       "      <td>W1J</td>\n",
       "      <td>29.50</td>\n",
       "      <td>2.28</td>\n",
       "    </tr>\n",
       "    <tr>\n",
       "      <th>2</th>\n",
       "      <td>Terraced</td>\n",
       "      <td>6952.0</td>\n",
       "      <td>6.0</td>\n",
       "      <td>6.0</td>\n",
       "      <td>SW1W</td>\n",
       "      <td>25.00</td>\n",
       "      <td>3.60</td>\n",
       "    </tr>\n",
       "    <tr>\n",
       "      <th>3</th>\n",
       "      <td>Detached</td>\n",
       "      <td>16749.0</td>\n",
       "      <td>6.0</td>\n",
       "      <td>6.0</td>\n",
       "      <td>N2</td>\n",
       "      <td>24.95</td>\n",
       "      <td>1.49</td>\n",
       "    </tr>\n",
       "    <tr>\n",
       "      <th>4</th>\n",
       "      <td>Detached</td>\n",
       "      <td>10241.0</td>\n",
       "      <td>8.0</td>\n",
       "      <td>10.0</td>\n",
       "      <td>NW8</td>\n",
       "      <td>24.95</td>\n",
       "      <td>2.44</td>\n",
       "    </tr>\n",
       "  </tbody>\n",
       "</table>\n",
       "</div>"
      ],
      "text/plain": [
       "  propertyType  sizeSqFeetMax  bedrooms  bathrooms   ZIP  price(M)  \\\n",
       "0        House        16749.0       8.0        8.0    N2     24.95   \n",
       "1        House        12960.0       7.0        7.0   W1J     29.50   \n",
       "2     Terraced         6952.0       6.0        6.0  SW1W     25.00   \n",
       "3     Detached        16749.0       6.0        6.0    N2     24.95   \n",
       "4     Detached        10241.0       8.0       10.0   NW8     24.95   \n",
       "\n",
       "   pricePerSqFoot(k)  \n",
       "0               1.49  \n",
       "1               2.28  \n",
       "2               3.60  \n",
       "3               1.49  \n",
       "4               2.44  "
      ]
     },
     "execution_count": 14,
     "metadata": {},
     "output_type": "execute_result"
    }
   ],
   "source": [
    "data.head()"
   ]
  },
  {
   "cell_type": "code",
   "execution_count": 15,
   "metadata": {
    "colab": {
     "base_uri": "https://localhost:8080/"
    },
    "id": "u0EINEsL85eC",
    "outputId": "64fa7031-28d0-461d-e49b-42124298dc3d"
   },
   "outputs": [
    {
     "data": {
      "text/html": [
       "<div>\n",
       "<style scoped>\n",
       "    .dataframe tbody tr th:only-of-type {\n",
       "        vertical-align: middle;\n",
       "    }\n",
       "\n",
       "    .dataframe tbody tr th {\n",
       "        vertical-align: top;\n",
       "    }\n",
       "\n",
       "    .dataframe thead th {\n",
       "        text-align: right;\n",
       "    }\n",
       "</style>\n",
       "<table border=\"1\" class=\"dataframe\">\n",
       "  <thead>\n",
       "    <tr style=\"text-align: right;\">\n",
       "      <th></th>\n",
       "      <th>sizeSqFeetMax</th>\n",
       "      <th>bedrooms</th>\n",
       "      <th>bathrooms</th>\n",
       "      <th>price(M)</th>\n",
       "      <th>pricePerSqFoot(k)</th>\n",
       "    </tr>\n",
       "  </thead>\n",
       "  <tbody>\n",
       "    <tr>\n",
       "      <th>count</th>\n",
       "      <td>849.000000</td>\n",
       "      <td>849.000000</td>\n",
       "      <td>849.000000</td>\n",
       "      <td>849.000000</td>\n",
       "      <td>849.000000</td>\n",
       "    </tr>\n",
       "    <tr>\n",
       "      <th>mean</th>\n",
       "      <td>5122.775029</td>\n",
       "      <td>4.963486</td>\n",
       "      <td>4.584217</td>\n",
       "      <td>11.333114</td>\n",
       "      <td>2.765630</td>\n",
       "    </tr>\n",
       "    <tr>\n",
       "      <th>std</th>\n",
       "      <td>11850.272127</td>\n",
       "      <td>2.461464</td>\n",
       "      <td>2.277926</td>\n",
       "      <td>6.757395</td>\n",
       "      <td>1.453578</td>\n",
       "    </tr>\n",
       "    <tr>\n",
       "      <th>min</th>\n",
       "      <td>425.000000</td>\n",
       "      <td>1.000000</td>\n",
       "      <td>1.000000</td>\n",
       "      <td>0.475000</td>\n",
       "      <td>0.030000</td>\n",
       "    </tr>\n",
       "    <tr>\n",
       "      <th>25%</th>\n",
       "      <td>2885.000000</td>\n",
       "      <td>3.000000</td>\n",
       "      <td>3.000000</td>\n",
       "      <td>7.500000</td>\n",
       "      <td>1.940000</td>\n",
       "    </tr>\n",
       "    <tr>\n",
       "      <th>50%</th>\n",
       "      <td>3794.000000</td>\n",
       "      <td>5.000000</td>\n",
       "      <td>4.000000</td>\n",
       "      <td>9.250000</td>\n",
       "      <td>2.550000</td>\n",
       "    </tr>\n",
       "    <tr>\n",
       "      <th>75%</th>\n",
       "      <td>5624.000000</td>\n",
       "      <td>6.000000</td>\n",
       "      <td>5.000000</td>\n",
       "      <td>13.000000</td>\n",
       "      <td>3.360000</td>\n",
       "    </tr>\n",
       "    <tr>\n",
       "      <th>max</th>\n",
       "      <td>336989.000000</td>\n",
       "      <td>36.000000</td>\n",
       "      <td>34.000000</td>\n",
       "      <td>80.000000</td>\n",
       "      <td>19.780000</td>\n",
       "    </tr>\n",
       "  </tbody>\n",
       "</table>\n",
       "</div>"
      ],
      "text/plain": [
       "       sizeSqFeetMax    bedrooms   bathrooms    price(M)  pricePerSqFoot(k)\n",
       "count     849.000000  849.000000  849.000000  849.000000         849.000000\n",
       "mean     5122.775029    4.963486    4.584217   11.333114           2.765630\n",
       "std     11850.272127    2.461464    2.277926    6.757395           1.453578\n",
       "min       425.000000    1.000000    1.000000    0.475000           0.030000\n",
       "25%      2885.000000    3.000000    3.000000    7.500000           1.940000\n",
       "50%      3794.000000    5.000000    4.000000    9.250000           2.550000\n",
       "75%      5624.000000    6.000000    5.000000   13.000000           3.360000\n",
       "max    336989.000000   36.000000   34.000000   80.000000          19.780000"
      ]
     },
     "execution_count": 15,
     "metadata": {},
     "output_type": "execute_result"
    }
   ],
   "source": [
    "data.describe()"
   ]
  },
  {
   "cell_type": "markdown",
   "metadata": {
    "id": "2imF5J9ldO62"
   },
   "source": [
    "### 📚 Subconjunto\n",
    "\n",
    "* Creación de columna `propertyGlobalType`\n",
    "* Creación de tipos globales `House` y `Flat`\n",
    "* Creación de subset `subset`\n"
   ]
  },
  {
   "cell_type": "markdown",
   "metadata": {
    "id": "zKQGDyFHdT3n"
   },
   "source": [
    "Con el objetivo de sacar conclusiones sobre los tipos de inmuebles generamos 2 tipos globales agrupando 3 tipos de propiedad cada uno:\n",
    "* House\n",
    "  * House\n",
    "  * Detached\n",
    "  * Terraced\n",
    "* Flat\n",
    "  * Flat\n",
    "  * Apartment\n",
    "  * Penthouse"
   ]
  },
  {
   "cell_type": "code",
   "execution_count": 16,
   "metadata": {
    "id": "bVwgm5IBEzMM"
   },
   "outputs": [],
   "source": [
    "data['propertyGlobalType']= np.where(data['propertyType'].isin(['Apartment', 'Penthouse', 'Flat']), 'Flat',\n",
    "    np.where(data['propertyType'].isin(['House', 'Terraced', 'Detached']),'House',None))"
   ]
  },
  {
   "cell_type": "code",
   "execution_count": 17,
   "metadata": {
    "id": "UmWpf1NJd2pq"
   },
   "outputs": [],
   "source": [
    "subset = data[data['propertyGlobalType'].notna()]\n",
    "subset = subset[[\"ZIP\",\"propertyType\",\"propertyGlobalType\",\"bedrooms\",\"bathrooms\",\"sizeSqFeetMax\",\"pricePerSqFoot(k)\",\"price(M)\"]]"
   ]
  },
  {
   "cell_type": "code",
   "execution_count": 18,
   "metadata": {
    "colab": {
     "base_uri": "https://localhost:8080/",
     "height": 226
    },
    "id": "sqEF57WZFvqT",
    "outputId": "9d1c6bf6-7fdf-463e-8fc3-6bfb98fd3172"
   },
   "outputs": [
    {
     "data": {
      "text/html": [
       "<div>\n",
       "<style scoped>\n",
       "    .dataframe tbody tr th:only-of-type {\n",
       "        vertical-align: middle;\n",
       "    }\n",
       "\n",
       "    .dataframe tbody tr th {\n",
       "        vertical-align: top;\n",
       "    }\n",
       "\n",
       "    .dataframe thead th {\n",
       "        text-align: right;\n",
       "    }\n",
       "</style>\n",
       "<table border=\"1\" class=\"dataframe\">\n",
       "  <thead>\n",
       "    <tr style=\"text-align: right;\">\n",
       "      <th></th>\n",
       "      <th>ZIP</th>\n",
       "      <th>propertyType</th>\n",
       "      <th>propertyGlobalType</th>\n",
       "      <th>bedrooms</th>\n",
       "      <th>bathrooms</th>\n",
       "      <th>sizeSqFeetMax</th>\n",
       "      <th>pricePerSqFoot(k)</th>\n",
       "      <th>price(M)</th>\n",
       "    </tr>\n",
       "  </thead>\n",
       "  <tbody>\n",
       "    <tr>\n",
       "      <th>0</th>\n",
       "      <td>N2</td>\n",
       "      <td>House</td>\n",
       "      <td>House</td>\n",
       "      <td>8.0</td>\n",
       "      <td>8.0</td>\n",
       "      <td>16749.0</td>\n",
       "      <td>1.49</td>\n",
       "      <td>24.95</td>\n",
       "    </tr>\n",
       "    <tr>\n",
       "      <th>1</th>\n",
       "      <td>W1J</td>\n",
       "      <td>House</td>\n",
       "      <td>House</td>\n",
       "      <td>7.0</td>\n",
       "      <td>7.0</td>\n",
       "      <td>12960.0</td>\n",
       "      <td>2.28</td>\n",
       "      <td>29.50</td>\n",
       "    </tr>\n",
       "    <tr>\n",
       "      <th>2</th>\n",
       "      <td>SW1W</td>\n",
       "      <td>Terraced</td>\n",
       "      <td>House</td>\n",
       "      <td>6.0</td>\n",
       "      <td>6.0</td>\n",
       "      <td>6952.0</td>\n",
       "      <td>3.60</td>\n",
       "      <td>25.00</td>\n",
       "    </tr>\n",
       "    <tr>\n",
       "      <th>3</th>\n",
       "      <td>N2</td>\n",
       "      <td>Detached</td>\n",
       "      <td>House</td>\n",
       "      <td>6.0</td>\n",
       "      <td>6.0</td>\n",
       "      <td>16749.0</td>\n",
       "      <td>1.49</td>\n",
       "      <td>24.95</td>\n",
       "    </tr>\n",
       "    <tr>\n",
       "      <th>4</th>\n",
       "      <td>NW8</td>\n",
       "      <td>Detached</td>\n",
       "      <td>House</td>\n",
       "      <td>8.0</td>\n",
       "      <td>10.0</td>\n",
       "      <td>10241.0</td>\n",
       "      <td>2.44</td>\n",
       "      <td>24.95</td>\n",
       "    </tr>\n",
       "  </tbody>\n",
       "</table>\n",
       "</div>"
      ],
      "text/plain": [
       "    ZIP propertyType propertyGlobalType  bedrooms  bathrooms  sizeSqFeetMax  \\\n",
       "0    N2        House              House       8.0        8.0        16749.0   \n",
       "1   W1J        House              House       7.0        7.0        12960.0   \n",
       "2  SW1W     Terraced              House       6.0        6.0         6952.0   \n",
       "3    N2     Detached              House       6.0        6.0        16749.0   \n",
       "4   NW8     Detached              House       8.0       10.0        10241.0   \n",
       "\n",
       "   pricePerSqFoot(k)  price(M)  \n",
       "0               1.49     24.95  \n",
       "1               2.28     29.50  \n",
       "2               3.60     25.00  \n",
       "3               1.49     24.95  \n",
       "4               2.44     24.95  "
      ]
     },
     "execution_count": 18,
     "metadata": {},
     "output_type": "execute_result"
    }
   ],
   "source": [
    "subset.head()"
   ]
  },
  {
   "cell_type": "markdown",
   "metadata": {
    "id": "8CNU_vBXenSn"
   },
   "source": [
    "### 🏴‍☠️ Outliers\n",
    "\n",
    "Por defecto procedemos a descartar outliers que podrían complicar las predicciones:\n",
    "\n",
    "* Top 3 por tamaño, descartados.\n",
    "* Más de 15 baños o habitaciones, descartados."
   ]
  },
  {
   "cell_type": "code",
   "execution_count": 19,
   "metadata": {
    "colab": {
     "base_uri": "https://localhost:8080/"
    },
    "id": "Ycy9pVZgeFrw",
    "outputId": "d63226fa-7c00-4f3a-b088-43217bedf7ba"
   },
   "outputs": [
    {
     "data": {
      "text/html": [
       "<div>\n",
       "<style scoped>\n",
       "    .dataframe tbody tr th:only-of-type {\n",
       "        vertical-align: middle;\n",
       "    }\n",
       "\n",
       "    .dataframe tbody tr th {\n",
       "        vertical-align: top;\n",
       "    }\n",
       "\n",
       "    .dataframe thead th {\n",
       "        text-align: right;\n",
       "    }\n",
       "</style>\n",
       "<table border=\"1\" class=\"dataframe\">\n",
       "  <thead>\n",
       "    <tr style=\"text-align: right;\">\n",
       "      <th></th>\n",
       "      <th>ZIP</th>\n",
       "      <th>propertyType</th>\n",
       "      <th>propertyGlobalType</th>\n",
       "      <th>bedrooms</th>\n",
       "      <th>bathrooms</th>\n",
       "      <th>sizeSqFeetMax</th>\n",
       "      <th>pricePerSqFoot(k)</th>\n",
       "      <th>price(M)</th>\n",
       "    </tr>\n",
       "  </thead>\n",
       "  <tbody>\n",
       "    <tr>\n",
       "      <th>426</th>\n",
       "      <td>SW8</td>\n",
       "      <td>Penthouse</td>\n",
       "      <td>Flat</td>\n",
       "      <td>5.0</td>\n",
       "      <td>4.0</td>\n",
       "      <td>336989.0</td>\n",
       "      <td>0.03</td>\n",
       "      <td>9.60</td>\n",
       "    </tr>\n",
       "    <tr>\n",
       "      <th>813</th>\n",
       "      <td>SW10</td>\n",
       "      <td>Apartment</td>\n",
       "      <td>Flat</td>\n",
       "      <td>4.0</td>\n",
       "      <td>4.0</td>\n",
       "      <td>36909.0</td>\n",
       "      <td>0.18</td>\n",
       "      <td>6.50</td>\n",
       "    </tr>\n",
       "    <tr>\n",
       "      <th>203</th>\n",
       "      <td>N2</td>\n",
       "      <td>Detached</td>\n",
       "      <td>House</td>\n",
       "      <td>8.0</td>\n",
       "      <td>8.0</td>\n",
       "      <td>31376.0</td>\n",
       "      <td>0.40</td>\n",
       "      <td>12.50</td>\n",
       "    </tr>\n",
       "    <tr>\n",
       "      <th>39</th>\n",
       "      <td>W1B</td>\n",
       "      <td>Terraced</td>\n",
       "      <td>House</td>\n",
       "      <td>10.0</td>\n",
       "      <td>10.0</td>\n",
       "      <td>20987.0</td>\n",
       "      <td>3.10</td>\n",
       "      <td>65.00</td>\n",
       "    </tr>\n",
       "    <tr>\n",
       "      <th>24</th>\n",
       "      <td>TW1</td>\n",
       "      <td>Detached</td>\n",
       "      <td>House</td>\n",
       "      <td>9.0</td>\n",
       "      <td>12.0</td>\n",
       "      <td>18837.0</td>\n",
       "      <td>1.59</td>\n",
       "      <td>29.95</td>\n",
       "    </tr>\n",
       "    <tr>\n",
       "      <th>30</th>\n",
       "      <td>N6</td>\n",
       "      <td>Detached</td>\n",
       "      <td>House</td>\n",
       "      <td>10.0</td>\n",
       "      <td>9.0</td>\n",
       "      <td>18238.0</td>\n",
       "      <td>1.75</td>\n",
       "      <td>32.00</td>\n",
       "    </tr>\n",
       "    <tr>\n",
       "      <th>0</th>\n",
       "      <td>N2</td>\n",
       "      <td>House</td>\n",
       "      <td>House</td>\n",
       "      <td>8.0</td>\n",
       "      <td>8.0</td>\n",
       "      <td>16749.0</td>\n",
       "      <td>1.49</td>\n",
       "      <td>24.95</td>\n",
       "    </tr>\n",
       "    <tr>\n",
       "      <th>3</th>\n",
       "      <td>N2</td>\n",
       "      <td>Detached</td>\n",
       "      <td>House</td>\n",
       "      <td>6.0</td>\n",
       "      <td>6.0</td>\n",
       "      <td>16749.0</td>\n",
       "      <td>1.49</td>\n",
       "      <td>24.95</td>\n",
       "    </tr>\n",
       "    <tr>\n",
       "      <th>77</th>\n",
       "      <td>N2</td>\n",
       "      <td>Detached</td>\n",
       "      <td>House</td>\n",
       "      <td>6.0</td>\n",
       "      <td>9.0</td>\n",
       "      <td>16748.0</td>\n",
       "      <td>1.49</td>\n",
       "      <td>24.95</td>\n",
       "    </tr>\n",
       "    <tr>\n",
       "      <th>34</th>\n",
       "      <td>SW1E</td>\n",
       "      <td>Terraced</td>\n",
       "      <td>House</td>\n",
       "      <td>9.0</td>\n",
       "      <td>9.0</td>\n",
       "      <td>15845.0</td>\n",
       "      <td>2.84</td>\n",
       "      <td>45.00</td>\n",
       "    </tr>\n",
       "  </tbody>\n",
       "</table>\n",
       "</div>"
      ],
      "text/plain": [
       "      ZIP propertyType propertyGlobalType  bedrooms  bathrooms  sizeSqFeetMax  \\\n",
       "426   SW8    Penthouse               Flat       5.0        4.0       336989.0   \n",
       "813  SW10    Apartment               Flat       4.0        4.0        36909.0   \n",
       "203    N2     Detached              House       8.0        8.0        31376.0   \n",
       "39    W1B     Terraced              House      10.0       10.0        20987.0   \n",
       "24    TW1     Detached              House       9.0       12.0        18837.0   \n",
       "30     N6     Detached              House      10.0        9.0        18238.0   \n",
       "0      N2        House              House       8.0        8.0        16749.0   \n",
       "3      N2     Detached              House       6.0        6.0        16749.0   \n",
       "77     N2     Detached              House       6.0        9.0        16748.0   \n",
       "34   SW1E     Terraced              House       9.0        9.0        15845.0   \n",
       "\n",
       "     pricePerSqFoot(k)  price(M)  \n",
       "426               0.03      9.60  \n",
       "813               0.18      6.50  \n",
       "203               0.40     12.50  \n",
       "39                3.10     65.00  \n",
       "24                1.59     29.95  \n",
       "30                1.75     32.00  \n",
       "0                 1.49     24.95  \n",
       "3                 1.49     24.95  \n",
       "77                1.49     24.95  \n",
       "34                2.84     45.00  "
      ]
     },
     "execution_count": 19,
     "metadata": {},
     "output_type": "execute_result"
    }
   ],
   "source": [
    "subset_by_sizeSqFeetMax = subset.sort_values(by='sizeSqFeetMax', ascending=False)\n",
    "subset_by_sizeSqFeetMax.head(10)"
   ]
  },
  {
   "cell_type": "markdown",
   "metadata": {
    "id": "MGz8e6jJDfvD"
   },
   "source": [
    "Descartamos las tres primeras propiedades con más tamaño."
   ]
  },
  {
   "cell_type": "code",
   "execution_count": 20,
   "metadata": {
    "id": "N9WkgO7UewWO"
   },
   "outputs": [],
   "source": [
    "subset = subset.drop(index=[426, 813, 203])"
   ]
  },
  {
   "cell_type": "code",
   "execution_count": 21,
   "metadata": {
    "colab": {
     "base_uri": "https://localhost:8080/"
    },
    "id": "0Q8UVh8YfCgC",
    "outputId": "8d8e0678-70e5-45fc-fe94-7f5da96618d6"
   },
   "outputs": [
    {
     "data": {
      "text/html": [
       "<div>\n",
       "<style scoped>\n",
       "    .dataframe tbody tr th:only-of-type {\n",
       "        vertical-align: middle;\n",
       "    }\n",
       "\n",
       "    .dataframe tbody tr th {\n",
       "        vertical-align: top;\n",
       "    }\n",
       "\n",
       "    .dataframe thead th {\n",
       "        text-align: right;\n",
       "    }\n",
       "</style>\n",
       "<table border=\"1\" class=\"dataframe\">\n",
       "  <thead>\n",
       "    <tr style=\"text-align: right;\">\n",
       "      <th></th>\n",
       "      <th>ZIP</th>\n",
       "      <th>propertyType</th>\n",
       "      <th>propertyGlobalType</th>\n",
       "      <th>bedrooms</th>\n",
       "      <th>bathrooms</th>\n",
       "      <th>sizeSqFeetMax</th>\n",
       "      <th>pricePerSqFoot(k)</th>\n",
       "      <th>price(M)</th>\n",
       "    </tr>\n",
       "  </thead>\n",
       "  <tbody>\n",
       "    <tr>\n",
       "      <th>808</th>\n",
       "      <td>N5</td>\n",
       "      <td>Apartment</td>\n",
       "      <td>Flat</td>\n",
       "      <td>1.0</td>\n",
       "      <td>1.0</td>\n",
       "      <td>425.0</td>\n",
       "      <td>1.29</td>\n",
       "      <td>0.550</td>\n",
       "    </tr>\n",
       "    <tr>\n",
       "      <th>428</th>\n",
       "      <td>SW8</td>\n",
       "      <td>Penthouse</td>\n",
       "      <td>Flat</td>\n",
       "      <td>5.0</td>\n",
       "      <td>4.0</td>\n",
       "      <td>593.0</td>\n",
       "      <td>16.19</td>\n",
       "      <td>9.600</td>\n",
       "    </tr>\n",
       "    <tr>\n",
       "      <th>602</th>\n",
       "      <td>NW6</td>\n",
       "      <td>Apartment</td>\n",
       "      <td>Flat</td>\n",
       "      <td>2.0</td>\n",
       "      <td>1.0</td>\n",
       "      <td>642.0</td>\n",
       "      <td>1.17</td>\n",
       "      <td>0.750</td>\n",
       "    </tr>\n",
       "    <tr>\n",
       "      <th>592</th>\n",
       "      <td>W2</td>\n",
       "      <td>Apartment</td>\n",
       "      <td>Flat</td>\n",
       "      <td>1.0</td>\n",
       "      <td>1.0</td>\n",
       "      <td>696.0</td>\n",
       "      <td>1.51</td>\n",
       "      <td>1.050</td>\n",
       "    </tr>\n",
       "    <tr>\n",
       "      <th>302</th>\n",
       "      <td>E14</td>\n",
       "      <td>Flat</td>\n",
       "      <td>Flat</td>\n",
       "      <td>2.0</td>\n",
       "      <td>2.0</td>\n",
       "      <td>734.0</td>\n",
       "      <td>0.85</td>\n",
       "      <td>0.625</td>\n",
       "    </tr>\n",
       "    <tr>\n",
       "      <th>575</th>\n",
       "      <td>SE8</td>\n",
       "      <td>Apartment</td>\n",
       "      <td>Flat</td>\n",
       "      <td>2.0</td>\n",
       "      <td>2.0</td>\n",
       "      <td>871.0</td>\n",
       "      <td>0.63</td>\n",
       "      <td>0.550</td>\n",
       "    </tr>\n",
       "    <tr>\n",
       "      <th>834</th>\n",
       "      <td>SW8</td>\n",
       "      <td>Penthouse</td>\n",
       "      <td>Flat</td>\n",
       "      <td>5.0</td>\n",
       "      <td>4.0</td>\n",
       "      <td>872.0</td>\n",
       "      <td>7.45</td>\n",
       "      <td>6.500</td>\n",
       "    </tr>\n",
       "    <tr>\n",
       "      <th>135</th>\n",
       "      <td>N10</td>\n",
       "      <td>Apartment</td>\n",
       "      <td>Flat</td>\n",
       "      <td>2.0</td>\n",
       "      <td>1.0</td>\n",
       "      <td>900.0</td>\n",
       "      <td>0.81</td>\n",
       "      <td>0.725</td>\n",
       "    </tr>\n",
       "    <tr>\n",
       "      <th>344</th>\n",
       "      <td>SW17</td>\n",
       "      <td>House</td>\n",
       "      <td>House</td>\n",
       "      <td>3.0</td>\n",
       "      <td>1.0</td>\n",
       "      <td>911.0</td>\n",
       "      <td>0.87</td>\n",
       "      <td>0.795</td>\n",
       "    </tr>\n",
       "    <tr>\n",
       "      <th>345</th>\n",
       "      <td>E14</td>\n",
       "      <td>Flat</td>\n",
       "      <td>Flat</td>\n",
       "      <td>2.0</td>\n",
       "      <td>2.0</td>\n",
       "      <td>915.0</td>\n",
       "      <td>0.57</td>\n",
       "      <td>0.525</td>\n",
       "    </tr>\n",
       "  </tbody>\n",
       "</table>\n",
       "</div>"
      ],
      "text/plain": [
       "      ZIP propertyType propertyGlobalType  bedrooms  bathrooms  sizeSqFeetMax  \\\n",
       "808    N5    Apartment               Flat       1.0        1.0          425.0   \n",
       "428   SW8    Penthouse               Flat       5.0        4.0          593.0   \n",
       "602   NW6    Apartment               Flat       2.0        1.0          642.0   \n",
       "592    W2    Apartment               Flat       1.0        1.0          696.0   \n",
       "302   E14         Flat               Flat       2.0        2.0          734.0   \n",
       "575   SE8    Apartment               Flat       2.0        2.0          871.0   \n",
       "834   SW8    Penthouse               Flat       5.0        4.0          872.0   \n",
       "135   N10    Apartment               Flat       2.0        1.0          900.0   \n",
       "344  SW17        House              House       3.0        1.0          911.0   \n",
       "345   E14         Flat               Flat       2.0        2.0          915.0   \n",
       "\n",
       "     pricePerSqFoot(k)  price(M)  \n",
       "808               1.29     0.550  \n",
       "428              16.19     9.600  \n",
       "602               1.17     0.750  \n",
       "592               1.51     1.050  \n",
       "302               0.85     0.625  \n",
       "575               0.63     0.550  \n",
       "834               7.45     6.500  \n",
       "135               0.81     0.725  \n",
       "344               0.87     0.795  \n",
       "345               0.57     0.525  "
      ]
     },
     "execution_count": 21,
     "metadata": {},
     "output_type": "execute_result"
    }
   ],
   "source": [
    "subset_by_sizeSqFeetMax = subset.sort_values(by='sizeSqFeetMax', ascending=True)\n",
    "subset_by_sizeSqFeetMax.head(10)"
   ]
  },
  {
   "cell_type": "markdown",
   "metadata": {
    "id": "X84cGM49Jtc2"
   },
   "source": [
    "\n",
    "\n",
    "---\n",
    "\n"
   ]
  },
  {
   "cell_type": "code",
   "execution_count": 22,
   "metadata": {
    "colab": {
     "base_uri": "https://localhost:8080/"
    },
    "id": "McLJF7SIfXr2",
    "outputId": "2b375f25-44f7-41ae-ef99-31cdb2cb8f23"
   },
   "outputs": [
    {
     "data": {
      "text/html": [
       "<div>\n",
       "<style scoped>\n",
       "    .dataframe tbody tr th:only-of-type {\n",
       "        vertical-align: middle;\n",
       "    }\n",
       "\n",
       "    .dataframe tbody tr th {\n",
       "        vertical-align: top;\n",
       "    }\n",
       "\n",
       "    .dataframe thead th {\n",
       "        text-align: right;\n",
       "    }\n",
       "</style>\n",
       "<table border=\"1\" class=\"dataframe\">\n",
       "  <thead>\n",
       "    <tr style=\"text-align: right;\">\n",
       "      <th></th>\n",
       "      <th>ZIP</th>\n",
       "      <th>propertyType</th>\n",
       "      <th>propertyGlobalType</th>\n",
       "      <th>bedrooms</th>\n",
       "      <th>bathrooms</th>\n",
       "      <th>sizeSqFeetMax</th>\n",
       "      <th>pricePerSqFoot(k)</th>\n",
       "      <th>price(M)</th>\n",
       "    </tr>\n",
       "  </thead>\n",
       "  <tbody>\n",
       "    <tr>\n",
       "      <th>714</th>\n",
       "      <td>SE18</td>\n",
       "      <td>Apartment</td>\n",
       "      <td>Flat</td>\n",
       "      <td>30.0</td>\n",
       "      <td>30.0</td>\n",
       "      <td>13096.0</td>\n",
       "      <td>0.55</td>\n",
       "      <td>7.200</td>\n",
       "    </tr>\n",
       "    <tr>\n",
       "      <th>46</th>\n",
       "      <td>W8</td>\n",
       "      <td>House</td>\n",
       "      <td>House</td>\n",
       "      <td>29.0</td>\n",
       "      <td>19.0</td>\n",
       "      <td>11238.0</td>\n",
       "      <td>1.65</td>\n",
       "      <td>18.500</td>\n",
       "    </tr>\n",
       "    <tr>\n",
       "      <th>44</th>\n",
       "      <td>W8</td>\n",
       "      <td>Terraced</td>\n",
       "      <td>House</td>\n",
       "      <td>14.0</td>\n",
       "      <td>20.0</td>\n",
       "      <td>12575.0</td>\n",
       "      <td>1.47</td>\n",
       "      <td>18.500</td>\n",
       "    </tr>\n",
       "    <tr>\n",
       "      <th>590</th>\n",
       "      <td>NW2</td>\n",
       "      <td>House</td>\n",
       "      <td>House</td>\n",
       "      <td>13.0</td>\n",
       "      <td>11.0</td>\n",
       "      <td>10192.0</td>\n",
       "      <td>0.78</td>\n",
       "      <td>8.000</td>\n",
       "    </tr>\n",
       "    <tr>\n",
       "      <th>589</th>\n",
       "      <td>NW2</td>\n",
       "      <td>Detached</td>\n",
       "      <td>House</td>\n",
       "      <td>13.0</td>\n",
       "      <td>10.0</td>\n",
       "      <td>10127.0</td>\n",
       "      <td>0.79</td>\n",
       "      <td>8.000</td>\n",
       "    </tr>\n",
       "    <tr>\n",
       "      <th>381</th>\n",
       "      <td>SW7</td>\n",
       "      <td>House</td>\n",
       "      <td>House</td>\n",
       "      <td>12.0</td>\n",
       "      <td>8.0</td>\n",
       "      <td>8791.0</td>\n",
       "      <td>1.13</td>\n",
       "      <td>9.975</td>\n",
       "    </tr>\n",
       "    <tr>\n",
       "      <th>102</th>\n",
       "      <td>W14</td>\n",
       "      <td>Detached</td>\n",
       "      <td>House</td>\n",
       "      <td>12.0</td>\n",
       "      <td>6.0</td>\n",
       "      <td>6497.0</td>\n",
       "      <td>2.69</td>\n",
       "      <td>17.500</td>\n",
       "    </tr>\n",
       "    <tr>\n",
       "      <th>724</th>\n",
       "      <td>W1U</td>\n",
       "      <td>Terraced</td>\n",
       "      <td>House</td>\n",
       "      <td>12.0</td>\n",
       "      <td>3.0</td>\n",
       "      <td>8793.0</td>\n",
       "      <td>0.80</td>\n",
       "      <td>7.000</td>\n",
       "    </tr>\n",
       "    <tr>\n",
       "      <th>131</th>\n",
       "      <td>NW3</td>\n",
       "      <td>Detached</td>\n",
       "      <td>House</td>\n",
       "      <td>11.0</td>\n",
       "      <td>9.0</td>\n",
       "      <td>6071.0</td>\n",
       "      <td>2.79</td>\n",
       "      <td>16.950</td>\n",
       "    </tr>\n",
       "    <tr>\n",
       "      <th>651</th>\n",
       "      <td>SW19</td>\n",
       "      <td>Detached</td>\n",
       "      <td>House</td>\n",
       "      <td>11.0</td>\n",
       "      <td>6.0</td>\n",
       "      <td>5680.0</td>\n",
       "      <td>1.32</td>\n",
       "      <td>7.495</td>\n",
       "    </tr>\n",
       "  </tbody>\n",
       "</table>\n",
       "</div>"
      ],
      "text/plain": [
       "      ZIP propertyType propertyGlobalType  bedrooms  bathrooms  sizeSqFeetMax  \\\n",
       "714  SE18    Apartment               Flat      30.0       30.0        13096.0   \n",
       "46     W8        House              House      29.0       19.0        11238.0   \n",
       "44     W8     Terraced              House      14.0       20.0        12575.0   \n",
       "590   NW2        House              House      13.0       11.0        10192.0   \n",
       "589   NW2     Detached              House      13.0       10.0        10127.0   \n",
       "381   SW7        House              House      12.0        8.0         8791.0   \n",
       "102   W14     Detached              House      12.0        6.0         6497.0   \n",
       "724   W1U     Terraced              House      12.0        3.0         8793.0   \n",
       "131   NW3     Detached              House      11.0        9.0         6071.0   \n",
       "651  SW19     Detached              House      11.0        6.0         5680.0   \n",
       "\n",
       "     pricePerSqFoot(k)  price(M)  \n",
       "714               0.55     7.200  \n",
       "46                1.65    18.500  \n",
       "44                1.47    18.500  \n",
       "590               0.78     8.000  \n",
       "589               0.79     8.000  \n",
       "381               1.13     9.975  \n",
       "102               2.69    17.500  \n",
       "724               0.80     7.000  \n",
       "131               2.79    16.950  \n",
       "651               1.32     7.495  "
      ]
     },
     "execution_count": 22,
     "metadata": {},
     "output_type": "execute_result"
    }
   ],
   "source": [
    "subset_by_bedrooms = subset.sort_values(by=['bedrooms',\"bathrooms\"], ascending=False)\n",
    "subset_by_bedrooms.head(10)"
   ]
  },
  {
   "cell_type": "markdown",
   "metadata": {
    "id": "y4NXeb2UHuQK"
   },
   "source": [
    "Descartamos aquellas propiedades con más de 15 baños o más de 15 habitaciones."
   ]
  },
  {
   "cell_type": "code",
   "execution_count": 23,
   "metadata": {
    "id": "PD0kdEGhfbYT"
   },
   "outputs": [],
   "source": [
    "subset = subset.drop(index=[714, 46, 44])"
   ]
  },
  {
   "cell_type": "markdown",
   "metadata": {
    "id": "SK5Hc99xJvbu"
   },
   "source": [
    "\n",
    "\n",
    "---\n",
    "\n"
   ]
  },
  {
   "cell_type": "code",
   "execution_count": 24,
   "metadata": {
    "colab": {
     "base_uri": "https://localhost:8080/"
    },
    "id": "nMqOfXKfhmvB",
    "outputId": "9d01f9ae-b78d-4716-99ff-1ec553128a08"
   },
   "outputs": [
    {
     "data": {
      "text/html": [
       "<div>\n",
       "<style scoped>\n",
       "    .dataframe tbody tr th:only-of-type {\n",
       "        vertical-align: middle;\n",
       "    }\n",
       "\n",
       "    .dataframe tbody tr th {\n",
       "        vertical-align: top;\n",
       "    }\n",
       "\n",
       "    .dataframe thead th {\n",
       "        text-align: right;\n",
       "    }\n",
       "</style>\n",
       "<table border=\"1\" class=\"dataframe\">\n",
       "  <thead>\n",
       "    <tr style=\"text-align: right;\">\n",
       "      <th></th>\n",
       "      <th>ZIP</th>\n",
       "      <th>propertyType</th>\n",
       "      <th>propertyGlobalType</th>\n",
       "      <th>bedrooms</th>\n",
       "      <th>bathrooms</th>\n",
       "      <th>sizeSqFeetMax</th>\n",
       "      <th>pricePerSqFoot(k)</th>\n",
       "      <th>price(M)</th>\n",
       "    </tr>\n",
       "  </thead>\n",
       "  <tbody>\n",
       "    <tr>\n",
       "      <th>428</th>\n",
       "      <td>SW8</td>\n",
       "      <td>Penthouse</td>\n",
       "      <td>Flat</td>\n",
       "      <td>5.0</td>\n",
       "      <td>4.0</td>\n",
       "      <td>593.0</td>\n",
       "      <td>16.19</td>\n",
       "      <td>9.60</td>\n",
       "    </tr>\n",
       "    <tr>\n",
       "      <th>40</th>\n",
       "      <td>SW7</td>\n",
       "      <td>Penthouse</td>\n",
       "      <td>Flat</td>\n",
       "      <td>5.0</td>\n",
       "      <td>5.0</td>\n",
       "      <td>9437.0</td>\n",
       "      <td>8.48</td>\n",
       "      <td>80.00</td>\n",
       "    </tr>\n",
       "    <tr>\n",
       "      <th>455</th>\n",
       "      <td>W1K</td>\n",
       "      <td>Penthouse</td>\n",
       "      <td>Flat</td>\n",
       "      <td>5.0</td>\n",
       "      <td>2.0</td>\n",
       "      <td>1055.0</td>\n",
       "      <td>8.48</td>\n",
       "      <td>8.95</td>\n",
       "    </tr>\n",
       "    <tr>\n",
       "      <th>188</th>\n",
       "      <td>W1U</td>\n",
       "      <td>Apartment</td>\n",
       "      <td>Flat</td>\n",
       "      <td>3.0</td>\n",
       "      <td>3.0</td>\n",
       "      <td>1959.0</td>\n",
       "      <td>7.63</td>\n",
       "      <td>14.95</td>\n",
       "    </tr>\n",
       "    <tr>\n",
       "      <th>662</th>\n",
       "      <td>SW1X</td>\n",
       "      <td>Flat</td>\n",
       "      <td>Flat</td>\n",
       "      <td>1.0</td>\n",
       "      <td>2.0</td>\n",
       "      <td>990.0</td>\n",
       "      <td>7.58</td>\n",
       "      <td>7.50</td>\n",
       "    </tr>\n",
       "  </tbody>\n",
       "</table>\n",
       "</div>"
      ],
      "text/plain": [
       "      ZIP propertyType propertyGlobalType  bedrooms  bathrooms  sizeSqFeetMax  \\\n",
       "428   SW8    Penthouse               Flat       5.0        4.0          593.0   \n",
       "40    SW7    Penthouse               Flat       5.0        5.0         9437.0   \n",
       "455   W1K    Penthouse               Flat       5.0        2.0         1055.0   \n",
       "188   W1U    Apartment               Flat       3.0        3.0         1959.0   \n",
       "662  SW1X         Flat               Flat       1.0        2.0          990.0   \n",
       "\n",
       "     pricePerSqFoot(k)  price(M)  \n",
       "428              16.19      9.60  \n",
       "40                8.48     80.00  \n",
       "455               8.48      8.95  \n",
       "188               7.63     14.95  \n",
       "662               7.58      7.50  "
      ]
     },
     "execution_count": 24,
     "metadata": {},
     "output_type": "execute_result"
    }
   ],
   "source": [
    "subset_by_pricePerSqFoot = subset.sort_values(by='pricePerSqFoot(k)', ascending=False)\n",
    "subset_by_pricePerSqFoot.head(5)"
   ]
  },
  {
   "cell_type": "code",
   "execution_count": 25,
   "metadata": {
    "colab": {
     "base_uri": "https://localhost:8080/"
    },
    "id": "syDeuYvcKDcq",
    "outputId": "21340c7d-cdfb-481b-9fb1-3ed87add46cc"
   },
   "outputs": [
    {
     "data": {
      "text/html": [
       "<div>\n",
       "<style scoped>\n",
       "    .dataframe tbody tr th:only-of-type {\n",
       "        vertical-align: middle;\n",
       "    }\n",
       "\n",
       "    .dataframe tbody tr th {\n",
       "        vertical-align: top;\n",
       "    }\n",
       "\n",
       "    .dataframe thead th {\n",
       "        text-align: right;\n",
       "    }\n",
       "</style>\n",
       "<table border=\"1\" class=\"dataframe\">\n",
       "  <thead>\n",
       "    <tr style=\"text-align: right;\">\n",
       "      <th></th>\n",
       "      <th>ZIP</th>\n",
       "      <th>propertyType</th>\n",
       "      <th>propertyGlobalType</th>\n",
       "      <th>bedrooms</th>\n",
       "      <th>bathrooms</th>\n",
       "      <th>sizeSqFeetMax</th>\n",
       "      <th>pricePerSqFoot(k)</th>\n",
       "      <th>price(M)</th>\n",
       "    </tr>\n",
       "  </thead>\n",
       "  <tbody>\n",
       "    <tr>\n",
       "      <th>428</th>\n",
       "      <td>SW8</td>\n",
       "      <td>Penthouse</td>\n",
       "      <td>Flat</td>\n",
       "      <td>5.0</td>\n",
       "      <td>4.0</td>\n",
       "      <td>593.0</td>\n",
       "      <td>16.19</td>\n",
       "      <td>9.600</td>\n",
       "    </tr>\n",
       "    <tr>\n",
       "      <th>834</th>\n",
       "      <td>SW8</td>\n",
       "      <td>Penthouse</td>\n",
       "      <td>Flat</td>\n",
       "      <td>5.0</td>\n",
       "      <td>4.0</td>\n",
       "      <td>872.0</td>\n",
       "      <td>7.45</td>\n",
       "      <td>6.500</td>\n",
       "    </tr>\n",
       "    <tr>\n",
       "      <th>342</th>\n",
       "      <td>SW8</td>\n",
       "      <td>Apartment</td>\n",
       "      <td>Flat</td>\n",
       "      <td>5.0</td>\n",
       "      <td>6.0</td>\n",
       "      <td>3114.0</td>\n",
       "      <td>3.45</td>\n",
       "      <td>10.747</td>\n",
       "    </tr>\n",
       "  </tbody>\n",
       "</table>\n",
       "</div>"
      ],
      "text/plain": [
       "     ZIP propertyType propertyGlobalType  bedrooms  bathrooms  sizeSqFeetMax  \\\n",
       "428  SW8    Penthouse               Flat       5.0        4.0          593.0   \n",
       "834  SW8    Penthouse               Flat       5.0        4.0          872.0   \n",
       "342  SW8    Apartment               Flat       5.0        6.0         3114.0   \n",
       "\n",
       "     pricePerSqFoot(k)  price(M)  \n",
       "428              16.19     9.600  \n",
       "834               7.45     6.500  \n",
       "342               3.45    10.747  "
      ]
     },
     "execution_count": 25,
     "metadata": {},
     "output_type": "execute_result"
    }
   ],
   "source": [
    "subset_SW8= subset[subset['ZIP']==\"SW8\"]\n",
    "subset_by_pricePerSqFoot = subset_SW8.sort_values(by='pricePerSqFoot(k)', ascending=False)\n",
    "subset_by_pricePerSqFoot.head(3)"
   ]
  },
  {
   "cell_type": "markdown",
   "metadata": {
    "id": "Lk5BY5tDXQDb"
   },
   "source": [
    "Descartamos una propiedad que duplica a la segunda con el precio por pie cuadrado más elevado."
   ]
  },
  {
   "cell_type": "code",
   "execution_count": 26,
   "metadata": {
    "id": "Eu1qCpp-lOJd"
   },
   "outputs": [],
   "source": [
    "subset = subset.drop(index=428)"
   ]
  },
  {
   "cell_type": "code",
   "execution_count": 27,
   "metadata": {
    "colab": {
     "base_uri": "https://localhost:8080/"
    },
    "id": "3ieLyM7TV1b8",
    "outputId": "41e410cb-206d-4359-b2f0-4d0df32c9708"
   },
   "outputs": [
    {
     "data": {
      "text/html": [
       "<div>\n",
       "<style scoped>\n",
       "    .dataframe tbody tr th:only-of-type {\n",
       "        vertical-align: middle;\n",
       "    }\n",
       "\n",
       "    .dataframe tbody tr th {\n",
       "        vertical-align: top;\n",
       "    }\n",
       "\n",
       "    .dataframe thead th {\n",
       "        text-align: right;\n",
       "    }\n",
       "</style>\n",
       "<table border=\"1\" class=\"dataframe\">\n",
       "  <thead>\n",
       "    <tr style=\"text-align: right;\">\n",
       "      <th></th>\n",
       "      <th>ZIP</th>\n",
       "      <th>propertyType</th>\n",
       "      <th>propertyGlobalType</th>\n",
       "      <th>bedrooms</th>\n",
       "      <th>bathrooms</th>\n",
       "      <th>sizeSqFeetMax</th>\n",
       "      <th>pricePerSqFoot(k)</th>\n",
       "      <th>price(M)</th>\n",
       "    </tr>\n",
       "  </thead>\n",
       "  <tbody>\n",
       "    <tr>\n",
       "      <th>679</th>\n",
       "      <td>N21</td>\n",
       "      <td>Detached</td>\n",
       "      <td>House</td>\n",
       "      <td>6.0</td>\n",
       "      <td>6.0</td>\n",
       "      <td>12500.0</td>\n",
       "      <td>0.60</td>\n",
       "      <td>7.500</td>\n",
       "    </tr>\n",
       "    <tr>\n",
       "      <th>614</th>\n",
       "      <td>N21</td>\n",
       "      <td>Detached</td>\n",
       "      <td>House</td>\n",
       "      <td>6.0</td>\n",
       "      <td>6.0</td>\n",
       "      <td>12500.0</td>\n",
       "      <td>0.60</td>\n",
       "      <td>7.500</td>\n",
       "    </tr>\n",
       "    <tr>\n",
       "      <th>477</th>\n",
       "      <td>E16</td>\n",
       "      <td>Flat</td>\n",
       "      <td>Flat</td>\n",
       "      <td>2.0</td>\n",
       "      <td>2.0</td>\n",
       "      <td>992.0</td>\n",
       "      <td>0.58</td>\n",
       "      <td>0.575</td>\n",
       "    </tr>\n",
       "    <tr>\n",
       "      <th>491</th>\n",
       "      <td>N2</td>\n",
       "      <td>Detached</td>\n",
       "      <td>House</td>\n",
       "      <td>8.0</td>\n",
       "      <td>7.0</td>\n",
       "      <td>14999.0</td>\n",
       "      <td>0.58</td>\n",
       "      <td>8.750</td>\n",
       "    </tr>\n",
       "    <tr>\n",
       "      <th>345</th>\n",
       "      <td>E14</td>\n",
       "      <td>Flat</td>\n",
       "      <td>Flat</td>\n",
       "      <td>2.0</td>\n",
       "      <td>2.0</td>\n",
       "      <td>915.0</td>\n",
       "      <td>0.57</td>\n",
       "      <td>0.525</td>\n",
       "    </tr>\n",
       "    <tr>\n",
       "      <th>534</th>\n",
       "      <td>N20</td>\n",
       "      <td>Flat</td>\n",
       "      <td>Flat</td>\n",
       "      <td>3.0</td>\n",
       "      <td>2.0</td>\n",
       "      <td>1231.0</td>\n",
       "      <td>0.56</td>\n",
       "      <td>0.695</td>\n",
       "    </tr>\n",
       "    <tr>\n",
       "      <th>698</th>\n",
       "      <td>N1</td>\n",
       "      <td>House</td>\n",
       "      <td>House</td>\n",
       "      <td>6.0</td>\n",
       "      <td>6.0</td>\n",
       "      <td>12809.0</td>\n",
       "      <td>0.54</td>\n",
       "      <td>6.950</td>\n",
       "    </tr>\n",
       "    <tr>\n",
       "      <th>785</th>\n",
       "      <td>N21</td>\n",
       "      <td>Detached</td>\n",
       "      <td>House</td>\n",
       "      <td>5.0</td>\n",
       "      <td>3.0</td>\n",
       "      <td>2565.0</td>\n",
       "      <td>0.47</td>\n",
       "      <td>1.200</td>\n",
       "    </tr>\n",
       "    <tr>\n",
       "      <th>499</th>\n",
       "      <td>NW4</td>\n",
       "      <td>Flat</td>\n",
       "      <td>Flat</td>\n",
       "      <td>2.0</td>\n",
       "      <td>1.0</td>\n",
       "      <td>1012.0</td>\n",
       "      <td>0.47</td>\n",
       "      <td>0.475</td>\n",
       "    </tr>\n",
       "    <tr>\n",
       "      <th>843</th>\n",
       "      <td>N2</td>\n",
       "      <td>Detached</td>\n",
       "      <td>House</td>\n",
       "      <td>6.0</td>\n",
       "      <td>10.0</td>\n",
       "      <td>14770.0</td>\n",
       "      <td>0.44</td>\n",
       "      <td>6.500</td>\n",
       "    </tr>\n",
       "  </tbody>\n",
       "</table>\n",
       "</div>"
      ],
      "text/plain": [
       "     ZIP propertyType propertyGlobalType  bedrooms  bathrooms  sizeSqFeetMax  \\\n",
       "679  N21     Detached              House       6.0        6.0        12500.0   \n",
       "614  N21     Detached              House       6.0        6.0        12500.0   \n",
       "477  E16         Flat               Flat       2.0        2.0          992.0   \n",
       "491   N2     Detached              House       8.0        7.0        14999.0   \n",
       "345  E14         Flat               Flat       2.0        2.0          915.0   \n",
       "534  N20         Flat               Flat       3.0        2.0         1231.0   \n",
       "698   N1        House              House       6.0        6.0        12809.0   \n",
       "785  N21     Detached              House       5.0        3.0         2565.0   \n",
       "499  NW4         Flat               Flat       2.0        1.0         1012.0   \n",
       "843   N2     Detached              House       6.0       10.0        14770.0   \n",
       "\n",
       "     pricePerSqFoot(k)  price(M)  \n",
       "679               0.60     7.500  \n",
       "614               0.60     7.500  \n",
       "477               0.58     0.575  \n",
       "491               0.58     8.750  \n",
       "345               0.57     0.525  \n",
       "534               0.56     0.695  \n",
       "698               0.54     6.950  \n",
       "785               0.47     1.200  \n",
       "499               0.47     0.475  \n",
       "843               0.44     6.500  "
      ]
     },
     "execution_count": 27,
     "metadata": {},
     "output_type": "execute_result"
    }
   ],
   "source": [
    "subset_by_pricePerSqFoot = subset.sort_values(by='pricePerSqFoot(k)', ascending=False)\n",
    "subset_by_pricePerSqFoot.tail(10)"
   ]
  },
  {
   "cell_type": "code",
   "execution_count": 28,
   "metadata": {
    "colab": {
     "base_uri": "https://localhost:8080/"
    },
    "id": "bZ0GKmb-kAtE",
    "outputId": "25d7f443-d6f9-45e6-ba8c-2f4520df1ab6"
   },
   "outputs": [
    {
     "data": {
      "text/html": [
       "<div>\n",
       "<style scoped>\n",
       "    .dataframe tbody tr th:only-of-type {\n",
       "        vertical-align: middle;\n",
       "    }\n",
       "\n",
       "    .dataframe tbody tr th {\n",
       "        vertical-align: top;\n",
       "    }\n",
       "\n",
       "    .dataframe thead th {\n",
       "        text-align: right;\n",
       "    }\n",
       "</style>\n",
       "<table border=\"1\" class=\"dataframe\">\n",
       "  <thead>\n",
       "    <tr style=\"text-align: right;\">\n",
       "      <th></th>\n",
       "      <th>ZIP</th>\n",
       "      <th>propertyType</th>\n",
       "      <th>propertyGlobalType</th>\n",
       "      <th>bedrooms</th>\n",
       "      <th>bathrooms</th>\n",
       "      <th>sizeSqFeetMax</th>\n",
       "      <th>pricePerSqFoot(k)</th>\n",
       "      <th>price(M)</th>\n",
       "    </tr>\n",
       "  </thead>\n",
       "  <tbody>\n",
       "    <tr>\n",
       "      <th>40</th>\n",
       "      <td>SW7</td>\n",
       "      <td>Penthouse</td>\n",
       "      <td>Flat</td>\n",
       "      <td>5.0</td>\n",
       "      <td>5.0</td>\n",
       "      <td>9437.0</td>\n",
       "      <td>8.48</td>\n",
       "      <td>80.000</td>\n",
       "    </tr>\n",
       "    <tr>\n",
       "      <th>39</th>\n",
       "      <td>W1B</td>\n",
       "      <td>Terraced</td>\n",
       "      <td>House</td>\n",
       "      <td>10.0</td>\n",
       "      <td>10.0</td>\n",
       "      <td>20987.0</td>\n",
       "      <td>3.10</td>\n",
       "      <td>65.000</td>\n",
       "    </tr>\n",
       "    <tr>\n",
       "      <th>37</th>\n",
       "      <td>SW1W</td>\n",
       "      <td>House</td>\n",
       "      <td>House</td>\n",
       "      <td>6.0</td>\n",
       "      <td>6.0</td>\n",
       "      <td>13067.0</td>\n",
       "      <td>3.60</td>\n",
       "      <td>47.000</td>\n",
       "    </tr>\n",
       "    <tr>\n",
       "      <th>34</th>\n",
       "      <td>SW1E</td>\n",
       "      <td>Terraced</td>\n",
       "      <td>House</td>\n",
       "      <td>9.0</td>\n",
       "      <td>9.0</td>\n",
       "      <td>15845.0</td>\n",
       "      <td>2.84</td>\n",
       "      <td>45.000</td>\n",
       "    </tr>\n",
       "    <tr>\n",
       "      <th>33</th>\n",
       "      <td>SW1X</td>\n",
       "      <td>Terraced</td>\n",
       "      <td>House</td>\n",
       "      <td>8.0</td>\n",
       "      <td>8.0</td>\n",
       "      <td>9049.0</td>\n",
       "      <td>4.20</td>\n",
       "      <td>38.000</td>\n",
       "    </tr>\n",
       "    <tr>\n",
       "      <th>...</th>\n",
       "      <td>...</td>\n",
       "      <td>...</td>\n",
       "      <td>...</td>\n",
       "      <td>...</td>\n",
       "      <td>...</td>\n",
       "      <td>...</td>\n",
       "      <td>...</td>\n",
       "      <td>...</td>\n",
       "    </tr>\n",
       "    <tr>\n",
       "      <th>477</th>\n",
       "      <td>E16</td>\n",
       "      <td>Flat</td>\n",
       "      <td>Flat</td>\n",
       "      <td>2.0</td>\n",
       "      <td>2.0</td>\n",
       "      <td>992.0</td>\n",
       "      <td>0.58</td>\n",
       "      <td>0.575</td>\n",
       "    </tr>\n",
       "    <tr>\n",
       "      <th>808</th>\n",
       "      <td>N5</td>\n",
       "      <td>Apartment</td>\n",
       "      <td>Flat</td>\n",
       "      <td>1.0</td>\n",
       "      <td>1.0</td>\n",
       "      <td>425.0</td>\n",
       "      <td>1.29</td>\n",
       "      <td>0.550</td>\n",
       "    </tr>\n",
       "    <tr>\n",
       "      <th>575</th>\n",
       "      <td>SE8</td>\n",
       "      <td>Apartment</td>\n",
       "      <td>Flat</td>\n",
       "      <td>2.0</td>\n",
       "      <td>2.0</td>\n",
       "      <td>871.0</td>\n",
       "      <td>0.63</td>\n",
       "      <td>0.550</td>\n",
       "    </tr>\n",
       "    <tr>\n",
       "      <th>345</th>\n",
       "      <td>E14</td>\n",
       "      <td>Flat</td>\n",
       "      <td>Flat</td>\n",
       "      <td>2.0</td>\n",
       "      <td>2.0</td>\n",
       "      <td>915.0</td>\n",
       "      <td>0.57</td>\n",
       "      <td>0.525</td>\n",
       "    </tr>\n",
       "    <tr>\n",
       "      <th>499</th>\n",
       "      <td>NW4</td>\n",
       "      <td>Flat</td>\n",
       "      <td>Flat</td>\n",
       "      <td>2.0</td>\n",
       "      <td>1.0</td>\n",
       "      <td>1012.0</td>\n",
       "      <td>0.47</td>\n",
       "      <td>0.475</td>\n",
       "    </tr>\n",
       "  </tbody>\n",
       "</table>\n",
       "<p>736 rows × 8 columns</p>\n",
       "</div>"
      ],
      "text/plain": [
       "      ZIP propertyType propertyGlobalType  bedrooms  bathrooms  sizeSqFeetMax  \\\n",
       "40    SW7    Penthouse               Flat       5.0        5.0         9437.0   \n",
       "39    W1B     Terraced              House      10.0       10.0        20987.0   \n",
       "37   SW1W        House              House       6.0        6.0        13067.0   \n",
       "34   SW1E     Terraced              House       9.0        9.0        15845.0   \n",
       "33   SW1X     Terraced              House       8.0        8.0         9049.0   \n",
       "..    ...          ...                ...       ...        ...            ...   \n",
       "477   E16         Flat               Flat       2.0        2.0          992.0   \n",
       "808    N5    Apartment               Flat       1.0        1.0          425.0   \n",
       "575   SE8    Apartment               Flat       2.0        2.0          871.0   \n",
       "345   E14         Flat               Flat       2.0        2.0          915.0   \n",
       "499   NW4         Flat               Flat       2.0        1.0         1012.0   \n",
       "\n",
       "     pricePerSqFoot(k)  price(M)  \n",
       "40                8.48    80.000  \n",
       "39                3.10    65.000  \n",
       "37                3.60    47.000  \n",
       "34                2.84    45.000  \n",
       "33                4.20    38.000  \n",
       "..                 ...       ...  \n",
       "477               0.58     0.575  \n",
       "808               1.29     0.550  \n",
       "575               0.63     0.550  \n",
       "345               0.57     0.525  \n",
       "499               0.47     0.475  \n",
       "\n",
       "[736 rows x 8 columns]"
      ]
     },
     "execution_count": 28,
     "metadata": {},
     "output_type": "execute_result"
    }
   ],
   "source": [
    "subset_by_price = subset.sort_values(by='price(M)', ascending=False)\n",
    "subset_by_price"
   ]
  },
  {
   "cell_type": "markdown",
   "metadata": {
    "id": "Ql3ztw_UXnJ-"
   },
   "source": [
    "Descartamos el inmueble con el precio más elevado, que marca más del doble del siguiente de su tipo global."
   ]
  },
  {
   "cell_type": "code",
   "execution_count": 29,
   "metadata": {
    "id": "wngWmstZkGtp"
   },
   "outputs": [],
   "source": [
    "subset = subset.drop(index=40)"
   ]
  },
  {
   "cell_type": "markdown",
   "metadata": {
    "id": "oMPwo_GHaWYB"
   },
   "source": [
    "## 💾 Descarga de subset\n",
    "\n",
    "Innecesario si se ejecuta toda la sesión."
   ]
  },
  {
   "cell_type": "code",
   "execution_count": 149,
   "metadata": {
    "id": "8Y33fwCLaLDE"
   },
   "outputs": [],
   "source": [
    "subset.to_csv('data/subset.csv', index=False)"
   ]
  },
  {
   "cell_type": "markdown",
   "metadata": {},
   "source": [
    "## 📤 Recarga de subset\n",
    "\n",
    "Innecesario si se ejecuta toda la sesión."
   ]
  },
  {
   "cell_type": "code",
   "execution_count": 30,
   "metadata": {
    "id": "D8hFTrUEaxks"
   },
   "outputs": [],
   "source": [
    "subset = pd.read_csv(\"data/subset.csv\")"
   ]
  },
  {
   "cell_type": "markdown",
   "metadata": {
    "id": "_baJcLIvO5zt"
   },
   "source": [
    "## 📊 **Descripción de Variables y analisis univariante**\n",
    "\n",
    "Además de comprobar la normalidad de las variables en las que sea posible."
   ]
  },
  {
   "cell_type": "markdown",
   "metadata": {
    "id": "rwobkFVXmQlp"
   },
   "source": [
    "### Cuantitativas\n",
    "\n",
    "No presentan distribución normal."
   ]
  },
  {
   "cell_type": "markdown",
   "metadata": {
    "id": "H9uq7a6SPqG5"
   },
   "source": [
    "#### **sizeSqFeetMax**\n",
    "\n",
    "* Descripción: Área del inmueble en pies cuadrados.\n",
    "* Tipo de variable: Cuantitativa continua.\n",
    "* Normalidad: No (F de Fisher-Snedecor?)"
   ]
  },
  {
   "cell_type": "code",
   "execution_count": 116,
   "metadata": {
    "colab": {
     "base_uri": "https://localhost:8080/"
    },
    "id": "3Df3PXQ3VH1M",
    "outputId": "47977712-0d1d-4cc0-f181-802989a1d885"
   },
   "outputs": [
    {
     "data": {
      "text/plain": [
       "count      735.000000\n",
       "mean      4559.235374\n",
       "std       2845.480646\n",
       "min        425.000000\n",
       "25%       2851.000000\n",
       "50%       3686.000000\n",
       "75%       5518.500000\n",
       "max      20987.000000\n",
       "Name: sizeSqFeetMax, dtype: float64"
      ]
     },
     "execution_count": 116,
     "metadata": {},
     "output_type": "execute_result"
    }
   ],
   "source": [
    "subset[\"sizeSqFeetMax\"].describe()\n"
   ]
  },
  {
   "cell_type": "code",
   "execution_count": 117,
   "metadata": {},
   "outputs": [
    {
     "data": {
      "application/vnd.plotly.v1+json": {
       "config": {
        "plotlyServerURL": "https://plot.ly"
       },
       "data": [
        {
         "alignmentgroup": "True",
         "bingroup": "x",
         "hovertemplate": "sizeSqFeetMax=%{x}<br>count=%{y}<extra></extra>",
         "legendgroup": "",
         "marker": {
          "color": "#636efa",
          "pattern": {
           "shape": ""
          }
         },
         "name": "",
         "nbinsx": 100,
         "offsetgroup": "",
         "orientation": "v",
         "showlegend": false,
         "type": "histogram",
         "x": [
          16749,
          12960,
          6952,
          16749,
          10241,
          6773,
          7631,
          9213,
          6007,
          4004,
          12643,
          6007,
          6214,
          6214,
          7396,
          12831,
          7396,
          12960,
          18837,
          15608,
          7798,
          5585,
          8304,
          18238,
          11803,
          11803,
          9049,
          15845,
          13067,
          20987,
          2935,
          5780,
          6640,
          3329,
          4639,
          6103,
          5027,
          9327,
          6103,
          6103,
          9858,
          2923,
          3229,
          7728,
          5098,
          7244,
          6730,
          4944,
          4944,
          6650,
          12415,
          8425,
          7550,
          4390,
          8060,
          8178,
          7860,
          5461,
          16748,
          1461,
          6404,
          6261,
          9677,
          6705,
          9677,
          6705,
          4852,
          10370,
          10370,
          4497,
          6000,
          9262,
          3931,
          7065,
          5600,
          4615,
          5693,
          6497,
          2976,
          8400,
          2976,
          5564,
          9472,
          5499,
          9561,
          5149,
          2238,
          5231,
          6873,
          4671,
          3566,
          9075,
          4724,
          3551,
          3551,
          6544,
          7656,
          6396,
          7656,
          6026,
          6071,
          6504,
          4844,
          6071,
          900,
          10041,
          10086,
          4660,
          2524,
          4112,
          4112,
          7212,
          2680,
          4735,
          2618,
          2641,
          5042,
          6477,
          2679,
          4676,
          4770,
          5042,
          2317,
          2645,
          2314,
          4372,
          11484,
          11784,
          10086,
          4291,
          4535,
          4469,
          3618,
          3618,
          6981,
          6981,
          3618,
          8117,
          2865,
          3667,
          5055,
          3117,
          6306,
          7483,
          7262,
          6659,
          2067,
          6245,
          3726,
          8635,
          8635,
          1959,
          11008,
          5624,
          6073,
          6608,
          2726,
          2727,
          6365,
          3001,
          5910,
          4736,
          2316,
          2135,
          3874,
          11467,
          5900,
          4304,
          6843,
          4500,
          2958,
          3637,
          5002,
          3876,
          5579,
          6829,
          6966,
          11941,
          4663,
          3862,
          4500,
          3862,
          5579,
          1835,
          5012,
          2958,
          5012,
          3001,
          4643,
          9806,
          5246,
          10333,
          4643,
          9806,
          9300,
          4355,
          4619,
          3300,
          2442,
          3423,
          2703,
          4558,
          3617,
          4649,
          5440,
          5212,
          11265,
          4182,
          5517,
          8488,
          3176,
          3887,
          8262,
          4182,
          2257,
          3100,
          4122,
          3310,
          8262,
          4096,
          14769,
          2327,
          3107,
          3927,
          4122,
          4354,
          5017,
          3013,
          3834,
          5189,
          3829,
          7800,
          3310,
          4095,
          2319,
          7468,
          9031,
          3084,
          3634,
          2351,
          4425,
          3911,
          11224,
          3123,
          5188,
          5114,
          12141,
          1477,
          734,
          3664,
          3324,
          4376,
          7842,
          3483,
          3354,
          3553,
          3449,
          4151,
          3580,
          2475,
          6025,
          3567,
          4211,
          2475,
          3137,
          2475,
          4332,
          3166,
          4180,
          5314,
          5280,
          3534,
          6459,
          2325,
          3169,
          5360,
          5649,
          3169,
          4752,
          4619,
          2442,
          2325,
          2410,
          5276,
          2442,
          4355,
          3114,
          8776,
          911,
          915,
          3501,
          4629,
          4032,
          11609,
          3698,
          4032,
          2855,
          2855,
          2855,
          2855,
          6228,
          2855,
          5522,
          1959,
          2855,
          2850,
          10283,
          4765,
          2855,
          1373,
          1963,
          4079,
          2855,
          2855,
          2885,
          4185,
          3420,
          4185,
          3467,
          4765,
          5479,
          4261,
          8791,
          7288,
          1999,
          6065,
          2558,
          4943,
          7847,
          2736,
          3483,
          3179,
          4401,
          4401,
          2924,
          3324,
          6015,
          3483,
          3606,
          2944,
          3165,
          5277,
          5092,
          2425,
          2424,
          2424,
          5070,
          4817,
          3303,
          2855,
          4817,
          5450,
          3443,
          2852,
          4610,
          3491,
          3490,
          5450,
          4747,
          2855,
          3179,
          3114,
          3114,
          3114,
          3645,
          2392,
          4208,
          2689,
          2392,
          3345,
          2814,
          3690,
          3690,
          3690,
          3700,
          3486,
          7661,
          6900,
          3599,
          3398,
          12616,
          6146,
          2461,
          1055,
          4565,
          3228,
          2717,
          2700,
          4565,
          2917,
          3846,
          2917,
          2861,
          4812,
          6003,
          2891,
          5257,
          2731,
          5930,
          2386,
          992,
          4182,
          1164,
          5497,
          2163,
          2868,
          3467,
          4101,
          6179,
          2990,
          3890,
          4456,
          1425,
          14999,
          2427,
          2602,
          3060,
          2612,
          2841,
          1400,
          3700,
          1012,
          3186,
          2734,
          3794,
          2029,
          2012,
          5979,
          2595,
          3500,
          5979,
          2163,
          4106,
          4230,
          2842,
          6500,
          2584,
          3198,
          4068,
          3122,
          2357,
          2133,
          3466,
          3466,
          3466,
          2479,
          4018,
          3466,
          4927,
          4008,
          3466,
          3360,
          5979,
          1231,
          3031,
          3057,
          3059,
          2103,
          3393,
          3951,
          4525,
          2029,
          4277,
          2810,
          3498,
          3400,
          7150,
          3565,
          1980,
          6840,
          2014,
          3737,
          2637,
          3175,
          3100,
          3226,
          3571,
          5520,
          5523,
          3393,
          4186,
          4044,
          3400,
          3012,
          4445,
          3013,
          10228,
          3628,
          871,
          1280,
          3774,
          2810,
          1918,
          1424,
          3292,
          3059,
          1700,
          4511,
          4300,
          1706,
          5381,
          4300,
          10127,
          10192,
          2934,
          696,
          3027,
          4795,
          3059,
          2949,
          4399,
          1658,
          1641,
          3111,
          1658,
          642,
          3423,
          6344,
          4094,
          4474,
          2926,
          4075,
          12500,
          4040,
          12500,
          3060,
          2825,
          6236,
          7568,
          3287,
          7754,
          3057,
          3059,
          1772,
          3155,
          7787,
          5683,
          1902,
          5683,
          3704,
          6344,
          3280,
          3500,
          3341,
          3763,
          2105,
          2106,
          2729,
          2013,
          3059,
          1604,
          1873,
          2637,
          1878,
          2637,
          1951,
          2637,
          3870,
          5680,
          1873,
          2133,
          1873,
          1878,
          3621,
          2261,
          4462,
          3158,
          1878,
          990,
          2905,
          3158,
          3147,
          6412,
          3158,
          4054,
          4775,
          4036,
          4064,
          3234,
          3412,
          3686,
          6565,
          7150,
          4607,
          2741,
          12500,
          1341,
          2746,
          1919,
          2649,
          3094,
          2273,
          2432,
          3280,
          3427,
          1528,
          1504,
          2470,
          4190,
          6854,
          3082,
          2531,
          1504,
          12809,
          1948,
          3254,
          4169,
          3494,
          3009,
          6181,
          3797,
          2610,
          3425,
          4038,
          1272,
          3446,
          1668,
          3446,
          3295,
          3062,
          3175,
          8494,
          6752,
          7058,
          8793,
          1964,
          5210,
          6752,
          2584,
          2652,
          3788,
          3199,
          3199,
          7539,
          3102,
          3610,
          992,
          1055,
          2933,
          6196,
          1980,
          2741,
          1760,
          1760,
          2470,
          3726,
          2593,
          1970,
          2622,
          3100,
          3777,
          2211,
          1911,
          1537,
          3208,
          3433,
          2921,
          4244,
          5515,
          3433,
          2690,
          2900,
          5385,
          2900,
          2678,
          1805,
          2615,
          4800,
          1805,
          2885,
          2218,
          2873,
          8786,
          4594,
          2354,
          2900,
          4169,
          2900,
          3993,
          2565,
          7091,
          3192,
          4127,
          3744,
          7629,
          4137,
          3248,
          3142,
          4776,
          3516,
          3115,
          2357,
          3133,
          1632,
          1591,
          2009,
          2310,
          7004,
          3797,
          3267,
          1602,
          425,
          2685,
          2418,
          1017,
          1600,
          2438,
          2927,
          2402,
          3830,
          2348,
          4684,
          3327,
          4740,
          5006,
          4171,
          2593,
          3894,
          1877,
          4014,
          2383,
          6600,
          2268,
          1432,
          2357,
          872,
          2608,
          1894,
          1970,
          2521,
          3429,
          1894,
          14770,
          2601,
          2508
         ],
         "xaxis": "x",
         "yaxis": "y"
        }
       ],
       "layout": {
        "annotations": [
         {
          "showarrow": false,
          "text": "Mean",
          "x": 4559.23537414966,
          "xanchor": "left",
          "xref": "x",
          "y": 1,
          "yanchor": "top",
          "yref": "y domain"
         },
         {
          "showarrow": false,
          "text": "Median",
          "x": 3686,
          "xanchor": "right",
          "xref": "x",
          "y": 1,
          "yanchor": "top",
          "yref": "y domain"
         }
        ],
        "barmode": "relative",
        "legend": {
         "title": {
          "text": "Metrics"
         },
         "tracegroupgap": 0
        },
        "shapes": [
         {
          "line": {
           "color": "black",
           "dash": "dash"
          },
          "type": "line",
          "x0": 4559.23537414966,
          "x1": 4559.23537414966,
          "xref": "x",
          "y0": 0,
          "y1": 1,
          "yref": "y domain"
         },
         {
          "line": {
           "color": "red",
           "dash": "dash"
          },
          "type": "line",
          "x0": 3686,
          "x1": 3686,
          "xref": "x",
          "y0": 0,
          "y1": 1,
          "yref": "y domain"
         }
        ],
        "template": {
         "data": {
          "bar": [
           {
            "error_x": {
             "color": "#2a3f5f"
            },
            "error_y": {
             "color": "#2a3f5f"
            },
            "marker": {
             "line": {
              "color": "#E5ECF6",
              "width": 0.5
             },
             "pattern": {
              "fillmode": "overlay",
              "size": 10,
              "solidity": 0.2
             }
            },
            "type": "bar"
           }
          ],
          "barpolar": [
           {
            "marker": {
             "line": {
              "color": "#E5ECF6",
              "width": 0.5
             },
             "pattern": {
              "fillmode": "overlay",
              "size": 10,
              "solidity": 0.2
             }
            },
            "type": "barpolar"
           }
          ],
          "carpet": [
           {
            "aaxis": {
             "endlinecolor": "#2a3f5f",
             "gridcolor": "white",
             "linecolor": "white",
             "minorgridcolor": "white",
             "startlinecolor": "#2a3f5f"
            },
            "baxis": {
             "endlinecolor": "#2a3f5f",
             "gridcolor": "white",
             "linecolor": "white",
             "minorgridcolor": "white",
             "startlinecolor": "#2a3f5f"
            },
            "type": "carpet"
           }
          ],
          "choropleth": [
           {
            "colorbar": {
             "outlinewidth": 0,
             "ticks": ""
            },
            "type": "choropleth"
           }
          ],
          "contour": [
           {
            "colorbar": {
             "outlinewidth": 0,
             "ticks": ""
            },
            "colorscale": [
             [
              0,
              "#0d0887"
             ],
             [
              0.1111111111111111,
              "#46039f"
             ],
             [
              0.2222222222222222,
              "#7201a8"
             ],
             [
              0.3333333333333333,
              "#9c179e"
             ],
             [
              0.4444444444444444,
              "#bd3786"
             ],
             [
              0.5555555555555556,
              "#d8576b"
             ],
             [
              0.6666666666666666,
              "#ed7953"
             ],
             [
              0.7777777777777778,
              "#fb9f3a"
             ],
             [
              0.8888888888888888,
              "#fdca26"
             ],
             [
              1,
              "#f0f921"
             ]
            ],
            "type": "contour"
           }
          ],
          "contourcarpet": [
           {
            "colorbar": {
             "outlinewidth": 0,
             "ticks": ""
            },
            "type": "contourcarpet"
           }
          ],
          "heatmap": [
           {
            "colorbar": {
             "outlinewidth": 0,
             "ticks": ""
            },
            "colorscale": [
             [
              0,
              "#0d0887"
             ],
             [
              0.1111111111111111,
              "#46039f"
             ],
             [
              0.2222222222222222,
              "#7201a8"
             ],
             [
              0.3333333333333333,
              "#9c179e"
             ],
             [
              0.4444444444444444,
              "#bd3786"
             ],
             [
              0.5555555555555556,
              "#d8576b"
             ],
             [
              0.6666666666666666,
              "#ed7953"
             ],
             [
              0.7777777777777778,
              "#fb9f3a"
             ],
             [
              0.8888888888888888,
              "#fdca26"
             ],
             [
              1,
              "#f0f921"
             ]
            ],
            "type": "heatmap"
           }
          ],
          "heatmapgl": [
           {
            "colorbar": {
             "outlinewidth": 0,
             "ticks": ""
            },
            "colorscale": [
             [
              0,
              "#0d0887"
             ],
             [
              0.1111111111111111,
              "#46039f"
             ],
             [
              0.2222222222222222,
              "#7201a8"
             ],
             [
              0.3333333333333333,
              "#9c179e"
             ],
             [
              0.4444444444444444,
              "#bd3786"
             ],
             [
              0.5555555555555556,
              "#d8576b"
             ],
             [
              0.6666666666666666,
              "#ed7953"
             ],
             [
              0.7777777777777778,
              "#fb9f3a"
             ],
             [
              0.8888888888888888,
              "#fdca26"
             ],
             [
              1,
              "#f0f921"
             ]
            ],
            "type": "heatmapgl"
           }
          ],
          "histogram": [
           {
            "marker": {
             "pattern": {
              "fillmode": "overlay",
              "size": 10,
              "solidity": 0.2
             }
            },
            "type": "histogram"
           }
          ],
          "histogram2d": [
           {
            "colorbar": {
             "outlinewidth": 0,
             "ticks": ""
            },
            "colorscale": [
             [
              0,
              "#0d0887"
             ],
             [
              0.1111111111111111,
              "#46039f"
             ],
             [
              0.2222222222222222,
              "#7201a8"
             ],
             [
              0.3333333333333333,
              "#9c179e"
             ],
             [
              0.4444444444444444,
              "#bd3786"
             ],
             [
              0.5555555555555556,
              "#d8576b"
             ],
             [
              0.6666666666666666,
              "#ed7953"
             ],
             [
              0.7777777777777778,
              "#fb9f3a"
             ],
             [
              0.8888888888888888,
              "#fdca26"
             ],
             [
              1,
              "#f0f921"
             ]
            ],
            "type": "histogram2d"
           }
          ],
          "histogram2dcontour": [
           {
            "colorbar": {
             "outlinewidth": 0,
             "ticks": ""
            },
            "colorscale": [
             [
              0,
              "#0d0887"
             ],
             [
              0.1111111111111111,
              "#46039f"
             ],
             [
              0.2222222222222222,
              "#7201a8"
             ],
             [
              0.3333333333333333,
              "#9c179e"
             ],
             [
              0.4444444444444444,
              "#bd3786"
             ],
             [
              0.5555555555555556,
              "#d8576b"
             ],
             [
              0.6666666666666666,
              "#ed7953"
             ],
             [
              0.7777777777777778,
              "#fb9f3a"
             ],
             [
              0.8888888888888888,
              "#fdca26"
             ],
             [
              1,
              "#f0f921"
             ]
            ],
            "type": "histogram2dcontour"
           }
          ],
          "mesh3d": [
           {
            "colorbar": {
             "outlinewidth": 0,
             "ticks": ""
            },
            "type": "mesh3d"
           }
          ],
          "parcoords": [
           {
            "line": {
             "colorbar": {
              "outlinewidth": 0,
              "ticks": ""
             }
            },
            "type": "parcoords"
           }
          ],
          "pie": [
           {
            "automargin": true,
            "type": "pie"
           }
          ],
          "scatter": [
           {
            "fillpattern": {
             "fillmode": "overlay",
             "size": 10,
             "solidity": 0.2
            },
            "type": "scatter"
           }
          ],
          "scatter3d": [
           {
            "line": {
             "colorbar": {
              "outlinewidth": 0,
              "ticks": ""
             }
            },
            "marker": {
             "colorbar": {
              "outlinewidth": 0,
              "ticks": ""
             }
            },
            "type": "scatter3d"
           }
          ],
          "scattercarpet": [
           {
            "marker": {
             "colorbar": {
              "outlinewidth": 0,
              "ticks": ""
             }
            },
            "type": "scattercarpet"
           }
          ],
          "scattergeo": [
           {
            "marker": {
             "colorbar": {
              "outlinewidth": 0,
              "ticks": ""
             }
            },
            "type": "scattergeo"
           }
          ],
          "scattergl": [
           {
            "marker": {
             "colorbar": {
              "outlinewidth": 0,
              "ticks": ""
             }
            },
            "type": "scattergl"
           }
          ],
          "scattermapbox": [
           {
            "marker": {
             "colorbar": {
              "outlinewidth": 0,
              "ticks": ""
             }
            },
            "type": "scattermapbox"
           }
          ],
          "scatterpolar": [
           {
            "marker": {
             "colorbar": {
              "outlinewidth": 0,
              "ticks": ""
             }
            },
            "type": "scatterpolar"
           }
          ],
          "scatterpolargl": [
           {
            "marker": {
             "colorbar": {
              "outlinewidth": 0,
              "ticks": ""
             }
            },
            "type": "scatterpolargl"
           }
          ],
          "scatterternary": [
           {
            "marker": {
             "colorbar": {
              "outlinewidth": 0,
              "ticks": ""
             }
            },
            "type": "scatterternary"
           }
          ],
          "surface": [
           {
            "colorbar": {
             "outlinewidth": 0,
             "ticks": ""
            },
            "colorscale": [
             [
              0,
              "#0d0887"
             ],
             [
              0.1111111111111111,
              "#46039f"
             ],
             [
              0.2222222222222222,
              "#7201a8"
             ],
             [
              0.3333333333333333,
              "#9c179e"
             ],
             [
              0.4444444444444444,
              "#bd3786"
             ],
             [
              0.5555555555555556,
              "#d8576b"
             ],
             [
              0.6666666666666666,
              "#ed7953"
             ],
             [
              0.7777777777777778,
              "#fb9f3a"
             ],
             [
              0.8888888888888888,
              "#fdca26"
             ],
             [
              1,
              "#f0f921"
             ]
            ],
            "type": "surface"
           }
          ],
          "table": [
           {
            "cells": {
             "fill": {
              "color": "#EBF0F8"
             },
             "line": {
              "color": "white"
             }
            },
            "header": {
             "fill": {
              "color": "#C8D4E3"
             },
             "line": {
              "color": "white"
             }
            },
            "type": "table"
           }
          ]
         },
         "layout": {
          "annotationdefaults": {
           "arrowcolor": "#2a3f5f",
           "arrowhead": 0,
           "arrowwidth": 1
          },
          "autotypenumbers": "strict",
          "coloraxis": {
           "colorbar": {
            "outlinewidth": 0,
            "ticks": ""
           }
          },
          "colorscale": {
           "diverging": [
            [
             0,
             "#8e0152"
            ],
            [
             0.1,
             "#c51b7d"
            ],
            [
             0.2,
             "#de77ae"
            ],
            [
             0.3,
             "#f1b6da"
            ],
            [
             0.4,
             "#fde0ef"
            ],
            [
             0.5,
             "#f7f7f7"
            ],
            [
             0.6,
             "#e6f5d0"
            ],
            [
             0.7,
             "#b8e186"
            ],
            [
             0.8,
             "#7fbc41"
            ],
            [
             0.9,
             "#4d9221"
            ],
            [
             1,
             "#276419"
            ]
           ],
           "sequential": [
            [
             0,
             "#0d0887"
            ],
            [
             0.1111111111111111,
             "#46039f"
            ],
            [
             0.2222222222222222,
             "#7201a8"
            ],
            [
             0.3333333333333333,
             "#9c179e"
            ],
            [
             0.4444444444444444,
             "#bd3786"
            ],
            [
             0.5555555555555556,
             "#d8576b"
            ],
            [
             0.6666666666666666,
             "#ed7953"
            ],
            [
             0.7777777777777778,
             "#fb9f3a"
            ],
            [
             0.8888888888888888,
             "#fdca26"
            ],
            [
             1,
             "#f0f921"
            ]
           ],
           "sequentialminus": [
            [
             0,
             "#0d0887"
            ],
            [
             0.1111111111111111,
             "#46039f"
            ],
            [
             0.2222222222222222,
             "#7201a8"
            ],
            [
             0.3333333333333333,
             "#9c179e"
            ],
            [
             0.4444444444444444,
             "#bd3786"
            ],
            [
             0.5555555555555556,
             "#d8576b"
            ],
            [
             0.6666666666666666,
             "#ed7953"
            ],
            [
             0.7777777777777778,
             "#fb9f3a"
            ],
            [
             0.8888888888888888,
             "#fdca26"
            ],
            [
             1,
             "#f0f921"
            ]
           ]
          },
          "colorway": [
           "#636efa",
           "#EF553B",
           "#00cc96",
           "#ab63fa",
           "#FFA15A",
           "#19d3f3",
           "#FF6692",
           "#B6E880",
           "#FF97FF",
           "#FECB52"
          ],
          "font": {
           "color": "#2a3f5f"
          },
          "geo": {
           "bgcolor": "white",
           "lakecolor": "white",
           "landcolor": "#E5ECF6",
           "showlakes": true,
           "showland": true,
           "subunitcolor": "white"
          },
          "hoverlabel": {
           "align": "left"
          },
          "hovermode": "closest",
          "mapbox": {
           "style": "light"
          },
          "paper_bgcolor": "white",
          "plot_bgcolor": "#E5ECF6",
          "polar": {
           "angularaxis": {
            "gridcolor": "white",
            "linecolor": "white",
            "ticks": ""
           },
           "bgcolor": "#E5ECF6",
           "radialaxis": {
            "gridcolor": "white",
            "linecolor": "white",
            "ticks": ""
           }
          },
          "scene": {
           "xaxis": {
            "backgroundcolor": "#E5ECF6",
            "gridcolor": "white",
            "gridwidth": 2,
            "linecolor": "white",
            "showbackground": true,
            "ticks": "",
            "zerolinecolor": "white"
           },
           "yaxis": {
            "backgroundcolor": "#E5ECF6",
            "gridcolor": "white",
            "gridwidth": 2,
            "linecolor": "white",
            "showbackground": true,
            "ticks": "",
            "zerolinecolor": "white"
           },
           "zaxis": {
            "backgroundcolor": "#E5ECF6",
            "gridcolor": "white",
            "gridwidth": 2,
            "linecolor": "white",
            "showbackground": true,
            "ticks": "",
            "zerolinecolor": "white"
           }
          },
          "shapedefaults": {
           "line": {
            "color": "#2a3f5f"
           }
          },
          "ternary": {
           "aaxis": {
            "gridcolor": "white",
            "linecolor": "white",
            "ticks": ""
           },
           "baxis": {
            "gridcolor": "white",
            "linecolor": "white",
            "ticks": ""
           },
           "bgcolor": "#E5ECF6",
           "caxis": {
            "gridcolor": "white",
            "linecolor": "white",
            "ticks": ""
           }
          },
          "title": {
           "x": 0.05
          },
          "xaxis": {
           "automargin": true,
           "gridcolor": "white",
           "linecolor": "white",
           "ticks": "",
           "title": {
            "standoff": 15
           },
           "zerolinecolor": "white",
           "zerolinewidth": 2
          },
          "yaxis": {
           "automargin": true,
           "gridcolor": "white",
           "linecolor": "white",
           "ticks": "",
           "title": {
            "standoff": 15
           },
           "zerolinecolor": "white",
           "zerolinewidth": 2
          }
         }
        },
        "title": {
         "text": "Distribución por área"
        },
        "xaxis": {
         "anchor": "y",
         "domain": [
          0,
          1
         ],
         "title": {
          "text": "sizeSqFeetMax"
         }
        },
        "yaxis": {
         "anchor": "x",
         "domain": [
          0,
          1
         ],
         "title": {
          "text": "count"
         }
        }
       }
      }
     },
     "metadata": {},
     "output_type": "display_data"
    }
   ],
   "source": [
    "fig = px.histogram(\n",
    "    subset, \n",
    "    x=\"sizeSqFeetMax\", \n",
    "    nbins=100, \n",
    "    title=\"Distribución por área\",\n",
    ")\n",
    "\n",
    "mean_value = subset[\"sizeSqFeetMax\"].mean()\n",
    "median_value = subset[\"sizeSqFeetMax\"].median()\n",
    "\n",
    "fig.add_vline(\n",
    "    x=mean_value, \n",
    "    line=dict(color='black', dash='dash'), \n",
    "    annotation_text=\"Mean\", \n",
    "    annotation_position=\"top right\"\n",
    ")\n",
    "fig.add_vline(\n",
    "    x=median_value, \n",
    "    line=dict(color='red', dash='dash'), \n",
    "    annotation_text=\"Median\", \n",
    "    annotation_position=\"top left\"\n",
    ")\n",
    "\n",
    "# Show the legend\n",
    "fig.update_layout(legend_title_text=\"Metrics\")\n",
    "fig.show()\n"
   ]
  },
  {
   "cell_type": "markdown",
   "metadata": {
    "id": "I_S_PaUdV-kB"
   },
   "source": [
    "Dada la diferencia entre media y mediana de aprocximadamente 1300 pies y la forma de la distribución, se concluye que la distribución de sizeSqFeetMax no es normal.\n",
    "\n",
    "Podría tratarse de una Distribución F de Fisher-Snedecor."
   ]
  },
  {
   "cell_type": "code",
   "execution_count": 118,
   "metadata": {
    "colab": {
     "base_uri": "https://localhost:8080/"
    },
    "id": "jIeXHUEH9w6H",
    "outputId": "db03eaa7-c550-4a5a-e611-bfd6e82557a1"
   },
   "outputs": [
    {
     "name": "stdout",
     "output_type": "stream",
     "text": [
      "Asimetria: 1.9733182365290558\n",
      "Curtosis: 5.1703746104766015\n"
     ]
    }
   ],
   "source": [
    "Size=subset[\"sizeSqFeetMax\"]\n",
    "print(\"Asimetria: \"+ str(skew(Size, axis=0, bias=True)))\n",
    "print(\"Curtosis: \"+ str(stats.kurtosis(Size, axis=0, fisher=True, bias=True)))"
   ]
  },
  {
   "cell_type": "markdown",
   "metadata": {
    "id": "RTVOs9wC_KWm"
   },
   "source": [
    "La asimetría a la izquierda ya era bastante apreciable aunque la curtosis es más alta de lo esperado. A pesar de ello, su cercanía al 0 indica parecido con una distribución normal."
   ]
  },
  {
   "cell_type": "markdown",
   "metadata": {
    "id": "2UP0J0bYRI9v"
   },
   "source": [
    "#### **price**\n",
    "\n",
    "* Descripción: Precio del inmueble en libras.\n",
    "* Tipo de variable: Cuantitativa continua.\n",
    "* Normalidad: No (F de Fisher-Snedecor?)\n"
   ]
  },
  {
   "cell_type": "code",
   "execution_count": 119,
   "metadata": {},
   "outputs": [
    {
     "data": {
      "text/plain": [
       "count    735.000000\n",
       "mean      10.958573\n",
       "std        5.942697\n",
       "min        0.475000\n",
       "25%        7.500000\n",
       "50%        9.000000\n",
       "75%       12.850000\n",
       "max       65.000000\n",
       "Name: price(M), dtype: float64"
      ]
     },
     "execution_count": 119,
     "metadata": {},
     "output_type": "execute_result"
    }
   ],
   "source": [
    "subset[\"price(M)\"].describe()\n"
   ]
  },
  {
   "cell_type": "code",
   "execution_count": 120,
   "metadata": {},
   "outputs": [
    {
     "data": {
      "application/vnd.plotly.v1+json": {
       "config": {
        "plotlyServerURL": "https://plot.ly"
       },
       "data": [
        {
         "alignmentgroup": "True",
         "bingroup": "x",
         "hovertemplate": "price(M)=%{x}<br>count=%{y}<extra></extra>",
         "legendgroup": "",
         "marker": {
          "color": "#636efa",
          "pattern": {
           "shape": ""
          }
         },
         "name": "",
         "nbinsx": 100,
         "offsetgroup": "",
         "orientation": "v",
         "showlegend": false,
         "type": "histogram",
         "x": [
          24.95,
          29.5,
          25,
          24.95,
          24.95,
          25,
          25,
          25,
          25,
          25,
          25,
          25,
          26.5,
          26.5,
          28,
          29.5,
          28,
          29.5,
          29.95,
          29.95,
          29.975,
          30,
          30,
          32,
          30,
          30,
          38,
          45,
          47,
          65,
          19.95,
          18.25,
          18.5,
          18.5,
          18.8,
          18.95,
          18.95,
          18.95,
          18.95,
          18.95,
          19.5,
          19,
          19.5,
          19.75,
          21.95,
          22,
          22.5,
          22.5,
          22.5,
          22.5,
          22.95,
          23,
          23.5,
          23.5,
          23.95,
          24,
          24,
          24,
          24.95,
          2.1,
          19.95,
          19.95,
          19.95,
          19.95,
          19.95,
          19.95,
          20,
          20,
          20,
          20,
          20.995,
          21.5,
          16,
          17,
          17.5,
          17.5,
          17.5,
          17.5,
          17.5,
          17.5,
          17.7,
          17.95,
          17.95,
          17.8,
          17.95,
          18,
          1.85,
          18,
          16,
          16,
          16,
          16,
          16,
          16.25,
          16.25,
          16.5,
          16.5,
          16.75,
          16.5,
          16.75,
          16.95,
          16.95,
          16.95,
          16.95,
          0.725,
          14.5,
          15.5,
          13.75,
          13.75,
          13.85,
          13.85,
          13.95,
          13.95,
          13.95,
          13.95,
          13.95,
          14,
          13.95,
          14,
          14,
          14,
          14,
          14.25,
          14,
          14.25,
          14.5,
          15.5,
          15.5,
          15.5,
          15.65,
          15.65,
          15.65,
          15.75,
          15.75,
          15.75,
          15.75,
          15.75,
          15.95,
          14.75,
          15.95,
          14.75,
          14.6,
          15.95,
          15.95,
          15.95,
          14.8,
          14.95,
          15.95,
          3,
          14.95,
          14.95,
          14.95,
          15,
          14.95,
          15,
          15,
          15,
          15,
          15,
          13.5,
          12.5,
          12.5,
          12.65,
          12.5,
          12.6,
          12.95,
          12.75,
          12.95,
          12.95,
          12.95,
          12.95,
          12.95,
          12.95,
          12.95,
          12.95,
          12.95,
          12.95,
          13,
          13,
          13.25,
          12.95,
          13.25,
          12.95,
          13.395,
          13.5,
          13.5,
          13.5,
          13.5,
          13.5,
          13.5,
          13.5,
          13.5,
          13.5,
          13.5,
          11,
          10.95,
          10.95,
          10.99,
          10.95,
          11,
          11,
          11,
          11,
          11,
          11.95,
          11.95,
          11,
          11.5,
          11.95,
          11.5,
          11,
          11.5,
          11.95,
          11.5,
          11.2,
          11.95,
          11.25,
          11.5,
          11.95,
          11.5,
          11.95,
          11.25,
          11.95,
          11.25,
          11.25,
          11.995,
          12,
          11.5,
          11.25,
          12,
          11.5,
          12,
          11.5,
          11.59,
          11.75,
          11.7,
          12,
          11.795,
          12,
          11.75,
          12,
          11.9,
          12.25,
          12.5,
          11.95,
          12.5,
          12.5,
          3.95,
          0.625,
          10.747,
          10,
          10,
          10,
          10.13,
          10.13,
          10.13,
          10.747,
          10.75,
          10.75,
          10.75,
          10.75,
          10.25,
          10.25,
          10.75,
          10.25,
          10.75,
          10.85,
          10.25,
          10.5,
          10.5,
          10.95,
          10.95,
          10.95,
          10.5,
          10.95,
          10.5,
          10.95,
          10.95,
          10.95,
          10.95,
          10.95,
          10.5,
          10.5,
          10.95,
          10.95,
          10.95,
          10.747,
          10.95,
          0.795,
          0.525,
          10.95,
          9.95,
          9.75,
          9.75,
          9.75,
          9.75,
          9.9,
          9.9,
          9.9,
          9.9,
          9.95,
          9.9,
          9.95,
          9.95,
          9.9,
          9.9,
          9.95,
          9.95,
          9.9,
          9.9,
          9.95,
          9.95,
          9.9,
          9.9,
          9.9,
          9.95,
          9.95,
          9.95,
          9.95,
          9.95,
          9.95,
          9.95,
          9.975,
          9.995,
          10,
          10,
          10,
          10,
          10,
          10,
          10,
          10,
          10,
          10,
          10,
          10,
          10,
          9.601,
          9.25,
          9.25,
          9.25,
          9.35,
          9.35,
          9.45,
          9.45,
          9.45,
          9.5,
          9.5,
          9.5,
          9.5,
          9.5,
          9.5,
          9.5,
          9.5,
          9.5,
          9.5,
          9.5,
          9.5,
          9.5,
          9.5,
          9.601,
          9.601,
          9.601,
          9.601,
          9.65,
          9.74,
          9.7,
          3.75,
          9.74,
          9.25,
          8.95,
          8.825,
          8.825,
          8.825,
          8.825,
          8.95,
          8.95,
          8.95,
          8.95,
          8.95,
          8.95,
          8.95,
          8.95,
          8.95,
          8.95,
          8.95,
          8.95,
          8.95,
          8.95,
          8.95,
          8.995,
          8.95,
          9,
          8.99995,
          9,
          9,
          9,
          9,
          9,
          9,
          0.575,
          9,
          8.2,
          8.5,
          8.5,
          8.5,
          8.5,
          8.5,
          8.5,
          8.625,
          8.65,
          8.75,
          8.75,
          8.75,
          8.75,
          8.75,
          8.75,
          8.75,
          8.75,
          8.8,
          8.825,
          0.475,
          8.5,
          8.5,
          8.5,
          8.5,
          8.5,
          8.5,
          8.5,
          8.5,
          8.5,
          8.5,
          8.5,
          8.5,
          8.5,
          8.5,
          8.25,
          8.25,
          8.25,
          8.3,
          8.3,
          8.325,
          8.45,
          8.45,
          8.45,
          8.35,
          8.45,
          8.45,
          8.5,
          8.45,
          8.45,
          8.5,
          8.5,
          0.695,
          7.87,
          7.87,
          7.87,
          7.92,
          7.95,
          7.95,
          7.95,
          7.95,
          7.95,
          7.95,
          7.95,
          7.95,
          7.95,
          7.95,
          7.95,
          7.95,
          7.95,
          7.95,
          7.95,
          7.95,
          7.95,
          8,
          7.95,
          8,
          7.95,
          7.95,
          7.95,
          7.95,
          7.95,
          8,
          7.95,
          8,
          8,
          7.95,
          0.55,
          8,
          8,
          7.95,
          7.95,
          8,
          7.98,
          8,
          7.995,
          7.995,
          8,
          7.995,
          8,
          8,
          8,
          8,
          8,
          1.05,
          8.044,
          8,
          8.044,
          8.044,
          8.1,
          8.15,
          8.2,
          8.1,
          8.2,
          0.75,
          7.75,
          7.75,
          7.5,
          7.5,
          7.5,
          7.5,
          7.5,
          7.6,
          7.5,
          7.6,
          7.6,
          7.65,
          7.65,
          7.65,
          7.65,
          7.696,
          7.696,
          7.75,
          7.75,
          7.75,
          7.75,
          7.75,
          7.75,
          7.75,
          7.75,
          7.75,
          7.75,
          7.75,
          7.75,
          7.8,
          7.8,
          7.8,
          7.8,
          7.8,
          7.85,
          7.85,
          7.495,
          7.295,
          7.495,
          7.295,
          7.495,
          7.495,
          7.495,
          7.295,
          7.5,
          7.295,
          7.295,
          7.5,
          7.5,
          7.3,
          7.3,
          7.295,
          7.5,
          7.5,
          7.3,
          7.5,
          7.5,
          7.3,
          7.35,
          7.5,
          7.5,
          7.35,
          7.35,
          7.35,
          7.5,
          7.5,
          7.5,
          7.5,
          7.364,
          7.5,
          7.5,
          7.398,
          7.4,
          7.4,
          7.5,
          7.49,
          7.45,
          7.1875,
          7.25,
          6.95,
          6.95,
          6.95,
          6.95,
          6.95,
          6.95,
          6.95,
          6.95,
          6.95,
          6.95,
          6.95,
          6.95,
          6.95,
          6.95,
          6.95,
          6.95,
          6.99,
          6.995,
          6.95,
          7.2,
          7.2,
          7.2,
          7.2,
          6.995,
          6.995,
          7.25,
          6.995,
          7.25,
          7.25,
          7,
          7.25,
          7,
          7.25,
          7.25,
          7,
          7.25,
          7.25,
          7.25,
          7,
          7.25,
          7,
          7.25,
          0.845,
          7.05,
          7,
          7.15,
          7.053,
          7.15,
          7.15,
          6.9,
          6.595,
          6.5,
          6.5,
          6.5,
          6.5,
          6.5,
          6.5,
          6.5,
          6.595,
          6.5,
          6.85,
          6.595,
          6.85,
          6.6,
          6.85,
          6.9,
          6.6,
          6.6,
          6.636,
          6.6,
          6.62,
          6.65,
          6.95,
          6.62,
          6.95,
          6.95,
          6.636,
          6.95,
          6.75,
          6.75,
          6.636,
          6.95,
          6.636,
          6.95,
          1.2,
          6.75,
          6.75,
          6.95,
          6.95,
          6.75,
          6.95,
          6.75,
          6.95,
          6.75,
          6.75,
          6.95,
          6.75,
          6.75,
          6.95,
          6.95,
          6.75,
          6.75,
          6.8,
          6.95,
          6.95,
          6.815,
          0.55,
          6.825,
          6.815,
          0.9,
          6.5,
          6.5,
          6.5,
          6.5,
          6.5,
          6.5,
          6.5,
          6.5,
          6.5,
          6.5,
          6.5,
          6.5,
          6.5,
          6.5,
          6.5,
          6.5,
          6.5,
          6.5,
          1.6,
          6.5,
          6.5,
          6.5,
          6.5,
          6.5,
          6.5,
          6.5,
          6.5,
          6.5,
          6.5,
          6.5
         ],
         "xaxis": "x",
         "yaxis": "y"
        }
       ],
       "layout": {
        "annotations": [
         {
          "showarrow": false,
          "text": "Mean",
          "x": 10.958573401360544,
          "xanchor": "left",
          "xref": "x",
          "y": 1,
          "yanchor": "top",
          "yref": "y domain"
         },
         {
          "showarrow": false,
          "text": "Median",
          "x": 9,
          "xanchor": "right",
          "xref": "x",
          "y": 1,
          "yanchor": "top",
          "yref": "y domain"
         }
        ],
        "barmode": "relative",
        "legend": {
         "title": {
          "text": "Metrics"
         },
         "tracegroupgap": 0
        },
        "shapes": [
         {
          "line": {
           "color": "black",
           "dash": "dash"
          },
          "type": "line",
          "x0": 10.958573401360544,
          "x1": 10.958573401360544,
          "xref": "x",
          "y0": 0,
          "y1": 1,
          "yref": "y domain"
         },
         {
          "line": {
           "color": "red",
           "dash": "dash"
          },
          "type": "line",
          "x0": 9,
          "x1": 9,
          "xref": "x",
          "y0": 0,
          "y1": 1,
          "yref": "y domain"
         }
        ],
        "template": {
         "data": {
          "bar": [
           {
            "error_x": {
             "color": "#2a3f5f"
            },
            "error_y": {
             "color": "#2a3f5f"
            },
            "marker": {
             "line": {
              "color": "#E5ECF6",
              "width": 0.5
             },
             "pattern": {
              "fillmode": "overlay",
              "size": 10,
              "solidity": 0.2
             }
            },
            "type": "bar"
           }
          ],
          "barpolar": [
           {
            "marker": {
             "line": {
              "color": "#E5ECF6",
              "width": 0.5
             },
             "pattern": {
              "fillmode": "overlay",
              "size": 10,
              "solidity": 0.2
             }
            },
            "type": "barpolar"
           }
          ],
          "carpet": [
           {
            "aaxis": {
             "endlinecolor": "#2a3f5f",
             "gridcolor": "white",
             "linecolor": "white",
             "minorgridcolor": "white",
             "startlinecolor": "#2a3f5f"
            },
            "baxis": {
             "endlinecolor": "#2a3f5f",
             "gridcolor": "white",
             "linecolor": "white",
             "minorgridcolor": "white",
             "startlinecolor": "#2a3f5f"
            },
            "type": "carpet"
           }
          ],
          "choropleth": [
           {
            "colorbar": {
             "outlinewidth": 0,
             "ticks": ""
            },
            "type": "choropleth"
           }
          ],
          "contour": [
           {
            "colorbar": {
             "outlinewidth": 0,
             "ticks": ""
            },
            "colorscale": [
             [
              0,
              "#0d0887"
             ],
             [
              0.1111111111111111,
              "#46039f"
             ],
             [
              0.2222222222222222,
              "#7201a8"
             ],
             [
              0.3333333333333333,
              "#9c179e"
             ],
             [
              0.4444444444444444,
              "#bd3786"
             ],
             [
              0.5555555555555556,
              "#d8576b"
             ],
             [
              0.6666666666666666,
              "#ed7953"
             ],
             [
              0.7777777777777778,
              "#fb9f3a"
             ],
             [
              0.8888888888888888,
              "#fdca26"
             ],
             [
              1,
              "#f0f921"
             ]
            ],
            "type": "contour"
           }
          ],
          "contourcarpet": [
           {
            "colorbar": {
             "outlinewidth": 0,
             "ticks": ""
            },
            "type": "contourcarpet"
           }
          ],
          "heatmap": [
           {
            "colorbar": {
             "outlinewidth": 0,
             "ticks": ""
            },
            "colorscale": [
             [
              0,
              "#0d0887"
             ],
             [
              0.1111111111111111,
              "#46039f"
             ],
             [
              0.2222222222222222,
              "#7201a8"
             ],
             [
              0.3333333333333333,
              "#9c179e"
             ],
             [
              0.4444444444444444,
              "#bd3786"
             ],
             [
              0.5555555555555556,
              "#d8576b"
             ],
             [
              0.6666666666666666,
              "#ed7953"
             ],
             [
              0.7777777777777778,
              "#fb9f3a"
             ],
             [
              0.8888888888888888,
              "#fdca26"
             ],
             [
              1,
              "#f0f921"
             ]
            ],
            "type": "heatmap"
           }
          ],
          "heatmapgl": [
           {
            "colorbar": {
             "outlinewidth": 0,
             "ticks": ""
            },
            "colorscale": [
             [
              0,
              "#0d0887"
             ],
             [
              0.1111111111111111,
              "#46039f"
             ],
             [
              0.2222222222222222,
              "#7201a8"
             ],
             [
              0.3333333333333333,
              "#9c179e"
             ],
             [
              0.4444444444444444,
              "#bd3786"
             ],
             [
              0.5555555555555556,
              "#d8576b"
             ],
             [
              0.6666666666666666,
              "#ed7953"
             ],
             [
              0.7777777777777778,
              "#fb9f3a"
             ],
             [
              0.8888888888888888,
              "#fdca26"
             ],
             [
              1,
              "#f0f921"
             ]
            ],
            "type": "heatmapgl"
           }
          ],
          "histogram": [
           {
            "marker": {
             "pattern": {
              "fillmode": "overlay",
              "size": 10,
              "solidity": 0.2
             }
            },
            "type": "histogram"
           }
          ],
          "histogram2d": [
           {
            "colorbar": {
             "outlinewidth": 0,
             "ticks": ""
            },
            "colorscale": [
             [
              0,
              "#0d0887"
             ],
             [
              0.1111111111111111,
              "#46039f"
             ],
             [
              0.2222222222222222,
              "#7201a8"
             ],
             [
              0.3333333333333333,
              "#9c179e"
             ],
             [
              0.4444444444444444,
              "#bd3786"
             ],
             [
              0.5555555555555556,
              "#d8576b"
             ],
             [
              0.6666666666666666,
              "#ed7953"
             ],
             [
              0.7777777777777778,
              "#fb9f3a"
             ],
             [
              0.8888888888888888,
              "#fdca26"
             ],
             [
              1,
              "#f0f921"
             ]
            ],
            "type": "histogram2d"
           }
          ],
          "histogram2dcontour": [
           {
            "colorbar": {
             "outlinewidth": 0,
             "ticks": ""
            },
            "colorscale": [
             [
              0,
              "#0d0887"
             ],
             [
              0.1111111111111111,
              "#46039f"
             ],
             [
              0.2222222222222222,
              "#7201a8"
             ],
             [
              0.3333333333333333,
              "#9c179e"
             ],
             [
              0.4444444444444444,
              "#bd3786"
             ],
             [
              0.5555555555555556,
              "#d8576b"
             ],
             [
              0.6666666666666666,
              "#ed7953"
             ],
             [
              0.7777777777777778,
              "#fb9f3a"
             ],
             [
              0.8888888888888888,
              "#fdca26"
             ],
             [
              1,
              "#f0f921"
             ]
            ],
            "type": "histogram2dcontour"
           }
          ],
          "mesh3d": [
           {
            "colorbar": {
             "outlinewidth": 0,
             "ticks": ""
            },
            "type": "mesh3d"
           }
          ],
          "parcoords": [
           {
            "line": {
             "colorbar": {
              "outlinewidth": 0,
              "ticks": ""
             }
            },
            "type": "parcoords"
           }
          ],
          "pie": [
           {
            "automargin": true,
            "type": "pie"
           }
          ],
          "scatter": [
           {
            "fillpattern": {
             "fillmode": "overlay",
             "size": 10,
             "solidity": 0.2
            },
            "type": "scatter"
           }
          ],
          "scatter3d": [
           {
            "line": {
             "colorbar": {
              "outlinewidth": 0,
              "ticks": ""
             }
            },
            "marker": {
             "colorbar": {
              "outlinewidth": 0,
              "ticks": ""
             }
            },
            "type": "scatter3d"
           }
          ],
          "scattercarpet": [
           {
            "marker": {
             "colorbar": {
              "outlinewidth": 0,
              "ticks": ""
             }
            },
            "type": "scattercarpet"
           }
          ],
          "scattergeo": [
           {
            "marker": {
             "colorbar": {
              "outlinewidth": 0,
              "ticks": ""
             }
            },
            "type": "scattergeo"
           }
          ],
          "scattergl": [
           {
            "marker": {
             "colorbar": {
              "outlinewidth": 0,
              "ticks": ""
             }
            },
            "type": "scattergl"
           }
          ],
          "scattermapbox": [
           {
            "marker": {
             "colorbar": {
              "outlinewidth": 0,
              "ticks": ""
             }
            },
            "type": "scattermapbox"
           }
          ],
          "scatterpolar": [
           {
            "marker": {
             "colorbar": {
              "outlinewidth": 0,
              "ticks": ""
             }
            },
            "type": "scatterpolar"
           }
          ],
          "scatterpolargl": [
           {
            "marker": {
             "colorbar": {
              "outlinewidth": 0,
              "ticks": ""
             }
            },
            "type": "scatterpolargl"
           }
          ],
          "scatterternary": [
           {
            "marker": {
             "colorbar": {
              "outlinewidth": 0,
              "ticks": ""
             }
            },
            "type": "scatterternary"
           }
          ],
          "surface": [
           {
            "colorbar": {
             "outlinewidth": 0,
             "ticks": ""
            },
            "colorscale": [
             [
              0,
              "#0d0887"
             ],
             [
              0.1111111111111111,
              "#46039f"
             ],
             [
              0.2222222222222222,
              "#7201a8"
             ],
             [
              0.3333333333333333,
              "#9c179e"
             ],
             [
              0.4444444444444444,
              "#bd3786"
             ],
             [
              0.5555555555555556,
              "#d8576b"
             ],
             [
              0.6666666666666666,
              "#ed7953"
             ],
             [
              0.7777777777777778,
              "#fb9f3a"
             ],
             [
              0.8888888888888888,
              "#fdca26"
             ],
             [
              1,
              "#f0f921"
             ]
            ],
            "type": "surface"
           }
          ],
          "table": [
           {
            "cells": {
             "fill": {
              "color": "#EBF0F8"
             },
             "line": {
              "color": "white"
             }
            },
            "header": {
             "fill": {
              "color": "#C8D4E3"
             },
             "line": {
              "color": "white"
             }
            },
            "type": "table"
           }
          ]
         },
         "layout": {
          "annotationdefaults": {
           "arrowcolor": "#2a3f5f",
           "arrowhead": 0,
           "arrowwidth": 1
          },
          "autotypenumbers": "strict",
          "coloraxis": {
           "colorbar": {
            "outlinewidth": 0,
            "ticks": ""
           }
          },
          "colorscale": {
           "diverging": [
            [
             0,
             "#8e0152"
            ],
            [
             0.1,
             "#c51b7d"
            ],
            [
             0.2,
             "#de77ae"
            ],
            [
             0.3,
             "#f1b6da"
            ],
            [
             0.4,
             "#fde0ef"
            ],
            [
             0.5,
             "#f7f7f7"
            ],
            [
             0.6,
             "#e6f5d0"
            ],
            [
             0.7,
             "#b8e186"
            ],
            [
             0.8,
             "#7fbc41"
            ],
            [
             0.9,
             "#4d9221"
            ],
            [
             1,
             "#276419"
            ]
           ],
           "sequential": [
            [
             0,
             "#0d0887"
            ],
            [
             0.1111111111111111,
             "#46039f"
            ],
            [
             0.2222222222222222,
             "#7201a8"
            ],
            [
             0.3333333333333333,
             "#9c179e"
            ],
            [
             0.4444444444444444,
             "#bd3786"
            ],
            [
             0.5555555555555556,
             "#d8576b"
            ],
            [
             0.6666666666666666,
             "#ed7953"
            ],
            [
             0.7777777777777778,
             "#fb9f3a"
            ],
            [
             0.8888888888888888,
             "#fdca26"
            ],
            [
             1,
             "#f0f921"
            ]
           ],
           "sequentialminus": [
            [
             0,
             "#0d0887"
            ],
            [
             0.1111111111111111,
             "#46039f"
            ],
            [
             0.2222222222222222,
             "#7201a8"
            ],
            [
             0.3333333333333333,
             "#9c179e"
            ],
            [
             0.4444444444444444,
             "#bd3786"
            ],
            [
             0.5555555555555556,
             "#d8576b"
            ],
            [
             0.6666666666666666,
             "#ed7953"
            ],
            [
             0.7777777777777778,
             "#fb9f3a"
            ],
            [
             0.8888888888888888,
             "#fdca26"
            ],
            [
             1,
             "#f0f921"
            ]
           ]
          },
          "colorway": [
           "#636efa",
           "#EF553B",
           "#00cc96",
           "#ab63fa",
           "#FFA15A",
           "#19d3f3",
           "#FF6692",
           "#B6E880",
           "#FF97FF",
           "#FECB52"
          ],
          "font": {
           "color": "#2a3f5f"
          },
          "geo": {
           "bgcolor": "white",
           "lakecolor": "white",
           "landcolor": "#E5ECF6",
           "showlakes": true,
           "showland": true,
           "subunitcolor": "white"
          },
          "hoverlabel": {
           "align": "left"
          },
          "hovermode": "closest",
          "mapbox": {
           "style": "light"
          },
          "paper_bgcolor": "white",
          "plot_bgcolor": "#E5ECF6",
          "polar": {
           "angularaxis": {
            "gridcolor": "white",
            "linecolor": "white",
            "ticks": ""
           },
           "bgcolor": "#E5ECF6",
           "radialaxis": {
            "gridcolor": "white",
            "linecolor": "white",
            "ticks": ""
           }
          },
          "scene": {
           "xaxis": {
            "backgroundcolor": "#E5ECF6",
            "gridcolor": "white",
            "gridwidth": 2,
            "linecolor": "white",
            "showbackground": true,
            "ticks": "",
            "zerolinecolor": "white"
           },
           "yaxis": {
            "backgroundcolor": "#E5ECF6",
            "gridcolor": "white",
            "gridwidth": 2,
            "linecolor": "white",
            "showbackground": true,
            "ticks": "",
            "zerolinecolor": "white"
           },
           "zaxis": {
            "backgroundcolor": "#E5ECF6",
            "gridcolor": "white",
            "gridwidth": 2,
            "linecolor": "white",
            "showbackground": true,
            "ticks": "",
            "zerolinecolor": "white"
           }
          },
          "shapedefaults": {
           "line": {
            "color": "#2a3f5f"
           }
          },
          "ternary": {
           "aaxis": {
            "gridcolor": "white",
            "linecolor": "white",
            "ticks": ""
           },
           "baxis": {
            "gridcolor": "white",
            "linecolor": "white",
            "ticks": ""
           },
           "bgcolor": "#E5ECF6",
           "caxis": {
            "gridcolor": "white",
            "linecolor": "white",
            "ticks": ""
           }
          },
          "title": {
           "x": 0.05
          },
          "xaxis": {
           "automargin": true,
           "gridcolor": "white",
           "linecolor": "white",
           "ticks": "",
           "title": {
            "standoff": 15
           },
           "zerolinecolor": "white",
           "zerolinewidth": 2
          },
          "yaxis": {
           "automargin": true,
           "gridcolor": "white",
           "linecolor": "white",
           "ticks": "",
           "title": {
            "standoff": 15
           },
           "zerolinecolor": "white",
           "zerolinewidth": 2
          }
         }
        },
        "title": {
         "text": "Distribución por precio"
        },
        "xaxis": {
         "anchor": "y",
         "domain": [
          0,
          1
         ],
         "title": {
          "text": "price(M)"
         }
        },
        "yaxis": {
         "anchor": "x",
         "domain": [
          0,
          1
         ],
         "title": {
          "text": "count"
         }
        }
       }
      }
     },
     "metadata": {},
     "output_type": "display_data"
    }
   ],
   "source": [
    "fig = px.histogram(\n",
    "    subset, \n",
    "    x=\"price(M)\", \n",
    "    nbins=100, \n",
    "    title=\"Distribución por precio\",\n",
    ")\n",
    "\n",
    "mean_value = subset[\"price(M)\"].mean()\n",
    "median_value = subset[\"price(M)\"].median()\n",
    "\n",
    "fig.add_vline(\n",
    "    x=mean_value, \n",
    "    line=dict(color='black', dash='dash'), \n",
    "    annotation_text=\"Mean\", \n",
    "    annotation_position=\"top right\"\n",
    ")\n",
    "fig.add_vline(\n",
    "    x=median_value, \n",
    "    line=dict(color='red', dash='dash'), \n",
    "    annotation_text=\"Median\", \n",
    "    annotation_position=\"top left\"\n",
    ")\n",
    "\n",
    "# Show the legend\n",
    "fig.update_layout(legend_title_text=\"Metrics\")\n",
    "fig.show()\n"
   ]
  },
  {
   "cell_type": "markdown",
   "metadata": {
    "id": "wsvsFSWMdwpp"
   },
   "source": [
    "A pesar de tener un suelo en 6.5M, la distribucion es muy similar a `sizeSqFeetMax`, se concluye que la distribución de sizeSqFeetMax no es normal.\n"
   ]
  },
  {
   "cell_type": "code",
   "execution_count": 121,
   "metadata": {
    "colab": {
     "base_uri": "https://localhost:8080/"
    },
    "id": "Jnwn9DWf_8d7",
    "outputId": "3748fbd0-2612-4925-b8ea-a9f45d55e0eb"
   },
   "outputs": [
    {
     "name": "stdout",
     "output_type": "stream",
     "text": [
      "Asimetria: 2.66270019990273\n",
      "Curtosis: 13.484118324222077\n"
     ]
    }
   ],
   "source": [
    "price=subset[\"price(M)\"]\n",
    "print(\"Asimetria: \"+ str(skew(price, axis=0, bias=True)))\n",
    "print(\"Curtosis: \"+ str(stats.kurtosis(price, axis=0, fisher=True, bias=True)))"
   ]
  },
  {
   "cell_type": "markdown",
   "metadata": {
    "id": "QEj_ra2eAD1N"
   },
   "source": [
    "La asimetría y no normalidad ya eran extremadamente obras antes del test por lo que no indagaremos en estos resultados, más allá de destacar lo alto que es el valor de curtosis."
   ]
  },
  {
   "cell_type": "markdown",
   "metadata": {
    "id": "CByP4E0xk4cE"
   },
   "source": [
    "#### **pricePerSqFoot**\n",
    "\n",
    "* Descripción: Precio del pie cuadrado.\n",
    "* Tipo de variable: Cuantitativa continua.\n",
    "* Normalidad: No (F de Fisher-Snedecor?)\n",
    "\n"
   ]
  },
  {
   "cell_type": "code",
   "execution_count": 122,
   "metadata": {},
   "outputs": [
    {
     "data": {
      "text/plain": [
       "count    735.000000\n",
       "mean       2.757374\n",
       "std        1.257427\n",
       "min        0.440000\n",
       "25%        1.945000\n",
       "50%        2.570000\n",
       "75%        3.385000\n",
       "max        8.480000\n",
       "Name: pricePerSqFoot(k), dtype: float64"
      ]
     },
     "execution_count": 122,
     "metadata": {},
     "output_type": "execute_result"
    }
   ],
   "source": [
    "subset[\"pricePerSqFoot(k)\"].describe()\n"
   ]
  },
  {
   "cell_type": "code",
   "execution_count": 123,
   "metadata": {},
   "outputs": [
    {
     "data": {
      "application/vnd.plotly.v1+json": {
       "config": {
        "plotlyServerURL": "https://plot.ly"
       },
       "data": [
        {
         "alignmentgroup": "True",
         "bingroup": "x",
         "hovertemplate": "pricePerSqFoot(k)=%{x}<br>count=%{y}<extra></extra>",
         "legendgroup": "",
         "marker": {
          "color": "#636efa",
          "pattern": {
           "shape": ""
          }
         },
         "name": "",
         "nbinsx": 40,
         "offsetgroup": "",
         "orientation": "v",
         "showlegend": false,
         "type": "histogram",
         "x": [
          1.49,
          2.28,
          3.6,
          1.49,
          2.44,
          3.69,
          3.28,
          2.71,
          4.16,
          6.24,
          1.98,
          4.16,
          4.26,
          4.26,
          3.79,
          2.3,
          3.79,
          2.28,
          1.59,
          1.92,
          3.84,
          5.37,
          3.61,
          1.75,
          2.54,
          2.54,
          4.2,
          2.84,
          3.6,
          3.1,
          6.8,
          3.16,
          2.79,
          5.56,
          4.05,
          3.11,
          3.77,
          2.03,
          3.11,
          3.11,
          1.98,
          6.5,
          6.04,
          2.56,
          4.31,
          3.04,
          3.34,
          4.55,
          4.55,
          3.38,
          1.85,
          2.73,
          3.11,
          5.35,
          2.97,
          2.93,
          3.05,
          4.39,
          1.49,
          1.44,
          3.12,
          3.19,
          2.06,
          2.98,
          2.06,
          2.98,
          4.12,
          1.93,
          1.93,
          4.45,
          3.5,
          2.32,
          4.07,
          2.41,
          3.12,
          3.79,
          3.07,
          2.69,
          5.88,
          2.08,
          5.95,
          3.23,
          1.9,
          3.24,
          1.88,
          3.5,
          0.83,
          3.44,
          2.33,
          3.43,
          4.49,
          1.76,
          3.39,
          4.58,
          4.58,
          2.52,
          2.16,
          2.62,
          2.16,
          2.78,
          2.79,
          2.61,
          3.5,
          2.79,
          0.81,
          1.44,
          1.54,
          2.95,
          5.45,
          3.37,
          3.37,
          1.93,
          5.21,
          2.95,
          5.33,
          5.28,
          2.78,
          2.15,
          5.23,
          2.99,
          2.94,
          2.78,
          6.15,
          5.29,
          6.16,
          3.32,
          1.35,
          1.32,
          1.54,
          3.65,
          3.45,
          3.5,
          4.35,
          4.35,
          2.26,
          2.26,
          4.35,
          1.97,
          5.15,
          4.35,
          2.92,
          4.68,
          2.53,
          2.13,
          2.2,
          2.22,
          7.23,
          2.55,
          0.81,
          1.73,
          1.73,
          7.63,
          1.36,
          2.66,
          2.47,
          2.27,
          5.5,
          5.5,
          2.36,
          4.5,
          2.12,
          2.64,
          5.46,
          5.85,
          3.25,
          1.13,
          2.16,
          3.01,
          1.89,
          2.88,
          4.38,
          3.56,
          2.59,
          3.34,
          2.32,
          1.9,
          1.86,
          1.09,
          2.79,
          3.43,
          2.88,
          3.43,
          2.32,
          7.3,
          2.69,
          4.56,
          2.69,
          4.5,
          2.91,
          1.38,
          2.57,
          1.31,
          2.91,
          1.38,
          1.18,
          2.51,
          2.37,
          3.33,
          4.48,
          3.21,
          4.07,
          2.41,
          3.04,
          2.37,
          2.2,
          2.29,
          0.98,
          2.75,
          2.17,
          1.35,
          3.46,
          2.96,
          1.45,
          2.75,
          4.96,
          3.85,
          2.73,
          3.47,
          1.45,
          2.81,
          0.81,
          4.83,
          3.85,
          2.86,
          2.73,
          2.75,
          2.39,
          3.82,
          2.93,
          2.31,
          3,
          1.54,
          3.47,
          2.83,
          5.07,
          1.57,
          1.33,
          3.82,
          3.3,
          5,
          2.71,
          3.04,
          1.09,
          4,
          2.3,
          2.44,
          1.03,
          2.67,
          0.85,
          2.93,
          3.01,
          2.29,
          1.28,
          2.91,
          3.02,
          2.85,
          3.12,
          2.59,
          3,
          4.34,
          1.78,
          2.87,
          2.43,
          4.34,
          3.27,
          4.34,
          2.5,
          3.24,
          2.51,
          1.98,
          2.07,
          3.1,
          1.7,
          4.52,
          3.46,
          1.96,
          1.94,
          3.46,
          2.3,
          2.37,
          4.48,
          4.52,
          4.36,
          2.08,
          4.48,
          2.51,
          3.45,
          1.25,
          0.87,
          0.57,
          3.13,
          2.15,
          2.42,
          0.84,
          2.64,
          2.42,
          3.47,
          3.47,
          3.47,
          3.47,
          1.6,
          3.47,
          1.8,
          5.08,
          3.47,
          3.47,
          0.97,
          2.09,
          3.47,
          7.21,
          5.07,
          2.44,
          3.47,
          3.47,
          3.43,
          2.38,
          2.91,
          2.38,
          2.87,
          2.09,
          1.82,
          2.34,
          1.13,
          1.37,
          5,
          1.65,
          3.91,
          2.02,
          1.27,
          3.65,
          2.87,
          3.15,
          2.27,
          2.27,
          3.42,
          3.01,
          1.66,
          2.76,
          2.57,
          3.14,
          2.92,
          1.77,
          1.84,
          3.9,
          3.9,
          3.9,
          1.87,
          1.97,
          2.88,
          3.33,
          1.97,
          1.74,
          2.76,
          3.33,
          2.06,
          2.72,
          2.72,
          1.74,
          2,
          3.33,
          3.02,
          3.08,
          3.08,
          3.08,
          2.65,
          4.07,
          2.31,
          1.39,
          4.07,
          2.77,
          3.18,
          2.39,
          2.39,
          2.39,
          2.39,
          2.57,
          1.17,
          1.3,
          2.49,
          2.63,
          0.71,
          1.46,
          3.64,
          8.48,
          1.96,
          2.77,
          3.29,
          3.31,
          1.96,
          3.07,
          2.34,
          3.07,
          3.15,
          1.87,
          1.5,
          3.11,
          1.71,
          3.3,
          1.52,
          3.77,
          0.58,
          2.15,
          7.04,
          1.55,
          3.93,
          2.96,
          2.45,
          2.07,
          1.38,
          2.88,
          2.22,
          1.96,
          6.14,
          0.58,
          3.61,
          3.36,
          2.86,
          3.35,
          3.08,
          6.29,
          2.39,
          0.47,
          2.67,
          3.11,
          2.24,
          4.19,
          4.22,
          1.42,
          3.28,
          2.43,
          1.42,
          3.93,
          2.07,
          2.01,
          2.99,
          1.31,
          3.19,
          2.58,
          2.03,
          2.66,
          3.52,
          3.9,
          2.44,
          2.44,
          2.44,
          3.37,
          2.1,
          2.44,
          1.73,
          2.11,
          2.44,
          2.53,
          1.42,
          0.56,
          2.6,
          2.57,
          2.57,
          3.77,
          2.34,
          2.01,
          1.76,
          3.92,
          1.86,
          2.83,
          2.27,
          2.34,
          1.11,
          2.23,
          4.02,
          1.16,
          3.95,
          2.13,
          3.01,
          2.5,
          2.56,
          2.48,
          2.23,
          1.45,
          1.44,
          2.34,
          1.9,
          1.97,
          2.34,
          2.66,
          1.79,
          2.66,
          0.78,
          2.19,
          0.63,
          6.25,
          2.12,
          2.83,
          4.14,
          5.62,
          2.42,
          2.62,
          4.7,
          1.77,
          1.86,
          4.69,
          1.49,
          1.86,
          0.79,
          0.78,
          2.73,
          1.51,
          2.66,
          1.67,
          2.63,
          2.73,
          1.84,
          4.92,
          5,
          2.6,
          4.95,
          1.17,
          2.26,
          1.22,
          1.83,
          1.68,
          2.56,
          1.84,
          0.6,
          1.88,
          0.6,
          2.48,
          2.69,
          1.23,
          1.01,
          2.33,
          0.99,
          2.52,
          2.52,
          4.37,
          2.46,
          1,
          1.36,
          4.07,
          1.36,
          2.09,
          1.22,
          2.36,
          2.21,
          2.32,
          2.06,
          3.71,
          3.7,
          2.86,
          3.87,
          2.55,
          4.89,
          4.19,
          2.84,
          3.88,
          2.84,
          3.74,
          2.84,
          1.94,
          1.32,
          3.89,
          3.52,
          3.89,
          3.88,
          2.07,
          3.32,
          1.64,
          2.31,
          3.88,
          7.58,
          2.58,
          2.31,
          2.38,
          1.17,
          2.31,
          1.81,
          1.57,
          1.86,
          1.81,
          2.27,
          2.15,
          2.03,
          1.14,
          1.05,
          1.63,
          2.69,
          0.6,
          5.59,
          2.69,
          3.86,
          2.79,
          2.42,
          3.3,
          3.06,
          2.19,
          2.12,
          4.55,
          4.62,
          2.81,
          1.66,
          1.01,
          2.26,
          2.75,
          4.62,
          0.54,
          3.57,
          2.14,
          1.67,
          1.99,
          2.31,
          1.12,
          1.83,
          2.68,
          2.04,
          1.72,
          5.66,
          2.09,
          4.32,
          2.09,
          2.12,
          2.28,
          2.28,
          0.82,
          1.07,
          1.03,
          0.8,
          3.69,
          1.34,
          1.07,
          2.81,
          2.64,
          1.91,
          2.27,
          2.27,
          0.93,
          2.34,
          1.94,
          7.31,
          0.8,
          2.4,
          1.13,
          3.61,
          2.57,
          4.06,
          4.06,
          2.79,
          1.77,
          2.51,
          3.3,
          2.48,
          2.1,
          1.72,
          2.94,
          3.4,
          4.29,
          2.03,
          2,
          2.26,
          1.61,
          1.2,
          2,
          2.57,
          2.28,
          1.23,
          2.29,
          2.46,
          3.67,
          2.54,
          1.45,
          3.67,
          2.41,
          3.13,
          2.31,
          0.79,
          1.47,
          2.87,
          2.29,
          1.67,
          2.29,
          1.74,
          0.47,
          0.95,
          2.11,
          1.68,
          1.86,
          0.88,
          1.68,
          2.08,
          2.21,
          1.41,
          1.92,
          2.23,
          2.86,
          2.15,
          4.26,
          4.37,
          3.36,
          2.92,
          0.97,
          1.83,
          2.13,
          4.25,
          1.29,
          2.54,
          2.82,
          0.88,
          4.06,
          2.67,
          2.22,
          2.71,
          1.7,
          2.77,
          1.39,
          1.95,
          1.37,
          1.3,
          1.56,
          2.51,
          1.67,
          3.46,
          1.62,
          2.73,
          0.98,
          2.87,
          1.12,
          2.76,
          7.45,
          2.49,
          3.43,
          3.3,
          2.58,
          1.9,
          3.43,
          0.44,
          2.5,
          2.59
         ],
         "xaxis": "x",
         "yaxis": "y"
        }
       ],
       "layout": {
        "annotations": [
         {
          "showarrow": false,
          "text": "Mean",
          "x": 2.757374149659864,
          "xanchor": "left",
          "xref": "x",
          "y": 1,
          "yanchor": "top",
          "yref": "y domain"
         },
         {
          "showarrow": false,
          "text": "Median",
          "x": 2.57,
          "xanchor": "right",
          "xref": "x",
          "y": 1,
          "yanchor": "top",
          "yref": "y domain"
         }
        ],
        "barmode": "relative",
        "legend": {
         "title": {
          "text": "Metrics"
         },
         "tracegroupgap": 0
        },
        "shapes": [
         {
          "line": {
           "color": "black",
           "dash": "dash"
          },
          "type": "line",
          "x0": 2.757374149659864,
          "x1": 2.757374149659864,
          "xref": "x",
          "y0": 0,
          "y1": 1,
          "yref": "y domain"
         },
         {
          "line": {
           "color": "red",
           "dash": "dash"
          },
          "type": "line",
          "x0": 2.57,
          "x1": 2.57,
          "xref": "x",
          "y0": 0,
          "y1": 1,
          "yref": "y domain"
         }
        ],
        "template": {
         "data": {
          "bar": [
           {
            "error_x": {
             "color": "#2a3f5f"
            },
            "error_y": {
             "color": "#2a3f5f"
            },
            "marker": {
             "line": {
              "color": "#E5ECF6",
              "width": 0.5
             },
             "pattern": {
              "fillmode": "overlay",
              "size": 10,
              "solidity": 0.2
             }
            },
            "type": "bar"
           }
          ],
          "barpolar": [
           {
            "marker": {
             "line": {
              "color": "#E5ECF6",
              "width": 0.5
             },
             "pattern": {
              "fillmode": "overlay",
              "size": 10,
              "solidity": 0.2
             }
            },
            "type": "barpolar"
           }
          ],
          "carpet": [
           {
            "aaxis": {
             "endlinecolor": "#2a3f5f",
             "gridcolor": "white",
             "linecolor": "white",
             "minorgridcolor": "white",
             "startlinecolor": "#2a3f5f"
            },
            "baxis": {
             "endlinecolor": "#2a3f5f",
             "gridcolor": "white",
             "linecolor": "white",
             "minorgridcolor": "white",
             "startlinecolor": "#2a3f5f"
            },
            "type": "carpet"
           }
          ],
          "choropleth": [
           {
            "colorbar": {
             "outlinewidth": 0,
             "ticks": ""
            },
            "type": "choropleth"
           }
          ],
          "contour": [
           {
            "colorbar": {
             "outlinewidth": 0,
             "ticks": ""
            },
            "colorscale": [
             [
              0,
              "#0d0887"
             ],
             [
              0.1111111111111111,
              "#46039f"
             ],
             [
              0.2222222222222222,
              "#7201a8"
             ],
             [
              0.3333333333333333,
              "#9c179e"
             ],
             [
              0.4444444444444444,
              "#bd3786"
             ],
             [
              0.5555555555555556,
              "#d8576b"
             ],
             [
              0.6666666666666666,
              "#ed7953"
             ],
             [
              0.7777777777777778,
              "#fb9f3a"
             ],
             [
              0.8888888888888888,
              "#fdca26"
             ],
             [
              1,
              "#f0f921"
             ]
            ],
            "type": "contour"
           }
          ],
          "contourcarpet": [
           {
            "colorbar": {
             "outlinewidth": 0,
             "ticks": ""
            },
            "type": "contourcarpet"
           }
          ],
          "heatmap": [
           {
            "colorbar": {
             "outlinewidth": 0,
             "ticks": ""
            },
            "colorscale": [
             [
              0,
              "#0d0887"
             ],
             [
              0.1111111111111111,
              "#46039f"
             ],
             [
              0.2222222222222222,
              "#7201a8"
             ],
             [
              0.3333333333333333,
              "#9c179e"
             ],
             [
              0.4444444444444444,
              "#bd3786"
             ],
             [
              0.5555555555555556,
              "#d8576b"
             ],
             [
              0.6666666666666666,
              "#ed7953"
             ],
             [
              0.7777777777777778,
              "#fb9f3a"
             ],
             [
              0.8888888888888888,
              "#fdca26"
             ],
             [
              1,
              "#f0f921"
             ]
            ],
            "type": "heatmap"
           }
          ],
          "heatmapgl": [
           {
            "colorbar": {
             "outlinewidth": 0,
             "ticks": ""
            },
            "colorscale": [
             [
              0,
              "#0d0887"
             ],
             [
              0.1111111111111111,
              "#46039f"
             ],
             [
              0.2222222222222222,
              "#7201a8"
             ],
             [
              0.3333333333333333,
              "#9c179e"
             ],
             [
              0.4444444444444444,
              "#bd3786"
             ],
             [
              0.5555555555555556,
              "#d8576b"
             ],
             [
              0.6666666666666666,
              "#ed7953"
             ],
             [
              0.7777777777777778,
              "#fb9f3a"
             ],
             [
              0.8888888888888888,
              "#fdca26"
             ],
             [
              1,
              "#f0f921"
             ]
            ],
            "type": "heatmapgl"
           }
          ],
          "histogram": [
           {
            "marker": {
             "pattern": {
              "fillmode": "overlay",
              "size": 10,
              "solidity": 0.2
             }
            },
            "type": "histogram"
           }
          ],
          "histogram2d": [
           {
            "colorbar": {
             "outlinewidth": 0,
             "ticks": ""
            },
            "colorscale": [
             [
              0,
              "#0d0887"
             ],
             [
              0.1111111111111111,
              "#46039f"
             ],
             [
              0.2222222222222222,
              "#7201a8"
             ],
             [
              0.3333333333333333,
              "#9c179e"
             ],
             [
              0.4444444444444444,
              "#bd3786"
             ],
             [
              0.5555555555555556,
              "#d8576b"
             ],
             [
              0.6666666666666666,
              "#ed7953"
             ],
             [
              0.7777777777777778,
              "#fb9f3a"
             ],
             [
              0.8888888888888888,
              "#fdca26"
             ],
             [
              1,
              "#f0f921"
             ]
            ],
            "type": "histogram2d"
           }
          ],
          "histogram2dcontour": [
           {
            "colorbar": {
             "outlinewidth": 0,
             "ticks": ""
            },
            "colorscale": [
             [
              0,
              "#0d0887"
             ],
             [
              0.1111111111111111,
              "#46039f"
             ],
             [
              0.2222222222222222,
              "#7201a8"
             ],
             [
              0.3333333333333333,
              "#9c179e"
             ],
             [
              0.4444444444444444,
              "#bd3786"
             ],
             [
              0.5555555555555556,
              "#d8576b"
             ],
             [
              0.6666666666666666,
              "#ed7953"
             ],
             [
              0.7777777777777778,
              "#fb9f3a"
             ],
             [
              0.8888888888888888,
              "#fdca26"
             ],
             [
              1,
              "#f0f921"
             ]
            ],
            "type": "histogram2dcontour"
           }
          ],
          "mesh3d": [
           {
            "colorbar": {
             "outlinewidth": 0,
             "ticks": ""
            },
            "type": "mesh3d"
           }
          ],
          "parcoords": [
           {
            "line": {
             "colorbar": {
              "outlinewidth": 0,
              "ticks": ""
             }
            },
            "type": "parcoords"
           }
          ],
          "pie": [
           {
            "automargin": true,
            "type": "pie"
           }
          ],
          "scatter": [
           {
            "fillpattern": {
             "fillmode": "overlay",
             "size": 10,
             "solidity": 0.2
            },
            "type": "scatter"
           }
          ],
          "scatter3d": [
           {
            "line": {
             "colorbar": {
              "outlinewidth": 0,
              "ticks": ""
             }
            },
            "marker": {
             "colorbar": {
              "outlinewidth": 0,
              "ticks": ""
             }
            },
            "type": "scatter3d"
           }
          ],
          "scattercarpet": [
           {
            "marker": {
             "colorbar": {
              "outlinewidth": 0,
              "ticks": ""
             }
            },
            "type": "scattercarpet"
           }
          ],
          "scattergeo": [
           {
            "marker": {
             "colorbar": {
              "outlinewidth": 0,
              "ticks": ""
             }
            },
            "type": "scattergeo"
           }
          ],
          "scattergl": [
           {
            "marker": {
             "colorbar": {
              "outlinewidth": 0,
              "ticks": ""
             }
            },
            "type": "scattergl"
           }
          ],
          "scattermapbox": [
           {
            "marker": {
             "colorbar": {
              "outlinewidth": 0,
              "ticks": ""
             }
            },
            "type": "scattermapbox"
           }
          ],
          "scatterpolar": [
           {
            "marker": {
             "colorbar": {
              "outlinewidth": 0,
              "ticks": ""
             }
            },
            "type": "scatterpolar"
           }
          ],
          "scatterpolargl": [
           {
            "marker": {
             "colorbar": {
              "outlinewidth": 0,
              "ticks": ""
             }
            },
            "type": "scatterpolargl"
           }
          ],
          "scatterternary": [
           {
            "marker": {
             "colorbar": {
              "outlinewidth": 0,
              "ticks": ""
             }
            },
            "type": "scatterternary"
           }
          ],
          "surface": [
           {
            "colorbar": {
             "outlinewidth": 0,
             "ticks": ""
            },
            "colorscale": [
             [
              0,
              "#0d0887"
             ],
             [
              0.1111111111111111,
              "#46039f"
             ],
             [
              0.2222222222222222,
              "#7201a8"
             ],
             [
              0.3333333333333333,
              "#9c179e"
             ],
             [
              0.4444444444444444,
              "#bd3786"
             ],
             [
              0.5555555555555556,
              "#d8576b"
             ],
             [
              0.6666666666666666,
              "#ed7953"
             ],
             [
              0.7777777777777778,
              "#fb9f3a"
             ],
             [
              0.8888888888888888,
              "#fdca26"
             ],
             [
              1,
              "#f0f921"
             ]
            ],
            "type": "surface"
           }
          ],
          "table": [
           {
            "cells": {
             "fill": {
              "color": "#EBF0F8"
             },
             "line": {
              "color": "white"
             }
            },
            "header": {
             "fill": {
              "color": "#C8D4E3"
             },
             "line": {
              "color": "white"
             }
            },
            "type": "table"
           }
          ]
         },
         "layout": {
          "annotationdefaults": {
           "arrowcolor": "#2a3f5f",
           "arrowhead": 0,
           "arrowwidth": 1
          },
          "autotypenumbers": "strict",
          "coloraxis": {
           "colorbar": {
            "outlinewidth": 0,
            "ticks": ""
           }
          },
          "colorscale": {
           "diverging": [
            [
             0,
             "#8e0152"
            ],
            [
             0.1,
             "#c51b7d"
            ],
            [
             0.2,
             "#de77ae"
            ],
            [
             0.3,
             "#f1b6da"
            ],
            [
             0.4,
             "#fde0ef"
            ],
            [
             0.5,
             "#f7f7f7"
            ],
            [
             0.6,
             "#e6f5d0"
            ],
            [
             0.7,
             "#b8e186"
            ],
            [
             0.8,
             "#7fbc41"
            ],
            [
             0.9,
             "#4d9221"
            ],
            [
             1,
             "#276419"
            ]
           ],
           "sequential": [
            [
             0,
             "#0d0887"
            ],
            [
             0.1111111111111111,
             "#46039f"
            ],
            [
             0.2222222222222222,
             "#7201a8"
            ],
            [
             0.3333333333333333,
             "#9c179e"
            ],
            [
             0.4444444444444444,
             "#bd3786"
            ],
            [
             0.5555555555555556,
             "#d8576b"
            ],
            [
             0.6666666666666666,
             "#ed7953"
            ],
            [
             0.7777777777777778,
             "#fb9f3a"
            ],
            [
             0.8888888888888888,
             "#fdca26"
            ],
            [
             1,
             "#f0f921"
            ]
           ],
           "sequentialminus": [
            [
             0,
             "#0d0887"
            ],
            [
             0.1111111111111111,
             "#46039f"
            ],
            [
             0.2222222222222222,
             "#7201a8"
            ],
            [
             0.3333333333333333,
             "#9c179e"
            ],
            [
             0.4444444444444444,
             "#bd3786"
            ],
            [
             0.5555555555555556,
             "#d8576b"
            ],
            [
             0.6666666666666666,
             "#ed7953"
            ],
            [
             0.7777777777777778,
             "#fb9f3a"
            ],
            [
             0.8888888888888888,
             "#fdca26"
            ],
            [
             1,
             "#f0f921"
            ]
           ]
          },
          "colorway": [
           "#636efa",
           "#EF553B",
           "#00cc96",
           "#ab63fa",
           "#FFA15A",
           "#19d3f3",
           "#FF6692",
           "#B6E880",
           "#FF97FF",
           "#FECB52"
          ],
          "font": {
           "color": "#2a3f5f"
          },
          "geo": {
           "bgcolor": "white",
           "lakecolor": "white",
           "landcolor": "#E5ECF6",
           "showlakes": true,
           "showland": true,
           "subunitcolor": "white"
          },
          "hoverlabel": {
           "align": "left"
          },
          "hovermode": "closest",
          "mapbox": {
           "style": "light"
          },
          "paper_bgcolor": "white",
          "plot_bgcolor": "#E5ECF6",
          "polar": {
           "angularaxis": {
            "gridcolor": "white",
            "linecolor": "white",
            "ticks": ""
           },
           "bgcolor": "#E5ECF6",
           "radialaxis": {
            "gridcolor": "white",
            "linecolor": "white",
            "ticks": ""
           }
          },
          "scene": {
           "xaxis": {
            "backgroundcolor": "#E5ECF6",
            "gridcolor": "white",
            "gridwidth": 2,
            "linecolor": "white",
            "showbackground": true,
            "ticks": "",
            "zerolinecolor": "white"
           },
           "yaxis": {
            "backgroundcolor": "#E5ECF6",
            "gridcolor": "white",
            "gridwidth": 2,
            "linecolor": "white",
            "showbackground": true,
            "ticks": "",
            "zerolinecolor": "white"
           },
           "zaxis": {
            "backgroundcolor": "#E5ECF6",
            "gridcolor": "white",
            "gridwidth": 2,
            "linecolor": "white",
            "showbackground": true,
            "ticks": "",
            "zerolinecolor": "white"
           }
          },
          "shapedefaults": {
           "line": {
            "color": "#2a3f5f"
           }
          },
          "ternary": {
           "aaxis": {
            "gridcolor": "white",
            "linecolor": "white",
            "ticks": ""
           },
           "baxis": {
            "gridcolor": "white",
            "linecolor": "white",
            "ticks": ""
           },
           "bgcolor": "#E5ECF6",
           "caxis": {
            "gridcolor": "white",
            "linecolor": "white",
            "ticks": ""
           }
          },
          "title": {
           "x": 0.05
          },
          "xaxis": {
           "automargin": true,
           "gridcolor": "white",
           "linecolor": "white",
           "ticks": "",
           "title": {
            "standoff": 15
           },
           "zerolinecolor": "white",
           "zerolinewidth": 2
          },
          "yaxis": {
           "automargin": true,
           "gridcolor": "white",
           "linecolor": "white",
           "ticks": "",
           "title": {
            "standoff": 15
           },
           "zerolinecolor": "white",
           "zerolinewidth": 2
          }
         }
        },
        "title": {
         "text": "Distribución por precio"
        },
        "xaxis": {
         "anchor": "y",
         "domain": [
          0,
          1
         ],
         "title": {
          "text": "pricePerSqFoot(k)"
         }
        },
        "yaxis": {
         "anchor": "x",
         "domain": [
          0,
          1
         ],
         "title": {
          "text": "count"
         }
        }
       }
      }
     },
     "metadata": {},
     "output_type": "display_data"
    }
   ],
   "source": [
    "fig = px.histogram(\n",
    "    subset, \n",
    "    x=\"pricePerSqFoot(k)\", \n",
    "    nbins=40, \n",
    "    title=\"Distribución por precio\",\n",
    ")\n",
    "\n",
    "mean_value = subset[\"pricePerSqFoot(k)\"].mean()\n",
    "median_value = subset[\"pricePerSqFoot(k)\"].median()\n",
    "\n",
    "fig.add_vline(\n",
    "    x=mean_value, \n",
    "    line=dict(color='black', dash='dash'), \n",
    "    annotation_text=\"Mean\", \n",
    "    annotation_position=\"top right\"\n",
    ")\n",
    "fig.add_vline(\n",
    "    x=median_value, \n",
    "    line=dict(color='red', dash='dash'), \n",
    "    annotation_text=\"Median\", \n",
    "    annotation_position=\"top left\"\n",
    ")\n",
    "\n",
    "# Show the legend\n",
    "fig.update_layout(legend_title_text=\"Metrics\")\n",
    "fig.show()\n"
   ]
  },
  {
   "cell_type": "markdown",
   "metadata": {
    "id": "HSqJNmfIA1cT"
   },
   "source": [
    "En este caso la media y la mediana están relativamente cerca una de otra y la cola es lo bastante pequeña como para causar dudas sobre su normalidad."
   ]
  },
  {
   "cell_type": "code",
   "execution_count": 124,
   "metadata": {
    "colab": {
     "base_uri": "https://localhost:8080/"
    },
    "id": "iGGji8btA1I8",
    "outputId": "0bd9924a-1296-49f8-e0b0-bd0259fd059e"
   },
   "outputs": [
    {
     "name": "stdout",
     "output_type": "stream",
     "text": [
      "Asimetria: 1.0625133634495507\n",
      "Curtosis: 1.8818854050464422\n"
     ]
    }
   ],
   "source": [
    "PpF=subset[\"pricePerSqFoot(k)\"]\n",
    "print(\"Asimetria: \"+ str(skew(PpF, axis=0, bias=True)))\n",
    "print(\"Curtosis: \"+ str(stats.kurtosis(PpF, axis=0, fisher=True, bias=True)))"
   ]
  },
  {
   "cell_type": "markdown",
   "metadata": {
    "id": "a0TG5VrkA1ut"
   },
   "source": [
    "La asimetría es más alta de o esperado, pero comprensible puesto que esta variable está directamente relacionada con `price`. Por otro lado, la curtosis es la más pequeña hasta ahora."
   ]
  },
  {
   "cell_type": "markdown",
   "metadata": {
    "id": "55qfCJLqRMBY"
   },
   "source": [
    "#### **bedrooms**\n",
    "\n",
    "* Descripción: Número de habitaciones.\n",
    "* Tipo de variable: Cuantitativa discreta.\n",
    "* Normalidad: No\n"
   ]
  },
  {
   "cell_type": "code",
   "execution_count": 125,
   "metadata": {},
   "outputs": [
    {
     "data": {
      "text/plain": [
       "count    735.000000\n",
       "mean       4.779592\n",
       "std        1.866926\n",
       "min        1.000000\n",
       "25%        3.000000\n",
       "50%        5.000000\n",
       "75%        6.000000\n",
       "max       13.000000\n",
       "Name: bedrooms, dtype: float64"
      ]
     },
     "execution_count": 125,
     "metadata": {},
     "output_type": "execute_result"
    }
   ],
   "source": [
    "subset[\"bedrooms\"].describe()\n"
   ]
  },
  {
   "cell_type": "code",
   "execution_count": 126,
   "metadata": {},
   "outputs": [
    {
     "data": {
      "application/vnd.plotly.v1+json": {
       "config": {
        "plotlyServerURL": "https://plot.ly"
       },
       "data": [
        {
         "alignmentgroup": "True",
         "hovertemplate": "Number of Bedrooms=%{x}<br>Count=%{y}<extra></extra>",
         "legendgroup": "",
         "marker": {
          "color": "#636efa",
          "pattern": {
           "shape": ""
          }
         },
         "name": "",
         "offsetgroup": "",
         "orientation": "v",
         "showlegend": false,
         "textposition": "auto",
         "type": "bar",
         "x": [
          3,
          5,
          4,
          6,
          7,
          2,
          8,
          10,
          9,
          1,
          12,
          11,
          13
         ],
         "xaxis": "x",
         "y": [
          177,
          157,
          137,
          114,
          55,
          34,
          30,
          12,
          7,
          5,
          3,
          2,
          2
         ],
         "yaxis": "y"
        }
       ],
       "layout": {
        "annotations": [
         {
          "showarrow": false,
          "text": "Mean",
          "x": 4.779591836734694,
          "xanchor": "left",
          "xref": "x",
          "y": 1,
          "yanchor": "top",
          "yref": "y domain"
         },
         {
          "showarrow": false,
          "text": "Median",
          "x": 5,
          "xanchor": "right",
          "xref": "x",
          "y": 1,
          "yanchor": "top",
          "yref": "y domain"
         }
        ],
        "barmode": "relative",
        "legend": {
         "title": {
          "text": "Metrics"
         },
         "tracegroupgap": 0
        },
        "shapes": [
         {
          "line": {
           "color": "black",
           "dash": "dash"
          },
          "type": "line",
          "x0": 4.779591836734694,
          "x1": 4.779591836734694,
          "xref": "x",
          "y0": 0,
          "y1": 1,
          "yref": "y domain"
         },
         {
          "line": {
           "color": "red",
           "dash": "dash"
          },
          "type": "line",
          "x0": 5,
          "x1": 5,
          "xref": "x",
          "y0": 0,
          "y1": 1,
          "yref": "y domain"
         }
        ],
        "template": {
         "data": {
          "bar": [
           {
            "error_x": {
             "color": "#2a3f5f"
            },
            "error_y": {
             "color": "#2a3f5f"
            },
            "marker": {
             "line": {
              "color": "#E5ECF6",
              "width": 0.5
             },
             "pattern": {
              "fillmode": "overlay",
              "size": 10,
              "solidity": 0.2
             }
            },
            "type": "bar"
           }
          ],
          "barpolar": [
           {
            "marker": {
             "line": {
              "color": "#E5ECF6",
              "width": 0.5
             },
             "pattern": {
              "fillmode": "overlay",
              "size": 10,
              "solidity": 0.2
             }
            },
            "type": "barpolar"
           }
          ],
          "carpet": [
           {
            "aaxis": {
             "endlinecolor": "#2a3f5f",
             "gridcolor": "white",
             "linecolor": "white",
             "minorgridcolor": "white",
             "startlinecolor": "#2a3f5f"
            },
            "baxis": {
             "endlinecolor": "#2a3f5f",
             "gridcolor": "white",
             "linecolor": "white",
             "minorgridcolor": "white",
             "startlinecolor": "#2a3f5f"
            },
            "type": "carpet"
           }
          ],
          "choropleth": [
           {
            "colorbar": {
             "outlinewidth": 0,
             "ticks": ""
            },
            "type": "choropleth"
           }
          ],
          "contour": [
           {
            "colorbar": {
             "outlinewidth": 0,
             "ticks": ""
            },
            "colorscale": [
             [
              0,
              "#0d0887"
             ],
             [
              0.1111111111111111,
              "#46039f"
             ],
             [
              0.2222222222222222,
              "#7201a8"
             ],
             [
              0.3333333333333333,
              "#9c179e"
             ],
             [
              0.4444444444444444,
              "#bd3786"
             ],
             [
              0.5555555555555556,
              "#d8576b"
             ],
             [
              0.6666666666666666,
              "#ed7953"
             ],
             [
              0.7777777777777778,
              "#fb9f3a"
             ],
             [
              0.8888888888888888,
              "#fdca26"
             ],
             [
              1,
              "#f0f921"
             ]
            ],
            "type": "contour"
           }
          ],
          "contourcarpet": [
           {
            "colorbar": {
             "outlinewidth": 0,
             "ticks": ""
            },
            "type": "contourcarpet"
           }
          ],
          "heatmap": [
           {
            "colorbar": {
             "outlinewidth": 0,
             "ticks": ""
            },
            "colorscale": [
             [
              0,
              "#0d0887"
             ],
             [
              0.1111111111111111,
              "#46039f"
             ],
             [
              0.2222222222222222,
              "#7201a8"
             ],
             [
              0.3333333333333333,
              "#9c179e"
             ],
             [
              0.4444444444444444,
              "#bd3786"
             ],
             [
              0.5555555555555556,
              "#d8576b"
             ],
             [
              0.6666666666666666,
              "#ed7953"
             ],
             [
              0.7777777777777778,
              "#fb9f3a"
             ],
             [
              0.8888888888888888,
              "#fdca26"
             ],
             [
              1,
              "#f0f921"
             ]
            ],
            "type": "heatmap"
           }
          ],
          "heatmapgl": [
           {
            "colorbar": {
             "outlinewidth": 0,
             "ticks": ""
            },
            "colorscale": [
             [
              0,
              "#0d0887"
             ],
             [
              0.1111111111111111,
              "#46039f"
             ],
             [
              0.2222222222222222,
              "#7201a8"
             ],
             [
              0.3333333333333333,
              "#9c179e"
             ],
             [
              0.4444444444444444,
              "#bd3786"
             ],
             [
              0.5555555555555556,
              "#d8576b"
             ],
             [
              0.6666666666666666,
              "#ed7953"
             ],
             [
              0.7777777777777778,
              "#fb9f3a"
             ],
             [
              0.8888888888888888,
              "#fdca26"
             ],
             [
              1,
              "#f0f921"
             ]
            ],
            "type": "heatmapgl"
           }
          ],
          "histogram": [
           {
            "marker": {
             "pattern": {
              "fillmode": "overlay",
              "size": 10,
              "solidity": 0.2
             }
            },
            "type": "histogram"
           }
          ],
          "histogram2d": [
           {
            "colorbar": {
             "outlinewidth": 0,
             "ticks": ""
            },
            "colorscale": [
             [
              0,
              "#0d0887"
             ],
             [
              0.1111111111111111,
              "#46039f"
             ],
             [
              0.2222222222222222,
              "#7201a8"
             ],
             [
              0.3333333333333333,
              "#9c179e"
             ],
             [
              0.4444444444444444,
              "#bd3786"
             ],
             [
              0.5555555555555556,
              "#d8576b"
             ],
             [
              0.6666666666666666,
              "#ed7953"
             ],
             [
              0.7777777777777778,
              "#fb9f3a"
             ],
             [
              0.8888888888888888,
              "#fdca26"
             ],
             [
              1,
              "#f0f921"
             ]
            ],
            "type": "histogram2d"
           }
          ],
          "histogram2dcontour": [
           {
            "colorbar": {
             "outlinewidth": 0,
             "ticks": ""
            },
            "colorscale": [
             [
              0,
              "#0d0887"
             ],
             [
              0.1111111111111111,
              "#46039f"
             ],
             [
              0.2222222222222222,
              "#7201a8"
             ],
             [
              0.3333333333333333,
              "#9c179e"
             ],
             [
              0.4444444444444444,
              "#bd3786"
             ],
             [
              0.5555555555555556,
              "#d8576b"
             ],
             [
              0.6666666666666666,
              "#ed7953"
             ],
             [
              0.7777777777777778,
              "#fb9f3a"
             ],
             [
              0.8888888888888888,
              "#fdca26"
             ],
             [
              1,
              "#f0f921"
             ]
            ],
            "type": "histogram2dcontour"
           }
          ],
          "mesh3d": [
           {
            "colorbar": {
             "outlinewidth": 0,
             "ticks": ""
            },
            "type": "mesh3d"
           }
          ],
          "parcoords": [
           {
            "line": {
             "colorbar": {
              "outlinewidth": 0,
              "ticks": ""
             }
            },
            "type": "parcoords"
           }
          ],
          "pie": [
           {
            "automargin": true,
            "type": "pie"
           }
          ],
          "scatter": [
           {
            "fillpattern": {
             "fillmode": "overlay",
             "size": 10,
             "solidity": 0.2
            },
            "type": "scatter"
           }
          ],
          "scatter3d": [
           {
            "line": {
             "colorbar": {
              "outlinewidth": 0,
              "ticks": ""
             }
            },
            "marker": {
             "colorbar": {
              "outlinewidth": 0,
              "ticks": ""
             }
            },
            "type": "scatter3d"
           }
          ],
          "scattercarpet": [
           {
            "marker": {
             "colorbar": {
              "outlinewidth": 0,
              "ticks": ""
             }
            },
            "type": "scattercarpet"
           }
          ],
          "scattergeo": [
           {
            "marker": {
             "colorbar": {
              "outlinewidth": 0,
              "ticks": ""
             }
            },
            "type": "scattergeo"
           }
          ],
          "scattergl": [
           {
            "marker": {
             "colorbar": {
              "outlinewidth": 0,
              "ticks": ""
             }
            },
            "type": "scattergl"
           }
          ],
          "scattermapbox": [
           {
            "marker": {
             "colorbar": {
              "outlinewidth": 0,
              "ticks": ""
             }
            },
            "type": "scattermapbox"
           }
          ],
          "scatterpolar": [
           {
            "marker": {
             "colorbar": {
              "outlinewidth": 0,
              "ticks": ""
             }
            },
            "type": "scatterpolar"
           }
          ],
          "scatterpolargl": [
           {
            "marker": {
             "colorbar": {
              "outlinewidth": 0,
              "ticks": ""
             }
            },
            "type": "scatterpolargl"
           }
          ],
          "scatterternary": [
           {
            "marker": {
             "colorbar": {
              "outlinewidth": 0,
              "ticks": ""
             }
            },
            "type": "scatterternary"
           }
          ],
          "surface": [
           {
            "colorbar": {
             "outlinewidth": 0,
             "ticks": ""
            },
            "colorscale": [
             [
              0,
              "#0d0887"
             ],
             [
              0.1111111111111111,
              "#46039f"
             ],
             [
              0.2222222222222222,
              "#7201a8"
             ],
             [
              0.3333333333333333,
              "#9c179e"
             ],
             [
              0.4444444444444444,
              "#bd3786"
             ],
             [
              0.5555555555555556,
              "#d8576b"
             ],
             [
              0.6666666666666666,
              "#ed7953"
             ],
             [
              0.7777777777777778,
              "#fb9f3a"
             ],
             [
              0.8888888888888888,
              "#fdca26"
             ],
             [
              1,
              "#f0f921"
             ]
            ],
            "type": "surface"
           }
          ],
          "table": [
           {
            "cells": {
             "fill": {
              "color": "#EBF0F8"
             },
             "line": {
              "color": "white"
             }
            },
            "header": {
             "fill": {
              "color": "#C8D4E3"
             },
             "line": {
              "color": "white"
             }
            },
            "type": "table"
           }
          ]
         },
         "layout": {
          "annotationdefaults": {
           "arrowcolor": "#2a3f5f",
           "arrowhead": 0,
           "arrowwidth": 1
          },
          "autotypenumbers": "strict",
          "coloraxis": {
           "colorbar": {
            "outlinewidth": 0,
            "ticks": ""
           }
          },
          "colorscale": {
           "diverging": [
            [
             0,
             "#8e0152"
            ],
            [
             0.1,
             "#c51b7d"
            ],
            [
             0.2,
             "#de77ae"
            ],
            [
             0.3,
             "#f1b6da"
            ],
            [
             0.4,
             "#fde0ef"
            ],
            [
             0.5,
             "#f7f7f7"
            ],
            [
             0.6,
             "#e6f5d0"
            ],
            [
             0.7,
             "#b8e186"
            ],
            [
             0.8,
             "#7fbc41"
            ],
            [
             0.9,
             "#4d9221"
            ],
            [
             1,
             "#276419"
            ]
           ],
           "sequential": [
            [
             0,
             "#0d0887"
            ],
            [
             0.1111111111111111,
             "#46039f"
            ],
            [
             0.2222222222222222,
             "#7201a8"
            ],
            [
             0.3333333333333333,
             "#9c179e"
            ],
            [
             0.4444444444444444,
             "#bd3786"
            ],
            [
             0.5555555555555556,
             "#d8576b"
            ],
            [
             0.6666666666666666,
             "#ed7953"
            ],
            [
             0.7777777777777778,
             "#fb9f3a"
            ],
            [
             0.8888888888888888,
             "#fdca26"
            ],
            [
             1,
             "#f0f921"
            ]
           ],
           "sequentialminus": [
            [
             0,
             "#0d0887"
            ],
            [
             0.1111111111111111,
             "#46039f"
            ],
            [
             0.2222222222222222,
             "#7201a8"
            ],
            [
             0.3333333333333333,
             "#9c179e"
            ],
            [
             0.4444444444444444,
             "#bd3786"
            ],
            [
             0.5555555555555556,
             "#d8576b"
            ],
            [
             0.6666666666666666,
             "#ed7953"
            ],
            [
             0.7777777777777778,
             "#fb9f3a"
            ],
            [
             0.8888888888888888,
             "#fdca26"
            ],
            [
             1,
             "#f0f921"
            ]
           ]
          },
          "colorway": [
           "#636efa",
           "#EF553B",
           "#00cc96",
           "#ab63fa",
           "#FFA15A",
           "#19d3f3",
           "#FF6692",
           "#B6E880",
           "#FF97FF",
           "#FECB52"
          ],
          "font": {
           "color": "#2a3f5f"
          },
          "geo": {
           "bgcolor": "white",
           "lakecolor": "white",
           "landcolor": "#E5ECF6",
           "showlakes": true,
           "showland": true,
           "subunitcolor": "white"
          },
          "hoverlabel": {
           "align": "left"
          },
          "hovermode": "closest",
          "mapbox": {
           "style": "light"
          },
          "paper_bgcolor": "white",
          "plot_bgcolor": "#E5ECF6",
          "polar": {
           "angularaxis": {
            "gridcolor": "white",
            "linecolor": "white",
            "ticks": ""
           },
           "bgcolor": "#E5ECF6",
           "radialaxis": {
            "gridcolor": "white",
            "linecolor": "white",
            "ticks": ""
           }
          },
          "scene": {
           "xaxis": {
            "backgroundcolor": "#E5ECF6",
            "gridcolor": "white",
            "gridwidth": 2,
            "linecolor": "white",
            "showbackground": true,
            "ticks": "",
            "zerolinecolor": "white"
           },
           "yaxis": {
            "backgroundcolor": "#E5ECF6",
            "gridcolor": "white",
            "gridwidth": 2,
            "linecolor": "white",
            "showbackground": true,
            "ticks": "",
            "zerolinecolor": "white"
           },
           "zaxis": {
            "backgroundcolor": "#E5ECF6",
            "gridcolor": "white",
            "gridwidth": 2,
            "linecolor": "white",
            "showbackground": true,
            "ticks": "",
            "zerolinecolor": "white"
           }
          },
          "shapedefaults": {
           "line": {
            "color": "#2a3f5f"
           }
          },
          "ternary": {
           "aaxis": {
            "gridcolor": "white",
            "linecolor": "white",
            "ticks": ""
           },
           "baxis": {
            "gridcolor": "white",
            "linecolor": "white",
            "ticks": ""
           },
           "bgcolor": "#E5ECF6",
           "caxis": {
            "gridcolor": "white",
            "linecolor": "white",
            "ticks": ""
           }
          },
          "title": {
           "x": 0.05
          },
          "xaxis": {
           "automargin": true,
           "gridcolor": "white",
           "linecolor": "white",
           "ticks": "",
           "title": {
            "standoff": 15
           },
           "zerolinecolor": "white",
           "zerolinewidth": 2
          },
          "yaxis": {
           "automargin": true,
           "gridcolor": "white",
           "linecolor": "white",
           "ticks": "",
           "title": {
            "standoff": 15
           },
           "zerolinecolor": "white",
           "zerolinewidth": 2
          }
         }
        },
        "title": {
         "text": "Distribución por número de habitaciones"
        },
        "xaxis": {
         "anchor": "y",
         "domain": [
          0,
          1
         ],
         "title": {
          "text": "Number of Bedrooms"
         }
        },
        "yaxis": {
         "anchor": "x",
         "domain": [
          0,
          1
         ],
         "title": {
          "text": "Count"
         }
        }
       }
      }
     },
     "metadata": {},
     "output_type": "display_data"
    }
   ],
   "source": [
    "bedroom_counts = subset[\"bedrooms\"].value_counts().reset_index()\n",
    "bedroom_counts.columns = [\"bedrooms\", \"count\"]\n",
    "\n",
    "fig = px.bar(\n",
    "    bedroom_counts,\n",
    "    x=\"bedrooms\",\n",
    "    y=\"count\",\n",
    "    title=\"Distribución por número de habitaciones\",\n",
    "    labels={\"bedrooms\": \"Number of Bedrooms\", \"count\": \"Count\"}\n",
    ")\n",
    "\n",
    "mean_value = subset[\"bedrooms\"].mean()\n",
    "median_value = subset[\"bedrooms\"].median()\n",
    "\n",
    "fig.add_vline(\n",
    "    x=mean_value, \n",
    "    line=dict(color='black', dash='dash'), \n",
    "    annotation_text=\"Mean\", \n",
    "    annotation_position=\"top right\"\n",
    ")\n",
    "fig.add_vline(\n",
    "    x=median_value, \n",
    "    line=dict(color='red', dash='dash'), \n",
    "    annotation_text=\"Median\", \n",
    "    annotation_position=\"top left\"\n",
    ")\n",
    "\n",
    "fig.update_layout(\n",
    "    xaxis_title=\"Number of Bedrooms\",\n",
    "    yaxis_title=\"Count\",\n",
    "    legend_title_text=\"Metrics\"\n",
    ")\n",
    "\n",
    "fig.show()\n"
   ]
  },
  {
   "cell_type": "markdown",
   "metadata": {
    "id": "5r3eCBaQRM0Q"
   },
   "source": [
    "#### **bathrooms**\n",
    "\n",
    "* Descripción: Número de baños.\n",
    "* Tipo de variable: Cuantitativa discreta.\n",
    "* Normalidad: No"
   ]
  },
  {
   "cell_type": "code",
   "execution_count": 127,
   "metadata": {},
   "outputs": [
    {
     "data": {
      "text/plain": [
       "count    735.000000\n",
       "mean       4.421769\n",
       "std        1.722290\n",
       "min        1.000000\n",
       "25%        3.000000\n",
       "50%        4.000000\n",
       "75%        5.000000\n",
       "max       12.000000\n",
       "Name: bathrooms, dtype: float64"
      ]
     },
     "execution_count": 127,
     "metadata": {},
     "output_type": "execute_result"
    }
   ],
   "source": [
    "subset[\"bathrooms\"].describe()\n"
   ]
  },
  {
   "cell_type": "code",
   "execution_count": 128,
   "metadata": {},
   "outputs": [
    {
     "data": {
      "application/vnd.plotly.v1+json": {
       "config": {
        "plotlyServerURL": "https://plot.ly"
       },
       "data": [
        {
         "alignmentgroup": "True",
         "hovertemplate": "Number of Bathrooms=%{x}<br>Count=%{y}<extra></extra>",
         "legendgroup": "",
         "marker": {
          "color": "#636efa",
          "pattern": {
           "shape": ""
          }
         },
         "name": "",
         "offsetgroup": "",
         "orientation": "v",
         "showlegend": false,
         "textposition": "auto",
         "type": "bar",
         "x": [
          4,
          3,
          5,
          6,
          2,
          7,
          8,
          10,
          1,
          9,
          12,
          11
         ],
         "xaxis": "x",
         "y": [
          201,
          195,
          117,
          88,
          45,
          42,
          21,
          10,
          7,
          6,
          2,
          1
         ],
         "yaxis": "y"
        }
       ],
       "layout": {
        "annotations": [
         {
          "showarrow": false,
          "text": "Mean",
          "x": 4.421768707482993,
          "xanchor": "left",
          "xref": "x",
          "y": 1,
          "yanchor": "top",
          "yref": "y domain"
         },
         {
          "showarrow": false,
          "text": "Median",
          "x": 4,
          "xanchor": "right",
          "xref": "x",
          "y": 1,
          "yanchor": "top",
          "yref": "y domain"
         }
        ],
        "barmode": "relative",
        "legend": {
         "title": {
          "text": "Metrics"
         },
         "tracegroupgap": 0
        },
        "shapes": [
         {
          "line": {
           "color": "black",
           "dash": "dash"
          },
          "type": "line",
          "x0": 4.421768707482993,
          "x1": 4.421768707482993,
          "xref": "x",
          "y0": 0,
          "y1": 1,
          "yref": "y domain"
         },
         {
          "line": {
           "color": "red",
           "dash": "dash"
          },
          "type": "line",
          "x0": 4,
          "x1": 4,
          "xref": "x",
          "y0": 0,
          "y1": 1,
          "yref": "y domain"
         }
        ],
        "template": {
         "data": {
          "bar": [
           {
            "error_x": {
             "color": "#2a3f5f"
            },
            "error_y": {
             "color": "#2a3f5f"
            },
            "marker": {
             "line": {
              "color": "#E5ECF6",
              "width": 0.5
             },
             "pattern": {
              "fillmode": "overlay",
              "size": 10,
              "solidity": 0.2
             }
            },
            "type": "bar"
           }
          ],
          "barpolar": [
           {
            "marker": {
             "line": {
              "color": "#E5ECF6",
              "width": 0.5
             },
             "pattern": {
              "fillmode": "overlay",
              "size": 10,
              "solidity": 0.2
             }
            },
            "type": "barpolar"
           }
          ],
          "carpet": [
           {
            "aaxis": {
             "endlinecolor": "#2a3f5f",
             "gridcolor": "white",
             "linecolor": "white",
             "minorgridcolor": "white",
             "startlinecolor": "#2a3f5f"
            },
            "baxis": {
             "endlinecolor": "#2a3f5f",
             "gridcolor": "white",
             "linecolor": "white",
             "minorgridcolor": "white",
             "startlinecolor": "#2a3f5f"
            },
            "type": "carpet"
           }
          ],
          "choropleth": [
           {
            "colorbar": {
             "outlinewidth": 0,
             "ticks": ""
            },
            "type": "choropleth"
           }
          ],
          "contour": [
           {
            "colorbar": {
             "outlinewidth": 0,
             "ticks": ""
            },
            "colorscale": [
             [
              0,
              "#0d0887"
             ],
             [
              0.1111111111111111,
              "#46039f"
             ],
             [
              0.2222222222222222,
              "#7201a8"
             ],
             [
              0.3333333333333333,
              "#9c179e"
             ],
             [
              0.4444444444444444,
              "#bd3786"
             ],
             [
              0.5555555555555556,
              "#d8576b"
             ],
             [
              0.6666666666666666,
              "#ed7953"
             ],
             [
              0.7777777777777778,
              "#fb9f3a"
             ],
             [
              0.8888888888888888,
              "#fdca26"
             ],
             [
              1,
              "#f0f921"
             ]
            ],
            "type": "contour"
           }
          ],
          "contourcarpet": [
           {
            "colorbar": {
             "outlinewidth": 0,
             "ticks": ""
            },
            "type": "contourcarpet"
           }
          ],
          "heatmap": [
           {
            "colorbar": {
             "outlinewidth": 0,
             "ticks": ""
            },
            "colorscale": [
             [
              0,
              "#0d0887"
             ],
             [
              0.1111111111111111,
              "#46039f"
             ],
             [
              0.2222222222222222,
              "#7201a8"
             ],
             [
              0.3333333333333333,
              "#9c179e"
             ],
             [
              0.4444444444444444,
              "#bd3786"
             ],
             [
              0.5555555555555556,
              "#d8576b"
             ],
             [
              0.6666666666666666,
              "#ed7953"
             ],
             [
              0.7777777777777778,
              "#fb9f3a"
             ],
             [
              0.8888888888888888,
              "#fdca26"
             ],
             [
              1,
              "#f0f921"
             ]
            ],
            "type": "heatmap"
           }
          ],
          "heatmapgl": [
           {
            "colorbar": {
             "outlinewidth": 0,
             "ticks": ""
            },
            "colorscale": [
             [
              0,
              "#0d0887"
             ],
             [
              0.1111111111111111,
              "#46039f"
             ],
             [
              0.2222222222222222,
              "#7201a8"
             ],
             [
              0.3333333333333333,
              "#9c179e"
             ],
             [
              0.4444444444444444,
              "#bd3786"
             ],
             [
              0.5555555555555556,
              "#d8576b"
             ],
             [
              0.6666666666666666,
              "#ed7953"
             ],
             [
              0.7777777777777778,
              "#fb9f3a"
             ],
             [
              0.8888888888888888,
              "#fdca26"
             ],
             [
              1,
              "#f0f921"
             ]
            ],
            "type": "heatmapgl"
           }
          ],
          "histogram": [
           {
            "marker": {
             "pattern": {
              "fillmode": "overlay",
              "size": 10,
              "solidity": 0.2
             }
            },
            "type": "histogram"
           }
          ],
          "histogram2d": [
           {
            "colorbar": {
             "outlinewidth": 0,
             "ticks": ""
            },
            "colorscale": [
             [
              0,
              "#0d0887"
             ],
             [
              0.1111111111111111,
              "#46039f"
             ],
             [
              0.2222222222222222,
              "#7201a8"
             ],
             [
              0.3333333333333333,
              "#9c179e"
             ],
             [
              0.4444444444444444,
              "#bd3786"
             ],
             [
              0.5555555555555556,
              "#d8576b"
             ],
             [
              0.6666666666666666,
              "#ed7953"
             ],
             [
              0.7777777777777778,
              "#fb9f3a"
             ],
             [
              0.8888888888888888,
              "#fdca26"
             ],
             [
              1,
              "#f0f921"
             ]
            ],
            "type": "histogram2d"
           }
          ],
          "histogram2dcontour": [
           {
            "colorbar": {
             "outlinewidth": 0,
             "ticks": ""
            },
            "colorscale": [
             [
              0,
              "#0d0887"
             ],
             [
              0.1111111111111111,
              "#46039f"
             ],
             [
              0.2222222222222222,
              "#7201a8"
             ],
             [
              0.3333333333333333,
              "#9c179e"
             ],
             [
              0.4444444444444444,
              "#bd3786"
             ],
             [
              0.5555555555555556,
              "#d8576b"
             ],
             [
              0.6666666666666666,
              "#ed7953"
             ],
             [
              0.7777777777777778,
              "#fb9f3a"
             ],
             [
              0.8888888888888888,
              "#fdca26"
             ],
             [
              1,
              "#f0f921"
             ]
            ],
            "type": "histogram2dcontour"
           }
          ],
          "mesh3d": [
           {
            "colorbar": {
             "outlinewidth": 0,
             "ticks": ""
            },
            "type": "mesh3d"
           }
          ],
          "parcoords": [
           {
            "line": {
             "colorbar": {
              "outlinewidth": 0,
              "ticks": ""
             }
            },
            "type": "parcoords"
           }
          ],
          "pie": [
           {
            "automargin": true,
            "type": "pie"
           }
          ],
          "scatter": [
           {
            "fillpattern": {
             "fillmode": "overlay",
             "size": 10,
             "solidity": 0.2
            },
            "type": "scatter"
           }
          ],
          "scatter3d": [
           {
            "line": {
             "colorbar": {
              "outlinewidth": 0,
              "ticks": ""
             }
            },
            "marker": {
             "colorbar": {
              "outlinewidth": 0,
              "ticks": ""
             }
            },
            "type": "scatter3d"
           }
          ],
          "scattercarpet": [
           {
            "marker": {
             "colorbar": {
              "outlinewidth": 0,
              "ticks": ""
             }
            },
            "type": "scattercarpet"
           }
          ],
          "scattergeo": [
           {
            "marker": {
             "colorbar": {
              "outlinewidth": 0,
              "ticks": ""
             }
            },
            "type": "scattergeo"
           }
          ],
          "scattergl": [
           {
            "marker": {
             "colorbar": {
              "outlinewidth": 0,
              "ticks": ""
             }
            },
            "type": "scattergl"
           }
          ],
          "scattermapbox": [
           {
            "marker": {
             "colorbar": {
              "outlinewidth": 0,
              "ticks": ""
             }
            },
            "type": "scattermapbox"
           }
          ],
          "scatterpolar": [
           {
            "marker": {
             "colorbar": {
              "outlinewidth": 0,
              "ticks": ""
             }
            },
            "type": "scatterpolar"
           }
          ],
          "scatterpolargl": [
           {
            "marker": {
             "colorbar": {
              "outlinewidth": 0,
              "ticks": ""
             }
            },
            "type": "scatterpolargl"
           }
          ],
          "scatterternary": [
           {
            "marker": {
             "colorbar": {
              "outlinewidth": 0,
              "ticks": ""
             }
            },
            "type": "scatterternary"
           }
          ],
          "surface": [
           {
            "colorbar": {
             "outlinewidth": 0,
             "ticks": ""
            },
            "colorscale": [
             [
              0,
              "#0d0887"
             ],
             [
              0.1111111111111111,
              "#46039f"
             ],
             [
              0.2222222222222222,
              "#7201a8"
             ],
             [
              0.3333333333333333,
              "#9c179e"
             ],
             [
              0.4444444444444444,
              "#bd3786"
             ],
             [
              0.5555555555555556,
              "#d8576b"
             ],
             [
              0.6666666666666666,
              "#ed7953"
             ],
             [
              0.7777777777777778,
              "#fb9f3a"
             ],
             [
              0.8888888888888888,
              "#fdca26"
             ],
             [
              1,
              "#f0f921"
             ]
            ],
            "type": "surface"
           }
          ],
          "table": [
           {
            "cells": {
             "fill": {
              "color": "#EBF0F8"
             },
             "line": {
              "color": "white"
             }
            },
            "header": {
             "fill": {
              "color": "#C8D4E3"
             },
             "line": {
              "color": "white"
             }
            },
            "type": "table"
           }
          ]
         },
         "layout": {
          "annotationdefaults": {
           "arrowcolor": "#2a3f5f",
           "arrowhead": 0,
           "arrowwidth": 1
          },
          "autotypenumbers": "strict",
          "coloraxis": {
           "colorbar": {
            "outlinewidth": 0,
            "ticks": ""
           }
          },
          "colorscale": {
           "diverging": [
            [
             0,
             "#8e0152"
            ],
            [
             0.1,
             "#c51b7d"
            ],
            [
             0.2,
             "#de77ae"
            ],
            [
             0.3,
             "#f1b6da"
            ],
            [
             0.4,
             "#fde0ef"
            ],
            [
             0.5,
             "#f7f7f7"
            ],
            [
             0.6,
             "#e6f5d0"
            ],
            [
             0.7,
             "#b8e186"
            ],
            [
             0.8,
             "#7fbc41"
            ],
            [
             0.9,
             "#4d9221"
            ],
            [
             1,
             "#276419"
            ]
           ],
           "sequential": [
            [
             0,
             "#0d0887"
            ],
            [
             0.1111111111111111,
             "#46039f"
            ],
            [
             0.2222222222222222,
             "#7201a8"
            ],
            [
             0.3333333333333333,
             "#9c179e"
            ],
            [
             0.4444444444444444,
             "#bd3786"
            ],
            [
             0.5555555555555556,
             "#d8576b"
            ],
            [
             0.6666666666666666,
             "#ed7953"
            ],
            [
             0.7777777777777778,
             "#fb9f3a"
            ],
            [
             0.8888888888888888,
             "#fdca26"
            ],
            [
             1,
             "#f0f921"
            ]
           ],
           "sequentialminus": [
            [
             0,
             "#0d0887"
            ],
            [
             0.1111111111111111,
             "#46039f"
            ],
            [
             0.2222222222222222,
             "#7201a8"
            ],
            [
             0.3333333333333333,
             "#9c179e"
            ],
            [
             0.4444444444444444,
             "#bd3786"
            ],
            [
             0.5555555555555556,
             "#d8576b"
            ],
            [
             0.6666666666666666,
             "#ed7953"
            ],
            [
             0.7777777777777778,
             "#fb9f3a"
            ],
            [
             0.8888888888888888,
             "#fdca26"
            ],
            [
             1,
             "#f0f921"
            ]
           ]
          },
          "colorway": [
           "#636efa",
           "#EF553B",
           "#00cc96",
           "#ab63fa",
           "#FFA15A",
           "#19d3f3",
           "#FF6692",
           "#B6E880",
           "#FF97FF",
           "#FECB52"
          ],
          "font": {
           "color": "#2a3f5f"
          },
          "geo": {
           "bgcolor": "white",
           "lakecolor": "white",
           "landcolor": "#E5ECF6",
           "showlakes": true,
           "showland": true,
           "subunitcolor": "white"
          },
          "hoverlabel": {
           "align": "left"
          },
          "hovermode": "closest",
          "mapbox": {
           "style": "light"
          },
          "paper_bgcolor": "white",
          "plot_bgcolor": "#E5ECF6",
          "polar": {
           "angularaxis": {
            "gridcolor": "white",
            "linecolor": "white",
            "ticks": ""
           },
           "bgcolor": "#E5ECF6",
           "radialaxis": {
            "gridcolor": "white",
            "linecolor": "white",
            "ticks": ""
           }
          },
          "scene": {
           "xaxis": {
            "backgroundcolor": "#E5ECF6",
            "gridcolor": "white",
            "gridwidth": 2,
            "linecolor": "white",
            "showbackground": true,
            "ticks": "",
            "zerolinecolor": "white"
           },
           "yaxis": {
            "backgroundcolor": "#E5ECF6",
            "gridcolor": "white",
            "gridwidth": 2,
            "linecolor": "white",
            "showbackground": true,
            "ticks": "",
            "zerolinecolor": "white"
           },
           "zaxis": {
            "backgroundcolor": "#E5ECF6",
            "gridcolor": "white",
            "gridwidth": 2,
            "linecolor": "white",
            "showbackground": true,
            "ticks": "",
            "zerolinecolor": "white"
           }
          },
          "shapedefaults": {
           "line": {
            "color": "#2a3f5f"
           }
          },
          "ternary": {
           "aaxis": {
            "gridcolor": "white",
            "linecolor": "white",
            "ticks": ""
           },
           "baxis": {
            "gridcolor": "white",
            "linecolor": "white",
            "ticks": ""
           },
           "bgcolor": "#E5ECF6",
           "caxis": {
            "gridcolor": "white",
            "linecolor": "white",
            "ticks": ""
           }
          },
          "title": {
           "x": 0.05
          },
          "xaxis": {
           "automargin": true,
           "gridcolor": "white",
           "linecolor": "white",
           "ticks": "",
           "title": {
            "standoff": 15
           },
           "zerolinecolor": "white",
           "zerolinewidth": 2
          },
          "yaxis": {
           "automargin": true,
           "gridcolor": "white",
           "linecolor": "white",
           "ticks": "",
           "title": {
            "standoff": 15
           },
           "zerolinecolor": "white",
           "zerolinewidth": 2
          }
         }
        },
        "title": {
         "text": "Distribución por número de baños"
        },
        "xaxis": {
         "anchor": "y",
         "domain": [
          0,
          1
         ],
         "title": {
          "text": "Number of Bathrooms"
         }
        },
        "yaxis": {
         "anchor": "x",
         "domain": [
          0,
          1
         ],
         "title": {
          "text": "Count"
         }
        }
       }
      }
     },
     "metadata": {},
     "output_type": "display_data"
    }
   ],
   "source": [
    "bathrooms_counts = subset[\"bathrooms\"].value_counts().reset_index()\n",
    "bathrooms_counts.columns = [\"bathrooms\", \"count\"]\n",
    "\n",
    "fig = px.bar(\n",
    "    bathrooms_counts,\n",
    "    x=\"bathrooms\",\n",
    "    y=\"count\",\n",
    "    title=\"Distribución por número de baños\",\n",
    "    labels={\"bathrooms\": \"Number of Bathrooms\", \"count\": \"Count\"}\n",
    ")\n",
    "\n",
    "mean_value = subset[\"bathrooms\"].mean()\n",
    "median_value = subset[\"bathrooms\"].median()\n",
    "\n",
    "fig.add_vline(\n",
    "    x=mean_value, \n",
    "    line=dict(color='black', dash='dash'), \n",
    "    annotation_text=\"Mean\", \n",
    "    annotation_position=\"top right\"\n",
    ")\n",
    "fig.add_vline(\n",
    "    x=median_value, \n",
    "    line=dict(color='red', dash='dash'), \n",
    "    annotation_text=\"Median\", \n",
    "    annotation_position=\"top left\"\n",
    ")\n",
    "\n",
    "fig.update_layout(\n",
    "    xaxis_title=\"Number of Bathrooms\",\n",
    "    yaxis_title=\"Count\",\n",
    "    legend_title_text=\"Metrics\"\n",
    ")\n",
    "\n",
    "fig.show()\n"
   ]
  },
  {
   "cell_type": "markdown",
   "metadata": {
    "id": "ZWneWG-Umiz9"
   },
   "source": [
    "### Categóricas"
   ]
  },
  {
   "cell_type": "markdown",
   "metadata": {
    "id": "vbcM8WiFReca"
   },
   "source": [
    "#### **ZIP**\n",
    "\n",
    "*   Descripción: Código postal.\n",
    "*   Tipo de variable: Categórica nominativa.\n",
    "*   Distribución: Concentración en centro-oeste de Londres"
   ]
  },
  {
   "cell_type": "code",
   "execution_count": 129,
   "metadata": {},
   "outputs": [
    {
     "data": {
      "text/plain": [
       "array(['N2', 'W1J', 'SW1W', 'NW8', 'SW1X', 'NW1', 'TW1', 'SW10', 'N6',\n",
       "       'W11', 'SW1E', 'W1B', 'SW1A', 'W1K', 'SW7', 'NW3', 'W1H', 'SW3',\n",
       "       'W8', 'W14', 'Pembroke Gardens,London,W8', 'W9', 'EC1V', 'E20',\n",
       "       'W2', 'NW7', 'N10', 'W1S', 'WC2N', 'SW19', \"St John's Wood NW8\",\n",
       "       'Hampstead NW3', 'W1U', 'SW16', 'South Kensington SW7', 'W1G',\n",
       "       'SW6', 'SE1', 'WC2R', 'NW11', 'SE13', 'W1W', 'SW15', 'E14', 'SW8',\n",
       "       'SW1P', 'Nine Elms SW8', 'Chelsea SW3', 'Kensington W8', 'SW17',\n",
       "       'London SW1W', 'EC2A', 'TW7', 'SE21', 'SW11', 'E16', 'SW13', 'NW4',\n",
       "       'W12', 'WC1A', 'N20', 'London SW8', 'WC1N', 'WC2E', 'SE8', 'NW2',\n",
       "       'NW6', 'N21', 'SW5', 'W1D', 'Knightsbridge SW7',\n",
       "       'East Finchley N2', 'TW9', 'Notting Hill W11', 'TW10', 'N1',\n",
       "       'Belgravia SW1W', 'SW18', 'London NW8', 'Marylebone W1W',\n",
       "       'Chelsea SW10', 'WC1H', 'London SW1X', 'N5', 'SW2', 'SW1V'],\n",
       "      dtype=object)"
      ]
     },
     "execution_count": 129,
     "metadata": {},
     "output_type": "execute_result"
    }
   ],
   "source": [
    "subset[\"ZIP\"].unique()"
   ]
  },
  {
   "cell_type": "code",
   "execution_count": 130,
   "metadata": {},
   "outputs": [
    {
     "data": {
      "application/vnd.plotly.v1+json": {
       "config": {
        "plotlyServerURL": "https://plot.ly"
       },
       "data": [
        {
         "alignmentgroup": "True",
         "hovertemplate": "ZIP Code=%{x}<br>Count=%{marker.color}<extra></extra>",
         "legendgroup": "",
         "marker": {
          "color": [
           75,
           50,
           39,
           38,
           38,
           35,
           34,
           33,
           33,
           28,
           27,
           26,
           17,
           17,
           16,
           14,
           14,
           14,
           13,
           12,
           10,
           9,
           9,
           6,
           6,
           6,
           6,
           6,
           6,
           6
          ],
          "coloraxis": "coloraxis",
          "pattern": {
           "shape": ""
          }
         },
         "name": "",
         "offsetgroup": "",
         "orientation": "v",
         "showlegend": false,
         "textposition": "auto",
         "type": "bar",
         "x": [
          "SW1X",
          "W1K",
          "SW7",
          "SW1W",
          "SW3",
          "W8",
          "N2",
          "NW8",
          "W2",
          "NW1",
          "SW8",
          "NW3",
          "W1U",
          "W1J",
          "EC2A",
          "W11",
          "SW10",
          "SW19",
          "SW1A",
          "SE1",
          "SW11",
          "W1S",
          "SW1E",
          "SW6",
          "W1G",
          "N20",
          "London SW8",
          "W14",
          "N6",
          "W1H"
         ],
         "xaxis": "x",
         "y": [
          75,
          50,
          39,
          38,
          38,
          35,
          34,
          33,
          33,
          28,
          27,
          26,
          17,
          17,
          16,
          14,
          14,
          14,
          13,
          12,
          10,
          9,
          9,
          6,
          6,
          6,
          6,
          6,
          6,
          6
         ],
         "yaxis": "y"
        }
       ],
       "layout": {
        "barmode": "relative",
        "coloraxis": {
         "colorbar": {
          "title": {
           "text": "Count"
          }
         },
         "colorscale": [
          [
           0,
           "#440154"
          ],
          [
           0.1111111111111111,
           "#482878"
          ],
          [
           0.2222222222222222,
           "#3e4989"
          ],
          [
           0.3333333333333333,
           "#31688e"
          ],
          [
           0.4444444444444444,
           "#26828e"
          ],
          [
           0.5555555555555556,
           "#1f9e89"
          ],
          [
           0.6666666666666666,
           "#35b779"
          ],
          [
           0.7777777777777778,
           "#6ece58"
          ],
          [
           0.8888888888888888,
           "#b5de2b"
          ],
          [
           1,
           "#fde725"
          ]
         ]
        },
        "legend": {
         "tracegroupgap": 0
        },
        "showlegend": false,
        "template": {
         "data": {
          "bar": [
           {
            "error_x": {
             "color": "#2a3f5f"
            },
            "error_y": {
             "color": "#2a3f5f"
            },
            "marker": {
             "line": {
              "color": "#E5ECF6",
              "width": 0.5
             },
             "pattern": {
              "fillmode": "overlay",
              "size": 10,
              "solidity": 0.2
             }
            },
            "type": "bar"
           }
          ],
          "barpolar": [
           {
            "marker": {
             "line": {
              "color": "#E5ECF6",
              "width": 0.5
             },
             "pattern": {
              "fillmode": "overlay",
              "size": 10,
              "solidity": 0.2
             }
            },
            "type": "barpolar"
           }
          ],
          "carpet": [
           {
            "aaxis": {
             "endlinecolor": "#2a3f5f",
             "gridcolor": "white",
             "linecolor": "white",
             "minorgridcolor": "white",
             "startlinecolor": "#2a3f5f"
            },
            "baxis": {
             "endlinecolor": "#2a3f5f",
             "gridcolor": "white",
             "linecolor": "white",
             "minorgridcolor": "white",
             "startlinecolor": "#2a3f5f"
            },
            "type": "carpet"
           }
          ],
          "choropleth": [
           {
            "colorbar": {
             "outlinewidth": 0,
             "ticks": ""
            },
            "type": "choropleth"
           }
          ],
          "contour": [
           {
            "colorbar": {
             "outlinewidth": 0,
             "ticks": ""
            },
            "colorscale": [
             [
              0,
              "#0d0887"
             ],
             [
              0.1111111111111111,
              "#46039f"
             ],
             [
              0.2222222222222222,
              "#7201a8"
             ],
             [
              0.3333333333333333,
              "#9c179e"
             ],
             [
              0.4444444444444444,
              "#bd3786"
             ],
             [
              0.5555555555555556,
              "#d8576b"
             ],
             [
              0.6666666666666666,
              "#ed7953"
             ],
             [
              0.7777777777777778,
              "#fb9f3a"
             ],
             [
              0.8888888888888888,
              "#fdca26"
             ],
             [
              1,
              "#f0f921"
             ]
            ],
            "type": "contour"
           }
          ],
          "contourcarpet": [
           {
            "colorbar": {
             "outlinewidth": 0,
             "ticks": ""
            },
            "type": "contourcarpet"
           }
          ],
          "heatmap": [
           {
            "colorbar": {
             "outlinewidth": 0,
             "ticks": ""
            },
            "colorscale": [
             [
              0,
              "#0d0887"
             ],
             [
              0.1111111111111111,
              "#46039f"
             ],
             [
              0.2222222222222222,
              "#7201a8"
             ],
             [
              0.3333333333333333,
              "#9c179e"
             ],
             [
              0.4444444444444444,
              "#bd3786"
             ],
             [
              0.5555555555555556,
              "#d8576b"
             ],
             [
              0.6666666666666666,
              "#ed7953"
             ],
             [
              0.7777777777777778,
              "#fb9f3a"
             ],
             [
              0.8888888888888888,
              "#fdca26"
             ],
             [
              1,
              "#f0f921"
             ]
            ],
            "type": "heatmap"
           }
          ],
          "heatmapgl": [
           {
            "colorbar": {
             "outlinewidth": 0,
             "ticks": ""
            },
            "colorscale": [
             [
              0,
              "#0d0887"
             ],
             [
              0.1111111111111111,
              "#46039f"
             ],
             [
              0.2222222222222222,
              "#7201a8"
             ],
             [
              0.3333333333333333,
              "#9c179e"
             ],
             [
              0.4444444444444444,
              "#bd3786"
             ],
             [
              0.5555555555555556,
              "#d8576b"
             ],
             [
              0.6666666666666666,
              "#ed7953"
             ],
             [
              0.7777777777777778,
              "#fb9f3a"
             ],
             [
              0.8888888888888888,
              "#fdca26"
             ],
             [
              1,
              "#f0f921"
             ]
            ],
            "type": "heatmapgl"
           }
          ],
          "histogram": [
           {
            "marker": {
             "pattern": {
              "fillmode": "overlay",
              "size": 10,
              "solidity": 0.2
             }
            },
            "type": "histogram"
           }
          ],
          "histogram2d": [
           {
            "colorbar": {
             "outlinewidth": 0,
             "ticks": ""
            },
            "colorscale": [
             [
              0,
              "#0d0887"
             ],
             [
              0.1111111111111111,
              "#46039f"
             ],
             [
              0.2222222222222222,
              "#7201a8"
             ],
             [
              0.3333333333333333,
              "#9c179e"
             ],
             [
              0.4444444444444444,
              "#bd3786"
             ],
             [
              0.5555555555555556,
              "#d8576b"
             ],
             [
              0.6666666666666666,
              "#ed7953"
             ],
             [
              0.7777777777777778,
              "#fb9f3a"
             ],
             [
              0.8888888888888888,
              "#fdca26"
             ],
             [
              1,
              "#f0f921"
             ]
            ],
            "type": "histogram2d"
           }
          ],
          "histogram2dcontour": [
           {
            "colorbar": {
             "outlinewidth": 0,
             "ticks": ""
            },
            "colorscale": [
             [
              0,
              "#0d0887"
             ],
             [
              0.1111111111111111,
              "#46039f"
             ],
             [
              0.2222222222222222,
              "#7201a8"
             ],
             [
              0.3333333333333333,
              "#9c179e"
             ],
             [
              0.4444444444444444,
              "#bd3786"
             ],
             [
              0.5555555555555556,
              "#d8576b"
             ],
             [
              0.6666666666666666,
              "#ed7953"
             ],
             [
              0.7777777777777778,
              "#fb9f3a"
             ],
             [
              0.8888888888888888,
              "#fdca26"
             ],
             [
              1,
              "#f0f921"
             ]
            ],
            "type": "histogram2dcontour"
           }
          ],
          "mesh3d": [
           {
            "colorbar": {
             "outlinewidth": 0,
             "ticks": ""
            },
            "type": "mesh3d"
           }
          ],
          "parcoords": [
           {
            "line": {
             "colorbar": {
              "outlinewidth": 0,
              "ticks": ""
             }
            },
            "type": "parcoords"
           }
          ],
          "pie": [
           {
            "automargin": true,
            "type": "pie"
           }
          ],
          "scatter": [
           {
            "fillpattern": {
             "fillmode": "overlay",
             "size": 10,
             "solidity": 0.2
            },
            "type": "scatter"
           }
          ],
          "scatter3d": [
           {
            "line": {
             "colorbar": {
              "outlinewidth": 0,
              "ticks": ""
             }
            },
            "marker": {
             "colorbar": {
              "outlinewidth": 0,
              "ticks": ""
             }
            },
            "type": "scatter3d"
           }
          ],
          "scattercarpet": [
           {
            "marker": {
             "colorbar": {
              "outlinewidth": 0,
              "ticks": ""
             }
            },
            "type": "scattercarpet"
           }
          ],
          "scattergeo": [
           {
            "marker": {
             "colorbar": {
              "outlinewidth": 0,
              "ticks": ""
             }
            },
            "type": "scattergeo"
           }
          ],
          "scattergl": [
           {
            "marker": {
             "colorbar": {
              "outlinewidth": 0,
              "ticks": ""
             }
            },
            "type": "scattergl"
           }
          ],
          "scattermapbox": [
           {
            "marker": {
             "colorbar": {
              "outlinewidth": 0,
              "ticks": ""
             }
            },
            "type": "scattermapbox"
           }
          ],
          "scatterpolar": [
           {
            "marker": {
             "colorbar": {
              "outlinewidth": 0,
              "ticks": ""
             }
            },
            "type": "scatterpolar"
           }
          ],
          "scatterpolargl": [
           {
            "marker": {
             "colorbar": {
              "outlinewidth": 0,
              "ticks": ""
             }
            },
            "type": "scatterpolargl"
           }
          ],
          "scatterternary": [
           {
            "marker": {
             "colorbar": {
              "outlinewidth": 0,
              "ticks": ""
             }
            },
            "type": "scatterternary"
           }
          ],
          "surface": [
           {
            "colorbar": {
             "outlinewidth": 0,
             "ticks": ""
            },
            "colorscale": [
             [
              0,
              "#0d0887"
             ],
             [
              0.1111111111111111,
              "#46039f"
             ],
             [
              0.2222222222222222,
              "#7201a8"
             ],
             [
              0.3333333333333333,
              "#9c179e"
             ],
             [
              0.4444444444444444,
              "#bd3786"
             ],
             [
              0.5555555555555556,
              "#d8576b"
             ],
             [
              0.6666666666666666,
              "#ed7953"
             ],
             [
              0.7777777777777778,
              "#fb9f3a"
             ],
             [
              0.8888888888888888,
              "#fdca26"
             ],
             [
              1,
              "#f0f921"
             ]
            ],
            "type": "surface"
           }
          ],
          "table": [
           {
            "cells": {
             "fill": {
              "color": "#EBF0F8"
             },
             "line": {
              "color": "white"
             }
            },
            "header": {
             "fill": {
              "color": "#C8D4E3"
             },
             "line": {
              "color": "white"
             }
            },
            "type": "table"
           }
          ]
         },
         "layout": {
          "annotationdefaults": {
           "arrowcolor": "#2a3f5f",
           "arrowhead": 0,
           "arrowwidth": 1
          },
          "autotypenumbers": "strict",
          "coloraxis": {
           "colorbar": {
            "outlinewidth": 0,
            "ticks": ""
           }
          },
          "colorscale": {
           "diverging": [
            [
             0,
             "#8e0152"
            ],
            [
             0.1,
             "#c51b7d"
            ],
            [
             0.2,
             "#de77ae"
            ],
            [
             0.3,
             "#f1b6da"
            ],
            [
             0.4,
             "#fde0ef"
            ],
            [
             0.5,
             "#f7f7f7"
            ],
            [
             0.6,
             "#e6f5d0"
            ],
            [
             0.7,
             "#b8e186"
            ],
            [
             0.8,
             "#7fbc41"
            ],
            [
             0.9,
             "#4d9221"
            ],
            [
             1,
             "#276419"
            ]
           ],
           "sequential": [
            [
             0,
             "#0d0887"
            ],
            [
             0.1111111111111111,
             "#46039f"
            ],
            [
             0.2222222222222222,
             "#7201a8"
            ],
            [
             0.3333333333333333,
             "#9c179e"
            ],
            [
             0.4444444444444444,
             "#bd3786"
            ],
            [
             0.5555555555555556,
             "#d8576b"
            ],
            [
             0.6666666666666666,
             "#ed7953"
            ],
            [
             0.7777777777777778,
             "#fb9f3a"
            ],
            [
             0.8888888888888888,
             "#fdca26"
            ],
            [
             1,
             "#f0f921"
            ]
           ],
           "sequentialminus": [
            [
             0,
             "#0d0887"
            ],
            [
             0.1111111111111111,
             "#46039f"
            ],
            [
             0.2222222222222222,
             "#7201a8"
            ],
            [
             0.3333333333333333,
             "#9c179e"
            ],
            [
             0.4444444444444444,
             "#bd3786"
            ],
            [
             0.5555555555555556,
             "#d8576b"
            ],
            [
             0.6666666666666666,
             "#ed7953"
            ],
            [
             0.7777777777777778,
             "#fb9f3a"
            ],
            [
             0.8888888888888888,
             "#fdca26"
            ],
            [
             1,
             "#f0f921"
            ]
           ]
          },
          "colorway": [
           "#636efa",
           "#EF553B",
           "#00cc96",
           "#ab63fa",
           "#FFA15A",
           "#19d3f3",
           "#FF6692",
           "#B6E880",
           "#FF97FF",
           "#FECB52"
          ],
          "font": {
           "color": "#2a3f5f"
          },
          "geo": {
           "bgcolor": "white",
           "lakecolor": "white",
           "landcolor": "#E5ECF6",
           "showlakes": true,
           "showland": true,
           "subunitcolor": "white"
          },
          "hoverlabel": {
           "align": "left"
          },
          "hovermode": "closest",
          "mapbox": {
           "style": "light"
          },
          "paper_bgcolor": "white",
          "plot_bgcolor": "#E5ECF6",
          "polar": {
           "angularaxis": {
            "gridcolor": "white",
            "linecolor": "white",
            "ticks": ""
           },
           "bgcolor": "#E5ECF6",
           "radialaxis": {
            "gridcolor": "white",
            "linecolor": "white",
            "ticks": ""
           }
          },
          "scene": {
           "xaxis": {
            "backgroundcolor": "#E5ECF6",
            "gridcolor": "white",
            "gridwidth": 2,
            "linecolor": "white",
            "showbackground": true,
            "ticks": "",
            "zerolinecolor": "white"
           },
           "yaxis": {
            "backgroundcolor": "#E5ECF6",
            "gridcolor": "white",
            "gridwidth": 2,
            "linecolor": "white",
            "showbackground": true,
            "ticks": "",
            "zerolinecolor": "white"
           },
           "zaxis": {
            "backgroundcolor": "#E5ECF6",
            "gridcolor": "white",
            "gridwidth": 2,
            "linecolor": "white",
            "showbackground": true,
            "ticks": "",
            "zerolinecolor": "white"
           }
          },
          "shapedefaults": {
           "line": {
            "color": "#2a3f5f"
           }
          },
          "ternary": {
           "aaxis": {
            "gridcolor": "white",
            "linecolor": "white",
            "ticks": ""
           },
           "baxis": {
            "gridcolor": "white",
            "linecolor": "white",
            "ticks": ""
           },
           "bgcolor": "#E5ECF6",
           "caxis": {
            "gridcolor": "white",
            "linecolor": "white",
            "ticks": ""
           }
          },
          "title": {
           "x": 0.05
          },
          "xaxis": {
           "automargin": true,
           "gridcolor": "white",
           "linecolor": "white",
           "ticks": "",
           "title": {
            "standoff": 15
           },
           "zerolinecolor": "white",
           "zerolinewidth": 2
          },
          "yaxis": {
           "automargin": true,
           "gridcolor": "white",
           "linecolor": "white",
           "ticks": "",
           "title": {
            "standoff": 15
           },
           "zerolinecolor": "white",
           "zerolinewidth": 2
          }
         }
        },
        "title": {
         "text": "Top 30 ZIP Codes by Count"
        },
        "xaxis": {
         "anchor": "y",
         "domain": [
          0,
          1
         ],
         "tickangle": 45,
         "title": {
          "text": "ZIP Code"
         }
        },
        "yaxis": {
         "anchor": "x",
         "domain": [
          0,
          1
         ],
         "title": {
          "text": "Count"
         }
        }
       }
      }
     },
     "metadata": {},
     "output_type": "display_data"
    }
   ],
   "source": [
    "zip_count = subset[\"ZIP\"].dropna().value_counts().reset_index()\n",
    "zip_count.columns = [\"ZIP\", \"Count\"]\n",
    "\n",
    "top_30_zip_count = zip_count.head(30)\n",
    "\n",
    "fig = px.bar(\n",
    "    top_30_zip_count, \n",
    "    x=\"ZIP\", \n",
    "    y=\"Count\", \n",
    "    title=\"Top 30 ZIP Codes by Count\",\n",
    "    labels={\"ZIP\": \"ZIP Code\", \"Count\": \"Count\"},\n",
    "    color=\"Count\",\n",
    "    color_continuous_scale=\"Viridis\"\n",
    ")\n",
    "\n",
    "fig.update_layout(\n",
    "    xaxis_title=\"ZIP Code\",\n",
    "    yaxis_title=\"Count\",\n",
    "    xaxis_tickangle=45,\n",
    "    showlegend=False\n",
    ")\n",
    "\n",
    "fig.show()"
   ]
  },
  {
   "cell_type": "code",
   "execution_count": 131,
   "metadata": {},
   "outputs": [],
   "source": [
    "postcode_coordinates = {\n",
    "    # Central London\n",
    "    'SW1W': (51.4998, -0.1429),  # Belgravia\n",
    "    'SW1X': (51.5014, -0.1550),  # Mayfair\n",
    "    'SW1A': (51.5007, -0.1246),  # Westminster\n",
    "    'SW1E': (51.4943, -0.1431),  # Belgravia\n",
    "    'SW1P': (51.4966, -0.1357),  # Victoria\n",
    "    'SW1V': (51.4958, -0.1395),  # Pimlico\n",
    "    \n",
    "    # West London\n",
    "    'W1B': (51.5167, -0.1378),  # Mayfair\n",
    "    'W1D': (51.5141, -0.1320),  # Soho\n",
    "    'W1G': (51.5193, -0.1463),  # Fitzrovia\n",
    "    'W1H': (51.5221, -0.1409),  # Marylebone\n",
    "    'W1K': (51.5114, -0.1465),  # Mayfair\n",
    "    'W1S': (51.5087, -0.1436),  # Mayfair\n",
    "    'W1U': (51.5166, -0.1504),  # Marylebone\n",
    "    'W1W': (51.5225, -0.1376),  # Marylebone\n",
    "    \n",
    "    # North London\n",
    "    'N1': (51.5230, -0.0984),\n",
    "    'N2': (51.5906, -0.1715),  # East Finchley\n",
    "    'N5': (51.5447, -0.1052),\n",
    "    'N6': (51.5587, -0.1484),  # Highgate\n",
    "    'N10': (51.5968, -0.1460),\n",
    "    'N20': (51.6305, -0.2016),\n",
    "    'N21': (51.6234, -0.1248),\n",
    "    \n",
    "    # Northwest London\n",
    "    'NW1': (51.5229, -0.1607),\n",
    "    'NW2': (51.5698, -0.2470),\n",
    "    'NW3': (51.5490, -0.1770),  # Hampstead\n",
    "    'NW4': (51.5978, -0.2440),\n",
    "    'NW6': (51.5446, -0.2072),\n",
    "    'NW7': (51.6238, -0.2547),\n",
    "    'NW8': (51.5260, -0.1748),  # St John's Wood\n",
    "    'NW11': (51.5830, -0.2098),\n",
    "    \n",
    "    # Southwest London\n",
    "    'SW2': (51.4438, -0.1185),\n",
    "    'SW3': (51.4850, -0.1750),  # Chelsea\n",
    "    'SW5': (51.4886, -0.1950),\n",
    "    'SW6': (51.4750, -0.2050),\n",
    "    'SW7': (51.4950, -0.1750),  # South Kensington\n",
    "    'SW8': (51.4830, -0.1230),  # Nine Elms\n",
    "    'SW10': (51.4860, -0.1960),  # Chelsea\n",
    "    'SW11': (51.4760, -0.1650),\n",
    "    'SW13': (51.4730, -0.2570),\n",
    "    'SW15': (51.4550, -0.2300),\n",
    "    'SW16': (51.4230, -0.1190),\n",
    "    'SW17': (51.4230, -0.1350),\n",
    "    'SW18': (51.4530, -0.2170),\n",
    "    'SW19': (51.4230, -0.2130),\n",
    "    \n",
    "    # East London\n",
    "    'E14': (51.5049, -0.0210),\n",
    "    'E16': (51.5080, 0.0300),\n",
    "    'E20': (51.5085, -0.0130),\n",
    "    \n",
    "    # Southeast London\n",
    "    'SE1': (51.5050, -0.0850),\n",
    "    'SE8': (51.4910, -0.0360),\n",
    "    'SE13': (51.4640, -0.0220),\n",
    "    'SE21': (51.4430, -0.0840),\n",
    "    \n",
    "    # West Central London\n",
    "    'WC1A': (51.5201, -0.1210),\n",
    "    'WC1H': (51.5249, -0.1260),\n",
    "    'WC1N': (51.5242, -0.1260),\n",
    "    'WC2E': (51.5074, -0.1278),\n",
    "    'WC2N': (51.5080, -0.1285),\n",
    "    'WC2R': (51.5115, -0.1250),\n",
    "    \n",
    "    # Thames Valley/Outer London\n",
    "    'TW1': (51.4450, -0.3220),\n",
    "    'TW7': (51.4710, -0.3710),\n",
    "    'TW9': (51.4570, -0.3050),\n",
    "    'TW10': (51.4400, -0.3100),\n",
    "    \n",
    "    # Other notable locations\n",
    "    'W2': (51.5170, -0.1700),\n",
    "    'W8': (51.4950, -0.1950),  # Kensington\n",
    "    'W9': (51.5260, -0.1850),\n",
    "    'W11': (51.5090, -0.2050),  # Notting Hill\n",
    "    'W12': (51.5060, -0.2250),\n",
    "    'W14': (51.4950, -0.2050)\n",
    "}\n"
   ]
  },
  {
   "cell_type": "markdown",
   "metadata": {},
   "source": [
    "Observando la distribución descompensada por ZIP obtenemos una visualización geográfica para determinar el sesgo del dataset."
   ]
  },
  {
   "cell_type": "code",
   "execution_count": 132,
   "metadata": {},
   "outputs": [
    {
     "data": {
      "application/vnd.plotly.v1+json": {
       "config": {
        "plotlyServerURL": "https://plot.ly"
       },
       "data": [
        {
         "hovertemplate": "<b>%{hovertext}</b><br>Frequency: %{marker.color}<extra></extra>",
         "hovertext": [
          "SW1X",
          "W1K",
          "SW7",
          "SW1W",
          "NW8",
          "SW3",
          "W8",
          "N2",
          "SW8",
          "W2",
          "NW1",
          "NW3",
          "W1U",
          "SW10",
          "W11",
          "SW19",
          "SW1A",
          "SE1",
          "SW11",
          "W1S",
          "SW1E",
          "W14",
          "N6",
          "W1H",
          "N20",
          "W1G",
          "SW6",
          "W1W",
          "SW15",
          "SW1P",
          "W9",
          "N21",
          "NW7",
          "NW11",
          "WC1A",
          "WC2E",
          "SW13",
          "NW2",
          "N1",
          "NW6",
          "WC2R",
          "E14",
          "TW1",
          "W1B",
          "SW17",
          "SW2",
          "N5",
          "WC1H",
          "SW18",
          "TW10",
          "TW9",
          "W1D",
          "SW5",
          "E20",
          "TW7",
          "SE8",
          "N10",
          "WC1N",
          "WC2N",
          "SW16",
          "W12",
          "NW4",
          "SE13",
          "E16",
          "SE21",
          "SW1V"
         ],
         "lat": [
          51.5014,
          51.5114,
          51.495,
          51.4998,
          51.526,
          51.485,
          51.495,
          51.5906,
          51.483,
          51.517,
          51.5229,
          51.549,
          51.5166,
          51.486,
          51.509,
          51.423,
          51.5007,
          51.505,
          51.476,
          51.5087,
          51.4943,
          51.495,
          51.5587,
          51.5221,
          51.6305,
          51.5193,
          51.475,
          51.5225,
          51.455,
          51.4966,
          51.526,
          51.6234,
          51.6238,
          51.583,
          51.5201,
          51.5074,
          51.473,
          51.5698,
          51.523,
          51.5446,
          51.5115,
          51.5049,
          51.445,
          51.5167,
          51.423,
          51.4438,
          51.5447,
          51.5249,
          51.453,
          51.44,
          51.457,
          51.5141,
          51.4886,
          51.5085,
          51.471,
          51.491,
          51.5968,
          51.5242,
          51.508,
          51.423,
          51.506,
          51.5978,
          51.464,
          51.508,
          51.443,
          51.4958
         ],
         "legendgroup": "",
         "lon": [
          -0.155,
          -0.1465,
          -0.175,
          -0.1429,
          -0.1748,
          -0.175,
          -0.195,
          -0.1715,
          -0.123,
          -0.17,
          -0.1607,
          -0.177,
          -0.1504,
          -0.196,
          -0.205,
          -0.213,
          -0.1246,
          -0.085,
          -0.165,
          -0.1436,
          -0.1431,
          -0.205,
          -0.1484,
          -0.1409,
          -0.2016,
          -0.1463,
          -0.205,
          -0.1376,
          -0.23,
          -0.1357,
          -0.185,
          -0.1248,
          -0.2547,
          -0.2098,
          -0.121,
          -0.1278,
          -0.257,
          -0.247,
          -0.0984,
          -0.2072,
          -0.125,
          -0.021,
          -0.322,
          -0.1378,
          -0.135,
          -0.1185,
          -0.1052,
          -0.126,
          -0.217,
          -0.31,
          -0.305,
          -0.132,
          -0.195,
          -0.013,
          -0.371,
          -0.036,
          -0.146,
          -0.126,
          -0.1285,
          -0.119,
          -0.225,
          -0.244,
          -0.022,
          0.03,
          -0.084,
          -0.1395
         ],
         "marker": {
          "color": [
           76,
           50,
           43,
           40,
           39,
           39,
           37,
           35,
           34,
           33,
           28,
           27,
           17,
           15,
           15,
           14,
           13,
           12,
           10,
           9,
           9,
           6,
           6,
           6,
           6,
           6,
           6,
           5,
           4,
           4,
           4,
           4,
           3,
           3,
           2,
           2,
           2,
           2,
           2,
           2,
           2,
           2,
           2,
           2,
           1,
           1,
           1,
           1,
           1,
           1,
           1,
           1,
           1,
           1,
           1,
           1,
           1,
           1,
           1,
           1,
           1,
           1,
           1,
           1,
           1,
           1
          ],
          "coloraxis": "coloraxis",
          "size": [
           76,
           50,
           43,
           40,
           39,
           39,
           37,
           35,
           34,
           33,
           28,
           27,
           17,
           15,
           15,
           14,
           13,
           12,
           10,
           9,
           9,
           6,
           6,
           6,
           6,
           6,
           6,
           5,
           4,
           4,
           4,
           4,
           3,
           3,
           2,
           2,
           2,
           2,
           2,
           2,
           2,
           2,
           2,
           2,
           1,
           1,
           1,
           1,
           1,
           1,
           1,
           1,
           1,
           1,
           1,
           1,
           1,
           1,
           1,
           1,
           1,
           1,
           1,
           1,
           1,
           1
          ],
          "sizemode": "area",
          "sizeref": 0.19
         },
         "mode": "markers",
         "name": "",
         "showlegend": false,
         "subplot": "mapbox",
         "type": "scattermapbox"
        }
       ],
       "layout": {
        "coloraxis": {
         "colorbar": {
          "title": {
           "text": "Count"
          }
         },
         "colorscale": [
          [
           0,
           "#440154"
          ],
          [
           0.1111111111111111,
           "#482878"
          ],
          [
           0.2222222222222222,
           "#3e4989"
          ],
          [
           0.3333333333333333,
           "#31688e"
          ],
          [
           0.4444444444444444,
           "#26828e"
          ],
          [
           0.5555555555555556,
           "#1f9e89"
          ],
          [
           0.6666666666666666,
           "#35b779"
          ],
          [
           0.7777777777777778,
           "#6ece58"
          ],
          [
           0.8888888888888888,
           "#b5de2b"
          ],
          [
           1,
           "#fde725"
          ]
         ]
        },
        "height": 600,
        "legend": {
         "itemsizing": "constant",
         "tracegroupgap": 0
        },
        "mapbox": {
         "center": {
          "lat": 51.5074,
          "lon": -0.1278
         },
         "domain": {
          "x": [
           0,
           1
          ],
          "y": [
           0,
           1
          ]
         },
         "style": "open-street-map",
         "zoom": 10
        },
        "margin": {
         "b": 0,
         "l": 0,
         "r": 0,
         "t": 50
        },
        "template": {
         "data": {
          "bar": [
           {
            "error_x": {
             "color": "#2a3f5f"
            },
            "error_y": {
             "color": "#2a3f5f"
            },
            "marker": {
             "line": {
              "color": "#E5ECF6",
              "width": 0.5
             },
             "pattern": {
              "fillmode": "overlay",
              "size": 10,
              "solidity": 0.2
             }
            },
            "type": "bar"
           }
          ],
          "barpolar": [
           {
            "marker": {
             "line": {
              "color": "#E5ECF6",
              "width": 0.5
             },
             "pattern": {
              "fillmode": "overlay",
              "size": 10,
              "solidity": 0.2
             }
            },
            "type": "barpolar"
           }
          ],
          "carpet": [
           {
            "aaxis": {
             "endlinecolor": "#2a3f5f",
             "gridcolor": "white",
             "linecolor": "white",
             "minorgridcolor": "white",
             "startlinecolor": "#2a3f5f"
            },
            "baxis": {
             "endlinecolor": "#2a3f5f",
             "gridcolor": "white",
             "linecolor": "white",
             "minorgridcolor": "white",
             "startlinecolor": "#2a3f5f"
            },
            "type": "carpet"
           }
          ],
          "choropleth": [
           {
            "colorbar": {
             "outlinewidth": 0,
             "ticks": ""
            },
            "type": "choropleth"
           }
          ],
          "contour": [
           {
            "colorbar": {
             "outlinewidth": 0,
             "ticks": ""
            },
            "colorscale": [
             [
              0,
              "#0d0887"
             ],
             [
              0.1111111111111111,
              "#46039f"
             ],
             [
              0.2222222222222222,
              "#7201a8"
             ],
             [
              0.3333333333333333,
              "#9c179e"
             ],
             [
              0.4444444444444444,
              "#bd3786"
             ],
             [
              0.5555555555555556,
              "#d8576b"
             ],
             [
              0.6666666666666666,
              "#ed7953"
             ],
             [
              0.7777777777777778,
              "#fb9f3a"
             ],
             [
              0.8888888888888888,
              "#fdca26"
             ],
             [
              1,
              "#f0f921"
             ]
            ],
            "type": "contour"
           }
          ],
          "contourcarpet": [
           {
            "colorbar": {
             "outlinewidth": 0,
             "ticks": ""
            },
            "type": "contourcarpet"
           }
          ],
          "heatmap": [
           {
            "colorbar": {
             "outlinewidth": 0,
             "ticks": ""
            },
            "colorscale": [
             [
              0,
              "#0d0887"
             ],
             [
              0.1111111111111111,
              "#46039f"
             ],
             [
              0.2222222222222222,
              "#7201a8"
             ],
             [
              0.3333333333333333,
              "#9c179e"
             ],
             [
              0.4444444444444444,
              "#bd3786"
             ],
             [
              0.5555555555555556,
              "#d8576b"
             ],
             [
              0.6666666666666666,
              "#ed7953"
             ],
             [
              0.7777777777777778,
              "#fb9f3a"
             ],
             [
              0.8888888888888888,
              "#fdca26"
             ],
             [
              1,
              "#f0f921"
             ]
            ],
            "type": "heatmap"
           }
          ],
          "heatmapgl": [
           {
            "colorbar": {
             "outlinewidth": 0,
             "ticks": ""
            },
            "colorscale": [
             [
              0,
              "#0d0887"
             ],
             [
              0.1111111111111111,
              "#46039f"
             ],
             [
              0.2222222222222222,
              "#7201a8"
             ],
             [
              0.3333333333333333,
              "#9c179e"
             ],
             [
              0.4444444444444444,
              "#bd3786"
             ],
             [
              0.5555555555555556,
              "#d8576b"
             ],
             [
              0.6666666666666666,
              "#ed7953"
             ],
             [
              0.7777777777777778,
              "#fb9f3a"
             ],
             [
              0.8888888888888888,
              "#fdca26"
             ],
             [
              1,
              "#f0f921"
             ]
            ],
            "type": "heatmapgl"
           }
          ],
          "histogram": [
           {
            "marker": {
             "pattern": {
              "fillmode": "overlay",
              "size": 10,
              "solidity": 0.2
             }
            },
            "type": "histogram"
           }
          ],
          "histogram2d": [
           {
            "colorbar": {
             "outlinewidth": 0,
             "ticks": ""
            },
            "colorscale": [
             [
              0,
              "#0d0887"
             ],
             [
              0.1111111111111111,
              "#46039f"
             ],
             [
              0.2222222222222222,
              "#7201a8"
             ],
             [
              0.3333333333333333,
              "#9c179e"
             ],
             [
              0.4444444444444444,
              "#bd3786"
             ],
             [
              0.5555555555555556,
              "#d8576b"
             ],
             [
              0.6666666666666666,
              "#ed7953"
             ],
             [
              0.7777777777777778,
              "#fb9f3a"
             ],
             [
              0.8888888888888888,
              "#fdca26"
             ],
             [
              1,
              "#f0f921"
             ]
            ],
            "type": "histogram2d"
           }
          ],
          "histogram2dcontour": [
           {
            "colorbar": {
             "outlinewidth": 0,
             "ticks": ""
            },
            "colorscale": [
             [
              0,
              "#0d0887"
             ],
             [
              0.1111111111111111,
              "#46039f"
             ],
             [
              0.2222222222222222,
              "#7201a8"
             ],
             [
              0.3333333333333333,
              "#9c179e"
             ],
             [
              0.4444444444444444,
              "#bd3786"
             ],
             [
              0.5555555555555556,
              "#d8576b"
             ],
             [
              0.6666666666666666,
              "#ed7953"
             ],
             [
              0.7777777777777778,
              "#fb9f3a"
             ],
             [
              0.8888888888888888,
              "#fdca26"
             ],
             [
              1,
              "#f0f921"
             ]
            ],
            "type": "histogram2dcontour"
           }
          ],
          "mesh3d": [
           {
            "colorbar": {
             "outlinewidth": 0,
             "ticks": ""
            },
            "type": "mesh3d"
           }
          ],
          "parcoords": [
           {
            "line": {
             "colorbar": {
              "outlinewidth": 0,
              "ticks": ""
             }
            },
            "type": "parcoords"
           }
          ],
          "pie": [
           {
            "automargin": true,
            "type": "pie"
           }
          ],
          "scatter": [
           {
            "fillpattern": {
             "fillmode": "overlay",
             "size": 10,
             "solidity": 0.2
            },
            "type": "scatter"
           }
          ],
          "scatter3d": [
           {
            "line": {
             "colorbar": {
              "outlinewidth": 0,
              "ticks": ""
             }
            },
            "marker": {
             "colorbar": {
              "outlinewidth": 0,
              "ticks": ""
             }
            },
            "type": "scatter3d"
           }
          ],
          "scattercarpet": [
           {
            "marker": {
             "colorbar": {
              "outlinewidth": 0,
              "ticks": ""
             }
            },
            "type": "scattercarpet"
           }
          ],
          "scattergeo": [
           {
            "marker": {
             "colorbar": {
              "outlinewidth": 0,
              "ticks": ""
             }
            },
            "type": "scattergeo"
           }
          ],
          "scattergl": [
           {
            "marker": {
             "colorbar": {
              "outlinewidth": 0,
              "ticks": ""
             }
            },
            "type": "scattergl"
           }
          ],
          "scattermapbox": [
           {
            "marker": {
             "colorbar": {
              "outlinewidth": 0,
              "ticks": ""
             }
            },
            "type": "scattermapbox"
           }
          ],
          "scatterpolar": [
           {
            "marker": {
             "colorbar": {
              "outlinewidth": 0,
              "ticks": ""
             }
            },
            "type": "scatterpolar"
           }
          ],
          "scatterpolargl": [
           {
            "marker": {
             "colorbar": {
              "outlinewidth": 0,
              "ticks": ""
             }
            },
            "type": "scatterpolargl"
           }
          ],
          "scatterternary": [
           {
            "marker": {
             "colorbar": {
              "outlinewidth": 0,
              "ticks": ""
             }
            },
            "type": "scatterternary"
           }
          ],
          "surface": [
           {
            "colorbar": {
             "outlinewidth": 0,
             "ticks": ""
            },
            "colorscale": [
             [
              0,
              "#0d0887"
             ],
             [
              0.1111111111111111,
              "#46039f"
             ],
             [
              0.2222222222222222,
              "#7201a8"
             ],
             [
              0.3333333333333333,
              "#9c179e"
             ],
             [
              0.4444444444444444,
              "#bd3786"
             ],
             [
              0.5555555555555556,
              "#d8576b"
             ],
             [
              0.6666666666666666,
              "#ed7953"
             ],
             [
              0.7777777777777778,
              "#fb9f3a"
             ],
             [
              0.8888888888888888,
              "#fdca26"
             ],
             [
              1,
              "#f0f921"
             ]
            ],
            "type": "surface"
           }
          ],
          "table": [
           {
            "cells": {
             "fill": {
              "color": "#EBF0F8"
             },
             "line": {
              "color": "white"
             }
            },
            "header": {
             "fill": {
              "color": "#C8D4E3"
             },
             "line": {
              "color": "white"
             }
            },
            "type": "table"
           }
          ]
         },
         "layout": {
          "annotationdefaults": {
           "arrowcolor": "#2a3f5f",
           "arrowhead": 0,
           "arrowwidth": 1
          },
          "autotypenumbers": "strict",
          "coloraxis": {
           "colorbar": {
            "outlinewidth": 0,
            "ticks": ""
           }
          },
          "colorscale": {
           "diverging": [
            [
             0,
             "#8e0152"
            ],
            [
             0.1,
             "#c51b7d"
            ],
            [
             0.2,
             "#de77ae"
            ],
            [
             0.3,
             "#f1b6da"
            ],
            [
             0.4,
             "#fde0ef"
            ],
            [
             0.5,
             "#f7f7f7"
            ],
            [
             0.6,
             "#e6f5d0"
            ],
            [
             0.7,
             "#b8e186"
            ],
            [
             0.8,
             "#7fbc41"
            ],
            [
             0.9,
             "#4d9221"
            ],
            [
             1,
             "#276419"
            ]
           ],
           "sequential": [
            [
             0,
             "#0d0887"
            ],
            [
             0.1111111111111111,
             "#46039f"
            ],
            [
             0.2222222222222222,
             "#7201a8"
            ],
            [
             0.3333333333333333,
             "#9c179e"
            ],
            [
             0.4444444444444444,
             "#bd3786"
            ],
            [
             0.5555555555555556,
             "#d8576b"
            ],
            [
             0.6666666666666666,
             "#ed7953"
            ],
            [
             0.7777777777777778,
             "#fb9f3a"
            ],
            [
             0.8888888888888888,
             "#fdca26"
            ],
            [
             1,
             "#f0f921"
            ]
           ],
           "sequentialminus": [
            [
             0,
             "#0d0887"
            ],
            [
             0.1111111111111111,
             "#46039f"
            ],
            [
             0.2222222222222222,
             "#7201a8"
            ],
            [
             0.3333333333333333,
             "#9c179e"
            ],
            [
             0.4444444444444444,
             "#bd3786"
            ],
            [
             0.5555555555555556,
             "#d8576b"
            ],
            [
             0.6666666666666666,
             "#ed7953"
            ],
            [
             0.7777777777777778,
             "#fb9f3a"
            ],
            [
             0.8888888888888888,
             "#fdca26"
            ],
            [
             1,
             "#f0f921"
            ]
           ]
          },
          "colorway": [
           "#636efa",
           "#EF553B",
           "#00cc96",
           "#ab63fa",
           "#FFA15A",
           "#19d3f3",
           "#FF6692",
           "#B6E880",
           "#FF97FF",
           "#FECB52"
          ],
          "font": {
           "color": "#2a3f5f"
          },
          "geo": {
           "bgcolor": "white",
           "lakecolor": "white",
           "landcolor": "#E5ECF6",
           "showlakes": true,
           "showland": true,
           "subunitcolor": "white"
          },
          "hoverlabel": {
           "align": "left"
          },
          "hovermode": "closest",
          "mapbox": {
           "style": "light"
          },
          "paper_bgcolor": "white",
          "plot_bgcolor": "#E5ECF6",
          "polar": {
           "angularaxis": {
            "gridcolor": "white",
            "linecolor": "white",
            "ticks": ""
           },
           "bgcolor": "#E5ECF6",
           "radialaxis": {
            "gridcolor": "white",
            "linecolor": "white",
            "ticks": ""
           }
          },
          "scene": {
           "xaxis": {
            "backgroundcolor": "#E5ECF6",
            "gridcolor": "white",
            "gridwidth": 2,
            "linecolor": "white",
            "showbackground": true,
            "ticks": "",
            "zerolinecolor": "white"
           },
           "yaxis": {
            "backgroundcolor": "#E5ECF6",
            "gridcolor": "white",
            "gridwidth": 2,
            "linecolor": "white",
            "showbackground": true,
            "ticks": "",
            "zerolinecolor": "white"
           },
           "zaxis": {
            "backgroundcolor": "#E5ECF6",
            "gridcolor": "white",
            "gridwidth": 2,
            "linecolor": "white",
            "showbackground": true,
            "ticks": "",
            "zerolinecolor": "white"
           }
          },
          "shapedefaults": {
           "line": {
            "color": "#2a3f5f"
           }
          },
          "ternary": {
           "aaxis": {
            "gridcolor": "white",
            "linecolor": "white",
            "ticks": ""
           },
           "baxis": {
            "gridcolor": "white",
            "linecolor": "white",
            "ticks": ""
           },
           "bgcolor": "#E5ECF6",
           "caxis": {
            "gridcolor": "white",
            "linecolor": "white",
            "ticks": ""
           }
          },
          "title": {
           "x": 0.05
          },
          "xaxis": {
           "automargin": true,
           "gridcolor": "white",
           "linecolor": "white",
           "ticks": "",
           "title": {
            "standoff": 15
           },
           "zerolinecolor": "white",
           "zerolinewidth": 2
          },
          "yaxis": {
           "automargin": true,
           "gridcolor": "white",
           "linecolor": "white",
           "ticks": "",
           "title": {
            "standoff": 15
           },
           "zerolinecolor": "white",
           "zerolinewidth": 2
          }
         }
        },
        "title": {
         "text": "London Postcodes - Frequency Heatmap",
         "x": 0.5
        }
       }
      }
     },
     "metadata": {},
     "output_type": "display_data"
    }
   ],
   "source": [
    "subset['Cleaned_ZIP'] = subset['ZIP'].str.extract(r'([A-Z]{1,2}\\d{1,2}[A-Z]?)')[0]\n",
    "\n",
    "postcode_counts = subset['Cleaned_ZIP'].value_counts().reset_index()\n",
    "postcode_counts.columns = ['Postcode', 'Count']\n",
    "\n",
    "postcode_counts['Latitude'] = postcode_counts['Postcode'].map(lambda x: postcode_coordinates.get(x, [None, None])[0])\n",
    "postcode_counts['Longitude'] = postcode_counts['Postcode'].map(lambda x: postcode_coordinates.get(x, [None, None])[1])\n",
    "\n",
    "postcode_counts = postcode_counts.dropna(subset=['Latitude', 'Longitude'])\n",
    "\n",
    "fig = px.scatter_mapbox(\n",
    "    postcode_counts, \n",
    "    lat='Latitude', \n",
    "    lon='Longitude', \n",
    "    hover_name='Postcode',\n",
    "    color='Count',\n",
    "    size='Count',\n",
    "    color_continuous_scale='viridis',\n",
    "    zoom=10, \n",
    "    height=600,\n",
    "    mapbox_style=\"open-street-map\"\n",
    ")\n",
    "\n",
    "fig.update_layout(\n",
    "    title='London Postcodes - Frequency Heatmap',\n",
    "    title_x=0.5,\n",
    "    margin={\"r\":0,\"t\":50,\"l\":0,\"b\":0},\n",
    "    mapbox=dict(\n",
    "        center=dict(\n",
    "            lat=51.5074,\n",
    "            lon=-0.1278\n",
    "        )\n",
    "    )\n",
    ")\n",
    "\n",
    "fig.update_traces(\n",
    "    hovertemplate='<b>%{hovertext}</b><br>Frequency: %{marker.color}<extra></extra>',\n",
    "    selector=dict(mode='markers')\n",
    ")\n",
    "\n",
    "fig.show()"
   ]
  },
  {
   "cell_type": "markdown",
   "metadata": {},
   "source": [
    "Existe una concentración de inmuebles del dataset en el centro-oeste de Londres, por lo que esta condición aplica a las hipotésis que vamos a poner a prueba."
   ]
  },
  {
   "cell_type": "markdown",
   "metadata": {
    "id": "IrkH44pqRexJ"
   },
   "source": [
    "#### **propertyType**\n",
    "\n",
    "*   Descripción: Tipo de propiedad.\n",
    "      *   Apartment\n",
    "      *   Penthouse\n",
    "      *   Flat\n",
    "      *   House\n",
    "      *   Terraced\n",
    "      *   Detached\n",
    "\n",
    "*   Tipo de variable: Categórica nominativa."
   ]
  },
  {
   "cell_type": "code",
   "execution_count": 133,
   "metadata": {},
   "outputs": [
    {
     "data": {
      "text/plain": [
       "count           735\n",
       "unique            6\n",
       "top       Apartment\n",
       "freq            207\n",
       "Name: propertyType, dtype: object"
      ]
     },
     "execution_count": 133,
     "metadata": {},
     "output_type": "execute_result"
    }
   ],
   "source": [
    "subset[\"propertyType\"].describe()\n"
   ]
  },
  {
   "cell_type": "code",
   "execution_count": 134,
   "metadata": {},
   "outputs": [
    {
     "data": {
      "application/vnd.plotly.v1+json": {
       "config": {
        "plotlyServerURL": "https://plot.ly"
       },
       "data": [
        {
         "alignmentgroup": "True",
         "hovertemplate": "Property Type=%{x}<br>Number of Properties=%{y}<extra></extra>",
         "legendgroup": "Apartment",
         "marker": {
          "color": "#636EFA",
          "pattern": {
           "shape": ""
          }
         },
         "name": "Apartment",
         "offsetgroup": "Apartment",
         "orientation": "v",
         "showlegend": true,
         "textposition": "auto",
         "type": "bar",
         "x": [
          "Apartment"
         ],
         "xaxis": "x",
         "y": [
          207
         ],
         "yaxis": "y"
        },
        {
         "alignmentgroup": "True",
         "hovertemplate": "Property Type=%{x}<br>Number of Properties=%{y}<extra></extra>",
         "legendgroup": "Terraced",
         "marker": {
          "color": "#EF553B",
          "pattern": {
           "shape": ""
          }
         },
         "name": "Terraced",
         "offsetgroup": "Terraced",
         "orientation": "v",
         "showlegend": true,
         "textposition": "auto",
         "type": "bar",
         "x": [
          "Terraced"
         ],
         "xaxis": "x",
         "y": [
          139
         ],
         "yaxis": "y"
        },
        {
         "alignmentgroup": "True",
         "hovertemplate": "Property Type=%{x}<br>Number of Properties=%{y}<extra></extra>",
         "legendgroup": "Detached",
         "marker": {
          "color": "#EF553B",
          "pattern": {
           "shape": ""
          }
         },
         "name": "Detached",
         "offsetgroup": "Detached",
         "orientation": "v",
         "showlegend": true,
         "textposition": "auto",
         "type": "bar",
         "x": [
          "Detached"
         ],
         "xaxis": "x",
         "y": [
          118
         ],
         "yaxis": "y"
        },
        {
         "alignmentgroup": "True",
         "hovertemplate": "Property Type=%{x}<br>Number of Properties=%{y}<extra></extra>",
         "legendgroup": "Flat",
         "marker": {
          "color": "#636EFA",
          "pattern": {
           "shape": ""
          }
         },
         "name": "Flat",
         "offsetgroup": "Flat",
         "orientation": "v",
         "showlegend": true,
         "textposition": "auto",
         "type": "bar",
         "x": [
          "Flat"
         ],
         "xaxis": "x",
         "y": [
          111
         ],
         "yaxis": "y"
        },
        {
         "alignmentgroup": "True",
         "hovertemplate": "Property Type=%{x}<br>Number of Properties=%{y}<extra></extra>",
         "legendgroup": "House",
         "marker": {
          "color": "#EF553B",
          "pattern": {
           "shape": ""
          }
         },
         "name": "House",
         "offsetgroup": "House",
         "orientation": "v",
         "showlegend": true,
         "textposition": "auto",
         "type": "bar",
         "x": [
          "House"
         ],
         "xaxis": "x",
         "y": [
          83
         ],
         "yaxis": "y"
        },
        {
         "alignmentgroup": "True",
         "hovertemplate": "Property Type=%{x}<br>Number of Properties=%{y}<extra></extra>",
         "legendgroup": "Penthouse",
         "marker": {
          "color": "#636EFA",
          "pattern": {
           "shape": ""
          }
         },
         "name": "Penthouse",
         "offsetgroup": "Penthouse",
         "orientation": "v",
         "showlegend": true,
         "textposition": "auto",
         "type": "bar",
         "x": [
          "Penthouse"
         ],
         "xaxis": "x",
         "y": [
          77
         ],
         "yaxis": "y"
        }
       ],
       "layout": {
        "bargap": 0.1,
        "barmode": "relative",
        "legend": {
         "title": {
          "text": "Property Type"
         },
         "tracegroupgap": 0
        },
        "template": {
         "data": {
          "bar": [
           {
            "error_x": {
             "color": "#2a3f5f"
            },
            "error_y": {
             "color": "#2a3f5f"
            },
            "marker": {
             "line": {
              "color": "#E5ECF6",
              "width": 0.5
             },
             "pattern": {
              "fillmode": "overlay",
              "size": 10,
              "solidity": 0.2
             }
            },
            "type": "bar"
           }
          ],
          "barpolar": [
           {
            "marker": {
             "line": {
              "color": "#E5ECF6",
              "width": 0.5
             },
             "pattern": {
              "fillmode": "overlay",
              "size": 10,
              "solidity": 0.2
             }
            },
            "type": "barpolar"
           }
          ],
          "carpet": [
           {
            "aaxis": {
             "endlinecolor": "#2a3f5f",
             "gridcolor": "white",
             "linecolor": "white",
             "minorgridcolor": "white",
             "startlinecolor": "#2a3f5f"
            },
            "baxis": {
             "endlinecolor": "#2a3f5f",
             "gridcolor": "white",
             "linecolor": "white",
             "minorgridcolor": "white",
             "startlinecolor": "#2a3f5f"
            },
            "type": "carpet"
           }
          ],
          "choropleth": [
           {
            "colorbar": {
             "outlinewidth": 0,
             "ticks": ""
            },
            "type": "choropleth"
           }
          ],
          "contour": [
           {
            "colorbar": {
             "outlinewidth": 0,
             "ticks": ""
            },
            "colorscale": [
             [
              0,
              "#0d0887"
             ],
             [
              0.1111111111111111,
              "#46039f"
             ],
             [
              0.2222222222222222,
              "#7201a8"
             ],
             [
              0.3333333333333333,
              "#9c179e"
             ],
             [
              0.4444444444444444,
              "#bd3786"
             ],
             [
              0.5555555555555556,
              "#d8576b"
             ],
             [
              0.6666666666666666,
              "#ed7953"
             ],
             [
              0.7777777777777778,
              "#fb9f3a"
             ],
             [
              0.8888888888888888,
              "#fdca26"
             ],
             [
              1,
              "#f0f921"
             ]
            ],
            "type": "contour"
           }
          ],
          "contourcarpet": [
           {
            "colorbar": {
             "outlinewidth": 0,
             "ticks": ""
            },
            "type": "contourcarpet"
           }
          ],
          "heatmap": [
           {
            "colorbar": {
             "outlinewidth": 0,
             "ticks": ""
            },
            "colorscale": [
             [
              0,
              "#0d0887"
             ],
             [
              0.1111111111111111,
              "#46039f"
             ],
             [
              0.2222222222222222,
              "#7201a8"
             ],
             [
              0.3333333333333333,
              "#9c179e"
             ],
             [
              0.4444444444444444,
              "#bd3786"
             ],
             [
              0.5555555555555556,
              "#d8576b"
             ],
             [
              0.6666666666666666,
              "#ed7953"
             ],
             [
              0.7777777777777778,
              "#fb9f3a"
             ],
             [
              0.8888888888888888,
              "#fdca26"
             ],
             [
              1,
              "#f0f921"
             ]
            ],
            "type": "heatmap"
           }
          ],
          "heatmapgl": [
           {
            "colorbar": {
             "outlinewidth": 0,
             "ticks": ""
            },
            "colorscale": [
             [
              0,
              "#0d0887"
             ],
             [
              0.1111111111111111,
              "#46039f"
             ],
             [
              0.2222222222222222,
              "#7201a8"
             ],
             [
              0.3333333333333333,
              "#9c179e"
             ],
             [
              0.4444444444444444,
              "#bd3786"
             ],
             [
              0.5555555555555556,
              "#d8576b"
             ],
             [
              0.6666666666666666,
              "#ed7953"
             ],
             [
              0.7777777777777778,
              "#fb9f3a"
             ],
             [
              0.8888888888888888,
              "#fdca26"
             ],
             [
              1,
              "#f0f921"
             ]
            ],
            "type": "heatmapgl"
           }
          ],
          "histogram": [
           {
            "marker": {
             "pattern": {
              "fillmode": "overlay",
              "size": 10,
              "solidity": 0.2
             }
            },
            "type": "histogram"
           }
          ],
          "histogram2d": [
           {
            "colorbar": {
             "outlinewidth": 0,
             "ticks": ""
            },
            "colorscale": [
             [
              0,
              "#0d0887"
             ],
             [
              0.1111111111111111,
              "#46039f"
             ],
             [
              0.2222222222222222,
              "#7201a8"
             ],
             [
              0.3333333333333333,
              "#9c179e"
             ],
             [
              0.4444444444444444,
              "#bd3786"
             ],
             [
              0.5555555555555556,
              "#d8576b"
             ],
             [
              0.6666666666666666,
              "#ed7953"
             ],
             [
              0.7777777777777778,
              "#fb9f3a"
             ],
             [
              0.8888888888888888,
              "#fdca26"
             ],
             [
              1,
              "#f0f921"
             ]
            ],
            "type": "histogram2d"
           }
          ],
          "histogram2dcontour": [
           {
            "colorbar": {
             "outlinewidth": 0,
             "ticks": ""
            },
            "colorscale": [
             [
              0,
              "#0d0887"
             ],
             [
              0.1111111111111111,
              "#46039f"
             ],
             [
              0.2222222222222222,
              "#7201a8"
             ],
             [
              0.3333333333333333,
              "#9c179e"
             ],
             [
              0.4444444444444444,
              "#bd3786"
             ],
             [
              0.5555555555555556,
              "#d8576b"
             ],
             [
              0.6666666666666666,
              "#ed7953"
             ],
             [
              0.7777777777777778,
              "#fb9f3a"
             ],
             [
              0.8888888888888888,
              "#fdca26"
             ],
             [
              1,
              "#f0f921"
             ]
            ],
            "type": "histogram2dcontour"
           }
          ],
          "mesh3d": [
           {
            "colorbar": {
             "outlinewidth": 0,
             "ticks": ""
            },
            "type": "mesh3d"
           }
          ],
          "parcoords": [
           {
            "line": {
             "colorbar": {
              "outlinewidth": 0,
              "ticks": ""
             }
            },
            "type": "parcoords"
           }
          ],
          "pie": [
           {
            "automargin": true,
            "type": "pie"
           }
          ],
          "scatter": [
           {
            "fillpattern": {
             "fillmode": "overlay",
             "size": 10,
             "solidity": 0.2
            },
            "type": "scatter"
           }
          ],
          "scatter3d": [
           {
            "line": {
             "colorbar": {
              "outlinewidth": 0,
              "ticks": ""
             }
            },
            "marker": {
             "colorbar": {
              "outlinewidth": 0,
              "ticks": ""
             }
            },
            "type": "scatter3d"
           }
          ],
          "scattercarpet": [
           {
            "marker": {
             "colorbar": {
              "outlinewidth": 0,
              "ticks": ""
             }
            },
            "type": "scattercarpet"
           }
          ],
          "scattergeo": [
           {
            "marker": {
             "colorbar": {
              "outlinewidth": 0,
              "ticks": ""
             }
            },
            "type": "scattergeo"
           }
          ],
          "scattergl": [
           {
            "marker": {
             "colorbar": {
              "outlinewidth": 0,
              "ticks": ""
             }
            },
            "type": "scattergl"
           }
          ],
          "scattermapbox": [
           {
            "marker": {
             "colorbar": {
              "outlinewidth": 0,
              "ticks": ""
             }
            },
            "type": "scattermapbox"
           }
          ],
          "scatterpolar": [
           {
            "marker": {
             "colorbar": {
              "outlinewidth": 0,
              "ticks": ""
             }
            },
            "type": "scatterpolar"
           }
          ],
          "scatterpolargl": [
           {
            "marker": {
             "colorbar": {
              "outlinewidth": 0,
              "ticks": ""
             }
            },
            "type": "scatterpolargl"
           }
          ],
          "scatterternary": [
           {
            "marker": {
             "colorbar": {
              "outlinewidth": 0,
              "ticks": ""
             }
            },
            "type": "scatterternary"
           }
          ],
          "surface": [
           {
            "colorbar": {
             "outlinewidth": 0,
             "ticks": ""
            },
            "colorscale": [
             [
              0,
              "#0d0887"
             ],
             [
              0.1111111111111111,
              "#46039f"
             ],
             [
              0.2222222222222222,
              "#7201a8"
             ],
             [
              0.3333333333333333,
              "#9c179e"
             ],
             [
              0.4444444444444444,
              "#bd3786"
             ],
             [
              0.5555555555555556,
              "#d8576b"
             ],
             [
              0.6666666666666666,
              "#ed7953"
             ],
             [
              0.7777777777777778,
              "#fb9f3a"
             ],
             [
              0.8888888888888888,
              "#fdca26"
             ],
             [
              1,
              "#f0f921"
             ]
            ],
            "type": "surface"
           }
          ],
          "table": [
           {
            "cells": {
             "fill": {
              "color": "#EBF0F8"
             },
             "line": {
              "color": "white"
             }
            },
            "header": {
             "fill": {
              "color": "#C8D4E3"
             },
             "line": {
              "color": "white"
             }
            },
            "type": "table"
           }
          ]
         },
         "layout": {
          "annotationdefaults": {
           "arrowcolor": "#2a3f5f",
           "arrowhead": 0,
           "arrowwidth": 1
          },
          "autotypenumbers": "strict",
          "coloraxis": {
           "colorbar": {
            "outlinewidth": 0,
            "ticks": ""
           }
          },
          "colorscale": {
           "diverging": [
            [
             0,
             "#8e0152"
            ],
            [
             0.1,
             "#c51b7d"
            ],
            [
             0.2,
             "#de77ae"
            ],
            [
             0.3,
             "#f1b6da"
            ],
            [
             0.4,
             "#fde0ef"
            ],
            [
             0.5,
             "#f7f7f7"
            ],
            [
             0.6,
             "#e6f5d0"
            ],
            [
             0.7,
             "#b8e186"
            ],
            [
             0.8,
             "#7fbc41"
            ],
            [
             0.9,
             "#4d9221"
            ],
            [
             1,
             "#276419"
            ]
           ],
           "sequential": [
            [
             0,
             "#0d0887"
            ],
            [
             0.1111111111111111,
             "#46039f"
            ],
            [
             0.2222222222222222,
             "#7201a8"
            ],
            [
             0.3333333333333333,
             "#9c179e"
            ],
            [
             0.4444444444444444,
             "#bd3786"
            ],
            [
             0.5555555555555556,
             "#d8576b"
            ],
            [
             0.6666666666666666,
             "#ed7953"
            ],
            [
             0.7777777777777778,
             "#fb9f3a"
            ],
            [
             0.8888888888888888,
             "#fdca26"
            ],
            [
             1,
             "#f0f921"
            ]
           ],
           "sequentialminus": [
            [
             0,
             "#0d0887"
            ],
            [
             0.1111111111111111,
             "#46039f"
            ],
            [
             0.2222222222222222,
             "#7201a8"
            ],
            [
             0.3333333333333333,
             "#9c179e"
            ],
            [
             0.4444444444444444,
             "#bd3786"
            ],
            [
             0.5555555555555556,
             "#d8576b"
            ],
            [
             0.6666666666666666,
             "#ed7953"
            ],
            [
             0.7777777777777778,
             "#fb9f3a"
            ],
            [
             0.8888888888888888,
             "#fdca26"
            ],
            [
             1,
             "#f0f921"
            ]
           ]
          },
          "colorway": [
           "#636efa",
           "#EF553B",
           "#00cc96",
           "#ab63fa",
           "#FFA15A",
           "#19d3f3",
           "#FF6692",
           "#B6E880",
           "#FF97FF",
           "#FECB52"
          ],
          "font": {
           "color": "#2a3f5f"
          },
          "geo": {
           "bgcolor": "white",
           "lakecolor": "white",
           "landcolor": "#E5ECF6",
           "showlakes": true,
           "showland": true,
           "subunitcolor": "white"
          },
          "hoverlabel": {
           "align": "left"
          },
          "hovermode": "closest",
          "mapbox": {
           "style": "light"
          },
          "paper_bgcolor": "white",
          "plot_bgcolor": "#E5ECF6",
          "polar": {
           "angularaxis": {
            "gridcolor": "white",
            "linecolor": "white",
            "ticks": ""
           },
           "bgcolor": "#E5ECF6",
           "radialaxis": {
            "gridcolor": "white",
            "linecolor": "white",
            "ticks": ""
           }
          },
          "scene": {
           "xaxis": {
            "backgroundcolor": "#E5ECF6",
            "gridcolor": "white",
            "gridwidth": 2,
            "linecolor": "white",
            "showbackground": true,
            "ticks": "",
            "zerolinecolor": "white"
           },
           "yaxis": {
            "backgroundcolor": "#E5ECF6",
            "gridcolor": "white",
            "gridwidth": 2,
            "linecolor": "white",
            "showbackground": true,
            "ticks": "",
            "zerolinecolor": "white"
           },
           "zaxis": {
            "backgroundcolor": "#E5ECF6",
            "gridcolor": "white",
            "gridwidth": 2,
            "linecolor": "white",
            "showbackground": true,
            "ticks": "",
            "zerolinecolor": "white"
           }
          },
          "shapedefaults": {
           "line": {
            "color": "#2a3f5f"
           }
          },
          "ternary": {
           "aaxis": {
            "gridcolor": "white",
            "linecolor": "white",
            "ticks": ""
           },
           "baxis": {
            "gridcolor": "white",
            "linecolor": "white",
            "ticks": ""
           },
           "bgcolor": "#E5ECF6",
           "caxis": {
            "gridcolor": "white",
            "linecolor": "white",
            "ticks": ""
           }
          },
          "title": {
           "x": 0.05
          },
          "xaxis": {
           "automargin": true,
           "gridcolor": "white",
           "linecolor": "white",
           "ticks": "",
           "title": {
            "standoff": 15
           },
           "zerolinecolor": "white",
           "zerolinewidth": 2
          },
          "yaxis": {
           "automargin": true,
           "gridcolor": "white",
           "linecolor": "white",
           "ticks": "",
           "title": {
            "standoff": 15
           },
           "zerolinecolor": "white",
           "zerolinewidth": 2
          }
         }
        },
        "title": {
         "text": "Count of Properties by Type"
        },
        "xaxis": {
         "anchor": "y",
         "categoryarray": [
          "Apartment",
          "Terraced",
          "Detached",
          "Flat",
          "House",
          "Penthouse"
         ],
         "categoryorder": "array",
         "domain": [
          0,
          1
         ],
         "showgrid": true,
         "title": {
          "text": "Property Type"
         }
        },
        "yaxis": {
         "anchor": "x",
         "domain": [
          0,
          1
         ],
         "showgrid": true,
         "title": {
          "text": "Number of Properties"
         }
        }
       }
      }
     },
     "metadata": {},
     "output_type": "display_data"
    }
   ],
   "source": [
    "property_type_counts = subset['propertyType'].value_counts().reset_index()\n",
    "property_type_counts.columns = ['Property Type', 'Count']\n",
    "\n",
    "# Create a bar plot with the counts for each property type\n",
    "fig = px.bar(\n",
    "    property_type_counts, \n",
    "    x='Property Type',  # Use the cleaned column name\n",
    "    y='Count', \n",
    "    title='Count of Properties by Type',\n",
    "    labels={'Property Type': 'Property Type', 'Count': 'Number of Properties'},\n",
    "    color='Property Type',  # Color bars by property type\n",
    "    color_discrete_sequence=['#636EFA', '#EF553B', '#EF553B', '#636EFA', '#EF553B']  # Custom colors\n",
    ")\n",
    "\n",
    "# Customize layout and axes\n",
    "fig.update_layout(\n",
    "    xaxis_title='Property Type',\n",
    "    yaxis_title='Number of Properties',\n",
    "    xaxis=dict(showgrid=True),\n",
    "    yaxis=dict(showgrid=True),\n",
    "    bargap=0.1,  # Gap between bars\n",
    "    template='plotly',  # Optional: for aesthetic improvements\n",
    ")\n",
    "\n",
    "# Show the plot\n",
    "fig.show()\n"
   ]
  },
  {
   "cell_type": "markdown",
   "metadata": {
    "id": "XI1rvJ5NYGT3"
   },
   "source": [
    "#### **propertyGlobalType**\n",
    "\n",
    "*   Descripción: Tipo de propiedad principal.\n",
    "\n",
    "      *   House\n",
    "      *   Flat\n",
    "\n",
    "*   Tipo de variable: Categórica nominativa."
   ]
  },
  {
   "cell_type": "code",
   "execution_count": 135,
   "metadata": {},
   "outputs": [
    {
     "data": {
      "text/plain": [
       "count      735\n",
       "unique       2\n",
       "top       Flat\n",
       "freq       395\n",
       "Name: propertyGlobalType, dtype: object"
      ]
     },
     "execution_count": 135,
     "metadata": {},
     "output_type": "execute_result"
    }
   ],
   "source": [
    "subset[\"propertyGlobalType\"].describe()\n"
   ]
  },
  {
   "cell_type": "code",
   "execution_count": 136,
   "metadata": {},
   "outputs": [
    {
     "data": {
      "application/vnd.plotly.v1+json": {
       "config": {
        "plotlyServerURL": "https://plot.ly"
       },
       "data": [
        {
         "alignmentgroup": "True",
         "hovertemplate": "Property Global Type=%{x}<br>Number of Properties=%{y}<extra></extra>",
         "legendgroup": "Flat",
         "marker": {
          "color": "#636EFA",
          "pattern": {
           "shape": ""
          }
         },
         "name": "Flat",
         "offsetgroup": "Flat",
         "orientation": "v",
         "showlegend": true,
         "textposition": "auto",
         "type": "bar",
         "x": [
          "Flat"
         ],
         "xaxis": "x",
         "y": [
          395
         ],
         "yaxis": "y"
        },
        {
         "alignmentgroup": "True",
         "hovertemplate": "Property Global Type=%{x}<br>Number of Properties=%{y}<extra></extra>",
         "legendgroup": "House",
         "marker": {
          "color": "#EF553B",
          "pattern": {
           "shape": ""
          }
         },
         "name": "House",
         "offsetgroup": "House",
         "orientation": "v",
         "showlegend": true,
         "textposition": "auto",
         "type": "bar",
         "x": [
          "House"
         ],
         "xaxis": "x",
         "y": [
          340
         ],
         "yaxis": "y"
        }
       ],
       "layout": {
        "bargap": 0.1,
        "barmode": "relative",
        "legend": {
         "title": {
          "text": "Property Global Type"
         },
         "tracegroupgap": 0
        },
        "template": {
         "data": {
          "bar": [
           {
            "error_x": {
             "color": "#2a3f5f"
            },
            "error_y": {
             "color": "#2a3f5f"
            },
            "marker": {
             "line": {
              "color": "#E5ECF6",
              "width": 0.5
             },
             "pattern": {
              "fillmode": "overlay",
              "size": 10,
              "solidity": 0.2
             }
            },
            "type": "bar"
           }
          ],
          "barpolar": [
           {
            "marker": {
             "line": {
              "color": "#E5ECF6",
              "width": 0.5
             },
             "pattern": {
              "fillmode": "overlay",
              "size": 10,
              "solidity": 0.2
             }
            },
            "type": "barpolar"
           }
          ],
          "carpet": [
           {
            "aaxis": {
             "endlinecolor": "#2a3f5f",
             "gridcolor": "white",
             "linecolor": "white",
             "minorgridcolor": "white",
             "startlinecolor": "#2a3f5f"
            },
            "baxis": {
             "endlinecolor": "#2a3f5f",
             "gridcolor": "white",
             "linecolor": "white",
             "minorgridcolor": "white",
             "startlinecolor": "#2a3f5f"
            },
            "type": "carpet"
           }
          ],
          "choropleth": [
           {
            "colorbar": {
             "outlinewidth": 0,
             "ticks": ""
            },
            "type": "choropleth"
           }
          ],
          "contour": [
           {
            "colorbar": {
             "outlinewidth": 0,
             "ticks": ""
            },
            "colorscale": [
             [
              0,
              "#0d0887"
             ],
             [
              0.1111111111111111,
              "#46039f"
             ],
             [
              0.2222222222222222,
              "#7201a8"
             ],
             [
              0.3333333333333333,
              "#9c179e"
             ],
             [
              0.4444444444444444,
              "#bd3786"
             ],
             [
              0.5555555555555556,
              "#d8576b"
             ],
             [
              0.6666666666666666,
              "#ed7953"
             ],
             [
              0.7777777777777778,
              "#fb9f3a"
             ],
             [
              0.8888888888888888,
              "#fdca26"
             ],
             [
              1,
              "#f0f921"
             ]
            ],
            "type": "contour"
           }
          ],
          "contourcarpet": [
           {
            "colorbar": {
             "outlinewidth": 0,
             "ticks": ""
            },
            "type": "contourcarpet"
           }
          ],
          "heatmap": [
           {
            "colorbar": {
             "outlinewidth": 0,
             "ticks": ""
            },
            "colorscale": [
             [
              0,
              "#0d0887"
             ],
             [
              0.1111111111111111,
              "#46039f"
             ],
             [
              0.2222222222222222,
              "#7201a8"
             ],
             [
              0.3333333333333333,
              "#9c179e"
             ],
             [
              0.4444444444444444,
              "#bd3786"
             ],
             [
              0.5555555555555556,
              "#d8576b"
             ],
             [
              0.6666666666666666,
              "#ed7953"
             ],
             [
              0.7777777777777778,
              "#fb9f3a"
             ],
             [
              0.8888888888888888,
              "#fdca26"
             ],
             [
              1,
              "#f0f921"
             ]
            ],
            "type": "heatmap"
           }
          ],
          "heatmapgl": [
           {
            "colorbar": {
             "outlinewidth": 0,
             "ticks": ""
            },
            "colorscale": [
             [
              0,
              "#0d0887"
             ],
             [
              0.1111111111111111,
              "#46039f"
             ],
             [
              0.2222222222222222,
              "#7201a8"
             ],
             [
              0.3333333333333333,
              "#9c179e"
             ],
             [
              0.4444444444444444,
              "#bd3786"
             ],
             [
              0.5555555555555556,
              "#d8576b"
             ],
             [
              0.6666666666666666,
              "#ed7953"
             ],
             [
              0.7777777777777778,
              "#fb9f3a"
             ],
             [
              0.8888888888888888,
              "#fdca26"
             ],
             [
              1,
              "#f0f921"
             ]
            ],
            "type": "heatmapgl"
           }
          ],
          "histogram": [
           {
            "marker": {
             "pattern": {
              "fillmode": "overlay",
              "size": 10,
              "solidity": 0.2
             }
            },
            "type": "histogram"
           }
          ],
          "histogram2d": [
           {
            "colorbar": {
             "outlinewidth": 0,
             "ticks": ""
            },
            "colorscale": [
             [
              0,
              "#0d0887"
             ],
             [
              0.1111111111111111,
              "#46039f"
             ],
             [
              0.2222222222222222,
              "#7201a8"
             ],
             [
              0.3333333333333333,
              "#9c179e"
             ],
             [
              0.4444444444444444,
              "#bd3786"
             ],
             [
              0.5555555555555556,
              "#d8576b"
             ],
             [
              0.6666666666666666,
              "#ed7953"
             ],
             [
              0.7777777777777778,
              "#fb9f3a"
             ],
             [
              0.8888888888888888,
              "#fdca26"
             ],
             [
              1,
              "#f0f921"
             ]
            ],
            "type": "histogram2d"
           }
          ],
          "histogram2dcontour": [
           {
            "colorbar": {
             "outlinewidth": 0,
             "ticks": ""
            },
            "colorscale": [
             [
              0,
              "#0d0887"
             ],
             [
              0.1111111111111111,
              "#46039f"
             ],
             [
              0.2222222222222222,
              "#7201a8"
             ],
             [
              0.3333333333333333,
              "#9c179e"
             ],
             [
              0.4444444444444444,
              "#bd3786"
             ],
             [
              0.5555555555555556,
              "#d8576b"
             ],
             [
              0.6666666666666666,
              "#ed7953"
             ],
             [
              0.7777777777777778,
              "#fb9f3a"
             ],
             [
              0.8888888888888888,
              "#fdca26"
             ],
             [
              1,
              "#f0f921"
             ]
            ],
            "type": "histogram2dcontour"
           }
          ],
          "mesh3d": [
           {
            "colorbar": {
             "outlinewidth": 0,
             "ticks": ""
            },
            "type": "mesh3d"
           }
          ],
          "parcoords": [
           {
            "line": {
             "colorbar": {
              "outlinewidth": 0,
              "ticks": ""
             }
            },
            "type": "parcoords"
           }
          ],
          "pie": [
           {
            "automargin": true,
            "type": "pie"
           }
          ],
          "scatter": [
           {
            "fillpattern": {
             "fillmode": "overlay",
             "size": 10,
             "solidity": 0.2
            },
            "type": "scatter"
           }
          ],
          "scatter3d": [
           {
            "line": {
             "colorbar": {
              "outlinewidth": 0,
              "ticks": ""
             }
            },
            "marker": {
             "colorbar": {
              "outlinewidth": 0,
              "ticks": ""
             }
            },
            "type": "scatter3d"
           }
          ],
          "scattercarpet": [
           {
            "marker": {
             "colorbar": {
              "outlinewidth": 0,
              "ticks": ""
             }
            },
            "type": "scattercarpet"
           }
          ],
          "scattergeo": [
           {
            "marker": {
             "colorbar": {
              "outlinewidth": 0,
              "ticks": ""
             }
            },
            "type": "scattergeo"
           }
          ],
          "scattergl": [
           {
            "marker": {
             "colorbar": {
              "outlinewidth": 0,
              "ticks": ""
             }
            },
            "type": "scattergl"
           }
          ],
          "scattermapbox": [
           {
            "marker": {
             "colorbar": {
              "outlinewidth": 0,
              "ticks": ""
             }
            },
            "type": "scattermapbox"
           }
          ],
          "scatterpolar": [
           {
            "marker": {
             "colorbar": {
              "outlinewidth": 0,
              "ticks": ""
             }
            },
            "type": "scatterpolar"
           }
          ],
          "scatterpolargl": [
           {
            "marker": {
             "colorbar": {
              "outlinewidth": 0,
              "ticks": ""
             }
            },
            "type": "scatterpolargl"
           }
          ],
          "scatterternary": [
           {
            "marker": {
             "colorbar": {
              "outlinewidth": 0,
              "ticks": ""
             }
            },
            "type": "scatterternary"
           }
          ],
          "surface": [
           {
            "colorbar": {
             "outlinewidth": 0,
             "ticks": ""
            },
            "colorscale": [
             [
              0,
              "#0d0887"
             ],
             [
              0.1111111111111111,
              "#46039f"
             ],
             [
              0.2222222222222222,
              "#7201a8"
             ],
             [
              0.3333333333333333,
              "#9c179e"
             ],
             [
              0.4444444444444444,
              "#bd3786"
             ],
             [
              0.5555555555555556,
              "#d8576b"
             ],
             [
              0.6666666666666666,
              "#ed7953"
             ],
             [
              0.7777777777777778,
              "#fb9f3a"
             ],
             [
              0.8888888888888888,
              "#fdca26"
             ],
             [
              1,
              "#f0f921"
             ]
            ],
            "type": "surface"
           }
          ],
          "table": [
           {
            "cells": {
             "fill": {
              "color": "#EBF0F8"
             },
             "line": {
              "color": "white"
             }
            },
            "header": {
             "fill": {
              "color": "#C8D4E3"
             },
             "line": {
              "color": "white"
             }
            },
            "type": "table"
           }
          ]
         },
         "layout": {
          "annotationdefaults": {
           "arrowcolor": "#2a3f5f",
           "arrowhead": 0,
           "arrowwidth": 1
          },
          "autotypenumbers": "strict",
          "coloraxis": {
           "colorbar": {
            "outlinewidth": 0,
            "ticks": ""
           }
          },
          "colorscale": {
           "diverging": [
            [
             0,
             "#8e0152"
            ],
            [
             0.1,
             "#c51b7d"
            ],
            [
             0.2,
             "#de77ae"
            ],
            [
             0.3,
             "#f1b6da"
            ],
            [
             0.4,
             "#fde0ef"
            ],
            [
             0.5,
             "#f7f7f7"
            ],
            [
             0.6,
             "#e6f5d0"
            ],
            [
             0.7,
             "#b8e186"
            ],
            [
             0.8,
             "#7fbc41"
            ],
            [
             0.9,
             "#4d9221"
            ],
            [
             1,
             "#276419"
            ]
           ],
           "sequential": [
            [
             0,
             "#0d0887"
            ],
            [
             0.1111111111111111,
             "#46039f"
            ],
            [
             0.2222222222222222,
             "#7201a8"
            ],
            [
             0.3333333333333333,
             "#9c179e"
            ],
            [
             0.4444444444444444,
             "#bd3786"
            ],
            [
             0.5555555555555556,
             "#d8576b"
            ],
            [
             0.6666666666666666,
             "#ed7953"
            ],
            [
             0.7777777777777778,
             "#fb9f3a"
            ],
            [
             0.8888888888888888,
             "#fdca26"
            ],
            [
             1,
             "#f0f921"
            ]
           ],
           "sequentialminus": [
            [
             0,
             "#0d0887"
            ],
            [
             0.1111111111111111,
             "#46039f"
            ],
            [
             0.2222222222222222,
             "#7201a8"
            ],
            [
             0.3333333333333333,
             "#9c179e"
            ],
            [
             0.4444444444444444,
             "#bd3786"
            ],
            [
             0.5555555555555556,
             "#d8576b"
            ],
            [
             0.6666666666666666,
             "#ed7953"
            ],
            [
             0.7777777777777778,
             "#fb9f3a"
            ],
            [
             0.8888888888888888,
             "#fdca26"
            ],
            [
             1,
             "#f0f921"
            ]
           ]
          },
          "colorway": [
           "#636efa",
           "#EF553B",
           "#00cc96",
           "#ab63fa",
           "#FFA15A",
           "#19d3f3",
           "#FF6692",
           "#B6E880",
           "#FF97FF",
           "#FECB52"
          ],
          "font": {
           "color": "#2a3f5f"
          },
          "geo": {
           "bgcolor": "white",
           "lakecolor": "white",
           "landcolor": "#E5ECF6",
           "showlakes": true,
           "showland": true,
           "subunitcolor": "white"
          },
          "hoverlabel": {
           "align": "left"
          },
          "hovermode": "closest",
          "mapbox": {
           "style": "light"
          },
          "paper_bgcolor": "white",
          "plot_bgcolor": "#E5ECF6",
          "polar": {
           "angularaxis": {
            "gridcolor": "white",
            "linecolor": "white",
            "ticks": ""
           },
           "bgcolor": "#E5ECF6",
           "radialaxis": {
            "gridcolor": "white",
            "linecolor": "white",
            "ticks": ""
           }
          },
          "scene": {
           "xaxis": {
            "backgroundcolor": "#E5ECF6",
            "gridcolor": "white",
            "gridwidth": 2,
            "linecolor": "white",
            "showbackground": true,
            "ticks": "",
            "zerolinecolor": "white"
           },
           "yaxis": {
            "backgroundcolor": "#E5ECF6",
            "gridcolor": "white",
            "gridwidth": 2,
            "linecolor": "white",
            "showbackground": true,
            "ticks": "",
            "zerolinecolor": "white"
           },
           "zaxis": {
            "backgroundcolor": "#E5ECF6",
            "gridcolor": "white",
            "gridwidth": 2,
            "linecolor": "white",
            "showbackground": true,
            "ticks": "",
            "zerolinecolor": "white"
           }
          },
          "shapedefaults": {
           "line": {
            "color": "#2a3f5f"
           }
          },
          "ternary": {
           "aaxis": {
            "gridcolor": "white",
            "linecolor": "white",
            "ticks": ""
           },
           "baxis": {
            "gridcolor": "white",
            "linecolor": "white",
            "ticks": ""
           },
           "bgcolor": "#E5ECF6",
           "caxis": {
            "gridcolor": "white",
            "linecolor": "white",
            "ticks": ""
           }
          },
          "title": {
           "x": 0.05
          },
          "xaxis": {
           "automargin": true,
           "gridcolor": "white",
           "linecolor": "white",
           "ticks": "",
           "title": {
            "standoff": 15
           },
           "zerolinecolor": "white",
           "zerolinewidth": 2
          },
          "yaxis": {
           "automargin": true,
           "gridcolor": "white",
           "linecolor": "white",
           "ticks": "",
           "title": {
            "standoff": 15
           },
           "zerolinecolor": "white",
           "zerolinewidth": 2
          }
         }
        },
        "title": {
         "text": "Count of Properties by Type"
        },
        "xaxis": {
         "anchor": "y",
         "categoryarray": [
          "Flat",
          "House"
         ],
         "categoryorder": "array",
         "domain": [
          0,
          1
         ],
         "showgrid": true,
         "title": {
          "text": "Property Global Type"
         }
        },
        "yaxis": {
         "anchor": "x",
         "domain": [
          0,
          1
         ],
         "showgrid": true,
         "title": {
          "text": "Number of Properties"
         }
        }
       }
      }
     },
     "metadata": {},
     "output_type": "display_data"
    }
   ],
   "source": [
    "property_type_counts = subset['propertyGlobalType'].value_counts().reset_index()\n",
    "property_type_counts.columns = ['Property Global Type', 'Count']\n",
    "\n",
    "# Create a bar plot with the counts for each property type\n",
    "fig = px.bar(\n",
    "    property_type_counts, \n",
    "    x='Property Global Type',  # Use the cleaned column name\n",
    "    y='Count', \n",
    "    title='Count of Properties by Type',\n",
    "    labels={'Property Global Type': 'Property Global Type', 'Count': 'Number of Properties'},\n",
    "    color='Property Global Type',  # Color bars by property type\n",
    "    color_discrete_sequence=['#636EFA', '#EF553B', '#EF553B', '#636EFA', '#EF553B']  # Custom colors\n",
    ")\n",
    "\n",
    "# Customize layout and axes\n",
    "fig.update_layout(\n",
    "    xaxis_title='Property Global Type',\n",
    "    yaxis_title='Number of Properties',\n",
    "    xaxis=dict(showgrid=True),\n",
    "    yaxis=dict(showgrid=True),\n",
    "    bargap=0.1,  # Gap between bars\n",
    "    template='plotly',  # Optional: for aesthetic improvements\n",
    ")\n",
    "\n",
    "# Show the plot\n",
    "fig.show()\n"
   ]
  },
  {
   "cell_type": "markdown",
   "metadata": {},
   "source": [
    "[MRDB]: La descriptiva y la presentación muy elaborada."
   ]
  },
  {
   "cell_type": "markdown",
   "metadata": {
    "id": "BE33dQq189vW"
   },
   "source": [
    "## 📈 **Analisis Bivariante**"
   ]
  },
  {
   "cell_type": "markdown",
   "metadata": {},
   "source": [
    "### sizeSqFeetMax"
   ]
  },
  {
   "cell_type": "code",
   "execution_count": 166,
   "metadata": {},
   "outputs": [
    {
     "data": {
      "application/vnd.plotly.v1+json": {
       "config": {
        "plotlyServerURL": "https://plot.ly"
       },
       "data": [
        {
         "alignmentgroup": "True",
         "bingroup": "x",
         "hovertemplate": "Property Global Type=House<br>Size (Sq. Feet)=%{x}<br>count=%{y}<extra></extra>",
         "legendgroup": "House",
         "marker": {
          "color": "#EF553B",
          "pattern": {
           "shape": ""
          }
         },
         "name": "House",
         "nbinsx": 40,
         "offsetgroup": "House",
         "orientation": "v",
         "showlegend": true,
         "type": "histogram",
         "x": [
          16749,
          12960,
          6952,
          16749,
          10241,
          6773,
          7631,
          9213,
          6007,
          12643,
          6007,
          7396,
          12831,
          7396,
          12960,
          18837,
          15608,
          7798,
          5585,
          8304,
          18238,
          11803,
          11803,
          9049,
          15845,
          13067,
          20987,
          5780,
          4639,
          6103,
          5027,
          9327,
          6103,
          6103,
          9858,
          7728,
          5098,
          7244,
          6730,
          6650,
          12415,
          8425,
          7550,
          8060,
          8178,
          7860,
          16748,
          6261,
          4852,
          10370,
          10370,
          9262,
          7065,
          5600,
          6497,
          5564,
          9472,
          9561,
          2238,
          6873,
          4671,
          4724,
          6544,
          7656,
          6396,
          7656,
          6026,
          6071,
          6504,
          4844,
          6071,
          10041,
          10086,
          4660,
          4112,
          4112,
          7212,
          5042,
          6477,
          4676,
          5042,
          11484,
          11784,
          10086,
          6981,
          6981,
          8117,
          6306,
          7483,
          7262,
          6659,
          6245,
          3726,
          8635,
          8635,
          11008,
          5624,
          6073,
          6608,
          6365,
          4736,
          11467,
          6843,
          4500,
          5002,
          5579,
          6829,
          6966,
          4500,
          5579,
          5012,
          5012,
          9806,
          5246,
          10333,
          9806,
          9300,
          4355,
          4619,
          3300,
          5440,
          5212,
          11265,
          4182,
          5517,
          8488,
          8262,
          4182,
          4122,
          3310,
          8262,
          14769,
          3927,
          4122,
          4354,
          5017,
          3834,
          3310,
          9031,
          4425,
          3911,
          11224,
          5188,
          12141,
          4376,
          7842,
          4151,
          6025,
          4211,
          4332,
          4180,
          5314,
          5280,
          3534,
          6459,
          3169,
          5360,
          5649,
          3169,
          4752,
          4619,
          5276,
          4355,
          8776,
          911,
          3501,
          4629,
          4032,
          11609,
          4032,
          6228,
          5522,
          10283,
          4079,
          4185,
          4185,
          5479,
          4261,
          8791,
          7288,
          6065,
          7847,
          4401,
          4401,
          2924,
          3606,
          2944,
          5277,
          5092,
          5070,
          4817,
          3303,
          4817,
          5450,
          4610,
          5450,
          4747,
          3645,
          2689,
          7661,
          6900,
          12616,
          6146,
          4565,
          2717,
          4565,
          2917,
          3846,
          2917,
          4812,
          5257,
          4182,
          5497,
          3467,
          6179,
          3890,
          14999,
          3794,
          3500,
          4230,
          6500,
          3122,
          4927,
          3951,
          4277,
          2810,
          3400,
          7150,
          6840,
          3175,
          3100,
          3226,
          5520,
          5523,
          3393,
          3400,
          4445,
          10228,
          3628,
          3774,
          2810,
          4511,
          4300,
          4300,
          10127,
          10192,
          2934,
          3111,
          6344,
          4094,
          12500,
          4040,
          12500,
          6236,
          7568,
          3287,
          7754,
          7787,
          5683,
          5683,
          3704,
          6344,
          3280,
          3341,
          3763,
          3870,
          5680,
          4462,
          3147,
          6412,
          4775,
          3412,
          6565,
          7150,
          4607,
          12500,
          3094,
          6854,
          12809,
          1948,
          3254,
          4169,
          3494,
          3009,
          6181,
          3797,
          4038,
          3295,
          8494,
          6752,
          7058,
          8793,
          1964,
          5210,
          6752,
          3788,
          3199,
          3199,
          7539,
          3610,
          2933,
          6196,
          3726,
          3100,
          3777,
          3433,
          2921,
          4244,
          5515,
          3433,
          5385,
          4800,
          2885,
          8786,
          4594,
          4169,
          3993,
          2565,
          7091,
          3744,
          7629,
          3248,
          4776,
          3516,
          3115,
          7004,
          3797,
          2927,
          3830,
          2348,
          4684,
          4740,
          5006,
          4171,
          3894,
          4014,
          2383,
          6600,
          2357,
          14770
         ],
         "xaxis": "x",
         "yaxis": "y"
        },
        {
         "alignmentgroup": "True",
         "bingroup": "x",
         "hovertemplate": "Property Global Type=Flat<br>Size (Sq. Feet)=%{x}<br>count=%{y}<extra></extra>",
         "legendgroup": "Flat",
         "marker": {
          "color": "#636EFA",
          "pattern": {
           "shape": ""
          }
         },
         "name": "Flat",
         "nbinsx": 40,
         "offsetgroup": "Flat",
         "orientation": "v",
         "showlegend": true,
         "type": "histogram",
         "x": [
          4004,
          6214,
          6214,
          2935,
          6640,
          3329,
          2923,
          3229,
          4944,
          4944,
          4390,
          5461,
          1461,
          6404,
          9677,
          6705,
          9677,
          6705,
          4497,
          6000,
          3931,
          4615,
          5693,
          2976,
          8400,
          2976,
          5499,
          5149,
          5231,
          3566,
          9075,
          3551,
          3551,
          900,
          2524,
          2680,
          4735,
          2618,
          2641,
          2679,
          4770,
          2317,
          2645,
          2314,
          4372,
          4291,
          4535,
          4469,
          3618,
          3618,
          3618,
          2865,
          3667,
          5055,
          3117,
          2067,
          1959,
          2726,
          2727,
          3001,
          5910,
          2316,
          2135,
          3874,
          5900,
          4304,
          2958,
          3637,
          3876,
          11941,
          4663,
          3862,
          3862,
          1835,
          2958,
          3001,
          4643,
          4643,
          2442,
          3423,
          2703,
          4558,
          3617,
          4649,
          3176,
          3887,
          2257,
          3100,
          4096,
          2327,
          3107,
          3013,
          5189,
          3829,
          7800,
          4095,
          2319,
          7468,
          3084,
          3634,
          2351,
          3123,
          5114,
          1477,
          734,
          3664,
          3324,
          3483,
          3354,
          3553,
          3449,
          3580,
          2475,
          3567,
          2475,
          3137,
          2475,
          3166,
          2325,
          2442,
          2325,
          2410,
          2442,
          3114,
          915,
          3698,
          2855,
          2855,
          2855,
          2855,
          2855,
          1959,
          2855,
          2850,
          4765,
          2855,
          1373,
          1963,
          2855,
          2855,
          2885,
          3420,
          3467,
          4765,
          1999,
          2558,
          4943,
          2736,
          3483,
          3179,
          3324,
          6015,
          3483,
          3165,
          2425,
          2424,
          2424,
          2855,
          3443,
          2852,
          3491,
          3490,
          2855,
          3179,
          3114,
          3114,
          3114,
          2392,
          4208,
          2392,
          3345,
          2814,
          3690,
          3690,
          3690,
          3700,
          3486,
          3599,
          3398,
          2461,
          1055,
          3228,
          2700,
          2861,
          6003,
          2891,
          2731,
          5930,
          2386,
          992,
          1164,
          2163,
          2868,
          4101,
          2990,
          4456,
          1425,
          2427,
          2602,
          3060,
          2612,
          2841,
          1400,
          3700,
          1012,
          3186,
          2734,
          2029,
          2012,
          5979,
          2595,
          5979,
          2163,
          4106,
          2842,
          2584,
          3198,
          4068,
          2357,
          2133,
          3466,
          3466,
          3466,
          2479,
          4018,
          3466,
          4008,
          3466,
          3360,
          5979,
          1231,
          3031,
          3057,
          3059,
          2103,
          3393,
          4525,
          2029,
          3498,
          3565,
          1980,
          2014,
          3737,
          2637,
          3571,
          4186,
          4044,
          3012,
          3013,
          871,
          1280,
          1918,
          1424,
          3292,
          3059,
          1700,
          1706,
          5381,
          696,
          3027,
          4795,
          3059,
          2949,
          4399,
          1658,
          1641,
          1658,
          642,
          3423,
          4474,
          2926,
          4075,
          3060,
          2825,
          3057,
          3059,
          1772,
          3155,
          1902,
          3500,
          2105,
          2106,
          2729,
          2013,
          3059,
          1604,
          1873,
          2637,
          1878,
          2637,
          1951,
          2637,
          1873,
          2133,
          1873,
          1878,
          3621,
          2261,
          3158,
          1878,
          990,
          2905,
          3158,
          3158,
          4054,
          4036,
          4064,
          3234,
          3686,
          2741,
          1341,
          2746,
          1919,
          2649,
          2273,
          2432,
          3280,
          3427,
          1528,
          1504,
          2470,
          4190,
          3082,
          2531,
          1504,
          2610,
          3425,
          1272,
          3446,
          1668,
          3446,
          3062,
          3175,
          2584,
          2652,
          3102,
          992,
          1055,
          1980,
          2741,
          1760,
          1760,
          2470,
          2593,
          1970,
          2622,
          2211,
          1911,
          1537,
          3208,
          2690,
          2900,
          2900,
          2678,
          1805,
          2615,
          1805,
          2218,
          2873,
          2354,
          2900,
          2900,
          3192,
          4127,
          4137,
          3142,
          2357,
          3133,
          1632,
          1591,
          2009,
          2310,
          3267,
          1602,
          425,
          2685,
          2418,
          1017,
          1600,
          2438,
          2402,
          3327,
          2593,
          1877,
          2268,
          1432,
          872,
          2608,
          1894,
          1970,
          2521,
          3429,
          1894,
          2601,
          2508
         ],
         "xaxis": "x",
         "yaxis": "y"
        }
       ],
       "layout": {
        "bargap": 0.1,
        "barmode": "stack",
        "legend": {
         "title": {
          "text": "Property Global Type"
         },
         "tracegroupgap": 0
        },
        "template": {
         "data": {
          "bar": [
           {
            "error_x": {
             "color": "#2a3f5f"
            },
            "error_y": {
             "color": "#2a3f5f"
            },
            "marker": {
             "line": {
              "color": "#E5ECF6",
              "width": 0.5
             },
             "pattern": {
              "fillmode": "overlay",
              "size": 10,
              "solidity": 0.2
             }
            },
            "type": "bar"
           }
          ],
          "barpolar": [
           {
            "marker": {
             "line": {
              "color": "#E5ECF6",
              "width": 0.5
             },
             "pattern": {
              "fillmode": "overlay",
              "size": 10,
              "solidity": 0.2
             }
            },
            "type": "barpolar"
           }
          ],
          "carpet": [
           {
            "aaxis": {
             "endlinecolor": "#2a3f5f",
             "gridcolor": "white",
             "linecolor": "white",
             "minorgridcolor": "white",
             "startlinecolor": "#2a3f5f"
            },
            "baxis": {
             "endlinecolor": "#2a3f5f",
             "gridcolor": "white",
             "linecolor": "white",
             "minorgridcolor": "white",
             "startlinecolor": "#2a3f5f"
            },
            "type": "carpet"
           }
          ],
          "choropleth": [
           {
            "colorbar": {
             "outlinewidth": 0,
             "ticks": ""
            },
            "type": "choropleth"
           }
          ],
          "contour": [
           {
            "colorbar": {
             "outlinewidth": 0,
             "ticks": ""
            },
            "colorscale": [
             [
              0,
              "#0d0887"
             ],
             [
              0.1111111111111111,
              "#46039f"
             ],
             [
              0.2222222222222222,
              "#7201a8"
             ],
             [
              0.3333333333333333,
              "#9c179e"
             ],
             [
              0.4444444444444444,
              "#bd3786"
             ],
             [
              0.5555555555555556,
              "#d8576b"
             ],
             [
              0.6666666666666666,
              "#ed7953"
             ],
             [
              0.7777777777777778,
              "#fb9f3a"
             ],
             [
              0.8888888888888888,
              "#fdca26"
             ],
             [
              1,
              "#f0f921"
             ]
            ],
            "type": "contour"
           }
          ],
          "contourcarpet": [
           {
            "colorbar": {
             "outlinewidth": 0,
             "ticks": ""
            },
            "type": "contourcarpet"
           }
          ],
          "heatmap": [
           {
            "colorbar": {
             "outlinewidth": 0,
             "ticks": ""
            },
            "colorscale": [
             [
              0,
              "#0d0887"
             ],
             [
              0.1111111111111111,
              "#46039f"
             ],
             [
              0.2222222222222222,
              "#7201a8"
             ],
             [
              0.3333333333333333,
              "#9c179e"
             ],
             [
              0.4444444444444444,
              "#bd3786"
             ],
             [
              0.5555555555555556,
              "#d8576b"
             ],
             [
              0.6666666666666666,
              "#ed7953"
             ],
             [
              0.7777777777777778,
              "#fb9f3a"
             ],
             [
              0.8888888888888888,
              "#fdca26"
             ],
             [
              1,
              "#f0f921"
             ]
            ],
            "type": "heatmap"
           }
          ],
          "heatmapgl": [
           {
            "colorbar": {
             "outlinewidth": 0,
             "ticks": ""
            },
            "colorscale": [
             [
              0,
              "#0d0887"
             ],
             [
              0.1111111111111111,
              "#46039f"
             ],
             [
              0.2222222222222222,
              "#7201a8"
             ],
             [
              0.3333333333333333,
              "#9c179e"
             ],
             [
              0.4444444444444444,
              "#bd3786"
             ],
             [
              0.5555555555555556,
              "#d8576b"
             ],
             [
              0.6666666666666666,
              "#ed7953"
             ],
             [
              0.7777777777777778,
              "#fb9f3a"
             ],
             [
              0.8888888888888888,
              "#fdca26"
             ],
             [
              1,
              "#f0f921"
             ]
            ],
            "type": "heatmapgl"
           }
          ],
          "histogram": [
           {
            "marker": {
             "pattern": {
              "fillmode": "overlay",
              "size": 10,
              "solidity": 0.2
             }
            },
            "type": "histogram"
           }
          ],
          "histogram2d": [
           {
            "colorbar": {
             "outlinewidth": 0,
             "ticks": ""
            },
            "colorscale": [
             [
              0,
              "#0d0887"
             ],
             [
              0.1111111111111111,
              "#46039f"
             ],
             [
              0.2222222222222222,
              "#7201a8"
             ],
             [
              0.3333333333333333,
              "#9c179e"
             ],
             [
              0.4444444444444444,
              "#bd3786"
             ],
             [
              0.5555555555555556,
              "#d8576b"
             ],
             [
              0.6666666666666666,
              "#ed7953"
             ],
             [
              0.7777777777777778,
              "#fb9f3a"
             ],
             [
              0.8888888888888888,
              "#fdca26"
             ],
             [
              1,
              "#f0f921"
             ]
            ],
            "type": "histogram2d"
           }
          ],
          "histogram2dcontour": [
           {
            "colorbar": {
             "outlinewidth": 0,
             "ticks": ""
            },
            "colorscale": [
             [
              0,
              "#0d0887"
             ],
             [
              0.1111111111111111,
              "#46039f"
             ],
             [
              0.2222222222222222,
              "#7201a8"
             ],
             [
              0.3333333333333333,
              "#9c179e"
             ],
             [
              0.4444444444444444,
              "#bd3786"
             ],
             [
              0.5555555555555556,
              "#d8576b"
             ],
             [
              0.6666666666666666,
              "#ed7953"
             ],
             [
              0.7777777777777778,
              "#fb9f3a"
             ],
             [
              0.8888888888888888,
              "#fdca26"
             ],
             [
              1,
              "#f0f921"
             ]
            ],
            "type": "histogram2dcontour"
           }
          ],
          "mesh3d": [
           {
            "colorbar": {
             "outlinewidth": 0,
             "ticks": ""
            },
            "type": "mesh3d"
           }
          ],
          "parcoords": [
           {
            "line": {
             "colorbar": {
              "outlinewidth": 0,
              "ticks": ""
             }
            },
            "type": "parcoords"
           }
          ],
          "pie": [
           {
            "automargin": true,
            "type": "pie"
           }
          ],
          "scatter": [
           {
            "fillpattern": {
             "fillmode": "overlay",
             "size": 10,
             "solidity": 0.2
            },
            "type": "scatter"
           }
          ],
          "scatter3d": [
           {
            "line": {
             "colorbar": {
              "outlinewidth": 0,
              "ticks": ""
             }
            },
            "marker": {
             "colorbar": {
              "outlinewidth": 0,
              "ticks": ""
             }
            },
            "type": "scatter3d"
           }
          ],
          "scattercarpet": [
           {
            "marker": {
             "colorbar": {
              "outlinewidth": 0,
              "ticks": ""
             }
            },
            "type": "scattercarpet"
           }
          ],
          "scattergeo": [
           {
            "marker": {
             "colorbar": {
              "outlinewidth": 0,
              "ticks": ""
             }
            },
            "type": "scattergeo"
           }
          ],
          "scattergl": [
           {
            "marker": {
             "colorbar": {
              "outlinewidth": 0,
              "ticks": ""
             }
            },
            "type": "scattergl"
           }
          ],
          "scattermapbox": [
           {
            "marker": {
             "colorbar": {
              "outlinewidth": 0,
              "ticks": ""
             }
            },
            "type": "scattermapbox"
           }
          ],
          "scatterpolar": [
           {
            "marker": {
             "colorbar": {
              "outlinewidth": 0,
              "ticks": ""
             }
            },
            "type": "scatterpolar"
           }
          ],
          "scatterpolargl": [
           {
            "marker": {
             "colorbar": {
              "outlinewidth": 0,
              "ticks": ""
             }
            },
            "type": "scatterpolargl"
           }
          ],
          "scatterternary": [
           {
            "marker": {
             "colorbar": {
              "outlinewidth": 0,
              "ticks": ""
             }
            },
            "type": "scatterternary"
           }
          ],
          "surface": [
           {
            "colorbar": {
             "outlinewidth": 0,
             "ticks": ""
            },
            "colorscale": [
             [
              0,
              "#0d0887"
             ],
             [
              0.1111111111111111,
              "#46039f"
             ],
             [
              0.2222222222222222,
              "#7201a8"
             ],
             [
              0.3333333333333333,
              "#9c179e"
             ],
             [
              0.4444444444444444,
              "#bd3786"
             ],
             [
              0.5555555555555556,
              "#d8576b"
             ],
             [
              0.6666666666666666,
              "#ed7953"
             ],
             [
              0.7777777777777778,
              "#fb9f3a"
             ],
             [
              0.8888888888888888,
              "#fdca26"
             ],
             [
              1,
              "#f0f921"
             ]
            ],
            "type": "surface"
           }
          ],
          "table": [
           {
            "cells": {
             "fill": {
              "color": "#EBF0F8"
             },
             "line": {
              "color": "white"
             }
            },
            "header": {
             "fill": {
              "color": "#C8D4E3"
             },
             "line": {
              "color": "white"
             }
            },
            "type": "table"
           }
          ]
         },
         "layout": {
          "annotationdefaults": {
           "arrowcolor": "#2a3f5f",
           "arrowhead": 0,
           "arrowwidth": 1
          },
          "autotypenumbers": "strict",
          "coloraxis": {
           "colorbar": {
            "outlinewidth": 0,
            "ticks": ""
           }
          },
          "colorscale": {
           "diverging": [
            [
             0,
             "#8e0152"
            ],
            [
             0.1,
             "#c51b7d"
            ],
            [
             0.2,
             "#de77ae"
            ],
            [
             0.3,
             "#f1b6da"
            ],
            [
             0.4,
             "#fde0ef"
            ],
            [
             0.5,
             "#f7f7f7"
            ],
            [
             0.6,
             "#e6f5d0"
            ],
            [
             0.7,
             "#b8e186"
            ],
            [
             0.8,
             "#7fbc41"
            ],
            [
             0.9,
             "#4d9221"
            ],
            [
             1,
             "#276419"
            ]
           ],
           "sequential": [
            [
             0,
             "#0d0887"
            ],
            [
             0.1111111111111111,
             "#46039f"
            ],
            [
             0.2222222222222222,
             "#7201a8"
            ],
            [
             0.3333333333333333,
             "#9c179e"
            ],
            [
             0.4444444444444444,
             "#bd3786"
            ],
            [
             0.5555555555555556,
             "#d8576b"
            ],
            [
             0.6666666666666666,
             "#ed7953"
            ],
            [
             0.7777777777777778,
             "#fb9f3a"
            ],
            [
             0.8888888888888888,
             "#fdca26"
            ],
            [
             1,
             "#f0f921"
            ]
           ],
           "sequentialminus": [
            [
             0,
             "#0d0887"
            ],
            [
             0.1111111111111111,
             "#46039f"
            ],
            [
             0.2222222222222222,
             "#7201a8"
            ],
            [
             0.3333333333333333,
             "#9c179e"
            ],
            [
             0.4444444444444444,
             "#bd3786"
            ],
            [
             0.5555555555555556,
             "#d8576b"
            ],
            [
             0.6666666666666666,
             "#ed7953"
            ],
            [
             0.7777777777777778,
             "#fb9f3a"
            ],
            [
             0.8888888888888888,
             "#fdca26"
            ],
            [
             1,
             "#f0f921"
            ]
           ]
          },
          "colorway": [
           "#636efa",
           "#EF553B",
           "#00cc96",
           "#ab63fa",
           "#FFA15A",
           "#19d3f3",
           "#FF6692",
           "#B6E880",
           "#FF97FF",
           "#FECB52"
          ],
          "font": {
           "color": "#2a3f5f"
          },
          "geo": {
           "bgcolor": "white",
           "lakecolor": "white",
           "landcolor": "#E5ECF6",
           "showlakes": true,
           "showland": true,
           "subunitcolor": "white"
          },
          "hoverlabel": {
           "align": "left"
          },
          "hovermode": "closest",
          "mapbox": {
           "style": "light"
          },
          "paper_bgcolor": "white",
          "plot_bgcolor": "#E5ECF6",
          "polar": {
           "angularaxis": {
            "gridcolor": "white",
            "linecolor": "white",
            "ticks": ""
           },
           "bgcolor": "#E5ECF6",
           "radialaxis": {
            "gridcolor": "white",
            "linecolor": "white",
            "ticks": ""
           }
          },
          "scene": {
           "xaxis": {
            "backgroundcolor": "#E5ECF6",
            "gridcolor": "white",
            "gridwidth": 2,
            "linecolor": "white",
            "showbackground": true,
            "ticks": "",
            "zerolinecolor": "white"
           },
           "yaxis": {
            "backgroundcolor": "#E5ECF6",
            "gridcolor": "white",
            "gridwidth": 2,
            "linecolor": "white",
            "showbackground": true,
            "ticks": "",
            "zerolinecolor": "white"
           },
           "zaxis": {
            "backgroundcolor": "#E5ECF6",
            "gridcolor": "white",
            "gridwidth": 2,
            "linecolor": "white",
            "showbackground": true,
            "ticks": "",
            "zerolinecolor": "white"
           }
          },
          "shapedefaults": {
           "line": {
            "color": "#2a3f5f"
           }
          },
          "ternary": {
           "aaxis": {
            "gridcolor": "white",
            "linecolor": "white",
            "ticks": ""
           },
           "baxis": {
            "gridcolor": "white",
            "linecolor": "white",
            "ticks": ""
           },
           "bgcolor": "#E5ECF6",
           "caxis": {
            "gridcolor": "white",
            "linecolor": "white",
            "ticks": ""
           }
          },
          "title": {
           "x": 0.05
          },
          "xaxis": {
           "automargin": true,
           "gridcolor": "white",
           "linecolor": "white",
           "ticks": "",
           "title": {
            "standoff": 15
           },
           "zerolinecolor": "white",
           "zerolinewidth": 2
          },
          "yaxis": {
           "automargin": true,
           "gridcolor": "white",
           "linecolor": "white",
           "ticks": "",
           "title": {
            "standoff": 15
           },
           "zerolinecolor": "white",
           "zerolinewidth": 2
          }
         }
        },
        "title": {
         "text": "Distribution of Property Sizes by Global Type"
        },
        "xaxis": {
         "anchor": "y",
         "domain": [
          0,
          1
         ],
         "showgrid": true,
         "title": {
          "text": "Size (Sq. Feet)"
         }
        },
        "yaxis": {
         "anchor": "x",
         "domain": [
          0,
          1
         ],
         "showgrid": true,
         "title": {
          "text": "Frequency"
         }
        }
       }
      }
     },
     "metadata": {},
     "output_type": "display_data"
    }
   ],
   "source": [
    "fig = px.histogram(\n",
    "    data_frame=subset,\n",
    "    x='sizeSqFeetMax',\n",
    "    color='propertyGlobalType',\n",
    "    nbins=40,  # Number of bins\n",
    "    title='Distribution of Property Sizes by Global Type',\n",
    "    labels={'sizeSqFeetMax': 'Size (Sq. Feet)', 'propertyGlobalType': 'Property Global Type'},\n",
    "    barmode='stack',  # Change to 'group' for side-by-side bars\n",
    "    color_discrete_sequence=['#EF553B', '#636EFA', '#636EFA'],  # Blue for flats, Red for houses\n",
    "    template='plotly',  # Optional: for aesthetic improvements\n",
    ")\n",
    "\n",
    "fig.update_layout(\n",
    "    xaxis_title='Size (Sq. Feet)',\n",
    "    yaxis_title='Frequency',\n",
    "    bargap=0.1,  # Optional: gap between bars\n",
    "    xaxis=dict(showgrid=True),\n",
    "    yaxis=dict(showgrid=True),\n",
    ")\n",
    "\n",
    "fig.show()\n"
   ]
  },
  {
   "cell_type": "markdown",
   "metadata": {},
   "source": [
    "### pricePerSqFoot(k)"
   ]
  },
  {
   "cell_type": "code",
   "execution_count": 111,
   "metadata": {},
   "outputs": [
    {
     "data": {
      "application/vnd.plotly.v1+json": {
       "config": {
        "plotlyServerURL": "https://plot.ly"
       },
       "data": [
        {
         "alignmentgroup": "True",
         "bingroup": "x",
         "hovertemplate": "Property Global Type=House<br>Price Per Sq. Foot=%{x}<br>count=%{y}<extra></extra>",
         "legendgroup": "House",
         "marker": {
          "color": "#EF553B",
          "pattern": {
           "shape": ""
          }
         },
         "name": "House",
         "nbinsx": 20,
         "offsetgroup": "House",
         "orientation": "v",
         "showlegend": true,
         "type": "histogram",
         "x": [
          1.49,
          2.28,
          3.6,
          1.49,
          2.44,
          3.69,
          3.28,
          2.71,
          4.16,
          1.98,
          4.16,
          3.79,
          2.3,
          3.79,
          2.28,
          1.59,
          1.92,
          3.84,
          5.37,
          3.61,
          1.75,
          2.54,
          2.54,
          4.2,
          2.84,
          3.6,
          3.1,
          3.16,
          4.05,
          3.11,
          3.77,
          2.03,
          3.11,
          3.11,
          1.98,
          2.56,
          4.31,
          3.04,
          3.34,
          3.38,
          1.85,
          2.73,
          3.11,
          2.97,
          2.93,
          3.05,
          1.49,
          3.19,
          4.12,
          1.93,
          1.93,
          2.32,
          2.41,
          3.12,
          2.69,
          3.23,
          1.9,
          1.88,
          0.83,
          2.33,
          3.43,
          3.39,
          2.52,
          2.16,
          2.62,
          2.16,
          2.78,
          2.79,
          2.61,
          3.5,
          2.79,
          1.44,
          1.54,
          2.95,
          3.37,
          3.37,
          1.93,
          2.78,
          2.15,
          2.99,
          2.78,
          1.35,
          1.32,
          1.54,
          2.26,
          2.26,
          1.97,
          2.53,
          2.13,
          2.2,
          2.22,
          2.55,
          0.81,
          1.73,
          1.73,
          1.36,
          2.66,
          2.47,
          2.27,
          2.36,
          2.64,
          1.13,
          1.89,
          2.88,
          2.59,
          2.32,
          1.9,
          1.86,
          2.88,
          2.32,
          2.69,
          2.69,
          1.38,
          2.57,
          1.31,
          1.38,
          1.18,
          2.51,
          2.37,
          3.33,
          2.2,
          2.29,
          0.98,
          2.75,
          2.17,
          1.35,
          1.45,
          2.75,
          2.73,
          3.47,
          1.45,
          0.81,
          2.86,
          2.73,
          2.75,
          2.39,
          2.93,
          3.47,
          1.33,
          2.71,
          3.04,
          1.09,
          2.3,
          1.03,
          2.29,
          1.28,
          2.59,
          1.78,
          2.43,
          2.5,
          2.51,
          1.98,
          2.07,
          3.1,
          1.7,
          3.46,
          1.96,
          1.94,
          3.46,
          2.3,
          2.37,
          2.08,
          2.51,
          1.25,
          0.87,
          3.13,
          2.15,
          2.42,
          0.84,
          2.42,
          1.6,
          1.8,
          0.97,
          2.44,
          2.38,
          2.38,
          1.82,
          2.34,
          1.13,
          1.37,
          1.65,
          1.27,
          2.27,
          2.27,
          3.42,
          2.57,
          3.14,
          1.77,
          1.84,
          1.87,
          1.97,
          2.88,
          1.97,
          1.74,
          2.06,
          1.74,
          2,
          2.65,
          1.39,
          1.17,
          1.3,
          0.71,
          1.46,
          1.96,
          3.29,
          1.96,
          3.07,
          2.34,
          3.07,
          1.87,
          1.71,
          2.15,
          1.55,
          2.45,
          1.38,
          2.22,
          0.58,
          2.24,
          2.43,
          2.01,
          1.31,
          2.66,
          1.73,
          2.01,
          1.86,
          2.83,
          2.34,
          1.11,
          1.16,
          2.5,
          2.56,
          2.48,
          1.45,
          1.44,
          2.34,
          2.34,
          1.79,
          0.78,
          2.19,
          2.12,
          2.83,
          1.77,
          1.86,
          1.86,
          0.79,
          0.78,
          2.73,
          2.6,
          1.22,
          1.83,
          0.6,
          1.88,
          0.6,
          1.23,
          1.01,
          2.33,
          0.99,
          1,
          1.36,
          1.36,
          2.09,
          1.22,
          2.36,
          2.32,
          2.06,
          1.94,
          1.32,
          1.64,
          2.38,
          1.17,
          1.57,
          2.15,
          1.14,
          1.05,
          1.63,
          0.6,
          2.42,
          1.01,
          0.54,
          3.57,
          2.14,
          1.67,
          1.99,
          2.31,
          1.12,
          1.83,
          1.72,
          2.12,
          0.82,
          1.07,
          1.03,
          0.8,
          3.69,
          1.34,
          1.07,
          1.91,
          2.27,
          2.27,
          0.93,
          1.94,
          2.4,
          1.13,
          1.77,
          2.1,
          1.72,
          2,
          2.26,
          1.61,
          1.2,
          2,
          1.23,
          1.45,
          2.41,
          0.79,
          1.47,
          1.67,
          1.74,
          0.47,
          0.95,
          1.86,
          0.88,
          2.08,
          1.41,
          1.92,
          2.23,
          0.97,
          1.83,
          2.22,
          1.7,
          2.77,
          1.39,
          1.37,
          1.3,
          1.56,
          1.67,
          1.62,
          2.73,
          0.98,
          2.76,
          0.44
         ],
         "xaxis": "x",
         "yaxis": "y"
        },
        {
         "alignmentgroup": "True",
         "bingroup": "x",
         "hovertemplate": "Property Global Type=Flat<br>Price Per Sq. Foot=%{x}<br>count=%{y}<extra></extra>",
         "legendgroup": "Flat",
         "marker": {
          "color": "#636EFA",
          "pattern": {
           "shape": ""
          }
         },
         "name": "Flat",
         "nbinsx": 20,
         "offsetgroup": "Flat",
         "orientation": "v",
         "showlegend": true,
         "type": "histogram",
         "x": [
          6.24,
          4.26,
          4.26,
          6.8,
          2.79,
          5.56,
          6.5,
          6.04,
          4.55,
          4.55,
          5.35,
          4.39,
          1.44,
          3.12,
          2.06,
          2.98,
          2.06,
          2.98,
          4.45,
          3.5,
          4.07,
          3.79,
          3.07,
          5.88,
          2.08,
          5.95,
          3.24,
          3.5,
          3.44,
          4.49,
          1.76,
          4.58,
          4.58,
          0.81,
          5.45,
          5.21,
          2.95,
          5.33,
          5.28,
          5.23,
          2.94,
          6.15,
          5.29,
          6.16,
          3.32,
          3.65,
          3.45,
          3.5,
          4.35,
          4.35,
          4.35,
          5.15,
          4.35,
          2.92,
          4.68,
          7.23,
          7.63,
          5.5,
          5.5,
          4.5,
          2.12,
          5.46,
          5.85,
          3.25,
          2.16,
          3.01,
          4.38,
          3.56,
          3.34,
          1.09,
          2.79,
          3.43,
          3.43,
          7.3,
          4.56,
          4.5,
          2.91,
          2.91,
          4.48,
          3.21,
          4.07,
          2.41,
          3.04,
          2.37,
          3.46,
          2.96,
          4.96,
          3.85,
          2.81,
          4.83,
          3.85,
          3.82,
          2.31,
          3,
          1.54,
          2.83,
          5.07,
          1.57,
          3.82,
          3.3,
          5,
          4,
          2.44,
          2.67,
          0.85,
          2.93,
          3.01,
          2.91,
          3.02,
          2.85,
          3.12,
          3,
          4.34,
          2.87,
          4.34,
          3.27,
          4.34,
          3.24,
          4.52,
          4.48,
          4.52,
          4.36,
          4.48,
          3.45,
          0.57,
          2.64,
          3.47,
          3.47,
          3.47,
          3.47,
          3.47,
          5.08,
          3.47,
          3.47,
          2.09,
          3.47,
          7.21,
          5.07,
          3.47,
          3.47,
          3.43,
          2.91,
          2.87,
          2.09,
          5,
          3.91,
          2.02,
          3.65,
          2.87,
          3.15,
          3.01,
          1.66,
          2.76,
          2.92,
          3.9,
          3.9,
          3.9,
          3.33,
          2.76,
          3.33,
          2.72,
          2.72,
          3.33,
          3.02,
          3.08,
          3.08,
          3.08,
          4.07,
          2.31,
          4.07,
          2.77,
          3.18,
          2.39,
          2.39,
          2.39,
          2.39,
          2.57,
          2.49,
          2.63,
          3.64,
          8.48,
          2.77,
          3.31,
          3.15,
          1.5,
          3.11,
          3.3,
          1.52,
          3.77,
          0.58,
          7.04,
          3.93,
          2.96,
          2.07,
          2.88,
          1.96,
          6.14,
          3.61,
          3.36,
          2.86,
          3.35,
          3.08,
          6.29,
          2.39,
          0.47,
          2.67,
          3.11,
          4.19,
          4.22,
          1.42,
          3.28,
          1.42,
          3.93,
          2.07,
          2.99,
          3.19,
          2.58,
          2.03,
          3.52,
          3.9,
          2.44,
          2.44,
          2.44,
          3.37,
          2.1,
          2.44,
          2.11,
          2.44,
          2.53,
          1.42,
          0.56,
          2.6,
          2.57,
          2.57,
          3.77,
          2.34,
          1.76,
          3.92,
          2.27,
          2.23,
          4.02,
          3.95,
          2.13,
          3.01,
          2.23,
          1.9,
          1.97,
          2.66,
          2.66,
          0.63,
          6.25,
          4.14,
          5.62,
          2.42,
          2.62,
          4.7,
          4.69,
          1.49,
          1.51,
          2.66,
          1.67,
          2.63,
          2.73,
          1.84,
          4.92,
          5,
          4.95,
          1.17,
          2.26,
          1.68,
          2.56,
          1.84,
          2.48,
          2.69,
          2.52,
          2.52,
          4.37,
          2.46,
          4.07,
          2.21,
          3.71,
          3.7,
          2.86,
          3.87,
          2.55,
          4.89,
          4.19,
          2.84,
          3.88,
          2.84,
          3.74,
          2.84,
          3.89,
          3.52,
          3.89,
          3.88,
          2.07,
          3.32,
          2.31,
          3.88,
          7.58,
          2.58,
          2.31,
          2.31,
          1.81,
          1.86,
          1.81,
          2.27,
          2.03,
          2.69,
          5.59,
          2.69,
          3.86,
          2.79,
          3.3,
          3.06,
          2.19,
          2.12,
          4.55,
          4.62,
          2.81,
          1.66,
          2.26,
          2.75,
          4.62,
          2.68,
          2.04,
          5.66,
          2.09,
          4.32,
          2.09,
          2.28,
          2.28,
          2.81,
          2.64,
          2.34,
          7.31,
          0.8,
          3.61,
          2.57,
          4.06,
          4.06,
          2.79,
          2.51,
          3.3,
          2.48,
          2.94,
          3.4,
          4.29,
          2.03,
          2.57,
          2.28,
          2.29,
          2.46,
          3.67,
          2.54,
          3.67,
          3.13,
          2.31,
          2.87,
          2.29,
          2.29,
          2.11,
          1.68,
          1.68,
          2.21,
          2.86,
          2.15,
          4.26,
          4.37,
          3.36,
          2.92,
          2.13,
          4.25,
          1.29,
          2.54,
          2.82,
          0.88,
          4.06,
          2.67,
          2.71,
          1.95,
          2.51,
          3.46,
          2.87,
          1.12,
          7.45,
          2.49,
          3.43,
          3.3,
          2.58,
          1.9,
          3.43,
          2.5,
          2.59
         ],
         "xaxis": "x",
         "yaxis": "y"
        }
       ],
       "layout": {
        "bargap": 0.1,
        "barmode": "stack",
        "legend": {
         "title": {
          "text": "Property Global Type"
         },
         "tracegroupgap": 0
        },
        "template": {
         "data": {
          "bar": [
           {
            "error_x": {
             "color": "#2a3f5f"
            },
            "error_y": {
             "color": "#2a3f5f"
            },
            "marker": {
             "line": {
              "color": "#E5ECF6",
              "width": 0.5
             },
             "pattern": {
              "fillmode": "overlay",
              "size": 10,
              "solidity": 0.2
             }
            },
            "type": "bar"
           }
          ],
          "barpolar": [
           {
            "marker": {
             "line": {
              "color": "#E5ECF6",
              "width": 0.5
             },
             "pattern": {
              "fillmode": "overlay",
              "size": 10,
              "solidity": 0.2
             }
            },
            "type": "barpolar"
           }
          ],
          "carpet": [
           {
            "aaxis": {
             "endlinecolor": "#2a3f5f",
             "gridcolor": "white",
             "linecolor": "white",
             "minorgridcolor": "white",
             "startlinecolor": "#2a3f5f"
            },
            "baxis": {
             "endlinecolor": "#2a3f5f",
             "gridcolor": "white",
             "linecolor": "white",
             "minorgridcolor": "white",
             "startlinecolor": "#2a3f5f"
            },
            "type": "carpet"
           }
          ],
          "choropleth": [
           {
            "colorbar": {
             "outlinewidth": 0,
             "ticks": ""
            },
            "type": "choropleth"
           }
          ],
          "contour": [
           {
            "colorbar": {
             "outlinewidth": 0,
             "ticks": ""
            },
            "colorscale": [
             [
              0,
              "#0d0887"
             ],
             [
              0.1111111111111111,
              "#46039f"
             ],
             [
              0.2222222222222222,
              "#7201a8"
             ],
             [
              0.3333333333333333,
              "#9c179e"
             ],
             [
              0.4444444444444444,
              "#bd3786"
             ],
             [
              0.5555555555555556,
              "#d8576b"
             ],
             [
              0.6666666666666666,
              "#ed7953"
             ],
             [
              0.7777777777777778,
              "#fb9f3a"
             ],
             [
              0.8888888888888888,
              "#fdca26"
             ],
             [
              1,
              "#f0f921"
             ]
            ],
            "type": "contour"
           }
          ],
          "contourcarpet": [
           {
            "colorbar": {
             "outlinewidth": 0,
             "ticks": ""
            },
            "type": "contourcarpet"
           }
          ],
          "heatmap": [
           {
            "colorbar": {
             "outlinewidth": 0,
             "ticks": ""
            },
            "colorscale": [
             [
              0,
              "#0d0887"
             ],
             [
              0.1111111111111111,
              "#46039f"
             ],
             [
              0.2222222222222222,
              "#7201a8"
             ],
             [
              0.3333333333333333,
              "#9c179e"
             ],
             [
              0.4444444444444444,
              "#bd3786"
             ],
             [
              0.5555555555555556,
              "#d8576b"
             ],
             [
              0.6666666666666666,
              "#ed7953"
             ],
             [
              0.7777777777777778,
              "#fb9f3a"
             ],
             [
              0.8888888888888888,
              "#fdca26"
             ],
             [
              1,
              "#f0f921"
             ]
            ],
            "type": "heatmap"
           }
          ],
          "heatmapgl": [
           {
            "colorbar": {
             "outlinewidth": 0,
             "ticks": ""
            },
            "colorscale": [
             [
              0,
              "#0d0887"
             ],
             [
              0.1111111111111111,
              "#46039f"
             ],
             [
              0.2222222222222222,
              "#7201a8"
             ],
             [
              0.3333333333333333,
              "#9c179e"
             ],
             [
              0.4444444444444444,
              "#bd3786"
             ],
             [
              0.5555555555555556,
              "#d8576b"
             ],
             [
              0.6666666666666666,
              "#ed7953"
             ],
             [
              0.7777777777777778,
              "#fb9f3a"
             ],
             [
              0.8888888888888888,
              "#fdca26"
             ],
             [
              1,
              "#f0f921"
             ]
            ],
            "type": "heatmapgl"
           }
          ],
          "histogram": [
           {
            "marker": {
             "pattern": {
              "fillmode": "overlay",
              "size": 10,
              "solidity": 0.2
             }
            },
            "type": "histogram"
           }
          ],
          "histogram2d": [
           {
            "colorbar": {
             "outlinewidth": 0,
             "ticks": ""
            },
            "colorscale": [
             [
              0,
              "#0d0887"
             ],
             [
              0.1111111111111111,
              "#46039f"
             ],
             [
              0.2222222222222222,
              "#7201a8"
             ],
             [
              0.3333333333333333,
              "#9c179e"
             ],
             [
              0.4444444444444444,
              "#bd3786"
             ],
             [
              0.5555555555555556,
              "#d8576b"
             ],
             [
              0.6666666666666666,
              "#ed7953"
             ],
             [
              0.7777777777777778,
              "#fb9f3a"
             ],
             [
              0.8888888888888888,
              "#fdca26"
             ],
             [
              1,
              "#f0f921"
             ]
            ],
            "type": "histogram2d"
           }
          ],
          "histogram2dcontour": [
           {
            "colorbar": {
             "outlinewidth": 0,
             "ticks": ""
            },
            "colorscale": [
             [
              0,
              "#0d0887"
             ],
             [
              0.1111111111111111,
              "#46039f"
             ],
             [
              0.2222222222222222,
              "#7201a8"
             ],
             [
              0.3333333333333333,
              "#9c179e"
             ],
             [
              0.4444444444444444,
              "#bd3786"
             ],
             [
              0.5555555555555556,
              "#d8576b"
             ],
             [
              0.6666666666666666,
              "#ed7953"
             ],
             [
              0.7777777777777778,
              "#fb9f3a"
             ],
             [
              0.8888888888888888,
              "#fdca26"
             ],
             [
              1,
              "#f0f921"
             ]
            ],
            "type": "histogram2dcontour"
           }
          ],
          "mesh3d": [
           {
            "colorbar": {
             "outlinewidth": 0,
             "ticks": ""
            },
            "type": "mesh3d"
           }
          ],
          "parcoords": [
           {
            "line": {
             "colorbar": {
              "outlinewidth": 0,
              "ticks": ""
             }
            },
            "type": "parcoords"
           }
          ],
          "pie": [
           {
            "automargin": true,
            "type": "pie"
           }
          ],
          "scatter": [
           {
            "fillpattern": {
             "fillmode": "overlay",
             "size": 10,
             "solidity": 0.2
            },
            "type": "scatter"
           }
          ],
          "scatter3d": [
           {
            "line": {
             "colorbar": {
              "outlinewidth": 0,
              "ticks": ""
             }
            },
            "marker": {
             "colorbar": {
              "outlinewidth": 0,
              "ticks": ""
             }
            },
            "type": "scatter3d"
           }
          ],
          "scattercarpet": [
           {
            "marker": {
             "colorbar": {
              "outlinewidth": 0,
              "ticks": ""
             }
            },
            "type": "scattercarpet"
           }
          ],
          "scattergeo": [
           {
            "marker": {
             "colorbar": {
              "outlinewidth": 0,
              "ticks": ""
             }
            },
            "type": "scattergeo"
           }
          ],
          "scattergl": [
           {
            "marker": {
             "colorbar": {
              "outlinewidth": 0,
              "ticks": ""
             }
            },
            "type": "scattergl"
           }
          ],
          "scattermapbox": [
           {
            "marker": {
             "colorbar": {
              "outlinewidth": 0,
              "ticks": ""
             }
            },
            "type": "scattermapbox"
           }
          ],
          "scatterpolar": [
           {
            "marker": {
             "colorbar": {
              "outlinewidth": 0,
              "ticks": ""
             }
            },
            "type": "scatterpolar"
           }
          ],
          "scatterpolargl": [
           {
            "marker": {
             "colorbar": {
              "outlinewidth": 0,
              "ticks": ""
             }
            },
            "type": "scatterpolargl"
           }
          ],
          "scatterternary": [
           {
            "marker": {
             "colorbar": {
              "outlinewidth": 0,
              "ticks": ""
             }
            },
            "type": "scatterternary"
           }
          ],
          "surface": [
           {
            "colorbar": {
             "outlinewidth": 0,
             "ticks": ""
            },
            "colorscale": [
             [
              0,
              "#0d0887"
             ],
             [
              0.1111111111111111,
              "#46039f"
             ],
             [
              0.2222222222222222,
              "#7201a8"
             ],
             [
              0.3333333333333333,
              "#9c179e"
             ],
             [
              0.4444444444444444,
              "#bd3786"
             ],
             [
              0.5555555555555556,
              "#d8576b"
             ],
             [
              0.6666666666666666,
              "#ed7953"
             ],
             [
              0.7777777777777778,
              "#fb9f3a"
             ],
             [
              0.8888888888888888,
              "#fdca26"
             ],
             [
              1,
              "#f0f921"
             ]
            ],
            "type": "surface"
           }
          ],
          "table": [
           {
            "cells": {
             "fill": {
              "color": "#EBF0F8"
             },
             "line": {
              "color": "white"
             }
            },
            "header": {
             "fill": {
              "color": "#C8D4E3"
             },
             "line": {
              "color": "white"
             }
            },
            "type": "table"
           }
          ]
         },
         "layout": {
          "annotationdefaults": {
           "arrowcolor": "#2a3f5f",
           "arrowhead": 0,
           "arrowwidth": 1
          },
          "autotypenumbers": "strict",
          "coloraxis": {
           "colorbar": {
            "outlinewidth": 0,
            "ticks": ""
           }
          },
          "colorscale": {
           "diverging": [
            [
             0,
             "#8e0152"
            ],
            [
             0.1,
             "#c51b7d"
            ],
            [
             0.2,
             "#de77ae"
            ],
            [
             0.3,
             "#f1b6da"
            ],
            [
             0.4,
             "#fde0ef"
            ],
            [
             0.5,
             "#f7f7f7"
            ],
            [
             0.6,
             "#e6f5d0"
            ],
            [
             0.7,
             "#b8e186"
            ],
            [
             0.8,
             "#7fbc41"
            ],
            [
             0.9,
             "#4d9221"
            ],
            [
             1,
             "#276419"
            ]
           ],
           "sequential": [
            [
             0,
             "#0d0887"
            ],
            [
             0.1111111111111111,
             "#46039f"
            ],
            [
             0.2222222222222222,
             "#7201a8"
            ],
            [
             0.3333333333333333,
             "#9c179e"
            ],
            [
             0.4444444444444444,
             "#bd3786"
            ],
            [
             0.5555555555555556,
             "#d8576b"
            ],
            [
             0.6666666666666666,
             "#ed7953"
            ],
            [
             0.7777777777777778,
             "#fb9f3a"
            ],
            [
             0.8888888888888888,
             "#fdca26"
            ],
            [
             1,
             "#f0f921"
            ]
           ],
           "sequentialminus": [
            [
             0,
             "#0d0887"
            ],
            [
             0.1111111111111111,
             "#46039f"
            ],
            [
             0.2222222222222222,
             "#7201a8"
            ],
            [
             0.3333333333333333,
             "#9c179e"
            ],
            [
             0.4444444444444444,
             "#bd3786"
            ],
            [
             0.5555555555555556,
             "#d8576b"
            ],
            [
             0.6666666666666666,
             "#ed7953"
            ],
            [
             0.7777777777777778,
             "#fb9f3a"
            ],
            [
             0.8888888888888888,
             "#fdca26"
            ],
            [
             1,
             "#f0f921"
            ]
           ]
          },
          "colorway": [
           "#636efa",
           "#EF553B",
           "#00cc96",
           "#ab63fa",
           "#FFA15A",
           "#19d3f3",
           "#FF6692",
           "#B6E880",
           "#FF97FF",
           "#FECB52"
          ],
          "font": {
           "color": "#2a3f5f"
          },
          "geo": {
           "bgcolor": "white",
           "lakecolor": "white",
           "landcolor": "#E5ECF6",
           "showlakes": true,
           "showland": true,
           "subunitcolor": "white"
          },
          "hoverlabel": {
           "align": "left"
          },
          "hovermode": "closest",
          "mapbox": {
           "style": "light"
          },
          "paper_bgcolor": "white",
          "plot_bgcolor": "#E5ECF6",
          "polar": {
           "angularaxis": {
            "gridcolor": "white",
            "linecolor": "white",
            "ticks": ""
           },
           "bgcolor": "#E5ECF6",
           "radialaxis": {
            "gridcolor": "white",
            "linecolor": "white",
            "ticks": ""
           }
          },
          "scene": {
           "xaxis": {
            "backgroundcolor": "#E5ECF6",
            "gridcolor": "white",
            "gridwidth": 2,
            "linecolor": "white",
            "showbackground": true,
            "ticks": "",
            "zerolinecolor": "white"
           },
           "yaxis": {
            "backgroundcolor": "#E5ECF6",
            "gridcolor": "white",
            "gridwidth": 2,
            "linecolor": "white",
            "showbackground": true,
            "ticks": "",
            "zerolinecolor": "white"
           },
           "zaxis": {
            "backgroundcolor": "#E5ECF6",
            "gridcolor": "white",
            "gridwidth": 2,
            "linecolor": "white",
            "showbackground": true,
            "ticks": "",
            "zerolinecolor": "white"
           }
          },
          "shapedefaults": {
           "line": {
            "color": "#2a3f5f"
           }
          },
          "ternary": {
           "aaxis": {
            "gridcolor": "white",
            "linecolor": "white",
            "ticks": ""
           },
           "baxis": {
            "gridcolor": "white",
            "linecolor": "white",
            "ticks": ""
           },
           "bgcolor": "#E5ECF6",
           "caxis": {
            "gridcolor": "white",
            "linecolor": "white",
            "ticks": ""
           }
          },
          "title": {
           "x": 0.05
          },
          "xaxis": {
           "automargin": true,
           "gridcolor": "white",
           "linecolor": "white",
           "ticks": "",
           "title": {
            "standoff": 15
           },
           "zerolinecolor": "white",
           "zerolinewidth": 2
          },
          "yaxis": {
           "automargin": true,
           "gridcolor": "white",
           "linecolor": "white",
           "ticks": "",
           "title": {
            "standoff": 15
           },
           "zerolinecolor": "white",
           "zerolinewidth": 2
          }
         }
        },
        "title": {
         "text": "Distribution of Price Per Sq. Foot by Global Type"
        },
        "xaxis": {
         "anchor": "y",
         "domain": [
          0,
          1
         ],
         "showgrid": true,
         "title": {
          "text": "Price Per Sq. Foot (in thousands)"
         }
        },
        "yaxis": {
         "anchor": "x",
         "domain": [
          0,
          1
         ],
         "showgrid": true,
         "title": {
          "text": "Frequency"
         }
        }
       }
      }
     },
     "metadata": {},
     "output_type": "display_data"
    }
   ],
   "source": [
    "fig = px.histogram(\n",
    "    data_frame=subset,\n",
    "    x='pricePerSqFoot(k)',\n",
    "    color='propertyGlobalType',\n",
    "    nbins=20,  # Number of bins\n",
    "    title='Distribution of Price Per Sq. Foot by Global Type',\n",
    "    labels={'pricePerSqFoot(k)': 'Price Per Sq. Foot', 'propertyGlobalType': 'Property Global Type'},\n",
    "    barmode='stack',  # Stack bars\n",
    "    color_discrete_sequence=['#EF553B', '#636EFA', '#636EFA'],  # Blue for flats, Red for houses\n",
    "    template='plotly',  # Optional: for aesthetic improvements,\n",
    ")\n",
    "\n",
    "fig.update_layout(\n",
    "    xaxis_title='Price Per Sq. Foot (in thousands)',\n",
    "    yaxis_title='Frequency',\n",
    "    bargap=0.1,  # Optional: gap between bars\n",
    "    xaxis=dict(showgrid=True),\n",
    "    yaxis=dict(showgrid=True),\n",
    ")\n",
    "\n",
    "fig.show()"
   ]
  },
  {
   "cell_type": "markdown",
   "metadata": {},
   "source": [
    "### price (M)"
   ]
  },
  {
   "cell_type": "markdown",
   "metadata": {},
   "source": [
    "#### Distribution per propertyGlobalType"
   ]
  },
  {
   "cell_type": "code",
   "execution_count": 109,
   "metadata": {},
   "outputs": [
    {
     "data": {
      "application/vnd.plotly.v1+json": {
       "config": {
        "plotlyServerURL": "https://plot.ly"
       },
       "data": [
        {
         "alignmentgroup": "True",
         "bingroup": "x",
         "hovertemplate": "Property Global Type=House<br>Price (in millions)=%{x}<br>count=%{y}<extra></extra>",
         "legendgroup": "House",
         "marker": {
          "color": "#EF553B",
          "pattern": {
           "shape": ""
          }
         },
         "name": "House",
         "nbinsx": 50,
         "offsetgroup": "House",
         "orientation": "v",
         "showlegend": true,
         "type": "histogram",
         "x": [
          24.95,
          29.5,
          25,
          24.95,
          24.95,
          25,
          25,
          25,
          25,
          25,
          25,
          28,
          29.5,
          28,
          29.5,
          29.95,
          29.95,
          29.975,
          30,
          30,
          32,
          30,
          30,
          38,
          45,
          47,
          65,
          18.25,
          18.8,
          18.95,
          18.95,
          18.95,
          18.95,
          18.95,
          19.5,
          19.75,
          21.95,
          22,
          22.5,
          22.5,
          22.95,
          23,
          23.5,
          23.95,
          24,
          24,
          24.95,
          19.95,
          20,
          20,
          20,
          21.5,
          17,
          17.5,
          17.5,
          17.95,
          17.95,
          17.95,
          1.85,
          16,
          16,
          16,
          16.5,
          16.5,
          16.75,
          16.5,
          16.75,
          16.95,
          16.95,
          16.95,
          16.95,
          14.5,
          15.5,
          13.75,
          13.85,
          13.85,
          13.95,
          14,
          13.95,
          14,
          14,
          15.5,
          15.5,
          15.5,
          15.75,
          15.75,
          15.95,
          15.95,
          15.95,
          15.95,
          14.8,
          15.95,
          3,
          14.95,
          14.95,
          15,
          14.95,
          15,
          15,
          15,
          12.5,
          12.95,
          12.95,
          12.95,
          12.95,
          12.95,
          12.95,
          12.95,
          12.95,
          12.95,
          13.5,
          13.5,
          13.5,
          13.5,
          13.5,
          13.5,
          11,
          10.95,
          10.95,
          10.99,
          11.95,
          11.95,
          11,
          11.5,
          11.95,
          11.5,
          11.95,
          11.5,
          11.25,
          11.5,
          11.95,
          11.95,
          11.25,
          11.25,
          11.995,
          12,
          11.25,
          11.5,
          12,
          12,
          11.9,
          12.25,
          11.95,
          12.5,
          10,
          10,
          10.75,
          10.75,
          10.25,
          10.85,
          10.5,
          10.5,
          10.95,
          10.95,
          10.95,
          10.95,
          10.5,
          10.95,
          10.95,
          10.95,
          10.95,
          10.95,
          10.95,
          10.95,
          0.795,
          10.95,
          9.95,
          9.75,
          9.75,
          9.75,
          9.95,
          9.95,
          9.95,
          9.95,
          9.95,
          9.95,
          9.95,
          9.95,
          9.975,
          9.995,
          10,
          10,
          10,
          10,
          10,
          9.25,
          9.25,
          9.35,
          9.35,
          9.5,
          9.5,
          9.5,
          9.5,
          9.5,
          9.5,
          9.5,
          9.5,
          9.65,
          3.75,
          8.95,
          8.95,
          8.95,
          8.95,
          8.95,
          8.95,
          8.95,
          8.95,
          8.995,
          8.95,
          8.99995,
          9,
          9,
          8.5,
          8.5,
          8.5,
          8.65,
          8.75,
          8.5,
          8.5,
          8.5,
          8.5,
          8.3,
          8.5,
          7.95,
          7.95,
          7.95,
          7.95,
          7.95,
          7.95,
          7.95,
          7.95,
          8,
          8,
          7.95,
          7.95,
          7.95,
          7.95,
          8,
          7.95,
          8,
          7.95,
          7.995,
          8,
          8,
          8,
          8,
          8,
          8.1,
          7.75,
          7.5,
          7.5,
          7.6,
          7.5,
          7.65,
          7.65,
          7.65,
          7.65,
          7.75,
          7.75,
          7.75,
          7.75,
          7.75,
          7.75,
          7.75,
          7.75,
          7.495,
          7.495,
          7.3,
          7.5,
          7.5,
          7.5,
          7.35,
          7.5,
          7.5,
          7.5,
          7.5,
          7.5,
          6.95,
          6.95,
          6.95,
          6.95,
          6.95,
          6.95,
          6.95,
          6.95,
          6.95,
          6.95,
          6.995,
          6.995,
          7.25,
          7.25,
          7,
          7.25,
          7,
          7.25,
          7.25,
          7.25,
          7.25,
          7,
          7,
          7.05,
          7,
          6.595,
          6.5,
          6.5,
          6.85,
          6.595,
          6.85,
          6.6,
          6.85,
          6.6,
          6.95,
          6.95,
          6.95,
          6.75,
          6.95,
          6.95,
          1.2,
          6.75,
          6.95,
          6.75,
          6.75,
          6.75,
          6.75,
          6.95,
          6.8,
          6.95,
          6.5,
          6.5,
          6.5,
          6.5,
          6.5,
          6.5,
          6.5,
          6.5,
          6.5,
          6.5,
          6.5,
          6.5,
          6.5
         ],
         "xaxis": "x",
         "yaxis": "y"
        },
        {
         "alignmentgroup": "True",
         "bingroup": "x",
         "hovertemplate": "Property Global Type=Flat<br>Price (in millions)=%{x}<br>count=%{y}<extra></extra>",
         "legendgroup": "Flat",
         "marker": {
          "color": "#636EFA",
          "pattern": {
           "shape": ""
          }
         },
         "name": "Flat",
         "nbinsx": 50,
         "offsetgroup": "Flat",
         "orientation": "v",
         "showlegend": true,
         "type": "histogram",
         "x": [
          25,
          26.5,
          26.5,
          19.95,
          18.5,
          18.5,
          19,
          19.5,
          22.5,
          22.5,
          23.5,
          24,
          2.1,
          19.95,
          19.95,
          19.95,
          19.95,
          19.95,
          20,
          20.995,
          16,
          17.5,
          17.5,
          17.5,
          17.5,
          17.7,
          17.8,
          18,
          18,
          16,
          16,
          16.25,
          16.25,
          0.725,
          13.75,
          13.95,
          13.95,
          13.95,
          13.95,
          14,
          14,
          14.25,
          14,
          14.25,
          14.5,
          15.65,
          15.65,
          15.65,
          15.75,
          15.75,
          15.75,
          14.75,
          15.95,
          14.75,
          14.6,
          14.95,
          14.95,
          15,
          15,
          13.5,
          12.5,
          12.65,
          12.5,
          12.6,
          12.75,
          12.95,
          12.95,
          12.95,
          12.95,
          13,
          13,
          13.25,
          13.25,
          13.395,
          13.5,
          13.5,
          13.5,
          13.5,
          10.95,
          11,
          11,
          11,
          11,
          11,
          11,
          11.5,
          11.2,
          11.95,
          11.5,
          11.25,
          11.95,
          11.5,
          12,
          11.5,
          12,
          11.59,
          11.75,
          11.7,
          11.795,
          12,
          11.75,
          12.5,
          12.5,
          3.95,
          0.625,
          10.747,
          10,
          10.13,
          10.13,
          10.13,
          10.747,
          10.75,
          10.75,
          10.25,
          10.75,
          10.25,
          10.75,
          10.25,
          10.5,
          10.95,
          10.5,
          10.5,
          10.95,
          10.747,
          0.525,
          9.75,
          9.9,
          9.9,
          9.9,
          9.9,
          9.9,
          9.95,
          9.9,
          9.9,
          9.95,
          9.9,
          9.9,
          9.95,
          9.9,
          9.9,
          9.9,
          9.95,
          9.95,
          9.95,
          10,
          10,
          10,
          10,
          10,
          10,
          10,
          10,
          9.601,
          9.25,
          9.45,
          9.45,
          9.45,
          9.5,
          9.5,
          9.5,
          9.5,
          9.5,
          9.5,
          9.601,
          9.601,
          9.601,
          9.601,
          9.74,
          9.7,
          9.74,
          9.25,
          8.95,
          8.825,
          8.825,
          8.825,
          8.825,
          8.95,
          8.95,
          8.95,
          8.95,
          8.95,
          8.95,
          8.95,
          9,
          9,
          9,
          9,
          9,
          9,
          0.575,
          8.2,
          8.5,
          8.5,
          8.5,
          8.625,
          8.75,
          8.75,
          8.75,
          8.75,
          8.75,
          8.75,
          8.75,
          8.8,
          8.825,
          0.475,
          8.5,
          8.5,
          8.5,
          8.5,
          8.5,
          8.5,
          8.5,
          8.5,
          8.5,
          8.5,
          8.25,
          8.25,
          8.25,
          8.3,
          8.325,
          8.45,
          8.45,
          8.45,
          8.35,
          8.45,
          8.45,
          8.45,
          8.45,
          8.5,
          8.5,
          0.695,
          7.87,
          7.87,
          7.87,
          7.92,
          7.95,
          7.95,
          7.95,
          7.95,
          7.95,
          7.95,
          7.95,
          7.95,
          7.95,
          7.95,
          7.95,
          7.95,
          8,
          8,
          0.55,
          8,
          7.95,
          8,
          7.98,
          8,
          7.995,
          7.995,
          8,
          1.05,
          8.044,
          8,
          8.044,
          8.044,
          8.1,
          8.15,
          8.2,
          8.2,
          0.75,
          7.75,
          7.5,
          7.5,
          7.5,
          7.6,
          7.6,
          7.696,
          7.696,
          7.75,
          7.75,
          7.75,
          7.75,
          7.8,
          7.8,
          7.8,
          7.8,
          7.8,
          7.85,
          7.85,
          7.495,
          7.295,
          7.495,
          7.295,
          7.495,
          7.295,
          7.5,
          7.295,
          7.295,
          7.5,
          7.5,
          7.3,
          7.295,
          7.5,
          7.5,
          7.3,
          7.3,
          7.35,
          7.5,
          7.35,
          7.35,
          7.5,
          7.364,
          7.5,
          7.398,
          7.4,
          7.4,
          7.49,
          7.45,
          7.1875,
          7.25,
          6.95,
          6.95,
          6.95,
          6.95,
          6.95,
          6.95,
          6.95,
          6.99,
          6.995,
          7.2,
          7.2,
          7.2,
          7.2,
          6.995,
          7.25,
          7.25,
          7,
          7.25,
          7.25,
          0.845,
          7.15,
          7.053,
          7.15,
          7.15,
          6.9,
          6.5,
          6.5,
          6.5,
          6.5,
          6.5,
          6.595,
          6.5,
          6.9,
          6.6,
          6.636,
          6.6,
          6.62,
          6.65,
          6.62,
          6.95,
          6.636,
          6.75,
          6.636,
          6.636,
          6.75,
          6.95,
          6.95,
          6.95,
          6.75,
          6.75,
          6.95,
          6.95,
          6.75,
          6.75,
          6.95,
          6.815,
          0.55,
          6.825,
          6.815,
          0.9,
          6.5,
          6.5,
          6.5,
          6.5,
          6.5,
          6.5,
          6.5,
          1.6,
          6.5,
          6.5,
          6.5,
          6.5,
          6.5,
          6.5,
          6.5,
          6.5,
          6.5
         ],
         "xaxis": "x",
         "yaxis": "y"
        }
       ],
       "layout": {
        "bargap": 0.1,
        "barmode": "stack",
        "legend": {
         "title": {
          "text": "Property Global Type"
         },
         "tracegroupgap": 0
        },
        "template": {
         "data": {
          "bar": [
           {
            "error_x": {
             "color": "#2a3f5f"
            },
            "error_y": {
             "color": "#2a3f5f"
            },
            "marker": {
             "line": {
              "color": "#E5ECF6",
              "width": 0.5
             },
             "pattern": {
              "fillmode": "overlay",
              "size": 10,
              "solidity": 0.2
             }
            },
            "type": "bar"
           }
          ],
          "barpolar": [
           {
            "marker": {
             "line": {
              "color": "#E5ECF6",
              "width": 0.5
             },
             "pattern": {
              "fillmode": "overlay",
              "size": 10,
              "solidity": 0.2
             }
            },
            "type": "barpolar"
           }
          ],
          "carpet": [
           {
            "aaxis": {
             "endlinecolor": "#2a3f5f",
             "gridcolor": "white",
             "linecolor": "white",
             "minorgridcolor": "white",
             "startlinecolor": "#2a3f5f"
            },
            "baxis": {
             "endlinecolor": "#2a3f5f",
             "gridcolor": "white",
             "linecolor": "white",
             "minorgridcolor": "white",
             "startlinecolor": "#2a3f5f"
            },
            "type": "carpet"
           }
          ],
          "choropleth": [
           {
            "colorbar": {
             "outlinewidth": 0,
             "ticks": ""
            },
            "type": "choropleth"
           }
          ],
          "contour": [
           {
            "colorbar": {
             "outlinewidth": 0,
             "ticks": ""
            },
            "colorscale": [
             [
              0,
              "#0d0887"
             ],
             [
              0.1111111111111111,
              "#46039f"
             ],
             [
              0.2222222222222222,
              "#7201a8"
             ],
             [
              0.3333333333333333,
              "#9c179e"
             ],
             [
              0.4444444444444444,
              "#bd3786"
             ],
             [
              0.5555555555555556,
              "#d8576b"
             ],
             [
              0.6666666666666666,
              "#ed7953"
             ],
             [
              0.7777777777777778,
              "#fb9f3a"
             ],
             [
              0.8888888888888888,
              "#fdca26"
             ],
             [
              1,
              "#f0f921"
             ]
            ],
            "type": "contour"
           }
          ],
          "contourcarpet": [
           {
            "colorbar": {
             "outlinewidth": 0,
             "ticks": ""
            },
            "type": "contourcarpet"
           }
          ],
          "heatmap": [
           {
            "colorbar": {
             "outlinewidth": 0,
             "ticks": ""
            },
            "colorscale": [
             [
              0,
              "#0d0887"
             ],
             [
              0.1111111111111111,
              "#46039f"
             ],
             [
              0.2222222222222222,
              "#7201a8"
             ],
             [
              0.3333333333333333,
              "#9c179e"
             ],
             [
              0.4444444444444444,
              "#bd3786"
             ],
             [
              0.5555555555555556,
              "#d8576b"
             ],
             [
              0.6666666666666666,
              "#ed7953"
             ],
             [
              0.7777777777777778,
              "#fb9f3a"
             ],
             [
              0.8888888888888888,
              "#fdca26"
             ],
             [
              1,
              "#f0f921"
             ]
            ],
            "type": "heatmap"
           }
          ],
          "heatmapgl": [
           {
            "colorbar": {
             "outlinewidth": 0,
             "ticks": ""
            },
            "colorscale": [
             [
              0,
              "#0d0887"
             ],
             [
              0.1111111111111111,
              "#46039f"
             ],
             [
              0.2222222222222222,
              "#7201a8"
             ],
             [
              0.3333333333333333,
              "#9c179e"
             ],
             [
              0.4444444444444444,
              "#bd3786"
             ],
             [
              0.5555555555555556,
              "#d8576b"
             ],
             [
              0.6666666666666666,
              "#ed7953"
             ],
             [
              0.7777777777777778,
              "#fb9f3a"
             ],
             [
              0.8888888888888888,
              "#fdca26"
             ],
             [
              1,
              "#f0f921"
             ]
            ],
            "type": "heatmapgl"
           }
          ],
          "histogram": [
           {
            "marker": {
             "pattern": {
              "fillmode": "overlay",
              "size": 10,
              "solidity": 0.2
             }
            },
            "type": "histogram"
           }
          ],
          "histogram2d": [
           {
            "colorbar": {
             "outlinewidth": 0,
             "ticks": ""
            },
            "colorscale": [
             [
              0,
              "#0d0887"
             ],
             [
              0.1111111111111111,
              "#46039f"
             ],
             [
              0.2222222222222222,
              "#7201a8"
             ],
             [
              0.3333333333333333,
              "#9c179e"
             ],
             [
              0.4444444444444444,
              "#bd3786"
             ],
             [
              0.5555555555555556,
              "#d8576b"
             ],
             [
              0.6666666666666666,
              "#ed7953"
             ],
             [
              0.7777777777777778,
              "#fb9f3a"
             ],
             [
              0.8888888888888888,
              "#fdca26"
             ],
             [
              1,
              "#f0f921"
             ]
            ],
            "type": "histogram2d"
           }
          ],
          "histogram2dcontour": [
           {
            "colorbar": {
             "outlinewidth": 0,
             "ticks": ""
            },
            "colorscale": [
             [
              0,
              "#0d0887"
             ],
             [
              0.1111111111111111,
              "#46039f"
             ],
             [
              0.2222222222222222,
              "#7201a8"
             ],
             [
              0.3333333333333333,
              "#9c179e"
             ],
             [
              0.4444444444444444,
              "#bd3786"
             ],
             [
              0.5555555555555556,
              "#d8576b"
             ],
             [
              0.6666666666666666,
              "#ed7953"
             ],
             [
              0.7777777777777778,
              "#fb9f3a"
             ],
             [
              0.8888888888888888,
              "#fdca26"
             ],
             [
              1,
              "#f0f921"
             ]
            ],
            "type": "histogram2dcontour"
           }
          ],
          "mesh3d": [
           {
            "colorbar": {
             "outlinewidth": 0,
             "ticks": ""
            },
            "type": "mesh3d"
           }
          ],
          "parcoords": [
           {
            "line": {
             "colorbar": {
              "outlinewidth": 0,
              "ticks": ""
             }
            },
            "type": "parcoords"
           }
          ],
          "pie": [
           {
            "automargin": true,
            "type": "pie"
           }
          ],
          "scatter": [
           {
            "fillpattern": {
             "fillmode": "overlay",
             "size": 10,
             "solidity": 0.2
            },
            "type": "scatter"
           }
          ],
          "scatter3d": [
           {
            "line": {
             "colorbar": {
              "outlinewidth": 0,
              "ticks": ""
             }
            },
            "marker": {
             "colorbar": {
              "outlinewidth": 0,
              "ticks": ""
             }
            },
            "type": "scatter3d"
           }
          ],
          "scattercarpet": [
           {
            "marker": {
             "colorbar": {
              "outlinewidth": 0,
              "ticks": ""
             }
            },
            "type": "scattercarpet"
           }
          ],
          "scattergeo": [
           {
            "marker": {
             "colorbar": {
              "outlinewidth": 0,
              "ticks": ""
             }
            },
            "type": "scattergeo"
           }
          ],
          "scattergl": [
           {
            "marker": {
             "colorbar": {
              "outlinewidth": 0,
              "ticks": ""
             }
            },
            "type": "scattergl"
           }
          ],
          "scattermapbox": [
           {
            "marker": {
             "colorbar": {
              "outlinewidth": 0,
              "ticks": ""
             }
            },
            "type": "scattermapbox"
           }
          ],
          "scatterpolar": [
           {
            "marker": {
             "colorbar": {
              "outlinewidth": 0,
              "ticks": ""
             }
            },
            "type": "scatterpolar"
           }
          ],
          "scatterpolargl": [
           {
            "marker": {
             "colorbar": {
              "outlinewidth": 0,
              "ticks": ""
             }
            },
            "type": "scatterpolargl"
           }
          ],
          "scatterternary": [
           {
            "marker": {
             "colorbar": {
              "outlinewidth": 0,
              "ticks": ""
             }
            },
            "type": "scatterternary"
           }
          ],
          "surface": [
           {
            "colorbar": {
             "outlinewidth": 0,
             "ticks": ""
            },
            "colorscale": [
             [
              0,
              "#0d0887"
             ],
             [
              0.1111111111111111,
              "#46039f"
             ],
             [
              0.2222222222222222,
              "#7201a8"
             ],
             [
              0.3333333333333333,
              "#9c179e"
             ],
             [
              0.4444444444444444,
              "#bd3786"
             ],
             [
              0.5555555555555556,
              "#d8576b"
             ],
             [
              0.6666666666666666,
              "#ed7953"
             ],
             [
              0.7777777777777778,
              "#fb9f3a"
             ],
             [
              0.8888888888888888,
              "#fdca26"
             ],
             [
              1,
              "#f0f921"
             ]
            ],
            "type": "surface"
           }
          ],
          "table": [
           {
            "cells": {
             "fill": {
              "color": "#EBF0F8"
             },
             "line": {
              "color": "white"
             }
            },
            "header": {
             "fill": {
              "color": "#C8D4E3"
             },
             "line": {
              "color": "white"
             }
            },
            "type": "table"
           }
          ]
         },
         "layout": {
          "annotationdefaults": {
           "arrowcolor": "#2a3f5f",
           "arrowhead": 0,
           "arrowwidth": 1
          },
          "autotypenumbers": "strict",
          "coloraxis": {
           "colorbar": {
            "outlinewidth": 0,
            "ticks": ""
           }
          },
          "colorscale": {
           "diverging": [
            [
             0,
             "#8e0152"
            ],
            [
             0.1,
             "#c51b7d"
            ],
            [
             0.2,
             "#de77ae"
            ],
            [
             0.3,
             "#f1b6da"
            ],
            [
             0.4,
             "#fde0ef"
            ],
            [
             0.5,
             "#f7f7f7"
            ],
            [
             0.6,
             "#e6f5d0"
            ],
            [
             0.7,
             "#b8e186"
            ],
            [
             0.8,
             "#7fbc41"
            ],
            [
             0.9,
             "#4d9221"
            ],
            [
             1,
             "#276419"
            ]
           ],
           "sequential": [
            [
             0,
             "#0d0887"
            ],
            [
             0.1111111111111111,
             "#46039f"
            ],
            [
             0.2222222222222222,
             "#7201a8"
            ],
            [
             0.3333333333333333,
             "#9c179e"
            ],
            [
             0.4444444444444444,
             "#bd3786"
            ],
            [
             0.5555555555555556,
             "#d8576b"
            ],
            [
             0.6666666666666666,
             "#ed7953"
            ],
            [
             0.7777777777777778,
             "#fb9f3a"
            ],
            [
             0.8888888888888888,
             "#fdca26"
            ],
            [
             1,
             "#f0f921"
            ]
           ],
           "sequentialminus": [
            [
             0,
             "#0d0887"
            ],
            [
             0.1111111111111111,
             "#46039f"
            ],
            [
             0.2222222222222222,
             "#7201a8"
            ],
            [
             0.3333333333333333,
             "#9c179e"
            ],
            [
             0.4444444444444444,
             "#bd3786"
            ],
            [
             0.5555555555555556,
             "#d8576b"
            ],
            [
             0.6666666666666666,
             "#ed7953"
            ],
            [
             0.7777777777777778,
             "#fb9f3a"
            ],
            [
             0.8888888888888888,
             "#fdca26"
            ],
            [
             1,
             "#f0f921"
            ]
           ]
          },
          "colorway": [
           "#636efa",
           "#EF553B",
           "#00cc96",
           "#ab63fa",
           "#FFA15A",
           "#19d3f3",
           "#FF6692",
           "#B6E880",
           "#FF97FF",
           "#FECB52"
          ],
          "font": {
           "color": "#2a3f5f"
          },
          "geo": {
           "bgcolor": "white",
           "lakecolor": "white",
           "landcolor": "#E5ECF6",
           "showlakes": true,
           "showland": true,
           "subunitcolor": "white"
          },
          "hoverlabel": {
           "align": "left"
          },
          "hovermode": "closest",
          "mapbox": {
           "style": "light"
          },
          "paper_bgcolor": "white",
          "plot_bgcolor": "#E5ECF6",
          "polar": {
           "angularaxis": {
            "gridcolor": "white",
            "linecolor": "white",
            "ticks": ""
           },
           "bgcolor": "#E5ECF6",
           "radialaxis": {
            "gridcolor": "white",
            "linecolor": "white",
            "ticks": ""
           }
          },
          "scene": {
           "xaxis": {
            "backgroundcolor": "#E5ECF6",
            "gridcolor": "white",
            "gridwidth": 2,
            "linecolor": "white",
            "showbackground": true,
            "ticks": "",
            "zerolinecolor": "white"
           },
           "yaxis": {
            "backgroundcolor": "#E5ECF6",
            "gridcolor": "white",
            "gridwidth": 2,
            "linecolor": "white",
            "showbackground": true,
            "ticks": "",
            "zerolinecolor": "white"
           },
           "zaxis": {
            "backgroundcolor": "#E5ECF6",
            "gridcolor": "white",
            "gridwidth": 2,
            "linecolor": "white",
            "showbackground": true,
            "ticks": "",
            "zerolinecolor": "white"
           }
          },
          "shapedefaults": {
           "line": {
            "color": "#2a3f5f"
           }
          },
          "ternary": {
           "aaxis": {
            "gridcolor": "white",
            "linecolor": "white",
            "ticks": ""
           },
           "baxis": {
            "gridcolor": "white",
            "linecolor": "white",
            "ticks": ""
           },
           "bgcolor": "#E5ECF6",
           "caxis": {
            "gridcolor": "white",
            "linecolor": "white",
            "ticks": ""
           }
          },
          "title": {
           "x": 0.05
          },
          "xaxis": {
           "automargin": true,
           "gridcolor": "white",
           "linecolor": "white",
           "ticks": "",
           "title": {
            "standoff": 15
           },
           "zerolinecolor": "white",
           "zerolinewidth": 2
          },
          "yaxis": {
           "automargin": true,
           "gridcolor": "white",
           "linecolor": "white",
           "ticks": "",
           "title": {
            "standoff": 15
           },
           "zerolinecolor": "white",
           "zerolinewidth": 2
          }
         }
        },
        "title": {
         "text": "Distribution of Property Prices by Global Type"
        },
        "xaxis": {
         "anchor": "y",
         "domain": [
          0,
          1
         ],
         "showgrid": true,
         "title": {
          "text": "Price (in millions)"
         }
        },
        "yaxis": {
         "anchor": "x",
         "domain": [
          0,
          1
         ],
         "showgrid": true,
         "title": {
          "text": "Frequency"
         }
        }
       }
      }
     },
     "metadata": {},
     "output_type": "display_data"
    }
   ],
   "source": [
    "fig = px.histogram(\n",
    "    data_frame=subset,\n",
    "    x='price(M)',\n",
    "    color='propertyGlobalType',\n",
    "    nbins=50,  # Number of bins\n",
    "    title='Distribution of Property Prices by Global Type',\n",
    "    labels={'price(M)': 'Price (in millions)', 'propertyGlobalType': 'Property Global Type'},\n",
    "    barmode='stack',  # Change to 'group' for side-by-side bars\n",
    "    template='plotly',  # Optional: for aesthetic improvements\n",
    "    color_discrete_sequence=['#EF553B', '#636EFA', '#636EFA']  # Blue for flats, Red for houses\n",
    ")\n",
    "\n",
    "fig.update_layout(\n",
    "    xaxis_title='Price (in millions)',\n",
    "    yaxis_title='Frequency',\n",
    "    bargap=0.1,  # Optional: gap between bars\n",
    "    xaxis=dict(showgrid=True),\n",
    "    yaxis=dict(showgrid=True),\n",
    "    legend_title='Property Global Type',\n",
    ")\n",
    "\n",
    "fig.show()\n"
   ]
  },
  {
   "cell_type": "markdown",
   "metadata": {},
   "source": [
    "#### pricePerSqFoot (k)"
   ]
  },
  {
   "cell_type": "markdown",
   "metadata": {},
   "source": [
    "##### propertyType"
   ]
  },
  {
   "cell_type": "code",
   "execution_count": 108,
   "metadata": {},
   "outputs": [
    {
     "data": {
      "application/vnd.plotly.v1+json": {
       "config": {
        "plotlyServerURL": "https://plot.ly"
       },
       "data": [
        {
         "hovertemplate": "propertyType=House<br>pricePerSqFoot(k)=%{x}<br>price(M)=%{y}<extra></extra>",
         "legendgroup": "House",
         "marker": {
          "color": "#636efa",
          "symbol": "circle"
         },
         "mode": "markers",
         "name": "House",
         "orientation": "v",
         "showlegend": true,
         "type": "scatter",
         "x": [
          1.49,
          2.28,
          3.69,
          3.28,
          4.16,
          3.79,
          2.28,
          1.92,
          3.61,
          3.6,
          3.16,
          4.05,
          3.77,
          3.11,
          4.31,
          3.04,
          3.34,
          3.38,
          3.05,
          1.93,
          2.41,
          2.33,
          3.43,
          2.78,
          3.37,
          1.93,
          2.99,
          2.78,
          2.2,
          1.73,
          1.13,
          1.89,
          2.88,
          2.59,
          1.86,
          2.75,
          3.47,
          2.93,
          2.3,
          2.29,
          1.7,
          0.87,
          3.13,
          2.44,
          2.38,
          1.82,
          2.34,
          1.13,
          2.57,
          3.14,
          1.77,
          1.84,
          1.87,
          1.74,
          2.06,
          1.74,
          1.96,
          3.29,
          1.87,
          2.15,
          2.24,
          2.43,
          2.01,
          1.73,
          2.83,
          2.34,
          0.78,
          1.83,
          2.09,
          0.54,
          1.99,
          1.72,
          1.07,
          1.91,
          2.4,
          2.1,
          1.61,
          1.45,
          1.86,
          1.7,
          2.77,
          1.3,
          2.73
         ],
         "xaxis": "x",
         "y": [
          24.95,
          29.5,
          25,
          25,
          25,
          28,
          29.5,
          29.95,
          30,
          47,
          18.25,
          18.8,
          18.95,
          18.95,
          21.95,
          22,
          22.5,
          22.5,
          24,
          20,
          17,
          16,
          16,
          16.75,
          13.85,
          13.95,
          14,
          14,
          15.95,
          14.95,
          12.95,
          12.95,
          12.95,
          12.95,
          12.95,
          11.5,
          11.5,
          11.25,
          11.95,
          10,
          10.95,
          0.795,
          10.95,
          9.95,
          9.95,
          9.95,
          9.95,
          9.975,
          9.25,
          9.25,
          9.35,
          9.35,
          9.5,
          9.5,
          9.5,
          9.5,
          8.95,
          8.95,
          8.99995,
          9,
          8.5,
          8.5,
          8.5,
          8.5,
          7.95,
          7.95,
          8,
          7.5,
          7.75,
          6.95,
          6.95,
          6.95,
          7.25,
          7.25,
          7.05,
          6.5,
          6.85,
          6.95,
          6.95,
          6.5,
          6.5,
          6.5,
          6.5
         ],
         "yaxis": "y"
        },
        {
         "hovertemplate": "propertyType=Terraced<br>pricePerSqFoot(k)=%{x}<br>price(M)=%{y}<extra></extra>",
         "legendgroup": "Terraced",
         "marker": {
          "color": "#EF553B",
          "symbol": "circle"
         },
         "mode": "markers",
         "name": "Terraced",
         "orientation": "v",
         "showlegend": true,
         "type": "scatter",
         "x": [
          3.6,
          2.71,
          4.16,
          1.98,
          2.3,
          3.79,
          3.84,
          4.2,
          2.84,
          3.1,
          3.11,
          3.11,
          2.56,
          2.73,
          3.11,
          2.97,
          4.12,
          3.23,
          3.39,
          2.16,
          2.62,
          2.16,
          2.61,
          3.5,
          2.95,
          3.37,
          2.15,
          2.53,
          2.13,
          2.55,
          2.66,
          2.47,
          2.27,
          2.36,
          2.64,
          1.9,
          2.88,
          2.69,
          2.69,
          2.37,
          3.33,
          2.2,
          2.29,
          0.98,
          2.75,
          1.45,
          2.73,
          2.86,
          2.73,
          2.75,
          2.39,
          3.47,
          2.71,
          3.04,
          1.28,
          2.59,
          1.78,
          2.43,
          2.5,
          2.51,
          1.98,
          2.07,
          3.46,
          1.96,
          3.46,
          2.3,
          2.37,
          2.08,
          2.15,
          2.42,
          2.42,
          2.38,
          2.27,
          2.27,
          3.42,
          2.88,
          2,
          2.65,
          1.39,
          1.46,
          3.07,
          2.34,
          3.07,
          1.71,
          2.22,
          2.66,
          2.01,
          1.86,
          1.11,
          2.5,
          2.56,
          2.48,
          1.45,
          1.44,
          1.79,
          2.19,
          2.12,
          2.83,
          1.77,
          2.73,
          2.6,
          1.88,
          1.23,
          2.33,
          2.36,
          2.32,
          2.06,
          1.94,
          1.64,
          2.38,
          1.57,
          2.15,
          2.42,
          3.57,
          2.14,
          1.67,
          2.31,
          1.83,
          2.12,
          0.8,
          3.69,
          2.27,
          2.27,
          1.77,
          1.72,
          2,
          2.26,
          2,
          2.41,
          1.47,
          1.67,
          1.74,
          2.08,
          1.92,
          2.23,
          1.83,
          2.22,
          1.67,
          2.76
         ],
         "xaxis": "x",
         "y": [
          25,
          25,
          25,
          25,
          29.5,
          28,
          29.975,
          38,
          45,
          65,
          18.95,
          18.95,
          19.75,
          23,
          23.5,
          23.95,
          20,
          17.95,
          16,
          16.5,
          16.75,
          16.5,
          16.95,
          16.95,
          13.75,
          13.85,
          13.95,
          15.95,
          15.95,
          15.95,
          14.95,
          15,
          15,
          15,
          12.5,
          12.95,
          12.95,
          13.5,
          13.5,
          10.95,
          10.99,
          11.95,
          11.95,
          11,
          11.5,
          11.95,
          11.25,
          11.25,
          11.25,
          11.995,
          12,
          11.5,
          12,
          11.9,
          10,
          10.75,
          10.75,
          10.25,
          10.85,
          10.5,
          10.5,
          10.95,
          10.95,
          10.5,
          10.95,
          10.95,
          10.95,
          10.95,
          9.95,
          9.75,
          9.75,
          9.95,
          10,
          10,
          10,
          9.5,
          9.5,
          9.65,
          3.75,
          8.95,
          8.95,
          8.995,
          8.95,
          9,
          8.65,
          8.3,
          7.95,
          7.95,
          7.95,
          7.95,
          7.95,
          8,
          8,
          7.95,
          7.95,
          7.95,
          8,
          7.95,
          7.995,
          8,
          8.1,
          7.6,
          7.65,
          7.65,
          7.75,
          7.75,
          7.75,
          7.495,
          7.3,
          7.5,
          7.5,
          7.35,
          7.5,
          6.95,
          6.95,
          6.95,
          6.95,
          6.95,
          6.995,
          7,
          7.25,
          7.25,
          7.25,
          6.595,
          6.5,
          6.85,
          6.595,
          6.85,
          6.95,
          6.75,
          6.95,
          6.95,
          6.75,
          6.75,
          6.95,
          6.95,
          6.5,
          6.5,
          6.5
         ],
         "yaxis": "y"
        },
        {
         "hovertemplate": "propertyType=Detached<br>pricePerSqFoot(k)=%{x}<br>price(M)=%{y}<extra></extra>",
         "legendgroup": "Detached",
         "marker": {
          "color": "#00cc96",
          "symbol": "circle"
         },
         "mode": "markers",
         "name": "Detached",
         "orientation": "v",
         "showlegend": true,
         "type": "scatter",
         "x": [
          1.49,
          2.44,
          1.59,
          5.37,
          1.75,
          2.54,
          2.54,
          2.03,
          1.98,
          1.85,
          2.93,
          1.49,
          3.19,
          1.93,
          2.32,
          3.12,
          2.69,
          1.9,
          1.88,
          0.83,
          2.52,
          2.79,
          2.79,
          1.44,
          1.54,
          2.78,
          1.35,
          1.32,
          1.54,
          2.26,
          2.26,
          1.97,
          2.22,
          0.81,
          1.73,
          1.36,
          2.32,
          2.32,
          1.38,
          2.57,
          1.31,
          1.38,
          1.18,
          2.51,
          2.17,
          1.35,
          1.45,
          0.81,
          1.33,
          1.09,
          1.03,
          3.1,
          1.94,
          2.51,
          1.25,
          0.84,
          1.6,
          1.8,
          0.97,
          1.37,
          1.65,
          1.27,
          1.97,
          1.97,
          1.17,
          1.3,
          0.71,
          1.96,
          1.55,
          2.45,
          1.38,
          0.58,
          1.31,
          2.34,
          1.16,
          2.34,
          0.78,
          1.86,
          1.86,
          0.79,
          1.22,
          0.6,
          0.6,
          1.01,
          0.99,
          1,
          1.36,
          1.36,
          1.22,
          1.32,
          1.17,
          1.14,
          1.05,
          1.63,
          0.6,
          1.01,
          1.12,
          0.82,
          1.07,
          1.03,
          1.34,
          0.93,
          1.94,
          1.13,
          1.2,
          1.23,
          0.79,
          0.47,
          0.95,
          0.88,
          1.41,
          0.97,
          1.39,
          1.37,
          1.56,
          1.62,
          0.98,
          0.44
         ],
         "xaxis": "x",
         "y": [
          24.95,
          24.95,
          29.95,
          30,
          32,
          30,
          30,
          18.95,
          19.5,
          22.95,
          24,
          24.95,
          19.95,
          20,
          21.5,
          17.5,
          17.5,
          17.95,
          17.95,
          1.85,
          16.5,
          16.95,
          16.95,
          14.5,
          15.5,
          14,
          15.5,
          15.5,
          15.5,
          15.75,
          15.75,
          15.95,
          14.8,
          3,
          14.95,
          15,
          12.95,
          12.95,
          13.5,
          13.5,
          13.5,
          13.5,
          11,
          10.95,
          11.95,
          11.5,
          11.95,
          11.95,
          12,
          12.25,
          12.5,
          10.95,
          10.95,
          10.95,
          10.95,
          9.75,
          9.95,
          9.95,
          9.95,
          9.995,
          10,
          10,
          9.5,
          9.5,
          8.95,
          8.95,
          8.95,
          8.95,
          8.5,
          8.5,
          8.5,
          8.75,
          8.5,
          7.95,
          7.95,
          7.95,
          8,
          8,
          8,
          8,
          7.75,
          7.5,
          7.5,
          7.65,
          7.65,
          7.75,
          7.75,
          7.75,
          7.75,
          7.495,
          7.5,
          7.5,
          7.5,
          7.5,
          7.5,
          6.95,
          6.95,
          6.995,
          7.25,
          7.25,
          7,
          7,
          7,
          7,
          6.6,
          6.6,
          6.95,
          1.2,
          6.75,
          6.75,
          6.75,
          6.8,
          6.5,
          6.5,
          6.5,
          6.5,
          6.5,
          6.5
         ],
         "yaxis": "y"
        },
        {
         "hovertemplate": "propertyType=Apartment<br>pricePerSqFoot(k)=%{x}<br>price(M)=%{y}<extra></extra>",
         "legendgroup": "Apartment",
         "marker": {
          "color": "#ab63fa",
          "symbol": "circle"
         },
         "mode": "markers",
         "name": "Apartment",
         "orientation": "v",
         "showlegend": true,
         "type": "scatter",
         "x": [
          6.24,
          6.8,
          5.56,
          6.5,
          4.55,
          5.35,
          1.44,
          3.12,
          2.98,
          4.45,
          4.07,
          3.79,
          3.07,
          2.08,
          4.49,
          4.58,
          0.81,
          5.45,
          2.95,
          5.33,
          5.23,
          6.15,
          5.29,
          3.45,
          4.35,
          5.15,
          2.92,
          4.68,
          7.63,
          5.5,
          5.5,
          2.16,
          3.01,
          4.38,
          3.34,
          2.79,
          3.43,
          4.56,
          2.91,
          4.48,
          2.37,
          2.96,
          4.96,
          3.85,
          4.83,
          2.31,
          3,
          2.83,
          5.07,
          1.57,
          5,
          4,
          2.67,
          3.01,
          2.91,
          3.02,
          2.85,
          3,
          4.34,
          4.34,
          3.27,
          4.34,
          3.24,
          4.52,
          4.48,
          4.52,
          4.48,
          3.45,
          5.08,
          5.07,
          3.43,
          2.09,
          5,
          3.91,
          3.65,
          2.87,
          3.33,
          2.76,
          2.72,
          3.08,
          3.08,
          3.08,
          4.07,
          2.31,
          4.07,
          2.77,
          2.39,
          2.39,
          2.39,
          2.57,
          2.49,
          2.63,
          3.64,
          2.77,
          3.31,
          3.15,
          1.5,
          3.11,
          3.77,
          2.07,
          1.96,
          6.14,
          3.61,
          3.35,
          2.39,
          3.11,
          4.19,
          3.28,
          1.42,
          3.93,
          3.19,
          3.52,
          3.9,
          2.44,
          3.37,
          2.1,
          2.44,
          2.53,
          2.57,
          3.92,
          4.02,
          3.01,
          2.23,
          1.9,
          2.66,
          0.63,
          6.25,
          2.42,
          4.7,
          4.69,
          1.51,
          2.63,
          1.84,
          5,
          1.17,
          1.68,
          2.56,
          2.48,
          4.37,
          2.46,
          4.07,
          3.71,
          3.7,
          3.87,
          3.88,
          3.74,
          2.84,
          3.89,
          3.52,
          3.88,
          2.31,
          3.88,
          2.58,
          2.31,
          2.31,
          1.81,
          2.27,
          2.03,
          2.69,
          5.59,
          2.69,
          3.86,
          3.3,
          2.12,
          4.62,
          2.81,
          1.66,
          2.75,
          4.62,
          2.68,
          5.66,
          4.32,
          2.09,
          2.28,
          2.81,
          2.34,
          3.61,
          2.57,
          2.79,
          2.51,
          2.48,
          2.94,
          3.4,
          2.57,
          2.46,
          2.54,
          3.13,
          2.87,
          2.29,
          2.21,
          2.86,
          2.15,
          4.26,
          4.37,
          3.36,
          1.29,
          2.54,
          4.06,
          2.71,
          1.95,
          2.51,
          3.46,
          2.87,
          2.49,
          3.3,
          2.5,
          2.59
         ],
         "xaxis": "x",
         "y": [
          25,
          19.95,
          18.5,
          19,
          22.5,
          23.5,
          2.1,
          19.95,
          19.95,
          20,
          16,
          17.5,
          17.5,
          17.5,
          16,
          16.25,
          0.725,
          13.75,
          13.95,
          13.95,
          14,
          14.25,
          14,
          15.65,
          15.75,
          14.75,
          14.75,
          14.6,
          14.95,
          15,
          15,
          12.75,
          12.95,
          12.95,
          12.95,
          13,
          13.25,
          13.5,
          13.5,
          10.95,
          11,
          11.5,
          11.2,
          11.95,
          11.25,
          12,
          11.5,
          11.59,
          11.75,
          11.7,
          11.75,
          12.5,
          3.95,
          10,
          10.13,
          10.13,
          10.13,
          10.75,
          10.75,
          10.75,
          10.25,
          10.75,
          10.25,
          10.5,
          10.95,
          10.5,
          10.95,
          10.747,
          9.95,
          9.95,
          9.9,
          9.95,
          10,
          10,
          10,
          10,
          9.5,
          9.5,
          9.5,
          9.601,
          9.601,
          9.601,
          9.74,
          9.7,
          9.74,
          9.25,
          8.825,
          8.825,
          8.825,
          8.95,
          8.95,
          8.95,
          8.95,
          8.95,
          8.95,
          9,
          9,
          9,
          9,
          8.5,
          8.75,
          8.75,
          8.75,
          8.75,
          8.825,
          8.5,
          8.5,
          8.5,
          8.5,
          8.5,
          8.25,
          8.3,
          8.325,
          8.45,
          8.35,
          8.45,
          8.45,
          8.5,
          7.87,
          7.95,
          7.95,
          7.95,
          7.95,
          7.95,
          8,
          0.55,
          8,
          7.98,
          7.995,
          7.995,
          1.05,
          8.044,
          8.1,
          8.2,
          0.75,
          7.5,
          7.5,
          7.6,
          7.75,
          7.75,
          7.75,
          7.8,
          7.8,
          7.8,
          7.295,
          7.295,
          7.495,
          7.295,
          7.5,
          7.295,
          7.3,
          7.295,
          7.5,
          7.3,
          7.3,
          7.35,
          7.35,
          7.5,
          7.364,
          7.5,
          7.398,
          7.4,
          7.49,
          7.25,
          6.95,
          6.95,
          6.95,
          6.95,
          6.95,
          6.99,
          7.2,
          7.2,
          7.2,
          6.995,
          7.25,
          7.25,
          7.15,
          7.053,
          6.9,
          6.5,
          6.5,
          6.5,
          6.5,
          6.9,
          6.6,
          6.65,
          6.95,
          6.75,
          6.636,
          6.95,
          6.75,
          6.75,
          6.95,
          6.95,
          6.75,
          0.55,
          6.825,
          6.5,
          6.5,
          6.5,
          6.5,
          6.5,
          6.5,
          6.5,
          6.5,
          6.5,
          6.5
         ],
         "yaxis": "y"
        },
        {
         "hovertemplate": "propertyType=Penthouse<br>pricePerSqFoot(k)=%{x}<br>price(M)=%{y}<extra></extra>",
         "legendgroup": "Penthouse",
         "marker": {
          "color": "#FFA15A",
          "symbol": "circle"
         },
         "mode": "markers",
         "name": "Penthouse",
         "orientation": "v",
         "showlegend": true,
         "type": "scatter",
         "x": [
          4.26,
          6.04,
          4.55,
          2.06,
          2.06,
          3.5,
          5.88,
          5.95,
          1.76,
          5.28,
          2.94,
          3.32,
          4.35,
          4.5,
          5.46,
          3.56,
          1.09,
          3.43,
          7.3,
          4.5,
          2.91,
          3.04,
          3.46,
          2.81,
          3.85,
          3.82,
          1.54,
          4.36,
          3.47,
          3.47,
          3.47,
          3.47,
          2.09,
          7.21,
          2.91,
          2.87,
          3.15,
          1.66,
          2.76,
          3.9,
          3.9,
          3.33,
          3.02,
          8.48,
          1.52,
          2.88,
          3.36,
          2.86,
          1.42,
          2.58,
          2.03,
          3.77,
          2.27,
          2.13,
          1.97,
          2.66,
          4.14,
          1.49,
          1.67,
          2.26,
          1.84,
          2.69,
          2.21,
          2.84,
          1.81,
          2.79,
          4.06,
          4.06,
          2.29,
          3.67,
          3.67,
          1.68,
          2.13,
          4.25,
          7.45,
          3.43,
          3.43
         ],
         "xaxis": "x",
         "y": [
          26.5,
          19.5,
          22.5,
          19.95,
          19.95,
          20.995,
          17.5,
          17.7,
          16,
          13.95,
          14,
          14.5,
          15.75,
          13.5,
          12.65,
          12.95,
          13,
          13.25,
          13.395,
          13.5,
          13.5,
          11,
          11,
          11.5,
          11.95,
          11.5,
          12,
          10.5,
          9.9,
          9.9,
          9.9,
          9.9,
          9.95,
          9.9,
          9.95,
          9.95,
          10,
          10,
          9.601,
          9.45,
          9.45,
          9.5,
          9.601,
          8.95,
          9,
          8.625,
          8.75,
          8.75,
          8.5,
          8.25,
          8.25,
          7.92,
          7.95,
          7.95,
          7.95,
          8,
          7.95,
          8,
          8,
          7.75,
          7.5,
          7.6,
          7.75,
          7.495,
          7.35,
          7.4,
          7.15,
          7.15,
          6.636,
          6.62,
          6.62,
          6.95,
          6.95,
          6.815,
          6.5,
          6.5,
          6.5
         ],
         "yaxis": "y"
        },
        {
         "hovertemplate": "propertyType=Flat<br>pricePerSqFoot(k)=%{x}<br>price(M)=%{y}<extra></extra>",
         "legendgroup": "Flat",
         "marker": {
          "color": "#19d3f3",
          "symbol": "circle"
         },
         "mode": "markers",
         "name": "Flat",
         "orientation": "v",
         "showlegend": true,
         "type": "scatter",
         "x": [
          4.26,
          2.79,
          4.39,
          2.98,
          3.24,
          3.5,
          3.44,
          4.58,
          5.21,
          6.16,
          3.65,
          3.5,
          4.35,
          4.35,
          7.23,
          2.12,
          5.85,
          3.25,
          3.21,
          4.07,
          2.41,
          3.82,
          3.3,
          2.44,
          0.85,
          2.93,
          3.12,
          2.87,
          0.57,
          2.64,
          3.47,
          3.47,
          3.47,
          3.47,
          3.47,
          3.47,
          2.02,
          3.01,
          2.92,
          3.9,
          3.33,
          2.72,
          3.18,
          2.39,
          3.3,
          0.58,
          7.04,
          3.93,
          2.96,
          3.08,
          6.29,
          0.47,
          2.67,
          4.22,
          2.07,
          2.99,
          2.44,
          2.44,
          2.11,
          2.44,
          1.42,
          0.56,
          2.6,
          2.57,
          2.34,
          1.76,
          2.23,
          3.95,
          5.62,
          2.62,
          2.66,
          2.73,
          4.92,
          4.95,
          2.52,
          2.52,
          2.86,
          2.55,
          4.89,
          4.19,
          2.84,
          3.89,
          2.07,
          3.32,
          7.58,
          1.86,
          3.06,
          2.19,
          4.55,
          2.26,
          2.04,
          2.09,
          2.28,
          2.64,
          7.31,
          0.8,
          3.3,
          4.29,
          2.03,
          2.28,
          2.31,
          2.29,
          2.11,
          1.68,
          2.92,
          2.82,
          0.88,
          2.67,
          1.12,
          2.58,
          1.9
         ],
         "xaxis": "x",
         "y": [
          26.5,
          18.5,
          24,
          19.95,
          17.8,
          18,
          18,
          16.25,
          13.95,
          14.25,
          15.65,
          15.65,
          15.75,
          15.95,
          14.95,
          12.5,
          12.5,
          12.6,
          11,
          11,
          11,
          11.795,
          12,
          12.5,
          0.625,
          10.747,
          10.747,
          10.25,
          0.525,
          9.75,
          9.9,
          9.9,
          9.9,
          9.9,
          9.9,
          9.9,
          10,
          10,
          9.25,
          9.45,
          9.5,
          9.5,
          8.95,
          8.825,
          9,
          0.575,
          8.2,
          8.5,
          8.5,
          8.75,
          8.8,
          0.475,
          8.5,
          8.5,
          8.5,
          8.5,
          8.45,
          8.45,
          8.45,
          8.45,
          8.5,
          0.695,
          7.87,
          7.87,
          7.95,
          7.95,
          7.95,
          7.95,
          8,
          8,
          8.044,
          8.044,
          8.15,
          8.2,
          7.696,
          7.696,
          7.8,
          7.8,
          7.85,
          7.85,
          7.495,
          7.295,
          7.5,
          7.5,
          7.5,
          7.5,
          7.45,
          7.1875,
          6.95,
          6.95,
          6.995,
          7.2,
          7.25,
          7,
          7.25,
          0.845,
          6.5,
          6.595,
          6.5,
          6.6,
          6.636,
          6.636,
          6.75,
          6.95,
          6.75,
          6.815,
          0.9,
          6.5,
          1.6,
          6.5,
          6.5
         ],
         "yaxis": "y"
        }
       ],
       "layout": {
        "legend": {
         "title": {
          "text": "propertyType"
         },
         "tracegroupgap": 0
        },
        "margin": {
         "t": 60
        },
        "template": {
         "data": {
          "bar": [
           {
            "error_x": {
             "color": "#2a3f5f"
            },
            "error_y": {
             "color": "#2a3f5f"
            },
            "marker": {
             "line": {
              "color": "#E5ECF6",
              "width": 0.5
             },
             "pattern": {
              "fillmode": "overlay",
              "size": 10,
              "solidity": 0.2
             }
            },
            "type": "bar"
           }
          ],
          "barpolar": [
           {
            "marker": {
             "line": {
              "color": "#E5ECF6",
              "width": 0.5
             },
             "pattern": {
              "fillmode": "overlay",
              "size": 10,
              "solidity": 0.2
             }
            },
            "type": "barpolar"
           }
          ],
          "carpet": [
           {
            "aaxis": {
             "endlinecolor": "#2a3f5f",
             "gridcolor": "white",
             "linecolor": "white",
             "minorgridcolor": "white",
             "startlinecolor": "#2a3f5f"
            },
            "baxis": {
             "endlinecolor": "#2a3f5f",
             "gridcolor": "white",
             "linecolor": "white",
             "minorgridcolor": "white",
             "startlinecolor": "#2a3f5f"
            },
            "type": "carpet"
           }
          ],
          "choropleth": [
           {
            "colorbar": {
             "outlinewidth": 0,
             "ticks": ""
            },
            "type": "choropleth"
           }
          ],
          "contour": [
           {
            "colorbar": {
             "outlinewidth": 0,
             "ticks": ""
            },
            "colorscale": [
             [
              0,
              "#0d0887"
             ],
             [
              0.1111111111111111,
              "#46039f"
             ],
             [
              0.2222222222222222,
              "#7201a8"
             ],
             [
              0.3333333333333333,
              "#9c179e"
             ],
             [
              0.4444444444444444,
              "#bd3786"
             ],
             [
              0.5555555555555556,
              "#d8576b"
             ],
             [
              0.6666666666666666,
              "#ed7953"
             ],
             [
              0.7777777777777778,
              "#fb9f3a"
             ],
             [
              0.8888888888888888,
              "#fdca26"
             ],
             [
              1,
              "#f0f921"
             ]
            ],
            "type": "contour"
           }
          ],
          "contourcarpet": [
           {
            "colorbar": {
             "outlinewidth": 0,
             "ticks": ""
            },
            "type": "contourcarpet"
           }
          ],
          "heatmap": [
           {
            "colorbar": {
             "outlinewidth": 0,
             "ticks": ""
            },
            "colorscale": [
             [
              0,
              "#0d0887"
             ],
             [
              0.1111111111111111,
              "#46039f"
             ],
             [
              0.2222222222222222,
              "#7201a8"
             ],
             [
              0.3333333333333333,
              "#9c179e"
             ],
             [
              0.4444444444444444,
              "#bd3786"
             ],
             [
              0.5555555555555556,
              "#d8576b"
             ],
             [
              0.6666666666666666,
              "#ed7953"
             ],
             [
              0.7777777777777778,
              "#fb9f3a"
             ],
             [
              0.8888888888888888,
              "#fdca26"
             ],
             [
              1,
              "#f0f921"
             ]
            ],
            "type": "heatmap"
           }
          ],
          "heatmapgl": [
           {
            "colorbar": {
             "outlinewidth": 0,
             "ticks": ""
            },
            "colorscale": [
             [
              0,
              "#0d0887"
             ],
             [
              0.1111111111111111,
              "#46039f"
             ],
             [
              0.2222222222222222,
              "#7201a8"
             ],
             [
              0.3333333333333333,
              "#9c179e"
             ],
             [
              0.4444444444444444,
              "#bd3786"
             ],
             [
              0.5555555555555556,
              "#d8576b"
             ],
             [
              0.6666666666666666,
              "#ed7953"
             ],
             [
              0.7777777777777778,
              "#fb9f3a"
             ],
             [
              0.8888888888888888,
              "#fdca26"
             ],
             [
              1,
              "#f0f921"
             ]
            ],
            "type": "heatmapgl"
           }
          ],
          "histogram": [
           {
            "marker": {
             "pattern": {
              "fillmode": "overlay",
              "size": 10,
              "solidity": 0.2
             }
            },
            "type": "histogram"
           }
          ],
          "histogram2d": [
           {
            "colorbar": {
             "outlinewidth": 0,
             "ticks": ""
            },
            "colorscale": [
             [
              0,
              "#0d0887"
             ],
             [
              0.1111111111111111,
              "#46039f"
             ],
             [
              0.2222222222222222,
              "#7201a8"
             ],
             [
              0.3333333333333333,
              "#9c179e"
             ],
             [
              0.4444444444444444,
              "#bd3786"
             ],
             [
              0.5555555555555556,
              "#d8576b"
             ],
             [
              0.6666666666666666,
              "#ed7953"
             ],
             [
              0.7777777777777778,
              "#fb9f3a"
             ],
             [
              0.8888888888888888,
              "#fdca26"
             ],
             [
              1,
              "#f0f921"
             ]
            ],
            "type": "histogram2d"
           }
          ],
          "histogram2dcontour": [
           {
            "colorbar": {
             "outlinewidth": 0,
             "ticks": ""
            },
            "colorscale": [
             [
              0,
              "#0d0887"
             ],
             [
              0.1111111111111111,
              "#46039f"
             ],
             [
              0.2222222222222222,
              "#7201a8"
             ],
             [
              0.3333333333333333,
              "#9c179e"
             ],
             [
              0.4444444444444444,
              "#bd3786"
             ],
             [
              0.5555555555555556,
              "#d8576b"
             ],
             [
              0.6666666666666666,
              "#ed7953"
             ],
             [
              0.7777777777777778,
              "#fb9f3a"
             ],
             [
              0.8888888888888888,
              "#fdca26"
             ],
             [
              1,
              "#f0f921"
             ]
            ],
            "type": "histogram2dcontour"
           }
          ],
          "mesh3d": [
           {
            "colorbar": {
             "outlinewidth": 0,
             "ticks": ""
            },
            "type": "mesh3d"
           }
          ],
          "parcoords": [
           {
            "line": {
             "colorbar": {
              "outlinewidth": 0,
              "ticks": ""
             }
            },
            "type": "parcoords"
           }
          ],
          "pie": [
           {
            "automargin": true,
            "type": "pie"
           }
          ],
          "scatter": [
           {
            "fillpattern": {
             "fillmode": "overlay",
             "size": 10,
             "solidity": 0.2
            },
            "type": "scatter"
           }
          ],
          "scatter3d": [
           {
            "line": {
             "colorbar": {
              "outlinewidth": 0,
              "ticks": ""
             }
            },
            "marker": {
             "colorbar": {
              "outlinewidth": 0,
              "ticks": ""
             }
            },
            "type": "scatter3d"
           }
          ],
          "scattercarpet": [
           {
            "marker": {
             "colorbar": {
              "outlinewidth": 0,
              "ticks": ""
             }
            },
            "type": "scattercarpet"
           }
          ],
          "scattergeo": [
           {
            "marker": {
             "colorbar": {
              "outlinewidth": 0,
              "ticks": ""
             }
            },
            "type": "scattergeo"
           }
          ],
          "scattergl": [
           {
            "marker": {
             "colorbar": {
              "outlinewidth": 0,
              "ticks": ""
             }
            },
            "type": "scattergl"
           }
          ],
          "scattermapbox": [
           {
            "marker": {
             "colorbar": {
              "outlinewidth": 0,
              "ticks": ""
             }
            },
            "type": "scattermapbox"
           }
          ],
          "scatterpolar": [
           {
            "marker": {
             "colorbar": {
              "outlinewidth": 0,
              "ticks": ""
             }
            },
            "type": "scatterpolar"
           }
          ],
          "scatterpolargl": [
           {
            "marker": {
             "colorbar": {
              "outlinewidth": 0,
              "ticks": ""
             }
            },
            "type": "scatterpolargl"
           }
          ],
          "scatterternary": [
           {
            "marker": {
             "colorbar": {
              "outlinewidth": 0,
              "ticks": ""
             }
            },
            "type": "scatterternary"
           }
          ],
          "surface": [
           {
            "colorbar": {
             "outlinewidth": 0,
             "ticks": ""
            },
            "colorscale": [
             [
              0,
              "#0d0887"
             ],
             [
              0.1111111111111111,
              "#46039f"
             ],
             [
              0.2222222222222222,
              "#7201a8"
             ],
             [
              0.3333333333333333,
              "#9c179e"
             ],
             [
              0.4444444444444444,
              "#bd3786"
             ],
             [
              0.5555555555555556,
              "#d8576b"
             ],
             [
              0.6666666666666666,
              "#ed7953"
             ],
             [
              0.7777777777777778,
              "#fb9f3a"
             ],
             [
              0.8888888888888888,
              "#fdca26"
             ],
             [
              1,
              "#f0f921"
             ]
            ],
            "type": "surface"
           }
          ],
          "table": [
           {
            "cells": {
             "fill": {
              "color": "#EBF0F8"
             },
             "line": {
              "color": "white"
             }
            },
            "header": {
             "fill": {
              "color": "#C8D4E3"
             },
             "line": {
              "color": "white"
             }
            },
            "type": "table"
           }
          ]
         },
         "layout": {
          "annotationdefaults": {
           "arrowcolor": "#2a3f5f",
           "arrowhead": 0,
           "arrowwidth": 1
          },
          "autotypenumbers": "strict",
          "coloraxis": {
           "colorbar": {
            "outlinewidth": 0,
            "ticks": ""
           }
          },
          "colorscale": {
           "diverging": [
            [
             0,
             "#8e0152"
            ],
            [
             0.1,
             "#c51b7d"
            ],
            [
             0.2,
             "#de77ae"
            ],
            [
             0.3,
             "#f1b6da"
            ],
            [
             0.4,
             "#fde0ef"
            ],
            [
             0.5,
             "#f7f7f7"
            ],
            [
             0.6,
             "#e6f5d0"
            ],
            [
             0.7,
             "#b8e186"
            ],
            [
             0.8,
             "#7fbc41"
            ],
            [
             0.9,
             "#4d9221"
            ],
            [
             1,
             "#276419"
            ]
           ],
           "sequential": [
            [
             0,
             "#0d0887"
            ],
            [
             0.1111111111111111,
             "#46039f"
            ],
            [
             0.2222222222222222,
             "#7201a8"
            ],
            [
             0.3333333333333333,
             "#9c179e"
            ],
            [
             0.4444444444444444,
             "#bd3786"
            ],
            [
             0.5555555555555556,
             "#d8576b"
            ],
            [
             0.6666666666666666,
             "#ed7953"
            ],
            [
             0.7777777777777778,
             "#fb9f3a"
            ],
            [
             0.8888888888888888,
             "#fdca26"
            ],
            [
             1,
             "#f0f921"
            ]
           ],
           "sequentialminus": [
            [
             0,
             "#0d0887"
            ],
            [
             0.1111111111111111,
             "#46039f"
            ],
            [
             0.2222222222222222,
             "#7201a8"
            ],
            [
             0.3333333333333333,
             "#9c179e"
            ],
            [
             0.4444444444444444,
             "#bd3786"
            ],
            [
             0.5555555555555556,
             "#d8576b"
            ],
            [
             0.6666666666666666,
             "#ed7953"
            ],
            [
             0.7777777777777778,
             "#fb9f3a"
            ],
            [
             0.8888888888888888,
             "#fdca26"
            ],
            [
             1,
             "#f0f921"
            ]
           ]
          },
          "colorway": [
           "#636efa",
           "#EF553B",
           "#00cc96",
           "#ab63fa",
           "#FFA15A",
           "#19d3f3",
           "#FF6692",
           "#B6E880",
           "#FF97FF",
           "#FECB52"
          ],
          "font": {
           "color": "#2a3f5f"
          },
          "geo": {
           "bgcolor": "white",
           "lakecolor": "white",
           "landcolor": "#E5ECF6",
           "showlakes": true,
           "showland": true,
           "subunitcolor": "white"
          },
          "hoverlabel": {
           "align": "left"
          },
          "hovermode": "closest",
          "mapbox": {
           "style": "light"
          },
          "paper_bgcolor": "white",
          "plot_bgcolor": "#E5ECF6",
          "polar": {
           "angularaxis": {
            "gridcolor": "white",
            "linecolor": "white",
            "ticks": ""
           },
           "bgcolor": "#E5ECF6",
           "radialaxis": {
            "gridcolor": "white",
            "linecolor": "white",
            "ticks": ""
           }
          },
          "scene": {
           "xaxis": {
            "backgroundcolor": "#E5ECF6",
            "gridcolor": "white",
            "gridwidth": 2,
            "linecolor": "white",
            "showbackground": true,
            "ticks": "",
            "zerolinecolor": "white"
           },
           "yaxis": {
            "backgroundcolor": "#E5ECF6",
            "gridcolor": "white",
            "gridwidth": 2,
            "linecolor": "white",
            "showbackground": true,
            "ticks": "",
            "zerolinecolor": "white"
           },
           "zaxis": {
            "backgroundcolor": "#E5ECF6",
            "gridcolor": "white",
            "gridwidth": 2,
            "linecolor": "white",
            "showbackground": true,
            "ticks": "",
            "zerolinecolor": "white"
           }
          },
          "shapedefaults": {
           "line": {
            "color": "#2a3f5f"
           }
          },
          "ternary": {
           "aaxis": {
            "gridcolor": "white",
            "linecolor": "white",
            "ticks": ""
           },
           "baxis": {
            "gridcolor": "white",
            "linecolor": "white",
            "ticks": ""
           },
           "bgcolor": "#E5ECF6",
           "caxis": {
            "gridcolor": "white",
            "linecolor": "white",
            "ticks": ""
           }
          },
          "title": {
           "x": 0.05
          },
          "xaxis": {
           "automargin": true,
           "gridcolor": "white",
           "linecolor": "white",
           "ticks": "",
           "title": {
            "standoff": 15
           },
           "zerolinecolor": "white",
           "zerolinewidth": 2
          },
          "yaxis": {
           "automargin": true,
           "gridcolor": "white",
           "linecolor": "white",
           "ticks": "",
           "title": {
            "standoff": 15
           },
           "zerolinecolor": "white",
           "zerolinewidth": 2
          }
         }
        },
        "xaxis": {
         "anchor": "y",
         "domain": [
          0,
          1
         ],
         "title": {
          "text": "pricePerSqFoot(k)"
         }
        },
        "yaxis": {
         "anchor": "x",
         "domain": [
          0,
          1
         ],
         "title": {
          "text": "price(M)"
         }
        }
       }
      }
     },
     "metadata": {},
     "output_type": "display_data"
    }
   ],
   "source": [
    "fig = px.scatter(subset, y=\"price(M)\", x=\"pricePerSqFoot(k)\", color=\"propertyType\")\n",
    "fig.show()"
   ]
  },
  {
   "cell_type": "markdown",
   "metadata": {},
   "source": [
    "##### propertyGlobalType"
   ]
  },
  {
   "cell_type": "code",
   "execution_count": 107,
   "metadata": {},
   "outputs": [
    {
     "data": {
      "application/vnd.plotly.v1+json": {
       "config": {
        "plotlyServerURL": "https://plot.ly"
       },
       "data": [
        {
         "hovertemplate": "propertyGlobalType=House<br>pricePerSqFoot(k)=%{x}<br>price(M)=%{y}<extra></extra>",
         "legendgroup": "House",
         "marker": {
          "color": "#636efa",
          "symbol": "circle"
         },
         "mode": "markers",
         "name": "House",
         "orientation": "v",
         "showlegend": true,
         "type": "scatter",
         "x": [
          1.49,
          2.28,
          3.6,
          1.49,
          2.44,
          3.69,
          3.28,
          2.71,
          4.16,
          1.98,
          4.16,
          3.79,
          2.3,
          3.79,
          2.28,
          1.59,
          1.92,
          3.84,
          5.37,
          3.61,
          1.75,
          2.54,
          2.54,
          4.2,
          2.84,
          3.6,
          3.1,
          3.16,
          4.05,
          3.11,
          3.77,
          2.03,
          3.11,
          3.11,
          1.98,
          2.56,
          4.31,
          3.04,
          3.34,
          3.38,
          1.85,
          2.73,
          3.11,
          2.97,
          2.93,
          3.05,
          1.49,
          3.19,
          4.12,
          1.93,
          1.93,
          2.32,
          2.41,
          3.12,
          2.69,
          3.23,
          1.9,
          1.88,
          0.83,
          2.33,
          3.43,
          3.39,
          2.52,
          2.16,
          2.62,
          2.16,
          2.78,
          2.79,
          2.61,
          3.5,
          2.79,
          1.44,
          1.54,
          2.95,
          3.37,
          3.37,
          1.93,
          2.78,
          2.15,
          2.99,
          2.78,
          1.35,
          1.32,
          1.54,
          2.26,
          2.26,
          1.97,
          2.53,
          2.13,
          2.2,
          2.22,
          2.55,
          0.81,
          1.73,
          1.73,
          1.36,
          2.66,
          2.47,
          2.27,
          2.36,
          2.64,
          1.13,
          1.89,
          2.88,
          2.59,
          2.32,
          1.9,
          1.86,
          2.88,
          2.32,
          2.69,
          2.69,
          1.38,
          2.57,
          1.31,
          1.38,
          1.18,
          2.51,
          2.37,
          3.33,
          2.2,
          2.29,
          0.98,
          2.75,
          2.17,
          1.35,
          1.45,
          2.75,
          2.73,
          3.47,
          1.45,
          0.81,
          2.86,
          2.73,
          2.75,
          2.39,
          2.93,
          3.47,
          1.33,
          2.71,
          3.04,
          1.09,
          2.3,
          1.03,
          2.29,
          1.28,
          2.59,
          1.78,
          2.43,
          2.5,
          2.51,
          1.98,
          2.07,
          3.1,
          1.7,
          3.46,
          1.96,
          1.94,
          3.46,
          2.3,
          2.37,
          2.08,
          2.51,
          1.25,
          0.87,
          3.13,
          2.15,
          2.42,
          0.84,
          2.42,
          1.6,
          1.8,
          0.97,
          2.44,
          2.38,
          2.38,
          1.82,
          2.34,
          1.13,
          1.37,
          1.65,
          1.27,
          2.27,
          2.27,
          3.42,
          2.57,
          3.14,
          1.77,
          1.84,
          1.87,
          1.97,
          2.88,
          1.97,
          1.74,
          2.06,
          1.74,
          2,
          2.65,
          1.39,
          1.17,
          1.3,
          0.71,
          1.46,
          1.96,
          3.29,
          1.96,
          3.07,
          2.34,
          3.07,
          1.87,
          1.71,
          2.15,
          1.55,
          2.45,
          1.38,
          2.22,
          0.58,
          2.24,
          2.43,
          2.01,
          1.31,
          2.66,
          1.73,
          2.01,
          1.86,
          2.83,
          2.34,
          1.11,
          1.16,
          2.5,
          2.56,
          2.48,
          1.45,
          1.44,
          2.34,
          2.34,
          1.79,
          0.78,
          2.19,
          2.12,
          2.83,
          1.77,
          1.86,
          1.86,
          0.79,
          0.78,
          2.73,
          2.6,
          1.22,
          1.83,
          0.6,
          1.88,
          0.6,
          1.23,
          1.01,
          2.33,
          0.99,
          1,
          1.36,
          1.36,
          2.09,
          1.22,
          2.36,
          2.32,
          2.06,
          1.94,
          1.32,
          1.64,
          2.38,
          1.17,
          1.57,
          2.15,
          1.14,
          1.05,
          1.63,
          0.6,
          2.42,
          1.01,
          0.54,
          3.57,
          2.14,
          1.67,
          1.99,
          2.31,
          1.12,
          1.83,
          1.72,
          2.12,
          0.82,
          1.07,
          1.03,
          0.8,
          3.69,
          1.34,
          1.07,
          1.91,
          2.27,
          2.27,
          0.93,
          1.94,
          2.4,
          1.13,
          1.77,
          2.1,
          1.72,
          2,
          2.26,
          1.61,
          1.2,
          2,
          1.23,
          1.45,
          2.41,
          0.79,
          1.47,
          1.67,
          1.74,
          0.47,
          0.95,
          1.86,
          0.88,
          2.08,
          1.41,
          1.92,
          2.23,
          0.97,
          1.83,
          2.22,
          1.7,
          2.77,
          1.39,
          1.37,
          1.3,
          1.56,
          1.67,
          1.62,
          2.73,
          0.98,
          2.76,
          0.44
         ],
         "xaxis": "x",
         "y": [
          24.95,
          29.5,
          25,
          24.95,
          24.95,
          25,
          25,
          25,
          25,
          25,
          25,
          28,
          29.5,
          28,
          29.5,
          29.95,
          29.95,
          29.975,
          30,
          30,
          32,
          30,
          30,
          38,
          45,
          47,
          65,
          18.25,
          18.8,
          18.95,
          18.95,
          18.95,
          18.95,
          18.95,
          19.5,
          19.75,
          21.95,
          22,
          22.5,
          22.5,
          22.95,
          23,
          23.5,
          23.95,
          24,
          24,
          24.95,
          19.95,
          20,
          20,
          20,
          21.5,
          17,
          17.5,
          17.5,
          17.95,
          17.95,
          17.95,
          1.85,
          16,
          16,
          16,
          16.5,
          16.5,
          16.75,
          16.5,
          16.75,
          16.95,
          16.95,
          16.95,
          16.95,
          14.5,
          15.5,
          13.75,
          13.85,
          13.85,
          13.95,
          14,
          13.95,
          14,
          14,
          15.5,
          15.5,
          15.5,
          15.75,
          15.75,
          15.95,
          15.95,
          15.95,
          15.95,
          14.8,
          15.95,
          3,
          14.95,
          14.95,
          15,
          14.95,
          15,
          15,
          15,
          12.5,
          12.95,
          12.95,
          12.95,
          12.95,
          12.95,
          12.95,
          12.95,
          12.95,
          12.95,
          13.5,
          13.5,
          13.5,
          13.5,
          13.5,
          13.5,
          11,
          10.95,
          10.95,
          10.99,
          11.95,
          11.95,
          11,
          11.5,
          11.95,
          11.5,
          11.95,
          11.5,
          11.25,
          11.5,
          11.95,
          11.95,
          11.25,
          11.25,
          11.995,
          12,
          11.25,
          11.5,
          12,
          12,
          11.9,
          12.25,
          11.95,
          12.5,
          10,
          10,
          10.75,
          10.75,
          10.25,
          10.85,
          10.5,
          10.5,
          10.95,
          10.95,
          10.95,
          10.95,
          10.5,
          10.95,
          10.95,
          10.95,
          10.95,
          10.95,
          10.95,
          10.95,
          0.795,
          10.95,
          9.95,
          9.75,
          9.75,
          9.75,
          9.95,
          9.95,
          9.95,
          9.95,
          9.95,
          9.95,
          9.95,
          9.95,
          9.975,
          9.995,
          10,
          10,
          10,
          10,
          10,
          9.25,
          9.25,
          9.35,
          9.35,
          9.5,
          9.5,
          9.5,
          9.5,
          9.5,
          9.5,
          9.5,
          9.5,
          9.65,
          3.75,
          8.95,
          8.95,
          8.95,
          8.95,
          8.95,
          8.95,
          8.95,
          8.95,
          8.995,
          8.95,
          8.99995,
          9,
          9,
          8.5,
          8.5,
          8.5,
          8.65,
          8.75,
          8.5,
          8.5,
          8.5,
          8.5,
          8.3,
          8.5,
          7.95,
          7.95,
          7.95,
          7.95,
          7.95,
          7.95,
          7.95,
          7.95,
          8,
          8,
          7.95,
          7.95,
          7.95,
          7.95,
          8,
          7.95,
          8,
          7.95,
          7.995,
          8,
          8,
          8,
          8,
          8,
          8.1,
          7.75,
          7.5,
          7.5,
          7.6,
          7.5,
          7.65,
          7.65,
          7.65,
          7.65,
          7.75,
          7.75,
          7.75,
          7.75,
          7.75,
          7.75,
          7.75,
          7.75,
          7.495,
          7.495,
          7.3,
          7.5,
          7.5,
          7.5,
          7.35,
          7.5,
          7.5,
          7.5,
          7.5,
          7.5,
          6.95,
          6.95,
          6.95,
          6.95,
          6.95,
          6.95,
          6.95,
          6.95,
          6.95,
          6.95,
          6.995,
          6.995,
          7.25,
          7.25,
          7,
          7.25,
          7,
          7.25,
          7.25,
          7.25,
          7.25,
          7,
          7,
          7.05,
          7,
          6.595,
          6.5,
          6.5,
          6.85,
          6.595,
          6.85,
          6.6,
          6.85,
          6.6,
          6.95,
          6.95,
          6.95,
          6.75,
          6.95,
          6.95,
          1.2,
          6.75,
          6.95,
          6.75,
          6.75,
          6.75,
          6.75,
          6.95,
          6.8,
          6.95,
          6.5,
          6.5,
          6.5,
          6.5,
          6.5,
          6.5,
          6.5,
          6.5,
          6.5,
          6.5,
          6.5,
          6.5,
          6.5
         ],
         "yaxis": "y"
        },
        {
         "hovertemplate": "propertyGlobalType=Flat<br>pricePerSqFoot(k)=%{x}<br>price(M)=%{y}<extra></extra>",
         "legendgroup": "Flat",
         "marker": {
          "color": "#EF553B",
          "symbol": "circle"
         },
         "mode": "markers",
         "name": "Flat",
         "orientation": "v",
         "showlegend": true,
         "type": "scatter",
         "x": [
          6.24,
          4.26,
          4.26,
          6.8,
          2.79,
          5.56,
          6.5,
          6.04,
          4.55,
          4.55,
          5.35,
          4.39,
          1.44,
          3.12,
          2.06,
          2.98,
          2.06,
          2.98,
          4.45,
          3.5,
          4.07,
          3.79,
          3.07,
          5.88,
          2.08,
          5.95,
          3.24,
          3.5,
          3.44,
          4.49,
          1.76,
          4.58,
          4.58,
          0.81,
          5.45,
          5.21,
          2.95,
          5.33,
          5.28,
          5.23,
          2.94,
          6.15,
          5.29,
          6.16,
          3.32,
          3.65,
          3.45,
          3.5,
          4.35,
          4.35,
          4.35,
          5.15,
          4.35,
          2.92,
          4.68,
          7.23,
          7.63,
          5.5,
          5.5,
          4.5,
          2.12,
          5.46,
          5.85,
          3.25,
          2.16,
          3.01,
          4.38,
          3.56,
          3.34,
          1.09,
          2.79,
          3.43,
          3.43,
          7.3,
          4.56,
          4.5,
          2.91,
          2.91,
          4.48,
          3.21,
          4.07,
          2.41,
          3.04,
          2.37,
          3.46,
          2.96,
          4.96,
          3.85,
          2.81,
          4.83,
          3.85,
          3.82,
          2.31,
          3,
          1.54,
          2.83,
          5.07,
          1.57,
          3.82,
          3.3,
          5,
          4,
          2.44,
          2.67,
          0.85,
          2.93,
          3.01,
          2.91,
          3.02,
          2.85,
          3.12,
          3,
          4.34,
          2.87,
          4.34,
          3.27,
          4.34,
          3.24,
          4.52,
          4.48,
          4.52,
          4.36,
          4.48,
          3.45,
          0.57,
          2.64,
          3.47,
          3.47,
          3.47,
          3.47,
          3.47,
          5.08,
          3.47,
          3.47,
          2.09,
          3.47,
          7.21,
          5.07,
          3.47,
          3.47,
          3.43,
          2.91,
          2.87,
          2.09,
          5,
          3.91,
          2.02,
          3.65,
          2.87,
          3.15,
          3.01,
          1.66,
          2.76,
          2.92,
          3.9,
          3.9,
          3.9,
          3.33,
          2.76,
          3.33,
          2.72,
          2.72,
          3.33,
          3.02,
          3.08,
          3.08,
          3.08,
          4.07,
          2.31,
          4.07,
          2.77,
          3.18,
          2.39,
          2.39,
          2.39,
          2.39,
          2.57,
          2.49,
          2.63,
          3.64,
          8.48,
          2.77,
          3.31,
          3.15,
          1.5,
          3.11,
          3.3,
          1.52,
          3.77,
          0.58,
          7.04,
          3.93,
          2.96,
          2.07,
          2.88,
          1.96,
          6.14,
          3.61,
          3.36,
          2.86,
          3.35,
          3.08,
          6.29,
          2.39,
          0.47,
          2.67,
          3.11,
          4.19,
          4.22,
          1.42,
          3.28,
          1.42,
          3.93,
          2.07,
          2.99,
          3.19,
          2.58,
          2.03,
          3.52,
          3.9,
          2.44,
          2.44,
          2.44,
          3.37,
          2.1,
          2.44,
          2.11,
          2.44,
          2.53,
          1.42,
          0.56,
          2.6,
          2.57,
          2.57,
          3.77,
          2.34,
          1.76,
          3.92,
          2.27,
          2.23,
          4.02,
          3.95,
          2.13,
          3.01,
          2.23,
          1.9,
          1.97,
          2.66,
          2.66,
          0.63,
          6.25,
          4.14,
          5.62,
          2.42,
          2.62,
          4.7,
          4.69,
          1.49,
          1.51,
          2.66,
          1.67,
          2.63,
          2.73,
          1.84,
          4.92,
          5,
          4.95,
          1.17,
          2.26,
          1.68,
          2.56,
          1.84,
          2.48,
          2.69,
          2.52,
          2.52,
          4.37,
          2.46,
          4.07,
          2.21,
          3.71,
          3.7,
          2.86,
          3.87,
          2.55,
          4.89,
          4.19,
          2.84,
          3.88,
          2.84,
          3.74,
          2.84,
          3.89,
          3.52,
          3.89,
          3.88,
          2.07,
          3.32,
          2.31,
          3.88,
          7.58,
          2.58,
          2.31,
          2.31,
          1.81,
          1.86,
          1.81,
          2.27,
          2.03,
          2.69,
          5.59,
          2.69,
          3.86,
          2.79,
          3.3,
          3.06,
          2.19,
          2.12,
          4.55,
          4.62,
          2.81,
          1.66,
          2.26,
          2.75,
          4.62,
          2.68,
          2.04,
          5.66,
          2.09,
          4.32,
          2.09,
          2.28,
          2.28,
          2.81,
          2.64,
          2.34,
          7.31,
          0.8,
          3.61,
          2.57,
          4.06,
          4.06,
          2.79,
          2.51,
          3.3,
          2.48,
          2.94,
          3.4,
          4.29,
          2.03,
          2.57,
          2.28,
          2.29,
          2.46,
          3.67,
          2.54,
          3.67,
          3.13,
          2.31,
          2.87,
          2.29,
          2.29,
          2.11,
          1.68,
          1.68,
          2.21,
          2.86,
          2.15,
          4.26,
          4.37,
          3.36,
          2.92,
          2.13,
          4.25,
          1.29,
          2.54,
          2.82,
          0.88,
          4.06,
          2.67,
          2.71,
          1.95,
          2.51,
          3.46,
          2.87,
          1.12,
          7.45,
          2.49,
          3.43,
          3.3,
          2.58,
          1.9,
          3.43,
          2.5,
          2.59
         ],
         "xaxis": "x",
         "y": [
          25,
          26.5,
          26.5,
          19.95,
          18.5,
          18.5,
          19,
          19.5,
          22.5,
          22.5,
          23.5,
          24,
          2.1,
          19.95,
          19.95,
          19.95,
          19.95,
          19.95,
          20,
          20.995,
          16,
          17.5,
          17.5,
          17.5,
          17.5,
          17.7,
          17.8,
          18,
          18,
          16,
          16,
          16.25,
          16.25,
          0.725,
          13.75,
          13.95,
          13.95,
          13.95,
          13.95,
          14,
          14,
          14.25,
          14,
          14.25,
          14.5,
          15.65,
          15.65,
          15.65,
          15.75,
          15.75,
          15.75,
          14.75,
          15.95,
          14.75,
          14.6,
          14.95,
          14.95,
          15,
          15,
          13.5,
          12.5,
          12.65,
          12.5,
          12.6,
          12.75,
          12.95,
          12.95,
          12.95,
          12.95,
          13,
          13,
          13.25,
          13.25,
          13.395,
          13.5,
          13.5,
          13.5,
          13.5,
          10.95,
          11,
          11,
          11,
          11,
          11,
          11,
          11.5,
          11.2,
          11.95,
          11.5,
          11.25,
          11.95,
          11.5,
          12,
          11.5,
          12,
          11.59,
          11.75,
          11.7,
          11.795,
          12,
          11.75,
          12.5,
          12.5,
          3.95,
          0.625,
          10.747,
          10,
          10.13,
          10.13,
          10.13,
          10.747,
          10.75,
          10.75,
          10.25,
          10.75,
          10.25,
          10.75,
          10.25,
          10.5,
          10.95,
          10.5,
          10.5,
          10.95,
          10.747,
          0.525,
          9.75,
          9.9,
          9.9,
          9.9,
          9.9,
          9.9,
          9.95,
          9.9,
          9.9,
          9.95,
          9.9,
          9.9,
          9.95,
          9.9,
          9.9,
          9.9,
          9.95,
          9.95,
          9.95,
          10,
          10,
          10,
          10,
          10,
          10,
          10,
          10,
          9.601,
          9.25,
          9.45,
          9.45,
          9.45,
          9.5,
          9.5,
          9.5,
          9.5,
          9.5,
          9.5,
          9.601,
          9.601,
          9.601,
          9.601,
          9.74,
          9.7,
          9.74,
          9.25,
          8.95,
          8.825,
          8.825,
          8.825,
          8.825,
          8.95,
          8.95,
          8.95,
          8.95,
          8.95,
          8.95,
          8.95,
          9,
          9,
          9,
          9,
          9,
          9,
          0.575,
          8.2,
          8.5,
          8.5,
          8.5,
          8.625,
          8.75,
          8.75,
          8.75,
          8.75,
          8.75,
          8.75,
          8.75,
          8.8,
          8.825,
          0.475,
          8.5,
          8.5,
          8.5,
          8.5,
          8.5,
          8.5,
          8.5,
          8.5,
          8.5,
          8.5,
          8.25,
          8.25,
          8.25,
          8.3,
          8.325,
          8.45,
          8.45,
          8.45,
          8.35,
          8.45,
          8.45,
          8.45,
          8.45,
          8.5,
          8.5,
          0.695,
          7.87,
          7.87,
          7.87,
          7.92,
          7.95,
          7.95,
          7.95,
          7.95,
          7.95,
          7.95,
          7.95,
          7.95,
          7.95,
          7.95,
          7.95,
          7.95,
          8,
          8,
          0.55,
          8,
          7.95,
          8,
          7.98,
          8,
          7.995,
          7.995,
          8,
          1.05,
          8.044,
          8,
          8.044,
          8.044,
          8.1,
          8.15,
          8.2,
          8.2,
          0.75,
          7.75,
          7.5,
          7.5,
          7.5,
          7.6,
          7.6,
          7.696,
          7.696,
          7.75,
          7.75,
          7.75,
          7.75,
          7.8,
          7.8,
          7.8,
          7.8,
          7.8,
          7.85,
          7.85,
          7.495,
          7.295,
          7.495,
          7.295,
          7.495,
          7.295,
          7.5,
          7.295,
          7.295,
          7.5,
          7.5,
          7.3,
          7.295,
          7.5,
          7.5,
          7.3,
          7.3,
          7.35,
          7.5,
          7.35,
          7.35,
          7.5,
          7.364,
          7.5,
          7.398,
          7.4,
          7.4,
          7.49,
          7.45,
          7.1875,
          7.25,
          6.95,
          6.95,
          6.95,
          6.95,
          6.95,
          6.95,
          6.95,
          6.99,
          6.995,
          7.2,
          7.2,
          7.2,
          7.2,
          6.995,
          7.25,
          7.25,
          7,
          7.25,
          7.25,
          0.845,
          7.15,
          7.053,
          7.15,
          7.15,
          6.9,
          6.5,
          6.5,
          6.5,
          6.5,
          6.5,
          6.595,
          6.5,
          6.9,
          6.6,
          6.636,
          6.6,
          6.62,
          6.65,
          6.62,
          6.95,
          6.636,
          6.75,
          6.636,
          6.636,
          6.75,
          6.95,
          6.95,
          6.95,
          6.75,
          6.75,
          6.95,
          6.95,
          6.75,
          6.75,
          6.95,
          6.815,
          0.55,
          6.825,
          6.815,
          0.9,
          6.5,
          6.5,
          6.5,
          6.5,
          6.5,
          6.5,
          6.5,
          1.6,
          6.5,
          6.5,
          6.5,
          6.5,
          6.5,
          6.5,
          6.5,
          6.5,
          6.5
         ],
         "yaxis": "y"
        }
       ],
       "layout": {
        "legend": {
         "title": {
          "text": "propertyGlobalType"
         },
         "tracegroupgap": 0
        },
        "margin": {
         "t": 60
        },
        "template": {
         "data": {
          "bar": [
           {
            "error_x": {
             "color": "#2a3f5f"
            },
            "error_y": {
             "color": "#2a3f5f"
            },
            "marker": {
             "line": {
              "color": "#E5ECF6",
              "width": 0.5
             },
             "pattern": {
              "fillmode": "overlay",
              "size": 10,
              "solidity": 0.2
             }
            },
            "type": "bar"
           }
          ],
          "barpolar": [
           {
            "marker": {
             "line": {
              "color": "#E5ECF6",
              "width": 0.5
             },
             "pattern": {
              "fillmode": "overlay",
              "size": 10,
              "solidity": 0.2
             }
            },
            "type": "barpolar"
           }
          ],
          "carpet": [
           {
            "aaxis": {
             "endlinecolor": "#2a3f5f",
             "gridcolor": "white",
             "linecolor": "white",
             "minorgridcolor": "white",
             "startlinecolor": "#2a3f5f"
            },
            "baxis": {
             "endlinecolor": "#2a3f5f",
             "gridcolor": "white",
             "linecolor": "white",
             "minorgridcolor": "white",
             "startlinecolor": "#2a3f5f"
            },
            "type": "carpet"
           }
          ],
          "choropleth": [
           {
            "colorbar": {
             "outlinewidth": 0,
             "ticks": ""
            },
            "type": "choropleth"
           }
          ],
          "contour": [
           {
            "colorbar": {
             "outlinewidth": 0,
             "ticks": ""
            },
            "colorscale": [
             [
              0,
              "#0d0887"
             ],
             [
              0.1111111111111111,
              "#46039f"
             ],
             [
              0.2222222222222222,
              "#7201a8"
             ],
             [
              0.3333333333333333,
              "#9c179e"
             ],
             [
              0.4444444444444444,
              "#bd3786"
             ],
             [
              0.5555555555555556,
              "#d8576b"
             ],
             [
              0.6666666666666666,
              "#ed7953"
             ],
             [
              0.7777777777777778,
              "#fb9f3a"
             ],
             [
              0.8888888888888888,
              "#fdca26"
             ],
             [
              1,
              "#f0f921"
             ]
            ],
            "type": "contour"
           }
          ],
          "contourcarpet": [
           {
            "colorbar": {
             "outlinewidth": 0,
             "ticks": ""
            },
            "type": "contourcarpet"
           }
          ],
          "heatmap": [
           {
            "colorbar": {
             "outlinewidth": 0,
             "ticks": ""
            },
            "colorscale": [
             [
              0,
              "#0d0887"
             ],
             [
              0.1111111111111111,
              "#46039f"
             ],
             [
              0.2222222222222222,
              "#7201a8"
             ],
             [
              0.3333333333333333,
              "#9c179e"
             ],
             [
              0.4444444444444444,
              "#bd3786"
             ],
             [
              0.5555555555555556,
              "#d8576b"
             ],
             [
              0.6666666666666666,
              "#ed7953"
             ],
             [
              0.7777777777777778,
              "#fb9f3a"
             ],
             [
              0.8888888888888888,
              "#fdca26"
             ],
             [
              1,
              "#f0f921"
             ]
            ],
            "type": "heatmap"
           }
          ],
          "heatmapgl": [
           {
            "colorbar": {
             "outlinewidth": 0,
             "ticks": ""
            },
            "colorscale": [
             [
              0,
              "#0d0887"
             ],
             [
              0.1111111111111111,
              "#46039f"
             ],
             [
              0.2222222222222222,
              "#7201a8"
             ],
             [
              0.3333333333333333,
              "#9c179e"
             ],
             [
              0.4444444444444444,
              "#bd3786"
             ],
             [
              0.5555555555555556,
              "#d8576b"
             ],
             [
              0.6666666666666666,
              "#ed7953"
             ],
             [
              0.7777777777777778,
              "#fb9f3a"
             ],
             [
              0.8888888888888888,
              "#fdca26"
             ],
             [
              1,
              "#f0f921"
             ]
            ],
            "type": "heatmapgl"
           }
          ],
          "histogram": [
           {
            "marker": {
             "pattern": {
              "fillmode": "overlay",
              "size": 10,
              "solidity": 0.2
             }
            },
            "type": "histogram"
           }
          ],
          "histogram2d": [
           {
            "colorbar": {
             "outlinewidth": 0,
             "ticks": ""
            },
            "colorscale": [
             [
              0,
              "#0d0887"
             ],
             [
              0.1111111111111111,
              "#46039f"
             ],
             [
              0.2222222222222222,
              "#7201a8"
             ],
             [
              0.3333333333333333,
              "#9c179e"
             ],
             [
              0.4444444444444444,
              "#bd3786"
             ],
             [
              0.5555555555555556,
              "#d8576b"
             ],
             [
              0.6666666666666666,
              "#ed7953"
             ],
             [
              0.7777777777777778,
              "#fb9f3a"
             ],
             [
              0.8888888888888888,
              "#fdca26"
             ],
             [
              1,
              "#f0f921"
             ]
            ],
            "type": "histogram2d"
           }
          ],
          "histogram2dcontour": [
           {
            "colorbar": {
             "outlinewidth": 0,
             "ticks": ""
            },
            "colorscale": [
             [
              0,
              "#0d0887"
             ],
             [
              0.1111111111111111,
              "#46039f"
             ],
             [
              0.2222222222222222,
              "#7201a8"
             ],
             [
              0.3333333333333333,
              "#9c179e"
             ],
             [
              0.4444444444444444,
              "#bd3786"
             ],
             [
              0.5555555555555556,
              "#d8576b"
             ],
             [
              0.6666666666666666,
              "#ed7953"
             ],
             [
              0.7777777777777778,
              "#fb9f3a"
             ],
             [
              0.8888888888888888,
              "#fdca26"
             ],
             [
              1,
              "#f0f921"
             ]
            ],
            "type": "histogram2dcontour"
           }
          ],
          "mesh3d": [
           {
            "colorbar": {
             "outlinewidth": 0,
             "ticks": ""
            },
            "type": "mesh3d"
           }
          ],
          "parcoords": [
           {
            "line": {
             "colorbar": {
              "outlinewidth": 0,
              "ticks": ""
             }
            },
            "type": "parcoords"
           }
          ],
          "pie": [
           {
            "automargin": true,
            "type": "pie"
           }
          ],
          "scatter": [
           {
            "fillpattern": {
             "fillmode": "overlay",
             "size": 10,
             "solidity": 0.2
            },
            "type": "scatter"
           }
          ],
          "scatter3d": [
           {
            "line": {
             "colorbar": {
              "outlinewidth": 0,
              "ticks": ""
             }
            },
            "marker": {
             "colorbar": {
              "outlinewidth": 0,
              "ticks": ""
             }
            },
            "type": "scatter3d"
           }
          ],
          "scattercarpet": [
           {
            "marker": {
             "colorbar": {
              "outlinewidth": 0,
              "ticks": ""
             }
            },
            "type": "scattercarpet"
           }
          ],
          "scattergeo": [
           {
            "marker": {
             "colorbar": {
              "outlinewidth": 0,
              "ticks": ""
             }
            },
            "type": "scattergeo"
           }
          ],
          "scattergl": [
           {
            "marker": {
             "colorbar": {
              "outlinewidth": 0,
              "ticks": ""
             }
            },
            "type": "scattergl"
           }
          ],
          "scattermapbox": [
           {
            "marker": {
             "colorbar": {
              "outlinewidth": 0,
              "ticks": ""
             }
            },
            "type": "scattermapbox"
           }
          ],
          "scatterpolar": [
           {
            "marker": {
             "colorbar": {
              "outlinewidth": 0,
              "ticks": ""
             }
            },
            "type": "scatterpolar"
           }
          ],
          "scatterpolargl": [
           {
            "marker": {
             "colorbar": {
              "outlinewidth": 0,
              "ticks": ""
             }
            },
            "type": "scatterpolargl"
           }
          ],
          "scatterternary": [
           {
            "marker": {
             "colorbar": {
              "outlinewidth": 0,
              "ticks": ""
             }
            },
            "type": "scatterternary"
           }
          ],
          "surface": [
           {
            "colorbar": {
             "outlinewidth": 0,
             "ticks": ""
            },
            "colorscale": [
             [
              0,
              "#0d0887"
             ],
             [
              0.1111111111111111,
              "#46039f"
             ],
             [
              0.2222222222222222,
              "#7201a8"
             ],
             [
              0.3333333333333333,
              "#9c179e"
             ],
             [
              0.4444444444444444,
              "#bd3786"
             ],
             [
              0.5555555555555556,
              "#d8576b"
             ],
             [
              0.6666666666666666,
              "#ed7953"
             ],
             [
              0.7777777777777778,
              "#fb9f3a"
             ],
             [
              0.8888888888888888,
              "#fdca26"
             ],
             [
              1,
              "#f0f921"
             ]
            ],
            "type": "surface"
           }
          ],
          "table": [
           {
            "cells": {
             "fill": {
              "color": "#EBF0F8"
             },
             "line": {
              "color": "white"
             }
            },
            "header": {
             "fill": {
              "color": "#C8D4E3"
             },
             "line": {
              "color": "white"
             }
            },
            "type": "table"
           }
          ]
         },
         "layout": {
          "annotationdefaults": {
           "arrowcolor": "#2a3f5f",
           "arrowhead": 0,
           "arrowwidth": 1
          },
          "autotypenumbers": "strict",
          "coloraxis": {
           "colorbar": {
            "outlinewidth": 0,
            "ticks": ""
           }
          },
          "colorscale": {
           "diverging": [
            [
             0,
             "#8e0152"
            ],
            [
             0.1,
             "#c51b7d"
            ],
            [
             0.2,
             "#de77ae"
            ],
            [
             0.3,
             "#f1b6da"
            ],
            [
             0.4,
             "#fde0ef"
            ],
            [
             0.5,
             "#f7f7f7"
            ],
            [
             0.6,
             "#e6f5d0"
            ],
            [
             0.7,
             "#b8e186"
            ],
            [
             0.8,
             "#7fbc41"
            ],
            [
             0.9,
             "#4d9221"
            ],
            [
             1,
             "#276419"
            ]
           ],
           "sequential": [
            [
             0,
             "#0d0887"
            ],
            [
             0.1111111111111111,
             "#46039f"
            ],
            [
             0.2222222222222222,
             "#7201a8"
            ],
            [
             0.3333333333333333,
             "#9c179e"
            ],
            [
             0.4444444444444444,
             "#bd3786"
            ],
            [
             0.5555555555555556,
             "#d8576b"
            ],
            [
             0.6666666666666666,
             "#ed7953"
            ],
            [
             0.7777777777777778,
             "#fb9f3a"
            ],
            [
             0.8888888888888888,
             "#fdca26"
            ],
            [
             1,
             "#f0f921"
            ]
           ],
           "sequentialminus": [
            [
             0,
             "#0d0887"
            ],
            [
             0.1111111111111111,
             "#46039f"
            ],
            [
             0.2222222222222222,
             "#7201a8"
            ],
            [
             0.3333333333333333,
             "#9c179e"
            ],
            [
             0.4444444444444444,
             "#bd3786"
            ],
            [
             0.5555555555555556,
             "#d8576b"
            ],
            [
             0.6666666666666666,
             "#ed7953"
            ],
            [
             0.7777777777777778,
             "#fb9f3a"
            ],
            [
             0.8888888888888888,
             "#fdca26"
            ],
            [
             1,
             "#f0f921"
            ]
           ]
          },
          "colorway": [
           "#636efa",
           "#EF553B",
           "#00cc96",
           "#ab63fa",
           "#FFA15A",
           "#19d3f3",
           "#FF6692",
           "#B6E880",
           "#FF97FF",
           "#FECB52"
          ],
          "font": {
           "color": "#2a3f5f"
          },
          "geo": {
           "bgcolor": "white",
           "lakecolor": "white",
           "landcolor": "#E5ECF6",
           "showlakes": true,
           "showland": true,
           "subunitcolor": "white"
          },
          "hoverlabel": {
           "align": "left"
          },
          "hovermode": "closest",
          "mapbox": {
           "style": "light"
          },
          "paper_bgcolor": "white",
          "plot_bgcolor": "#E5ECF6",
          "polar": {
           "angularaxis": {
            "gridcolor": "white",
            "linecolor": "white",
            "ticks": ""
           },
           "bgcolor": "#E5ECF6",
           "radialaxis": {
            "gridcolor": "white",
            "linecolor": "white",
            "ticks": ""
           }
          },
          "scene": {
           "xaxis": {
            "backgroundcolor": "#E5ECF6",
            "gridcolor": "white",
            "gridwidth": 2,
            "linecolor": "white",
            "showbackground": true,
            "ticks": "",
            "zerolinecolor": "white"
           },
           "yaxis": {
            "backgroundcolor": "#E5ECF6",
            "gridcolor": "white",
            "gridwidth": 2,
            "linecolor": "white",
            "showbackground": true,
            "ticks": "",
            "zerolinecolor": "white"
           },
           "zaxis": {
            "backgroundcolor": "#E5ECF6",
            "gridcolor": "white",
            "gridwidth": 2,
            "linecolor": "white",
            "showbackground": true,
            "ticks": "",
            "zerolinecolor": "white"
           }
          },
          "shapedefaults": {
           "line": {
            "color": "#2a3f5f"
           }
          },
          "ternary": {
           "aaxis": {
            "gridcolor": "white",
            "linecolor": "white",
            "ticks": ""
           },
           "baxis": {
            "gridcolor": "white",
            "linecolor": "white",
            "ticks": ""
           },
           "bgcolor": "#E5ECF6",
           "caxis": {
            "gridcolor": "white",
            "linecolor": "white",
            "ticks": ""
           }
          },
          "title": {
           "x": 0.05
          },
          "xaxis": {
           "automargin": true,
           "gridcolor": "white",
           "linecolor": "white",
           "ticks": "",
           "title": {
            "standoff": 15
           },
           "zerolinecolor": "white",
           "zerolinewidth": 2
          },
          "yaxis": {
           "automargin": true,
           "gridcolor": "white",
           "linecolor": "white",
           "ticks": "",
           "title": {
            "standoff": 15
           },
           "zerolinecolor": "white",
           "zerolinewidth": 2
          }
         }
        },
        "xaxis": {
         "anchor": "y",
         "domain": [
          0,
          1
         ],
         "title": {
          "text": "pricePerSqFoot(k)"
         }
        },
        "yaxis": {
         "anchor": "x",
         "domain": [
          0,
          1
         ],
         "title": {
          "text": "price(M)"
         }
        }
       }
      }
     },
     "metadata": {},
     "output_type": "display_data"
    }
   ],
   "source": [
    "fig = px.scatter(subset, y=\"price(M)\", x=\"pricePerSqFoot(k)\", color=\"propertyGlobalType\")\n",
    "fig.show()"
   ]
  },
  {
   "cell_type": "markdown",
   "metadata": {},
   "source": [
    "#### sizeSqFeetMax"
   ]
  },
  {
   "cell_type": "markdown",
   "metadata": {},
   "source": [
    "##### propertyType"
   ]
  },
  {
   "cell_type": "code",
   "execution_count": 137,
   "metadata": {
    "colab": {
     "base_uri": "https://localhost:8080/",
     "height": 542
    },
    "id": "swt8BmNk9FwY",
    "outputId": "1512b32c-f8cc-4f11-8a09-174a2cccbd92"
   },
   "outputs": [
    {
     "data": {
      "application/vnd.plotly.v1+json": {
       "config": {
        "plotlyServerURL": "https://plot.ly"
       },
       "data": [
        {
         "hovertemplate": "propertyType=House<br>sizeSqFeetMax=%{x}<br>price(M)=%{y}<extra></extra>",
         "legendgroup": "House",
         "marker": {
          "color": "#636efa",
          "symbol": "circle"
         },
         "mode": "markers",
         "name": "House",
         "orientation": "v",
         "showlegend": true,
         "type": "scatter",
         "x": [
          16749,
          12960,
          6773,
          7631,
          6007,
          7396,
          12960,
          15608,
          8304,
          13067,
          5780,
          4639,
          5027,
          6103,
          5098,
          7244,
          6730,
          6650,
          7860,
          10370,
          7065,
          6873,
          4671,
          6026,
          4112,
          7212,
          4676,
          5042,
          7262,
          8635,
          11467,
          6843,
          4500,
          5002,
          6966,
          4182,
          3310,
          3834,
          5188,
          4376,
          6459,
          911,
          3501,
          4079,
          4185,
          5479,
          4261,
          8791,
          3606,
          2944,
          5277,
          5092,
          5070,
          5450,
          4610,
          5450,
          4565,
          2717,
          4812,
          4182,
          3794,
          3500,
          4230,
          4927,
          2810,
          3393,
          10192,
          4094,
          3704,
          12809,
          3494,
          4038,
          6752,
          3788,
          2933,
          3100,
          4244,
          4800,
          3744,
          3830,
          2348,
          5006,
          2383
         ],
         "xaxis": "x",
         "y": [
          24.95,
          29.5,
          25,
          25,
          25,
          28,
          29.5,
          29.95,
          30,
          47,
          18.25,
          18.8,
          18.95,
          18.95,
          21.95,
          22,
          22.5,
          22.5,
          24,
          20,
          17,
          16,
          16,
          16.75,
          13.85,
          13.95,
          14,
          14,
          15.95,
          14.95,
          12.95,
          12.95,
          12.95,
          12.95,
          12.95,
          11.5,
          11.5,
          11.25,
          11.95,
          10,
          10.95,
          0.795,
          10.95,
          9.95,
          9.95,
          9.95,
          9.95,
          9.975,
          9.25,
          9.25,
          9.35,
          9.35,
          9.5,
          9.5,
          9.5,
          9.5,
          8.95,
          8.95,
          8.99995,
          9,
          8.5,
          8.5,
          8.5,
          8.5,
          7.95,
          7.95,
          8,
          7.5,
          7.75,
          6.95,
          6.95,
          6.95,
          7.25,
          7.25,
          7.05,
          6.5,
          6.85,
          6.95,
          6.95,
          6.5,
          6.5,
          6.5,
          6.5
         ],
         "yaxis": "y"
        },
        {
         "hovertemplate": "propertyType=Terraced<br>sizeSqFeetMax=%{x}<br>price(M)=%{y}<extra></extra>",
         "legendgroup": "Terraced",
         "marker": {
          "color": "#EF553B",
          "symbol": "circle"
         },
         "mode": "markers",
         "name": "Terraced",
         "orientation": "v",
         "showlegend": true,
         "type": "scatter",
         "x": [
          6952,
          9213,
          6007,
          12643,
          12831,
          7396,
          7798,
          9049,
          15845,
          20987,
          6103,
          6103,
          7728,
          8425,
          7550,
          8060,
          4852,
          5564,
          4724,
          7656,
          6396,
          7656,
          6504,
          4844,
          4660,
          4112,
          6477,
          6306,
          7483,
          6245,
          5624,
          6073,
          6608,
          6365,
          4736,
          6829,
          4500,
          5012,
          5012,
          4619,
          3300,
          5440,
          5212,
          11265,
          4182,
          8262,
          4122,
          3927,
          4122,
          4354,
          5017,
          3310,
          4425,
          3911,
          7842,
          4151,
          6025,
          4211,
          4332,
          4180,
          5314,
          5280,
          3169,
          5360,
          3169,
          4752,
          4619,
          5276,
          4629,
          4032,
          4032,
          4185,
          4401,
          4401,
          2924,
          3303,
          4747,
          3645,
          2689,
          6146,
          2917,
          3846,
          2917,
          5257,
          3890,
          3122,
          3951,
          4277,
          7150,
          3175,
          3100,
          3226,
          5520,
          5523,
          4445,
          3628,
          3774,
          2810,
          4511,
          2934,
          3111,
          4040,
          6236,
          3287,
          3280,
          3341,
          3763,
          3870,
          4462,
          3147,
          4775,
          3412,
          3094,
          1948,
          3254,
          4169,
          3009,
          3797,
          3295,
          8793,
          1964,
          3199,
          3199,
          3726,
          3777,
          3433,
          2921,
          3433,
          2885,
          4594,
          4169,
          3993,
          3248,
          3516,
          3115,
          3797,
          2927,
          3894,
          2357
         ],
         "xaxis": "x",
         "y": [
          25,
          25,
          25,
          25,
          29.5,
          28,
          29.975,
          38,
          45,
          65,
          18.95,
          18.95,
          19.75,
          23,
          23.5,
          23.95,
          20,
          17.95,
          16,
          16.5,
          16.75,
          16.5,
          16.95,
          16.95,
          13.75,
          13.85,
          13.95,
          15.95,
          15.95,
          15.95,
          14.95,
          15,
          15,
          15,
          12.5,
          12.95,
          12.95,
          13.5,
          13.5,
          10.95,
          10.99,
          11.95,
          11.95,
          11,
          11.5,
          11.95,
          11.25,
          11.25,
          11.25,
          11.995,
          12,
          11.5,
          12,
          11.9,
          10,
          10.75,
          10.75,
          10.25,
          10.85,
          10.5,
          10.5,
          10.95,
          10.95,
          10.5,
          10.95,
          10.95,
          10.95,
          10.95,
          9.95,
          9.75,
          9.75,
          9.95,
          10,
          10,
          10,
          9.5,
          9.5,
          9.65,
          3.75,
          8.95,
          8.95,
          8.995,
          8.95,
          9,
          8.65,
          8.3,
          7.95,
          7.95,
          7.95,
          7.95,
          7.95,
          8,
          8,
          7.95,
          7.95,
          7.95,
          8,
          7.95,
          7.995,
          8,
          8.1,
          7.6,
          7.65,
          7.65,
          7.75,
          7.75,
          7.75,
          7.495,
          7.3,
          7.5,
          7.5,
          7.35,
          7.5,
          6.95,
          6.95,
          6.95,
          6.95,
          6.95,
          6.995,
          7,
          7.25,
          7.25,
          7.25,
          6.595,
          6.5,
          6.85,
          6.595,
          6.85,
          6.95,
          6.75,
          6.95,
          6.95,
          6.75,
          6.75,
          6.95,
          6.95,
          6.5,
          6.5,
          6.5
         ],
         "yaxis": "y"
        },
        {
         "hovertemplate": "propertyType=Detached<br>sizeSqFeetMax=%{x}<br>price(M)=%{y}<extra></extra>",
         "legendgroup": "Detached",
         "marker": {
          "color": "#00cc96",
          "symbol": "circle"
         },
         "mode": "markers",
         "name": "Detached",
         "orientation": "v",
         "showlegend": true,
         "type": "scatter",
         "x": [
          16749,
          10241,
          18837,
          5585,
          18238,
          11803,
          11803,
          9327,
          9858,
          12415,
          8178,
          16748,
          6261,
          10370,
          9262,
          5600,
          6497,
          9472,
          9561,
          2238,
          6544,
          6071,
          6071,
          10041,
          10086,
          5042,
          11484,
          11784,
          10086,
          6981,
          6981,
          8117,
          6659,
          3726,
          8635,
          11008,
          5579,
          5579,
          9806,
          5246,
          10333,
          9806,
          9300,
          4355,
          5517,
          8488,
          8262,
          14769,
          9031,
          11224,
          12141,
          3534,
          5649,
          4355,
          8776,
          11609,
          6228,
          5522,
          10283,
          7288,
          6065,
          7847,
          4817,
          4817,
          7661,
          6900,
          12616,
          4565,
          5497,
          3467,
          6179,
          14999,
          6500,
          3400,
          6840,
          3400,
          10228,
          4300,
          4300,
          10127,
          6344,
          12500,
          12500,
          7568,
          7754,
          7787,
          5683,
          5683,
          6344,
          5680,
          6412,
          6565,
          7150,
          4607,
          12500,
          6854,
          6181,
          8494,
          6752,
          7058,
          5210,
          7539,
          3610,
          6196,
          5515,
          5385,
          8786,
          2565,
          7091,
          7629,
          4776,
          7004,
          4684,
          4740,
          4171,
          4014,
          6600,
          14770
         ],
         "xaxis": "x",
         "y": [
          24.95,
          24.95,
          29.95,
          30,
          32,
          30,
          30,
          18.95,
          19.5,
          22.95,
          24,
          24.95,
          19.95,
          20,
          21.5,
          17.5,
          17.5,
          17.95,
          17.95,
          1.85,
          16.5,
          16.95,
          16.95,
          14.5,
          15.5,
          14,
          15.5,
          15.5,
          15.5,
          15.75,
          15.75,
          15.95,
          14.8,
          3,
          14.95,
          15,
          12.95,
          12.95,
          13.5,
          13.5,
          13.5,
          13.5,
          11,
          10.95,
          11.95,
          11.5,
          11.95,
          11.95,
          12,
          12.25,
          12.5,
          10.95,
          10.95,
          10.95,
          10.95,
          9.75,
          9.95,
          9.95,
          9.95,
          9.995,
          10,
          10,
          9.5,
          9.5,
          8.95,
          8.95,
          8.95,
          8.95,
          8.5,
          8.5,
          8.5,
          8.75,
          8.5,
          7.95,
          7.95,
          7.95,
          8,
          8,
          8,
          8,
          7.75,
          7.5,
          7.5,
          7.65,
          7.65,
          7.75,
          7.75,
          7.75,
          7.75,
          7.495,
          7.5,
          7.5,
          7.5,
          7.5,
          7.5,
          6.95,
          6.95,
          6.995,
          7.25,
          7.25,
          7,
          7,
          7,
          7,
          6.6,
          6.6,
          6.95,
          1.2,
          6.75,
          6.75,
          6.75,
          6.8,
          6.5,
          6.5,
          6.5,
          6.5,
          6.5,
          6.5
         ],
         "yaxis": "y"
        },
        {
         "hovertemplate": "propertyType=Apartment<br>sizeSqFeetMax=%{x}<br>price(M)=%{y}<extra></extra>",
         "legendgroup": "Apartment",
         "marker": {
          "color": "#ab63fa",
          "symbol": "circle"
         },
         "mode": "markers",
         "name": "Apartment",
         "orientation": "v",
         "showlegend": true,
         "type": "scatter",
         "x": [
          4004,
          2935,
          3329,
          2923,
          4944,
          4390,
          1461,
          6404,
          6705,
          4497,
          3931,
          4615,
          5693,
          8400,
          3566,
          3551,
          900,
          2524,
          4735,
          2618,
          2679,
          2317,
          2645,
          4535,
          3618,
          2865,
          5055,
          3117,
          1959,
          2726,
          2727,
          5900,
          4304,
          2958,
          3876,
          4663,
          3862,
          2958,
          4643,
          2442,
          4649,
          3887,
          2257,
          3100,
          2327,
          5189,
          3829,
          4095,
          2319,
          7468,
          2351,
          3123,
          1477,
          3324,
          3483,
          3354,
          3553,
          3580,
          2475,
          2475,
          3137,
          2475,
          3166,
          2325,
          2442,
          2325,
          2442,
          3114,
          1959,
          1963,
          2885,
          4765,
          1999,
          2558,
          2736,
          3483,
          2855,
          3443,
          3490,
          3114,
          3114,
          3114,
          2392,
          4208,
          2392,
          3345,
          3690,
          3690,
          3700,
          3486,
          3599,
          3398,
          2461,
          3228,
          2700,
          2861,
          6003,
          2891,
          2386,
          4101,
          4456,
          1425,
          2427,
          2612,
          3700,
          2734,
          2029,
          2595,
          5979,
          2163,
          2584,
          2357,
          2133,
          3466,
          2479,
          4018,
          3466,
          3360,
          3059,
          2029,
          1980,
          2637,
          3571,
          4186,
          3013,
          871,
          1280,
          3292,
          1700,
          1706,
          696,
          3059,
          4399,
          1641,
          642,
          4474,
          2926,
          3060,
          1772,
          3155,
          1902,
          2105,
          2106,
          2013,
          1878,
          1951,
          2637,
          1873,
          2133,
          1878,
          3158,
          1878,
          2905,
          3158,
          3158,
          4064,
          3234,
          3686,
          2741,
          1341,
          2746,
          1919,
          2273,
          3427,
          1504,
          2470,
          4190,
          2531,
          1504,
          2610,
          1272,
          1668,
          3446,
          3062,
          2584,
          3102,
          1980,
          2741,
          2470,
          2593,
          2622,
          2211,
          1911,
          2690,
          2678,
          2615,
          2218,
          2354,
          2900,
          3142,
          2357,
          3133,
          1632,
          1591,
          2009,
          425,
          2685,
          1600,
          2402,
          3327,
          2593,
          1877,
          2268,
          2608,
          1970,
          2601,
          2508
         ],
         "xaxis": "x",
         "y": [
          25,
          19.95,
          18.5,
          19,
          22.5,
          23.5,
          2.1,
          19.95,
          19.95,
          20,
          16,
          17.5,
          17.5,
          17.5,
          16,
          16.25,
          0.725,
          13.75,
          13.95,
          13.95,
          14,
          14.25,
          14,
          15.65,
          15.75,
          14.75,
          14.75,
          14.6,
          14.95,
          15,
          15,
          12.75,
          12.95,
          12.95,
          12.95,
          13,
          13.25,
          13.5,
          13.5,
          10.95,
          11,
          11.5,
          11.2,
          11.95,
          11.25,
          12,
          11.5,
          11.59,
          11.75,
          11.7,
          11.75,
          12.5,
          3.95,
          10,
          10.13,
          10.13,
          10.13,
          10.75,
          10.75,
          10.75,
          10.25,
          10.75,
          10.25,
          10.5,
          10.95,
          10.5,
          10.95,
          10.747,
          9.95,
          9.95,
          9.9,
          9.95,
          10,
          10,
          10,
          10,
          9.5,
          9.5,
          9.5,
          9.601,
          9.601,
          9.601,
          9.74,
          9.7,
          9.74,
          9.25,
          8.825,
          8.825,
          8.825,
          8.95,
          8.95,
          8.95,
          8.95,
          8.95,
          8.95,
          9,
          9,
          9,
          9,
          8.5,
          8.75,
          8.75,
          8.75,
          8.75,
          8.825,
          8.5,
          8.5,
          8.5,
          8.5,
          8.5,
          8.25,
          8.3,
          8.325,
          8.45,
          8.35,
          8.45,
          8.45,
          8.5,
          7.87,
          7.95,
          7.95,
          7.95,
          7.95,
          7.95,
          8,
          0.55,
          8,
          7.98,
          7.995,
          7.995,
          1.05,
          8.044,
          8.1,
          8.2,
          0.75,
          7.5,
          7.5,
          7.6,
          7.75,
          7.75,
          7.75,
          7.8,
          7.8,
          7.8,
          7.295,
          7.295,
          7.495,
          7.295,
          7.5,
          7.295,
          7.3,
          7.295,
          7.5,
          7.3,
          7.3,
          7.35,
          7.35,
          7.5,
          7.364,
          7.5,
          7.398,
          7.4,
          7.49,
          7.25,
          6.95,
          6.95,
          6.95,
          6.95,
          6.95,
          6.99,
          7.2,
          7.2,
          7.2,
          6.995,
          7.25,
          7.25,
          7.15,
          7.053,
          6.9,
          6.5,
          6.5,
          6.5,
          6.5,
          6.9,
          6.6,
          6.65,
          6.95,
          6.75,
          6.636,
          6.95,
          6.75,
          6.75,
          6.95,
          6.95,
          6.75,
          0.55,
          6.825,
          6.5,
          6.5,
          6.5,
          6.5,
          6.5,
          6.5,
          6.5,
          6.5,
          6.5,
          6.5
         ],
         "yaxis": "y"
        },
        {
         "hovertemplate": "propertyType=Penthouse<br>sizeSqFeetMax=%{x}<br>price(M)=%{y}<extra></extra>",
         "legendgroup": "Penthouse",
         "marker": {
          "color": "#FFA15A",
          "symbol": "circle"
         },
         "mode": "markers",
         "name": "Penthouse",
         "orientation": "v",
         "showlegend": true,
         "type": "scatter",
         "x": [
          6214,
          3229,
          4944,
          9677,
          9677,
          6000,
          2976,
          2976,
          9075,
          2641,
          4770,
          4372,
          3618,
          3001,
          2316,
          3637,
          11941,
          3862,
          1835,
          3001,
          4643,
          3617,
          3176,
          4096,
          3107,
          3013,
          7800,
          2410,
          2855,
          2855,
          2855,
          2850,
          4765,
          1373,
          3420,
          3467,
          3179,
          6015,
          3483,
          2425,
          2424,
          2855,
          3179,
          1055,
          5930,
          2990,
          2602,
          3060,
          5979,
          3198,
          4068,
          2103,
          3498,
          3737,
          4044,
          3012,
          1918,
          5381,
          4795,
          3423,
          4075,
          2825,
          3500,
          2637,
          4054,
          2649,
          1760,
          1760,
          2900,
          1805,
          1805,
          4137,
          3267,
          1602,
          872,
          1894,
          1894
         ],
         "xaxis": "x",
         "y": [
          26.5,
          19.5,
          22.5,
          19.95,
          19.95,
          20.995,
          17.5,
          17.7,
          16,
          13.95,
          14,
          14.5,
          15.75,
          13.5,
          12.65,
          12.95,
          13,
          13.25,
          13.395,
          13.5,
          13.5,
          11,
          11,
          11.5,
          11.95,
          11.5,
          12,
          10.5,
          9.9,
          9.9,
          9.9,
          9.9,
          9.95,
          9.9,
          9.95,
          9.95,
          10,
          10,
          9.601,
          9.45,
          9.45,
          9.5,
          9.601,
          8.95,
          9,
          8.625,
          8.75,
          8.75,
          8.5,
          8.25,
          8.25,
          7.92,
          7.95,
          7.95,
          7.95,
          8,
          7.95,
          8,
          8,
          7.75,
          7.5,
          7.6,
          7.75,
          7.495,
          7.35,
          7.4,
          7.15,
          7.15,
          6.636,
          6.62,
          6.62,
          6.95,
          6.95,
          6.815,
          6.5,
          6.5,
          6.5
         ],
         "yaxis": "y"
        },
        {
         "hovertemplate": "propertyType=Flat<br>sizeSqFeetMax=%{x}<br>price(M)=%{y}<extra></extra>",
         "legendgroup": "Flat",
         "marker": {
          "color": "#19d3f3",
          "symbol": "circle"
         },
         "mode": "markers",
         "name": "Flat",
         "orientation": "v",
         "showlegend": true,
         "type": "scatter",
         "x": [
          6214,
          6640,
          5461,
          6705,
          5499,
          5149,
          5231,
          3551,
          2680,
          2314,
          4291,
          4469,
          3618,
          3667,
          2067,
          5910,
          2135,
          3874,
          3423,
          2703,
          4558,
          3084,
          3634,
          5114,
          734,
          3664,
          3449,
          3567,
          915,
          3698,
          2855,
          2855,
          2855,
          2855,
          2855,
          2855,
          4943,
          3324,
          3165,
          2424,
          2852,
          3491,
          2814,
          3690,
          2731,
          992,
          1164,
          2163,
          2868,
          2841,
          1400,
          1012,
          3186,
          2012,
          4106,
          2842,
          3466,
          3466,
          4008,
          3466,
          5979,
          1231,
          3031,
          3057,
          3393,
          4525,
          3565,
          2014,
          1424,
          3059,
          3027,
          2949,
          1658,
          1658,
          3057,
          3059,
          2729,
          3059,
          1604,
          1873,
          2637,
          1873,
          3621,
          2261,
          990,
          4036,
          2432,
          3280,
          1528,
          3082,
          3425,
          3446,
          3175,
          2652,
          992,
          1055,
          1970,
          1537,
          3208,
          2900,
          2873,
          2900,
          3192,
          4127,
          2310,
          2418,
          1017,
          2438,
          1432,
          2521,
          3429
         ],
         "xaxis": "x",
         "y": [
          26.5,
          18.5,
          24,
          19.95,
          17.8,
          18,
          18,
          16.25,
          13.95,
          14.25,
          15.65,
          15.65,
          15.75,
          15.95,
          14.95,
          12.5,
          12.5,
          12.6,
          11,
          11,
          11,
          11.795,
          12,
          12.5,
          0.625,
          10.747,
          10.747,
          10.25,
          0.525,
          9.75,
          9.9,
          9.9,
          9.9,
          9.9,
          9.9,
          9.9,
          10,
          10,
          9.25,
          9.45,
          9.5,
          9.5,
          8.95,
          8.825,
          9,
          0.575,
          8.2,
          8.5,
          8.5,
          8.75,
          8.8,
          0.475,
          8.5,
          8.5,
          8.5,
          8.5,
          8.45,
          8.45,
          8.45,
          8.45,
          8.5,
          0.695,
          7.87,
          7.87,
          7.95,
          7.95,
          7.95,
          7.95,
          8,
          8,
          8.044,
          8.044,
          8.15,
          8.2,
          7.696,
          7.696,
          7.8,
          7.8,
          7.85,
          7.85,
          7.495,
          7.295,
          7.5,
          7.5,
          7.5,
          7.5,
          7.45,
          7.1875,
          6.95,
          6.95,
          6.995,
          7.2,
          7.25,
          7,
          7.25,
          0.845,
          6.5,
          6.595,
          6.5,
          6.6,
          6.636,
          6.636,
          6.75,
          6.95,
          6.75,
          6.815,
          0.9,
          6.5,
          1.6,
          6.5,
          6.5
         ],
         "yaxis": "y"
        }
       ],
       "layout": {
        "legend": {
         "title": {
          "text": "propertyType"
         },
         "tracegroupgap": 0
        },
        "margin": {
         "t": 60
        },
        "template": {
         "data": {
          "bar": [
           {
            "error_x": {
             "color": "#2a3f5f"
            },
            "error_y": {
             "color": "#2a3f5f"
            },
            "marker": {
             "line": {
              "color": "#E5ECF6",
              "width": 0.5
             },
             "pattern": {
              "fillmode": "overlay",
              "size": 10,
              "solidity": 0.2
             }
            },
            "type": "bar"
           }
          ],
          "barpolar": [
           {
            "marker": {
             "line": {
              "color": "#E5ECF6",
              "width": 0.5
             },
             "pattern": {
              "fillmode": "overlay",
              "size": 10,
              "solidity": 0.2
             }
            },
            "type": "barpolar"
           }
          ],
          "carpet": [
           {
            "aaxis": {
             "endlinecolor": "#2a3f5f",
             "gridcolor": "white",
             "linecolor": "white",
             "minorgridcolor": "white",
             "startlinecolor": "#2a3f5f"
            },
            "baxis": {
             "endlinecolor": "#2a3f5f",
             "gridcolor": "white",
             "linecolor": "white",
             "minorgridcolor": "white",
             "startlinecolor": "#2a3f5f"
            },
            "type": "carpet"
           }
          ],
          "choropleth": [
           {
            "colorbar": {
             "outlinewidth": 0,
             "ticks": ""
            },
            "type": "choropleth"
           }
          ],
          "contour": [
           {
            "colorbar": {
             "outlinewidth": 0,
             "ticks": ""
            },
            "colorscale": [
             [
              0,
              "#0d0887"
             ],
             [
              0.1111111111111111,
              "#46039f"
             ],
             [
              0.2222222222222222,
              "#7201a8"
             ],
             [
              0.3333333333333333,
              "#9c179e"
             ],
             [
              0.4444444444444444,
              "#bd3786"
             ],
             [
              0.5555555555555556,
              "#d8576b"
             ],
             [
              0.6666666666666666,
              "#ed7953"
             ],
             [
              0.7777777777777778,
              "#fb9f3a"
             ],
             [
              0.8888888888888888,
              "#fdca26"
             ],
             [
              1,
              "#f0f921"
             ]
            ],
            "type": "contour"
           }
          ],
          "contourcarpet": [
           {
            "colorbar": {
             "outlinewidth": 0,
             "ticks": ""
            },
            "type": "contourcarpet"
           }
          ],
          "heatmap": [
           {
            "colorbar": {
             "outlinewidth": 0,
             "ticks": ""
            },
            "colorscale": [
             [
              0,
              "#0d0887"
             ],
             [
              0.1111111111111111,
              "#46039f"
             ],
             [
              0.2222222222222222,
              "#7201a8"
             ],
             [
              0.3333333333333333,
              "#9c179e"
             ],
             [
              0.4444444444444444,
              "#bd3786"
             ],
             [
              0.5555555555555556,
              "#d8576b"
             ],
             [
              0.6666666666666666,
              "#ed7953"
             ],
             [
              0.7777777777777778,
              "#fb9f3a"
             ],
             [
              0.8888888888888888,
              "#fdca26"
             ],
             [
              1,
              "#f0f921"
             ]
            ],
            "type": "heatmap"
           }
          ],
          "heatmapgl": [
           {
            "colorbar": {
             "outlinewidth": 0,
             "ticks": ""
            },
            "colorscale": [
             [
              0,
              "#0d0887"
             ],
             [
              0.1111111111111111,
              "#46039f"
             ],
             [
              0.2222222222222222,
              "#7201a8"
             ],
             [
              0.3333333333333333,
              "#9c179e"
             ],
             [
              0.4444444444444444,
              "#bd3786"
             ],
             [
              0.5555555555555556,
              "#d8576b"
             ],
             [
              0.6666666666666666,
              "#ed7953"
             ],
             [
              0.7777777777777778,
              "#fb9f3a"
             ],
             [
              0.8888888888888888,
              "#fdca26"
             ],
             [
              1,
              "#f0f921"
             ]
            ],
            "type": "heatmapgl"
           }
          ],
          "histogram": [
           {
            "marker": {
             "pattern": {
              "fillmode": "overlay",
              "size": 10,
              "solidity": 0.2
             }
            },
            "type": "histogram"
           }
          ],
          "histogram2d": [
           {
            "colorbar": {
             "outlinewidth": 0,
             "ticks": ""
            },
            "colorscale": [
             [
              0,
              "#0d0887"
             ],
             [
              0.1111111111111111,
              "#46039f"
             ],
             [
              0.2222222222222222,
              "#7201a8"
             ],
             [
              0.3333333333333333,
              "#9c179e"
             ],
             [
              0.4444444444444444,
              "#bd3786"
             ],
             [
              0.5555555555555556,
              "#d8576b"
             ],
             [
              0.6666666666666666,
              "#ed7953"
             ],
             [
              0.7777777777777778,
              "#fb9f3a"
             ],
             [
              0.8888888888888888,
              "#fdca26"
             ],
             [
              1,
              "#f0f921"
             ]
            ],
            "type": "histogram2d"
           }
          ],
          "histogram2dcontour": [
           {
            "colorbar": {
             "outlinewidth": 0,
             "ticks": ""
            },
            "colorscale": [
             [
              0,
              "#0d0887"
             ],
             [
              0.1111111111111111,
              "#46039f"
             ],
             [
              0.2222222222222222,
              "#7201a8"
             ],
             [
              0.3333333333333333,
              "#9c179e"
             ],
             [
              0.4444444444444444,
              "#bd3786"
             ],
             [
              0.5555555555555556,
              "#d8576b"
             ],
             [
              0.6666666666666666,
              "#ed7953"
             ],
             [
              0.7777777777777778,
              "#fb9f3a"
             ],
             [
              0.8888888888888888,
              "#fdca26"
             ],
             [
              1,
              "#f0f921"
             ]
            ],
            "type": "histogram2dcontour"
           }
          ],
          "mesh3d": [
           {
            "colorbar": {
             "outlinewidth": 0,
             "ticks": ""
            },
            "type": "mesh3d"
           }
          ],
          "parcoords": [
           {
            "line": {
             "colorbar": {
              "outlinewidth": 0,
              "ticks": ""
             }
            },
            "type": "parcoords"
           }
          ],
          "pie": [
           {
            "automargin": true,
            "type": "pie"
           }
          ],
          "scatter": [
           {
            "fillpattern": {
             "fillmode": "overlay",
             "size": 10,
             "solidity": 0.2
            },
            "type": "scatter"
           }
          ],
          "scatter3d": [
           {
            "line": {
             "colorbar": {
              "outlinewidth": 0,
              "ticks": ""
             }
            },
            "marker": {
             "colorbar": {
              "outlinewidth": 0,
              "ticks": ""
             }
            },
            "type": "scatter3d"
           }
          ],
          "scattercarpet": [
           {
            "marker": {
             "colorbar": {
              "outlinewidth": 0,
              "ticks": ""
             }
            },
            "type": "scattercarpet"
           }
          ],
          "scattergeo": [
           {
            "marker": {
             "colorbar": {
              "outlinewidth": 0,
              "ticks": ""
             }
            },
            "type": "scattergeo"
           }
          ],
          "scattergl": [
           {
            "marker": {
             "colorbar": {
              "outlinewidth": 0,
              "ticks": ""
             }
            },
            "type": "scattergl"
           }
          ],
          "scattermapbox": [
           {
            "marker": {
             "colorbar": {
              "outlinewidth": 0,
              "ticks": ""
             }
            },
            "type": "scattermapbox"
           }
          ],
          "scatterpolar": [
           {
            "marker": {
             "colorbar": {
              "outlinewidth": 0,
              "ticks": ""
             }
            },
            "type": "scatterpolar"
           }
          ],
          "scatterpolargl": [
           {
            "marker": {
             "colorbar": {
              "outlinewidth": 0,
              "ticks": ""
             }
            },
            "type": "scatterpolargl"
           }
          ],
          "scatterternary": [
           {
            "marker": {
             "colorbar": {
              "outlinewidth": 0,
              "ticks": ""
             }
            },
            "type": "scatterternary"
           }
          ],
          "surface": [
           {
            "colorbar": {
             "outlinewidth": 0,
             "ticks": ""
            },
            "colorscale": [
             [
              0,
              "#0d0887"
             ],
             [
              0.1111111111111111,
              "#46039f"
             ],
             [
              0.2222222222222222,
              "#7201a8"
             ],
             [
              0.3333333333333333,
              "#9c179e"
             ],
             [
              0.4444444444444444,
              "#bd3786"
             ],
             [
              0.5555555555555556,
              "#d8576b"
             ],
             [
              0.6666666666666666,
              "#ed7953"
             ],
             [
              0.7777777777777778,
              "#fb9f3a"
             ],
             [
              0.8888888888888888,
              "#fdca26"
             ],
             [
              1,
              "#f0f921"
             ]
            ],
            "type": "surface"
           }
          ],
          "table": [
           {
            "cells": {
             "fill": {
              "color": "#EBF0F8"
             },
             "line": {
              "color": "white"
             }
            },
            "header": {
             "fill": {
              "color": "#C8D4E3"
             },
             "line": {
              "color": "white"
             }
            },
            "type": "table"
           }
          ]
         },
         "layout": {
          "annotationdefaults": {
           "arrowcolor": "#2a3f5f",
           "arrowhead": 0,
           "arrowwidth": 1
          },
          "autotypenumbers": "strict",
          "coloraxis": {
           "colorbar": {
            "outlinewidth": 0,
            "ticks": ""
           }
          },
          "colorscale": {
           "diverging": [
            [
             0,
             "#8e0152"
            ],
            [
             0.1,
             "#c51b7d"
            ],
            [
             0.2,
             "#de77ae"
            ],
            [
             0.3,
             "#f1b6da"
            ],
            [
             0.4,
             "#fde0ef"
            ],
            [
             0.5,
             "#f7f7f7"
            ],
            [
             0.6,
             "#e6f5d0"
            ],
            [
             0.7,
             "#b8e186"
            ],
            [
             0.8,
             "#7fbc41"
            ],
            [
             0.9,
             "#4d9221"
            ],
            [
             1,
             "#276419"
            ]
           ],
           "sequential": [
            [
             0,
             "#0d0887"
            ],
            [
             0.1111111111111111,
             "#46039f"
            ],
            [
             0.2222222222222222,
             "#7201a8"
            ],
            [
             0.3333333333333333,
             "#9c179e"
            ],
            [
             0.4444444444444444,
             "#bd3786"
            ],
            [
             0.5555555555555556,
             "#d8576b"
            ],
            [
             0.6666666666666666,
             "#ed7953"
            ],
            [
             0.7777777777777778,
             "#fb9f3a"
            ],
            [
             0.8888888888888888,
             "#fdca26"
            ],
            [
             1,
             "#f0f921"
            ]
           ],
           "sequentialminus": [
            [
             0,
             "#0d0887"
            ],
            [
             0.1111111111111111,
             "#46039f"
            ],
            [
             0.2222222222222222,
             "#7201a8"
            ],
            [
             0.3333333333333333,
             "#9c179e"
            ],
            [
             0.4444444444444444,
             "#bd3786"
            ],
            [
             0.5555555555555556,
             "#d8576b"
            ],
            [
             0.6666666666666666,
             "#ed7953"
            ],
            [
             0.7777777777777778,
             "#fb9f3a"
            ],
            [
             0.8888888888888888,
             "#fdca26"
            ],
            [
             1,
             "#f0f921"
            ]
           ]
          },
          "colorway": [
           "#636efa",
           "#EF553B",
           "#00cc96",
           "#ab63fa",
           "#FFA15A",
           "#19d3f3",
           "#FF6692",
           "#B6E880",
           "#FF97FF",
           "#FECB52"
          ],
          "font": {
           "color": "#2a3f5f"
          },
          "geo": {
           "bgcolor": "white",
           "lakecolor": "white",
           "landcolor": "#E5ECF6",
           "showlakes": true,
           "showland": true,
           "subunitcolor": "white"
          },
          "hoverlabel": {
           "align": "left"
          },
          "hovermode": "closest",
          "mapbox": {
           "style": "light"
          },
          "paper_bgcolor": "white",
          "plot_bgcolor": "#E5ECF6",
          "polar": {
           "angularaxis": {
            "gridcolor": "white",
            "linecolor": "white",
            "ticks": ""
           },
           "bgcolor": "#E5ECF6",
           "radialaxis": {
            "gridcolor": "white",
            "linecolor": "white",
            "ticks": ""
           }
          },
          "scene": {
           "xaxis": {
            "backgroundcolor": "#E5ECF6",
            "gridcolor": "white",
            "gridwidth": 2,
            "linecolor": "white",
            "showbackground": true,
            "ticks": "",
            "zerolinecolor": "white"
           },
           "yaxis": {
            "backgroundcolor": "#E5ECF6",
            "gridcolor": "white",
            "gridwidth": 2,
            "linecolor": "white",
            "showbackground": true,
            "ticks": "",
            "zerolinecolor": "white"
           },
           "zaxis": {
            "backgroundcolor": "#E5ECF6",
            "gridcolor": "white",
            "gridwidth": 2,
            "linecolor": "white",
            "showbackground": true,
            "ticks": "",
            "zerolinecolor": "white"
           }
          },
          "shapedefaults": {
           "line": {
            "color": "#2a3f5f"
           }
          },
          "ternary": {
           "aaxis": {
            "gridcolor": "white",
            "linecolor": "white",
            "ticks": ""
           },
           "baxis": {
            "gridcolor": "white",
            "linecolor": "white",
            "ticks": ""
           },
           "bgcolor": "#E5ECF6",
           "caxis": {
            "gridcolor": "white",
            "linecolor": "white",
            "ticks": ""
           }
          },
          "title": {
           "x": 0.05
          },
          "xaxis": {
           "automargin": true,
           "gridcolor": "white",
           "linecolor": "white",
           "ticks": "",
           "title": {
            "standoff": 15
           },
           "zerolinecolor": "white",
           "zerolinewidth": 2
          },
          "yaxis": {
           "automargin": true,
           "gridcolor": "white",
           "linecolor": "white",
           "ticks": "",
           "title": {
            "standoff": 15
           },
           "zerolinecolor": "white",
           "zerolinewidth": 2
          }
         }
        },
        "xaxis": {
         "anchor": "y",
         "domain": [
          0,
          1
         ],
         "title": {
          "text": "sizeSqFeetMax"
         }
        },
        "yaxis": {
         "anchor": "x",
         "domain": [
          0,
          1
         ],
         "title": {
          "text": "price(M)"
         }
        }
       }
      }
     },
     "metadata": {},
     "output_type": "display_data"
    }
   ],
   "source": [
    "fig = px.scatter(subset, y=\"price(M)\", x=\"sizeSqFeetMax\", color=\"propertyType\")\n",
    "fig.show()"
   ]
  },
  {
   "cell_type": "markdown",
   "metadata": {},
   "source": [
    "##### propertyGlobalType"
   ]
  },
  {
   "cell_type": "code",
   "execution_count": 138,
   "metadata": {},
   "outputs": [
    {
     "data": {
      "application/vnd.plotly.v1+json": {
       "config": {
        "plotlyServerURL": "https://plot.ly"
       },
       "data": [
        {
         "hovertemplate": "propertyGlobalType=House<br>sizeSqFeetMax=%{x}<br>price(M)=%{y}<extra></extra>",
         "legendgroup": "House",
         "marker": {
          "color": "#636efa",
          "symbol": "circle"
         },
         "mode": "markers",
         "name": "House",
         "orientation": "v",
         "showlegend": true,
         "type": "scatter",
         "x": [
          16749,
          12960,
          6952,
          16749,
          10241,
          6773,
          7631,
          9213,
          6007,
          12643,
          6007,
          7396,
          12831,
          7396,
          12960,
          18837,
          15608,
          7798,
          5585,
          8304,
          18238,
          11803,
          11803,
          9049,
          15845,
          13067,
          20987,
          5780,
          4639,
          6103,
          5027,
          9327,
          6103,
          6103,
          9858,
          7728,
          5098,
          7244,
          6730,
          6650,
          12415,
          8425,
          7550,
          8060,
          8178,
          7860,
          16748,
          6261,
          4852,
          10370,
          10370,
          9262,
          7065,
          5600,
          6497,
          5564,
          9472,
          9561,
          2238,
          6873,
          4671,
          4724,
          6544,
          7656,
          6396,
          7656,
          6026,
          6071,
          6504,
          4844,
          6071,
          10041,
          10086,
          4660,
          4112,
          4112,
          7212,
          5042,
          6477,
          4676,
          5042,
          11484,
          11784,
          10086,
          6981,
          6981,
          8117,
          6306,
          7483,
          7262,
          6659,
          6245,
          3726,
          8635,
          8635,
          11008,
          5624,
          6073,
          6608,
          6365,
          4736,
          11467,
          6843,
          4500,
          5002,
          5579,
          6829,
          6966,
          4500,
          5579,
          5012,
          5012,
          9806,
          5246,
          10333,
          9806,
          9300,
          4355,
          4619,
          3300,
          5440,
          5212,
          11265,
          4182,
          5517,
          8488,
          8262,
          4182,
          4122,
          3310,
          8262,
          14769,
          3927,
          4122,
          4354,
          5017,
          3834,
          3310,
          9031,
          4425,
          3911,
          11224,
          5188,
          12141,
          4376,
          7842,
          4151,
          6025,
          4211,
          4332,
          4180,
          5314,
          5280,
          3534,
          6459,
          3169,
          5360,
          5649,
          3169,
          4752,
          4619,
          5276,
          4355,
          8776,
          911,
          3501,
          4629,
          4032,
          11609,
          4032,
          6228,
          5522,
          10283,
          4079,
          4185,
          4185,
          5479,
          4261,
          8791,
          7288,
          6065,
          7847,
          4401,
          4401,
          2924,
          3606,
          2944,
          5277,
          5092,
          5070,
          4817,
          3303,
          4817,
          5450,
          4610,
          5450,
          4747,
          3645,
          2689,
          7661,
          6900,
          12616,
          6146,
          4565,
          2717,
          4565,
          2917,
          3846,
          2917,
          4812,
          5257,
          4182,
          5497,
          3467,
          6179,
          3890,
          14999,
          3794,
          3500,
          4230,
          6500,
          3122,
          4927,
          3951,
          4277,
          2810,
          3400,
          7150,
          6840,
          3175,
          3100,
          3226,
          5520,
          5523,
          3393,
          3400,
          4445,
          10228,
          3628,
          3774,
          2810,
          4511,
          4300,
          4300,
          10127,
          10192,
          2934,
          3111,
          6344,
          4094,
          12500,
          4040,
          12500,
          6236,
          7568,
          3287,
          7754,
          7787,
          5683,
          5683,
          3704,
          6344,
          3280,
          3341,
          3763,
          3870,
          5680,
          4462,
          3147,
          6412,
          4775,
          3412,
          6565,
          7150,
          4607,
          12500,
          3094,
          6854,
          12809,
          1948,
          3254,
          4169,
          3494,
          3009,
          6181,
          3797,
          4038,
          3295,
          8494,
          6752,
          7058,
          8793,
          1964,
          5210,
          6752,
          3788,
          3199,
          3199,
          7539,
          3610,
          2933,
          6196,
          3726,
          3100,
          3777,
          3433,
          2921,
          4244,
          5515,
          3433,
          5385,
          4800,
          2885,
          8786,
          4594,
          4169,
          3993,
          2565,
          7091,
          3744,
          7629,
          3248,
          4776,
          3516,
          3115,
          7004,
          3797,
          2927,
          3830,
          2348,
          4684,
          4740,
          5006,
          4171,
          3894,
          4014,
          2383,
          6600,
          2357,
          14770
         ],
         "xaxis": "x",
         "y": [
          24.95,
          29.5,
          25,
          24.95,
          24.95,
          25,
          25,
          25,
          25,
          25,
          25,
          28,
          29.5,
          28,
          29.5,
          29.95,
          29.95,
          29.975,
          30,
          30,
          32,
          30,
          30,
          38,
          45,
          47,
          65,
          18.25,
          18.8,
          18.95,
          18.95,
          18.95,
          18.95,
          18.95,
          19.5,
          19.75,
          21.95,
          22,
          22.5,
          22.5,
          22.95,
          23,
          23.5,
          23.95,
          24,
          24,
          24.95,
          19.95,
          20,
          20,
          20,
          21.5,
          17,
          17.5,
          17.5,
          17.95,
          17.95,
          17.95,
          1.85,
          16,
          16,
          16,
          16.5,
          16.5,
          16.75,
          16.5,
          16.75,
          16.95,
          16.95,
          16.95,
          16.95,
          14.5,
          15.5,
          13.75,
          13.85,
          13.85,
          13.95,
          14,
          13.95,
          14,
          14,
          15.5,
          15.5,
          15.5,
          15.75,
          15.75,
          15.95,
          15.95,
          15.95,
          15.95,
          14.8,
          15.95,
          3,
          14.95,
          14.95,
          15,
          14.95,
          15,
          15,
          15,
          12.5,
          12.95,
          12.95,
          12.95,
          12.95,
          12.95,
          12.95,
          12.95,
          12.95,
          12.95,
          13.5,
          13.5,
          13.5,
          13.5,
          13.5,
          13.5,
          11,
          10.95,
          10.95,
          10.99,
          11.95,
          11.95,
          11,
          11.5,
          11.95,
          11.5,
          11.95,
          11.5,
          11.25,
          11.5,
          11.95,
          11.95,
          11.25,
          11.25,
          11.995,
          12,
          11.25,
          11.5,
          12,
          12,
          11.9,
          12.25,
          11.95,
          12.5,
          10,
          10,
          10.75,
          10.75,
          10.25,
          10.85,
          10.5,
          10.5,
          10.95,
          10.95,
          10.95,
          10.95,
          10.5,
          10.95,
          10.95,
          10.95,
          10.95,
          10.95,
          10.95,
          10.95,
          0.795,
          10.95,
          9.95,
          9.75,
          9.75,
          9.75,
          9.95,
          9.95,
          9.95,
          9.95,
          9.95,
          9.95,
          9.95,
          9.95,
          9.975,
          9.995,
          10,
          10,
          10,
          10,
          10,
          9.25,
          9.25,
          9.35,
          9.35,
          9.5,
          9.5,
          9.5,
          9.5,
          9.5,
          9.5,
          9.5,
          9.5,
          9.65,
          3.75,
          8.95,
          8.95,
          8.95,
          8.95,
          8.95,
          8.95,
          8.95,
          8.95,
          8.995,
          8.95,
          8.99995,
          9,
          9,
          8.5,
          8.5,
          8.5,
          8.65,
          8.75,
          8.5,
          8.5,
          8.5,
          8.5,
          8.3,
          8.5,
          7.95,
          7.95,
          7.95,
          7.95,
          7.95,
          7.95,
          7.95,
          7.95,
          8,
          8,
          7.95,
          7.95,
          7.95,
          7.95,
          8,
          7.95,
          8,
          7.95,
          7.995,
          8,
          8,
          8,
          8,
          8,
          8.1,
          7.75,
          7.5,
          7.5,
          7.6,
          7.5,
          7.65,
          7.65,
          7.65,
          7.65,
          7.75,
          7.75,
          7.75,
          7.75,
          7.75,
          7.75,
          7.75,
          7.75,
          7.495,
          7.495,
          7.3,
          7.5,
          7.5,
          7.5,
          7.35,
          7.5,
          7.5,
          7.5,
          7.5,
          7.5,
          6.95,
          6.95,
          6.95,
          6.95,
          6.95,
          6.95,
          6.95,
          6.95,
          6.95,
          6.95,
          6.995,
          6.995,
          7.25,
          7.25,
          7,
          7.25,
          7,
          7.25,
          7.25,
          7.25,
          7.25,
          7,
          7,
          7.05,
          7,
          6.595,
          6.5,
          6.5,
          6.85,
          6.595,
          6.85,
          6.6,
          6.85,
          6.6,
          6.95,
          6.95,
          6.95,
          6.75,
          6.95,
          6.95,
          1.2,
          6.75,
          6.95,
          6.75,
          6.75,
          6.75,
          6.75,
          6.95,
          6.8,
          6.95,
          6.5,
          6.5,
          6.5,
          6.5,
          6.5,
          6.5,
          6.5,
          6.5,
          6.5,
          6.5,
          6.5,
          6.5,
          6.5
         ],
         "yaxis": "y"
        },
        {
         "hovertemplate": "propertyGlobalType=Flat<br>sizeSqFeetMax=%{x}<br>price(M)=%{y}<extra></extra>",
         "legendgroup": "Flat",
         "marker": {
          "color": "#EF553B",
          "symbol": "circle"
         },
         "mode": "markers",
         "name": "Flat",
         "orientation": "v",
         "showlegend": true,
         "type": "scatter",
         "x": [
          4004,
          6214,
          6214,
          2935,
          6640,
          3329,
          2923,
          3229,
          4944,
          4944,
          4390,
          5461,
          1461,
          6404,
          9677,
          6705,
          9677,
          6705,
          4497,
          6000,
          3931,
          4615,
          5693,
          2976,
          8400,
          2976,
          5499,
          5149,
          5231,
          3566,
          9075,
          3551,
          3551,
          900,
          2524,
          2680,
          4735,
          2618,
          2641,
          2679,
          4770,
          2317,
          2645,
          2314,
          4372,
          4291,
          4535,
          4469,
          3618,
          3618,
          3618,
          2865,
          3667,
          5055,
          3117,
          2067,
          1959,
          2726,
          2727,
          3001,
          5910,
          2316,
          2135,
          3874,
          5900,
          4304,
          2958,
          3637,
          3876,
          11941,
          4663,
          3862,
          3862,
          1835,
          2958,
          3001,
          4643,
          4643,
          2442,
          3423,
          2703,
          4558,
          3617,
          4649,
          3176,
          3887,
          2257,
          3100,
          4096,
          2327,
          3107,
          3013,
          5189,
          3829,
          7800,
          4095,
          2319,
          7468,
          3084,
          3634,
          2351,
          3123,
          5114,
          1477,
          734,
          3664,
          3324,
          3483,
          3354,
          3553,
          3449,
          3580,
          2475,
          3567,
          2475,
          3137,
          2475,
          3166,
          2325,
          2442,
          2325,
          2410,
          2442,
          3114,
          915,
          3698,
          2855,
          2855,
          2855,
          2855,
          2855,
          1959,
          2855,
          2850,
          4765,
          2855,
          1373,
          1963,
          2855,
          2855,
          2885,
          3420,
          3467,
          4765,
          1999,
          2558,
          4943,
          2736,
          3483,
          3179,
          3324,
          6015,
          3483,
          3165,
          2425,
          2424,
          2424,
          2855,
          3443,
          2852,
          3491,
          3490,
          2855,
          3179,
          3114,
          3114,
          3114,
          2392,
          4208,
          2392,
          3345,
          2814,
          3690,
          3690,
          3690,
          3700,
          3486,
          3599,
          3398,
          2461,
          1055,
          3228,
          2700,
          2861,
          6003,
          2891,
          2731,
          5930,
          2386,
          992,
          1164,
          2163,
          2868,
          4101,
          2990,
          4456,
          1425,
          2427,
          2602,
          3060,
          2612,
          2841,
          1400,
          3700,
          1012,
          3186,
          2734,
          2029,
          2012,
          5979,
          2595,
          5979,
          2163,
          4106,
          2842,
          2584,
          3198,
          4068,
          2357,
          2133,
          3466,
          3466,
          3466,
          2479,
          4018,
          3466,
          4008,
          3466,
          3360,
          5979,
          1231,
          3031,
          3057,
          3059,
          2103,
          3393,
          4525,
          2029,
          3498,
          3565,
          1980,
          2014,
          3737,
          2637,
          3571,
          4186,
          4044,
          3012,
          3013,
          871,
          1280,
          1918,
          1424,
          3292,
          3059,
          1700,
          1706,
          5381,
          696,
          3027,
          4795,
          3059,
          2949,
          4399,
          1658,
          1641,
          1658,
          642,
          3423,
          4474,
          2926,
          4075,
          3060,
          2825,
          3057,
          3059,
          1772,
          3155,
          1902,
          3500,
          2105,
          2106,
          2729,
          2013,
          3059,
          1604,
          1873,
          2637,
          1878,
          2637,
          1951,
          2637,
          1873,
          2133,
          1873,
          1878,
          3621,
          2261,
          3158,
          1878,
          990,
          2905,
          3158,
          3158,
          4054,
          4036,
          4064,
          3234,
          3686,
          2741,
          1341,
          2746,
          1919,
          2649,
          2273,
          2432,
          3280,
          3427,
          1528,
          1504,
          2470,
          4190,
          3082,
          2531,
          1504,
          2610,
          3425,
          1272,
          3446,
          1668,
          3446,
          3062,
          3175,
          2584,
          2652,
          3102,
          992,
          1055,
          1980,
          2741,
          1760,
          1760,
          2470,
          2593,
          1970,
          2622,
          2211,
          1911,
          1537,
          3208,
          2690,
          2900,
          2900,
          2678,
          1805,
          2615,
          1805,
          2218,
          2873,
          2354,
          2900,
          2900,
          3192,
          4127,
          4137,
          3142,
          2357,
          3133,
          1632,
          1591,
          2009,
          2310,
          3267,
          1602,
          425,
          2685,
          2418,
          1017,
          1600,
          2438,
          2402,
          3327,
          2593,
          1877,
          2268,
          1432,
          872,
          2608,
          1894,
          1970,
          2521,
          3429,
          1894,
          2601,
          2508
         ],
         "xaxis": "x",
         "y": [
          25,
          26.5,
          26.5,
          19.95,
          18.5,
          18.5,
          19,
          19.5,
          22.5,
          22.5,
          23.5,
          24,
          2.1,
          19.95,
          19.95,
          19.95,
          19.95,
          19.95,
          20,
          20.995,
          16,
          17.5,
          17.5,
          17.5,
          17.5,
          17.7,
          17.8,
          18,
          18,
          16,
          16,
          16.25,
          16.25,
          0.725,
          13.75,
          13.95,
          13.95,
          13.95,
          13.95,
          14,
          14,
          14.25,
          14,
          14.25,
          14.5,
          15.65,
          15.65,
          15.65,
          15.75,
          15.75,
          15.75,
          14.75,
          15.95,
          14.75,
          14.6,
          14.95,
          14.95,
          15,
          15,
          13.5,
          12.5,
          12.65,
          12.5,
          12.6,
          12.75,
          12.95,
          12.95,
          12.95,
          12.95,
          13,
          13,
          13.25,
          13.25,
          13.395,
          13.5,
          13.5,
          13.5,
          13.5,
          10.95,
          11,
          11,
          11,
          11,
          11,
          11,
          11.5,
          11.2,
          11.95,
          11.5,
          11.25,
          11.95,
          11.5,
          12,
          11.5,
          12,
          11.59,
          11.75,
          11.7,
          11.795,
          12,
          11.75,
          12.5,
          12.5,
          3.95,
          0.625,
          10.747,
          10,
          10.13,
          10.13,
          10.13,
          10.747,
          10.75,
          10.75,
          10.25,
          10.75,
          10.25,
          10.75,
          10.25,
          10.5,
          10.95,
          10.5,
          10.5,
          10.95,
          10.747,
          0.525,
          9.75,
          9.9,
          9.9,
          9.9,
          9.9,
          9.9,
          9.95,
          9.9,
          9.9,
          9.95,
          9.9,
          9.9,
          9.95,
          9.9,
          9.9,
          9.9,
          9.95,
          9.95,
          9.95,
          10,
          10,
          10,
          10,
          10,
          10,
          10,
          10,
          9.601,
          9.25,
          9.45,
          9.45,
          9.45,
          9.5,
          9.5,
          9.5,
          9.5,
          9.5,
          9.5,
          9.601,
          9.601,
          9.601,
          9.601,
          9.74,
          9.7,
          9.74,
          9.25,
          8.95,
          8.825,
          8.825,
          8.825,
          8.825,
          8.95,
          8.95,
          8.95,
          8.95,
          8.95,
          8.95,
          8.95,
          9,
          9,
          9,
          9,
          9,
          9,
          0.575,
          8.2,
          8.5,
          8.5,
          8.5,
          8.625,
          8.75,
          8.75,
          8.75,
          8.75,
          8.75,
          8.75,
          8.75,
          8.8,
          8.825,
          0.475,
          8.5,
          8.5,
          8.5,
          8.5,
          8.5,
          8.5,
          8.5,
          8.5,
          8.5,
          8.5,
          8.25,
          8.25,
          8.25,
          8.3,
          8.325,
          8.45,
          8.45,
          8.45,
          8.35,
          8.45,
          8.45,
          8.45,
          8.45,
          8.5,
          8.5,
          0.695,
          7.87,
          7.87,
          7.87,
          7.92,
          7.95,
          7.95,
          7.95,
          7.95,
          7.95,
          7.95,
          7.95,
          7.95,
          7.95,
          7.95,
          7.95,
          7.95,
          8,
          8,
          0.55,
          8,
          7.95,
          8,
          7.98,
          8,
          7.995,
          7.995,
          8,
          1.05,
          8.044,
          8,
          8.044,
          8.044,
          8.1,
          8.15,
          8.2,
          8.2,
          0.75,
          7.75,
          7.5,
          7.5,
          7.5,
          7.6,
          7.6,
          7.696,
          7.696,
          7.75,
          7.75,
          7.75,
          7.75,
          7.8,
          7.8,
          7.8,
          7.8,
          7.8,
          7.85,
          7.85,
          7.495,
          7.295,
          7.495,
          7.295,
          7.495,
          7.295,
          7.5,
          7.295,
          7.295,
          7.5,
          7.5,
          7.3,
          7.295,
          7.5,
          7.5,
          7.3,
          7.3,
          7.35,
          7.5,
          7.35,
          7.35,
          7.5,
          7.364,
          7.5,
          7.398,
          7.4,
          7.4,
          7.49,
          7.45,
          7.1875,
          7.25,
          6.95,
          6.95,
          6.95,
          6.95,
          6.95,
          6.95,
          6.95,
          6.99,
          6.995,
          7.2,
          7.2,
          7.2,
          7.2,
          6.995,
          7.25,
          7.25,
          7,
          7.25,
          7.25,
          0.845,
          7.15,
          7.053,
          7.15,
          7.15,
          6.9,
          6.5,
          6.5,
          6.5,
          6.5,
          6.5,
          6.595,
          6.5,
          6.9,
          6.6,
          6.636,
          6.6,
          6.62,
          6.65,
          6.62,
          6.95,
          6.636,
          6.75,
          6.636,
          6.636,
          6.75,
          6.95,
          6.95,
          6.95,
          6.75,
          6.75,
          6.95,
          6.95,
          6.75,
          6.75,
          6.95,
          6.815,
          0.55,
          6.825,
          6.815,
          0.9,
          6.5,
          6.5,
          6.5,
          6.5,
          6.5,
          6.5,
          6.5,
          1.6,
          6.5,
          6.5,
          6.5,
          6.5,
          6.5,
          6.5,
          6.5,
          6.5,
          6.5
         ],
         "yaxis": "y"
        }
       ],
       "layout": {
        "legend": {
         "title": {
          "text": "propertyGlobalType"
         },
         "tracegroupgap": 0
        },
        "margin": {
         "t": 60
        },
        "template": {
         "data": {
          "bar": [
           {
            "error_x": {
             "color": "#2a3f5f"
            },
            "error_y": {
             "color": "#2a3f5f"
            },
            "marker": {
             "line": {
              "color": "#E5ECF6",
              "width": 0.5
             },
             "pattern": {
              "fillmode": "overlay",
              "size": 10,
              "solidity": 0.2
             }
            },
            "type": "bar"
           }
          ],
          "barpolar": [
           {
            "marker": {
             "line": {
              "color": "#E5ECF6",
              "width": 0.5
             },
             "pattern": {
              "fillmode": "overlay",
              "size": 10,
              "solidity": 0.2
             }
            },
            "type": "barpolar"
           }
          ],
          "carpet": [
           {
            "aaxis": {
             "endlinecolor": "#2a3f5f",
             "gridcolor": "white",
             "linecolor": "white",
             "minorgridcolor": "white",
             "startlinecolor": "#2a3f5f"
            },
            "baxis": {
             "endlinecolor": "#2a3f5f",
             "gridcolor": "white",
             "linecolor": "white",
             "minorgridcolor": "white",
             "startlinecolor": "#2a3f5f"
            },
            "type": "carpet"
           }
          ],
          "choropleth": [
           {
            "colorbar": {
             "outlinewidth": 0,
             "ticks": ""
            },
            "type": "choropleth"
           }
          ],
          "contour": [
           {
            "colorbar": {
             "outlinewidth": 0,
             "ticks": ""
            },
            "colorscale": [
             [
              0,
              "#0d0887"
             ],
             [
              0.1111111111111111,
              "#46039f"
             ],
             [
              0.2222222222222222,
              "#7201a8"
             ],
             [
              0.3333333333333333,
              "#9c179e"
             ],
             [
              0.4444444444444444,
              "#bd3786"
             ],
             [
              0.5555555555555556,
              "#d8576b"
             ],
             [
              0.6666666666666666,
              "#ed7953"
             ],
             [
              0.7777777777777778,
              "#fb9f3a"
             ],
             [
              0.8888888888888888,
              "#fdca26"
             ],
             [
              1,
              "#f0f921"
             ]
            ],
            "type": "contour"
           }
          ],
          "contourcarpet": [
           {
            "colorbar": {
             "outlinewidth": 0,
             "ticks": ""
            },
            "type": "contourcarpet"
           }
          ],
          "heatmap": [
           {
            "colorbar": {
             "outlinewidth": 0,
             "ticks": ""
            },
            "colorscale": [
             [
              0,
              "#0d0887"
             ],
             [
              0.1111111111111111,
              "#46039f"
             ],
             [
              0.2222222222222222,
              "#7201a8"
             ],
             [
              0.3333333333333333,
              "#9c179e"
             ],
             [
              0.4444444444444444,
              "#bd3786"
             ],
             [
              0.5555555555555556,
              "#d8576b"
             ],
             [
              0.6666666666666666,
              "#ed7953"
             ],
             [
              0.7777777777777778,
              "#fb9f3a"
             ],
             [
              0.8888888888888888,
              "#fdca26"
             ],
             [
              1,
              "#f0f921"
             ]
            ],
            "type": "heatmap"
           }
          ],
          "heatmapgl": [
           {
            "colorbar": {
             "outlinewidth": 0,
             "ticks": ""
            },
            "colorscale": [
             [
              0,
              "#0d0887"
             ],
             [
              0.1111111111111111,
              "#46039f"
             ],
             [
              0.2222222222222222,
              "#7201a8"
             ],
             [
              0.3333333333333333,
              "#9c179e"
             ],
             [
              0.4444444444444444,
              "#bd3786"
             ],
             [
              0.5555555555555556,
              "#d8576b"
             ],
             [
              0.6666666666666666,
              "#ed7953"
             ],
             [
              0.7777777777777778,
              "#fb9f3a"
             ],
             [
              0.8888888888888888,
              "#fdca26"
             ],
             [
              1,
              "#f0f921"
             ]
            ],
            "type": "heatmapgl"
           }
          ],
          "histogram": [
           {
            "marker": {
             "pattern": {
              "fillmode": "overlay",
              "size": 10,
              "solidity": 0.2
             }
            },
            "type": "histogram"
           }
          ],
          "histogram2d": [
           {
            "colorbar": {
             "outlinewidth": 0,
             "ticks": ""
            },
            "colorscale": [
             [
              0,
              "#0d0887"
             ],
             [
              0.1111111111111111,
              "#46039f"
             ],
             [
              0.2222222222222222,
              "#7201a8"
             ],
             [
              0.3333333333333333,
              "#9c179e"
             ],
             [
              0.4444444444444444,
              "#bd3786"
             ],
             [
              0.5555555555555556,
              "#d8576b"
             ],
             [
              0.6666666666666666,
              "#ed7953"
             ],
             [
              0.7777777777777778,
              "#fb9f3a"
             ],
             [
              0.8888888888888888,
              "#fdca26"
             ],
             [
              1,
              "#f0f921"
             ]
            ],
            "type": "histogram2d"
           }
          ],
          "histogram2dcontour": [
           {
            "colorbar": {
             "outlinewidth": 0,
             "ticks": ""
            },
            "colorscale": [
             [
              0,
              "#0d0887"
             ],
             [
              0.1111111111111111,
              "#46039f"
             ],
             [
              0.2222222222222222,
              "#7201a8"
             ],
             [
              0.3333333333333333,
              "#9c179e"
             ],
             [
              0.4444444444444444,
              "#bd3786"
             ],
             [
              0.5555555555555556,
              "#d8576b"
             ],
             [
              0.6666666666666666,
              "#ed7953"
             ],
             [
              0.7777777777777778,
              "#fb9f3a"
             ],
             [
              0.8888888888888888,
              "#fdca26"
             ],
             [
              1,
              "#f0f921"
             ]
            ],
            "type": "histogram2dcontour"
           }
          ],
          "mesh3d": [
           {
            "colorbar": {
             "outlinewidth": 0,
             "ticks": ""
            },
            "type": "mesh3d"
           }
          ],
          "parcoords": [
           {
            "line": {
             "colorbar": {
              "outlinewidth": 0,
              "ticks": ""
             }
            },
            "type": "parcoords"
           }
          ],
          "pie": [
           {
            "automargin": true,
            "type": "pie"
           }
          ],
          "scatter": [
           {
            "fillpattern": {
             "fillmode": "overlay",
             "size": 10,
             "solidity": 0.2
            },
            "type": "scatter"
           }
          ],
          "scatter3d": [
           {
            "line": {
             "colorbar": {
              "outlinewidth": 0,
              "ticks": ""
             }
            },
            "marker": {
             "colorbar": {
              "outlinewidth": 0,
              "ticks": ""
             }
            },
            "type": "scatter3d"
           }
          ],
          "scattercarpet": [
           {
            "marker": {
             "colorbar": {
              "outlinewidth": 0,
              "ticks": ""
             }
            },
            "type": "scattercarpet"
           }
          ],
          "scattergeo": [
           {
            "marker": {
             "colorbar": {
              "outlinewidth": 0,
              "ticks": ""
             }
            },
            "type": "scattergeo"
           }
          ],
          "scattergl": [
           {
            "marker": {
             "colorbar": {
              "outlinewidth": 0,
              "ticks": ""
             }
            },
            "type": "scattergl"
           }
          ],
          "scattermapbox": [
           {
            "marker": {
             "colorbar": {
              "outlinewidth": 0,
              "ticks": ""
             }
            },
            "type": "scattermapbox"
           }
          ],
          "scatterpolar": [
           {
            "marker": {
             "colorbar": {
              "outlinewidth": 0,
              "ticks": ""
             }
            },
            "type": "scatterpolar"
           }
          ],
          "scatterpolargl": [
           {
            "marker": {
             "colorbar": {
              "outlinewidth": 0,
              "ticks": ""
             }
            },
            "type": "scatterpolargl"
           }
          ],
          "scatterternary": [
           {
            "marker": {
             "colorbar": {
              "outlinewidth": 0,
              "ticks": ""
             }
            },
            "type": "scatterternary"
           }
          ],
          "surface": [
           {
            "colorbar": {
             "outlinewidth": 0,
             "ticks": ""
            },
            "colorscale": [
             [
              0,
              "#0d0887"
             ],
             [
              0.1111111111111111,
              "#46039f"
             ],
             [
              0.2222222222222222,
              "#7201a8"
             ],
             [
              0.3333333333333333,
              "#9c179e"
             ],
             [
              0.4444444444444444,
              "#bd3786"
             ],
             [
              0.5555555555555556,
              "#d8576b"
             ],
             [
              0.6666666666666666,
              "#ed7953"
             ],
             [
              0.7777777777777778,
              "#fb9f3a"
             ],
             [
              0.8888888888888888,
              "#fdca26"
             ],
             [
              1,
              "#f0f921"
             ]
            ],
            "type": "surface"
           }
          ],
          "table": [
           {
            "cells": {
             "fill": {
              "color": "#EBF0F8"
             },
             "line": {
              "color": "white"
             }
            },
            "header": {
             "fill": {
              "color": "#C8D4E3"
             },
             "line": {
              "color": "white"
             }
            },
            "type": "table"
           }
          ]
         },
         "layout": {
          "annotationdefaults": {
           "arrowcolor": "#2a3f5f",
           "arrowhead": 0,
           "arrowwidth": 1
          },
          "autotypenumbers": "strict",
          "coloraxis": {
           "colorbar": {
            "outlinewidth": 0,
            "ticks": ""
           }
          },
          "colorscale": {
           "diverging": [
            [
             0,
             "#8e0152"
            ],
            [
             0.1,
             "#c51b7d"
            ],
            [
             0.2,
             "#de77ae"
            ],
            [
             0.3,
             "#f1b6da"
            ],
            [
             0.4,
             "#fde0ef"
            ],
            [
             0.5,
             "#f7f7f7"
            ],
            [
             0.6,
             "#e6f5d0"
            ],
            [
             0.7,
             "#b8e186"
            ],
            [
             0.8,
             "#7fbc41"
            ],
            [
             0.9,
             "#4d9221"
            ],
            [
             1,
             "#276419"
            ]
           ],
           "sequential": [
            [
             0,
             "#0d0887"
            ],
            [
             0.1111111111111111,
             "#46039f"
            ],
            [
             0.2222222222222222,
             "#7201a8"
            ],
            [
             0.3333333333333333,
             "#9c179e"
            ],
            [
             0.4444444444444444,
             "#bd3786"
            ],
            [
             0.5555555555555556,
             "#d8576b"
            ],
            [
             0.6666666666666666,
             "#ed7953"
            ],
            [
             0.7777777777777778,
             "#fb9f3a"
            ],
            [
             0.8888888888888888,
             "#fdca26"
            ],
            [
             1,
             "#f0f921"
            ]
           ],
           "sequentialminus": [
            [
             0,
             "#0d0887"
            ],
            [
             0.1111111111111111,
             "#46039f"
            ],
            [
             0.2222222222222222,
             "#7201a8"
            ],
            [
             0.3333333333333333,
             "#9c179e"
            ],
            [
             0.4444444444444444,
             "#bd3786"
            ],
            [
             0.5555555555555556,
             "#d8576b"
            ],
            [
             0.6666666666666666,
             "#ed7953"
            ],
            [
             0.7777777777777778,
             "#fb9f3a"
            ],
            [
             0.8888888888888888,
             "#fdca26"
            ],
            [
             1,
             "#f0f921"
            ]
           ]
          },
          "colorway": [
           "#636efa",
           "#EF553B",
           "#00cc96",
           "#ab63fa",
           "#FFA15A",
           "#19d3f3",
           "#FF6692",
           "#B6E880",
           "#FF97FF",
           "#FECB52"
          ],
          "font": {
           "color": "#2a3f5f"
          },
          "geo": {
           "bgcolor": "white",
           "lakecolor": "white",
           "landcolor": "#E5ECF6",
           "showlakes": true,
           "showland": true,
           "subunitcolor": "white"
          },
          "hoverlabel": {
           "align": "left"
          },
          "hovermode": "closest",
          "mapbox": {
           "style": "light"
          },
          "paper_bgcolor": "white",
          "plot_bgcolor": "#E5ECF6",
          "polar": {
           "angularaxis": {
            "gridcolor": "white",
            "linecolor": "white",
            "ticks": ""
           },
           "bgcolor": "#E5ECF6",
           "radialaxis": {
            "gridcolor": "white",
            "linecolor": "white",
            "ticks": ""
           }
          },
          "scene": {
           "xaxis": {
            "backgroundcolor": "#E5ECF6",
            "gridcolor": "white",
            "gridwidth": 2,
            "linecolor": "white",
            "showbackground": true,
            "ticks": "",
            "zerolinecolor": "white"
           },
           "yaxis": {
            "backgroundcolor": "#E5ECF6",
            "gridcolor": "white",
            "gridwidth": 2,
            "linecolor": "white",
            "showbackground": true,
            "ticks": "",
            "zerolinecolor": "white"
           },
           "zaxis": {
            "backgroundcolor": "#E5ECF6",
            "gridcolor": "white",
            "gridwidth": 2,
            "linecolor": "white",
            "showbackground": true,
            "ticks": "",
            "zerolinecolor": "white"
           }
          },
          "shapedefaults": {
           "line": {
            "color": "#2a3f5f"
           }
          },
          "ternary": {
           "aaxis": {
            "gridcolor": "white",
            "linecolor": "white",
            "ticks": ""
           },
           "baxis": {
            "gridcolor": "white",
            "linecolor": "white",
            "ticks": ""
           },
           "bgcolor": "#E5ECF6",
           "caxis": {
            "gridcolor": "white",
            "linecolor": "white",
            "ticks": ""
           }
          },
          "title": {
           "x": 0.05
          },
          "xaxis": {
           "automargin": true,
           "gridcolor": "white",
           "linecolor": "white",
           "ticks": "",
           "title": {
            "standoff": 15
           },
           "zerolinecolor": "white",
           "zerolinewidth": 2
          },
          "yaxis": {
           "automargin": true,
           "gridcolor": "white",
           "linecolor": "white",
           "ticks": "",
           "title": {
            "standoff": 15
           },
           "zerolinecolor": "white",
           "zerolinewidth": 2
          }
         }
        },
        "xaxis": {
         "anchor": "y",
         "domain": [
          0,
          1
         ],
         "title": {
          "text": "sizeSqFeetMax"
         }
        },
        "yaxis": {
         "anchor": "x",
         "domain": [
          0,
          1
         ],
         "title": {
          "text": "price(M)"
         }
        }
       }
      }
     },
     "metadata": {},
     "output_type": "display_data"
    }
   ],
   "source": [
    "fig = px.scatter(subset, y=\"price(M)\", x=\"sizeSqFeetMax\", color=\"propertyGlobalType\")\n",
    "fig.show()"
   ]
  },
  {
   "cell_type": "markdown",
   "metadata": {},
   "source": [
    "#### pricePerSqFoot(k)"
   ]
  },
  {
   "cell_type": "markdown",
   "metadata": {},
   "source": [
    "##### propertyType"
   ]
  },
  {
   "cell_type": "code",
   "execution_count": 101,
   "metadata": {},
   "outputs": [
    {
     "data": {
      "application/vnd.plotly.v1+json": {
       "config": {
        "plotlyServerURL": "https://plot.ly"
       },
       "data": [
        {
         "hovertemplate": "propertyType=House<br>pricePerSqFoot(k)=%{x}<br>price(M)=%{y}<extra></extra>",
         "legendgroup": "House",
         "marker": {
          "color": "#636efa",
          "symbol": "circle"
         },
         "mode": "markers",
         "name": "House",
         "orientation": "v",
         "showlegend": true,
         "type": "scatter",
         "x": [
          1.49,
          2.28,
          3.69,
          3.28,
          4.16,
          3.79,
          2.28,
          1.92,
          3.61,
          3.6,
          3.16,
          4.05,
          3.77,
          3.11,
          4.31,
          3.04,
          3.34,
          3.38,
          3.05,
          1.93,
          2.41,
          2.33,
          3.43,
          2.78,
          3.37,
          1.93,
          2.99,
          2.78,
          2.2,
          1.73,
          1.13,
          1.89,
          2.88,
          2.59,
          1.86,
          2.75,
          3.47,
          2.93,
          2.3,
          2.29,
          1.7,
          0.87,
          3.13,
          2.44,
          2.38,
          1.82,
          2.34,
          1.13,
          2.57,
          3.14,
          1.77,
          1.84,
          1.87,
          1.74,
          2.06,
          1.74,
          1.96,
          3.29,
          1.87,
          2.15,
          2.24,
          2.43,
          2.01,
          1.73,
          2.83,
          2.34,
          0.78,
          1.83,
          2.09,
          0.54,
          1.99,
          1.72,
          1.07,
          1.91,
          2.4,
          2.1,
          1.61,
          1.45,
          1.86,
          1.7,
          2.77,
          1.3,
          2.73
         ],
         "xaxis": "x",
         "y": [
          24.95,
          29.5,
          25,
          25,
          25,
          28,
          29.5,
          29.95,
          30,
          47,
          18.25,
          18.8,
          18.95,
          18.95,
          21.95,
          22,
          22.5,
          22.5,
          24,
          20,
          17,
          16,
          16,
          16.75,
          13.85,
          13.95,
          14,
          14,
          15.95,
          14.95,
          12.95,
          12.95,
          12.95,
          12.95,
          12.95,
          11.5,
          11.5,
          11.25,
          11.95,
          10,
          10.95,
          0.795,
          10.95,
          9.95,
          9.95,
          9.95,
          9.95,
          9.975,
          9.25,
          9.25,
          9.35,
          9.35,
          9.5,
          9.5,
          9.5,
          9.5,
          8.95,
          8.95,
          8.99995,
          9,
          8.5,
          8.5,
          8.5,
          8.5,
          7.95,
          7.95,
          8,
          7.5,
          7.75,
          6.95,
          6.95,
          6.95,
          7.25,
          7.25,
          7.05,
          6.5,
          6.85,
          6.95,
          6.95,
          6.5,
          6.5,
          6.5,
          6.5
         ],
         "yaxis": "y"
        },
        {
         "hovertemplate": "propertyType=Terraced<br>pricePerSqFoot(k)=%{x}<br>price(M)=%{y}<extra></extra>",
         "legendgroup": "Terraced",
         "marker": {
          "color": "#EF553B",
          "symbol": "circle"
         },
         "mode": "markers",
         "name": "Terraced",
         "orientation": "v",
         "showlegend": true,
         "type": "scatter",
         "x": [
          3.6,
          2.71,
          4.16,
          1.98,
          2.3,
          3.79,
          3.84,
          4.2,
          2.84,
          3.1,
          3.11,
          3.11,
          2.56,
          2.73,
          3.11,
          2.97,
          4.12,
          3.23,
          3.39,
          2.16,
          2.62,
          2.16,
          2.61,
          3.5,
          2.95,
          3.37,
          2.15,
          2.53,
          2.13,
          2.55,
          2.66,
          2.47,
          2.27,
          2.36,
          2.64,
          1.9,
          2.88,
          2.69,
          2.69,
          2.37,
          3.33,
          2.2,
          2.29,
          0.98,
          2.75,
          1.45,
          2.73,
          2.86,
          2.73,
          2.75,
          2.39,
          3.47,
          2.71,
          3.04,
          1.28,
          2.59,
          1.78,
          2.43,
          2.5,
          2.51,
          1.98,
          2.07,
          3.46,
          1.96,
          3.46,
          2.3,
          2.37,
          2.08,
          2.15,
          2.42,
          2.42,
          2.38,
          2.27,
          2.27,
          3.42,
          2.88,
          2,
          2.65,
          1.39,
          1.46,
          3.07,
          2.34,
          3.07,
          1.71,
          2.22,
          2.66,
          2.01,
          1.86,
          1.11,
          2.5,
          2.56,
          2.48,
          1.45,
          1.44,
          1.79,
          2.19,
          2.12,
          2.83,
          1.77,
          2.73,
          2.6,
          1.88,
          1.23,
          2.33,
          2.36,
          2.32,
          2.06,
          1.94,
          1.64,
          2.38,
          1.57,
          2.15,
          2.42,
          3.57,
          2.14,
          1.67,
          2.31,
          1.83,
          2.12,
          0.8,
          3.69,
          2.27,
          2.27,
          1.77,
          1.72,
          2,
          2.26,
          2,
          2.41,
          1.47,
          1.67,
          1.74,
          2.08,
          1.92,
          2.23,
          1.83,
          2.22,
          1.67,
          2.76
         ],
         "xaxis": "x",
         "y": [
          25,
          25,
          25,
          25,
          29.5,
          28,
          29.975,
          38,
          45,
          65,
          18.95,
          18.95,
          19.75,
          23,
          23.5,
          23.95,
          20,
          17.95,
          16,
          16.5,
          16.75,
          16.5,
          16.95,
          16.95,
          13.75,
          13.85,
          13.95,
          15.95,
          15.95,
          15.95,
          14.95,
          15,
          15,
          15,
          12.5,
          12.95,
          12.95,
          13.5,
          13.5,
          10.95,
          10.99,
          11.95,
          11.95,
          11,
          11.5,
          11.95,
          11.25,
          11.25,
          11.25,
          11.995,
          12,
          11.5,
          12,
          11.9,
          10,
          10.75,
          10.75,
          10.25,
          10.85,
          10.5,
          10.5,
          10.95,
          10.95,
          10.5,
          10.95,
          10.95,
          10.95,
          10.95,
          9.95,
          9.75,
          9.75,
          9.95,
          10,
          10,
          10,
          9.5,
          9.5,
          9.65,
          3.75,
          8.95,
          8.95,
          8.995,
          8.95,
          9,
          8.65,
          8.3,
          7.95,
          7.95,
          7.95,
          7.95,
          7.95,
          8,
          8,
          7.95,
          7.95,
          7.95,
          8,
          7.95,
          7.995,
          8,
          8.1,
          7.6,
          7.65,
          7.65,
          7.75,
          7.75,
          7.75,
          7.495,
          7.3,
          7.5,
          7.5,
          7.35,
          7.5,
          6.95,
          6.95,
          6.95,
          6.95,
          6.95,
          6.995,
          7,
          7.25,
          7.25,
          7.25,
          6.595,
          6.5,
          6.85,
          6.595,
          6.85,
          6.95,
          6.75,
          6.95,
          6.95,
          6.75,
          6.75,
          6.95,
          6.95,
          6.5,
          6.5,
          6.5
         ],
         "yaxis": "y"
        },
        {
         "hovertemplate": "propertyType=Detached<br>pricePerSqFoot(k)=%{x}<br>price(M)=%{y}<extra></extra>",
         "legendgroup": "Detached",
         "marker": {
          "color": "#00cc96",
          "symbol": "circle"
         },
         "mode": "markers",
         "name": "Detached",
         "orientation": "v",
         "showlegend": true,
         "type": "scatter",
         "x": [
          1.49,
          2.44,
          1.59,
          5.37,
          1.75,
          2.54,
          2.54,
          2.03,
          1.98,
          1.85,
          2.93,
          1.49,
          3.19,
          1.93,
          2.32,
          3.12,
          2.69,
          1.9,
          1.88,
          0.83,
          2.52,
          2.79,
          2.79,
          1.44,
          1.54,
          2.78,
          1.35,
          1.32,
          1.54,
          2.26,
          2.26,
          1.97,
          2.22,
          0.81,
          1.73,
          1.36,
          2.32,
          2.32,
          1.38,
          2.57,
          1.31,
          1.38,
          1.18,
          2.51,
          2.17,
          1.35,
          1.45,
          0.81,
          1.33,
          1.09,
          1.03,
          3.1,
          1.94,
          2.51,
          1.25,
          0.84,
          1.6,
          1.8,
          0.97,
          1.37,
          1.65,
          1.27,
          1.97,
          1.97,
          1.17,
          1.3,
          0.71,
          1.96,
          1.55,
          2.45,
          1.38,
          0.58,
          1.31,
          2.34,
          1.16,
          2.34,
          0.78,
          1.86,
          1.86,
          0.79,
          1.22,
          0.6,
          0.6,
          1.01,
          0.99,
          1,
          1.36,
          1.36,
          1.22,
          1.32,
          1.17,
          1.14,
          1.05,
          1.63,
          0.6,
          1.01,
          1.12,
          0.82,
          1.07,
          1.03,
          1.34,
          0.93,
          1.94,
          1.13,
          1.2,
          1.23,
          0.79,
          0.47,
          0.95,
          0.88,
          1.41,
          0.97,
          1.39,
          1.37,
          1.56,
          1.62,
          0.98,
          0.44
         ],
         "xaxis": "x",
         "y": [
          24.95,
          24.95,
          29.95,
          30,
          32,
          30,
          30,
          18.95,
          19.5,
          22.95,
          24,
          24.95,
          19.95,
          20,
          21.5,
          17.5,
          17.5,
          17.95,
          17.95,
          1.85,
          16.5,
          16.95,
          16.95,
          14.5,
          15.5,
          14,
          15.5,
          15.5,
          15.5,
          15.75,
          15.75,
          15.95,
          14.8,
          3,
          14.95,
          15,
          12.95,
          12.95,
          13.5,
          13.5,
          13.5,
          13.5,
          11,
          10.95,
          11.95,
          11.5,
          11.95,
          11.95,
          12,
          12.25,
          12.5,
          10.95,
          10.95,
          10.95,
          10.95,
          9.75,
          9.95,
          9.95,
          9.95,
          9.995,
          10,
          10,
          9.5,
          9.5,
          8.95,
          8.95,
          8.95,
          8.95,
          8.5,
          8.5,
          8.5,
          8.75,
          8.5,
          7.95,
          7.95,
          7.95,
          8,
          8,
          8,
          8,
          7.75,
          7.5,
          7.5,
          7.65,
          7.65,
          7.75,
          7.75,
          7.75,
          7.75,
          7.495,
          7.5,
          7.5,
          7.5,
          7.5,
          7.5,
          6.95,
          6.95,
          6.995,
          7.25,
          7.25,
          7,
          7,
          7,
          7,
          6.6,
          6.6,
          6.95,
          1.2,
          6.75,
          6.75,
          6.75,
          6.8,
          6.5,
          6.5,
          6.5,
          6.5,
          6.5,
          6.5
         ],
         "yaxis": "y"
        },
        {
         "hovertemplate": "propertyType=Apartment<br>pricePerSqFoot(k)=%{x}<br>price(M)=%{y}<extra></extra>",
         "legendgroup": "Apartment",
         "marker": {
          "color": "#ab63fa",
          "symbol": "circle"
         },
         "mode": "markers",
         "name": "Apartment",
         "orientation": "v",
         "showlegend": true,
         "type": "scatter",
         "x": [
          6.24,
          6.8,
          5.56,
          6.5,
          4.55,
          5.35,
          1.44,
          3.12,
          2.98,
          4.45,
          4.07,
          3.79,
          3.07,
          2.08,
          4.49,
          4.58,
          0.81,
          5.45,
          2.95,
          5.33,
          5.23,
          6.15,
          5.29,
          3.45,
          4.35,
          5.15,
          2.92,
          4.68,
          7.63,
          5.5,
          5.5,
          2.16,
          3.01,
          4.38,
          3.34,
          2.79,
          3.43,
          4.56,
          2.91,
          4.48,
          2.37,
          2.96,
          4.96,
          3.85,
          4.83,
          2.31,
          3,
          2.83,
          5.07,
          1.57,
          5,
          4,
          2.67,
          3.01,
          2.91,
          3.02,
          2.85,
          3,
          4.34,
          4.34,
          3.27,
          4.34,
          3.24,
          4.52,
          4.48,
          4.52,
          4.48,
          3.45,
          5.08,
          5.07,
          3.43,
          2.09,
          5,
          3.91,
          3.65,
          2.87,
          3.33,
          2.76,
          2.72,
          3.08,
          3.08,
          3.08,
          4.07,
          2.31,
          4.07,
          2.77,
          2.39,
          2.39,
          2.39,
          2.57,
          2.49,
          2.63,
          3.64,
          2.77,
          3.31,
          3.15,
          1.5,
          3.11,
          3.77,
          2.07,
          1.96,
          6.14,
          3.61,
          3.35,
          2.39,
          3.11,
          4.19,
          3.28,
          1.42,
          3.93,
          3.19,
          3.52,
          3.9,
          2.44,
          3.37,
          2.1,
          2.44,
          2.53,
          2.57,
          3.92,
          4.02,
          3.01,
          2.23,
          1.9,
          2.66,
          0.63,
          6.25,
          2.42,
          4.7,
          4.69,
          1.51,
          2.63,
          1.84,
          5,
          1.17,
          1.68,
          2.56,
          2.48,
          4.37,
          2.46,
          4.07,
          3.71,
          3.7,
          3.87,
          3.88,
          3.74,
          2.84,
          3.89,
          3.52,
          3.88,
          2.31,
          3.88,
          2.58,
          2.31,
          2.31,
          1.81,
          2.27,
          2.03,
          2.69,
          5.59,
          2.69,
          3.86,
          3.3,
          2.12,
          4.62,
          2.81,
          1.66,
          2.75,
          4.62,
          2.68,
          5.66,
          4.32,
          2.09,
          2.28,
          2.81,
          2.34,
          3.61,
          2.57,
          2.79,
          2.51,
          2.48,
          2.94,
          3.4,
          2.57,
          2.46,
          2.54,
          3.13,
          2.87,
          2.29,
          2.21,
          2.86,
          2.15,
          4.26,
          4.37,
          3.36,
          1.29,
          2.54,
          4.06,
          2.71,
          1.95,
          2.51,
          3.46,
          2.87,
          2.49,
          3.3,
          2.5,
          2.59
         ],
         "xaxis": "x",
         "y": [
          25,
          19.95,
          18.5,
          19,
          22.5,
          23.5,
          2.1,
          19.95,
          19.95,
          20,
          16,
          17.5,
          17.5,
          17.5,
          16,
          16.25,
          0.725,
          13.75,
          13.95,
          13.95,
          14,
          14.25,
          14,
          15.65,
          15.75,
          14.75,
          14.75,
          14.6,
          14.95,
          15,
          15,
          12.75,
          12.95,
          12.95,
          12.95,
          13,
          13.25,
          13.5,
          13.5,
          10.95,
          11,
          11.5,
          11.2,
          11.95,
          11.25,
          12,
          11.5,
          11.59,
          11.75,
          11.7,
          11.75,
          12.5,
          3.95,
          10,
          10.13,
          10.13,
          10.13,
          10.75,
          10.75,
          10.75,
          10.25,
          10.75,
          10.25,
          10.5,
          10.95,
          10.5,
          10.95,
          10.747,
          9.95,
          9.95,
          9.9,
          9.95,
          10,
          10,
          10,
          10,
          9.5,
          9.5,
          9.5,
          9.601,
          9.601,
          9.601,
          9.74,
          9.7,
          9.74,
          9.25,
          8.825,
          8.825,
          8.825,
          8.95,
          8.95,
          8.95,
          8.95,
          8.95,
          8.95,
          9,
          9,
          9,
          9,
          8.5,
          8.75,
          8.75,
          8.75,
          8.75,
          8.825,
          8.5,
          8.5,
          8.5,
          8.5,
          8.5,
          8.25,
          8.3,
          8.325,
          8.45,
          8.35,
          8.45,
          8.45,
          8.5,
          7.87,
          7.95,
          7.95,
          7.95,
          7.95,
          7.95,
          8,
          0.55,
          8,
          7.98,
          7.995,
          7.995,
          1.05,
          8.044,
          8.1,
          8.2,
          0.75,
          7.5,
          7.5,
          7.6,
          7.75,
          7.75,
          7.75,
          7.8,
          7.8,
          7.8,
          7.295,
          7.295,
          7.495,
          7.295,
          7.5,
          7.295,
          7.3,
          7.295,
          7.5,
          7.3,
          7.3,
          7.35,
          7.35,
          7.5,
          7.364,
          7.5,
          7.398,
          7.4,
          7.49,
          7.25,
          6.95,
          6.95,
          6.95,
          6.95,
          6.95,
          6.99,
          7.2,
          7.2,
          7.2,
          6.995,
          7.25,
          7.25,
          7.15,
          7.053,
          6.9,
          6.5,
          6.5,
          6.5,
          6.5,
          6.9,
          6.6,
          6.65,
          6.95,
          6.75,
          6.636,
          6.95,
          6.75,
          6.75,
          6.95,
          6.95,
          6.75,
          0.55,
          6.825,
          6.5,
          6.5,
          6.5,
          6.5,
          6.5,
          6.5,
          6.5,
          6.5,
          6.5,
          6.5
         ],
         "yaxis": "y"
        },
        {
         "hovertemplate": "propertyType=Penthouse<br>pricePerSqFoot(k)=%{x}<br>price(M)=%{y}<extra></extra>",
         "legendgroup": "Penthouse",
         "marker": {
          "color": "#FFA15A",
          "symbol": "circle"
         },
         "mode": "markers",
         "name": "Penthouse",
         "orientation": "v",
         "showlegend": true,
         "type": "scatter",
         "x": [
          4.26,
          6.04,
          4.55,
          2.06,
          2.06,
          3.5,
          5.88,
          5.95,
          1.76,
          5.28,
          2.94,
          3.32,
          4.35,
          4.5,
          5.46,
          3.56,
          1.09,
          3.43,
          7.3,
          4.5,
          2.91,
          3.04,
          3.46,
          2.81,
          3.85,
          3.82,
          1.54,
          4.36,
          3.47,
          3.47,
          3.47,
          3.47,
          2.09,
          7.21,
          2.91,
          2.87,
          3.15,
          1.66,
          2.76,
          3.9,
          3.9,
          3.33,
          3.02,
          8.48,
          1.52,
          2.88,
          3.36,
          2.86,
          1.42,
          2.58,
          2.03,
          3.77,
          2.27,
          2.13,
          1.97,
          2.66,
          4.14,
          1.49,
          1.67,
          2.26,
          1.84,
          2.69,
          2.21,
          2.84,
          1.81,
          2.79,
          4.06,
          4.06,
          2.29,
          3.67,
          3.67,
          1.68,
          2.13,
          4.25,
          7.45,
          3.43,
          3.43
         ],
         "xaxis": "x",
         "y": [
          26.5,
          19.5,
          22.5,
          19.95,
          19.95,
          20.995,
          17.5,
          17.7,
          16,
          13.95,
          14,
          14.5,
          15.75,
          13.5,
          12.65,
          12.95,
          13,
          13.25,
          13.395,
          13.5,
          13.5,
          11,
          11,
          11.5,
          11.95,
          11.5,
          12,
          10.5,
          9.9,
          9.9,
          9.9,
          9.9,
          9.95,
          9.9,
          9.95,
          9.95,
          10,
          10,
          9.601,
          9.45,
          9.45,
          9.5,
          9.601,
          8.95,
          9,
          8.625,
          8.75,
          8.75,
          8.5,
          8.25,
          8.25,
          7.92,
          7.95,
          7.95,
          7.95,
          8,
          7.95,
          8,
          8,
          7.75,
          7.5,
          7.6,
          7.75,
          7.495,
          7.35,
          7.4,
          7.15,
          7.15,
          6.636,
          6.62,
          6.62,
          6.95,
          6.95,
          6.815,
          6.5,
          6.5,
          6.5
         ],
         "yaxis": "y"
        },
        {
         "hovertemplate": "propertyType=Flat<br>pricePerSqFoot(k)=%{x}<br>price(M)=%{y}<extra></extra>",
         "legendgroup": "Flat",
         "marker": {
          "color": "#19d3f3",
          "symbol": "circle"
         },
         "mode": "markers",
         "name": "Flat",
         "orientation": "v",
         "showlegend": true,
         "type": "scatter",
         "x": [
          4.26,
          2.79,
          4.39,
          2.98,
          3.24,
          3.5,
          3.44,
          4.58,
          5.21,
          6.16,
          3.65,
          3.5,
          4.35,
          4.35,
          7.23,
          2.12,
          5.85,
          3.25,
          3.21,
          4.07,
          2.41,
          3.82,
          3.3,
          2.44,
          0.85,
          2.93,
          3.12,
          2.87,
          0.57,
          2.64,
          3.47,
          3.47,
          3.47,
          3.47,
          3.47,
          3.47,
          2.02,
          3.01,
          2.92,
          3.9,
          3.33,
          2.72,
          3.18,
          2.39,
          3.3,
          0.58,
          7.04,
          3.93,
          2.96,
          3.08,
          6.29,
          0.47,
          2.67,
          4.22,
          2.07,
          2.99,
          2.44,
          2.44,
          2.11,
          2.44,
          1.42,
          0.56,
          2.6,
          2.57,
          2.34,
          1.76,
          2.23,
          3.95,
          5.62,
          2.62,
          2.66,
          2.73,
          4.92,
          4.95,
          2.52,
          2.52,
          2.86,
          2.55,
          4.89,
          4.19,
          2.84,
          3.89,
          2.07,
          3.32,
          7.58,
          1.86,
          3.06,
          2.19,
          4.55,
          2.26,
          2.04,
          2.09,
          2.28,
          2.64,
          7.31,
          0.8,
          3.3,
          4.29,
          2.03,
          2.28,
          2.31,
          2.29,
          2.11,
          1.68,
          2.92,
          2.82,
          0.88,
          2.67,
          1.12,
          2.58,
          1.9
         ],
         "xaxis": "x",
         "y": [
          26.5,
          18.5,
          24,
          19.95,
          17.8,
          18,
          18,
          16.25,
          13.95,
          14.25,
          15.65,
          15.65,
          15.75,
          15.95,
          14.95,
          12.5,
          12.5,
          12.6,
          11,
          11,
          11,
          11.795,
          12,
          12.5,
          0.625,
          10.747,
          10.747,
          10.25,
          0.525,
          9.75,
          9.9,
          9.9,
          9.9,
          9.9,
          9.9,
          9.9,
          10,
          10,
          9.25,
          9.45,
          9.5,
          9.5,
          8.95,
          8.825,
          9,
          0.575,
          8.2,
          8.5,
          8.5,
          8.75,
          8.8,
          0.475,
          8.5,
          8.5,
          8.5,
          8.5,
          8.45,
          8.45,
          8.45,
          8.45,
          8.5,
          0.695,
          7.87,
          7.87,
          7.95,
          7.95,
          7.95,
          7.95,
          8,
          8,
          8.044,
          8.044,
          8.15,
          8.2,
          7.696,
          7.696,
          7.8,
          7.8,
          7.85,
          7.85,
          7.495,
          7.295,
          7.5,
          7.5,
          7.5,
          7.5,
          7.45,
          7.1875,
          6.95,
          6.95,
          6.995,
          7.2,
          7.25,
          7,
          7.25,
          0.845,
          6.5,
          6.595,
          6.5,
          6.6,
          6.636,
          6.636,
          6.75,
          6.95,
          6.75,
          6.815,
          0.9,
          6.5,
          1.6,
          6.5,
          6.5
         ],
         "yaxis": "y"
        }
       ],
       "layout": {
        "legend": {
         "title": {
          "text": "propertyType"
         },
         "tracegroupgap": 0
        },
        "margin": {
         "t": 60
        },
        "template": {
         "data": {
          "bar": [
           {
            "error_x": {
             "color": "#2a3f5f"
            },
            "error_y": {
             "color": "#2a3f5f"
            },
            "marker": {
             "line": {
              "color": "#E5ECF6",
              "width": 0.5
             },
             "pattern": {
              "fillmode": "overlay",
              "size": 10,
              "solidity": 0.2
             }
            },
            "type": "bar"
           }
          ],
          "barpolar": [
           {
            "marker": {
             "line": {
              "color": "#E5ECF6",
              "width": 0.5
             },
             "pattern": {
              "fillmode": "overlay",
              "size": 10,
              "solidity": 0.2
             }
            },
            "type": "barpolar"
           }
          ],
          "carpet": [
           {
            "aaxis": {
             "endlinecolor": "#2a3f5f",
             "gridcolor": "white",
             "linecolor": "white",
             "minorgridcolor": "white",
             "startlinecolor": "#2a3f5f"
            },
            "baxis": {
             "endlinecolor": "#2a3f5f",
             "gridcolor": "white",
             "linecolor": "white",
             "minorgridcolor": "white",
             "startlinecolor": "#2a3f5f"
            },
            "type": "carpet"
           }
          ],
          "choropleth": [
           {
            "colorbar": {
             "outlinewidth": 0,
             "ticks": ""
            },
            "type": "choropleth"
           }
          ],
          "contour": [
           {
            "colorbar": {
             "outlinewidth": 0,
             "ticks": ""
            },
            "colorscale": [
             [
              0,
              "#0d0887"
             ],
             [
              0.1111111111111111,
              "#46039f"
             ],
             [
              0.2222222222222222,
              "#7201a8"
             ],
             [
              0.3333333333333333,
              "#9c179e"
             ],
             [
              0.4444444444444444,
              "#bd3786"
             ],
             [
              0.5555555555555556,
              "#d8576b"
             ],
             [
              0.6666666666666666,
              "#ed7953"
             ],
             [
              0.7777777777777778,
              "#fb9f3a"
             ],
             [
              0.8888888888888888,
              "#fdca26"
             ],
             [
              1,
              "#f0f921"
             ]
            ],
            "type": "contour"
           }
          ],
          "contourcarpet": [
           {
            "colorbar": {
             "outlinewidth": 0,
             "ticks": ""
            },
            "type": "contourcarpet"
           }
          ],
          "heatmap": [
           {
            "colorbar": {
             "outlinewidth": 0,
             "ticks": ""
            },
            "colorscale": [
             [
              0,
              "#0d0887"
             ],
             [
              0.1111111111111111,
              "#46039f"
             ],
             [
              0.2222222222222222,
              "#7201a8"
             ],
             [
              0.3333333333333333,
              "#9c179e"
             ],
             [
              0.4444444444444444,
              "#bd3786"
             ],
             [
              0.5555555555555556,
              "#d8576b"
             ],
             [
              0.6666666666666666,
              "#ed7953"
             ],
             [
              0.7777777777777778,
              "#fb9f3a"
             ],
             [
              0.8888888888888888,
              "#fdca26"
             ],
             [
              1,
              "#f0f921"
             ]
            ],
            "type": "heatmap"
           }
          ],
          "heatmapgl": [
           {
            "colorbar": {
             "outlinewidth": 0,
             "ticks": ""
            },
            "colorscale": [
             [
              0,
              "#0d0887"
             ],
             [
              0.1111111111111111,
              "#46039f"
             ],
             [
              0.2222222222222222,
              "#7201a8"
             ],
             [
              0.3333333333333333,
              "#9c179e"
             ],
             [
              0.4444444444444444,
              "#bd3786"
             ],
             [
              0.5555555555555556,
              "#d8576b"
             ],
             [
              0.6666666666666666,
              "#ed7953"
             ],
             [
              0.7777777777777778,
              "#fb9f3a"
             ],
             [
              0.8888888888888888,
              "#fdca26"
             ],
             [
              1,
              "#f0f921"
             ]
            ],
            "type": "heatmapgl"
           }
          ],
          "histogram": [
           {
            "marker": {
             "pattern": {
              "fillmode": "overlay",
              "size": 10,
              "solidity": 0.2
             }
            },
            "type": "histogram"
           }
          ],
          "histogram2d": [
           {
            "colorbar": {
             "outlinewidth": 0,
             "ticks": ""
            },
            "colorscale": [
             [
              0,
              "#0d0887"
             ],
             [
              0.1111111111111111,
              "#46039f"
             ],
             [
              0.2222222222222222,
              "#7201a8"
             ],
             [
              0.3333333333333333,
              "#9c179e"
             ],
             [
              0.4444444444444444,
              "#bd3786"
             ],
             [
              0.5555555555555556,
              "#d8576b"
             ],
             [
              0.6666666666666666,
              "#ed7953"
             ],
             [
              0.7777777777777778,
              "#fb9f3a"
             ],
             [
              0.8888888888888888,
              "#fdca26"
             ],
             [
              1,
              "#f0f921"
             ]
            ],
            "type": "histogram2d"
           }
          ],
          "histogram2dcontour": [
           {
            "colorbar": {
             "outlinewidth": 0,
             "ticks": ""
            },
            "colorscale": [
             [
              0,
              "#0d0887"
             ],
             [
              0.1111111111111111,
              "#46039f"
             ],
             [
              0.2222222222222222,
              "#7201a8"
             ],
             [
              0.3333333333333333,
              "#9c179e"
             ],
             [
              0.4444444444444444,
              "#bd3786"
             ],
             [
              0.5555555555555556,
              "#d8576b"
             ],
             [
              0.6666666666666666,
              "#ed7953"
             ],
             [
              0.7777777777777778,
              "#fb9f3a"
             ],
             [
              0.8888888888888888,
              "#fdca26"
             ],
             [
              1,
              "#f0f921"
             ]
            ],
            "type": "histogram2dcontour"
           }
          ],
          "mesh3d": [
           {
            "colorbar": {
             "outlinewidth": 0,
             "ticks": ""
            },
            "type": "mesh3d"
           }
          ],
          "parcoords": [
           {
            "line": {
             "colorbar": {
              "outlinewidth": 0,
              "ticks": ""
             }
            },
            "type": "parcoords"
           }
          ],
          "pie": [
           {
            "automargin": true,
            "type": "pie"
           }
          ],
          "scatter": [
           {
            "fillpattern": {
             "fillmode": "overlay",
             "size": 10,
             "solidity": 0.2
            },
            "type": "scatter"
           }
          ],
          "scatter3d": [
           {
            "line": {
             "colorbar": {
              "outlinewidth": 0,
              "ticks": ""
             }
            },
            "marker": {
             "colorbar": {
              "outlinewidth": 0,
              "ticks": ""
             }
            },
            "type": "scatter3d"
           }
          ],
          "scattercarpet": [
           {
            "marker": {
             "colorbar": {
              "outlinewidth": 0,
              "ticks": ""
             }
            },
            "type": "scattercarpet"
           }
          ],
          "scattergeo": [
           {
            "marker": {
             "colorbar": {
              "outlinewidth": 0,
              "ticks": ""
             }
            },
            "type": "scattergeo"
           }
          ],
          "scattergl": [
           {
            "marker": {
             "colorbar": {
              "outlinewidth": 0,
              "ticks": ""
             }
            },
            "type": "scattergl"
           }
          ],
          "scattermapbox": [
           {
            "marker": {
             "colorbar": {
              "outlinewidth": 0,
              "ticks": ""
             }
            },
            "type": "scattermapbox"
           }
          ],
          "scatterpolar": [
           {
            "marker": {
             "colorbar": {
              "outlinewidth": 0,
              "ticks": ""
             }
            },
            "type": "scatterpolar"
           }
          ],
          "scatterpolargl": [
           {
            "marker": {
             "colorbar": {
              "outlinewidth": 0,
              "ticks": ""
             }
            },
            "type": "scatterpolargl"
           }
          ],
          "scatterternary": [
           {
            "marker": {
             "colorbar": {
              "outlinewidth": 0,
              "ticks": ""
             }
            },
            "type": "scatterternary"
           }
          ],
          "surface": [
           {
            "colorbar": {
             "outlinewidth": 0,
             "ticks": ""
            },
            "colorscale": [
             [
              0,
              "#0d0887"
             ],
             [
              0.1111111111111111,
              "#46039f"
             ],
             [
              0.2222222222222222,
              "#7201a8"
             ],
             [
              0.3333333333333333,
              "#9c179e"
             ],
             [
              0.4444444444444444,
              "#bd3786"
             ],
             [
              0.5555555555555556,
              "#d8576b"
             ],
             [
              0.6666666666666666,
              "#ed7953"
             ],
             [
              0.7777777777777778,
              "#fb9f3a"
             ],
             [
              0.8888888888888888,
              "#fdca26"
             ],
             [
              1,
              "#f0f921"
             ]
            ],
            "type": "surface"
           }
          ],
          "table": [
           {
            "cells": {
             "fill": {
              "color": "#EBF0F8"
             },
             "line": {
              "color": "white"
             }
            },
            "header": {
             "fill": {
              "color": "#C8D4E3"
             },
             "line": {
              "color": "white"
             }
            },
            "type": "table"
           }
          ]
         },
         "layout": {
          "annotationdefaults": {
           "arrowcolor": "#2a3f5f",
           "arrowhead": 0,
           "arrowwidth": 1
          },
          "autotypenumbers": "strict",
          "coloraxis": {
           "colorbar": {
            "outlinewidth": 0,
            "ticks": ""
           }
          },
          "colorscale": {
           "diverging": [
            [
             0,
             "#8e0152"
            ],
            [
             0.1,
             "#c51b7d"
            ],
            [
             0.2,
             "#de77ae"
            ],
            [
             0.3,
             "#f1b6da"
            ],
            [
             0.4,
             "#fde0ef"
            ],
            [
             0.5,
             "#f7f7f7"
            ],
            [
             0.6,
             "#e6f5d0"
            ],
            [
             0.7,
             "#b8e186"
            ],
            [
             0.8,
             "#7fbc41"
            ],
            [
             0.9,
             "#4d9221"
            ],
            [
             1,
             "#276419"
            ]
           ],
           "sequential": [
            [
             0,
             "#0d0887"
            ],
            [
             0.1111111111111111,
             "#46039f"
            ],
            [
             0.2222222222222222,
             "#7201a8"
            ],
            [
             0.3333333333333333,
             "#9c179e"
            ],
            [
             0.4444444444444444,
             "#bd3786"
            ],
            [
             0.5555555555555556,
             "#d8576b"
            ],
            [
             0.6666666666666666,
             "#ed7953"
            ],
            [
             0.7777777777777778,
             "#fb9f3a"
            ],
            [
             0.8888888888888888,
             "#fdca26"
            ],
            [
             1,
             "#f0f921"
            ]
           ],
           "sequentialminus": [
            [
             0,
             "#0d0887"
            ],
            [
             0.1111111111111111,
             "#46039f"
            ],
            [
             0.2222222222222222,
             "#7201a8"
            ],
            [
             0.3333333333333333,
             "#9c179e"
            ],
            [
             0.4444444444444444,
             "#bd3786"
            ],
            [
             0.5555555555555556,
             "#d8576b"
            ],
            [
             0.6666666666666666,
             "#ed7953"
            ],
            [
             0.7777777777777778,
             "#fb9f3a"
            ],
            [
             0.8888888888888888,
             "#fdca26"
            ],
            [
             1,
             "#f0f921"
            ]
           ]
          },
          "colorway": [
           "#636efa",
           "#EF553B",
           "#00cc96",
           "#ab63fa",
           "#FFA15A",
           "#19d3f3",
           "#FF6692",
           "#B6E880",
           "#FF97FF",
           "#FECB52"
          ],
          "font": {
           "color": "#2a3f5f"
          },
          "geo": {
           "bgcolor": "white",
           "lakecolor": "white",
           "landcolor": "#E5ECF6",
           "showlakes": true,
           "showland": true,
           "subunitcolor": "white"
          },
          "hoverlabel": {
           "align": "left"
          },
          "hovermode": "closest",
          "mapbox": {
           "style": "light"
          },
          "paper_bgcolor": "white",
          "plot_bgcolor": "#E5ECF6",
          "polar": {
           "angularaxis": {
            "gridcolor": "white",
            "linecolor": "white",
            "ticks": ""
           },
           "bgcolor": "#E5ECF6",
           "radialaxis": {
            "gridcolor": "white",
            "linecolor": "white",
            "ticks": ""
           }
          },
          "scene": {
           "xaxis": {
            "backgroundcolor": "#E5ECF6",
            "gridcolor": "white",
            "gridwidth": 2,
            "linecolor": "white",
            "showbackground": true,
            "ticks": "",
            "zerolinecolor": "white"
           },
           "yaxis": {
            "backgroundcolor": "#E5ECF6",
            "gridcolor": "white",
            "gridwidth": 2,
            "linecolor": "white",
            "showbackground": true,
            "ticks": "",
            "zerolinecolor": "white"
           },
           "zaxis": {
            "backgroundcolor": "#E5ECF6",
            "gridcolor": "white",
            "gridwidth": 2,
            "linecolor": "white",
            "showbackground": true,
            "ticks": "",
            "zerolinecolor": "white"
           }
          },
          "shapedefaults": {
           "line": {
            "color": "#2a3f5f"
           }
          },
          "ternary": {
           "aaxis": {
            "gridcolor": "white",
            "linecolor": "white",
            "ticks": ""
           },
           "baxis": {
            "gridcolor": "white",
            "linecolor": "white",
            "ticks": ""
           },
           "bgcolor": "#E5ECF6",
           "caxis": {
            "gridcolor": "white",
            "linecolor": "white",
            "ticks": ""
           }
          },
          "title": {
           "x": 0.05
          },
          "xaxis": {
           "automargin": true,
           "gridcolor": "white",
           "linecolor": "white",
           "ticks": "",
           "title": {
            "standoff": 15
           },
           "zerolinecolor": "white",
           "zerolinewidth": 2
          },
          "yaxis": {
           "automargin": true,
           "gridcolor": "white",
           "linecolor": "white",
           "ticks": "",
           "title": {
            "standoff": 15
           },
           "zerolinecolor": "white",
           "zerolinewidth": 2
          }
         }
        },
        "xaxis": {
         "anchor": "y",
         "domain": [
          0,
          1
         ],
         "title": {
          "text": "pricePerSqFoot(k)"
         }
        },
        "yaxis": {
         "anchor": "x",
         "domain": [
          0,
          1
         ],
         "title": {
          "text": "price(M)"
         }
        }
       }
      }
     },
     "metadata": {},
     "output_type": "display_data"
    }
   ],
   "source": [
    "fig = px.scatter(subset, y=\"price(M)\", x=\"pricePerSqFoot(k)\", color=\"propertyType\")\n",
    "fig.show()"
   ]
  },
  {
   "cell_type": "markdown",
   "metadata": {},
   "source": [
    "##### propertyGlobalType"
   ]
  },
  {
   "cell_type": "code",
   "execution_count": 139,
   "metadata": {},
   "outputs": [
    {
     "data": {
      "application/vnd.plotly.v1+json": {
       "config": {
        "plotlyServerURL": "https://plot.ly"
       },
       "data": [
        {
         "hovertemplate": "propertyGlobalType=House<br>pricePerSqFoot(k)=%{x}<br>price(M)=%{y}<extra></extra>",
         "legendgroup": "House",
         "marker": {
          "color": "#636efa",
          "symbol": "circle"
         },
         "mode": "markers",
         "name": "House",
         "orientation": "v",
         "showlegend": true,
         "type": "scatter",
         "x": [
          1.49,
          2.28,
          3.6,
          1.49,
          2.44,
          3.69,
          3.28,
          2.71,
          4.16,
          1.98,
          4.16,
          3.79,
          2.3,
          3.79,
          2.28,
          1.59,
          1.92,
          3.84,
          5.37,
          3.61,
          1.75,
          2.54,
          2.54,
          4.2,
          2.84,
          3.6,
          3.1,
          3.16,
          4.05,
          3.11,
          3.77,
          2.03,
          3.11,
          3.11,
          1.98,
          2.56,
          4.31,
          3.04,
          3.34,
          3.38,
          1.85,
          2.73,
          3.11,
          2.97,
          2.93,
          3.05,
          1.49,
          3.19,
          4.12,
          1.93,
          1.93,
          2.32,
          2.41,
          3.12,
          2.69,
          3.23,
          1.9,
          1.88,
          0.83,
          2.33,
          3.43,
          3.39,
          2.52,
          2.16,
          2.62,
          2.16,
          2.78,
          2.79,
          2.61,
          3.5,
          2.79,
          1.44,
          1.54,
          2.95,
          3.37,
          3.37,
          1.93,
          2.78,
          2.15,
          2.99,
          2.78,
          1.35,
          1.32,
          1.54,
          2.26,
          2.26,
          1.97,
          2.53,
          2.13,
          2.2,
          2.22,
          2.55,
          0.81,
          1.73,
          1.73,
          1.36,
          2.66,
          2.47,
          2.27,
          2.36,
          2.64,
          1.13,
          1.89,
          2.88,
          2.59,
          2.32,
          1.9,
          1.86,
          2.88,
          2.32,
          2.69,
          2.69,
          1.38,
          2.57,
          1.31,
          1.38,
          1.18,
          2.51,
          2.37,
          3.33,
          2.2,
          2.29,
          0.98,
          2.75,
          2.17,
          1.35,
          1.45,
          2.75,
          2.73,
          3.47,
          1.45,
          0.81,
          2.86,
          2.73,
          2.75,
          2.39,
          2.93,
          3.47,
          1.33,
          2.71,
          3.04,
          1.09,
          2.3,
          1.03,
          2.29,
          1.28,
          2.59,
          1.78,
          2.43,
          2.5,
          2.51,
          1.98,
          2.07,
          3.1,
          1.7,
          3.46,
          1.96,
          1.94,
          3.46,
          2.3,
          2.37,
          2.08,
          2.51,
          1.25,
          0.87,
          3.13,
          2.15,
          2.42,
          0.84,
          2.42,
          1.6,
          1.8,
          0.97,
          2.44,
          2.38,
          2.38,
          1.82,
          2.34,
          1.13,
          1.37,
          1.65,
          1.27,
          2.27,
          2.27,
          3.42,
          2.57,
          3.14,
          1.77,
          1.84,
          1.87,
          1.97,
          2.88,
          1.97,
          1.74,
          2.06,
          1.74,
          2,
          2.65,
          1.39,
          1.17,
          1.3,
          0.71,
          1.46,
          1.96,
          3.29,
          1.96,
          3.07,
          2.34,
          3.07,
          1.87,
          1.71,
          2.15,
          1.55,
          2.45,
          1.38,
          2.22,
          0.58,
          2.24,
          2.43,
          2.01,
          1.31,
          2.66,
          1.73,
          2.01,
          1.86,
          2.83,
          2.34,
          1.11,
          1.16,
          2.5,
          2.56,
          2.48,
          1.45,
          1.44,
          2.34,
          2.34,
          1.79,
          0.78,
          2.19,
          2.12,
          2.83,
          1.77,
          1.86,
          1.86,
          0.79,
          0.78,
          2.73,
          2.6,
          1.22,
          1.83,
          0.6,
          1.88,
          0.6,
          1.23,
          1.01,
          2.33,
          0.99,
          1,
          1.36,
          1.36,
          2.09,
          1.22,
          2.36,
          2.32,
          2.06,
          1.94,
          1.32,
          1.64,
          2.38,
          1.17,
          1.57,
          2.15,
          1.14,
          1.05,
          1.63,
          0.6,
          2.42,
          1.01,
          0.54,
          3.57,
          2.14,
          1.67,
          1.99,
          2.31,
          1.12,
          1.83,
          1.72,
          2.12,
          0.82,
          1.07,
          1.03,
          0.8,
          3.69,
          1.34,
          1.07,
          1.91,
          2.27,
          2.27,
          0.93,
          1.94,
          2.4,
          1.13,
          1.77,
          2.1,
          1.72,
          2,
          2.26,
          1.61,
          1.2,
          2,
          1.23,
          1.45,
          2.41,
          0.79,
          1.47,
          1.67,
          1.74,
          0.47,
          0.95,
          1.86,
          0.88,
          2.08,
          1.41,
          1.92,
          2.23,
          0.97,
          1.83,
          2.22,
          1.7,
          2.77,
          1.39,
          1.37,
          1.3,
          1.56,
          1.67,
          1.62,
          2.73,
          0.98,
          2.76,
          0.44
         ],
         "xaxis": "x",
         "y": [
          24.95,
          29.5,
          25,
          24.95,
          24.95,
          25,
          25,
          25,
          25,
          25,
          25,
          28,
          29.5,
          28,
          29.5,
          29.95,
          29.95,
          29.975,
          30,
          30,
          32,
          30,
          30,
          38,
          45,
          47,
          65,
          18.25,
          18.8,
          18.95,
          18.95,
          18.95,
          18.95,
          18.95,
          19.5,
          19.75,
          21.95,
          22,
          22.5,
          22.5,
          22.95,
          23,
          23.5,
          23.95,
          24,
          24,
          24.95,
          19.95,
          20,
          20,
          20,
          21.5,
          17,
          17.5,
          17.5,
          17.95,
          17.95,
          17.95,
          1.85,
          16,
          16,
          16,
          16.5,
          16.5,
          16.75,
          16.5,
          16.75,
          16.95,
          16.95,
          16.95,
          16.95,
          14.5,
          15.5,
          13.75,
          13.85,
          13.85,
          13.95,
          14,
          13.95,
          14,
          14,
          15.5,
          15.5,
          15.5,
          15.75,
          15.75,
          15.95,
          15.95,
          15.95,
          15.95,
          14.8,
          15.95,
          3,
          14.95,
          14.95,
          15,
          14.95,
          15,
          15,
          15,
          12.5,
          12.95,
          12.95,
          12.95,
          12.95,
          12.95,
          12.95,
          12.95,
          12.95,
          12.95,
          13.5,
          13.5,
          13.5,
          13.5,
          13.5,
          13.5,
          11,
          10.95,
          10.95,
          10.99,
          11.95,
          11.95,
          11,
          11.5,
          11.95,
          11.5,
          11.95,
          11.5,
          11.25,
          11.5,
          11.95,
          11.95,
          11.25,
          11.25,
          11.995,
          12,
          11.25,
          11.5,
          12,
          12,
          11.9,
          12.25,
          11.95,
          12.5,
          10,
          10,
          10.75,
          10.75,
          10.25,
          10.85,
          10.5,
          10.5,
          10.95,
          10.95,
          10.95,
          10.95,
          10.5,
          10.95,
          10.95,
          10.95,
          10.95,
          10.95,
          10.95,
          10.95,
          0.795,
          10.95,
          9.95,
          9.75,
          9.75,
          9.75,
          9.95,
          9.95,
          9.95,
          9.95,
          9.95,
          9.95,
          9.95,
          9.95,
          9.975,
          9.995,
          10,
          10,
          10,
          10,
          10,
          9.25,
          9.25,
          9.35,
          9.35,
          9.5,
          9.5,
          9.5,
          9.5,
          9.5,
          9.5,
          9.5,
          9.5,
          9.65,
          3.75,
          8.95,
          8.95,
          8.95,
          8.95,
          8.95,
          8.95,
          8.95,
          8.95,
          8.995,
          8.95,
          8.99995,
          9,
          9,
          8.5,
          8.5,
          8.5,
          8.65,
          8.75,
          8.5,
          8.5,
          8.5,
          8.5,
          8.3,
          8.5,
          7.95,
          7.95,
          7.95,
          7.95,
          7.95,
          7.95,
          7.95,
          7.95,
          8,
          8,
          7.95,
          7.95,
          7.95,
          7.95,
          8,
          7.95,
          8,
          7.95,
          7.995,
          8,
          8,
          8,
          8,
          8,
          8.1,
          7.75,
          7.5,
          7.5,
          7.6,
          7.5,
          7.65,
          7.65,
          7.65,
          7.65,
          7.75,
          7.75,
          7.75,
          7.75,
          7.75,
          7.75,
          7.75,
          7.75,
          7.495,
          7.495,
          7.3,
          7.5,
          7.5,
          7.5,
          7.35,
          7.5,
          7.5,
          7.5,
          7.5,
          7.5,
          6.95,
          6.95,
          6.95,
          6.95,
          6.95,
          6.95,
          6.95,
          6.95,
          6.95,
          6.95,
          6.995,
          6.995,
          7.25,
          7.25,
          7,
          7.25,
          7,
          7.25,
          7.25,
          7.25,
          7.25,
          7,
          7,
          7.05,
          7,
          6.595,
          6.5,
          6.5,
          6.85,
          6.595,
          6.85,
          6.6,
          6.85,
          6.6,
          6.95,
          6.95,
          6.95,
          6.75,
          6.95,
          6.95,
          1.2,
          6.75,
          6.95,
          6.75,
          6.75,
          6.75,
          6.75,
          6.95,
          6.8,
          6.95,
          6.5,
          6.5,
          6.5,
          6.5,
          6.5,
          6.5,
          6.5,
          6.5,
          6.5,
          6.5,
          6.5,
          6.5,
          6.5
         ],
         "yaxis": "y"
        },
        {
         "hovertemplate": "propertyGlobalType=Flat<br>pricePerSqFoot(k)=%{x}<br>price(M)=%{y}<extra></extra>",
         "legendgroup": "Flat",
         "marker": {
          "color": "#EF553B",
          "symbol": "circle"
         },
         "mode": "markers",
         "name": "Flat",
         "orientation": "v",
         "showlegend": true,
         "type": "scatter",
         "x": [
          6.24,
          4.26,
          4.26,
          6.8,
          2.79,
          5.56,
          6.5,
          6.04,
          4.55,
          4.55,
          5.35,
          4.39,
          1.44,
          3.12,
          2.06,
          2.98,
          2.06,
          2.98,
          4.45,
          3.5,
          4.07,
          3.79,
          3.07,
          5.88,
          2.08,
          5.95,
          3.24,
          3.5,
          3.44,
          4.49,
          1.76,
          4.58,
          4.58,
          0.81,
          5.45,
          5.21,
          2.95,
          5.33,
          5.28,
          5.23,
          2.94,
          6.15,
          5.29,
          6.16,
          3.32,
          3.65,
          3.45,
          3.5,
          4.35,
          4.35,
          4.35,
          5.15,
          4.35,
          2.92,
          4.68,
          7.23,
          7.63,
          5.5,
          5.5,
          4.5,
          2.12,
          5.46,
          5.85,
          3.25,
          2.16,
          3.01,
          4.38,
          3.56,
          3.34,
          1.09,
          2.79,
          3.43,
          3.43,
          7.3,
          4.56,
          4.5,
          2.91,
          2.91,
          4.48,
          3.21,
          4.07,
          2.41,
          3.04,
          2.37,
          3.46,
          2.96,
          4.96,
          3.85,
          2.81,
          4.83,
          3.85,
          3.82,
          2.31,
          3,
          1.54,
          2.83,
          5.07,
          1.57,
          3.82,
          3.3,
          5,
          4,
          2.44,
          2.67,
          0.85,
          2.93,
          3.01,
          2.91,
          3.02,
          2.85,
          3.12,
          3,
          4.34,
          2.87,
          4.34,
          3.27,
          4.34,
          3.24,
          4.52,
          4.48,
          4.52,
          4.36,
          4.48,
          3.45,
          0.57,
          2.64,
          3.47,
          3.47,
          3.47,
          3.47,
          3.47,
          5.08,
          3.47,
          3.47,
          2.09,
          3.47,
          7.21,
          5.07,
          3.47,
          3.47,
          3.43,
          2.91,
          2.87,
          2.09,
          5,
          3.91,
          2.02,
          3.65,
          2.87,
          3.15,
          3.01,
          1.66,
          2.76,
          2.92,
          3.9,
          3.9,
          3.9,
          3.33,
          2.76,
          3.33,
          2.72,
          2.72,
          3.33,
          3.02,
          3.08,
          3.08,
          3.08,
          4.07,
          2.31,
          4.07,
          2.77,
          3.18,
          2.39,
          2.39,
          2.39,
          2.39,
          2.57,
          2.49,
          2.63,
          3.64,
          8.48,
          2.77,
          3.31,
          3.15,
          1.5,
          3.11,
          3.3,
          1.52,
          3.77,
          0.58,
          7.04,
          3.93,
          2.96,
          2.07,
          2.88,
          1.96,
          6.14,
          3.61,
          3.36,
          2.86,
          3.35,
          3.08,
          6.29,
          2.39,
          0.47,
          2.67,
          3.11,
          4.19,
          4.22,
          1.42,
          3.28,
          1.42,
          3.93,
          2.07,
          2.99,
          3.19,
          2.58,
          2.03,
          3.52,
          3.9,
          2.44,
          2.44,
          2.44,
          3.37,
          2.1,
          2.44,
          2.11,
          2.44,
          2.53,
          1.42,
          0.56,
          2.6,
          2.57,
          2.57,
          3.77,
          2.34,
          1.76,
          3.92,
          2.27,
          2.23,
          4.02,
          3.95,
          2.13,
          3.01,
          2.23,
          1.9,
          1.97,
          2.66,
          2.66,
          0.63,
          6.25,
          4.14,
          5.62,
          2.42,
          2.62,
          4.7,
          4.69,
          1.49,
          1.51,
          2.66,
          1.67,
          2.63,
          2.73,
          1.84,
          4.92,
          5,
          4.95,
          1.17,
          2.26,
          1.68,
          2.56,
          1.84,
          2.48,
          2.69,
          2.52,
          2.52,
          4.37,
          2.46,
          4.07,
          2.21,
          3.71,
          3.7,
          2.86,
          3.87,
          2.55,
          4.89,
          4.19,
          2.84,
          3.88,
          2.84,
          3.74,
          2.84,
          3.89,
          3.52,
          3.89,
          3.88,
          2.07,
          3.32,
          2.31,
          3.88,
          7.58,
          2.58,
          2.31,
          2.31,
          1.81,
          1.86,
          1.81,
          2.27,
          2.03,
          2.69,
          5.59,
          2.69,
          3.86,
          2.79,
          3.3,
          3.06,
          2.19,
          2.12,
          4.55,
          4.62,
          2.81,
          1.66,
          2.26,
          2.75,
          4.62,
          2.68,
          2.04,
          5.66,
          2.09,
          4.32,
          2.09,
          2.28,
          2.28,
          2.81,
          2.64,
          2.34,
          7.31,
          0.8,
          3.61,
          2.57,
          4.06,
          4.06,
          2.79,
          2.51,
          3.3,
          2.48,
          2.94,
          3.4,
          4.29,
          2.03,
          2.57,
          2.28,
          2.29,
          2.46,
          3.67,
          2.54,
          3.67,
          3.13,
          2.31,
          2.87,
          2.29,
          2.29,
          2.11,
          1.68,
          1.68,
          2.21,
          2.86,
          2.15,
          4.26,
          4.37,
          3.36,
          2.92,
          2.13,
          4.25,
          1.29,
          2.54,
          2.82,
          0.88,
          4.06,
          2.67,
          2.71,
          1.95,
          2.51,
          3.46,
          2.87,
          1.12,
          7.45,
          2.49,
          3.43,
          3.3,
          2.58,
          1.9,
          3.43,
          2.5,
          2.59
         ],
         "xaxis": "x",
         "y": [
          25,
          26.5,
          26.5,
          19.95,
          18.5,
          18.5,
          19,
          19.5,
          22.5,
          22.5,
          23.5,
          24,
          2.1,
          19.95,
          19.95,
          19.95,
          19.95,
          19.95,
          20,
          20.995,
          16,
          17.5,
          17.5,
          17.5,
          17.5,
          17.7,
          17.8,
          18,
          18,
          16,
          16,
          16.25,
          16.25,
          0.725,
          13.75,
          13.95,
          13.95,
          13.95,
          13.95,
          14,
          14,
          14.25,
          14,
          14.25,
          14.5,
          15.65,
          15.65,
          15.65,
          15.75,
          15.75,
          15.75,
          14.75,
          15.95,
          14.75,
          14.6,
          14.95,
          14.95,
          15,
          15,
          13.5,
          12.5,
          12.65,
          12.5,
          12.6,
          12.75,
          12.95,
          12.95,
          12.95,
          12.95,
          13,
          13,
          13.25,
          13.25,
          13.395,
          13.5,
          13.5,
          13.5,
          13.5,
          10.95,
          11,
          11,
          11,
          11,
          11,
          11,
          11.5,
          11.2,
          11.95,
          11.5,
          11.25,
          11.95,
          11.5,
          12,
          11.5,
          12,
          11.59,
          11.75,
          11.7,
          11.795,
          12,
          11.75,
          12.5,
          12.5,
          3.95,
          0.625,
          10.747,
          10,
          10.13,
          10.13,
          10.13,
          10.747,
          10.75,
          10.75,
          10.25,
          10.75,
          10.25,
          10.75,
          10.25,
          10.5,
          10.95,
          10.5,
          10.5,
          10.95,
          10.747,
          0.525,
          9.75,
          9.9,
          9.9,
          9.9,
          9.9,
          9.9,
          9.95,
          9.9,
          9.9,
          9.95,
          9.9,
          9.9,
          9.95,
          9.9,
          9.9,
          9.9,
          9.95,
          9.95,
          9.95,
          10,
          10,
          10,
          10,
          10,
          10,
          10,
          10,
          9.601,
          9.25,
          9.45,
          9.45,
          9.45,
          9.5,
          9.5,
          9.5,
          9.5,
          9.5,
          9.5,
          9.601,
          9.601,
          9.601,
          9.601,
          9.74,
          9.7,
          9.74,
          9.25,
          8.95,
          8.825,
          8.825,
          8.825,
          8.825,
          8.95,
          8.95,
          8.95,
          8.95,
          8.95,
          8.95,
          8.95,
          9,
          9,
          9,
          9,
          9,
          9,
          0.575,
          8.2,
          8.5,
          8.5,
          8.5,
          8.625,
          8.75,
          8.75,
          8.75,
          8.75,
          8.75,
          8.75,
          8.75,
          8.8,
          8.825,
          0.475,
          8.5,
          8.5,
          8.5,
          8.5,
          8.5,
          8.5,
          8.5,
          8.5,
          8.5,
          8.5,
          8.25,
          8.25,
          8.25,
          8.3,
          8.325,
          8.45,
          8.45,
          8.45,
          8.35,
          8.45,
          8.45,
          8.45,
          8.45,
          8.5,
          8.5,
          0.695,
          7.87,
          7.87,
          7.87,
          7.92,
          7.95,
          7.95,
          7.95,
          7.95,
          7.95,
          7.95,
          7.95,
          7.95,
          7.95,
          7.95,
          7.95,
          7.95,
          8,
          8,
          0.55,
          8,
          7.95,
          8,
          7.98,
          8,
          7.995,
          7.995,
          8,
          1.05,
          8.044,
          8,
          8.044,
          8.044,
          8.1,
          8.15,
          8.2,
          8.2,
          0.75,
          7.75,
          7.5,
          7.5,
          7.5,
          7.6,
          7.6,
          7.696,
          7.696,
          7.75,
          7.75,
          7.75,
          7.75,
          7.8,
          7.8,
          7.8,
          7.8,
          7.8,
          7.85,
          7.85,
          7.495,
          7.295,
          7.495,
          7.295,
          7.495,
          7.295,
          7.5,
          7.295,
          7.295,
          7.5,
          7.5,
          7.3,
          7.295,
          7.5,
          7.5,
          7.3,
          7.3,
          7.35,
          7.5,
          7.35,
          7.35,
          7.5,
          7.364,
          7.5,
          7.398,
          7.4,
          7.4,
          7.49,
          7.45,
          7.1875,
          7.25,
          6.95,
          6.95,
          6.95,
          6.95,
          6.95,
          6.95,
          6.95,
          6.99,
          6.995,
          7.2,
          7.2,
          7.2,
          7.2,
          6.995,
          7.25,
          7.25,
          7,
          7.25,
          7.25,
          0.845,
          7.15,
          7.053,
          7.15,
          7.15,
          6.9,
          6.5,
          6.5,
          6.5,
          6.5,
          6.5,
          6.595,
          6.5,
          6.9,
          6.6,
          6.636,
          6.6,
          6.62,
          6.65,
          6.62,
          6.95,
          6.636,
          6.75,
          6.636,
          6.636,
          6.75,
          6.95,
          6.95,
          6.95,
          6.75,
          6.75,
          6.95,
          6.95,
          6.75,
          6.75,
          6.95,
          6.815,
          0.55,
          6.825,
          6.815,
          0.9,
          6.5,
          6.5,
          6.5,
          6.5,
          6.5,
          6.5,
          6.5,
          1.6,
          6.5,
          6.5,
          6.5,
          6.5,
          6.5,
          6.5,
          6.5,
          6.5,
          6.5
         ],
         "yaxis": "y"
        }
       ],
       "layout": {
        "legend": {
         "title": {
          "text": "propertyGlobalType"
         },
         "tracegroupgap": 0
        },
        "margin": {
         "t": 60
        },
        "template": {
         "data": {
          "bar": [
           {
            "error_x": {
             "color": "#2a3f5f"
            },
            "error_y": {
             "color": "#2a3f5f"
            },
            "marker": {
             "line": {
              "color": "#E5ECF6",
              "width": 0.5
             },
             "pattern": {
              "fillmode": "overlay",
              "size": 10,
              "solidity": 0.2
             }
            },
            "type": "bar"
           }
          ],
          "barpolar": [
           {
            "marker": {
             "line": {
              "color": "#E5ECF6",
              "width": 0.5
             },
             "pattern": {
              "fillmode": "overlay",
              "size": 10,
              "solidity": 0.2
             }
            },
            "type": "barpolar"
           }
          ],
          "carpet": [
           {
            "aaxis": {
             "endlinecolor": "#2a3f5f",
             "gridcolor": "white",
             "linecolor": "white",
             "minorgridcolor": "white",
             "startlinecolor": "#2a3f5f"
            },
            "baxis": {
             "endlinecolor": "#2a3f5f",
             "gridcolor": "white",
             "linecolor": "white",
             "minorgridcolor": "white",
             "startlinecolor": "#2a3f5f"
            },
            "type": "carpet"
           }
          ],
          "choropleth": [
           {
            "colorbar": {
             "outlinewidth": 0,
             "ticks": ""
            },
            "type": "choropleth"
           }
          ],
          "contour": [
           {
            "colorbar": {
             "outlinewidth": 0,
             "ticks": ""
            },
            "colorscale": [
             [
              0,
              "#0d0887"
             ],
             [
              0.1111111111111111,
              "#46039f"
             ],
             [
              0.2222222222222222,
              "#7201a8"
             ],
             [
              0.3333333333333333,
              "#9c179e"
             ],
             [
              0.4444444444444444,
              "#bd3786"
             ],
             [
              0.5555555555555556,
              "#d8576b"
             ],
             [
              0.6666666666666666,
              "#ed7953"
             ],
             [
              0.7777777777777778,
              "#fb9f3a"
             ],
             [
              0.8888888888888888,
              "#fdca26"
             ],
             [
              1,
              "#f0f921"
             ]
            ],
            "type": "contour"
           }
          ],
          "contourcarpet": [
           {
            "colorbar": {
             "outlinewidth": 0,
             "ticks": ""
            },
            "type": "contourcarpet"
           }
          ],
          "heatmap": [
           {
            "colorbar": {
             "outlinewidth": 0,
             "ticks": ""
            },
            "colorscale": [
             [
              0,
              "#0d0887"
             ],
             [
              0.1111111111111111,
              "#46039f"
             ],
             [
              0.2222222222222222,
              "#7201a8"
             ],
             [
              0.3333333333333333,
              "#9c179e"
             ],
             [
              0.4444444444444444,
              "#bd3786"
             ],
             [
              0.5555555555555556,
              "#d8576b"
             ],
             [
              0.6666666666666666,
              "#ed7953"
             ],
             [
              0.7777777777777778,
              "#fb9f3a"
             ],
             [
              0.8888888888888888,
              "#fdca26"
             ],
             [
              1,
              "#f0f921"
             ]
            ],
            "type": "heatmap"
           }
          ],
          "heatmapgl": [
           {
            "colorbar": {
             "outlinewidth": 0,
             "ticks": ""
            },
            "colorscale": [
             [
              0,
              "#0d0887"
             ],
             [
              0.1111111111111111,
              "#46039f"
             ],
             [
              0.2222222222222222,
              "#7201a8"
             ],
             [
              0.3333333333333333,
              "#9c179e"
             ],
             [
              0.4444444444444444,
              "#bd3786"
             ],
             [
              0.5555555555555556,
              "#d8576b"
             ],
             [
              0.6666666666666666,
              "#ed7953"
             ],
             [
              0.7777777777777778,
              "#fb9f3a"
             ],
             [
              0.8888888888888888,
              "#fdca26"
             ],
             [
              1,
              "#f0f921"
             ]
            ],
            "type": "heatmapgl"
           }
          ],
          "histogram": [
           {
            "marker": {
             "pattern": {
              "fillmode": "overlay",
              "size": 10,
              "solidity": 0.2
             }
            },
            "type": "histogram"
           }
          ],
          "histogram2d": [
           {
            "colorbar": {
             "outlinewidth": 0,
             "ticks": ""
            },
            "colorscale": [
             [
              0,
              "#0d0887"
             ],
             [
              0.1111111111111111,
              "#46039f"
             ],
             [
              0.2222222222222222,
              "#7201a8"
             ],
             [
              0.3333333333333333,
              "#9c179e"
             ],
             [
              0.4444444444444444,
              "#bd3786"
             ],
             [
              0.5555555555555556,
              "#d8576b"
             ],
             [
              0.6666666666666666,
              "#ed7953"
             ],
             [
              0.7777777777777778,
              "#fb9f3a"
             ],
             [
              0.8888888888888888,
              "#fdca26"
             ],
             [
              1,
              "#f0f921"
             ]
            ],
            "type": "histogram2d"
           }
          ],
          "histogram2dcontour": [
           {
            "colorbar": {
             "outlinewidth": 0,
             "ticks": ""
            },
            "colorscale": [
             [
              0,
              "#0d0887"
             ],
             [
              0.1111111111111111,
              "#46039f"
             ],
             [
              0.2222222222222222,
              "#7201a8"
             ],
             [
              0.3333333333333333,
              "#9c179e"
             ],
             [
              0.4444444444444444,
              "#bd3786"
             ],
             [
              0.5555555555555556,
              "#d8576b"
             ],
             [
              0.6666666666666666,
              "#ed7953"
             ],
             [
              0.7777777777777778,
              "#fb9f3a"
             ],
             [
              0.8888888888888888,
              "#fdca26"
             ],
             [
              1,
              "#f0f921"
             ]
            ],
            "type": "histogram2dcontour"
           }
          ],
          "mesh3d": [
           {
            "colorbar": {
             "outlinewidth": 0,
             "ticks": ""
            },
            "type": "mesh3d"
           }
          ],
          "parcoords": [
           {
            "line": {
             "colorbar": {
              "outlinewidth": 0,
              "ticks": ""
             }
            },
            "type": "parcoords"
           }
          ],
          "pie": [
           {
            "automargin": true,
            "type": "pie"
           }
          ],
          "scatter": [
           {
            "fillpattern": {
             "fillmode": "overlay",
             "size": 10,
             "solidity": 0.2
            },
            "type": "scatter"
           }
          ],
          "scatter3d": [
           {
            "line": {
             "colorbar": {
              "outlinewidth": 0,
              "ticks": ""
             }
            },
            "marker": {
             "colorbar": {
              "outlinewidth": 0,
              "ticks": ""
             }
            },
            "type": "scatter3d"
           }
          ],
          "scattercarpet": [
           {
            "marker": {
             "colorbar": {
              "outlinewidth": 0,
              "ticks": ""
             }
            },
            "type": "scattercarpet"
           }
          ],
          "scattergeo": [
           {
            "marker": {
             "colorbar": {
              "outlinewidth": 0,
              "ticks": ""
             }
            },
            "type": "scattergeo"
           }
          ],
          "scattergl": [
           {
            "marker": {
             "colorbar": {
              "outlinewidth": 0,
              "ticks": ""
             }
            },
            "type": "scattergl"
           }
          ],
          "scattermapbox": [
           {
            "marker": {
             "colorbar": {
              "outlinewidth": 0,
              "ticks": ""
             }
            },
            "type": "scattermapbox"
           }
          ],
          "scatterpolar": [
           {
            "marker": {
             "colorbar": {
              "outlinewidth": 0,
              "ticks": ""
             }
            },
            "type": "scatterpolar"
           }
          ],
          "scatterpolargl": [
           {
            "marker": {
             "colorbar": {
              "outlinewidth": 0,
              "ticks": ""
             }
            },
            "type": "scatterpolargl"
           }
          ],
          "scatterternary": [
           {
            "marker": {
             "colorbar": {
              "outlinewidth": 0,
              "ticks": ""
             }
            },
            "type": "scatterternary"
           }
          ],
          "surface": [
           {
            "colorbar": {
             "outlinewidth": 0,
             "ticks": ""
            },
            "colorscale": [
             [
              0,
              "#0d0887"
             ],
             [
              0.1111111111111111,
              "#46039f"
             ],
             [
              0.2222222222222222,
              "#7201a8"
             ],
             [
              0.3333333333333333,
              "#9c179e"
             ],
             [
              0.4444444444444444,
              "#bd3786"
             ],
             [
              0.5555555555555556,
              "#d8576b"
             ],
             [
              0.6666666666666666,
              "#ed7953"
             ],
             [
              0.7777777777777778,
              "#fb9f3a"
             ],
             [
              0.8888888888888888,
              "#fdca26"
             ],
             [
              1,
              "#f0f921"
             ]
            ],
            "type": "surface"
           }
          ],
          "table": [
           {
            "cells": {
             "fill": {
              "color": "#EBF0F8"
             },
             "line": {
              "color": "white"
             }
            },
            "header": {
             "fill": {
              "color": "#C8D4E3"
             },
             "line": {
              "color": "white"
             }
            },
            "type": "table"
           }
          ]
         },
         "layout": {
          "annotationdefaults": {
           "arrowcolor": "#2a3f5f",
           "arrowhead": 0,
           "arrowwidth": 1
          },
          "autotypenumbers": "strict",
          "coloraxis": {
           "colorbar": {
            "outlinewidth": 0,
            "ticks": ""
           }
          },
          "colorscale": {
           "diverging": [
            [
             0,
             "#8e0152"
            ],
            [
             0.1,
             "#c51b7d"
            ],
            [
             0.2,
             "#de77ae"
            ],
            [
             0.3,
             "#f1b6da"
            ],
            [
             0.4,
             "#fde0ef"
            ],
            [
             0.5,
             "#f7f7f7"
            ],
            [
             0.6,
             "#e6f5d0"
            ],
            [
             0.7,
             "#b8e186"
            ],
            [
             0.8,
             "#7fbc41"
            ],
            [
             0.9,
             "#4d9221"
            ],
            [
             1,
             "#276419"
            ]
           ],
           "sequential": [
            [
             0,
             "#0d0887"
            ],
            [
             0.1111111111111111,
             "#46039f"
            ],
            [
             0.2222222222222222,
             "#7201a8"
            ],
            [
             0.3333333333333333,
             "#9c179e"
            ],
            [
             0.4444444444444444,
             "#bd3786"
            ],
            [
             0.5555555555555556,
             "#d8576b"
            ],
            [
             0.6666666666666666,
             "#ed7953"
            ],
            [
             0.7777777777777778,
             "#fb9f3a"
            ],
            [
             0.8888888888888888,
             "#fdca26"
            ],
            [
             1,
             "#f0f921"
            ]
           ],
           "sequentialminus": [
            [
             0,
             "#0d0887"
            ],
            [
             0.1111111111111111,
             "#46039f"
            ],
            [
             0.2222222222222222,
             "#7201a8"
            ],
            [
             0.3333333333333333,
             "#9c179e"
            ],
            [
             0.4444444444444444,
             "#bd3786"
            ],
            [
             0.5555555555555556,
             "#d8576b"
            ],
            [
             0.6666666666666666,
             "#ed7953"
            ],
            [
             0.7777777777777778,
             "#fb9f3a"
            ],
            [
             0.8888888888888888,
             "#fdca26"
            ],
            [
             1,
             "#f0f921"
            ]
           ]
          },
          "colorway": [
           "#636efa",
           "#EF553B",
           "#00cc96",
           "#ab63fa",
           "#FFA15A",
           "#19d3f3",
           "#FF6692",
           "#B6E880",
           "#FF97FF",
           "#FECB52"
          ],
          "font": {
           "color": "#2a3f5f"
          },
          "geo": {
           "bgcolor": "white",
           "lakecolor": "white",
           "landcolor": "#E5ECF6",
           "showlakes": true,
           "showland": true,
           "subunitcolor": "white"
          },
          "hoverlabel": {
           "align": "left"
          },
          "hovermode": "closest",
          "mapbox": {
           "style": "light"
          },
          "paper_bgcolor": "white",
          "plot_bgcolor": "#E5ECF6",
          "polar": {
           "angularaxis": {
            "gridcolor": "white",
            "linecolor": "white",
            "ticks": ""
           },
           "bgcolor": "#E5ECF6",
           "radialaxis": {
            "gridcolor": "white",
            "linecolor": "white",
            "ticks": ""
           }
          },
          "scene": {
           "xaxis": {
            "backgroundcolor": "#E5ECF6",
            "gridcolor": "white",
            "gridwidth": 2,
            "linecolor": "white",
            "showbackground": true,
            "ticks": "",
            "zerolinecolor": "white"
           },
           "yaxis": {
            "backgroundcolor": "#E5ECF6",
            "gridcolor": "white",
            "gridwidth": 2,
            "linecolor": "white",
            "showbackground": true,
            "ticks": "",
            "zerolinecolor": "white"
           },
           "zaxis": {
            "backgroundcolor": "#E5ECF6",
            "gridcolor": "white",
            "gridwidth": 2,
            "linecolor": "white",
            "showbackground": true,
            "ticks": "",
            "zerolinecolor": "white"
           }
          },
          "shapedefaults": {
           "line": {
            "color": "#2a3f5f"
           }
          },
          "ternary": {
           "aaxis": {
            "gridcolor": "white",
            "linecolor": "white",
            "ticks": ""
           },
           "baxis": {
            "gridcolor": "white",
            "linecolor": "white",
            "ticks": ""
           },
           "bgcolor": "#E5ECF6",
           "caxis": {
            "gridcolor": "white",
            "linecolor": "white",
            "ticks": ""
           }
          },
          "title": {
           "x": 0.05
          },
          "xaxis": {
           "automargin": true,
           "gridcolor": "white",
           "linecolor": "white",
           "ticks": "",
           "title": {
            "standoff": 15
           },
           "zerolinecolor": "white",
           "zerolinewidth": 2
          },
          "yaxis": {
           "automargin": true,
           "gridcolor": "white",
           "linecolor": "white",
           "ticks": "",
           "title": {
            "standoff": 15
           },
           "zerolinecolor": "white",
           "zerolinewidth": 2
          }
         }
        },
        "xaxis": {
         "anchor": "y",
         "domain": [
          0,
          1
         ],
         "title": {
          "text": "pricePerSqFoot(k)"
         }
        },
        "yaxis": {
         "anchor": "x",
         "domain": [
          0,
          1
         ],
         "title": {
          "text": "price(M)"
         }
        }
       }
      }
     },
     "metadata": {},
     "output_type": "display_data"
    }
   ],
   "source": [
    "fig = px.scatter(subset, y=\"price(M)\", x=\"pricePerSqFoot(k)\", color=\"propertyGlobalType\")\n",
    "fig.show()"
   ]
  },
  {
   "cell_type": "markdown",
   "metadata": {},
   "source": [
    "#### bedrooms"
   ]
  },
  {
   "cell_type": "markdown",
   "metadata": {},
   "source": [
    "##### propertyType"
   ]
  },
  {
   "cell_type": "code",
   "execution_count": 104,
   "metadata": {},
   "outputs": [
    {
     "data": {
      "application/vnd.plotly.v1+json": {
       "config": {
        "plotlyServerURL": "https://plot.ly"
       },
       "data": [
        {
         "alignmentgroup": "True",
         "box": {
          "visible": false
         },
         "hovertemplate": "propertyType=House<br>Number of Bedrooms=%{x}<br>Price (in millions)=%{y}<extra></extra>",
         "legendgroup": "House",
         "marker": {
          "color": "#636efa"
         },
         "name": "House",
         "offsetgroup": "House",
         "orientation": "v",
         "points": "all",
         "scalegroup": "True",
         "showlegend": true,
         "type": "violin",
         "x": [
          8,
          7,
          6,
          5,
          6,
          5,
          7,
          6,
          7,
          6,
          6,
          5,
          7,
          7,
          5,
          7,
          6,
          6,
          7,
          7,
          10,
          8,
          6,
          5,
          5,
          8,
          5,
          4,
          7,
          6,
          6,
          6,
          5,
          5,
          6,
          6,
          4,
          4,
          6,
          6,
          6,
          3,
          4,
          5,
          5,
          6,
          5,
          12,
          2,
          4,
          6,
          6,
          6,
          4,
          5,
          4,
          6,
          3,
          7,
          5,
          5,
          5,
          5,
          6,
          4,
          5,
          13,
          6,
          4,
          6,
          5,
          4,
          6,
          5,
          5,
          5,
          5,
          5,
          5,
          6,
          3,
          5,
          4
         ],
         "x0": " ",
         "xaxis": "x",
         "y": [
          24.95,
          29.5,
          25,
          25,
          25,
          28,
          29.5,
          29.95,
          30,
          47,
          18.25,
          18.8,
          18.95,
          18.95,
          21.95,
          22,
          22.5,
          22.5,
          24,
          20,
          17,
          16,
          16,
          16.75,
          13.85,
          13.95,
          14,
          14,
          15.95,
          14.95,
          12.95,
          12.95,
          12.95,
          12.95,
          12.95,
          11.5,
          11.5,
          11.25,
          11.95,
          10,
          10.95,
          0.795,
          10.95,
          9.95,
          9.95,
          9.95,
          9.95,
          9.975,
          9.25,
          9.25,
          9.35,
          9.35,
          9.5,
          9.5,
          9.5,
          9.5,
          8.95,
          8.95,
          8.99995,
          9,
          8.5,
          8.5,
          8.5,
          8.5,
          7.95,
          7.95,
          8,
          7.5,
          7.75,
          6.95,
          6.95,
          6.95,
          7.25,
          7.25,
          7.05,
          6.5,
          6.85,
          6.95,
          6.95,
          6.5,
          6.5,
          6.5,
          6.5
         ],
         "y0": " ",
         "yaxis": "y"
        },
        {
         "alignmentgroup": "True",
         "box": {
          "visible": false
         },
         "hovertemplate": "propertyType=Terraced<br>Number of Bedrooms=%{x}<br>Price (in millions)=%{y}<extra></extra>",
         "legendgroup": "Terraced",
         "marker": {
          "color": "#EF553B"
         },
         "name": "Terraced",
         "offsetgroup": "Terraced",
         "orientation": "v",
         "points": "all",
         "scalegroup": "True",
         "showlegend": true,
         "type": "violin",
         "x": [
          6,
          6,
          6,
          10,
          7,
          4,
          6,
          8,
          9,
          10,
          7,
          7,
          7,
          7,
          6,
          6,
          10,
          6,
          3,
          10,
          5,
          10,
          5,
          6,
          6,
          6,
          7,
          6,
          6,
          5,
          5,
          5,
          6,
          6,
          5,
          6,
          4,
          7,
          8,
          4,
          4,
          5,
          6,
          10,
          6,
          5,
          4,
          5,
          5,
          5,
          4,
          4,
          5,
          6,
          10,
          6,
          5,
          5,
          7,
          8,
          5,
          7,
          4,
          6,
          4,
          5,
          4,
          7,
          4,
          5,
          6,
          5,
          6,
          6,
          5,
          6,
          5,
          6,
          6,
          5,
          4,
          5,
          5,
          8,
          5,
          5,
          7,
          4,
          4,
          5,
          5,
          5,
          6,
          8,
          5,
          6,
          5,
          4,
          9,
          4,
          4,
          5,
          5,
          6,
          5,
          5,
          5,
          6,
          5,
          4,
          7,
          4,
          3,
          3,
          5,
          4,
          5,
          3,
          6,
          12,
          4,
          4,
          4,
          5,
          5,
          4,
          5,
          4,
          4,
          6,
          4,
          4,
          5,
          5,
          5,
          4,
          3,
          6,
          3
         ],
         "x0": " ",
         "xaxis": "x",
         "y": [
          25,
          25,
          25,
          25,
          29.5,
          28,
          29.975,
          38,
          45,
          65,
          18.95,
          18.95,
          19.75,
          23,
          23.5,
          23.95,
          20,
          17.95,
          16,
          16.5,
          16.75,
          16.5,
          16.95,
          16.95,
          13.75,
          13.85,
          13.95,
          15.95,
          15.95,
          15.95,
          14.95,
          15,
          15,
          15,
          12.5,
          12.95,
          12.95,
          13.5,
          13.5,
          10.95,
          10.99,
          11.95,
          11.95,
          11,
          11.5,
          11.95,
          11.25,
          11.25,
          11.25,
          11.995,
          12,
          11.5,
          12,
          11.9,
          10,
          10.75,
          10.75,
          10.25,
          10.85,
          10.5,
          10.5,
          10.95,
          10.95,
          10.5,
          10.95,
          10.95,
          10.95,
          10.95,
          9.95,
          9.75,
          9.75,
          9.95,
          10,
          10,
          10,
          9.5,
          9.5,
          9.65,
          3.75,
          8.95,
          8.95,
          8.995,
          8.95,
          9,
          8.65,
          8.3,
          7.95,
          7.95,
          7.95,
          7.95,
          7.95,
          8,
          8,
          7.95,
          7.95,
          7.95,
          8,
          7.95,
          7.995,
          8,
          8.1,
          7.6,
          7.65,
          7.65,
          7.75,
          7.75,
          7.75,
          7.495,
          7.3,
          7.5,
          7.5,
          7.35,
          7.5,
          6.95,
          6.95,
          6.95,
          6.95,
          6.95,
          6.995,
          7,
          7.25,
          7.25,
          7.25,
          6.595,
          6.5,
          6.85,
          6.595,
          6.85,
          6.95,
          6.75,
          6.95,
          6.95,
          6.75,
          6.75,
          6.95,
          6.95,
          6.5,
          6.5,
          6.5
         ],
         "y0": " ",
         "yaxis": "y"
        },
        {
         "alignmentgroup": "True",
         "box": {
          "visible": false
         },
         "hovertemplate": "propertyType=Detached<br>Number of Bedrooms=%{x}<br>Price (in millions)=%{y}<extra></extra>",
         "legendgroup": "Detached",
         "marker": {
          "color": "#00cc96"
         },
         "name": "Detached",
         "offsetgroup": "Detached",
         "orientation": "v",
         "points": "all",
         "scalegroup": "True",
         "showlegend": true,
         "type": "violin",
         "x": [
          6,
          8,
          9,
          8,
          10,
          8,
          8,
          7,
          6,
          7,
          8,
          6,
          4,
          5,
          6,
          5,
          12,
          6,
          6,
          4,
          7,
          11,
          10,
          6,
          6,
          4,
          7,
          7,
          8,
          5,
          6,
          7,
          6,
          6,
          6,
          7,
          6,
          6,
          6,
          7,
          7,
          6,
          7,
          6,
          6,
          6,
          5,
          9,
          7,
          8,
          8,
          8,
          8,
          6,
          5,
          8,
          7,
          7,
          8,
          6,
          6,
          6,
          7,
          7,
          7,
          6,
          10,
          6,
          6,
          5,
          7,
          8,
          5,
          5,
          7,
          5,
          7,
          5,
          5,
          13,
          5,
          6,
          6,
          8,
          8,
          8,
          7,
          7,
          5,
          11,
          8,
          6,
          10,
          3,
          6,
          7,
          5,
          9,
          6,
          8,
          5,
          7,
          6,
          7,
          7,
          7,
          7,
          5,
          6,
          8,
          5,
          6,
          6,
          6,
          6,
          6,
          7,
          6
         ],
         "x0": " ",
         "xaxis": "x",
         "y": [
          24.95,
          24.95,
          29.95,
          30,
          32,
          30,
          30,
          18.95,
          19.5,
          22.95,
          24,
          24.95,
          19.95,
          20,
          21.5,
          17.5,
          17.5,
          17.95,
          17.95,
          1.85,
          16.5,
          16.95,
          16.95,
          14.5,
          15.5,
          14,
          15.5,
          15.5,
          15.5,
          15.75,
          15.75,
          15.95,
          14.8,
          3,
          14.95,
          15,
          12.95,
          12.95,
          13.5,
          13.5,
          13.5,
          13.5,
          11,
          10.95,
          11.95,
          11.5,
          11.95,
          11.95,
          12,
          12.25,
          12.5,
          10.95,
          10.95,
          10.95,
          10.95,
          9.75,
          9.95,
          9.95,
          9.95,
          9.995,
          10,
          10,
          9.5,
          9.5,
          8.95,
          8.95,
          8.95,
          8.95,
          8.5,
          8.5,
          8.5,
          8.75,
          8.5,
          7.95,
          7.95,
          7.95,
          8,
          8,
          8,
          8,
          7.75,
          7.5,
          7.5,
          7.65,
          7.65,
          7.75,
          7.75,
          7.75,
          7.75,
          7.495,
          7.5,
          7.5,
          7.5,
          7.5,
          7.5,
          6.95,
          6.95,
          6.995,
          7.25,
          7.25,
          7,
          7,
          7,
          7,
          6.6,
          6.6,
          6.95,
          1.2,
          6.75,
          6.75,
          6.75,
          6.8,
          6.5,
          6.5,
          6.5,
          6.5,
          6.5,
          6.5
         ],
         "y0": " ",
         "yaxis": "y"
        },
        {
         "alignmentgroup": "True",
         "box": {
          "visible": false
         },
         "hovertemplate": "propertyType=Apartment<br>Number of Bedrooms=%{x}<br>Price (in millions)=%{y}<extra></extra>",
         "legendgroup": "Apartment",
         "marker": {
          "color": "#ab63fa"
         },
         "name": "Apartment",
         "offsetgroup": "Apartment",
         "orientation": "v",
         "points": "all",
         "scalegroup": "True",
         "showlegend": true,
         "type": "violin",
         "x": [
          3,
          3,
          4,
          4,
          5,
          4,
          3,
          5,
          5,
          4,
          6,
          3,
          5,
          7,
          4,
          4,
          2,
          3,
          4,
          3,
          3,
          3,
          3,
          4,
          4,
          3,
          5,
          4,
          3,
          3,
          3,
          4,
          5,
          4,
          4,
          3,
          4,
          3,
          4,
          3,
          5,
          4,
          3,
          3,
          3,
          3,
          3,
          5,
          3,
          7,
          3,
          3,
          3,
          4,
          5,
          4,
          5,
          4,
          3,
          5,
          3,
          3,
          3,
          3,
          3,
          3,
          3,
          5,
          3,
          3,
          2,
          5,
          2,
          3,
          4,
          5,
          3,
          4,
          4,
          5,
          5,
          5,
          4,
          5,
          4,
          3,
          6,
          6,
          6,
          4,
          4,
          3,
          3,
          4,
          3,
          3,
          6,
          3,
          3,
          6,
          4,
          2,
          3,
          3,
          6,
          3,
          3,
          4,
          3,
          3,
          3,
          4,
          3,
          5,
          3,
          5,
          5,
          3,
          5,
          3,
          3,
          3,
          4,
          4,
          3,
          2,
          3,
          3,
          2,
          2,
          1,
          5,
          5,
          2,
          2,
          9,
          5,
          5,
          2,
          3,
          3,
          3,
          3,
          3,
          3,
          3,
          3,
          3,
          3,
          4,
          3,
          3,
          6,
          3,
          3,
          6,
          3,
          4,
          5,
          3,
          3,
          3,
          3,
          4,
          2,
          3,
          3,
          4,
          2,
          7,
          2,
          2,
          4,
          4,
          4,
          4,
          3,
          5,
          4,
          3,
          3,
          5,
          3,
          3,
          3,
          3,
          3,
          3,
          4,
          3,
          4,
          3,
          1,
          2,
          2,
          1,
          4,
          3,
          3,
          4,
          3,
          2,
          5,
          3,
          2,
          3,
          3
         ],
         "x0": " ",
         "xaxis": "x",
         "y": [
          25,
          19.95,
          18.5,
          19,
          22.5,
          23.5,
          2.1,
          19.95,
          19.95,
          20,
          16,
          17.5,
          17.5,
          17.5,
          16,
          16.25,
          0.725,
          13.75,
          13.95,
          13.95,
          14,
          14.25,
          14,
          15.65,
          15.75,
          14.75,
          14.75,
          14.6,
          14.95,
          15,
          15,
          12.75,
          12.95,
          12.95,
          12.95,
          13,
          13.25,
          13.5,
          13.5,
          10.95,
          11,
          11.5,
          11.2,
          11.95,
          11.25,
          12,
          11.5,
          11.59,
          11.75,
          11.7,
          11.75,
          12.5,
          3.95,
          10,
          10.13,
          10.13,
          10.13,
          10.75,
          10.75,
          10.75,
          10.25,
          10.75,
          10.25,
          10.5,
          10.95,
          10.5,
          10.95,
          10.747,
          9.95,
          9.95,
          9.9,
          9.95,
          10,
          10,
          10,
          10,
          9.5,
          9.5,
          9.5,
          9.601,
          9.601,
          9.601,
          9.74,
          9.7,
          9.74,
          9.25,
          8.825,
          8.825,
          8.825,
          8.95,
          8.95,
          8.95,
          8.95,
          8.95,
          8.95,
          9,
          9,
          9,
          9,
          8.5,
          8.75,
          8.75,
          8.75,
          8.75,
          8.825,
          8.5,
          8.5,
          8.5,
          8.5,
          8.5,
          8.25,
          8.3,
          8.325,
          8.45,
          8.35,
          8.45,
          8.45,
          8.5,
          7.87,
          7.95,
          7.95,
          7.95,
          7.95,
          7.95,
          8,
          0.55,
          8,
          7.98,
          7.995,
          7.995,
          1.05,
          8.044,
          8.1,
          8.2,
          0.75,
          7.5,
          7.5,
          7.6,
          7.75,
          7.75,
          7.75,
          7.8,
          7.8,
          7.8,
          7.295,
          7.295,
          7.495,
          7.295,
          7.5,
          7.295,
          7.3,
          7.295,
          7.5,
          7.3,
          7.3,
          7.35,
          7.35,
          7.5,
          7.364,
          7.5,
          7.398,
          7.4,
          7.49,
          7.25,
          6.95,
          6.95,
          6.95,
          6.95,
          6.95,
          6.99,
          7.2,
          7.2,
          7.2,
          6.995,
          7.25,
          7.25,
          7.15,
          7.053,
          6.9,
          6.5,
          6.5,
          6.5,
          6.5,
          6.9,
          6.6,
          6.65,
          6.95,
          6.75,
          6.636,
          6.95,
          6.75,
          6.75,
          6.95,
          6.95,
          6.75,
          0.55,
          6.825,
          6.5,
          6.5,
          6.5,
          6.5,
          6.5,
          6.5,
          6.5,
          6.5,
          6.5,
          6.5
         ],
         "y0": " ",
         "yaxis": "y"
        },
        {
         "alignmentgroup": "True",
         "box": {
          "visible": false
         },
         "hovertemplate": "propertyType=Penthouse<br>Number of Bedrooms=%{x}<br>Price (in millions)=%{y}<extra></extra>",
         "legendgroup": "Penthouse",
         "marker": {
          "color": "#FFA15A"
         },
         "name": "Penthouse",
         "offsetgroup": "Penthouse",
         "orientation": "v",
         "points": "all",
         "scalegroup": "True",
         "showlegend": true,
         "type": "violin",
         "x": [
          6,
          4,
          5,
          5,
          5,
          8,
          3,
          3,
          8,
          3,
          4,
          4,
          4,
          3,
          3,
          5,
          7,
          4,
          3,
          3,
          4,
          4,
          4,
          4,
          3,
          4,
          5,
          3,
          4,
          3,
          3,
          3,
          5,
          3,
          5,
          4,
          5,
          4,
          5,
          3,
          3,
          3,
          5,
          5,
          6,
          3,
          4,
          3,
          3,
          3,
          4,
          3,
          5,
          4,
          4,
          3,
          3,
          3,
          4,
          4,
          3,
          3,
          4,
          3,
          6,
          2,
          3,
          3,
          4,
          3,
          3,
          4,
          5,
          3,
          5,
          3,
          3
         ],
         "x0": " ",
         "xaxis": "x",
         "y": [
          26.5,
          19.5,
          22.5,
          19.95,
          19.95,
          20.995,
          17.5,
          17.7,
          16,
          13.95,
          14,
          14.5,
          15.75,
          13.5,
          12.65,
          12.95,
          13,
          13.25,
          13.395,
          13.5,
          13.5,
          11,
          11,
          11.5,
          11.95,
          11.5,
          12,
          10.5,
          9.9,
          9.9,
          9.9,
          9.9,
          9.95,
          9.9,
          9.95,
          9.95,
          10,
          10,
          9.601,
          9.45,
          9.45,
          9.5,
          9.601,
          8.95,
          9,
          8.625,
          8.75,
          8.75,
          8.5,
          8.25,
          8.25,
          7.92,
          7.95,
          7.95,
          7.95,
          8,
          7.95,
          8,
          8,
          7.75,
          7.5,
          7.6,
          7.75,
          7.495,
          7.35,
          7.4,
          7.15,
          7.15,
          6.636,
          6.62,
          6.62,
          6.95,
          6.95,
          6.815,
          6.5,
          6.5,
          6.5
         ],
         "y0": " ",
         "yaxis": "y"
        },
        {
         "alignmentgroup": "True",
         "box": {
          "visible": false
         },
         "hovertemplate": "propertyType=Flat<br>Number of Bedrooms=%{x}<br>Price (in millions)=%{y}<extra></extra>",
         "legendgroup": "Flat",
         "marker": {
          "color": "#19d3f3"
         },
         "name": "Flat",
         "offsetgroup": "Flat",
         "orientation": "v",
         "points": "all",
         "scalegroup": "True",
         "showlegend": true,
         "type": "violin",
         "x": [
          6,
          5,
          5,
          5,
          4,
          8,
          7,
          4,
          3,
          3,
          4,
          4,
          4,
          4,
          3,
          4,
          1,
          4,
          4,
          4,
          5,
          3,
          4,
          9,
          2,
          5,
          5,
          3,
          2,
          4,
          3,
          3,
          2,
          3,
          3,
          3,
          5,
          4,
          3,
          3,
          3,
          4,
          4,
          6,
          3,
          2,
          2,
          3,
          4,
          3,
          3,
          2,
          5,
          3,
          6,
          4,
          5,
          5,
          5,
          5,
          3,
          3,
          5,
          5,
          5,
          4,
          4,
          3,
          2,
          5,
          5,
          5,
          2,
          2,
          5,
          5,
          3,
          5,
          3,
          3,
          3,
          3,
          4,
          3,
          1,
          4,
          5,
          5,
          3,
          4,
          3,
          4,
          5,
          4,
          2,
          3,
          2,
          3,
          2,
          4,
          4,
          5,
          5,
          6,
          3,
          3,
          2,
          3,
          2,
          3,
          4
         ],
         "x0": " ",
         "xaxis": "x",
         "y": [
          26.5,
          18.5,
          24,
          19.95,
          17.8,
          18,
          18,
          16.25,
          13.95,
          14.25,
          15.65,
          15.65,
          15.75,
          15.95,
          14.95,
          12.5,
          12.5,
          12.6,
          11,
          11,
          11,
          11.795,
          12,
          12.5,
          0.625,
          10.747,
          10.747,
          10.25,
          0.525,
          9.75,
          9.9,
          9.9,
          9.9,
          9.9,
          9.9,
          9.9,
          10,
          10,
          9.25,
          9.45,
          9.5,
          9.5,
          8.95,
          8.825,
          9,
          0.575,
          8.2,
          8.5,
          8.5,
          8.75,
          8.8,
          0.475,
          8.5,
          8.5,
          8.5,
          8.5,
          8.45,
          8.45,
          8.45,
          8.45,
          8.5,
          0.695,
          7.87,
          7.87,
          7.95,
          7.95,
          7.95,
          7.95,
          8,
          8,
          8.044,
          8.044,
          8.15,
          8.2,
          7.696,
          7.696,
          7.8,
          7.8,
          7.85,
          7.85,
          7.495,
          7.295,
          7.5,
          7.5,
          7.5,
          7.5,
          7.45,
          7.1875,
          6.95,
          6.95,
          6.995,
          7.2,
          7.25,
          7,
          7.25,
          0.845,
          6.5,
          6.595,
          6.5,
          6.6,
          6.636,
          6.636,
          6.75,
          6.95,
          6.75,
          6.815,
          0.9,
          6.5,
          1.6,
          6.5,
          6.5
         ],
         "y0": " ",
         "yaxis": "y"
        }
       ],
       "layout": {
        "legend": {
         "title": {
          "text": "propertyType"
         },
         "tracegroupgap": 0
        },
        "template": {
         "data": {
          "bar": [
           {
            "error_x": {
             "color": "#2a3f5f"
            },
            "error_y": {
             "color": "#2a3f5f"
            },
            "marker": {
             "line": {
              "color": "#E5ECF6",
              "width": 0.5
             },
             "pattern": {
              "fillmode": "overlay",
              "size": 10,
              "solidity": 0.2
             }
            },
            "type": "bar"
           }
          ],
          "barpolar": [
           {
            "marker": {
             "line": {
              "color": "#E5ECF6",
              "width": 0.5
             },
             "pattern": {
              "fillmode": "overlay",
              "size": 10,
              "solidity": 0.2
             }
            },
            "type": "barpolar"
           }
          ],
          "carpet": [
           {
            "aaxis": {
             "endlinecolor": "#2a3f5f",
             "gridcolor": "white",
             "linecolor": "white",
             "minorgridcolor": "white",
             "startlinecolor": "#2a3f5f"
            },
            "baxis": {
             "endlinecolor": "#2a3f5f",
             "gridcolor": "white",
             "linecolor": "white",
             "minorgridcolor": "white",
             "startlinecolor": "#2a3f5f"
            },
            "type": "carpet"
           }
          ],
          "choropleth": [
           {
            "colorbar": {
             "outlinewidth": 0,
             "ticks": ""
            },
            "type": "choropleth"
           }
          ],
          "contour": [
           {
            "colorbar": {
             "outlinewidth": 0,
             "ticks": ""
            },
            "colorscale": [
             [
              0,
              "#0d0887"
             ],
             [
              0.1111111111111111,
              "#46039f"
             ],
             [
              0.2222222222222222,
              "#7201a8"
             ],
             [
              0.3333333333333333,
              "#9c179e"
             ],
             [
              0.4444444444444444,
              "#bd3786"
             ],
             [
              0.5555555555555556,
              "#d8576b"
             ],
             [
              0.6666666666666666,
              "#ed7953"
             ],
             [
              0.7777777777777778,
              "#fb9f3a"
             ],
             [
              0.8888888888888888,
              "#fdca26"
             ],
             [
              1,
              "#f0f921"
             ]
            ],
            "type": "contour"
           }
          ],
          "contourcarpet": [
           {
            "colorbar": {
             "outlinewidth": 0,
             "ticks": ""
            },
            "type": "contourcarpet"
           }
          ],
          "heatmap": [
           {
            "colorbar": {
             "outlinewidth": 0,
             "ticks": ""
            },
            "colorscale": [
             [
              0,
              "#0d0887"
             ],
             [
              0.1111111111111111,
              "#46039f"
             ],
             [
              0.2222222222222222,
              "#7201a8"
             ],
             [
              0.3333333333333333,
              "#9c179e"
             ],
             [
              0.4444444444444444,
              "#bd3786"
             ],
             [
              0.5555555555555556,
              "#d8576b"
             ],
             [
              0.6666666666666666,
              "#ed7953"
             ],
             [
              0.7777777777777778,
              "#fb9f3a"
             ],
             [
              0.8888888888888888,
              "#fdca26"
             ],
             [
              1,
              "#f0f921"
             ]
            ],
            "type": "heatmap"
           }
          ],
          "heatmapgl": [
           {
            "colorbar": {
             "outlinewidth": 0,
             "ticks": ""
            },
            "colorscale": [
             [
              0,
              "#0d0887"
             ],
             [
              0.1111111111111111,
              "#46039f"
             ],
             [
              0.2222222222222222,
              "#7201a8"
             ],
             [
              0.3333333333333333,
              "#9c179e"
             ],
             [
              0.4444444444444444,
              "#bd3786"
             ],
             [
              0.5555555555555556,
              "#d8576b"
             ],
             [
              0.6666666666666666,
              "#ed7953"
             ],
             [
              0.7777777777777778,
              "#fb9f3a"
             ],
             [
              0.8888888888888888,
              "#fdca26"
             ],
             [
              1,
              "#f0f921"
             ]
            ],
            "type": "heatmapgl"
           }
          ],
          "histogram": [
           {
            "marker": {
             "pattern": {
              "fillmode": "overlay",
              "size": 10,
              "solidity": 0.2
             }
            },
            "type": "histogram"
           }
          ],
          "histogram2d": [
           {
            "colorbar": {
             "outlinewidth": 0,
             "ticks": ""
            },
            "colorscale": [
             [
              0,
              "#0d0887"
             ],
             [
              0.1111111111111111,
              "#46039f"
             ],
             [
              0.2222222222222222,
              "#7201a8"
             ],
             [
              0.3333333333333333,
              "#9c179e"
             ],
             [
              0.4444444444444444,
              "#bd3786"
             ],
             [
              0.5555555555555556,
              "#d8576b"
             ],
             [
              0.6666666666666666,
              "#ed7953"
             ],
             [
              0.7777777777777778,
              "#fb9f3a"
             ],
             [
              0.8888888888888888,
              "#fdca26"
             ],
             [
              1,
              "#f0f921"
             ]
            ],
            "type": "histogram2d"
           }
          ],
          "histogram2dcontour": [
           {
            "colorbar": {
             "outlinewidth": 0,
             "ticks": ""
            },
            "colorscale": [
             [
              0,
              "#0d0887"
             ],
             [
              0.1111111111111111,
              "#46039f"
             ],
             [
              0.2222222222222222,
              "#7201a8"
             ],
             [
              0.3333333333333333,
              "#9c179e"
             ],
             [
              0.4444444444444444,
              "#bd3786"
             ],
             [
              0.5555555555555556,
              "#d8576b"
             ],
             [
              0.6666666666666666,
              "#ed7953"
             ],
             [
              0.7777777777777778,
              "#fb9f3a"
             ],
             [
              0.8888888888888888,
              "#fdca26"
             ],
             [
              1,
              "#f0f921"
             ]
            ],
            "type": "histogram2dcontour"
           }
          ],
          "mesh3d": [
           {
            "colorbar": {
             "outlinewidth": 0,
             "ticks": ""
            },
            "type": "mesh3d"
           }
          ],
          "parcoords": [
           {
            "line": {
             "colorbar": {
              "outlinewidth": 0,
              "ticks": ""
             }
            },
            "type": "parcoords"
           }
          ],
          "pie": [
           {
            "automargin": true,
            "type": "pie"
           }
          ],
          "scatter": [
           {
            "fillpattern": {
             "fillmode": "overlay",
             "size": 10,
             "solidity": 0.2
            },
            "type": "scatter"
           }
          ],
          "scatter3d": [
           {
            "line": {
             "colorbar": {
              "outlinewidth": 0,
              "ticks": ""
             }
            },
            "marker": {
             "colorbar": {
              "outlinewidth": 0,
              "ticks": ""
             }
            },
            "type": "scatter3d"
           }
          ],
          "scattercarpet": [
           {
            "marker": {
             "colorbar": {
              "outlinewidth": 0,
              "ticks": ""
             }
            },
            "type": "scattercarpet"
           }
          ],
          "scattergeo": [
           {
            "marker": {
             "colorbar": {
              "outlinewidth": 0,
              "ticks": ""
             }
            },
            "type": "scattergeo"
           }
          ],
          "scattergl": [
           {
            "marker": {
             "colorbar": {
              "outlinewidth": 0,
              "ticks": ""
             }
            },
            "type": "scattergl"
           }
          ],
          "scattermapbox": [
           {
            "marker": {
             "colorbar": {
              "outlinewidth": 0,
              "ticks": ""
             }
            },
            "type": "scattermapbox"
           }
          ],
          "scatterpolar": [
           {
            "marker": {
             "colorbar": {
              "outlinewidth": 0,
              "ticks": ""
             }
            },
            "type": "scatterpolar"
           }
          ],
          "scatterpolargl": [
           {
            "marker": {
             "colorbar": {
              "outlinewidth": 0,
              "ticks": ""
             }
            },
            "type": "scatterpolargl"
           }
          ],
          "scatterternary": [
           {
            "marker": {
             "colorbar": {
              "outlinewidth": 0,
              "ticks": ""
             }
            },
            "type": "scatterternary"
           }
          ],
          "surface": [
           {
            "colorbar": {
             "outlinewidth": 0,
             "ticks": ""
            },
            "colorscale": [
             [
              0,
              "#0d0887"
             ],
             [
              0.1111111111111111,
              "#46039f"
             ],
             [
              0.2222222222222222,
              "#7201a8"
             ],
             [
              0.3333333333333333,
              "#9c179e"
             ],
             [
              0.4444444444444444,
              "#bd3786"
             ],
             [
              0.5555555555555556,
              "#d8576b"
             ],
             [
              0.6666666666666666,
              "#ed7953"
             ],
             [
              0.7777777777777778,
              "#fb9f3a"
             ],
             [
              0.8888888888888888,
              "#fdca26"
             ],
             [
              1,
              "#f0f921"
             ]
            ],
            "type": "surface"
           }
          ],
          "table": [
           {
            "cells": {
             "fill": {
              "color": "#EBF0F8"
             },
             "line": {
              "color": "white"
             }
            },
            "header": {
             "fill": {
              "color": "#C8D4E3"
             },
             "line": {
              "color": "white"
             }
            },
            "type": "table"
           }
          ]
         },
         "layout": {
          "annotationdefaults": {
           "arrowcolor": "#2a3f5f",
           "arrowhead": 0,
           "arrowwidth": 1
          },
          "autotypenumbers": "strict",
          "coloraxis": {
           "colorbar": {
            "outlinewidth": 0,
            "ticks": ""
           }
          },
          "colorscale": {
           "diverging": [
            [
             0,
             "#8e0152"
            ],
            [
             0.1,
             "#c51b7d"
            ],
            [
             0.2,
             "#de77ae"
            ],
            [
             0.3,
             "#f1b6da"
            ],
            [
             0.4,
             "#fde0ef"
            ],
            [
             0.5,
             "#f7f7f7"
            ],
            [
             0.6,
             "#e6f5d0"
            ],
            [
             0.7,
             "#b8e186"
            ],
            [
             0.8,
             "#7fbc41"
            ],
            [
             0.9,
             "#4d9221"
            ],
            [
             1,
             "#276419"
            ]
           ],
           "sequential": [
            [
             0,
             "#0d0887"
            ],
            [
             0.1111111111111111,
             "#46039f"
            ],
            [
             0.2222222222222222,
             "#7201a8"
            ],
            [
             0.3333333333333333,
             "#9c179e"
            ],
            [
             0.4444444444444444,
             "#bd3786"
            ],
            [
             0.5555555555555556,
             "#d8576b"
            ],
            [
             0.6666666666666666,
             "#ed7953"
            ],
            [
             0.7777777777777778,
             "#fb9f3a"
            ],
            [
             0.8888888888888888,
             "#fdca26"
            ],
            [
             1,
             "#f0f921"
            ]
           ],
           "sequentialminus": [
            [
             0,
             "#0d0887"
            ],
            [
             0.1111111111111111,
             "#46039f"
            ],
            [
             0.2222222222222222,
             "#7201a8"
            ],
            [
             0.3333333333333333,
             "#9c179e"
            ],
            [
             0.4444444444444444,
             "#bd3786"
            ],
            [
             0.5555555555555556,
             "#d8576b"
            ],
            [
             0.6666666666666666,
             "#ed7953"
            ],
            [
             0.7777777777777778,
             "#fb9f3a"
            ],
            [
             0.8888888888888888,
             "#fdca26"
            ],
            [
             1,
             "#f0f921"
            ]
           ]
          },
          "colorway": [
           "#636efa",
           "#EF553B",
           "#00cc96",
           "#ab63fa",
           "#FFA15A",
           "#19d3f3",
           "#FF6692",
           "#B6E880",
           "#FF97FF",
           "#FECB52"
          ],
          "font": {
           "color": "#2a3f5f"
          },
          "geo": {
           "bgcolor": "white",
           "lakecolor": "white",
           "landcolor": "#E5ECF6",
           "showlakes": true,
           "showland": true,
           "subunitcolor": "white"
          },
          "hoverlabel": {
           "align": "left"
          },
          "hovermode": "closest",
          "mapbox": {
           "style": "light"
          },
          "paper_bgcolor": "white",
          "plot_bgcolor": "#E5ECF6",
          "polar": {
           "angularaxis": {
            "gridcolor": "white",
            "linecolor": "white",
            "ticks": ""
           },
           "bgcolor": "#E5ECF6",
           "radialaxis": {
            "gridcolor": "white",
            "linecolor": "white",
            "ticks": ""
           }
          },
          "scene": {
           "xaxis": {
            "backgroundcolor": "#E5ECF6",
            "gridcolor": "white",
            "gridwidth": 2,
            "linecolor": "white",
            "showbackground": true,
            "ticks": "",
            "zerolinecolor": "white"
           },
           "yaxis": {
            "backgroundcolor": "#E5ECF6",
            "gridcolor": "white",
            "gridwidth": 2,
            "linecolor": "white",
            "showbackground": true,
            "ticks": "",
            "zerolinecolor": "white"
           },
           "zaxis": {
            "backgroundcolor": "#E5ECF6",
            "gridcolor": "white",
            "gridwidth": 2,
            "linecolor": "white",
            "showbackground": true,
            "ticks": "",
            "zerolinecolor": "white"
           }
          },
          "shapedefaults": {
           "line": {
            "color": "#2a3f5f"
           }
          },
          "ternary": {
           "aaxis": {
            "gridcolor": "white",
            "linecolor": "white",
            "ticks": ""
           },
           "baxis": {
            "gridcolor": "white",
            "linecolor": "white",
            "ticks": ""
           },
           "bgcolor": "#E5ECF6",
           "caxis": {
            "gridcolor": "white",
            "linecolor": "white",
            "ticks": ""
           }
          },
          "title": {
           "x": 0.05
          },
          "xaxis": {
           "automargin": true,
           "gridcolor": "white",
           "linecolor": "white",
           "ticks": "",
           "title": {
            "standoff": 15
           },
           "zerolinecolor": "white",
           "zerolinewidth": 2
          },
          "yaxis": {
           "automargin": true,
           "gridcolor": "white",
           "linecolor": "white",
           "ticks": "",
           "title": {
            "standoff": 15
           },
           "zerolinecolor": "white",
           "zerolinewidth": 2
          }
         }
        },
        "title": {
         "text": "Price Distribution by Number of Bedrooms and Property Type"
        },
        "violinmode": "group",
        "xaxis": {
         "anchor": "y",
         "domain": [
          0,
          1
         ],
         "dtick": 1,
         "range": [
          0,
          13
         ],
         "tick0": 1,
         "tickmode": "linear",
         "title": {
          "text": "Number of Bedrooms"
         }
        },
        "yaxis": {
         "anchor": "x",
         "domain": [
          0,
          1
         ],
         "range": [
          0,
          80
         ],
         "title": {
          "text": "Price (in millions)"
         }
        }
       }
      }
     },
     "metadata": {},
     "output_type": "display_data"
    }
   ],
   "source": [
    "fig = px.violin(\n",
    "    subset, \n",
    "    x='bedrooms',\n",
    "    y='price(M)',\n",
    "    color='propertyType',\n",
    "    title='Price Distribution by Number of Bedrooms and Property Type',\n",
    "    labels={'bedrooms': 'Number of Bedrooms', 'price(M)': 'Price (in millions)'},\n",
    "    box=False,\n",
    "    points='all',\n",
    "\n",
    ")\n",
    "\n",
    "fig.update_layout(\n",
    "    xaxis_title='Number of Bedrooms',\n",
    "    yaxis_title='Price (in millions)',\n",
    "    template='plotly',\n",
    "    xaxis_range=[0, 13],\n",
    "    yaxis_range=[0, 80],\n",
    "    xaxis=dict(\n",
    "        tickmode='linear',\n",
    "        tick0=1,\n",
    "        dtick=1\n",
    "    ),\n",
    ")\n",
    "\n",
    "fig.show()\n"
   ]
  },
  {
   "cell_type": "markdown",
   "metadata": {},
   "source": [
    "##### propertyGlobalType"
   ]
  },
  {
   "cell_type": "code",
   "execution_count": 103,
   "metadata": {},
   "outputs": [
    {
     "data": {
      "application/vnd.plotly.v1+json": {
       "config": {
        "plotlyServerURL": "https://plot.ly"
       },
       "data": [
        {
         "alignmentgroup": "True",
         "box": {
          "visible": false
         },
         "hovertemplate": "propertyGlobalType=House<br>Number of Bedrooms=%{x}<br>Price (in millions)=%{y}<extra></extra>",
         "legendgroup": "House",
         "marker": {
          "color": "#636efa"
         },
         "name": "House",
         "offsetgroup": "House",
         "orientation": "v",
         "points": "all",
         "scalegroup": "True",
         "showlegend": true,
         "type": "violin",
         "x": [
          8,
          7,
          6,
          6,
          8,
          6,
          5,
          6,
          6,
          10,
          6,
          5,
          7,
          4,
          7,
          9,
          6,
          6,
          8,
          7,
          10,
          8,
          8,
          8,
          9,
          6,
          10,
          6,
          5,
          7,
          7,
          7,
          7,
          7,
          6,
          7,
          5,
          7,
          6,
          6,
          7,
          7,
          6,
          6,
          8,
          7,
          6,
          4,
          10,
          7,
          5,
          6,
          10,
          5,
          12,
          6,
          6,
          6,
          4,
          8,
          6,
          3,
          7,
          10,
          5,
          10,
          5,
          11,
          5,
          6,
          10,
          6,
          6,
          6,
          5,
          6,
          8,
          4,
          7,
          5,
          4,
          7,
          7,
          8,
          5,
          6,
          7,
          6,
          6,
          7,
          6,
          5,
          6,
          6,
          6,
          7,
          5,
          5,
          6,
          6,
          5,
          6,
          6,
          5,
          5,
          6,
          6,
          6,
          4,
          6,
          7,
          8,
          6,
          7,
          7,
          6,
          7,
          6,
          4,
          4,
          5,
          6,
          10,
          6,
          6,
          6,
          5,
          6,
          4,
          4,
          5,
          9,
          5,
          5,
          5,
          4,
          4,
          4,
          7,
          5,
          6,
          8,
          6,
          8,
          6,
          10,
          6,
          5,
          5,
          7,
          8,
          5,
          7,
          8,
          6,
          4,
          6,
          8,
          4,
          5,
          4,
          7,
          6,
          5,
          3,
          4,
          4,
          5,
          8,
          6,
          7,
          7,
          8,
          5,
          5,
          5,
          6,
          5,
          12,
          6,
          6,
          6,
          6,
          6,
          5,
          2,
          4,
          6,
          6,
          6,
          7,
          6,
          7,
          4,
          5,
          4,
          5,
          6,
          6,
          7,
          6,
          10,
          5,
          6,
          3,
          6,
          4,
          5,
          5,
          7,
          8,
          5,
          6,
          5,
          7,
          5,
          8,
          5,
          5,
          5,
          5,
          5,
          6,
          7,
          4,
          4,
          5,
          4,
          7,
          5,
          5,
          5,
          6,
          8,
          5,
          5,
          5,
          7,
          6,
          5,
          4,
          9,
          5,
          5,
          13,
          13,
          4,
          4,
          5,
          6,
          6,
          5,
          6,
          5,
          8,
          6,
          8,
          8,
          7,
          7,
          4,
          5,
          5,
          5,
          5,
          6,
          11,
          5,
          4,
          8,
          7,
          4,
          6,
          10,
          3,
          6,
          3,
          7,
          6,
          3,
          5,
          4,
          5,
          5,
          5,
          3,
          4,
          6,
          9,
          6,
          8,
          12,
          4,
          5,
          6,
          5,
          4,
          4,
          7,
          6,
          5,
          7,
          5,
          5,
          5,
          4,
          5,
          5,
          7,
          4,
          7,
          5,
          4,
          7,
          6,
          4,
          4,
          5,
          6,
          5,
          8,
          5,
          5,
          5,
          5,
          6,
          4,
          3,
          6,
          3,
          6,
          6,
          5,
          6,
          6,
          6,
          4,
          7,
          3,
          6
         ],
         "x0": " ",
         "xaxis": "x",
         "y": [
          24.95,
          29.5,
          25,
          24.95,
          24.95,
          25,
          25,
          25,
          25,
          25,
          25,
          28,
          29.5,
          28,
          29.5,
          29.95,
          29.95,
          29.975,
          30,
          30,
          32,
          30,
          30,
          38,
          45,
          47,
          65,
          18.25,
          18.8,
          18.95,
          18.95,
          18.95,
          18.95,
          18.95,
          19.5,
          19.75,
          21.95,
          22,
          22.5,
          22.5,
          22.95,
          23,
          23.5,
          23.95,
          24,
          24,
          24.95,
          19.95,
          20,
          20,
          20,
          21.5,
          17,
          17.5,
          17.5,
          17.95,
          17.95,
          17.95,
          1.85,
          16,
          16,
          16,
          16.5,
          16.5,
          16.75,
          16.5,
          16.75,
          16.95,
          16.95,
          16.95,
          16.95,
          14.5,
          15.5,
          13.75,
          13.85,
          13.85,
          13.95,
          14,
          13.95,
          14,
          14,
          15.5,
          15.5,
          15.5,
          15.75,
          15.75,
          15.95,
          15.95,
          15.95,
          15.95,
          14.8,
          15.95,
          3,
          14.95,
          14.95,
          15,
          14.95,
          15,
          15,
          15,
          12.5,
          12.95,
          12.95,
          12.95,
          12.95,
          12.95,
          12.95,
          12.95,
          12.95,
          12.95,
          13.5,
          13.5,
          13.5,
          13.5,
          13.5,
          13.5,
          11,
          10.95,
          10.95,
          10.99,
          11.95,
          11.95,
          11,
          11.5,
          11.95,
          11.5,
          11.95,
          11.5,
          11.25,
          11.5,
          11.95,
          11.95,
          11.25,
          11.25,
          11.995,
          12,
          11.25,
          11.5,
          12,
          12,
          11.9,
          12.25,
          11.95,
          12.5,
          10,
          10,
          10.75,
          10.75,
          10.25,
          10.85,
          10.5,
          10.5,
          10.95,
          10.95,
          10.95,
          10.95,
          10.5,
          10.95,
          10.95,
          10.95,
          10.95,
          10.95,
          10.95,
          10.95,
          0.795,
          10.95,
          9.95,
          9.75,
          9.75,
          9.75,
          9.95,
          9.95,
          9.95,
          9.95,
          9.95,
          9.95,
          9.95,
          9.95,
          9.975,
          9.995,
          10,
          10,
          10,
          10,
          10,
          9.25,
          9.25,
          9.35,
          9.35,
          9.5,
          9.5,
          9.5,
          9.5,
          9.5,
          9.5,
          9.5,
          9.5,
          9.65,
          3.75,
          8.95,
          8.95,
          8.95,
          8.95,
          8.95,
          8.95,
          8.95,
          8.95,
          8.995,
          8.95,
          8.99995,
          9,
          9,
          8.5,
          8.5,
          8.5,
          8.65,
          8.75,
          8.5,
          8.5,
          8.5,
          8.5,
          8.3,
          8.5,
          7.95,
          7.95,
          7.95,
          7.95,
          7.95,
          7.95,
          7.95,
          7.95,
          8,
          8,
          7.95,
          7.95,
          7.95,
          7.95,
          8,
          7.95,
          8,
          7.95,
          7.995,
          8,
          8,
          8,
          8,
          8,
          8.1,
          7.75,
          7.5,
          7.5,
          7.6,
          7.5,
          7.65,
          7.65,
          7.65,
          7.65,
          7.75,
          7.75,
          7.75,
          7.75,
          7.75,
          7.75,
          7.75,
          7.75,
          7.495,
          7.495,
          7.3,
          7.5,
          7.5,
          7.5,
          7.35,
          7.5,
          7.5,
          7.5,
          7.5,
          7.5,
          6.95,
          6.95,
          6.95,
          6.95,
          6.95,
          6.95,
          6.95,
          6.95,
          6.95,
          6.95,
          6.995,
          6.995,
          7.25,
          7.25,
          7,
          7.25,
          7,
          7.25,
          7.25,
          7.25,
          7.25,
          7,
          7,
          7.05,
          7,
          6.595,
          6.5,
          6.5,
          6.85,
          6.595,
          6.85,
          6.6,
          6.85,
          6.6,
          6.95,
          6.95,
          6.95,
          6.75,
          6.95,
          6.95,
          1.2,
          6.75,
          6.95,
          6.75,
          6.75,
          6.75,
          6.75,
          6.95,
          6.8,
          6.95,
          6.5,
          6.5,
          6.5,
          6.5,
          6.5,
          6.5,
          6.5,
          6.5,
          6.5,
          6.5,
          6.5,
          6.5,
          6.5
         ],
         "y0": " ",
         "yaxis": "y"
        },
        {
         "alignmentgroup": "True",
         "box": {
          "visible": false
         },
         "hovertemplate": "propertyGlobalType=Flat<br>Number of Bedrooms=%{x}<br>Price (in millions)=%{y}<extra></extra>",
         "legendgroup": "Flat",
         "marker": {
          "color": "#EF553B"
         },
         "name": "Flat",
         "offsetgroup": "Flat",
         "orientation": "v",
         "points": "all",
         "scalegroup": "True",
         "showlegend": true,
         "type": "violin",
         "x": [
          3,
          6,
          6,
          3,
          5,
          4,
          4,
          4,
          5,
          5,
          4,
          5,
          3,
          5,
          5,
          5,
          5,
          5,
          4,
          8,
          6,
          3,
          5,
          3,
          7,
          3,
          4,
          8,
          7,
          4,
          8,
          4,
          4,
          2,
          3,
          3,
          4,
          3,
          3,
          3,
          4,
          3,
          3,
          3,
          4,
          4,
          4,
          4,
          4,
          4,
          4,
          3,
          4,
          5,
          4,
          3,
          3,
          3,
          3,
          3,
          4,
          3,
          1,
          4,
          4,
          5,
          4,
          5,
          4,
          7,
          3,
          4,
          4,
          3,
          3,
          3,
          4,
          4,
          3,
          4,
          4,
          5,
          4,
          5,
          4,
          4,
          3,
          3,
          4,
          3,
          3,
          4,
          3,
          3,
          5,
          5,
          3,
          7,
          3,
          4,
          3,
          3,
          9,
          3,
          2,
          5,
          4,
          5,
          4,
          5,
          5,
          4,
          3,
          3,
          5,
          3,
          3,
          3,
          3,
          3,
          3,
          3,
          3,
          5,
          2,
          4,
          3,
          3,
          2,
          4,
          3,
          3,
          3,
          3,
          5,
          3,
          3,
          3,
          3,
          3,
          2,
          5,
          4,
          5,
          2,
          3,
          5,
          4,
          5,
          5,
          4,
          4,
          5,
          3,
          3,
          3,
          3,
          3,
          4,
          3,
          4,
          4,
          3,
          5,
          5,
          5,
          5,
          4,
          5,
          4,
          3,
          4,
          6,
          6,
          6,
          6,
          4,
          4,
          3,
          3,
          5,
          4,
          3,
          3,
          6,
          3,
          3,
          6,
          3,
          2,
          2,
          3,
          4,
          6,
          3,
          4,
          2,
          3,
          4,
          3,
          3,
          3,
          3,
          6,
          2,
          5,
          3,
          3,
          3,
          3,
          4,
          3,
          3,
          6,
          4,
          3,
          3,
          4,
          4,
          3,
          5,
          5,
          5,
          3,
          5,
          5,
          5,
          5,
          3,
          3,
          3,
          5,
          5,
          5,
          3,
          5,
          4,
          3,
          5,
          4,
          3,
          3,
          4,
          3,
          4,
          4,
          4,
          3,
          3,
          2,
          3,
          3,
          2,
          3,
          5,
          2,
          2,
          3,
          1,
          5,
          4,
          5,
          5,
          5,
          2,
          2,
          2,
          2,
          4,
          9,
          5,
          3,
          5,
          3,
          5,
          5,
          2,
          3,
          3,
          4,
          3,
          3,
          3,
          3,
          5,
          3,
          3,
          3,
          3,
          3,
          3,
          3,
          3,
          3,
          3,
          4,
          4,
          3,
          3,
          3,
          1,
          6,
          3,
          3,
          6,
          4,
          6,
          3,
          4,
          5,
          3,
          3,
          3,
          2,
          3,
          5,
          5,
          4,
          3,
          2,
          3,
          3,
          4,
          4,
          2,
          7,
          3,
          2,
          4,
          2,
          4,
          4,
          5,
          4,
          4,
          4,
          2,
          3,
          3,
          5,
          3,
          3,
          4,
          3,
          2,
          3,
          5,
          3,
          3,
          2,
          3,
          4,
          4,
          3,
          3,
          3,
          3,
          3,
          4,
          3,
          4,
          5,
          5,
          6,
          4,
          3,
          4,
          3,
          1,
          2,
          2,
          3,
          5,
          3,
          1,
          4,
          3,
          2,
          3,
          3,
          3,
          4,
          3,
          2,
          5,
          2,
          5,
          3,
          3,
          2,
          3,
          4,
          3,
          3,
          3
         ],
         "x0": " ",
         "xaxis": "x",
         "y": [
          25,
          26.5,
          26.5,
          19.95,
          18.5,
          18.5,
          19,
          19.5,
          22.5,
          22.5,
          23.5,
          24,
          2.1,
          19.95,
          19.95,
          19.95,
          19.95,
          19.95,
          20,
          20.995,
          16,
          17.5,
          17.5,
          17.5,
          17.5,
          17.7,
          17.8,
          18,
          18,
          16,
          16,
          16.25,
          16.25,
          0.725,
          13.75,
          13.95,
          13.95,
          13.95,
          13.95,
          14,
          14,
          14.25,
          14,
          14.25,
          14.5,
          15.65,
          15.65,
          15.65,
          15.75,
          15.75,
          15.75,
          14.75,
          15.95,
          14.75,
          14.6,
          14.95,
          14.95,
          15,
          15,
          13.5,
          12.5,
          12.65,
          12.5,
          12.6,
          12.75,
          12.95,
          12.95,
          12.95,
          12.95,
          13,
          13,
          13.25,
          13.25,
          13.395,
          13.5,
          13.5,
          13.5,
          13.5,
          10.95,
          11,
          11,
          11,
          11,
          11,
          11,
          11.5,
          11.2,
          11.95,
          11.5,
          11.25,
          11.95,
          11.5,
          12,
          11.5,
          12,
          11.59,
          11.75,
          11.7,
          11.795,
          12,
          11.75,
          12.5,
          12.5,
          3.95,
          0.625,
          10.747,
          10,
          10.13,
          10.13,
          10.13,
          10.747,
          10.75,
          10.75,
          10.25,
          10.75,
          10.25,
          10.75,
          10.25,
          10.5,
          10.95,
          10.5,
          10.5,
          10.95,
          10.747,
          0.525,
          9.75,
          9.9,
          9.9,
          9.9,
          9.9,
          9.9,
          9.95,
          9.9,
          9.9,
          9.95,
          9.9,
          9.9,
          9.95,
          9.9,
          9.9,
          9.9,
          9.95,
          9.95,
          9.95,
          10,
          10,
          10,
          10,
          10,
          10,
          10,
          10,
          9.601,
          9.25,
          9.45,
          9.45,
          9.45,
          9.5,
          9.5,
          9.5,
          9.5,
          9.5,
          9.5,
          9.601,
          9.601,
          9.601,
          9.601,
          9.74,
          9.7,
          9.74,
          9.25,
          8.95,
          8.825,
          8.825,
          8.825,
          8.825,
          8.95,
          8.95,
          8.95,
          8.95,
          8.95,
          8.95,
          8.95,
          9,
          9,
          9,
          9,
          9,
          9,
          0.575,
          8.2,
          8.5,
          8.5,
          8.5,
          8.625,
          8.75,
          8.75,
          8.75,
          8.75,
          8.75,
          8.75,
          8.75,
          8.8,
          8.825,
          0.475,
          8.5,
          8.5,
          8.5,
          8.5,
          8.5,
          8.5,
          8.5,
          8.5,
          8.5,
          8.5,
          8.25,
          8.25,
          8.25,
          8.3,
          8.325,
          8.45,
          8.45,
          8.45,
          8.35,
          8.45,
          8.45,
          8.45,
          8.45,
          8.5,
          8.5,
          0.695,
          7.87,
          7.87,
          7.87,
          7.92,
          7.95,
          7.95,
          7.95,
          7.95,
          7.95,
          7.95,
          7.95,
          7.95,
          7.95,
          7.95,
          7.95,
          7.95,
          8,
          8,
          0.55,
          8,
          7.95,
          8,
          7.98,
          8,
          7.995,
          7.995,
          8,
          1.05,
          8.044,
          8,
          8.044,
          8.044,
          8.1,
          8.15,
          8.2,
          8.2,
          0.75,
          7.75,
          7.5,
          7.5,
          7.5,
          7.6,
          7.6,
          7.696,
          7.696,
          7.75,
          7.75,
          7.75,
          7.75,
          7.8,
          7.8,
          7.8,
          7.8,
          7.8,
          7.85,
          7.85,
          7.495,
          7.295,
          7.495,
          7.295,
          7.495,
          7.295,
          7.5,
          7.295,
          7.295,
          7.5,
          7.5,
          7.3,
          7.295,
          7.5,
          7.5,
          7.3,
          7.3,
          7.35,
          7.5,
          7.35,
          7.35,
          7.5,
          7.364,
          7.5,
          7.398,
          7.4,
          7.4,
          7.49,
          7.45,
          7.1875,
          7.25,
          6.95,
          6.95,
          6.95,
          6.95,
          6.95,
          6.95,
          6.95,
          6.99,
          6.995,
          7.2,
          7.2,
          7.2,
          7.2,
          6.995,
          7.25,
          7.25,
          7,
          7.25,
          7.25,
          0.845,
          7.15,
          7.053,
          7.15,
          7.15,
          6.9,
          6.5,
          6.5,
          6.5,
          6.5,
          6.5,
          6.595,
          6.5,
          6.9,
          6.6,
          6.636,
          6.6,
          6.62,
          6.65,
          6.62,
          6.95,
          6.636,
          6.75,
          6.636,
          6.636,
          6.75,
          6.95,
          6.95,
          6.95,
          6.75,
          6.75,
          6.95,
          6.95,
          6.75,
          6.75,
          6.95,
          6.815,
          0.55,
          6.825,
          6.815,
          0.9,
          6.5,
          6.5,
          6.5,
          6.5,
          6.5,
          6.5,
          6.5,
          1.6,
          6.5,
          6.5,
          6.5,
          6.5,
          6.5,
          6.5,
          6.5,
          6.5,
          6.5
         ],
         "y0": " ",
         "yaxis": "y"
        }
       ],
       "layout": {
        "legend": {
         "title": {
          "text": "propertyGlobalType"
         },
         "tracegroupgap": 0
        },
        "template": {
         "data": {
          "bar": [
           {
            "error_x": {
             "color": "#2a3f5f"
            },
            "error_y": {
             "color": "#2a3f5f"
            },
            "marker": {
             "line": {
              "color": "#E5ECF6",
              "width": 0.5
             },
             "pattern": {
              "fillmode": "overlay",
              "size": 10,
              "solidity": 0.2
             }
            },
            "type": "bar"
           }
          ],
          "barpolar": [
           {
            "marker": {
             "line": {
              "color": "#E5ECF6",
              "width": 0.5
             },
             "pattern": {
              "fillmode": "overlay",
              "size": 10,
              "solidity": 0.2
             }
            },
            "type": "barpolar"
           }
          ],
          "carpet": [
           {
            "aaxis": {
             "endlinecolor": "#2a3f5f",
             "gridcolor": "white",
             "linecolor": "white",
             "minorgridcolor": "white",
             "startlinecolor": "#2a3f5f"
            },
            "baxis": {
             "endlinecolor": "#2a3f5f",
             "gridcolor": "white",
             "linecolor": "white",
             "minorgridcolor": "white",
             "startlinecolor": "#2a3f5f"
            },
            "type": "carpet"
           }
          ],
          "choropleth": [
           {
            "colorbar": {
             "outlinewidth": 0,
             "ticks": ""
            },
            "type": "choropleth"
           }
          ],
          "contour": [
           {
            "colorbar": {
             "outlinewidth": 0,
             "ticks": ""
            },
            "colorscale": [
             [
              0,
              "#0d0887"
             ],
             [
              0.1111111111111111,
              "#46039f"
             ],
             [
              0.2222222222222222,
              "#7201a8"
             ],
             [
              0.3333333333333333,
              "#9c179e"
             ],
             [
              0.4444444444444444,
              "#bd3786"
             ],
             [
              0.5555555555555556,
              "#d8576b"
             ],
             [
              0.6666666666666666,
              "#ed7953"
             ],
             [
              0.7777777777777778,
              "#fb9f3a"
             ],
             [
              0.8888888888888888,
              "#fdca26"
             ],
             [
              1,
              "#f0f921"
             ]
            ],
            "type": "contour"
           }
          ],
          "contourcarpet": [
           {
            "colorbar": {
             "outlinewidth": 0,
             "ticks": ""
            },
            "type": "contourcarpet"
           }
          ],
          "heatmap": [
           {
            "colorbar": {
             "outlinewidth": 0,
             "ticks": ""
            },
            "colorscale": [
             [
              0,
              "#0d0887"
             ],
             [
              0.1111111111111111,
              "#46039f"
             ],
             [
              0.2222222222222222,
              "#7201a8"
             ],
             [
              0.3333333333333333,
              "#9c179e"
             ],
             [
              0.4444444444444444,
              "#bd3786"
             ],
             [
              0.5555555555555556,
              "#d8576b"
             ],
             [
              0.6666666666666666,
              "#ed7953"
             ],
             [
              0.7777777777777778,
              "#fb9f3a"
             ],
             [
              0.8888888888888888,
              "#fdca26"
             ],
             [
              1,
              "#f0f921"
             ]
            ],
            "type": "heatmap"
           }
          ],
          "heatmapgl": [
           {
            "colorbar": {
             "outlinewidth": 0,
             "ticks": ""
            },
            "colorscale": [
             [
              0,
              "#0d0887"
             ],
             [
              0.1111111111111111,
              "#46039f"
             ],
             [
              0.2222222222222222,
              "#7201a8"
             ],
             [
              0.3333333333333333,
              "#9c179e"
             ],
             [
              0.4444444444444444,
              "#bd3786"
             ],
             [
              0.5555555555555556,
              "#d8576b"
             ],
             [
              0.6666666666666666,
              "#ed7953"
             ],
             [
              0.7777777777777778,
              "#fb9f3a"
             ],
             [
              0.8888888888888888,
              "#fdca26"
             ],
             [
              1,
              "#f0f921"
             ]
            ],
            "type": "heatmapgl"
           }
          ],
          "histogram": [
           {
            "marker": {
             "pattern": {
              "fillmode": "overlay",
              "size": 10,
              "solidity": 0.2
             }
            },
            "type": "histogram"
           }
          ],
          "histogram2d": [
           {
            "colorbar": {
             "outlinewidth": 0,
             "ticks": ""
            },
            "colorscale": [
             [
              0,
              "#0d0887"
             ],
             [
              0.1111111111111111,
              "#46039f"
             ],
             [
              0.2222222222222222,
              "#7201a8"
             ],
             [
              0.3333333333333333,
              "#9c179e"
             ],
             [
              0.4444444444444444,
              "#bd3786"
             ],
             [
              0.5555555555555556,
              "#d8576b"
             ],
             [
              0.6666666666666666,
              "#ed7953"
             ],
             [
              0.7777777777777778,
              "#fb9f3a"
             ],
             [
              0.8888888888888888,
              "#fdca26"
             ],
             [
              1,
              "#f0f921"
             ]
            ],
            "type": "histogram2d"
           }
          ],
          "histogram2dcontour": [
           {
            "colorbar": {
             "outlinewidth": 0,
             "ticks": ""
            },
            "colorscale": [
             [
              0,
              "#0d0887"
             ],
             [
              0.1111111111111111,
              "#46039f"
             ],
             [
              0.2222222222222222,
              "#7201a8"
             ],
             [
              0.3333333333333333,
              "#9c179e"
             ],
             [
              0.4444444444444444,
              "#bd3786"
             ],
             [
              0.5555555555555556,
              "#d8576b"
             ],
             [
              0.6666666666666666,
              "#ed7953"
             ],
             [
              0.7777777777777778,
              "#fb9f3a"
             ],
             [
              0.8888888888888888,
              "#fdca26"
             ],
             [
              1,
              "#f0f921"
             ]
            ],
            "type": "histogram2dcontour"
           }
          ],
          "mesh3d": [
           {
            "colorbar": {
             "outlinewidth": 0,
             "ticks": ""
            },
            "type": "mesh3d"
           }
          ],
          "parcoords": [
           {
            "line": {
             "colorbar": {
              "outlinewidth": 0,
              "ticks": ""
             }
            },
            "type": "parcoords"
           }
          ],
          "pie": [
           {
            "automargin": true,
            "type": "pie"
           }
          ],
          "scatter": [
           {
            "fillpattern": {
             "fillmode": "overlay",
             "size": 10,
             "solidity": 0.2
            },
            "type": "scatter"
           }
          ],
          "scatter3d": [
           {
            "line": {
             "colorbar": {
              "outlinewidth": 0,
              "ticks": ""
             }
            },
            "marker": {
             "colorbar": {
              "outlinewidth": 0,
              "ticks": ""
             }
            },
            "type": "scatter3d"
           }
          ],
          "scattercarpet": [
           {
            "marker": {
             "colorbar": {
              "outlinewidth": 0,
              "ticks": ""
             }
            },
            "type": "scattercarpet"
           }
          ],
          "scattergeo": [
           {
            "marker": {
             "colorbar": {
              "outlinewidth": 0,
              "ticks": ""
             }
            },
            "type": "scattergeo"
           }
          ],
          "scattergl": [
           {
            "marker": {
             "colorbar": {
              "outlinewidth": 0,
              "ticks": ""
             }
            },
            "type": "scattergl"
           }
          ],
          "scattermapbox": [
           {
            "marker": {
             "colorbar": {
              "outlinewidth": 0,
              "ticks": ""
             }
            },
            "type": "scattermapbox"
           }
          ],
          "scatterpolar": [
           {
            "marker": {
             "colorbar": {
              "outlinewidth": 0,
              "ticks": ""
             }
            },
            "type": "scatterpolar"
           }
          ],
          "scatterpolargl": [
           {
            "marker": {
             "colorbar": {
              "outlinewidth": 0,
              "ticks": ""
             }
            },
            "type": "scatterpolargl"
           }
          ],
          "scatterternary": [
           {
            "marker": {
             "colorbar": {
              "outlinewidth": 0,
              "ticks": ""
             }
            },
            "type": "scatterternary"
           }
          ],
          "surface": [
           {
            "colorbar": {
             "outlinewidth": 0,
             "ticks": ""
            },
            "colorscale": [
             [
              0,
              "#0d0887"
             ],
             [
              0.1111111111111111,
              "#46039f"
             ],
             [
              0.2222222222222222,
              "#7201a8"
             ],
             [
              0.3333333333333333,
              "#9c179e"
             ],
             [
              0.4444444444444444,
              "#bd3786"
             ],
             [
              0.5555555555555556,
              "#d8576b"
             ],
             [
              0.6666666666666666,
              "#ed7953"
             ],
             [
              0.7777777777777778,
              "#fb9f3a"
             ],
             [
              0.8888888888888888,
              "#fdca26"
             ],
             [
              1,
              "#f0f921"
             ]
            ],
            "type": "surface"
           }
          ],
          "table": [
           {
            "cells": {
             "fill": {
              "color": "#EBF0F8"
             },
             "line": {
              "color": "white"
             }
            },
            "header": {
             "fill": {
              "color": "#C8D4E3"
             },
             "line": {
              "color": "white"
             }
            },
            "type": "table"
           }
          ]
         },
         "layout": {
          "annotationdefaults": {
           "arrowcolor": "#2a3f5f",
           "arrowhead": 0,
           "arrowwidth": 1
          },
          "autotypenumbers": "strict",
          "coloraxis": {
           "colorbar": {
            "outlinewidth": 0,
            "ticks": ""
           }
          },
          "colorscale": {
           "diverging": [
            [
             0,
             "#8e0152"
            ],
            [
             0.1,
             "#c51b7d"
            ],
            [
             0.2,
             "#de77ae"
            ],
            [
             0.3,
             "#f1b6da"
            ],
            [
             0.4,
             "#fde0ef"
            ],
            [
             0.5,
             "#f7f7f7"
            ],
            [
             0.6,
             "#e6f5d0"
            ],
            [
             0.7,
             "#b8e186"
            ],
            [
             0.8,
             "#7fbc41"
            ],
            [
             0.9,
             "#4d9221"
            ],
            [
             1,
             "#276419"
            ]
           ],
           "sequential": [
            [
             0,
             "#0d0887"
            ],
            [
             0.1111111111111111,
             "#46039f"
            ],
            [
             0.2222222222222222,
             "#7201a8"
            ],
            [
             0.3333333333333333,
             "#9c179e"
            ],
            [
             0.4444444444444444,
             "#bd3786"
            ],
            [
             0.5555555555555556,
             "#d8576b"
            ],
            [
             0.6666666666666666,
             "#ed7953"
            ],
            [
             0.7777777777777778,
             "#fb9f3a"
            ],
            [
             0.8888888888888888,
             "#fdca26"
            ],
            [
             1,
             "#f0f921"
            ]
           ],
           "sequentialminus": [
            [
             0,
             "#0d0887"
            ],
            [
             0.1111111111111111,
             "#46039f"
            ],
            [
             0.2222222222222222,
             "#7201a8"
            ],
            [
             0.3333333333333333,
             "#9c179e"
            ],
            [
             0.4444444444444444,
             "#bd3786"
            ],
            [
             0.5555555555555556,
             "#d8576b"
            ],
            [
             0.6666666666666666,
             "#ed7953"
            ],
            [
             0.7777777777777778,
             "#fb9f3a"
            ],
            [
             0.8888888888888888,
             "#fdca26"
            ],
            [
             1,
             "#f0f921"
            ]
           ]
          },
          "colorway": [
           "#636efa",
           "#EF553B",
           "#00cc96",
           "#ab63fa",
           "#FFA15A",
           "#19d3f3",
           "#FF6692",
           "#B6E880",
           "#FF97FF",
           "#FECB52"
          ],
          "font": {
           "color": "#2a3f5f"
          },
          "geo": {
           "bgcolor": "white",
           "lakecolor": "white",
           "landcolor": "#E5ECF6",
           "showlakes": true,
           "showland": true,
           "subunitcolor": "white"
          },
          "hoverlabel": {
           "align": "left"
          },
          "hovermode": "closest",
          "mapbox": {
           "style": "light"
          },
          "paper_bgcolor": "white",
          "plot_bgcolor": "#E5ECF6",
          "polar": {
           "angularaxis": {
            "gridcolor": "white",
            "linecolor": "white",
            "ticks": ""
           },
           "bgcolor": "#E5ECF6",
           "radialaxis": {
            "gridcolor": "white",
            "linecolor": "white",
            "ticks": ""
           }
          },
          "scene": {
           "xaxis": {
            "backgroundcolor": "#E5ECF6",
            "gridcolor": "white",
            "gridwidth": 2,
            "linecolor": "white",
            "showbackground": true,
            "ticks": "",
            "zerolinecolor": "white"
           },
           "yaxis": {
            "backgroundcolor": "#E5ECF6",
            "gridcolor": "white",
            "gridwidth": 2,
            "linecolor": "white",
            "showbackground": true,
            "ticks": "",
            "zerolinecolor": "white"
           },
           "zaxis": {
            "backgroundcolor": "#E5ECF6",
            "gridcolor": "white",
            "gridwidth": 2,
            "linecolor": "white",
            "showbackground": true,
            "ticks": "",
            "zerolinecolor": "white"
           }
          },
          "shapedefaults": {
           "line": {
            "color": "#2a3f5f"
           }
          },
          "ternary": {
           "aaxis": {
            "gridcolor": "white",
            "linecolor": "white",
            "ticks": ""
           },
           "baxis": {
            "gridcolor": "white",
            "linecolor": "white",
            "ticks": ""
           },
           "bgcolor": "#E5ECF6",
           "caxis": {
            "gridcolor": "white",
            "linecolor": "white",
            "ticks": ""
           }
          },
          "title": {
           "x": 0.05
          },
          "xaxis": {
           "automargin": true,
           "gridcolor": "white",
           "linecolor": "white",
           "ticks": "",
           "title": {
            "standoff": 15
           },
           "zerolinecolor": "white",
           "zerolinewidth": 2
          },
          "yaxis": {
           "automargin": true,
           "gridcolor": "white",
           "linecolor": "white",
           "ticks": "",
           "title": {
            "standoff": 15
           },
           "zerolinecolor": "white",
           "zerolinewidth": 2
          }
         }
        },
        "title": {
         "text": "Price Distribution by Number of Bedrooms and Property Global Type"
        },
        "violinmode": "group",
        "xaxis": {
         "anchor": "y",
         "domain": [
          0,
          1
         ],
         "dtick": 1,
         "range": [
          0,
          13
         ],
         "tick0": 1,
         "tickmode": "linear",
         "title": {
          "text": "Number of Bedrooms"
         }
        },
        "yaxis": {
         "anchor": "x",
         "domain": [
          0,
          1
         ],
         "range": [
          0,
          80
         ],
         "title": {
          "text": "Price (in millions)"
         }
        }
       }
      }
     },
     "metadata": {},
     "output_type": "display_data"
    }
   ],
   "source": [
    "fig = px.violin(\n",
    "    subset, \n",
    "    x='bedrooms',\n",
    "    y='price(M)',\n",
    "    color='propertyGlobalType',\n",
    "    title='Price Distribution by Number of Bedrooms and Property Global Type',\n",
    "    labels={'bedrooms': 'Number of Bedrooms', 'price(M)': 'Price (in millions)'},\n",
    "    box=False,\n",
    "    points='all',\n",
    "\n",
    ")\n",
    "\n",
    "fig.update_layout(\n",
    "    xaxis_title='Number of Bedrooms',\n",
    "    yaxis_title='Price (in millions)',\n",
    "    template='plotly',\n",
    "    xaxis_range=[0, 13],\n",
    "    yaxis_range=[0, 80],\n",
    "    xaxis=dict(\n",
    "        tickmode='linear',\n",
    "        tick0=1,\n",
    "        dtick=1\n",
    "    ),\n",
    ")\n",
    "\n",
    "fig.show()\n"
   ]
  },
  {
   "cell_type": "markdown",
   "metadata": {},
   "source": [
    "#### bathrooms"
   ]
  },
  {
   "cell_type": "markdown",
   "metadata": {},
   "source": [
    "##### propertyType"
   ]
  },
  {
   "cell_type": "code",
   "execution_count": 105,
   "metadata": {},
   "outputs": [
    {
     "data": {
      "application/vnd.plotly.v1+json": {
       "config": {
        "plotlyServerURL": "https://plot.ly"
       },
       "data": [
        {
         "alignmentgroup": "True",
         "box": {
          "visible": false
         },
         "hovertemplate": "propertyType=House<br>Number of Bathrooms=%{x}<br>Price (in millions)=%{y}<extra></extra>",
         "legendgroup": "House",
         "marker": {
          "color": "#636efa"
         },
         "name": "House",
         "offsetgroup": "House",
         "orientation": "v",
         "points": "all",
         "scalegroup": "True",
         "showlegend": true,
         "type": "violin",
         "x": [
          8,
          7,
          5,
          5,
          7,
          6,
          7,
          6,
          7,
          6,
          6,
          7,
          6,
          7,
          4,
          7,
          6,
          6,
          8,
          5,
          7,
          8,
          6,
          4,
          3,
          6,
          3,
          5,
          5,
          6,
          7,
          5,
          5,
          7,
          5,
          6,
          4,
          4,
          4,
          5,
          5,
          1,
          5,
          4,
          4,
          5,
          4,
          8,
          2,
          3,
          7,
          7,
          4,
          4,
          4,
          4,
          5,
          3,
          5,
          4,
          3,
          5,
          7,
          5,
          4,
          4,
          11,
          4,
          4,
          6,
          5,
          3,
          4,
          4,
          3,
          3,
          5,
          3,
          4,
          6,
          3,
          6,
          4
         ],
         "x0": " ",
         "xaxis": "x",
         "y": [
          24.95,
          29.5,
          25,
          25,
          25,
          28,
          29.5,
          29.95,
          30,
          47,
          18.25,
          18.8,
          18.95,
          18.95,
          21.95,
          22,
          22.5,
          22.5,
          24,
          20,
          17,
          16,
          16,
          16.75,
          13.85,
          13.95,
          14,
          14,
          15.95,
          14.95,
          12.95,
          12.95,
          12.95,
          12.95,
          12.95,
          11.5,
          11.5,
          11.25,
          11.95,
          10,
          10.95,
          0.795,
          10.95,
          9.95,
          9.95,
          9.95,
          9.95,
          9.975,
          9.25,
          9.25,
          9.35,
          9.35,
          9.5,
          9.5,
          9.5,
          9.5,
          8.95,
          8.95,
          8.99995,
          9,
          8.5,
          8.5,
          8.5,
          8.5,
          7.95,
          7.95,
          8,
          7.5,
          7.75,
          6.95,
          6.95,
          6.95,
          7.25,
          7.25,
          7.05,
          6.5,
          6.85,
          6.95,
          6.95,
          6.5,
          6.5,
          6.5,
          6.5
         ],
         "y0": " ",
         "yaxis": "y"
        },
        {
         "alignmentgroup": "True",
         "box": {
          "visible": false
         },
         "hovertemplate": "propertyType=Terraced<br>Number of Bathrooms=%{x}<br>Price (in millions)=%{y}<extra></extra>",
         "legendgroup": "Terraced",
         "marker": {
          "color": "#EF553B"
         },
         "name": "Terraced",
         "offsetgroup": "Terraced",
         "orientation": "v",
         "points": "all",
         "scalegroup": "True",
         "showlegend": true,
         "type": "violin",
         "x": [
          6,
          6,
          7,
          9,
          5,
          6,
          7,
          8,
          9,
          10,
          6,
          6,
          6,
          5,
          4,
          6,
          10,
          5,
          4,
          12,
          5,
          10,
          5,
          7,
          7,
          3,
          8,
          5,
          6,
          5,
          5,
          5,
          6,
          6,
          5,
          5,
          5,
          6,
          6,
          3,
          4,
          5,
          4,
          8,
          3,
          5,
          5,
          5,
          5,
          4,
          5,
          3,
          4,
          4,
          7,
          5,
          4,
          3,
          4,
          5,
          5,
          7,
          4,
          6,
          4,
          4,
          3,
          7,
          4,
          6,
          6,
          5,
          5,
          5,
          5,
          4,
          3,
          7,
          4,
          4,
          3,
          3,
          3,
          5,
          5,
          5,
          6,
          4,
          6,
          4,
          4,
          4,
          5,
          7,
          6,
          6,
          5,
          4,
          7,
          4,
          3,
          6,
          6,
          4,
          3,
          3,
          4,
          4,
          5,
          3,
          7,
          4,
          4,
          3,
          4,
          3,
          3,
          2,
          5,
          3,
          4,
          6,
          6,
          4,
          3,
          3,
          4,
          3,
          4,
          3,
          4,
          4,
          4,
          5,
          5,
          2,
          3,
          5,
          3
         ],
         "x0": " ",
         "xaxis": "x",
         "y": [
          25,
          25,
          25,
          25,
          29.5,
          28,
          29.975,
          38,
          45,
          65,
          18.95,
          18.95,
          19.75,
          23,
          23.5,
          23.95,
          20,
          17.95,
          16,
          16.5,
          16.75,
          16.5,
          16.95,
          16.95,
          13.75,
          13.85,
          13.95,
          15.95,
          15.95,
          15.95,
          14.95,
          15,
          15,
          15,
          12.5,
          12.95,
          12.95,
          13.5,
          13.5,
          10.95,
          10.99,
          11.95,
          11.95,
          11,
          11.5,
          11.95,
          11.25,
          11.25,
          11.25,
          11.995,
          12,
          11.5,
          12,
          11.9,
          10,
          10.75,
          10.75,
          10.25,
          10.85,
          10.5,
          10.5,
          10.95,
          10.95,
          10.5,
          10.95,
          10.95,
          10.95,
          10.95,
          9.95,
          9.75,
          9.75,
          9.95,
          10,
          10,
          10,
          9.5,
          9.5,
          9.65,
          3.75,
          8.95,
          8.95,
          8.995,
          8.95,
          9,
          8.65,
          8.3,
          7.95,
          7.95,
          7.95,
          7.95,
          7.95,
          8,
          8,
          7.95,
          7.95,
          7.95,
          8,
          7.95,
          7.995,
          8,
          8.1,
          7.6,
          7.65,
          7.65,
          7.75,
          7.75,
          7.75,
          7.495,
          7.3,
          7.5,
          7.5,
          7.35,
          7.5,
          6.95,
          6.95,
          6.95,
          6.95,
          6.95,
          6.995,
          7,
          7.25,
          7.25,
          7.25,
          6.595,
          6.5,
          6.85,
          6.595,
          6.85,
          6.95,
          6.75,
          6.95,
          6.95,
          6.75,
          6.75,
          6.95,
          6.95,
          6.5,
          6.5,
          6.5
         ],
         "y0": " ",
         "yaxis": "y"
        },
        {
         "alignmentgroup": "True",
         "box": {
          "visible": false
         },
         "hovertemplate": "propertyType=Detached<br>Number of Bathrooms=%{x}<br>Price (in millions)=%{y}<extra></extra>",
         "legendgroup": "Detached",
         "marker": {
          "color": "#00cc96"
         },
         "name": "Detached",
         "offsetgroup": "Detached",
         "orientation": "v",
         "points": "all",
         "scalegroup": "True",
         "showlegend": true,
         "type": "violin",
         "x": [
          6,
          10,
          12,
          3,
          9,
          8,
          8,
          7,
          3,
          6,
          5,
          9,
          6,
          6,
          5,
          5,
          6,
          6,
          6,
          3,
          5,
          9,
          10,
          6,
          7,
          5,
          8,
          8,
          8,
          5,
          5,
          6,
          6,
          4,
          6,
          7,
          6,
          5,
          8,
          4,
          8,
          8,
          10,
          4,
          7,
          5,
          5,
          8,
          7,
          10,
          8,
          6,
          5,
          3,
          5,
          7,
          7,
          6,
          7,
          6,
          6,
          6,
          5,
          4,
          6,
          6,
          10,
          5,
          6,
          4,
          6,
          7,
          4,
          4,
          7,
          4,
          8,
          3,
          5,
          10,
          4,
          6,
          6,
          5,
          5,
          3,
          6,
          6,
          4,
          6,
          4,
          6,
          2,
          3,
          6,
          6,
          3,
          6,
          5,
          6,
          5,
          8,
          4,
          7,
          5,
          5,
          6,
          3,
          5,
          5,
          5,
          5,
          4,
          5,
          4,
          4,
          6,
          10
         ],
         "x0": " ",
         "xaxis": "x",
         "y": [
          24.95,
          24.95,
          29.95,
          30,
          32,
          30,
          30,
          18.95,
          19.5,
          22.95,
          24,
          24.95,
          19.95,
          20,
          21.5,
          17.5,
          17.5,
          17.95,
          17.95,
          1.85,
          16.5,
          16.95,
          16.95,
          14.5,
          15.5,
          14,
          15.5,
          15.5,
          15.5,
          15.75,
          15.75,
          15.95,
          14.8,
          3,
          14.95,
          15,
          12.95,
          12.95,
          13.5,
          13.5,
          13.5,
          13.5,
          11,
          10.95,
          11.95,
          11.5,
          11.95,
          11.95,
          12,
          12.25,
          12.5,
          10.95,
          10.95,
          10.95,
          10.95,
          9.75,
          9.95,
          9.95,
          9.95,
          9.995,
          10,
          10,
          9.5,
          9.5,
          8.95,
          8.95,
          8.95,
          8.95,
          8.5,
          8.5,
          8.5,
          8.75,
          8.5,
          7.95,
          7.95,
          7.95,
          8,
          8,
          8,
          8,
          7.75,
          7.5,
          7.5,
          7.65,
          7.65,
          7.75,
          7.75,
          7.75,
          7.75,
          7.495,
          7.5,
          7.5,
          7.5,
          7.5,
          7.5,
          6.95,
          6.95,
          6.995,
          7.25,
          7.25,
          7,
          7,
          7,
          7,
          6.6,
          6.6,
          6.95,
          1.2,
          6.75,
          6.75,
          6.75,
          6.8,
          6.5,
          6.5,
          6.5,
          6.5,
          6.5,
          6.5
         ],
         "y0": " ",
         "yaxis": "y"
        },
        {
         "alignmentgroup": "True",
         "box": {
          "visible": false
         },
         "hovertemplate": "propertyType=Apartment<br>Number of Bathrooms=%{x}<br>Price (in millions)=%{y}<extra></extra>",
         "legendgroup": "Apartment",
         "marker": {
          "color": "#ab63fa"
         },
         "name": "Apartment",
         "offsetgroup": "Apartment",
         "orientation": "v",
         "points": "all",
         "scalegroup": "True",
         "showlegend": true,
         "type": "violin",
         "x": [
          3,
          3,
          5,
          4,
          4,
          4,
          3,
          4,
          4,
          4,
          6,
          3,
          6,
          7,
          4,
          4,
          1,
          3,
          4,
          4,
          3,
          3,
          3,
          4,
          4,
          5,
          4,
          3,
          3,
          3,
          2,
          4,
          4,
          4,
          4,
          4,
          4,
          3,
          4,
          3,
          4,
          3,
          3,
          3,
          3,
          3,
          4,
          4,
          3,
          7,
          3,
          3,
          3,
          4,
          4,
          5,
          5,
          5,
          3,
          5,
          4,
          3,
          3,
          3,
          3,
          3,
          3,
          6,
          4,
          3,
          2,
          5,
          2,
          3,
          3,
          4,
          3,
          4,
          4,
          5,
          4,
          6,
          4,
          4,
          4,
          4,
          6,
          6,
          6,
          4,
          3,
          4,
          3,
          4,
          3,
          3,
          7,
          3,
          3,
          6,
          4,
          2,
          4,
          3,
          6,
          3,
          3,
          4,
          2,
          4,
          4,
          4,
          3,
          2,
          3,
          5,
          3,
          3,
          4,
          3,
          3,
          3,
          4,
          4,
          3,
          2,
          4,
          2,
          2,
          2,
          1,
          4,
          5,
          2,
          1,
          9,
          5,
          3,
          2,
          3,
          3,
          3,
          3,
          3,
          2,
          4,
          3,
          3,
          4,
          3,
          3,
          3,
          5,
          3,
          3,
          7,
          3,
          4,
          4,
          3,
          3,
          3,
          3,
          4,
          2,
          3,
          3,
          4,
          2,
          7,
          3,
          3,
          4,
          4,
          5,
          3,
          3,
          4,
          5,
          4,
          4,
          5,
          3,
          4,
          3,
          3,
          3,
          4,
          3,
          3,
          4,
          3,
          2,
          2,
          2,
          1,
          4,
          3,
          3,
          3,
          4,
          2,
          4,
          3,
          2,
          4,
          3
         ],
         "x0": " ",
         "xaxis": "x",
         "y": [
          25,
          19.95,
          18.5,
          19,
          22.5,
          23.5,
          2.1,
          19.95,
          19.95,
          20,
          16,
          17.5,
          17.5,
          17.5,
          16,
          16.25,
          0.725,
          13.75,
          13.95,
          13.95,
          14,
          14.25,
          14,
          15.65,
          15.75,
          14.75,
          14.75,
          14.6,
          14.95,
          15,
          15,
          12.75,
          12.95,
          12.95,
          12.95,
          13,
          13.25,
          13.5,
          13.5,
          10.95,
          11,
          11.5,
          11.2,
          11.95,
          11.25,
          12,
          11.5,
          11.59,
          11.75,
          11.7,
          11.75,
          12.5,
          3.95,
          10,
          10.13,
          10.13,
          10.13,
          10.75,
          10.75,
          10.75,
          10.25,
          10.75,
          10.25,
          10.5,
          10.95,
          10.5,
          10.95,
          10.747,
          9.95,
          9.95,
          9.9,
          9.95,
          10,
          10,
          10,
          10,
          9.5,
          9.5,
          9.5,
          9.601,
          9.601,
          9.601,
          9.74,
          9.7,
          9.74,
          9.25,
          8.825,
          8.825,
          8.825,
          8.95,
          8.95,
          8.95,
          8.95,
          8.95,
          8.95,
          9,
          9,
          9,
          9,
          8.5,
          8.75,
          8.75,
          8.75,
          8.75,
          8.825,
          8.5,
          8.5,
          8.5,
          8.5,
          8.5,
          8.25,
          8.3,
          8.325,
          8.45,
          8.35,
          8.45,
          8.45,
          8.5,
          7.87,
          7.95,
          7.95,
          7.95,
          7.95,
          7.95,
          8,
          0.55,
          8,
          7.98,
          7.995,
          7.995,
          1.05,
          8.044,
          8.1,
          8.2,
          0.75,
          7.5,
          7.5,
          7.6,
          7.75,
          7.75,
          7.75,
          7.8,
          7.8,
          7.8,
          7.295,
          7.295,
          7.495,
          7.295,
          7.5,
          7.295,
          7.3,
          7.295,
          7.5,
          7.3,
          7.3,
          7.35,
          7.35,
          7.5,
          7.364,
          7.5,
          7.398,
          7.4,
          7.49,
          7.25,
          6.95,
          6.95,
          6.95,
          6.95,
          6.95,
          6.99,
          7.2,
          7.2,
          7.2,
          6.995,
          7.25,
          7.25,
          7.15,
          7.053,
          6.9,
          6.5,
          6.5,
          6.5,
          6.5,
          6.9,
          6.6,
          6.65,
          6.95,
          6.75,
          6.636,
          6.95,
          6.75,
          6.75,
          6.95,
          6.95,
          6.75,
          0.55,
          6.825,
          6.5,
          6.5,
          6.5,
          6.5,
          6.5,
          6.5,
          6.5,
          6.5,
          6.5,
          6.5
         ],
         "y0": " ",
         "yaxis": "y"
        },
        {
         "alignmentgroup": "True",
         "box": {
          "visible": false
         },
         "hovertemplate": "propertyType=Penthouse<br>Number of Bathrooms=%{x}<br>Price (in millions)=%{y}<extra></extra>",
         "legendgroup": "Penthouse",
         "marker": {
          "color": "#FFA15A"
         },
         "name": "Penthouse",
         "offsetgroup": "Penthouse",
         "orientation": "v",
         "points": "all",
         "scalegroup": "True",
         "showlegend": true,
         "type": "violin",
         "x": [
          6,
          4,
          5,
          6,
          6,
          4,
          3,
          3,
          8,
          3,
          5,
          4,
          4,
          4,
          3,
          4,
          7,
          4,
          3,
          3,
          5,
          3,
          4,
          4,
          3,
          3,
          5,
          3,
          4,
          3,
          3,
          3,
          5,
          4,
          4,
          4,
          4,
          5,
          5,
          3,
          3,
          4,
          4,
          2,
          7,
          3,
          4,
          3,
          4,
          3,
          3,
          3,
          5,
          3,
          3,
          4,
          3,
          4,
          3,
          4,
          4,
          3,
          4,
          3,
          6,
          3,
          3,
          3,
          4,
          2,
          3,
          4,
          4,
          3,
          4,
          3,
          3
         ],
         "x0": " ",
         "xaxis": "x",
         "y": [
          26.5,
          19.5,
          22.5,
          19.95,
          19.95,
          20.995,
          17.5,
          17.7,
          16,
          13.95,
          14,
          14.5,
          15.75,
          13.5,
          12.65,
          12.95,
          13,
          13.25,
          13.395,
          13.5,
          13.5,
          11,
          11,
          11.5,
          11.95,
          11.5,
          12,
          10.5,
          9.9,
          9.9,
          9.9,
          9.9,
          9.95,
          9.9,
          9.95,
          9.95,
          10,
          10,
          9.601,
          9.45,
          9.45,
          9.5,
          9.601,
          8.95,
          9,
          8.625,
          8.75,
          8.75,
          8.5,
          8.25,
          8.25,
          7.92,
          7.95,
          7.95,
          7.95,
          8,
          7.95,
          8,
          8,
          7.75,
          7.5,
          7.6,
          7.75,
          7.495,
          7.35,
          7.4,
          7.15,
          7.15,
          6.636,
          6.62,
          6.62,
          6.95,
          6.95,
          6.815,
          6.5,
          6.5,
          6.5
         ],
         "y0": " ",
         "yaxis": "y"
        },
        {
         "alignmentgroup": "True",
         "box": {
          "visible": false
         },
         "hovertemplate": "propertyType=Flat<br>Number of Bathrooms=%{x}<br>Price (in millions)=%{y}<extra></extra>",
         "legendgroup": "Flat",
         "marker": {
          "color": "#19d3f3"
         },
         "name": "Flat",
         "offsetgroup": "Flat",
         "orientation": "v",
         "points": "all",
         "scalegroup": "True",
         "showlegend": true,
         "type": "violin",
         "x": [
          4,
          6,
          5,
          5,
          3,
          6,
          6,
          4,
          4,
          3,
          4,
          4,
          4,
          4,
          3,
          4,
          1,
          4,
          4,
          5,
          5,
          3,
          5,
          8,
          2,
          5,
          5,
          3,
          2,
          4,
          4,
          4,
          2,
          3,
          3,
          3,
          5,
          4,
          3,
          3,
          3,
          4,
          3,
          6,
          3,
          2,
          2,
          3,
          4,
          3,
          2,
          1,
          5,
          3,
          6,
          4,
          2,
          4,
          4,
          2,
          3,
          2,
          4,
          4,
          5,
          3,
          4,
          3,
          2,
          5,
          4,
          4,
          3,
          3,
          4,
          4,
          3,
          5,
          3,
          4,
          3,
          3,
          4,
          3,
          2,
          4,
          3,
          5,
          3,
          4,
          3,
          4,
          3,
          2,
          2,
          2,
          2,
          3,
          2,
          4,
          4,
          4,
          5,
          5,
          2,
          3,
          2,
          3,
          2,
          4,
          4
         ],
         "x0": " ",
         "xaxis": "x",
         "y": [
          26.5,
          18.5,
          24,
          19.95,
          17.8,
          18,
          18,
          16.25,
          13.95,
          14.25,
          15.65,
          15.65,
          15.75,
          15.95,
          14.95,
          12.5,
          12.5,
          12.6,
          11,
          11,
          11,
          11.795,
          12,
          12.5,
          0.625,
          10.747,
          10.747,
          10.25,
          0.525,
          9.75,
          9.9,
          9.9,
          9.9,
          9.9,
          9.9,
          9.9,
          10,
          10,
          9.25,
          9.45,
          9.5,
          9.5,
          8.95,
          8.825,
          9,
          0.575,
          8.2,
          8.5,
          8.5,
          8.75,
          8.8,
          0.475,
          8.5,
          8.5,
          8.5,
          8.5,
          8.45,
          8.45,
          8.45,
          8.45,
          8.5,
          0.695,
          7.87,
          7.87,
          7.95,
          7.95,
          7.95,
          7.95,
          8,
          8,
          8.044,
          8.044,
          8.15,
          8.2,
          7.696,
          7.696,
          7.8,
          7.8,
          7.85,
          7.85,
          7.495,
          7.295,
          7.5,
          7.5,
          7.5,
          7.5,
          7.45,
          7.1875,
          6.95,
          6.95,
          6.995,
          7.2,
          7.25,
          7,
          7.25,
          0.845,
          6.5,
          6.595,
          6.5,
          6.6,
          6.636,
          6.636,
          6.75,
          6.95,
          6.75,
          6.815,
          0.9,
          6.5,
          1.6,
          6.5,
          6.5
         ],
         "y0": " ",
         "yaxis": "y"
        }
       ],
       "layout": {
        "legend": {
         "title": {
          "text": "propertyType"
         },
         "tracegroupgap": 0
        },
        "template": {
         "data": {
          "bar": [
           {
            "error_x": {
             "color": "#2a3f5f"
            },
            "error_y": {
             "color": "#2a3f5f"
            },
            "marker": {
             "line": {
              "color": "#E5ECF6",
              "width": 0.5
             },
             "pattern": {
              "fillmode": "overlay",
              "size": 10,
              "solidity": 0.2
             }
            },
            "type": "bar"
           }
          ],
          "barpolar": [
           {
            "marker": {
             "line": {
              "color": "#E5ECF6",
              "width": 0.5
             },
             "pattern": {
              "fillmode": "overlay",
              "size": 10,
              "solidity": 0.2
             }
            },
            "type": "barpolar"
           }
          ],
          "carpet": [
           {
            "aaxis": {
             "endlinecolor": "#2a3f5f",
             "gridcolor": "white",
             "linecolor": "white",
             "minorgridcolor": "white",
             "startlinecolor": "#2a3f5f"
            },
            "baxis": {
             "endlinecolor": "#2a3f5f",
             "gridcolor": "white",
             "linecolor": "white",
             "minorgridcolor": "white",
             "startlinecolor": "#2a3f5f"
            },
            "type": "carpet"
           }
          ],
          "choropleth": [
           {
            "colorbar": {
             "outlinewidth": 0,
             "ticks": ""
            },
            "type": "choropleth"
           }
          ],
          "contour": [
           {
            "colorbar": {
             "outlinewidth": 0,
             "ticks": ""
            },
            "colorscale": [
             [
              0,
              "#0d0887"
             ],
             [
              0.1111111111111111,
              "#46039f"
             ],
             [
              0.2222222222222222,
              "#7201a8"
             ],
             [
              0.3333333333333333,
              "#9c179e"
             ],
             [
              0.4444444444444444,
              "#bd3786"
             ],
             [
              0.5555555555555556,
              "#d8576b"
             ],
             [
              0.6666666666666666,
              "#ed7953"
             ],
             [
              0.7777777777777778,
              "#fb9f3a"
             ],
             [
              0.8888888888888888,
              "#fdca26"
             ],
             [
              1,
              "#f0f921"
             ]
            ],
            "type": "contour"
           }
          ],
          "contourcarpet": [
           {
            "colorbar": {
             "outlinewidth": 0,
             "ticks": ""
            },
            "type": "contourcarpet"
           }
          ],
          "heatmap": [
           {
            "colorbar": {
             "outlinewidth": 0,
             "ticks": ""
            },
            "colorscale": [
             [
              0,
              "#0d0887"
             ],
             [
              0.1111111111111111,
              "#46039f"
             ],
             [
              0.2222222222222222,
              "#7201a8"
             ],
             [
              0.3333333333333333,
              "#9c179e"
             ],
             [
              0.4444444444444444,
              "#bd3786"
             ],
             [
              0.5555555555555556,
              "#d8576b"
             ],
             [
              0.6666666666666666,
              "#ed7953"
             ],
             [
              0.7777777777777778,
              "#fb9f3a"
             ],
             [
              0.8888888888888888,
              "#fdca26"
             ],
             [
              1,
              "#f0f921"
             ]
            ],
            "type": "heatmap"
           }
          ],
          "heatmapgl": [
           {
            "colorbar": {
             "outlinewidth": 0,
             "ticks": ""
            },
            "colorscale": [
             [
              0,
              "#0d0887"
             ],
             [
              0.1111111111111111,
              "#46039f"
             ],
             [
              0.2222222222222222,
              "#7201a8"
             ],
             [
              0.3333333333333333,
              "#9c179e"
             ],
             [
              0.4444444444444444,
              "#bd3786"
             ],
             [
              0.5555555555555556,
              "#d8576b"
             ],
             [
              0.6666666666666666,
              "#ed7953"
             ],
             [
              0.7777777777777778,
              "#fb9f3a"
             ],
             [
              0.8888888888888888,
              "#fdca26"
             ],
             [
              1,
              "#f0f921"
             ]
            ],
            "type": "heatmapgl"
           }
          ],
          "histogram": [
           {
            "marker": {
             "pattern": {
              "fillmode": "overlay",
              "size": 10,
              "solidity": 0.2
             }
            },
            "type": "histogram"
           }
          ],
          "histogram2d": [
           {
            "colorbar": {
             "outlinewidth": 0,
             "ticks": ""
            },
            "colorscale": [
             [
              0,
              "#0d0887"
             ],
             [
              0.1111111111111111,
              "#46039f"
             ],
             [
              0.2222222222222222,
              "#7201a8"
             ],
             [
              0.3333333333333333,
              "#9c179e"
             ],
             [
              0.4444444444444444,
              "#bd3786"
             ],
             [
              0.5555555555555556,
              "#d8576b"
             ],
             [
              0.6666666666666666,
              "#ed7953"
             ],
             [
              0.7777777777777778,
              "#fb9f3a"
             ],
             [
              0.8888888888888888,
              "#fdca26"
             ],
             [
              1,
              "#f0f921"
             ]
            ],
            "type": "histogram2d"
           }
          ],
          "histogram2dcontour": [
           {
            "colorbar": {
             "outlinewidth": 0,
             "ticks": ""
            },
            "colorscale": [
             [
              0,
              "#0d0887"
             ],
             [
              0.1111111111111111,
              "#46039f"
             ],
             [
              0.2222222222222222,
              "#7201a8"
             ],
             [
              0.3333333333333333,
              "#9c179e"
             ],
             [
              0.4444444444444444,
              "#bd3786"
             ],
             [
              0.5555555555555556,
              "#d8576b"
             ],
             [
              0.6666666666666666,
              "#ed7953"
             ],
             [
              0.7777777777777778,
              "#fb9f3a"
             ],
             [
              0.8888888888888888,
              "#fdca26"
             ],
             [
              1,
              "#f0f921"
             ]
            ],
            "type": "histogram2dcontour"
           }
          ],
          "mesh3d": [
           {
            "colorbar": {
             "outlinewidth": 0,
             "ticks": ""
            },
            "type": "mesh3d"
           }
          ],
          "parcoords": [
           {
            "line": {
             "colorbar": {
              "outlinewidth": 0,
              "ticks": ""
             }
            },
            "type": "parcoords"
           }
          ],
          "pie": [
           {
            "automargin": true,
            "type": "pie"
           }
          ],
          "scatter": [
           {
            "fillpattern": {
             "fillmode": "overlay",
             "size": 10,
             "solidity": 0.2
            },
            "type": "scatter"
           }
          ],
          "scatter3d": [
           {
            "line": {
             "colorbar": {
              "outlinewidth": 0,
              "ticks": ""
             }
            },
            "marker": {
             "colorbar": {
              "outlinewidth": 0,
              "ticks": ""
             }
            },
            "type": "scatter3d"
           }
          ],
          "scattercarpet": [
           {
            "marker": {
             "colorbar": {
              "outlinewidth": 0,
              "ticks": ""
             }
            },
            "type": "scattercarpet"
           }
          ],
          "scattergeo": [
           {
            "marker": {
             "colorbar": {
              "outlinewidth": 0,
              "ticks": ""
             }
            },
            "type": "scattergeo"
           }
          ],
          "scattergl": [
           {
            "marker": {
             "colorbar": {
              "outlinewidth": 0,
              "ticks": ""
             }
            },
            "type": "scattergl"
           }
          ],
          "scattermapbox": [
           {
            "marker": {
             "colorbar": {
              "outlinewidth": 0,
              "ticks": ""
             }
            },
            "type": "scattermapbox"
           }
          ],
          "scatterpolar": [
           {
            "marker": {
             "colorbar": {
              "outlinewidth": 0,
              "ticks": ""
             }
            },
            "type": "scatterpolar"
           }
          ],
          "scatterpolargl": [
           {
            "marker": {
             "colorbar": {
              "outlinewidth": 0,
              "ticks": ""
             }
            },
            "type": "scatterpolargl"
           }
          ],
          "scatterternary": [
           {
            "marker": {
             "colorbar": {
              "outlinewidth": 0,
              "ticks": ""
             }
            },
            "type": "scatterternary"
           }
          ],
          "surface": [
           {
            "colorbar": {
             "outlinewidth": 0,
             "ticks": ""
            },
            "colorscale": [
             [
              0,
              "#0d0887"
             ],
             [
              0.1111111111111111,
              "#46039f"
             ],
             [
              0.2222222222222222,
              "#7201a8"
             ],
             [
              0.3333333333333333,
              "#9c179e"
             ],
             [
              0.4444444444444444,
              "#bd3786"
             ],
             [
              0.5555555555555556,
              "#d8576b"
             ],
             [
              0.6666666666666666,
              "#ed7953"
             ],
             [
              0.7777777777777778,
              "#fb9f3a"
             ],
             [
              0.8888888888888888,
              "#fdca26"
             ],
             [
              1,
              "#f0f921"
             ]
            ],
            "type": "surface"
           }
          ],
          "table": [
           {
            "cells": {
             "fill": {
              "color": "#EBF0F8"
             },
             "line": {
              "color": "white"
             }
            },
            "header": {
             "fill": {
              "color": "#C8D4E3"
             },
             "line": {
              "color": "white"
             }
            },
            "type": "table"
           }
          ]
         },
         "layout": {
          "annotationdefaults": {
           "arrowcolor": "#2a3f5f",
           "arrowhead": 0,
           "arrowwidth": 1
          },
          "autotypenumbers": "strict",
          "coloraxis": {
           "colorbar": {
            "outlinewidth": 0,
            "ticks": ""
           }
          },
          "colorscale": {
           "diverging": [
            [
             0,
             "#8e0152"
            ],
            [
             0.1,
             "#c51b7d"
            ],
            [
             0.2,
             "#de77ae"
            ],
            [
             0.3,
             "#f1b6da"
            ],
            [
             0.4,
             "#fde0ef"
            ],
            [
             0.5,
             "#f7f7f7"
            ],
            [
             0.6,
             "#e6f5d0"
            ],
            [
             0.7,
             "#b8e186"
            ],
            [
             0.8,
             "#7fbc41"
            ],
            [
             0.9,
             "#4d9221"
            ],
            [
             1,
             "#276419"
            ]
           ],
           "sequential": [
            [
             0,
             "#0d0887"
            ],
            [
             0.1111111111111111,
             "#46039f"
            ],
            [
             0.2222222222222222,
             "#7201a8"
            ],
            [
             0.3333333333333333,
             "#9c179e"
            ],
            [
             0.4444444444444444,
             "#bd3786"
            ],
            [
             0.5555555555555556,
             "#d8576b"
            ],
            [
             0.6666666666666666,
             "#ed7953"
            ],
            [
             0.7777777777777778,
             "#fb9f3a"
            ],
            [
             0.8888888888888888,
             "#fdca26"
            ],
            [
             1,
             "#f0f921"
            ]
           ],
           "sequentialminus": [
            [
             0,
             "#0d0887"
            ],
            [
             0.1111111111111111,
             "#46039f"
            ],
            [
             0.2222222222222222,
             "#7201a8"
            ],
            [
             0.3333333333333333,
             "#9c179e"
            ],
            [
             0.4444444444444444,
             "#bd3786"
            ],
            [
             0.5555555555555556,
             "#d8576b"
            ],
            [
             0.6666666666666666,
             "#ed7953"
            ],
            [
             0.7777777777777778,
             "#fb9f3a"
            ],
            [
             0.8888888888888888,
             "#fdca26"
            ],
            [
             1,
             "#f0f921"
            ]
           ]
          },
          "colorway": [
           "#636efa",
           "#EF553B",
           "#00cc96",
           "#ab63fa",
           "#FFA15A",
           "#19d3f3",
           "#FF6692",
           "#B6E880",
           "#FF97FF",
           "#FECB52"
          ],
          "font": {
           "color": "#2a3f5f"
          },
          "geo": {
           "bgcolor": "white",
           "lakecolor": "white",
           "landcolor": "#E5ECF6",
           "showlakes": true,
           "showland": true,
           "subunitcolor": "white"
          },
          "hoverlabel": {
           "align": "left"
          },
          "hovermode": "closest",
          "mapbox": {
           "style": "light"
          },
          "paper_bgcolor": "white",
          "plot_bgcolor": "#E5ECF6",
          "polar": {
           "angularaxis": {
            "gridcolor": "white",
            "linecolor": "white",
            "ticks": ""
           },
           "bgcolor": "#E5ECF6",
           "radialaxis": {
            "gridcolor": "white",
            "linecolor": "white",
            "ticks": ""
           }
          },
          "scene": {
           "xaxis": {
            "backgroundcolor": "#E5ECF6",
            "gridcolor": "white",
            "gridwidth": 2,
            "linecolor": "white",
            "showbackground": true,
            "ticks": "",
            "zerolinecolor": "white"
           },
           "yaxis": {
            "backgroundcolor": "#E5ECF6",
            "gridcolor": "white",
            "gridwidth": 2,
            "linecolor": "white",
            "showbackground": true,
            "ticks": "",
            "zerolinecolor": "white"
           },
           "zaxis": {
            "backgroundcolor": "#E5ECF6",
            "gridcolor": "white",
            "gridwidth": 2,
            "linecolor": "white",
            "showbackground": true,
            "ticks": "",
            "zerolinecolor": "white"
           }
          },
          "shapedefaults": {
           "line": {
            "color": "#2a3f5f"
           }
          },
          "ternary": {
           "aaxis": {
            "gridcolor": "white",
            "linecolor": "white",
            "ticks": ""
           },
           "baxis": {
            "gridcolor": "white",
            "linecolor": "white",
            "ticks": ""
           },
           "bgcolor": "#E5ECF6",
           "caxis": {
            "gridcolor": "white",
            "linecolor": "white",
            "ticks": ""
           }
          },
          "title": {
           "x": 0.05
          },
          "xaxis": {
           "automargin": true,
           "gridcolor": "white",
           "linecolor": "white",
           "ticks": "",
           "title": {
            "standoff": 15
           },
           "zerolinecolor": "white",
           "zerolinewidth": 2
          },
          "yaxis": {
           "automargin": true,
           "gridcolor": "white",
           "linecolor": "white",
           "ticks": "",
           "title": {
            "standoff": 15
           },
           "zerolinecolor": "white",
           "zerolinewidth": 2
          }
         }
        },
        "title": {
         "text": "Price Distribution by Number of Bathrooms and Property Type"
        },
        "violinmode": "group",
        "xaxis": {
         "anchor": "y",
         "domain": [
          0,
          1
         ],
         "dtick": 1,
         "range": [
          0,
          13
         ],
         "tick0": 1,
         "tickmode": "linear",
         "title": {
          "text": "Number of Bedrooms"
         }
        },
        "yaxis": {
         "anchor": "x",
         "domain": [
          0,
          1
         ],
         "range": [
          0,
          80
         ],
         "title": {
          "text": "Price (in millions)"
         }
        }
       }
      }
     },
     "metadata": {},
     "output_type": "display_data"
    }
   ],
   "source": [
    "fig = px.violin(\n",
    "    subset, \n",
    "    x='bathrooms',\n",
    "    y='price(M)',\n",
    "    color='propertyType',\n",
    "    title='Price Distribution by Number of Bathrooms and Property Type',\n",
    "    labels={'bathrooms': 'Number of Bathrooms', 'price(M)': 'Price (in millions)'},\n",
    "    box=False,\n",
    "    points='all'\n",
    ")\n",
    "\n",
    "fig.update_layout(\n",
    "    xaxis_title='Number of Bedrooms',\n",
    "    yaxis_title='Price (in millions)',\n",
    "    template='plotly',\n",
    "    xaxis_range=[0, 13],  # Limit x-axis range (if needed)\n",
    "    yaxis_range=[0, 80], # Limit y-axis range (if needed)\n",
    "    xaxis=dict(\n",
    "        tickmode='linear',   # Use linear ticks\n",
    "        tick0=1,             # Start ticks at 1\n",
    "        dtick=1              # Step size of 1\n",
    "    ),\n",
    ")\n",
    "\n",
    "fig.show()\n"
   ]
  },
  {
   "cell_type": "markdown",
   "metadata": {},
   "source": [
    "##### propertyGlobalType"
   ]
  },
  {
   "cell_type": "code",
   "execution_count": 106,
   "metadata": {},
   "outputs": [
    {
     "data": {
      "application/vnd.plotly.v1+json": {
       "config": {
        "plotlyServerURL": "https://plot.ly"
       },
       "data": [
        {
         "alignmentgroup": "True",
         "box": {
          "visible": false
         },
         "hovertemplate": "propertyGlobalType=House<br>Number of Bathrooms=%{x}<br>Price (in millions)=%{y}<extra></extra>",
         "legendgroup": "House",
         "marker": {
          "color": "#636efa"
         },
         "name": "House",
         "offsetgroup": "House",
         "orientation": "v",
         "points": "all",
         "scalegroup": "True",
         "showlegend": true,
         "type": "violin",
         "x": [
          8,
          7,
          6,
          6,
          10,
          5,
          5,
          6,
          7,
          9,
          7,
          6,
          5,
          6,
          7,
          12,
          6,
          7,
          3,
          7,
          9,
          8,
          8,
          8,
          9,
          6,
          10,
          6,
          7,
          6,
          6,
          7,
          6,
          7,
          3,
          6,
          4,
          7,
          6,
          6,
          6,
          5,
          4,
          6,
          5,
          8,
          9,
          6,
          10,
          5,
          6,
          5,
          7,
          5,
          6,
          5,
          6,
          6,
          3,
          8,
          6,
          4,
          5,
          12,
          5,
          10,
          4,
          9,
          5,
          7,
          10,
          6,
          7,
          7,
          3,
          3,
          6,
          5,
          8,
          3,
          5,
          8,
          8,
          8,
          5,
          5,
          6,
          5,
          6,
          5,
          6,
          5,
          4,
          6,
          6,
          7,
          5,
          5,
          6,
          6,
          5,
          7,
          5,
          5,
          7,
          6,
          5,
          5,
          5,
          5,
          6,
          6,
          8,
          4,
          8,
          8,
          10,
          4,
          3,
          4,
          5,
          4,
          8,
          3,
          7,
          5,
          5,
          6,
          5,
          4,
          5,
          8,
          5,
          5,
          4,
          5,
          4,
          3,
          7,
          4,
          4,
          10,
          4,
          8,
          5,
          7,
          5,
          4,
          3,
          4,
          5,
          5,
          7,
          6,
          5,
          4,
          6,
          5,
          4,
          4,
          3,
          7,
          3,
          5,
          1,
          5,
          4,
          6,
          7,
          6,
          7,
          6,
          7,
          4,
          4,
          5,
          5,
          4,
          8,
          6,
          6,
          6,
          5,
          5,
          5,
          2,
          3,
          7,
          7,
          4,
          5,
          4,
          4,
          4,
          4,
          4,
          3,
          7,
          4,
          6,
          6,
          10,
          4,
          5,
          3,
          5,
          3,
          3,
          3,
          5,
          5,
          4,
          6,
          4,
          6,
          5,
          7,
          3,
          5,
          7,
          4,
          5,
          5,
          6,
          4,
          4,
          4,
          6,
          7,
          4,
          4,
          4,
          5,
          7,
          4,
          4,
          6,
          8,
          6,
          5,
          4,
          7,
          3,
          5,
          10,
          11,
          4,
          3,
          4,
          4,
          6,
          6,
          6,
          6,
          5,
          4,
          5,
          3,
          6,
          6,
          4,
          4,
          3,
          3,
          4,
          4,
          6,
          5,
          3,
          4,
          7,
          4,
          6,
          2,
          3,
          6,
          4,
          6,
          6,
          3,
          4,
          3,
          5,
          3,
          3,
          2,
          3,
          5,
          6,
          5,
          6,
          3,
          4,
          5,
          4,
          4,
          6,
          6,
          8,
          4,
          3,
          7,
          4,
          3,
          3,
          3,
          4,
          5,
          5,
          3,
          5,
          3,
          4,
          6,
          3,
          4,
          4,
          3,
          5,
          4,
          5,
          4,
          5,
          5,
          5,
          5,
          2,
          3,
          6,
          3,
          4,
          5,
          6,
          4,
          5,
          4,
          4,
          6,
          3,
          10
         ],
         "x0": " ",
         "xaxis": "x",
         "y": [
          24.95,
          29.5,
          25,
          24.95,
          24.95,
          25,
          25,
          25,
          25,
          25,
          25,
          28,
          29.5,
          28,
          29.5,
          29.95,
          29.95,
          29.975,
          30,
          30,
          32,
          30,
          30,
          38,
          45,
          47,
          65,
          18.25,
          18.8,
          18.95,
          18.95,
          18.95,
          18.95,
          18.95,
          19.5,
          19.75,
          21.95,
          22,
          22.5,
          22.5,
          22.95,
          23,
          23.5,
          23.95,
          24,
          24,
          24.95,
          19.95,
          20,
          20,
          20,
          21.5,
          17,
          17.5,
          17.5,
          17.95,
          17.95,
          17.95,
          1.85,
          16,
          16,
          16,
          16.5,
          16.5,
          16.75,
          16.5,
          16.75,
          16.95,
          16.95,
          16.95,
          16.95,
          14.5,
          15.5,
          13.75,
          13.85,
          13.85,
          13.95,
          14,
          13.95,
          14,
          14,
          15.5,
          15.5,
          15.5,
          15.75,
          15.75,
          15.95,
          15.95,
          15.95,
          15.95,
          14.8,
          15.95,
          3,
          14.95,
          14.95,
          15,
          14.95,
          15,
          15,
          15,
          12.5,
          12.95,
          12.95,
          12.95,
          12.95,
          12.95,
          12.95,
          12.95,
          12.95,
          12.95,
          13.5,
          13.5,
          13.5,
          13.5,
          13.5,
          13.5,
          11,
          10.95,
          10.95,
          10.99,
          11.95,
          11.95,
          11,
          11.5,
          11.95,
          11.5,
          11.95,
          11.5,
          11.25,
          11.5,
          11.95,
          11.95,
          11.25,
          11.25,
          11.995,
          12,
          11.25,
          11.5,
          12,
          12,
          11.9,
          12.25,
          11.95,
          12.5,
          10,
          10,
          10.75,
          10.75,
          10.25,
          10.85,
          10.5,
          10.5,
          10.95,
          10.95,
          10.95,
          10.95,
          10.5,
          10.95,
          10.95,
          10.95,
          10.95,
          10.95,
          10.95,
          10.95,
          0.795,
          10.95,
          9.95,
          9.75,
          9.75,
          9.75,
          9.95,
          9.95,
          9.95,
          9.95,
          9.95,
          9.95,
          9.95,
          9.95,
          9.975,
          9.995,
          10,
          10,
          10,
          10,
          10,
          9.25,
          9.25,
          9.35,
          9.35,
          9.5,
          9.5,
          9.5,
          9.5,
          9.5,
          9.5,
          9.5,
          9.5,
          9.65,
          3.75,
          8.95,
          8.95,
          8.95,
          8.95,
          8.95,
          8.95,
          8.95,
          8.95,
          8.995,
          8.95,
          8.99995,
          9,
          9,
          8.5,
          8.5,
          8.5,
          8.65,
          8.75,
          8.5,
          8.5,
          8.5,
          8.5,
          8.3,
          8.5,
          7.95,
          7.95,
          7.95,
          7.95,
          7.95,
          7.95,
          7.95,
          7.95,
          8,
          8,
          7.95,
          7.95,
          7.95,
          7.95,
          8,
          7.95,
          8,
          7.95,
          7.995,
          8,
          8,
          8,
          8,
          8,
          8.1,
          7.75,
          7.5,
          7.5,
          7.6,
          7.5,
          7.65,
          7.65,
          7.65,
          7.65,
          7.75,
          7.75,
          7.75,
          7.75,
          7.75,
          7.75,
          7.75,
          7.75,
          7.495,
          7.495,
          7.3,
          7.5,
          7.5,
          7.5,
          7.35,
          7.5,
          7.5,
          7.5,
          7.5,
          7.5,
          6.95,
          6.95,
          6.95,
          6.95,
          6.95,
          6.95,
          6.95,
          6.95,
          6.95,
          6.95,
          6.995,
          6.995,
          7.25,
          7.25,
          7,
          7.25,
          7,
          7.25,
          7.25,
          7.25,
          7.25,
          7,
          7,
          7.05,
          7,
          6.595,
          6.5,
          6.5,
          6.85,
          6.595,
          6.85,
          6.6,
          6.85,
          6.6,
          6.95,
          6.95,
          6.95,
          6.75,
          6.95,
          6.95,
          1.2,
          6.75,
          6.95,
          6.75,
          6.75,
          6.75,
          6.75,
          6.95,
          6.8,
          6.95,
          6.5,
          6.5,
          6.5,
          6.5,
          6.5,
          6.5,
          6.5,
          6.5,
          6.5,
          6.5,
          6.5,
          6.5,
          6.5
         ],
         "y0": " ",
         "yaxis": "y"
        },
        {
         "alignmentgroup": "True",
         "box": {
          "visible": false
         },
         "hovertemplate": "propertyGlobalType=Flat<br>Number of Bathrooms=%{x}<br>Price (in millions)=%{y}<extra></extra>",
         "legendgroup": "Flat",
         "marker": {
          "color": "#EF553B"
         },
         "name": "Flat",
         "offsetgroup": "Flat",
         "orientation": "v",
         "points": "all",
         "scalegroup": "True",
         "showlegend": true,
         "type": "violin",
         "x": [
          3,
          6,
          4,
          3,
          6,
          5,
          4,
          4,
          5,
          4,
          4,
          5,
          3,
          4,
          6,
          5,
          6,
          4,
          4,
          4,
          6,
          3,
          6,
          3,
          7,
          3,
          3,
          6,
          6,
          4,
          8,
          4,
          4,
          1,
          3,
          4,
          4,
          4,
          3,
          3,
          5,
          3,
          3,
          3,
          4,
          4,
          4,
          4,
          4,
          4,
          4,
          5,
          4,
          4,
          3,
          3,
          3,
          3,
          2,
          4,
          4,
          3,
          1,
          4,
          4,
          4,
          4,
          4,
          4,
          7,
          4,
          4,
          4,
          3,
          3,
          3,
          5,
          4,
          3,
          4,
          5,
          5,
          3,
          4,
          4,
          3,
          3,
          3,
          4,
          3,
          3,
          3,
          3,
          4,
          5,
          4,
          3,
          7,
          3,
          5,
          3,
          3,
          8,
          3,
          2,
          5,
          4,
          4,
          5,
          5,
          5,
          5,
          3,
          3,
          5,
          4,
          3,
          3,
          3,
          3,
          3,
          3,
          3,
          6,
          2,
          4,
          4,
          4,
          2,
          4,
          3,
          4,
          3,
          3,
          5,
          3,
          4,
          3,
          3,
          3,
          2,
          4,
          4,
          5,
          2,
          3,
          5,
          3,
          4,
          4,
          4,
          5,
          5,
          3,
          3,
          3,
          3,
          3,
          4,
          3,
          4,
          4,
          4,
          4,
          5,
          4,
          6,
          4,
          4,
          4,
          4,
          3,
          6,
          6,
          6,
          6,
          4,
          3,
          4,
          3,
          2,
          4,
          3,
          3,
          7,
          3,
          3,
          7,
          3,
          2,
          2,
          3,
          4,
          6,
          3,
          4,
          2,
          4,
          4,
          3,
          3,
          3,
          2,
          6,
          1,
          5,
          3,
          3,
          3,
          4,
          4,
          2,
          4,
          6,
          4,
          4,
          3,
          3,
          4,
          3,
          2,
          4,
          2,
          3,
          5,
          3,
          4,
          2,
          3,
          3,
          2,
          4,
          4,
          4,
          3,
          5,
          3,
          3,
          5,
          4,
          3,
          3,
          3,
          3,
          4,
          4,
          3,
          4,
          3,
          2,
          4,
          3,
          2,
          2,
          5,
          2,
          2,
          4,
          1,
          4,
          3,
          4,
          4,
          5,
          3,
          2,
          3,
          1,
          4,
          9,
          5,
          4,
          3,
          3,
          4,
          4,
          2,
          3,
          3,
          4,
          3,
          3,
          3,
          3,
          5,
          3,
          4,
          3,
          2,
          3,
          4,
          3,
          3,
          4,
          3,
          3,
          4,
          3,
          3,
          3,
          2,
          5,
          3,
          3,
          6,
          4,
          7,
          3,
          4,
          4,
          3,
          3,
          3,
          3,
          3,
          3,
          5,
          4,
          3,
          2,
          3,
          3,
          4,
          4,
          2,
          7,
          3,
          3,
          4,
          3,
          4,
          4,
          3,
          5,
          2,
          3,
          2,
          2,
          3,
          4,
          3,
          3,
          5,
          4,
          2,
          4,
          5,
          3,
          3,
          2,
          4,
          4,
          4,
          3,
          2,
          3,
          3,
          3,
          4,
          4,
          3,
          4,
          5,
          5,
          4,
          3,
          4,
          3,
          2,
          2,
          2,
          2,
          4,
          3,
          1,
          4,
          3,
          2,
          3,
          3,
          3,
          3,
          4,
          2,
          4,
          2,
          4,
          3,
          3,
          2,
          4,
          4,
          3,
          4,
          3
         ],
         "x0": " ",
         "xaxis": "x",
         "y": [
          25,
          26.5,
          26.5,
          19.95,
          18.5,
          18.5,
          19,
          19.5,
          22.5,
          22.5,
          23.5,
          24,
          2.1,
          19.95,
          19.95,
          19.95,
          19.95,
          19.95,
          20,
          20.995,
          16,
          17.5,
          17.5,
          17.5,
          17.5,
          17.7,
          17.8,
          18,
          18,
          16,
          16,
          16.25,
          16.25,
          0.725,
          13.75,
          13.95,
          13.95,
          13.95,
          13.95,
          14,
          14,
          14.25,
          14,
          14.25,
          14.5,
          15.65,
          15.65,
          15.65,
          15.75,
          15.75,
          15.75,
          14.75,
          15.95,
          14.75,
          14.6,
          14.95,
          14.95,
          15,
          15,
          13.5,
          12.5,
          12.65,
          12.5,
          12.6,
          12.75,
          12.95,
          12.95,
          12.95,
          12.95,
          13,
          13,
          13.25,
          13.25,
          13.395,
          13.5,
          13.5,
          13.5,
          13.5,
          10.95,
          11,
          11,
          11,
          11,
          11,
          11,
          11.5,
          11.2,
          11.95,
          11.5,
          11.25,
          11.95,
          11.5,
          12,
          11.5,
          12,
          11.59,
          11.75,
          11.7,
          11.795,
          12,
          11.75,
          12.5,
          12.5,
          3.95,
          0.625,
          10.747,
          10,
          10.13,
          10.13,
          10.13,
          10.747,
          10.75,
          10.75,
          10.25,
          10.75,
          10.25,
          10.75,
          10.25,
          10.5,
          10.95,
          10.5,
          10.5,
          10.95,
          10.747,
          0.525,
          9.75,
          9.9,
          9.9,
          9.9,
          9.9,
          9.9,
          9.95,
          9.9,
          9.9,
          9.95,
          9.9,
          9.9,
          9.95,
          9.9,
          9.9,
          9.9,
          9.95,
          9.95,
          9.95,
          10,
          10,
          10,
          10,
          10,
          10,
          10,
          10,
          9.601,
          9.25,
          9.45,
          9.45,
          9.45,
          9.5,
          9.5,
          9.5,
          9.5,
          9.5,
          9.5,
          9.601,
          9.601,
          9.601,
          9.601,
          9.74,
          9.7,
          9.74,
          9.25,
          8.95,
          8.825,
          8.825,
          8.825,
          8.825,
          8.95,
          8.95,
          8.95,
          8.95,
          8.95,
          8.95,
          8.95,
          9,
          9,
          9,
          9,
          9,
          9,
          0.575,
          8.2,
          8.5,
          8.5,
          8.5,
          8.625,
          8.75,
          8.75,
          8.75,
          8.75,
          8.75,
          8.75,
          8.75,
          8.8,
          8.825,
          0.475,
          8.5,
          8.5,
          8.5,
          8.5,
          8.5,
          8.5,
          8.5,
          8.5,
          8.5,
          8.5,
          8.25,
          8.25,
          8.25,
          8.3,
          8.325,
          8.45,
          8.45,
          8.45,
          8.35,
          8.45,
          8.45,
          8.45,
          8.45,
          8.5,
          8.5,
          0.695,
          7.87,
          7.87,
          7.87,
          7.92,
          7.95,
          7.95,
          7.95,
          7.95,
          7.95,
          7.95,
          7.95,
          7.95,
          7.95,
          7.95,
          7.95,
          7.95,
          8,
          8,
          0.55,
          8,
          7.95,
          8,
          7.98,
          8,
          7.995,
          7.995,
          8,
          1.05,
          8.044,
          8,
          8.044,
          8.044,
          8.1,
          8.15,
          8.2,
          8.2,
          0.75,
          7.75,
          7.5,
          7.5,
          7.5,
          7.6,
          7.6,
          7.696,
          7.696,
          7.75,
          7.75,
          7.75,
          7.75,
          7.8,
          7.8,
          7.8,
          7.8,
          7.8,
          7.85,
          7.85,
          7.495,
          7.295,
          7.495,
          7.295,
          7.495,
          7.295,
          7.5,
          7.295,
          7.295,
          7.5,
          7.5,
          7.3,
          7.295,
          7.5,
          7.5,
          7.3,
          7.3,
          7.35,
          7.5,
          7.35,
          7.35,
          7.5,
          7.364,
          7.5,
          7.398,
          7.4,
          7.4,
          7.49,
          7.45,
          7.1875,
          7.25,
          6.95,
          6.95,
          6.95,
          6.95,
          6.95,
          6.95,
          6.95,
          6.99,
          6.995,
          7.2,
          7.2,
          7.2,
          7.2,
          6.995,
          7.25,
          7.25,
          7,
          7.25,
          7.25,
          0.845,
          7.15,
          7.053,
          7.15,
          7.15,
          6.9,
          6.5,
          6.5,
          6.5,
          6.5,
          6.5,
          6.595,
          6.5,
          6.9,
          6.6,
          6.636,
          6.6,
          6.62,
          6.65,
          6.62,
          6.95,
          6.636,
          6.75,
          6.636,
          6.636,
          6.75,
          6.95,
          6.95,
          6.95,
          6.75,
          6.75,
          6.95,
          6.95,
          6.75,
          6.75,
          6.95,
          6.815,
          0.55,
          6.825,
          6.815,
          0.9,
          6.5,
          6.5,
          6.5,
          6.5,
          6.5,
          6.5,
          6.5,
          1.6,
          6.5,
          6.5,
          6.5,
          6.5,
          6.5,
          6.5,
          6.5,
          6.5,
          6.5
         ],
         "y0": " ",
         "yaxis": "y"
        }
       ],
       "layout": {
        "legend": {
         "title": {
          "text": "propertyGlobalType"
         },
         "tracegroupgap": 0
        },
        "template": {
         "data": {
          "bar": [
           {
            "error_x": {
             "color": "#2a3f5f"
            },
            "error_y": {
             "color": "#2a3f5f"
            },
            "marker": {
             "line": {
              "color": "#E5ECF6",
              "width": 0.5
             },
             "pattern": {
              "fillmode": "overlay",
              "size": 10,
              "solidity": 0.2
             }
            },
            "type": "bar"
           }
          ],
          "barpolar": [
           {
            "marker": {
             "line": {
              "color": "#E5ECF6",
              "width": 0.5
             },
             "pattern": {
              "fillmode": "overlay",
              "size": 10,
              "solidity": 0.2
             }
            },
            "type": "barpolar"
           }
          ],
          "carpet": [
           {
            "aaxis": {
             "endlinecolor": "#2a3f5f",
             "gridcolor": "white",
             "linecolor": "white",
             "minorgridcolor": "white",
             "startlinecolor": "#2a3f5f"
            },
            "baxis": {
             "endlinecolor": "#2a3f5f",
             "gridcolor": "white",
             "linecolor": "white",
             "minorgridcolor": "white",
             "startlinecolor": "#2a3f5f"
            },
            "type": "carpet"
           }
          ],
          "choropleth": [
           {
            "colorbar": {
             "outlinewidth": 0,
             "ticks": ""
            },
            "type": "choropleth"
           }
          ],
          "contour": [
           {
            "colorbar": {
             "outlinewidth": 0,
             "ticks": ""
            },
            "colorscale": [
             [
              0,
              "#0d0887"
             ],
             [
              0.1111111111111111,
              "#46039f"
             ],
             [
              0.2222222222222222,
              "#7201a8"
             ],
             [
              0.3333333333333333,
              "#9c179e"
             ],
             [
              0.4444444444444444,
              "#bd3786"
             ],
             [
              0.5555555555555556,
              "#d8576b"
             ],
             [
              0.6666666666666666,
              "#ed7953"
             ],
             [
              0.7777777777777778,
              "#fb9f3a"
             ],
             [
              0.8888888888888888,
              "#fdca26"
             ],
             [
              1,
              "#f0f921"
             ]
            ],
            "type": "contour"
           }
          ],
          "contourcarpet": [
           {
            "colorbar": {
             "outlinewidth": 0,
             "ticks": ""
            },
            "type": "contourcarpet"
           }
          ],
          "heatmap": [
           {
            "colorbar": {
             "outlinewidth": 0,
             "ticks": ""
            },
            "colorscale": [
             [
              0,
              "#0d0887"
             ],
             [
              0.1111111111111111,
              "#46039f"
             ],
             [
              0.2222222222222222,
              "#7201a8"
             ],
             [
              0.3333333333333333,
              "#9c179e"
             ],
             [
              0.4444444444444444,
              "#bd3786"
             ],
             [
              0.5555555555555556,
              "#d8576b"
             ],
             [
              0.6666666666666666,
              "#ed7953"
             ],
             [
              0.7777777777777778,
              "#fb9f3a"
             ],
             [
              0.8888888888888888,
              "#fdca26"
             ],
             [
              1,
              "#f0f921"
             ]
            ],
            "type": "heatmap"
           }
          ],
          "heatmapgl": [
           {
            "colorbar": {
             "outlinewidth": 0,
             "ticks": ""
            },
            "colorscale": [
             [
              0,
              "#0d0887"
             ],
             [
              0.1111111111111111,
              "#46039f"
             ],
             [
              0.2222222222222222,
              "#7201a8"
             ],
             [
              0.3333333333333333,
              "#9c179e"
             ],
             [
              0.4444444444444444,
              "#bd3786"
             ],
             [
              0.5555555555555556,
              "#d8576b"
             ],
             [
              0.6666666666666666,
              "#ed7953"
             ],
             [
              0.7777777777777778,
              "#fb9f3a"
             ],
             [
              0.8888888888888888,
              "#fdca26"
             ],
             [
              1,
              "#f0f921"
             ]
            ],
            "type": "heatmapgl"
           }
          ],
          "histogram": [
           {
            "marker": {
             "pattern": {
              "fillmode": "overlay",
              "size": 10,
              "solidity": 0.2
             }
            },
            "type": "histogram"
           }
          ],
          "histogram2d": [
           {
            "colorbar": {
             "outlinewidth": 0,
             "ticks": ""
            },
            "colorscale": [
             [
              0,
              "#0d0887"
             ],
             [
              0.1111111111111111,
              "#46039f"
             ],
             [
              0.2222222222222222,
              "#7201a8"
             ],
             [
              0.3333333333333333,
              "#9c179e"
             ],
             [
              0.4444444444444444,
              "#bd3786"
             ],
             [
              0.5555555555555556,
              "#d8576b"
             ],
             [
              0.6666666666666666,
              "#ed7953"
             ],
             [
              0.7777777777777778,
              "#fb9f3a"
             ],
             [
              0.8888888888888888,
              "#fdca26"
             ],
             [
              1,
              "#f0f921"
             ]
            ],
            "type": "histogram2d"
           }
          ],
          "histogram2dcontour": [
           {
            "colorbar": {
             "outlinewidth": 0,
             "ticks": ""
            },
            "colorscale": [
             [
              0,
              "#0d0887"
             ],
             [
              0.1111111111111111,
              "#46039f"
             ],
             [
              0.2222222222222222,
              "#7201a8"
             ],
             [
              0.3333333333333333,
              "#9c179e"
             ],
             [
              0.4444444444444444,
              "#bd3786"
             ],
             [
              0.5555555555555556,
              "#d8576b"
             ],
             [
              0.6666666666666666,
              "#ed7953"
             ],
             [
              0.7777777777777778,
              "#fb9f3a"
             ],
             [
              0.8888888888888888,
              "#fdca26"
             ],
             [
              1,
              "#f0f921"
             ]
            ],
            "type": "histogram2dcontour"
           }
          ],
          "mesh3d": [
           {
            "colorbar": {
             "outlinewidth": 0,
             "ticks": ""
            },
            "type": "mesh3d"
           }
          ],
          "parcoords": [
           {
            "line": {
             "colorbar": {
              "outlinewidth": 0,
              "ticks": ""
             }
            },
            "type": "parcoords"
           }
          ],
          "pie": [
           {
            "automargin": true,
            "type": "pie"
           }
          ],
          "scatter": [
           {
            "fillpattern": {
             "fillmode": "overlay",
             "size": 10,
             "solidity": 0.2
            },
            "type": "scatter"
           }
          ],
          "scatter3d": [
           {
            "line": {
             "colorbar": {
              "outlinewidth": 0,
              "ticks": ""
             }
            },
            "marker": {
             "colorbar": {
              "outlinewidth": 0,
              "ticks": ""
             }
            },
            "type": "scatter3d"
           }
          ],
          "scattercarpet": [
           {
            "marker": {
             "colorbar": {
              "outlinewidth": 0,
              "ticks": ""
             }
            },
            "type": "scattercarpet"
           }
          ],
          "scattergeo": [
           {
            "marker": {
             "colorbar": {
              "outlinewidth": 0,
              "ticks": ""
             }
            },
            "type": "scattergeo"
           }
          ],
          "scattergl": [
           {
            "marker": {
             "colorbar": {
              "outlinewidth": 0,
              "ticks": ""
             }
            },
            "type": "scattergl"
           }
          ],
          "scattermapbox": [
           {
            "marker": {
             "colorbar": {
              "outlinewidth": 0,
              "ticks": ""
             }
            },
            "type": "scattermapbox"
           }
          ],
          "scatterpolar": [
           {
            "marker": {
             "colorbar": {
              "outlinewidth": 0,
              "ticks": ""
             }
            },
            "type": "scatterpolar"
           }
          ],
          "scatterpolargl": [
           {
            "marker": {
             "colorbar": {
              "outlinewidth": 0,
              "ticks": ""
             }
            },
            "type": "scatterpolargl"
           }
          ],
          "scatterternary": [
           {
            "marker": {
             "colorbar": {
              "outlinewidth": 0,
              "ticks": ""
             }
            },
            "type": "scatterternary"
           }
          ],
          "surface": [
           {
            "colorbar": {
             "outlinewidth": 0,
             "ticks": ""
            },
            "colorscale": [
             [
              0,
              "#0d0887"
             ],
             [
              0.1111111111111111,
              "#46039f"
             ],
             [
              0.2222222222222222,
              "#7201a8"
             ],
             [
              0.3333333333333333,
              "#9c179e"
             ],
             [
              0.4444444444444444,
              "#bd3786"
             ],
             [
              0.5555555555555556,
              "#d8576b"
             ],
             [
              0.6666666666666666,
              "#ed7953"
             ],
             [
              0.7777777777777778,
              "#fb9f3a"
             ],
             [
              0.8888888888888888,
              "#fdca26"
             ],
             [
              1,
              "#f0f921"
             ]
            ],
            "type": "surface"
           }
          ],
          "table": [
           {
            "cells": {
             "fill": {
              "color": "#EBF0F8"
             },
             "line": {
              "color": "white"
             }
            },
            "header": {
             "fill": {
              "color": "#C8D4E3"
             },
             "line": {
              "color": "white"
             }
            },
            "type": "table"
           }
          ]
         },
         "layout": {
          "annotationdefaults": {
           "arrowcolor": "#2a3f5f",
           "arrowhead": 0,
           "arrowwidth": 1
          },
          "autotypenumbers": "strict",
          "coloraxis": {
           "colorbar": {
            "outlinewidth": 0,
            "ticks": ""
           }
          },
          "colorscale": {
           "diverging": [
            [
             0,
             "#8e0152"
            ],
            [
             0.1,
             "#c51b7d"
            ],
            [
             0.2,
             "#de77ae"
            ],
            [
             0.3,
             "#f1b6da"
            ],
            [
             0.4,
             "#fde0ef"
            ],
            [
             0.5,
             "#f7f7f7"
            ],
            [
             0.6,
             "#e6f5d0"
            ],
            [
             0.7,
             "#b8e186"
            ],
            [
             0.8,
             "#7fbc41"
            ],
            [
             0.9,
             "#4d9221"
            ],
            [
             1,
             "#276419"
            ]
           ],
           "sequential": [
            [
             0,
             "#0d0887"
            ],
            [
             0.1111111111111111,
             "#46039f"
            ],
            [
             0.2222222222222222,
             "#7201a8"
            ],
            [
             0.3333333333333333,
             "#9c179e"
            ],
            [
             0.4444444444444444,
             "#bd3786"
            ],
            [
             0.5555555555555556,
             "#d8576b"
            ],
            [
             0.6666666666666666,
             "#ed7953"
            ],
            [
             0.7777777777777778,
             "#fb9f3a"
            ],
            [
             0.8888888888888888,
             "#fdca26"
            ],
            [
             1,
             "#f0f921"
            ]
           ],
           "sequentialminus": [
            [
             0,
             "#0d0887"
            ],
            [
             0.1111111111111111,
             "#46039f"
            ],
            [
             0.2222222222222222,
             "#7201a8"
            ],
            [
             0.3333333333333333,
             "#9c179e"
            ],
            [
             0.4444444444444444,
             "#bd3786"
            ],
            [
             0.5555555555555556,
             "#d8576b"
            ],
            [
             0.6666666666666666,
             "#ed7953"
            ],
            [
             0.7777777777777778,
             "#fb9f3a"
            ],
            [
             0.8888888888888888,
             "#fdca26"
            ],
            [
             1,
             "#f0f921"
            ]
           ]
          },
          "colorway": [
           "#636efa",
           "#EF553B",
           "#00cc96",
           "#ab63fa",
           "#FFA15A",
           "#19d3f3",
           "#FF6692",
           "#B6E880",
           "#FF97FF",
           "#FECB52"
          ],
          "font": {
           "color": "#2a3f5f"
          },
          "geo": {
           "bgcolor": "white",
           "lakecolor": "white",
           "landcolor": "#E5ECF6",
           "showlakes": true,
           "showland": true,
           "subunitcolor": "white"
          },
          "hoverlabel": {
           "align": "left"
          },
          "hovermode": "closest",
          "mapbox": {
           "style": "light"
          },
          "paper_bgcolor": "white",
          "plot_bgcolor": "#E5ECF6",
          "polar": {
           "angularaxis": {
            "gridcolor": "white",
            "linecolor": "white",
            "ticks": ""
           },
           "bgcolor": "#E5ECF6",
           "radialaxis": {
            "gridcolor": "white",
            "linecolor": "white",
            "ticks": ""
           }
          },
          "scene": {
           "xaxis": {
            "backgroundcolor": "#E5ECF6",
            "gridcolor": "white",
            "gridwidth": 2,
            "linecolor": "white",
            "showbackground": true,
            "ticks": "",
            "zerolinecolor": "white"
           },
           "yaxis": {
            "backgroundcolor": "#E5ECF6",
            "gridcolor": "white",
            "gridwidth": 2,
            "linecolor": "white",
            "showbackground": true,
            "ticks": "",
            "zerolinecolor": "white"
           },
           "zaxis": {
            "backgroundcolor": "#E5ECF6",
            "gridcolor": "white",
            "gridwidth": 2,
            "linecolor": "white",
            "showbackground": true,
            "ticks": "",
            "zerolinecolor": "white"
           }
          },
          "shapedefaults": {
           "line": {
            "color": "#2a3f5f"
           }
          },
          "ternary": {
           "aaxis": {
            "gridcolor": "white",
            "linecolor": "white",
            "ticks": ""
           },
           "baxis": {
            "gridcolor": "white",
            "linecolor": "white",
            "ticks": ""
           },
           "bgcolor": "#E5ECF6",
           "caxis": {
            "gridcolor": "white",
            "linecolor": "white",
            "ticks": ""
           }
          },
          "title": {
           "x": 0.05
          },
          "xaxis": {
           "automargin": true,
           "gridcolor": "white",
           "linecolor": "white",
           "ticks": "",
           "title": {
            "standoff": 15
           },
           "zerolinecolor": "white",
           "zerolinewidth": 2
          },
          "yaxis": {
           "automargin": true,
           "gridcolor": "white",
           "linecolor": "white",
           "ticks": "",
           "title": {
            "standoff": 15
           },
           "zerolinecolor": "white",
           "zerolinewidth": 2
          }
         }
        },
        "title": {
         "text": "Price Distribution by Number of Bathrooms and Property Global Type"
        },
        "violinmode": "group",
        "xaxis": {
         "anchor": "y",
         "domain": [
          0,
          1
         ],
         "dtick": 1,
         "range": [
          0,
          13
         ],
         "tick0": 1,
         "tickmode": "linear",
         "title": {
          "text": "Number of Bedrooms"
         }
        },
        "yaxis": {
         "anchor": "x",
         "domain": [
          0,
          1
         ],
         "range": [
          0,
          80
         ],
         "title": {
          "text": "Price (in millions)"
         }
        }
       }
      }
     },
     "metadata": {},
     "output_type": "display_data"
    }
   ],
   "source": [
    "fig = px.violin(\n",
    "    subset, \n",
    "    x='bathrooms',\n",
    "    y='price(M)',\n",
    "    color='propertyGlobalType',\n",
    "    title='Price Distribution by Number of Bathrooms and Property Global Type',\n",
    "    labels={'bathrooms': 'Number of Bathrooms', 'price(M)': 'Price (in millions)'},\n",
    "    box=False,\n",
    "    points='all'\n",
    ")\n",
    "\n",
    "fig.update_layout(\n",
    "    xaxis_title='Number of Bedrooms',\n",
    "    yaxis_title='Price (in millions)',\n",
    "    template='plotly',\n",
    "    xaxis_range=[0, 13],  # Limit x-axis range (if needed)\n",
    "    yaxis_range=[0, 80], # Limit y-axis range (if needed)\n",
    "    xaxis=dict(\n",
    "        tickmode='linear',   # Use linear ticks\n",
    "        tick0=1,             # Start ticks at 1\n",
    "        dtick=1              # Step size of 1\n",
    "    ),\n",
    ")\n",
    "\n",
    "fig.show()\n"
   ]
  },
  {
   "cell_type": "markdown",
   "metadata": {},
   "source": [
    "[MRDB]: Aquí os faltaría un poco de comentarios"
   ]
  },
  {
   "cell_type": "markdown",
   "metadata": {
    "id": "G2CE6iQRMncO"
   },
   "source": [
    "## 🏹 **Estimación puntual y por intervalos.**\n",
    "\n",
    "* Estimación puntual:\n",
    "    * Media poblacional ~ £11M\n",
    "* Por intervalos:\n",
    "    * Media poblacional = £10.9 ~ £11.8 al 95%\n",
    "\n",
    "Para casas de:\n",
    "\n",
    "* Centro-oeste de Londres.\n",
    "* Más de 6,5M.\n"
   ]
  },
  {
   "cell_type": "markdown",
   "metadata": {},
   "source": [
    "### Media poblacional"
   ]
  },
  {
   "cell_type": "markdown",
   "metadata": {
    "id": "q6VHE210IrjW"
   },
   "source": [
    "#### Estimación puntual\n",
    "\n",
    "Estimacion puntual de la media poblacional.\n",
    "\n",
    "* Del precio de los inmuebles.\n",
    "* Mediante el uso de la media muestral."
   ]
  },
  {
   "cell_type": "code",
   "execution_count": 140,
   "metadata": {
    "colab": {
     "base_uri": "https://localhost:8080/"
    },
    "id": "Qk9oPqNHSBGQ",
    "outputId": "aee75d82-0413-463b-f3c4-56874f2d7473"
   },
   "outputs": [
    {
     "data": {
      "text/plain": [
       "np.float64(10.958573401360544)"
      ]
     },
     "execution_count": 140,
     "metadata": {},
     "output_type": "execute_result"
    }
   ],
   "source": [
    "subset[\"price(M)\"].mean()"
   ]
  },
  {
   "cell_type": "markdown",
   "metadata": {
    "id": "fo33KYS9NHAd"
   },
   "source": [
    "**Podemos asumir que la media poblacional ronda los 11M de libras, al igual que la media muestral.**\n",
    "\n",
    "Para casas de:\n",
    "\n",
    "* Centro-oeste de Londres.\n",
    "* Más de 6,5M."
   ]
  },
  {
   "cell_type": "markdown",
   "metadata": {
    "id": "iATU8k6_MSbH"
   },
   "source": [
    "#### Estimación por intervalos\n",
    "\n",
    "Estimación de la media poblacional por intervalos de confianza del 95%."
   ]
  },
  {
   "cell_type": "code",
   "execution_count": 142,
   "metadata": {
    "colab": {
     "base_uri": "https://localhost:8080/"
    },
    "id": "H1-V_l1VMYBg",
    "outputId": "ddf59e6f-9371-4ccf-91f2-7ce924fa0edf"
   },
   "outputs": [
    {
     "data": {
      "text/plain": [
       "(np.float64(10.87792233937227), np.float64(11.788304760745516))"
      ]
     },
     "execution_count": 142,
     "metadata": {},
     "output_type": "execute_result"
    }
   ],
   "source": [
    "st.t.interval(confidence=0.95, df=len(data[\"price(M)\"])-1, loc=np.mean(data[\"price(M)\"]), scale=st.sem(data[\"price(M)\"]))"
   ]
  },
  {
   "cell_type": "markdown",
   "metadata": {
    "id": "rgLaE3rbNUKn"
   },
   "source": [
    "**Se puede afirmar al 95% que la media poblacional del precio de las casas está entre 10.9 y 11.8 millones de libras.**\n",
    "\n",
    "Para casas de:\n",
    "\n",
    "* Centro-oeste de Londres.\n",
    "* Más de 6,5M."
   ]
  },
  {
   "cell_type": "markdown",
   "metadata": {
    "id": "BNHZEQGFq4Jv"
   },
   "source": [
    "## 🔮 **Hipótesis**\n",
    "\n",
    "Rechazamos la hipótesis nula:\n",
    "𝜇 casas > 𝜇 pisos al 95%\n",
    "\n",
    "Rechazamos la hipótesis nula:\n",
    "𝜇 casas > 11M"
   ]
  },
  {
   "cell_type": "markdown",
   "metadata": {
    "id": "gWgFEf9nUDuE"
   },
   "source": [
    "### House > Flat\n",
    "\n",
    "* H₀: La media de los precios de las casas es mayor que la de los pisos\n",
    "    * ( 𝜇 casas > 𝜇 pisos )\n",
    "\n",
    "* H₁: La media de los precios de las casas es menor o igual que la de los pisos\n",
    "    * ( 𝜇 casas ≤ 𝜇 pisos )"
   ]
  },
  {
   "cell_type": "code",
   "execution_count": 143,
   "metadata": {
    "id": "qeaYXHo0PGmR"
   },
   "outputs": [],
   "source": [
    "house_df =  subset[subset['propertyGlobalType'] == \"House\"]\n",
    "flat_df =  subset[subset['propertyGlobalType'] == \"Flat\"]"
   ]
  },
  {
   "cell_type": "code",
   "execution_count": null,
   "metadata": {
    "colab": {
     "base_uri": "https://localhost:8080/"
    },
    "id": "G9zAGVMoNmcG",
    "outputId": "47a00d4c-1420-4c55-a0fb-8fc4c2d0ebcb"
   },
   "outputs": [
    {
     "name": "stdout",
     "output_type": "stream",
     "text": [
      "Estadístico t: 6.059136130387427\n",
      "Valor p: 1.3228725788820076e-09\n",
      "\n",
      "Rechazamos la hipótesis nula:\n",
      "𝜇 casas > 𝜇 pisos al 95%\n"
     ]
    }
   ],
   "source": [
    "t_stat, p_value = stats.ttest_ind(house_df[\"price(M)\"], flat_df[\"price(M)\"], alternative='greater', equal_var=False)\n",
    "\n",
    "print(f\"Estadístico t: {t_stat}\")\n",
    "print(f\"Valor p: {p_value}\")\n",
    "\n",
    "alpha = 0.05\n",
    "if p_value < alpha:\n",
    "    print(\"\\nRechazamos la hipótesis nula:\\n𝜇 casas > 𝜇 pisos al 95%\")\n",
    "else:\n",
    "    print(\"\\nNo podemos rechazar la hipótesis nula.\")"
   ]
  },
  {
   "cell_type": "markdown",
   "metadata": {},
   "source": [
    "### House > 11M\n",
    "\n",
    "* H₀: La media de los precios de las casas es mayor a 11M\n",
    "    * ( 𝜇 casas > 11M )\n",
    "\n",
    "* H₁: La media de los precios de las casas es menor o igual a 11M\n",
    "    * ( 𝜇 casas ≤ 11M )"
   ]
  },
  {
   "cell_type": "code",
   "execution_count": 163,
   "metadata": {
    "colab": {
     "base_uri": "https://localhost:8080/"
    },
    "id": "ZDo8wjwGOkpH",
    "outputId": "73d4cd7e-17d9-4123-f233-e4615572f421"
   },
   "outputs": [
    {
     "name": "stdout",
     "output_type": "stream",
     "text": [
      "Estadístico t: 3.670060570309344\n",
      "Valor p unilateral: 0.00014078069800749874\n",
      "\n",
      "Rechazamos la hipótesis nula:\n",
      "𝜇 casas > 11M\n"
     ]
    }
   ],
   "source": [
    "mi = subset[\"price(M)\"].mean()\n",
    "\n",
    "t_stat, p_value = stats.ttest_1samp(house_df[\"price(M)\"], mi)\n",
    "\n",
    "p_value_unilateral = p_value / 2 if t_stat > 0 else 1 - (p_value / 2)\n",
    "\n",
    "print(f\"Estadístico t: {t_stat}\")\n",
    "print(f\"Valor p unilateral: {p_value_unilateral}\")\n",
    "\n",
    "alpha = 0.05\n",
    "if p_value < alpha:\n",
    "    print(\"\\nRechazamos la hipótesis nula:\\n𝜇 casas > 11M\")\n",
    "else:\n",
    "    print(\"\\nNo podemos rechazar la hipótesis nula.\")"
   ]
  },
  {
   "cell_type": "markdown",
   "metadata": {},
   "source": [
    "[MRDB]: Aquí un poc de comentario. El pvalor por debajo del nivel de significación paraece indicar con evidencia estadística suficiente que la media del precio de casa es menor o igual a 11M. Tenéis que pensar que esto no lo lee un estadistico y se le dice a alguien \"Rechazamos la hipótesis nula: 𝜇 casas > 11M\" quizás no está entendiendo nada"
   ]
  },
  {
   "cell_type": "markdown",
   "metadata": {
    "id": "RtaqjHjViBO3"
   },
   "source": [
    "## 📈 **Anova**"
   ]
  },
  {
   "cell_type": "markdown",
   "metadata": {},
   "source": [
    "### Apartment = Penthouse = Flat\n",
    "\n",
    "* H₀: La media de los precios de los distintos tipos de piso es igual\n",
    "    * ( 𝜇 apartments == 𝜇 penthouse == 𝜇 flat )\n",
    "\n",
    "* H₁: Al menos una de las medias de los precios de los distintos tipos de piso es diferente del resto."
   ]
  },
  {
   "cell_type": "code",
   "execution_count": 165,
   "metadata": {
    "colab": {
     "base_uri": "https://localhost:8080/"
    },
    "id": "D9gP4cOtUsvV",
    "outputId": "c0ba96a4-f6c2-4a32-adf0-1d4fbbbc2238"
   },
   "outputs": [
    {
     "name": "stdout",
     "output_type": "stream",
     "text": [
      "\n",
      "Rechazamos la hipótesis nula.\n",
      "Hay diferencias significativas entre las medias.\n"
     ]
    }
   ],
   "source": [
    "Apartmente_df =  subset[subset['propertyType'] == \"Apartment\"]\n",
    "Penthouse_df =  subset[subset['propertyType'] == \"Penthouse\"]\n",
    "Flat_df =  subset[subset['propertyType'] == \"Flat\"]\n",
    "\n",
    "f_stat, p_value = stats.f_oneway(Apartmente_df[\"price(M)\"], Penthouse_df[\"price(M)\"], Flat_df[\"price(M)\"]) #f_oneway realiza un ANOVA de una vía.\n",
    "\n",
    "alpha = 0.05\n",
    "if p_value < alpha:\n",
    "    print(\"\\nRechazamos la hipótesis nula.\\nHay diferencias significativas entre las medias.\")\n",
    "else:\n",
    "    print(\"\\nNo podemos rechazar la hipótesis nula.\\nLas medias son estadísticamente iguales.\")"
   ]
  },
  {
   "cell_type": "markdown",
   "metadata": {},
   "source": [
    "[MRDB]: La primera arte del trabajod es de sobresaliente, la segunda es de \"suficiente\". Os faltan comentarios, más análisis de la segunda parte. Parte del trabajo es la organización de las tareas y habéis invertido mucho tiempo en unas y poco tiempoo en otras. Es preferibe, hacer un informe que esté completo auqneu menso trabajado en unas de las partes. Os faltan conclusiones y trasaldo de los análisis a un lenguaje de informe, guienado al lector en los resultados. Nota un 6,5. Aunque en relaidad no habéis conseguido el objetivo del informe, simplemente habéis descrito muy bien la bas de datos que no era lo único que había que hacer.\n",
    "\n",
    "Os deseo unas felices fiestas y un feliz año nuevo. Suerte con lo que os viene, id con calma y mejorando poco a poco, a disfrutar del camino del aprendizaje y os deseo lo mejor!"
   ]
  }
 ],
 "metadata": {
  "colab": {
   "collapsed_sections": [
    "ZkxWo-qo6xv6",
    "IDm4FWXW8BXd",
    "fl1NFTAi8mWl",
    "xPLvy3aga7Sd",
    "WRvdHtiubI8T",
    "D6kRu7TibOXz",
    "kYLky9tegxy9",
    "ybimeFeVbW5C",
    "2imF5J9ldO62",
    "oMPwo_GHaWYB",
    "_baJcLIvO5zt",
    "rwobkFVXmQlp",
    "ZWneWG-Umiz9",
    "BE33dQq189vW"
   ],
   "provenance": [],
   "toc_visible": true
  },
  "kernelspec": {
   "display_name": ".venv",
   "language": "python",
   "name": "python3"
  },
  "language_info": {
   "codemirror_mode": {
    "name": "ipython",
    "version": 3
   },
   "file_extension": ".py",
   "mimetype": "text/x-python",
   "name": "python",
   "nbconvert_exporter": "python",
   "pygments_lexer": "ipython3",
   "version": "3.12.6"
  },
  "widgets": {
   "application/vnd.jupyter.widget-state+json": {
    "0c416c458ab243f18e055ba807040f2b": {
     "model_module": "@jupyter-widgets/controls",
     "model_module_version": "1.5.0",
     "model_name": "HTMLModel",
     "state": {
      "_dom_classes": [],
      "_model_module": "@jupyter-widgets/controls",
      "_model_module_version": "1.5.0",
      "_model_name": "HTMLModel",
      "_view_count": null,
      "_view_module": "@jupyter-widgets/controls",
      "_view_module_version": "1.5.0",
      "_view_name": "HTMLView",
      "description": "",
      "description_tooltip": null,
      "layout": "IPY_MODEL_ee0f86f51b064c5eb486751b525f6e72",
      "placeholder": "​",
      "style": "IPY_MODEL_44a844f579a24cf2a7c12efa08667c27",
      "value": "Done! Use &#x27;show&#x27; commands to display/save.   "
     }
    },
    "0f388fe6b2514b829cb27c827b38dc08": {
     "model_module": "@jupyter-widgets/controls",
     "model_module_version": "1.5.0",
     "model_name": "DescriptionStyleModel",
     "state": {
      "_model_module": "@jupyter-widgets/controls",
      "_model_module_version": "1.5.0",
      "_model_name": "DescriptionStyleModel",
      "_view_count": null,
      "_view_module": "@jupyter-widgets/base",
      "_view_module_version": "1.2.0",
      "_view_name": "StyleView",
      "description_width": ""
     }
    },
    "1265ff08507648da94a3d8c750d11c7a": {
     "model_module": "@jupyter-widgets/controls",
     "model_module_version": "1.5.0",
     "model_name": "FloatProgressModel",
     "state": {
      "_dom_classes": [],
      "_model_module": "@jupyter-widgets/controls",
      "_model_module_version": "1.5.0",
      "_model_name": "FloatProgressModel",
      "_view_count": null,
      "_view_module": "@jupyter-widgets/controls",
      "_view_module_version": "1.5.0",
      "_view_name": "ProgressView",
      "bar_style": "success",
      "description": "",
      "description_tooltip": null,
      "layout": "IPY_MODEL_323bb7fbf1604a6b9b6b4e931fe31a57",
      "max": 1,
      "min": 0,
      "orientation": "horizontal",
      "style": "IPY_MODEL_2f71c95f69f44481b2ed716194c48939",
      "value": 1
     }
    },
    "1c6b959c7242476b8f1ad71f40f2a903": {
     "model_module": "@jupyter-widgets/base",
     "model_module_version": "1.2.0",
     "model_name": "LayoutModel",
     "state": {
      "_model_module": "@jupyter-widgets/base",
      "_model_module_version": "1.2.0",
      "_model_name": "LayoutModel",
      "_view_count": null,
      "_view_module": "@jupyter-widgets/base",
      "_view_module_version": "1.2.0",
      "_view_name": "LayoutView",
      "align_content": null,
      "align_items": null,
      "align_self": null,
      "border": null,
      "bottom": null,
      "display": null,
      "flex": null,
      "flex_flow": null,
      "grid_area": null,
      "grid_auto_columns": null,
      "grid_auto_flow": null,
      "grid_auto_rows": null,
      "grid_column": null,
      "grid_gap": null,
      "grid_row": null,
      "grid_template_areas": null,
      "grid_template_columns": null,
      "grid_template_rows": null,
      "height": null,
      "justify_content": null,
      "justify_items": null,
      "left": null,
      "margin": null,
      "max_height": null,
      "max_width": null,
      "min_height": null,
      "min_width": null,
      "object_fit": null,
      "object_position": null,
      "order": null,
      "overflow": null,
      "overflow_x": null,
      "overflow_y": null,
      "padding": null,
      "right": null,
      "top": null,
      "visibility": null,
      "width": null
     }
    },
    "1e6ca1608e5748d88175b1ff65458631": {
     "model_module": "@jupyter-widgets/base",
     "model_module_version": "1.2.0",
     "model_name": "LayoutModel",
     "state": {
      "_model_module": "@jupyter-widgets/base",
      "_model_module_version": "1.2.0",
      "_model_name": "LayoutModel",
      "_view_count": null,
      "_view_module": "@jupyter-widgets/base",
      "_view_module_version": "1.2.0",
      "_view_name": "LayoutView",
      "align_content": null,
      "align_items": null,
      "align_self": null,
      "border": null,
      "bottom": null,
      "display": null,
      "flex": null,
      "flex_flow": null,
      "grid_area": null,
      "grid_auto_columns": null,
      "grid_auto_flow": null,
      "grid_auto_rows": null,
      "grid_column": null,
      "grid_gap": null,
      "grid_row": null,
      "grid_template_areas": null,
      "grid_template_columns": null,
      "grid_template_rows": null,
      "height": null,
      "justify_content": null,
      "justify_items": null,
      "left": null,
      "margin": null,
      "max_height": null,
      "max_width": null,
      "min_height": null,
      "min_width": null,
      "object_fit": null,
      "object_position": null,
      "order": null,
      "overflow": null,
      "overflow_x": null,
      "overflow_y": null,
      "padding": null,
      "right": null,
      "top": null,
      "visibility": null,
      "width": null
     }
    },
    "223d9b90fcf64f5da2c8e8ee055354a8": {
     "model_module": "@jupyter-widgets/controls",
     "model_module_version": "1.5.0",
     "model_name": "DescriptionStyleModel",
     "state": {
      "_model_module": "@jupyter-widgets/controls",
      "_model_module_version": "1.5.0",
      "_model_name": "DescriptionStyleModel",
      "_view_count": null,
      "_view_module": "@jupyter-widgets/base",
      "_view_module_version": "1.2.0",
      "_view_name": "StyleView",
      "description_width": ""
     }
    },
    "25cb55cc4403409192476fa0bc159cdc": {
     "model_module": "@jupyter-widgets/controls",
     "model_module_version": "1.5.0",
     "model_name": "FloatProgressModel",
     "state": {
      "_dom_classes": [],
      "_model_module": "@jupyter-widgets/controls",
      "_model_module_version": "1.5.0",
      "_model_name": "FloatProgressModel",
      "_view_count": null,
      "_view_module": "@jupyter-widgets/controls",
      "_view_module_version": "1.5.0",
      "_view_name": "ProgressView",
      "bar_style": "success",
      "description": "",
      "description_tooltip": null,
      "layout": "IPY_MODEL_3667a602f9f446f0ad0b4f0112fd2232",
      "max": 1,
      "min": 0,
      "orientation": "horizontal",
      "style": "IPY_MODEL_94e51ccd50af4da9a43fc8ea153be220",
      "value": 1
     }
    },
    "27c724075cec4a96b0de1ebc7ffb9962": {
     "model_module": "@jupyter-widgets/base",
     "model_module_version": "1.2.0",
     "model_name": "LayoutModel",
     "state": {
      "_model_module": "@jupyter-widgets/base",
      "_model_module_version": "1.2.0",
      "_model_name": "LayoutModel",
      "_view_count": null,
      "_view_module": "@jupyter-widgets/base",
      "_view_module_version": "1.2.0",
      "_view_name": "LayoutView",
      "align_content": null,
      "align_items": null,
      "align_self": null,
      "border": null,
      "bottom": null,
      "display": null,
      "flex": null,
      "flex_flow": null,
      "grid_area": null,
      "grid_auto_columns": null,
      "grid_auto_flow": null,
      "grid_auto_rows": null,
      "grid_column": null,
      "grid_gap": null,
      "grid_row": null,
      "grid_template_areas": null,
      "grid_template_columns": null,
      "grid_template_rows": null,
      "height": null,
      "justify_content": null,
      "justify_items": null,
      "left": null,
      "margin": null,
      "max_height": null,
      "max_width": null,
      "min_height": null,
      "min_width": null,
      "object_fit": null,
      "object_position": null,
      "order": null,
      "overflow": null,
      "overflow_x": null,
      "overflow_y": null,
      "padding": null,
      "right": null,
      "top": null,
      "visibility": null,
      "width": null
     }
    },
    "2e2549ca11d2433c8350d366cb3a4b2a": {
     "model_module": "@jupyter-widgets/controls",
     "model_module_version": "1.5.0",
     "model_name": "HBoxModel",
     "state": {
      "_dom_classes": [],
      "_model_module": "@jupyter-widgets/controls",
      "_model_module_version": "1.5.0",
      "_model_name": "HBoxModel",
      "_view_count": null,
      "_view_module": "@jupyter-widgets/controls",
      "_view_module_version": "1.5.0",
      "_view_name": "HBoxView",
      "box_style": "",
      "children": [
       "IPY_MODEL_5bb47a39c65249a3a31b719effb9fac8",
       "IPY_MODEL_1265ff08507648da94a3d8c750d11c7a",
       "IPY_MODEL_5a262f6816574bc5b09836493f9b99e6"
      ],
      "layout": "IPY_MODEL_3cde0a4576964e2eab40a434fb7ac62e"
     }
    },
    "2f71c95f69f44481b2ed716194c48939": {
     "model_module": "@jupyter-widgets/controls",
     "model_module_version": "1.5.0",
     "model_name": "ProgressStyleModel",
     "state": {
      "_model_module": "@jupyter-widgets/controls",
      "_model_module_version": "1.5.0",
      "_model_name": "ProgressStyleModel",
      "_view_count": null,
      "_view_module": "@jupyter-widgets/base",
      "_view_module_version": "1.2.0",
      "_view_name": "StyleView",
      "bar_color": null,
      "description_width": ""
     }
    },
    "303b0403759640a5bcad84825a11ebd5": {
     "model_module": "@jupyter-widgets/controls",
     "model_module_version": "1.5.0",
     "model_name": "FloatProgressModel",
     "state": {
      "_dom_classes": [],
      "_model_module": "@jupyter-widgets/controls",
      "_model_module_version": "1.5.0",
      "_model_name": "FloatProgressModel",
      "_view_count": null,
      "_view_module": "@jupyter-widgets/controls",
      "_view_module_version": "1.5.0",
      "_view_name": "ProgressView",
      "bar_style": "success",
      "description": "",
      "description_tooltip": null,
      "layout": "IPY_MODEL_fb3881cbf9e347f5a347ae61e76dc23a",
      "max": 5,
      "min": 0,
      "orientation": "horizontal",
      "style": "IPY_MODEL_74ab3ef48d384511bd78aa1a0bd82e98",
      "value": 5
     }
    },
    "323bb7fbf1604a6b9b6b4e931fe31a57": {
     "model_module": "@jupyter-widgets/base",
     "model_module_version": "1.2.0",
     "model_name": "LayoutModel",
     "state": {
      "_model_module": "@jupyter-widgets/base",
      "_model_module_version": "1.2.0",
      "_model_name": "LayoutModel",
      "_view_count": null,
      "_view_module": "@jupyter-widgets/base",
      "_view_module_version": "1.2.0",
      "_view_name": "LayoutView",
      "align_content": null,
      "align_items": null,
      "align_self": null,
      "border": null,
      "bottom": null,
      "display": null,
      "flex": null,
      "flex_flow": null,
      "grid_area": null,
      "grid_auto_columns": null,
      "grid_auto_flow": null,
      "grid_auto_rows": null,
      "grid_column": null,
      "grid_gap": null,
      "grid_row": null,
      "grid_template_areas": null,
      "grid_template_columns": null,
      "grid_template_rows": null,
      "height": null,
      "justify_content": null,
      "justify_items": null,
      "left": null,
      "margin": null,
      "max_height": null,
      "max_width": null,
      "min_height": null,
      "min_width": null,
      "object_fit": null,
      "object_position": null,
      "order": null,
      "overflow": null,
      "overflow_x": null,
      "overflow_y": null,
      "padding": null,
      "right": null,
      "top": null,
      "visibility": null,
      "width": null
     }
    },
    "356ea7abc53a488db59d6794734928b7": {
     "model_module": "@jupyter-widgets/controls",
     "model_module_version": "1.5.0",
     "model_name": "FloatProgressModel",
     "state": {
      "_dom_classes": [],
      "_model_module": "@jupyter-widgets/controls",
      "_model_module_version": "1.5.0",
      "_model_name": "FloatProgressModel",
      "_view_count": null,
      "_view_module": "@jupyter-widgets/controls",
      "_view_module_version": "1.5.0",
      "_view_name": "ProgressView",
      "bar_style": "success",
      "description": "",
      "description_tooltip": null,
      "layout": "IPY_MODEL_50ad0d3d9a8e480e831cd01a93457533",
      "max": 1,
      "min": 0,
      "orientation": "horizontal",
      "style": "IPY_MODEL_4ad0af23bf3a4498b8d353822614937f",
      "value": 1
     }
    },
    "3667a602f9f446f0ad0b4f0112fd2232": {
     "model_module": "@jupyter-widgets/base",
     "model_module_version": "1.2.0",
     "model_name": "LayoutModel",
     "state": {
      "_model_module": "@jupyter-widgets/base",
      "_model_module_version": "1.2.0",
      "_model_name": "LayoutModel",
      "_view_count": null,
      "_view_module": "@jupyter-widgets/base",
      "_view_module_version": "1.2.0",
      "_view_name": "LayoutView",
      "align_content": null,
      "align_items": null,
      "align_self": null,
      "border": null,
      "bottom": null,
      "display": null,
      "flex": "2",
      "flex_flow": null,
      "grid_area": null,
      "grid_auto_columns": null,
      "grid_auto_flow": null,
      "grid_auto_rows": null,
      "grid_column": null,
      "grid_gap": null,
      "grid_row": null,
      "grid_template_areas": null,
      "grid_template_columns": null,
      "grid_template_rows": null,
      "height": null,
      "justify_content": null,
      "justify_items": null,
      "left": null,
      "margin": null,
      "max_height": null,
      "max_width": null,
      "min_height": null,
      "min_width": null,
      "object_fit": null,
      "object_position": null,
      "order": null,
      "overflow": null,
      "overflow_x": null,
      "overflow_y": null,
      "padding": null,
      "right": null,
      "top": null,
      "visibility": null,
      "width": null
     }
    },
    "3cde0a4576964e2eab40a434fb7ac62e": {
     "model_module": "@jupyter-widgets/base",
     "model_module_version": "1.2.0",
     "model_name": "LayoutModel",
     "state": {
      "_model_module": "@jupyter-widgets/base",
      "_model_module_version": "1.2.0",
      "_model_name": "LayoutModel",
      "_view_count": null,
      "_view_module": "@jupyter-widgets/base",
      "_view_module_version": "1.2.0",
      "_view_name": "LayoutView",
      "align_content": null,
      "align_items": null,
      "align_self": null,
      "border": null,
      "bottom": null,
      "display": null,
      "flex": null,
      "flex_flow": null,
      "grid_area": null,
      "grid_auto_columns": null,
      "grid_auto_flow": null,
      "grid_auto_rows": null,
      "grid_column": null,
      "grid_gap": null,
      "grid_row": null,
      "grid_template_areas": null,
      "grid_template_columns": null,
      "grid_template_rows": null,
      "height": null,
      "justify_content": null,
      "justify_items": null,
      "left": null,
      "margin": null,
      "max_height": null,
      "max_width": null,
      "min_height": null,
      "min_width": null,
      "object_fit": null,
      "object_position": null,
      "order": null,
      "overflow": null,
      "overflow_x": null,
      "overflow_y": null,
      "padding": null,
      "right": null,
      "top": null,
      "visibility": null,
      "width": null
     }
    },
    "44a844f579a24cf2a7c12efa08667c27": {
     "model_module": "@jupyter-widgets/controls",
     "model_module_version": "1.5.0",
     "model_name": "DescriptionStyleModel",
     "state": {
      "_model_module": "@jupyter-widgets/controls",
      "_model_module_version": "1.5.0",
      "_model_name": "DescriptionStyleModel",
      "_view_count": null,
      "_view_module": "@jupyter-widgets/base",
      "_view_module_version": "1.2.0",
      "_view_name": "StyleView",
      "description_width": ""
     }
    },
    "4ad0af23bf3a4498b8d353822614937f": {
     "model_module": "@jupyter-widgets/controls",
     "model_module_version": "1.5.0",
     "model_name": "ProgressStyleModel",
     "state": {
      "_model_module": "@jupyter-widgets/controls",
      "_model_module_version": "1.5.0",
      "_model_name": "ProgressStyleModel",
      "_view_count": null,
      "_view_module": "@jupyter-widgets/base",
      "_view_module_version": "1.2.0",
      "_view_name": "StyleView",
      "bar_color": null,
      "description_width": ""
     }
    },
    "4fc9668341d04a139e85f3535d9d13a1": {
     "model_module": "@jupyter-widgets/controls",
     "model_module_version": "1.5.0",
     "model_name": "HTMLModel",
     "state": {
      "_dom_classes": [],
      "_model_module": "@jupyter-widgets/controls",
      "_model_module_version": "1.5.0",
      "_model_name": "HTMLModel",
      "_view_count": null,
      "_view_module": "@jupyter-widgets/controls",
      "_view_module_version": "1.5.0",
      "_view_name": "HTMLView",
      "description": "",
      "description_tooltip": null,
      "layout": "IPY_MODEL_fc3a89af27734e688dffa55bca68fab2",
      "placeholder": "​",
      "style": "IPY_MODEL_c43120ee4d724459a89dfa78d707da4d",
      "value": "Render HTML: 100%"
     }
    },
    "50ad0d3d9a8e480e831cd01a93457533": {
     "model_module": "@jupyter-widgets/base",
     "model_module_version": "1.2.0",
     "model_name": "LayoutModel",
     "state": {
      "_model_module": "@jupyter-widgets/base",
      "_model_module_version": "1.2.0",
      "_model_name": "LayoutModel",
      "_view_count": null,
      "_view_module": "@jupyter-widgets/base",
      "_view_module_version": "1.2.0",
      "_view_name": "LayoutView",
      "align_content": null,
      "align_items": null,
      "align_self": null,
      "border": null,
      "bottom": null,
      "display": null,
      "flex": null,
      "flex_flow": null,
      "grid_area": null,
      "grid_auto_columns": null,
      "grid_auto_flow": null,
      "grid_auto_rows": null,
      "grid_column": null,
      "grid_gap": null,
      "grid_row": null,
      "grid_template_areas": null,
      "grid_template_columns": null,
      "grid_template_rows": null,
      "height": null,
      "justify_content": null,
      "justify_items": null,
      "left": null,
      "margin": null,
      "max_height": null,
      "max_width": null,
      "min_height": null,
      "min_width": null,
      "object_fit": null,
      "object_position": null,
      "order": null,
      "overflow": null,
      "overflow_x": null,
      "overflow_y": null,
      "padding": null,
      "right": null,
      "top": null,
      "visibility": null,
      "width": null
     }
    },
    "529961bb18c24a0ba8115812a2170163": {
     "model_module": "@jupyter-widgets/base",
     "model_module_version": "1.2.0",
     "model_name": "LayoutModel",
     "state": {
      "_model_module": "@jupyter-widgets/base",
      "_model_module_version": "1.2.0",
      "_model_name": "LayoutModel",
      "_view_count": null,
      "_view_module": "@jupyter-widgets/base",
      "_view_module_version": "1.2.0",
      "_view_name": "LayoutView",
      "align_content": null,
      "align_items": null,
      "align_self": null,
      "border": null,
      "bottom": null,
      "display": null,
      "flex": null,
      "flex_flow": null,
      "grid_area": null,
      "grid_auto_columns": null,
      "grid_auto_flow": null,
      "grid_auto_rows": null,
      "grid_column": null,
      "grid_gap": null,
      "grid_row": null,
      "grid_template_areas": null,
      "grid_template_columns": null,
      "grid_template_rows": null,
      "height": null,
      "justify_content": null,
      "justify_items": null,
      "left": null,
      "margin": null,
      "max_height": null,
      "max_width": null,
      "min_height": null,
      "min_width": null,
      "object_fit": null,
      "object_position": null,
      "order": null,
      "overflow": null,
      "overflow_x": null,
      "overflow_y": null,
      "padding": null,
      "right": null,
      "top": null,
      "visibility": null,
      "width": null
     }
    },
    "56f17650f1a047c5a0dfd762e7efcdc4": {
     "model_module": "@jupyter-widgets/controls",
     "model_module_version": "1.5.0",
     "model_name": "HBoxModel",
     "state": {
      "_dom_classes": [],
      "_model_module": "@jupyter-widgets/controls",
      "_model_module_version": "1.5.0",
      "_model_name": "HBoxModel",
      "_view_count": null,
      "_view_module": "@jupyter-widgets/controls",
      "_view_module_version": "1.5.0",
      "_view_name": "HBoxView",
      "box_style": "",
      "children": [
       "IPY_MODEL_0c416c458ab243f18e055ba807040f2b",
       "IPY_MODEL_25cb55cc4403409192476fa0bc159cdc",
       "IPY_MODEL_ea1bf0a5af5b43d587d8102380af85fe"
      ],
      "layout": "IPY_MODEL_e8b3f8b089a846839180f521e891d099"
     }
    },
    "57426346a8854800bdb9ed2f28ffa0e7": {
     "model_module": "@jupyter-widgets/controls",
     "model_module_version": "1.5.0",
     "model_name": "DescriptionStyleModel",
     "state": {
      "_model_module": "@jupyter-widgets/controls",
      "_model_module_version": "1.5.0",
      "_model_name": "DescriptionStyleModel",
      "_view_count": null,
      "_view_module": "@jupyter-widgets/base",
      "_view_module_version": "1.2.0",
      "_view_name": "StyleView",
      "description_width": ""
     }
    },
    "59f1fc5a0b2a4f20b9852dac5f90e134": {
     "model_module": "@jupyter-widgets/base",
     "model_module_version": "1.2.0",
     "model_name": "LayoutModel",
     "state": {
      "_model_module": "@jupyter-widgets/base",
      "_model_module_version": "1.2.0",
      "_model_name": "LayoutModel",
      "_view_count": null,
      "_view_module": "@jupyter-widgets/base",
      "_view_module_version": "1.2.0",
      "_view_name": "LayoutView",
      "align_content": null,
      "align_items": null,
      "align_self": null,
      "border": null,
      "bottom": null,
      "display": null,
      "flex": null,
      "flex_flow": null,
      "grid_area": null,
      "grid_auto_columns": null,
      "grid_auto_flow": null,
      "grid_auto_rows": null,
      "grid_column": null,
      "grid_gap": null,
      "grid_row": null,
      "grid_template_areas": null,
      "grid_template_columns": null,
      "grid_template_rows": null,
      "height": null,
      "justify_content": null,
      "justify_items": null,
      "left": null,
      "margin": null,
      "max_height": null,
      "max_width": null,
      "min_height": null,
      "min_width": null,
      "object_fit": null,
      "object_position": null,
      "order": null,
      "overflow": null,
      "overflow_x": null,
      "overflow_y": null,
      "padding": null,
      "right": null,
      "top": null,
      "visibility": null,
      "width": null
     }
    },
    "5a262f6816574bc5b09836493f9b99e6": {
     "model_module": "@jupyter-widgets/controls",
     "model_module_version": "1.5.0",
     "model_name": "HTMLModel",
     "state": {
      "_dom_classes": [],
      "_model_module": "@jupyter-widgets/controls",
      "_model_module_version": "1.5.0",
      "_model_name": "HTMLModel",
      "_view_count": null,
      "_view_module": "@jupyter-widgets/controls",
      "_view_module_version": "1.5.0",
      "_view_name": "HTMLView",
      "description": "",
      "description_tooltip": null,
      "layout": "IPY_MODEL_7b72ba291f5c4e4d8efad0070e64abf9",
      "placeholder": "​",
      "style": "IPY_MODEL_223d9b90fcf64f5da2c8e8ee055354a8",
      "value": " 1/1 [00:08&lt;00:00,  8.93s/it]"
     }
    },
    "5bb47a39c65249a3a31b719effb9fac8": {
     "model_module": "@jupyter-widgets/controls",
     "model_module_version": "1.5.0",
     "model_name": "HTMLModel",
     "state": {
      "_dom_classes": [],
      "_model_module": "@jupyter-widgets/controls",
      "_model_module_version": "1.5.0",
      "_model_name": "HTMLModel",
      "_view_count": null,
      "_view_module": "@jupyter-widgets/controls",
      "_view_module_version": "1.5.0",
      "_view_name": "HTMLView",
      "description": "",
      "description_tooltip": null,
      "layout": "IPY_MODEL_e99878067d234069ba9def3319866270",
      "placeholder": "​",
      "style": "IPY_MODEL_5e7ebd89302a420aa8af46f966eca2a3",
      "value": "Generate report structure: 100%"
     }
    },
    "5e7ebd89302a420aa8af46f966eca2a3": {
     "model_module": "@jupyter-widgets/controls",
     "model_module_version": "1.5.0",
     "model_name": "DescriptionStyleModel",
     "state": {
      "_model_module": "@jupyter-widgets/controls",
      "_model_module_version": "1.5.0",
      "_model_name": "DescriptionStyleModel",
      "_view_count": null,
      "_view_module": "@jupyter-widgets/base",
      "_view_module_version": "1.2.0",
      "_view_name": "StyleView",
      "description_width": ""
     }
    },
    "6040451061624e07b1b5a5e382dd63b0": {
     "model_module": "@jupyter-widgets/controls",
     "model_module_version": "1.5.0",
     "model_name": "HTMLModel",
     "state": {
      "_dom_classes": [],
      "_model_module": "@jupyter-widgets/controls",
      "_model_module_version": "1.5.0",
      "_model_name": "HTMLModel",
      "_view_count": null,
      "_view_module": "@jupyter-widgets/controls",
      "_view_module_version": "1.5.0",
      "_view_name": "HTMLView",
      "description": "",
      "description_tooltip": null,
      "layout": "IPY_MODEL_1e6ca1608e5748d88175b1ff65458631",
      "placeholder": "​",
      "style": "IPY_MODEL_57426346a8854800bdb9ed2f28ffa0e7",
      "value": " 1/1 [00:00&lt;00:00, 32.97it/s]"
     }
    },
    "624acb377b2c4ce28933bfe834d998e8": {
     "model_module": "@jupyter-widgets/controls",
     "model_module_version": "1.5.0",
     "model_name": "DescriptionStyleModel",
     "state": {
      "_model_module": "@jupyter-widgets/controls",
      "_model_module_version": "1.5.0",
      "_model_name": "DescriptionStyleModel",
      "_view_count": null,
      "_view_module": "@jupyter-widgets/base",
      "_view_module_version": "1.2.0",
      "_view_name": "StyleView",
      "description_width": ""
     }
    },
    "6c41b27afe1849a5a9bfb790ad44f5c6": {
     "model_module": "@jupyter-widgets/controls",
     "model_module_version": "1.5.0",
     "model_name": "FloatProgressModel",
     "state": {
      "_dom_classes": [],
      "_model_module": "@jupyter-widgets/controls",
      "_model_module_version": "1.5.0",
      "_model_name": "FloatProgressModel",
      "_view_count": null,
      "_view_module": "@jupyter-widgets/controls",
      "_view_module_version": "1.5.0",
      "_view_name": "ProgressView",
      "bar_style": "success",
      "description": "",
      "description_tooltip": null,
      "layout": "IPY_MODEL_529961bb18c24a0ba8115812a2170163",
      "max": 1,
      "min": 0,
      "orientation": "horizontal",
      "style": "IPY_MODEL_8173c60a5fea42c8b56656706973d502",
      "value": 1
     }
    },
    "6f356f2caa75453183e981f89360234e": {
     "model_module": "@jupyter-widgets/controls",
     "model_module_version": "1.5.0",
     "model_name": "HTMLModel",
     "state": {
      "_dom_classes": [],
      "_model_module": "@jupyter-widgets/controls",
      "_model_module_version": "1.5.0",
      "_model_name": "HTMLModel",
      "_view_count": null,
      "_view_module": "@jupyter-widgets/controls",
      "_view_module_version": "1.5.0",
      "_view_name": "HTMLView",
      "description": "",
      "description_tooltip": null,
      "layout": "IPY_MODEL_7b90e87fb2d244eca74001447cf7d496",
      "placeholder": "​",
      "style": "IPY_MODEL_b6c0bfb9528542a18e892870869a5ab8",
      "value": " 1/1 [00:01&lt;00:00,  1.01s/it]"
     }
    },
    "70bfe50375454fd08c9a5a7ba5708cd0": {
     "model_module": "@jupyter-widgets/base",
     "model_module_version": "1.2.0",
     "model_name": "LayoutModel",
     "state": {
      "_model_module": "@jupyter-widgets/base",
      "_model_module_version": "1.2.0",
      "_model_name": "LayoutModel",
      "_view_count": null,
      "_view_module": "@jupyter-widgets/base",
      "_view_module_version": "1.2.0",
      "_view_name": "LayoutView",
      "align_content": null,
      "align_items": null,
      "align_self": null,
      "border": null,
      "bottom": null,
      "display": null,
      "flex": null,
      "flex_flow": null,
      "grid_area": null,
      "grid_auto_columns": null,
      "grid_auto_flow": null,
      "grid_auto_rows": null,
      "grid_column": null,
      "grid_gap": null,
      "grid_row": null,
      "grid_template_areas": null,
      "grid_template_columns": null,
      "grid_template_rows": null,
      "height": null,
      "justify_content": null,
      "justify_items": null,
      "left": null,
      "margin": null,
      "max_height": null,
      "max_width": null,
      "min_height": null,
      "min_width": null,
      "object_fit": null,
      "object_position": null,
      "order": null,
      "overflow": null,
      "overflow_x": null,
      "overflow_y": null,
      "padding": null,
      "right": null,
      "top": null,
      "visibility": null,
      "width": null
     }
    },
    "74ab3ef48d384511bd78aa1a0bd82e98": {
     "model_module": "@jupyter-widgets/controls",
     "model_module_version": "1.5.0",
     "model_name": "ProgressStyleModel",
     "state": {
      "_model_module": "@jupyter-widgets/controls",
      "_model_module_version": "1.5.0",
      "_model_name": "ProgressStyleModel",
      "_view_count": null,
      "_view_module": "@jupyter-widgets/base",
      "_view_module_version": "1.2.0",
      "_view_name": "StyleView",
      "bar_color": null,
      "description_width": ""
     }
    },
    "7b72ba291f5c4e4d8efad0070e64abf9": {
     "model_module": "@jupyter-widgets/base",
     "model_module_version": "1.2.0",
     "model_name": "LayoutModel",
     "state": {
      "_model_module": "@jupyter-widgets/base",
      "_model_module_version": "1.2.0",
      "_model_name": "LayoutModel",
      "_view_count": null,
      "_view_module": "@jupyter-widgets/base",
      "_view_module_version": "1.2.0",
      "_view_name": "LayoutView",
      "align_content": null,
      "align_items": null,
      "align_self": null,
      "border": null,
      "bottom": null,
      "display": null,
      "flex": null,
      "flex_flow": null,
      "grid_area": null,
      "grid_auto_columns": null,
      "grid_auto_flow": null,
      "grid_auto_rows": null,
      "grid_column": null,
      "grid_gap": null,
      "grid_row": null,
      "grid_template_areas": null,
      "grid_template_columns": null,
      "grid_template_rows": null,
      "height": null,
      "justify_content": null,
      "justify_items": null,
      "left": null,
      "margin": null,
      "max_height": null,
      "max_width": null,
      "min_height": null,
      "min_width": null,
      "object_fit": null,
      "object_position": null,
      "order": null,
      "overflow": null,
      "overflow_x": null,
      "overflow_y": null,
      "padding": null,
      "right": null,
      "top": null,
      "visibility": null,
      "width": null
     }
    },
    "7b90e87fb2d244eca74001447cf7d496": {
     "model_module": "@jupyter-widgets/base",
     "model_module_version": "1.2.0",
     "model_name": "LayoutModel",
     "state": {
      "_model_module": "@jupyter-widgets/base",
      "_model_module_version": "1.2.0",
      "_model_name": "LayoutModel",
      "_view_count": null,
      "_view_module": "@jupyter-widgets/base",
      "_view_module_version": "1.2.0",
      "_view_name": "LayoutView",
      "align_content": null,
      "align_items": null,
      "align_self": null,
      "border": null,
      "bottom": null,
      "display": null,
      "flex": null,
      "flex_flow": null,
      "grid_area": null,
      "grid_auto_columns": null,
      "grid_auto_flow": null,
      "grid_auto_rows": null,
      "grid_column": null,
      "grid_gap": null,
      "grid_row": null,
      "grid_template_areas": null,
      "grid_template_columns": null,
      "grid_template_rows": null,
      "height": null,
      "justify_content": null,
      "justify_items": null,
      "left": null,
      "margin": null,
      "max_height": null,
      "max_width": null,
      "min_height": null,
      "min_width": null,
      "object_fit": null,
      "object_position": null,
      "order": null,
      "overflow": null,
      "overflow_x": null,
      "overflow_y": null,
      "padding": null,
      "right": null,
      "top": null,
      "visibility": null,
      "width": null
     }
    },
    "8173c60a5fea42c8b56656706973d502": {
     "model_module": "@jupyter-widgets/controls",
     "model_module_version": "1.5.0",
     "model_name": "ProgressStyleModel",
     "state": {
      "_model_module": "@jupyter-widgets/controls",
      "_model_module_version": "1.5.0",
      "_model_name": "ProgressStyleModel",
      "_view_count": null,
      "_view_module": "@jupyter-widgets/base",
      "_view_module_version": "1.2.0",
      "_view_name": "StyleView",
      "bar_color": null,
      "description_width": ""
     }
    },
    "927d82e089634857b626419c35d3c918": {
     "model_module": "@jupyter-widgets/controls",
     "model_module_version": "1.5.0",
     "model_name": "DescriptionStyleModel",
     "state": {
      "_model_module": "@jupyter-widgets/controls",
      "_model_module_version": "1.5.0",
      "_model_name": "DescriptionStyleModel",
      "_view_count": null,
      "_view_module": "@jupyter-widgets/base",
      "_view_module_version": "1.2.0",
      "_view_name": "StyleView",
      "description_width": ""
     }
    },
    "94e51ccd50af4da9a43fc8ea153be220": {
     "model_module": "@jupyter-widgets/controls",
     "model_module_version": "1.5.0",
     "model_name": "ProgressStyleModel",
     "state": {
      "_model_module": "@jupyter-widgets/controls",
      "_model_module_version": "1.5.0",
      "_model_name": "ProgressStyleModel",
      "_view_count": null,
      "_view_module": "@jupyter-widgets/base",
      "_view_module_version": "1.2.0",
      "_view_name": "StyleView",
      "bar_color": null,
      "description_width": ""
     }
    },
    "9cd934847d2543a0993358a7d5cd67ad": {
     "model_module": "@jupyter-widgets/base",
     "model_module_version": "1.2.0",
     "model_name": "LayoutModel",
     "state": {
      "_model_module": "@jupyter-widgets/base",
      "_model_module_version": "1.2.0",
      "_model_name": "LayoutModel",
      "_view_count": null,
      "_view_module": "@jupyter-widgets/base",
      "_view_module_version": "1.2.0",
      "_view_name": "LayoutView",
      "align_content": null,
      "align_items": null,
      "align_self": null,
      "border": null,
      "bottom": null,
      "display": null,
      "flex": null,
      "flex_flow": null,
      "grid_area": null,
      "grid_auto_columns": null,
      "grid_auto_flow": null,
      "grid_auto_rows": null,
      "grid_column": null,
      "grid_gap": null,
      "grid_row": null,
      "grid_template_areas": null,
      "grid_template_columns": null,
      "grid_template_rows": null,
      "height": null,
      "justify_content": null,
      "justify_items": null,
      "left": null,
      "margin": null,
      "max_height": null,
      "max_width": null,
      "min_height": null,
      "min_width": null,
      "object_fit": null,
      "object_position": null,
      "order": null,
      "overflow": null,
      "overflow_x": null,
      "overflow_y": null,
      "padding": null,
      "right": null,
      "top": null,
      "visibility": null,
      "width": null
     }
    },
    "a05da6a4ee5d4a898af532f788bc2181": {
     "model_module": "@jupyter-widgets/base",
     "model_module_version": "1.2.0",
     "model_name": "LayoutModel",
     "state": {
      "_model_module": "@jupyter-widgets/base",
      "_model_module_version": "1.2.0",
      "_model_name": "LayoutModel",
      "_view_count": null,
      "_view_module": "@jupyter-widgets/base",
      "_view_module_version": "1.2.0",
      "_view_name": "LayoutView",
      "align_content": null,
      "align_items": null,
      "align_self": null,
      "border": null,
      "bottom": null,
      "display": null,
      "flex": null,
      "flex_flow": null,
      "grid_area": null,
      "grid_auto_columns": null,
      "grid_auto_flow": null,
      "grid_auto_rows": null,
      "grid_column": null,
      "grid_gap": null,
      "grid_row": null,
      "grid_template_areas": null,
      "grid_template_columns": null,
      "grid_template_rows": null,
      "height": null,
      "justify_content": null,
      "justify_items": null,
      "left": null,
      "margin": null,
      "max_height": null,
      "max_width": null,
      "min_height": null,
      "min_width": null,
      "object_fit": null,
      "object_position": null,
      "order": null,
      "overflow": null,
      "overflow_x": null,
      "overflow_y": null,
      "padding": null,
      "right": null,
      "top": null,
      "visibility": null,
      "width": null
     }
    },
    "a9637f15cc794c5b8dbe7c7f5c7a3757": {
     "model_module": "@jupyter-widgets/controls",
     "model_module_version": "1.5.0",
     "model_name": "HTMLModel",
     "state": {
      "_dom_classes": [],
      "_model_module": "@jupyter-widgets/controls",
      "_model_module_version": "1.5.0",
      "_model_name": "HTMLModel",
      "_view_count": null,
      "_view_module": "@jupyter-widgets/controls",
      "_view_module_version": "1.5.0",
      "_view_name": "HTMLView",
      "description": "",
      "description_tooltip": null,
      "layout": "IPY_MODEL_a05da6a4ee5d4a898af532f788bc2181",
      "placeholder": "​",
      "style": "IPY_MODEL_624acb377b2c4ce28933bfe834d998e8",
      "value": "Summarize dataset: 100%"
     }
    },
    "b135ae7bfb66409885e2f27833853fce": {
     "model_module": "@jupyter-widgets/controls",
     "model_module_version": "1.5.0",
     "model_name": "HBoxModel",
     "state": {
      "_dom_classes": [],
      "_model_module": "@jupyter-widgets/controls",
      "_model_module_version": "1.5.0",
      "_model_name": "HBoxModel",
      "_view_count": null,
      "_view_module": "@jupyter-widgets/controls",
      "_view_module_version": "1.5.0",
      "_view_name": "HBoxView",
      "box_style": "",
      "children": [
       "IPY_MODEL_eaf85f0bbc9e42f6840578fa4405fa25",
       "IPY_MODEL_6c41b27afe1849a5a9bfb790ad44f5c6",
       "IPY_MODEL_6040451061624e07b1b5a5e382dd63b0"
      ],
      "layout": "IPY_MODEL_b17d98a9c59249e58cebd9d4e67a6295"
     }
    },
    "b17d98a9c59249e58cebd9d4e67a6295": {
     "model_module": "@jupyter-widgets/base",
     "model_module_version": "1.2.0",
     "model_name": "LayoutModel",
     "state": {
      "_model_module": "@jupyter-widgets/base",
      "_model_module_version": "1.2.0",
      "_model_name": "LayoutModel",
      "_view_count": null,
      "_view_module": "@jupyter-widgets/base",
      "_view_module_version": "1.2.0",
      "_view_name": "LayoutView",
      "align_content": null,
      "align_items": null,
      "align_self": null,
      "border": null,
      "bottom": null,
      "display": null,
      "flex": null,
      "flex_flow": null,
      "grid_area": null,
      "grid_auto_columns": null,
      "grid_auto_flow": null,
      "grid_auto_rows": null,
      "grid_column": null,
      "grid_gap": null,
      "grid_row": null,
      "grid_template_areas": null,
      "grid_template_columns": null,
      "grid_template_rows": null,
      "height": null,
      "justify_content": null,
      "justify_items": null,
      "left": null,
      "margin": null,
      "max_height": null,
      "max_width": null,
      "min_height": null,
      "min_width": null,
      "object_fit": null,
      "object_position": null,
      "order": null,
      "overflow": null,
      "overflow_x": null,
      "overflow_y": null,
      "padding": null,
      "right": null,
      "top": null,
      "visibility": null,
      "width": null
     }
    },
    "b6c0bfb9528542a18e892870869a5ab8": {
     "model_module": "@jupyter-widgets/controls",
     "model_module_version": "1.5.0",
     "model_name": "DescriptionStyleModel",
     "state": {
      "_model_module": "@jupyter-widgets/controls",
      "_model_module_version": "1.5.0",
      "_model_name": "DescriptionStyleModel",
      "_view_count": null,
      "_view_module": "@jupyter-widgets/base",
      "_view_module_version": "1.2.0",
      "_view_name": "StyleView",
      "description_width": ""
     }
    },
    "c43120ee4d724459a89dfa78d707da4d": {
     "model_module": "@jupyter-widgets/controls",
     "model_module_version": "1.5.0",
     "model_name": "DescriptionStyleModel",
     "state": {
      "_model_module": "@jupyter-widgets/controls",
      "_model_module_version": "1.5.0",
      "_model_name": "DescriptionStyleModel",
      "_view_count": null,
      "_view_module": "@jupyter-widgets/base",
      "_view_module_version": "1.2.0",
      "_view_name": "StyleView",
      "description_width": ""
     }
    },
    "cc5a5a53a0314c8a9528affc957b6f82": {
     "model_module": "@jupyter-widgets/controls",
     "model_module_version": "1.5.0",
     "model_name": "DescriptionStyleModel",
     "state": {
      "_model_module": "@jupyter-widgets/controls",
      "_model_module_version": "1.5.0",
      "_model_name": "DescriptionStyleModel",
      "_view_count": null,
      "_view_module": "@jupyter-widgets/base",
      "_view_module_version": "1.2.0",
      "_view_name": "StyleView",
      "description_width": ""
     }
    },
    "cec53ae4d1e14af7b6815334fbba95af": {
     "model_module": "@jupyter-widgets/controls",
     "model_module_version": "1.5.0",
     "model_name": "HBoxModel",
     "state": {
      "_dom_classes": [],
      "_model_module": "@jupyter-widgets/controls",
      "_model_module_version": "1.5.0",
      "_model_name": "HBoxModel",
      "_view_count": null,
      "_view_module": "@jupyter-widgets/controls",
      "_view_module_version": "1.5.0",
      "_view_name": "HBoxView",
      "box_style": "",
      "children": [
       "IPY_MODEL_a9637f15cc794c5b8dbe7c7f5c7a3757",
       "IPY_MODEL_303b0403759640a5bcad84825a11ebd5",
       "IPY_MODEL_df993d1a23144cbabd75d05e6cd37d1e"
      ],
      "layout": "IPY_MODEL_1c6b959c7242476b8f1ad71f40f2a903"
     }
    },
    "d4b1533e8c7c426a9a79f245705a8ef9": {
     "model_module": "@jupyter-widgets/controls",
     "model_module_version": "1.5.0",
     "model_name": "HBoxModel",
     "state": {
      "_dom_classes": [],
      "_model_module": "@jupyter-widgets/controls",
      "_model_module_version": "1.5.0",
      "_model_name": "HBoxModel",
      "_view_count": null,
      "_view_module": "@jupyter-widgets/controls",
      "_view_module_version": "1.5.0",
      "_view_name": "HBoxView",
      "box_style": "",
      "children": [
       "IPY_MODEL_4fc9668341d04a139e85f3535d9d13a1",
       "IPY_MODEL_356ea7abc53a488db59d6794734928b7",
       "IPY_MODEL_6f356f2caa75453183e981f89360234e"
      ],
      "layout": "IPY_MODEL_70bfe50375454fd08c9a5a7ba5708cd0"
     }
    },
    "df993d1a23144cbabd75d05e6cd37d1e": {
     "model_module": "@jupyter-widgets/controls",
     "model_module_version": "1.5.0",
     "model_name": "HTMLModel",
     "state": {
      "_dom_classes": [],
      "_model_module": "@jupyter-widgets/controls",
      "_model_module_version": "1.5.0",
      "_model_name": "HTMLModel",
      "_view_count": null,
      "_view_module": "@jupyter-widgets/controls",
      "_view_module_version": "1.5.0",
      "_view_name": "HTMLView",
      "description": "",
      "description_tooltip": null,
      "layout": "IPY_MODEL_27c724075cec4a96b0de1ebc7ffb9962",
      "placeholder": "​",
      "style": "IPY_MODEL_0f388fe6b2514b829cb27c827b38dc08",
      "value": " 28/28 [00:04&lt;00:00,  2.75it/s, Completed]"
     }
    },
    "e8b3f8b089a846839180f521e891d099": {
     "model_module": "@jupyter-widgets/base",
     "model_module_version": "1.2.0",
     "model_name": "LayoutModel",
     "state": {
      "_model_module": "@jupyter-widgets/base",
      "_model_module_version": "1.2.0",
      "_model_name": "LayoutModel",
      "_view_count": null,
      "_view_module": "@jupyter-widgets/base",
      "_view_module_version": "1.2.0",
      "_view_name": "LayoutView",
      "align_content": null,
      "align_items": null,
      "align_self": null,
      "border": null,
      "bottom": null,
      "display": "inline-flex",
      "flex": null,
      "flex_flow": "row wrap",
      "grid_area": null,
      "grid_auto_columns": null,
      "grid_auto_flow": null,
      "grid_auto_rows": null,
      "grid_column": null,
      "grid_gap": null,
      "grid_row": null,
      "grid_template_areas": null,
      "grid_template_columns": null,
      "grid_template_rows": null,
      "height": null,
      "justify_content": null,
      "justify_items": null,
      "left": null,
      "margin": null,
      "max_height": null,
      "max_width": null,
      "min_height": null,
      "min_width": null,
      "object_fit": null,
      "object_position": null,
      "order": null,
      "overflow": null,
      "overflow_x": null,
      "overflow_y": null,
      "padding": null,
      "right": null,
      "top": null,
      "visibility": null,
      "width": "100%"
     }
    },
    "e99878067d234069ba9def3319866270": {
     "model_module": "@jupyter-widgets/base",
     "model_module_version": "1.2.0",
     "model_name": "LayoutModel",
     "state": {
      "_model_module": "@jupyter-widgets/base",
      "_model_module_version": "1.2.0",
      "_model_name": "LayoutModel",
      "_view_count": null,
      "_view_module": "@jupyter-widgets/base",
      "_view_module_version": "1.2.0",
      "_view_name": "LayoutView",
      "align_content": null,
      "align_items": null,
      "align_self": null,
      "border": null,
      "bottom": null,
      "display": null,
      "flex": null,
      "flex_flow": null,
      "grid_area": null,
      "grid_auto_columns": null,
      "grid_auto_flow": null,
      "grid_auto_rows": null,
      "grid_column": null,
      "grid_gap": null,
      "grid_row": null,
      "grid_template_areas": null,
      "grid_template_columns": null,
      "grid_template_rows": null,
      "height": null,
      "justify_content": null,
      "justify_items": null,
      "left": null,
      "margin": null,
      "max_height": null,
      "max_width": null,
      "min_height": null,
      "min_width": null,
      "object_fit": null,
      "object_position": null,
      "order": null,
      "overflow": null,
      "overflow_x": null,
      "overflow_y": null,
      "padding": null,
      "right": null,
      "top": null,
      "visibility": null,
      "width": null
     }
    },
    "ea1bf0a5af5b43d587d8102380af85fe": {
     "model_module": "@jupyter-widgets/controls",
     "model_module_version": "1.5.0",
     "model_name": "HTMLModel",
     "state": {
      "_dom_classes": [],
      "_model_module": "@jupyter-widgets/controls",
      "_model_module_version": "1.5.0",
      "_model_name": "HTMLModel",
      "_view_count": null,
      "_view_module": "@jupyter-widgets/controls",
      "_view_module_version": "1.5.0",
      "_view_name": "HTMLView",
      "description": "",
      "description_tooltip": null,
      "layout": "IPY_MODEL_9cd934847d2543a0993358a7d5cd67ad",
      "placeholder": "​",
      "style": "IPY_MODEL_927d82e089634857b626419c35d3c918",
      "value": " [100%]   00:00 -&gt; (00:00 left)"
     }
    },
    "eaf85f0bbc9e42f6840578fa4405fa25": {
     "model_module": "@jupyter-widgets/controls",
     "model_module_version": "1.5.0",
     "model_name": "HTMLModel",
     "state": {
      "_dom_classes": [],
      "_model_module": "@jupyter-widgets/controls",
      "_model_module_version": "1.5.0",
      "_model_name": "HTMLModel",
      "_view_count": null,
      "_view_module": "@jupyter-widgets/controls",
      "_view_module_version": "1.5.0",
      "_view_name": "HTMLView",
      "description": "",
      "description_tooltip": null,
      "layout": "IPY_MODEL_59f1fc5a0b2a4f20b9852dac5f90e134",
      "placeholder": "​",
      "style": "IPY_MODEL_cc5a5a53a0314c8a9528affc957b6f82",
      "value": "Export report to file: 100%"
     }
    },
    "ee0f86f51b064c5eb486751b525f6e72": {
     "model_module": "@jupyter-widgets/base",
     "model_module_version": "1.2.0",
     "model_name": "LayoutModel",
     "state": {
      "_model_module": "@jupyter-widgets/base",
      "_model_module_version": "1.2.0",
      "_model_name": "LayoutModel",
      "_view_count": null,
      "_view_module": "@jupyter-widgets/base",
      "_view_module_version": "1.2.0",
      "_view_name": "LayoutView",
      "align_content": null,
      "align_items": null,
      "align_self": null,
      "border": null,
      "bottom": null,
      "display": null,
      "flex": null,
      "flex_flow": null,
      "grid_area": null,
      "grid_auto_columns": null,
      "grid_auto_flow": null,
      "grid_auto_rows": null,
      "grid_column": null,
      "grid_gap": null,
      "grid_row": null,
      "grid_template_areas": null,
      "grid_template_columns": null,
      "grid_template_rows": null,
      "height": null,
      "justify_content": null,
      "justify_items": null,
      "left": null,
      "margin": null,
      "max_height": null,
      "max_width": null,
      "min_height": null,
      "min_width": null,
      "object_fit": null,
      "object_position": null,
      "order": null,
      "overflow": null,
      "overflow_x": null,
      "overflow_y": null,
      "padding": null,
      "right": null,
      "top": null,
      "visibility": null,
      "width": null
     }
    },
    "fb3881cbf9e347f5a347ae61e76dc23a": {
     "model_module": "@jupyter-widgets/base",
     "model_module_version": "1.2.0",
     "model_name": "LayoutModel",
     "state": {
      "_model_module": "@jupyter-widgets/base",
      "_model_module_version": "1.2.0",
      "_model_name": "LayoutModel",
      "_view_count": null,
      "_view_module": "@jupyter-widgets/base",
      "_view_module_version": "1.2.0",
      "_view_name": "LayoutView",
      "align_content": null,
      "align_items": null,
      "align_self": null,
      "border": null,
      "bottom": null,
      "display": null,
      "flex": null,
      "flex_flow": null,
      "grid_area": null,
      "grid_auto_columns": null,
      "grid_auto_flow": null,
      "grid_auto_rows": null,
      "grid_column": null,
      "grid_gap": null,
      "grid_row": null,
      "grid_template_areas": null,
      "grid_template_columns": null,
      "grid_template_rows": null,
      "height": null,
      "justify_content": null,
      "justify_items": null,
      "left": null,
      "margin": null,
      "max_height": null,
      "max_width": null,
      "min_height": null,
      "min_width": null,
      "object_fit": null,
      "object_position": null,
      "order": null,
      "overflow": null,
      "overflow_x": null,
      "overflow_y": null,
      "padding": null,
      "right": null,
      "top": null,
      "visibility": null,
      "width": null
     }
    },
    "fc3a89af27734e688dffa55bca68fab2": {
     "model_module": "@jupyter-widgets/base",
     "model_module_version": "1.2.0",
     "model_name": "LayoutModel",
     "state": {
      "_model_module": "@jupyter-widgets/base",
      "_model_module_version": "1.2.0",
      "_model_name": "LayoutModel",
      "_view_count": null,
      "_view_module": "@jupyter-widgets/base",
      "_view_module_version": "1.2.0",
      "_view_name": "LayoutView",
      "align_content": null,
      "align_items": null,
      "align_self": null,
      "border": null,
      "bottom": null,
      "display": null,
      "flex": null,
      "flex_flow": null,
      "grid_area": null,
      "grid_auto_columns": null,
      "grid_auto_flow": null,
      "grid_auto_rows": null,
      "grid_column": null,
      "grid_gap": null,
      "grid_row": null,
      "grid_template_areas": null,
      "grid_template_columns": null,
      "grid_template_rows": null,
      "height": null,
      "justify_content": null,
      "justify_items": null,
      "left": null,
      "margin": null,
      "max_height": null,
      "max_width": null,
      "min_height": null,
      "min_width": null,
      "object_fit": null,
      "object_position": null,
      "order": null,
      "overflow": null,
      "overflow_x": null,
      "overflow_y": null,
      "padding": null,
      "right": null,
      "top": null,
      "visibility": null,
      "width": null
     }
    }
   }
  }
 },
 "nbformat": 4,
 "nbformat_minor": 0
}
