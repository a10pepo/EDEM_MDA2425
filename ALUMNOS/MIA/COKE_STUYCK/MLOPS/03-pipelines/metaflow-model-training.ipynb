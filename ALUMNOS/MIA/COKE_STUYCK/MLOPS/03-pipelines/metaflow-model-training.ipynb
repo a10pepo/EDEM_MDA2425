{
 "cells": [
  {
   "attachments": {},
   "cell_type": "markdown",
   "metadata": {},
   "source": [
    "# Pipelines: Metaflow model training"
   ]
  },
  {
   "attachments": {},
   "cell_type": "markdown",
   "metadata": {},
   "source": [
    "##  Install dependencies"
   ]
  },
  {
   "cell_type": "code",
   "execution_count": 1,
   "metadata": {},
   "outputs": [
    {
     "name": "stdout",
     "output_type": "stream",
     "text": [
      "Requirement already satisfied: metaflow==2.13.9 in /Users/cokestuyck/Documents/GitHub/EDEM_MDA2425/.venv/lib/python3.12/site-packages (from -r requirements.txt (line 1)) (2.13.9)\n",
      "Requirement already satisfied: pandas==2.2.3 in /Users/cokestuyck/Documents/GitHub/EDEM_MDA2425/.venv/lib/python3.12/site-packages (from -r requirements.txt (line 2)) (2.2.3)\n",
      "Requirement already satisfied: numpy==1.26.4 in /Users/cokestuyck/Documents/GitHub/EDEM_MDA2425/.venv/lib/python3.12/site-packages (from -r requirements.txt (line 3)) (1.26.4)\n",
      "Requirement already satisfied: scikit-learn==1.6.1 in /Users/cokestuyck/Documents/GitHub/EDEM_MDA2425/.venv/lib/python3.12/site-packages (from -r requirements.txt (line 4)) (1.6.1)\n",
      "Requirement already satisfied: optuna==4.2.0 in /Users/cokestuyck/Documents/GitHub/EDEM_MDA2425/.venv/lib/python3.12/site-packages (from -r requirements.txt (line 5)) (4.2.0)\n",
      "Requirement already satisfied: requests in /Users/cokestuyck/Documents/GitHub/EDEM_MDA2425/.venv/lib/python3.12/site-packages (from metaflow==2.13.9->-r requirements.txt (line 1)) (2.32.3)\n",
      "Requirement already satisfied: boto3 in /Users/cokestuyck/Documents/GitHub/EDEM_MDA2425/.venv/lib/python3.12/site-packages (from metaflow==2.13.9->-r requirements.txt (line 1)) (1.37.36)\n",
      "Requirement already satisfied: python-dateutil>=2.8.2 in /Users/cokestuyck/Documents/GitHub/EDEM_MDA2425/.venv/lib/python3.12/site-packages (from pandas==2.2.3->-r requirements.txt (line 2)) (2.9.0.post0)\n",
      "Requirement already satisfied: pytz>=2020.1 in /Users/cokestuyck/Documents/GitHub/EDEM_MDA2425/.venv/lib/python3.12/site-packages (from pandas==2.2.3->-r requirements.txt (line 2)) (2024.2)\n",
      "Requirement already satisfied: tzdata>=2022.7 in /Users/cokestuyck/Documents/GitHub/EDEM_MDA2425/.venv/lib/python3.12/site-packages (from pandas==2.2.3->-r requirements.txt (line 2)) (2024.2)\n",
      "Requirement already satisfied: scipy>=1.6.0 in /Users/cokestuyck/Documents/GitHub/EDEM_MDA2425/.venv/lib/python3.12/site-packages (from scikit-learn==1.6.1->-r requirements.txt (line 4)) (1.15.2)\n",
      "Requirement already satisfied: joblib>=1.2.0 in /Users/cokestuyck/Documents/GitHub/EDEM_MDA2425/.venv/lib/python3.12/site-packages (from scikit-learn==1.6.1->-r requirements.txt (line 4)) (1.4.2)\n",
      "Requirement already satisfied: threadpoolctl>=3.1.0 in /Users/cokestuyck/Documents/GitHub/EDEM_MDA2425/.venv/lib/python3.12/site-packages (from scikit-learn==1.6.1->-r requirements.txt (line 4)) (3.6.0)\n",
      "Requirement already satisfied: alembic>=1.5.0 in /Users/cokestuyck/Documents/GitHub/EDEM_MDA2425/.venv/lib/python3.12/site-packages (from optuna==4.2.0->-r requirements.txt (line 5)) (1.15.2)\n",
      "Requirement already satisfied: colorlog in /Users/cokestuyck/Documents/GitHub/EDEM_MDA2425/.venv/lib/python3.12/site-packages (from optuna==4.2.0->-r requirements.txt (line 5)) (6.9.0)\n",
      "Requirement already satisfied: packaging>=20.0 in /Users/cokestuyck/Documents/GitHub/EDEM_MDA2425/.venv/lib/python3.12/site-packages (from optuna==4.2.0->-r requirements.txt (line 5)) (24.2)\n",
      "Requirement already satisfied: sqlalchemy>=1.4.2 in /Users/cokestuyck/Documents/GitHub/EDEM_MDA2425/.venv/lib/python3.12/site-packages (from optuna==4.2.0->-r requirements.txt (line 5)) (2.0.40)\n",
      "Requirement already satisfied: tqdm in /Users/cokestuyck/Documents/GitHub/EDEM_MDA2425/.venv/lib/python3.12/site-packages (from optuna==4.2.0->-r requirements.txt (line 5)) (4.67.1)\n",
      "Requirement already satisfied: PyYAML in /Users/cokestuyck/Documents/GitHub/EDEM_MDA2425/.venv/lib/python3.12/site-packages (from optuna==4.2.0->-r requirements.txt (line 5)) (6.0.2)\n",
      "Requirement already satisfied: Mako in /Users/cokestuyck/Documents/GitHub/EDEM_MDA2425/.venv/lib/python3.12/site-packages (from alembic>=1.5.0->optuna==4.2.0->-r requirements.txt (line 5)) (1.3.10)\n",
      "Requirement already satisfied: typing-extensions>=4.12 in /Users/cokestuyck/Documents/GitHub/EDEM_MDA2425/.venv/lib/python3.12/site-packages (from alembic>=1.5.0->optuna==4.2.0->-r requirements.txt (line 5)) (4.12.2)\n",
      "Requirement already satisfied: six>=1.5 in /Users/cokestuyck/Documents/GitHub/EDEM_MDA2425/.venv/lib/python3.12/site-packages (from python-dateutil>=2.8.2->pandas==2.2.3->-r requirements.txt (line 2)) (1.16.0)\n",
      "Requirement already satisfied: botocore<1.38.0,>=1.37.36 in /Users/cokestuyck/Documents/GitHub/EDEM_MDA2425/.venv/lib/python3.12/site-packages (from boto3->metaflow==2.13.9->-r requirements.txt (line 1)) (1.37.36)\n",
      "Requirement already satisfied: jmespath<2.0.0,>=0.7.1 in /Users/cokestuyck/Documents/GitHub/EDEM_MDA2425/.venv/lib/python3.12/site-packages (from boto3->metaflow==2.13.9->-r requirements.txt (line 1)) (1.0.1)\n",
      "Requirement already satisfied: s3transfer<0.12.0,>=0.11.0 in /Users/cokestuyck/Documents/GitHub/EDEM_MDA2425/.venv/lib/python3.12/site-packages (from boto3->metaflow==2.13.9->-r requirements.txt (line 1)) (0.11.5)\n",
      "Requirement already satisfied: charset-normalizer<4,>=2 in /Users/cokestuyck/Documents/GitHub/EDEM_MDA2425/.venv/lib/python3.12/site-packages (from requests->metaflow==2.13.9->-r requirements.txt (line 1)) (3.4.0)\n",
      "Requirement already satisfied: idna<4,>=2.5 in /Users/cokestuyck/Documents/GitHub/EDEM_MDA2425/.venv/lib/python3.12/site-packages (from requests->metaflow==2.13.9->-r requirements.txt (line 1)) (3.10)\n",
      "Requirement already satisfied: urllib3<3,>=1.21.1 in /Users/cokestuyck/Documents/GitHub/EDEM_MDA2425/.venv/lib/python3.12/site-packages (from requests->metaflow==2.13.9->-r requirements.txt (line 1)) (1.26.20)\n",
      "Requirement already satisfied: certifi>=2017.4.17 in /Users/cokestuyck/Documents/GitHub/EDEM_MDA2425/.venv/lib/python3.12/site-packages (from requests->metaflow==2.13.9->-r requirements.txt (line 1)) (2024.8.30)\n",
      "Requirement already satisfied: MarkupSafe>=0.9.2 in /Users/cokestuyck/Documents/GitHub/EDEM_MDA2425/.venv/lib/python3.12/site-packages (from Mako->alembic>=1.5.0->optuna==4.2.0->-r requirements.txt (line 5)) (3.0.2)\n"
     ]
    }
   ],
   "source": [
    "!pip3 install -r requirements.txt"
   ]
  },
  {
   "attachments": {},
   "cell_type": "markdown",
   "metadata": {},
   "source": [
    "## Set username"
   ]
  },
  {
   "cell_type": "code",
   "execution_count": 2,
   "metadata": {},
   "outputs": [],
   "source": [
    "# Set username for workflows\n",
    "import os\n",
    "os.environ[\"USERNAME\"] = \"cokecancook\""
   ]
  },
  {
   "cell_type": "code",
   "execution_count": 3,
   "metadata": {},
   "outputs": [
    {
     "name": "stdout",
     "output_type": "stream",
     "text": [
      "Writing metaflow_trainingflow.py\n"
     ]
    }
   ],
   "source": [
    "%%writefile metaflow_trainingflow.py\n",
    "from metaflow import FlowSpec, Parameter, step\n",
    "from sklearn.model_selection import train_test_split\n",
    "\n",
    "\n",
    "class TrainingFlow(FlowSpec):\n",
    "    # Define the parameters for the flow\n",
    "    max_depth = Parameter('max_depth', default=2, help='Max depth of the random forest classifier')\n",
    "    n_estimators = Parameter('n_estimators', default=100, help='Number of estimators for the random forest classifier')\n",
    "    random_state = Parameter('random_state', default=0, help='Random state for the random forest classifier')\n",
    "    \n",
    "    @step\n",
    "    def start(self):\n",
    "        # Start the flow\n",
    "        self.next(self.ingest_data)\n",
    "        \n",
    "    @step\n",
    "    def ingest_data(self):\n",
    "        from sklearn.datasets import load_iris\n",
    "    \n",
    "        # Load the iris dataset\n",
    "        iris = load_iris()\n",
    "        \n",
    "        #pylint: disable=no-member\n",
    "        self.X = iris.data\n",
    "        self.y = iris.target\n",
    "        #pylint: enable=no-member\n",
    "        \n",
    "        self.next(self.split_data)\n",
    "\n",
    "    @step\n",
    "    def split_data(self):\n",
    "        #Split the data into train and test\n",
    "        self.X_train, self.X_test, self.y_train, self.y_test = train_test_split(\n",
    "            self.X, self.y, test_size=0.2, random_state=int(self.random_state)\n",
    "        )\n",
    "        \n",
    "        self.next(self.train)\n",
    "\n",
    "    @step\n",
    "    def train(self):\n",
    "        # Train the model\n",
    "        from sklearn.ensemble import RandomForestClassifier\n",
    "        \n",
    "        clf = RandomForestClassifier(\n",
    "            max_depth=int(self.max_depth),\n",
    "            n_estimators=int(self.n_estimators),\n",
    "            random_state=int(self.random_state)\n",
    "        )\n",
    "        clf.fit(self.X_train, self.y_train)\n",
    "        self.model = clf\n",
    "        \n",
    "        self.next(self.show_metrics)\n",
    "\n",
    "    @step\n",
    "    def show_metrics(self):\n",
    "        # Print some metrics\n",
    "        from sklearn.metrics import accuracy_score\n",
    "        \n",
    "        predictions = self.model.predict(self.X_test)\n",
    "        accuracy = accuracy_score(self.y_test, predictions)\n",
    "        print(\"Accuracy:\", accuracy)\n",
    "        self.accuracy = accuracy\n",
    "        \n",
    "        self.next(self.register_model)\n",
    "        \n",
    "    @step\n",
    "    def register_model(self):\n",
    "        # Save the model in a pickle file in local storage\n",
    "        import pickle\n",
    "        \n",
    "        model_filename = \"random_forest_model.pkl\"\n",
    "        with open(model_filename, \"wb\") as f:\n",
    "            pickle.dump(self.model, f)\n",
    "            \n",
    "        print(\"Model saved as\", model_filename)\n",
    "        self.next(self.end)\n",
    "        \n",
    "    @step\n",
    "    def end(self):\n",
    "        print(\"Flow completed.\")\n",
    "    \n",
    "if __name__ == '__main__':\n",
    "    TrainingFlow()"
   ]
  },
  {
   "cell_type": "code",
   "execution_count": 4,
   "metadata": {},
   "outputs": [
    {
     "name": "stdout",
     "output_type": "stream",
     "text": [
      "\u001b[35m\u001b[1mMetaflow 2.13.9\u001b[0m\u001b[35m\u001b[22m executing \u001b[0m\u001b[31m\u001b[1mTrainingFlow\u001b[0m\u001b[35m\u001b[22m\u001b[0m\u001b[35m\u001b[22m for \u001b[0m\u001b[31m\u001b[1muser:cokestuyck\u001b[0m\u001b[35m\u001b[22m\u001b[K\u001b[0m\u001b[35m\u001b[22m\u001b[0m\n",
      "\u001b[22mCreating local datastore in current directory (/Users/cokestuyck/Documents/GitHub/EDEM_MDA2425/ALUMNOS/MIA/COKE_STUYCK/MLOPS/03-pipelines/.metaflow)\u001b[K\u001b[0m\u001b[22m\u001b[0m\n",
      "\u001b[35m\u001b[22mValidating your flow...\u001b[K\u001b[0m\u001b[35m\u001b[22m\u001b[0m\n",
      "\u001b[32m\u001b[1m    The graph looks good!\u001b[K\u001b[0m\u001b[32m\u001b[1m\u001b[0m\n",
      "\u001b[35m\u001b[22mRunning pylint...\u001b[K\u001b[0m\u001b[35m\u001b[22m\u001b[0m\n",
      "\u001b[32m\u001b[22m    Pylint not found, so extra checks are disabled.\u001b[K\u001b[0m\u001b[32m\u001b[22m\u001b[0m\n",
      "\u001b[35m2025-04-20 00:51:51.590 \u001b[0m\u001b[1mWorkflow starting (run-id 1745103111589740):\u001b[0m\n",
      "\u001b[35m2025-04-20 00:51:51.605 \u001b[0m\u001b[32m[1745103111589740/start/1 (pid 8898)] \u001b[0m\u001b[1mTask is starting.\u001b[0m\n",
      "\u001b[35m2025-04-20 00:51:52.591 \u001b[0m\u001b[32m[1745103111589740/start/1 (pid 8898)] \u001b[0m\u001b[1mTask finished successfully.\u001b[0m\n",
      "\u001b[35m2025-04-20 00:51:52.596 \u001b[0m\u001b[32m[1745103111589740/ingest_data/2 (pid 8900)] \u001b[0m\u001b[1mTask is starting.\u001b[0m\n",
      "\u001b[35m2025-04-20 00:51:53.637 \u001b[0m\u001b[32m[1745103111589740/ingest_data/2 (pid 8900)] \u001b[0m\u001b[1mTask finished successfully.\u001b[0m\n",
      "\u001b[35m2025-04-20 00:51:53.642 \u001b[0m\u001b[32m[1745103111589740/split_data/3 (pid 8903)] \u001b[0m\u001b[1mTask is starting.\u001b[0m\n",
      "\u001b[35m2025-04-20 00:51:54.539 \u001b[0m\u001b[32m[1745103111589740/split_data/3 (pid 8903)] \u001b[0m\u001b[1mTask finished successfully.\u001b[0m\n",
      "\u001b[35m2025-04-20 00:51:54.546 \u001b[0m\u001b[32m[1745103111589740/train/4 (pid 8905)] \u001b[0m\u001b[1mTask is starting.\u001b[0m\n",
      "\u001b[35m2025-04-20 00:51:55.765 \u001b[0m\u001b[32m[1745103111589740/train/4 (pid 8905)] \u001b[0m\u001b[1mTask finished successfully.\u001b[0m\n",
      "\u001b[35m2025-04-20 00:51:55.771 \u001b[0m\u001b[32m[1745103111589740/show_metrics/5 (pid 8907)] \u001b[0m\u001b[1mTask is starting.\u001b[0m\n",
      "\u001b[35m2025-04-20 00:51:56.610 \u001b[0m\u001b[32m[1745103111589740/show_metrics/5 (pid 8907)] \u001b[0m\u001b[22mAccuracy: 1.0\u001b[0m\n",
      "\u001b[35m2025-04-20 00:51:56.731 \u001b[0m\u001b[32m[1745103111589740/show_metrics/5 (pid 8907)] \u001b[0m\u001b[1mTask finished successfully.\u001b[0m\n",
      "\u001b[35m2025-04-20 00:51:56.736 \u001b[0m\u001b[32m[1745103111589740/register_model/6 (pid 8909)] \u001b[0m\u001b[1mTask is starting.\u001b[0m\n",
      "\u001b[35m2025-04-20 00:51:57.638 \u001b[0m\u001b[32m[1745103111589740/register_model/6 (pid 8909)] \u001b[0m\u001b[22mModel saved as random_forest_model.pkl\u001b[0m\n",
      "\u001b[35m2025-04-20 00:51:57.760 \u001b[0m\u001b[32m[1745103111589740/register_model/6 (pid 8909)] \u001b[0m\u001b[1mTask finished successfully.\u001b[0m\n",
      "\u001b[35m2025-04-20 00:51:57.765 \u001b[0m\u001b[32m[1745103111589740/end/7 (pid 8911)] \u001b[0m\u001b[1mTask is starting.\u001b[0m\n",
      "\u001b[35m2025-04-20 00:51:58.589 \u001b[0m\u001b[32m[1745103111589740/end/7 (pid 8911)] \u001b[0m\u001b[22mFlow completed.\u001b[0m\n",
      "\u001b[35m2025-04-20 00:51:58.722 \u001b[0m\u001b[32m[1745103111589740/end/7 (pid 8911)] \u001b[0m\u001b[1mTask finished successfully.\u001b[0m\n",
      "\u001b[35m2025-04-20 00:51:58.724 \u001b[0m\u001b[1mDone!\u001b[0m\n"
     ]
    }
   ],
   "source": [
    "!python metaflow_trainingflow.py run --max_depth 2 --n_estimators 100 --random_state 0"
   ]
  },
  {
   "cell_type": "markdown",
   "metadata": {},
   "source": [
    "Metaflow 2.13.9 executing TrainingFlow for user:cokestuyck\n",
    "Creating local datastore in current directory (/Users/cokestuyck/Documents/GitHub/EDEM_MDA2425/ALUMNOS/MIA/COKE_STUYCK/MLOPS/03-pipelines/.metaflow)\n",
    "Validating your flow...\n",
    "    The graph looks good!\n",
    "Running pylint...\n",
    "    Pylint not found, so extra checks are disabled.\n",
    "2025-04-20 00:51:51.590 Workflow starting (run-id 1745103111589740):\n",
    "2025-04-20 00:51:51.605 [1745103111589740/start/1 (pid 8898)] Task is starting.\n",
    "2025-04-20 00:51:52.591 [1745103111589740/start/1 (pid 8898)] Task finished successfully.\n",
    "2025-04-20 00:51:52.596 [1745103111589740/ingest_data/2 (pid 8900)] Task is starting.\n",
    "2025-04-20 00:51:53.637 [1745103111589740/ingest_data/2 (pid 8900)] Task finished successfully.\n",
    "2025-04-20 00:51:53.642 [1745103111589740/split_data/3 (pid 8903)] Task is starting.\n",
    "2025-04-20 00:51:54.539 [1745103111589740/split_data/3 (pid 8903)] Task finished successfully.\n",
    "2025-04-20 00:51:54.546 [1745103111589740/train/4 (pid 8905)] Task is starting.\n",
    "2025-04-20 00:51:55.765 [1745103111589740/train/4 (pid 8905)] Task finished successfully.\n",
    "2025-04-20 00:51:55.771 [1745103111589740/show_metrics/5 (pid 8907)] Task is starting.\n",
    "2025-04-20 00:51:56.610 [1745103111589740/show_metrics/5 (pid 8907)] Accuracy: 1.0\n",
    "2025-04-20 00:51:56.731 [1745103111589740/show_metrics/5 (pid 8907)] Task finished successfully.\n",
    "2025-04-20 00:51:56.736 [1745103111589740/register_model/6 (pid 8909)] Task is starting.\n",
    "2025-04-20 00:51:57.638 [1745103111589740/register_model/6 (pid 8909)] Model saved as random_forest_model.pkl\n",
    "2025-04-20 00:51:57.760 [1745103111589740/register_model/6 (pid 8909)] Task finished successfully.\n",
    "2025-04-20 00:51:57.765 [1745103111589740/end/7 (pid 8911)] Task is starting.\n",
    "2025-04-20 00:51:58.589 [1745103111589740/end/7 (pid 8911)] Flow completed.\n",
    "2025-04-20 00:51:58.722 [1745103111589740/end/7 (pid 8911)] Task finished successfully.\n",
    "2025-04-20 00:51:58.724 Done!"
   ]
  },
  {
   "cell_type": "markdown",
   "metadata": {},
   "source": [
    "![MetaFlow Logs](metaflow-screenshot.png \"MetaFlow Logs\")\n",
    "\n"
   ]
  }
 ],
 "metadata": {
  "kernelspec": {
   "display_name": ".venv",
   "language": "python",
   "name": "python3"
  },
  "language_info": {
   "codemirror_mode": {
    "name": "ipython",
    "version": 3
   },
   "file_extension": ".py",
   "mimetype": "text/x-python",
   "name": "python",
   "nbconvert_exporter": "python",
   "pygments_lexer": "ipython3",
   "version": "3.12.6"
  },
  "orig_nbformat": 4
 },
 "nbformat": 4,
 "nbformat_minor": 2
}
