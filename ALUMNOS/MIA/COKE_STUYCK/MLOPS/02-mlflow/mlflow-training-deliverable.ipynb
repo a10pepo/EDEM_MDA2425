{
 "cells": [
  {
   "attachments": {},
   "cell_type": "markdown",
   "metadata": {},
   "source": [
    "# Model registry: MLFlow\n",
    "\n",
    "Example on how to use the MLFlow model during the training of a model"
   ]
  },
  {
   "attachments": {},
   "cell_type": "markdown",
   "metadata": {},
   "source": [
    "## 1. Install MLFlow"
   ]
  },
  {
   "cell_type": "code",
   "execution_count": 1,
   "metadata": {},
   "outputs": [
    {
     "name": "stdout",
     "output_type": "stream",
     "text": [
      "Requirement already satisfied: mlflow==2.20.1 in /Users/cokestuyck/Documents/GitHub/EDEM_MDA2425/.venv/lib/python3.12/site-packages (from -r requirements.txt (line 1)) (2.20.1)\n",
      "Requirement already satisfied: pandas==2.2.3 in /Users/cokestuyck/Documents/GitHub/EDEM_MDA2425/.venv/lib/python3.12/site-packages (from -r requirements.txt (line 2)) (2.2.3)\n",
      "Requirement already satisfied: numpy==1.26.4 in /Users/cokestuyck/Documents/GitHub/EDEM_MDA2425/.venv/lib/python3.12/site-packages (from -r requirements.txt (line 3)) (1.26.4)\n",
      "Requirement already satisfied: scikit-learn==1.6.1 in /Users/cokestuyck/Documents/GitHub/EDEM_MDA2425/.venv/lib/python3.12/site-packages (from -r requirements.txt (line 4)) (1.6.1)\n",
      "Requirement already satisfied: optuna==4.2.0 in /Users/cokestuyck/Documents/GitHub/EDEM_MDA2425/.venv/lib/python3.12/site-packages (from -r requirements.txt (line 5)) (4.2.0)\n",
      "Requirement already satisfied: mlflow-skinny==2.20.1 in /Users/cokestuyck/Documents/GitHub/EDEM_MDA2425/.venv/lib/python3.12/site-packages (from mlflow==2.20.1->-r requirements.txt (line 1)) (2.20.1)\n",
      "Requirement already satisfied: Flask<4 in /Users/cokestuyck/Documents/GitHub/EDEM_MDA2425/.venv/lib/python3.12/site-packages (from mlflow==2.20.1->-r requirements.txt (line 1)) (3.1.0)\n",
      "Requirement already satisfied: Jinja2<4,>=2.11 in /Users/cokestuyck/Documents/GitHub/EDEM_MDA2425/.venv/lib/python3.12/site-packages (from mlflow==2.20.1->-r requirements.txt (line 1)) (3.1.4)\n",
      "Requirement already satisfied: alembic!=1.10.0,<2 in /Users/cokestuyck/Documents/GitHub/EDEM_MDA2425/.venv/lib/python3.12/site-packages (from mlflow==2.20.1->-r requirements.txt (line 1)) (1.15.2)\n",
      "Requirement already satisfied: docker<8,>=4.0.0 in /Users/cokestuyck/Documents/GitHub/EDEM_MDA2425/.venv/lib/python3.12/site-packages (from mlflow==2.20.1->-r requirements.txt (line 1)) (7.1.0)\n",
      "Requirement already satisfied: graphene<4 in /Users/cokestuyck/Documents/GitHub/EDEM_MDA2425/.venv/lib/python3.12/site-packages (from mlflow==2.20.1->-r requirements.txt (line 1)) (3.4.3)\n",
      "Requirement already satisfied: gunicorn<24 in /Users/cokestuyck/Documents/GitHub/EDEM_MDA2425/.venv/lib/python3.12/site-packages (from mlflow==2.20.1->-r requirements.txt (line 1)) (23.0.0)\n",
      "Requirement already satisfied: markdown<4,>=3.3 in /Users/cokestuyck/Documents/GitHub/EDEM_MDA2425/.venv/lib/python3.12/site-packages (from mlflow==2.20.1->-r requirements.txt (line 1)) (3.8)\n",
      "Requirement already satisfied: matplotlib<4 in /Users/cokestuyck/Documents/GitHub/EDEM_MDA2425/.venv/lib/python3.12/site-packages (from mlflow==2.20.1->-r requirements.txt (line 1)) (3.9.2)\n",
      "Requirement already satisfied: pyarrow<19,>=4.0.0 in /Users/cokestuyck/Documents/GitHub/EDEM_MDA2425/.venv/lib/python3.12/site-packages (from mlflow==2.20.1->-r requirements.txt (line 1)) (18.1.0)\n",
      "Requirement already satisfied: scipy<2 in /Users/cokestuyck/Documents/GitHub/EDEM_MDA2425/.venv/lib/python3.12/site-packages (from mlflow==2.20.1->-r requirements.txt (line 1)) (1.15.2)\n",
      "Requirement already satisfied: sqlalchemy<3,>=1.4.0 in /Users/cokestuyck/Documents/GitHub/EDEM_MDA2425/.venv/lib/python3.12/site-packages (from mlflow==2.20.1->-r requirements.txt (line 1)) (2.0.40)\n",
      "Requirement already satisfied: python-dateutil>=2.8.2 in /Users/cokestuyck/Documents/GitHub/EDEM_MDA2425/.venv/lib/python3.12/site-packages (from pandas==2.2.3->-r requirements.txt (line 2)) (2.9.0.post0)\n",
      "Requirement already satisfied: pytz>=2020.1 in /Users/cokestuyck/Documents/GitHub/EDEM_MDA2425/.venv/lib/python3.12/site-packages (from pandas==2.2.3->-r requirements.txt (line 2)) (2024.2)\n",
      "Requirement already satisfied: tzdata>=2022.7 in /Users/cokestuyck/Documents/GitHub/EDEM_MDA2425/.venv/lib/python3.12/site-packages (from pandas==2.2.3->-r requirements.txt (line 2)) (2024.2)\n",
      "Requirement already satisfied: joblib>=1.2.0 in /Users/cokestuyck/Documents/GitHub/EDEM_MDA2425/.venv/lib/python3.12/site-packages (from scikit-learn==1.6.1->-r requirements.txt (line 4)) (1.4.2)\n",
      "Requirement already satisfied: threadpoolctl>=3.1.0 in /Users/cokestuyck/Documents/GitHub/EDEM_MDA2425/.venv/lib/python3.12/site-packages (from scikit-learn==1.6.1->-r requirements.txt (line 4)) (3.6.0)\n",
      "Requirement already satisfied: colorlog in /Users/cokestuyck/Documents/GitHub/EDEM_MDA2425/.venv/lib/python3.12/site-packages (from optuna==4.2.0->-r requirements.txt (line 5)) (6.9.0)\n",
      "Requirement already satisfied: packaging>=20.0 in /Users/cokestuyck/Documents/GitHub/EDEM_MDA2425/.venv/lib/python3.12/site-packages (from optuna==4.2.0->-r requirements.txt (line 5)) (24.1)\n",
      "Requirement already satisfied: tqdm in /Users/cokestuyck/Documents/GitHub/EDEM_MDA2425/.venv/lib/python3.12/site-packages (from optuna==4.2.0->-r requirements.txt (line 5)) (4.67.1)\n",
      "Requirement already satisfied: PyYAML in /Users/cokestuyck/Documents/GitHub/EDEM_MDA2425/.venv/lib/python3.12/site-packages (from optuna==4.2.0->-r requirements.txt (line 5)) (6.0.2)\n",
      "Requirement already satisfied: cachetools<6,>=5.0.0 in /Users/cokestuyck/Documents/GitHub/EDEM_MDA2425/.venv/lib/python3.12/site-packages (from mlflow-skinny==2.20.1->mlflow==2.20.1->-r requirements.txt (line 1)) (5.5.2)\n",
      "Requirement already satisfied: click<9,>=7.0 in /Users/cokestuyck/Documents/GitHub/EDEM_MDA2425/.venv/lib/python3.12/site-packages (from mlflow-skinny==2.20.1->mlflow==2.20.1->-r requirements.txt (line 1)) (8.1.8)\n",
      "Requirement already satisfied: cloudpickle<4 in /Users/cokestuyck/Documents/GitHub/EDEM_MDA2425/.venv/lib/python3.12/site-packages (from mlflow-skinny==2.20.1->mlflow==2.20.1->-r requirements.txt (line 1)) (3.1.1)\n",
      "Requirement already satisfied: databricks-sdk<1,>=0.20.0 in /Users/cokestuyck/Documents/GitHub/EDEM_MDA2425/.venv/lib/python3.12/site-packages (from mlflow-skinny==2.20.1->mlflow==2.20.1->-r requirements.txt (line 1)) (0.50.0)\n",
      "Requirement already satisfied: gitpython<4,>=3.1.9 in /Users/cokestuyck/Documents/GitHub/EDEM_MDA2425/.venv/lib/python3.12/site-packages (from mlflow-skinny==2.20.1->mlflow==2.20.1->-r requirements.txt (line 1)) (3.1.44)\n",
      "Requirement already satisfied: importlib_metadata!=4.7.0,<9,>=3.7.0 in /Users/cokestuyck/Documents/GitHub/EDEM_MDA2425/.venv/lib/python3.12/site-packages (from mlflow-skinny==2.20.1->mlflow==2.20.1->-r requirements.txt (line 1)) (8.6.1)\n",
      "Requirement already satisfied: opentelemetry-api<3,>=1.9.0 in /Users/cokestuyck/Documents/GitHub/EDEM_MDA2425/.venv/lib/python3.12/site-packages (from mlflow-skinny==2.20.1->mlflow==2.20.1->-r requirements.txt (line 1)) (1.32.1)\n",
      "Requirement already satisfied: opentelemetry-sdk<3,>=1.9.0 in /Users/cokestuyck/Documents/GitHub/EDEM_MDA2425/.venv/lib/python3.12/site-packages (from mlflow-skinny==2.20.1->mlflow==2.20.1->-r requirements.txt (line 1)) (1.32.1)\n",
      "Requirement already satisfied: protobuf<6,>=3.12.0 in /Users/cokestuyck/Documents/GitHub/EDEM_MDA2425/.venv/lib/python3.12/site-packages (from mlflow-skinny==2.20.1->mlflow==2.20.1->-r requirements.txt (line 1)) (5.29.4)\n",
      "Requirement already satisfied: pydantic<3,>=1.0 in /Users/cokestuyck/Documents/GitHub/EDEM_MDA2425/.venv/lib/python3.12/site-packages (from mlflow-skinny==2.20.1->mlflow==2.20.1->-r requirements.txt (line 1)) (2.11.3)\n",
      "Requirement already satisfied: requests<3,>=2.17.3 in /Users/cokestuyck/Documents/GitHub/EDEM_MDA2425/.venv/lib/python3.12/site-packages (from mlflow-skinny==2.20.1->mlflow==2.20.1->-r requirements.txt (line 1)) (2.32.3)\n",
      "Requirement already satisfied: sqlparse<1,>=0.4.0 in /Users/cokestuyck/Documents/GitHub/EDEM_MDA2425/.venv/lib/python3.12/site-packages (from mlflow-skinny==2.20.1->mlflow==2.20.1->-r requirements.txt (line 1)) (0.5.3)\n",
      "Requirement already satisfied: typing-extensions<5,>=4.0.0 in /Users/cokestuyck/Documents/GitHub/EDEM_MDA2425/.venv/lib/python3.12/site-packages (from mlflow-skinny==2.20.1->mlflow==2.20.1->-r requirements.txt (line 1)) (4.12.2)\n",
      "Requirement already satisfied: Mako in /Users/cokestuyck/Documents/GitHub/EDEM_MDA2425/.venv/lib/python3.12/site-packages (from alembic!=1.10.0,<2->mlflow==2.20.1->-r requirements.txt (line 1)) (1.3.10)\n",
      "Requirement already satisfied: urllib3>=1.26.0 in /Users/cokestuyck/Documents/GitHub/EDEM_MDA2425/.venv/lib/python3.12/site-packages (from docker<8,>=4.0.0->mlflow==2.20.1->-r requirements.txt (line 1)) (2.2.3)\n",
      "Requirement already satisfied: Werkzeug>=3.1 in /Users/cokestuyck/Documents/GitHub/EDEM_MDA2425/.venv/lib/python3.12/site-packages (from Flask<4->mlflow==2.20.1->-r requirements.txt (line 1)) (3.1.3)\n",
      "Requirement already satisfied: itsdangerous>=2.2 in /Users/cokestuyck/Documents/GitHub/EDEM_MDA2425/.venv/lib/python3.12/site-packages (from Flask<4->mlflow==2.20.1->-r requirements.txt (line 1)) (2.2.0)\n",
      "Requirement already satisfied: blinker>=1.9 in /Users/cokestuyck/Documents/GitHub/EDEM_MDA2425/.venv/lib/python3.12/site-packages (from Flask<4->mlflow==2.20.1->-r requirements.txt (line 1)) (1.9.0)\n",
      "Requirement already satisfied: graphql-core<3.3,>=3.1 in /Users/cokestuyck/Documents/GitHub/EDEM_MDA2425/.venv/lib/python3.12/site-packages (from graphene<4->mlflow==2.20.1->-r requirements.txt (line 1)) (3.2.6)\n",
      "Requirement already satisfied: graphql-relay<3.3,>=3.1 in /Users/cokestuyck/Documents/GitHub/EDEM_MDA2425/.venv/lib/python3.12/site-packages (from graphene<4->mlflow==2.20.1->-r requirements.txt (line 1)) (3.2.0)\n",
      "Requirement already satisfied: MarkupSafe>=2.0 in /Users/cokestuyck/Documents/GitHub/EDEM_MDA2425/.venv/lib/python3.12/site-packages (from Jinja2<4,>=2.11->mlflow==2.20.1->-r requirements.txt (line 1)) (3.0.2)\n",
      "Requirement already satisfied: contourpy>=1.0.1 in /Users/cokestuyck/Documents/GitHub/EDEM_MDA2425/.venv/lib/python3.12/site-packages (from matplotlib<4->mlflow==2.20.1->-r requirements.txt (line 1)) (1.3.0)\n",
      "Requirement already satisfied: cycler>=0.10 in /Users/cokestuyck/Documents/GitHub/EDEM_MDA2425/.venv/lib/python3.12/site-packages (from matplotlib<4->mlflow==2.20.1->-r requirements.txt (line 1)) (0.12.1)\n",
      "Requirement already satisfied: fonttools>=4.22.0 in /Users/cokestuyck/Documents/GitHub/EDEM_MDA2425/.venv/lib/python3.12/site-packages (from matplotlib<4->mlflow==2.20.1->-r requirements.txt (line 1)) (4.54.1)\n",
      "Requirement already satisfied: kiwisolver>=1.3.1 in /Users/cokestuyck/Documents/GitHub/EDEM_MDA2425/.venv/lib/python3.12/site-packages (from matplotlib<4->mlflow==2.20.1->-r requirements.txt (line 1)) (1.4.7)\n",
      "Requirement already satisfied: pillow>=8 in /Users/cokestuyck/Documents/GitHub/EDEM_MDA2425/.venv/lib/python3.12/site-packages (from matplotlib<4->mlflow==2.20.1->-r requirements.txt (line 1)) (11.0.0)\n",
      "Requirement already satisfied: pyparsing>=2.3.1 in /Users/cokestuyck/Documents/GitHub/EDEM_MDA2425/.venv/lib/python3.12/site-packages (from matplotlib<4->mlflow==2.20.1->-r requirements.txt (line 1)) (3.2.0)\n",
      "Requirement already satisfied: six>=1.5 in /Users/cokestuyck/Documents/GitHub/EDEM_MDA2425/.venv/lib/python3.12/site-packages (from python-dateutil>=2.8.2->pandas==2.2.3->-r requirements.txt (line 2)) (1.16.0)\n",
      "Requirement already satisfied: google-auth~=2.0 in /Users/cokestuyck/Documents/GitHub/EDEM_MDA2425/.venv/lib/python3.12/site-packages (from databricks-sdk<1,>=0.20.0->mlflow-skinny==2.20.1->mlflow==2.20.1->-r requirements.txt (line 1)) (2.39.0)\n",
      "Requirement already satisfied: gitdb<5,>=4.0.1 in /Users/cokestuyck/Documents/GitHub/EDEM_MDA2425/.venv/lib/python3.12/site-packages (from gitpython<4,>=3.1.9->mlflow-skinny==2.20.1->mlflow==2.20.1->-r requirements.txt (line 1)) (4.0.12)\n",
      "Requirement already satisfied: zipp>=3.20 in /Users/cokestuyck/Documents/GitHub/EDEM_MDA2425/.venv/lib/python3.12/site-packages (from importlib_metadata!=4.7.0,<9,>=3.7.0->mlflow-skinny==2.20.1->mlflow==2.20.1->-r requirements.txt (line 1)) (3.21.0)\n",
      "Requirement already satisfied: deprecated>=1.2.6 in /Users/cokestuyck/Documents/GitHub/EDEM_MDA2425/.venv/lib/python3.12/site-packages (from opentelemetry-api<3,>=1.9.0->mlflow-skinny==2.20.1->mlflow==2.20.1->-r requirements.txt (line 1)) (1.2.18)\n",
      "Requirement already satisfied: opentelemetry-semantic-conventions==0.53b1 in /Users/cokestuyck/Documents/GitHub/EDEM_MDA2425/.venv/lib/python3.12/site-packages (from opentelemetry-sdk<3,>=1.9.0->mlflow-skinny==2.20.1->mlflow==2.20.1->-r requirements.txt (line 1)) (0.53b1)\n",
      "Requirement already satisfied: annotated-types>=0.6.0 in /Users/cokestuyck/Documents/GitHub/EDEM_MDA2425/.venv/lib/python3.12/site-packages (from pydantic<3,>=1.0->mlflow-skinny==2.20.1->mlflow==2.20.1->-r requirements.txt (line 1)) (0.7.0)\n",
      "Requirement already satisfied: pydantic-core==2.33.1 in /Users/cokestuyck/Documents/GitHub/EDEM_MDA2425/.venv/lib/python3.12/site-packages (from pydantic<3,>=1.0->mlflow-skinny==2.20.1->mlflow==2.20.1->-r requirements.txt (line 1)) (2.33.1)\n",
      "Requirement already satisfied: typing-inspection>=0.4.0 in /Users/cokestuyck/Documents/GitHub/EDEM_MDA2425/.venv/lib/python3.12/site-packages (from pydantic<3,>=1.0->mlflow-skinny==2.20.1->mlflow==2.20.1->-r requirements.txt (line 1)) (0.4.0)\n",
      "Requirement already satisfied: charset-normalizer<4,>=2 in /Users/cokestuyck/Documents/GitHub/EDEM_MDA2425/.venv/lib/python3.12/site-packages (from requests<3,>=2.17.3->mlflow-skinny==2.20.1->mlflow==2.20.1->-r requirements.txt (line 1)) (3.4.0)\n",
      "Requirement already satisfied: idna<4,>=2.5 in /Users/cokestuyck/Documents/GitHub/EDEM_MDA2425/.venv/lib/python3.12/site-packages (from requests<3,>=2.17.3->mlflow-skinny==2.20.1->mlflow==2.20.1->-r requirements.txt (line 1)) (3.10)\n",
      "Requirement already satisfied: certifi>=2017.4.17 in /Users/cokestuyck/Documents/GitHub/EDEM_MDA2425/.venv/lib/python3.12/site-packages (from requests<3,>=2.17.3->mlflow-skinny==2.20.1->mlflow==2.20.1->-r requirements.txt (line 1)) (2024.8.30)\n",
      "Requirement already satisfied: wrapt<2,>=1.10 in /Users/cokestuyck/Documents/GitHub/EDEM_MDA2425/.venv/lib/python3.12/site-packages (from deprecated>=1.2.6->opentelemetry-api<3,>=1.9.0->mlflow-skinny==2.20.1->mlflow==2.20.1->-r requirements.txt (line 1)) (1.17.2)\n",
      "Requirement already satisfied: smmap<6,>=3.0.1 in /Users/cokestuyck/Documents/GitHub/EDEM_MDA2425/.venv/lib/python3.12/site-packages (from gitdb<5,>=4.0.1->gitpython<4,>=3.1.9->mlflow-skinny==2.20.1->mlflow==2.20.1->-r requirements.txt (line 1)) (5.0.2)\n",
      "Requirement already satisfied: pyasn1-modules>=0.2.1 in /Users/cokestuyck/Documents/GitHub/EDEM_MDA2425/.venv/lib/python3.12/site-packages (from google-auth~=2.0->databricks-sdk<1,>=0.20.0->mlflow-skinny==2.20.1->mlflow==2.20.1->-r requirements.txt (line 1)) (0.4.2)\n",
      "Requirement already satisfied: rsa<5,>=3.1.4 in /Users/cokestuyck/Documents/GitHub/EDEM_MDA2425/.venv/lib/python3.12/site-packages (from google-auth~=2.0->databricks-sdk<1,>=0.20.0->mlflow-skinny==2.20.1->mlflow==2.20.1->-r requirements.txt (line 1)) (4.9.1)\n",
      "Requirement already satisfied: pyasn1<0.7.0,>=0.6.1 in /Users/cokestuyck/Documents/GitHub/EDEM_MDA2425/.venv/lib/python3.12/site-packages (from pyasn1-modules>=0.2.1->google-auth~=2.0->databricks-sdk<1,>=0.20.0->mlflow-skinny==2.20.1->mlflow==2.20.1->-r requirements.txt (line 1)) (0.6.1)\n",
      "\n",
      "\u001b[1m[\u001b[0m\u001b[34;49mnotice\u001b[0m\u001b[1;39;49m]\u001b[0m\u001b[39;49m A new release of pip is available: \u001b[0m\u001b[31;49m24.2\u001b[0m\u001b[39;49m -> \u001b[0m\u001b[32;49m25.0.1\u001b[0m\n",
      "\u001b[1m[\u001b[0m\u001b[34;49mnotice\u001b[0m\u001b[1;39;49m]\u001b[0m\u001b[39;49m To update, run: \u001b[0m\u001b[32;49mpip install --upgrade pip\u001b[0m\n",
      "mlflow==2.20.1\n",
      "mlflow-skinny==2.20.1\n"
     ]
    }
   ],
   "source": [
    "!pip3 install -r requirements.txt\n",
    "!pip3 freeze | grep mlflow"
   ]
  },
  {
   "attachments": {},
   "cell_type": "markdown",
   "metadata": {},
   "source": [
    "\n",
    "## 2. Start the MLFlow server.\n",
    "\n",
    "To do this, run the following command in a terminal:\n",
    "\n",
    "mlflow ui --host 0.0.0.0 --port 5001"
   ]
  },
  {
   "attachments": {},
   "cell_type": "markdown",
   "metadata": {},
   "source": [
    "## 3. Create a new experiment"
   ]
  },
  {
   "cell_type": "code",
   "execution_count": 2,
   "metadata": {},
   "outputs": [
    {
     "data": {
      "text/plain": [
       "<Experiment: artifact_location='mlflow-artifacts:/385808207734345689', creation_time=1744898561915, experiment_id='385808207734345689', last_update_time=1744898561915, lifecycle_stage='active', name='mlflow-model-training-kddcup99', tags={}>"
      ]
     },
     "execution_count": 2,
     "metadata": {},
     "output_type": "execute_result"
    }
   ],
   "source": [
    "import mlflow\n",
    "mlflow.set_tracking_uri(\"http://localhost:5001\")\n",
    "mlflow.set_experiment(\"mlflow-model-training-kddcup99\")"
   ]
  },
  {
   "attachments": {},
   "cell_type": "markdown",
   "metadata": {},
   "source": [
    "## 4. Log a model experiment result"
   ]
  },
  {
   "cell_type": "code",
   "execution_count": 3,
   "metadata": {},
   "outputs": [
    {
     "name": "stdout",
     "output_type": "stream",
     "text": [
      "🏃 View run mlflow-training-2025-04-17-16-13-07 at: http://localhost:5001/#/experiments/385808207734345689/runs/68cdbfc222554641a2ce908a8381edca\n",
      "🧪 View experiment at: http://localhost:5001/#/experiments/385808207734345689\n"
     ]
    }
   ],
   "source": [
    "# Lets first create a simple function to train a model\n",
    "# The function will receive a set of hyperparameters and return the model and the accuracy\n",
    "import datetime\n",
    "from mlflow.models import infer_signature\n",
    "\n",
    "def get_data():\n",
    "    from sklearn import datasets\n",
    "\n",
    "    # X, y = datasets.make_classification(n_samples=1000, n_features=4, n_informative=4, n_redundant=0, n_classes=3, n_clusters_per_class=1, class_sep=0.5, random_state=40)\n",
    "    # use kddcup99 dataset\n",
    "    X, y = datasets.load_wine(return_X_y=True)\n",
    "    return X, y\n",
    "\n",
    "def train_model(hyperparameters):\n",
    "    from sklearn.ensemble import RandomForestClassifier\n",
    "    from sklearn.metrics import accuracy_score\n",
    "    from sklearn.model_selection import train_test_split\n",
    "    import mlflow.sklearn\n",
    "    X, y = get_data()\n",
    "    X_train, X_test, y_train, y_test = train_test_split(X, y, test_size=0.2, random_state=40)\n",
    "    model = RandomForestClassifier(**hyperparameters)\n",
    "    model.fit(X_train, y_train)\n",
    "    y_pred = model.predict(X_test)\n",
    "    signature = infer_signature(X, model.predict(X))\n",
    "    accuracy = accuracy_score(y_pred, y_test)\n",
    "    return model, signature, accuracy\n",
    "\n",
    "# Now lets log the model and the accuracy\n",
    "date = datetime.datetime.now().strftime(\"%Y-%m-%d-%H-%M-%S\")\n",
    "with mlflow.start_run(run_name=f\"mlflow-training-{date}\"):\n",
    "    \n",
    "    # Now lets train a model with some hyperparameters\n",
    "    hyperparameters = {\"n_estimators\": 10, \"max_depth\": 5}\n",
    "    model, signature, accuracy = train_model(hyperparameters)\n",
    "    \n",
    "    # Hyperparameters are logged as parameters\n",
    "    for hyperparameter, value in hyperparameters.items():\n",
    "        mlflow.log_param(hyperparameter, value)\n",
    "    \n",
    "    # Accuracy is logged as a metric \n",
    "    mlflow.log_metric(\"accuracy\", accuracy)\n",
    "    \n",
    "    # Model is logged as an artifact\n",
    "    mlflow.sklearn.log_model(model, \"model\", signature=signature)"
   ]
  },
  {
   "attachments": {},
   "cell_type": "markdown",
   "metadata": {},
   "source": [
    "## 5. Run a hyperparameter search and log the results"
   ]
  },
  {
   "cell_type": "code",
   "execution_count": 4,
   "metadata": {},
   "outputs": [
    {
     "name": "stderr",
     "output_type": "stream",
     "text": [
      "/Users/cokestuyck/Documents/GitHub/EDEM_MDA2425/.venv/lib/python3.12/site-packages/tqdm/auto.py:21: TqdmWarning: IProgress not found. Please update jupyter and ipywidgets. See https://ipywidgets.readthedocs.io/en/stable/user_install.html\n",
      "  from .autonotebook import tqdm as notebook_tqdm\n",
      "[I 2025-04-17 16:13:11,278] A new study created in memory with name: no-name-d7431e59-8aae-4222-a119-7e1979e6f807\n",
      "[I 2025-04-17 16:13:11,422] Trial 0 finished with value: 0.9553968253968254 and parameters: {'n_estimators': 35, 'max_depth': 9, 'min_samples_split': 20, 'min_samples_leaf': 20, 'max_features': 0.2860544141273841}. Best is trial 0 with value: 0.9553968253968254.\n",
      "[I 2025-04-17 16:13:11,512] Trial 1 finished with value: 0.972063492063492 and parameters: {'n_estimators': 16, 'max_depth': 9, 'min_samples_split': 16, 'min_samples_leaf': 10, 'max_features': 0.22725954032205847}. Best is trial 0 with value: 0.9553968253968254.\n"
     ]
    },
    {
     "name": "stdout",
     "output_type": "stream",
     "text": [
      "🏃 View run optuna-hp-0-2025-04-17-16-13-11 at: http://localhost:5001/#/experiments/385808207734345689/runs/91eca46b5d70472aaf6a7ba7e0d7493c\n",
      "🧪 View experiment at: http://localhost:5001/#/experiments/385808207734345689\n",
      "🏃 View run optuna-hp-1-2025-04-17-16-13-11 at: http://localhost:5001/#/experiments/385808207734345689/runs/b249696f31fd49059f7749bc0813ccb5\n",
      "🧪 View experiment at: http://localhost:5001/#/experiments/385808207734345689\n"
     ]
    },
    {
     "name": "stderr",
     "output_type": "stream",
     "text": [
      "[I 2025-04-17 16:13:11,734] Trial 2 finished with value: 0.9273015873015872 and parameters: {'n_estimators': 65, 'max_depth': 4, 'min_samples_split': 6, 'min_samples_leaf': 15, 'max_features': 0.6965494272140555}. Best is trial 2 with value: 0.9273015873015872.\n",
      "[I 2025-04-17 16:13:11,923] Trial 3 finished with value: 0.9719047619047618 and parameters: {'n_estimators': 56, 'max_depth': 2, 'min_samples_split': 12, 'min_samples_leaf': 19, 'max_features': 0.39590816673544094}. Best is trial 2 with value: 0.9273015873015872.\n"
     ]
    },
    {
     "name": "stdout",
     "output_type": "stream",
     "text": [
      "🏃 View run optuna-hp-2-2025-04-17-16-13-11 at: http://localhost:5001/#/experiments/385808207734345689/runs/d8a6e32d3bc7485287d30550c975753c\n",
      "🧪 View experiment at: http://localhost:5001/#/experiments/385808207734345689\n",
      "🏃 View run optuna-hp-3-2025-04-17-16-13-11 at: http://localhost:5001/#/experiments/385808207734345689/runs/8b2adbef821e4ab98a6c91d2e208eb64\n",
      "🧪 View experiment at: http://localhost:5001/#/experiments/385808207734345689\n"
     ]
    },
    {
     "name": "stderr",
     "output_type": "stream",
     "text": [
      "[I 2025-04-17 16:13:12,243] Trial 4 finished with value: 0.9220634920634921 and parameters: {'n_estimators': 87, 'max_depth': 5, 'min_samples_split': 8, 'min_samples_leaf': 12, 'max_features': 0.8876134900869159}. Best is trial 4 with value: 0.9220634920634921.\n"
     ]
    },
    {
     "name": "stdout",
     "output_type": "stream",
     "text": [
      "🏃 View run optuna-hp-4-2025-04-17-16-13-11 at: http://localhost:5001/#/experiments/385808207734345689/runs/dd4c004bef2042908393f395a3e8103d\n",
      "🧪 View experiment at: http://localhost:5001/#/experiments/385808207734345689\n"
     ]
    },
    {
     "name": "stderr",
     "output_type": "stream",
     "text": [
      "[I 2025-04-17 16:13:12,498] Trial 5 finished with value: 0.9553968253968254 and parameters: {'n_estimators': 27, 'max_depth': 7, 'min_samples_split': 2, 'min_samples_leaf': 11, 'max_features': 0.5162670579139813}. Best is trial 4 with value: 0.9220634920634921.\n"
     ]
    },
    {
     "name": "stdout",
     "output_type": "stream",
     "text": [
      "🏃 View run optuna-hp-5-2025-04-17-16-13-12 at: http://localhost:5001/#/experiments/385808207734345689/runs/387893c963cd4ea0941e5d4fcfe195cb\n",
      "🧪 View experiment at: http://localhost:5001/#/experiments/385808207734345689\n"
     ]
    },
    {
     "name": "stderr",
     "output_type": "stream",
     "text": [
      "[I 2025-04-17 16:13:12,791] Trial 6 finished with value: 0.9607936507936508 and parameters: {'n_estimators': 85, 'max_depth': 3, 'min_samples_split': 11, 'min_samples_leaf': 13, 'max_features': 0.18924591607460123}. Best is trial 4 with value: 0.9220634920634921.\n"
     ]
    },
    {
     "name": "stdout",
     "output_type": "stream",
     "text": [
      "🏃 View run optuna-hp-6-2025-04-17-16-13-12 at: http://localhost:5001/#/experiments/385808207734345689/runs/f43c713424454f2a92c057ed278f4590\n",
      "🧪 View experiment at: http://localhost:5001/#/experiments/385808207734345689\n"
     ]
    },
    {
     "name": "stderr",
     "output_type": "stream",
     "text": [
      "[I 2025-04-17 16:13:13,033] Trial 7 finished with value: 0.9331746031746032 and parameters: {'n_estimators': 64, 'max_depth': 9, 'min_samples_split': 18, 'min_samples_leaf': 11, 'max_features': 0.7438705678749369}. Best is trial 4 with value: 0.9220634920634921.\n"
     ]
    },
    {
     "name": "stdout",
     "output_type": "stream",
     "text": [
      "🏃 View run optuna-hp-7-2025-04-17-16-13-12 at: http://localhost:5001/#/experiments/385808207734345689/runs/334c051e6481443bb6e96942ae8e2e79\n",
      "🧪 View experiment at: http://localhost:5001/#/experiments/385808207734345689\n"
     ]
    },
    {
     "name": "stderr",
     "output_type": "stream",
     "text": [
      "[I 2025-04-17 16:13:13,353] Trial 8 finished with value: 0.9107936507936507 and parameters: {'n_estimators': 93, 'max_depth': 3, 'min_samples_split': 6, 'min_samples_leaf': 9, 'max_features': 0.8858935860977608}. Best is trial 8 with value: 0.9107936507936507.\n"
     ]
    },
    {
     "name": "stdout",
     "output_type": "stream",
     "text": [
      "🏃 View run optuna-hp-8-2025-04-17-16-13-13 at: http://localhost:5001/#/experiments/385808207734345689/runs/261c73c2b79d4b6e820ac9fcbc287b7e\n",
      "🧪 View experiment at: http://localhost:5001/#/experiments/385808207734345689\n"
     ]
    },
    {
     "name": "stderr",
     "output_type": "stream",
     "text": [
      "[I 2025-04-17 16:13:13,692] Trial 9 finished with value: 0.9553968253968254 and parameters: {'n_estimators': 87, 'max_depth': 10, 'min_samples_split': 11, 'min_samples_leaf': 13, 'max_features': 0.6467357686784535}. Best is trial 8 with value: 0.9107936507936507.\n"
     ]
    },
    {
     "name": "stdout",
     "output_type": "stream",
     "text": [
      "🏃 View run optuna-hp-9-2025-04-17-16-13-13 at: http://localhost:5001/#/experiments/385808207734345689/runs/a79824bc9fde4aada9a2a34553a92d60\n",
      "🧪 View experiment at: http://localhost:5001/#/experiments/385808207734345689\n"
     ]
    },
    {
     "name": "stderr",
     "output_type": "stream",
     "text": [
      "[I 2025-04-17 16:13:14,073] Trial 10 finished with value: 0.9498412698412698 and parameters: {'n_estimators': 100, 'max_depth': 6, 'min_samples_split': 3, 'min_samples_leaf': 3, 'max_features': 0.961292066525506}. Best is trial 8 with value: 0.9107936507936507.\n"
     ]
    },
    {
     "name": "stdout",
     "output_type": "stream",
     "text": [
      "🏃 View run optuna-hp-10-2025-04-17-16-13-13 at: http://localhost:5001/#/experiments/385808207734345689/runs/5c4f92db83634aa098c3c8fcb8fddc20\n",
      "🧪 View experiment at: http://localhost:5001/#/experiments/385808207734345689\n"
     ]
    },
    {
     "name": "stderr",
     "output_type": "stream",
     "text": [
      "[I 2025-04-17 16:13:14,378] Trial 11 finished with value: 0.9442857142857143 and parameters: {'n_estimators': 81, 'max_depth': 5, 'min_samples_split': 7, 'min_samples_leaf': 6, 'max_features': 0.9853941942821178}. Best is trial 8 with value: 0.9107936507936507.\n"
     ]
    },
    {
     "name": "stdout",
     "output_type": "stream",
     "text": [
      "🏃 View run optuna-hp-11-2025-04-17-16-13-14 at: http://localhost:5001/#/experiments/385808207734345689/runs/73b4558f00e34e90b04f0dd97bbb9244\n",
      "🧪 View experiment at: http://localhost:5001/#/experiments/385808207734345689\n"
     ]
    },
    {
     "name": "stderr",
     "output_type": "stream",
     "text": [
      "[I 2025-04-17 16:13:14,760] Trial 12 finished with value: 0.9442857142857143 and parameters: {'n_estimators': 100, 'max_depth': 4, 'min_samples_split': 7, 'min_samples_leaf': 7, 'max_features': 0.836693593870402}. Best is trial 8 with value: 0.9107936507936507.\n"
     ]
    },
    {
     "name": "stdout",
     "output_type": "stream",
     "text": [
      "🏃 View run optuna-hp-12-2025-04-17-16-13-14 at: http://localhost:5001/#/experiments/385808207734345689/runs/fa14402414be4067b1ce64b394f05090\n",
      "🧪 View experiment at: http://localhost:5001/#/experiments/385808207734345689\n"
     ]
    },
    {
     "name": "stderr",
     "output_type": "stream",
     "text": [
      "[I 2025-04-17 16:13:15,030] Trial 13 finished with value: 0.9498412698412698 and parameters: {'n_estimators': 74, 'max_depth': 2, 'min_samples_split': 5, 'min_samples_leaf': 7, 'max_features': 0.8652831893370783}. Best is trial 8 with value: 0.9107936507936507.\n",
      "[I 2025-04-17 16:13:15,199] Trial 14 finished with value: 0.9274603174603173 and parameters: {'n_estimators': 45, 'max_depth': 6, 'min_samples_split': 9, 'min_samples_leaf': 16, 'max_features': 0.5451087364573128}. Best is trial 8 with value: 0.9107936507936507.\n"
     ]
    },
    {
     "name": "stdout",
     "output_type": "stream",
     "text": [
      "🏃 View run optuna-hp-13-2025-04-17-16-13-14 at: http://localhost:5001/#/experiments/385808207734345689/runs/c33fddbd1ba649af96872928e36f2c62\n",
      "🧪 View experiment at: http://localhost:5001/#/experiments/385808207734345689\n",
      "🏃 View run optuna-hp-14-2025-04-17-16-13-15 at: http://localhost:5001/#/experiments/385808207734345689/runs/59c65c723b8b4e95a666dc8bd96a857d\n",
      "🧪 View experiment at: http://localhost:5001/#/experiments/385808207734345689\n"
     ]
    },
    {
     "name": "stderr",
     "output_type": "stream",
     "text": [
      "[I 2025-04-17 16:13:15,252] Trial 15 finished with value: 0.8717460317460318 and parameters: {'n_estimators': 1, 'max_depth': 4, 'min_samples_split': 14, 'min_samples_leaf': 2, 'max_features': 0.8470362454488002}. Best is trial 15 with value: 0.8717460317460318.\n",
      "[I 2025-04-17 16:13:15,321] Trial 16 finished with value: 0.910952380952381 and parameters: {'n_estimators': 7, 'max_depth': 3, 'min_samples_split': 14, 'min_samples_leaf': 1, 'max_features': 0.7631886597467284}. Best is trial 15 with value: 0.8717460317460318.\n",
      "[I 2025-04-17 16:13:15,374] Trial 17 finished with value: 0.8882539682539681 and parameters: {'n_estimators': 3, 'max_depth': 4, 'min_samples_split': 14, 'min_samples_leaf': 4, 'max_features': 0.6557949468401375}. Best is trial 15 with value: 0.8717460317460318.\n",
      "[I 2025-04-17 16:13:15,422] Trial 18 finished with value: 0.8995238095238095 and parameters: {'n_estimators': 1, 'max_depth': 7, 'min_samples_split': 14, 'min_samples_leaf': 3, 'max_features': 0.623766642663294}. Best is trial 15 with value: 0.8717460317460318.\n"
     ]
    },
    {
     "name": "stdout",
     "output_type": "stream",
     "text": [
      "🏃 View run optuna-hp-15-2025-04-17-16-13-15 at: http://localhost:5001/#/experiments/385808207734345689/runs/502e22480cc742ac9705f7a9bb5266b4\n",
      "🧪 View experiment at: http://localhost:5001/#/experiments/385808207734345689\n",
      "🏃 View run optuna-hp-16-2025-04-17-16-13-15 at: http://localhost:5001/#/experiments/385808207734345689/runs/eb0b1f3acf2f4cac875e53df225b8c6f\n",
      "🧪 View experiment at: http://localhost:5001/#/experiments/385808207734345689\n",
      "🏃 View run optuna-hp-17-2025-04-17-16-13-15 at: http://localhost:5001/#/experiments/385808207734345689/runs/03ceec3e21b045a6b2875a7a94cebe55\n",
      "🧪 View experiment at: http://localhost:5001/#/experiments/385808207734345689\n",
      "🏃 View run optuna-hp-18-2025-04-17-16-13-15 at: http://localhost:5001/#/experiments/385808207734345689/runs/a46e299c1f4343ce9464c87c0fdf36f2\n",
      "🧪 View experiment at: http://localhost:5001/#/experiments/385808207734345689\n"
     ]
    },
    {
     "name": "stderr",
     "output_type": "stream",
     "text": [
      "[I 2025-04-17 16:13:15,525] Trial 19 finished with value: 0.9609523809523809 and parameters: {'n_estimators': 17, 'max_depth': 4, 'min_samples_split': 14, 'min_samples_leaf': 1, 'max_features': 0.4810992484597115}. Best is trial 15 with value: 0.8717460317460318.\n",
      "[I 2025-04-17 16:13:15,666] Trial 20 finished with value: 0.9552380952380952 and parameters: {'n_estimators': 16, 'max_depth': 5, 'min_samples_split': 17, 'min_samples_leaf': 4, 'max_features': 0.42160902311192155}. Best is trial 15 with value: 0.8717460317460318.\n",
      "[I 2025-04-17 16:13:15,720] Trial 21 finished with value: 0.9219047619047618 and parameters: {'n_estimators': 1, 'max_depth': 7, 'min_samples_split': 14, 'min_samples_leaf': 4, 'max_features': 0.5920918428571249}. Best is trial 15 with value: 0.8717460317460318.\n"
     ]
    },
    {
     "name": "stdout",
     "output_type": "stream",
     "text": [
      "🏃 View run optuna-hp-19-2025-04-17-16-13-15 at: http://localhost:5001/#/experiments/385808207734345689/runs/6f5fce1bc3234595bbabe16abcd9a4cb\n",
      "🧪 View experiment at: http://localhost:5001/#/experiments/385808207734345689\n",
      "🏃 View run optuna-hp-20-2025-04-17-16-13-15 at: http://localhost:5001/#/experiments/385808207734345689/runs/5ec925dfce994a19ade3e0cb53d9ef6a\n",
      "🧪 View experiment at: http://localhost:5001/#/experiments/385808207734345689\n",
      "🏃 View run optuna-hp-21-2025-04-17-16-13-15 at: http://localhost:5001/#/experiments/385808207734345689/runs/d84580fecdb84463adb2fcab697e5467\n",
      "🧪 View experiment at: http://localhost:5001/#/experiments/385808207734345689\n"
     ]
    },
    {
     "name": "stderr",
     "output_type": "stream",
     "text": [
      "[I 2025-04-17 16:13:15,773] Trial 22 finished with value: 0.849047619047619 and parameters: {'n_estimators': 1, 'max_depth': 7, 'min_samples_split': 15, 'min_samples_leaf': 3, 'max_features': 0.6654247350157201}. Best is trial 22 with value: 0.849047619047619.\n",
      "[I 2025-04-17 16:13:15,895] Trial 23 finished with value: 0.9498412698412698 and parameters: {'n_estimators': 25, 'max_depth': 8, 'min_samples_split': 19, 'min_samples_leaf': 5, 'max_features': 0.7867712781669288}. Best is trial 22 with value: 0.849047619047619.\n",
      "[I 2025-04-17 16:13:15,966] Trial 24 finished with value: 0.9387301587301587 and parameters: {'n_estimators': 9, 'max_depth': 5, 'min_samples_split': 16, 'min_samples_leaf': 1, 'max_features': 0.10000010037396306}. Best is trial 22 with value: 0.849047619047619.\n"
     ]
    },
    {
     "name": "stdout",
     "output_type": "stream",
     "text": [
      "🏃 View run optuna-hp-22-2025-04-17-16-13-15 at: http://localhost:5001/#/experiments/385808207734345689/runs/787220162f72451a8d127a56d91db404\n",
      "🧪 View experiment at: http://localhost:5001/#/experiments/385808207734345689\n",
      "🏃 View run optuna-hp-23-2025-04-17-16-13-15 at: http://localhost:5001/#/experiments/385808207734345689/runs/2d99ca1214954e42881fcb6359e5efe1\n",
      "🧪 View experiment at: http://localhost:5001/#/experiments/385808207734345689\n",
      "🏃 View run optuna-hp-24-2025-04-17-16-13-15 at: http://localhost:5001/#/experiments/385808207734345689/runs/6d5ebcf4e7124f8dba0f67d78d89caeb\n",
      "🧪 View experiment at: http://localhost:5001/#/experiments/385808207734345689\n"
     ]
    },
    {
     "name": "stderr",
     "output_type": "stream",
     "text": [
      "[I 2025-04-17 16:13:16,130] Trial 25 finished with value: 0.9385714285714286 and parameters: {'n_estimators': 39, 'max_depth': 6, 'min_samples_split': 13, 'min_samples_leaf': 8, 'max_features': 0.6925692277425253}. Best is trial 22 with value: 0.849047619047619.\n",
      "[I 2025-04-17 16:13:16,209] Trial 26 finished with value: 0.9053968253968254 and parameters: {'n_estimators': 10, 'max_depth': 4, 'min_samples_split': 16, 'min_samples_leaf': 3, 'max_features': 0.7145945375807251}. Best is trial 22 with value: 0.849047619047619.\n"
     ]
    },
    {
     "name": "stdout",
     "output_type": "stream",
     "text": [
      "🏃 View run optuna-hp-25-2025-04-17-16-13-15 at: http://localhost:5001/#/experiments/385808207734345689/runs/84c6fc9dd44d40daa62ad3828b60d1db\n",
      "🧪 View experiment at: http://localhost:5001/#/experiments/385808207734345689\n",
      "🏃 View run optuna-hp-26-2025-04-17-16-13-16 at: http://localhost:5001/#/experiments/385808207734345689/runs/00da291ce80e48b1944a217e9539a319\n",
      "🧪 View experiment at: http://localhost:5001/#/experiments/385808207734345689\n"
     ]
    },
    {
     "name": "stderr",
     "output_type": "stream",
     "text": [
      "[I 2025-04-17 16:13:16,345] Trial 27 finished with value: 0.9331746031746032 and parameters: {'n_estimators': 27, 'max_depth': 8, 'min_samples_split': 10, 'min_samples_leaf': 5, 'max_features': 0.8160762772943705}. Best is trial 22 with value: 0.849047619047619.\n",
      "[I 2025-04-17 16:13:16,499] Trial 28 finished with value: 0.9442857142857143 and parameters: {'n_estimators': 20, 'max_depth': 6, 'min_samples_split': 15, 'min_samples_leaf': 2, 'max_features': 0.5884564962032761}. Best is trial 22 with value: 0.849047619047619.\n"
     ]
    },
    {
     "name": "stdout",
     "output_type": "stream",
     "text": [
      "🏃 View run optuna-hp-27-2025-04-17-16-13-16 at: http://localhost:5001/#/experiments/385808207734345689/runs/710be9bd65844b51ab95aef7550906d8\n",
      "🧪 View experiment at: http://localhost:5001/#/experiments/385808207734345689\n",
      "🏃 View run optuna-hp-28-2025-04-17-16-13-16 at: http://localhost:5001/#/experiments/385808207734345689/runs/70f388f8c543437b95572fdb4cb98b60\n",
      "🧪 View experiment at: http://localhost:5001/#/experiments/385808207734345689\n"
     ]
    },
    {
     "name": "stderr",
     "output_type": "stream",
     "text": [
      "[I 2025-04-17 16:13:16,578] Trial 29 finished with value: 0.9274603174603175 and parameters: {'n_estimators': 7, 'max_depth': 8, 'min_samples_split': 20, 'min_samples_leaf': 6, 'max_features': 0.34177819424789435}. Best is trial 22 with value: 0.849047619047619.\n",
      "[I 2025-04-17 16:13:16,730] Trial 30 finished with value: 0.9442857142857143 and parameters: {'n_estimators': 32, 'max_depth': 3, 'min_samples_split': 12, 'min_samples_leaf': 2, 'max_features': 0.922457510384487}. Best is trial 22 with value: 0.849047619047619.\n"
     ]
    },
    {
     "name": "stdout",
     "output_type": "stream",
     "text": [
      "🏃 View run optuna-hp-29-2025-04-17-16-13-16 at: http://localhost:5001/#/experiments/385808207734345689/runs/d8137600aca3429baac9707cbe38f61d\n",
      "🧪 View experiment at: http://localhost:5001/#/experiments/385808207734345689\n",
      "🏃 View run optuna-hp-30-2025-04-17-16-13-16 at: http://localhost:5001/#/experiments/385808207734345689/runs/1d0986e17a1945578df7766e0d8776bc\n",
      "🧪 View experiment at: http://localhost:5001/#/experiments/385808207734345689\n"
     ]
    },
    {
     "name": "stderr",
     "output_type": "stream",
     "text": [
      "[I 2025-04-17 16:13:16,785] Trial 31 finished with value: 0.832063492063492 and parameters: {'n_estimators': 1, 'max_depth': 7, 'min_samples_split': 13, 'min_samples_leaf': 3, 'max_features': 0.6230328756702185}. Best is trial 31 with value: 0.832063492063492.\n",
      "[I 2025-04-17 16:13:16,840] Trial 32 finished with value: 0.8714285714285713 and parameters: {'n_estimators': 1, 'max_depth': 7, 'min_samples_split': 17, 'min_samples_leaf': 4, 'max_features': 0.6595911358649613}. Best is trial 31 with value: 0.832063492063492.\n",
      "[I 2025-04-17 16:13:16,928] Trial 33 finished with value: 0.9722222222222221 and parameters: {'n_estimators': 13, 'max_depth': 7, 'min_samples_split': 17, 'min_samples_leaf': 2, 'max_features': 0.48419107693333524}. Best is trial 31 with value: 0.832063492063492.\n"
     ]
    },
    {
     "name": "stdout",
     "output_type": "stream",
     "text": [
      "🏃 View run optuna-hp-31-2025-04-17-16-13-16 at: http://localhost:5001/#/experiments/385808207734345689/runs/f21f2f94510d4d43a92fa51dc9a3da12\n",
      "🧪 View experiment at: http://localhost:5001/#/experiments/385808207734345689\n",
      "🏃 View run optuna-hp-32-2025-04-17-16-13-16 at: http://localhost:5001/#/experiments/385808207734345689/runs/46f976be61ca4180ad1bfc45d78d5dd3\n",
      "🧪 View experiment at: http://localhost:5001/#/experiments/385808207734345689\n",
      "🏃 View run optuna-hp-33-2025-04-17-16-13-16 at: http://localhost:5001/#/experiments/385808207734345689/runs/f8729db0060a46feabc024b03a58451f\n",
      "🧪 View experiment at: http://localhost:5001/#/experiments/385808207734345689\n"
     ]
    },
    {
     "name": "stderr",
     "output_type": "stream",
     "text": [
      "[I 2025-04-17 16:13:17,051] Trial 34 finished with value: 0.9609523809523809 and parameters: {'n_estimators': 20, 'max_depth': 8, 'min_samples_split': 18, 'min_samples_leaf': 5, 'max_features': 0.689344916318899}. Best is trial 31 with value: 0.832063492063492.\n",
      "[I 2025-04-17 16:13:17,162] Trial 35 finished with value: 0.8993650793650794 and parameters: {'n_estimators': 6, 'max_depth': 7, 'min_samples_split': 12, 'min_samples_leaf': 9, 'max_features': 0.579210705203069}. Best is trial 31 with value: 0.832063492063492.\n"
     ]
    },
    {
     "name": "stdout",
     "output_type": "stream",
     "text": [
      "🏃 View run optuna-hp-34-2025-04-17-16-13-16 at: http://localhost:5001/#/experiments/385808207734345689/runs/add0a0f51ad64efa8e3f7ec7e9d270fd\n",
      "🧪 View experiment at: http://localhost:5001/#/experiments/385808207734345689\n",
      "🏃 View run optuna-hp-35-2025-04-17-16-13-17 at: http://localhost:5001/#/experiments/385808207734345689/runs/912c9ab8fb274fcea591abb746f100e8\n",
      "🧪 View experiment at: http://localhost:5001/#/experiments/385808207734345689\n",
      "🏃 View run optuna-hp-36-2025-04-17-16-13-17 at: http://localhost:5001/#/experiments/385808207734345689/runs/d8c2e7c4882b46c387c6f11fb39dd744\n",
      "🧪 View experiment at: http://localhost:5001/#/experiments/385808207734345689\n"
     ]
    },
    {
     "name": "stderr",
     "output_type": "stream",
     "text": [
      "[I 2025-04-17 16:13:17,252] Trial 36 finished with value: 0.9220634920634921 and parameters: {'n_estimators': 14, 'max_depth': 9, 'min_samples_split': 16, 'min_samples_leaf': 3, 'max_features': 0.7920462697673776}. Best is trial 31 with value: 0.832063492063492.\n",
      "[I 2025-04-17 16:13:17,305] Trial 37 finished with value: 0.8658730158730158 and parameters: {'n_estimators': 1, 'max_depth': 6, 'min_samples_split': 15, 'min_samples_leaf': 18, 'max_features': 0.7302381772565187}. Best is trial 31 with value: 0.832063492063492.\n",
      "[I 2025-04-17 16:13:17,422] Trial 38 finished with value: 0.9609523809523809 and parameters: {'n_estimators': 23, 'max_depth': 6, 'min_samples_split': 18, 'min_samples_leaf': 19, 'max_features': 0.7348936942559567}. Best is trial 31 with value: 0.832063492063492.\n"
     ]
    },
    {
     "name": "stdout",
     "output_type": "stream",
     "text": [
      "🏃 View run optuna-hp-37-2025-04-17-16-13-17 at: http://localhost:5001/#/experiments/385808207734345689/runs/d5b32f974b1e458cb962692bc7b47998\n",
      "🧪 View experiment at: http://localhost:5001/#/experiments/385808207734345689\n",
      "🏃 View run optuna-hp-38-2025-04-17-16-13-17 at: http://localhost:5001/#/experiments/385808207734345689/runs/93613eefb79548bdb1262582e4e08e64\n",
      "🧪 View experiment at: http://localhost:5001/#/experiments/385808207734345689\n"
     ]
    },
    {
     "name": "stderr",
     "output_type": "stream",
     "text": [
      "[I 2025-04-17 16:13:17,618] Trial 39 finished with value: 0.9442857142857143 and parameters: {'n_estimators': 52, 'max_depth': 10, 'min_samples_split': 20, 'min_samples_leaf': 16, 'max_features': 0.6388561440649189}. Best is trial 31 with value: 0.832063492063492.\n",
      "[I 2025-04-17 16:13:17,701] Trial 40 finished with value: 0.9385714285714286 and parameters: {'n_estimators': 11, 'max_depth': 7, 'min_samples_split': 15, 'min_samples_leaf': 20, 'max_features': 0.681454580624331}. Best is trial 31 with value: 0.832063492063492.\n",
      "[I 2025-04-17 16:13:17,761] Trial 41 finished with value: 0.8314285714285713 and parameters: {'n_estimators': 4, 'max_depth': 8, 'min_samples_split': 13, 'min_samples_leaf': 14, 'max_features': 0.7525613496379538}. Best is trial 41 with value: 0.8314285714285713.\n"
     ]
    },
    {
     "name": "stdout",
     "output_type": "stream",
     "text": [
      "🏃 View run optuna-hp-39-2025-04-17-16-13-17 at: http://localhost:5001/#/experiments/385808207734345689/runs/bb54639384504bfab1b2280148de854d\n",
      "🧪 View experiment at: http://localhost:5001/#/experiments/385808207734345689\n",
      "🏃 View run optuna-hp-40-2025-04-17-16-13-17 at: http://localhost:5001/#/experiments/385808207734345689/runs/30343abec136462b96e54c57995cde73\n",
      "🧪 View experiment at: http://localhost:5001/#/experiments/385808207734345689\n",
      "🏃 View run optuna-hp-41-2025-04-17-16-13-17 at: http://localhost:5001/#/experiments/385808207734345689/runs/ca1f9cf76e4e4e58bd7e981f18e4792c\n",
      "🧪 View experiment at: http://localhost:5001/#/experiments/385808207734345689\n"
     ]
    },
    {
     "name": "stderr",
     "output_type": "stream",
     "text": [
      "[I 2025-04-17 16:13:17,831] Trial 42 finished with value: 0.9107936507936507 and parameters: {'n_estimators': 5, 'max_depth': 8, 'min_samples_split': 13, 'min_samples_leaf': 17, 'max_features': 0.7468241039799723}. Best is trial 41 with value: 0.8314285714285713.\n",
      "[I 2025-04-17 16:13:17,965] Trial 43 finished with value: 0.9387301587301587 and parameters: {'n_estimators': 11, 'max_depth': 7, 'min_samples_split': 12, 'min_samples_leaf': 14, 'max_features': 0.5441806373559515}. Best is trial 41 with value: 0.8314285714285713.\n"
     ]
    },
    {
     "name": "stdout",
     "output_type": "stream",
     "text": [
      "🏃 View run optuna-hp-42-2025-04-17-16-13-17 at: http://localhost:5001/#/experiments/385808207734345689/runs/acc56e0d7d964ca99ae2635eda060f6c\n",
      "🧪 View experiment at: http://localhost:5001/#/experiments/385808207734345689\n",
      "🏃 View run optuna-hp-43-2025-04-17-16-13-17 at: http://localhost:5001/#/experiments/385808207734345689/runs/f5a92e5e16924361b65a6ac1c9b126c3\n",
      "🧪 View experiment at: http://localhost:5001/#/experiments/385808207734345689\n"
     ]
    },
    {
     "name": "stderr",
     "output_type": "stream",
     "text": [
      "[I 2025-04-17 16:13:18,110] Trial 44 finished with value: 0.9330158730158731 and parameters: {'n_estimators': 31, 'max_depth': 9, 'min_samples_split': 15, 'min_samples_leaf': 12, 'max_features': 0.6079422363944444}. Best is trial 41 with value: 0.8314285714285713.\n",
      "[I 2025-04-17 16:13:18,173] Trial 45 finished with value: 0.8996825396825396 and parameters: {'n_estimators': 5, 'max_depth': 8, 'min_samples_split': 10, 'min_samples_leaf': 18, 'max_features': 0.6760123792026533}. Best is trial 41 with value: 0.8314285714285713.\n",
      "[I 2025-04-17 16:13:18,267] Trial 46 finished with value: 0.9496825396825397 and parameters: {'n_estimators': 18, 'max_depth': 6, 'min_samples_split': 13, 'min_samples_leaf': 14, 'max_features': 0.5150002510811102}. Best is trial 41 with value: 0.8314285714285713.\n"
     ]
    },
    {
     "name": "stdout",
     "output_type": "stream",
     "text": [
      "🏃 View run optuna-hp-44-2025-04-17-16-13-17 at: http://localhost:5001/#/experiments/385808207734345689/runs/718488a8008c4b209d6ef94da4415778\n",
      "🧪 View experiment at: http://localhost:5001/#/experiments/385808207734345689\n",
      "🏃 View run optuna-hp-45-2025-04-17-16-13-18 at: http://localhost:5001/#/experiments/385808207734345689/runs/91c676284d664fffb77ed94ba8db3980\n",
      "🧪 View experiment at: http://localhost:5001/#/experiments/385808207734345689\n",
      "🏃 View run optuna-hp-46-2025-04-17-16-13-18 at: http://localhost:5001/#/experiments/385808207734345689/runs/690b17a556574ce5b9b05e51437b9897\n",
      "🧪 View experiment at: http://localhost:5001/#/experiments/385808207734345689\n"
     ]
    },
    {
     "name": "stderr",
     "output_type": "stream",
     "text": [
      "[I 2025-04-17 16:13:18,435] Trial 47 finished with value: 0.9385714285714286 and parameters: {'n_estimators': 39, 'max_depth': 6, 'min_samples_split': 17, 'min_samples_leaf': 10, 'max_features': 0.7290577758436363}. Best is trial 41 with value: 0.8314285714285713.\n"
     ]
    },
    {
     "name": "stdout",
     "output_type": "stream",
     "text": [
      "🏃 View run optuna-hp-47-2025-04-17-16-13-18 at: http://localhost:5001/#/experiments/385808207734345689/runs/f849624be4864b9fbae38a7168f34edf\n",
      "🧪 View experiment at: http://localhost:5001/#/experiments/385808207734345689\n"
     ]
    },
    {
     "name": "stderr",
     "output_type": "stream",
     "text": [
      "[I 2025-04-17 16:13:18,719] Trial 48 finished with value: 0.9165079365079365 and parameters: {'n_estimators': 63, 'max_depth': 9, 'min_samples_split': 11, 'min_samples_leaf': 15, 'max_features': 0.9214500687450473}. Best is trial 41 with value: 0.8314285714285713.\n",
      "[I 2025-04-17 16:13:18,813] Trial 49 finished with value: 0.9385714285714286 and parameters: {'n_estimators': 14, 'max_depth': 7, 'min_samples_split': 15, 'min_samples_leaf': 12, 'max_features': 0.7872174300104212}. Best is trial 41 with value: 0.8314285714285713.\n"
     ]
    },
    {
     "name": "stdout",
     "output_type": "stream",
     "text": [
      "🏃 View run optuna-hp-48-2025-04-17-16-13-18 at: http://localhost:5001/#/experiments/385808207734345689/runs/50b4238e216e4a10871af66fd3cb6b2f\n",
      "🧪 View experiment at: http://localhost:5001/#/experiments/385808207734345689\n",
      "🏃 View run optuna-hp-49-2025-04-17-16-13-18 at: http://localhost:5001/#/experiments/385808207734345689/runs/6d759853d09f4457a494fad907fd936c\n",
      "🧪 View experiment at: http://localhost:5001/#/experiments/385808207734345689\n"
     ]
    }
   ],
   "source": [
    "\n",
    "import optuna\n",
    "import mlflow\n",
    "from sklearn.ensemble import RandomForestClassifier\n",
    "from sklearn.model_selection import cross_val_score\n",
    "\n",
    "\n",
    "X, y = get_data()\n",
    "\n",
    "def optimize_rf(trial):\n",
    "    \n",
    "    with mlflow.start_run(run_name=f\"optuna-hp-{trial.number}-{datetime.datetime.now().strftime('%Y-%m-%d-%H-%M-%S')}\"):\n",
    "        # Set the hyperparameter values that we want to optimize\n",
    "        n_estimators = trial.suggest_int('n_estimators', 1, 100)\n",
    "        max_depth = trial.suggest_int('max_depth', 2, 10)\n",
    "        min_samples_split = trial.suggest_int('min_samples_split', 2, 20)\n",
    "        min_samples_leaf = trial.suggest_int('min_samples_leaf', 1, 20)\n",
    "        max_features = trial.suggest_float('max_features', 0.1, 1.0)\n",
    "        \n",
    "        \n",
    "        # Create a random forest classifier using the suggested hyperparameters\n",
    "        rf = RandomForestClassifier(n_estimators=n_estimators, max_depth=max_depth,\n",
    "                                    min_samples_split=min_samples_split,\n",
    "                                    min_samples_leaf=min_samples_leaf,\n",
    "                                    max_features=max_features)\n",
    "        \n",
    "        # Use cross-validation to evaluate the performance of the classifier\n",
    "        scores = cross_val_score(rf, X, y, cv=5)\n",
    "        \n",
    "        # Log the hyperparameters and cross-validation scores to MLflow\n",
    "        mlflow.log_param('n_estimators', n_estimators)\n",
    "        mlflow.log_param('max_depth', max_depth)\n",
    "        mlflow.log_param('min_samples_split', min_samples_split)\n",
    "        mlflow.log_param('min_samples_leaf', min_samples_leaf)\n",
    "        mlflow.log_param('max_features', max_features)\n",
    "        mlflow.log_metric('mean_cv_score', scores.mean())\n",
    "    \n",
    "    # Return the mean of the cross-validation scores as the objective value\n",
    "    return scores.mean()\n",
    "\n",
    "# Create an Optuna study\n",
    "study = optuna.create_study()\n",
    "\n",
    "# Run the optimization loop\n",
    "study.optimize(optimize_rf, n_trials=50)\n",
    "\n",
    "# Get the best hyperparameter values\n",
    "best_params = study.best_params"
   ]
  },
  {
   "cell_type": "markdown",
   "metadata": {},
   "source": [
    "# Deliverable: Screenshot of the MLflow UI with the hyperparameter search results"
   ]
  },
  {
   "cell_type": "markdown",
   "metadata": {},
   "source": [
    "![MLflow](mlflow-hiperparameters.png \"MLflow UI with the hyperparameter search results\")"
   ]
  },
  {
   "attachments": {},
   "cell_type": "markdown",
   "metadata": {},
   "source": [
    "## 6. Register a model version using the best hyperparameters"
   ]
  },
  {
   "cell_type": "code",
   "execution_count": 5,
   "metadata": {},
   "outputs": [
    {
     "name": "stderr",
     "output_type": "stream",
     "text": [
      "Successfully registered model 'random_forest_model_kddcup99'.\n",
      "2025/04/17 16:13:20 INFO mlflow.store.model_registry.abstract_store: Waiting up to 300 seconds for model version to finish creation. Model name: random_forest_model_kddcup99, version 1\n"
     ]
    },
    {
     "name": "stdout",
     "output_type": "stream",
     "text": [
      "🏃 View run optuna-hp-final at: http://localhost:5001/#/experiments/385808207734345689/runs/21f6423c37d04bd09ec46b3b8c509a5d\n",
      "🧪 View experiment at: http://localhost:5001/#/experiments/385808207734345689\n"
     ]
    },
    {
     "name": "stderr",
     "output_type": "stream",
     "text": [
      "Created version '1' of model 'random_forest_model_kddcup99'.\n"
     ]
    }
   ],
   "source": [
    "from mlflow.models.signature import infer_signature\n",
    "\n",
    "with mlflow.start_run(run_name=f\"optuna-hp-final\"):\n",
    "    # Create the final model using the best hyperparameters\n",
    "    final_model = RandomForestClassifier(**best_params)\n",
    "\n",
    "    # Train the final model on the entire dataset\n",
    "    final_model.fit(X, y)\n",
    "\n",
    "    # Infer the model signature\n",
    "    signature = infer_signature(X, final_model.predict(X))\n",
    "\n",
    "    # Log the model to the \"Models\" section\n",
    "    mlflow.sklearn.log_model(final_model, \"random_forest_model_kddcup99\", registered_model_name=\"random_forest_model_kddcup99\", signature=signature)"
   ]
  },
  {
   "attachments": {},
   "cell_type": "markdown",
   "metadata": {},
   "source": [
    "## 7. Retrieve a model version and use it for prediction"
   ]
  },
  {
   "cell_type": "code",
   "execution_count": 6,
   "metadata": {},
   "outputs": [
    {
     "name": "stderr",
     "output_type": "stream",
     "text": [
      "Downloading artifacts: 100%|██████████| 5/5 [00:00<00:00, 111.77it/s]\n"
     ]
    },
    {
     "data": {
      "text/plain": [
       "array([0, 0, 0, 0, 0])"
      ]
     },
     "execution_count": 6,
     "metadata": {},
     "output_type": "execute_result"
    }
   ],
   "source": [
    "import mlflow.pyfunc\n",
    "\n",
    "model_name = \"random_forest_model_kddcup99\"\n",
    "model_version = 1\n",
    "\n",
    "model = mlflow.pyfunc.load_model(\n",
    "    model_uri=f\"models:/{model_name}/{model_version}\"\n",
    ")\n",
    "\n",
    "model.predict(X[:5])"
   ]
  }
 ],
 "metadata": {
  "kernelspec": {
   "display_name": ".venv",
   "language": "python",
   "name": "python3"
  },
  "language_info": {
   "codemirror_mode": {
    "name": "ipython",
    "version": 3
   },
   "file_extension": ".py",
   "mimetype": "text/x-python",
   "name": "python",
   "nbconvert_exporter": "python",
   "pygments_lexer": "ipython3",
   "version": "3.12.6"
  },
  "orig_nbformat": 4
 },
 "nbformat": 4,
 "nbformat_minor": 2
}
