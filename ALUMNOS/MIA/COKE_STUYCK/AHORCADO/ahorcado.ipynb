{
 "cells": [
  {
   "cell_type": "markdown",
   "metadata": {},
   "source": [
    "# Ahorcado"
   ]
  },
  {
   "cell_type": "markdown",
   "metadata": {},
   "source": [
    "## Fase 1"
   ]
  },
  {
   "cell_type": "markdown",
   "metadata": {},
   "source": [
    "### Leer palabras"
   ]
  },
  {
   "cell_type": "markdown",
   "metadata": {},
   "source": [
    "`read-words()`\n",
    "\n",
    "- Lee palabras del archivo `palabras.txt` y las devuelve en un lista.\n",
    "- Cada palabra debe estar en una línea separada.\n",
    "- Si no encuentra el archivo devuelve un error `FileNotFoundError` y termina la ejecución."
   ]
  },
  {
   "cell_type": "code",
   "execution_count": 29,
   "metadata": {},
   "outputs": [],
   "source": [
    "def read_words():\n",
    "\n",
    "    try:\n",
    "        with open('palabras.txt', 'r') as f:\n",
    "            return [line.strip() for line in f if line.strip()]\n",
    "    except FileNotFoundError:\n",
    "        print(f\"Error: File 'palabras.txt' not found.\")\n",
    "        return None"
   ]
  },
  {
   "cell_type": "markdown",
   "metadata": {},
   "source": [
    "##### Test"
   ]
  },
  {
   "cell_type": "markdown",
   "metadata": {},
   "source": [
    "- Muestra la lista de palabras por pantalla."
   ]
  },
  {
   "cell_type": "code",
   "execution_count": 30,
   "metadata": {},
   "outputs": [
    {
     "name": "stdout",
     "output_type": "stream",
     "text": [
      "['MURCIELAGO', 'VIAJE', 'EVADIR', 'ZAPATO', 'CIELO', 'RECREO', 'PIZARRA', 'MATEMATICAS', 'PROGRAMACION', 'ORDENADOR']\n"
     ]
    }
   ],
   "source": [
    "print(read_words())"
   ]
  },
  {
   "cell_type": "markdown",
   "metadata": {},
   "source": [
    "### Adivinar letras"
   ]
  },
  {
   "cell_type": "markdown",
   "metadata": {},
   "source": [
    "`guess_word(word)`\n",
    "\n",
    "- Adivina las letras de cada palabra por fuerza bruta recorriendo el abecedario en orden.\n",
    "- Registra el número de intentos en `attempts`.\n",
    "- Si una letra se encuentra en la palabra se guarda en el set `guessed_letters`.\n",
    "- Si todas las letras se han adivinado devuelve el número de intentos."
   ]
  },
  {
   "cell_type": "code",
   "execution_count": null,
   "metadata": {},
   "outputs": [],
   "source": [
    "def guess_word(word):\n",
    "\n",
    "    guessed_letters = set()\n",
    "    alphabet = 'abcdefghijklmnñopqrstuvwxyz'\n",
    "    attempts = 0\n",
    "    \n",
    "    for letter in alphabet:\n",
    "        attempts += 1\n",
    "        if letter in word.lower():\n",
    "            guessed_letters.add(letter)\n",
    "        \n",
    "        if all(letter.lower() in guessed_letters for letter in word):\n",
    "            return attempts\n",
    "    \n",
    "    return attempts"
   ]
  },
  {
   "cell_type": "markdown",
   "metadata": {},
   "source": [
    "##### Test"
   ]
  },
  {
   "cell_type": "markdown",
   "metadata": {},
   "source": [
    "- Pasa 'hola' a `guess_word` y muestra los intentos necesarios."
   ]
  },
  {
   "cell_type": "code",
   "execution_count": 32,
   "metadata": {},
   "outputs": [
    {
     "name": "stdout",
     "output_type": "stream",
     "text": [
      "Test attempts for \"hola\": 16\n"
     ]
    }
   ],
   "source": [
    "test_attempts = guess_word('hola')\n",
    "print(f'Test attempts for \"hola\": {test_attempts}')"
   ]
  },
  {
   "cell_type": "markdown",
   "metadata": {},
   "source": [
    "### Main"
   ]
  },
  {
   "cell_type": "markdown",
   "metadata": {},
   "source": [
    "`main()`\n",
    "- Comprueba si el archivo fue pasado por parámetro.\n",
    "- Muestra el comando correcto y detiene la ejecución si no recibe parámetro.\n",
    "- Asigna el parámetro recibido a `words_file` y se lo pasa a `read_words`.\n",
    "- Pasa cada palabra de la lista a `guess_word` y muestra los intentos necesarios.\n",
    "- Registra y muestra el número total de intentos."
   ]
  },
  {
   "cell_type": "code",
   "execution_count": null,
   "metadata": {},
   "outputs": [],
   "source": [
    "def main():\n",
    "    \n",
    "    words = read_words()\n",
    "    total_attempts = 0\n",
    "    \n",
    "    print('')\n",
    "\n",
    "    for word in words:\n",
    "        attempts = guess_word(word)\n",
    "        print(f\"Word: {word} - Attempts needed: {attempts}\")\n",
    "        total_attempts += attempts\n",
    "\n",
    "    print(f\"\\nTotal attempts needed: {total_attempts}\\n\")"
   ]
  },
  {
   "cell_type": "markdown",
   "metadata": {},
   "source": [
    "##### Test"
   ]
  },
  {
   "cell_type": "markdown",
   "metadata": {},
   "source": [
    "- Ejecuta `main()`."
   ]
  },
  {
   "cell_type": "code",
   "execution_count": 34,
   "metadata": {},
   "outputs": [
    {
     "name": "stdout",
     "output_type": "stream",
     "text": [
      "\n",
      "Word: MURCIELAGO - Attempts needed: 22\n",
      "Word: VIAJE - Attempts needed: 23\n",
      "Word: EVADIR - Attempts needed: 23\n",
      "Word: ZAPATO - Attempts needed: 27\n",
      "Word: CIELO - Attempts needed: 16\n",
      "Word: RECREO - Attempts needed: 19\n",
      "Word: PIZARRA - Attempts needed: 27\n",
      "Word: MATEMATICAS - Attempts needed: 21\n",
      "Word: PROGRAMACION - Attempts needed: 19\n",
      "Word: ORDENADOR - Attempts needed: 19\n",
      "\n",
      "Total attempts needed: 216\n",
      "\n"
     ]
    }
   ],
   "source": [
    "main()"
   ]
  },
  {
   "cell_type": "markdown",
   "metadata": {},
   "source": [
    "### Ejecución"
   ]
  },
  {
   "cell_type": "code",
   "execution_count": 35,
   "metadata": {},
   "outputs": [
    {
     "name": "stdout",
     "output_type": "stream",
     "text": [
      "\n",
      "Word: MURCIELAGO - Attempts needed: 22\n",
      "Word: VIAJE - Attempts needed: 23\n",
      "Word: EVADIR - Attempts needed: 23\n",
      "Word: ZAPATO - Attempts needed: 27\n",
      "Word: CIELO - Attempts needed: 16\n",
      "Word: RECREO - Attempts needed: 19\n",
      "Word: PIZARRA - Attempts needed: 27\n",
      "Word: MATEMATICAS - Attempts needed: 21\n",
      "Word: PROGRAMACION - Attempts needed: 19\n",
      "Word: ORDENADOR - Attempts needed: 19\n",
      "\n",
      "Total attempts needed: 216\n",
      "\n"
     ]
    }
   ],
   "source": [
    "if __name__ == \"__main__\":\n",
    "    main()"
   ]
  }
 ],
 "metadata": {
  "kernelspec": {
   "display_name": ".venv",
   "language": "python",
   "name": "python3"
  },
  "language_info": {
   "codemirror_mode": {
    "name": "ipython",
    "version": 3
   },
   "file_extension": ".py",
   "mimetype": "text/x-python",
   "name": "python",
   "nbconvert_exporter": "python",
   "pygments_lexer": "ipython3",
   "version": "3.12.6"
  }
 },
 "nbformat": 4,
 "nbformat_minor": 2
}
