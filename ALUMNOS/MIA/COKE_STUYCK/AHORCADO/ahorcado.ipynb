{
 "cells": [
  {
   "cell_type": "markdown",
   "metadata": {},
   "source": [
    "# Ahorcado"
   ]
  },
  {
   "cell_type": "markdown",
   "metadata": {},
   "source": [
    "## Fase 1"
   ]
  },
  {
   "cell_type": "markdown",
   "metadata": {},
   "source": [
    "### Leer palabras"
   ]
  },
  {
   "cell_type": "markdown",
   "metadata": {},
   "source": [
    "`read-words()`\n",
    "\n",
    "- Lee palabras del archivo `palabras.txt` y las devuelve en una lista.\n",
    "- Cada palabra debe estar en una línea separada.\n",
    "- Si no encuentra el archivo devuelve un error `FileNotFoundError` y termina la ejecución."
   ]
  },
  {
   "cell_type": "code",
   "execution_count": 5,
   "metadata": {},
   "outputs": [],
   "source": [
    "def read_words():\n",
    "\n",
    "    try:\n",
    "        with open('palabras.txt', 'r') as f:\n",
    "            return [line.strip() for line in f if line.strip()]\n",
    "    except FileNotFoundError:\n",
    "        print(f\"Error: File 'palabras.txt' not found.\")\n",
    "        return None"
   ]
  },
  {
   "cell_type": "markdown",
   "metadata": {},
   "source": [
    "##### Test"
   ]
  },
  {
   "cell_type": "markdown",
   "metadata": {},
   "source": [
    "- Muestra la lista de palabras por pantalla."
   ]
  },
  {
   "cell_type": "code",
   "execution_count": 6,
   "metadata": {},
   "outputs": [
    {
     "name": "stdout",
     "output_type": "stream",
     "text": [
      "['MURCIELAGO', 'VIAJE', 'EVADIR', 'ZAPATO', 'CIELO', 'RECREO', 'PIZARRA', 'MATEMATICAS', 'PROGRAMACION', 'ORDENADOR']\n"
     ]
    }
   ],
   "source": [
    "print(read_words())"
   ]
  },
  {
   "cell_type": "markdown",
   "metadata": {},
   "source": [
    "### Adivinar letras"
   ]
  },
  {
   "cell_type": "markdown",
   "metadata": {},
   "source": [
    "`guess_word(word)`\n",
    "\n",
    "- Adivina las letras de cada palabra por fuerza bruta recorriendo el abecedario en orden.\n",
    "- Registra el número de intentos en `attempts`.\n",
    "- Si una letra se encuentra en la palabra se guarda en el set `guessed_letters`.\n",
    "- Si todas las letras se han adivinado devuelve el número de intentos."
   ]
  },
  {
   "cell_type": "code",
   "execution_count": 7,
   "metadata": {},
   "outputs": [],
   "source": [
    "def guess_word(word):\n",
    "\n",
    "    guessed_letters = set()\n",
    "    alphabet = 'abcdefghijklmnñopqrstuvwxyz'\n",
    "    attempts = 0\n",
    "    \n",
    "    for letter in alphabet:\n",
    "        attempts += 1\n",
    "        if letter in word.lower():\n",
    "            guessed_letters.add(letter)\n",
    "        \n",
    "        if all(letter.lower() in guessed_letters for letter in word):\n",
    "            return attempts\n",
    "    \n",
    "    return attempts"
   ]
  },
  {
   "cell_type": "markdown",
   "metadata": {},
   "source": [
    "##### Test"
   ]
  },
  {
   "cell_type": "markdown",
   "metadata": {},
   "source": [
    "- Pasa 'hola' a `guess_word` y muestra los intentos necesarios."
   ]
  },
  {
   "cell_type": "code",
   "execution_count": 8,
   "metadata": {},
   "outputs": [
    {
     "name": "stdout",
     "output_type": "stream",
     "text": [
      "Test attempts for \"hola\": 16\n"
     ]
    }
   ],
   "source": [
    "test_attempts = guess_word('hola')\n",
    "print(f'Test attempts for \"hola\": {test_attempts}')"
   ]
  },
  {
   "cell_type": "markdown",
   "metadata": {},
   "source": [
    "### Main"
   ]
  },
  {
   "cell_type": "markdown",
   "metadata": {},
   "source": [
    "`main()`\n",
    "- Comprueba si el archivo fue pasado por parámetro.\n",
    "- Muestra el comando correcto y detiene la ejecución si no recibe parámetro.\n",
    "- Asigna el parámetro recibido a `words_file` y se lo pasa a `read_words`.\n",
    "- Pasa cada palabra de la lista a `guess_word` y muestra los intentos necesarios.\n",
    "- Registra y muestra el número total de intentos."
   ]
  },
  {
   "cell_type": "code",
   "execution_count": 9,
   "metadata": {},
   "outputs": [],
   "source": [
    "def main():\n",
    "    \n",
    "    words = read_words()\n",
    "    total_attempts = 0\n",
    "    \n",
    "    print('')\n",
    "\n",
    "    for word in words:\n",
    "        attempts = guess_word(word)\n",
    "        print(f\"Word: {word} - Attempts needed: {attempts}\")\n",
    "        total_attempts += attempts\n",
    "\n",
    "    print(f\"\\nTotal attempts needed: {total_attempts}\\n\")"
   ]
  },
  {
   "cell_type": "markdown",
   "metadata": {},
   "source": [
    "##### Test"
   ]
  },
  {
   "cell_type": "markdown",
   "metadata": {},
   "source": [
    "- Ejecuta `main()`."
   ]
  },
  {
   "cell_type": "code",
   "execution_count": 10,
   "metadata": {},
   "outputs": [
    {
     "name": "stdout",
     "output_type": "stream",
     "text": [
      "\n",
      "Word: MURCIELAGO - Attempts needed: 22\n",
      "Word: VIAJE - Attempts needed: 23\n",
      "Word: EVADIR - Attempts needed: 23\n",
      "Word: ZAPATO - Attempts needed: 27\n",
      "Word: CIELO - Attempts needed: 16\n",
      "Word: RECREO - Attempts needed: 19\n",
      "Word: PIZARRA - Attempts needed: 27\n",
      "Word: MATEMATICAS - Attempts needed: 21\n",
      "Word: PROGRAMACION - Attempts needed: 19\n",
      "Word: ORDENADOR - Attempts needed: 19\n",
      "\n",
      "Total attempts needed: 216\n",
      "\n"
     ]
    }
   ],
   "source": [
    "main()"
   ]
  },
  {
   "cell_type": "markdown",
   "metadata": {},
   "source": [
    "### Ejecución"
   ]
  },
  {
   "cell_type": "code",
   "execution_count": 11,
   "metadata": {},
   "outputs": [
    {
     "name": "stdout",
     "output_type": "stream",
     "text": [
      "\n",
      "Word: MURCIELAGO - Attempts needed: 22\n",
      "Word: VIAJE - Attempts needed: 23\n",
      "Word: EVADIR - Attempts needed: 23\n",
      "Word: ZAPATO - Attempts needed: 27\n",
      "Word: CIELO - Attempts needed: 16\n",
      "Word: RECREO - Attempts needed: 19\n",
      "Word: PIZARRA - Attempts needed: 27\n",
      "Word: MATEMATICAS - Attempts needed: 21\n",
      "Word: PROGRAMACION - Attempts needed: 19\n",
      "Word: ORDENADOR - Attempts needed: 19\n",
      "\n",
      "Total attempts needed: 216\n",
      "\n"
     ]
    }
   ],
   "source": [
    "if __name__ == \"__main__\":\n",
    "    main()"
   ]
  },
  {
   "cell_type": "markdown",
   "metadata": {},
   "source": [
    "## Fase 2"
   ]
  },
  {
   "cell_type": "markdown",
   "metadata": {},
   "source": [
    "##### Importaciones"
   ]
  },
  {
   "cell_type": "markdown",
   "metadata": {},
   "source": [
    "`sys`\n",
    "- Para pasar argumentos por consola."
   ]
  },
  {
   "cell_type": "code",
   "execution_count": 12,
   "metadata": {},
   "outputs": [],
   "source": [
    "import sys"
   ]
  },
  {
   "cell_type": "markdown",
   "metadata": {},
   "source": [
    "### Leer palabras"
   ]
  },
  {
   "cell_type": "markdown",
   "metadata": {},
   "source": [
    "`read-words(file)`\n",
    "\n",
    "- Lee palabras de un archivo y las devuelve en un lista.\n",
    "- Cada palabra debe estar en una línea separada.\n",
    "- A `file` se le asigna desde `main()` el archivo pasado por parámetro.\n",
    "- Si no encuentra el archivo devuelve un error `FileNotFoundError` y termina la ejecución."
   ]
  },
  {
   "cell_type": "code",
   "execution_count": 13,
   "metadata": {},
   "outputs": [],
   "source": [
    "def read_words(file):\n",
    "    try:\n",
    "        with open(file, 'r') as f:\n",
    "            return [line.strip() for line in f if line.strip()]\n",
    "    except FileNotFoundError:\n",
    "        print(f\"Error: File '{file}' not found.\")\n",
    "        return None"
   ]
  },
  {
   "cell_type": "markdown",
   "metadata": {},
   "source": [
    "##### Test"
   ]
  },
  {
   "cell_type": "markdown",
   "metadata": {},
   "source": [
    "- Asigna el archivo `palabras.txt` explicitamente en vez de pasarlo por parámetro.\n",
    "- Muestra la lista de palabras."
   ]
  },
  {
   "cell_type": "code",
   "execution_count": 14,
   "metadata": {},
   "outputs": [
    {
     "name": "stdout",
     "output_type": "stream",
     "text": [
      "['MURCIELAGO', 'VIAJE', 'EVADIR', 'ZAPATO', 'CIELO', 'RECREO', 'PIZARRA', 'MATEMATICAS', 'PROGRAMACION', 'ORDENADOR']\n"
     ]
    }
   ],
   "source": [
    "words_file = 'palabras.txt'\n",
    "words = read_words(words_file)\n",
    "print(words)"
   ]
  },
  {
   "cell_type": "markdown",
   "metadata": {},
   "source": [
    "### Adivinar letras"
   ]
  },
  {
   "cell_type": "markdown",
   "metadata": {},
   "source": [
    "`guess_word_spanish(word)`\n",
    "\n",
    "- Adivina las letras de cada palabra por fuerza bruta recorriendo un abecedario optimizado por frecuencia.\n",
    "- Registra el número de intentos en `attempts`.\n",
    "- Si una letra se encuentra en la palabra se guarda en el set `guessed_letters`.\n",
    "- Si todas las letras se han adivinado devuelve el número de intentos."
   ]
  },
  {
   "cell_type": "code",
   "execution_count": 17,
   "metadata": {},
   "outputs": [],
   "source": [
    "def guess_word_spanish(word):\n",
    "\n",
    "    guessed_letters = set()\n",
    "    spanish_optimized_alphabet = \"aeirocmdnptlvugzsjbyqhfñxkw\"\n",
    "    attempts = 0\n",
    "\n",
    "    for letter in spanish_optimized_alphabet:\n",
    "        attempts += 1\n",
    "        if letter in word.lower():\n",
    "            guessed_letters.add(letter)\n",
    "        \n",
    "        if all(letter.lower() in guessed_letters for letter in word):\n",
    "            return attempts\n",
    "\n",
    "    return attempts"
   ]
  },
  {
   "cell_type": "markdown",
   "metadata": {},
   "source": [
    "##### Test"
   ]
  },
  {
   "cell_type": "markdown",
   "metadata": {},
   "source": [
    "- Registra y muestra el número de intentos para 'hola'."
   ]
  },
  {
   "cell_type": "code",
   "execution_count": 18,
   "metadata": {},
   "outputs": [
    {
     "name": "stdout",
     "output_type": "stream",
     "text": [
      "Test attempts for \"hola\": 22\n"
     ]
    }
   ],
   "source": [
    "test_attempts = guess_word_spanish('hola')\n",
    "print(f'Test attempts for \"hola\": {test_attempts}')"
   ]
  },
  {
   "cell_type": "markdown",
   "metadata": {},
   "source": [
    "### Main"
   ]
  },
  {
   "cell_type": "markdown",
   "metadata": {},
   "source": [
    "`main()`\n",
    "- Comprueba si el archivo fue pasado por parámetro.\n",
    "- Muestra el comando correcto y detiene la ejecución si no recibe parámetro.\n",
    "- Asigna el parámetro recibido a `words_file` y se lo pasa a `read_words`.\n",
    "- Pasa cada palabra de la lista a `guess_word_spanish` y muestra los intentos necesarios.\n",
    "- Registra y muestra el número total de intentos."
   ]
  },
  {
   "cell_type": "code",
   "execution_count": 19,
   "metadata": {},
   "outputs": [],
   "source": [
    "def main():\n",
    "    if len(sys.argv) != 2:\n",
    "        print(\"Usage: python3 ahorcado.py palabras.txt\")\n",
    "        return None\n",
    "    \n",
    "    words_file = sys.argv[1]\n",
    "    words = read_words(words_file)\n",
    "    total_attempts_optimized = 0\n",
    "    \n",
    "    print(\"\\nWith the optimized spanish alphabet:\\n\")\n",
    "    \n",
    "    for word in words:\n",
    "        attempts_optimized = guess_word_spanish(word)\n",
    "        print(f\"Word: {word} - Attempts needed: {attempts_optimized}\")\n",
    "        total_attempts_optimized += attempts_optimized\n",
    "\n",
    "    print(f\"\\nTotal attempts needed: {total_attempts_optimized}\\n\")\n",
    "    return total_attempts_optimized"
   ]
  },
  {
   "cell_type": "markdown",
   "metadata": {},
   "source": [
    "##### Test"
   ]
  },
  {
   "cell_type": "markdown",
   "metadata": {},
   "source": [
    "- Asigna el archivo `palabras.txt` explicitamente en vez de pasarlo por parámetro.\n",
    "- Muestra el número de intentos total."
   ]
  },
  {
   "cell_type": "code",
   "execution_count": 21,
   "metadata": {},
   "outputs": [
    {
     "name": "stdout",
     "output_type": "stream",
     "text": [
      "\n",
      "With the optimized spanish alphabet:\n",
      "\n",
      "Word: MURCIELAGO - Attempts needed: 15\n",
      "Word: VIAJE - Attempts needed: 18\n",
      "Word: EVADIR - Attempts needed: 13\n",
      "Word: ZAPATO - Attempts needed: 16\n",
      "Word: CIELO - Attempts needed: 12\n",
      "Word: RECREO - Attempts needed: 6\n",
      "Word: PIZARRA - Attempts needed: 16\n",
      "Word: MATEMATICAS - Attempts needed: 17\n",
      "Word: PROGRAMACION - Attempts needed: 15\n",
      "Word: ORDENADOR - Attempts needed: 9\n",
      "\n",
      "Total attempts needed: 137\n",
      "\n"
     ]
    }
   ],
   "source": [
    "words_file = 'palabras.txt'\n",
    "words = read_words(words_file)\n",
    "total_attempts_optimized = 0\n",
    "    \n",
    "print(\"\\nWith the optimized spanish alphabet:\\n\")\n",
    "\n",
    "for word in words:\n",
    "    attempts_optimized = guess_word_spanish(word)\n",
    "    print(f\"Word: {word} - Attempts needed: {attempts_optimized}\")\n",
    "    total_attempts_optimized += attempts_optimized\n",
    "\n",
    "print(f\"\\nTotal attempts needed: {total_attempts_optimized}\\n\")"
   ]
  },
  {
   "cell_type": "markdown",
   "metadata": {},
   "source": [
    "### Ejecución"
   ]
  },
  {
   "cell_type": "markdown",
   "metadata": {},
   "source": [
    "- Building the image:\n",
    "  \n",
    "`docker build -t ahorcado .`\n",
    "\n",
    "- Runing the image:\n",
    "  \n",
    "`docker run ahorcado`\n",
    "\n",
    "- Passing a parameter (with a volume):\n",
    "  \n",
    "`docker run -v $(pwd)/palabras.txt:/app/palabras.txt ahorcado palabras.txt`"
   ]
  },
  {
   "cell_type": "markdown",
   "metadata": {},
   "source": [
    "## Fase 3"
   ]
  },
  {
   "cell_type": "markdown",
   "metadata": {},
   "source": [
    "##### Importaciones"
   ]
  },
  {
   "cell_type": "markdown",
   "metadata": {},
   "source": [
    "`sys`\n",
    "- Para pasar argumentos por consola.\n",
    "  \n",
    "`pg8000`\n",
    "- Para establecer la conexión con la base de datos\n",
    "  \n",
    "`time`\n",
    "- Para las pausas entre intentos de conexión\n",
    "  \n",
    "`os`\n",
    "- Para acceder a variables de entorno"
   ]
  },
  {
   "cell_type": "code",
   "execution_count": 1,
   "metadata": {},
   "outputs": [],
   "source": [
    "import sys\n",
    "import pg8000\n",
    "import time\n",
    "import os"
   ]
  },
  {
   "cell_type": "markdown",
   "metadata": {},
   "source": [
    "### Leer palabras"
   ]
  },
  {
   "cell_type": "markdown",
   "metadata": {},
   "source": [
    "`read-words(file)`\n",
    "\n",
    "- Lee palabras de un archivo y las devuelve en un lista.\n",
    "- Cada palabra debe estar en una línea separada.\n",
    "- A `file` se le asigna desde `main()` el archivo pasado por parámetro.\n",
    "- Si no encuentra el archivo devuelve un error `FileNotFoundError` y termina la ejecución."
   ]
  },
  {
   "cell_type": "code",
   "execution_count": 2,
   "metadata": {},
   "outputs": [],
   "source": [
    "def read_words(file):\n",
    "    try:\n",
    "        with open(file, 'r') as f:\n",
    "            return [line.strip() for line in f if line.strip()]\n",
    "    except FileNotFoundError:\n",
    "        print(f\"Error: File '{file}' not found.\")\n",
    "        return None"
   ]
  },
  {
   "cell_type": "markdown",
   "metadata": {},
   "source": [
    "##### Test"
   ]
  },
  {
   "cell_type": "markdown",
   "metadata": {},
   "source": [
    "- Asigna el archivo `palabras.txt` explicitamente en vez de pasarlo por parámetro.\n",
    "- Muestra la lista de palabras."
   ]
  },
  {
   "cell_type": "code",
   "execution_count": 3,
   "metadata": {},
   "outputs": [
    {
     "name": "stdout",
     "output_type": "stream",
     "text": [
      "['MURCIELAGO', 'VIAJE', 'EVADIR', 'ZAPATO', 'CIELO', 'RECREO', 'PIZARRA', 'MATEMATICAS', 'PROGRAMACION', 'ORDENADOR']\n"
     ]
    }
   ],
   "source": [
    "words_file = 'palabras.txt'\n",
    "words = read_words(words_file)\n",
    "print(words)"
   ]
  },
  {
   "cell_type": "markdown",
   "metadata": {},
   "source": [
    "### Conectar con base de datos"
   ]
  },
  {
   "cell_type": "markdown",
   "metadata": {},
   "source": [
    "`connect_db()`\n",
    "\n",
    "- Conecta con la base de datos usando las variables de entorno DB_USER, DB_PASSWORD, DB_NAME, DB_HOST, and DB_PORT.\n",
    "- Si la conexión falla, cada 5 segundos intenta volver a conectar, hasta 5 veces.\n",
    "- Si todos los reintentos fallan devuelve un error.\n",
    "- Devuelve una conexión a la base de datos."
   ]
  },
  {
   "cell_type": "code",
   "execution_count": 7,
   "metadata": {},
   "outputs": [],
   "source": [
    "def connect_db():\n",
    "    max_retries = 5\n",
    "    retries = 0\n",
    "    while retries < max_retries:\n",
    "        try:\n",
    "            return pg8000.connect(\n",
    "                user=os.getenv('DB_USER', 'hangman'),\n",
    "                password=os.getenv('DB_PASSWORD', 'hangman'),\n",
    "                database=os.getenv('DB_NAME', 'hangman'),\n",
    "                host=os.getenv('DB_HOST', 'db'),\n",
    "                port=int(os.getenv('DB_PORT', 5432))\n",
    "            )\n",
    "        except Exception:\n",
    "            retries += 1\n",
    "            if retries < max_retries:\n",
    "                time.sleep(5)\n",
    "            else:\n",
    "                raise"
   ]
  },
  {
   "cell_type": "markdown",
   "metadata": {},
   "source": [
    "### Ejecutar consulta"
   ]
  },
  {
   "cell_type": "markdown",
   "metadata": {},
   "source": [
    "`execute_query(conn, query, params=None, max_retries=3)`\n",
    "\n",
    "- Ejecuta una consulta en la base de datos utilizando la conexión `conn`.\n",
    "- Si todos los reintentos de ejecución de la consulta fallan devuelve un error.\n",
    "- Devuelve `True`.\n"
   ]
  },
  {
   "cell_type": "code",
   "execution_count": 10,
   "metadata": {},
   "outputs": [],
   "source": [
    "def execute_query(conn, query, params=None, max_retries=3):\n",
    "    cursor = conn.cursor()\n",
    "    for _ in range(max_retries):\n",
    "        try:\n",
    "            if params:\n",
    "                cursor.execute(query, params)\n",
    "            else:\n",
    "                cursor.execute(query)\n",
    "            return True\n",
    "        except Exception:\n",
    "            continue\n",
    "    raise Exception(\"Query execution failed\")"
   ]
  },
  {
   "cell_type": "markdown",
   "metadata": {},
   "source": [
    "### Crear tabla"
   ]
  },
  {
   "cell_type": "markdown",
   "metadata": {},
   "source": [
    "`create_table(conn)`\n",
    "\n",
    "- Elimina la tabla 'attempts' si existe.\n",
    "- Crea una tabla 'attempts' con las columnas: id, palabra, letras_acertadas, letras_falladas, intentos y tiempo.\n",
    "- Hace comit tras crear la tabla.\n"
   ]
  },
  {
   "cell_type": "code",
   "execution_count": 12,
   "metadata": {},
   "outputs": [],
   "source": [
    "def create_table(conn):\n",
    "    execute_query(conn, \"DROP TABLE IF EXISTS attempts CASCADE\")\n",
    "    create_table_query = \"\"\"\n",
    "    CREATE TABLE attempts (\n",
    "        id SERIAL PRIMARY KEY,\n",
    "        palabra VARCHAR(255) NOT NULL,\n",
    "        letras_acertadas VARCHAR(255) NOT NULL,\n",
    "        letras_falladas VARCHAR(255) NOT NULL,\n",
    "        intentos INTEGER NOT NULL,\n",
    "        tiempo TIMESTAMP NOT NULL DEFAULT CURRENT_TIMESTAMP\n",
    "    )\n",
    "    \"\"\"\n",
    "    execute_query(conn, create_table_query)\n",
    "    conn.commit()"
   ]
  },
  {
   "cell_type": "markdown",
   "metadata": {},
   "source": [
    "### Registrar intento"
   ]
  },
  {
   "cell_type": "markdown",
   "metadata": {},
   "source": [
    "`log_attempt(conn, word, correct_letters, incorrect_letters, attempts)`\n",
    "\n",
    "- Ejecuta una consulta a través de la conexión `conn` pasando parámetros `word`, `correct_letters`, `incorrect_letters`, `attempts`.\n",
    "- Registra un intento en la tabla 'attempts' con palabra, letras_acertadas, letras_falladas, intentos, tiempo.\n",
    "- Hace comit tras crear el registro."
   ]
  },
  {
   "cell_type": "code",
   "execution_count": null,
   "metadata": {},
   "outputs": [],
   "source": [
    "def log_attempt(conn, word, correct_letters, incorrect_letters, attempts):\n",
    "    insert_query = \"\"\"\n",
    "    INSERT INTO attempts (palabra, letras_acertadas, letras_falladas, intentos, tiempo)\n",
    "    VALUES (%s, %s, %s, %s, CURRENT_TIMESTAMP)\n",
    "    \"\"\"\n",
    "    execute_query(conn, insert_query, params=(word, correct_letters, incorrect_letters, attempts))\n",
    "    conn.commit()"
   ]
  },
  {
   "cell_type": "markdown",
   "metadata": {},
   "source": [
    "### Adivinar letras"
   ]
  },
  {
   "cell_type": "markdown",
   "metadata": {},
   "source": [
    "`guess_word_spanish(conn, word)`\n",
    "\n",
    "- Adivina las letras de cada palabra por fuerza bruta recorriendo un abecedario optimizado por frecuencia.\n",
    "- Ejecuta una consulta a través de la conexión `conn` pasando parámetros `word`, `correct_letters`, `incorrect_letters`, `attempts`.\n",
    "- Registra el número de intentos en la tabla `attempts` en la base de datoss.\n",
    "- Si una letra se encuentra en la palabra se guarda en el set `guessed_letters`.\n",
    "- Si todas las letras se han adivinado devuelve el número de intentos."
   ]
  },
  {
   "cell_type": "code",
   "execution_count": 14,
   "metadata": {},
   "outputs": [],
   "source": [
    "def guess_word_spanish(word):\n",
    "\n",
    "    guessed_letters = set()\n",
    "    spanish_optimized_alphabet = \"aeirocmdnptlvugzsjbyqhfñxkw\"\n",
    "    attempts = 0\n",
    "\n",
    "    for letter in spanish_optimized_alphabet:\n",
    "        attempts += 1\n",
    "        if letter in word.lower():\n",
    "            guessed_letters.add(letter)\n",
    "        \n",
    "        if all(letter.lower() in guessed_letters for letter in word):\n",
    "            return attempts\n",
    "\n",
    "    return attempts"
   ]
  },
  {
   "cell_type": "markdown",
   "metadata": {},
   "source": [
    "### Main"
   ]
  },
  {
   "cell_type": "markdown",
   "metadata": {},
   "source": [
    "`main()`\n",
    "- Comprueba si el archivo fue pasado por parámetro.\n",
    "- Muestra el comando correcto y detiene la ejecución si no recibe parámetro.\n",
    "- Asigna el parámetro recibido a `words_file` y se lo pasa a `read_words`.\n",
    "- Conecta con base de datos.\n",
    "- Crea la tabla.\n",
    "- Pasa cada palabra de la lista a `guess_word_spanish` y muestra los intentos necesarios.\n",
    "- Registra y muestra el número total de intentos.\n",
    "- Cierra la conexión."
   ]
  },
  {
   "cell_type": "code",
   "execution_count": null,
   "metadata": {},
   "outputs": [],
   "source": [
    "def main():\n",
    "    if len(sys.argv) != 2:\n",
    "        print(\"Usage: python3 ahorcado.py palabras.txt\")\n",
    "        return None\n",
    "    \n",
    "    words_file = sys.argv[1]\n",
    "    words = read_words(words_file)\n",
    "    total_attempts_optimized = 0\n",
    "    \n",
    "    print(\"\\nWith the optimized spanish alphabet:\\n\")\n",
    "    \n",
    "    for word in words:\n",
    "        attempts_optimized = guess_word_spanish(word)\n",
    "        print(f\"Word: {word} - Attempts needed: {attempts_optimized}\")\n",
    "        total_attempts_optimized += attempts_optimized\n",
    "\n",
    "    print(f\"\\nTotal attempts needed: {total_attempts_optimized}\\n\")\n",
    "    return total_attempts_optimized"
   ]
  },
  {
   "cell_type": "code",
   "execution_count": null,
   "metadata": {},
   "outputs": [],
   "source": []
  },
  {
   "cell_type": "markdown",
   "metadata": {},
   "source": [
    "### Ejecución"
   ]
  },
  {
   "cell_type": "markdown",
   "metadata": {},
   "source": [
    "- Start services\n",
    "\n",
    "`docker-compose up`\n",
    "\n",
    "- Run the app passing 'palabras.txt' as a parameter\n",
    "\n",
    "`docker-compose run app palabras.txt`\n",
    "\n",
    "- Enter the database\n",
    "\n",
    "`docker-compose exec db psql -U hangman hangman`\n",
    "\n",
    "- Querie example\n",
    "\n",
    "`SELECT \n",
    "  palabra,\n",
    "  COUNT(*) as attempts\n",
    "FROM attempts \n",
    "GROUP BY palabra\n",
    "ORDER BY attempts DESC;`"
   ]
  }
 ],
 "metadata": {
  "kernelspec": {
   "display_name": ".venv",
   "language": "python",
   "name": "python3"
  },
  "language_info": {
   "codemirror_mode": {
    "name": "ipython",
    "version": 3
   },
   "file_extension": ".py",
   "mimetype": "text/x-python",
   "name": "python",
   "nbconvert_exporter": "python",
   "pygments_lexer": "ipython3",
   "version": "3.10.14"
  }
 },
 "nbformat": 4,
 "nbformat_minor": 2
}
