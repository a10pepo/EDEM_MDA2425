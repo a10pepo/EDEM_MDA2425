{
 "cells": [
  {
   "cell_type": "markdown",
   "metadata": {},
   "source": [
    "# Ahorcado"
   ]
  },
  {
   "cell_type": "markdown",
   "metadata": {},
   "source": [
    "## Fase 1"
   ]
  },
  {
   "cell_type": "markdown",
   "metadata": {},
   "source": [
    "### Leer palabras"
   ]
  },
  {
   "cell_type": "markdown",
   "metadata": {},
   "source": [
    "`read-words()`\n",
    "\n",
    "- Lee palabras del archivo `palabras.txt` y las devuelve en una lista.\n",
    "- Cada palabra debe estar en una línea separada.\n",
    "- Si no encuentra el archivo devuelve un error `FileNotFoundError` y termina la ejecución."
   ]
  },
  {
   "cell_type": "code",
   "execution_count": 5,
   "metadata": {},
   "outputs": [],
   "source": [
    "def read_words():\n",
    "\n",
    "    try:\n",
    "        with open('palabras.txt', 'r') as f:\n",
    "            return [line.strip() for line in f if line.strip()]\n",
    "    except FileNotFoundError:\n",
    "        print(f\"Error: File 'palabras.txt' not found.\")\n",
    "        return None"
   ]
  },
  {
   "cell_type": "markdown",
   "metadata": {},
   "source": [
    "##### Test"
   ]
  },
  {
   "cell_type": "markdown",
   "metadata": {},
   "source": [
    "- Muestra la lista de palabras por pantalla."
   ]
  },
  {
   "cell_type": "code",
   "execution_count": 6,
   "metadata": {},
   "outputs": [
    {
     "name": "stdout",
     "output_type": "stream",
     "text": [
      "['MURCIELAGO', 'VIAJE', 'EVADIR', 'ZAPATO', 'CIELO', 'RECREO', 'PIZARRA', 'MATEMATICAS', 'PROGRAMACION', 'ORDENADOR']\n"
     ]
    }
   ],
   "source": [
    "print(read_words())"
   ]
  },
  {
   "cell_type": "markdown",
   "metadata": {},
   "source": [
    "### Adivinar letras"
   ]
  },
  {
   "cell_type": "markdown",
   "metadata": {},
   "source": [
    "`guess_word(word)`\n",
    "\n",
    "- Adivina las letras de cada palabra por fuerza bruta recorriendo el abecedario en orden.\n",
    "- Registra el número de intentos en `attempts`.\n",
    "- Si una letra se encuentra en la palabra se guarda en el set `guessed_letters`.\n",
    "- Si todas las letras se han adivinado devuelve el número de intentos."
   ]
  },
  {
   "cell_type": "code",
   "execution_count": 7,
   "metadata": {},
   "outputs": [],
   "source": [
    "def guess_word(word):\n",
    "\n",
    "    guessed_letters = set()\n",
    "    alphabet = 'abcdefghijklmnñopqrstuvwxyz'\n",
    "    attempts = 0\n",
    "    \n",
    "    for letter in alphabet:\n",
    "        attempts += 1\n",
    "        if letter in word.lower():\n",
    "            guessed_letters.add(letter)\n",
    "        \n",
    "        if all(letter.lower() in guessed_letters for letter in word):\n",
    "            return attempts\n",
    "    \n",
    "    return attempts"
   ]
  },
  {
   "cell_type": "markdown",
   "metadata": {},
   "source": [
    "##### Test"
   ]
  },
  {
   "cell_type": "markdown",
   "metadata": {},
   "source": [
    "- Pasa 'hola' a `guess_word` y muestra los intentos necesarios."
   ]
  },
  {
   "cell_type": "code",
   "execution_count": 8,
   "metadata": {},
   "outputs": [
    {
     "name": "stdout",
     "output_type": "stream",
     "text": [
      "Test attempts for \"hola\": 16\n"
     ]
    }
   ],
   "source": [
    "test_attempts = guess_word('hola')\n",
    "print(f'Test attempts for \"hola\": {test_attempts}')"
   ]
  },
  {
   "cell_type": "markdown",
   "metadata": {},
   "source": [
    "### Main"
   ]
  },
  {
   "cell_type": "markdown",
   "metadata": {},
   "source": [
    "`main()`\n",
    "- Comprueba si el archivo fue pasado por parámetro.\n",
    "- Muestra el comando correcto y detiene la ejecución si no recibe parámetro.\n",
    "- Asigna el parámetro recibido a `words_file` y se lo pasa a `read_words`.\n",
    "- Pasa cada palabra de la lista a `guess_word` y muestra los intentos necesarios.\n",
    "- Registra y muestra el número total de intentos."
   ]
  },
  {
   "cell_type": "code",
   "execution_count": 9,
   "metadata": {},
   "outputs": [],
   "source": [
    "def main():\n",
    "    \n",
    "    words = read_words()\n",
    "    total_attempts = 0\n",
    "    \n",
    "    print('')\n",
    "\n",
    "    for word in words:\n",
    "        attempts = guess_word(word)\n",
    "        print(f\"Word: {word} - Attempts needed: {attempts}\")\n",
    "        total_attempts += attempts\n",
    "\n",
    "    print(f\"\\nTotal attempts needed: {total_attempts}\\n\")"
   ]
  },
  {
   "cell_type": "markdown",
   "metadata": {},
   "source": [
    "##### Test"
   ]
  },
  {
   "cell_type": "markdown",
   "metadata": {},
   "source": [
    "- Ejecuta `main()`."
   ]
  },
  {
   "cell_type": "code",
   "execution_count": 10,
   "metadata": {},
   "outputs": [
    {
     "name": "stdout",
     "output_type": "stream",
     "text": [
      "\n",
      "Word: MURCIELAGO - Attempts needed: 22\n",
      "Word: VIAJE - Attempts needed: 23\n",
      "Word: EVADIR - Attempts needed: 23\n",
      "Word: ZAPATO - Attempts needed: 27\n",
      "Word: CIELO - Attempts needed: 16\n",
      "Word: RECREO - Attempts needed: 19\n",
      "Word: PIZARRA - Attempts needed: 27\n",
      "Word: MATEMATICAS - Attempts needed: 21\n",
      "Word: PROGRAMACION - Attempts needed: 19\n",
      "Word: ORDENADOR - Attempts needed: 19\n",
      "\n",
      "Total attempts needed: 216\n",
      "\n"
     ]
    }
   ],
   "source": [
    "main()"
   ]
  },
  {
   "cell_type": "markdown",
   "metadata": {},
   "source": [
    "### Ejecución"
   ]
  },
  {
   "cell_type": "code",
   "execution_count": 11,
   "metadata": {},
   "outputs": [
    {
     "name": "stdout",
     "output_type": "stream",
     "text": [
      "\n",
      "Word: MURCIELAGO - Attempts needed: 22\n",
      "Word: VIAJE - Attempts needed: 23\n",
      "Word: EVADIR - Attempts needed: 23\n",
      "Word: ZAPATO - Attempts needed: 27\n",
      "Word: CIELO - Attempts needed: 16\n",
      "Word: RECREO - Attempts needed: 19\n",
      "Word: PIZARRA - Attempts needed: 27\n",
      "Word: MATEMATICAS - Attempts needed: 21\n",
      "Word: PROGRAMACION - Attempts needed: 19\n",
      "Word: ORDENADOR - Attempts needed: 19\n",
      "\n",
      "Total attempts needed: 216\n",
      "\n"
     ]
    }
   ],
   "source": [
    "if __name__ == \"__main__\":\n",
    "    main()"
   ]
  },
  {
   "cell_type": "markdown",
   "metadata": {},
   "source": [
    "## Fase 2"
   ]
  },
  {
   "cell_type": "markdown",
   "metadata": {},
   "source": [
    "##### Importaciones"
   ]
  },
  {
   "cell_type": "markdown",
   "metadata": {},
   "source": [
    "`sys`\n",
    "- Para pasar argumentos por consola."
   ]
  },
  {
   "cell_type": "code",
   "execution_count": 12,
   "metadata": {},
   "outputs": [],
   "source": [
    "import sys"
   ]
  },
  {
   "cell_type": "markdown",
   "metadata": {},
   "source": [
    "### Leer palabras"
   ]
  },
  {
   "cell_type": "markdown",
   "metadata": {},
   "source": [
    "`read-words(file)`\n",
    "\n",
    "- Lee palabras de un archivo y las devuelve en un lista.\n",
    "- Cada palabra debe estar en una línea separada.\n",
    "- A `file` se le asigna desde `main()` el archivo pasado por parámetro.\n",
    "- Si no encuentra el archivo devuelve un error `FileNotFoundError` y termina la ejecución."
   ]
  },
  {
   "cell_type": "code",
   "execution_count": 13,
   "metadata": {},
   "outputs": [],
   "source": [
    "def read_words(file):\n",
    "    try:\n",
    "        with open(file, 'r') as f:\n",
    "            return [line.strip() for line in f if line.strip()]\n",
    "    except FileNotFoundError:\n",
    "        print(f\"Error: File '{file}' not found.\")\n",
    "        return None"
   ]
  },
  {
   "cell_type": "markdown",
   "metadata": {},
   "source": [
    "##### Test"
   ]
  },
  {
   "cell_type": "markdown",
   "metadata": {},
   "source": [
    "- Asigna el archivo `palabras.txt` explicitamente en vez de pasarlo por parámetro.\n",
    "- Muestra la lista de palabras."
   ]
  },
  {
   "cell_type": "code",
   "execution_count": 14,
   "metadata": {},
   "outputs": [
    {
     "name": "stdout",
     "output_type": "stream",
     "text": [
      "['MURCIELAGO', 'VIAJE', 'EVADIR', 'ZAPATO', 'CIELO', 'RECREO', 'PIZARRA', 'MATEMATICAS', 'PROGRAMACION', 'ORDENADOR']\n"
     ]
    }
   ],
   "source": [
    "words_file = 'palabras.txt'\n",
    "words = read_words(words_file)\n",
    "print(words)"
   ]
  },
  {
   "cell_type": "markdown",
   "metadata": {},
   "source": [
    "### Adivinar letras"
   ]
  },
  {
   "cell_type": "markdown",
   "metadata": {},
   "source": [
    "`def guess_word_spanish(word)`\n",
    "\n",
    "- Adivina las letras de cada palabra por fuerza bruta recorriendo un abecedario optimizado por frecuencia.\n",
    "- Registra el número de intentos en `attempts`.\n",
    "- Si una letra se encuentra en la palabra se guarda en el set `guessed_letters`.\n",
    "- Si todas las letras se han adivinado devuelve el número de intentos."
   ]
  },
  {
   "cell_type": "code",
   "execution_count": 17,
   "metadata": {},
   "outputs": [],
   "source": [
    "def guess_word_spanish(word):\n",
    "\n",
    "    guessed_letters = set()\n",
    "    spanish_optimized_alphabet = \"aeirocmdnptlvugzsjbyqhfñxkw\"\n",
    "    attempts = 0\n",
    "\n",
    "    for letter in spanish_optimized_alphabet:\n",
    "        attempts += 1\n",
    "        if letter in word.lower():\n",
    "            guessed_letters.add(letter)\n",
    "        \n",
    "        if all(letter.lower() in guessed_letters for letter in word):\n",
    "            return attempts\n",
    "\n",
    "    return attempts"
   ]
  },
  {
   "cell_type": "markdown",
   "metadata": {},
   "source": [
    "##### Test"
   ]
  },
  {
   "cell_type": "markdown",
   "metadata": {},
   "source": [
    "- Registra y muestra el número de intentos para 'hola'."
   ]
  },
  {
   "cell_type": "code",
   "execution_count": 18,
   "metadata": {},
   "outputs": [
    {
     "name": "stdout",
     "output_type": "stream",
     "text": [
      "Test attempts for \"hola\": 22\n"
     ]
    }
   ],
   "source": [
    "test_attempts = guess_word_spanish('hola')\n",
    "print(f'Test attempts for \"hola\": {test_attempts}')"
   ]
  },
  {
   "cell_type": "markdown",
   "metadata": {},
   "source": [
    "### Main"
   ]
  },
  {
   "cell_type": "markdown",
   "metadata": {},
   "source": [
    "`main()`\n",
    "- Comprueba si el archivo fue pasado por parámetro.\n",
    "- Muestra el comando correcto y detiene la ejecución si no recibe parámetro.\n",
    "- Asigna el parámetro recibido a `words_file` y se lo pasa a `read_words`.\n",
    "- Pasa cada palabra de la lista a `guess_word_spanish` y muestra los intentos necesarios.\n",
    "- Registra y muestra el número total de intentos."
   ]
  },
  {
   "cell_type": "code",
   "execution_count": 19,
   "metadata": {},
   "outputs": [],
   "source": [
    "def main():\n",
    "    if len(sys.argv) != 2:\n",
    "        print(\"Usage: python3 ahorcado.py palabras.txt\")\n",
    "        return None\n",
    "    \n",
    "    words_file = sys.argv[1]\n",
    "    words = read_words(words_file)\n",
    "    total_attempts_optimized = 0\n",
    "    \n",
    "    print(\"\\nWith the optimized spanish alphabet:\\n\")\n",
    "    \n",
    "    for word in words:\n",
    "        attempts_optimized = guess_word_spanish(word)\n",
    "        print(f\"Word: {word} - Attempts needed: {attempts_optimized}\")\n",
    "        total_attempts_optimized += attempts_optimized\n",
    "\n",
    "    print(f\"\\nTotal attempts needed: {total_attempts_optimized}\\n\")\n",
    "    return total_attempts_optimized"
   ]
  },
  {
   "cell_type": "markdown",
   "metadata": {},
   "source": [
    "##### Test"
   ]
  },
  {
   "cell_type": "markdown",
   "metadata": {},
   "source": [
    "- Asigna el archivo `palabras.txt` explicitamente en vez de pasarlo por parámetro.\n",
    "- Muestra el número de intentos total."
   ]
  },
  {
   "cell_type": "code",
   "execution_count": 21,
   "metadata": {},
   "outputs": [
    {
     "name": "stdout",
     "output_type": "stream",
     "text": [
      "\n",
      "With the optimized spanish alphabet:\n",
      "\n",
      "Word: MURCIELAGO - Attempts needed: 15\n",
      "Word: VIAJE - Attempts needed: 18\n",
      "Word: EVADIR - Attempts needed: 13\n",
      "Word: ZAPATO - Attempts needed: 16\n",
      "Word: CIELO - Attempts needed: 12\n",
      "Word: RECREO - Attempts needed: 6\n",
      "Word: PIZARRA - Attempts needed: 16\n",
      "Word: MATEMATICAS - Attempts needed: 17\n",
      "Word: PROGRAMACION - Attempts needed: 15\n",
      "Word: ORDENADOR - Attempts needed: 9\n",
      "\n",
      "Total attempts needed: 137\n",
      "\n"
     ]
    }
   ],
   "source": [
    "words_file = 'palabras.txt'\n",
    "words = read_words(words_file)\n",
    "total_attempts_optimized = 0\n",
    "    \n",
    "print(\"\\nWith the optimized spanish alphabet:\\n\")\n",
    "\n",
    "for word in words:\n",
    "    attempts_optimized = guess_word_spanish(word)\n",
    "    print(f\"Word: {word} - Attempts needed: {attempts_optimized}\")\n",
    "    total_attempts_optimized += attempts_optimized\n",
    "\n",
    "print(f\"\\nTotal attempts needed: {total_attempts_optimized}\\n\")"
   ]
  },
  {
   "cell_type": "markdown",
   "metadata": {},
   "source": [
    "### Ejecución"
   ]
  },
  {
   "cell_type": "markdown",
   "metadata": {},
   "source": [
    "- Building the image:\n",
    "  \n",
    "`docker build -t ahorcado .`\n",
    "\n",
    "- Runing the image:\n",
    "  \n",
    "`docker run ahorcado`\n",
    "\n",
    "- Passing a parameter (with a volume):\n",
    "  \n",
    "`docker run -v $(pwd)/palabras.txt:/app/palabras.txt ahorcado palabras.txt`"
   ]
  },
  {
   "cell_type": "markdown",
   "metadata": {},
   "source": [
    "## Fase 3"
   ]
  }
 ],
 "metadata": {
  "kernelspec": {
   "display_name": ".venv",
   "language": "python",
   "name": "python3"
  },
  "language_info": {
   "codemirror_mode": {
    "name": "ipython",
    "version": 3
   },
   "file_extension": ".py",
   "mimetype": "text/x-python",
   "name": "python",
   "nbconvert_exporter": "python",
   "pygments_lexer": "ipython3",
   "version": "3.12.6"
  }
 },
 "nbformat": 4,
 "nbformat_minor": 2
}
