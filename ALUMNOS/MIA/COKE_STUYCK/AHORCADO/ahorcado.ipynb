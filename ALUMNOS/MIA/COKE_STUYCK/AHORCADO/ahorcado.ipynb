{
 "cells": [
  {
   "cell_type": "markdown",
   "metadata": {},
   "source": [
    "# Ahorcado"
   ]
  },
  {
   "cell_type": "markdown",
   "metadata": {},
   "source": [
    "## Fase 1"
   ]
  },
  {
   "cell_type": "markdown",
   "metadata": {},
   "source": [
    "### Leer palabras"
   ]
  },
  {
   "cell_type": "markdown",
   "metadata": {},
   "source": [
    "`read-words()`\n",
    "\n",
    "- Lee palabras del archivo `palabras.txt` y las devuelve en una lista.\n",
    "- Cada palabra debe estar en una línea separada.\n",
    "- Si no encuentra el archivo devuelve un error `FileNotFoundError` y termina la ejecución."
   ]
  },
  {
   "cell_type": "code",
   "execution_count": null,
   "metadata": {},
   "outputs": [],
   "source": [
    "def read_words():\n",
    "\n",
    "    try:\n",
    "        with open('palabras.txt', 'r') as f:\n",
    "            return [line.strip() for line in f if line.strip()]\n",
    "    except FileNotFoundError:\n",
    "        print(f\"Error: File 'palabras.txt' not found.\")\n",
    "        return None"
   ]
  },
  {
   "cell_type": "markdown",
   "metadata": {},
   "source": [
    "##### Test"
   ]
  },
  {
   "cell_type": "markdown",
   "metadata": {},
   "source": [
    "- Muestra la lista de palabras por pantalla."
   ]
  },
  {
   "cell_type": "code",
   "execution_count": null,
   "metadata": {},
   "outputs": [],
   "source": [
    "print(read_words())"
   ]
  },
  {
   "cell_type": "markdown",
   "metadata": {},
   "source": [
    "### Adivinar letras"
   ]
  },
  {
   "cell_type": "markdown",
   "metadata": {},
   "source": [
    "`guess_word(word)`\n",
    "\n",
    "- Adivina las letras de cada palabra por fuerza bruta recorriendo el abecedario en orden.\n",
    "- Registra el número de intentos en `attempts`.\n",
    "- Si una letra se encuentra en la palabra se guarda en el set `guessed_letters`.\n",
    "- Si todas las letras se han adivinado devuelve el número de intentos."
   ]
  },
  {
   "cell_type": "code",
   "execution_count": null,
   "metadata": {},
   "outputs": [],
   "source": [
    "def guess_word(word):\n",
    "\n",
    "    guessed_letters = set()\n",
    "    alphabet = 'abcdefghijklmnñopqrstuvwxyz'\n",
    "    attempts = 0\n",
    "    \n",
    "    for letter in alphabet:\n",
    "        attempts += 1\n",
    "        if letter in word.lower():\n",
    "            guessed_letters.add(letter)\n",
    "        \n",
    "        if all(letter.lower() in guessed_letters for letter in word):\n",
    "            return attempts\n",
    "    \n",
    "    return attempts"
   ]
  },
  {
   "cell_type": "markdown",
   "metadata": {},
   "source": [
    "##### Test"
   ]
  },
  {
   "cell_type": "markdown",
   "metadata": {},
   "source": [
    "- Pasa 'hola' a `guess_word` y muestra los intentos necesarios."
   ]
  },
  {
   "cell_type": "code",
   "execution_count": null,
   "metadata": {},
   "outputs": [],
   "source": [
    "test_attempts = guess_word('hola')\n",
    "print(f'Test attempts for \"hola\": {test_attempts}')"
   ]
  },
  {
   "cell_type": "markdown",
   "metadata": {},
   "source": [
    "### Main"
   ]
  },
  {
   "cell_type": "markdown",
   "metadata": {},
   "source": [
    "`main()`\n",
    "- Comprueba si el archivo fue pasado por parámetro.\n",
    "- Muestra el comando correcto y detiene la ejecución si no recibe parámetro.\n",
    "- Asigna el parámetro recibido a `words_file` y se lo pasa a `read_words`.\n",
    "- Pasa cada palabra de la lista a `guess_word` y muestra los intentos necesarios.\n",
    "- Registra y muestra el número total de intentos."
   ]
  },
  {
   "cell_type": "code",
   "execution_count": null,
   "metadata": {},
   "outputs": [],
   "source": [
    "def main():\n",
    "    \n",
    "    words = read_words()\n",
    "    total_attempts = 0\n",
    "    \n",
    "    print('')\n",
    "\n",
    "    for word in words:\n",
    "        attempts = guess_word(word)\n",
    "        print(f\"Word: {word} - Attempts needed: {attempts}\")\n",
    "        total_attempts += attempts\n",
    "\n",
    "    print(f\"\\nTotal attempts needed: {total_attempts}\\n\")"
   ]
  },
  {
   "cell_type": "markdown",
   "metadata": {},
   "source": [
    "##### Test"
   ]
  },
  {
   "cell_type": "markdown",
   "metadata": {},
   "source": [
    "- Ejecuta `main()`."
   ]
  },
  {
   "cell_type": "code",
   "execution_count": null,
   "metadata": {},
   "outputs": [],
   "source": [
    "main()"
   ]
  },
  {
   "cell_type": "markdown",
   "metadata": {},
   "source": [
    "### Ejecución"
   ]
  },
  {
   "cell_type": "code",
   "execution_count": null,
   "metadata": {},
   "outputs": [],
   "source": [
    "if __name__ == \"__main__\":\n",
    "    main()"
   ]
  },
  {
   "cell_type": "markdown",
   "metadata": {},
   "source": [
    "## Fase 2"
   ]
  },
  {
   "cell_type": "markdown",
   "metadata": {},
   "source": [
    "##### Importaciones"
   ]
  },
  {
   "cell_type": "markdown",
   "metadata": {},
   "source": [
    "`sys`\n",
    "- Para pasar argumentos por consola.\n",
    "- Para controlar el flujo del programa.\n",
    "\n",
    "`string`\n",
    "- Para convertir a string el abecedario ascii."
   ]
  },
  {
   "cell_type": "code",
   "execution_count": null,
   "metadata": {},
   "outputs": [],
   "source": [
    "import sys\n",
    "import string"
   ]
  },
  {
   "cell_type": "markdown",
   "metadata": {},
   "source": [
    "### Leer palabras"
   ]
  },
  {
   "cell_type": "markdown",
   "metadata": {},
   "source": [
    "`read-words(file)`\n",
    "\n",
    "- Lee palabras de un archivo y las devuelve en un lista.\n",
    "- Cada palabra debe estar en una línea separada.\n",
    "- A `file` se le asigna desde `main()` el archivo pasado por parámetro.\n",
    "- Si no encuentra el archivo devuelve un error `FileNotFoundError` y termina la ejecución."
   ]
  },
  {
   "cell_type": "code",
   "execution_count": null,
   "metadata": {},
   "outputs": [],
   "source": [
    "def read_words(file):\n",
    "    try:\n",
    "        with open(file, 'r') as f:\n",
    "            words = [line.strip() for line in f if line.strip()]\n",
    "        return words\n",
    "    except FileNotFoundError:\n",
    "        print(f\"Error: File '{file}' not found.\")\n",
    "        sys.exit(1)"
   ]
  },
  {
   "cell_type": "markdown",
   "metadata": {},
   "source": [
    "##### Test"
   ]
  },
  {
   "cell_type": "markdown",
   "metadata": {},
   "source": [
    "- Asigna el archivo `palabras.txt` explicitamente en vez de pasarlo por parámetro.\n",
    "- Muestra la lista de palabras por pantalla."
   ]
  },
  {
   "cell_type": "code",
   "execution_count": null,
   "metadata": {},
   "outputs": [
    {
     "name": "stdout",
     "output_type": "stream",
     "text": [
      "['MURCIELAGO', 'VIAJE', 'EVADIR', 'ZAPATO', 'CIELO', 'RECREO', 'PIZARRA', 'MATEMATICAS', 'PROGRAMACION', 'ORDENADOR']\n"
     ]
    }
   ],
   "source": [
    "words_file = 'palabras.txt'\n",
    "words = read_words(words_file)\n",
    "print(words)"
   ]
  },
  {
   "cell_type": "markdown",
   "metadata": {},
   "source": [
    "### Adivinar letras"
   ]
  },
  {
   "cell_type": "markdown",
   "metadata": {},
   "source": [
    "`guess_word(word)`\n",
    "\n",
    "- Adivina las letras de cada palabra por fuerza bruta recorriendo el abecedario en orden.\n",
    "- Registra el número de intentos en `attempts`.\n",
    "- Si una letra se encuentra en la palabra se guarda en el set `guessed_letters`.\n",
    "- Si todas las letras se han adivinado devuelve el número de intentos."
   ]
  },
  {
   "cell_type": "code",
   "execution_count": null,
   "metadata": {},
   "outputs": [],
   "source": [
    "def guess_word(word):\n",
    "\n",
    "    guessed_letters = set()\n",
    "    attempts = 0\n",
    "\n",
    "    alphabet = string.ascii_lowercase\n",
    "    \n",
    "    for letter in alphabet:\n",
    "        attempts += 1\n",
    "        if letter in word.lower():\n",
    "            guessed_letters.add(letter)\n",
    "        \n",
    "        if all(letter.lower() in guessed_letters for letter in word):\n",
    "            return attempts\n",
    "    \n",
    "    return attempts"
   ]
  },
  {
   "cell_type": "markdown",
   "metadata": {},
   "source": [
    "##### Test"
   ]
  },
  {
   "cell_type": "markdown",
   "metadata": {},
   "source": [
    "- Asigna el archivo `palabras.txt` explicitamente en vez de pasarlo por parámetro.\n",
    "- Muestra la lista de palabras por pantalla."
   ]
  },
  {
   "cell_type": "code",
   "execution_count": null,
   "metadata": {},
   "outputs": [
    {
     "name": "stdout",
     "output_type": "stream",
     "text": [
      "Test attempts for \"hola\": 15\n"
     ]
    }
   ],
   "source": [
    "test_attempts = guess_word('hola')\n",
    "print(f'Test attempts for \"hola\": {test_attempts}')"
   ]
  },
  {
   "cell_type": "markdown",
   "metadata": {},
   "source": [
    "### Main"
   ]
  },
  {
   "cell_type": "markdown",
   "metadata": {},
   "source": [
    "`main()`\n",
    "- Comprueba si el archivo fue pasado por parámetro.\n",
    "- Muestra el comando correcto y detiene la ejecución si no recibe parámetro.\n",
    "- Asigna el parámetro recibido a `words_file` y se lo pasa a `read_words`.\n",
    "- Pasa cada palabra de la lista a `guess_word` y muestra los intentos necesarios.\n",
    "- Registra y muestra el número total de intentos."
   ]
  },
  {
   "cell_type": "code",
   "execution_count": 21,
   "metadata": {},
   "outputs": [],
   "source": [
    "def main():\n",
    "    if len(sys.argv) != 2:\n",
    "        print(\"Usage: python3 ahorcado.py palabras.txt\")\n",
    "        sys.exit(1)\n",
    "    \n",
    "    words_file = sys.argv[1]\n",
    "    words = read_words(words_file)\n",
    "    print('')\n",
    "\n",
    "    total_attempts = 0\n",
    "    for word in words:\n",
    "        attempts = guess_word(word)\n",
    "        print(f\"Word: {word} - Attempts needed: {attempts}\")\n",
    "        total_attempts += attempts\n",
    "\n",
    "    print(f\"\\nTotal attempts needed: {total_attempts}\\n\")"
   ]
  },
  {
   "cell_type": "markdown",
   "metadata": {},
   "source": [
    "##### Test"
   ]
  },
  {
   "cell_type": "code",
   "execution_count": null,
   "metadata": {},
   "outputs": [],
   "source": []
  }
 ],
 "metadata": {
  "kernelspec": {
   "display_name": ".venv",
   "language": "python",
   "name": "python3"
  },
  "language_info": {
   "codemirror_mode": {
    "name": "ipython",
    "version": 3
   },
   "file_extension": ".py",
   "mimetype": "text/x-python",
   "name": "python",
   "nbconvert_exporter": "python",
   "pygments_lexer": "ipython3",
   "version": "3.12.6"
  }
 },
 "nbformat": 4,
 "nbformat_minor": 2
}
