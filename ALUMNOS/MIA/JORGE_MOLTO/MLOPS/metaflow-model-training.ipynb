{
 "cells": [
  {
   "attachments": {},
   "cell_type": "markdown",
   "metadata": {},
   "source": [
    "# Pipelines: Metaflow model training"
   ]
  },
  {
   "attachments": {},
   "cell_type": "markdown",
   "metadata": {},
   "source": [
    "##  Install dependencies"
   ]
  },
  {
   "cell_type": "code",
   "execution_count": null,
   "metadata": {},
   "outputs": [],
   "source": [
    "#!pip install -r requirements.txt"
   ]
  },
  {
   "attachments": {},
   "cell_type": "markdown",
   "metadata": {},
   "source": [
    "## Set username"
   ]
  },
  {
   "cell_type": "code",
   "execution_count": 1,
   "metadata": {},
   "outputs": [],
   "source": [
    "# Set username for workflows\n",
    "import os\n",
    "os.environ[\"USERNAME\"] = \"molto\""
   ]
  },
  {
   "cell_type": "code",
   "execution_count": 4,
   "metadata": {},
   "outputs": [
    {
     "name": "stdout",
     "output_type": "stream",
     "text": [
      "Overwriting metaflow_trainingflow.py\n"
     ]
    }
   ],
   "source": [
    "%%writefile metaflow_trainingflow.py\n",
    "from metaflow import FlowSpec, Parameter, step\n",
    "import pickle\n",
    "\n",
    "class TrainingFlow(FlowSpec):\n",
    "    # Define the parameters for the flow\n",
    "    max_depth = Parameter('max_depth', default=2, help='Max depth of the random forest classifier')\n",
    "    n_estimators = Parameter('n_estimators', default=100, help='Number of estimators for the random forest classifier')\n",
    "    random_state = Parameter('random_state', default=0, help='Random state for the random forest classifier')\n",
    "    \n",
    "    @step\n",
    "    def start(self):\n",
    "        # Start the flow\n",
    "        self.next(self.ingest_data)\n",
    "        \n",
    "    @step\n",
    "    def ingest_data(self):\n",
    "        from sklearn.datasets import load_iris\n",
    "    \n",
    "        # Load the iris dataset\n",
    "        iris = load_iris()\n",
    "        \n",
    "        #pylint: disable=no-member\n",
    "        self.X = iris.data\n",
    "        self.y = iris.target\n",
    "        #pylint: enable=no-member\n",
    "        \n",
    "        self.next(self.split_data)\n",
    "\n",
    "    @step\n",
    "    def split_data(self):\n",
    "        from sklearn.model_selection import train_test_split\n",
    "\n",
    "        # Split the data into train and test\n",
    "        self.X_train, self.X_test, self.y_train, self.y_test = train_test_split(\n",
    "            self.X, self.y, test_size=0.2, random_state=self.random_state\n",
    "        )\n",
    "\n",
    "        self.next(self.train)\n",
    "\n",
    "\n",
    "    @step\n",
    "    def train(self):\n",
    "        from sklearn.ensemble import RandomForestClassifier\n",
    "\n",
    "        # Train the model\n",
    "        self.model = RandomForestClassifier(\n",
    "            max_depth=self.max_depth,\n",
    "            n_estimators=self.n_estimators,\n",
    "            random_state=self.random_state\n",
    "        )\n",
    "\n",
    "        self.model.fit(self.X_train, self.y_train)\n",
    "        self.next(self.show_metrics)\n",
    "\n",
    "\n",
    "    @step\n",
    "    def show_metrics(self):\n",
    "        from sklearn.metrics import accuracy_score, classification_report\n",
    "\n",
    "        # Predict and calculate metrics\n",
    "        y_pred = self.model.predict(self.X_test)\n",
    "        self.accuracy = accuracy_score(self.y_test, y_pred)\n",
    "        self.report = classification_report(self.y_test, y_pred)\n",
    "\n",
    "        print(f\"Accuracy: {self.accuracy:.4f}\")\n",
    "        print(\"Classification Report:\\n\", self.report)\n",
    "\n",
    "        self.next(self.register_model)\n",
    "\n",
    "        \n",
    "    @step\n",
    "    def register_model(self):\n",
    "        # Save the model in a pickle file in local storage\n",
    "        with open('random_forest_model.pkl', 'wb') as f:\n",
    "            pickle.dump(self.model, f)\n",
    "        \n",
    "        print(\"Modelo guardado como 'random_forest_model.pkl'\")\n",
    "        self.next(self.end)\n",
    "        \n",
    "    @step\n",
    "    def end(self):\n",
    "        print(\"Flujo de entrenamiento completado.\")\n",
    "\n",
    "    \n",
    "if __name__ == '__main__':\n",
    "    TrainingFlow()"
   ]
  },
  {
   "cell_type": "code",
   "execution_count": 5,
   "metadata": {},
   "outputs": [
    {
     "name": "stdout",
     "output_type": "stream",
     "text": [
      "\u001b[35m\u001b[1mMetaflow 2.13.9\u001b[0m\u001b[35m\u001b[22m executing \u001b[0m\u001b[31m\u001b[1mTrainingFlow\u001b[0m\u001b[35m\u001b[22m\u001b[0m\u001b[35m\u001b[22m for \u001b[0m\u001b[31m\u001b[1muser:jorgemolto\u001b[0m\u001b[35m\u001b[22m\u001b[K\u001b[0m\u001b[35m\u001b[22m\u001b[0m\n",
      "\u001b[35m\u001b[22mValidating your flow...\u001b[K\u001b[0m\u001b[35m\u001b[22m\u001b[0m\n",
      "\u001b[32m\u001b[1m    The graph looks good!\u001b[K\u001b[0m\u001b[32m\u001b[1m\u001b[0m\n",
      "\u001b[35m\u001b[22mRunning pylint...\u001b[K\u001b[0m\u001b[35m\u001b[22m\u001b[0m\n",
      "\u001b[32m\u001b[22m    Pylint not found, so extra checks are disabled.\u001b[K\u001b[0m\u001b[32m\u001b[22m\u001b[0m\n",
      "\u001b[35m2025-04-05 21:46:02.030 \u001b[0m\u001b[1mWorkflow starting (run-id 1743882362030331):\u001b[0m\n",
      "\u001b[35m2025-04-05 21:46:02.038 \u001b[0m\u001b[32m[1743882362030331/start/1 (pid 7680)] \u001b[0m\u001b[1mTask is starting.\u001b[0m\n",
      "\u001b[35m2025-04-05 21:46:02.171 \u001b[0m\u001b[32m[1743882362030331/start/1 (pid 7680)] \u001b[0m\u001b[1mTask finished successfully.\u001b[0m\n",
      "\u001b[35m2025-04-05 21:46:02.174 \u001b[0m\u001b[32m[1743882362030331/ingest_data/2 (pid 7682)] \u001b[0m\u001b[1mTask is starting.\u001b[0m\n",
      "\u001b[35m2025-04-05 21:46:03.109 \u001b[0m\u001b[32m[1743882362030331/ingest_data/2 (pid 7682)] \u001b[0m\u001b[1mTask finished successfully.\u001b[0m\n",
      "\u001b[35m2025-04-05 21:46:03.112 \u001b[0m\u001b[32m[1743882362030331/split_data/3 (pid 7684)] \u001b[0m\u001b[1mTask is starting.\u001b[0m\n",
      "\u001b[35m2025-04-05 21:46:03.797 \u001b[0m\u001b[32m[1743882362030331/split_data/3 (pid 7684)] \u001b[0m\u001b[1mTask finished successfully.\u001b[0m\n",
      "\u001b[35m2025-04-05 21:46:03.800 \u001b[0m\u001b[32m[1743882362030331/train/4 (pid 7698)] \u001b[0m\u001b[1mTask is starting.\u001b[0m\n",
      "\u001b[35m2025-04-05 21:46:04.620 \u001b[0m\u001b[32m[1743882362030331/train/4 (pid 7698)] \u001b[0m\u001b[1mTask finished successfully.\u001b[0m\n",
      "\u001b[35m2025-04-05 21:46:04.623 \u001b[0m\u001b[32m[1743882362030331/show_metrics/5 (pid 7700)] \u001b[0m\u001b[1mTask is starting.\u001b[0m\n",
      "\u001b[35m2025-04-05 21:46:05.341 \u001b[0m\u001b[32m[1743882362030331/show_metrics/5 (pid 7700)] \u001b[0m\u001b[22mAccuracy: 1.0000\u001b[0m\n",
      "\u001b[35m2025-04-05 21:46:05.424 \u001b[0m\u001b[32m[1743882362030331/show_metrics/5 (pid 7700)] \u001b[0m\u001b[22mClassification Report:\u001b[0m\n",
      "\u001b[35m2025-04-05 21:46:05.424 \u001b[0m\u001b[32m[1743882362030331/show_metrics/5 (pid 7700)] \u001b[0m\u001b[22mprecision    recall  f1-score   support\u001b[0m\n",
      "\u001b[35m2025-04-05 21:46:05.424 \u001b[0m\u001b[32m[1743882362030331/show_metrics/5 (pid 7700)] \u001b[0m\u001b[22m\u001b[0m\n",
      "\u001b[35m2025-04-05 21:46:05.424 \u001b[0m\u001b[32m[1743882362030331/show_metrics/5 (pid 7700)] \u001b[0m\u001b[22m0       1.00      1.00      1.00        11\u001b[0m\n",
      "\u001b[35m2025-04-05 21:46:05.424 \u001b[0m\u001b[32m[1743882362030331/show_metrics/5 (pid 7700)] \u001b[0m\u001b[22m1       1.00      1.00      1.00        13\u001b[0m\n",
      "\u001b[35m2025-04-05 21:46:05.424 \u001b[0m\u001b[32m[1743882362030331/show_metrics/5 (pid 7700)] \u001b[0m\u001b[22m2       1.00      1.00      1.00         6\u001b[0m\n",
      "\u001b[35m2025-04-05 21:46:05.424 \u001b[0m\u001b[32m[1743882362030331/show_metrics/5 (pid 7700)] \u001b[0m\u001b[22m\u001b[0m\n",
      "\u001b[35m2025-04-05 21:46:05.424 \u001b[0m\u001b[32m[1743882362030331/show_metrics/5 (pid 7700)] \u001b[0m\u001b[22maccuracy                           1.00        30\u001b[0m\n",
      "\u001b[35m2025-04-05 21:46:05.424 \u001b[0m\u001b[32m[1743882362030331/show_metrics/5 (pid 7700)] \u001b[0m\u001b[22mmacro avg       1.00      1.00      1.00        30\u001b[0m\n",
      "\u001b[35m2025-04-05 21:46:05.425 \u001b[0m\u001b[32m[1743882362030331/show_metrics/5 (pid 7700)] \u001b[0m\u001b[22mweighted avg       1.00      1.00      1.00        30\u001b[0m\n",
      "\u001b[35m2025-04-05 21:46:05.425 \u001b[0m\u001b[32m[1743882362030331/show_metrics/5 (pid 7700)] \u001b[0m\u001b[22m\u001b[0m\n",
      "\u001b[35m2025-04-05 21:46:05.425 \u001b[0m\u001b[32m[1743882362030331/show_metrics/5 (pid 7700)] \u001b[0m\u001b[1mTask finished successfully.\u001b[0m\n",
      "\u001b[35m2025-04-05 21:46:05.429 \u001b[0m\u001b[32m[1743882362030331/register_model/6 (pid 7711)] \u001b[0m\u001b[1mTask is starting.\u001b[0m\n",
      "\u001b[35m2025-04-05 21:46:06.059 \u001b[0m\u001b[32m[1743882362030331/register_model/6 (pid 7711)] \u001b[0m\u001b[22mModelo guardado como 'random_forest_model.pkl'\u001b[0m\n",
      "\u001b[35m2025-04-05 21:46:06.148 \u001b[0m\u001b[32m[1743882362030331/register_model/6 (pid 7711)] \u001b[0m\u001b[1mTask finished successfully.\u001b[0m\n",
      "\u001b[35m2025-04-05 21:46:06.151 \u001b[0m\u001b[32m[1743882362030331/end/7 (pid 7716)] \u001b[0m\u001b[1mTask is starting.\u001b[0m\n",
      "\u001b[35m2025-04-05 21:46:06.261 \u001b[0m\u001b[32m[1743882362030331/end/7 (pid 7716)] \u001b[0m\u001b[22mFlujo de entrenamiento completado.\u001b[0m\n",
      "\u001b[35m2025-04-05 21:46:06.283 \u001b[0m\u001b[32m[1743882362030331/end/7 (pid 7716)] \u001b[0m\u001b[1mTask finished successfully.\u001b[0m\n",
      "\u001b[35m2025-04-05 21:46:06.283 \u001b[0m\u001b[1mDone!\u001b[0m\n"
     ]
    }
   ],
   "source": [
    "!python3 metaflow_trainingflow.py run --max_depth 2 --n_estimators 100 --random_state 0"
   ]
  }
 ],
 "metadata": {
  "kernelspec": {
   "display_name": ".venv",
   "language": "python",
   "name": "python3"
  },
  "language_info": {
   "codemirror_mode": {
    "name": "ipython",
    "version": 3
   },
   "file_extension": ".py",
   "mimetype": "text/x-python",
   "name": "python",
   "nbconvert_exporter": "python",
   "pygments_lexer": "ipython3",
   "version": "3.12.8"
  },
  "orig_nbformat": 4
 },
 "nbformat": 4,
 "nbformat_minor": 2
}
