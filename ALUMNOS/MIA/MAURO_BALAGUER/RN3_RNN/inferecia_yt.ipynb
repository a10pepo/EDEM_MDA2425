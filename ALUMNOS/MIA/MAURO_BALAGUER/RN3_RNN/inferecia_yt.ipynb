{
 "cells": [
  {
   "cell_type": "code",
   "execution_count": 5,
   "metadata": {},
   "outputs": [
    {
     "name": "stderr",
     "output_type": "stream",
     "text": [
      "WARNING:absl:Compiled the loaded model, but the compiled metrics have yet to be built. `model.compile_metrics` will be empty until you train or evaluate the model.\n"
     ]
    },
    {
     "name": "stdout",
     "output_type": "stream",
     "text": [
      "\n",
      "📹 Procesando vídeo 1: Bro is NOT LeBron 😭☠️ #shorts.mp4\n",
      "\u001b[1m1/1\u001b[0m \u001b[32m━━━━━━━━━━━━━━━━━━━━\u001b[0m\u001b[37m\u001b[0m \u001b[1m1s\u001b[0m 576ms/step\n",
      "✅ Predicción: Pushups\n",
      "\n",
      "📹 Procesando vídeo 2: How to do a Push-Up  Proper Form & Technique  NASM.mp4\n",
      "\u001b[1m1/1\u001b[0m \u001b[32m━━━━━━━━━━━━━━━━━━━━\u001b[0m\u001b[37m\u001b[0m \u001b[1m0s\u001b[0m 77ms/step\n",
      "✅ Predicción: Pushups\n",
      "\n",
      "📹 Procesando vídeo 3: Jaume Munar UPSETS Former Champion Daniil Medvedev 🤯  Miami 2025 Highlights.mp4\n",
      "\u001b[1m1/1\u001b[0m \u001b[32m━━━━━━━━━━━━━━━━━━━━\u001b[0m\u001b[37m\u001b[0m \u001b[1m0s\u001b[0m 76ms/step\n",
      "✅ Predicción: Basketball\n",
      "\n",
      "📹 Procesando vídeo 4: Tú necesitas este yoyo en tu collection de Yoyos‼️.mp4\n",
      "\u001b[1m1/1\u001b[0m \u001b[32m━━━━━━━━━━━━━━━━━━━━\u001b[0m\u001b[37m\u001b[0m \u001b[1m0s\u001b[0m 75ms/step\n",
      "✅ Predicción: Basketball\n",
      "\n",
      "📹 Procesando vídeo 5: 双节棍技巧，9种换手的方式 Nunchaku skills, 9 ways to change hands  ヌンチャクの技、9通りの持ち替え.mp4\n",
      "\u001b[1m1/1\u001b[0m \u001b[32m━━━━━━━━━━━━━━━━━━━━\u001b[0m\u001b[37m\u001b[0m \u001b[1m0s\u001b[0m 76ms/step\n",
      "✅ Predicción: Basketball\n"
     ]
    }
   ],
   "source": [
    "# 1. Imports necesarios\n",
    "import cv2\n",
    "import os\n",
    "import numpy as np\n",
    "from tensorflow.keras.models import load_model\n",
    "\n",
    "# 2. Cargar modelo entrenado\n",
    "model_path = '/Users/mauro/Documents/MIA/EDEM_MDA2425/ALUMNOS/MIA/MAURO_BALAGUER/RN3_RNN/sports_classifier_5_sports.h5'\n",
    "model = load_model(model_path)\n",
    "\n",
    "# 3. Función para extraer frames de un vídeo\n",
    "def extract_frames(video_path, sample_rate=30, resize_dim=(160, 160)):\n",
    "    cap = cv2.VideoCapture(video_path)\n",
    "    frames = []\n",
    "    count = 0\n",
    "\n",
    "    while cap.isOpened():\n",
    "        ret, frame = cap.read()\n",
    "        if not ret:\n",
    "            break\n",
    "        if count % sample_rate == 0:\n",
    "            frame = cv2.resize(frame, resize_dim)\n",
    "            frames.append(frame)\n",
    "        count += 1\n",
    "\n",
    "    cap.release()\n",
    "    return np.array(frames)\n",
    "\n",
    "# 4. Función para hacer inferencia en un vídeo\n",
    "def infer_video(video_path, model, sample_rate=30, max_len=30):\n",
    "    frames = extract_frames(video_path, sample_rate)\n",
    "\n",
    "    # Padding o truncado a longitud fija\n",
    "    if len(frames) > max_len:\n",
    "        frames = frames[:max_len]\n",
    "    else:\n",
    "        frames = np.pad(frames, ((0, max_len - len(frames)), (0, 0), (0, 0), (0, 0)), 'constant')\n",
    "\n",
    "    frames = np.expand_dims(frames, axis=0)  # (1, max_len, 160, 160, 3)\n",
    "    prediction = model.predict(frames)\n",
    "    class_index = np.argmax(prediction)\n",
    "\n",
    "    return class_index\n",
    "\n",
    "# 5. Mapeo de clases\n",
    "class_names = ['Yoyo', 'Basketball', 'Pushups', 'Nunchucks', 'Tennis']\n",
    "\n",
    "# 6. Lista de rutas a vídeos descargados de YouTube\n",
    "video_paths = [\n",
    "    '/Users/mauro/Documents/MIA/EDEM_MDA2425/ALUMNOS/MIA/MAURO_BALAGUER/RN3_RNN/muestras_youtube/Bro is NOT LeBron 😭☠️ #shorts.mp4',\n",
    "    '/Users/mauro/Documents/MIA/EDEM_MDA2425/ALUMNOS/MIA/MAURO_BALAGUER/RN3_RNN/muestras_youtube/How to do a Push-Up  Proper Form & Technique  NASM.mp4',\n",
    "    '/Users/mauro/Documents/MIA/EDEM_MDA2425/ALUMNOS/MIA/MAURO_BALAGUER/RN3_RNN/muestras_youtube/Jaume Munar UPSETS Former Champion Daniil Medvedev 🤯  Miami 2025 Highlights.mp4',\n",
    "    '/Users/mauro/Documents/MIA/EDEM_MDA2425/ALUMNOS/MIA/MAURO_BALAGUER/RN3_RNN/muestras_youtube/Tú necesitas este yoyo en tu collection de Yoyos‼️.mp4',\n",
    "    '/Users/mauro/Documents/MIA/EDEM_MDA2425/ALUMNOS/MIA/MAURO_BALAGUER/RN3_RNN/muestras_youtube/双节棍技巧，9种换手的方式 Nunchaku skills, 9 ways to change hands  ヌンチャクの技、9通りの持ち替え.mp4'\n",
    "]\n",
    "\n",
    "# 7. Inferencia sobre los vídeos\n",
    "for i, path in enumerate(video_paths):\n",
    "    print(f\"\\n📹 Procesando vídeo {i+1}: {os.path.basename(path)}\")\n",
    "    predicted_class = infer_video(path, model)\n",
    "    print(f\"✅ Predicción: {class_names[predicted_class]}\")\n"
   ]
  }
 ],
 "metadata": {
  "kernelspec": {
   "display_name": "Python 3",
   "language": "python",
   "name": "python3"
  },
  "language_info": {
   "codemirror_mode": {
    "name": "ipython",
    "version": 3
   },
   "file_extension": ".py",
   "mimetype": "text/x-python",
   "name": "python",
   "nbconvert_exporter": "python",
   "pygments_lexer": "ipython3",
   "version": "3.10.9"
  }
 },
 "nbformat": 4,
 "nbformat_minor": 2
}
