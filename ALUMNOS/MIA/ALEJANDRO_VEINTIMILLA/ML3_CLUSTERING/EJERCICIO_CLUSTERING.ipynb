{
 "cells": [
  {
   "cell_type": "markdown",
   "metadata": {},
   "source": [
    "# DATOS"
   ]
  },
  {
   "cell_type": "code",
   "execution_count": 12,
   "metadata": {},
   "outputs": [
    {
     "data": {
      "application/vnd.microsoft.datawrangler.viewer.v0+json": {
       "columns": [
        {
         "name": "index",
         "rawType": "int64",
         "type": "integer"
        },
        {
         "name": "danceability",
         "rawType": "float64",
         "type": "float"
        },
        {
         "name": "energy",
         "rawType": "float64",
         "type": "float"
        },
        {
         "name": "key",
         "rawType": "int64",
         "type": "integer"
        },
        {
         "name": "loudness",
         "rawType": "float64",
         "type": "float"
        },
        {
         "name": "mode",
         "rawType": "int64",
         "type": "integer"
        },
        {
         "name": "speechiness",
         "rawType": "float64",
         "type": "float"
        },
        {
         "name": "acousticness",
         "rawType": "float64",
         "type": "float"
        },
        {
         "name": "instrumentalness",
         "rawType": "float64",
         "type": "float"
        },
        {
         "name": "liveness",
         "rawType": "float64",
         "type": "float"
        },
        {
         "name": "valence",
         "rawType": "float64",
         "type": "float"
        },
        {
         "name": "tempo",
         "rawType": "float64",
         "type": "float"
        },
        {
         "name": "type",
         "rawType": "object",
         "type": "string"
        },
        {
         "name": "id",
         "rawType": "object",
         "type": "string"
        },
        {
         "name": "uri",
         "rawType": "object",
         "type": "string"
        },
        {
         "name": "track_href",
         "rawType": "object",
         "type": "string"
        },
        {
         "name": "analysis_url",
         "rawType": "object",
         "type": "string"
        },
        {
         "name": "duration_ms",
         "rawType": "int64",
         "type": "integer"
        },
        {
         "name": "time_signature",
         "rawType": "int64",
         "type": "integer"
        },
        {
         "name": "genre",
         "rawType": "object",
         "type": "string"
        },
        {
         "name": "song_name",
         "rawType": "object",
         "type": "unknown"
        },
        {
         "name": "Unnamed: 0",
         "rawType": "float64",
         "type": "float"
        },
        {
         "name": "title",
         "rawType": "object",
         "type": "unknown"
        },
        {
         "name": "Id",
         "rawType": "int64",
         "type": "integer"
        },
        {
         "name": "popularity",
         "rawType": "int64",
         "type": "integer"
        }
       ],
       "conversionMethod": "pd.DataFrame",
       "ref": "fefa4934-e123-4068-b5d2-dc96c05d7dfc",
       "rows": [
        [
         "0",
         "0.8959999999999999",
         "0.691",
         "1",
         "-7.403",
         "1",
         "0.369",
         "0.0118",
         "0.0",
         "0.0883",
         "0.665",
         "189.88",
         "audio_features",
         "1lKQIxQDnLKoFhNWwMFiho",
         "spotify:track:1lKQIxQDnLKoFhNWwMFiho",
         "https://api.spotify.com/v1/tracks/1lKQIxQDnLKoFhNWwMFiho",
         "https://api.spotify.com/v1/audio-analysis/1lKQIxQDnLKoFhNWwMFiho",
         "152398",
         "4",
         "Underground Rap",
         "First Day Out",
         null,
         null,
         "6863",
         "0"
        ],
        [
         "1",
         "0.4320000000000001",
         "0.962",
         "2",
         "-5.834",
         "1",
         "0.13",
         "0.00193",
         "0.162",
         "0.63",
         "0.124",
         "138.01",
         "audio_features",
         "6xyHjM4VecIRZDUldiiBA5",
         "spotify:track:6xyHjM4VecIRZDUldiiBA5",
         "https://api.spotify.com/v1/tracks/6xyHjM4VecIRZDUldiiBA5",
         "https://api.spotify.com/v1/audio-analysis/6xyHjM4VecIRZDUldiiBA5",
         "219085",
         "4",
         "trance",
         null,
         "8997.0",
         "Uplifting | Trance",
         "30452",
         "8"
        ],
        [
         "2",
         "0.6859999999999999",
         "0.6920000000000001",
         "0",
         "-5.573",
         "0",
         "0.3229999999999999",
         "0.482",
         "0.0",
         "0.1689999999999999",
         "0.649",
         "173.78",
         "audio_features",
         "1rZvU5sb2E8LuJTAqEdAiw",
         "spotify:track:1rZvU5sb2E8LuJTAqEdAiw",
         "https://api.spotify.com/v1/tracks/1rZvU5sb2E8LuJTAqEdAiw",
         "https://api.spotify.com/v1/audio-analysis/1rZvU5sb2E8LuJTAqEdAiw",
         "269357",
         "3",
         "Underground Rap",
         "Funky Ho'$",
         null,
         null,
         "8111",
         "48"
        ],
        [
         "3",
         "0.441",
         "0.8909999999999999",
         "7",
         "-2.873",
         "0",
         "0.037",
         "0.0177",
         "0.815",
         "0.184",
         "0.0353",
         "175.007",
         "audio_features",
         "1TDjiNBekgMInzoNZxYi0D",
         "spotify:track:1TDjiNBekgMInzoNZxYi0D",
         "https://api.spotify.com/v1/tracks/1TDjiNBekgMInzoNZxYi0D",
         "https://api.spotify.com/v1/audio-analysis/1TDjiNBekgMInzoNZxYi0D",
         "319851",
         "4",
         "dnb",
         null,
         "15264.0",
         "Liquid Drum & Bass",
         "36665",
         "24"
        ],
        [
         "4",
         "0.376",
         "0.8759999999999999",
         "4",
         "-2.695",
         "0",
         "0.1009999999999999",
         "0.0345",
         "0.0",
         "0.125",
         "0.25",
         "202.082",
         "audio_features",
         "79fspqGOIP7FInu1elXhVX",
         "spotify:track:79fspqGOIP7FInu1elXhVX",
         "https://api.spotify.com/v1/tracks/79fspqGOIP7FInu1elXhVX",
         "https://api.spotify.com/v1/audio-analysis/79fspqGOIP7FInu1elXhVX",
         "222442",
         "4",
         "Dark Trap",
         "Miss U",
         null,
         null,
         "4428",
         "25"
        ]
       ],
       "shape": {
        "columns": 24,
        "rows": 5
       }
      },
      "text/html": [
       "<div>\n",
       "<style scoped>\n",
       "    .dataframe tbody tr th:only-of-type {\n",
       "        vertical-align: middle;\n",
       "    }\n",
       "\n",
       "    .dataframe tbody tr th {\n",
       "        vertical-align: top;\n",
       "    }\n",
       "\n",
       "    .dataframe thead th {\n",
       "        text-align: right;\n",
       "    }\n",
       "</style>\n",
       "<table border=\"1\" class=\"dataframe\">\n",
       "  <thead>\n",
       "    <tr style=\"text-align: right;\">\n",
       "      <th></th>\n",
       "      <th>danceability</th>\n",
       "      <th>energy</th>\n",
       "      <th>key</th>\n",
       "      <th>loudness</th>\n",
       "      <th>mode</th>\n",
       "      <th>speechiness</th>\n",
       "      <th>acousticness</th>\n",
       "      <th>instrumentalness</th>\n",
       "      <th>liveness</th>\n",
       "      <th>valence</th>\n",
       "      <th>...</th>\n",
       "      <th>track_href</th>\n",
       "      <th>analysis_url</th>\n",
       "      <th>duration_ms</th>\n",
       "      <th>time_signature</th>\n",
       "      <th>genre</th>\n",
       "      <th>song_name</th>\n",
       "      <th>Unnamed: 0</th>\n",
       "      <th>title</th>\n",
       "      <th>Id</th>\n",
       "      <th>popularity</th>\n",
       "    </tr>\n",
       "  </thead>\n",
       "  <tbody>\n",
       "    <tr>\n",
       "      <th>0</th>\n",
       "      <td>0.896</td>\n",
       "      <td>0.691</td>\n",
       "      <td>1</td>\n",
       "      <td>-7.403</td>\n",
       "      <td>1</td>\n",
       "      <td>0.369</td>\n",
       "      <td>0.01180</td>\n",
       "      <td>0.000</td>\n",
       "      <td>0.0883</td>\n",
       "      <td>0.6650</td>\n",
       "      <td>...</td>\n",
       "      <td>https://api.spotify.com/v1/tracks/1lKQIxQDnLKo...</td>\n",
       "      <td>https://api.spotify.com/v1/audio-analysis/1lKQ...</td>\n",
       "      <td>152398</td>\n",
       "      <td>4</td>\n",
       "      <td>Underground Rap</td>\n",
       "      <td>First Day Out</td>\n",
       "      <td>NaN</td>\n",
       "      <td>NaN</td>\n",
       "      <td>6863</td>\n",
       "      <td>0</td>\n",
       "    </tr>\n",
       "    <tr>\n",
       "      <th>1</th>\n",
       "      <td>0.432</td>\n",
       "      <td>0.962</td>\n",
       "      <td>2</td>\n",
       "      <td>-5.834</td>\n",
       "      <td>1</td>\n",
       "      <td>0.130</td>\n",
       "      <td>0.00193</td>\n",
       "      <td>0.162</td>\n",
       "      <td>0.6300</td>\n",
       "      <td>0.1240</td>\n",
       "      <td>...</td>\n",
       "      <td>https://api.spotify.com/v1/tracks/6xyHjM4VecIR...</td>\n",
       "      <td>https://api.spotify.com/v1/audio-analysis/6xyH...</td>\n",
       "      <td>219085</td>\n",
       "      <td>4</td>\n",
       "      <td>trance</td>\n",
       "      <td>NaN</td>\n",
       "      <td>8997.0</td>\n",
       "      <td>Uplifting | Trance</td>\n",
       "      <td>30452</td>\n",
       "      <td>8</td>\n",
       "    </tr>\n",
       "    <tr>\n",
       "      <th>2</th>\n",
       "      <td>0.686</td>\n",
       "      <td>0.692</td>\n",
       "      <td>0</td>\n",
       "      <td>-5.573</td>\n",
       "      <td>0</td>\n",
       "      <td>0.323</td>\n",
       "      <td>0.48200</td>\n",
       "      <td>0.000</td>\n",
       "      <td>0.1690</td>\n",
       "      <td>0.6490</td>\n",
       "      <td>...</td>\n",
       "      <td>https://api.spotify.com/v1/tracks/1rZvU5sb2E8L...</td>\n",
       "      <td>https://api.spotify.com/v1/audio-analysis/1rZv...</td>\n",
       "      <td>269357</td>\n",
       "      <td>3</td>\n",
       "      <td>Underground Rap</td>\n",
       "      <td>Funky Ho'$</td>\n",
       "      <td>NaN</td>\n",
       "      <td>NaN</td>\n",
       "      <td>8111</td>\n",
       "      <td>48</td>\n",
       "    </tr>\n",
       "    <tr>\n",
       "      <th>3</th>\n",
       "      <td>0.441</td>\n",
       "      <td>0.891</td>\n",
       "      <td>7</td>\n",
       "      <td>-2.873</td>\n",
       "      <td>0</td>\n",
       "      <td>0.037</td>\n",
       "      <td>0.01770</td>\n",
       "      <td>0.815</td>\n",
       "      <td>0.1840</td>\n",
       "      <td>0.0353</td>\n",
       "      <td>...</td>\n",
       "      <td>https://api.spotify.com/v1/tracks/1TDjiNBekgMI...</td>\n",
       "      <td>https://api.spotify.com/v1/audio-analysis/1TDj...</td>\n",
       "      <td>319851</td>\n",
       "      <td>4</td>\n",
       "      <td>dnb</td>\n",
       "      <td>NaN</td>\n",
       "      <td>15264.0</td>\n",
       "      <td>Liquid Drum &amp; Bass</td>\n",
       "      <td>36665</td>\n",
       "      <td>24</td>\n",
       "    </tr>\n",
       "    <tr>\n",
       "      <th>4</th>\n",
       "      <td>0.376</td>\n",
       "      <td>0.876</td>\n",
       "      <td>4</td>\n",
       "      <td>-2.695</td>\n",
       "      <td>0</td>\n",
       "      <td>0.101</td>\n",
       "      <td>0.03450</td>\n",
       "      <td>0.000</td>\n",
       "      <td>0.1250</td>\n",
       "      <td>0.2500</td>\n",
       "      <td>...</td>\n",
       "      <td>https://api.spotify.com/v1/tracks/79fspqGOIP7F...</td>\n",
       "      <td>https://api.spotify.com/v1/audio-analysis/79fs...</td>\n",
       "      <td>222442</td>\n",
       "      <td>4</td>\n",
       "      <td>Dark Trap</td>\n",
       "      <td>Miss U</td>\n",
       "      <td>NaN</td>\n",
       "      <td>NaN</td>\n",
       "      <td>4428</td>\n",
       "      <td>25</td>\n",
       "    </tr>\n",
       "  </tbody>\n",
       "</table>\n",
       "<p>5 rows × 24 columns</p>\n",
       "</div>"
      ],
      "text/plain": [
       "   danceability  energy  key  loudness  mode  speechiness  acousticness  \\\n",
       "0         0.896   0.691    1    -7.403     1        0.369       0.01180   \n",
       "1         0.432   0.962    2    -5.834     1        0.130       0.00193   \n",
       "2         0.686   0.692    0    -5.573     0        0.323       0.48200   \n",
       "3         0.441   0.891    7    -2.873     0        0.037       0.01770   \n",
       "4         0.376   0.876    4    -2.695     0        0.101       0.03450   \n",
       "\n",
       "   instrumentalness  liveness  valence  ...  \\\n",
       "0             0.000    0.0883   0.6650  ...   \n",
       "1             0.162    0.6300   0.1240  ...   \n",
       "2             0.000    0.1690   0.6490  ...   \n",
       "3             0.815    0.1840   0.0353  ...   \n",
       "4             0.000    0.1250   0.2500  ...   \n",
       "\n",
       "                                          track_href  \\\n",
       "0  https://api.spotify.com/v1/tracks/1lKQIxQDnLKo...   \n",
       "1  https://api.spotify.com/v1/tracks/6xyHjM4VecIR...   \n",
       "2  https://api.spotify.com/v1/tracks/1rZvU5sb2E8L...   \n",
       "3  https://api.spotify.com/v1/tracks/1TDjiNBekgMI...   \n",
       "4  https://api.spotify.com/v1/tracks/79fspqGOIP7F...   \n",
       "\n",
       "                                        analysis_url duration_ms  \\\n",
       "0  https://api.spotify.com/v1/audio-analysis/1lKQ...      152398   \n",
       "1  https://api.spotify.com/v1/audio-analysis/6xyH...      219085   \n",
       "2  https://api.spotify.com/v1/audio-analysis/1rZv...      269357   \n",
       "3  https://api.spotify.com/v1/audio-analysis/1TDj...      319851   \n",
       "4  https://api.spotify.com/v1/audio-analysis/79fs...      222442   \n",
       "\n",
       "  time_signature            genre      song_name  Unnamed: 0  \\\n",
       "0              4  Underground Rap  First Day Out         NaN   \n",
       "1              4           trance            NaN      8997.0   \n",
       "2              3  Underground Rap     Funky Ho'$         NaN   \n",
       "3              4              dnb            NaN     15264.0   \n",
       "4              4        Dark Trap         Miss U         NaN   \n",
       "\n",
       "                title     Id popularity  \n",
       "0                 NaN   6863          0  \n",
       "1  Uplifting | Trance  30452          8  \n",
       "2                 NaN   8111         48  \n",
       "3  Liquid Drum & Bass  36665         24  \n",
       "4                 NaN   4428         25  \n",
       "\n",
       "[5 rows x 24 columns]"
      ]
     },
     "execution_count": 12,
     "metadata": {},
     "output_type": "execute_result"
    }
   ],
   "source": [
    "import pandas as pd\n",
    "df=pd.read_csv('tracks_with_popularity.csv')\n",
    "df.head()"
   ]
  },
  {
   "cell_type": "markdown",
   "metadata": {},
   "source": [
    "Vamos a clasificar por géneros utilizando las variables danceability, energy, loudness, speechiness, instrumentalness, liveness y tempo."
   ]
  },
  {
   "cell_type": "code",
   "execution_count": 13,
   "metadata": {},
   "outputs": [],
   "source": [
    "df2=df[['genre','danceability',\"energy\",\"loudness\",\"speechiness\",\"instrumentalness\",\"liveness\",\"tempo\"]].copy()\n",
    "from sklearn.model_selection import train_test_split\n",
    "X=df2.drop(columns=['genre'])\n",
    "y=df2['genre']\n",
    "#Train 60%, validate 20% y test 20%\n",
    "X_train, X_test_val, y_train, y_test_val = train_test_split(X, y, test_size=0.4, random_state=42)\n",
    "X_test, X_val, y_test, y_val = train_test_split(X_test_val, y_test_val, test_size=0.5, random_state=42)"
   ]
  },
  {
   "cell_type": "markdown",
   "metadata": {},
   "source": [
    "# MODELOS DE CLUSTERING"
   ]
  },
  {
   "cell_type": "markdown",
   "metadata": {},
   "source": [
    "## KNN"
   ]
  },
  {
   "cell_type": "code",
   "execution_count": 14,
   "metadata": {},
   "outputs": [],
   "source": [
    "from sklearn.neighbors import KNeighborsClassifier"
   ]
  },
  {
   "cell_type": "code",
   "execution_count": null,
   "metadata": {},
   "outputs": [
    {
     "name": "stdout",
     "output_type": "stream",
     "text": [
      "Neighbors: 3, Weights: uniform, Metric: euclidean, Score: 0.5108583247156153\n",
      "Neighbors: 3, Weights: uniform, Metric: manhattan, Score: 0.5192790663318068\n",
      "Neighbors: 3, Weights: uniform, Metric: minkowski, Score: 0.5108583247156153\n",
      "Neighbors: 3, Weights: distance, Metric: euclidean, Score: 0.5237110356034865\n",
      "Neighbors: 3, Weights: distance, Metric: manhattan, Score: 0.5337568326192939\n",
      "Neighbors: 3, Weights: distance, Metric: minkowski, Score: 0.5237110356034865\n",
      "Neighbors: 5, Weights: uniform, Metric: euclidean, Score: 0.5204609248042547\n",
      "Neighbors: 5, Weights: uniform, Metric: manhattan, Score: 0.5347909587826858\n",
      "Neighbors: 5, Weights: uniform, Metric: minkowski, Score: 0.5204609248042547\n",
      "Neighbors: 5, Weights: distance, Metric: euclidean, Score: 0.5383365342000296\n",
      "Neighbors: 5, Weights: distance, Metric: manhattan, Score: 0.547348205052445\n",
      "Neighbors: 5, Weights: distance, Metric: minkowski, Score: 0.5383365342000296\n",
      "Neighbors: 7, Weights: uniform, Metric: euclidean, Score: 0.5250406263849904\n",
      "Neighbors: 7, Weights: uniform, Metric: manhattan, Score: 0.5405525188358694\n",
      "Neighbors: 7, Weights: uniform, Metric: minkowski, Score: 0.5250406263849904\n",
      "Neighbors: 7, Weights: distance, Metric: euclidean, Score: 0.5409957157630374\n",
      "Neighbors: 7, Weights: distance, Metric: manhattan, Score: 0.5523711035603487\n",
      "Neighbors: 7, Weights: distance, Metric: minkowski, Score: 0.5409957157630374\n",
      "Neighbors: 8, Weights: uniform, Metric: euclidean, Score: 0.5287339341113901\n",
      "Neighbors: 8, Weights: uniform, Metric: manhattan, Score: 0.5449844881075491\n",
      "Neighbors: 8, Weights: uniform, Metric: minkowski, Score: 0.5287339341113901\n",
      "Neighbors: 8, Weights: distance, Metric: euclidean, Score: 0.5430639680898213\n",
      "Neighbors: 8, Weights: distance, Metric: manhattan, Score: 0.5525188358694046\n",
      "Neighbors: 8, Weights: distance, Metric: minkowski, Score: 0.5430639680898213\n",
      "Neighbors: 9, Weights: uniform, Metric: euclidean, Score: 0.530654454129118\n",
      "Neighbors: 9, Weights: uniform, Metric: manhattan, Score: 0.5452799527256611\n",
      "Neighbors: 9, Weights: uniform, Metric: minkowski, Score: 0.530654454129118\n",
      "Neighbors: 9, Weights: distance, Metric: euclidean, Score: 0.5436548973260452\n",
      "Neighbors: 9, Weights: distance, Metric: manhattan, Score: 0.5566553405229724\n",
      "Neighbors: 9, Weights: distance, Metric: minkowski, Score: 0.5436548973260452\n",
      "Neighbors: 10, Weights: uniform, Metric: euclidean, Score: 0.53094991874723\n",
      "Neighbors: 10, Weights: uniform, Metric: manhattan, Score: 0.5495641896882848\n",
      "Neighbors: 10, Weights: uniform, Metric: minkowski, Score: 0.53094991874723\n",
      "Neighbors: 10, Weights: distance, Metric: euclidean, Score: 0.5424730388535973\n",
      "Neighbors: 10, Weights: distance, Metric: manhattan, Score: 0.5568030728320283\n",
      "Neighbors: 10, Weights: distance, Metric: minkowski, Score: 0.5424730388535973\n",
      "Neighbors: 12, Weights: uniform, Metric: euclidean, Score: 0.531540847983454\n",
      "Neighbors: 12, Weights: uniform, Metric: manhattan, Score: 0.546314078889053\n",
      "Neighbors: 12, Weights: uniform, Metric: minkowski, Score: 0.531540847983454\n",
      "Neighbors: 12, Weights: distance, Metric: euclidean, Score: 0.5449844881075491\n",
      "Neighbors: 12, Weights: distance, Metric: manhattan, Score: 0.5551780174324125\n",
      "Neighbors: 12, Weights: distance, Metric: minkowski, Score: 0.5449844881075491\n"
     ]
    }
   ],
   "source": [
    "\n",
    "\n",
    "# KNN\n",
    "knn = KNeighborsClassifier()\n",
    "\n",
    "# Hiperparametros\n",
    "n_neighbors= [3, 5, 7, 8, 9, 10, 12]\n",
    "weights= ['uniform', 'distance']\n",
    "metric= ['euclidean', 'manhattan', 'minkowski']\n",
    "\n",
    "# Get the best parameters and model\n",
    "for n in n_neighbors:\n",
    "    for w in weights:\n",
    "        for m in metric:\n",
    "            knn.set_params(n_neighbors=n, weights=w, metric=m)\n",
    "            knn.fit(X_train, y_train)\n",
    "            score = knn.score(X_val, y_val)\n",
    "            print(f\"Neighbors: {n}, Weights: {w}, Metric: {m}, Score: {score}\")\n",
    "# Choose the best parameters based on validation score\n"
   ]
  },
  {
   "cell_type": "markdown",
   "metadata": {},
   "source": [
    "El mejor resultado es:\n",
    "\n",
    "Neighbors: 10, Weights: distance, Metric: manhattan, Score: 0.5568"
   ]
  },
  {
   "cell_type": "markdown",
   "metadata": {},
   "source": [
    "### Predicción en Test"
   ]
  },
  {
   "cell_type": "code",
   "execution_count": 15,
   "metadata": {},
   "outputs": [
    {
     "name": "stdout",
     "output_type": "stream",
     "text": [
      "KNN: 0.5525188358694046\n"
     ]
    }
   ],
   "source": [
    "knn = KNeighborsClassifier()\n",
    "knn.set_params(n_neighbors=10, weights=\"distance\", metric=\"manhattan\")\n",
    "knn.fit(X_train, y_train)\n",
    "knn_score = knn.score(X_test, y_test)\n",
    "print(f\"KNN: {knn_score}\")"
   ]
  },
  {
   "cell_type": "markdown",
   "metadata": {},
   "source": [
    "## DECISION TREE"
   ]
  },
  {
   "cell_type": "code",
   "execution_count": 16,
   "metadata": {},
   "outputs": [],
   "source": [
    "from sklearn.tree import DecisionTreeClassifier"
   ]
  },
  {
   "cell_type": "code",
   "execution_count": 24,
   "metadata": {},
   "outputs": [
    {
     "name": "stdout",
     "output_type": "stream",
     "text": [
      "Depth: 9, Split: 2, Leaf: 5, Score: 0.5860540700251144\n",
      "Depth: 9, Split: 2, Leaf: 10, Score: 0.5885655192790663\n",
      "Depth: 9, Split: 2, Leaf: 15, Score: 0.5860540700251144\n",
      "Depth: 9, Split: 5, Leaf: 5, Score: 0.5860540700251144\n",
      "Depth: 9, Split: 5, Leaf: 10, Score: 0.5885655192790663\n",
      "Depth: 9, Split: 5, Leaf: 15, Score: 0.5860540700251144\n",
      "Depth: 9, Split: 10, Leaf: 5, Score: 0.5860540700251144\n",
      "Depth: 9, Split: 10, Leaf: 10, Score: 0.5885655192790663\n",
      "Depth: 9, Split: 10, Leaf: 15, Score: 0.5860540700251144\n",
      "Depth: 10, Split: 2, Leaf: 5, Score: 0.5910769685330182\n",
      "Depth: 10, Split: 2, Leaf: 10, Score: 0.5924065593145221\n",
      "Depth: 10, Split: 2, Leaf: 15, Score: 0.5893041808243463\n",
      "Depth: 10, Split: 5, Leaf: 5, Score: 0.5913724331511302\n",
      "Depth: 10, Split: 5, Leaf: 10, Score: 0.5925542916235781\n",
      "Depth: 10, Split: 5, Leaf: 15, Score: 0.5893041808243463\n",
      "Depth: 10, Split: 10, Leaf: 5, Score: 0.5913724331511302\n",
      "Depth: 10, Split: 10, Leaf: 10, Score: 0.5924065593145221\n",
      "Depth: 10, Split: 10, Leaf: 15, Score: 0.5893041808243463\n",
      "Depth: 11, Split: 2, Leaf: 5, Score: 0.5929974885507461\n",
      "Depth: 11, Split: 2, Leaf: 10, Score: 0.5943270793322499\n",
      "Depth: 11, Split: 2, Leaf: 15, Score: 0.5910769685330182\n",
      "Depth: 11, Split: 5, Leaf: 5, Score: 0.593145220859802\n",
      "Depth: 11, Split: 5, Leaf: 10, Score: 0.5943270793322499\n",
      "Depth: 11, Split: 5, Leaf: 15, Score: 0.5910769685330182\n",
      "Depth: 11, Split: 10, Leaf: 5, Score: 0.5924065593145221\n",
      "Depth: 11, Split: 10, Leaf: 10, Score: 0.5943270793322499\n",
      "Depth: 11, Split: 10, Leaf: 15, Score: 0.5910769685330182\n",
      "Depth: 12, Split: 2, Leaf: 5, Score: 0.5842812823164426\n",
      "Depth: 12, Split: 2, Leaf: 10, Score: 0.5903383069877383\n",
      "Depth: 12, Split: 2, Leaf: 15, Score: 0.5879745900428424\n",
      "Depth: 12, Split: 5, Leaf: 5, Score: 0.5841335500073866\n",
      "Depth: 12, Split: 5, Leaf: 10, Score: 0.5903383069877383\n",
      "Depth: 12, Split: 5, Leaf: 15, Score: 0.5879745900428424\n",
      "Depth: 12, Split: 10, Leaf: 5, Score: 0.5841335500073866\n",
      "Depth: 12, Split: 10, Leaf: 10, Score: 0.5901905746786822\n",
      "Depth: 12, Split: 10, Leaf: 15, Score: 0.5879745900428424\n"
     ]
    }
   ],
   "source": [
    "from sklearn.tree import DecisionTreeClassifier\n",
    "\n",
    "# Decision Tree\n",
    "dt = DecisionTreeClassifier()\n",
    "\n",
    "# Hiperparametros\n",
    "max_depth= [ 9, 10, 11, 12]\n",
    "min_samples_split= [2, 5, 10]\n",
    "min_samples_leaf= [5, 10, 15]\n",
    "\n",
    "# Get the best parameters and model\n",
    "for n in max_depth:\n",
    "    for w in min_samples_split:\n",
    "        for m in min_samples_leaf:\n",
    "            dt.set_params(max_depth=n, min_samples_split=w, min_samples_leaf=m)\n",
    "            dt.fit(X_train, y_train)\n",
    "            score = dt.score(X_val, y_val)\n",
    "            print(f\"Depth: {n}, Split: {w}, Leaf: {m}, Score: {score}\")\n",
    "# Choose the best parameters based on validation score\n"
   ]
  },
  {
   "cell_type": "markdown",
   "metadata": {},
   "source": [
    "El mejor resultado es:\n",
    "\n",
    "Depth: 11, Split: 5, Leaf: 10, Score: 0.5943"
   ]
  },
  {
   "cell_type": "markdown",
   "metadata": {},
   "source": [
    "### Predicción en Test"
   ]
  },
  {
   "cell_type": "code",
   "execution_count": 17,
   "metadata": {},
   "outputs": [
    {
     "name": "stdout",
     "output_type": "stream",
     "text": [
      "DECISION TREE: 0.5906337716058502\n"
     ]
    }
   ],
   "source": [
    "dt = DecisionTreeClassifier()\n",
    "dt.set_params(max_depth=11, min_samples_split=5, min_samples_leaf=10)\n",
    "dt.fit(X_train, y_train)\n",
    "dt_score = dt.score(X_test, y_test)\n",
    "print(f\"DECISION TREE: {dt_score}\")"
   ]
  },
  {
   "cell_type": "markdown",
   "metadata": {},
   "source": [
    "## RANDOM FOREST"
   ]
  },
  {
   "cell_type": "code",
   "execution_count": 18,
   "metadata": {},
   "outputs": [],
   "source": [
    "from sklearn.ensemble import RandomForestClassifier"
   ]
  },
  {
   "cell_type": "code",
   "execution_count": null,
   "metadata": {},
   "outputs": [
    {
     "name": "stdout",
     "output_type": "stream",
     "text": [
      "Estimators: 200, Depth: 11, Split: 2, Leaf: 9, Score: 0.6306692273600236\n",
      "Estimators: 200, Depth: 11, Split: 2, Leaf: 10, Score: 0.6290441719604077\n",
      "Estimators: 200, Depth: 11, Split: 2, Leaf: 11, Score: 0.6271236519426798\n",
      "Estimators: 200, Depth: 11, Split: 5, Leaf: 9, Score: 0.625498596543064\n",
      "Estimators: 200, Depth: 11, Split: 5, Leaf: 10, Score: 0.6256463288521199\n",
      "Estimators: 200, Depth: 11, Split: 5, Leaf: 11, Score: 0.6283055104151278\n",
      "Estimators: 200, Depth: 11, Split: 10, Leaf: 9, Score: 0.6272713842517359\n",
      "Estimators: 200, Depth: 11, Split: 10, Leaf: 10, Score: 0.625055399615896\n",
      "Estimators: 200, Depth: 11, Split: 10, Leaf: 11, Score: 0.6259417934702319\n",
      "Estimators: 200, Depth: 12, Split: 2, Leaf: 9, Score: 0.6290441719604077\n",
      "Estimators: 200, Depth: 12, Split: 2, Leaf: 10, Score: 0.6274191165607919\n",
      "Estimators: 200, Depth: 12, Split: 2, Leaf: 11, Score: 0.6281577781060718\n",
      "Estimators: 200, Depth: 12, Split: 5, Leaf: 9, Score: 0.6296351011966317\n",
      "Estimators: 200, Depth: 12, Split: 5, Leaf: 10, Score: 0.6263849903973999\n",
      "Estimators: 200, Depth: 12, Split: 5, Leaf: 11, Score: 0.6275668488698478\n",
      "Estimators: 200, Depth: 12, Split: 10, Leaf: 9, Score: 0.6294873688875757\n",
      "Estimators: 200, Depth: 12, Split: 10, Leaf: 10, Score: 0.6269759196336239\n",
      "Estimators: 200, Depth: 12, Split: 10, Leaf: 11, Score: 0.6269759196336239\n",
      "Estimators: 200, Depth: 13, Split: 2, Leaf: 9, Score: 0.6287487073422957\n",
      "Estimators: 200, Depth: 13, Split: 2, Leaf: 10, Score: 0.6260895257792879\n",
      "Estimators: 200, Depth: 13, Split: 2, Leaf: 11, Score: 0.6280100457970158\n",
      "Estimators: 200, Depth: 13, Split: 5, Leaf: 9, Score: 0.6269759196336239\n",
      "Estimators: 200, Depth: 13, Split: 5, Leaf: 10, Score: 0.6265327227064559\n",
      "Estimators: 200, Depth: 13, Split: 5, Leaf: 11, Score: 0.6283055104151278\n",
      "Estimators: 200, Depth: 13, Split: 10, Leaf: 9, Score: 0.6297828335056876\n",
      "Estimators: 200, Depth: 13, Split: 10, Leaf: 10, Score: 0.6281577781060718\n",
      "Estimators: 200, Depth: 13, Split: 10, Leaf: 11, Score: 0.6265327227064559\n",
      "Estimators: 300, Depth: 11, Split: 2, Leaf: 9, Score: 0.6274191165607919\n",
      "Estimators: 300, Depth: 11, Split: 2, Leaf: 10, Score: 0.626237258088344\n",
      "Estimators: 300, Depth: 11, Split: 2, Leaf: 11, Score: 0.625350864234008\n",
      "Estimators: 300, Depth: 11, Split: 5, Leaf: 9, Score: 0.6274191165607919\n",
      "Estimators: 300, Depth: 11, Split: 5, Leaf: 10, Score: 0.6269759196336239\n",
      "Estimators: 300, Depth: 11, Split: 5, Leaf: 11, Score: 0.625794061161176\n",
      "Estimators: 300, Depth: 11, Split: 10, Leaf: 9, Score: 0.6259417934702319\n",
      "Estimators: 300, Depth: 11, Split: 10, Leaf: 10, Score: 0.6265327227064559\n",
      "Estimators: 300, Depth: 11, Split: 10, Leaf: 11, Score: 0.6281577781060718\n",
      "Estimators: 300, Depth: 12, Split: 2, Leaf: 9, Score: 0.6290441719604077\n",
      "Estimators: 300, Depth: 12, Split: 2, Leaf: 10, Score: 0.6294873688875757\n",
      "Estimators: 300, Depth: 12, Split: 2, Leaf: 11, Score: 0.6256463288521199\n",
      "Estimators: 300, Depth: 12, Split: 5, Leaf: 9, Score: 0.6297828335056876\n",
      "Estimators: 300, Depth: 12, Split: 5, Leaf: 10, Score: 0.6299305658147437\n",
      "Estimators: 300, Depth: 12, Split: 5, Leaf: 11, Score: 0.6284532427241838\n",
      "Estimators: 300, Depth: 12, Split: 10, Leaf: 9, Score: 0.6266804550155118\n",
      "Estimators: 300, Depth: 12, Split: 10, Leaf: 10, Score: 0.6275668488698478\n",
      "Estimators: 300, Depth: 12, Split: 10, Leaf: 11, Score: 0.6278623134879598\n",
      "Estimators: 300, Depth: 13, Split: 2, Leaf: 9, Score: 0.6293396365785198\n",
      "Estimators: 300, Depth: 13, Split: 2, Leaf: 10, Score: 0.6296351011966317\n",
      "Estimators: 300, Depth: 13, Split: 2, Leaf: 11, Score: 0.625350864234008\n",
      "Estimators: 300, Depth: 13, Split: 5, Leaf: 9, Score: 0.6269759196336239\n",
      "Estimators: 300, Depth: 13, Split: 5, Leaf: 10, Score: 0.6300782981237997\n",
      "Estimators: 300, Depth: 13, Split: 5, Leaf: 11, Score: 0.6263849903973999\n",
      "Estimators: 300, Depth: 13, Split: 10, Leaf: 9, Score: 0.6293396365785198\n",
      "Estimators: 300, Depth: 13, Split: 10, Leaf: 10, Score: 0.6277145811789038\n",
      "Estimators: 300, Depth: 13, Split: 10, Leaf: 11, Score: 0.6283055104151278\n",
      "Estimators: 400, Depth: 11, Split: 2, Leaf: 9, Score: 0.6269759196336239\n",
      "Estimators: 400, Depth: 11, Split: 2, Leaf: 10, Score: 0.6265327227064559\n",
      "Estimators: 400, Depth: 11, Split: 2, Leaf: 11, Score: 0.6260895257792879\n",
      "Estimators: 400, Depth: 11, Split: 5, Leaf: 9, Score: 0.6284532427241838\n",
      "Estimators: 400, Depth: 11, Split: 5, Leaf: 10, Score: 0.626237258088344\n",
      "Estimators: 400, Depth: 11, Split: 5, Leaf: 11, Score: 0.624759934997784\n",
      "Estimators: 400, Depth: 11, Split: 10, Leaf: 9, Score: 0.6294873688875757\n",
      "Estimators: 400, Depth: 11, Split: 10, Leaf: 10, Score: 0.6260895257792879\n",
      "Estimators: 400, Depth: 11, Split: 10, Leaf: 11, Score: 0.62490766730684\n",
      "Estimators: 400, Depth: 12, Split: 2, Leaf: 9, Score: 0.6271236519426798\n",
      "Estimators: 400, Depth: 12, Split: 2, Leaf: 10, Score: 0.6272713842517359\n",
      "Estimators: 400, Depth: 12, Split: 2, Leaf: 11, Score: 0.626237258088344\n",
      "Estimators: 400, Depth: 12, Split: 5, Leaf: 9, Score: 0.6281577781060718\n",
      "Estimators: 400, Depth: 12, Split: 5, Leaf: 10, Score: 0.6274191165607919\n",
      "Estimators: 400, Depth: 12, Split: 5, Leaf: 11, Score: 0.6299305658147437\n",
      "Estimators: 400, Depth: 12, Split: 10, Leaf: 9, Score: 0.6293396365785198\n",
      "Estimators: 400, Depth: 12, Split: 10, Leaf: 10, Score: 0.6260895257792879\n",
      "Estimators: 400, Depth: 12, Split: 10, Leaf: 11, Score: 0.6274191165607919\n",
      "Estimators: 400, Depth: 13, Split: 2, Leaf: 9, Score: 0.6283055104151278\n",
      "Estimators: 400, Depth: 13, Split: 2, Leaf: 10, Score: 0.6281577781060718\n",
      "Estimators: 400, Depth: 13, Split: 2, Leaf: 11, Score: 0.6275668488698478\n",
      "Estimators: 400, Depth: 13, Split: 5, Leaf: 9, Score: 0.6290441719604077\n",
      "Estimators: 400, Depth: 13, Split: 5, Leaf: 10, Score: 0.6286009750332398\n",
      "Estimators: 400, Depth: 13, Split: 5, Leaf: 11, Score: 0.6299305658147437\n",
      "Estimators: 400, Depth: 13, Split: 10, Leaf: 9, Score: 0.6294873688875757\n",
      "Estimators: 400, Depth: 13, Split: 10, Leaf: 10, Score: 0.6272713842517359\n",
      "Estimators: 400, Depth: 13, Split: 10, Leaf: 11, Score: 0.6266804550155118\n"
     ]
    }
   ],
   "source": [
    "\n",
    "# Random Forest\n",
    "rf = RandomForestClassifier()\n",
    "\n",
    "# Hiperparametros\n",
    "n_estimators = [200, 300, 400,]\n",
    "max_depth= [11, 12, 13]\n",
    "min_samples_split= [2, 5, 10]\n",
    "min_samples_leaf= [9, 10, 11]\n",
    "\n",
    "# Get the best parameters and model\n",
    "for n in n_estimators:\n",
    "    for m in max_depth:\n",
    "        for s in min_samples_split:\n",
    "            for l in min_samples_leaf:\n",
    "                rf.set_params(n_estimators=n, max_depth=m, min_samples_split=s, min_samples_leaf=l)\n",
    "                rf.fit(X_train, y_train)\n",
    "                score = rf.score(X_val, y_val)\n",
    "                print(f\"Estimators: {n}, Depth: {m}, Split: {s}, Leaf: {l}, Score: {score}\")\n",
    "# Choose the best parameters based on validation score"
   ]
  },
  {
   "cell_type": "markdown",
   "metadata": {},
   "source": [
    "Estimators: 200, Depth: 12, Split: 2, Leaf: 9, Score: 0.6305214950509677"
   ]
  },
  {
   "cell_type": "markdown",
   "metadata": {},
   "source": [
    "### Predicción en test"
   ]
  },
  {
   "cell_type": "code",
   "execution_count": 19,
   "metadata": {},
   "outputs": [
    {
     "name": "stdout",
     "output_type": "stream",
     "text": [
      "DECISION TREE: 0.624464470379672\n"
     ]
    }
   ],
   "source": [
    "rf = RandomForestClassifier()\n",
    "rf.set_params(n_estimators=200, max_depth=12, min_samples_split=2,min_samples_leaf=9)\n",
    "rf.fit(X_train, y_train)\n",
    "rf_score = rf.score(X_test, y_test)\n",
    "print(f\"DECISION TREE: {rf_score}\")"
   ]
  },
  {
   "cell_type": "markdown",
   "metadata": {},
   "source": [
    "## SUPPORT VECTOR MACHINE"
   ]
  },
  {
   "cell_type": "code",
   "execution_count": 20,
   "metadata": {},
   "outputs": [],
   "source": [
    "from sklearn.svm import SVC"
   ]
  },
  {
   "cell_type": "code",
   "execution_count": null,
   "metadata": {},
   "outputs": [
    {
     "name": "stdout",
     "output_type": "stream",
     "text": [
      "C: 1200, Kernel: linear, Score: 0.5535529620327966\n",
      "C: 1200, Kernel: poly, Score: 0.5411434480720934\n",
      "C: 1200, Kernel: rbf, Score: 0.5842812823164426\n",
      "C: 1300, Kernel: linear, Score: 0.5541438912690205\n",
      "C: 1300, Kernel: poly, Score: 0.5418821096173733\n",
      "C: 1300, Kernel: rbf, Score: 0.5851676761707786\n",
      "C: 1400, Kernel: linear, Score: 0.5513369773969568\n",
      "C: 1400, Kernel: poly, Score: 0.5421775742354853\n",
      "C: 1400, Kernel: rbf, Score: 0.5845767469345546\n",
      "C: 1500, Kernel: linear, Score: 0.5545870881961885\n",
      "C: 1500, Kernel: poly, Score: 0.5423253065445413\n",
      "C: 1500, Kernel: rbf, Score: 0.5842812823164426\n"
     ]
    }
   ],
   "source": [
    "\n",
    "\n",
    "# Support Vector Machine\n",
    "svm = SVC()\n",
    "\n",
    "# Hyperparameters\n",
    "C_values = [1200, 1300, 1400, 1500]\n",
    "kernels = ['linear', 'poly', 'rbf']\n",
    "\n",
    "\n",
    "\n",
    "# Get the best parameters and model\n",
    "for c in C_values:\n",
    "    for kernel in kernels:\n",
    "        svm.set_params(C=c, kernel=kernel)\n",
    "        svm.fit(X_train, y_train)\n",
    "        score = svm.score(X_val, y_val)\n",
    "        print(f\"C: {c}, Kernel: {kernel}, Score: {score}\")\n",
    "# Choose the best parameters based on validation score"
   ]
  },
  {
   "cell_type": "markdown",
   "metadata": {},
   "source": [
    "C_values: 1300, Kernel: rbf, Score: 0.5851676761707786\n"
   ]
  },
  {
   "cell_type": "markdown",
   "metadata": {},
   "source": [
    "### Predicción en test"
   ]
  },
  {
   "cell_type": "code",
   "execution_count": 21,
   "metadata": {},
   "outputs": [
    {
     "name": "stdout",
     "output_type": "stream",
     "text": [
      "DECISION TREE: 0.577485596099867\n"
     ]
    }
   ],
   "source": [
    "svm = SVC()\n",
    "svm.set_params(C=1300,kernel='rbf')\n",
    "svm.fit(X_train, y_train)\n",
    "svm_score = svm.score(X_test, y_test)\n",
    "print(f\"DECISION TREE: {svm_score}\")"
   ]
  },
  {
   "cell_type": "code",
   "execution_count": 22,
   "metadata": {},
   "outputs": [
    {
     "data": {
      "image/png": "[encoded data removed]",
      "text/plain": [
       "<Figure size 800x500 with 1 Axes>"
      ]
     },
     "metadata": {},
     "output_type": "display_data"
    }
   ],
   "source": [
    "import matplotlib.pyplot as plt\n",
    "\n",
    "# Accuracy scores\n",
    "scores = [svm_score, rf_score, dt_score, knn_score]\n",
    "models = ['SVM', 'Random Forest', 'Decision Tree', 'KNN']\n",
    "\n",
    "# Plot\n",
    "plt.figure(figsize=(8, 5))\n",
    "plt.bar(models, scores, color=['blue', 'green', 'orange', 'red'])\n",
    "plt.title('Model Accuracy Comparison')\n",
    "plt.ylabel('Accuracy Score')\n",
    "plt.ylim(0, 1)\n",
    "plt.show()"
   ]
  },
  {
   "cell_type": "markdown",
   "metadata": {},
   "source": [
    "El random fores da mejores resultados en este caso"
   ]
  }
 ],
 "metadata": {
  "kernelspec": {
   "display_name": "Python 3",
   "language": "python",
   "name": "python3"
  },
  "language_info": {
   "codemirror_mode": {
    "name": "ipython",
    "version": 3
   },
   "file_extension": ".py",
   "mimetype": "text/x-python",
   "name": "python",
   "nbconvert_exporter": "python",
   "pygments_lexer": "ipython3",
   "version": "3.12.7"
  }
 },
 "nbformat": 4,
 "nbformat_minor": 2
}
