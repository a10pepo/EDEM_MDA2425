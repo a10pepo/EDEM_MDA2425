{
 "cells": [
  {
   "cell_type": "markdown",
   "metadata": {},
   "source": [
    "# Problema\n",
    "\n",
    "Predecir el coste del seguro"
   ]
  },
  {
   "cell_type": "markdown",
   "metadata": {
    "id": "XpPr25I0aINE"
   },
   "source": [
    "## Instrucciones\n",
    "\n",
    " Utilizar el dataset (insurance.csv) para entrenar un modelo de regresión capaz de predecir el valor del seguro en función de las características del cliente. Realizar limpieza, preprocesado modelado y testeo del modelo aportando conclusiones de todos estos pasos."
   ]
  },
  {
   "cell_type": "markdown",
   "metadata": {
    "id": "kNF4GgV_n34K"
   },
   "source": [
    "# El set de datos\n",
    "\n",
    "* age: age of primary beneficiary\n",
    "\n",
    "* sex: insurance contractor gender, female, male\n",
    "\n",
    "* bmi: Body mass index, providing an understanding of body, weights that are relatively high or low relative to height,\n",
    "objective index of body weight (kg / m ^ 2) using the ratio of height to weight, ideally 18.5 to 24.9\n",
    "\n",
    "* children: Number of children covered by health insurance / Number of dependents\n",
    "\n",
    "* smoker: Smoking\n",
    "\n",
    "* region: the beneficiary's residential area in the US, northeast, southeast, southwest, northwest.\n",
    "\n",
    "* charges: Individual medical costs billed by health insurance\n",
    "\n"
   ]
  },
  {
   "cell_type": "code",
   "execution_count": 18,
   "metadata": {
    "id": "LDnXEh9vn2GX"
   },
   "outputs": [],
   "source": [
    "# imports\n",
    "import pandas as pd\n"
   ]
  },
  {
   "cell_type": "code",
   "execution_count": 19,
   "metadata": {
    "id": "uZkDH4HMoERG"
   },
   "outputs": [],
   "source": [
    "ruta = \"insurance.csv\"\n",
    "data = pd.read_csv(ruta)"
   ]
  },
  {
   "cell_type": "code",
   "execution_count": 20,
   "metadata": {
    "id": "2C6TxrrjoLca"
   },
   "outputs": [
    {
     "name": "stdout",
     "output_type": "stream",
     "text": [
      "(1338, 7)\n"
     ]
    },
    {
     "data": {
      "text/html": [
       "<div>\n",
       "<style scoped>\n",
       "    .dataframe tbody tr th:only-of-type {\n",
       "        vertical-align: middle;\n",
       "    }\n",
       "\n",
       "    .dataframe tbody tr th {\n",
       "        vertical-align: top;\n",
       "    }\n",
       "\n",
       "    .dataframe thead th {\n",
       "        text-align: right;\n",
       "    }\n",
       "</style>\n",
       "<table border=\"1\" class=\"dataframe\">\n",
       "  <thead>\n",
       "    <tr style=\"text-align: right;\">\n",
       "      <th></th>\n",
       "      <th>age</th>\n",
       "      <th>sex</th>\n",
       "      <th>bmi</th>\n",
       "      <th>children</th>\n",
       "      <th>smoker</th>\n",
       "      <th>region</th>\n",
       "      <th>charges</th>\n",
       "    </tr>\n",
       "  </thead>\n",
       "  <tbody>\n",
       "    <tr>\n",
       "      <th>0</th>\n",
       "      <td>19</td>\n",
       "      <td>female</td>\n",
       "      <td>27.900</td>\n",
       "      <td>0</td>\n",
       "      <td>yes</td>\n",
       "      <td>southwest</td>\n",
       "      <td>16884.92400</td>\n",
       "    </tr>\n",
       "    <tr>\n",
       "      <th>1</th>\n",
       "      <td>18</td>\n",
       "      <td>male</td>\n",
       "      <td>33.770</td>\n",
       "      <td>1</td>\n",
       "      <td>no</td>\n",
       "      <td>southeast</td>\n",
       "      <td>1725.55230</td>\n",
       "    </tr>\n",
       "    <tr>\n",
       "      <th>2</th>\n",
       "      <td>28</td>\n",
       "      <td>male</td>\n",
       "      <td>33.000</td>\n",
       "      <td>3</td>\n",
       "      <td>no</td>\n",
       "      <td>southeast</td>\n",
       "      <td>4449.46200</td>\n",
       "    </tr>\n",
       "    <tr>\n",
       "      <th>3</th>\n",
       "      <td>33</td>\n",
       "      <td>male</td>\n",
       "      <td>22.705</td>\n",
       "      <td>0</td>\n",
       "      <td>no</td>\n",
       "      <td>northwest</td>\n",
       "      <td>21984.47061</td>\n",
       "    </tr>\n",
       "    <tr>\n",
       "      <th>4</th>\n",
       "      <td>32</td>\n",
       "      <td>male</td>\n",
       "      <td>28.880</td>\n",
       "      <td>0</td>\n",
       "      <td>no</td>\n",
       "      <td>northwest</td>\n",
       "      <td>3866.85520</td>\n",
       "    </tr>\n",
       "  </tbody>\n",
       "</table>\n",
       "</div>"
      ],
      "text/plain": [
       "   age     sex     bmi  children smoker     region      charges\n",
       "0   19  female  27.900         0    yes  southwest  16884.92400\n",
       "1   18    male  33.770         1     no  southeast   1725.55230\n",
       "2   28    male  33.000         3     no  southeast   4449.46200\n",
       "3   33    male  22.705         0     no  northwest  21984.47061\n",
       "4   32    male  28.880         0     no  northwest   3866.85520"
      ]
     },
     "execution_count": 20,
     "metadata": {},
     "output_type": "execute_result"
    }
   ],
   "source": [
    "print(data.shape)\n",
    "data.head()"
   ]
  },
  {
   "cell_type": "markdown",
   "metadata": {
    "id": "suOncPeIo2Ln"
   },
   "source": [
    "# Objetivo\n",
    "\n",
    "Generar un model de regresión capaz de predecir el valor del seguro en base a las características del cliente.\n",
    "\n",
    "* Aplicar las técnicas oportunas de procesamiento de datos (lipieza, nans, escalado...)\n",
    "\n",
    "* Valorar diferentes modelos de regresión (linear regressor, polynomial, ridge, lasso, elastic, decission tree y random forest)\n",
    "\n",
    "* Comparación entre modelos (dividir el dataset en train y test, entrenar con el train y evaluar con el test)\n",
    "\n",
    "* Métricas (todas, y que aporta cada una)\n",
    "\n",
    "* Conclusiones finales"
   ]
  },
  {
   "cell_type": "markdown",
   "metadata": {
    "id": "Ee-3csHRJxqW"
   },
   "source": [
    "# Implementación"
   ]
  },
  {
   "cell_type": "markdown",
   "metadata": {},
   "source": [
    "## EDA"
   ]
  },
  {
   "cell_type": "markdown",
   "metadata": {},
   "source": [
    "### Age"
   ]
  },
  {
   "cell_type": "code",
   "execution_count": 21,
   "metadata": {},
   "outputs": [
    {
     "name": "stdout",
     "output_type": "stream",
     "text": [
      "count    1338.000000\n",
      "mean       39.207025\n",
      "std        14.049960\n",
      "min        18.000000\n",
      "25%        27.000000\n",
      "50%        39.000000\n",
      "75%        51.000000\n",
      "max        64.000000\n",
      "Name: age, dtype: float64\n",
      "0    18\n",
      "Name: age, dtype: int64\n"
     ]
    },
    {
     "data": {
      "image/png": "[encoded data removed]",
      "text/plain": [
       "<Figure size 640x480 with 1 Axes>"
      ]
     },
     "metadata": {},
     "output_type": "display_data"
    }
   ],
   "source": [
    "data[\"age\"].hist(bins=47, grid=False)\n",
    "print(data[\"age\"].describe())\n",
    "print(data[\"age\"].mode())"
   ]
  },
  {
   "cell_type": "markdown",
   "metadata": {},
   "source": [
    "Tenemos demasiadas instancias de 18 y 19 amaños. Esto podria causar que el modelo prediga demasiado bien estas edades y muy mal el resto."
   ]
  },
  {
   "cell_type": "markdown",
   "metadata": {},
   "source": [
    "### Sex"
   ]
  },
  {
   "cell_type": "code",
   "execution_count": 22,
   "metadata": {},
   "outputs": [
    {
     "data": {
      "text/plain": [
       "<Axes: ylabel='count'>"
      ]
     },
     "execution_count": 22,
     "metadata": {},
     "output_type": "execute_result"
    },
    {
     "data": {
      "image/png": "[encoded data removed]",
      "text/plain": [
       "<Figure size 640x480 with 1 Axes>"
      ]
     },
     "metadata": {},
     "output_type": "display_data"
    }
   ],
   "source": [
    "data['sex'].value_counts().plot.pie(autopct='%1.1f%%', startangle=90, colors=['#ff9999','#66b3ff'])"
   ]
  },
  {
   "cell_type": "markdown",
   "metadata": {},
   "source": [
    "Se ve bien. "
   ]
  },
  {
   "cell_type": "markdown",
   "metadata": {},
   "source": [
    "### Bmi"
   ]
  },
  {
   "cell_type": "code",
   "execution_count": 23,
   "metadata": {
    "id": "oGEq8EGTpp7g"
   },
   "outputs": [
    {
     "name": "stdout",
     "output_type": "stream",
     "text": [
      "count    1338.000000\n",
      "mean       30.663397\n",
      "std         6.098187\n",
      "min        15.960000\n",
      "25%        26.296250\n",
      "50%        30.400000\n",
      "75%        34.693750\n",
      "max        53.130000\n",
      "Name: bmi, dtype: float64\n",
      "0    32.3\n",
      "Name: bmi, dtype: float64\n"
     ]
    },
    {
     "data": {
      "image/png": "[encoded data removed]",
      "text/plain": [
       "<Figure size 640x480 with 1 Axes>"
      ]
     },
     "metadata": {},
     "output_type": "display_data"
    }
   ],
   "source": [
    "data[\"bmi\"].hist(bins=47, grid=False)\n",
    "print(data[\"bmi\"].describe())\n",
    "print(data[\"bmi\"].mode())"
   ]
  },
  {
   "cell_type": "markdown",
   "metadata": {},
   "source": [
    "### Children"
   ]
  },
  {
   "cell_type": "code",
   "execution_count": 24,
   "metadata": {},
   "outputs": [
    {
     "name": "stdout",
     "output_type": "stream",
     "text": [
      "children\n",
      "0    574\n",
      "1    324\n",
      "2    240\n",
      "3    157\n",
      "4     25\n",
      "5     18\n",
      "Name: count, dtype: int64\n"
     ]
    },
    {
     "data": {
      "image/png": "[encoded data removed]",
      "text/plain": [
       "<Figure size 640x480 with 1 Axes>"
      ]
     },
     "metadata": {},
     "output_type": "display_data"
    }
   ],
   "source": [
    "data['children'].value_counts().plot.pie(autopct='%1.1f%%', startangle=90, colors=['#ff9999','#66b3ff'])\n",
    "print(data['children'].value_counts())"
   ]
  },
  {
   "cell_type": "markdown",
   "metadata": {},
   "source": [
    "Muy pocos casos con 4 o 5 hijos. Esto podria causar problemas en las predicciones. "
   ]
  },
  {
   "cell_type": "markdown",
   "metadata": {},
   "source": [
    "### Smoker"
   ]
  },
  {
   "cell_type": "code",
   "execution_count": 25,
   "metadata": {},
   "outputs": [
    {
     "name": "stdout",
     "output_type": "stream",
     "text": [
      "smoker\n",
      "no     1064\n",
      "yes     274\n",
      "Name: count, dtype: int64\n"
     ]
    },
    {
     "data": {
      "image/png": "[encoded data removed]",
      "text/plain": [
       "<Figure size 640x480 with 1 Axes>"
      ]
     },
     "metadata": {},
     "output_type": "display_data"
    }
   ],
   "source": [
    "data['smoker'].value_counts().plot.pie(autopct='%1.1f%%', startangle=90, colors=['#ff9999','#66b3ff'])\n",
    "print(data['smoker'].value_counts())"
   ]
  },
  {
   "cell_type": "markdown",
   "metadata": {},
   "source": [
    "De nuevo tenemos muchos más casos de no fumadores que de fumadores, esto podria causar problemas tambien."
   ]
  },
  {
   "cell_type": "markdown",
   "metadata": {},
   "source": [
    "### Region"
   ]
  },
  {
   "cell_type": "code",
   "execution_count": 26,
   "metadata": {},
   "outputs": [
    {
     "name": "stdout",
     "output_type": "stream",
     "text": [
      "region\n",
      "southeast    364\n",
      "southwest    325\n",
      "northwest    325\n",
      "northeast    324\n",
      "Name: count, dtype: int64\n"
     ]
    },
    {
     "data": {
      "image/png": "[encoded data removed]",
      "text/plain": [
       "<Figure size 640x480 with 1 Axes>"
      ]
     },
     "metadata": {},
     "output_type": "display_data"
    }
   ],
   "source": [
    "data['region'].value_counts().plot.pie(autopct='%1.1f%%', startangle=90, colors=['#ff9999','#66b3ff'])\n",
    "print(data['region'].value_counts())"
   ]
  },
  {
   "cell_type": "markdown",
   "metadata": {},
   "source": [
    "esta muestra una distribución bastante equitativa. No deveria cuasar problemas."
   ]
  },
  {
   "cell_type": "markdown",
   "metadata": {},
   "source": [
    "### Charges = variable objetivo"
   ]
  },
  {
   "cell_type": "code",
   "execution_count": 27,
   "metadata": {},
   "outputs": [
    {
     "name": "stdout",
     "output_type": "stream",
     "text": [
      "1337\n"
     ]
    }
   ],
   "source": [
    "print(data['charges'].nunique())"
   ]
  },
  {
   "cell_type": "code",
   "execution_count": 28,
   "metadata": {},
   "outputs": [
    {
     "name": "stdout",
     "output_type": "stream",
     "text": [
      "count     1338.000000\n",
      "mean     13270.422265\n",
      "std      12110.011237\n",
      "min       1121.873900\n",
      "25%       4740.287150\n",
      "50%       9382.033000\n",
      "75%      16639.912515\n",
      "max      63770.428010\n",
      "Name: charges, dtype: float64\n",
      "0    1639.5631\n",
      "Name: charges, dtype: float64\n"
     ]
    },
    {
     "data": {
      "image/png": "[encoded data removed]",
      "text/plain": [
       "<Figure size 640x480 with 1 Axes>"
      ]
     },
     "metadata": {},
     "output_type": "display_data"
    }
   ],
   "source": [
    "data[\"charges\"].hist(bins=100, grid=False)\n",
    "print(data[\"charges\"].describe())\n",
    "print(data[\"charges\"].mode())"
   ]
  },
  {
   "cell_type": "markdown",
   "metadata": {},
   "source": [
    "El 75% de los datos se encuentran por debajo de 16000 el resto se reparten desde este hasta por encima del 60000. Esto podría causar problemas."
   ]
  },
  {
   "cell_type": "markdown",
   "metadata": {},
   "source": [
    "## Modelos"
   ]
  },
  {
   "cell_type": "markdown",
   "metadata": {},
   "source": [
    "#### Polinomial features"
   ]
  },
  {
   "cell_type": "markdown",
   "metadata": {},
   "source": [
    "### Normalizar y codificar variables."
   ]
  },
  {
   "cell_type": "code",
   "execution_count": 29,
   "metadata": {},
   "outputs": [
    {
     "name": "stdout",
     "output_type": "stream",
     "text": [
      "(1338, 6)\n",
      "(1338, 11)\n"
     ]
    }
   ],
   "source": [
    "from sklearn.preprocessing import OneHotEncoder, StandardScaler\n",
    "from sklearn.compose import ColumnTransformer\n",
    "from sklearn.pipeline import Pipeline\n",
    "\n",
    "X = data.drop(columns=['charges'])\n",
    "y = data['charges']\n",
    "\n",
    "# Define the column transformer\n",
    "preprocessor = ColumnTransformer(\n",
    "    transformers=[\n",
    "        ('num', StandardScaler(), ['age', 'bmi', 'children']),\n",
    "        ('cat', OneHotEncoder(), ['sex', 'smoker', 'region'])\n",
    "    ])\n",
    "\n",
    "# Apply the transformations to the data\n",
    "X_trans = preprocessor.fit_transform(X)\n",
    "# Standardize the target variable\n",
    "scaler_y = StandardScaler()\n",
    "y_trans = scaler_y.fit_transform(y.values.reshape(-1, 1))\n",
    "\n",
    "\n",
    "\n",
    "print(X.shape)\n",
    "print(X_trans.shape)"
   ]
  },
  {
   "cell_type": "code",
   "execution_count": 30,
   "metadata": {},
   "outputs": [],
   "source": [
    "from sklearn.preprocessing import PolynomialFeatures\n",
    "degree = 2\n",
    "poly_features = PolynomialFeatures(degree=degree, include_bias=False)\n",
    "X_poly = poly_features.fit_transform(X_trans)"
   ]
  },
  {
   "cell_type": "markdown",
   "metadata": {},
   "source": [
    "### Train test val split"
   ]
  },
  {
   "cell_type": "code",
   "execution_count": 31,
   "metadata": {},
   "outputs": [
    {
     "name": "stdout",
     "output_type": "stream",
     "text": [
      "Datos 2 de Entrenamiento: 1070\n",
      "Datos de Validación: 134\n",
      "Datos de Test: 134\n"
     ]
    }
   ],
   "source": [
    "from sklearn.model_selection import train_test_split\n",
    "\n",
    "\n",
    "# 80 % TRAIN, 10% VAL y 10 % TEST\n",
    "X_train, X_test_val, y_train, y_test_val = train_test_split(X_trans, y_trans, test_size=0.2, random_state=0)\n",
    "X_test, X_val, y_test, y_val = train_test_split(X_test_val, y_test_val, test_size=0.5, random_state=0)\n",
    "\n",
    "Xpoly_train, Xpoly_test_val, ypoly_train, ypoly_test_val = train_test_split(X_poly, y_trans, test_size=0.2, random_state=0)\n",
    "Xpoly_test, Xpoly_val, ypoly_test, ypoly_val = train_test_split(Xpoly_test_val, ypoly_test_val, test_size=0.5, random_state=0)\n",
    "\n",
    "print('Datos 2 de Entrenamiento:', X_train.shape[0])\n",
    "print('Datos de Validación:', X_val.shape[0])\n",
    "print('Datos de Test:', X_test.shape[0])"
   ]
  },
  {
   "cell_type": "markdown",
   "metadata": {},
   "source": [
    "### Elastic net"
   ]
  },
  {
   "cell_type": "code",
   "execution_count": 32,
   "metadata": {},
   "outputs": [
    {
     "name": "stdout",
     "output_type": "stream",
     "text": [
      "MSE en elastic sin poly: 0.17762675236098613\n",
      "MSE en elastic con poly: 0.07604427080773946\n"
     ]
    },
    {
     "name": "stderr",
     "output_type": "stream",
     "text": [
      "c:\\Users\\veint\\AppData\\Local\\Programs\\Python\\Python312\\Lib\\site-packages\\sklearn\\linear_model\\_coordinate_descent.py:697: ConvergenceWarning: Objective did not converge. You might want to increase the number of iterations, check the scale of the features or consider increasing regularisation. Duality gap: 1.179e+00, tolerance: 1.047e-01\n",
      "  model = cd_fast.enet_coordinate_descent(\n"
     ]
    }
   ],
   "source": [
    "from sklearn.linear_model import ElasticNet\n",
    "from sklearn.metrics import mean_squared_error\n",
    "\n",
    "\n",
    "# Entrenar modelos con Elastic Net\n",
    "elastic_net = ElasticNet(alpha=0.001, l1_ratio=0.3)\n",
    "elastic_net.fit(X_train, y_train)\n",
    "elastic_net_predictions = elastic_net.predict(X_test)\n",
    "\n",
    "mse = mean_squared_error(y_test, elastic_net_predictions)\n",
    "\n",
    "print(\"MSE en elastic sin poly:\", mse)\n",
    "\n",
    "elastic_net = ElasticNet(alpha=0.001, l1_ratio=0.3)\n",
    "elastic_net.fit(Xpoly_train, ypoly_train)\n",
    "elastic_net_predictions = elastic_net.predict(Xpoly_test)\n",
    "\n",
    "mse = mean_squared_error(ypoly_test, elastic_net_predictions)\n",
    "\n",
    "print(\"MSE en elastic con poly:\", mse)"
   ]
  },
  {
   "cell_type": "markdown",
   "metadata": {},
   "source": [
    "Se puede ver que agregar caracteristicas polinomicas ayuda a la predicción"
   ]
  },
  {
   "cell_type": "code",
   "execution_count": 33,
   "metadata": {},
   "outputs": [
    {
     "name": "stdout",
     "output_type": "stream",
     "text": [
      "Best parameters: {'max_depth': 3, 'min_samples_split': 2, 'poly': True}\n",
      "Lowest MSE: 0.058313071652105454\n"
     ]
    }
   ],
   "source": [
    "from sklearn.tree import DecisionTreeRegressor\n",
    "\n",
    "# Define hyperparameters to test\n",
    "max_depths = [3, 5, 7, 10]\n",
    "min_samples_splits = [2, 5, 10]\n",
    "\n",
    "# Initialize variables to store the best parameters and lowest MSE\n",
    "best_params = {}\n",
    "lowest_mse = float('inf')\n",
    "\n",
    "# Loop through all combinations of hyperparameters\n",
    "for max_depth in max_depths:\n",
    "    for min_samples_split in min_samples_splits:\n",
    "        # Train Decision Tree with original training data\n",
    "        decision_tree = DecisionTreeRegressor(max_depth=max_depth, min_samples_split=min_samples_split, random_state=0)\n",
    "        decision_tree.fit(X_train, y_train)\n",
    "        dt_predictions = decision_tree.predict(X_test)\n",
    "        mse_dt = mean_squared_error(y_test, dt_predictions)\n",
    "\n",
    "        # Train Decision Tree with polynomial features training data\n",
    "        decision_tree_poly = DecisionTreeRegressor(max_depth=max_depth, min_samples_split=min_samples_split, random_state=0)\n",
    "        decision_tree_poly.fit(Xpoly_train, ypoly_train)\n",
    "        dt_poly_predictions = decision_tree_poly.predict(Xpoly_test)\n",
    "        mse_dt_poly = mean_squared_error(ypoly_test, dt_poly_predictions)\n",
    "\n",
    "        # Check if this combination has the lowest MSE\n",
    "        if mse_dt < lowest_mse:\n",
    "            lowest_mse = mse_dt\n",
    "            best_params = {'max_depth': max_depth, 'min_samples_split': min_samples_split, 'poly': False}\n",
    "\n",
    "        if mse_dt_poly < lowest_mse:\n",
    "            lowest_mse = mse_dt_poly\n",
    "            best_params = {'max_depth': max_depth, 'min_samples_split': min_samples_split, 'poly': True}\n",
    "\n",
    "print(\"Best parameters:\", best_params)\n",
    "print(\"Lowest MSE:\", lowest_mse)"
   ]
  },
  {
   "cell_type": "code",
   "execution_count": 35,
   "metadata": {},
   "outputs": [
    {
     "name": "stdout",
     "output_type": "stream",
     "text": [
      "MSE en Decision Tree sin poly: 0.061915873435651934\n",
      "MSE en Decision Tree con poly: 0.058313071652105454\n"
     ]
    }
   ],
   "source": [
    "\n",
    "# Train Decision Tree with original training data\n",
    "decision_tree = DecisionTreeRegressor(max_depth=3,min_samples_leaf=2,random_state=0)\n",
    "decision_tree.fit(X_train, y_train)\n",
    "dt_predictions = decision_tree.predict(X_test)\n",
    "\n",
    "mse_dt = mean_squared_error(y_test, dt_predictions)\n",
    "print(\"MSE en Decision Tree sin poly:\", mse_dt)\n",
    "\n",
    "# Train Decision Tree with polynomial features training data\n",
    "decision_tree_poly = DecisionTreeRegressor(max_depth=3,min_samples_leaf=2,random_state=0)\n",
    "decision_tree_poly.fit(Xpoly_train, ypoly_train)\n",
    "dt_poly_predictions = decision_tree_poly.predict(Xpoly_test)\n",
    "\n",
    "mse_dt_poly = mean_squared_error(ypoly_test, dt_poly_predictions)\n",
    "print(\"MSE en Decision Tree con poly:\", mse_dt_poly)"
   ]
  },
  {
   "cell_type": "markdown",
   "metadata": {},
   "source": [
    "Los resultados mejoran, poly sigue mejorando los resultados de forma standar"
   ]
  },
  {
   "cell_type": "code",
   "execution_count": 37,
   "metadata": {},
   "outputs": [
    {
     "name": "stdout",
     "output_type": "stream",
     "text": [
      "Best parameters for Random Forest: {'n_estimators': 50, 'max_depth': 5, 'min_samples_split': 2, 'poly': True}\n",
      "Lowest MSE for Random Forest: 0.1663258357065687\n"
     ]
    }
   ],
   "source": [
    "from sklearn.ensemble import RandomForestRegressor\n",
    "\n",
    "# Define hyperparameters to test\n",
    "n_estimators = [50, 100, 200]\n",
    "max_depths = [3, 5, 7, 10]\n",
    "min_samples_splits = [2, 5, 10]\n",
    "\n",
    "# Initialize variables to store the best parameters and lowest MSE\n",
    "best_params_rf = {}\n",
    "lowest_mse_rf = float('inf')\n",
    "\n",
    "# Loop through all combinations of hyperparameters\n",
    "for n_estimator in n_estimators:\n",
    "    for max_depth in max_depths:\n",
    "        for min_samples_split in min_samples_splits:\n",
    "            # Train Random Forest with original training data\n",
    "            random_forest = RandomForestRegressor(n_estimators=n_estimator, max_depth=max_depth, min_samples_split=min_samples_split, random_state=0)\n",
    "            random_forest.fit(X_train, y_train.ravel())\n",
    "            rf_predictions = random_forest.predict(X_val)\n",
    "            mse_rf = mean_squared_error(y_val, rf_predictions)\n",
    "\n",
    "            # Train Random Forest with polynomial features training data\n",
    "            random_forest_poly = RandomForestRegressor(n_estimators=n_estimator, max_depth=max_depth, min_samples_split=min_samples_split, random_state=0)\n",
    "            random_forest_poly.fit(Xpoly_train, ypoly_train.ravel())\n",
    "            rf_poly_predictions = random_forest_poly.predict(Xpoly_val)\n",
    "            mse_rf_poly = mean_squared_error(ypoly_val, rf_poly_predictions)\n",
    "\n",
    "            # Check if this combination has the lowest MSE\n",
    "            if mse_rf < lowest_mse_rf:\n",
    "                lowest_mse_rf = mse_rf\n",
    "                best_params_rf = {'n_estimators': n_estimator, 'max_depth': max_depth, 'min_samples_split': min_samples_split, 'poly': False}\n",
    "\n",
    "            if mse_rf_poly < lowest_mse_rf:\n",
    "                lowest_mse_rf = mse_rf_poly\n",
    "                best_params_rf = {'n_estimators': n_estimator, 'max_depth': max_depth, 'min_samples_split': min_samples_split, 'poly': True}\n",
    "\n",
    "print(\"Best parameters for Random Forest:\", best_params_rf)\n",
    "print(\"Lowest MSE for Random Forest:\", lowest_mse_rf)"
   ]
  },
  {
   "cell_type": "code",
   "execution_count": 38,
   "metadata": {},
   "outputs": [
    {
     "name": "stdout",
     "output_type": "stream",
     "text": [
      "MSE en Random Forest sin poly: 0.05456786235141867\n",
      "MSE en Random Forest con poly: 0.052259678045178226\n"
     ]
    }
   ],
   "source": [
    "# Initialize the RandomForestRegressor\n",
    "random_forest = RandomForestRegressor(n_estimators=50,max_depth=5,min_samples_split=2, random_state=0)\n",
    "\n",
    "# Train the model with the original training data\n",
    "random_forest.fit(X_train, y_train.ravel())\n",
    "rf_predictions = random_forest.predict(X_test)\n",
    "mse_rf = mean_squared_error(y_test, rf_predictions)\n",
    "print(\"MSE en Random Forest sin poly:\", mse_rf)\n",
    "\n",
    "# Train the model with the polynomial features training data\n",
    "random_forest_poly = RandomForestRegressor(n_estimators=50,max_depth=5,min_samples_split=2, random_state=0)\n",
    "\n",
    "random_forest_poly.fit(Xpoly_train, ypoly_train.ravel())\n",
    "rf_poly_predictions = random_forest_poly.predict(Xpoly_test)\n",
    "mse_rf_poly = mean_squared_error(ypoly_test, rf_poly_predictions)\n",
    "print(\"MSE en Random Forest con poly:\", mse_rf_poly)"
   ]
  },
  {
   "cell_type": "markdown",
   "metadata": {},
   "source": [
    "mejora aún más los resultados y poly mantiene los mejores."
   ]
  },
  {
   "cell_type": "markdown",
   "metadata": {},
   "source": [
    "Test con val"
   ]
  },
  {
   "cell_type": "code",
   "execution_count": 39,
   "metadata": {},
   "outputs": [
    {
     "name": "stdout",
     "output_type": "stream",
     "text": [
      "MSE en Random Forest con poly: 0.1663258357065687\n"
     ]
    }
   ],
   "source": [
    "rf_poly_predictions = random_forest_poly.predict(Xpoly_val)\n",
    "mse_rf_poly = mean_squared_error(ypoly_val, rf_poly_predictions)\n",
    "print(\"MSE en Random Forest con poly:\", mse_rf_poly)\n"
   ]
  },
  {
   "cell_type": "markdown",
   "metadata": {
    "id": "j2PGzN9SpfcP"
   },
   "source": [
    "# Conclusiones"
   ]
  },
  {
   "cell_type": "markdown",
   "metadata": {},
   "source": [
    "Los mejores resultados son los obtenidos mediante un random forest de 50 estimadores, una profundidad maxima de 5 divisiones, 2 elementos minimos para de hacer una división y caracteristicas polinomicas. "
   ]
  }
 ],
 "metadata": {
  "colab": {
   "provenance": []
  },
  "kernelspec": {
   "display_name": "Python 3",
   "language": "python",
   "name": "python3"
  },
  "language_info": {
   "codemirror_mode": {
    "name": "ipython",
    "version": 3
   },
   "file_extension": ".py",
   "mimetype": "text/x-python",
   "name": "python",
   "nbconvert_exporter": "python",
   "pygments_lexer": "ipython3",
   "version": "3.12.7"
  }
 },
 "nbformat": 4,
 "nbformat_minor": 0
}
