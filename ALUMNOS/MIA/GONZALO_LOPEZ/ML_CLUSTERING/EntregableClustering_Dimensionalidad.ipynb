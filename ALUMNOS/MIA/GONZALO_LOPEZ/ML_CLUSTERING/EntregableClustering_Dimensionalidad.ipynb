{
  "cells": [
    {
      "cell_type": "code",
      "execution_count": 3,
      "metadata": {
        "colab": {
          "base_uri": "https://localhost:8080/",
          "height": 669
        },
        "id": "RQRHcPUeElji",
        "outputId": "770b8b2b-26b1-4ac0-e215-c6b2cd170cab"
      },
      "outputs": [
        {
          "data": {
            "text/html": [
              "<div>\n",
              "<style scoped>\n",
              "    .dataframe tbody tr th:only-of-type {\n",
              "        vertical-align: middle;\n",
              "    }\n",
              "\n",
              "    .dataframe tbody tr th {\n",
              "        vertical-align: top;\n",
              "    }\n",
              "\n",
              "    .dataframe thead th {\n",
              "        text-align: right;\n",
              "    }\n",
              "</style>\n",
              "<table border=\"1\" class=\"dataframe\">\n",
              "  <thead>\n",
              "    <tr style=\"text-align: right;\">\n",
              "      <th></th>\n",
              "      <th>danceability</th>\n",
              "      <th>energy</th>\n",
              "      <th>key</th>\n",
              "      <th>loudness</th>\n",
              "      <th>mode</th>\n",
              "      <th>speechiness</th>\n",
              "      <th>acousticness</th>\n",
              "      <th>instrumentalness</th>\n",
              "      <th>liveness</th>\n",
              "      <th>valence</th>\n",
              "      <th>...</th>\n",
              "      <th>uri</th>\n",
              "      <th>track_href</th>\n",
              "      <th>analysis_url</th>\n",
              "      <th>duration_ms</th>\n",
              "      <th>time_signature</th>\n",
              "      <th>genre</th>\n",
              "      <th>song_name</th>\n",
              "      <th>Unnamed: 0</th>\n",
              "      <th>title</th>\n",
              "      <th>Id</th>\n",
              "    </tr>\n",
              "  </thead>\n",
              "  <tbody>\n",
              "    <tr>\n",
              "      <th>0</th>\n",
              "      <td>0.896</td>\n",
              "      <td>0.691</td>\n",
              "      <td>1</td>\n",
              "      <td>-7.403</td>\n",
              "      <td>1</td>\n",
              "      <td>0.3690</td>\n",
              "      <td>0.011800</td>\n",
              "      <td>0.000</td>\n",
              "      <td>0.0883</td>\n",
              "      <td>0.6650</td>\n",
              "      <td>...</td>\n",
              "      <td>spotify:track:1lKQIxQDnLKoFhNWwMFiho</td>\n",
              "      <td>https://api.spotify.com/v1/tracks/1lKQIxQDnLKo...</td>\n",
              "      <td>https://api.spotify.com/v1/audio-analysis/1lKQ...</td>\n",
              "      <td>152398</td>\n",
              "      <td>4</td>\n",
              "      <td>Underground Rap</td>\n",
              "      <td>First Day Out</td>\n",
              "      <td>NaN</td>\n",
              "      <td>NaN</td>\n",
              "      <td>6863</td>\n",
              "    </tr>\n",
              "    <tr>\n",
              "      <th>1</th>\n",
              "      <td>0.432</td>\n",
              "      <td>0.962</td>\n",
              "      <td>2</td>\n",
              "      <td>-5.834</td>\n",
              "      <td>1</td>\n",
              "      <td>0.1300</td>\n",
              "      <td>0.001930</td>\n",
              "      <td>0.162</td>\n",
              "      <td>0.6300</td>\n",
              "      <td>0.1240</td>\n",
              "      <td>...</td>\n",
              "      <td>spotify:track:6xyHjM4VecIRZDUldiiBA5</td>\n",
              "      <td>https://api.spotify.com/v1/tracks/6xyHjM4VecIR...</td>\n",
              "      <td>https://api.spotify.com/v1/audio-analysis/6xyH...</td>\n",
              "      <td>219085</td>\n",
              "      <td>4</td>\n",
              "      <td>trance</td>\n",
              "      <td>NaN</td>\n",
              "      <td>8997.0</td>\n",
              "      <td>Uplifting | Trance</td>\n",
              "      <td>30452</td>\n",
              "    </tr>\n",
              "    <tr>\n",
              "      <th>2</th>\n",
              "      <td>0.686</td>\n",
              "      <td>0.692</td>\n",
              "      <td>0</td>\n",
              "      <td>-5.573</td>\n",
              "      <td>0</td>\n",
              "      <td>0.3230</td>\n",
              "      <td>0.482000</td>\n",
              "      <td>0.000</td>\n",
              "      <td>0.1690</td>\n",
              "      <td>0.6490</td>\n",
              "      <td>...</td>\n",
              "      <td>spotify:track:1rZvU5sb2E8LuJTAqEdAiw</td>\n",
              "      <td>https://api.spotify.com/v1/tracks/1rZvU5sb2E8L...</td>\n",
              "      <td>https://api.spotify.com/v1/audio-analysis/1rZv...</td>\n",
              "      <td>269357</td>\n",
              "      <td>3</td>\n",
              "      <td>Underground Rap</td>\n",
              "      <td>Funky Ho'$</td>\n",
              "      <td>NaN</td>\n",
              "      <td>NaN</td>\n",
              "      <td>8111</td>\n",
              "    </tr>\n",
              "    <tr>\n",
              "      <th>3</th>\n",
              "      <td>0.441</td>\n",
              "      <td>0.891</td>\n",
              "      <td>7</td>\n",
              "      <td>-2.873</td>\n",
              "      <td>0</td>\n",
              "      <td>0.0370</td>\n",
              "      <td>0.017700</td>\n",
              "      <td>0.815</td>\n",
              "      <td>0.1840</td>\n",
              "      <td>0.0353</td>\n",
              "      <td>...</td>\n",
              "      <td>spotify:track:1TDjiNBekgMInzoNZxYi0D</td>\n",
              "      <td>https://api.spotify.com/v1/tracks/1TDjiNBekgMI...</td>\n",
              "      <td>https://api.spotify.com/v1/audio-analysis/1TDj...</td>\n",
              "      <td>319851</td>\n",
              "      <td>4</td>\n",
              "      <td>dnb</td>\n",
              "      <td>NaN</td>\n",
              "      <td>15264.0</td>\n",
              "      <td>Liquid Drum &amp; Bass</td>\n",
              "      <td>36665</td>\n",
              "    </tr>\n",
              "    <tr>\n",
              "      <th>4</th>\n",
              "      <td>0.376</td>\n",
              "      <td>0.876</td>\n",
              "      <td>4</td>\n",
              "      <td>-2.695</td>\n",
              "      <td>0</td>\n",
              "      <td>0.1010</td>\n",
              "      <td>0.034500</td>\n",
              "      <td>0.000</td>\n",
              "      <td>0.1250</td>\n",
              "      <td>0.2500</td>\n",
              "      <td>...</td>\n",
              "      <td>spotify:track:79fspqGOIP7FInu1elXhVX</td>\n",
              "      <td>https://api.spotify.com/v1/tracks/79fspqGOIP7F...</td>\n",
              "      <td>https://api.spotify.com/v1/audio-analysis/79fs...</td>\n",
              "      <td>222442</td>\n",
              "      <td>4</td>\n",
              "      <td>Dark Trap</td>\n",
              "      <td>Miss U</td>\n",
              "      <td>NaN</td>\n",
              "      <td>NaN</td>\n",
              "      <td>4428</td>\n",
              "    </tr>\n",
              "    <tr>\n",
              "      <th>...</th>\n",
              "      <td>...</td>\n",
              "      <td>...</td>\n",
              "      <td>...</td>\n",
              "      <td>...</td>\n",
              "      <td>...</td>\n",
              "      <td>...</td>\n",
              "      <td>...</td>\n",
              "      <td>...</td>\n",
              "      <td>...</td>\n",
              "      <td>...</td>\n",
              "      <td>...</td>\n",
              "      <td>...</td>\n",
              "      <td>...</td>\n",
              "      <td>...</td>\n",
              "      <td>...</td>\n",
              "      <td>...</td>\n",
              "      <td>...</td>\n",
              "      <td>...</td>\n",
              "      <td>...</td>\n",
              "      <td>...</td>\n",
              "      <td>...</td>\n",
              "    </tr>\n",
              "    <tr>\n",
              "      <th>33839</th>\n",
              "      <td>0.855</td>\n",
              "      <td>0.586</td>\n",
              "      <td>6</td>\n",
              "      <td>-7.134</td>\n",
              "      <td>1</td>\n",
              "      <td>0.1670</td>\n",
              "      <td>0.200000</td>\n",
              "      <td>0.000</td>\n",
              "      <td>0.2530</td>\n",
              "      <td>0.7510</td>\n",
              "      <td>...</td>\n",
              "      <td>spotify:track:13sDDPTmAwDvkONEQ8OB3i</td>\n",
              "      <td>https://api.spotify.com/v1/tracks/13sDDPTmAwDv...</td>\n",
              "      <td>https://api.spotify.com/v1/audio-analysis/13sD...</td>\n",
              "      <td>85217</td>\n",
              "      <td>4</td>\n",
              "      <td>Underground Rap</td>\n",
              "      <td>Smithy</td>\n",
              "      <td>NaN</td>\n",
              "      <td>NaN</td>\n",
              "      <td>6265</td>\n",
              "    </tr>\n",
              "    <tr>\n",
              "      <th>33840</th>\n",
              "      <td>0.760</td>\n",
              "      <td>0.726</td>\n",
              "      <td>0</td>\n",
              "      <td>-4.726</td>\n",
              "      <td>1</td>\n",
              "      <td>0.0652</td>\n",
              "      <td>0.057600</td>\n",
              "      <td>0.000</td>\n",
              "      <td>0.0514</td>\n",
              "      <td>0.8860</td>\n",
              "      <td>...</td>\n",
              "      <td>spotify:track:0PCKaqffqRsFYxKy7uTLti</td>\n",
              "      <td>https://api.spotify.com/v1/tracks/0PCKaqffqRsF...</td>\n",
              "      <td>https://api.spotify.com/v1/audio-analysis/0PCK...</td>\n",
              "      <td>120059</td>\n",
              "      <td>4</td>\n",
              "      <td>Trap Metal</td>\n",
              "      <td>Soul Doubt</td>\n",
              "      <td>NaN</td>\n",
              "      <td>NaN</td>\n",
              "      <td>11284</td>\n",
              "    </tr>\n",
              "    <tr>\n",
              "      <th>33841</th>\n",
              "      <td>0.464</td>\n",
              "      <td>0.838</td>\n",
              "      <td>8</td>\n",
              "      <td>-6.762</td>\n",
              "      <td>1</td>\n",
              "      <td>0.0401</td>\n",
              "      <td>0.000151</td>\n",
              "      <td>0.756</td>\n",
              "      <td>0.0671</td>\n",
              "      <td>0.1510</td>\n",
              "      <td>...</td>\n",
              "      <td>spotify:track:5RCkepCUwImdkbZhIUtglm</td>\n",
              "      <td>https://api.spotify.com/v1/tracks/5RCkepCUwImd...</td>\n",
              "      <td>https://api.spotify.com/v1/audio-analysis/5RCk...</td>\n",
              "      <td>350345</td>\n",
              "      <td>4</td>\n",
              "      <td>dnb</td>\n",
              "      <td>NaN</td>\n",
              "      <td>16774.0</td>\n",
              "      <td>Liquid Drum &amp; Bass</td>\n",
              "      <td>38158</td>\n",
              "    </tr>\n",
              "    <tr>\n",
              "      <th>33842</th>\n",
              "      <td>0.683</td>\n",
              "      <td>0.590</td>\n",
              "      <td>0</td>\n",
              "      <td>-4.949</td>\n",
              "      <td>1</td>\n",
              "      <td>0.3590</td>\n",
              "      <td>0.215000</td>\n",
              "      <td>0.000</td>\n",
              "      <td>0.1350</td>\n",
              "      <td>0.0401</td>\n",
              "      <td>...</td>\n",
              "      <td>spotify:track:72x9Lcah4SMfE5TRf7gira</td>\n",
              "      <td>https://api.spotify.com/v1/tracks/72x9Lcah4SMf...</td>\n",
              "      <td>https://api.spotify.com/v1/audio-analysis/72x9...</td>\n",
              "      <td>117923</td>\n",
              "      <td>4</td>\n",
              "      <td>Dark Trap</td>\n",
              "      <td>Seventy Four</td>\n",
              "      <td>NaN</td>\n",
              "      <td>NaN</td>\n",
              "      <td>860</td>\n",
              "    </tr>\n",
              "    <tr>\n",
              "      <th>33843</th>\n",
              "      <td>0.868</td>\n",
              "      <td>0.654</td>\n",
              "      <td>9</td>\n",
              "      <td>-4.832</td>\n",
              "      <td>0</td>\n",
              "      <td>0.0766</td>\n",
              "      <td>0.208000</td>\n",
              "      <td>0.000</td>\n",
              "      <td>0.1870</td>\n",
              "      <td>0.2990</td>\n",
              "      <td>...</td>\n",
              "      <td>spotify:track:5lehoWkVPujeOAwb8BO0uK</td>\n",
              "      <td>https://api.spotify.com/v1/tracks/5lehoWkVPuje...</td>\n",
              "      <td>https://api.spotify.com/v1/audio-analysis/5leh...</td>\n",
              "      <td>225440</td>\n",
              "      <td>4</td>\n",
              "      <td>Rap</td>\n",
              "      <td>Only</td>\n",
              "      <td>NaN</td>\n",
              "      <td>NaN</td>\n",
              "      <td>15795</td>\n",
              "    </tr>\n",
              "  </tbody>\n",
              "</table>\n",
              "<p>33844 rows × 23 columns</p>\n",
              "</div>"
            ],
            "text/plain": [
              "       danceability  energy  key  loudness  mode  speechiness  acousticness  \\\n",
              "0             0.896   0.691    1    -7.403     1       0.3690      0.011800   \n",
              "1             0.432   0.962    2    -5.834     1       0.1300      0.001930   \n",
              "2             0.686   0.692    0    -5.573     0       0.3230      0.482000   \n",
              "3             0.441   0.891    7    -2.873     0       0.0370      0.017700   \n",
              "4             0.376   0.876    4    -2.695     0       0.1010      0.034500   \n",
              "...             ...     ...  ...       ...   ...          ...           ...   \n",
              "33839         0.855   0.586    6    -7.134     1       0.1670      0.200000   \n",
              "33840         0.760   0.726    0    -4.726     1       0.0652      0.057600   \n",
              "33841         0.464   0.838    8    -6.762     1       0.0401      0.000151   \n",
              "33842         0.683   0.590    0    -4.949     1       0.3590      0.215000   \n",
              "33843         0.868   0.654    9    -4.832     0       0.0766      0.208000   \n",
              "\n",
              "       instrumentalness  liveness  valence  ...  \\\n",
              "0                 0.000    0.0883   0.6650  ...   \n",
              "1                 0.162    0.6300   0.1240  ...   \n",
              "2                 0.000    0.1690   0.6490  ...   \n",
              "3                 0.815    0.1840   0.0353  ...   \n",
              "4                 0.000    0.1250   0.2500  ...   \n",
              "...                 ...       ...      ...  ...   \n",
              "33839             0.000    0.2530   0.7510  ...   \n",
              "33840             0.000    0.0514   0.8860  ...   \n",
              "33841             0.756    0.0671   0.1510  ...   \n",
              "33842             0.000    0.1350   0.0401  ...   \n",
              "33843             0.000    0.1870   0.2990  ...   \n",
              "\n",
              "                                        uri  \\\n",
              "0      spotify:track:1lKQIxQDnLKoFhNWwMFiho   \n",
              "1      spotify:track:6xyHjM4VecIRZDUldiiBA5   \n",
              "2      spotify:track:1rZvU5sb2E8LuJTAqEdAiw   \n",
              "3      spotify:track:1TDjiNBekgMInzoNZxYi0D   \n",
              "4      spotify:track:79fspqGOIP7FInu1elXhVX   \n",
              "...                                     ...   \n",
              "33839  spotify:track:13sDDPTmAwDvkONEQ8OB3i   \n",
              "33840  spotify:track:0PCKaqffqRsFYxKy7uTLti   \n",
              "33841  spotify:track:5RCkepCUwImdkbZhIUtglm   \n",
              "33842  spotify:track:72x9Lcah4SMfE5TRf7gira   \n",
              "33843  spotify:track:5lehoWkVPujeOAwb8BO0uK   \n",
              "\n",
              "                                              track_href  \\\n",
              "0      https://api.spotify.com/v1/tracks/1lKQIxQDnLKo...   \n",
              "1      https://api.spotify.com/v1/tracks/6xyHjM4VecIR...   \n",
              "2      https://api.spotify.com/v1/tracks/1rZvU5sb2E8L...   \n",
              "3      https://api.spotify.com/v1/tracks/1TDjiNBekgMI...   \n",
              "4      https://api.spotify.com/v1/tracks/79fspqGOIP7F...   \n",
              "...                                                  ...   \n",
              "33839  https://api.spotify.com/v1/tracks/13sDDPTmAwDv...   \n",
              "33840  https://api.spotify.com/v1/tracks/0PCKaqffqRsF...   \n",
              "33841  https://api.spotify.com/v1/tracks/5RCkepCUwImd...   \n",
              "33842  https://api.spotify.com/v1/tracks/72x9Lcah4SMf...   \n",
              "33843  https://api.spotify.com/v1/tracks/5lehoWkVPuje...   \n",
              "\n",
              "                                            analysis_url duration_ms  \\\n",
              "0      https://api.spotify.com/v1/audio-analysis/1lKQ...      152398   \n",
              "1      https://api.spotify.com/v1/audio-analysis/6xyH...      219085   \n",
              "2      https://api.spotify.com/v1/audio-analysis/1rZv...      269357   \n",
              "3      https://api.spotify.com/v1/audio-analysis/1TDj...      319851   \n",
              "4      https://api.spotify.com/v1/audio-analysis/79fs...      222442   \n",
              "...                                                  ...         ...   \n",
              "33839  https://api.spotify.com/v1/audio-analysis/13sD...       85217   \n",
              "33840  https://api.spotify.com/v1/audio-analysis/0PCK...      120059   \n",
              "33841  https://api.spotify.com/v1/audio-analysis/5RCk...      350345   \n",
              "33842  https://api.spotify.com/v1/audio-analysis/72x9...      117923   \n",
              "33843  https://api.spotify.com/v1/audio-analysis/5leh...      225440   \n",
              "\n",
              "      time_signature            genre      song_name  Unnamed: 0  \\\n",
              "0                  4  Underground Rap  First Day Out         NaN   \n",
              "1                  4           trance            NaN      8997.0   \n",
              "2                  3  Underground Rap     Funky Ho'$         NaN   \n",
              "3                  4              dnb            NaN     15264.0   \n",
              "4                  4        Dark Trap         Miss U         NaN   \n",
              "...              ...              ...            ...         ...   \n",
              "33839              4  Underground Rap         Smithy         NaN   \n",
              "33840              4       Trap Metal     Soul Doubt         NaN   \n",
              "33841              4              dnb            NaN     16774.0   \n",
              "33842              4        Dark Trap   Seventy Four         NaN   \n",
              "33843              4              Rap           Only         NaN   \n",
              "\n",
              "                    title     Id  \n",
              "0                     NaN   6863  \n",
              "1      Uplifting | Trance  30452  \n",
              "2                     NaN   8111  \n",
              "3      Liquid Drum & Bass  36665  \n",
              "4                     NaN   4428  \n",
              "...                   ...    ...  \n",
              "33839                 NaN   6265  \n",
              "33840                 NaN  11284  \n",
              "33841  Liquid Drum & Bass  38158  \n",
              "33842                 NaN    860  \n",
              "33843                 NaN  15795  \n",
              "\n",
              "[33844 rows x 23 columns]"
            ]
          },
          "execution_count": 3,
          "metadata": {},
          "output_type": "execute_result"
        }
      ],
      "source": [
        "import pandas as pd\n",
        "\n",
        "# ruta_csv = \"/train.csv\"\n",
        "\n",
        "df = pd.read_csv('train.csv')\n",
        "\n",
        "df\n"
      ]
    },
    {
      "cell_type": "code",
      "execution_count": null,
      "metadata": {
        "colab": {
          "base_uri": "https://localhost:8080/"
        },
        "id": "gcFAO9lCFiuX",
        "outputId": "3c334895-5951-46c0-de75-ca8e7be97054"
      },
      "outputs": [
        {
          "data": {
            "text/plain": [
              "Index(['danceability', 'energy', 'key', 'loudness', 'mode', 'speechiness',\n",
              "       'acousticness', 'instrumentalness', 'liveness', 'valence', 'tempo',\n",
              "       'type', 'id', 'uri', 'track_href', 'analysis_url', 'duration_ms',\n",
              "       'time_signature', 'genre', 'song_name', 'Unnamed: 0', 'title', 'Id'],\n",
              "      dtype='object')"
            ]
          },
          "execution_count": 2,
          "metadata": {},
          "output_type": "execute_result"
        }
      ],
      "source": [
        "df.columns\n"
      ]
    },
    {
      "cell_type": "code",
      "execution_count": null,
      "metadata": {
        "colab": {
          "base_uri": "https://localhost:8080/"
        },
        "id": "HTyJpkCew8YA",
        "outputId": "c89913ef-04de-4ba6-9b84-32259e93d6ab"
      },
      "outputs": [
        {
          "name": "stdout",
          "output_type": "stream",
          "text": [
            "Columnas numéricas: ['danceability', 'energy', 'key', 'loudness', 'mode', 'speechiness', 'acousticness', 'instrumentalness', 'liveness', 'valence', 'tempo', 'duration_ms', 'time_signature', 'Unnamed: 0', 'Id']\n",
            "Columnas categóricas: ['type', 'id', 'uri', 'track_href', 'analysis_url', 'genre', 'song_name', 'title']\n"
          ]
        }
      ],
      "source": [
        "import pandas as pd\n",
        "\n",
        "# Cargar el dataset\n",
        "# # Reemplaza 'ruta/dataset.csv' con la ruta real de tu archivo\n",
        "# df = pd.read_csv('ruta/dataset.csv')\n",
        "\n",
        "# Separar columnas numéricas y categóricas\n",
        "numerical_features = df.select_dtypes(include=['number']).columns.tolist()\n",
        "categorical_features = df.select_dtypes(exclude=['number']).columns.tolist()\n",
        "\n",
        "print(\"Columnas numéricas:\", numerical_features)\n",
        "print(\"Columnas categóricas:\", categorical_features)"
      ]
    },
    {
      "cell_type": "code",
      "execution_count": null,
      "metadata": {
        "colab": {
          "base_uri": "https://localhost:8080/",
          "height": 805
        },
        "id": "hczJkUaQqXXY",
        "outputId": "5fc06ef9-1e3c-440a-bc27-42b6e18c0983"
      },
      "outputs": [
        {
          "data": {
            "text/html": [
              "<div>\n",
              "<style scoped>\n",
              "    .dataframe tbody tr th:only-of-type {\n",
              "        vertical-align: middle;\n",
              "    }\n",
              "\n",
              "    .dataframe tbody tr th {\n",
              "        vertical-align: top;\n",
              "    }\n",
              "\n",
              "    .dataframe thead th {\n",
              "        text-align: right;\n",
              "    }\n",
              "</style>\n",
              "<table border=\"1\" class=\"dataframe\">\n",
              "  <thead>\n",
              "    <tr style=\"text-align: right;\">\n",
              "      <th></th>\n",
              "      <th>0</th>\n",
              "    </tr>\n",
              "  </thead>\n",
              "  <tbody>\n",
              "    <tr>\n",
              "      <th>danceability</th>\n",
              "      <td>float64</td>\n",
              "    </tr>\n",
              "    <tr>\n",
              "      <th>energy</th>\n",
              "      <td>float64</td>\n",
              "    </tr>\n",
              "    <tr>\n",
              "      <th>key</th>\n",
              "      <td>int64</td>\n",
              "    </tr>\n",
              "    <tr>\n",
              "      <th>loudness</th>\n",
              "      <td>float64</td>\n",
              "    </tr>\n",
              "    <tr>\n",
              "      <th>mode</th>\n",
              "      <td>int64</td>\n",
              "    </tr>\n",
              "    <tr>\n",
              "      <th>speechiness</th>\n",
              "      <td>float64</td>\n",
              "    </tr>\n",
              "    <tr>\n",
              "      <th>acousticness</th>\n",
              "      <td>float64</td>\n",
              "    </tr>\n",
              "    <tr>\n",
              "      <th>instrumentalness</th>\n",
              "      <td>float64</td>\n",
              "    </tr>\n",
              "    <tr>\n",
              "      <th>liveness</th>\n",
              "      <td>float64</td>\n",
              "    </tr>\n",
              "    <tr>\n",
              "      <th>valence</th>\n",
              "      <td>float64</td>\n",
              "    </tr>\n",
              "    <tr>\n",
              "      <th>tempo</th>\n",
              "      <td>float64</td>\n",
              "    </tr>\n",
              "    <tr>\n",
              "      <th>type</th>\n",
              "      <td>object</td>\n",
              "    </tr>\n",
              "    <tr>\n",
              "      <th>id</th>\n",
              "      <td>object</td>\n",
              "    </tr>\n",
              "    <tr>\n",
              "      <th>uri</th>\n",
              "      <td>object</td>\n",
              "    </tr>\n",
              "    <tr>\n",
              "      <th>track_href</th>\n",
              "      <td>object</td>\n",
              "    </tr>\n",
              "    <tr>\n",
              "      <th>analysis_url</th>\n",
              "      <td>object</td>\n",
              "    </tr>\n",
              "    <tr>\n",
              "      <th>duration_ms</th>\n",
              "      <td>int64</td>\n",
              "    </tr>\n",
              "    <tr>\n",
              "      <th>time_signature</th>\n",
              "      <td>int64</td>\n",
              "    </tr>\n",
              "    <tr>\n",
              "      <th>genre</th>\n",
              "      <td>object</td>\n",
              "    </tr>\n",
              "    <tr>\n",
              "      <th>song_name</th>\n",
              "      <td>object</td>\n",
              "    </tr>\n",
              "    <tr>\n",
              "      <th>Unnamed: 0</th>\n",
              "      <td>float64</td>\n",
              "    </tr>\n",
              "    <tr>\n",
              "      <th>title</th>\n",
              "      <td>object</td>\n",
              "    </tr>\n",
              "    <tr>\n",
              "      <th>Id</th>\n",
              "      <td>int64</td>\n",
              "    </tr>\n",
              "  </tbody>\n",
              "</table>\n",
              "</div><br><label><b>dtype:</b> object</label>"
            ],
            "text/plain": [
              "danceability        float64\n",
              "energy              float64\n",
              "key                   int64\n",
              "loudness            float64\n",
              "mode                  int64\n",
              "speechiness         float64\n",
              "acousticness        float64\n",
              "instrumentalness    float64\n",
              "liveness            float64\n",
              "valence             float64\n",
              "tempo               float64\n",
              "type                 object\n",
              "id                   object\n",
              "uri                  object\n",
              "track_href           object\n",
              "analysis_url         object\n",
              "duration_ms           int64\n",
              "time_signature        int64\n",
              "genre                object\n",
              "song_name            object\n",
              "Unnamed: 0          float64\n",
              "title                object\n",
              "Id                    int64\n",
              "dtype: object"
            ]
          },
          "execution_count": 4,
          "metadata": {},
          "output_type": "execute_result"
        }
      ],
      "source": [
        "df.dtypes"
      ]
    },
    {
      "cell_type": "markdown",
      "metadata": {
        "id": "SCKV8LFo92fG"
      },
      "source": [
        "DIMENSIONALIDAD\n",
        "\n",
        "Técnica de aprendizaje automático NO supervisado, que consiste en reducir el tamaño de los datos manteniendo la máxima información posible ( para que el modelo sea más óptimo)."
      ]
    },
    {
      "cell_type": "markdown",
      "metadata": {
        "id": "Drps4_xv-D7t"
      },
      "source": [
        "Técnicas\n",
        "\n",
        ". Feature Selection: consiste en quedarnos con las variables más relevantes para el modelo\n",
        "\n",
        "- Wrapping methods ( fuerza bruta) : Backward, forward, bidirectional selection\n",
        "- Embedded methods : combinan filtrado + wrapping\n",
        "- Filtered methods : chi cuadrado, varianza, correlación\n",
        "\n",
        "\n"
      ]
    },
    {
      "cell_type": "markdown",
      "metadata": {
        "id": "svxHUyIC-OW1"
      },
      "source": [
        ". Feature extraction : consiste en crear nuevas variables que sean más óptimas para el modelo ( reduciendo así la dimensionalidad)\n",
        "\n",
        "- PCA : reducir el n_variables manteniendo la máxima información\n",
        "- t-SNE :  muestra la similitud de las variables ( te acerca a quien te pareces)\n",
        "- UMAP : como el t-SNE para grandes dimensiones, te acerca al que te pareces y te aleja del que no te pareces ( su visualización favorece el clustering)\n",
        "\n"
      ]
    },
    {
      "cell_type": "markdown",
      "metadata": {
        "id": "hSIPLplc1Psi"
      },
      "source": []
    },
    {
      "cell_type": "code",
      "execution_count": null,
      "metadata": {
        "colab": {
          "base_uri": "https://localhost:8080/"
        },
        "id": "qQP4KoFW5qgg",
        "outputId": "9d889da2-b560-4b19-bb7a-fc5c7570301f"
      },
      "outputs": [
        {
          "name": "stdout",
          "output_type": "stream",
          "text": [
            "Requirement already satisfied: umap in /usr/local/lib/python3.11/dist-packages (0.1.1)\n"
          ]
        }
      ],
      "source": [
        "pip install umap"
      ]
    },
    {
      "cell_type": "code",
      "execution_count": null,
      "metadata": {
        "id": "wKhw30Ow1Wn6"
      },
      "outputs": [],
      "source": [
        "import numpy as np\n",
        "import pandas as pd\n",
        "from sklearn.preprocessing import MinMaxScaler\n",
        "from sklearn.feature_selection import VarianceThreshold, SelectKBest, chi2\n",
        "from sklearn.feature_selection import RFE\n",
        "from sklearn.decomposition import PCA\n",
        "from sklearn.manifold import TSNE\n",
        "import umap\n",
        "import matplotlib.pyplot as plt\n",
        "from sklearn.impute import SimpleImputer\n"
      ]
    },
    {
      "cell_type": "code",
      "execution_count": null,
      "metadata": {
        "id": "JH5Jm4kCAct9"
      },
      "outputs": [],
      "source": [
        "# Eliminamos columnas no numéricas para el análisis de dimensionalidad\n",
        "X = df.select_dtypes(include=[np.number])  # Solo características numéricas\n",
        "\n",
        "# 1. Imputación de valores NaN\n",
        "imputer = SimpleImputer(strategy='mean')  # Reemplaza NaN con la media de la columna\n",
        "X_imputed = imputer.fit_transform(X)  # Imputamos los datos\n",
        "\n",
        "# Normalización con MinMaxScaler\n",
        "scaler = MinMaxScaler()\n",
        "X_scaled = scaler.fit_transform(X_imputed)"
      ]
    },
    {
      "cell_type": "markdown",
      "metadata": {
        "id": "Xkuf2-ng6qIB"
      },
      "source": [
        "Feature selection :  VARIANZA"
      ]
    },
    {
      "cell_type": "code",
      "execution_count": null,
      "metadata": {
        "colab": {
          "base_uri": "https://localhost:8080/"
        },
        "id": "Bgg4Y5Sd91c7",
        "outputId": "00033bb3-0024-42ea-b721-2c4019347fec"
      },
      "outputs": [
        {
          "name": "stdout",
          "output_type": "stream",
          "text": [
            "Características eliminadas por varianza (baja varianza): Index(['loudness', 'time_signature'], dtype='object')\n",
            "Características mantenidas por varianza: Index(['danceability', 'energy', 'key', 'mode', 'speechiness', 'acousticness',\n",
            "       'instrumentalness', 'liveness', 'valence', 'tempo', 'duration_ms',\n",
            "       'Unnamed: 0', 'Id'],\n",
            "      dtype='object')\n"
          ]
        }
      ],
      "source": [
        "# Feature Selection :  VARIANZA\n",
        "\n",
        "# 1. Feature Selection: Varianza\n",
        "# Usamos VarianceThreshold para eliminar características con baja varianza\n",
        "selector_var = VarianceThreshold(threshold=0.01)  # Umbral de varianza\n",
        "X_var = selector_var.fit_transform(X_scaled)\n",
        "\n",
        "# Identificar características eliminadas y mantenidas\n",
        "features_var = X.columns\n",
        "removed_var = features_var[~selector_var.get_support()]  # Características eliminadas\n",
        "kept_var = features_var[selector_var.get_support()]  # Características mantenidas\n",
        "\n",
        "print(f\"Características eliminadas por varianza (baja varianza): {removed_var}\")\n",
        "print(f\"Características mantenidas por varianza: {kept_var}\")\n",
        "\n",
        "\n"
      ]
    },
    {
      "cell_type": "markdown",
      "metadata": {
        "id": "HRFgJg0ZAsn2"
      },
      "source": [
        "Eliminamos algunas variables como 'loudness' o 'time_signature' debido a su baja varianza ( no superan el threshold=0.01).  Las variables con baja varianza no nos són útiles para el modelo, ya que la información que proporcionan es muy limitada ( no es variada)."
      ]
    },
    {
      "cell_type": "markdown",
      "metadata": {
        "id": "CzC8SyMw67eD"
      },
      "source": [
        "Feature selection : CORRELACIÓN"
      ]
    },
    {
      "cell_type": "code",
      "execution_count": null,
      "metadata": {
        "colab": {
          "base_uri": "https://localhost:8080/"
        },
        "id": "sQgMz8tD6-OX",
        "outputId": "ec55ae6f-427d-4fcc-a46c-4e4afb8a39ee"
      },
      "outputs": [
        {
          "name": "stdout",
          "output_type": "stream",
          "text": [
            "Características eliminadas por correlación (> 0.6): [11]\n",
            "Características mantenidas por correlación: Index(['danceability', 'energy', 'key', 'loudness', 'mode', 'speechiness',\n",
            "       'acousticness', 'instrumentalness', 'liveness', 'valence', 'tempo',\n",
            "       'duration_ms', 'time_signature', 'Unnamed: 0', 'Id'],\n",
            "      dtype='object')\n"
          ]
        }
      ],
      "source": [
        "# 3. Feature Selection: Correlación\n",
        "# Eliminamos las características que están altamente correlacionadas (p.ej., > 0.9)\n",
        "correlation_matrix = pd.DataFrame(X_scaled).corr()\n",
        "upper_triangle = correlation_matrix.where(np.triu(np.ones(correlation_matrix.shape), k=1).astype(bool))\n",
        "to_drop = [column for column in upper_triangle.columns if any(upper_triangle[column] > 0.6)]  # Umbral 0.9\n",
        "\n",
        "# Identificar características eliminadas por correlación\n",
        "removed_corr = to_drop\n",
        "kept_corr = X.columns[~X.columns.isin(removed_corr)]  # Características mantenidas\n",
        "\n",
        "print(f\"Características eliminadas por correlación (> 0.6): {removed_corr}\")\n",
        "print(f\"Características mantenidas por correlación: {kept_corr}\")"
      ]
    },
    {
      "cell_type": "markdown",
      "metadata": {
        "id": "dAGzs5vTCir1"
      },
      "source": [
        "Viendo la correlación entre las variables, eliminamos la [11] debido a que está altamente correlacionada con otra ( por tanto no nos aporta gran información)."
      ]
    },
    {
      "cell_type": "markdown",
      "metadata": {
        "id": "oLtkXi5M7WN1"
      },
      "source": [
        "Feature extraction : PCA\n",
        "\n",
        "\n"
      ]
    },
    {
      "cell_type": "code",
      "execution_count": null,
      "metadata": {
        "colab": {
          "base_uri": "https://localhost:8080/",
          "height": 583
        },
        "id": "s8ccTWNUC3Gh",
        "outputId": "df0d938c-7e3e-4d66-8fe6-4f9a1dcfdfa1"
      },
      "outputs": [
        {
          "data": {
            "image/png": "[encoded data removed]",
            "text/plain": [
              "<Figure size 800x600 with 1 Axes>"
            ]
          },
          "metadata": {},
          "output_type": "display_data"
        },
        {
          "name": "stdout",
          "output_type": "stream",
          "text": [
            "Se necesitan 10 componentes principales para explicar el 95.0% de la varianza.\n"
          ]
        }
      ],
      "source": [
        "# Aplicamos PCA\n",
        "pca = PCA()\n",
        "pca.fit(X_scaled)\n",
        "\n",
        "# Variancia explicada acumulada\n",
        "explained_variance = pca.explained_variance_ratio_\n",
        "\n",
        "# Graficamos la varianza acumulada\n",
        "plt.figure(figsize=(8,6))\n",
        "plt.plot(np.cumsum(explained_variance), marker='o', linestyle='--')\n",
        "plt.title('Varianza explicada acumulada en PCA')\n",
        "plt.xlabel('Número de componentes principales')\n",
        "plt.ylabel('Varianza acumulada explicada')\n",
        "plt.grid(True)\n",
        "plt.show()\n",
        "\n",
        "# Imprimir cuántos componentes principales necesitamos para alcanzar un umbral de varianza\n",
        "threshold = 0.95  # Por ejemplo, queremos que el 95% de la varianza sea explicada\n",
        "n_components = np.argmax(np.cumsum(explained_variance) >= threshold) + 1\n",
        "print(f\"Se necesitan {n_components} componentes principales para explicar el {threshold*100}% de la varianza.\")"
      ]
    },
    {
      "cell_type": "markdown",
      "metadata": {
        "id": "2HX5SUeADXIN"
      },
      "source": [
        "Como podemos observar en el gráfico, hay diferentes relaciones entre el número de componentes y la varianza.... creo que con 10 componentes es la mejor opción para aplicar PCA, ya que mantenemos el 95% de la varianza ( que es prácticamente toda la información)."
      ]
    },
    {
      "cell_type": "code",
      "execution_count": null,
      "metadata": {
        "colab": {
          "base_uri": "https://localhost:8080/",
          "height": 601
        },
        "id": "nvZUVuiW7lHr",
        "outputId": "2499ad6e-a621-4d08-ce8c-c9b229c9003f"
      },
      "outputs": [
        {
          "data": {
            "image/png": "[encoded data removed]",
            "text/plain": [
              "<Figure size 800x600 with 1 Axes>"
            ]
          },
          "metadata": {},
          "output_type": "display_data"
        },
        {
          "name": "stdout",
          "output_type": "stream",
          "text": [
            "Varianza explicada por las 10 primeras componentes: [0.30110619 0.51735208 0.63745308 0.7478429  0.81511663 0.85394414\n",
            " 0.88746611 0.91617169 0.93890424 0.95612214]\n"
          ]
        }
      ],
      "source": [
        "# Aplicamos PCA con 10 componentes\n",
        "pca = PCA(n_components=10)\n",
        "X_pca = pca.fit_transform(X_scaled)\n",
        "\n",
        "# Visualizamos las dos primeras componentes principales\n",
        "plt.figure(figsize=(8,6))\n",
        "plt.scatter(X_pca[:, 0], X_pca[:, 1], alpha=0.5)\n",
        "plt.title('PCA: Visualización de las dos primeras componentes principales')\n",
        "plt.xlabel('Componente Principal 1')\n",
        "plt.ylabel('Componente Principal 2')\n",
        "plt.grid(True)\n",
        "plt.show()\n",
        "\n",
        "# Si quieres ver la varianza explicada por las 10 primeras componentes\n",
        "print(f\"Varianza explicada por las 10 primeras componentes: {np.cumsum(pca.explained_variance_ratio_)}\")"
      ]
    },
    {
      "cell_type": "markdown",
      "metadata": {
        "id": "kHbnW3x06ekv"
      },
      "source": [
        "CLUSTERING : tipo de aprendizaje NO supervisado ( sin etiquetas, solo características) que hace grupos de las muestras con características/patrones similares."
      ]
    },
    {
      "cell_type": "markdown",
      "metadata": {
        "id": "6VcxwRj06g_z"
      },
      "source": [
        "Vamos a aplicar algunas técnicas de clustering, es decir, intentar agrupar las canciones en clusters/grupos con características/patrones similares.\n"
      ]
    },
    {
      "cell_type": "code",
      "execution_count": null,
      "metadata": {
        "id": "wYbWfnWOzbN6"
      },
      "outputs": [],
      "source": [
        "pip install hdbscan\n"
      ]
    },
    {
      "cell_type": "code",
      "execution_count": null,
      "metadata": {
        "id": "hPwUCSGPFl3l"
      },
      "outputs": [],
      "source": [
        "pip install kmodes"
      ]
    },
    {
      "cell_type": "code",
      "execution_count": null,
      "metadata": {
        "id": "5auI8NFux_lP"
      },
      "outputs": [],
      "source": [
        "import numpy as np\n",
        "import pandas as pd\n",
        "import matplotlib.pyplot as plt\n",
        "from sklearn.preprocessing import StandardScaler\n",
        "from sklearn.impute import SimpleImputer\n",
        "from sklearn.cluster import AgglomerativeClustering, Birch\n",
        "from sklearn.metrics import silhouette_score\n",
        "from sklearn.decomposition import PCA\n",
        "from sklearn.neighbors import NearestNeighbors\n",
        "from sklearn.cluster import DBSCAN\n",
        "from kmodes.kprototypes import KPrototypes"
      ]
    },
    {
      "cell_type": "code",
      "execution_count": null,
      "metadata": {
        "id": "T2Gzn1GayEUZ"
      },
      "outputs": [],
      "source": [
        "# Supongamos que tienes un dataset cargado en un DataFrame llamado df\n",
        "X = df.select_dtypes(include=[np.number])  # Solo características numéricas\n",
        "\n",
        "# Imputación de NaN (si es necesario)\n",
        "imputer = SimpleImputer(strategy='mean')  # Reemplaza NaN con la media de la columna\n",
        "X_imputed = imputer.fit_transform(X)  # Imputamos los datos\n",
        "\n",
        "# Normalización con StandardScaler\n",
        "scaler = MinMaxScaler()\n",
        "X_scaled = scaler.fit_transform(X_imputed)"
      ]
    },
    {
      "cell_type": "markdown",
      "metadata": {
        "id": "hRSDvgOR7Y_T"
      },
      "source": [
        "- Clustering de conectividad\n",
        "\n",
        "Consiste en ir agrupando las muestras por cercanía, y ir haciendo grupos más grandes."
      ]
    },
    {
      "cell_type": "code",
      "execution_count": null,
      "metadata": {
        "id": "kd60fmbb6LnD"
      },
      "outputs": [],
      "source": [
        "# 1. **Agglomerative Clustering (Clustering por conectividad)**\n",
        "agg_clustering = AgglomerativeClustering(n_clusters=4)\n",
        "agg_labels = agg_clustering.fit_predict(X_scaled)\n",
        "\n",
        "# Silhouette Score para Agglomerative Clustering\n",
        "silhouette_agg = silhouette_score(X_scaled, agg_labels)\n",
        "print(f\"Silhouette Score para Agglomerative Clustering: {silhouette_agg}\")"
      ]
    },
    {
      "cell_type": "markdown",
      "metadata": {
        "id": "v1PM3WFM7d9x"
      },
      "source": [
        "- Clustering de densidad\n",
        "\n",
        "Cuanto más cerca estás de un punto, más probable de formar un cluster con él.\n",
        "\n",
        "No le dices el n_clusters, sino el n_mínimo de puntos y la distancia máxima para formar un clúster."
      ]
    },
    {
      "cell_type": "code",
      "execution_count": null,
      "metadata": {
        "id": "Q3e4eCnbRQjP"
      },
      "outputs": [],
      "source": [
        "from sklearn.cluster import DBSCAN\n",
        "from sklearn.metrics import silhouette_score\n",
        "\n",
        "# 2. DBSCAN (Clustering por densidad)\n",
        "dbscan = DBSCAN(eps=3.0, min_samples=10)\n",
        "dbscan_labels = dbscan.fit_predict(X_scaled)\n",
        "\n",
        "# Ver cuántos puntos han sido etiquetados como ruido (-1)\n",
        "n_noise_points = list(dbscan_labels).count(-1)\n",
        "print(f\"Número de puntos de ruido (outliers): {n_noise_points}\")\n",
        "\n",
        "# Si no hay ruido o hay suficientes puntos de cluster, calculamos el Silhouette Score\n",
        "if n_noise_points < len(X_scaled):  # Hay al menos un punto que no es ruido\n",
        "    silhouette_dbscan = silhouette_score(X_scaled[dbscan_labels != -1], dbscan_labels[dbscan_labels != -1])\n",
        "    print(f\"Silhouette Score para DBSCAN: {silhouette_dbscan}\")\n",
        "else:\n",
        "    print(\"No se encontraron clusters (todos los puntos son ruido). Intenta ajustar los parámetros de DBSCAN.\")\n"
      ]
    },
    {
      "cell_type": "code",
      "execution_count": null,
      "metadata": {
        "id": "cAPJYo6M5vwe"
      },
      "outputs": [],
      "source": [
        "# 2. **DBSCAN (Clustering por densidad)**\n",
        "dbscan = DBSCAN(eps=0.5, min_samples=10)\n",
        "dbscan_labels = dbscan.fit_predict(X_scaled)\n",
        "\n",
        "# Silhouette Score para DBSCAN\n",
        "# DBSCAN puede asignar el valor -1 para puntos ruidosos, por lo que no se incluye en el cálculo\n",
        "silhouette_dbscan = silhouette_score(X_scaled[dbscan_labels != -1], dbscan_labels[dbscan_labels != -1])\n",
        "print(f\"Silhouette Score para DBSCAN: {silhouette_dbscan}\")"
      ]
    },
    {
      "cell_type": "markdown",
      "metadata": {
        "id": "CV3DMHLxP_5c"
      },
      "source": [
        "El clustering por densidad ( DBScan) nos ofrece un buen resultado de silhouette ( o.81) , eso indica que los puntos están bien agrupados en cada cluster ."
      ]
    },
    {
      "cell_type": "code",
      "execution_count": null,
      "metadata": {
        "id": "SQQ4898cP_WA"
      },
      "outputs": [],
      "source": [
        "# Etiquetas de cluster generadas por DBSCAN\n",
        "dbscan_labels = dbscan.labels_\n",
        "\n",
        "# Colores para los clusters (excluyendo el ruido)\n",
        "unique_labels = set(dbscan_labels)\n",
        "colors = [plt.cm.Spectral(each) for each in np.linspace(0, 1, len(unique_labels))]\n",
        "\n",
        "# Visualización\n",
        "plt.figure(figsize=(10, 8))\n",
        "\n",
        "for k, col in zip(unique_labels, colors):\n",
        "    # Puntos de ruido\n",
        "    if k == -1:\n",
        "        col = [0, 0, 0, 1]  # El ruido será representado en negro\n",
        "    class_member_mask = (dbscan_labels == k)\n",
        "    xy = X_pca[class_member_mask]\n",
        "    plt.plot(xy[:, 0], xy[:, 1], 'o', markerfacecolor=col, markeredgewidth=0, markersize=6)\n",
        "\n",
        "# Título y etiquetas\n",
        "plt.title(f\"Clustering con DBSCAN\\nNúmero de clusters encontrados: {len(unique_labels) - (1 if -1 in unique_labels else 0)}\", fontsize=16)\n",
        "plt.xlabel(\"Componente 1\")\n",
        "plt.ylabel(\"Componente 2\")\n",
        "plt.show()"
      ]
    },
    {
      "cell_type": "markdown",
      "metadata": {
        "id": "VE8z0rJp7hHo"
      },
      "source": [
        "- Clustering de Centroide\n",
        "\n",
        "Le dices el n_clusters que quieres, y se va ajustando en base al centroide."
      ]
    },
    {
      "cell_type": "code",
      "execution_count": null,
      "metadata": {
        "id": "7TapPALlJasU"
      },
      "outputs": [],
      "source": [
        "# 5. **Método del Codo (Elbow Method) para KMeans**\n",
        "from sklearn.cluster import KMeans\n",
        "\n",
        "# Calculamos la suma de distancias cuadradas (inercia) para diferentes números de clusters\n",
        "inertia = []\n",
        "for k in range(1, 11):\n",
        "    kmeans = KMeans(n_clusters=k, random_state=42)\n",
        "    kmeans.fit(X_scaled)\n",
        "    inertia.append(kmeans.inertia_)\n",
        "\n",
        "# Gráfico del Método del Codo\n",
        "plt.figure(figsize=(8,6))\n",
        "plt.plot(range(1, 11), inertia, marker='o', linestyle='--')\n",
        "plt.title('Método del Codo para KMeans')\n",
        "plt.xlabel('Número de clusters')\n",
        "plt.ylabel('Inercia')\n",
        "plt.grid(True)\n",
        "plt.show()"
      ]
    },
    {
      "cell_type": "code",
      "execution_count": null,
      "metadata": {
        "id": "VsPct6Cp7mv6"
      },
      "outputs": [],
      "source": [
        "from sklearn.cluster import AgglomerativeClustering, Birch, KMeans\n",
        "# 3. **KMeans (Clustering con KMeans)**\n",
        "kmeans = KMeans(n_clusters=4, random_state=42)\n",
        "kmeans_labels = kmeans.fit_predict(X_scaled)\n",
        "\n",
        "# Silhouette Score para KMeans\n",
        "silhouette_kmeans = silhouette_score(X_scaled, kmeans_labels)\n",
        "print(f\"Silhouette Score para KMeans: {silhouette_kmeans}\")"
      ]
    },
    {
      "cell_type": "markdown",
      "metadata": {
        "id": "yKuFSdSnPhYC"
      },
      "source": [
        "Vemos que el clustering por centroide con Kmeans no nos ofrece unos buenos resultados de silhouette, por tanto no vamos a utilizar este tipo de clustering."
      ]
    },
    {
      "cell_type": "markdown",
      "metadata": {
        "id": "sG1W7OQQ7nUN"
      },
      "source": [
        "- Clustering de distribución\n",
        "\n",
        "Te dice el % de probabilidad que tiene un punto de pertenecer a un cluster o a otro.  \n",
        "\n",
        "Le dices el n_clusters"
      ]
    },
    {
      "cell_type": "markdown",
      "metadata": {
        "id": "dnHwjGx57ryK"
      },
      "source": [
        "- Clustering Modelo ( mix de todos)\n"
      ]
    },
    {
      "cell_type": "markdown",
      "metadata": {
        "id": "I-cRDtskAQB1"
      },
      "source": [
        "- BIRCH ( clustering para grandes dimensiones) : consiste en un clustering de subgrupos, es decir, no agrupa por muestras, sino por conjunto de muestras.\n",
        "\n",
        "Es como el umap de la dimensionalidad."
      ]
    },
    {
      "cell_type": "code",
      "execution_count": null,
      "metadata": {
        "id": "H6lGJBSlAiyn"
      },
      "outputs": [],
      "source": [
        "# 4. **Birch Clustering**\n",
        "birch = Birch(n_clusters=3)\n",
        "birch_labels = birch.fit_predict(X_scaled)\n",
        "\n",
        "# Silhouette Score para Birch\n",
        "silhouette_birch = silhouette_score(X_scaled, birch_labels)\n",
        "print(f\"Silhouette Score para Birch: {silhouette_birch}\")"
      ]
    },
    {
      "cell_type": "code",
      "execution_count": null,
      "metadata": {
        "id": "m9Sem6qSGKjC"
      },
      "outputs": [],
      "source": [
        "# Visualización de los resultados de Silhouette para cada uno\n",
        "plot_silhouette(X_scaled, agg_labels, \"Agglomerative Clustering\")\n",
        "plot_silhouette(X_scaled, dbscan_labels, \"DBSCAN\")\n",
        "plot_silhouette(X_scaled, kmeans_labels, \"KMeans\")\n",
        "plot_silhouette(X_scaled, birch_labels, \"Birch\")"
      ]
    },
    {
      "cell_type": "code",
      "execution_count": null,
      "metadata": {
        "id": "8MKg7ZYFGXCy"
      },
      "outputs": [],
      "source": []
    },
    {
      "cell_type": "code",
      "execution_count": null,
      "metadata": {
        "id": "S_vmVQTSGXaM"
      },
      "outputs": [],
      "source": [
        "# 6. **Gráficos de Silhouette**\n",
        "from sklearn.metrics import silhouette_score, silhouette_samples\n",
        "# Para cada uno de los clustering anteriores\n",
        "def plot_silhouette(X_scaled, labels, title):\n",
        "    silhouette_avg = silhouette_score(X_scaled, labels)\n",
        "    plt.figure(figsize=(8,6))\n",
        "    plt.title(f\"Silhouette Plot para {title} (Score: {silhouette_avg:.2f})\")\n",
        "\n",
        "    # Calcular el Silhouette Score\n",
        "    sample_silhouette_values = silhouette_samples(X_scaled, labels)\n",
        "\n",
        "    y_lower = 10\n",
        "    for i in range(np.unique(labels).shape[0]):\n",
        "        ith_cluster_silhouette_values = sample_silhouette_values[labels == i]\n",
        "        ith_cluster_silhouette_values.sort()\n",
        "\n",
        "        size_cluster_i = ith_cluster_silhouette_values.shape[0]\n",
        "        y_upper = y_lower + size_cluster_i\n",
        "        color = plt.cm.Spectral(float(i) / np.unique(labels).shape[0])\n",
        "        plt.fill_betweenx(np.arange(y_lower, y_upper), 0, ith_cluster_silhouette_values)\n",
        "\n",
        "        y_lower = y_upper + 10  # Espaciado entre los clusters\n",
        "\n",
        "    plt.axvline(x=silhouette_avg, color=\"red\", linestyle=\"--\")\n",
        "    plt.yticks([])  # No necesitamos etiquetas en el eje y\n",
        "    plt.xlabel(\"Valor de Silhouette\")\n",
        "    plt.ylabel(\"Clúster\")\n",
        "    plt.show()\n",
        "\n",
        "# Visualización de los resultados de Silhouette para cada uno\n",
        "plot_silhouette(X_scaled, agg_labels, \"Agglomerative Clustering\")\n",
        "plot_silhouette(X_scaled, dbscan_labels, \"DBSCAN\")\n",
        "plot_silhouette(X_scaled, birch_labels, \"Birch\")\n",
        "\n"
      ]
    },
    {
      "cell_type": "markdown",
      "metadata": {
        "id": "OtA6efGLKKWW"
      },
      "source": [
        "# Silhouette Score: Un valor cercano a +1 indica que los clusters están bien separados y definidos."
      ]
    },
    {
      "cell_type": "markdown",
      "metadata": {
        "id": "b4Mm9gEnOgBG"
      },
      "source": [
        "+1: Indica que los puntos están bien agrupados, es decir, un cluster muy claro y definido.\n",
        "0: Indica que los puntos están muy cerca de la frontera de dos clusters y, por tanto, no se puede decir que pertenezcan claramente a uno u otro.\n",
        "-1: Indica que los puntos están mal asignados, es decir, que están más cerca de un cluster distinto al que fueron asignados."
      ]
    },
    {
      "cell_type": "code",
      "execution_count": null,
      "metadata": {
        "id": "M9TPlersKLxP"
      },
      "outputs": [],
      "source": []
    }
  ],
  "metadata": {
    "colab": {
      "provenance": []
    },
    "kernelspec": {
      "display_name": "Python 3",
      "name": "python3"
    },
    "language_info": {
      "codemirror_mode": {
        "name": "ipython",
        "version": 3
      },
      "file_extension": ".py",
      "mimetype": "text/x-python",
      "name": "python",
      "nbconvert_exporter": "python",
      "pygments_lexer": "ipython3",
      "version": "3.12.7"
    }
  },
  "nbformat": 4,
  "nbformat_minor": 0
}
